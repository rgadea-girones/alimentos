{
 "cells": [
  {
   "cell_type": "markdown",
   "metadata": {},
   "source": [
    "# Simple AUTOENCODER for PETALO\n",
    "\n",
    "Esta red la vamos a utilizar para obtener el radio "
   ]
  },
  {
   "cell_type": "code",
   "execution_count": 1,
   "metadata": {},
   "outputs": [
    {
     "name": "stdout",
     "output_type": "stream",
     "text": [
      "['', '/home/rgadea3/anaconda3/envs/tensorflow/lib/python36.zip', '/home/rgadea3/anaconda3/envs/tensorflow/lib/python3.6', '/home/rgadea3/anaconda3/envs/tensorflow/lib/python3.6/lib-dynload', '/home/rgadea3/anaconda3/envs/tensorflow/lib/python3.6/site-packages', '/home/rgadea3/anaconda3/envs/tensorflow/lib/python3.6/site-packages/IPython/extensions', '/home/rgadea3/.ipython']\n"
     ]
    },
    {
     "name": "stderr",
     "output_type": "stream",
     "text": [
      "Using TensorFlow backend.\n"
     ]
    }
   ],
   "source": [
    "import numpy as np\n",
    "#np.random.seed(1337)  # for reproducibility\n",
    "from time import time\n",
    "from datetime import datetime\n",
    "from sklearn import preprocessing\n",
    "import sys\n",
    "print(sys.path)\n",
    "sys.path.append(\"/home/rgadea/lmfit-py/\")\n",
    "import seaborn as sns\n",
    "from keras.datasets import mnist\n",
    "from keras.models import Model, Sequential\n",
    "from keras.layers import Input, Dense, Dropout, Activation, Flatten\n",
    "from keras.layers import Conv2D, MaxPooling2D,BatchNormalization\n",
    "from keras.callbacks import TensorBoard, EarlyStopping, ModelCheckpoint\n",
    "from keras.utils import np_utils\n",
    "from keras import regularizers\n",
    "from math import floor\n",
    "from lmfit.models import  GaussianModel\n",
    "import matplotlib.pyplot as plt"
   ]
  },
  {
   "cell_type": "markdown",
   "metadata": {},
   "source": [
    "## Vamos introducir los datos de petalo preprocesados en matlab\n"
   ]
  },
  {
   "cell_type": "code",
   "execution_count": 2,
   "metadata": {},
   "outputs": [
    {
     "name": "stdout",
     "output_type": "stream",
     "text": [
      "(50000, 3517)\n"
     ]
    }
   ],
   "source": [
    "import scipy.io as sio\n",
    "import hdf5storage\n",
    "datos_matlab = hdf5storage.loadmat('../datos_junio_2019/conjunto_entrenamiento_junio_2019_pitch7mm_rad165mm_29_total_compton.mat')\n",
    "conjunto_datos= datos_matlab.get('photodefbox2_todo')\n",
    "print(conjunto_datos.shape)"
   ]
  },
  {
   "cell_type": "code",
   "execution_count": 3,
   "metadata": {},
   "outputs": [
    {
     "name": "stdout",
     "output_type": "stream",
     "text": [
      "50000\n",
      "conjunto_datos shape: (50000, 3517)\n"
     ]
    }
   ],
   "source": [
    "L1A=5;\n",
    "# hay tres L1 con 576 sensores (36*16)\n",
    "L1B=1;\n",
    "# hay dos L1 con 640 sensores (40*16)\n",
    "img_rows=20\n",
    "img_colsA=30\n",
    "img_colsB=25\n",
    "img_cols=30\n",
    "input_output_dim_A=img_rows*img_colsA\n",
    "input_output_dim_B=img_rows*img_colsB\n",
    "ideaA=np.zeros((L1A,input_output_dim_A))\n",
    "ideaB=np.zeros((L1B,input_output_dim_B)) \n",
    "numero_muestras=conjunto_datos.shape[0]\n",
    "print(numero_muestras)\n",
    "print('conjunto_datos shape:', conjunto_datos.shape)\n",
    "\n",
    "\n"
   ]
  },
  {
   "cell_type": "markdown",
   "metadata": {},
   "source": [
    "## Network parameters:"
   ]
  },
  {
   "cell_type": "code",
   "execution_count": 4,
   "metadata": {},
   "outputs": [],
   "source": [
    "use_regularizer = True\n",
    "my_regularizer = None\n",
    "my_epochs = 50\n",
    "hidden_size=1200\n",
    "features_path = 'simple_autoe_features.pickle'\n",
    "labels_path = 'simple_autoe_labels.pickle'\n",
    "\n",
    "if use_regularizer:\n",
    "    # add a sparsity constraint on the encoded representations\n",
    "    # note use of 10e-5 leads to blurred results\n",
    "    my_regularizer = regularizers.l2(0.001)\n",
    "    # and a larger number of epochs as the added regularization the model\n",
    "    # is less likely to overfit and can be trained longer\n",
    "    my_epochs = 100\n",
    "    features_path = 'sparse_autoe_features.pickle'\n",
    "    labels_path = 'sparse_autoe_labels.pickle'\n",
    "\n",
    "   \n",
    "    \n",
    "encoding_dimA = hidden_size  # 32 floats -> compression of factor 24.5, assuming the input is 784 floats\n",
    "\n",
    "\n",
    "# this is our input placeholder\n",
    "\n",
    "input_imgA = Input(shape=(img_rows*img_colsA,))\n",
    "\n",
    "# \"encoded\" is the encoded representation of the input\n",
    "encodedA = Dense(encoding_dimA, activation='sigmoid', use_bias=False,bias_initializer='random_uniform')(input_imgA)\n",
    "# \"decoded\" is the lossy reconstruction of the input\n",
    "decodedA = Dense(img_colsA*img_rows, activation='linear',use_bias=True,bias_initializer='random_uniform')(encodedA)\n",
    "\n",
    "# this model maps an input to its reconstruction\n",
    "\n",
    "\n",
    "#autoencoder=Sequential([\n",
    "#    Dense(encoding_dim, kernel_regularizer=regularizers.l2(0.001), use_bias=True,bias_initializer='random_uniform',input_shape=(640,)),\n",
    "#    Activation('sigmoid'),\n",
    "#    Dense(img_cols*img_rows, use_bias=True,bias_initializer='random_uniform'),\n",
    "#    Activation('linear'),\n",
    "#])\n",
    "\n",
    "autoencoderA = Model(input_imgA, decodedA)\n",
    "\n",
    "encoding_dimB = hidden_size  # 32 floats -> compression of factor 24.5, assuming the input is 784 floats\n",
    "\n",
    "\n",
    "# this is our input placeholder\n",
    "\n",
    "input_imgB = Input(shape=(img_rows*img_colsB,))\n",
    "\n",
    "# \"encoded\" is the encoded representation of the input\n",
    "encodedB = Dense(encoding_dimB, activation='sigmoid', use_bias=False,bias_initializer='random_uniform')(input_imgB)\n",
    "# \"decoded\" is the lossy reconstruction of the input\n",
    "decodedB = Dense(img_colsB*img_rows, activation='linear',use_bias=True,bias_initializer='random_uniform')(encodedB)\n",
    "\n",
    "# this model maps an input to its reconstruction\n",
    "\n",
    "\n",
    "#autoencoder=Sequential([\n",
    "#    Dense(encoding_dim, kernel_regularizer=regularizers.l2(0.001), use_bias=True,bias_initializer='random_uniform',input_shape=(640,)),\n",
    "#    Activation('sigmoid'),\n",
    "#    Dense(img_cols*img_rows, use_bias=True,bias_initializer='random_uniform'),\n",
    "#    Activation('linear'),\n",
    "#])\n",
    "\n",
    "autoencoderB = Model(input_imgB, decodedB)"
   ]
  },
  {
   "cell_type": "code",
   "execution_count": 5,
   "metadata": {},
   "outputs": [],
   "source": [
    "\n",
    "supermax=1\n"
   ]
  },
  {
   "cell_type": "markdown",
   "metadata": {},
   "source": [
    "## Build the autoencoder A. "
   ]
  },
  {
   "cell_type": "markdown",
   "metadata": {},
   "source": [
    "Create our metrics, for example energy"
   ]
  },
  {
   "cell_type": "code",
   "execution_count": 6,
   "metadata": {},
   "outputs": [],
   "source": [
    "import keras.backend as KK\n",
    "import keras.callbacks as KKcall"
   ]
  },
  {
   "cell_type": "code",
   "execution_count": 7,
   "metadata": {},
   "outputs": [],
   "source": [
    "class Metrics(KKcall.Callback):\n",
    "    def on_train_begin(self, logs={}):\n",
    "        self._data = []\n",
    "\n",
    "    def on_epoch_end(self, batch, logs={}):\n",
    "        X_val, y_val = self.validation_data[0], self.validation_data[1]\n",
    "        y_predict = np.asarray(self.model.predict(X_val))\n",
    "\n",
    "        y_val = np.sum((y_val+1)*supermax/2, axis=1)\n",
    "        y_predict = np.sum((y_predict+1)*supermax/2, axis=1)\n",
    "\n",
    "        self._data.append({\n",
    "            'val_energy': np.mean(y_predict-y_val),\n",
    "        })\n",
    "        return\n",
    "\n",
    "    def get_data(self):\n",
    "        return self._data\n",
    "\n",
    "metrics = Metrics()\n",
    "\n",
    "def energy_error(y_true, y_pred):\n",
    "    veamos_energia=(KK.sum(y_pred, axis=1)-KK.sum(y_true,axis=1))\n",
    "    return KK.mean(veamos_energia,axis=-1)"
   ]
  },
  {
   "cell_type": "code",
   "execution_count": 8,
   "metadata": {},
   "outputs": [],
   "source": [
    "# this model maps an input to its encoded representation\n",
    "encoderA = Model(input_imgA, encodedA)\n",
    "\n",
    "# create a placeholder for an encoded (32-dimensional) input\n",
    "encoded_inputA = Input(shape=(encoding_dimA,))\n",
    "# retrieve the last layer of the autoencoder model\n",
    "decoder_layerA = autoencoderA.layers[-1]\n",
    "# create the decoder model\n",
    "decoderA = Model(encoded_inputA, decoder_layerA(encoded_inputA))\n"
   ]
  },
  {
   "cell_type": "markdown",
   "metadata": {},
   "source": [
    "Show a summary of the model parameters. "
   ]
  },
  {
   "cell_type": "markdown",
   "metadata": {},
   "source": [
    "And now load the trained model. "
   ]
  },
  {
   "cell_type": "code",
   "execution_count": 9,
   "metadata": {},
   "outputs": [],
   "source": [
    "# import pandas as pd \n",
    "# autoencoder.evaluate(x=x_test_scaled,y=x_test_scaled)\n",
    "# D=metrics.get_data()\n",
    "\n",
    "\n",
    "# energies=pd.DataFrame(D).values.reshape(len(D))\n",
    "# valores=len(energies)\n",
    "# plt.plot(range(valores),energies) \n",
    "\n",
    "# plt.show()"
   ]
  },
  {
   "cell_type": "code",
   "execution_count": 10,
   "metadata": {},
   "outputs": [],
   "source": [
    "# autoencoderA.save_weights('../redes_compresoras/defs/compresor_python_{}{}{}{}'.format(encoding_dimA,algoritmo,experimento,datetime.now()))\n",
    "#np.savez('../redes_compresoras/maxmin_python_ver_rms_prop_scaled_min_max_ver2', min_max_scaler.data_max_, min_max_scaler.data_min_)\n",
    "autoencoderA.load_weights('../redes_compresoras/defs/compresor_python_1200RMSpropscaledA_1_encoder_without_bias_sig_sig_lr_0.00012019-10-08 17:40:39.065834')"
   ]
  },
  {
   "cell_type": "markdown",
   "metadata": {},
   "source": [
    "## Build the autoencoder B. "
   ]
  },
  {
   "cell_type": "markdown",
   "metadata": {},
   "source": [
    "Create our metrics, for example energy"
   ]
  },
  {
   "cell_type": "code",
   "execution_count": 11,
   "metadata": {},
   "outputs": [],
   "source": [
    "import keras.backend as KK\n",
    "import keras.callbacks as KKcall"
   ]
  },
  {
   "cell_type": "code",
   "execution_count": 12,
   "metadata": {},
   "outputs": [],
   "source": [
    "class Metrics(KKcall.Callback):\n",
    "    def on_train_begin(self, logs={}):\n",
    "        self._data = []\n",
    "\n",
    "    def on_epoch_end(self, batch, logs={}):\n",
    "        X_val, y_val = self.validation_data[0], self.validation_data[1]\n",
    "        y_predict = np.asarray(self.model.predict(X_val))\n",
    "\n",
    "        y_val = np.sum((y_val+1)*supermax/2, axis=1)\n",
    "        y_predict = np.sum((y_predict+1)*supermax/2, axis=1)\n",
    "\n",
    "        self._data.append({\n",
    "            'val_energy': np.mean(y_predict-y_val),\n",
    "        })\n",
    "        return\n",
    "\n",
    "    def get_data(self):\n",
    "        return self._data\n",
    "\n",
    "metrics = Metrics()\n",
    "\n",
    "def energy_error(y_true, y_pred):\n",
    "    veamos_energia=(KK.sum(y_pred, axis=1)-KK.sum(y_true,axis=1))\n",
    "    return KK.mean(veamos_energia,axis=-1)"
   ]
  },
  {
   "cell_type": "code",
   "execution_count": 13,
   "metadata": {},
   "outputs": [],
   "source": [
    "# this model maps an input to its encoded representation\n",
    "encoderB = Model(input_imgB, encodedB)\n",
    "\n",
    "# create a placeholder for an encoded (32-dimensional) input\n",
    "encoded_inputB = Input(shape=(encoding_dimB,))\n",
    "# retrieve the last layer of the autoencoder model\n",
    "decoder_layerB = autoencoderB.layers[-1]\n",
    "# create the decoder model\n",
    "decoder = Model(encoded_inputB, decoder_layerB(encoded_inputB))\n",
    "\n"
   ]
  },
  {
   "cell_type": "markdown",
   "metadata": {},
   "source": [
    "And now load trained  model for sector type B. "
   ]
  },
  {
   "cell_type": "code",
   "execution_count": 14,
   "metadata": {},
   "outputs": [],
   "source": [
    "# autoencoderB.save_weights('../redes_compresoras/defs/compresor_python_{}{}{}{}'.format(encoding_dimB,algoritmo,experimento,datetime.now()))\n",
    "#np.savez('../redes_compresoras/maxmin_python_ver_rms_prop_scaled_min_max_ver2', min_max_scaler.data_max_, min_max_scaler.data_min_)\n",
    "autoencoderB.load_weights('../redes_compresoras/defs/compresor_python_1200RMSpropscaledB_1_encoder_without_bias_sig_sig_lr_0.00012019-10-08 17:43:15.267665')"
   ]
  },
  {
   "cell_type": "code",
   "execution_count": 15,
   "metadata": {},
   "outputs": [],
   "source": [
    "# standard_scores = encoder.predict(x_test_scaled).ravel()\n",
    "# #regularized_scores = encoded_regularized.predict(x_test).ravel()\n",
    "# sns.distplot(standard_scores, hist=True, label='standard model')\n",
    "# #sns.distplot(regularized_scores, hist=False, label='regularized model')"
   ]
  },
  {
   "cell_type": "markdown",
   "metadata": {},
   "source": [
    "# Vamos a procesar y comprimir con la red"
   ]
  },
  {
   "cell_type": "markdown",
   "metadata": {},
   "source": [
    "Ahora los particionamos y pasamos por las redes de compresión. Hay una red la A que se utiliza 5 veces"
   ]
  },
  {
   "cell_type": "code",
   "execution_count": 16,
   "metadata": {},
   "outputs": [],
   "source": [
    "x_total=conjunto_datos[0:numero_muestras,:]\n",
    "L1A=5;\n",
    "# hay tres L1 con 576 sensores (36*16)\n",
    "L1B=1;\n",
    "img_rows=20\n",
    "img_colsA=30\n",
    "img_colsB=25\n",
    "img_cols=30\n",
    "input_output_dim_A=img_rows*img_colsA\n",
    "input_output_dim_B=img_rows*img_colsB\n",
    "def sigmoid(x, derivative=False):\n",
    "  return x*(1-x) if derivative else 1/(1+np.exp(-x))\n",
    "ideaA=np.zeros((L1A,input_output_dim_A))\n",
    "ideaB=np.zeros((L1B,input_output_dim_B)) \n",
    "cara_externa=x_total[:,6: 6+L1A*input_output_dim_A+L1B*input_output_dim_B] \n",
    "cara_externa_reconstruida=np.zeros((x_total.shape[0],L1A*input_output_dim_A+L1B*input_output_dim_B))\n",
    "for i in range(x_total.shape[0]):\n",
    "    for k in range(L1A):\n",
    "        ideaA[k,:]=x_total[i,6+k*input_output_dim_A:6+k*input_output_dim_A+input_output_dim_A]\n",
    "    #entrada_imgs_A=(ideaA-min_A.transpose())/(max_A.transpose()-min_A.transpose())\n",
    "#     entrada_imgs_A=(ideaA) #he quitado el escalado\n",
    "#     encoded_imgs_A = sigmoid(np.dot(entrada_imgs_A, Encoder_weights_A) + Encoder_biases_A)\n",
    "#     decoded_imgs_A= (np.dot(encoded_imgs_A, Decoder_weights_A) + Decoder_biases_A)\n",
    "#     #print(decoded_imgs_A.shape)\n",
    "#     #salida_reconstructed_1 = decoded_imgs_A*(max_A.transpose()-min_A.transpose())+min_A.transpose();\n",
    "#     salida_reconstructed_1 = decoded_imgs_A #quito el escalado inverso    \n",
    "\n",
    "\n",
    "    ideaA_scaled=(ideaA/(supermax))\n",
    "    salida_reconstructed_1_scaled = autoencoderA.predict(ideaA_scaled)    \n",
    "    salida_reconstructed_1 = supermax*(salida_reconstructed_1_scaled)\n",
    "    for k in range(L1B):\n",
    "        ideaB[k,:input_output_dim_B]=x_total[i,6+L1A*input_output_dim_A+k*input_output_dim_B:6+L1A*input_output_dim_A+k*input_output_dim_B+input_output_dim_B]\n",
    "    #entrada_imgs_B=(ideaB-min_B.transpose())/(max_B.transpose()-min_B.transpose())\n",
    "#     entrada_imgs_B=(ideaB)  #quito el escalado\n",
    "#     encoded_imgs_B = sigmoid(np.dot(entrada_imgs_B, Encoder_weights_B) + Encoder_biases_B)\n",
    "#     decoded_imgs_B= (np.dot(encoded_imgs_B, Decoder_weights_B) + Decoder_biases_B)\n",
    "#     salida_reconstructed_2 = decoded_imgs_B #quito el escalado inverso  \n",
    "    ideaB_scaled=(ideaB/(supermax))\n",
    "    salida_reconstructed_2_scaled = autoencoderB.predict(ideaB_scaled)    \n",
    "    salida_reconstructed_2 = supermax*(salida_reconstructed_2_scaled)\n",
    "    #salida_reconstructed_2 = decoded_imgs_B*(max_B.transpose()-min_B.transpose())+min_B.transpose()\n",
    "  \n",
    "    hola1=np.reshape(salida_reconstructed_1,(L1A*input_output_dim_A))\n",
    "    hola2=np.reshape(salida_reconstructed_2,(L1B*input_output_dim_B))\n",
    "    #print(hola.shape)\n",
    "    salida_total=np.concatenate((hola1,hola2))\n",
    "    salida_total[salida_total<0]=0\n",
    "    #print(salida_total.shape)\n",
    "    cara_externa_reconstruida[i]=salida_total\n",
    "    \n",
    "mse = (np.square(cara_externa - cara_externa_reconstruida)).mean(axis=1)\n",
    "mse.shape[0]\n",
    "mse_idea=np.reshape(mse,(mse.shape[0],1))"
   ]
  },
  {
   "cell_type": "code",
   "execution_count": 17,
   "metadata": {},
   "outputs": [],
   "source": [
    "photodefbox2_todo_e=np.concatenate((conjunto_datos,mse_idea),axis=1)\n",
    "photodefbox2_todo_re=np.copy(photodefbox2_todo_e)\n",
    "# photodefbox2_todo_re[:,6: 6+L1A*input_output_dim_A+L1B*input_output_dim_B]=cara_externa_reconstruida\n",
    "# print (photodefbox2_todo_e[:10,6:26])\n",
    "# print (photodefbox2_todo_re[:10,6:26])\n",
    "np.savez('../conjuntos_datos_reconstruidos/todo_pith7mm_rad165mm_scaled2_sig_sig_1200', photodefbox2_todo_e,photodefbox2_todo_re)"
   ]
  },
  {
   "cell_type": "markdown",
   "metadata": {},
   "source": [
    "## Visualizamos los resultados"
   ]
  },
  {
   "cell_type": "markdown",
   "metadata": {},
   "source": [
    "Visualizamos todos los sensores: "
   ]
  },
  {
   "cell_type": "code",
   "execution_count": 18,
   "metadata": {
    "scrolled": true
   },
   "outputs": [
    {
     "data": {
      "image/png": "[encoded data removed]",
      "text/plain": [
       "<Figure size 2880x720 with 2 Axes>"
      ]
     },
     "metadata": {},
     "output_type": "display_data"
    }
   ],
   "source": [
    "n = 1  # how many digits we will display\n",
    "plt.figure(figsize=(40, 10))\n",
    "for i in range(n):\n",
    "    # display original\n",
    "    idea=np.random.randint(1,cara_externa.shape[0])\n",
    "    ax = plt.subplot(2, n, i + 1)\n",
    "    plt.imshow(cara_externa[idea].reshape(L1A*img_colsA+L1B*img_colsB, img_rows).transpose(),vmin=0, vmax=30)\n",
    "    plt.viridis()\n",
    "    ax.get_xaxis().set_visible(False)\n",
    "    ax.get_yaxis().set_visible(False)\n",
    "\n",
    "    # display reconstruction\n",
    "    ax = plt.subplot(2, n, i + 1 + n)\n",
    "    plt.imshow(cara_externa_reconstruida[idea].reshape(L1A*img_colsA+L1B*img_colsB, img_rows).transpose(), vmin=0, vmax=30)\n",
    "    plt.viridis()\n",
    "    ax.get_xaxis().set_visible(False)\n",
    "    ax.get_yaxis().set_visible(False)\n",
    "plt.show()"
   ]
  },
  {
   "cell_type": "markdown",
   "metadata": {},
   "source": [
    "Visualizamos ahora L1 a L1, teniendo en cuenta que hay de dos tipos:\n",
    "L1A (con 36 columnas )"
   ]
  },
  {
   "cell_type": "code",
   "execution_count": 19,
   "metadata": {
    "scrolled": true
   },
   "outputs": [
    {
     "data": {
      "image/png": "[encoded data removed]",
      "text/plain": [
       "<Figure size 2880x720 with 10 Axes>"
      ]
     },
     "metadata": {},
     "output_type": "display_data"
    }
   ],
   "source": [
    "n = L1A  # how many digits we will display\n",
    "plt.figure(figsize=(40, 10))\n",
    "for i in range(n):\n",
    "    # display original\n",
    "    ax = plt.subplot(2, n, i + 1)\n",
    "    plt.imshow(cara_externa[idea].reshape(L1A*img_colsA+L1B*img_colsB, img_rows).transpose()[:,i*img_colsA:(i+1)*img_colsA] ,vmin=0, vmax=30)\n",
    "    plt.viridis()\n",
    "    ax.get_xaxis().set_visible(False)\n",
    "    ax.get_yaxis().set_visible(False)\n",
    "    ax = plt.subplot(2, n, i + 1+n)\n",
    "    plt.imshow(cara_externa_reconstruida[idea].reshape(L1A*img_colsA+L1B*img_colsB, img_rows).transpose()[:,i*img_colsA:(i+1)*img_colsA] ,vmin=0, vmax=30)\n",
    "    plt.viridis()\n",
    "    ax.get_xaxis().set_visible(False)\n",
    "    ax.get_yaxis().set_visible(False)\n",
    "plt.show()"
   ]
  },
  {
   "cell_type": "code",
   "execution_count": 20,
   "metadata": {},
   "outputs": [
    {
     "data": {
      "image/png": "[encoded data removed]",
      "text/plain": [
       "<Figure size 2880x720 with 2 Axes>"
      ]
     },
     "metadata": {},
     "output_type": "display_data"
    },
    {
     "name": "stdout",
     "output_type": "stream",
     "text": [
      "46312\n"
     ]
    }
   ],
   "source": [
    "n = L1B  # how many digits we will display\n",
    "plt.figure(figsize=(40, 10))\n",
    "for i in range(n):\n",
    "    # display original\n",
    "    ax = plt.subplot(2, n, i + 1)\n",
    "    plt.imshow(cara_externa[idea].reshape(L1A*img_colsA+L1B*img_colsB, img_rows).transpose()[:,L1A*img_colsA+i*img_colsB:L1A*img_colsA+(i+1)*img_colsB],vmin=0, vmax=30)\n",
    "    plt.viridis()\n",
    "    ax.get_xaxis().set_visible(False)\n",
    "    ax.get_yaxis().set_visible(False)\n",
    "    ax = plt.subplot(2, n, i + 1+n)\n",
    "    plt.imshow(cara_externa_reconstruida[idea].reshape(L1A*img_colsA+L1B*img_colsB, img_rows).transpose()[:,L1A*img_colsA+i*img_colsB:L1A*img_colsA+(i+1)*img_colsB],vmin=0, vmax=30)\n",
    "    plt.viridis()\n",
    "    ax.get_xaxis().set_visible(False)\n",
    "    ax.get_yaxis().set_visible(False)\n",
    "plt.show()\n",
    "print(idea)"
   ]
  },
  {
   "cell_type": "markdown",
   "metadata": {},
   "source": [
    "Procesamos los diferentes subconjuntos"
   ]
  },
  {
   "cell_type": "code",
   "execution_count": 22,
   "metadata": {},
   "outputs": [
    {
     "name": "stdout",
     "output_type": "stream",
     "text": [
      "[[0. 0. 0. 0. 0. 0. 0. 0. 0. 0. 0. 0. 0. 0. 0. 0. 0. 0. 0. 0.]\n",
      " [0. 0. 0. 0. 0. 0. 0. 0. 0. 0. 0. 0. 0. 0. 0. 0. 0. 0. 0. 0.]\n",
      " [0. 0. 0. 0. 0. 0. 0. 0. 0. 0. 0. 0. 0. 0. 0. 0. 0. 0. 0. 0.]\n",
      " [0. 0. 0. 0. 0. 0. 0. 0. 0. 0. 0. 0. 0. 0. 0. 0. 0. 0. 0. 0.]\n",
      " [0. 0. 0. 0. 0. 0. 0. 0. 0. 0. 0. 0. 0. 0. 0. 0. 0. 0. 0. 0.]\n",
      " [0. 1. 0. 0. 0. 0. 0. 0. 1. 0. 0. 0. 0. 0. 0. 0. 0. 0. 0. 0.]\n",
      " [0. 0. 0. 1. 0. 0. 0. 0. 0. 0. 0. 0. 0. 0. 0. 0. 0. 0. 0. 1.]\n",
      " [0. 0. 0. 0. 0. 0. 0. 0. 0. 0. 0. 0. 0. 0. 0. 0. 0. 0. 0. 0.]\n",
      " [0. 0. 0. 0. 0. 0. 0. 0. 0. 0. 0. 0. 0. 0. 0. 0. 0. 0. 0. 0.]\n",
      " [0. 0. 0. 0. 0. 0. 0. 0. 0. 1. 0. 0. 0. 0. 0. 0. 1. 0. 0. 0.]]\n",
      "[[8.13283026e-04 2.69367266e-03 0.00000000e+00 0.00000000e+00\n",
      "  0.00000000e+00 4.59919125e-03 1.06439888e-02 2.78157815e-02\n",
      "  0.00000000e+00 0.00000000e+00 0.00000000e+00 0.00000000e+00\n",
      "  6.05164468e-03 9.55151767e-03 0.00000000e+00 1.09785050e-03\n",
      "  0.00000000e+00 0.00000000e+00 1.63106024e-02 0.00000000e+00]\n",
      " [1.15421191e-02 0.00000000e+00 0.00000000e+00 0.00000000e+00\n",
      "  0.00000000e+00 0.00000000e+00 5.13998568e-02 3.15844640e-02\n",
      "  0.00000000e+00 0.00000000e+00 8.57934356e-05 0.00000000e+00\n",
      "  0.00000000e+00 6.47544116e-03 0.00000000e+00 0.00000000e+00\n",
      "  0.00000000e+00 0.00000000e+00 3.38163972e-03 0.00000000e+00]\n",
      " [1.10035338e-01 0.00000000e+00 0.00000000e+00 6.55351654e-02\n",
      "  1.82107463e-02 0.00000000e+00 5.88103831e-02 5.47163114e-02\n",
      "  0.00000000e+00 5.71770184e-02 1.07212864e-01 1.17253378e-01\n",
      "  0.00000000e+00 2.55322382e-02 5.60401455e-02 3.91854569e-02\n",
      "  4.23477888e-02 0.00000000e+00 0.00000000e+00 0.00000000e+00]\n",
      " [0.00000000e+00 6.34473190e-02 3.85064930e-02 0.00000000e+00\n",
      "  0.00000000e+00 0.00000000e+00 1.50240093e-01 1.17408857e-02\n",
      "  1.10021979e-02 0.00000000e+00 2.07275972e-02 1.16219148e-01\n",
      "  0.00000000e+00 7.87303373e-02 0.00000000e+00 0.00000000e+00\n",
      "  3.46507132e-02 4.70772833e-02 0.00000000e+00 0.00000000e+00]\n",
      " [7.51284733e-02 0.00000000e+00 0.00000000e+00 0.00000000e+00\n",
      "  0.00000000e+00 1.03778519e-01 1.98928505e-01 1.15946755e-02\n",
      "  0.00000000e+00 0.00000000e+00 4.53862771e-02 6.15275353e-02\n",
      "  0.00000000e+00 0.00000000e+00 0.00000000e+00 0.00000000e+00\n",
      "  0.00000000e+00 0.00000000e+00 1.97841227e-02 0.00000000e+00]\n",
      " [0.00000000e+00 9.79880989e-01 7.51303136e-03 0.00000000e+00\n",
      "  0.00000000e+00 0.00000000e+00 0.00000000e+00 2.75371820e-01\n",
      "  5.08185267e-01 7.18826801e-02 0.00000000e+00 0.00000000e+00\n",
      "  0.00000000e+00 0.00000000e+00 1.63668841e-01 2.69799352e-01\n",
      "  2.32965022e-01 8.61708969e-02 0.00000000e+00 0.00000000e+00]\n",
      " [0.00000000e+00 7.62816239e-03 2.23942503e-01 9.27742481e-01\n",
      "  1.72269911e-01 0.00000000e+00 0.00000000e+00 1.15443908e-01\n",
      "  6.01083189e-02 7.50703365e-02 1.72642082e-01 6.75194860e-02\n",
      "  0.00000000e+00 6.38651773e-02 0.00000000e+00 3.00818607e-02\n",
      "  0.00000000e+00 0.00000000e+00 1.77506834e-01 8.78962636e-01]\n",
      " [0.00000000e+00 0.00000000e+00 0.00000000e+00 0.00000000e+00\n",
      "  0.00000000e+00 0.00000000e+00 0.00000000e+00 4.59627137e-02\n",
      "  0.00000000e+00 3.93321030e-02 2.38600597e-02 1.10366344e-01\n",
      "  0.00000000e+00 0.00000000e+00 0.00000000e+00 0.00000000e+00\n",
      "  1.36198878e-01 0.00000000e+00 2.38486826e-02 0.00000000e+00]\n",
      " [1.15421191e-02 0.00000000e+00 0.00000000e+00 0.00000000e+00\n",
      "  0.00000000e+00 0.00000000e+00 5.13998568e-02 3.15844640e-02\n",
      "  0.00000000e+00 0.00000000e+00 8.57934356e-05 0.00000000e+00\n",
      "  0.00000000e+00 6.47544116e-03 0.00000000e+00 0.00000000e+00\n",
      "  0.00000000e+00 0.00000000e+00 3.38163972e-03 0.00000000e+00]\n",
      " [4.86609116e-02 2.30064578e-02 3.13037485e-02 0.00000000e+00\n",
      "  0.00000000e+00 8.63383785e-02 0.00000000e+00 3.73634920e-02\n",
      "  1.51151791e-01 6.37649477e-01 2.59007424e-01 0.00000000e+00\n",
      "  0.00000000e+00 0.00000000e+00 0.00000000e+00 1.52192056e-01\n",
      "  1.06876945e+00 2.34847650e-01 5.97087443e-02 0.00000000e+00]]\n"
     ]
    }
   ],
   "source": [
    "photodefbox2_todo_fil1= datos_matlab.get('photodefbox2_todo_fil5')\n",
    "numero_muestras=photodefbox2_todo_fil1.shape[0]\n",
    "x_total=photodefbox2_todo_fil1[0:numero_muestras,:]\n",
    "L1A=5;\n",
    "# hay tres L1 con 576 sensores (36*16)\n",
    "L1B=1;\n",
    "img_rows=20\n",
    "img_colsA=30\n",
    "img_colsB=25\n",
    "img_cols=30\n",
    "input_output_dim_A=img_rows*img_colsA\n",
    "input_output_dim_B=img_rows*img_colsB\n",
    "def sigmoid(x, derivative=False):\n",
    "  return x*(1-x) if derivative else 1/(1+np.exp(-x))\n",
    "ideaA=np.zeros((L1A,input_output_dim_A))\n",
    "ideaB=np.zeros((L1B,input_output_dim_B)) \n",
    "cara_externa=x_total[:,6: 6+L1A*input_output_dim_A+L1B*input_output_dim_B] \n",
    "cara_externa_reconstruida=np.zeros((x_total.shape[0],L1A*input_output_dim_A+L1B*input_output_dim_B))\n",
    "for i in range(x_total.shape[0]):\n",
    "    for k in range(L1A):\n",
    "        ideaA[k,:]=x_total[i,6+k*input_output_dim_A:6+k*input_output_dim_A+input_output_dim_A]\n",
    "    #entrada_imgs_A=(ideaA-min_A.transpose())/(max_A.transpose()-min_A.transpose())\n",
    "#     entrada_imgs_A=(ideaA) #he quitado el escalado\n",
    "#     encoded_imgs_A = sigmoid(np.dot(entrada_imgs_A, Encoder_weights_A) + Encoder_biases_A)\n",
    "#     decoded_imgs_A= (np.dot(encoded_imgs_A, Decoder_weights_A) + Decoder_biases_A)\n",
    "#     #print(decoded_imgs_A.shape)\n",
    "#     #salida_reconstructed_1 = decoded_imgs_A*(max_A.transpose()-min_A.transpose())+min_A.transpose();\n",
    "#     salida_reconstructed_1 = decoded_imgs_A #quito el escalado inverso    \n",
    "\n",
    "\n",
    "    ideaA_scaled=(ideaA/(supermax))\n",
    "    salida_reconstructed_1_scaled = autoencoderA.predict(ideaA_scaled)    \n",
    "    salida_reconstructed_1 = supermax*(salida_reconstructed_1_scaled)\n",
    "    for k in range(L1B):\n",
    "        ideaB[k,:input_output_dim_B]=x_total[i,6+L1A*input_output_dim_A+k*input_output_dim_B:6+L1A*input_output_dim_A+k*input_output_dim_B+input_output_dim_B]\n",
    "    #entrada_imgs_B=(ideaB-min_B.transpose())/(max_B.transpose()-min_B.transpose())\n",
    "#     entrada_imgs_B=(ideaB)  #quito el escalado\n",
    "#     encoded_imgs_B = sigmoid(np.dot(entrada_imgs_B, Encoder_weights_B) + Encoder_biases_B)\n",
    "#     decoded_imgs_B= (np.dot(encoded_imgs_B, Decoder_weights_B) + Decoder_biases_B)\n",
    "#     salida_reconstructed_2 = decoded_imgs_B #quito el escalado inverso  \n",
    "    ideaB_scaled=(ideaB/(supermax))\n",
    "    salida_reconstructed_2_scaled = autoencoderB.predict(ideaB_scaled)    \n",
    "    salida_reconstructed_2 = supermax*(salida_reconstructed_2_scaled)\n",
    "    #salida_reconstructed_2 = decoded_imgs_B*(max_B.transpose()-min_B.transpose())+min_B.transpose()\n",
    "  \n",
    "    hola1=np.reshape(salida_reconstructed_1,(L1A*input_output_dim_A))\n",
    "    hola2=np.reshape(salida_reconstructed_2,(L1B*input_output_dim_B))\n",
    "    #print(hola.shape)\n",
    "    salida_total=np.concatenate((hola1,hola2))\n",
    "    salida_total[salida_total<0]=0\n",
    "    #print(salida_total.shape)\n",
    "    cara_externa_reconstruida[i]=salida_total\n",
    "    \n",
    "mse = (np.square(cara_externa - cara_externa_reconstruida)).mean(axis=1)\n",
    "mse.shape[0]\n",
    "mse_idea=np.reshape(mse,(mse.shape[0],1))\n",
    "photodefbox2_todo_fil1_e=np.concatenate((photodefbox2_todo_fil1,mse_idea),axis=1)\n",
    "photodefbox2_todo_fil1_re=np.copy(photodefbox2_todo_fil1_e)\n",
    "photodefbox2_todo_fil1_re[:,6: 6+L1A*input_output_dim_A+L1B*input_output_dim_B]=cara_externa_reconstruida\n",
    " \n",
    "np.savez('../conjuntos_datos_reconstruidos/fil1_pith7mm_rad165mm_scaled2_sig_sig_1200', photodefbox2_todo_fil1_e,photodefbox2_todo_fil1_re)\n",
    "\n",
    "print(photodefbox2_todo_fil1_e[:10,6:26])\n",
    "print(photodefbox2_todo_fil1_re[:10,6:26])"
   ]
  },
  {
   "cell_type": "code",
   "execution_count": 23,
   "metadata": {},
   "outputs": [],
   "source": [
    "photodefbox2_todo_fil2= datos_matlab.get('photodefbox2_todo_fil6')\n",
    "numero_muestras=photodefbox2_todo_fil2.shape[0]\n",
    "x_total=photodefbox2_todo_fil2[0:numero_muestras,:]\n",
    "L1A=5;\n",
    "# hay tres L1 con 576 sensores (36*16)\n",
    "L1B=1;\n",
    "img_rows=20\n",
    "img_colsA=30\n",
    "img_colsB=25\n",
    "img_cols=30\n",
    "input_output_dim_A=img_rows*img_colsA\n",
    "input_output_dim_B=img_rows*img_colsB\n",
    "def sigmoid(x, derivative=False):\n",
    "  return x*(1-x) if derivative else 1/(1+np.exp(-x))\n",
    "ideaA=np.zeros((L1A,input_output_dim_A))\n",
    "ideaB=np.zeros((L1B,input_output_dim_B)) \n",
    "cara_externa=x_total[:,6: 6+L1A*input_output_dim_A+L1B*input_output_dim_B] \n",
    "cara_externa_reconstruida=np.zeros((x_total.shape[0],L1A*input_output_dim_A+L1B*input_output_dim_B))\n",
    "for i in range(x_total.shape[0]):\n",
    "    for k in range(L1A):\n",
    "        ideaA[k,:]=x_total[i,6+k*input_output_dim_A:6+k*input_output_dim_A+input_output_dim_A]\n",
    "    #entrada_imgs_A=(ideaA-min_A.transpose())/(max_A.transpose()-min_A.transpose())\n",
    "#     entrada_imgs_A=(ideaA) #he quitado el escalado\n",
    "#     encoded_imgs_A = sigmoid(np.dot(entrada_imgs_A, Encoder_weights_A) + Encoder_biases_A)\n",
    "#     decoded_imgs_A= (np.dot(encoded_imgs_A, Decoder_weights_A) + Decoder_biases_A)\n",
    "#     #print(decoded_imgs_A.shape)\n",
    "#     #salida_reconstructed_1 = decoded_imgs_A*(max_A.transpose()-min_A.transpose())+min_A.transpose();\n",
    "#     salida_reconstructed_1 = decoded_imgs_A #quito el escalado inverso    \n",
    "\n",
    "\n",
    "    ideaA_scaled=(ideaA/(supermax))\n",
    "    salida_reconstructed_1_scaled = autoencoderA.predict(ideaA_scaled)    \n",
    "    salida_reconstructed_1 = supermax*(salida_reconstructed_1_scaled)\n",
    "    for k in range(L1B):\n",
    "        ideaB[k,:input_output_dim_B]=x_total[i,6+L1A*input_output_dim_A+k*input_output_dim_B:6+L1A*input_output_dim_A+k*input_output_dim_B+input_output_dim_B]\n",
    "    #entrada_imgs_B=(ideaB-min_B.transpose())/(max_B.transpose()-min_B.transpose())\n",
    "#     entrada_imgs_B=(ideaB)  #quito el escalado\n",
    "#     encoded_imgs_B = sigmoid(np.dot(entrada_imgs_B, Encoder_weights_B) + Encoder_biases_B)\n",
    "#     decoded_imgs_B= (np.dot(encoded_imgs_B, Decoder_weights_B) + Decoder_biases_B)\n",
    "#     salida_reconstructed_2 = decoded_imgs_B #quito el escalado inverso  \n",
    "    ideaB_scaled=(ideaB/(supermax))\n",
    "    salida_reconstructed_2_scaled = autoencoderB.predict(ideaB_scaled)    \n",
    "    salida_reconstructed_2 = supermax*(salida_reconstructed_2_scaled)\n",
    "    #salida_reconstructed_2 = decoded_imgs_B*(max_B.transpose()-min_B.transpose())+min_B.transpose()\n",
    "  \n",
    "    hola1=np.reshape(salida_reconstructed_1,(L1A*input_output_dim_A))\n",
    "    hola2=np.reshape(salida_reconstructed_2,(L1B*input_output_dim_B))\n",
    "    #print(hola.shape)\n",
    "    salida_total=np.concatenate((hola1,hola2))\n",
    "    salida_total[salida_total<0]=0\n",
    "    #print(salida_total.shape)\n",
    "    cara_externa_reconstruida[i]=salida_total\n",
    "    \n",
    "mse = (np.square(cara_externa - cara_externa_reconstruida)).mean(axis=1)\n",
    "mse.shape[0]\n",
    "mse_idea=np.reshape(mse,(mse.shape[0],1))\n",
    "photodefbox2_todo_fil2_e=np.concatenate((photodefbox2_todo_fil2,mse_idea),axis=1)\n",
    "\n",
    "photodefbox2_todo_fil2_re=np.copy(photodefbox2_todo_fil2_e)\n",
    "photodefbox2_todo_fil2_re[:,6: 6+L1A*input_output_dim_A+L1B*input_output_dim_B]=cara_externa_reconstruida\n",
    " \n",
    "np.savez('../conjuntos_datos_reconstruidos/fil2_pith7mm_rad165mm_scaled2_sig_sig_1200', photodefbox2_todo_fil2_e,photodefbox2_todo_fil2_re)\n"
   ]
  },
  {
   "cell_type": "code",
   "execution_count": 24,
   "metadata": {},
   "outputs": [],
   "source": [
    "photodefbox2_todo_fil3= datos_matlab.get('photodefbox2_todo_fil7')\n",
    "numero_muestras=photodefbox2_todo_fil3.shape[0]\n",
    "x_total=photodefbox2_todo_fil3[0:numero_muestras,:]\n",
    "L1A=5;\n",
    "# hay tres L1 con 576 sensores (36*16)\n",
    "L1B=1;\n",
    "img_rows=20\n",
    "img_colsA=30\n",
    "img_colsB=25\n",
    "img_cols=30\n",
    "input_output_dim_A=img_rows*img_colsA\n",
    "input_output_dim_B=img_rows*img_colsB\n",
    "def sigmoid(x, derivative=False):\n",
    "  return x*(1-x) if derivative else 1/(1+np.exp(-x))\n",
    "ideaA=np.zeros((L1A,input_output_dim_A))\n",
    "ideaB=np.zeros((L1B,input_output_dim_B)) \n",
    "cara_externa=x_total[:,6: 6+L1A*input_output_dim_A+L1B*input_output_dim_B] \n",
    "cara_externa_reconstruida=np.zeros((x_total.shape[0],L1A*input_output_dim_A+L1B*input_output_dim_B))\n",
    "for i in range(x_total.shape[0]):\n",
    "    for k in range(L1A):\n",
    "        ideaA[k,:]=x_total[i,6+k*input_output_dim_A:6+k*input_output_dim_A+input_output_dim_A]\n",
    "    #entrada_imgs_A=(ideaA-min_A.transpose())/(max_A.transpose()-min_A.transpose())\n",
    "#     entrada_imgs_A=(ideaA) #he quitado el escalado\n",
    "#     encoded_imgs_A = sigmoid(np.dot(entrada_imgs_A, Encoder_weights_A) + Encoder_biases_A)\n",
    "#     decoded_imgs_A= (np.dot(encoded_imgs_A, Decoder_weights_A) + Decoder_biases_A)\n",
    "#     #print(decoded_imgs_A.shape)\n",
    "#     #salida_reconstructed_1 = decoded_imgs_A*(max_A.transpose()-min_A.transpose())+min_A.transpose();\n",
    "#     salida_reconstructed_1 = decoded_imgs_A #quito el escalado inverso    \n",
    "\n",
    "\n",
    "    ideaA_scaled=(ideaA/(supermax))\n",
    "    salida_reconstructed_1_scaled = autoencoderA.predict(ideaA_scaled)    \n",
    "    salida_reconstructed_1 = supermax*(salida_reconstructed_1_scaled)\n",
    "    for k in range(L1B):\n",
    "        ideaB[k,:input_output_dim_B]=x_total[i,6+L1A*input_output_dim_A+k*input_output_dim_B:6+L1A*input_output_dim_A+k*input_output_dim_B+input_output_dim_B]\n",
    "    #entrada_imgs_B=(ideaB-min_B.transpose())/(max_B.transpose()-min_B.transpose())\n",
    "#     entrada_imgs_B=(ideaB)  #quito el escalado\n",
    "#     encoded_imgs_B = sigmoid(np.dot(entrada_imgs_B, Encoder_weights_B) + Encoder_biases_B)\n",
    "#     decoded_imgs_B= (np.dot(encoded_imgs_B, Decoder_weights_B) + Decoder_biases_B)\n",
    "#     salida_reconstructed_2 = decoded_imgs_B #quito el escalado inverso  \n",
    "    ideaB_scaled=(ideaB/(supermax))\n",
    "    salida_reconstructed_2_scaled = autoencoderB.predict(ideaB_scaled)    \n",
    "    salida_reconstructed_2 = supermax*(salida_reconstructed_2_scaled)\n",
    "    #salida_reconstructed_2 = decoded_imgs_B*(max_B.transpose()-min_B.transpose())+min_B.transpose()\n",
    "  \n",
    "    hola1=np.reshape(salida_reconstructed_1,(L1A*input_output_dim_A))\n",
    "    hola2=np.reshape(salida_reconstructed_2,(L1B*input_output_dim_B))\n",
    "    #print(hola.shape)\n",
    "    salida_total=np.concatenate((hola1,hola2))\n",
    "    salida_total[salida_total<0]=0\n",
    "    #print(salida_total.shape)\n",
    "    cara_externa_reconstruida[i]=salida_total\n",
    "    \n",
    "mse = (np.square(cara_externa - cara_externa_reconstruida)).mean(axis=1)\n",
    "mse.shape[0]\n",
    "mse_idea=np.reshape(mse,(mse.shape[0],1))\n",
    "photodefbox2_todo_fil3_e=np.concatenate((photodefbox2_todo_fil3,mse_idea),axis=1)\n",
    "\n",
    "photodefbox2_todo_fil3_re=np.copy(photodefbox2_todo_fil3_e)\n",
    "photodefbox2_todo_fil3_re[:,6: 6+L1A*input_output_dim_A+L1B*input_output_dim_B]=cara_externa_reconstruida\n",
    " \n",
    "np.savez('../conjuntos_datos_reconstruidos/fil3_pith7mm_rad165mm_scaled2_sig_sig_1200', photodefbox2_todo_fil3_e,photodefbox2_todo_fil3_re)\n"
   ]
  },
  {
   "cell_type": "code",
   "execution_count": 25,
   "metadata": {},
   "outputs": [],
   "source": [
    "photodefbox2_todo_fil4= datos_matlab.get('photodefbox2_todo_fil8')\n",
    "numero_muestras=photodefbox2_todo_fil4.shape[0]\n",
    "x_total=photodefbox2_todo_fil4[0:numero_muestras,:]\n",
    "L1A=5;\n",
    "# hay tres L1 con 576 sensores (36*16)\n",
    "L1B=1;\n",
    "img_rows=20\n",
    "img_colsA=30\n",
    "img_colsB=25\n",
    "img_cols=30\n",
    "input_output_dim_A=img_rows*img_colsA\n",
    "input_output_dim_B=img_rows*img_colsB\n",
    "def sigmoid(x, derivative=False):\n",
    "  return x*(1-x) if derivative else 1/(1+np.exp(-x))\n",
    "ideaA=np.zeros((L1A,input_output_dim_A))\n",
    "ideaB=np.zeros((L1B,input_output_dim_B)) \n",
    "cara_externa=x_total[:,6: 6+L1A*input_output_dim_A+L1B*input_output_dim_B] \n",
    "cara_externa_reconstruida=np.zeros((x_total.shape[0],L1A*input_output_dim_A+L1B*input_output_dim_B))\n",
    "for i in range(x_total.shape[0]):\n",
    "    for k in range(L1A):\n",
    "        ideaA[k,:]=x_total[i,6+k*input_output_dim_A:6+k*input_output_dim_A+input_output_dim_A]\n",
    "    #entrada_imgs_A=(ideaA-min_A.transpose())/(max_A.transpose()-min_A.transpose())\n",
    "#     entrada_imgs_A=(ideaA) #he quitado el escalado\n",
    "#     encoded_imgs_A = sigmoid(np.dot(entrada_imgs_A, Encoder_weights_A) + Encoder_biases_A)\n",
    "#     decoded_imgs_A= (np.dot(encoded_imgs_A, Decoder_weights_A) + Decoder_biases_A)\n",
    "#     #print(decoded_imgs_A.shape)\n",
    "#     #salida_reconstructed_1 = decoded_imgs_A*(max_A.transpose()-min_A.transpose())+min_A.transpose();\n",
    "#     salida_reconstructed_1 = decoded_imgs_A #quito el escalado inverso    \n",
    "\n",
    "\n",
    "    ideaA_scaled=(ideaA/(supermax))\n",
    "    salida_reconstructed_1_scaled = autoencoderA.predict(ideaA_scaled)    \n",
    "    salida_reconstructed_1 = supermax*(salida_reconstructed_1_scaled)\n",
    "    for k in range(L1B):\n",
    "        ideaB[k,:input_output_dim_B]=x_total[i,6+L1A*input_output_dim_A+k*input_output_dim_B:6+L1A*input_output_dim_A+k*input_output_dim_B+input_output_dim_B]\n",
    "    #entrada_imgs_B=(ideaB-min_B.transpose())/(max_B.transpose()-min_B.transpose())\n",
    "#     entrada_imgs_B=(ideaB)  #quito el escalado\n",
    "#     encoded_imgs_B = sigmoid(np.dot(entrada_imgs_B, Encoder_weights_B) + Encoder_biases_B)\n",
    "#     decoded_imgs_B= (np.dot(encoded_imgs_B, Decoder_weights_B) + Decoder_biases_B)\n",
    "#     salida_reconstructed_2 = decoded_imgs_B #quito el escalado inverso  \n",
    "    ideaB_scaled=(ideaB/(supermax))\n",
    "    salida_reconstructed_2_scaled = autoencoderB.predict(ideaB_scaled)    \n",
    "    salida_reconstructed_2 = supermax*(salida_reconstructed_2_scaled)\n",
    "    #salida_reconstructed_2 = decoded_imgs_B*(max_B.transpose()-min_B.transpose())+min_B.transpose()\n",
    "  \n",
    "    hola1=np.reshape(salida_reconstructed_1,(L1A*input_output_dim_A))\n",
    "    hola2=np.reshape(salida_reconstructed_2,(L1B*input_output_dim_B))\n",
    "    #print(hola.shape)\n",
    "    salida_total=np.concatenate((hola1,hola2))\n",
    "    salida_total[salida_total<0]=0\n",
    "    #print(salida_total.shape)\n",
    "    cara_externa_reconstruida[i]=salida_total\n",
    "    \n",
    "mse = (np.square(cara_externa - cara_externa_reconstruida)).mean(axis=1)\n",
    "mse.shape[0]\n",
    "mse_idea=np.reshape(mse,(mse.shape[0],1))\n",
    "photodefbox2_todo_fil4_e=np.concatenate((photodefbox2_todo_fil4,mse_idea),axis=1)\n",
    "\n",
    "photodefbox2_todo_fil4_re=np.copy(photodefbox2_todo_fil4_e)\n",
    "photodefbox2_todo_fil4_re[:,6: 6+L1A*input_output_dim_A+L1B*input_output_dim_B]=cara_externa_reconstruida\n",
    " \n",
    "np.savez('../conjuntos_datos_reconstruidos/fil4_pith7mm_rad165mm_scaled2_sig_sig_1200', photodefbox2_todo_fil4_e,photodefbox2_todo_fil4_re)\n"
   ]
  },
  {
   "cell_type": "code",
   "execution_count": null,
   "metadata": {},
   "outputs": [],
   "source": []
  },
  {
   "cell_type": "code",
   "execution_count": null,
   "metadata": {},
   "outputs": [],
   "source": []
  }
 ],
 "metadata": {
  "anaconda-cloud": {},
  "kernelspec": {
   "display_name": "Python [conda env:tensorflow]",
   "language": "python",
   "name": "conda-env-tensorflow-py"
  },
  "language_info": {
   "codemirror_mode": {
    "name": "ipython",
    "version": 3
   },
   "file_extension": ".py",
   "mimetype": "text/x-python",
   "name": "python",
   "nbconvert_exporter": "python",
   "pygments_lexer": "ipython3",
   "version": "3.6.5"
  },
  "varInspector": {
   "cols": {
    "lenName": 16,
    "lenType": 16,
    "lenVar": 40
   },
   "kernels_config": {
    "python": {
     "delete_cmd_postfix": "",
     "delete_cmd_prefix": "del ",
     "library": "var_list.py",
     "varRefreshCmd": "print(var_dic_list())"
    },
    "r": {
     "delete_cmd_postfix": ") ",
     "delete_cmd_prefix": "rm(",
     "library": "var_list.r",
     "varRefreshCmd": "cat(var_dic_list()) "
    }
   },
   "position": {
    "height": "495px",
    "left": "909px",
    "right": "57px",
    "top": "246px",
    "width": "800px"
   },
   "types_to_exclude": [
    "module",
    "function",
    "builtin_function_or_method",
    "instance",
    "_Feature"
   ],
   "window_display": false
  }
 },
 "nbformat": 4,
 "nbformat_minor": 1
}
