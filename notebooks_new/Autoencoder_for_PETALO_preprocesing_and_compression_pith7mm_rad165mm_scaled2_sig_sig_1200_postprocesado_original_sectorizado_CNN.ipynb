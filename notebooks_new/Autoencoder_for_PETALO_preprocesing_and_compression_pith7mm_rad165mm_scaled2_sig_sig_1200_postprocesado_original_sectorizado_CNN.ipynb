{
 "cells": [
  {
   "cell_type": "markdown",
   "metadata": {},
   "source": [
    "# Simple AUTOENCODER for PETALO\n",
    "\n",
    "Esta red la vamos a utilizar para obtener el radio "
   ]
  },
  {
   "cell_type": "code",
   "execution_count": 1,
   "metadata": {},
   "outputs": [
    {
     "name": "stdout",
     "output_type": "stream",
     "text": [
      "['', '/home/rgadea/anaconda3/envs/tensorflow/lib/python36.zip', '/home/rgadea/anaconda3/envs/tensorflow/lib/python3.6', '/home/rgadea/anaconda3/envs/tensorflow/lib/python3.6/lib-dynload', '/home/rgadea/anaconda3/envs/tensorflow/lib/python3.6/site-packages', '/home/rgadea/anaconda3/envs/tensorflow/lib/python3.6/site-packages/lmfit-0.9.11-py3.6.egg', '/home/rgadea/anaconda3/envs/tensorflow/lib/python3.6/site-packages/IPython/extensions', '/volumedisk0/home/rgadea/.ipython']\n"
     ]
    },
    {
     "name": "stderr",
     "output_type": "stream",
     "text": [
      "Using TensorFlow backend.\n"
     ]
    }
   ],
   "source": [
    "import numpy as np\n",
    "#np.random.seed(1337)  # for reproducibility\n",
    "from time import time\n",
    "from datetime import datetime\n",
    "# from sklearn import preprocessing\n",
    "import sys\n",
    "print(sys.path)\n",
    "sys.path.append(\"/home/rgadea/lmfit-py/\")\n",
    "\n",
    "import os\n",
    "os.environ[\"CUDA_DEVICE_ORDER\"] = \"PCI_BUS_ID\"\n",
    "os.environ[\"CUDA_VISIBLE_DEVICES\"] = \"0\"\n",
    "\n",
    "# import seaborn as sns\n",
    "from keras.datasets import mnist\n",
    "from keras.models import Model, Sequential\n",
    "from keras.layers import Input, Dense, Dropout, Activation, Flatten\n",
    "from keras.layers import Conv2D, MaxPooling2D,BatchNormalization\n",
    "from keras.callbacks import TensorBoard, EarlyStopping, ModelCheckpoint\n",
    "from keras.utils import np_utils\n",
    "from keras import regularizers\n",
    "from math import floor\n",
    "from lmfit.models import  GaussianModel\n",
    "import matplotlib.pyplot as plt"
   ]
  },
  {
   "cell_type": "code",
   "execution_count": 2,
   "metadata": {},
   "outputs": [
    {
     "name": "stdout",
     "output_type": "stream",
     "text": [
      "1.8.0\n"
     ]
    }
   ],
   "source": [
    "from keras import backend as K\n",
    "K.tensorflow_backend._get_available_gpus()\n",
    "import tensorflow as tf\n",
    "print(tf.__version__)\n",
    "sess = tf.Session(config=tf.ConfigProto(log_device_placement=True))"
   ]
  },
  {
   "cell_type": "markdown",
   "metadata": {},
   "source": [
    "## Vamos introducir los datos de petalo preprocesados en pyhton\n"
   ]
  },
  {
   "cell_type": "code",
   "execution_count": 3,
   "metadata": {},
   "outputs": [
    {
     "name": "stdout",
     "output_type": "stream",
     "text": [
      "(50000, 3518)\n"
     ]
    }
   ],
   "source": [
    "import scipy.io as sio\n",
    "import hdf5storage\n",
    "# datos_matlab = hdf5storage.loadmat('../datos_junio_2019/conjunto_entrenamiento_junio_2019_pitch7mm_rad165mm_29_total_2_distancias_red.mat')\n",
    "# conjunto_datos= datos_matlab.get('photodefbox2_todo_fil5')\n",
    "npzfile = np.load('../conjuntos_datos_reconstruidos/fil5_pith7mm_rad165mm_scaled2_sig_sig_1200.npz')\n",
    "npzfile.files\n",
    "\n",
    "conjunto_datos= npzfile['arr_0']\n",
    "conjunto_datos=conjunto_datos[:,:]\n",
    "# npzfile = np.load('../conjuntos_datos_reconstruidos/fil2_pith7mm_rad165mm_scaled2_sig_sig_1200.npz')\n",
    "# npzfile.files\n",
    "\n",
    "# conjunto_datos2= npzfile['arr_0']\n",
    "\n",
    "# conjunto_datos=np.concatenate((conjunto_datos1,conjunto_datos2), axis=0)\n",
    "# print(conjunto_datos.shape)\n",
    "# conjunto_datos=conjunto_datos1\n",
    "print(conjunto_datos.shape)\n",
    "# print(conjunto_datos[:10,6:26])"
   ]
  },
  {
   "cell_type": "markdown",
   "metadata": {},
   "source": [
    "## Network parameters:"
   ]
  },
  {
   "cell_type": "code",
   "execution_count": 4,
   "metadata": {},
   "outputs": [],
   "source": [
    "batch_size = 500\n",
    "nb_classes = 10\n",
    "nb_epoch = 250\n",
    "\n",
    "# input image dimensions\n",
    "img_rows, img_cols = 20, 35\n",
    "# number of convolutional filters to use\n",
    "nb_filters = 32\n",
    "# size of pooling area for max pooling\n",
    "pool_size = (2, 2)\n",
    "# convolution kernel size\n",
    "kernel_size = (4, 4)"
   ]
  },
  {
   "cell_type": "markdown",
   "metadata": {},
   "source": [
    "## Prepare data into training and test set."
   ]
  },
  {
   "cell_type": "code",
   "execution_count": 5,
   "metadata": {},
   "outputs": [
    {
     "name": "stdout",
     "output_type": "stream",
     "text": [
      "50000\n",
      "conjunto_datos shape: (50000, 3518)\n",
      "194.99950513267174\n",
      "sector shape: (50000, 20, 35)\n",
      "conjunto_datos_nuevo: (50000, 700)\n"
     ]
    }
   ],
   "source": [
    "# the data, shuffled and split between train and test sets\n",
    "# (X_train, y_train), (X_test, y_test) = mnist.load_data()\n",
    "# conjunto_datos=photodefbox2_todo_e\n",
    "numero_muestras=conjunto_datos.shape[0]\n",
    "print(numero_muestras)\n",
    "print('conjunto_datos shape:', conjunto_datos.shape)\n",
    "maxInColumns = np.amax(conjunto_datos, axis=0)\n",
    "print (maxInColumns[1])\n",
    "# n, bins, patches = plt.hist(conjunto_datos[:,1], 400, normed=0, facecolor='green', alpha=0.75)\n",
    "\n",
    "\n",
    "idea=conjunto_datos[:,6:3506]\n",
    "veamos=idea.reshape(idea.shape[0],175, 20)\n",
    "veamos2=np.zeros([idea.shape[0],20,175])\n",
    "veamos2_3=np.zeros([idea.shape[0],20,525])\n",
    "sector2=np.zeros([idea.shape[0],20,img_cols])\n",
    "veamos3=np.zeros([idea.shape[0],175])\n",
    "# for i in range(idea.shape[0]):\n",
    "for i in range(idea.shape[0]):\n",
    "    veamos2[i]=np.reshape(veamos[i].transpose(), [20,175])\n",
    "    veamos3[i]=np.sum(veamos2[i], axis=0)\n",
    "    indice=np.argmax(veamos3[i], axis=0)\n",
    "    veamos2_3[i]=np.concatenate((veamos2[i],veamos2[i],veamos2[i]),axis=1) \n",
    "    indice_inferior=int(indice-((img_cols-1)/2)+175)\n",
    "    indice_superior=int(indice+((img_cols+1)/2)+175)\n",
    "    sector2[i]=veamos2_3[i,:,indice_inferior:indice_superior]\n",
    "    \n",
    "\n",
    "print('sector shape:', sector2.shape)\n",
    "conjunto_datos_nuevo=sector2.reshape(sector2.shape[0], img_rows*img_cols)\n",
    "print('conjunto_datos_nuevo:', conjunto_datos_nuevo.shape)"
   ]
  },
  {
   "cell_type": "code",
   "execution_count": 6,
   "metadata": {},
   "outputs": [
    {
     "data": {
      "image/png": "[encoded data removed]",
      "text/plain": [
       "<Figure size 432x288 with 1 Axes>"
      ]
     },
     "metadata": {},
     "output_type": "display_data"
    },
    {
     "data": {
      "image/png": "[encoded data removed]",
      "text/plain": [
       "<Figure size 432x288 with 1 Axes>"
      ]
     },
     "metadata": {},
     "output_type": "display_data"
    },
    {
     "data": {
      "image/png": "[encoded data removed]",
      "text/plain": [
       "<Figure size 432x288 with 1 Axes>"
      ]
     },
     "metadata": {},
     "output_type": "display_data"
    },
    {
     "data": {
      "image/png": "[encoded data removed]",
      "text/plain": [
       "<Figure size 432x288 with 1 Axes>"
      ]
     },
     "metadata": {},
     "output_type": "display_data"
    }
   ],
   "source": [
    "# convert class vectors to binary class matrices\n",
    "#Y_train = np_utils.to_categorical(y_train, nb_classes)\n",
    "#Y_test = np_utils.to_categorical(y_test, nb_classes)\n",
    "for i in range(1,5):\n",
    "    idea=np.random.randint(1,sector2.shape[0])\n",
    "    plt.imshow(sector2[idea], cmap='viridis')\n",
    "    plt.show()"
   ]
  },
  {
   "cell_type": "code",
   "execution_count": 7,
   "metadata": {},
   "outputs": [
    {
     "name": "stdout",
     "output_type": "stream",
     "text": [
      "20000\n",
      "10000\n",
      "20000\n",
      "(8655, 700)\n",
      "(3929, 700)\n",
      "(2550, 700)\n",
      "(2132, 700)\n",
      "(2734, 700)\n"
     ]
    }
   ],
   "source": [
    "tr_size=40\n",
    "val_size=20\n",
    "test_size=100-val_size-tr_size\n",
    "conjunto_datos_nuevo2=np.concatenate((conjunto_datos[:,0:3],conjunto_datos_nuevo), axis=1)\n",
    "tamanyo_tr=floor(tr_size*numero_muestras/100)\n",
    "tamanyo_val=floor(val_size*numero_muestras/100)\n",
    "tamanyo_test=numero_muestras-tamanyo_tr-tamanyo_val\n",
    "print(tamanyo_tr)\n",
    "print(tamanyo_val)\n",
    "print(tamanyo_test)\n",
    "\n",
    "\n",
    "XY_test=conjunto_datos_nuevo2[tamanyo_tr+tamanyo_val:numero_muestras,:]\n",
    "\n",
    "\n",
    "XY_test_bin0=XY_test[np.where((XY_test[:,1]>=164.9999) * (XY_test[:,1]<171.000))]\n",
    "XY_test_bin1=XY_test[np.where((XY_test[:,1]>=171.000) * (XY_test[:,1]<177.000))]\n",
    "XY_test_bin2=XY_test[np.where((XY_test[:,1]>=177.000) * (XY_test[:,1]<183.0000))]\n",
    "XY_test_bin3=XY_test[np.where((XY_test[:,1]>=183.000) * (XY_test[:,1]<189.0000))]\n",
    "XY_test_bin4=XY_test[np.where((XY_test[:,1]>=189.0000))]\n",
    "\n",
    "X_train=conjunto_datos_nuevo2[:tamanyo_tr,3:]\n",
    "X_val=conjunto_datos_nuevo2[tamanyo_tr:tamanyo_tr+tamanyo_val,3:]\n",
    "X_test=conjunto_datos_nuevo2[tamanyo_tr+tamanyo_val:numero_muestras,3:]\n",
    "\n",
    "X_test_bin0=XY_test_bin0[:,3:]\n",
    "Y_test_bin0=XY_test_bin0[:,1]\n",
    "print(X_test_bin0.shape)\n",
    "X_test_bin1=XY_test_bin1[:,3:]\n",
    "Y_test_bin1=XY_test_bin1[:,1]\n",
    "print(X_test_bin1.shape)\n",
    "X_test_bin2=XY_test_bin2[:,3:]\n",
    "Y_test_bin2=XY_test_bin2[:,1]\n",
    "print(X_test_bin2.shape)\n",
    "X_test_bin3=XY_test_bin3[:,3:]\n",
    "Y_test_bin3=XY_test_bin3[:,1]\n",
    "print(X_test_bin3.shape)\n",
    "X_test_bin4=XY_test_bin4[:,3:]\n",
    "Y_test_bin4=XY_test_bin4[:,1]\n",
    "print(X_test_bin4.shape)\n",
    "\n",
    "\n",
    "\n",
    "Y_train=conjunto_datos_nuevo2[:tamanyo_tr,1] #elijo la coordenada radius\n",
    "Y_val=conjunto_datos_nuevo2[tamanyo_tr:tamanyo_tr+tamanyo_val,1] #elijo la corrdenada radius\n",
    "Y_test=conjunto_datos_nuevo2[tamanyo_tr+tamanyo_val:numero_muestras,1] #elijo la corrdenada radius"
   ]
  },
  {
   "cell_type": "code",
   "execution_count": 8,
   "metadata": {},
   "outputs": [],
   "source": [
    "\n",
    "\n",
    "X_train = X_train.reshape(X_train.shape[0], img_rows, img_cols,1)\n",
    "X_val = X_val.reshape(X_val.shape[0], img_rows, img_cols,1)\n",
    "X_test = X_test.reshape(X_test.shape[0], img_rows, img_cols,1)\n",
    "\n",
    "X_test_bin0 = X_test_bin0.reshape(X_test_bin0.shape[0], img_rows, img_cols,1)\n",
    "X_test_bin1 = X_test_bin1.reshape(X_test_bin1.shape[0], img_rows, img_cols,1)\n",
    "X_test_bin2 = X_test_bin2.reshape(X_test_bin2.shape[0], img_rows, img_cols,1)\n",
    "X_test_bin3 = X_test_bin3.reshape(X_test_bin3.shape[0], img_rows, img_cols,1)\n",
    "X_test_bin4 = X_test_bin4.reshape(X_test_bin4.shape[0], img_rows, img_cols,1)\n",
    "\n",
    "input_shape = (img_rows, img_cols,1)\n",
    "#input_shape=input_shape.astype('int32')"
   ]
  },
  {
   "cell_type": "code",
   "execution_count": 9,
   "metadata": {},
   "outputs": [
    {
     "name": "stdout",
     "output_type": "stream",
     "text": [
      "X_train shape: (20000, 20, 35, 1)\n",
      "20000 train samples\n",
      "10000 validation samples\n",
      "20000 test samples\n"
     ]
    }
   ],
   "source": [
    "X_train = X_train.astype('float32')\n",
    "X_val= X_val.astype('float32')\n",
    "X_test = X_test.astype('float32')\n",
    "\n",
    "print('X_train shape:', X_train.shape)\n",
    "print(X_train.shape[0], 'train samples')\n",
    "print(X_val.shape[0], 'validation samples')\n",
    "print(X_test.shape[0], 'test samples')"
   ]
  },
  {
   "cell_type": "markdown",
   "metadata": {},
   "source": [
    "Display 20 random training images using image"
   ]
  },
  {
   "cell_type": "code",
   "execution_count": 10,
   "metadata": {},
   "outputs": [
    {
     "data": {
      "image/png": "[encoded data removed]",
      "text/plain": [
       "<Figure size 432x288 with 1 Axes>"
      ]
     },
     "metadata": {},
     "output_type": "display_data"
    },
    {
     "data": {
      "image/png": "[encoded data removed]",
      "text/plain": [
       "<Figure size 432x288 with 1 Axes>"
      ]
     },
     "metadata": {},
     "output_type": "display_data"
    },
    {
     "data": {
      "image/png": "[encoded data removed]",
      "text/plain": [
       "<Figure size 432x288 with 1 Axes>"
      ]
     },
     "metadata": {},
     "output_type": "display_data"
    },
    {
     "data": {
      "image/png": "[encoded data removed]",
      "text/plain": [
       "<Figure size 432x288 with 1 Axes>"
      ]
     },
     "metadata": {},
     "output_type": "display_data"
    }
   ],
   "source": [
    "# convert class vectors to binary class matrices\n",
    "#Y_train = np_utils.to_categorical(y_train, nb_classes)\n",
    "#Y_test = np_utils.to_categorical(y_test, nb_classes)\n",
    "for i in range(1,5):\n",
    "    idea=np.random.randint(1,X_train.shape[0])\n",
    "    plt.imshow(np.reshape(X_train[idea], [img_rows, img_cols]), cmap='viridis')\n",
    "    plt.show()"
   ]
  },
  {
   "cell_type": "markdown",
   "metadata": {},
   "source": [
    "## Build the CNN. "
   ]
  },
  {
   "cell_type": "code",
   "execution_count": 11,
   "metadata": {},
   "outputs": [],
   "source": [
    "model = Sequential()\n",
    "\n",
    "model.add(Conv2D(16, kernel_size=kernel_size,\n",
    "                        padding='same',\n",
    "                        input_shape=(img_rows,img_cols,1)))\n",
    "model.add(BatchNormalization())\n",
    "model.add(Activation('relu'))\n",
    "model.add(MaxPooling2D(pool_size=pool_size))\n",
    "\n",
    "model.add(Conv2D(16, kernel_size, padding='same'))\n",
    "model.add(BatchNormalization())\n",
    "model.add(Activation('relu'))\n",
    "model.add(MaxPooling2D(pool_size=pool_size))\n",
    "\n",
    "model.add(Conv2D(32, kernel_size, padding='same'))\n",
    "model.add(BatchNormalization())\n",
    "model.add(Activation('relu'))\n",
    "\n",
    "model.add(Conv2D(64, kernel_size, padding='same'))\n",
    "model.add(BatchNormalization())\n",
    "model.add(Activation('relu'))\n",
    "\n",
    "# model.add(Dropout(0.2))\n",
    "model.add(Flatten())\n",
    "model.add(Dense(1))\n",
    "\n",
    "experimento=\"CNN_original_sector_{}x{}\".format(img_rows,img_cols)\n",
    "algoritmo='Nadam'\n",
    "\n",
    "tensorboard=TensorBoard(log_dir=\"../logs/defs/{}{}{}\".format(experimento,algoritmo,datetime.now()))\n",
    "\n",
    "model.compile(loss='mean_squared_error',\n",
    "              optimizer=algoritmo)\n",
    "\n"
   ]
  },
  {
   "cell_type": "markdown",
   "metadata": {},
   "source": [
    "Show a summary of the model parameters. "
   ]
  },
  {
   "cell_type": "code",
   "execution_count": 12,
   "metadata": {
    "scrolled": true
   },
   "outputs": [
    {
     "name": "stdout",
     "output_type": "stream",
     "text": [
      "_________________________________________________________________\n",
      "Layer (type)                 Output Shape              Param #   \n",
      "=================================================================\n",
      "conv2d_1 (Conv2D)            (None, 20, 35, 16)        272       \n",
      "_________________________________________________________________\n",
      "batch_normalization_1 (Batch (None, 20, 35, 16)        64        \n",
      "_________________________________________________________________\n",
      "activation_1 (Activation)    (None, 20, 35, 16)        0         \n",
      "_________________________________________________________________\n",
      "max_pooling2d_1 (MaxPooling2 (None, 10, 17, 16)        0         \n",
      "_________________________________________________________________\n",
      "conv2d_2 (Conv2D)            (None, 10, 17, 16)        4112      \n",
      "_________________________________________________________________\n",
      "batch_normalization_2 (Batch (None, 10, 17, 16)        64        \n",
      "_________________________________________________________________\n",
      "activation_2 (Activation)    (None, 10, 17, 16)        0         \n",
      "_________________________________________________________________\n",
      "max_pooling2d_2 (MaxPooling2 (None, 5, 8, 16)          0         \n",
      "_________________________________________________________________\n",
      "conv2d_3 (Conv2D)            (None, 5, 8, 32)          8224      \n",
      "_________________________________________________________________\n",
      "batch_normalization_3 (Batch (None, 5, 8, 32)          128       \n",
      "_________________________________________________________________\n",
      "activation_3 (Activation)    (None, 5, 8, 32)          0         \n",
      "_________________________________________________________________\n",
      "conv2d_4 (Conv2D)            (None, 5, 8, 64)          32832     \n",
      "_________________________________________________________________\n",
      "batch_normalization_4 (Batch (None, 5, 8, 64)          256       \n",
      "_________________________________________________________________\n",
      "activation_4 (Activation)    (None, 5, 8, 64)          0         \n",
      "_________________________________________________________________\n",
      "flatten_1 (Flatten)          (None, 2560)              0         \n",
      "_________________________________________________________________\n",
      "dense_1 (Dense)              (None, 1)                 2561      \n",
      "=================================================================\n",
      "Total params: 48,513\n",
      "Trainable params: 48,257\n",
      "Non-trainable params: 256\n",
      "_________________________________________________________________\n"
     ]
    }
   ],
   "source": [
    "model.summary()"
   ]
  },
  {
   "cell_type": "markdown",
   "metadata": {},
   "source": [
    "And now train the model and evaluate on the test set. "
   ]
  },
  {
   "cell_type": "code",
   "execution_count": 13,
   "metadata": {
    "scrolled": false
   },
   "outputs": [
    {
     "name": "stdout",
     "output_type": "stream",
     "text": [
      "Train on 20000 samples, validate on 10000 samples\n",
      "Epoch 1/250\n",
      "20000/20000 [==============================] - 5s 225us/step - loss: 12214.4452 - val_loss: 3059.2477\n",
      "Epoch 2/250\n",
      "20000/20000 [==============================] - 1s 34us/step - loss: 270.9989 - val_loss: 553.6357\n",
      "Epoch 3/250\n",
      "20000/20000 [==============================] - 1s 34us/step - loss: 5.4885 - val_loss: 389.9616\n",
      "Epoch 4/250\n",
      "20000/20000 [==============================] - 1s 34us/step - loss: 4.9578 - val_loss: 157.6938\n",
      "Epoch 5/250\n",
      "20000/20000 [==============================] - 1s 35us/step - loss: 3.8231 - val_loss: 49.4030\n",
      "Epoch 6/250\n",
      "20000/20000 [==============================] - 1s 40us/step - loss: 3.1934 - val_loss: 30.1634\n",
      "Epoch 7/250\n",
      "20000/20000 [==============================] - 1s 40us/step - loss: 3.0722 - val_loss: 12.3529\n",
      "Epoch 8/250\n",
      "20000/20000 [==============================] - 1s 35us/step - loss: 2.6402 - val_loss: 18.1359\n",
      "Epoch 9/250\n",
      "20000/20000 [==============================] - 1s 37us/step - loss: 2.9836 - val_loss: 2.6620\n",
      "Epoch 10/250\n",
      "20000/20000 [==============================] - 1s 41us/step - loss: 2.6962 - val_loss: 8.8318\n",
      "Epoch 11/250\n",
      "20000/20000 [==============================] - 1s 36us/step - loss: 2.1839 - val_loss: 2.0254\n",
      "Epoch 12/250\n",
      "20000/20000 [==============================] - 1s 36us/step - loss: 2.3570 - val_loss: 8.2002\n",
      "Epoch 13/250\n",
      "20000/20000 [==============================] - 1s 35us/step - loss: 2.4475 - val_loss: 4.7920\n",
      "Epoch 14/250\n",
      "20000/20000 [==============================] - 1s 35us/step - loss: 2.1532 - val_loss: 9.1622\n",
      "Epoch 15/250\n",
      "20000/20000 [==============================] - 1s 39us/step - loss: 2.1159 - val_loss: 1.9183\n",
      "Epoch 16/250\n",
      "20000/20000 [==============================] - 1s 38us/step - loss: 1.9621 - val_loss: 10.7438\n",
      "Epoch 17/250\n",
      "20000/20000 [==============================] - 1s 35us/step - loss: 1.8461 - val_loss: 12.0750\n",
      "Epoch 18/250\n",
      "20000/20000 [==============================] - 1s 35us/step - loss: 1.9460 - val_loss: 1.5159\n",
      "Epoch 19/250\n",
      "20000/20000 [==============================] - 1s 34us/step - loss: 1.8648 - val_loss: 6.2426\n",
      "Epoch 20/250\n",
      "20000/20000 [==============================] - 1s 35us/step - loss: 1.6463 - val_loss: 1.8575\n",
      "Epoch 21/250\n",
      "20000/20000 [==============================] - 1s 42us/step - loss: 1.7335 - val_loss: 2.8981\n",
      "Epoch 22/250\n",
      "20000/20000 [==============================] - 1s 36us/step - loss: 1.6879 - val_loss: 16.9042\n",
      "Epoch 23/250\n",
      "20000/20000 [==============================] - 1s 37us/step - loss: 1.7253 - val_loss: 4.9014\n",
      "Epoch 24/250\n",
      "20000/20000 [==============================] - 1s 35us/step - loss: 1.7979 - val_loss: 1.9405\n",
      "Epoch 25/250\n",
      "20000/20000 [==============================] - 1s 35us/step - loss: 1.7329 - val_loss: 3.0278\n",
      "Epoch 26/250\n",
      "20000/20000 [==============================] - 1s 40us/step - loss: 1.6001 - val_loss: 2.1528\n",
      "Epoch 27/250\n",
      "20000/20000 [==============================] - 1s 37us/step - loss: 1.6289 - val_loss: 1.8395\n",
      "Epoch 28/250\n",
      "20000/20000 [==============================] - 1s 35us/step - loss: 1.5514 - val_loss: 5.3705\n",
      "Epoch 29/250\n",
      "20000/20000 [==============================] - 1s 33us/step - loss: 1.4924 - val_loss: 1.3169\n",
      "Epoch 30/250\n",
      "20000/20000 [==============================] - 1s 34us/step - loss: 1.5623 - val_loss: 4.5962\n",
      "Epoch 31/250\n",
      "20000/20000 [==============================] - 1s 38us/step - loss: 1.7186 - val_loss: 4.5090\n",
      "Epoch 32/250\n",
      "20000/20000 [==============================] - 1s 40us/step - loss: 1.4847 - val_loss: 2.1657\n",
      "Epoch 33/250\n",
      "20000/20000 [==============================] - 1s 35us/step - loss: 1.3375 - val_loss: 5.8337\n",
      "Epoch 34/250\n",
      "20000/20000 [==============================] - 1s 35us/step - loss: 1.6454 - val_loss: 2.2235\n",
      "Epoch 35/250\n",
      "20000/20000 [==============================] - 1s 34us/step - loss: 1.4098 - val_loss: 1.3729\n",
      "Epoch 36/250\n",
      "20000/20000 [==============================] - 1s 36us/step - loss: 1.5317 - val_loss: 3.3399\n",
      "Epoch 37/250\n",
      "20000/20000 [==============================] - 1s 39us/step - loss: 1.5637 - val_loss: 1.2006\n",
      "Epoch 38/250\n",
      "20000/20000 [==============================] - 1s 38us/step - loss: 1.3482 - val_loss: 1.2017\n",
      "Epoch 39/250\n",
      "20000/20000 [==============================] - 1s 36us/step - loss: 1.2528 - val_loss: 2.4377\n",
      "Epoch 40/250\n",
      "20000/20000 [==============================] - 1s 33us/step - loss: 1.8008 - val_loss: 7.5747\n",
      "Epoch 41/250\n",
      "20000/20000 [==============================] - 1s 35us/step - loss: 1.3768 - val_loss: 2.5798\n",
      "Epoch 42/250\n",
      "20000/20000 [==============================] - 1s 36us/step - loss: 1.2937 - val_loss: 6.4939\n",
      "Epoch 43/250\n",
      "20000/20000 [==============================] - 1s 41us/step - loss: 1.1922 - val_loss: 2.1746\n",
      "Epoch 44/250\n",
      "20000/20000 [==============================] - 1s 37us/step - loss: 1.2707 - val_loss: 4.7178\n",
      "Epoch 45/250\n",
      "20000/20000 [==============================] - 1s 35us/step - loss: 1.4743 - val_loss: 1.5902\n",
      "Epoch 46/250\n",
      "20000/20000 [==============================] - 1s 37us/step - loss: 1.3388 - val_loss: 8.5648\n",
      "Epoch 47/250\n",
      "20000/20000 [==============================] - 1s 38us/step - loss: 1.5567 - val_loss: 7.4945\n",
      "Epoch 48/250\n",
      "20000/20000 [==============================] - 1s 37us/step - loss: 1.1153 - val_loss: 1.5909\n",
      "Epoch 49/250\n",
      "20000/20000 [==============================] - 1s 35us/step - loss: 1.2418 - val_loss: 1.3451\n",
      "Epoch 50/250\n",
      "20000/20000 [==============================] - 1s 41us/step - loss: 1.2725 - val_loss: 1.3550\n",
      "Epoch 51/250\n",
      "20000/20000 [==============================] - 1s 38us/step - loss: 1.1556 - val_loss: 1.5641\n",
      "Epoch 52/250\n",
      "20000/20000 [==============================] - 1s 35us/step - loss: 1.3442 - val_loss: 1.8619\n",
      "Epoch 53/250\n",
      "20000/20000 [==============================] - 1s 36us/step - loss: 1.2285 - val_loss: 2.5376\n",
      "Epoch 54/250\n",
      "20000/20000 [==============================] - 1s 41us/step - loss: 1.1610 - val_loss: 2.1767\n",
      "Epoch 55/250\n",
      "20000/20000 [==============================] - 1s 36us/step - loss: 1.3757 - val_loss: 2.9519\n",
      "Epoch 56/250\n",
      "20000/20000 [==============================] - 1s 35us/step - loss: 1.4586 - val_loss: 1.4008\n",
      "Epoch 57/250\n",
      "20000/20000 [==============================] - 1s 39us/step - loss: 1.2096 - val_loss: 1.1752\n",
      "Epoch 58/250\n",
      "20000/20000 [==============================] - 1s 37us/step - loss: 1.1124 - val_loss: 1.0082\n",
      "Epoch 59/250\n",
      "20000/20000 [==============================] - 1s 36us/step - loss: 1.2736 - val_loss: 2.6585\n",
      "Epoch 60/250\n",
      "20000/20000 [==============================] - 1s 36us/step - loss: 1.1357 - val_loss: 1.2167\n",
      "Epoch 61/250\n",
      "20000/20000 [==============================] - 1s 40us/step - loss: 1.1759 - val_loss: 2.4464\n",
      "Epoch 62/250\n",
      "20000/20000 [==============================] - 1s 36us/step - loss: 1.1537 - val_loss: 1.7191\n",
      "Epoch 63/250\n",
      "20000/20000 [==============================] - 1s 36us/step - loss: 1.1482 - val_loss: 1.2203\n",
      "Epoch 64/250\n",
      "20000/20000 [==============================] - 1s 36us/step - loss: 1.1161 - val_loss: 1.2209\n",
      "Epoch 65/250\n",
      "20000/20000 [==============================] - 1s 38us/step - loss: 1.1622 - val_loss: 3.8329\n",
      "Epoch 66/250\n",
      "20000/20000 [==============================] - 1s 38us/step - loss: 1.3382 - val_loss: 3.0375\n",
      "Epoch 67/250\n",
      "20000/20000 [==============================] - 1s 35us/step - loss: 1.2040 - val_loss: 1.4068\n",
      "Epoch 68/250\n",
      "20000/20000 [==============================] - 1s 35us/step - loss: 1.0487 - val_loss: 1.6915\n",
      "Epoch 69/250\n",
      "20000/20000 [==============================] - 1s 38us/step - loss: 1.2213 - val_loss: 1.0416\n",
      "Epoch 70/250\n",
      "20000/20000 [==============================] - 1s 38us/step - loss: 1.1102 - val_loss: 1.4666\n",
      "Epoch 71/250\n",
      "20000/20000 [==============================] - 1s 34us/step - loss: 1.1181 - val_loss: 2.9033\n",
      "Epoch 72/250\n",
      "20000/20000 [==============================] - 1s 37us/step - loss: 1.0852 - val_loss: 5.0614\n",
      "Epoch 73/250\n",
      "20000/20000 [==============================] - 1s 40us/step - loss: 1.1449 - val_loss: 1.5368\n",
      "Epoch 74/250\n",
      "20000/20000 [==============================] - 1s 36us/step - loss: 1.2040 - val_loss: 1.6639\n",
      "Epoch 75/250\n",
      "20000/20000 [==============================] - 1s 37us/step - loss: 1.3304 - val_loss: 0.9288\n",
      "Epoch 76/250\n",
      "20000/20000 [==============================] - 1s 37us/step - loss: 1.0970 - val_loss: 1.5758\n"
     ]
    },
    {
     "name": "stdout",
     "output_type": "stream",
     "text": [
      "Epoch 77/250\n",
      "20000/20000 [==============================] - 1s 41us/step - loss: 1.2321 - val_loss: 3.5680\n",
      "Epoch 78/250\n",
      "20000/20000 [==============================] - 1s 36us/step - loss: 1.1739 - val_loss: 8.6393\n",
      "Epoch 79/250\n",
      "20000/20000 [==============================] - 1s 35us/step - loss: 1.1099 - val_loss: 1.2696\n",
      "Epoch 80/250\n",
      "20000/20000 [==============================] - 1s 38us/step - loss: 1.0949 - val_loss: 1.3287\n",
      "Epoch 81/250\n",
      "20000/20000 [==============================] - 1s 41us/step - loss: 1.1969 - val_loss: 3.4052\n",
      "Epoch 82/250\n",
      "20000/20000 [==============================] - 1s 36us/step - loss: 1.0314 - val_loss: 2.1163\n",
      "Epoch 83/250\n",
      "20000/20000 [==============================] - 1s 36us/step - loss: 1.2339 - val_loss: 2.4998\n",
      "Epoch 84/250\n",
      "20000/20000 [==============================] - 1s 40us/step - loss: 1.2172 - val_loss: 2.7891\n",
      "Epoch 85/250\n",
      "20000/20000 [==============================] - 1s 37us/step - loss: 1.1267 - val_loss: 2.3826\n",
      "Epoch 86/250\n",
      "20000/20000 [==============================] - 1s 35us/step - loss: 1.1705 - val_loss: 3.9341\n",
      "Epoch 87/250\n",
      "20000/20000 [==============================] - 1s 36us/step - loss: 1.1059 - val_loss: 1.1124\n",
      "Epoch 88/250\n",
      "20000/20000 [==============================] - 1s 34us/step - loss: 1.1696 - val_loss: 3.0981\n",
      "Epoch 89/250\n",
      "20000/20000 [==============================] - 1s 39us/step - loss: 1.0464 - val_loss: 0.9958\n",
      "Epoch 90/250\n",
      "20000/20000 [==============================] - 1s 39us/step - loss: 1.0518 - val_loss: 1.5169\n",
      "Epoch 91/250\n",
      "20000/20000 [==============================] - 1s 36us/step - loss: 1.2003 - val_loss: 1.3153\n",
      "Epoch 92/250\n",
      "20000/20000 [==============================] - 1s 37us/step - loss: 1.1395 - val_loss: 4.9065\n",
      "Epoch 93/250\n",
      "20000/20000 [==============================] - 1s 40us/step - loss: 1.2849 - val_loss: 0.9055\n",
      "Epoch 94/250\n",
      "20000/20000 [==============================] - 1s 40us/step - loss: 0.9680 - val_loss: 1.8061\n",
      "Epoch 95/250\n",
      "20000/20000 [==============================] - 1s 35us/step - loss: 1.0643 - val_loss: 1.1202\n",
      "Epoch 96/250\n",
      "20000/20000 [==============================] - 1s 35us/step - loss: 1.1149 - val_loss: 4.7159\n",
      "Epoch 97/250\n",
      "20000/20000 [==============================] - 1s 38us/step - loss: 1.0895 - val_loss: 2.6257\n",
      "Epoch 98/250\n",
      "20000/20000 [==============================] - 1s 37us/step - loss: 1.0072 - val_loss: 3.7533\n",
      "Epoch 99/250\n",
      "20000/20000 [==============================] - 1s 34us/step - loss: 1.1014 - val_loss: 1.0983\n",
      "Epoch 100/250\n",
      "20000/20000 [==============================] - 1s 35us/step - loss: 1.0550 - val_loss: 0.9005\n",
      "Epoch 101/250\n",
      "20000/20000 [==============================] - 1s 42us/step - loss: 1.2794 - val_loss: 0.9783\n",
      "Epoch 102/250\n",
      "20000/20000 [==============================] - 1s 34us/step - loss: 1.1219 - val_loss: 1.2261\n",
      "Epoch 103/250\n",
      "20000/20000 [==============================] - 1s 33us/step - loss: 1.1328 - val_loss: 1.2540\n",
      "Epoch 104/250\n",
      "20000/20000 [==============================] - 1s 35us/step - loss: 0.9725 - val_loss: 1.1973\n",
      "Epoch 105/250\n",
      "20000/20000 [==============================] - 1s 43us/step - loss: 1.0830 - val_loss: 3.2284\n",
      "Epoch 106/250\n",
      "20000/20000 [==============================] - 1s 37us/step - loss: 1.0846 - val_loss: 1.4563\n",
      "Epoch 107/250\n",
      "20000/20000 [==============================] - 1s 34us/step - loss: 1.2135 - val_loss: 4.3263\n",
      "Epoch 108/250\n",
      "20000/20000 [==============================] - 1s 36us/step - loss: 1.1557 - val_loss: 2.9393\n",
      "Epoch 109/250\n",
      "20000/20000 [==============================] - 1s 42us/step - loss: 0.9561 - val_loss: 3.0087\n",
      "Epoch 110/250\n",
      "20000/20000 [==============================] - 1s 35us/step - loss: 1.1136 - val_loss: 1.4828\n",
      "Epoch 111/250\n",
      "20000/20000 [==============================] - 1s 35us/step - loss: 1.1177 - val_loss: 1.5451\n",
      "Epoch 112/250\n",
      "20000/20000 [==============================] - 1s 40us/step - loss: 1.0230 - val_loss: 1.5570\n",
      "Epoch 113/250\n",
      "20000/20000 [==============================] - 1s 38us/step - loss: 1.2880 - val_loss: 3.6628\n",
      "Epoch 114/250\n",
      "20000/20000 [==============================] - 1s 37us/step - loss: 1.1436 - val_loss: 3.2633\n",
      "Epoch 115/250\n",
      "20000/20000 [==============================] - 1s 34us/step - loss: 1.0807 - val_loss: 1.9812\n",
      "Epoch 116/250\n",
      "20000/20000 [==============================] - 1s 42us/step - loss: 1.0697 - val_loss: 3.3685\n",
      "Epoch 117/250\n",
      "20000/20000 [==============================] - 1s 37us/step - loss: 1.1204 - val_loss: 1.0028\n",
      "Epoch 118/250\n",
      "20000/20000 [==============================] - 1s 36us/step - loss: 1.0100 - val_loss: 2.2441\n",
      "Epoch 119/250\n",
      "20000/20000 [==============================] - 1s 39us/step - loss: 0.9361 - val_loss: 2.8646\n",
      "Epoch 120/250\n",
      "20000/20000 [==============================] - 1s 40us/step - loss: 1.2876 - val_loss: 3.2603\n",
      "Epoch 121/250\n",
      "20000/20000 [==============================] - 1s 35us/step - loss: 0.9375 - val_loss: 1.1198\n",
      "Epoch 122/250\n",
      "20000/20000 [==============================] - 1s 35us/step - loss: 1.1551 - val_loss: 2.9318\n",
      "Epoch 123/250\n",
      "20000/20000 [==============================] - 1s 36us/step - loss: 1.1075 - val_loss: 1.3419\n",
      "Epoch 124/250\n",
      "20000/20000 [==============================] - 1s 41us/step - loss: 1.0292 - val_loss: 0.9893\n",
      "Epoch 125/250\n",
      "20000/20000 [==============================] - 1s 38us/step - loss: 1.0642 - val_loss: 1.4846\n",
      "Epoch 126/250\n",
      "20000/20000 [==============================] - 1s 34us/step - loss: 1.2344 - val_loss: 1.7215\n",
      "Epoch 127/250\n",
      "20000/20000 [==============================] - 1s 35us/step - loss: 1.0707 - val_loss: 2.4091\n",
      "Epoch 128/250\n",
      "20000/20000 [==============================] - 1s 38us/step - loss: 0.9353 - val_loss: 2.0451\n",
      "Epoch 129/250\n",
      "20000/20000 [==============================] - 1s 41us/step - loss: 1.0449 - val_loss: 1.7615\n",
      "Epoch 130/250\n",
      "20000/20000 [==============================] - 1s 36us/step - loss: 1.0803 - val_loss: 0.8866\n",
      "Epoch 131/250\n",
      "20000/20000 [==============================] - 1s 37us/step - loss: 1.1788 - val_loss: 1.7823\n",
      "Epoch 132/250\n",
      "20000/20000 [==============================] - 1s 38us/step - loss: 1.1964 - val_loss: 2.5523\n",
      "Epoch 133/250\n",
      "20000/20000 [==============================] - 1s 35us/step - loss: 1.0724 - val_loss: 1.0507\n",
      "Epoch 134/250\n",
      "20000/20000 [==============================] - 1s 37us/step - loss: 1.2056 - val_loss: 5.8663\n",
      "Epoch 135/250\n",
      "20000/20000 [==============================] - 1s 40us/step - loss: 0.9599 - val_loss: 8.0863\n",
      "Epoch 136/250\n",
      "20000/20000 [==============================] - 1s 37us/step - loss: 1.2144 - val_loss: 1.8714\n",
      "Epoch 137/250\n",
      "20000/20000 [==============================] - 1s 35us/step - loss: 1.2295 - val_loss: 3.7071\n",
      "Epoch 138/250\n",
      "20000/20000 [==============================] - 1s 35us/step - loss: 1.1295 - val_loss: 2.6810\n",
      "Epoch 139/250\n",
      "20000/20000 [==============================] - 1s 42us/step - loss: 1.1255 - val_loss: 1.7116\n",
      "Epoch 140/250\n",
      "20000/20000 [==============================] - 1s 36us/step - loss: 1.0676 - val_loss: 9.2246\n",
      "Epoch 141/250\n",
      "20000/20000 [==============================] - 1s 35us/step - loss: 1.1057 - val_loss: 11.2064\n",
      "Epoch 142/250\n",
      "20000/20000 [==============================] - 1s 36us/step - loss: 1.0386 - val_loss: 1.4941\n",
      "Epoch 143/250\n",
      "20000/20000 [==============================] - 1s 39us/step - loss: 1.0703 - val_loss: 1.8534\n",
      "Epoch 144/250\n",
      "20000/20000 [==============================] - 1s 37us/step - loss: 1.2081 - val_loss: 1.0617\n",
      "Epoch 145/250\n",
      "20000/20000 [==============================] - 1s 36us/step - loss: 1.0626 - val_loss: 1.4608\n",
      "Epoch 146/250\n",
      "20000/20000 [==============================] - 1s 36us/step - loss: 0.9677 - val_loss: 1.0331\n",
      "Epoch 147/250\n",
      "20000/20000 [==============================] - 1s 37us/step - loss: 0.9261 - val_loss: 1.8790\n",
      "Epoch 148/250\n",
      "20000/20000 [==============================] - 1s 42us/step - loss: 1.3306 - val_loss: 1.5123\n",
      "Epoch 149/250\n",
      "20000/20000 [==============================] - 1s 37us/step - loss: 1.1642 - val_loss: 7.5286\n",
      "Epoch 150/250\n",
      "20000/20000 [==============================] - 1s 35us/step - loss: 0.9357 - val_loss: 9.2297\n",
      "Epoch 151/250\n",
      "20000/20000 [==============================] - 1s 40us/step - loss: 1.3586 - val_loss: 4.5433\n",
      "Epoch 152/250\n",
      "20000/20000 [==============================] - 1s 37us/step - loss: 1.3362 - val_loss: 1.3635\n",
      "Epoch 153/250\n"
     ]
    },
    {
     "name": "stdout",
     "output_type": "stream",
     "text": [
      "20000/20000 [==============================] - 1s 36us/step - loss: 1.3873 - val_loss: 1.4436\n",
      "Epoch 154/250\n",
      "20000/20000 [==============================] - 1s 36us/step - loss: 0.9311 - val_loss: 0.8008\n",
      "Epoch 155/250\n",
      "20000/20000 [==============================] - 1s 39us/step - loss: 0.9655 - val_loss: 2.8280\n",
      "Epoch 156/250\n",
      "20000/20000 [==============================] - 1s 40us/step - loss: 1.1819 - val_loss: 5.6273\n",
      "Epoch 157/250\n",
      "20000/20000 [==============================] - 1s 35us/step - loss: 1.0922 - val_loss: 0.9435\n",
      "Epoch 158/250\n",
      "20000/20000 [==============================] - 1s 34us/step - loss: 0.9920 - val_loss: 3.0660\n",
      "Epoch 159/250\n",
      "20000/20000 [==============================] - 1s 37us/step - loss: 1.3681 - val_loss: 1.1394\n",
      "Epoch 160/250\n",
      "20000/20000 [==============================] - 1s 41us/step - loss: 1.0069 - val_loss: 1.3515\n",
      "Epoch 161/250\n",
      "20000/20000 [==============================] - 1s 36us/step - loss: 1.1154 - val_loss: 1.3872\n",
      "Epoch 162/250\n",
      "20000/20000 [==============================] - 1s 35us/step - loss: 1.0769 - val_loss: 1.3514\n",
      "Epoch 163/250\n",
      "20000/20000 [==============================] - 1s 36us/step - loss: 1.0756 - val_loss: 0.8456\n",
      "Epoch 164/250\n",
      "20000/20000 [==============================] - 1s 37us/step - loss: 0.9773 - val_loss: 12.5759\n",
      "Epoch 165/250\n",
      "20000/20000 [==============================] - 1s 39us/step - loss: 1.2603 - val_loss: 1.6952\n",
      "Epoch 166/250\n",
      "20000/20000 [==============================] - 1s 37us/step - loss: 1.2006 - val_loss: 1.9304\n",
      "Epoch 167/250\n",
      "20000/20000 [==============================] - 1s 36us/step - loss: 0.9276 - val_loss: 0.8609\n",
      "Epoch 168/250\n",
      "20000/20000 [==============================] - 1s 41us/step - loss: 1.0662 - val_loss: 2.3771\n",
      "Epoch 169/250\n",
      "20000/20000 [==============================] - 1s 38us/step - loss: 1.2231 - val_loss: 0.8220\n",
      "Epoch 170/250\n",
      "20000/20000 [==============================] - 1s 35us/step - loss: 1.0435 - val_loss: 1.1821\n",
      "Epoch 171/250\n",
      "20000/20000 [==============================] - 1s 36us/step - loss: 1.1727 - val_loss: 5.9612\n",
      "Epoch 172/250\n",
      "20000/20000 [==============================] - 1s 35us/step - loss: 1.3336 - val_loss: 4.5765\n",
      "Epoch 173/250\n",
      "20000/20000 [==============================] - 1s 38us/step - loss: 0.9721 - val_loss: 0.8983\n",
      "Epoch 174/250\n",
      "20000/20000 [==============================] - 1s 39us/step - loss: 1.0380 - val_loss: 0.8770\n",
      "Epoch 175/250\n",
      "20000/20000 [==============================] - 1s 36us/step - loss: 1.1040 - val_loss: 3.0676\n",
      "Epoch 176/250\n",
      "20000/20000 [==============================] - 1s 36us/step - loss: 1.2361 - val_loss: 2.1530\n",
      "Epoch 177/250\n",
      "20000/20000 [==============================] - 1s 37us/step - loss: 0.9062 - val_loss: 2.5115\n",
      "Epoch 178/250\n",
      "20000/20000 [==============================] - 1s 39us/step - loss: 1.0077 - val_loss: 1.0887\n",
      "Epoch 179/250\n",
      "20000/20000 [==============================] - 1s 36us/step - loss: 0.9956 - val_loss: 10.4624\n",
      "Epoch 180/250\n",
      "20000/20000 [==============================] - 1s 35us/step - loss: 1.2901 - val_loss: 2.3078\n",
      "Epoch 181/250\n",
      "20000/20000 [==============================] - 1s 37us/step - loss: 1.1893 - val_loss: 2.3280\n",
      "Epoch 182/250\n",
      "20000/20000 [==============================] - 1s 42us/step - loss: 1.1404 - val_loss: 2.6226\n",
      "Epoch 183/250\n",
      "20000/20000 [==============================] - 1s 36us/step - loss: 1.0394 - val_loss: 1.7786\n",
      "Epoch 184/250\n",
      "20000/20000 [==============================] - 1s 36us/step - loss: 1.0509 - val_loss: 1.3399\n",
      "Epoch 185/250\n",
      "20000/20000 [==============================] - 1s 38us/step - loss: 1.0170 - val_loss: 8.7350\n",
      "Epoch 186/250\n",
      "20000/20000 [==============================] - 1s 39us/step - loss: 1.2121 - val_loss: 6.1741\n",
      "Epoch 187/250\n",
      "20000/20000 [==============================] - 1s 36us/step - loss: 1.0952 - val_loss: 3.7454\n",
      "Epoch 188/250\n",
      "20000/20000 [==============================] - 1s 36us/step - loss: 1.0230 - val_loss: 2.7115\n",
      "Epoch 189/250\n",
      "20000/20000 [==============================] - 1s 39us/step - loss: 0.9753 - val_loss: 1.2448\n",
      "Epoch 190/250\n",
      "20000/20000 [==============================] - 1s 36us/step - loss: 0.9815 - val_loss: 0.9347\n",
      "Epoch 191/250\n",
      "20000/20000 [==============================] - 1s 34us/step - loss: 0.8955 - val_loss: 3.0410\n",
      "Epoch 192/250\n",
      "20000/20000 [==============================] - 1s 36us/step - loss: 0.9787 - val_loss: 0.9949\n",
      "Epoch 193/250\n",
      "20000/20000 [==============================] - 1s 42us/step - loss: 1.4258 - val_loss: 0.9147\n",
      "Epoch 194/250\n",
      "20000/20000 [==============================] - 1s 36us/step - loss: 0.8616 - val_loss: 5.9670\n",
      "Epoch 195/250\n",
      "20000/20000 [==============================] - 1s 34us/step - loss: 1.0555 - val_loss: 0.9662\n",
      "Epoch 196/250\n",
      "20000/20000 [==============================] - 1s 39us/step - loss: 0.8770 - val_loss: 5.7449\n",
      "Epoch 197/250\n",
      "20000/20000 [==============================] - 1s 40us/step - loss: 0.9760 - val_loss: 10.9249\n",
      "Epoch 198/250\n",
      "20000/20000 [==============================] - 1s 35us/step - loss: 0.9637 - val_loss: 16.2124\n",
      "Epoch 199/250\n",
      "20000/20000 [==============================] - 1s 35us/step - loss: 0.9469 - val_loss: 5.2884\n",
      "Epoch 200/250\n",
      "20000/20000 [==============================] - 1s 41us/step - loss: 1.0499 - val_loss: 11.2257\n",
      "Epoch 201/250\n",
      "20000/20000 [==============================] - 1s 36us/step - loss: 1.0014 - val_loss: 2.9628\n",
      "Epoch 202/250\n",
      "20000/20000 [==============================] - 1s 35us/step - loss: 1.0486 - val_loss: 2.7027\n",
      "Epoch 203/250\n",
      "20000/20000 [==============================] - 1s 37us/step - loss: 0.9574 - val_loss: 0.8722\n",
      "Epoch 204/250\n",
      "20000/20000 [==============================] - 1s 41us/step - loss: 0.9723 - val_loss: 0.9253\n",
      "Epoch 205/250\n",
      "20000/20000 [==============================] - 1s 37us/step - loss: 0.9345 - val_loss: 3.0198\n",
      "Epoch 206/250\n",
      "20000/20000 [==============================] - 1s 34us/step - loss: 1.2464 - val_loss: 2.0105\n",
      "Epoch 207/250\n",
      "20000/20000 [==============================] - 1s 39us/step - loss: 0.9409 - val_loss: 9.8497\n",
      "Epoch 208/250\n",
      "20000/20000 [==============================] - 1s 38us/step - loss: 0.9719 - val_loss: 1.5991\n",
      "Epoch 209/250\n",
      "20000/20000 [==============================] - 1s 35us/step - loss: 1.2182 - val_loss: 1.1075\n",
      "Epoch 210/250\n",
      "20000/20000 [==============================] - 1s 34us/step - loss: 1.0001 - val_loss: 2.8825\n",
      "Epoch 211/250\n",
      "20000/20000 [==============================] - 1s 34us/step - loss: 1.0988 - val_loss: 1.2191\n",
      "Epoch 212/250\n",
      "20000/20000 [==============================] - 1s 34us/step - loss: 0.8128 - val_loss: 3.0392\n",
      "Epoch 213/250\n",
      "20000/20000 [==============================] - 1s 37us/step - loss: 0.8497 - val_loss: 1.7384\n",
      "Epoch 214/250\n",
      "20000/20000 [==============================] - 1s 37us/step - loss: 0.8201 - val_loss: 8.5776\n",
      "Epoch 215/250\n",
      "20000/20000 [==============================] - 1s 36us/step - loss: 0.8724 - val_loss: 0.8149\n",
      "Epoch 216/250\n",
      "20000/20000 [==============================] - 1s 36us/step - loss: 0.9219 - val_loss: 0.8186\n",
      "Epoch 217/250\n",
      "20000/20000 [==============================] - 1s 39us/step - loss: 1.1386 - val_loss: 2.0461\n",
      "Epoch 218/250\n",
      "20000/20000 [==============================] - 1s 36us/step - loss: 0.9826 - val_loss: 2.2074\n",
      "Epoch 219/250\n",
      "20000/20000 [==============================] - 1s 36us/step - loss: 0.9621 - val_loss: 1.7356\n",
      "Epoch 220/250\n",
      "20000/20000 [==============================] - 1s 41us/step - loss: 0.9270 - val_loss: 2.6316\n",
      "Epoch 221/250\n",
      "20000/20000 [==============================] - 1s 38us/step - loss: 0.8653 - val_loss: 1.7148\n",
      "Epoch 222/250\n",
      "20000/20000 [==============================] - 1s 36us/step - loss: 1.0902 - val_loss: 4.9334\n",
      "Epoch 223/250\n",
      "20000/20000 [==============================] - 1s 37us/step - loss: 1.0472 - val_loss: 4.9090\n",
      "Epoch 224/250\n",
      "20000/20000 [==============================] - 1s 41us/step - loss: 0.9972 - val_loss: 6.7700\n",
      "Epoch 225/250\n",
      "20000/20000 [==============================] - 1s 35us/step - loss: 1.0131 - val_loss: 7.2046\n",
      "Epoch 226/250\n",
      "20000/20000 [==============================] - 1s 38us/step - loss: 0.8748 - val_loss: 0.7450\n",
      "Epoch 227/250\n",
      "20000/20000 [==============================] - 1s 41us/step - loss: 1.1504 - val_loss: 1.1208\n",
      "Epoch 228/250\n",
      "20000/20000 [==============================] - 1s 35us/step - loss: 0.9474 - val_loss: 3.4985\n"
     ]
    },
    {
     "name": "stdout",
     "output_type": "stream",
     "text": [
      "Epoch 229/250\n",
      "20000/20000 [==============================] - 1s 35us/step - loss: 0.9342 - val_loss: 1.3029\n",
      "Epoch 230/250\n",
      "20000/20000 [==============================] - 1s 34us/step - loss: 0.7321 - val_loss: 4.1684\n",
      "Epoch 231/250\n",
      "20000/20000 [==============================] - 1s 36us/step - loss: 0.8253 - val_loss: 0.8410\n",
      "Epoch 232/250\n",
      "20000/20000 [==============================] - 1s 37us/step - loss: 0.6617 - val_loss: 1.5744\n",
      "Epoch 233/250\n",
      "20000/20000 [==============================] - 1s 39us/step - loss: 0.7966 - val_loss: 0.9998\n",
      "Epoch 234/250\n",
      "20000/20000 [==============================] - 1s 35us/step - loss: 0.7381 - val_loss: 2.8224\n",
      "Epoch 235/250\n",
      "20000/20000 [==============================] - 1s 37us/step - loss: 0.8873 - val_loss: 2.5784\n",
      "Epoch 236/250\n",
      "20000/20000 [==============================] - 1s 39us/step - loss: 0.8779 - val_loss: 0.8888\n",
      "Epoch 237/250\n",
      "20000/20000 [==============================] - 1s 39us/step - loss: 0.9002 - val_loss: 2.1241\n",
      "Epoch 238/250\n",
      "20000/20000 [==============================] - 1s 31us/step - loss: 0.8570 - val_loss: 5.0448\n",
      "Epoch 239/250\n",
      "20000/20000 [==============================] - 1s 31us/step - loss: 0.8079 - val_loss: 6.3985\n",
      "Epoch 240/250\n",
      "20000/20000 [==============================] - 1s 33us/step - loss: 0.7211 - val_loss: 4.6038\n",
      "Epoch 241/250\n",
      "20000/20000 [==============================] - 1s 38us/step - loss: 0.9600 - val_loss: 2.9599\n",
      "Epoch 242/250\n",
      "20000/20000 [==============================] - 1s 39us/step - loss: 0.8527 - val_loss: 0.9963\n",
      "Epoch 243/250\n",
      "20000/20000 [==============================] - 1s 35us/step - loss: 1.0505 - val_loss: 5.9722\n",
      "Epoch 244/250\n",
      "20000/20000 [==============================] - 1s 36us/step - loss: 0.8160 - val_loss: 4.4748\n",
      "Epoch 245/250\n",
      "20000/20000 [==============================] - 1s 40us/step - loss: 0.6992 - val_loss: 1.0130\n",
      "Epoch 246/250\n",
      "20000/20000 [==============================] - 1s 37us/step - loss: 0.8740 - val_loss: 3.0040\n",
      "Epoch 247/250\n",
      "20000/20000 [==============================] - 1s 35us/step - loss: 0.8856 - val_loss: 3.3634\n",
      "Epoch 248/250\n",
      "20000/20000 [==============================] - 1s 36us/step - loss: 0.8402 - val_loss: 0.8950\n",
      "Epoch 249/250\n",
      "20000/20000 [==============================] - 1s 41us/step - loss: 0.7868 - val_loss: 2.4184\n",
      "Epoch 250/250\n",
      "20000/20000 [==============================] - 1s 35us/step - loss: 0.8811 - val_loss: 0.9222\n"
     ]
    }
   ],
   "source": [
    "history = model.fit(X_train, Y_train, batch_size=batch_size, epochs=nb_epoch,\n",
    "          verbose=1, validation_data=(X_val, Y_val),\n",
    "                    callbacks=[tensorboard])"
   ]
  },
  {
   "cell_type": "code",
   "execution_count": 14,
   "metadata": {},
   "outputs": [],
   "source": [
    "model.save_weights('../redes_CNN_R/defs/CNN_regression_R_{}{}{}{}{}'.format(nb_epoch,batch_size,experimento,algoritmo,datetime.now()))"
   ]
  },
  {
   "cell_type": "code",
   "execution_count": 15,
   "metadata": {},
   "outputs": [
    {
     "name": "stdout",
     "output_type": "stream",
     "text": [
      "Test mse: 0.868833304643631\n",
      "[166.55579 191.33263 174.13092 180.46782 166.57196 173.41335 164.14984\n",
      " 192.428   192.78888 167.70648]\n",
      "[167.54290689 191.87006942 174.66517941 181.1626643  166.95069104\n",
      " 173.91936793 165.80804673 194.89500483 193.64193061 168.46273077]\n",
      "[0.98712076 0.53744308 0.534259   0.69484509 0.37873059 0.50602259\n",
      " 1.65820542 2.46701106 0.85305121 0.75624883]\n"
     ]
    }
   ],
   "source": [
    "score = model.evaluate(X_test, Y_test, verbose=0)\n",
    "print('Test mse:', score)\n",
    "# print('Test mae:', score[1])\n",
    "Y_test_predicted=model.predict(X_test)\n",
    "print(Y_test_predicted[:10].flatten())\n",
    "print(Y_test[:10])\n",
    "error_prediction=Y_test-Y_test_predicted.flatten()\n",
    "\n",
    "print(error_prediction[:10])"
   ]
  },
  {
   "cell_type": "code",
   "execution_count": 16,
   "metadata": {},
   "outputs": [
    {
     "data": {
      "image/png": "[encoded data removed]",
      "text/plain": [
       "<Figure size 432x288 with 1 Axes>"
      ]
     },
     "metadata": {},
     "output_type": "display_data"
    }
   ],
   "source": [
    "plt.plot(history.history['loss'])\n",
    "plt.plot(history.history['val_loss'])\n",
    "plt.title('model error')\n",
    "plt.ylabel('error')\n",
    "plt.xlabel('epoch')\n",
    "plt.legend(['train', 'test'], loc='upper left')\n",
    "plt.show()"
   ]
  },
  {
   "cell_type": "code",
   "execution_count": 17,
   "metadata": {
    "scrolled": true
   },
   "outputs": [],
   "source": [
    "#print(error_prediction)"
   ]
  },
  {
   "cell_type": "code",
   "execution_count": 18,
   "metadata": {
    "scrolled": true
   },
   "outputs": [
    {
     "name": "stderr",
     "output_type": "stream",
     "text": [
      "/home/rgadea/anaconda3/envs/tensorflow/lib/python3.6/site-packages/matplotlib/axes/_axes.py:6462: UserWarning: The 'normed' kwarg is deprecated, and has been replaced by the 'density' kwarg.\n",
      "  warnings.warn(\"The 'normed' kwarg is deprecated, and has been \"\n"
     ]
    },
    {
     "data": {
      "image/png": "[encoded data removed]",
      "text/plain": [
       "<Figure size 432x288 with 1 Axes>"
      ]
     },
     "metadata": {},
     "output_type": "display_data"
    },
    {
     "name": "stdout",
     "output_type": "stream",
     "text": [
      "(400,)\n",
      "(401,)\n",
      "[[Model]]\n",
      "    Model(gaussian)\n",
      "[[Fit Statistics]]\n",
      "    # fitting method   = leastsq\n",
      "    # function evals   = 25\n",
      "    # data points      = 400\n",
      "    # variables        = 3\n",
      "    chi-square         = 48755.8818\n",
      "    reduced chi-square = 122.810785\n",
      "    Akaike info crit   = 1927.24663\n",
      "    Bayesian info crit = 1939.22102\n",
      "[[Variables]]\n",
      "    amp:  801.014726 +/- 3.29163842 (0.41%) (init = 1000)\n",
      "    cen:  0.29733463 +/- 0.00323993 (1.09%) (init = 0)\n",
      "    wid:  0.96559803 +/- 0.00458195 (0.47%) (init = 1)\n",
      "[[Correlations]] (unreported correlations are < 0.100)\n",
      "    C(amp, wid) = -0.577\n",
      "\n"
     ]
    },
    {
     "data": {
      "image/png": "[encoded data removed]",
      "text/plain": [
       "<Figure size 432x288 with 1 Axes>"
      ]
     },
     "metadata": {},
     "output_type": "display_data"
    }
   ],
   "source": [
    "\n",
    "n, bins, patches = plt.hist(error_prediction, 400, normed=0, facecolor='green', alpha=0.75)\n",
    "plt.title(\"Histogram with 400 bins\")\n",
    "plt.show()\n",
    "x=bins[:400]\n",
    "y=n\n",
    "print(n.shape)\n",
    "print(bins.shape)\n",
    "from numpy import exp, loadtxt, pi, sqrt, log\n",
    "\n",
    "from lmfit import Model\n",
    "def gaussian(x, amp, cen, wid):\n",
    "    \"\"\"1-d gaussian: gaussian(x, amp, cen, wid)\"\"\"\n",
    "    return amp * exp(-((x-cen)/wid)**2 )\n",
    "\n",
    "\n",
    "gmodel = Model(gaussian)\n",
    "result = gmodel.fit(y, x=x, amp=1000, cen=0, wid=1)\n",
    "\n",
    "print(result.fit_report())\n",
    "\n",
    "plt.plot(x, y, 'bo')\n",
    "plt.plot(x, result.init_fit, 'k--')\n",
    "plt.plot(x, result.best_fit, 'r-')\n",
    "plt.show()\n",
    "\n",
    "\n",
    "\n"
   ]
  },
  {
   "cell_type": "code",
   "execution_count": 19,
   "metadata": {},
   "outputs": [],
   "source": [
    "FWHM=result.params['wid'].value*2*sqrt(log(2))"
   ]
  },
  {
   "cell_type": "code",
   "execution_count": 20,
   "metadata": {},
   "outputs": [
    {
     "name": "stdout",
     "output_type": "stream",
     "text": [
      "1.6078261764967587\n"
     ]
    }
   ],
   "source": [
    "print(FWHM)"
   ]
  },
  {
   "cell_type": "code",
   "execution_count": 21,
   "metadata": {},
   "outputs": [
    {
     "name": "stdout",
     "output_type": "stream",
     "text": [
      "[[166.55579]\n",
      " [166.57196]\n",
      " [164.14984]\n",
      " ...\n",
      " [165.36554]\n",
      " [165.12367]\n",
      " [165.43266]]\n"
     ]
    },
    {
     "name": "stderr",
     "output_type": "stream",
     "text": [
      "/home/rgadea/anaconda3/envs/tensorflow/lib/python3.6/site-packages/matplotlib/axes/_axes.py:6462: UserWarning: The 'normed' kwarg is deprecated, and has been replaced by the 'density' kwarg.\n",
      "  warnings.warn(\"The 'normed' kwarg is deprecated, and has been \"\n"
     ]
    },
    {
     "name": "stdout",
     "output_type": "stream",
     "text": [
      "1.9759221420204107\n"
     ]
    },
    {
     "data": {
      "image/png": "[encoded data removed]",
      "text/plain": [
       "<Figure size 432x288 with 1 Axes>"
      ]
     },
     "metadata": {},
     "output_type": "display_data"
    }
   ],
   "source": [
    "Y_test_bin0_predicted=model.predict(X_test_bin0)\n",
    "print(Y_test_bin0_predicted)\n",
    "error_prediction_bin0=Y_test_bin0-Y_test_bin0_predicted.flatten()\n",
    "n, bins, patches = plt.hist(error_prediction_bin0, 400, normed=0, facecolor='green', alpha=0.75)\n",
    "\n",
    "x=bins[:400]\n",
    "y=n\n",
    "\n",
    "gmodel = Model(gaussian)\n",
    "result = gmodel.fit(y, x=x, amp=1000, cen=0, wid=1)\n",
    "FWHM_bin0=result.params['wid'].value*2*sqrt(log(2))\n",
    "print(FWHM_bin0)"
   ]
  },
  {
   "cell_type": "code",
   "execution_count": 22,
   "metadata": {},
   "outputs": [
    {
     "name": "stderr",
     "output_type": "stream",
     "text": [
      "/home/rgadea/anaconda3/envs/tensorflow/lib/python3.6/site-packages/matplotlib/axes/_axes.py:6462: UserWarning: The 'normed' kwarg is deprecated, and has been replaced by the 'density' kwarg.\n",
      "  warnings.warn(\"The 'normed' kwarg is deprecated, and has been \"\n"
     ]
    },
    {
     "name": "stdout",
     "output_type": "stream",
     "text": [
      "1.4823211415870494\n"
     ]
    },
    {
     "data": {
      "image/png": "[encoded data removed]",
      "text/plain": [
       "<Figure size 432x288 with 1 Axes>"
      ]
     },
     "metadata": {},
     "output_type": "display_data"
    }
   ],
   "source": [
    "Y_test_bin1_predicted=model.predict(X_test_bin1)\n",
    "#print(Y_test_bin1_predicted)\n",
    "error_prediction_bin1=Y_test_bin1-Y_test_bin1_predicted.flatten()\n",
    "n, bins, patches = plt.hist(error_prediction_bin1, 400, normed=0, facecolor='green', alpha=0.75)\n",
    "\n",
    "x=bins[:400]\n",
    "y=n\n",
    "\n",
    "gmodel = Model(gaussian)\n",
    "result = gmodel.fit(y, x=x, amp=1000, cen=0, wid=1)\n",
    "FWHM_bin1=result.params['wid'].value*2*sqrt(log(2))\n",
    "print(FWHM_bin1)"
   ]
  },
  {
   "cell_type": "code",
   "execution_count": 23,
   "metadata": {
    "scrolled": true
   },
   "outputs": [
    {
     "name": "stderr",
     "output_type": "stream",
     "text": [
      "/home/rgadea/anaconda3/envs/tensorflow/lib/python3.6/site-packages/matplotlib/axes/_axes.py:6462: UserWarning: The 'normed' kwarg is deprecated, and has been replaced by the 'density' kwarg.\n",
      "  warnings.warn(\"The 'normed' kwarg is deprecated, and has been \"\n"
     ]
    },
    {
     "name": "stdout",
     "output_type": "stream",
     "text": [
      "1.149213734348712\n"
     ]
    },
    {
     "data": {
      "image/png": "[encoded data removed]",
      "text/plain": [
       "<Figure size 432x288 with 1 Axes>"
      ]
     },
     "metadata": {},
     "output_type": "display_data"
    }
   ],
   "source": [
    "Y_test_bin2_predicted=model.predict(X_test_bin2)\n",
    "#print(Y_test_bin2_predicted)\n",
    "error_prediction_bin2=Y_test_bin2-Y_test_bin2_predicted.flatten()\n",
    "n, bins, patches = plt.hist(error_prediction_bin2, 400, normed=0, facecolor='green', alpha=0.75)\n",
    "\n",
    "x=bins[:400]\n",
    "y=n\n",
    "\n",
    "gmodel = Model(gaussian)\n",
    "result = gmodel.fit(y, x=x, amp=1000, cen=0, wid=1)\n",
    "FWHM_bin2=result.params['wid'].value*2*sqrt(log(2))\n",
    "print(FWHM_bin2)"
   ]
  },
  {
   "cell_type": "code",
   "execution_count": 24,
   "metadata": {
    "scrolled": true
   },
   "outputs": [
    {
     "name": "stderr",
     "output_type": "stream",
     "text": [
      "/home/rgadea/anaconda3/envs/tensorflow/lib/python3.6/site-packages/matplotlib/axes/_axes.py:6462: UserWarning: The 'normed' kwarg is deprecated, and has been replaced by the 'density' kwarg.\n",
      "  warnings.warn(\"The 'normed' kwarg is deprecated, and has been \"\n"
     ]
    },
    {
     "name": "stdout",
     "output_type": "stream",
     "text": [
      "1.0892626443717939\n"
     ]
    },
    {
     "data": {
      "image/png": "[encoded data removed]",
      "text/plain": [
       "<Figure size 432x288 with 1 Axes>"
      ]
     },
     "metadata": {},
     "output_type": "display_data"
    }
   ],
   "source": [
    "Y_test_bin3_predicted=model.predict(X_test_bin3)\n",
    "#print(Y_test_bin3_predicted)\n",
    "error_prediction_bin3=Y_test_bin3-Y_test_bin3_predicted.flatten()\n",
    "n, bins, patches = plt.hist(error_prediction_bin3, 400, normed=0, facecolor='green', alpha=0.75)\n",
    "\n",
    "x=bins[:400]\n",
    "y=n\n",
    "\n",
    "gmodel = Model(gaussian)\n",
    "result = gmodel.fit(y, x=x, amp=1000, cen=0, wid=1)\n",
    "FWHM_bin3=result.params['wid'].value*2*sqrt(log(2))\n",
    "print(FWHM_bin3)"
   ]
  },
  {
   "cell_type": "code",
   "execution_count": 25,
   "metadata": {
    "scrolled": true
   },
   "outputs": [
    {
     "name": "stderr",
     "output_type": "stream",
     "text": [
      "/home/rgadea/anaconda3/envs/tensorflow/lib/python3.6/site-packages/matplotlib/axes/_axes.py:6462: UserWarning: The 'normed' kwarg is deprecated, and has been replaced by the 'density' kwarg.\n",
      "  warnings.warn(\"The 'normed' kwarg is deprecated, and has been \"\n"
     ]
    },
    {
     "name": "stdout",
     "output_type": "stream",
     "text": [
      "1.597488294823395\n",
      "1.0892626443717939\n",
      "1.149213734348712\n",
      "1.4823211415870494\n",
      "1.9759221420204107\n"
     ]
    },
    {
     "data": {
      "image/png": "[encoded data removed]",
      "text/plain": [
       "<Figure size 432x288 with 1 Axes>"
      ]
     },
     "metadata": {},
     "output_type": "display_data"
    }
   ],
   "source": [
    "Y_test_bin4_predicted=model.predict(X_test_bin4)\n",
    "#print(Y_test_bin4_predicted)\n",
    "error_prediction_bin4=Y_test_bin4-Y_test_bin4_predicted.flatten()\n",
    "n, bins, patches = plt.hist(error_prediction_bin4, 400, normed=0, facecolor='green', alpha=0.75)\n",
    "\n",
    "x=bins[:400]\n",
    "y=n\n",
    "\n",
    "gmodel = Model(gaussian)\n",
    "result = gmodel.fit(y, x=x, amp=1000, cen=0, wid=1)\n",
    "FWHM_bin4=result.params['wid'].value*2*sqrt(log(2))\n",
    "print(FWHM_bin4)\n",
    "print(FWHM_bin3)\n",
    "print(FWHM_bin2)\n",
    "print(FWHM_bin1)\n",
    "print(FWHM_bin0)"
   ]
  },
  {
   "cell_type": "code",
   "execution_count": 26,
   "metadata": {},
   "outputs": [
    {
     "name": "stdout",
     "output_type": "stream",
     "text": [
      "(20000,)\n",
      "(20000,)\n"
     ]
    }
   ],
   "source": [
    "# veamosd1 =photodefbox2_todo_fil1_e[:,-9]\n",
    "# veamosd2 =[photodefbox2_todo_fil3_e(:,end-3);photodefbox2_todo_fil4_e(:,end-3)];\n",
    "# veamosen1 =photodefbox2_todo_fil1_e[:,-11]\n",
    "veamoser1=conjunto_datos[tamanyo_tr+tamanyo_val:numero_muestras,-1]\n",
    "print(veamoser1.shape)\n",
    "print(error_prediction.shape)\n",
    "# veamosd1 =np.concatenate((photodefbox2_todo_fil1_e[:,-9],photodefbox2_todo_fil2_e[:,-9]),axis=0);\n",
    "# # veerror_predictionsd2 =[photodefbox2_todo_fil3_e(:,end-3);photodefbox2_todo_fil4_e(:,end-3)];\n",
    "# veamosen1 =np.concatenate((photodefbox2_todo_fil1_e[:,-11],photodefbox2_todo_fil2_e[:,-11]),axis=0);\n",
    "# veamoser1=np.concatenate((photodefbox2_todo_fil1_e[:,-1],photodefbox2_todo_fil2_e[:,-1]),axis=0);"
   ]
  },
  {
   "cell_type": "markdown",
   "metadata": {},
   "source": [
    "Veamos ahora los histogramnas 2d que nos interesan"
   ]
  },
  {
   "cell_type": "code",
   "execution_count": 27,
   "metadata": {},
   "outputs": [
    {
     "data": {
      "image/png": "[encoded data removed]",
      "text/plain": [
       "<Figure size 1440x576 with 1 Axes>"
      ]
     },
     "metadata": {},
     "output_type": "display_data"
    },
    {
     "data": {
      "image/png": "[encoded data removed]",
      "text/plain": [
       "<Figure size 1440x576 with 2 Axes>"
      ]
     },
     "metadata": {},
     "output_type": "display_data"
    }
   ],
   "source": [
    "\n",
    "plt.figure(figsize=(20, 8))\n",
    "plt.hist(veamoser1, bins=100, range=(0,10))\n",
    "\n",
    "plt.figure(figsize=(20, 8))\n",
    "h1=plt.hist2d(veamoser1, error_prediction, bins=100,range=[(0,1.5),(0,6.6)])\n",
    "plt.colorbar(h1[3])\n",
    "plt.show()\n",
    "\n",
    "# plt.show()\n",
    "# plt.figure(figsize=(20, 8))\n",
    "# h2=plt.hist2d(veamoser1,veamosd1, bins=50, range=[(0,0.6),(0,0.6)])\n",
    "# plt.colorbar(h2[3])\n",
    "# plt.show()\n",
    "\n",
    "# plt.figure(figsize=(20, 8))\n",
    "# h3=plt.hist2d(veamoser1,veamosen1, bins=100, range=[(0,0.5),(0,0.5)])\n",
    "# plt.colorbar(h3[3])\n",
    "# plt.show()"
   ]
  },
  {
   "cell_type": "code",
   "execution_count": null,
   "metadata": {},
   "outputs": [],
   "source": []
  }
 ],
 "metadata": {
  "anaconda-cloud": {},
  "kernelspec": {
   "display_name": "Python [conda env:tensorflow]",
   "language": "python",
   "name": "conda-env-tensorflow-py"
  },
  "language_info": {
   "codemirror_mode": {
    "name": "ipython",
    "version": 3
   },
   "file_extension": ".py",
   "mimetype": "text/x-python",
   "name": "python",
   "nbconvert_exporter": "python",
   "pygments_lexer": "ipython3",
   "version": "3.6.5"
  },
  "varInspector": {
   "cols": {
    "lenName": 16,
    "lenType": 16,
    "lenVar": 40
   },
   "kernels_config": {
    "python": {
     "delete_cmd_postfix": "",
     "delete_cmd_prefix": "del ",
     "library": "var_list.py",
     "varRefreshCmd": "print(var_dic_list())"
    },
    "r": {
     "delete_cmd_postfix": ") ",
     "delete_cmd_prefix": "rm(",
     "library": "var_list.r",
     "varRefreshCmd": "cat(var_dic_list()) "
    }
   },
   "position": {
    "height": "495px",
    "left": "909px",
    "right": "57px",
    "top": "246px",
    "width": "800px"
   },
   "types_to_exclude": [
    "module",
    "function",
    "builtin_function_or_method",
    "instance",
    "_Feature"
   ],
   "window_display": false
  }
 },
 "nbformat": 4,
 "nbformat_minor": 1
}
