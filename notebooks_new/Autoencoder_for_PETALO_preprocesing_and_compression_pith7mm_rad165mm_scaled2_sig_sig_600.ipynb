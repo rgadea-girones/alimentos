{
 "cells": [
  {
   "cell_type": "markdown",
   "metadata": {},
   "source": [
    "# Simple AUTOENCODER for PETALO\n",
    "\n",
    "Esta red la vamos a utilizar para obtener el radio "
   ]
  },
  {
   "cell_type": "code",
   "execution_count": 1,
   "metadata": {},
   "outputs": [
    {
     "name": "stdout",
     "output_type": "stream",
     "text": [
      "['', '/home/rgadea3/anaconda3/envs/tensorflow/lib/python36.zip', '/home/rgadea3/anaconda3/envs/tensorflow/lib/python3.6', '/home/rgadea3/anaconda3/envs/tensorflow/lib/python3.6/lib-dynload', '/home/rgadea3/anaconda3/envs/tensorflow/lib/python3.6/site-packages', '/home/rgadea3/anaconda3/envs/tensorflow/lib/python3.6/site-packages/IPython/extensions', '/home/rgadea3/.ipython']\n"
     ]
    },
    {
     "name": "stderr",
     "output_type": "stream",
     "text": [
      "Using TensorFlow backend.\n"
     ]
    }
   ],
   "source": [
    "import numpy as np\n",
    "#np.random.seed(1337)  # for reproducibility\n",
    "from time import time\n",
    "from datetime import datetime\n",
    "from sklearn import preprocessing\n",
    "import sys\n",
    "print(sys.path)\n",
    "sys.path.append(\"/home/rgadea/lmfit-py/\")\n",
    "import seaborn as sns\n",
    "from keras.datasets import mnist\n",
    "from keras.models import Model, Sequential\n",
    "from keras.layers import Input, Dense, Dropout, Activation, Flatten\n",
    "from keras.layers import Conv2D, MaxPooling2D,BatchNormalization\n",
    "from keras.callbacks import TensorBoard, EarlyStopping, ModelCheckpoint\n",
    "from keras.utils import np_utils\n",
    "from keras import regularizers\n",
    "from math import floor\n",
    "from lmfit.models import  GaussianModel\n",
    "import matplotlib.pyplot as plt"
   ]
  },
  {
   "cell_type": "markdown",
   "metadata": {},
   "source": [
    "## Vamos introducir los datos de petalo preprocesados en matlab\n"
   ]
  },
  {
   "cell_type": "code",
   "execution_count": 2,
   "metadata": {},
   "outputs": [
    {
     "data": {
      "text/plain": [
       "(50000, 3517)"
      ]
     },
     "execution_count": 2,
     "metadata": {},
     "output_type": "execute_result"
    }
   ],
   "source": [
    "import scipy.io as sio\n",
    "import hdf5storage\n",
    "datos_matlab = hdf5storage.loadmat('../datos_junio_2019/conjunto_entrenamiento_junio_2019_pitch7mm_rad165mm_29_total.mat')\n",
    "conjunto_datos= datos_matlab.get('photodefbox2_todo')\n",
    "conjunto_datos.shape"
   ]
  },
  {
   "cell_type": "code",
   "execution_count": 3,
   "metadata": {},
   "outputs": [
    {
     "name": "stdout",
     "output_type": "stream",
     "text": [
      "50000\n",
      "conjunto_datos shape: (50000, 3517)\n",
      "5000\n",
      "40000\n",
      "5000\n",
      "(25000, 600)\n",
      "(25000, 600)\n",
      "(5000, 500)\n",
      "(5000, 500)\n"
     ]
    }
   ],
   "source": [
    "L1A=5;\n",
    "# hay tres L1 con 576 sensores (36*16)\n",
    "L1B=1;\n",
    "# hay dos L1 con 640 sensores (40*16)\n",
    "img_rows=20\n",
    "img_colsA=30\n",
    "img_colsB=25\n",
    "img_cols=30\n",
    "input_output_dim_A=img_rows*img_colsA\n",
    "input_output_dim_B=img_rows*img_colsB\n",
    "ideaA=np.zeros((L1A,input_output_dim_A))\n",
    "ideaB=np.zeros((L1B,input_output_dim_B)) \n",
    "numero_muestras=conjunto_datos.shape[0]\n",
    "print(numero_muestras)\n",
    "print('conjunto_datos shape:', conjunto_datos.shape)\n",
    "\n",
    "tr_size=10\n",
    "val_size=80\n",
    "test_size=100-val_size-tr_size\n",
    "\n",
    "tamanyo_tr=floor(tr_size*numero_muestras/100)\n",
    "tamanyo_val=floor(val_size*numero_muestras/100)\n",
    "tamanyo_test=numero_muestras-tamanyo_tr-tamanyo_val\n",
    "print(tamanyo_tr)\n",
    "print(tamanyo_val)\n",
    "print(tamanyo_test)\n",
    "\n",
    "\n",
    "X_train=conjunto_datos[:tamanyo_tr,:]\n",
    "X_val=conjunto_datos[tamanyo_tr:tamanyo_tr+tamanyo_val,:]\n",
    "X_test=conjunto_datos[tamanyo_tr+tamanyo_val:numero_muestras,:]\n",
    "\n",
    "\n",
    "x_train = X_train\n",
    "x_test = X_test\n",
    "\n",
    "datos_trA=np.zeros((X_train.shape[0]*L1A,input_output_dim_A))\n",
    "for i in range(x_train.shape[0]):\n",
    "    for k in range(L1A):\n",
    "        ideaA[k,:]=x_train[i,6+k*input_output_dim_A:6+k*input_output_dim_A+input_output_dim_A]\n",
    "    datos_trA[(i)*L1A :(i+1)*L1A,:] = ideaA  \n",
    " \n",
    "x_trainA = datos_trA;\n",
    "\n",
    "datos_testA=np.zeros((X_test.shape[0]*L1A,input_output_dim_A))\n",
    "for i in range(x_test.shape[0]):\n",
    "    for k in range(L1A):\n",
    "        ideaA[k,:]=x_test[i,6+k*input_output_dim_A:6+k*input_output_dim_A+input_output_dim_A]\n",
    "    datos_testA[(i)*L1A :(i+1)*L1A,:] = ideaA  \n",
    " \n",
    "x_testA = datos_testA;\n",
    "\n",
    "\n",
    "\n",
    "\n",
    "\n",
    "print(x_trainA.shape)\n",
    "print(x_testA.shape)\n",
    "\n",
    "\n",
    "datos_trB=np.zeros((X_train.shape[0]*L1B,input_output_dim_B))\n",
    "for i in range(x_train.shape[0]):\n",
    "    for k in range(L1B):\n",
    "        ideaB[k,:]=x_train[i,6+L1A*input_output_dim_A+k*input_output_dim_B:6+L1A*input_output_dim_A+(k+1)*input_output_dim_B]\n",
    "    datos_trB[(i)*L1B :(i+1)*L1B,:] = ideaB  \n",
    " \n",
    "x_trainB = datos_trB;\n",
    "\n",
    "datos_testB=np.zeros((X_test.shape[0]*L1B,input_output_dim_B))\n",
    "for i in range(x_test.shape[0]):\n",
    "    for k in range(L1B):\n",
    "        ideaB[k,:]=x_test[i,6+L1A*input_output_dim_A+k*input_output_dim_B:6+L1A*input_output_dim_A+(k+1)*input_output_dim_B]\n",
    "    datos_testB[(i)*L1B :(i+1)*L1B,:] = ideaB  \n",
    " \n",
    "x_testB = datos_testB;\n",
    "\n",
    "\n",
    "\n",
    "\n",
    "\n",
    "print(x_trainB.shape)\n",
    "print(x_testB.shape)\n"
   ]
  },
  {
   "cell_type": "markdown",
   "metadata": {},
   "source": [
    "## Network parameters:"
   ]
  },
  {
   "cell_type": "code",
   "execution_count": 4,
   "metadata": {},
   "outputs": [],
   "source": [
    "use_regularizer = True\n",
    "my_regularizer = None\n",
    "my_epochs = 50\n",
    "hidden_size=600\n",
    "features_path = 'simple_autoe_features.pickle'\n",
    "labels_path = 'simple_autoe_labels.pickle'\n",
    "\n",
    "if use_regularizer:\n",
    "    # add a sparsity constraint on the encoded representations\n",
    "    # note use of 10e-5 leads to blurred results\n",
    "    my_regularizer = regularizers.l2(0.001)\n",
    "    # and a larger number of epochs as the added regularization the model\n",
    "    # is less likely to overfit and can be trained longer\n",
    "    my_epochs = 100\n",
    "    features_path = 'sparse_autoe_features.pickle'\n",
    "    labels_path = 'sparse_autoe_labels.pickle'\n",
    "\n",
    "   \n",
    "    \n",
    "encoding_dimA = hidden_size  # 32 floats -> compression of factor 24.5, assuming the input is 784 floats\n",
    "\n",
    "\n",
    "# this is our input placeholder\n",
    "\n",
    "input_imgA = Input(shape=(img_rows*img_colsA,))\n",
    "\n",
    "# \"encoded\" is the encoded representation of the input\n",
    "encodedA = Dense(encoding_dimA, activation='sigmoid', use_bias=False,bias_initializer='random_uniform')(input_imgA)\n",
    "# \"decoded\" is the lossy reconstruction of the input\n",
    "decodedA = Dense(img_colsA*img_rows, activation='linear',use_bias=True,bias_initializer='random_uniform')(encodedA)\n",
    "\n",
    "# this model maps an input to its reconstruction\n",
    "\n",
    "\n",
    "#autoencoder=Sequential([\n",
    "#    Dense(encoding_dim, kernel_regularizer=regularizers.l2(0.001), use_bias=True,bias_initializer='random_uniform',input_shape=(640,)),\n",
    "#    Activation('sigmoid'),\n",
    "#    Dense(img_cols*img_rows, use_bias=True,bias_initializer='random_uniform'),\n",
    "#    Activation('linear'),\n",
    "#])\n",
    "\n",
    "autoencoderA = Model(input_imgA, decodedA)\n",
    "\n",
    "encoding_dimB = hidden_size  # 32 floats -> compression of factor 24.5, assuming the input is 784 floats\n",
    "\n",
    "\n",
    "# this is our input placeholder\n",
    "\n",
    "input_imgB = Input(shape=(img_rows*img_colsB,))\n",
    "\n",
    "# \"encoded\" is the encoded representation of the input\n",
    "encodedB = Dense(encoding_dimB, activation='sigmoid', use_bias=False,bias_initializer='random_uniform')(input_imgB)\n",
    "# \"decoded\" is the lossy reconstruction of the input\n",
    "decodedB = Dense(img_colsB*img_rows, activation='linear',use_bias=True,bias_initializer='random_uniform')(encodedB)\n",
    "\n",
    "# this model maps an input to its reconstruction\n",
    "\n",
    "\n",
    "#autoencoder=Sequential([\n",
    "#    Dense(encoding_dim, kernel_regularizer=regularizers.l2(0.001), use_bias=True,bias_initializer='random_uniform',input_shape=(640,)),\n",
    "#    Activation('sigmoid'),\n",
    "#    Dense(img_cols*img_rows, use_bias=True,bias_initializer='random_uniform'),\n",
    "#    Activation('linear'),\n",
    "#])\n",
    "\n",
    "autoencoderB = Model(input_imgB, decodedB)"
   ]
  },
  {
   "cell_type": "markdown",
   "metadata": {},
   "source": [
    "## Prepare data into training and test set."
   ]
  },
  {
   "cell_type": "code",
   "execution_count": 5,
   "metadata": {},
   "outputs": [],
   "source": [
    "x_trainA = x_trainA.reshape(x_trainA.shape[0], img_colsA, img_rows,1)\n",
    "# X_val = X_val.reshape(X_val.shape[0], img_cols, img_rows,1)\n",
    "x_testA = x_testA.reshape(x_testA.shape[0], img_colsA, img_rows,1)\n",
    "\n",
    "\n",
    "input_shapeA = (img_colsA, img_rows,1)\n",
    "#input_shape=input_shape.astype('int32')"
   ]
  },
  {
   "cell_type": "code",
   "execution_count": 6,
   "metadata": {},
   "outputs": [
    {
     "name": "stdout",
     "output_type": "stream",
     "text": [
      "X_train shape: (25000, 30, 20, 1)\n"
     ]
    }
   ],
   "source": [
    "x_trainA = x_trainA.astype('float32')\n",
    "# X_val= X_val.astype('float32')\n",
    "x_testA = x_testA.astype('float32')\n",
    "\n",
    "print('X_train shape:', x_trainA.shape)\n",
    "# print(X_train.shape[0], 'train samples')\n",
    "# print(X_val.shape[0], 'validation samples')\n",
    "\n",
    "X_train=x_trainA\n",
    "X_test=x_testA"
   ]
  },
  {
   "cell_type": "markdown",
   "metadata": {},
   "source": [
    "Display 20 random training images using image"
   ]
  },
  {
   "cell_type": "code",
   "execution_count": 7,
   "metadata": {},
   "outputs": [
    {
     "data": {
      "image/png": "[encoded data removed]",
      "text/plain": [
       "<Figure size 432x288 with 1 Axes>"
      ]
     },
     "metadata": {},
     "output_type": "display_data"
    },
    {
     "name": "stdout",
     "output_type": "stream",
     "text": [
      "9378\n"
     ]
    },
    {
     "data": {
      "image/png": "[encoded data removed]",
      "text/plain": [
       "<Figure size 432x288 with 1 Axes>"
      ]
     },
     "metadata": {},
     "output_type": "display_data"
    },
    {
     "name": "stdout",
     "output_type": "stream",
     "text": [
      "23669\n"
     ]
    },
    {
     "data": {
      "image/png": "[encoded data removed]",
      "text/plain": [
       "<Figure size 432x288 with 1 Axes>"
      ]
     },
     "metadata": {},
     "output_type": "display_data"
    },
    {
     "name": "stdout",
     "output_type": "stream",
     "text": [
      "6130\n"
     ]
    },
    {
     "data": {
      "image/png": "[encoded data removed]",
      "text/plain": [
       "<Figure size 432x288 with 1 Axes>"
      ]
     },
     "metadata": {},
     "output_type": "display_data"
    },
    {
     "name": "stdout",
     "output_type": "stream",
     "text": [
      "336\n"
     ]
    }
   ],
   "source": [
    "# convert class vectors to binary class matrices\n",
    "#Y_train = np_utils.to_categorical(y_train, nb_classes)\n",
    "#Y_test = np_utils.to_categorical(y_test, nb_classes)\n",
    "for i in range(1,5):\n",
    "    idea=np.random.randint(1,X_train.shape[0])\n",
    "    plt.imshow(np.reshape(X_train[idea].transpose(), [img_rows, img_colsA]), vmin=0, vmax=30)\n",
    "    plt.viridis()\n",
    "    plt.show()\n",
    "    print(idea)"
   ]
  },
  {
   "cell_type": "markdown",
   "metadata": {},
   "source": [
    "Vamos a generar las matrices de datos para la red neuronal "
   ]
  },
  {
   "cell_type": "code",
   "execution_count": 8,
   "metadata": {},
   "outputs": [
    {
     "name": "stdout",
     "output_type": "stream",
     "text": [
      "(25000, 600)\n",
      "(25000, 600)\n"
     ]
    }
   ],
   "source": [
    "x_train = X_train.reshape((len(X_train), np.prod(X_train.shape[1:])))\n",
    "x_test = X_test.reshape((len(X_test), np.prod(X_test.shape[1:])))\n",
    "\n",
    "print(x_train.shape)\n",
    "print(x_test.shape)\n"
   ]
  },
  {
   "cell_type": "code",
   "execution_count": 9,
   "metadata": {},
   "outputs": [
    {
     "name": "stdout",
     "output_type": "stream",
     "text": [
      "MinMaxScaler(copy=True, feature_range=(0, 1))\n"
     ]
    }
   ],
   "source": [
    "# min_max_scaler = preprocessing.QuantileTransformer().fit(x_train)\n",
    "# min_max_scaler = preprocessing.MaxAbsScaler().fit(x_train)\n",
    "# min_max_scaler = preprocessing.StandardScaler(with_mean=False).fit(x_train)\n",
    "min_max_scaler = preprocessing.MinMaxScaler().fit(x_train)\n",
    "#min_max_scaler = preprocessing.RobustScaler().fit(x_train)\n",
    "supermax=1\n",
    "factor_aprendizaje=0.0001\n",
    "print(min_max_scaler)\n",
    "#x_train_scaled = min_max_scaler.transform(x_train)\n",
    "#x_test_scaled = min_max_scaler.transform(x_test)\n",
    "x_train_scaled=(x_train/supermax)\n",
    "x_test_scaled=(x_test/supermax)\n",
    "#min_max_scaler.scale_\n",
    "# print(x_train[20413])\n",
    "# print(x_train_scaled[20413])\n",
    "# print(x_test[20413])\n",
    "# print(x_test_scaled[20413])"
   ]
  },
  {
   "cell_type": "markdown",
   "metadata": {},
   "source": [
    "## Build the autoencoder. "
   ]
  },
  {
   "cell_type": "markdown",
   "metadata": {},
   "source": [
    "Create our metrics, for example energy"
   ]
  },
  {
   "cell_type": "code",
   "execution_count": 10,
   "metadata": {},
   "outputs": [],
   "source": [
    "import keras.backend as KK\n",
    "import keras.callbacks as KKcall"
   ]
  },
  {
   "cell_type": "code",
   "execution_count": 11,
   "metadata": {},
   "outputs": [],
   "source": [
    "class Metrics(KKcall.Callback):\n",
    "    def on_train_begin(self, logs={}):\n",
    "        self._data = []\n",
    "\n",
    "    def on_epoch_end(self, batch, logs={}):\n",
    "        X_val, y_val = self.validation_data[0], self.validation_data[1]\n",
    "        y_predict = np.asarray(self.model.predict(X_val))\n",
    "\n",
    "        y_val = np.sum((y_val+1)*supermax/2, axis=1)\n",
    "        y_predict = np.sum((y_predict+1)*supermax/2, axis=1)\n",
    "\n",
    "        self._data.append({\n",
    "            'val_energy': np.mean(y_predict-y_val),\n",
    "        })\n",
    "        return\n",
    "\n",
    "    def get_data(self):\n",
    "        return self._data\n",
    "\n",
    "metrics = Metrics()\n",
    "\n",
    "def energy_error(y_true, y_pred):\n",
    "    veamos_energia=(KK.sum(y_pred, axis=1)-KK.sum(y_true,axis=1))\n",
    "    return KK.mean(veamos_energia,axis=-1)"
   ]
  },
  {
   "cell_type": "code",
   "execution_count": 12,
   "metadata": {},
   "outputs": [],
   "source": [
    "# this model maps an input to its encoded representation\n",
    "encoderA = Model(input_imgA, encodedA)\n",
    "\n",
    "# create a placeholder for an encoded (32-dimensional) input\n",
    "encoded_inputA = Input(shape=(encoding_dimA,))\n",
    "# retrieve the last layer of the autoencoder model\n",
    "decoder_layerA = autoencoderA.layers[-1]\n",
    "# create the decoder model\n",
    "decoderA = Model(encoded_inputA, decoder_layerA(encoded_inputA))\n",
    "\n",
    "autoencoderA.compile(optimizer='RMSprop', loss='mse', metrics=[energy_error])\n",
    "\n",
    "autoencoderA.optimizer.lr=(factor_aprendizaje)"
   ]
  },
  {
   "cell_type": "markdown",
   "metadata": {},
   "source": [
    "Show a summary of the model parameters. "
   ]
  },
  {
   "cell_type": "markdown",
   "metadata": {},
   "source": [
    "And now train the model and evaluate on the test set. "
   ]
  },
  {
   "cell_type": "code",
   "execution_count": 13,
   "metadata": {
    "scrolled": true
   },
   "outputs": [
    {
     "name": "stdout",
     "output_type": "stream",
     "text": [
      "Train on 25000 samples, validate on 25000 samples\n",
      "Epoch 1/100\n",
      "25000/25000 [==============================] - 3s 118us/step - loss: 17.3868 - energy_error: -43.8803 - val_loss: 19.5563 - val_energy_error: -29.7133\n",
      "Epoch 2/100\n",
      "25000/25000 [==============================] - 1s 31us/step - loss: 16.8562 - energy_error: -29.4217 - val_loss: 19.1060 - val_energy_error: -33.5222\n",
      "Epoch 3/100\n",
      "25000/25000 [==============================] - 1s 29us/step - loss: 16.4659 - energy_error: -32.1503 - val_loss: 18.7629 - val_energy_error: -33.8778\n",
      "Epoch 4/100\n",
      "25000/25000 [==============================] - 1s 26us/step - loss: 16.1635 - energy_error: -31.7435 - val_loss: 18.4949 - val_energy_error: -32.6381\n",
      "Epoch 5/100\n",
      "25000/25000 [==============================] - 1s 28us/step - loss: 15.9194 - energy_error: -30.3716 - val_loss: 18.2779 - val_energy_error: -31.3799\n",
      "Epoch 6/100\n",
      "25000/25000 [==============================] - 1s 27us/step - loss: 15.7157 - energy_error: -28.9804 - val_loss: 18.0966 - val_energy_error: -30.3831\n",
      "Epoch 7/100\n",
      "25000/25000 [==============================] - 1s 26us/step - loss: 15.5409 - energy_error: -27.7568 - val_loss: 17.9411 - val_energy_error: -29.6450\n",
      "Epoch 8/100\n",
      "25000/25000 [==============================] - 1s 28us/step - loss: 15.3875 - energy_error: -26.7141 - val_loss: 17.8048 - val_energy_error: -29.1002\n",
      "Epoch 9/100\n",
      "25000/25000 [==============================] - 1s 25us/step - loss: 15.2504 - energy_error: -25.8266 - val_loss: 17.6834 - val_energy_error: -28.6912\n",
      "Epoch 10/100\n",
      "25000/25000 [==============================] - 1s 28us/step - loss: 15.1262 - energy_error: -25.0670 - val_loss: 17.5738 - val_energy_error: -28.3986\n",
      "Epoch 11/100\n",
      "25000/25000 [==============================] - 1s 28us/step - loss: 15.0123 - energy_error: -24.4110 - val_loss: 17.4737 - val_energy_error: -28.1705\n",
      "Epoch 12/100\n",
      "25000/25000 [==============================] - 1s 27us/step - loss: 14.9070 - energy_error: -23.8373 - val_loss: 17.3817 - val_energy_error: -27.9712\n",
      "Epoch 13/100\n",
      "25000/25000 [==============================] - 1s 26us/step - loss: 14.8090 - energy_error: -23.3295 - val_loss: 17.2964 - val_energy_error: -27.8046\n",
      "Epoch 14/100\n",
      "25000/25000 [==============================] - 1s 27us/step - loss: 14.7170 - energy_error: -22.8793 - val_loss: 17.2166 - val_energy_error: -27.6660\n",
      "Epoch 15/100\n",
      "25000/25000 [==============================] - 1s 27us/step - loss: 14.6303 - energy_error: -22.4760 - val_loss: 17.1417 - val_energy_error: -27.5447\n",
      "Epoch 16/100\n",
      "25000/25000 [==============================] - 1s 27us/step - loss: 14.5481 - energy_error: -22.1110 - val_loss: 17.0710 - val_energy_error: -27.4304\n",
      "Epoch 17/100\n",
      "25000/25000 [==============================] - 1s 27us/step - loss: 14.4700 - energy_error: -21.7772 - val_loss: 17.0040 - val_energy_error: -27.3145\n",
      "Epoch 18/100\n",
      "25000/25000 [==============================] - 1s 28us/step - loss: 14.3956 - energy_error: -21.4688 - val_loss: 16.9405 - val_energy_error: -27.2093\n",
      "Epoch 19/100\n",
      "25000/25000 [==============================] - 1s 26us/step - loss: 14.3244 - energy_error: -21.1824 - val_loss: 16.8800 - val_energy_error: -27.1188\n",
      "Epoch 20/100\n",
      "25000/25000 [==============================] - 1s 25us/step - loss: 14.2562 - energy_error: -20.9153 - val_loss: 16.8221 - val_energy_error: -27.0444\n",
      "Epoch 21/100\n",
      "25000/25000 [==============================] - 1s 27us/step - loss: 14.1907 - energy_error: -20.6653 - val_loss: 16.7667 - val_energy_error: -26.9803\n",
      "Epoch 22/100\n",
      "25000/25000 [==============================] - 1s 26us/step - loss: 14.1276 - energy_error: -20.4304 - val_loss: 16.7136 - val_energy_error: -26.9244\n",
      "Epoch 23/100\n",
      "25000/25000 [==============================] - 1s 27us/step - loss: 14.0669 - energy_error: -20.2098 - val_loss: 16.6625 - val_energy_error: -26.8814\n",
      "Epoch 24/100\n",
      "25000/25000 [==============================] - 1s 27us/step - loss: 14.0082 - energy_error: -20.0023 - val_loss: 16.6133 - val_energy_error: -26.8557\n",
      "Epoch 25/100\n",
      "25000/25000 [==============================] - 1s 28us/step - loss: 13.9515 - energy_error: -19.8059 - val_loss: 16.5659 - val_energy_error: -26.8454\n",
      "Epoch 26/100\n",
      "25000/25000 [==============================] - 1s 27us/step - loss: 13.8966 - energy_error: -19.6200 - val_loss: 16.5200 - val_energy_error: -26.8442\n",
      "Epoch 27/100\n",
      "25000/25000 [==============================] - 1s 26us/step - loss: 13.8434 - energy_error: -19.4443 - val_loss: 16.4756 - val_energy_error: -26.8456\n",
      "Epoch 28/100\n",
      "25000/25000 [==============================] - 1s 30us/step - loss: 13.7918 - energy_error: -19.2778 - val_loss: 16.4324 - val_energy_error: -26.8512\n",
      "Epoch 29/100\n",
      "25000/25000 [==============================] - 1s 28us/step - loss: 13.7416 - energy_error: -19.1194 - val_loss: 16.3905 - val_energy_error: -26.8579\n",
      "Epoch 30/100\n",
      "25000/25000 [==============================] - 1s 29us/step - loss: 13.6927 - energy_error: -18.9683 - val_loss: 16.3498 - val_energy_error: -26.8607\n",
      "Epoch 31/100\n",
      "25000/25000 [==============================] - 1s 27us/step - loss: 13.6452 - energy_error: -18.8241 - val_loss: 16.3102 - val_energy_error: -26.8585\n",
      "Epoch 32/100\n",
      "25000/25000 [==============================] - 1s 27us/step - loss: 13.5988 - energy_error: -18.6859 - val_loss: 16.2717 - val_energy_error: -26.8510\n",
      "Epoch 33/100\n",
      "25000/25000 [==============================] - 1s 26us/step - loss: 13.5536 - energy_error: -18.5533 - val_loss: 16.2342 - val_energy_error: -26.8367\n",
      "Epoch 34/100\n",
      "25000/25000 [==============================] - 1s 27us/step - loss: 13.5094 - energy_error: -18.4256 - val_loss: 16.1977 - val_energy_error: -26.8152\n",
      "Epoch 35/100\n",
      "25000/25000 [==============================] - 1s 27us/step - loss: 13.4662 - energy_error: -18.3025 - val_loss: 16.1621 - val_energy_error: -26.7905\n",
      "Epoch 36/100\n",
      "25000/25000 [==============================] - 1s 27us/step - loss: 13.4240 - energy_error: -18.1838 - val_loss: 16.1275 - val_energy_error: -26.7646\n",
      "Epoch 37/100\n",
      "25000/25000 [==============================] - 1s 29us/step - loss: 13.3827 - energy_error: -18.0693 - val_loss: 16.0938 - val_energy_error: -26.7412\n",
      "Epoch 38/100\n",
      "25000/25000 [==============================] - 1s 27us/step - loss: 13.3423 - energy_error: -17.9590 - val_loss: 16.0608 - val_energy_error: -26.7250\n",
      "Epoch 39/100\n",
      "25000/25000 [==============================] - 1s 28us/step - loss: 13.3027 - energy_error: -17.8526 - val_loss: 16.0286 - val_energy_error: -26.7154\n",
      "Epoch 40/100\n",
      "25000/25000 [==============================] - 1s 27us/step - loss: 13.2640 - energy_error: -17.7496 - val_loss: 15.9971 - val_energy_error: -26.7127\n",
      "Epoch 41/100\n",
      "25000/25000 [==============================] - 1s 28us/step - loss: 13.2260 - energy_error: -17.6499 - val_loss: 15.9663 - val_energy_error: -26.7188\n",
      "Epoch 42/100\n",
      "25000/25000 [==============================] - 1s 26us/step - loss: 13.1887 - energy_error: -17.5531 - val_loss: 15.9360 - val_energy_error: -26.7328\n",
      "Epoch 43/100\n",
      "25000/25000 [==============================] - 1s 27us/step - loss: 13.1522 - energy_error: -17.4590 - val_loss: 15.9064 - val_energy_error: -26.7510\n",
      "Epoch 44/100\n",
      "25000/25000 [==============================] - 1s 26us/step - loss: 13.1163 - energy_error: -17.3671 - val_loss: 15.8773 - val_energy_error: -26.7719\n",
      "Epoch 45/100\n",
      "25000/25000 [==============================] - 1s 28us/step - loss: 13.0811 - energy_error: -17.2775 - val_loss: 15.8488 - val_energy_error: -26.7975\n",
      "Epoch 46/100\n",
      "25000/25000 [==============================] - 1s 27us/step - loss: 13.0465 - energy_error: -17.1903 - val_loss: 15.8207 - val_energy_error: -26.8261\n",
      "Epoch 47/100\n",
      "25000/25000 [==============================] - 1s 26us/step - loss: 13.0126 - energy_error: -17.1053 - val_loss: 15.7932 - val_energy_error: -26.8546\n",
      "Epoch 48/100\n",
      "25000/25000 [==============================] - 1s 28us/step - loss: 12.9792 - energy_error: -17.0224 - val_loss: 15.7662 - val_energy_error: -26.8812\n",
      "Epoch 49/100\n",
      "25000/25000 [==============================] - 1s 26us/step - loss: 12.9464 - energy_error: -16.9415 - val_loss: 15.7397 - val_energy_error: -26.9025\n",
      "Epoch 50/100\n",
      "25000/25000 [==============================] - 1s 28us/step - loss: 12.9141 - energy_error: -16.8624 - val_loss: 15.7136 - val_energy_error: -26.9200\n",
      "Epoch 51/100\n"
     ]
    },
    {
     "name": "stdout",
     "output_type": "stream",
     "text": [
      "25000/25000 [==============================] - 1s 28us/step - loss: 12.8823 - energy_error: -16.7849 - val_loss: 15.6880 - val_energy_error: -26.9367\n",
      "Epoch 52/100\n",
      "25000/25000 [==============================] - 1s 26us/step - loss: 12.8510 - energy_error: -16.7091 - val_loss: 15.6629 - val_energy_error: -26.9545\n",
      "Epoch 53/100\n",
      "25000/25000 [==============================] - 1s 27us/step - loss: 12.8201 - energy_error: -16.6350 - val_loss: 15.6382 - val_energy_error: -26.9757\n",
      "Epoch 54/100\n",
      "25000/25000 [==============================] - 1s 27us/step - loss: 12.7897 - energy_error: -16.5625 - val_loss: 15.6140 - val_energy_error: -27.0011\n",
      "Epoch 55/100\n",
      "25000/25000 [==============================] - 1s 27us/step - loss: 12.7598 - energy_error: -16.4915 - val_loss: 15.5901 - val_energy_error: -27.0313\n",
      "Epoch 56/100\n",
      "25000/25000 [==============================] - 1s 28us/step - loss: 12.7303 - energy_error: -16.4221 - val_loss: 15.5667 - val_energy_error: -27.0654\n",
      "Epoch 57/100\n",
      "25000/25000 [==============================] - 1s 26us/step - loss: 12.7012 - energy_error: -16.3545 - val_loss: 15.5436 - val_energy_error: -27.1010\n",
      "Epoch 58/100\n",
      "25000/25000 [==============================] - 1s 27us/step - loss: 12.6725 - energy_error: -16.2885 - val_loss: 15.5208 - val_energy_error: -27.1359\n",
      "Epoch 59/100\n",
      "25000/25000 [==============================] - 1s 27us/step - loss: 12.6442 - energy_error: -16.2239 - val_loss: 15.4985 - val_energy_error: -27.1701\n",
      "Epoch 60/100\n",
      "25000/25000 [==============================] - 1s 28us/step - loss: 12.6163 - energy_error: -16.1605 - val_loss: 15.4765 - val_energy_error: -27.2035\n",
      "Epoch 61/100\n",
      "25000/25000 [==============================] - 1s 26us/step - loss: 12.5888 - energy_error: -16.0984 - val_loss: 15.4548 - val_energy_error: -27.2370\n",
      "Epoch 62/100\n",
      "25000/25000 [==============================] - 1s 27us/step - loss: 12.5617 - energy_error: -16.0375 - val_loss: 15.4335 - val_energy_error: -27.2699\n",
      "Epoch 63/100\n",
      "25000/25000 [==============================] - 1s 27us/step - loss: 12.5348 - energy_error: -15.9778 - val_loss: 15.4124 - val_energy_error: -27.3016\n",
      "Epoch 64/100\n",
      "25000/25000 [==============================] - 1s 25us/step - loss: 12.5083 - energy_error: -15.9193 - val_loss: 15.3916 - val_energy_error: -27.3333\n",
      "Epoch 65/100\n",
      "25000/25000 [==============================] - 1s 27us/step - loss: 12.4822 - energy_error: -15.8616 - val_loss: 15.3711 - val_energy_error: -27.3664\n",
      "Epoch 66/100\n",
      "25000/25000 [==============================] - 1s 27us/step - loss: 12.4563 - energy_error: -15.8050 - val_loss: 15.3509 - val_energy_error: -27.3989\n",
      "Epoch 67/100\n",
      "25000/25000 [==============================] - 1s 29us/step - loss: 12.4308 - energy_error: -15.7492 - val_loss: 15.3309 - val_energy_error: -27.4328\n",
      "Epoch 68/100\n",
      "25000/25000 [==============================] - 1s 27us/step - loss: 12.4056 - energy_error: -15.6943 - val_loss: 15.3111 - val_energy_error: -27.4687\n",
      "Epoch 69/100\n",
      "25000/25000 [==============================] - 1s 26us/step - loss: 12.3807 - energy_error: -15.6403 - val_loss: 15.2916 - val_energy_error: -27.5059\n",
      "Epoch 70/100\n",
      "25000/25000 [==============================] - 1s 27us/step - loss: 12.3560 - energy_error: -15.5874 - val_loss: 15.2724 - val_energy_error: -27.5441\n",
      "Epoch 71/100\n",
      "25000/25000 [==============================] - 1s 26us/step - loss: 12.3317 - energy_error: -15.5353 - val_loss: 15.2534 - val_energy_error: -27.5824\n",
      "Epoch 72/100\n",
      "25000/25000 [==============================] - 1s 26us/step - loss: 12.3076 - energy_error: -15.4839 - val_loss: 15.2345 - val_energy_error: -27.6210\n",
      "Epoch 73/100\n",
      "25000/25000 [==============================] - 1s 27us/step - loss: 12.2838 - energy_error: -15.4334 - val_loss: 15.2159 - val_energy_error: -27.6596\n",
      "Epoch 74/100\n",
      "25000/25000 [==============================] - 1s 28us/step - loss: 12.2602 - energy_error: -15.3837 - val_loss: 15.1974 - val_energy_error: -27.6969\n",
      "Epoch 75/100\n",
      "25000/25000 [==============================] - 1s 25us/step - loss: 12.2369 - energy_error: -15.3347 - val_loss: 15.1791 - val_energy_error: -27.7323\n",
      "Epoch 76/100\n",
      "25000/25000 [==============================] - 1s 26us/step - loss: 12.2139 - energy_error: -15.2865 - val_loss: 15.1611 - val_energy_error: -27.7640\n",
      "Epoch 77/100\n",
      "25000/25000 [==============================] - 1s 27us/step - loss: 12.1911 - energy_error: -15.2389 - val_loss: 15.1432 - val_energy_error: -27.7935\n",
      "Epoch 78/100\n",
      "25000/25000 [==============================] - 1s 26us/step - loss: 12.1685 - energy_error: -15.1919 - val_loss: 15.1256 - val_energy_error: -27.8189\n",
      "Epoch 79/100\n",
      "25000/25000 [==============================] - 1s 28us/step - loss: 12.1461 - energy_error: -15.1456 - val_loss: 15.1082 - val_energy_error: -27.8393\n",
      "Epoch 80/100\n",
      "25000/25000 [==============================] - 1s 28us/step - loss: 12.1240 - energy_error: -15.1000 - val_loss: 15.0910 - val_energy_error: -27.8538\n",
      "Epoch 81/100\n",
      "25000/25000 [==============================] - 1s 27us/step - loss: 12.1021 - energy_error: -15.0549 - val_loss: 15.0741 - val_energy_error: -27.8632\n",
      "Epoch 82/100\n",
      "25000/25000 [==============================] - 1s 27us/step - loss: 12.0804 - energy_error: -15.0105 - val_loss: 15.0573 - val_energy_error: -27.8682\n",
      "Epoch 83/100\n",
      "25000/25000 [==============================] - 1s 27us/step - loss: 12.0589 - energy_error: -14.9666 - val_loss: 15.0407 - val_energy_error: -27.8706\n",
      "Epoch 84/100\n",
      "25000/25000 [==============================] - 1s 28us/step - loss: 12.0377 - energy_error: -14.9233 - val_loss: 15.0243 - val_energy_error: -27.8706\n",
      "Epoch 85/100\n",
      "25000/25000 [==============================] - 1s 28us/step - loss: 12.0167 - energy_error: -14.8804 - val_loss: 15.0080 - val_energy_error: -27.8679\n",
      "Epoch 86/100\n",
      "25000/25000 [==============================] - 1s 28us/step - loss: 11.9958 - energy_error: -14.8378 - val_loss: 14.9920 - val_energy_error: -27.8638\n",
      "Epoch 87/100\n",
      "25000/25000 [==============================] - 1s 28us/step - loss: 11.9752 - energy_error: -14.7956 - val_loss: 14.9761 - val_energy_error: -27.8583\n",
      "Epoch 88/100\n",
      "25000/25000 [==============================] - 1s 28us/step - loss: 11.9547 - energy_error: -14.7539 - val_loss: 14.9604 - val_energy_error: -27.8504\n",
      "Epoch 89/100\n",
      "25000/25000 [==============================] - 1s 28us/step - loss: 11.9345 - energy_error: -14.7126 - val_loss: 14.9448 - val_energy_error: -27.8392\n",
      "Epoch 90/100\n",
      "25000/25000 [==============================] - 1s 28us/step - loss: 11.9144 - energy_error: -14.6717 - val_loss: 14.9295 - val_energy_error: -27.8258\n",
      "Epoch 91/100\n",
      "25000/25000 [==============================] - 1s 28us/step - loss: 11.8945 - energy_error: -14.6313 - val_loss: 14.9144 - val_energy_error: -27.8098\n",
      "Epoch 92/100\n",
      "25000/25000 [==============================] - 1s 27us/step - loss: 11.8747 - energy_error: -14.5912 - val_loss: 14.8994 - val_energy_error: -27.7928\n",
      "Epoch 93/100\n",
      "25000/25000 [==============================] - 1s 26us/step - loss: 11.8552 - energy_error: -14.5515 - val_loss: 14.8847 - val_energy_error: -27.7767\n",
      "Epoch 94/100\n",
      "25000/25000 [==============================] - 1s 27us/step - loss: 11.8358 - energy_error: -14.5122 - val_loss: 14.8701 - val_energy_error: -27.7631\n",
      "Epoch 95/100\n",
      "25000/25000 [==============================] - 1s 27us/step - loss: 11.8165 - energy_error: -14.4733 - val_loss: 14.8556 - val_energy_error: -27.7516\n",
      "Epoch 96/100\n",
      "25000/25000 [==============================] - 1s 28us/step - loss: 11.7975 - energy_error: -14.4348 - val_loss: 14.8413 - val_energy_error: -27.7407\n",
      "Epoch 97/100\n",
      "25000/25000 [==============================] - 1s 27us/step - loss: 11.7786 - energy_error: -14.3968 - val_loss: 14.8271 - val_energy_error: -27.7296\n",
      "Epoch 98/100\n",
      "25000/25000 [==============================] - 1s 26us/step - loss: 11.7598 - energy_error: -14.3594 - val_loss: 14.8130 - val_energy_error: -27.7208\n",
      "Epoch 99/100\n",
      "25000/25000 [==============================] - 1s 27us/step - loss: 11.7412 - energy_error: -14.3226 - val_loss: 14.7991 - val_energy_error: -27.7142\n",
      "Epoch 100/100\n",
      "25000/25000 [==============================] - 1s 28us/step - loss: 11.7227 - energy_error: -14.2863 - val_loss: 14.7853 - val_energy_error: -27.7086\n"
     ]
    }
   ],
   "source": [
    "algoritmo='RMSprop'\n",
    "experimento=\"scaledA_{}_encoder_without_bias_sig_sig_lr_{}\".format(supermax,factor_aprendizaje)\n",
    "tensorboard=TensorBoard(log_dir=\"/home/rgadea3/EXPERIMENTOS/nuevas_investigaciones_2018/experimentos/logs/defs/{}{}{}{}\".format(encoding_dimA,algoritmo,experimento,datetime.now()))\n",
    "#modelCheckpoint=ModelCheckpoint(\"/home/rgadea3/EXPERIMENTOS/nuevas_investigaciones_2018/experimentos/logs/\", monitor='val_loss', verbose=0, save_best_only=False, save_weights_only=False, mode='auto', period=1)\n",
    "early_stop=EarlyStopping(monitor='val_loss', min_delta=0, patience=500, verbose=2, mode='auto', baseline=None)\n",
    "results=autoencoderA.fit(x_train_scaled, x_train_scaled,\n",
    "                epochs=100,\n",
    "                batch_size=200,\n",
    "                shuffle=False,\n",
    "                callbacks=[tensorboard, early_stop, metrics],\n",
    "                validation_data=(x_test_scaled, x_test_scaled))\n",
    "\n"
   ]
  },
  {
   "cell_type": "code",
   "execution_count": 14,
   "metadata": {},
   "outputs": [
    {
     "data": {
      "image/png": "[encoded data removed]",
      "text/plain": [
       "<Figure size 432x288 with 1 Axes>"
      ]
     },
     "metadata": {},
     "output_type": "display_data"
    },
    {
     "data": {
      "image/png": "[encoded data removed]",
      "text/plain": [
       "<Figure size 432x288 with 1 Axes>"
      ]
     },
     "metadata": {},
     "output_type": "display_data"
    }
   ],
   "source": [
    "# summarize history for categorical accuracy\n",
    "plt.plot(results.history['energy_error'])\n",
    "plt.plot(results.history['val_energy_error'])\n",
    "plt.title('Energy error')\n",
    "plt.ylabel('accuracy')\n",
    "plt.xlabel('epoch')\n",
    "plt.legend(['train', 'test'], loc='upper left')\n",
    "plt.show()\n",
    "# summarize history for loss\n",
    "plt.plot(results.history['loss'])\n",
    "plt.plot(results.history['val_loss'])\n",
    "plt.title('model loss')\n",
    "plt.ylabel('loss')\n",
    "plt.xlabel('epoch')\n",
    "plt.legend(['train', 'test'], loc='upper left')\n",
    "plt.show()"
   ]
  },
  {
   "cell_type": "code",
   "execution_count": 15,
   "metadata": {},
   "outputs": [],
   "source": [
    "# import pandas as pd \n",
    "# autoencoder.evaluate(x=x_test_scaled,y=x_test_scaled)\n",
    "# D=metrics.get_data()\n",
    "\n",
    "\n",
    "# energies=pd.DataFrame(D).values.reshape(len(D))\n",
    "# valores=len(energies)\n",
    "# plt.plot(range(valores),energies) \n",
    "\n",
    "# plt.show()"
   ]
  },
  {
   "cell_type": "code",
   "execution_count": 16,
   "metadata": {},
   "outputs": [],
   "source": [
    "autoencoderA.save_weights('../redes_compresoras/defs/compresor_python_{}{}{}{}'.format(encoding_dimA,algoritmo,experimento,datetime.now()))\n",
    "#np.savez('../redes_compresoras/maxmin_python_ver_rms_prop_scaled_min_max_ver2', min_max_scaler.data_max_, min_max_scaler.data_min_)\n",
    "#autoencoder.load_weights('../redes_compresoras/defs/compresor_python_320RMSpropscaled_100_encoder_without_bias_sig_sig_lr_0.00012018-11-03 09:43:55.047213')"
   ]
  },
  {
   "cell_type": "code",
   "execution_count": 17,
   "metadata": {},
   "outputs": [],
   "source": [
    "# standard_scores = encoder.predict(x_test_scaled).ravel()\n",
    "# #regularized_scores = encoded_regularized.predict(x_test).ravel()\n",
    "# sns.distplot(standard_scores, hist=True, label='standard model')\n",
    "# #sns.distplot(regularized_scores, hist=False, label='regularized model')"
   ]
  },
  {
   "cell_type": "code",
   "execution_count": 18,
   "metadata": {},
   "outputs": [],
   "source": [
    "# encode and decode some images\n",
    "# note that we take them from the *test* set\n",
    "# encoded_imgs = encoder.predict(x_test_min_max)\n",
    "# decoded_imgs_scaled = decoder.predict(encoded_imgs)\n",
    "#decoded_imgs_scaled = autoencoder.predict(x_test_min_max)\n",
    "decoded_imgs_scaled = autoencoderA.predict(x_test_scaled)\n",
    "decoded_imgs = supermax*(decoded_imgs_scaled)\n",
    "#decoded_imgs = min_max_scaler.inverse_transform(decoded_imgs_scaled)\n",
    "#decoded_imgs = autoencoder.predict(x_test)\n"
   ]
  },
  {
   "cell_type": "code",
   "execution_count": 19,
   "metadata": {},
   "outputs": [
    {
     "data": {
      "image/png": "[encoded data removed]",
      "text/plain": [
       "<Figure size 1440x288 with 10 Axes>"
      ]
     },
     "metadata": {},
     "output_type": "display_data"
    },
    {
     "name": "stdout",
     "output_type": "stream",
     "text": [
      "15935\n"
     ]
    }
   ],
   "source": [
    "n = 5  # how many digits we will display\n",
    "plt.figure(figsize=(20, 4))\n",
    "for i in range(n):\n",
    "    # display original\n",
    "    idea=np.random.randint(1,x_test.shape[0])\n",
    "    ax = plt.subplot(2, n, i + 1)\n",
    "    plt.imshow(x_test[idea].reshape(img_colsA,img_rows ).transpose(),vmin=0, vmax=30)\n",
    "    plt.viridis()\n",
    "    ax.get_xaxis().set_visible(False)\n",
    "    ax.get_yaxis().set_visible(False)\n",
    "\n",
    "    # display reconstruction\n",
    "    ax = plt.subplot(2, n, i + 1 + n)\n",
    "    plt.imshow(decoded_imgs[idea].reshape(img_colsA, img_rows).transpose(),vmin=0, vmax=30)\n",
    "    plt.viridis()\n",
    "    ax.get_xaxis().set_visible(False)\n",
    "    ax.get_yaxis().set_visible(False)\n",
    "plt.show()\n",
    "print(idea)\n",
    "# print(x_test[idea])\n",
    "# print(decoded_imgs[idea])\n",
    "# print(decoded_imgs_scaled[idea])\n"
   ]
  },
  {
   "cell_type": "code",
   "execution_count": 20,
   "metadata": {},
   "outputs": [],
   "source": [
    "x_trainB = x_trainB.reshape(x_trainB.shape[0], img_colsB, img_rows,1)\n",
    "# X_val = X_val.reshape(X_val.shape[0], img_cols, img_rows,1)\n",
    "x_testB = x_testB.reshape(x_testB.shape[0], img_colsB, img_rows,1)\n",
    "\n",
    "\n",
    "input_shapeB = (img_colsB, img_rows,1)\n",
    "#input_shape=input_shape.astype('int32')"
   ]
  },
  {
   "cell_type": "code",
   "execution_count": 21,
   "metadata": {},
   "outputs": [
    {
     "name": "stdout",
     "output_type": "stream",
     "text": [
      "X_train shape: (5000, 25, 20, 1)\n"
     ]
    }
   ],
   "source": [
    "x_trainB = x_trainB.astype('float32')\n",
    "# X_val= X_val.astype('float32')\n",
    "x_testB = x_testB.astype('float32')\n",
    "\n",
    "print('X_train shape:', x_trainB.shape)\n",
    "# print(X_train.shape[0], 'train samples')\n",
    "# print(X_val.shape[0], 'validation samples')\n",
    "\n",
    "X_train=x_trainB\n",
    "X_test=x_testB"
   ]
  },
  {
   "cell_type": "markdown",
   "metadata": {},
   "source": [
    "Display 20 random training images using image"
   ]
  },
  {
   "cell_type": "code",
   "execution_count": 22,
   "metadata": {},
   "outputs": [
    {
     "data": {
      "image/png": "[encoded data removed]",
      "text/plain": [
       "<Figure size 432x288 with 1 Axes>"
      ]
     },
     "metadata": {},
     "output_type": "display_data"
    },
    {
     "name": "stdout",
     "output_type": "stream",
     "text": [
      "804\n"
     ]
    },
    {
     "data": {
      "image/png": "[encoded data removed]",
      "text/plain": [
       "<Figure size 432x288 with 1 Axes>"
      ]
     },
     "metadata": {},
     "output_type": "display_data"
    },
    {
     "name": "stdout",
     "output_type": "stream",
     "text": [
      "1192\n"
     ]
    },
    {
     "data": {
      "image/png": "[encoded data removed]",
      "text/plain": [
       "<Figure size 432x288 with 1 Axes>"
      ]
     },
     "metadata": {},
     "output_type": "display_data"
    },
    {
     "name": "stdout",
     "output_type": "stream",
     "text": [
      "4115\n"
     ]
    },
    {
     "data": {
      "image/png": "[encoded data removed]",
      "text/plain": [
       "<Figure size 432x288 with 1 Axes>"
      ]
     },
     "metadata": {},
     "output_type": "display_data"
    },
    {
     "name": "stdout",
     "output_type": "stream",
     "text": [
      "1404\n"
     ]
    }
   ],
   "source": [
    "# convert class vectors to binary class matrices\n",
    "#Y_train = np_utils.to_categorical(y_train, nb_classes)\n",
    "#Y_test = np_utils.to_categorical(y_test, nb_classes)\n",
    "for i in range(1,5):\n",
    "    idea=np.random.randint(1,X_train.shape[0])\n",
    "    plt.imshow(np.reshape(X_train[idea].transpose(), [img_rows, img_colsB]), vmin=0, vmax=30)\n",
    "    plt.viridis()\n",
    "    plt.show()\n",
    "    print(idea)"
   ]
  },
  {
   "cell_type": "markdown",
   "metadata": {},
   "source": [
    "Vamos a generar las matrices de datos para la red neuronal "
   ]
  },
  {
   "cell_type": "code",
   "execution_count": 23,
   "metadata": {},
   "outputs": [
    {
     "name": "stdout",
     "output_type": "stream",
     "text": [
      "(5000, 500)\n",
      "(5000, 500)\n"
     ]
    }
   ],
   "source": [
    "x_train = X_train.reshape((len(X_train), np.prod(X_train.shape[1:])))\n",
    "x_test = X_test.reshape((len(X_test), np.prod(X_test.shape[1:])))\n",
    "\n",
    "print(x_train.shape)\n",
    "print(x_test.shape)\n"
   ]
  },
  {
   "cell_type": "code",
   "execution_count": 24,
   "metadata": {},
   "outputs": [
    {
     "name": "stdout",
     "output_type": "stream",
     "text": [
      "MinMaxScaler(copy=True, feature_range=(0, 1))\n"
     ]
    }
   ],
   "source": [
    "# min_max_scaler = preprocessing.QuantileTransformer().fit(x_train)\n",
    "# min_max_scaler = preprocessing.MaxAbsScaler().fit(x_train)\n",
    "# min_max_scaler = preprocessing.StandardScaler(with_mean=False).fit(x_train)\n",
    "min_max_scaler = preprocessing.MinMaxScaler().fit(x_train)\n",
    "#min_max_scaler = preprocessing.RobustScaler().fit(x_train)\n",
    "supermax=1\n",
    "factor_aprendizaje=0.0001\n",
    "print(min_max_scaler)\n",
    "# x_train_scaled = min_max_scaler.transform(x_train)\n",
    "# x_test_scaled = min_max_scaler.transform(x_test)\n",
    "x_train_scaled=(x_train/supermax)\n",
    "x_test_scaled=(x_test/supermax)\n",
    "#min_max_scaler.scale_\n",
    "# print(x_train[2413])\n",
    "# print(x_train_scaled[2413])\n",
    "# print(x_test[2413])\n",
    "# print(x_test_scaled[2413])"
   ]
  },
  {
   "cell_type": "markdown",
   "metadata": {},
   "source": [
    "## Build the autoencoder. "
   ]
  },
  {
   "cell_type": "markdown",
   "metadata": {},
   "source": [
    "Create our metrics, for example energy"
   ]
  },
  {
   "cell_type": "code",
   "execution_count": 25,
   "metadata": {},
   "outputs": [],
   "source": [
    "import keras.backend as KK\n",
    "import keras.callbacks as KKcall"
   ]
  },
  {
   "cell_type": "code",
   "execution_count": 26,
   "metadata": {},
   "outputs": [],
   "source": [
    "class Metrics(KKcall.Callback):\n",
    "    def on_train_begin(self, logs={}):\n",
    "        self._data = []\n",
    "\n",
    "    def on_epoch_end(self, batch, logs={}):\n",
    "        X_val, y_val = self.validation_data[0], self.validation_data[1]\n",
    "        y_predict = np.asarray(self.model.predict(X_val))\n",
    "\n",
    "        y_val = np.sum((y_val+1)*supermax/2, axis=1)\n",
    "        y_predict = np.sum((y_predict+1)*supermax/2, axis=1)\n",
    "\n",
    "        self._data.append({\n",
    "            'val_energy': np.mean(y_predict-y_val),\n",
    "        })\n",
    "        return\n",
    "\n",
    "    def get_data(self):\n",
    "        return self._data\n",
    "\n",
    "metrics = Metrics()\n",
    "\n",
    "def energy_error(y_true, y_pred):\n",
    "    veamos_energia=(KK.sum(y_pred, axis=1)-KK.sum(y_true,axis=1))\n",
    "    return KK.mean(veamos_energia,axis=-1)"
   ]
  },
  {
   "cell_type": "code",
   "execution_count": 27,
   "metadata": {},
   "outputs": [],
   "source": [
    "# this model maps an input to its encoded representation\n",
    "encoderB = Model(input_imgB, encodedB)\n",
    "\n",
    "# create a placeholder for an encoded (32-dimensional) input\n",
    "encoded_inputB = Input(shape=(encoding_dimB,))\n",
    "# retrieve the last layer of the autoencoder model\n",
    "decoder_layerB = autoencoderB.layers[-1]\n",
    "# create the decoder model\n",
    "decoder = Model(encoded_inputB, decoder_layerB(encoded_inputB))\n",
    "\n",
    "autoencoderB.compile(optimizer='RMSprop', loss='mse', metrics=[energy_error])\n",
    "\n",
    "autoencoderB.optimizer.lr=(factor_aprendizaje)"
   ]
  },
  {
   "cell_type": "markdown",
   "metadata": {},
   "source": [
    "Show a summary of the model parameters. "
   ]
  },
  {
   "cell_type": "markdown",
   "metadata": {},
   "source": [
    "And now train the model and evaluate on the test set. "
   ]
  },
  {
   "cell_type": "code",
   "execution_count": 28,
   "metadata": {
    "scrolled": true
   },
   "outputs": [
    {
     "name": "stdout",
     "output_type": "stream",
     "text": [
      "Train on 5000 samples, validate on 5000 samples\n",
      "Epoch 1/500\n",
      "5000/5000 [==============================] - 1s 121us/step - loss: 20.0242 - energy_error: -83.9455 - val_loss: 21.8996 - val_energy_error: -45.2953\n",
      "Epoch 2/500\n",
      "5000/5000 [==============================] - 0s 31us/step - loss: 19.7926 - energy_error: -37.8794 - val_loss: 21.7610 - val_energy_error: -26.5936\n",
      "Epoch 3/500\n",
      "5000/5000 [==============================] - 0s 28us/step - loss: 19.6575 - energy_error: -27.8044 - val_loss: 21.6446 - val_energy_error: -22.2658\n",
      "Epoch 4/500\n",
      "5000/5000 [==============================] - 0s 27us/step - loss: 19.5340 - energy_error: -25.4127 - val_loss: 21.5348 - val_energy_error: -21.2015\n",
      "Epoch 5/500\n",
      "5000/5000 [==============================] - 0s 34us/step - loss: 19.4166 - energy_error: -24.8973 - val_loss: 21.4301 - val_energy_error: -21.0950\n",
      "Epoch 6/500\n",
      "5000/5000 [==============================] - 0s 26us/step - loss: 19.3046 - energy_error: -25.0556 - val_loss: 21.3304 - val_energy_error: -21.4164\n",
      "Epoch 7/500\n",
      "5000/5000 [==============================] - 0s 25us/step - loss: 19.1977 - energy_error: -25.5388 - val_loss: 21.2354 - val_energy_error: -21.9447\n",
      "Epoch 8/500\n",
      "5000/5000 [==============================] - 0s 35us/step - loss: 19.0959 - energy_error: -26.1554 - val_loss: 21.1452 - val_energy_error: -22.5385\n",
      "Epoch 9/500\n",
      "5000/5000 [==============================] - 0s 28us/step - loss: 18.9987 - energy_error: -26.7853 - val_loss: 21.0597 - val_energy_error: -23.1204\n",
      "Epoch 10/500\n",
      "5000/5000 [==============================] - 0s 27us/step - loss: 18.9061 - energy_error: -27.3602 - val_loss: 20.9788 - val_energy_error: -23.6493\n",
      "Epoch 11/500\n",
      "5000/5000 [==============================] - 0s 23us/step - loss: 18.8175 - energy_error: -27.8415 - val_loss: 20.9022 - val_energy_error: -24.1113\n",
      "Epoch 12/500\n",
      "5000/5000 [==============================] - 0s 30us/step - loss: 18.7329 - energy_error: -28.2134 - val_loss: 20.8298 - val_energy_error: -24.5079\n",
      "Epoch 13/500\n",
      "5000/5000 [==============================] - 0s 28us/step - loss: 18.6518 - energy_error: -28.4768 - val_loss: 20.7610 - val_energy_error: -24.8471\n",
      "Epoch 14/500\n",
      "5000/5000 [==============================] - 0s 28us/step - loss: 18.5740 - energy_error: -28.6411 - val_loss: 20.6958 - val_energy_error: -25.1399\n",
      "Epoch 15/500\n",
      "5000/5000 [==============================] - 0s 30us/step - loss: 18.4993 - energy_error: -28.7196 - val_loss: 20.6338 - val_energy_error: -25.3991\n",
      "Epoch 16/500\n",
      "5000/5000 [==============================] - 0s 26us/step - loss: 18.4273 - energy_error: -28.7279 - val_loss: 20.5747 - val_energy_error: -25.6380\n",
      "Epoch 17/500\n",
      "5000/5000 [==============================] - 0s 27us/step - loss: 18.3580 - energy_error: -28.6825 - val_loss: 20.5184 - val_energy_error: -25.8655\n",
      "Epoch 18/500\n",
      "5000/5000 [==============================] - 0s 36us/step - loss: 18.2910 - energy_error: -28.5966 - val_loss: 20.4645 - val_energy_error: -26.0888\n",
      "Epoch 19/500\n",
      "5000/5000 [==============================] - 0s 28us/step - loss: 18.2262 - energy_error: -28.4813 - val_loss: 20.4129 - val_energy_error: -26.3132\n",
      "Epoch 20/500\n",
      "5000/5000 [==============================] - 0s 28us/step - loss: 18.1635 - energy_error: -28.3459 - val_loss: 20.3634 - val_energy_error: -26.5408\n",
      "Epoch 21/500\n",
      "5000/5000 [==============================] - 0s 28us/step - loss: 18.1028 - energy_error: -28.1974 - val_loss: 20.3158 - val_energy_error: -26.7723\n",
      "Epoch 22/500\n",
      "5000/5000 [==============================] - 0s 33us/step - loss: 18.0438 - energy_error: -28.0402 - val_loss: 20.2702 - val_energy_error: -27.0076\n",
      "Epoch 23/500\n",
      "5000/5000 [==============================] - 0s 30us/step - loss: 17.9866 - energy_error: -27.8774 - val_loss: 20.2262 - val_energy_error: -27.2452\n",
      "Epoch 24/500\n",
      "5000/5000 [==============================] - 0s 28us/step - loss: 17.9309 - energy_error: -27.7104 - val_loss: 20.1840 - val_energy_error: -27.4834\n",
      "Epoch 25/500\n",
      "5000/5000 [==============================] - 0s 33us/step - loss: 17.8768 - energy_error: -27.5401 - val_loss: 20.1432 - val_energy_error: -27.7205\n",
      "Epoch 26/500\n",
      "5000/5000 [==============================] - 0s 27us/step - loss: 17.8241 - energy_error: -27.3673 - val_loss: 20.1039 - val_energy_error: -27.9584\n",
      "Epoch 27/500\n",
      "5000/5000 [==============================] - 0s 26us/step - loss: 17.7727 - energy_error: -27.1931 - val_loss: 20.0659 - val_energy_error: -28.1986\n",
      "Epoch 28/500\n",
      "5000/5000 [==============================] - 0s 34us/step - loss: 17.7226 - energy_error: -27.0188 - val_loss: 20.0291 - val_energy_error: -28.4397\n",
      "Epoch 29/500\n",
      "5000/5000 [==============================] - 0s 26us/step - loss: 17.6737 - energy_error: -26.8447 - val_loss: 19.9934 - val_energy_error: -28.6797\n",
      "Epoch 30/500\n",
      "5000/5000 [==============================] - 0s 25us/step - loss: 17.6260 - energy_error: -26.6717 - val_loss: 19.9587 - val_energy_error: -28.9180\n",
      "Epoch 31/500\n",
      "5000/5000 [==============================] - 0s 24us/step - loss: 17.5794 - energy_error: -26.5004 - val_loss: 19.9250 - val_energy_error: -29.1538\n",
      "Epoch 32/500\n",
      "5000/5000 [==============================] - 0s 29us/step - loss: 17.5339 - energy_error: -26.3315 - val_loss: 19.8922 - val_energy_error: -29.3841\n",
      "Epoch 33/500\n",
      "5000/5000 [==============================] - 0s 27us/step - loss: 17.4893 - energy_error: -26.1648 - val_loss: 19.8604 - val_energy_error: -29.6062\n",
      "Epoch 34/500\n",
      "5000/5000 [==============================] - 0s 29us/step - loss: 17.4457 - energy_error: -26.0004 - val_loss: 19.8294 - val_energy_error: -29.8198\n",
      "Epoch 35/500\n",
      "5000/5000 [==============================] - 0s 34us/step - loss: 17.4030 - energy_error: -25.8387 - val_loss: 19.7992 - val_energy_error: -30.0270\n",
      "Epoch 36/500\n",
      "5000/5000 [==============================] - 0s 28us/step - loss: 17.3612 - energy_error: -25.6799 - val_loss: 19.7697 - val_energy_error: -30.2298\n",
      "Epoch 37/500\n",
      "5000/5000 [==============================] - 0s 25us/step - loss: 17.3202 - energy_error: -25.5246 - val_loss: 19.7410 - val_energy_error: -30.4290\n",
      "Epoch 38/500\n",
      "5000/5000 [==============================] - 0s 31us/step - loss: 17.2800 - energy_error: -25.3725 - val_loss: 19.7130 - val_energy_error: -30.6245\n",
      "Epoch 39/500\n",
      "5000/5000 [==============================] - 0s 27us/step - loss: 17.2405 - energy_error: -25.2232 - val_loss: 19.6857 - val_energy_error: -30.8182\n",
      "Epoch 40/500\n",
      "5000/5000 [==============================] - 0s 28us/step - loss: 17.2017 - energy_error: -25.0769 - val_loss: 19.6590 - val_energy_error: -31.0107\n",
      "Epoch 41/500\n",
      "5000/5000 [==============================] - 0s 31us/step - loss: 17.1636 - energy_error: -24.9331 - val_loss: 19.6330 - val_energy_error: -31.2029\n",
      "Epoch 42/500\n",
      "5000/5000 [==============================] - 0s 26us/step - loss: 17.1261 - energy_error: -24.7916 - val_loss: 19.6076 - val_energy_error: -31.3947\n",
      "Epoch 43/500\n",
      "5000/5000 [==============================] - 0s 27us/step - loss: 17.0893 - energy_error: -24.6524 - val_loss: 19.5827 - val_energy_error: -31.5867\n",
      "Epoch 44/500\n",
      "5000/5000 [==============================] - 0s 29us/step - loss: 17.0530 - energy_error: -24.5155 - val_loss: 19.5584 - val_energy_error: -31.7776\n",
      "Epoch 45/500\n",
      "5000/5000 [==============================] - 0s 24us/step - loss: 17.0174 - energy_error: -24.3809 - val_loss: 19.5346 - val_energy_error: -31.9651\n",
      "Epoch 46/500\n",
      "5000/5000 [==============================] - 0s 27us/step - loss: 16.9822 - energy_error: -24.2486 - val_loss: 19.5113 - val_energy_error: -32.1484\n",
      "Epoch 47/500\n",
      "5000/5000 [==============================] - 0s 28us/step - loss: 16.9476 - energy_error: -24.1188 - val_loss: 19.4886 - val_energy_error: -32.3274\n",
      "Epoch 48/500\n",
      "5000/5000 [==============================] - 0s 28us/step - loss: 16.9135 - energy_error: -23.9915 - val_loss: 19.4663 - val_energy_error: -32.5015\n",
      "Epoch 49/500\n",
      "5000/5000 [==============================] - 0s 23us/step - loss: 16.8799 - energy_error: -23.8664 - val_loss: 19.4445 - val_energy_error: -32.6710\n",
      "Epoch 50/500\n",
      "5000/5000 [==============================] - 0s 28us/step - loss: 16.8467 - energy_error: -23.7435 - val_loss: 19.4230 - val_energy_error: -32.8364\n",
      "Epoch 51/500\n"
     ]
    },
    {
     "name": "stdout",
     "output_type": "stream",
     "text": [
      "5000/5000 [==============================] - 0s 30us/step - loss: 16.8141 - energy_error: -23.6228 - val_loss: 19.4020 - val_energy_error: -32.9970\n",
      "Epoch 52/500\n",
      "5000/5000 [==============================] - 0s 25us/step - loss: 16.7819 - energy_error: -23.5043 - val_loss: 19.3813 - val_energy_error: -33.1525\n",
      "Epoch 53/500\n",
      "5000/5000 [==============================] - 0s 23us/step - loss: 16.7501 - energy_error: -23.3880 - val_loss: 19.3610 - val_energy_error: -33.3020\n",
      "Epoch 54/500\n",
      "5000/5000 [==============================] - 0s 25us/step - loss: 16.7188 - energy_error: -23.2740 - val_loss: 19.3410 - val_energy_error: -33.4459\n",
      "Epoch 55/500\n",
      "5000/5000 [==============================] - 0s 28us/step - loss: 16.6879 - energy_error: -23.1620 - val_loss: 19.3213 - val_energy_error: -33.5854\n",
      "Epoch 56/500\n",
      "5000/5000 [==============================] - 0s 28us/step - loss: 16.6574 - energy_error: -23.0525 - val_loss: 19.3019 - val_energy_error: -33.7198\n",
      "Epoch 57/500\n",
      "5000/5000 [==============================] - 0s 26us/step - loss: 16.6273 - energy_error: -22.9447 - val_loss: 19.2829 - val_energy_error: -33.8505\n",
      "Epoch 58/500\n",
      "5000/5000 [==============================] - 0s 30us/step - loss: 16.5976 - energy_error: -22.8388 - val_loss: 19.2641 - val_energy_error: -33.9765\n",
      "Epoch 59/500\n",
      "5000/5000 [==============================] - 0s 24us/step - loss: 16.5683 - energy_error: -22.7347 - val_loss: 19.2456 - val_energy_error: -34.0968\n",
      "Epoch 60/500\n",
      "5000/5000 [==============================] - 0s 25us/step - loss: 16.5394 - energy_error: -22.6324 - val_loss: 19.2274 - val_energy_error: -34.2112\n",
      "Epoch 61/500\n",
      "5000/5000 [==============================] - 0s 32us/step - loss: 16.5108 - energy_error: -22.5318 - val_loss: 19.2094 - val_energy_error: -34.3196\n",
      "Epoch 62/500\n",
      "5000/5000 [==============================] - 0s 28us/step - loss: 16.4826 - energy_error: -22.4330 - val_loss: 19.1918 - val_energy_error: -34.4222\n",
      "Epoch 63/500\n",
      "5000/5000 [==============================] - 0s 26us/step - loss: 16.4547 - energy_error: -22.3359 - val_loss: 19.1744 - val_energy_error: -34.5193\n",
      "Epoch 64/500\n",
      "5000/5000 [==============================] - 0s 27us/step - loss: 16.4271 - energy_error: -22.2403 - val_loss: 19.1573 - val_energy_error: -34.6110\n",
      "Epoch 65/500\n",
      "5000/5000 [==============================] - 0s 30us/step - loss: 16.3998 - energy_error: -22.1462 - val_loss: 19.1405 - val_energy_error: -34.6978\n",
      "Epoch 66/500\n",
      "5000/5000 [==============================] - 0s 30us/step - loss: 16.3727 - energy_error: -22.0533 - val_loss: 19.1240 - val_energy_error: -34.7801\n",
      "Epoch 67/500\n",
      "5000/5000 [==============================] - 0s 29us/step - loss: 16.3460 - energy_error: -21.9616 - val_loss: 19.1077 - val_energy_error: -34.8581\n",
      "Epoch 68/500\n",
      "5000/5000 [==============================] - 0s 29us/step - loss: 16.3195 - energy_error: -21.8712 - val_loss: 19.0917 - val_energy_error: -34.9313\n",
      "Epoch 69/500\n",
      "5000/5000 [==============================] - 0s 27us/step - loss: 16.2934 - energy_error: -21.7820 - val_loss: 19.0758 - val_energy_error: -34.9995\n",
      "Epoch 70/500\n",
      "5000/5000 [==============================] - 0s 29us/step - loss: 16.2675 - energy_error: -21.6940 - val_loss: 19.0602 - val_energy_error: -35.0637\n",
      "Epoch 71/500\n",
      "5000/5000 [==============================] - 0s 36us/step - loss: 16.2418 - energy_error: -21.6072 - val_loss: 19.0447 - val_energy_error: -35.1244\n",
      "Epoch 72/500\n",
      "5000/5000 [==============================] - 0s 27us/step - loss: 16.2164 - energy_error: -21.5216 - val_loss: 19.0295 - val_energy_error: -35.1824\n",
      "Epoch 73/500\n",
      "5000/5000 [==============================] - 0s 29us/step - loss: 16.1913 - energy_error: -21.4373 - val_loss: 19.0144 - val_energy_error: -35.2380\n",
      "Epoch 74/500\n",
      "5000/5000 [==============================] - 0s 33us/step - loss: 16.1665 - energy_error: -21.3542 - val_loss: 18.9995 - val_energy_error: -35.2921\n",
      "Epoch 75/500\n",
      "5000/5000 [==============================] - 0s 27us/step - loss: 16.1419 - energy_error: -21.2723 - val_loss: 18.9848 - val_energy_error: -35.3457\n",
      "Epoch 76/500\n",
      "5000/5000 [==============================] - 0s 27us/step - loss: 16.1175 - energy_error: -21.1915 - val_loss: 18.9703 - val_energy_error: -35.3992\n",
      "Epoch 77/500\n",
      "5000/5000 [==============================] - 0s 29us/step - loss: 16.0934 - energy_error: -21.1121 - val_loss: 18.9560 - val_energy_error: -35.4523\n",
      "Epoch 78/500\n",
      "5000/5000 [==============================] - 0s 28us/step - loss: 16.0696 - energy_error: -21.0339 - val_loss: 18.9419 - val_energy_error: -35.5041\n",
      "Epoch 79/500\n",
      "5000/5000 [==============================] - 0s 25us/step - loss: 16.0459 - energy_error: -20.9570 - val_loss: 18.9279 - val_energy_error: -35.5542\n",
      "Epoch 80/500\n",
      "5000/5000 [==============================] - 0s 28us/step - loss: 16.0225 - energy_error: -20.8814 - val_loss: 18.9141 - val_energy_error: -35.6026\n",
      "Epoch 81/500\n",
      "5000/5000 [==============================] - 0s 36us/step - loss: 15.9993 - energy_error: -20.8069 - val_loss: 18.9005 - val_energy_error: -35.6487\n",
      "Epoch 82/500\n",
      "5000/5000 [==============================] - 0s 29us/step - loss: 15.9763 - energy_error: -20.7335 - val_loss: 18.8870 - val_energy_error: -35.6928\n",
      "Epoch 83/500\n",
      "5000/5000 [==============================] - 0s 27us/step - loss: 15.9535 - energy_error: -20.6610 - val_loss: 18.8736 - val_energy_error: -35.7362\n",
      "Epoch 84/500\n",
      "5000/5000 [==============================] - 0s 33us/step - loss: 15.9309 - energy_error: -20.5896 - val_loss: 18.8603 - val_energy_error: -35.7794\n",
      "Epoch 85/500\n",
      "5000/5000 [==============================] - 0s 25us/step - loss: 15.9084 - energy_error: -20.5192 - val_loss: 18.8473 - val_energy_error: -35.8236\n",
      "Epoch 86/500\n",
      "5000/5000 [==============================] - 0s 24us/step - loss: 15.8862 - energy_error: -20.4501 - val_loss: 18.8343 - val_energy_error: -35.8684\n",
      "Epoch 87/500\n",
      "5000/5000 [==============================] - 0s 29us/step - loss: 15.8641 - energy_error: -20.3822 - val_loss: 18.8215 - val_energy_error: -35.9130\n",
      "Epoch 88/500\n",
      "5000/5000 [==============================] - 0s 27us/step - loss: 15.8422 - energy_error: -20.3155 - val_loss: 18.8089 - val_energy_error: -35.9569\n",
      "Epoch 89/500\n",
      "5000/5000 [==============================] - 0s 28us/step - loss: 15.8205 - energy_error: -20.2500 - val_loss: 18.7963 - val_energy_error: -35.9979\n",
      "Epoch 90/500\n",
      "5000/5000 [==============================] - 0s 27us/step - loss: 15.7990 - energy_error: -20.1852 - val_loss: 18.7839 - val_energy_error: -36.0358\n",
      "Epoch 91/500\n",
      "5000/5000 [==============================] - 0s 29us/step - loss: 15.7777 - energy_error: -20.1213 - val_loss: 18.7717 - val_energy_error: -36.0700\n",
      "Epoch 92/500\n",
      "5000/5000 [==============================] - 0s 32us/step - loss: 15.7566 - energy_error: -20.0579 - val_loss: 18.7595 - val_energy_error: -36.1003\n",
      "Epoch 93/500\n",
      "5000/5000 [==============================] - 0s 27us/step - loss: 15.7356 - energy_error: -19.9950 - val_loss: 18.7476 - val_energy_error: -36.1268\n",
      "Epoch 94/500\n",
      "5000/5000 [==============================] - 0s 32us/step - loss: 15.7148 - energy_error: -19.9326 - val_loss: 18.7357 - val_energy_error: -36.1500\n",
      "Epoch 95/500\n",
      "5000/5000 [==============================] - 0s 26us/step - loss: 15.6942 - energy_error: -19.8708 - val_loss: 18.7239 - val_energy_error: -36.1703\n",
      "Epoch 96/500\n",
      "5000/5000 [==============================] - 0s 26us/step - loss: 15.6737 - energy_error: -19.8096 - val_loss: 18.7122 - val_energy_error: -36.1878\n",
      "Epoch 97/500\n",
      "5000/5000 [==============================] - 0s 31us/step - loss: 15.6534 - energy_error: -19.7488 - val_loss: 18.7007 - val_energy_error: -36.2038\n",
      "Epoch 98/500\n",
      "5000/5000 [==============================] - 0s 28us/step - loss: 15.6332 - energy_error: -19.6888 - val_loss: 18.6892 - val_energy_error: -36.2184\n",
      "Epoch 99/500\n",
      "5000/5000 [==============================] - 0s 26us/step - loss: 15.6131 - energy_error: -19.6294 - val_loss: 18.6779 - val_energy_error: -36.2321\n",
      "Epoch 100/500\n",
      "5000/5000 [==============================] - 0s 30us/step - loss: 15.5932 - energy_error: -19.5708 - val_loss: 18.6666 - val_energy_error: -36.2452\n",
      "Epoch 101/500\n",
      "5000/5000 [==============================] - 0s 29us/step - loss: 15.5735 - energy_error: -19.5130 - val_loss: 18.6555 - val_energy_error: -36.2575\n"
     ]
    },
    {
     "name": "stdout",
     "output_type": "stream",
     "text": [
      "Epoch 102/500\n",
      "5000/5000 [==============================] - 0s 29us/step - loss: 15.5538 - energy_error: -19.4559 - val_loss: 18.6445 - val_energy_error: -36.2688\n",
      "Epoch 103/500\n",
      "5000/5000 [==============================] - 0s 29us/step - loss: 15.5344 - energy_error: -19.3996 - val_loss: 18.6335 - val_energy_error: -36.2788\n",
      "Epoch 104/500\n",
      "5000/5000 [==============================] - 0s 27us/step - loss: 15.5151 - energy_error: -19.3438 - val_loss: 18.6227 - val_energy_error: -36.2870\n",
      "Epoch 105/500\n",
      "5000/5000 [==============================] - 0s 27us/step - loss: 15.4959 - energy_error: -19.2884 - val_loss: 18.6119 - val_energy_error: -36.2937\n",
      "Epoch 106/500\n",
      "5000/5000 [==============================] - 0s 26us/step - loss: 15.4769 - energy_error: -19.2333 - val_loss: 18.6013 - val_energy_error: -36.2990\n",
      "Epoch 107/500\n",
      "5000/5000 [==============================] - 0s 29us/step - loss: 15.4580 - energy_error: -19.1788 - val_loss: 18.5907 - val_energy_error: -36.3027\n",
      "Epoch 108/500\n",
      "5000/5000 [==============================] - 0s 28us/step - loss: 15.4392 - energy_error: -19.1249 - val_loss: 18.5802 - val_energy_error: -36.3037\n",
      "Epoch 109/500\n",
      "5000/5000 [==============================] - 0s 27us/step - loss: 15.4206 - energy_error: -19.0713 - val_loss: 18.5698 - val_energy_error: -36.3029\n",
      "Epoch 110/500\n",
      "5000/5000 [==============================] - 0s 30us/step - loss: 15.4020 - energy_error: -19.0182 - val_loss: 18.5594 - val_energy_error: -36.3007\n",
      "Epoch 111/500\n",
      "5000/5000 [==============================] - 0s 26us/step - loss: 15.3836 - energy_error: -18.9656 - val_loss: 18.5492 - val_energy_error: -36.2970\n",
      "Epoch 112/500\n",
      "5000/5000 [==============================] - 0s 26us/step - loss: 15.3653 - energy_error: -18.9136 - val_loss: 18.5390 - val_energy_error: -36.2916\n",
      "Epoch 113/500\n",
      "5000/5000 [==============================] - 0s 28us/step - loss: 15.3471 - energy_error: -18.8621 - val_loss: 18.5288 - val_energy_error: -36.2850\n",
      "Epoch 114/500\n",
      "5000/5000 [==============================] - 0s 31us/step - loss: 15.3290 - energy_error: -18.8112 - val_loss: 18.5187 - val_energy_error: -36.2774\n",
      "Epoch 115/500\n",
      "5000/5000 [==============================] - 0s 28us/step - loss: 15.3110 - energy_error: -18.7607 - val_loss: 18.5086 - val_energy_error: -36.2694\n",
      "Epoch 116/500\n",
      "5000/5000 [==============================] - 0s 31us/step - loss: 15.2932 - energy_error: -18.7107 - val_loss: 18.4987 - val_energy_error: -36.2617\n",
      "Epoch 117/500\n",
      "5000/5000 [==============================] - 0s 30us/step - loss: 15.2754 - energy_error: -18.6613 - val_loss: 18.4887 - val_energy_error: -36.2547\n",
      "Epoch 118/500\n",
      "5000/5000 [==============================] - 0s 26us/step - loss: 15.2578 - energy_error: -18.6124 - val_loss: 18.4788 - val_energy_error: -36.2488\n",
      "Epoch 119/500\n",
      "5000/5000 [==============================] - 0s 29us/step - loss: 15.2402 - energy_error: -18.5640 - val_loss: 18.4690 - val_energy_error: -36.2436\n",
      "Epoch 120/500\n",
      "5000/5000 [==============================] - 0s 28us/step - loss: 15.2228 - energy_error: -18.5163 - val_loss: 18.4593 - val_energy_error: -36.2380\n",
      "Epoch 121/500\n",
      "5000/5000 [==============================] - 0s 25us/step - loss: 15.2055 - energy_error: -18.4691 - val_loss: 18.4497 - val_energy_error: -36.2312\n",
      "Epoch 122/500\n",
      "5000/5000 [==============================] - 0s 25us/step - loss: 15.1883 - energy_error: -18.4223 - val_loss: 18.4401 - val_energy_error: -36.2228\n",
      "Epoch 123/500\n",
      "5000/5000 [==============================] - 0s 30us/step - loss: 15.1712 - energy_error: -18.3759 - val_loss: 18.4306 - val_energy_error: -36.2125\n",
      "Epoch 124/500\n",
      "5000/5000 [==============================] - 0s 25us/step - loss: 15.1542 - energy_error: -18.3299 - val_loss: 18.4212 - val_energy_error: -36.2006\n",
      "Epoch 125/500\n",
      "5000/5000 [==============================] - 0s 28us/step - loss: 15.1373 - energy_error: -18.2843 - val_loss: 18.4119 - val_energy_error: -36.1875\n",
      "Epoch 126/500\n",
      "5000/5000 [==============================] - 0s 29us/step - loss: 15.1204 - energy_error: -18.2390 - val_loss: 18.4026 - val_energy_error: -36.1734\n",
      "Epoch 127/500\n",
      "5000/5000 [==============================] - 0s 29us/step - loss: 15.1037 - energy_error: -18.1940 - val_loss: 18.3934 - val_energy_error: -36.1587\n",
      "Epoch 128/500\n",
      "5000/5000 [==============================] - 0s 26us/step - loss: 15.0870 - energy_error: -18.1492 - val_loss: 18.3843 - val_energy_error: -36.1440\n",
      "Epoch 129/500\n",
      "5000/5000 [==============================] - 0s 26us/step - loss: 15.0705 - energy_error: -18.1047 - val_loss: 18.3753 - val_energy_error: -36.1298\n",
      "Epoch 130/500\n",
      "5000/5000 [==============================] - 0s 29us/step - loss: 15.0540 - energy_error: -18.0604 - val_loss: 18.3663 - val_energy_error: -36.1169\n",
      "Epoch 131/500\n",
      "5000/5000 [==============================] - 0s 25us/step - loss: 15.0376 - energy_error: -18.0163 - val_loss: 18.3574 - val_energy_error: -36.1058\n",
      "Epoch 132/500\n",
      "5000/5000 [==============================] - 0s 26us/step - loss: 15.0213 - energy_error: -17.9726 - val_loss: 18.3486 - val_energy_error: -36.0972\n",
      "Epoch 133/500\n",
      "5000/5000 [==============================] - 0s 29us/step - loss: 15.0050 - energy_error: -17.9293 - val_loss: 18.3398 - val_energy_error: -36.0914\n",
      "Epoch 134/500\n",
      "5000/5000 [==============================] - 0s 28us/step - loss: 14.9889 - energy_error: -17.8866 - val_loss: 18.3311 - val_energy_error: -36.0883\n",
      "Epoch 135/500\n",
      "5000/5000 [==============================] - 0s 26us/step - loss: 14.9728 - energy_error: -17.8444 - val_loss: 18.3225 - val_energy_error: -36.0877\n",
      "Epoch 136/500\n",
      "5000/5000 [==============================] - 0s 28us/step - loss: 14.9568 - energy_error: -17.8026 - val_loss: 18.3139 - val_energy_error: -36.0889\n",
      "Epoch 137/500\n",
      "5000/5000 [==============================] - 0s 30us/step - loss: 14.9409 - energy_error: -17.7612 - val_loss: 18.3054 - val_energy_error: -36.0914\n",
      "Epoch 138/500\n",
      "5000/5000 [==============================] - 0s 27us/step - loss: 14.9251 - energy_error: -17.7203 - val_loss: 18.2969 - val_energy_error: -36.0957\n",
      "Epoch 139/500\n",
      "5000/5000 [==============================] - 0s 27us/step - loss: 14.9093 - energy_error: -17.6795 - val_loss: 18.2886 - val_energy_error: -36.1036\n",
      "Epoch 140/500\n",
      "5000/5000 [==============================] - 0s 28us/step - loss: 14.8937 - energy_error: -17.6394 - val_loss: 18.2802 - val_energy_error: -36.1138\n",
      "Epoch 141/500\n",
      "5000/5000 [==============================] - 0s 28us/step - loss: 14.8781 - energy_error: -17.5999 - val_loss: 18.2719 - val_energy_error: -36.1254\n",
      "Epoch 142/500\n",
      "5000/5000 [==============================] - 0s 27us/step - loss: 14.8626 - energy_error: -17.5609 - val_loss: 18.2637 - val_energy_error: -36.1376\n",
      "Epoch 143/500\n",
      "5000/5000 [==============================] - 0s 32us/step - loss: 14.8472 - energy_error: -17.5224 - val_loss: 18.2555 - val_energy_error: -36.1498\n",
      "Epoch 144/500\n",
      "5000/5000 [==============================] - 0s 26us/step - loss: 14.8319 - energy_error: -17.4842 - val_loss: 18.2473 - val_energy_error: -36.1610\n",
      "Epoch 145/500\n",
      "5000/5000 [==============================] - 0s 23us/step - loss: 14.8167 - energy_error: -17.4465 - val_loss: 18.2393 - val_energy_error: -36.1708\n",
      "Epoch 146/500\n",
      "5000/5000 [==============================] - 0s 26us/step - loss: 14.8015 - energy_error: -17.4092 - val_loss: 18.2313 - val_energy_error: -36.1789\n",
      "Epoch 147/500\n",
      "5000/5000 [==============================] - 0s 28us/step - loss: 14.7864 - energy_error: -17.3723 - val_loss: 18.2233 - val_energy_error: -36.1852\n",
      "Epoch 148/500\n",
      "5000/5000 [==============================] - 0s 27us/step - loss: 14.7714 - energy_error: -17.3355 - val_loss: 18.2154 - val_energy_error: -36.1900\n",
      "Epoch 149/500\n",
      "5000/5000 [==============================] - 0s 27us/step - loss: 14.7564 - energy_error: -17.2991 - val_loss: 18.2076 - val_energy_error: -36.1938\n",
      "Epoch 150/500\n",
      "5000/5000 [==============================] - 0s 33us/step - loss: 14.7415 - energy_error: -17.2631 - val_loss: 18.1998 - val_energy_error: -36.1967\n",
      "Epoch 151/500\n",
      "5000/5000 [==============================] - 0s 25us/step - loss: 14.7266 - energy_error: -17.2273 - val_loss: 18.1920 - val_energy_error: -36.1990\n",
      "Epoch 152/500\n"
     ]
    },
    {
     "name": "stdout",
     "output_type": "stream",
     "text": [
      "5000/5000 [==============================] - 0s 26us/step - loss: 14.7119 - energy_error: -17.1918 - val_loss: 18.1843 - val_energy_error: -36.2007\n",
      "Epoch 153/500\n",
      "5000/5000 [==============================] - 0s 33us/step - loss: 14.6972 - energy_error: -17.1565 - val_loss: 18.1766 - val_energy_error: -36.2019\n",
      "Epoch 154/500\n",
      "5000/5000 [==============================] - 0s 27us/step - loss: 14.6825 - energy_error: -17.1216 - val_loss: 18.1689 - val_energy_error: -36.2026\n",
      "Epoch 155/500\n",
      "5000/5000 [==============================] - 0s 28us/step - loss: 14.6680 - energy_error: -17.0868 - val_loss: 18.1613 - val_energy_error: -36.2027\n",
      "Epoch 156/500\n",
      "5000/5000 [==============================] - 0s 33us/step - loss: 14.6535 - energy_error: -17.0523 - val_loss: 18.1536 - val_energy_error: -36.2023\n",
      "Epoch 157/500\n",
      "5000/5000 [==============================] - 0s 24us/step - loss: 14.6391 - energy_error: -17.0180 - val_loss: 18.1460 - val_energy_error: -36.2014\n",
      "Epoch 158/500\n",
      "5000/5000 [==============================] - 0s 26us/step - loss: 14.6248 - energy_error: -16.9840 - val_loss: 18.1383 - val_energy_error: -36.1999\n",
      "Epoch 159/500\n",
      "5000/5000 [==============================] - 0s 29us/step - loss: 14.6105 - energy_error: -16.9502 - val_loss: 18.1307 - val_energy_error: -36.1981\n",
      "Epoch 160/500\n",
      "5000/5000 [==============================] - 0s 25us/step - loss: 14.5963 - energy_error: -16.9167 - val_loss: 18.1231 - val_energy_error: -36.1961\n",
      "Epoch 161/500\n",
      "5000/5000 [==============================] - 0s 24us/step - loss: 14.5821 - energy_error: -16.8835 - val_loss: 18.1155 - val_energy_error: -36.1940\n",
      "Epoch 162/500\n",
      "5000/5000 [==============================] - 0s 26us/step - loss: 14.5680 - energy_error: -16.8505 - val_loss: 18.1079 - val_energy_error: -36.1923\n",
      "Epoch 163/500\n",
      "5000/5000 [==============================] - 0s 30us/step - loss: 14.5540 - energy_error: -16.8178 - val_loss: 18.1004 - val_energy_error: -36.1910\n",
      "Epoch 164/500\n",
      "5000/5000 [==============================] - 0s 28us/step - loss: 14.5400 - energy_error: -16.7854 - val_loss: 18.0928 - val_energy_error: -36.1910\n",
      "Epoch 165/500\n",
      "5000/5000 [==============================] - 0s 26us/step - loss: 14.5261 - energy_error: -16.7532 - val_loss: 18.0854 - val_energy_error: -36.1914\n",
      "Epoch 166/500\n",
      "5000/5000 [==============================] - 0s 27us/step - loss: 14.5122 - energy_error: -16.7212 - val_loss: 18.0779 - val_energy_error: -36.1928\n",
      "Epoch 167/500\n",
      "5000/5000 [==============================] - 0s 28us/step - loss: 14.4984 - energy_error: -16.6894 - val_loss: 18.0705 - val_energy_error: -36.1948\n",
      "Epoch 168/500\n",
      "5000/5000 [==============================] - 0s 27us/step - loss: 14.4846 - energy_error: -16.6579 - val_loss: 18.0631 - val_energy_error: -36.1977\n",
      "Epoch 169/500\n",
      "5000/5000 [==============================] - 0s 28us/step - loss: 14.4709 - energy_error: -16.6264 - val_loss: 18.0557 - val_energy_error: -36.2014\n",
      "Epoch 170/500\n",
      "5000/5000 [==============================] - 0s 32us/step - loss: 14.4572 - energy_error: -16.5952 - val_loss: 18.0484 - val_energy_error: -36.2063\n",
      "Epoch 171/500\n",
      "5000/5000 [==============================] - 0s 25us/step - loss: 14.4436 - energy_error: -16.5642 - val_loss: 18.0411 - val_energy_error: -36.2117\n",
      "Epoch 172/500\n",
      "5000/5000 [==============================] - 0s 27us/step - loss: 14.4301 - energy_error: -16.5334 - val_loss: 18.0339 - val_energy_error: -36.2181\n",
      "Epoch 173/500\n",
      "5000/5000 [==============================] - 0s 31us/step - loss: 14.4166 - energy_error: -16.5030 - val_loss: 18.0267 - val_energy_error: -36.2246\n",
      "Epoch 174/500\n",
      "5000/5000 [==============================] - 0s 27us/step - loss: 14.4031 - energy_error: -16.4726 - val_loss: 18.0195 - val_energy_error: -36.2316\n",
      "Epoch 175/500\n",
      "5000/5000 [==============================] - 0s 26us/step - loss: 14.3897 - energy_error: -16.4425 - val_loss: 18.0124 - val_energy_error: -36.2382\n",
      "Epoch 176/500\n",
      "5000/5000 [==============================] - 0s 30us/step - loss: 14.3764 - energy_error: -16.4125 - val_loss: 18.0053 - val_energy_error: -36.2447\n",
      "Epoch 177/500\n",
      "5000/5000 [==============================] - 0s 25us/step - loss: 14.3631 - energy_error: -16.3826 - val_loss: 17.9982 - val_energy_error: -36.2504\n",
      "Epoch 178/500\n",
      "5000/5000 [==============================] - 0s 25us/step - loss: 14.3499 - energy_error: -16.3528 - val_loss: 17.9912 - val_energy_error: -36.2559\n",
      "Epoch 179/500\n",
      "5000/5000 [==============================] - 0s 39us/step - loss: 14.3368 - energy_error: -16.3232 - val_loss: 17.9842 - val_energy_error: -36.2605\n",
      "Epoch 180/500\n",
      "5000/5000 [==============================] - 0s 27us/step - loss: 14.3237 - energy_error: -16.2937 - val_loss: 17.9773 - val_energy_error: -36.2647\n",
      "Epoch 181/500\n",
      "5000/5000 [==============================] - 0s 27us/step - loss: 14.3106 - energy_error: -16.2644 - val_loss: 17.9705 - val_energy_error: -36.2684\n",
      "Epoch 182/500\n",
      "5000/5000 [==============================] - 0s 27us/step - loss: 14.2976 - energy_error: -16.2354 - val_loss: 17.9637 - val_energy_error: -36.2719\n",
      "Epoch 183/500\n",
      "5000/5000 [==============================] - 0s 31us/step - loss: 14.2846 - energy_error: -16.2066 - val_loss: 17.9570 - val_energy_error: -36.2751\n",
      "Epoch 184/500\n",
      "5000/5000 [==============================] - 0s 27us/step - loss: 14.2717 - energy_error: -16.1782 - val_loss: 17.9503 - val_energy_error: -36.2780\n",
      "Epoch 185/500\n",
      "5000/5000 [==============================] - 0s 26us/step - loss: 14.2588 - energy_error: -16.1500 - val_loss: 17.9437 - val_energy_error: -36.2802\n",
      "Epoch 186/500\n",
      "5000/5000 [==============================] - 0s 30us/step - loss: 14.2459 - energy_error: -16.1221 - val_loss: 17.9371 - val_energy_error: -36.2822\n",
      "Epoch 187/500\n",
      "5000/5000 [==============================] - 0s 29us/step - loss: 14.2331 - energy_error: -16.0944 - val_loss: 17.9306 - val_energy_error: -36.2837\n",
      "Epoch 188/500\n",
      "5000/5000 [==============================] - 0s 26us/step - loss: 14.2204 - energy_error: -16.0670 - val_loss: 17.9241 - val_energy_error: -36.2848\n",
      "Epoch 189/500\n",
      "5000/5000 [==============================] - 0s 35us/step - loss: 14.2077 - energy_error: -16.0397 - val_loss: 17.9177 - val_energy_error: -36.2852\n",
      "Epoch 190/500\n",
      "5000/5000 [==============================] - 0s 27us/step - loss: 14.1950 - energy_error: -16.0125 - val_loss: 17.9113 - val_energy_error: -36.2854\n",
      "Epoch 191/500\n",
      "5000/5000 [==============================] - 0s 27us/step - loss: 14.1824 - energy_error: -15.9855 - val_loss: 17.9049 - val_energy_error: -36.2851\n",
      "Epoch 192/500\n",
      "5000/5000 [==============================] - 0s 31us/step - loss: 14.1698 - energy_error: -15.9586 - val_loss: 17.8986 - val_energy_error: -36.2847\n",
      "Epoch 193/500\n",
      "5000/5000 [==============================] - 0s 27us/step - loss: 14.1573 - energy_error: -15.9318 - val_loss: 17.8923 - val_energy_error: -36.2834\n",
      "Epoch 194/500\n",
      "5000/5000 [==============================] - 0s 27us/step - loss: 14.1448 - energy_error: -15.9051 - val_loss: 17.8860 - val_energy_error: -36.2820\n",
      "Epoch 195/500\n",
      "5000/5000 [==============================] - 0s 31us/step - loss: 14.1324 - energy_error: -15.8785 - val_loss: 17.8797 - val_energy_error: -36.2805\n",
      "Epoch 196/500\n",
      "5000/5000 [==============================] - 0s 24us/step - loss: 14.1200 - energy_error: -15.8518 - val_loss: 17.8734 - val_energy_error: -36.2804\n",
      "Epoch 197/500\n",
      "5000/5000 [==============================] - 0s 28us/step - loss: 14.1076 - energy_error: -15.8254 - val_loss: 17.8671 - val_energy_error: -36.2811\n",
      "Epoch 198/500\n",
      "5000/5000 [==============================] - 0s 26us/step - loss: 14.0953 - energy_error: -15.7991 - val_loss: 17.8608 - val_energy_error: -36.2825\n",
      "Epoch 199/500\n",
      "5000/5000 [==============================] - 0s 32us/step - loss: 14.0830 - energy_error: -15.7731 - val_loss: 17.8546 - val_energy_error: -36.2836\n",
      "Epoch 200/500\n",
      "5000/5000 [==============================] - 0s 27us/step - loss: 14.0708 - energy_error: -15.7472 - val_loss: 17.8484 - val_energy_error: -36.2848\n",
      "Epoch 201/500\n",
      "5000/5000 [==============================] - 0s 26us/step - loss: 14.0586 - energy_error: -15.7217 - val_loss: 17.8422 - val_energy_error: -36.2852\n",
      "Epoch 202/500\n"
     ]
    },
    {
     "name": "stdout",
     "output_type": "stream",
     "text": [
      "5000/5000 [==============================] - 0s 32us/step - loss: 14.0465 - energy_error: -15.6963 - val_loss: 17.8360 - val_energy_error: -36.2857\n",
      "Epoch 203/500\n",
      "5000/5000 [==============================] - 0s 28us/step - loss: 14.0344 - energy_error: -15.6712 - val_loss: 17.8298 - val_energy_error: -36.2858\n",
      "Epoch 204/500\n",
      "5000/5000 [==============================] - 0s 26us/step - loss: 14.0223 - energy_error: -15.6462 - val_loss: 17.8237 - val_energy_error: -36.2861\n",
      "Epoch 205/500\n",
      "5000/5000 [==============================] - 0s 33us/step - loss: 14.0103 - energy_error: -15.6215 - val_loss: 17.8176 - val_energy_error: -36.2863\n",
      "Epoch 206/500\n",
      "5000/5000 [==============================] - 0s 26us/step - loss: 13.9983 - energy_error: -15.5970 - val_loss: 17.8115 - val_energy_error: -36.2869\n",
      "Epoch 207/500\n",
      "5000/5000 [==============================] - 0s 27us/step - loss: 13.9864 - energy_error: -15.5727 - val_loss: 17.8055 - val_energy_error: -36.2878\n",
      "Epoch 208/500\n",
      "5000/5000 [==============================] - 0s 35us/step - loss: 13.9745 - energy_error: -15.5486 - val_loss: 17.7994 - val_energy_error: -36.2896\n",
      "Epoch 209/500\n",
      "5000/5000 [==============================] - 0s 24us/step - loss: 13.9627 - energy_error: -15.5247 - val_loss: 17.7934 - val_energy_error: -36.2916\n",
      "Epoch 210/500\n",
      "5000/5000 [==============================] - 0s 24us/step - loss: 13.9508 - energy_error: -15.5011 - val_loss: 17.7874 - val_energy_error: -36.2932\n",
      "Epoch 211/500\n",
      "5000/5000 [==============================] - 0s 31us/step - loss: 13.9391 - energy_error: -15.4775 - val_loss: 17.7813 - val_energy_error: -36.2946\n",
      "Epoch 212/500\n",
      "5000/5000 [==============================] - 0s 28us/step - loss: 13.9273 - energy_error: -15.4540 - val_loss: 17.7754 - val_energy_error: -36.2962\n",
      "Epoch 213/500\n",
      "5000/5000 [==============================] - 0s 26us/step - loss: 13.9156 - energy_error: -15.4306 - val_loss: 17.7694 - val_energy_error: -36.2982\n",
      "Epoch 214/500\n",
      "5000/5000 [==============================] - 0s 27us/step - loss: 13.9040 - energy_error: -15.4073 - val_loss: 17.7635 - val_energy_error: -36.3010\n",
      "Epoch 215/500\n",
      "5000/5000 [==============================] - 0s 34us/step - loss: 13.8923 - energy_error: -15.3842 - val_loss: 17.7576 - val_energy_error: -36.3039\n",
      "Epoch 216/500\n",
      "5000/5000 [==============================] - 0s 28us/step - loss: 13.8807 - energy_error: -15.3613 - val_loss: 17.7517 - val_energy_error: -36.3069\n",
      "Epoch 217/500\n",
      "5000/5000 [==============================] - 0s 25us/step - loss: 13.8692 - energy_error: -15.3384 - val_loss: 17.7459 - val_energy_error: -36.3096\n",
      "Epoch 218/500\n",
      "5000/5000 [==============================] - 0s 32us/step - loss: 13.8577 - energy_error: -15.3157 - val_loss: 17.7402 - val_energy_error: -36.3120\n",
      "Epoch 219/500\n",
      "5000/5000 [==============================] - 0s 25us/step - loss: 13.8462 - energy_error: -15.2931 - val_loss: 17.7344 - val_energy_error: -36.3142\n",
      "Epoch 220/500\n",
      "5000/5000 [==============================] - 0s 29us/step - loss: 13.8347 - energy_error: -15.2707 - val_loss: 17.7287 - val_energy_error: -36.3159\n",
      "Epoch 221/500\n",
      "5000/5000 [==============================] - 0s 26us/step - loss: 13.8233 - energy_error: -15.2485 - val_loss: 17.7231 - val_energy_error: -36.3167\n",
      "Epoch 222/500\n",
      "5000/5000 [==============================] - 0s 28us/step - loss: 13.8119 - energy_error: -15.2264 - val_loss: 17.7175 - val_energy_error: -36.3164\n",
      "Epoch 223/500\n",
      "5000/5000 [==============================] - 0s 26us/step - loss: 13.8006 - energy_error: -15.2045 - val_loss: 17.7119 - val_energy_error: -36.3148\n",
      "Epoch 224/500\n",
      "5000/5000 [==============================] - 0s 25us/step - loss: 13.7893 - energy_error: -15.1827 - val_loss: 17.7063 - val_energy_error: -36.3117\n",
      "Epoch 225/500\n",
      "5000/5000 [==============================] - 0s 28us/step - loss: 13.7780 - energy_error: -15.1610 - val_loss: 17.7008 - val_energy_error: -36.3074\n",
      "Epoch 226/500\n",
      "5000/5000 [==============================] - 0s 24us/step - loss: 13.7667 - energy_error: -15.1393 - val_loss: 17.6954 - val_energy_error: -36.3036\n",
      "Epoch 227/500\n",
      "5000/5000 [==============================] - 0s 26us/step - loss: 13.7555 - energy_error: -15.1179 - val_loss: 17.6899 - val_energy_error: -36.2977\n",
      "Epoch 228/500\n",
      "5000/5000 [==============================] - 0s 33us/step - loss: 13.7443 - energy_error: -15.0962 - val_loss: 17.6845 - val_energy_error: -36.2936\n",
      "Epoch 229/500\n",
      "5000/5000 [==============================] - 0s 25us/step - loss: 13.7332 - energy_error: -15.0750 - val_loss: 17.6792 - val_energy_error: -36.2873\n",
      "Epoch 230/500\n",
      "5000/5000 [==============================] - 0s 28us/step - loss: 13.7220 - energy_error: -15.0534 - val_loss: 17.6738 - val_energy_error: -36.2830\n",
      "Epoch 231/500\n",
      "5000/5000 [==============================] - 0s 31us/step - loss: 13.7109 - energy_error: -15.0322 - val_loss: 17.6684 - val_energy_error: -36.2763\n",
      "Epoch 232/500\n",
      "5000/5000 [==============================] - 0s 24us/step - loss: 13.6999 - energy_error: -15.0108 - val_loss: 17.6631 - val_energy_error: -36.2707\n",
      "Epoch 233/500\n",
      "5000/5000 [==============================] - 0s 28us/step - loss: 13.6889 - energy_error: -14.9897 - val_loss: 17.6578 - val_energy_error: -36.2630\n",
      "Epoch 234/500\n",
      "5000/5000 [==============================] - 0s 26us/step - loss: 13.6778 - energy_error: -14.9684 - val_loss: 17.6525 - val_energy_error: -36.2559\n",
      "Epoch 235/500\n",
      "5000/5000 [==============================] - 0s 31us/step - loss: 13.6669 - energy_error: -14.9473 - val_loss: 17.6472 - val_energy_error: -36.2478\n",
      "Epoch 236/500\n",
      "5000/5000 [==============================] - 0s 27us/step - loss: 13.6559 - energy_error: -14.9262 - val_loss: 17.6419 - val_energy_error: -36.2401\n",
      "Epoch 237/500\n",
      "5000/5000 [==============================] - 0s 28us/step - loss: 13.6450 - energy_error: -14.9051 - val_loss: 17.6366 - val_energy_error: -36.2316\n",
      "Epoch 238/500\n",
      "5000/5000 [==============================] - 0s 27us/step - loss: 13.6341 - energy_error: -14.8841 - val_loss: 17.6313 - val_energy_error: -36.2232\n",
      "Epoch 239/500\n",
      "5000/5000 [==============================] - 0s 25us/step - loss: 13.6232 - energy_error: -14.8631 - val_loss: 17.6261 - val_energy_error: -36.2148\n",
      "Epoch 240/500\n",
      "5000/5000 [==============================] - 0s 28us/step - loss: 13.6124 - energy_error: -14.8421 - val_loss: 17.6208 - val_energy_error: -36.2067\n",
      "Epoch 241/500\n",
      "5000/5000 [==============================] - 0s 34us/step - loss: 13.6016 - energy_error: -14.8211 - val_loss: 17.6156 - val_energy_error: -36.1996\n",
      "Epoch 242/500\n",
      "5000/5000 [==============================] - 0s 26us/step - loss: 13.5908 - energy_error: -14.8004 - val_loss: 17.6104 - val_energy_error: -36.1936\n",
      "Epoch 243/500\n",
      "5000/5000 [==============================] - 0s 28us/step - loss: 13.5800 - energy_error: -14.7798 - val_loss: 17.6052 - val_energy_error: -36.1884\n",
      "Epoch 244/500\n",
      "5000/5000 [==============================] - 0s 28us/step - loss: 13.5692 - energy_error: -14.7595 - val_loss: 17.6000 - val_energy_error: -36.1840\n",
      "Epoch 245/500\n",
      "5000/5000 [==============================] - 0s 26us/step - loss: 13.5585 - energy_error: -14.7394 - val_loss: 17.5949 - val_energy_error: -36.1803\n",
      "Epoch 246/500\n",
      "5000/5000 [==============================] - 0s 24us/step - loss: 13.5478 - energy_error: -14.7194 - val_loss: 17.5897 - val_energy_error: -36.1775\n",
      "Epoch 247/500\n",
      "5000/5000 [==============================] - 0s 27us/step - loss: 13.5371 - energy_error: -14.6996 - val_loss: 17.5846 - val_energy_error: -36.1753\n",
      "Epoch 248/500\n",
      "5000/5000 [==============================] - 0s 26us/step - loss: 13.5265 - energy_error: -14.6800 - val_loss: 17.5796 - val_energy_error: -36.1731\n",
      "Epoch 249/500\n",
      "5000/5000 [==============================] - 0s 25us/step - loss: 13.5158 - energy_error: -14.6604 - val_loss: 17.5745 - val_energy_error: -36.1708\n",
      "Epoch 250/500\n",
      "5000/5000 [==============================] - 0s 29us/step - loss: 13.5053 - energy_error: -14.6408 - val_loss: 17.5695 - val_energy_error: -36.1687\n",
      "Epoch 251/500\n",
      "5000/5000 [==============================] - 0s 31us/step - loss: 13.4947 - energy_error: -14.6211 - val_loss: 17.5644 - val_energy_error: -36.1672\n",
      "Epoch 252/500\n"
     ]
    },
    {
     "name": "stdout",
     "output_type": "stream",
     "text": [
      "5000/5000 [==============================] - 0s 28us/step - loss: 13.4842 - energy_error: -14.6016 - val_loss: 17.5594 - val_energy_error: -36.1659\n",
      "Epoch 253/500\n",
      "5000/5000 [==============================] - 0s 27us/step - loss: 13.4737 - energy_error: -14.5819 - val_loss: 17.5544 - val_energy_error: -36.1648\n",
      "Epoch 254/500\n",
      "5000/5000 [==============================] - 0s 34us/step - loss: 13.4633 - energy_error: -14.5623 - val_loss: 17.5494 - val_energy_error: -36.1635\n",
      "Epoch 255/500\n",
      "5000/5000 [==============================] - 0s 27us/step - loss: 13.4528 - energy_error: -14.5428 - val_loss: 17.5444 - val_energy_error: -36.1618\n",
      "Epoch 256/500\n",
      "5000/5000 [==============================] - 0s 25us/step - loss: 13.4424 - energy_error: -14.5233 - val_loss: 17.5394 - val_energy_error: -36.1593\n",
      "Epoch 257/500\n",
      "5000/5000 [==============================] - 0s 29us/step - loss: 13.4321 - energy_error: -14.5039 - val_loss: 17.5344 - val_energy_error: -36.1561\n",
      "Epoch 258/500\n",
      "5000/5000 [==============================] - 0s 25us/step - loss: 13.4218 - energy_error: -14.4845 - val_loss: 17.5295 - val_energy_error: -36.1516\n",
      "Epoch 259/500\n",
      "5000/5000 [==============================] - 0s 26us/step - loss: 13.4115 - energy_error: -14.4652 - val_loss: 17.5246 - val_energy_error: -36.1468\n",
      "Epoch 260/500\n",
      "5000/5000 [==============================] - 0s 28us/step - loss: 13.4012 - energy_error: -14.4460 - val_loss: 17.5198 - val_energy_error: -36.1413\n",
      "Epoch 261/500\n",
      "5000/5000 [==============================] - 0s 30us/step - loss: 13.3910 - energy_error: -14.4269 - val_loss: 17.5150 - val_energy_error: -36.1358\n",
      "Epoch 262/500\n",
      "5000/5000 [==============================] - 0s 26us/step - loss: 13.3807 - energy_error: -14.4079 - val_loss: 17.5102 - val_energy_error: -36.1300\n",
      "Epoch 263/500\n",
      "5000/5000 [==============================] - 0s 25us/step - loss: 13.3706 - energy_error: -14.3890 - val_loss: 17.5054 - val_energy_error: -36.1244\n",
      "Epoch 264/500\n",
      "5000/5000 [==============================] - 0s 35us/step - loss: 13.3604 - energy_error: -14.3703 - val_loss: 17.5007 - val_energy_error: -36.1195\n",
      "Epoch 265/500\n",
      "5000/5000 [==============================] - 0s 27us/step - loss: 13.3503 - energy_error: -14.3516 - val_loss: 17.4959 - val_energy_error: -36.1155\n",
      "Epoch 266/500\n",
      "5000/5000 [==============================] - 0s 25us/step - loss: 13.3401 - energy_error: -14.3333 - val_loss: 17.4912 - val_energy_error: -36.1121\n",
      "Epoch 267/500\n",
      "5000/5000 [==============================] - 0s 29us/step - loss: 13.3300 - energy_error: -14.3149 - val_loss: 17.4865 - val_energy_error: -36.1096\n",
      "Epoch 268/500\n",
      "5000/5000 [==============================] - 0s 27us/step - loss: 13.3200 - energy_error: -14.2970 - val_loss: 17.4818 - val_energy_error: -36.1075\n",
      "Epoch 269/500\n",
      "5000/5000 [==============================] - 0s 24us/step - loss: 13.3099 - energy_error: -14.2789 - val_loss: 17.4771 - val_energy_error: -36.1058\n",
      "Epoch 270/500\n",
      "5000/5000 [==============================] - 0s 27us/step - loss: 13.2999 - energy_error: -14.2610 - val_loss: 17.4724 - val_energy_error: -36.1038\n",
      "Epoch 271/500\n",
      "5000/5000 [==============================] - 0s 28us/step - loss: 13.2899 - energy_error: -14.2432 - val_loss: 17.4677 - val_energy_error: -36.1021\n",
      "Epoch 272/500\n",
      "5000/5000 [==============================] - 0s 24us/step - loss: 13.2799 - energy_error: -14.2253 - val_loss: 17.4630 - val_energy_error: -36.1001\n",
      "Epoch 273/500\n",
      "5000/5000 [==============================] - 0s 26us/step - loss: 13.2700 - energy_error: -14.2077 - val_loss: 17.4584 - val_energy_error: -36.0981\n",
      "Epoch 274/500\n",
      "5000/5000 [==============================] - 0s 29us/step - loss: 13.2601 - energy_error: -14.1899 - val_loss: 17.4537 - val_energy_error: -36.0958\n",
      "Epoch 275/500\n",
      "5000/5000 [==============================] - 0s 25us/step - loss: 13.2502 - energy_error: -14.1722 - val_loss: 17.4490 - val_energy_error: -36.0936\n",
      "Epoch 276/500\n",
      "5000/5000 [==============================] - 0s 24us/step - loss: 13.2404 - energy_error: -14.1546 - val_loss: 17.4443 - val_energy_error: -36.0912\n",
      "Epoch 277/500\n",
      "5000/5000 [==============================] - 0s 28us/step - loss: 13.2305 - energy_error: -14.1370 - val_loss: 17.4397 - val_energy_error: -36.0897\n",
      "Epoch 278/500\n",
      "5000/5000 [==============================] - 0s 28us/step - loss: 13.2207 - energy_error: -14.1194 - val_loss: 17.4350 - val_energy_error: -36.0883\n",
      "Epoch 279/500\n",
      "5000/5000 [==============================] - 0s 28us/step - loss: 13.2109 - energy_error: -14.1017 - val_loss: 17.4304 - val_energy_error: -36.0874\n",
      "Epoch 280/500\n",
      "5000/5000 [==============================] - 0s 24us/step - loss: 13.2011 - energy_error: -14.0841 - val_loss: 17.4258 - val_energy_error: -36.0864\n",
      "Epoch 281/500\n",
      "5000/5000 [==============================] - 0s 34us/step - loss: 13.1914 - energy_error: -14.0664 - val_loss: 17.4212 - val_energy_error: -36.0861\n",
      "Epoch 282/500\n",
      "5000/5000 [==============================] - 0s 27us/step - loss: 13.1817 - energy_error: -14.0489 - val_loss: 17.4167 - val_energy_error: -36.0851\n",
      "Epoch 283/500\n",
      "5000/5000 [==============================] - 0s 28us/step - loss: 13.1720 - energy_error: -14.0314 - val_loss: 17.4121 - val_energy_error: -36.0838\n",
      "Epoch 284/500\n",
      "5000/5000 [==============================] - 0s 30us/step - loss: 13.1623 - energy_error: -14.0140 - val_loss: 17.4076 - val_energy_error: -36.0818\n",
      "Epoch 285/500\n",
      "5000/5000 [==============================] - 0s 26us/step - loss: 13.1526 - energy_error: -13.9967 - val_loss: 17.4031 - val_energy_error: -36.0797\n",
      "Epoch 286/500\n",
      "5000/5000 [==============================] - 0s 24us/step - loss: 13.1430 - energy_error: -13.9794 - val_loss: 17.3986 - val_energy_error: -36.0770\n",
      "Epoch 287/500\n",
      "5000/5000 [==============================] - 0s 28us/step - loss: 13.1333 - energy_error: -13.9621 - val_loss: 17.3941 - val_energy_error: -36.0744\n",
      "Epoch 288/500\n",
      "5000/5000 [==============================] - 0s 27us/step - loss: 13.1237 - energy_error: -13.9450 - val_loss: 17.3896 - val_energy_error: -36.0713\n",
      "Epoch 289/500\n",
      "5000/5000 [==============================] - 0s 27us/step - loss: 13.1141 - energy_error: -13.9279 - val_loss: 17.3851 - val_energy_error: -36.0683\n",
      "Epoch 290/500\n",
      "5000/5000 [==============================] - 0s 25us/step - loss: 13.1046 - energy_error: -13.9108 - val_loss: 17.3807 - val_energy_error: -36.0650\n",
      "Epoch 291/500\n",
      "5000/5000 [==============================] - 0s 31us/step - loss: 13.0951 - energy_error: -13.8939 - val_loss: 17.3762 - val_energy_error: -36.0621\n",
      "Epoch 292/500\n",
      "5000/5000 [==============================] - 0s 27us/step - loss: 13.0855 - energy_error: -13.8769 - val_loss: 17.3718 - val_energy_error: -36.0591\n",
      "Epoch 293/500\n",
      "5000/5000 [==============================] - 0s 29us/step - loss: 13.0760 - energy_error: -13.8600 - val_loss: 17.3674 - val_energy_error: -36.0568\n",
      "Epoch 294/500\n",
      "5000/5000 [==============================] - 0s 35us/step - loss: 13.0666 - energy_error: -13.8431 - val_loss: 17.3631 - val_energy_error: -36.0546\n",
      "Epoch 295/500\n",
      "5000/5000 [==============================] - 0s 25us/step - loss: 13.0571 - energy_error: -13.8264 - val_loss: 17.3587 - val_energy_error: -36.0531\n",
      "Epoch 296/500\n",
      "5000/5000 [==============================] - 0s 28us/step - loss: 13.0477 - energy_error: -13.8096 - val_loss: 17.3543 - val_energy_error: -36.0516\n",
      "Epoch 297/500\n",
      "5000/5000 [==============================] - 0s 34us/step - loss: 13.0383 - energy_error: -13.7930 - val_loss: 17.3500 - val_energy_error: -36.0508\n",
      "Epoch 298/500\n",
      "5000/5000 [==============================] - 0s 29us/step - loss: 13.0289 - energy_error: -13.7765 - val_loss: 17.3457 - val_energy_error: -36.0497\n",
      "Epoch 299/500\n",
      "5000/5000 [==============================] - 0s 27us/step - loss: 13.0195 - energy_error: -13.7600 - val_loss: 17.3414 - val_energy_error: -36.0496\n",
      "Epoch 300/500\n",
      "5000/5000 [==============================] - 0s 27us/step - loss: 13.0101 - energy_error: -13.7437 - val_loss: 17.3371 - val_energy_error: -36.0495\n",
      "Epoch 301/500\n",
      "5000/5000 [==============================] - 0s 29us/step - loss: 13.0008 - energy_error: -13.7274 - val_loss: 17.3328 - val_energy_error: -36.0503\n",
      "Epoch 302/500\n"
     ]
    },
    {
     "name": "stdout",
     "output_type": "stream",
     "text": [
      "5000/5000 [==============================] - 0s 25us/step - loss: 12.9915 - energy_error: -13.7112 - val_loss: 17.3285 - val_energy_error: -36.0509\n",
      "Epoch 303/500\n",
      "5000/5000 [==============================] - 0s 26us/step - loss: 12.9822 - energy_error: -13.6951 - val_loss: 17.3243 - val_energy_error: -36.0523\n",
      "Epoch 304/500\n",
      "5000/5000 [==============================] - 0s 28us/step - loss: 12.9729 - energy_error: -13.6790 - val_loss: 17.3200 - val_energy_error: -36.0534\n",
      "Epoch 305/500\n",
      "5000/5000 [==============================] - 0s 26us/step - loss: 12.9637 - energy_error: -13.6630 - val_loss: 17.3158 - val_energy_error: -36.0549\n",
      "Epoch 306/500\n",
      "5000/5000 [==============================] - 0s 28us/step - loss: 12.9545 - energy_error: -13.6470 - val_loss: 17.3116 - val_energy_error: -36.0564\n",
      "Epoch 307/500\n",
      "5000/5000 [==============================] - 0s 31us/step - loss: 12.9453 - energy_error: -13.6311 - val_loss: 17.3074 - val_energy_error: -36.0582\n",
      "Epoch 308/500\n",
      "5000/5000 [==============================] - 0s 27us/step - loss: 12.9361 - energy_error: -13.6153 - val_loss: 17.3032 - val_energy_error: -36.0597\n",
      "Epoch 309/500\n",
      "5000/5000 [==============================] - 0s 28us/step - loss: 12.9269 - energy_error: -13.5995 - val_loss: 17.2990 - val_energy_error: -36.0616\n",
      "Epoch 310/500\n",
      "5000/5000 [==============================] - 0s 34us/step - loss: 12.9178 - energy_error: -13.5837 - val_loss: 17.2948 - val_energy_error: -36.0626\n",
      "Epoch 311/500\n",
      "5000/5000 [==============================] - 0s 27us/step - loss: 12.9086 - energy_error: -13.5680 - val_loss: 17.2906 - val_energy_error: -36.0642\n",
      "Epoch 312/500\n",
      "5000/5000 [==============================] - 0s 26us/step - loss: 12.8995 - energy_error: -13.5523 - val_loss: 17.2865 - val_energy_error: -36.0651\n",
      "Epoch 313/500\n",
      "5000/5000 [==============================] - 0s 30us/step - loss: 12.8904 - energy_error: -13.5366 - val_loss: 17.2824 - val_energy_error: -36.0657\n",
      "Epoch 314/500\n",
      "5000/5000 [==============================] - 0s 28us/step - loss: 12.8813 - energy_error: -13.5208 - val_loss: 17.2782 - val_energy_error: -36.0658\n",
      "Epoch 315/500\n",
      "5000/5000 [==============================] - 0s 26us/step - loss: 12.8722 - energy_error: -13.5052 - val_loss: 17.2742 - val_energy_error: -36.0662\n",
      "Epoch 316/500\n",
      "5000/5000 [==============================] - 0s 27us/step - loss: 12.8632 - energy_error: -13.4895 - val_loss: 17.2701 - val_energy_error: -36.0667\n",
      "Epoch 317/500\n",
      "5000/5000 [==============================] - 0s 28us/step - loss: 12.8541 - energy_error: -13.4739 - val_loss: 17.2660 - val_energy_error: -36.0672\n",
      "Epoch 318/500\n",
      "5000/5000 [==============================] - 0s 28us/step - loss: 12.8451 - energy_error: -13.4583 - val_loss: 17.2620 - val_energy_error: -36.0680\n",
      "Epoch 319/500\n",
      "5000/5000 [==============================] - 0s 28us/step - loss: 12.8361 - energy_error: -13.4429 - val_loss: 17.2580 - val_energy_error: -36.0690\n",
      "Epoch 320/500\n",
      "5000/5000 [==============================] - 0s 29us/step - loss: 12.8271 - energy_error: -13.4274 - val_loss: 17.2540 - val_energy_error: -36.0712\n",
      "Epoch 321/500\n",
      "5000/5000 [==============================] - 0s 30us/step - loss: 12.8182 - energy_error: -13.4122 - val_loss: 17.2500 - val_energy_error: -36.0735\n",
      "Epoch 322/500\n",
      "5000/5000 [==============================] - 0s 28us/step - loss: 12.8093 - energy_error: -13.3967 - val_loss: 17.2460 - val_energy_error: -36.0774\n",
      "Epoch 323/500\n",
      "5000/5000 [==============================] - 0s 30us/step - loss: 12.8003 - energy_error: -13.3817 - val_loss: 17.2421 - val_energy_error: -36.0812\n",
      "Epoch 324/500\n",
      "5000/5000 [==============================] - 0s 29us/step - loss: 12.7914 - energy_error: -13.3663 - val_loss: 17.2382 - val_energy_error: -36.0865\n",
      "Epoch 325/500\n",
      "5000/5000 [==============================] - 0s 29us/step - loss: 12.7826 - energy_error: -13.3514 - val_loss: 17.2343 - val_energy_error: -36.0901\n",
      "Epoch 326/500\n",
      "5000/5000 [==============================] - 0s 31us/step - loss: 12.7737 - energy_error: -13.3360 - val_loss: 17.2304 - val_energy_error: -36.0964\n",
      "Epoch 327/500\n",
      "5000/5000 [==============================] - 0s 25us/step - loss: 12.7649 - energy_error: -13.3213 - val_loss: 17.2266 - val_energy_error: -36.1009\n",
      "Epoch 328/500\n",
      "5000/5000 [==============================] - 0s 29us/step - loss: 12.7560 - energy_error: -13.3060 - val_loss: 17.2227 - val_energy_error: -36.1085\n",
      "Epoch 329/500\n",
      "5000/5000 [==============================] - 0s 32us/step - loss: 12.7472 - energy_error: -13.2913 - val_loss: 17.2189 - val_energy_error: -36.1146\n",
      "Epoch 330/500\n",
      "5000/5000 [==============================] - 0s 28us/step - loss: 12.7384 - energy_error: -13.2761 - val_loss: 17.2151 - val_energy_error: -36.1245\n",
      "Epoch 331/500\n",
      "5000/5000 [==============================] - 0s 27us/step - loss: 12.7296 - energy_error: -13.2616 - val_loss: 17.2113 - val_energy_error: -36.1325\n",
      "Epoch 332/500\n",
      "5000/5000 [==============================] - 0s 34us/step - loss: 12.7209 - energy_error: -13.2467 - val_loss: 17.2075 - val_energy_error: -36.1436\n",
      "Epoch 333/500\n",
      "5000/5000 [==============================] - 0s 26us/step - loss: 12.7121 - energy_error: -13.2323 - val_loss: 17.2038 - val_energy_error: -36.1529\n",
      "Epoch 334/500\n",
      "5000/5000 [==============================] - 0s 27us/step - loss: 12.7034 - energy_error: -13.2176 - val_loss: 17.2000 - val_energy_error: -36.1646\n",
      "Epoch 335/500\n",
      "5000/5000 [==============================] - 0s 30us/step - loss: 12.6947 - energy_error: -13.2031 - val_loss: 17.1963 - val_energy_error: -36.1743\n",
      "Epoch 336/500\n",
      "5000/5000 [==============================] - 0s 27us/step - loss: 12.6860 - energy_error: -13.1885 - val_loss: 17.1925 - val_energy_error: -36.1862\n",
      "Epoch 337/500\n",
      "5000/5000 [==============================] - 0s 27us/step - loss: 12.6773 - energy_error: -13.1740 - val_loss: 17.1888 - val_energy_error: -36.1963\n",
      "Epoch 338/500\n",
      "5000/5000 [==============================] - 0s 27us/step - loss: 12.6686 - energy_error: -13.1596 - val_loss: 17.1850 - val_energy_error: -36.2083\n",
      "Epoch 339/500\n",
      "5000/5000 [==============================] - 0s 29us/step - loss: 12.6600 - energy_error: -13.1452 - val_loss: 17.1813 - val_energy_error: -36.2185\n",
      "Epoch 340/500\n",
      "5000/5000 [==============================] - 0s 28us/step - loss: 12.6514 - energy_error: -13.1310 - val_loss: 17.1776 - val_energy_error: -36.2296\n",
      "Epoch 341/500\n",
      "5000/5000 [==============================] - 0s 28us/step - loss: 12.6428 - energy_error: -13.1166 - val_loss: 17.1738 - val_energy_error: -36.2390\n",
      "Epoch 342/500\n",
      "5000/5000 [==============================] - 0s 30us/step - loss: 12.6342 - energy_error: -13.1025 - val_loss: 17.1701 - val_energy_error: -36.2495\n",
      "Epoch 343/500\n",
      "5000/5000 [==============================] - 0s 25us/step - loss: 12.6256 - energy_error: -13.0881 - val_loss: 17.1663 - val_energy_error: -36.2589\n",
      "Epoch 344/500\n",
      "5000/5000 [==============================] - 0s 29us/step - loss: 12.6170 - energy_error: -13.0742 - val_loss: 17.1626 - val_energy_error: -36.2694\n",
      "Epoch 345/500\n",
      "5000/5000 [==============================] - 0s 33us/step - loss: 12.6085 - energy_error: -13.0599 - val_loss: 17.1589 - val_energy_error: -36.2790\n",
      "Epoch 346/500\n",
      "5000/5000 [==============================] - 0s 27us/step - loss: 12.6000 - energy_error: -13.0463 - val_loss: 17.1552 - val_energy_error: -36.2884\n",
      "Epoch 347/500\n",
      "5000/5000 [==============================] - 0s 27us/step - loss: 12.5914 - energy_error: -13.0319 - val_loss: 17.1514 - val_energy_error: -36.2991\n",
      "Epoch 348/500\n",
      "5000/5000 [==============================] - 0s 26us/step - loss: 12.5829 - energy_error: -13.0184 - val_loss: 17.1477 - val_energy_error: -36.3101\n",
      "Epoch 349/500\n",
      "5000/5000 [==============================] - 0s 28us/step - loss: 12.5744 - energy_error: -13.0046 - val_loss: 17.1440 - val_energy_error: -36.3204\n",
      "Epoch 350/500\n",
      "5000/5000 [==============================] - 0s 26us/step - loss: 12.5660 - energy_error: -12.9911 - val_loss: 17.1403 - val_energy_error: -36.3306\n",
      "Epoch 351/500\n",
      "5000/5000 [==============================] - 0s 26us/step - loss: 12.5575 - energy_error: -12.9774 - val_loss: 17.1366 - val_energy_error: -36.3402\n",
      "Epoch 352/500\n"
     ]
    },
    {
     "name": "stdout",
     "output_type": "stream",
     "text": [
      "5000/5000 [==============================] - 0s 32us/step - loss: 12.5491 - energy_error: -12.9641 - val_loss: 17.1329 - val_energy_error: -36.3491\n",
      "Epoch 353/500\n",
      "5000/5000 [==============================] - 0s 24us/step - loss: 12.5407 - energy_error: -12.9503 - val_loss: 17.1292 - val_energy_error: -36.3578\n",
      "Epoch 354/500\n",
      "5000/5000 [==============================] - 0s 26us/step - loss: 12.5323 - energy_error: -12.9370 - val_loss: 17.1255 - val_energy_error: -36.3656\n",
      "Epoch 355/500\n",
      "5000/5000 [==============================] - 0s 33us/step - loss: 12.5239 - energy_error: -12.9234 - val_loss: 17.1219 - val_energy_error: -36.3739\n",
      "Epoch 356/500\n",
      "5000/5000 [==============================] - 0s 27us/step - loss: 12.5155 - energy_error: -12.9101 - val_loss: 17.1182 - val_energy_error: -36.3810\n",
      "Epoch 357/500\n",
      "5000/5000 [==============================] - 0s 24us/step - loss: 12.5072 - energy_error: -12.8965 - val_loss: 17.1146 - val_energy_error: -36.3877\n",
      "Epoch 358/500\n",
      "5000/5000 [==============================] - 0s 28us/step - loss: 12.4989 - energy_error: -12.8833 - val_loss: 17.1110 - val_energy_error: -36.3929\n",
      "Epoch 359/500\n",
      "5000/5000 [==============================] - 0s 29us/step - loss: 12.4905 - energy_error: -12.8697 - val_loss: 17.1075 - val_energy_error: -36.3984\n",
      "Epoch 360/500\n",
      "5000/5000 [==============================] - 0s 27us/step - loss: 12.4822 - energy_error: -12.8565 - val_loss: 17.1040 - val_energy_error: -36.4035\n",
      "Epoch 361/500\n",
      "5000/5000 [==============================] - 0s 24us/step - loss: 12.4740 - energy_error: -12.8429 - val_loss: 17.1004 - val_energy_error: -36.4094\n",
      "Epoch 362/500\n",
      "5000/5000 [==============================] - 0s 35us/step - loss: 12.4657 - energy_error: -12.8298 - val_loss: 17.0969 - val_energy_error: -36.4157\n",
      "Epoch 363/500\n",
      "5000/5000 [==============================] - 0s 29us/step - loss: 12.4574 - energy_error: -12.8164 - val_loss: 17.0934 - val_energy_error: -36.4234\n",
      "Epoch 364/500\n",
      "5000/5000 [==============================] - 0s 25us/step - loss: 12.4492 - energy_error: -12.8033 - val_loss: 17.0899 - val_energy_error: -36.4311\n",
      "Epoch 365/500\n",
      "5000/5000 [==============================] - 0s 29us/step - loss: 12.4409 - energy_error: -12.7900 - val_loss: 17.0865 - val_energy_error: -36.4389\n",
      "Epoch 366/500\n",
      "5000/5000 [==============================] - 0s 27us/step - loss: 12.4327 - energy_error: -12.7771 - val_loss: 17.0830 - val_energy_error: -36.4447\n",
      "Epoch 367/500\n",
      "5000/5000 [==============================] - 0s 28us/step - loss: 12.4245 - energy_error: -12.7638 - val_loss: 17.0796 - val_energy_error: -36.4526\n",
      "Epoch 368/500\n",
      "5000/5000 [==============================] - 0s 32us/step - loss: 12.4162 - energy_error: -12.7512 - val_loss: 17.0762 - val_energy_error: -36.4538\n",
      "Epoch 369/500\n",
      "5000/5000 [==============================] - 0s 27us/step - loss: 12.4081 - energy_error: -12.7372 - val_loss: 17.0728 - val_energy_error: -36.4672\n",
      "Epoch 370/500\n",
      "5000/5000 [==============================] - 0s 26us/step - loss: 12.3999 - energy_error: -12.7255 - val_loss: 17.0694 - val_energy_error: -36.4665\n",
      "Epoch 371/500\n",
      "5000/5000 [==============================] - 0s 25us/step - loss: 12.3917 - energy_error: -12.7122 - val_loss: 17.0660 - val_energy_error: -36.4659\n",
      "Epoch 372/500\n",
      "5000/5000 [==============================] - 0s 31us/step - loss: 12.3836 - energy_error: -12.6990 - val_loss: 17.0626 - val_energy_error: -36.4717\n",
      "Epoch 373/500\n",
      "5000/5000 [==============================] - 0s 27us/step - loss: 12.3754 - energy_error: -12.6865 - val_loss: 17.0592 - val_energy_error: -36.4677\n",
      "Epoch 374/500\n",
      "5000/5000 [==============================] - 0s 26us/step - loss: 12.3673 - energy_error: -12.6726 - val_loss: 17.0559 - val_energy_error: -36.4807\n",
      "Epoch 375/500\n",
      "5000/5000 [==============================] - 0s 29us/step - loss: 12.3592 - energy_error: -12.6610 - val_loss: 17.0525 - val_energy_error: -36.4763\n",
      "Epoch 376/500\n",
      "5000/5000 [==============================] - 0s 27us/step - loss: 12.3511 - energy_error: -12.6481 - val_loss: 17.0492 - val_energy_error: -36.4739\n",
      "Epoch 377/500\n",
      "5000/5000 [==============================] - 0s 24us/step - loss: 12.3430 - energy_error: -12.6348 - val_loss: 17.0458 - val_energy_error: -36.4755\n",
      "Epoch 378/500\n",
      "5000/5000 [==============================] - 0s 30us/step - loss: 12.3350 - energy_error: -12.6226 - val_loss: 17.0425 - val_energy_error: -36.4700\n",
      "Epoch 379/500\n",
      "5000/5000 [==============================] - 0s 26us/step - loss: 12.3270 - energy_error: -12.6085 - val_loss: 17.0392 - val_energy_error: -36.4802\n",
      "Epoch 380/500\n",
      "5000/5000 [==============================] - 0s 28us/step - loss: 12.3189 - energy_error: -12.5974 - val_loss: 17.0359 - val_energy_error: -36.4735\n",
      "Epoch 381/500\n",
      "5000/5000 [==============================] - 0s 32us/step - loss: 12.3109 - energy_error: -12.5841 - val_loss: 17.0327 - val_energy_error: -36.4672\n",
      "Epoch 382/500\n",
      "5000/5000 [==============================] - 0s 27us/step - loss: 12.3029 - energy_error: -12.5709 - val_loss: 17.0294 - val_energy_error: -36.4694\n",
      "Epoch 383/500\n",
      "5000/5000 [==============================] - 0s 28us/step - loss: 12.2949 - energy_error: -12.5586 - val_loss: 17.0261 - val_energy_error: -36.4636\n",
      "Epoch 384/500\n",
      "5000/5000 [==============================] - 0s 24us/step - loss: 12.2869 - energy_error: -12.5450 - val_loss: 17.0229 - val_energy_error: -36.4743\n",
      "Epoch 385/500\n",
      "5000/5000 [==============================] - 0s 28us/step - loss: 12.2790 - energy_error: -12.5338 - val_loss: 17.0196 - val_energy_error: -36.4663\n",
      "Epoch 386/500\n",
      "5000/5000 [==============================] - 0s 40us/step - loss: 12.2710 - energy_error: -12.5209 - val_loss: 17.0164 - val_energy_error: -36.4630\n",
      "Epoch 387/500\n",
      "5000/5000 [==============================] - 0s 30us/step - loss: 12.2631 - energy_error: -12.5084 - val_loss: 17.0132 - val_energy_error: -36.4591\n",
      "Epoch 388/500\n",
      "5000/5000 [==============================] - 0s 31us/step - loss: 12.2551 - energy_error: -12.4960 - val_loss: 17.0100 - val_energy_error: -36.4554\n",
      "Epoch 389/500\n",
      "5000/5000 [==============================] - 0s 27us/step - loss: 12.2472 - energy_error: -12.4836 - val_loss: 17.0068 - val_energy_error: -36.4518\n",
      "Epoch 390/500\n",
      "5000/5000 [==============================] - 0s 27us/step - loss: 12.2393 - energy_error: -12.4714 - val_loss: 17.0036 - val_energy_error: -36.4454\n",
      "Epoch 391/500\n",
      "5000/5000 [==============================] - 0s 30us/step - loss: 12.2314 - energy_error: -12.4587 - val_loss: 17.0004 - val_energy_error: -36.4448\n",
      "Epoch 392/500\n",
      "5000/5000 [==============================] - 0s 24us/step - loss: 12.2235 - energy_error: -12.4469 - val_loss: 16.9972 - val_energy_error: -36.4382\n",
      "Epoch 393/500\n",
      "5000/5000 [==============================] - 0s 26us/step - loss: 12.2156 - energy_error: -12.4344 - val_loss: 16.9941 - val_energy_error: -36.4338\n",
      "Epoch 394/500\n",
      "5000/5000 [==============================] - 0s 31us/step - loss: 12.2077 - energy_error: -12.4220 - val_loss: 16.9909 - val_energy_error: -36.4298\n",
      "Epoch 395/500\n",
      "5000/5000 [==============================] - 0s 24us/step - loss: 12.1999 - energy_error: -12.4098 - val_loss: 16.9878 - val_energy_error: -36.4260\n",
      "Epoch 396/500\n",
      "5000/5000 [==============================] - 0s 29us/step - loss: 12.1921 - energy_error: -12.3974 - val_loss: 16.9847 - val_energy_error: -36.4224\n",
      "Epoch 397/500\n",
      "5000/5000 [==============================] - 0s 31us/step - loss: 12.1842 - energy_error: -12.3852 - val_loss: 16.9816 - val_energy_error: -36.4184\n",
      "Epoch 398/500\n",
      "5000/5000 [==============================] - 0s 26us/step - loss: 12.1764 - energy_error: -12.3727 - val_loss: 16.9785 - val_energy_error: -36.4150\n",
      "Epoch 399/500\n",
      "5000/5000 [==============================] - 0s 28us/step - loss: 12.1686 - energy_error: -12.3606 - val_loss: 16.9754 - val_energy_error: -36.4103\n",
      "Epoch 400/500\n",
      "5000/5000 [==============================] - 0s 27us/step - loss: 12.1609 - energy_error: -12.3482 - val_loss: 16.9723 - val_energy_error: -36.4055\n",
      "Epoch 401/500\n",
      "5000/5000 [==============================] - 0s 26us/step - loss: 12.1531 - energy_error: -12.3363 - val_loss: 16.9692 - val_energy_error: -36.4000\n",
      "Epoch 402/500\n"
     ]
    },
    {
     "name": "stdout",
     "output_type": "stream",
     "text": [
      "5000/5000 [==============================] - 0s 27us/step - loss: 12.1454 - energy_error: -12.3241 - val_loss: 16.9661 - val_energy_error: -36.3937\n",
      "Epoch 403/500\n",
      "5000/5000 [==============================] - 0s 27us/step - loss: 12.1376 - energy_error: -12.3123 - val_loss: 16.9630 - val_energy_error: -36.3886\n",
      "Epoch 404/500\n",
      "5000/5000 [==============================] - 0s 35us/step - loss: 12.1299 - energy_error: -12.3003 - val_loss: 16.9599 - val_energy_error: -36.3817\n",
      "Epoch 405/500\n",
      "5000/5000 [==============================] - 0s 28us/step - loss: 12.1222 - energy_error: -12.2886 - val_loss: 16.9568 - val_energy_error: -36.3772\n",
      "Epoch 406/500\n",
      "5000/5000 [==============================] - 0s 26us/step - loss: 12.1145 - energy_error: -12.2767 - val_loss: 16.9537 - val_energy_error: -36.3706\n",
      "Epoch 407/500\n",
      "5000/5000 [==============================] - 0s 29us/step - loss: 12.1068 - energy_error: -12.2651 - val_loss: 16.9507 - val_energy_error: -36.3674\n",
      "Epoch 408/500\n",
      "5000/5000 [==============================] - 0s 25us/step - loss: 12.0991 - energy_error: -12.2533 - val_loss: 16.9476 - val_energy_error: -36.3612\n",
      "Epoch 409/500\n",
      "5000/5000 [==============================] - 0s 25us/step - loss: 12.0914 - energy_error: -12.2418 - val_loss: 16.9445 - val_energy_error: -36.3586\n",
      "Epoch 410/500\n",
      "5000/5000 [==============================] - 0s 27us/step - loss: 12.0837 - energy_error: -12.2303 - val_loss: 16.9415 - val_energy_error: -36.3535\n",
      "Epoch 411/500\n",
      "5000/5000 [==============================] - 0s 30us/step - loss: 12.0761 - energy_error: -12.2189 - val_loss: 16.9384 - val_energy_error: -36.3511\n",
      "Epoch 412/500\n",
      "5000/5000 [==============================] - 0s 28us/step - loss: 12.0685 - energy_error: -12.2076 - val_loss: 16.9354 - val_energy_error: -36.3481\n",
      "Epoch 413/500\n",
      "5000/5000 [==============================] - 0s 30us/step - loss: 12.0608 - energy_error: -12.1964 - val_loss: 16.9324 - val_energy_error: -36.3464\n",
      "Epoch 414/500\n",
      "5000/5000 [==============================] - 0s 33us/step - loss: 12.0532 - energy_error: -12.1852 - val_loss: 16.9294 - val_energy_error: -36.3446\n",
      "Epoch 415/500\n",
      "5000/5000 [==============================] - 0s 26us/step - loss: 12.0456 - energy_error: -12.1740 - val_loss: 16.9264 - val_energy_error: -36.3428\n",
      "Epoch 416/500\n",
      "5000/5000 [==============================] - 0s 26us/step - loss: 12.0381 - energy_error: -12.1631 - val_loss: 16.9234 - val_energy_error: -36.3433\n",
      "Epoch 417/500\n",
      "5000/5000 [==============================] - 0s 36us/step - loss: 12.0305 - energy_error: -12.1522 - val_loss: 16.9204 - val_energy_error: -36.3427\n",
      "Epoch 418/500\n",
      "5000/5000 [==============================] - 0s 28us/step - loss: 12.0229 - energy_error: -12.1411 - val_loss: 16.9174 - val_energy_error: -36.3434\n",
      "Epoch 419/500\n",
      "5000/5000 [==============================] - 0s 26us/step - loss: 12.0154 - energy_error: -12.1305 - val_loss: 16.9145 - val_energy_error: -36.3458\n",
      "Epoch 420/500\n",
      "5000/5000 [==============================] - 0s 37us/step - loss: 12.0079 - energy_error: -12.1192 - val_loss: 16.9116 - val_energy_error: -36.3466\n",
      "Epoch 421/500\n",
      "5000/5000 [==============================] - 0s 26us/step - loss: 12.0004 - energy_error: -12.1088 - val_loss: 16.9086 - val_energy_error: -36.3520\n",
      "Epoch 422/500\n",
      "5000/5000 [==============================] - 0s 28us/step - loss: 11.9929 - energy_error: -12.0980 - val_loss: 16.9057 - val_energy_error: -36.3555\n",
      "Epoch 423/500\n",
      "5000/5000 [==============================] - 0s 29us/step - loss: 11.9854 - energy_error: -12.0874 - val_loss: 16.9028 - val_energy_error: -36.3584\n",
      "Epoch 424/500\n",
      "5000/5000 [==============================] - 0s 31us/step - loss: 11.9779 - energy_error: -12.0769 - val_loss: 16.8999 - val_energy_error: -36.3668\n",
      "Epoch 425/500\n",
      "5000/5000 [==============================] - 0s 28us/step - loss: 11.9704 - energy_error: -12.0665 - val_loss: 16.8970 - val_energy_error: -36.3677\n",
      "Epoch 426/500\n",
      "5000/5000 [==============================] - 0s 28us/step - loss: 11.9630 - energy_error: -12.0562 - val_loss: 16.8941 - val_energy_error: -36.3752\n",
      "Epoch 427/500\n",
      "5000/5000 [==============================] - 0s 29us/step - loss: 11.9556 - energy_error: -12.0459 - val_loss: 16.8912 - val_energy_error: -36.3743\n",
      "Epoch 428/500\n",
      "5000/5000 [==============================] - 0s 29us/step - loss: 11.9481 - energy_error: -12.0354 - val_loss: 16.8883 - val_energy_error: -36.3807\n",
      "Epoch 429/500\n",
      "5000/5000 [==============================] - 0s 28us/step - loss: 11.9407 - energy_error: -12.0249 - val_loss: 16.8854 - val_energy_error: -36.3783\n",
      "Epoch 430/500\n",
      "5000/5000 [==============================] - 0s 28us/step - loss: 11.9333 - energy_error: -12.0147 - val_loss: 16.8825 - val_energy_error: -36.3836\n",
      "Epoch 431/500\n",
      "5000/5000 [==============================] - 0s 24us/step - loss: 11.9260 - energy_error: -12.0044 - val_loss: 16.8796 - val_energy_error: -36.3802\n",
      "Epoch 432/500\n",
      "5000/5000 [==============================] - 0s 24us/step - loss: 11.9186 - energy_error: -11.9936 - val_loss: 16.8767 - val_energy_error: -36.3806\n",
      "Epoch 433/500\n",
      "5000/5000 [==============================] - 0s 27us/step - loss: 11.9112 - energy_error: -11.9835 - val_loss: 16.8738 - val_energy_error: -36.3802\n",
      "Epoch 434/500\n",
      "5000/5000 [==============================] - 0s 24us/step - loss: 11.9039 - energy_error: -11.9726 - val_loss: 16.8709 - val_energy_error: -36.3807\n",
      "Epoch 435/500\n",
      "5000/5000 [==============================] - 0s 25us/step - loss: 11.8966 - energy_error: -11.9627 - val_loss: 16.8680 - val_energy_error: -36.3776\n",
      "Epoch 436/500\n",
      "5000/5000 [==============================] - 0s 25us/step - loss: 11.8893 - energy_error: -11.9515 - val_loss: 16.8652 - val_energy_error: -36.3782\n",
      "Epoch 437/500\n",
      "5000/5000 [==============================] - 0s 29us/step - loss: 11.8820 - energy_error: -11.9417 - val_loss: 16.8623 - val_energy_error: -36.3750\n",
      "Epoch 438/500\n",
      "5000/5000 [==============================] - 0s 26us/step - loss: 11.8747 - energy_error: -11.9307 - val_loss: 16.8595 - val_energy_error: -36.3779\n",
      "Epoch 439/500\n",
      "5000/5000 [==============================] - 0s 26us/step - loss: 11.8674 - energy_error: -11.9208 - val_loss: 16.8566 - val_energy_error: -36.3725\n",
      "Epoch 440/500\n",
      "5000/5000 [==============================] - 0s 31us/step - loss: 11.8601 - energy_error: -11.9095 - val_loss: 16.8538 - val_energy_error: -36.3726\n",
      "Epoch 441/500\n",
      "5000/5000 [==============================] - 0s 28us/step - loss: 11.8528 - energy_error: -11.8997 - val_loss: 16.8510 - val_energy_error: -36.3717\n",
      "Epoch 442/500\n",
      "5000/5000 [==============================] - 0s 28us/step - loss: 11.8456 - energy_error: -11.8888 - val_loss: 16.8482 - val_energy_error: -36.3704\n",
      "Epoch 443/500\n",
      "5000/5000 [==============================] - 0s 30us/step - loss: 11.8383 - energy_error: -11.8784 - val_loss: 16.8454 - val_energy_error: -36.3626\n",
      "Epoch 444/500\n",
      "5000/5000 [==============================] - 0s 26us/step - loss: 11.8311 - energy_error: -11.8674 - val_loss: 16.8426 - val_energy_error: -36.3675\n",
      "Epoch 445/500\n",
      "5000/5000 [==============================] - 0s 29us/step - loss: 11.8239 - energy_error: -11.8568 - val_loss: 16.8398 - val_energy_error: -36.3579\n",
      "Epoch 446/500\n",
      "5000/5000 [==============================] - 0s 27us/step - loss: 11.8167 - energy_error: -11.8461 - val_loss: 16.8371 - val_energy_error: -36.3649\n",
      "Epoch 447/500\n",
      "5000/5000 [==============================] - 0s 28us/step - loss: 11.8095 - energy_error: -11.8358 - val_loss: 16.8343 - val_energy_error: -36.3546\n",
      "Epoch 448/500\n",
      "5000/5000 [==============================] - 0s 28us/step - loss: 11.8023 - energy_error: -11.8249 - val_loss: 16.8316 - val_energy_error: -36.3552\n",
      "Epoch 449/500\n",
      "5000/5000 [==============================] - 0s 26us/step - loss: 11.7951 - energy_error: -11.8142 - val_loss: 16.8289 - val_energy_error: -36.3510\n",
      "Epoch 450/500\n",
      "5000/5000 [==============================] - 0s 34us/step - loss: 11.7880 - energy_error: -11.8041 - val_loss: 16.8262 - val_energy_error: -36.3516\n",
      "Epoch 451/500\n",
      "5000/5000 [==============================] - 0s 27us/step - loss: 11.7808 - energy_error: -11.7936 - val_loss: 16.8235 - val_energy_error: -36.3451\n",
      "Epoch 452/500\n"
     ]
    },
    {
     "name": "stdout",
     "output_type": "stream",
     "text": [
      "5000/5000 [==============================] - 0s 28us/step - loss: 11.7737 - energy_error: -11.7832 - val_loss: 16.8208 - val_energy_error: -36.3405\n",
      "Epoch 453/500\n",
      "5000/5000 [==============================] - 0s 31us/step - loss: 11.7665 - energy_error: -11.7726 - val_loss: 16.8181 - val_energy_error: -36.3418\n",
      "Epoch 454/500\n",
      "5000/5000 [==============================] - 0s 25us/step - loss: 11.7594 - energy_error: -11.7625 - val_loss: 16.8154 - val_energy_error: -36.3348\n",
      "Epoch 455/500\n",
      "5000/5000 [==============================] - 0s 28us/step - loss: 11.7523 - energy_error: -11.7524 - val_loss: 16.8128 - val_energy_error: -36.3347\n",
      "Epoch 456/500\n",
      "5000/5000 [==============================] - 0s 28us/step - loss: 11.7451 - energy_error: -11.7421 - val_loss: 16.8101 - val_energy_error: -36.3299\n",
      "Epoch 457/500\n",
      "5000/5000 [==============================] - 0s 23us/step - loss: 11.7380 - energy_error: -11.7320 - val_loss: 16.8075 - val_energy_error: -36.3278\n",
      "Epoch 458/500\n",
      "5000/5000 [==============================] - 0s 24us/step - loss: 11.7309 - energy_error: -11.7217 - val_loss: 16.8048 - val_energy_error: -36.3269\n",
      "Epoch 459/500\n",
      "5000/5000 [==============================] - 0s 26us/step - loss: 11.7238 - energy_error: -11.7121 - val_loss: 16.8022 - val_energy_error: -36.3222\n",
      "Epoch 460/500\n",
      "5000/5000 [==============================] - 0s 30us/step - loss: 11.7168 - energy_error: -11.7017 - val_loss: 16.7995 - val_energy_error: -36.3241\n",
      "Epoch 461/500\n",
      "5000/5000 [==============================] - 0s 26us/step - loss: 11.7097 - energy_error: -11.6919 - val_loss: 16.7969 - val_energy_error: -36.3170\n",
      "Epoch 462/500\n",
      "5000/5000 [==============================] - 0s 27us/step - loss: 11.7026 - energy_error: -11.6814 - val_loss: 16.7942 - val_energy_error: -36.3186\n",
      "Epoch 463/500\n",
      "5000/5000 [==============================] - 0s 29us/step - loss: 11.6956 - energy_error: -11.6718 - val_loss: 16.7916 - val_energy_error: -36.3165\n",
      "Epoch 464/500\n",
      "5000/5000 [==============================] - 0s 26us/step - loss: 11.6886 - energy_error: -11.6614 - val_loss: 16.7890 - val_energy_error: -36.3215\n",
      "Epoch 465/500\n",
      "5000/5000 [==============================] - 0s 27us/step - loss: 11.6815 - energy_error: -11.6517 - val_loss: 16.7863 - val_energy_error: -36.3138\n",
      "Epoch 466/500\n",
      "5000/5000 [==============================] - 0s 26us/step - loss: 11.6745 - energy_error: -11.6410 - val_loss: 16.7837 - val_energy_error: -36.3237\n",
      "Epoch 467/500\n",
      "5000/5000 [==============================] - 0s 32us/step - loss: 11.6675 - energy_error: -11.6318 - val_loss: 16.7811 - val_energy_error: -36.3124\n",
      "Epoch 468/500\n",
      "5000/5000 [==============================] - 0s 26us/step - loss: 11.6605 - energy_error: -11.6212 - val_loss: 16.7784 - val_energy_error: -36.3175\n",
      "Epoch 469/500\n",
      "5000/5000 [==============================] - 0s 28us/step - loss: 11.6536 - energy_error: -11.6117 - val_loss: 16.7758 - val_energy_error: -36.3046\n",
      "Epoch 470/500\n",
      "5000/5000 [==============================] - 0s 36us/step - loss: 11.6466 - energy_error: -11.6013 - val_loss: 16.7732 - val_energy_error: -36.3028\n",
      "Epoch 471/500\n",
      "5000/5000 [==============================] - 0s 26us/step - loss: 11.6396 - energy_error: -11.5918 - val_loss: 16.7706 - val_energy_error: -36.2928\n",
      "Epoch 472/500\n",
      "5000/5000 [==============================] - 0s 28us/step - loss: 11.6327 - energy_error: -11.5815 - val_loss: 16.7681 - val_energy_error: -36.2903\n",
      "Epoch 473/500\n",
      "5000/5000 [==============================] - 0s 32us/step - loss: 11.6257 - energy_error: -11.5722 - val_loss: 16.7655 - val_energy_error: -36.2701\n",
      "Epoch 474/500\n",
      "5000/5000 [==============================] - 0s 28us/step - loss: 11.6188 - energy_error: -11.5614 - val_loss: 16.7629 - val_energy_error: -36.2797\n",
      "Epoch 475/500\n",
      "5000/5000 [==============================] - 0s 26us/step - loss: 11.6119 - energy_error: -11.5525 - val_loss: 16.7603 - val_energy_error: -36.2592\n",
      "Epoch 476/500\n",
      "5000/5000 [==============================] - 0s 32us/step - loss: 11.6049 - energy_error: -11.5423 - val_loss: 16.7578 - val_energy_error: -36.2578\n",
      "Epoch 477/500\n",
      "5000/5000 [==============================] - 0s 27us/step - loss: 11.5980 - energy_error: -11.5327 - val_loss: 16.7552 - val_energy_error: -36.2530\n",
      "Epoch 478/500\n",
      "5000/5000 [==============================] - 0s 26us/step - loss: 11.5911 - energy_error: -11.5234 - val_loss: 16.7527 - val_energy_error: -36.2419\n",
      "Epoch 479/500\n",
      "5000/5000 [==============================] - 0s 34us/step - loss: 11.5842 - energy_error: -11.5139 - val_loss: 16.7501 - val_energy_error: -36.2245\n",
      "Epoch 480/500\n",
      "5000/5000 [==============================] - 0s 27us/step - loss: 11.5773 - energy_error: -11.5036 - val_loss: 16.7476 - val_energy_error: -36.2474\n",
      "Epoch 481/500\n",
      "5000/5000 [==============================] - 0s 26us/step - loss: 11.5704 - energy_error: -11.4955 - val_loss: 16.7450 - val_energy_error: -36.1935\n",
      "Epoch 482/500\n",
      "5000/5000 [==============================] - 0s 25us/step - loss: 11.5635 - energy_error: -11.4848 - val_loss: 16.7425 - val_energy_error: -36.2032\n",
      "Epoch 483/500\n",
      "5000/5000 [==============================] - 0s 33us/step - loss: 11.5566 - energy_error: -11.4744 - val_loss: 16.7400 - val_energy_error: -36.2216\n",
      "Epoch 484/500\n",
      "5000/5000 [==============================] - 0s 28us/step - loss: 11.5498 - energy_error: -11.4673 - val_loss: 16.7374 - val_energy_error: -36.1469\n",
      "Epoch 485/500\n",
      "5000/5000 [==============================] - 0s 27us/step - loss: 11.5429 - energy_error: -11.4554 - val_loss: 16.7349 - val_energy_error: -36.1541\n",
      "Epoch 486/500\n",
      "5000/5000 [==============================] - 0s 30us/step - loss: 11.5361 - energy_error: -11.4434 - val_loss: 16.7325 - val_energy_error: -36.2678\n",
      "Epoch 487/500\n",
      "5000/5000 [==============================] - 0s 30us/step - loss: 11.5293 - energy_error: -11.4415 - val_loss: 16.7298 - val_energy_error: -36.0119\n",
      "Epoch 488/500\n",
      "5000/5000 [==============================] - 0s 28us/step - loss: 11.5225 - energy_error: -11.4241 - val_loss: 16.7274 - val_energy_error: -36.1376\n",
      "Epoch 489/500\n",
      "5000/5000 [==============================] - 0s 29us/step - loss: 11.5157 - energy_error: -11.4102 - val_loss: 16.7250 - val_energy_error: -36.3802\n",
      "Epoch 490/500\n",
      "5000/5000 [==============================] - 0s 26us/step - loss: 11.5089 - energy_error: -11.4231 - val_loss: 16.7222 - val_energy_error: -35.6451\n",
      "Epoch 491/500\n",
      "5000/5000 [==============================] - 0s 25us/step - loss: 11.5021 - energy_error: -11.3851 - val_loss: 16.7200 - val_energy_error: -36.2117\n",
      "Epoch 492/500\n",
      "5000/5000 [==============================] - 0s 26us/step - loss: 11.4953 - energy_error: -11.3792 - val_loss: 16.7175 - val_energy_error: -36.4470\n",
      "Epoch 493/500\n",
      "5000/5000 [==============================] - 0s 30us/step - loss: 11.4886 - energy_error: -11.4105 - val_loss: 16.7143 - val_energy_error: -34.9423\n",
      "Epoch 494/500\n",
      "5000/5000 [==============================] - 0s 24us/step - loss: 11.4818 - energy_error: -11.3265 - val_loss: 16.7128 - val_energy_error: -36.8188\n",
      "Epoch 495/500\n",
      "5000/5000 [==============================] - 0s 24us/step - loss: 11.4751 - energy_error: -11.3772 - val_loss: 16.7096 - val_energy_error: -35.6188\n",
      "Epoch 496/500\n",
      "5000/5000 [==============================] - 0s 33us/step - loss: 11.4684 - energy_error: -11.3559 - val_loss: 16.7070 - val_energy_error: -35.2671\n",
      "Epoch 497/500\n",
      "5000/5000 [==============================] - 0s 28us/step - loss: 11.4616 - energy_error: -11.2965 - val_loss: 16.7054 - val_energy_error: -37.0009\n",
      "Epoch 498/500\n",
      "5000/5000 [==============================] - 0s 28us/step - loss: 11.4549 - energy_error: -11.3694 - val_loss: 16.7019 - val_energy_error: -34.9545\n",
      "Epoch 499/500\n",
      "5000/5000 [==============================] - 0s 28us/step - loss: 11.4482 - energy_error: -11.2952 - val_loss: 16.7001 - val_energy_error: -36.0633\n",
      "Epoch 500/500\n",
      "5000/5000 [==============================] - 0s 24us/step - loss: 11.4415 - energy_error: -11.2917 - val_loss: 16.6978 - val_energy_error: -36.5354\n"
     ]
    }
   ],
   "source": [
    "algoritmo='RMSprop'\n",
    "experimento=\"scaledB_{}_encoder_without_bias_sig_sig_lr_{}\".format(supermax,factor_aprendizaje)\n",
    "tensorboard=TensorBoard(log_dir=\"/home/rgadea3/EXPERIMENTOS/nuevas_investigaciones_2018/experimentos/logs/defs/{}{}{}{}\".format(encoding_dimB,algoritmo,experimento,datetime.now()))\n",
    "#modelCheckpoint=ModelCheckpoint(\"/home/rgadea3/EXPERIMENTOS/nuevas_investigaciones_2018/experimentos/logs/\", monitor='val_loss', verbose=0, save_best_only=False, save_weights_only=False, mode='auto', period=1)\n",
    "early_stop=EarlyStopping(monitor='val_loss', min_delta=0, patience=500, verbose=2, mode='auto', baseline=None)\n",
    "results=autoencoderB.fit(x_train_scaled, x_train_scaled,\n",
    "                epochs=500,\n",
    "                batch_size=200,\n",
    "                shuffle=False,\n",
    "                callbacks=[tensorboard, early_stop, metrics],\n",
    "                validation_data=(x_test_scaled, x_test_scaled))\n",
    "\n"
   ]
  },
  {
   "cell_type": "code",
   "execution_count": 29,
   "metadata": {},
   "outputs": [
    {
     "data": {
      "image/png": "[encoded data removed]",
      "text/plain": [
       "<Figure size 432x288 with 1 Axes>"
      ]
     },
     "metadata": {},
     "output_type": "display_data"
    },
    {
     "data": {
      "image/png": "[encoded data removed]",
      "text/plain": [
       "<Figure size 432x288 with 1 Axes>"
      ]
     },
     "metadata": {},
     "output_type": "display_data"
    }
   ],
   "source": [
    "# summarize history for categorical accuracy\n",
    "plt.plot(results.history['energy_error'])\n",
    "plt.plot(results.history['val_energy_error'])\n",
    "plt.title('Energy error')\n",
    "plt.ylabel('accuracy')\n",
    "plt.xlabel('epoch')\n",
    "plt.legend(['train', 'test'], loc='upper left')\n",
    "plt.show()\n",
    "# summarize history for loss\n",
    "plt.plot(results.history['loss'])\n",
    "plt.plot(results.history['val_loss'])\n",
    "plt.title('model loss')\n",
    "plt.ylabel('loss')\n",
    "plt.xlabel('epoch')\n",
    "plt.legend(['train', 'test'], loc='upper left')\n",
    "plt.show()"
   ]
  },
  {
   "cell_type": "code",
   "execution_count": 30,
   "metadata": {},
   "outputs": [],
   "source": [
    "# import pandas as pd \n",
    "# autoencoderB.evaluate(x=x_test_scaled,y=x_test_scaled)\n",
    "# D=metrics.get_data()\n",
    "\n",
    "\n",
    "# energies=pd.DataFrame(D).values.reshape(len(D))\n",
    "# valores=len(energies)\n",
    "# plt.plot(range(valores),energies) \n",
    "\n",
    "# plt.show()"
   ]
  },
  {
   "cell_type": "code",
   "execution_count": 31,
   "metadata": {},
   "outputs": [],
   "source": [
    "autoencoderB.save_weights('../redes_compresoras/defs/compresor_python_{}{}{}{}'.format(encoding_dimB,algoritmo,experimento,datetime.now()))\n",
    "#np.savez('../redes_compresoras/maxmin_python_ver_rms_prop_scaled_min_max_ver2', min_max_scaler.data_max_, min_max_scaler.data_min_)\n",
    "#autoencoder.load_weights('../redes_compresoras/defs/compresor_python_320RMSpropscaled_100_encoder_without_bias_sig_sig_lr_0.00012018-11-03 09:43:55.047213')"
   ]
  },
  {
   "cell_type": "code",
   "execution_count": 32,
   "metadata": {},
   "outputs": [],
   "source": [
    "# standard_scores = encoder.predict(x_test_scaled).ravel()\n",
    "# #regularized_scores = encoded_regularized.predict(x_test).ravel()\n",
    "# sns.distplot(standard_scores, hist=True, label='standard model')\n",
    "# #sns.distplot(regularized_scores, hist=False, label='regularized model')"
   ]
  },
  {
   "cell_type": "code",
   "execution_count": 33,
   "metadata": {},
   "outputs": [],
   "source": [
    "# encode and decode some images\n",
    "# note that we take them from the *test* set\n",
    "# encoded_imgs = encoder.predict(x_test_min_max)\n",
    "# decoded_imgs_scaled = decoder.predict(encoded_imgs)\n",
    "# decoded_imgs_scaled = autoencoderB.predict(x_test_min_max)\n",
    "decoded_imgs_scaledB = autoencoderB.predict(x_test_scaled)\n",
    "decoded_imgs = supermax*(decoded_imgs_scaledB)\n",
    "# decoded_imgs = min_max_scaler.inverse_transform(decoded_imgs_scaled)\n",
    "#decoded_imgs = autoencoder.predict(x_test)\n"
   ]
  },
  {
   "cell_type": "code",
   "execution_count": 34,
   "metadata": {},
   "outputs": [
    {
     "data": {
      "image/png": "[encoded data removed]",
      "text/plain": [
       "<Figure size 1440x288 with 2 Axes>"
      ]
     },
     "metadata": {},
     "output_type": "display_data"
    }
   ],
   "source": [
    "n = 1  # how many digits we will display\n",
    "plt.figure(figsize=(20, 4))\n",
    "for i in range(n):\n",
    "    # display original\n",
    "    idea=np.random.randint(1,x_test.shape[0])\n",
    "    ax = plt.subplot(2, n, i + 1)\n",
    "    plt.imshow(x_test[idea].reshape(img_colsB,img_rows ).transpose(),vmin=0, vmax=30)\n",
    "    plt.viridis()\n",
    "    ax.get_xaxis().set_visible(False)\n",
    "    ax.get_yaxis().set_visible(False)\n",
    "\n",
    "    # display reconstruction\n",
    "    ax = plt.subplot(2, n, i + 1 + n)\n",
    "    plt.imshow(decoded_imgs[idea].reshape(img_colsB, img_rows).transpose(),vmin=0, vmax=30)\n",
    "    plt.viridis()\n",
    "    ax.get_xaxis().set_visible(False)\n",
    "    ax.get_yaxis().set_visible(False)\n",
    "plt.show()\n",
    "# print(idea)\n",
    "# print(x_test[idea])\n",
    "# print(decoded_imgs[idea])\n",
    "# print(decoded_imgs_scaled[idea])\n"
   ]
  },
  {
   "cell_type": "markdown",
   "metadata": {},
   "source": [
    "# Vamos a procesar y comprimir con la red"
   ]
  },
  {
   "cell_type": "markdown",
   "metadata": {},
   "source": [
    "Ahora los particionamos y pasamos por las redes de compresión. Hay una red la A que se utiliza 5 veces"
   ]
  },
  {
   "cell_type": "code",
   "execution_count": 35,
   "metadata": {},
   "outputs": [],
   "source": [
    "x_total=conjunto_datos[0:numero_muestras,:]\n",
    "L1A=5;\n",
    "# hay tres L1 con 576 sensores (36*16)\n",
    "L1B=1;\n",
    "img_rows=20\n",
    "img_colsA=30\n",
    "img_colsB=25\n",
    "img_cols=30\n",
    "input_output_dim_A=img_rows*img_colsA\n",
    "input_output_dim_B=img_rows*img_colsB\n",
    "def sigmoid(x, derivative=False):\n",
    "  return x*(1-x) if derivative else 1/(1+np.exp(-x))\n",
    "ideaA=np.zeros((L1A,input_output_dim_A))\n",
    "ideaB=np.zeros((L1B,input_output_dim_B)) \n",
    "cara_externa=x_total[:,6: 6+L1A*input_output_dim_A+L1B*input_output_dim_B] \n",
    "cara_externa_reconstruida=np.zeros((x_total.shape[0],L1A*input_output_dim_A+L1B*input_output_dim_B))\n",
    "for i in range(x_total.shape[0]):\n",
    "    for k in range(L1A):\n",
    "        ideaA[k,:]=x_total[i,6+k*input_output_dim_A:6+k*input_output_dim_A+input_output_dim_A]\n",
    "    #entrada_imgs_A=(ideaA-min_A.transpose())/(max_A.transpose()-min_A.transpose())\n",
    "#     entrada_imgs_A=(ideaA) #he quitado el escalado\n",
    "#     encoded_imgs_A = sigmoid(np.dot(entrada_imgs_A, Encoder_weights_A) + Encoder_biases_A)\n",
    "#     decoded_imgs_A= (np.dot(encoded_imgs_A, Decoder_weights_A) + Decoder_biases_A)\n",
    "#     #print(decoded_imgs_A.shape)\n",
    "#     #salida_reconstructed_1 = decoded_imgs_A*(max_A.transpose()-min_A.transpose())+min_A.transpose();\n",
    "#     salida_reconstructed_1 = decoded_imgs_A #quito el escalado inverso    \n",
    "\n",
    "\n",
    "    ideaA_scaled=(ideaA/(supermax))\n",
    "    salida_reconstructed_1_scaled = autoencoderA.predict(ideaA_scaled)    \n",
    "    salida_reconstructed_1 = supermax*(salida_reconstructed_1_scaled)\n",
    "    for k in range(L1B):\n",
    "        ideaB[k,:input_output_dim_B]=x_total[i,6+L1A*input_output_dim_A+k*input_output_dim_B:6+L1A*input_output_dim_A+k*input_output_dim_B+input_output_dim_B]\n",
    "    #entrada_imgs_B=(ideaB-min_B.transpose())/(max_B.transpose()-min_B.transpose())\n",
    "#     entrada_imgs_B=(ideaB)  #quito el escalado\n",
    "#     encoded_imgs_B = sigmoid(np.dot(entrada_imgs_B, Encoder_weights_B) + Encoder_biases_B)\n",
    "#     decoded_imgs_B= (np.dot(encoded_imgs_B, Decoder_weights_B) + Decoder_biases_B)\n",
    "#     salida_reconstructed_2 = decoded_imgs_B #quito el escalado inverso  \n",
    "    ideaB_scaled=(ideaB/(supermax))\n",
    "    salida_reconstructed_2_scaled = autoencoderB.predict(ideaB_scaled)    \n",
    "    salida_reconstructed_2 = supermax*(salida_reconstructed_2_scaled)\n",
    "    #salida_reconstructed_2 = decoded_imgs_B*(max_B.transpose()-min_B.transpose())+min_B.transpose()\n",
    "  \n",
    "    hola1=np.reshape(salida_reconstructed_1,(L1A*input_output_dim_A))\n",
    "    hola2=np.reshape(salida_reconstructed_2,(L1B*input_output_dim_B))\n",
    "    #print(hola.shape)\n",
    "    salida_total=np.concatenate((hola1,hola2))\n",
    "    salida_total[salida_total<0]=0\n",
    "    #print(salida_total.shape)\n",
    "    cara_externa_reconstruida[i]=salida_total\n",
    "    \n",
    "mse = (np.square(cara_externa - cara_externa_reconstruida)).mean(axis=1)"
   ]
  },
  {
   "cell_type": "markdown",
   "metadata": {},
   "source": [
    "Veamos ahora ciertos estudios"
   ]
  },
  {
   "cell_type": "code",
   "execution_count": 36,
   "metadata": {},
   "outputs": [],
   "source": [
    "photodefbox2_todo_fil1= datos_matlab.get('photodefbox2_todo_fil1')\n",
    "numero_muestras=photodefbox2_todo_fil1.shape[0]\n",
    "x_total=photodefbox2_todo_fil1[0:numero_muestras,:]\n",
    "L1A=5;\n",
    "# hay tres L1 con 576 sensores (36*16)\n",
    "L1B=1;\n",
    "img_rows=20\n",
    "img_colsA=30\n",
    "img_colsB=25\n",
    "img_cols=30\n",
    "input_output_dim_A=img_rows*img_colsA\n",
    "input_output_dim_B=img_rows*img_colsB\n",
    "def sigmoid(x, derivative=False):\n",
    "  return x*(1-x) if derivative else 1/(1+np.exp(-x))\n",
    "ideaA=np.zeros((L1A,input_output_dim_A))\n",
    "ideaB=np.zeros((L1B,input_output_dim_B)) \n",
    "cara_externa=x_total[:,6: 6+L1A*input_output_dim_A+L1B*input_output_dim_B] \n",
    "cara_externa_reconstruida=np.zeros((x_total.shape[0],L1A*input_output_dim_A+L1B*input_output_dim_B))\n",
    "for i in range(x_total.shape[0]):\n",
    "    for k in range(L1A):\n",
    "        ideaA[k,:]=x_total[i,6+k*input_output_dim_A:6+k*input_output_dim_A+input_output_dim_A]\n",
    "    #entrada_imgs_A=(ideaA-min_A.transpose())/(max_A.transpose()-min_A.transpose())\n",
    "#     entrada_imgs_A=(ideaA) #he quitado el escalado\n",
    "#     encoded_imgs_A = sigmoid(np.dot(entrada_imgs_A, Encoder_weights_A) + Encoder_biases_A)\n",
    "#     decoded_imgs_A= (np.dot(encoded_imgs_A, Decoder_weights_A) + Decoder_biases_A)\n",
    "#     #print(decoded_imgs_A.shape)\n",
    "#     #salida_reconstructed_1 = decoded_imgs_A*(max_A.transpose()-min_A.transpose())+min_A.transpose();\n",
    "#     salida_reconstructed_1 = decoded_imgs_A #quito el escalado inverso    \n",
    "\n",
    "\n",
    "    ideaA_scaled=(ideaA/(supermax))\n",
    "    salida_reconstructed_1_scaled = autoencoderA.predict(ideaA_scaled)    \n",
    "    salida_reconstructed_1 = supermax*(salida_reconstructed_1_scaled)\n",
    "    for k in range(L1B):\n",
    "        ideaB[k,:input_output_dim_B]=x_total[i,6+L1A*input_output_dim_A+k*input_output_dim_B:6+L1A*input_output_dim_A+k*input_output_dim_B+input_output_dim_B]\n",
    "    #entrada_imgs_B=(ideaB-min_B.transpose())/(max_B.transpose()-min_B.transpose())\n",
    "#     entrada_imgs_B=(ideaB)  #quito el escalado\n",
    "#     encoded_imgs_B = sigmoid(np.dot(entrada_imgs_B, Encoder_weights_B) + Encoder_biases_B)\n",
    "#     decoded_imgs_B= (np.dot(encoded_imgs_B, Decoder_weights_B) + Decoder_biases_B)\n",
    "#     salida_reconstructed_2 = decoded_imgs_B #quito el escalado inverso  \n",
    "    ideaB_scaled=(ideaB/(supermax))\n",
    "    salida_reconstructed_2_scaled = autoencoderB.predict(ideaB_scaled)    \n",
    "    salida_reconstructed_2 = supermax*(salida_reconstructed_2_scaled)\n",
    "    #salida_reconstructed_2 = decoded_imgs_B*(max_B.transpose()-min_B.transpose())+min_B.transpose()\n",
    "  \n",
    "    hola1=np.reshape(salida_reconstructed_1,(L1A*input_output_dim_A))\n",
    "    hola2=np.reshape(salida_reconstructed_2,(L1B*input_output_dim_B))\n",
    "    #print(hola.shape)\n",
    "    salida_total=np.concatenate((hola1,hola2))\n",
    "    salida_total[salida_total<0]=0\n",
    "    #print(salida_total.shape)\n",
    "    cara_externa_reconstruida[i]=salida_total\n",
    "    \n",
    "mse = (np.square(cara_externa - cara_externa_reconstruida)).mean(axis=1)\n",
    "mse.shape[0]\n",
    "mse_idea=np.reshape(mse,(mse.shape[0],1))\n",
    "photodefbox2_todo_fil1_e=np.concatenate((photodefbox2_todo_fil1,mse_idea),axis=1)"
   ]
  },
  {
   "cell_type": "code",
   "execution_count": 37,
   "metadata": {},
   "outputs": [],
   "source": [
    "photodefbox2_todo_fil2= datos_matlab.get('photodefbox2_todo_fil2')\n",
    "numero_muestras=photodefbox2_todo_fil2.shape[0]\n",
    "x_total=photodefbox2_todo_fil2[0:numero_muestras,:]\n",
    "L1A=5;\n",
    "# hay tres L1 con 576 sensores (36*16)\n",
    "L1B=1;\n",
    "img_rows=20\n",
    "img_colsA=30\n",
    "img_colsB=25\n",
    "img_cols=30\n",
    "input_output_dim_A=img_rows*img_colsA\n",
    "input_output_dim_B=img_rows*img_colsB\n",
    "def sigmoid(x, derivative=False):\n",
    "  return x*(1-x) if derivative else 1/(1+np.exp(-x))\n",
    "ideaA=np.zeros((L1A,input_output_dim_A))\n",
    "ideaB=np.zeros((L1B,input_output_dim_B)) \n",
    "cara_externa=x_total[:,6: 6+L1A*input_output_dim_A+L1B*input_output_dim_B] \n",
    "cara_externa_reconstruida=np.zeros((x_total.shape[0],L1A*input_output_dim_A+L1B*input_output_dim_B))\n",
    "for i in range(x_total.shape[0]):\n",
    "    for k in range(L1A):\n",
    "        ideaA[k,:]=x_total[i,6+k*input_output_dim_A:6+k*input_output_dim_A+input_output_dim_A]\n",
    "    #entrada_imgs_A=(ideaA-min_A.transpose())/(max_A.transpose()-min_A.transpose())\n",
    "#     entrada_imgs_A=(ideaA) #he quitado el escalado\n",
    "#     encoded_imgs_A = sigmoid(np.dot(entrada_imgs_A, Encoder_weights_A) + Encoder_biases_A)\n",
    "#     decoded_imgs_A= (np.dot(encoded_imgs_A, Decoder_weights_A) + Decoder_biases_A)\n",
    "#     #print(decoded_imgs_A.shape)\n",
    "#     #salida_reconstructed_1 = decoded_imgs_A*(max_A.transpose()-min_A.transpose())+min_A.transpose();\n",
    "#     salida_reconstructed_1 = decoded_imgs_A #quito el escalado inverso    \n",
    "\n",
    "\n",
    "    ideaA_scaled=(ideaA/(supermax))\n",
    "    salida_reconstructed_1_scaled = autoencoderA.predict(ideaA_scaled)    \n",
    "    salida_reconstructed_1 = supermax*(salida_reconstructed_1_scaled)\n",
    "    for k in range(L1B):\n",
    "        ideaB[k,:input_output_dim_B]=x_total[i,6+L1A*input_output_dim_A+k*input_output_dim_B:6+L1A*input_output_dim_A+k*input_output_dim_B+input_output_dim_B]\n",
    "    #entrada_imgs_B=(ideaB-min_B.transpose())/(max_B.transpose()-min_B.transpose())\n",
    "#     entrada_imgs_B=(ideaB)  #quito el escalado\n",
    "#     encoded_imgs_B = sigmoid(np.dot(entrada_imgs_B, Encoder_weights_B) + Encoder_biases_B)\n",
    "#     decoded_imgs_B= (np.dot(encoded_imgs_B, Decoder_weights_B) + Decoder_biases_B)\n",
    "#     salida_reconstructed_2 = decoded_imgs_B #quito el escalado inverso  \n",
    "    ideaB_scaled=(ideaB/(supermax))\n",
    "    salida_reconstructed_2_scaled = autoencoderB.predict(ideaB_scaled)    \n",
    "    salida_reconstructed_2 = supermax*(salida_reconstructed_2_scaled)\n",
    "    #salida_reconstructed_2 = decoded_imgs_B*(max_B.transpose()-min_B.transpose())+min_B.transpose()\n",
    "  \n",
    "    hola1=np.reshape(salida_reconstructed_1,(L1A*input_output_dim_A))\n",
    "    hola2=np.reshape(salida_reconstructed_2,(L1B*input_output_dim_B))\n",
    "    #print(hola.shape)\n",
    "    salida_total=np.concatenate((hola1,hola2))\n",
    "    salida_total[salida_total<0]=0\n",
    "    #print(salida_total.shape)\n",
    "    cara_externa_reconstruida[i]=salida_total\n",
    "    \n",
    "mse = (np.square(cara_externa - cara_externa_reconstruida)).mean(axis=1)\n",
    "mse.shape[0]\n",
    "mse_idea=np.reshape(mse,(mse.shape[0],1))\n",
    "photodefbox2_todo_fil2_e=np.concatenate((photodefbox2_todo_fil2,mse_idea),axis=1)"
   ]
  },
  {
   "cell_type": "code",
   "execution_count": 38,
   "metadata": {},
   "outputs": [],
   "source": [
    "photodefbox2_todo_fil3= datos_matlab.get('photodefbox2_todo_fil3')\n",
    "numero_muestras=photodefbox2_todo_fil3.shape[0]\n",
    "x_total=photodefbox2_todo_fil3[0:numero_muestras,:]\n",
    "L1A=5;\n",
    "# hay tres L1 con 576 sensores (36*16)\n",
    "L1B=1;\n",
    "img_rows=20\n",
    "img_colsA=30\n",
    "img_colsB=25\n",
    "img_cols=30\n",
    "input_output_dim_A=img_rows*img_colsA\n",
    "input_output_dim_B=img_rows*img_colsB\n",
    "def sigmoid(x, derivative=False):\n",
    "  return x*(1-x) if derivative else 1/(1+np.exp(-x))\n",
    "ideaA=np.zeros((L1A,input_output_dim_A))\n",
    "ideaB=np.zeros((L1B,input_output_dim_B)) \n",
    "cara_externa=x_total[:,6: 6+L1A*input_output_dim_A+L1B*input_output_dim_B] \n",
    "cara_externa_reconstruida=np.zeros((x_total.shape[0],L1A*input_output_dim_A+L1B*input_output_dim_B))\n",
    "for i in range(x_total.shape[0]):\n",
    "    for k in range(L1A):\n",
    "        ideaA[k,:]=x_total[i,6+k*input_output_dim_A:6+k*input_output_dim_A+input_output_dim_A]\n",
    "    #entrada_imgs_A=(ideaA-min_A.transpose())/(max_A.transpose()-min_A.transpose())\n",
    "#     entrada_imgs_A=(ideaA) #he quitado el escalado\n",
    "#     encoded_imgs_A = sigmoid(np.dot(entrada_imgs_A, Encoder_weights_A) + Encoder_biases_A)\n",
    "#     decoded_imgs_A= (np.dot(encoded_imgs_A, Decoder_weights_A) + Decoder_biases_A)\n",
    "#     #print(decoded_imgs_A.shape)\n",
    "#     #salida_reconstructed_1 = decoded_imgs_A*(max_A.transpose()-min_A.transpose())+min_A.transpose();\n",
    "#     salida_reconstructed_1 = decoded_imgs_A #quito el escalado inverso    \n",
    "\n",
    "\n",
    "    ideaA_scaled=(ideaA/(supermax))\n",
    "    salida_reconstructed_1_scaled = autoencoderA.predict(ideaA_scaled)    \n",
    "    salida_reconstructed_1 = supermax*(salida_reconstructed_1_scaled)\n",
    "    for k in range(L1B):\n",
    "        ideaB[k,:input_output_dim_B]=x_total[i,6+L1A*input_output_dim_A+k*input_output_dim_B:6+L1A*input_output_dim_A+k*input_output_dim_B+input_output_dim_B]\n",
    "    #entrada_imgs_B=(ideaB-min_B.transpose())/(max_B.transpose()-min_B.transpose())\n",
    "#     entrada_imgs_B=(ideaB)  #quito el escalado\n",
    "#     encoded_imgs_B = sigmoid(np.dot(entrada_imgs_B, Encoder_weights_B) + Encoder_biases_B)\n",
    "#     decoded_imgs_B= (np.dot(encoded_imgs_B, Decoder_weights_B) + Decoder_biases_B)\n",
    "#     salida_reconstructed_2 = decoded_imgs_B #quito el escalado inverso  \n",
    "    ideaB_scaled=(ideaB/(supermax))\n",
    "    salida_reconstructed_2_scaled = autoencoderB.predict(ideaB_scaled)    \n",
    "    salida_reconstructed_2 = supermax*(salida_reconstructed_2_scaled)\n",
    "    #salida_reconstructed_2 = decoded_imgs_B*(max_B.transpose()-min_B.transpose())+min_B.transpose()\n",
    "  \n",
    "    hola1=np.reshape(salida_reconstructed_1,(L1A*input_output_dim_A))\n",
    "    hola2=np.reshape(salida_reconstructed_2,(L1B*input_output_dim_B))\n",
    "    #print(hola.shape)\n",
    "    salida_total=np.concatenate((hola1,hola2))\n",
    "    salida_total[salida_total<0]=0\n",
    "    #print(salida_total.shape)\n",
    "    cara_externa_reconstruida[i]=salida_total\n",
    "    \n",
    "mse = (np.square(cara_externa - cara_externa_reconstruida)).mean(axis=1)\n",
    "mse.shape[0]\n",
    "mse_idea=np.reshape(mse,(mse.shape[0],1))\n",
    "photodefbox2_todo_fil3_e=np.concatenate((photodefbox2_todo_fil3,mse_idea),axis=1)"
   ]
  },
  {
   "cell_type": "code",
   "execution_count": 39,
   "metadata": {},
   "outputs": [],
   "source": [
    "photodefbox2_todo_fil4= datos_matlab.get('photodefbox2_todo_fil4')\n",
    "numero_muestras=photodefbox2_todo_fil4.shape[0]\n",
    "x_total=photodefbox2_todo_fil4[0:numero_muestras,:]\n",
    "L1A=5;\n",
    "# hay tres L1 con 576 sensores (36*16)\n",
    "L1B=1;\n",
    "img_rows=20\n",
    "img_colsA=30\n",
    "img_colsB=25\n",
    "img_cols=30\n",
    "input_output_dim_A=img_rows*img_colsA\n",
    "input_output_dim_B=img_rows*img_colsB\n",
    "def sigmoid(x, derivative=False):\n",
    "  return x*(1-x) if derivative else 1/(1+np.exp(-x))\n",
    "ideaA=np.zeros((L1A,input_output_dim_A))\n",
    "ideaB=np.zeros((L1B,input_output_dim_B)) \n",
    "cara_externa=x_total[:,6: 6+L1A*input_output_dim_A+L1B*input_output_dim_B] \n",
    "cara_externa_reconstruida=np.zeros((x_total.shape[0],L1A*input_output_dim_A+L1B*input_output_dim_B))\n",
    "for i in range(x_total.shape[0]):\n",
    "    for k in range(L1A):\n",
    "        ideaA[k,:]=x_total[i,6+k*input_output_dim_A:6+k*input_output_dim_A+input_output_dim_A]\n",
    "    #entrada_imgs_A=(ideaA-min_A.transpose())/(max_A.transpose()-min_A.transpose())\n",
    "#     entrada_imgs_A=(ideaA) #he quitado el escalado\n",
    "#     encoded_imgs_A = sigmoid(np.dot(entrada_imgs_A, Encoder_weights_A) + Encoder_biases_A)\n",
    "#     decoded_imgs_A= (np.dot(encoded_imgs_A, Decoder_weights_A) + Decoder_biases_A)\n",
    "#     #print(decoded_imgs_A.shape)\n",
    "#     #salida_reconstructed_1 = decoded_imgs_A*(max_A.transpose()-min_A.transpose())+min_A.transpose();\n",
    "#     salida_reconstructed_1 = decoded_imgs_A #quito el escalado inverso    \n",
    "\n",
    "\n",
    "    ideaA_scaled=(ideaA/(supermax))\n",
    "    salida_reconstructed_1_scaled = autoencoderA.predict(ideaA_scaled)    \n",
    "    salida_reconstructed_1 = supermax*(salida_reconstructed_1_scaled)\n",
    "    for k in range(L1B):\n",
    "        ideaB[k,:input_output_dim_B]=x_total[i,6+L1A*input_output_dim_A+k*input_output_dim_B:6+L1A*input_output_dim_A+k*input_output_dim_B+input_output_dim_B]\n",
    "    #entrada_imgs_B=(ideaB-min_B.transpose())/(max_B.transpose()-min_B.transpose())\n",
    "#     entrada_imgs_B=(ideaB)  #quito el escalado\n",
    "#     encoded_imgs_B = sigmoid(np.dot(entrada_imgs_B, Encoder_weights_B) + Encoder_biases_B)\n",
    "#     decoded_imgs_B= (np.dot(encoded_imgs_B, Decoder_weights_B) + Decoder_biases_B)\n",
    "#     salida_reconstructed_2 = decoded_imgs_B #quito el escalado inverso  \n",
    "    ideaB_scaled=(ideaB/(supermax))\n",
    "    salida_reconstructed_2_scaled = autoencoderB.predict(ideaB_scaled)    \n",
    "    salida_reconstructed_2 = supermax*(salida_reconstructed_2_scaled)\n",
    "    #salida_reconstructed_2 = decoded_imgs_B*(max_B.transpose()-min_B.transpose())+min_B.transpose()\n",
    "  \n",
    "    hola1=np.reshape(salida_reconstructed_1,(L1A*input_output_dim_A))\n",
    "    hola2=np.reshape(salida_reconstructed_2,(L1B*input_output_dim_B))\n",
    "    #print(hola.shape)\n",
    "    salida_total=np.concatenate((hola1,hola2))\n",
    "    salida_total[salida_total<0]=0\n",
    "    #print(salida_total.shape)\n",
    "    cara_externa_reconstruida[i]=salida_total\n",
    "    \n",
    "mse = (np.square(cara_externa - cara_externa_reconstruida)).mean(axis=1)\n",
    "mse.shape[0]\n",
    "mse_idea=np.reshape(mse,(mse.shape[0],1))\n",
    "photodefbox2_todo_fil4_e=np.concatenate((photodefbox2_todo_fil4,mse_idea),axis=1)"
   ]
  },
  {
   "cell_type": "code",
   "execution_count": 40,
   "metadata": {},
   "outputs": [],
   "source": [
    "veamosd1 =np.concatenate((photodefbox2_todo_fil1_e[:,-9],photodefbox2_todo_fil2_e[:,-9]),axis=0);\n",
    "# veamosd2 =[photodefbox2_todo_fil3_e(:,end-3);photodefbox2_todo_fil4_e(:,end-3)];\n",
    "veamosen1 =np.concatenate((photodefbox2_todo_fil1_e[:,-11],photodefbox2_todo_fil2_e[:,-11]),axis=0);\n",
    "veamoser1=np.concatenate((photodefbox2_todo_fil1_e[:,-1],photodefbox2_todo_fil2_e[:,-1]),axis=0);"
   ]
  },
  {
   "cell_type": "markdown",
   "metadata": {},
   "source": [
    "Veamos ahora los histogramnas 2d que nos interesan"
   ]
  },
  {
   "cell_type": "code",
   "execution_count": 53,
   "metadata": {},
   "outputs": [
    {
     "data": {
      "image/png": "[encoded data removed]",
      "text/plain": [
       "<Figure size 1440x576 with 1 Axes>"
      ]
     },
     "metadata": {},
     "output_type": "display_data"
    },
    {
     "data": {
      "image/png": "[encoded data removed]",
      "text/plain": [
       "<Figure size 1440x576 with 2 Axes>"
      ]
     },
     "metadata": {},
     "output_type": "display_data"
    },
    {
     "data": {
      "image/png": "[encoded data removed]",
      "text/plain": [
       "<Figure size 1440x576 with 2 Axes>"
      ]
     },
     "metadata": {},
     "output_type": "display_data"
    },
    {
     "data": {
      "image/png": "[encoded data removed]",
      "text/plain": [
       "<Figure size 1440x576 with 2 Axes>"
      ]
     },
     "metadata": {},
     "output_type": "display_data"
    }
   ],
   "source": [
    "\n",
    "plt.figure(figsize=(20, 8))\n",
    "plt.hist(veamoser1, bins=100, range=(0,10))\n",
    "\n",
    "plt.figure(figsize=(20, 8))\n",
    "h1=plt.hist2d(veamosen1, veamosd1, bins=100,range=[(0,0.5),(0,0.6)])\n",
    "plt.colorbar(h1[3])\n",
    "plt.show()\n",
    "\n",
    "plt.show()\n",
    "plt.figure(figsize=(20, 8))\n",
    "h2=plt.hist2d(veamoser1,veamosd1, bins=50, range=[(0,0.2),(0,0.2)])\n",
    "plt.colorbar(h2[3])\n",
    "plt.show()\n",
    "\n",
    "plt.figure(figsize=(20, 8))\n",
    "h3=plt.hist2d(veamoser1,veamosen1, bins=100, range=[(0,0.5),(0,0.5)])\n",
    "plt.colorbar(h3[3])\n",
    "plt.show()"
   ]
  },
  {
   "cell_type": "markdown",
   "metadata": {},
   "source": [
    "## Visualizamos los resultados"
   ]
  },
  {
   "cell_type": "markdown",
   "metadata": {},
   "source": [
    "Visualizamos todos los sensores: "
   ]
  },
  {
   "cell_type": "code",
   "execution_count": 42,
   "metadata": {
    "scrolled": true
   },
   "outputs": [
    {
     "data": {
      "image/png": "[encoded data removed]",
      "text/plain": [
       "<Figure size 2880x720 with 2 Axes>"
      ]
     },
     "metadata": {},
     "output_type": "display_data"
    }
   ],
   "source": [
    "n = 1  # how many digits we will display\n",
    "plt.figure(figsize=(40, 10))\n",
    "for i in range(n):\n",
    "    # display original\n",
    "    idea=np.random.randint(1,x_test.shape[0])\n",
    "    ax = plt.subplot(2, n, i + 1)\n",
    "    plt.imshow(cara_externa[idea].reshape(L1A*img_colsA+L1B*img_colsB, img_rows).transpose(),vmin=0, vmax=30)\n",
    "    plt.viridis()\n",
    "    ax.get_xaxis().set_visible(False)\n",
    "    ax.get_yaxis().set_visible(False)\n",
    "\n",
    "    # display reconstruction\n",
    "    ax = plt.subplot(2, n, i + 1 + n)\n",
    "    plt.imshow(cara_externa_reconstruida[idea].reshape(L1A*img_colsA+L1B*img_colsB, img_rows).transpose(), vmin=0, vmax=30)\n",
    "    plt.viridis()\n",
    "    ax.get_xaxis().set_visible(False)\n",
    "    ax.get_yaxis().set_visible(False)\n",
    "plt.show()"
   ]
  },
  {
   "cell_type": "markdown",
   "metadata": {},
   "source": [
    "Visualizamos ahora L1 a L1, teniendo en cuenta que hay de dos tipos:\n",
    "L1A (con 36 columnas )"
   ]
  },
  {
   "cell_type": "code",
   "execution_count": 43,
   "metadata": {
    "scrolled": true
   },
   "outputs": [
    {
     "data": {
      "image/png": "[encoded data removed]",
      "text/plain": [
       "<Figure size 2880x720 with 10 Axes>"
      ]
     },
     "metadata": {},
     "output_type": "display_data"
    }
   ],
   "source": [
    "n = L1A  # how many digits we will display\n",
    "plt.figure(figsize=(40, 10))\n",
    "for i in range(n):\n",
    "    # display original\n",
    "    ax = plt.subplot(2, n, i + 1)\n",
    "    plt.imshow(cara_externa[idea].reshape(L1A*img_colsA+L1B*img_colsB, img_rows).transpose()[:,i*img_colsA:(i+1)*img_colsA] ,vmin=0, vmax=30)\n",
    "    plt.viridis()\n",
    "    ax.get_xaxis().set_visible(False)\n",
    "    ax.get_yaxis().set_visible(False)\n",
    "    ax = plt.subplot(2, n, i + 1+n)\n",
    "    plt.imshow(cara_externa_reconstruida[idea].reshape(L1A*img_colsA+L1B*img_colsB, img_rows).transpose()[:,i*img_colsA:(i+1)*img_colsA] ,vmin=0, vmax=30)\n",
    "    plt.viridis()\n",
    "    ax.get_xaxis().set_visible(False)\n",
    "    ax.get_yaxis().set_visible(False)\n",
    "plt.show()"
   ]
  },
  {
   "cell_type": "code",
   "execution_count": 44,
   "metadata": {},
   "outputs": [
    {
     "data": {
      "image/png": "[encoded data removed]",
      "text/plain": [
       "<Figure size 2880x720 with 2 Axes>"
      ]
     },
     "metadata": {},
     "output_type": "display_data"
    },
    {
     "name": "stdout",
     "output_type": "stream",
     "text": [
      "1719\n"
     ]
    }
   ],
   "source": [
    "n = L1B  # how many digits we will display\n",
    "plt.figure(figsize=(40, 10))\n",
    "for i in range(n):\n",
    "    # display original\n",
    "    ax = plt.subplot(2, n, i + 1)\n",
    "    plt.imshow(cara_externa[idea].reshape(L1A*img_colsA+L1B*img_colsB, img_rows).transpose()[:,L1A*img_colsA+i*img_colsB:L1A*img_colsA+(i+1)*img_colsB],vmin=0, vmax=30)\n",
    "    plt.viridis()\n",
    "    ax.get_xaxis().set_visible(False)\n",
    "    ax.get_yaxis().set_visible(False)\n",
    "    ax = plt.subplot(2, n, i + 1+n)\n",
    "    plt.imshow(cara_externa_reconstruida[idea].reshape(L1A*img_colsA+L1B*img_colsB, img_rows).transpose()[:,L1A*img_colsA+i*img_colsB:L1A*img_colsA+(i+1)*img_colsB],vmin=0, vmax=30)\n",
    "    plt.viridis()\n",
    "    ax.get_xaxis().set_visible(False)\n",
    "    ax.get_yaxis().set_visible(False)\n",
    "plt.show()\n",
    "print(idea)"
   ]
  },
  {
   "cell_type": "code",
   "execution_count": 45,
   "metadata": {},
   "outputs": [
    {
     "name": "stdout",
     "output_type": "stream",
     "text": [
      "1719\n"
     ]
    },
    {
     "data": {
      "text/plain": [
       "array([7850.6209952 , 8271.13303434, 9661.3599059 , ..., 9039.81085985,\n",
       "       9814.43687577, 7788.59537712])"
      ]
     },
     "execution_count": 45,
     "metadata": {},
     "output_type": "execute_result"
    }
   ],
   "source": [
    "print(idea)\n",
    "np.sum(cara_externa_reconstruida,axis=0)"
   ]
  },
  {
   "cell_type": "code",
   "execution_count": 46,
   "metadata": {},
   "outputs": [
    {
     "name": "stderr",
     "output_type": "stream",
     "text": [
      "/home/rgadea3/anaconda3/envs/tensorflow/lib/python3.6/site-packages/matplotlib/axes/_axes.py:6462: UserWarning: The 'normed' kwarg is deprecated, and has been replaced by the 'density' kwarg.\n",
      "  warnings.warn(\"The 'normed' kwarg is deprecated, and has been \"\n"
     ]
    },
    {
     "data": {
      "image/png": "[encoded data removed]",
      "text/plain": [
       "<Figure size 432x288 with 1 Axes>"
      ]
     },
     "metadata": {},
     "output_type": "display_data"
    },
    {
     "name": "stdout",
     "output_type": "stream",
     "text": [
      "(400,)\n",
      "(401,)\n",
      "[[Model]]\n",
      "    Model(gaussian)\n",
      "[[Fit Statistics]]\n",
      "    # fitting method   = leastsq\n",
      "    # function evals   = 49\n",
      "    # data points      = 400\n",
      "    # variables        = 3\n",
      "    chi-square         = 216105.098\n",
      "    reduced chi-square = 544.345335\n",
      "    Akaike info crit   = 2522.82223\n",
      "    Bayesian info crit = 2534.79663\n",
      "[[Variables]]\n",
      "    amp:  323.797524 +/- 3.88087772 (1.20%) (init = 200)\n",
      "    cen:  150.751509 +/- 2.76068262 (1.83%) (init = 0)\n",
      "    wid:  282.083815 +/- 3.90419836 (1.38%) (init = 100)\n",
      "[[Correlations]] (unreported correlations are < 0.100)\n",
      "    C(amp, wid) = -0.577\n",
      "\n"
     ]
    },
    {
     "data": {
      "image/png": "[encoded data removed]",
      "text/plain": [
       "<Figure size 432x288 with 1 Axes>"
      ]
     },
     "metadata": {},
     "output_type": "display_data"
    }
   ],
   "source": [
    "veamos_energia=(np.sum(cara_externa_reconstruida, axis=1))-(np.sum(cara_externa, axis=1))\n",
    "n, bins, patches = plt.hist(veamos_energia, 400, normed=0, facecolor='green', alpha=0.75)\n",
    "plt.title(\"Histogram with 400 bins\")\n",
    "plt.show()\n",
    "x=bins[:400]\n",
    "y=n\n",
    "print(n.shape)\n",
    "print(bins.shape)\n",
    "from numpy import exp, loadtxt, pi, sqrt, log\n",
    "\n",
    "from lmfit import Model\n",
    "def gaussian(x, amp, cen, wid):\n",
    "    \"\"\"1-d gaussian: gaussian(x, amp, cen, wid)\"\"\"\n",
    "    return amp * exp(-((x-cen)/wid)**2 )\n",
    "\n",
    "\n",
    "gmodel = Model(gaussian)\n",
    "result = gmodel.fit(y, x=x, amp=200, cen=0, wid=100)\n",
    "\n",
    "print(result.fit_report())\n",
    "\n",
    "plt.plot(x, y, 'bo')\n",
    "plt.plot(x, result.init_fit, 'k--')\n",
    "plt.plot(x, result.best_fit, 'r-')\n",
    "plt.show()"
   ]
  },
  {
   "cell_type": "code",
   "execution_count": null,
   "metadata": {},
   "outputs": [],
   "source": []
  }
 ],
 "metadata": {
  "anaconda-cloud": {},
  "kernelspec": {
   "display_name": "Python [conda env:tensorflow]",
   "language": "python",
   "name": "conda-env-tensorflow-py"
  },
  "language_info": {
   "codemirror_mode": {
    "name": "ipython",
    "version": 3
   },
   "file_extension": ".py",
   "mimetype": "text/x-python",
   "name": "python",
   "nbconvert_exporter": "python",
   "pygments_lexer": "ipython3",
   "version": "3.6.5"
  },
  "varInspector": {
   "cols": {
    "lenName": 16,
    "lenType": 16,
    "lenVar": 40
   },
   "kernels_config": {
    "python": {
     "delete_cmd_postfix": "",
     "delete_cmd_prefix": "del ",
     "library": "var_list.py",
     "varRefreshCmd": "print(var_dic_list())"
    },
    "r": {
     "delete_cmd_postfix": ") ",
     "delete_cmd_prefix": "rm(",
     "library": "var_list.r",
     "varRefreshCmd": "cat(var_dic_list()) "
    }
   },
   "position": {
    "height": "495px",
    "left": "1079px",
    "right": "57px",
    "top": "233px",
    "width": "760px"
   },
   "types_to_exclude": [
    "module",
    "function",
    "builtin_function_or_method",
    "instance",
    "_Feature"
   ],
   "window_display": false
  }
 },
 "nbformat": 4,
 "nbformat_minor": 1
}
