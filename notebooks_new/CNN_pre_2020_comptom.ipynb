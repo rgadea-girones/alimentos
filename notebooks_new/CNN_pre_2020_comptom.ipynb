{
 "cells": [
  {
   "cell_type": "markdown",
   "metadata": {},
   "source": [
    "# Simple CNN for PETALO\n",
    "\n",
    "Esta red la vamos a utilizar para obtener el radio "
   ]
  },
  {
   "cell_type": "code",
   "execution_count": 1,
   "metadata": {},
   "outputs": [
    {
     "name": "stdout",
     "output_type": "stream",
     "text": [
      "['/home/rgadea/anaconda3/envs/tensorflow3/lib/python36.zip', '/home/rgadea/anaconda3/envs/tensorflow3/lib/python3.6', '/home/rgadea/anaconda3/envs/tensorflow3/lib/python3.6/lib-dynload', '', '/home/rgadea/anaconda3/envs/tensorflow3/lib/python3.6/site-packages', '/home/rgadea/anaconda3/envs/tensorflow3/lib/python3.6/site-packages/IPython/extensions', '/volumedisk0/home/rgadea/.ipython', '/home/rgadea/lmfit-py/', '/home/rgadea/experimentos/viherbos/']\n"
     ]
    },
    {
     "name": "stderr",
     "output_type": "stream",
     "text": [
      "Using TensorFlow backend.\n",
      "/home/rgadea/anaconda3/envs/tensorflow3/lib/python3.6/site-packages/tensorflow/python/framework/dtypes.py:526: FutureWarning: Passing (type, 1) or '1type' as a synonym of type is deprecated; in a future version of numpy, it will be understood as (type, (1,)) / '(1,)type'.\n",
      "  _np_qint8 = np.dtype([(\"qint8\", np.int8, 1)])\n",
      "/home/rgadea/anaconda3/envs/tensorflow3/lib/python3.6/site-packages/tensorflow/python/framework/dtypes.py:527: FutureWarning: Passing (type, 1) or '1type' as a synonym of type is deprecated; in a future version of numpy, it will be understood as (type, (1,)) / '(1,)type'.\n",
      "  _np_quint8 = np.dtype([(\"quint8\", np.uint8, 1)])\n",
      "/home/rgadea/anaconda3/envs/tensorflow3/lib/python3.6/site-packages/tensorflow/python/framework/dtypes.py:528: FutureWarning: Passing (type, 1) or '1type' as a synonym of type is deprecated; in a future version of numpy, it will be understood as (type, (1,)) / '(1,)type'.\n",
      "  _np_qint16 = np.dtype([(\"qint16\", np.int16, 1)])\n",
      "/home/rgadea/anaconda3/envs/tensorflow3/lib/python3.6/site-packages/tensorflow/python/framework/dtypes.py:529: FutureWarning: Passing (type, 1) or '1type' as a synonym of type is deprecated; in a future version of numpy, it will be understood as (type, (1,)) / '(1,)type'.\n",
      "  _np_quint16 = np.dtype([(\"quint16\", np.uint16, 1)])\n",
      "/home/rgadea/anaconda3/envs/tensorflow3/lib/python3.6/site-packages/tensorflow/python/framework/dtypes.py:530: FutureWarning: Passing (type, 1) or '1type' as a synonym of type is deprecated; in a future version of numpy, it will be understood as (type, (1,)) / '(1,)type'.\n",
      "  _np_qint32 = np.dtype([(\"qint32\", np.int32, 1)])\n",
      "/home/rgadea/anaconda3/envs/tensorflow3/lib/python3.6/site-packages/tensorflow/python/framework/dtypes.py:535: FutureWarning: Passing (type, 1) or '1type' as a synonym of type is deprecated; in a future version of numpy, it will be understood as (type, (1,)) / '(1,)type'.\n",
      "  np_resource = np.dtype([(\"resource\", np.ubyte, 1)])\n"
     ]
    }
   ],
   "source": [
    "import numpy as np\n",
    "#np.random.seed(1337)  # for reproducibility\n",
    "from time import time\n",
    "from datetime import datetime\n",
    "# from sklearn import preprocessing\n",
    "\n",
    "from scipy import signal as fp1\n",
    "\n",
    "import sys\n",
    "\n",
    "sys.path.append(\"/home/rgadea/lmfit-py/\")\n",
    "sys.path.append(\"/home/rgadea/experimentos/viherbos/\")\n",
    "\n",
    "print(sys.path)\n",
    "import json \n",
    "\n",
    "import os\n",
    "os.environ[\"CUDA_DEVICE_ORDER\"] = \"PCI_BUS_ID\"\n",
    "os.environ[\"CUDA_VISIBLE_DEVICES\"] = \"0\"\n",
    "\n",
    "# import seaborn as sns\n",
    "from keras.datasets import mnist\n",
    "from keras.models import Model, Sequential\n",
    "from keras.layers import Input, Dense, Dropout, Activation, Flatten\n",
    "from keras.layers import Conv2D, MaxPooling2D,BatchNormalization\n",
    "from keras.callbacks import TensorBoard, EarlyStopping, ModelCheckpoint\n",
    "from keras.utils import np_utils\n",
    "from keras import regularizers\n",
    "from math import floor\n",
    "from lmfit.models import  GaussianModel\n",
    "import matplotlib.pyplot as plt"
   ]
  },
  {
   "cell_type": "code",
   "execution_count": 2,
   "metadata": {},
   "outputs": [
    {
     "name": "stdout",
     "output_type": "stream",
     "text": [
      "1.13.1\n"
     ]
    }
   ],
   "source": [
    "from keras import backend as K\n",
    "K.tensorflow_backend._get_available_gpus()\n",
    "import tensorflow as tf\n",
    "print(tf.__version__)\n",
    "sess = tf.Session(config=tf.ConfigProto(log_device_placement=True))"
   ]
  },
  {
   "cell_type": "markdown",
   "metadata": {},
   "source": [
    "## Vamos introducir los datos de petalo preprocesados en pyhton\n"
   ]
  },
  {
   "cell_type": "code",
   "execution_count": 3,
   "metadata": {},
   "outputs": [
    {
     "name": "stdout",
     "output_type": "stream",
     "text": [
      "(17064, 3500)\n",
      "(17064, 3500)\n",
      "(17064, 1)\n"
     ]
    },
    {
     "ename": "KeyboardInterrupt",
     "evalue": "",
     "output_type": "error",
     "traceback": [
      "\u001b[0;31m---------------------------------------------------------------------------\u001b[0m",
      "\u001b[0;31mKeyboardInterrupt\u001b[0m                         Traceback (most recent call last)",
      "\u001b[0;32m<ipython-input-3-872e91a4b161>\u001b[0m in \u001b[0;36m<module>\u001b[0;34m\u001b[0m\n\u001b[1;32m     28\u001b[0m \u001b[0mevento21\u001b[0m\u001b[0;34m=\u001b[0m\u001b[0mnp\u001b[0m\u001b[0;34m.\u001b[0m\u001b[0mzeros\u001b[0m\u001b[0;34m(\u001b[0m\u001b[0;34m[\u001b[0m\u001b[0midea1\u001b[0m\u001b[0;34m[\u001b[0m\u001b[0;36m0\u001b[0m\u001b[0;34m]\u001b[0m\u001b[0;34m,\u001b[0m\u001b[0;36m1\u001b[0m\u001b[0;34m]\u001b[0m\u001b[0;34m)\u001b[0m\u001b[0;34m\u001b[0m\u001b[0;34m\u001b[0m\u001b[0m\n\u001b[1;32m     29\u001b[0m \u001b[0;32mfor\u001b[0m \u001b[0mi\u001b[0m \u001b[0;32min\u001b[0m \u001b[0mrange\u001b[0m\u001b[0;34m(\u001b[0m\u001b[0midea1\u001b[0m\u001b[0;34m[\u001b[0m\u001b[0;36m0\u001b[0m\u001b[0;34m]\u001b[0m\u001b[0;34m)\u001b[0m\u001b[0;34m:\u001b[0m\u001b[0;34m\u001b[0m\u001b[0;34m\u001b[0m\u001b[0m\n\u001b[0;32m---> 30\u001b[0;31m     \u001b[0mDATA1\u001b[0m\u001b[0;34m=\u001b[0m\u001b[0mpepito1\u001b[0m\u001b[0;34m(\u001b[0m\u001b[0mi\u001b[0m\u001b[0;34m)\u001b[0m\u001b[0;34m\u001b[0m\u001b[0;34m\u001b[0m\u001b[0m\n\u001b[0m\u001b[1;32m     31\u001b[0m     \u001b[0mentradas_sensorsA11\u001b[0m\u001b[0;34m[\u001b[0m\u001b[0mi\u001b[0m\u001b[0;34m]\u001b[0m\u001b[0;34m=\u001b[0m\u001b[0mDATA1\u001b[0m\u001b[0;34m[\u001b[0m\u001b[0;34m'DATA_A1'\u001b[0m\u001b[0;34m]\u001b[0m\u001b[0;34m;\u001b[0m\u001b[0;34m\u001b[0m\u001b[0;34m\u001b[0m\u001b[0m\n\u001b[1;32m     32\u001b[0m     \u001b[0mentradas_sensorsB11\u001b[0m\u001b[0;34m[\u001b[0m\u001b[0mi\u001b[0m\u001b[0;34m]\u001b[0m\u001b[0;34m=\u001b[0m\u001b[0mDATA1\u001b[0m\u001b[0;34m[\u001b[0m\u001b[0;34m'DATA_B1'\u001b[0m\u001b[0;34m]\u001b[0m\u001b[0;34m;\u001b[0m\u001b[0;34m\u001b[0m\u001b[0;34m\u001b[0m\u001b[0m\n",
      "\u001b[0;32m~/experimentos/viherbos/Event_Handle_red.py\u001b[0m in \u001b[0;36m__call__\u001b[0;34m(self, event)\u001b[0m\n\u001b[1;32m     79\u001b[0m \u001b[0;34m\u001b[0m\u001b[0m\n\u001b[1;32m     80\u001b[0m         \u001b[0;32mfor\u001b[0m \u001b[0mi\u001b[0m \u001b[0;32min\u001b[0m \u001b[0mrange\u001b[0m\u001b[0;34m(\u001b[0m\u001b[0mlen\u001b[0m\u001b[0;34m(\u001b[0m\u001b[0mXe_sel_1D\u001b[0m\u001b[0;34m)\u001b[0m\u001b[0;34m)\u001b[0m\u001b[0;34m:\u001b[0m\u001b[0;34m\u001b[0m\u001b[0;34m\u001b[0m\u001b[0m\n\u001b[0;32m---> 81\u001b[0;31m             \u001b[0msipm_coord\u001b[0m \u001b[0;34m=\u001b[0m \u001b[0mnp\u001b[0m\u001b[0;34m.\u001b[0m\u001b[0mwhere\u001b[0m\u001b[0;34m(\u001b[0m\u001b[0mself\u001b[0m\u001b[0;34m.\u001b[0m\u001b[0mSiPM_Matrix\u001b[0m \u001b[0;34m==\u001b[0m \u001b[0mXe_sel_1D\u001b[0m\u001b[0;34m[\u001b[0m\u001b[0mi\u001b[0m\u001b[0;34m]\u001b[0m\u001b[0;34m)\u001b[0m\u001b[0;34m\u001b[0m\u001b[0;34m\u001b[0m\u001b[0m\n\u001b[0m\u001b[1;32m     82\u001b[0m             \u001b[0mDATA_A_2\u001b[0m\u001b[0;34m[\u001b[0m\u001b[0msipm_coord\u001b[0m\u001b[0;34m]\u001b[0m \u001b[0;34m=\u001b[0m \u001b[0mself\u001b[0m\u001b[0;34m.\u001b[0m\u001b[0mDATA_A\u001b[0m\u001b[0;34m[\u001b[0m\u001b[0mevent\u001b[0m\u001b[0;34m,\u001b[0m\u001b[0mXe_sel_1D\u001b[0m\u001b[0;34m[\u001b[0m\u001b[0mi\u001b[0m\u001b[0;34m]\u001b[0m\u001b[0;34m-\u001b[0m\u001b[0mself\u001b[0m\u001b[0;34m.\u001b[0m\u001b[0mparam\u001b[0m\u001b[0;34m[\u001b[0m\u001b[0;34m'SIPM'\u001b[0m\u001b[0;34m]\u001b[0m\u001b[0;34m[\u001b[0m\u001b[0;34m'first_sipm'\u001b[0m\u001b[0;34m]\u001b[0m\u001b[0;34m]\u001b[0m\u001b[0;34m\u001b[0m\u001b[0;34m\u001b[0m\u001b[0m\n\u001b[1;32m     83\u001b[0m             \u001b[0mDATA_B_2\u001b[0m\u001b[0;34m[\u001b[0m\u001b[0msipm_coord\u001b[0m\u001b[0;34m]\u001b[0m \u001b[0;34m=\u001b[0m \u001b[0mself\u001b[0m\u001b[0;34m.\u001b[0m\u001b[0mDATA_B\u001b[0m\u001b[0;34m[\u001b[0m\u001b[0mevent\u001b[0m\u001b[0;34m,\u001b[0m\u001b[0mXe_sel_1D\u001b[0m\u001b[0;34m[\u001b[0m\u001b[0mi\u001b[0m\u001b[0;34m]\u001b[0m\u001b[0;34m-\u001b[0m\u001b[0mself\u001b[0m\u001b[0;34m.\u001b[0m\u001b[0mparam\u001b[0m\u001b[0;34m[\u001b[0m\u001b[0;34m'SIPM'\u001b[0m\u001b[0;34m]\u001b[0m\u001b[0;34m[\u001b[0m\u001b[0;34m'first_sipm'\u001b[0m\u001b[0;34m]\u001b[0m\u001b[0;34m]\u001b[0m\u001b[0;34m\u001b[0m\u001b[0;34m\u001b[0m\u001b[0m\n",
      "\u001b[0;32m<__array_function__ internals>\u001b[0m in \u001b[0;36mwhere\u001b[0;34m(*args, **kwargs)\u001b[0m\n",
      "\u001b[0;31mKeyboardInterrupt\u001b[0m: "
     ]
    }
   ],
   "source": [
    "import scipy.io as sio\n",
    "import Event_Handle_red as  eh\n",
    "# import hdf5storage\n",
    "# datos_matlab = hdf5storage.loadmat('../datos_junio_2019/conjunto_entrenamiento_junio_2019_pitch7mm_rad165mm_29_total_2_distancias_red.mat')\n",
    "# conjunto_datos= datos_matlab.get('photodefbox2_todo_fil5')\n",
    "\n",
    "# npzfile = np.load('../conjuntos_datos_reconstruidos/fil5_pith7mm_rad165mm_scaled2_sig_sig_1200.npz')\n",
    "# npzfile.files\n",
    "path = \"/home/rgadea/experimentos/viherbos/\"\n",
    "data_file = \"MOVIE_DATA_batch1.h5\"\n",
    "json_file = \"CUBE.json\"\n",
    "def cart2pol(x, y,z):\n",
    "    rho = np.sqrt(x**2 + y**2)\n",
    "    phi = np.arctan2(y, x)\n",
    "    return(rho, phi,z)\n",
    "\n",
    "\n",
    "pepito1=eh.Event_Handler(path, data_file, json_file)\n",
    "idea1=pepito1.DATA_A.shape #obtengo el numero de muestras\n",
    "\n",
    "entradas_sensorsA11=np.zeros([idea1[0],20,175])\n",
    "entradas_sensorsB11=np.zeros([idea1[0],20,175])\n",
    "coordenadas11=np.zeros([idea1[0],3])\n",
    "entradas_sensorsA21=np.zeros([idea1[0],20,175])\n",
    "entradas_sensorsB21=np.zeros([idea1[0],20,175])\n",
    "coordenadas21=np.zeros([idea1[0],3])\n",
    "evento11=np.zeros([idea1[0],1])\n",
    "evento21=np.zeros([idea1[0],1])\n",
    "for i in range(idea1[0]):\n",
    "    DATA1=pepito1(i)\n",
    "    entradas_sensorsA11[i]=DATA1['DATA_A1'];\n",
    "    entradas_sensorsB11[i]=DATA1['DATA_B1'];    \n",
    "    veamos=DATA1['TRUE1']\n",
    "    polares=cart2pol(veamos[0], veamos[1], veamos[2])\n",
    "    coordenadas11[i]=np.asarray(polares)\n",
    "    evento11[i]=DATA1['event'];    \n",
    "    entradas_sensorsA21[i]=DATA1['DATA_A2'];\n",
    "    entradas_sensorsB21[i]=DATA1['DATA_B2'];    \n",
    "    veamos=DATA1['TRUE2']\n",
    "    polares=cart2pol(veamos[0], veamos[1], veamos[2])\n",
    "    coordenadas21[i]=np.asarray(polares)\n",
    "    evento21[i]=DATA1['event'];\n",
    "    \n",
    "data_file = \"MOVIE_DATA_batch2.h5\"\n",
    "pepito2=eh.Event_Handler(path, data_file, json_file)\n",
    "idea2=pepito2.DATA_A.shape #obtengo el numero de muestras\n",
    "\n",
    "entradas_sensorsA12=np.zeros([idea2[0],20,175])\n",
    "entradas_sensorsB12=np.zeros([idea2[0],20,175])\n",
    "coordenadas12=np.zeros([idea2[0],3])\n",
    "entradas_sensorsA22=np.zeros([idea2[0],20,175])\n",
    "entradas_sensorsB22=np.zeros([idea2[0],20,175])\n",
    "coordenadas22=np.zeros([idea2[0],3])\n",
    "evento12=np.zeros([idea2[0],1])\n",
    "evento22=np.zeros([idea2[0],1])\n",
    "for i in range(idea2[0]):\n",
    "    DATA2=pepito2(i)\n",
    "    entradas_sensorsA12[i]=DATA2['DATA_A1'];\n",
    "    entradas_sensorsB12[i]=DATA2['DATA_B1'];    \n",
    "    veamos=DATA2['TRUE1']\n",
    "    polares=cart2pol(veamos[0], veamos[1], veamos[2])\n",
    "    coordenadas12[i]=np.asarray(polares)\n",
    "    evento12[i]=DATA1['event'];\n",
    "    entradas_sensorsA22[i]=DATA2['DATA_A2'];\n",
    "    entradas_sensorsB22[i]=DATA2['DATA_B2'];    \n",
    "    veamos=DATA2['TRUE2']\n",
    "    polares=cart2pol(veamos[0], veamos[1], veamos[2])\n",
    "    coordenadas22[i]=np.asarray(polares) \n",
    "    evento22[i]=DATA1['event'];"
   ]
  },
  {
   "cell_type": "code",
   "execution_count": null,
   "metadata": {},
   "outputs": [],
   "source": [
    "entradas_sensorsA1=np.concatenate((entradas_sensorsA11,entradas_sensorsA12), axis=0)\n",
    "entradas_sensorsA2=np.concatenate((entradas_sensorsA21,entradas_sensorsA22), axis=0)   \n",
    "coordenadas1=np.concatenate((coordenadas11,coordenadas12), axis=0)\n",
    "eventos1=np.concatenate((evento11,evento12), axis=0)\n",
    "\n",
    "entradas_sensorsB1=np.concatenate((entradas_sensorsB11,entradas_sensorsB12), axis=0)\n",
    "entradas_sensorsB2=np.concatenate((entradas_sensorsB21,entradas_sensorsB22), axis=0)  \n",
    "coordenadas2=np.concatenate((coordenadas21,coordenadas22), axis=0)\n",
    "eventos2=np.concatenate((evento21,evento22), axis=0)"
   ]
  },
  {
   "cell_type": "code",
   "execution_count": null,
   "metadata": {},
   "outputs": [],
   "source": [
    "conjunto_datos_entradasA=np.concatenate((entradas_sensorsA1,entradas_sensorsA2),axis=0)\n",
    "conjunto_datos_entradasB=np.concatenate((entradas_sensorsB1,entradas_sensorsB2),axis=0)\n",
    "conjunto_datos_salidas=np.concatenate((coordenadas1,coordenadas2),axis=0)\n",
    "conjunto_datos_eventos=np.concatenate((eventos1,eventos2),axis=0)\n",
    "\n",
    "print('conjunto_datos_entradas A shape:', conjunto_datos_entradasA.shape)\n",
    "print('conjunto_datos_entradas B shape:', conjunto_datos_entradasB.shape)\n",
    "print('conjunto_datos_salidas shape:', conjunto_datos_salidas.shape)\n",
    "print('conjunto_datos_eventos shape:', conjunto_datos_eventos.shape)"
   ]
  },
  {
   "cell_type": "code",
   "execution_count": null,
   "metadata": {},
   "outputs": [],
   "source": [
    "n, bins, patches = plt.hist(conjunto_datos_salidas[:,0], 400, density=0, facecolor='green', alpha=0.75)"
   ]
  },
  {
   "cell_type": "code",
   "execution_count": null,
   "metadata": {},
   "outputs": [],
   "source": [
    "n, bins, patches = plt.hist(conjunto_datos_salidas[:,1], 400, density=0, facecolor='green', alpha=0.75)"
   ]
  },
  {
   "cell_type": "code",
   "execution_count": null,
   "metadata": {},
   "outputs": [],
   "source": [
    "n, bins, patches = plt.hist(conjunto_datos_salidas[:,2], 400, density=0, facecolor='green', alpha=0.75)\n",
    "print(n.max())"
   ]
  },
  {
   "cell_type": "code",
   "execution_count": null,
   "metadata": {},
   "outputs": [],
   "source": [
    "img_rows_t=20\n",
    "img_cols_t=175\n",
    "energia1B=conjunto_datos_entradasB.reshape(conjunto_datos_entradasB.shape[0], img_rows_t*img_cols_t)\n",
    "\n",
    "\n",
    "energia2B=np.sum(energia1B, axis=1)\n",
    "\n",
    "n1, bins1, patches1=plt.hist(energia2B,400, density=0, facecolor='blue', alpha=0.75)"
   ]
  },
  {
   "cell_type": "code",
   "execution_count": null,
   "metadata": {},
   "outputs": [],
   "source": [
    "print(n1.max())"
   ]
  },
  {
   "cell_type": "code",
   "execution_count": null,
   "metadata": {},
   "outputs": [],
   "source": [
    "for i in range(1,11):\n",
    "    idea=np.random.randint(1,conjunto_datos_entradasB.shape[0])\n",
    "    plt.imshow(conjunto_datos_entradasB[idea], cmap='viridis')\n",
    "    plt.show()\n",
    "    print(idea, conjunto_datos_salidas[idea,0],conjunto_datos_salidas[idea,1]*180/np.pi,conjunto_datos_salidas[idea,2])"
   ]
  },
  {
   "cell_type": "code",
   "execution_count": null,
   "metadata": {},
   "outputs": [],
   "source": [
    "    \n",
    "np.savez('../conjuntos_datos_nuevos_2020/19_12_2019_sin_filtrar',conjunto_datos_entradasA, conjunto_datos_entradasB, conjunto_datos_salidas, conjunto_datos_eventos )"
   ]
  },
  {
   "cell_type": "markdown",
   "metadata": {},
   "source": [
    "Pruebas interesantes"
   ]
  },
  {
   "cell_type": "code",
   "execution_count": null,
   "metadata": {},
   "outputs": [],
   "source": [
    "from scipy import signal as fp1\n",
    "from gammapy import detect as fp2\n",
    "from skimage.feature import peak as fp3\n",
    "idea=7552\n",
    "plt.imshow(conjunto_datos_entradasB[idea], cmap='viridis')\n",
    "plt.show()\n",
    "print(idea, conjunto_datos_salidas[idea,0],conjunto_datos_salidas[idea,1]*180/np.pi,conjunto_datos_salidas[idea,2])\n",
    "\n",
    "i=0\n",
    "\n",
    "muestras=conjunto_datos_entradasB.shape[0]\n",
    "veamos3=np.zeros([muestras,175])\n",
    "veamos3[0]=np.sum(conjunto_datos_entradasB[idea], axis=0)\n",
    "indice=np.argmax(veamos3[0], axis=0)\n",
    "print (indice)\n",
    "indices = fp1.find_peaks(veamos3[0], height=40, distance=5)[0]\n",
    "indices2 = fp3.peak_local_max(conjunto_datos_entradasB[idea],threshold_rel =0.05, min_distance=4)\n",
    "print(indices.shape[0])\n",
    "print(indices2)\n",
    "plt.plot(veamos3[0])"
   ]
  },
  {
   "cell_type": "code",
   "execution_count": null,
   "metadata": {},
   "outputs": [],
   "source": [
    "energia1A=conjunto_datos_entradasA.reshape(conjunto_datos_entradasA.shape[0], img_rows_t*img_cols_t)\n",
    "energia2A=np.sum(energia1A, axis=1)\n",
    "n2, bins2, patches2=plt.hist(energia2A,400, density=0, facecolor='blue', alpha=0.75)"
   ]
  },
  {
   "cell_type": "code",
   "execution_count": null,
   "metadata": {},
   "outputs": [],
   "source": [
    "prueba=conjunto_datos_salidas[:,1].reshape(conjunto_datos_salidas.shape[0],1)\n",
    "print(prueba.shape)\n",
    "veamos0=np.where(np.isclose(prueba,0, atol=1e-04).all(axis=1) ) \n",
    "conjunto_datos_entradasB_filt0=conjunto_datos_entradasB[veamos0]\n",
    "print(conjunto_datos_entradasB_filt0.shape[0])\n",
    "muestras0=conjunto_datos_entradasB_filt0.shape[0]\n",
    "veamos3=np.zeros([muestras0,175])\n",
    "for i in range(1,4):\n",
    "    idea=np.random.randint(1,conjunto_datos_entradasB_filt0.shape[0])\n",
    "    plt.imshow(conjunto_datos_entradasB_filt0[idea], cmap='viridis')\n",
    "    plt.show()\n",
    "    veamos3[idea]=np.sum(conjunto_datos_entradasB_filt0[idea], axis=0)\n",
    "    indice=np.argmax(veamos3[idea], axis=0)\n",
    "    print (indice)\n",
    "    plt.plot(veamos3[idea])"
   ]
  },
  {
   "cell_type": "markdown",
   "metadata": {},
   "source": [
    "## Vamos a rotar todas las imagenes"
   ]
  },
  {
   "cell_type": "code",
   "execution_count": null,
   "metadata": {},
   "outputs": [],
   "source": [
    "muestras=conjunto_datos_entradasB.shape[0]\n",
    "for j in range (1,muestras):\n",
    "    conjunto_datos_entradasB[j]=np.roll(conjunto_datos_entradasB[j], 45, axis=1)\n",
    "    conjunto_datos_entradasA[j]=np.roll(conjunto_datos_entradasA[j], 45, axis=1)\n",
    "    if conjunto_datos_salidas[j,1]<0:\n",
    "        conjunto_datos_salidas[j,1]=conjunto_datos_salidas[j,1]*180/np.pi+360\n",
    "    else:\n",
    "        conjunto_datos_salidas[j,1]=conjunto_datos_salidas[j,1]*180/np.pi"
   ]
  },
  {
   "cell_type": "code",
   "execution_count": null,
   "metadata": {},
   "outputs": [],
   "source": [
    "\n",
    "print (muestras)"
   ]
  },
  {
   "cell_type": "code",
   "execution_count": null,
   "metadata": {},
   "outputs": [],
   "source": [
    "for i in range(1,11):\n",
    "    idea=np.random.randint(1,conjunto_datos_entradasB.shape[0])\n",
    "    plt.imshow(conjunto_datos_entradasB[idea], cmap='viridis')\n",
    "    plt.show()\n",
    "    print(conjunto_datos_eventos[idea], conjunto_datos_salidas[idea,0],conjunto_datos_salidas[idea,1],conjunto_datos_salidas[idea,2])"
   ]
  },
  {
   "cell_type": "markdown",
   "metadata": {},
   "source": [
    "## filtro cosas raras por phi"
   ]
  },
  {
   "cell_type": "code",
   "execution_count": null,
   "metadata": {},
   "outputs": [],
   "source": [
    "prueba=conjunto_datos_salidas[:,1].reshape(muestras,1)\n",
    "print(prueba.shape)\n",
    "veamos4=np.zeros([muestras,175])\n",
    "indice4=np.zeros([muestras,1])\n",
    "for i in range(1,muestras):\n",
    "    veamos4[i]=np.sum(conjunto_datos_entradasB[i], axis=0)\n",
    "    intermedio4=np.argmax(veamos4[i], axis=0)\n",
    "    indice4[i]=intermedio4*2.0571428571428\n",
    "\n",
    "\n",
    "\n",
    "veamos_bad2=np.where(np.logical_and(np.abs(prueba-indice4)>21,np.abs(prueba-indice4)<340 ).all(axis=1) ) \n",
    "conjunto_datos_entradasA_filt_bad2=conjunto_datos_entradasA[veamos_bad2]\n",
    "conjunto_datos_entradasB_filt_bad2=conjunto_datos_entradasB[veamos_bad2]\n",
    "conjunto_datos_salidas_filt_bad2=conjunto_datos_salidas[veamos_bad2]\n",
    "conjunto_datos_eventos_filt_bad2=conjunto_datos_eventos[veamos_bad2]\n",
    "print(conjunto_datos_entradasB_filt_bad2.shape[0])\n",
    "\n",
    "\n",
    "veamos_good=np.where(np.logical_not(np.logical_and(np.abs(prueba-indice4)>21,np.abs(prueba-indice4)<340 )).all(axis=1) ) \n",
    "conjunto_datos_entradasA_filt_good=conjunto_datos_entradasA[veamos_good]\n",
    "conjunto_datos_entradasB_filt_good=conjunto_datos_entradasB[veamos_good]\n",
    "conjunto_datos_salidas_filt_good=conjunto_datos_salidas[veamos_good]\n",
    "conjunto_datos_eventos_filt_good=conjunto_datos_eventos[veamos_good]\n",
    "print(conjunto_datos_entradasB_filt_good.shape[0])"
   ]
  },
  {
   "cell_type": "code",
   "execution_count": null,
   "metadata": {},
   "outputs": [],
   "source": [
    "for i in range(1,11):\n",
    "    idea=np.random.randint(1,conjunto_datos_entradasB_filt_bad2.shape[0])\n",
    "    plt.imshow(conjunto_datos_entradasB_filt_bad2[idea], cmap='viridis')\n",
    "    plt.show()\n",
    "    print(conjunto_datos_eventos_filt_bad2[idea], conjunto_datos_salidas_filt_bad2[idea,0],conjunto_datos_salidas_filt_bad2[idea,1],conjunto_datos_salidas_filt_bad2[idea,2])"
   ]
  },
  {
   "cell_type": "markdown",
   "metadata": {},
   "source": [
    "## filtro comptom"
   ]
  },
  {
   "cell_type": "code",
   "execution_count": null,
   "metadata": {},
   "outputs": [],
   "source": [
    "muestras=conjunto_datos_entradasB_filt_good.shape[0]\n",
    "conjunto_datos_entradasB_filt_good_rot=np.zeros([muestras,20,175])\n",
    "for j in range (1,muestras):\n",
    "    conjunto_datos_entradasB_filt_good_rot[j]=np.roll(conjunto_datos_entradasB_filt_good[j], 10, axis=1)\n",
    "\n",
    "veamos3_previo=np.zeros([20,175])\n",
    "veamos3=np.zeros([175])\n",
    "\n",
    "indices=np.zeros([muestras,1])\n",
    "for j in range (1,muestras):\n",
    "    veamos3=np.sum(conjunto_datos_entradasB_filt_good[j], axis=0)\n",
    "    veamos_peaks = fp1.find_peaks(veamos3, height=40, distance=5)[0]\n",
    "    indices[j]=veamos_peaks.shape[0]\n",
    "    veamos3=np.sum(conjunto_datos_entradasB_filt_good_rot[j], axis=0)\n",
    "    veamos_peaks = fp1.find_peaks(veamos3, height=40, distance=5)[0]\n",
    "    indices[j]=indices[j]+ veamos_peaks.shape[0]\n"
   ]
  },
  {
   "cell_type": "code",
   "execution_count": null,
   "metadata": {},
   "outputs": [],
   "source": [
    "veamos=np.where((indices>3).all(axis=1) )  # & (energia2B_b<1500).all(axis=1))\n",
    "\n",
    "conjunto_datos_entradasA_filt_bad3=conjunto_datos_entradasA_filt_good[veamos]\n",
    "\n",
    "conjunto_datos_entradasB_filt_bad3=conjunto_datos_entradasB_filt_good[veamos]\n",
    "\n",
    "conjunto_datos_salidas_filt_bad3=conjunto_datos_salidas_filt_good[veamos]\n",
    "conjunto_datos_eventos_filt_bad3=conjunto_datos_eventos_filt_good[veamos]"
   ]
  },
  {
   "cell_type": "code",
   "execution_count": null,
   "metadata": {},
   "outputs": [],
   "source": [
    "print(conjunto_datos_salidas_filt_bad3.shape[0])"
   ]
  },
  {
   "cell_type": "code",
   "execution_count": null,
   "metadata": {},
   "outputs": [],
   "source": [
    "veamos=np.where(np.logical_not(indices>3).all(axis=1) )  # & (energia2B_b<1500).all(axis=1))\n",
    "\n",
    "conjunto_datos_entradasA_filt_good3=conjunto_datos_entradasA_filt_good[veamos]\n",
    "\n",
    "conjunto_datos_entradasB_filt_good3=conjunto_datos_entradasB_filt_good[veamos]\n",
    "\n",
    "conjunto_datos_salidas_filt_good3=conjunto_datos_salidas_filt_good[veamos]\n",
    "conjunto_datos_eventos_filt_good3=conjunto_datos_eventos_filt_good[veamos]\n",
    "print(conjunto_datos_salidas_filt_good3.shape[0])"
   ]
  },
  {
   "cell_type": "code",
   "execution_count": null,
   "metadata": {},
   "outputs": [],
   "source": [
    "for i in range(1,11):\n",
    "    idea=np.random.randint(1,conjunto_datos_entradasB_filt_bad3.shape[0])\n",
    "    plt.imshow(conjunto_datos_entradasB_filt_bad3[idea], cmap='viridis')\n",
    "    plt.show()\n",
    "    print(conjunto_datos_eventos_filt_bad3[idea], conjunto_datos_salidas_filt_bad3[idea,0],conjunto_datos_salidas_filt_bad3[idea,1],conjunto_datos_salidas_filt_bad3[idea,2])"
   ]
  },
  {
   "cell_type": "code",
   "execution_count": null,
   "metadata": {},
   "outputs": [],
   "source": [
    "for i in range(1,11):\n",
    "    idea=np.random.randint(1,conjunto_datos_entradasB_filt_good3.shape[0])\n",
    "    plt.imshow(conjunto_datos_entradasB_filt_good3[idea], cmap='viridis')\n",
    "    plt.show()\n",
    "    print(conjunto_datos_eventos_filt_good3[idea], conjunto_datos_salidas_filt_good3[idea,0],conjunto_datos_salidas_filt_good3[idea,1],conjunto_datos_salidas_filt_good3[idea,2])"
   ]
  },
  {
   "cell_type": "code",
   "execution_count": null,
   "metadata": {},
   "outputs": [],
   "source": [
    "    \n",
    "np.savez('../conjuntos_datos_nuevos_2020/20_12_2019_comptom_filt2',conjunto_datos_entradasA_filt_good3, conjunto_datos_entradasB_filt_good3, conjunto_datos_salidas_filt_good3, conjunto_datos_eventos_filt_good3)"
   ]
  },
  {
   "cell_type": "code",
   "execution_count": null,
   "metadata": {},
   "outputs": [],
   "source": []
  }
 ],
 "metadata": {
  "kernelspec": {
   "display_name": "Python [conda env:tensorflow3] *",
   "language": "python",
   "name": "conda-env-tensorflow3-py"
  },
  "language_info": {
   "codemirror_mode": {
    "name": "ipython",
    "version": 3
   },
   "file_extension": ".py",
   "mimetype": "text/x-python",
   "name": "python",
   "nbconvert_exporter": "python",
   "pygments_lexer": "ipython3",
   "version": "3.6.9"
  }
 },
 "nbformat": 4,
 "nbformat_minor": 4
}
