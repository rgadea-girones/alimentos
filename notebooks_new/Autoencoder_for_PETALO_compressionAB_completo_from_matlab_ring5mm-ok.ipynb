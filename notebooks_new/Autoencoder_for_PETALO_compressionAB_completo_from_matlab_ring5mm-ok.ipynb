{
 "cells": [
  {
   "cell_type": "markdown",
   "metadata": {},
   "source": [
    "# Autoencoder for PETALO\n",
    "\n",
    "Esta red la vamos a utilizar para comprimir los datos del anillo de 5mm de pitch"
   ]
  },
  {
   "cell_type": "code",
   "execution_count": 5,
   "metadata": {},
   "outputs": [
    {
     "name": "stdout",
     "output_type": "stream",
     "text": [
      "['', '/home/rgadea3/anaconda3/envs/tensorflow/lib/python36.zip', '/home/rgadea3/anaconda3/envs/tensorflow/lib/python3.6', '/home/rgadea3/anaconda3/envs/tensorflow/lib/python3.6/lib-dynload', '/home/rgadea3/anaconda3/envs/tensorflow/lib/python3.6/site-packages', '/home/rgadea3/anaconda3/envs/tensorflow/lib/python3.6/site-packages/IPython/extensions', '/home/rgadea3/.ipython', '/home/rgadea/lmfit-py/']\n"
     ]
    }
   ],
   "source": [
    "import numpy as np\n",
    "#np.random.seed(1337)  # for reproducibility\n",
    "from time import time\n",
    "from sklearn import preprocessing\n",
    "import sys\n",
    "print(sys.path)\n",
    "sys.path.append(\"/home/rgadea/lmfit-py/\")\n",
    "from keras.datasets import mnist\n",
    "from keras.models import Model, Sequential\n",
    "from keras.layers import Input, Dense, Dropout, Activation, Flatten\n",
    "from keras.layers import Conv2D, MaxPooling2D,BatchNormalization\n",
    "from keras.callbacks import TensorBoard\n",
    "from keras.utils import np_utils\n",
    "from keras import regularizers\n",
    "from math import floor\n",
    "#from lmfit.models import  GaussianModel\n",
    "import matplotlib.pyplot as plt"
   ]
  },
  {
   "cell_type": "markdown",
   "metadata": {},
   "source": [
    "## Vamos introducir los datos de ficheros de Vicente\n"
   ]
  },
  {
   "cell_type": "markdown",
   "metadata": {},
   "source": [
    "El fichero que ontroducimos es el p_OF_5mm0.h5"
   ]
  },
  {
   "cell_type": "code",
   "execution_count": 6,
   "metadata": {},
   "outputs": [
    {
     "data": {
      "text/plain": [
       "(6767, 3616)"
      ]
     },
     "execution_count": 6,
     "metadata": {},
     "output_type": "execute_result"
    }
   ],
   "source": [
    "import pandas as pd\n",
    "filename = '../datos_octubre_2018/p_OF_5mm0.h5'\n",
    "conjunto_datos=pd.read_hdf(filename,'MC');\n",
    "conjunto_datos.shape\n"
   ]
  },
  {
   "cell_type": "markdown",
   "metadata": {},
   "source": [
    "## Network parameters from matlab:"
   ]
  },
  {
   "cell_type": "code",
   "execution_count": 7,
   "metadata": {},
   "outputs": [],
   "source": [
    "import scipy.io as sio\n",
    "import hdf5storage\n",
    "# empezamos con el autoencoder A de dimensión 576-250-576 (36 columnas x 16 filas de sensores )\n",
    "datos_matlab= hdf5storage.loadmat('../datos_octubre_2018/compresores_ring5mm_def_1_medio_export.mat')\n",
    "encoder_weights_A= datos_matlab.get('encoder_weights_A')\n",
    "encoder_biases_A= datos_matlab.get('encoder_biases_A')\n",
    "decoder_weights_A= datos_matlab.get('decoder_weights_A')\n",
    "decoder_biases_A= datos_matlab.get('decoder_biases_A')\n",
    "min_A=datos_matlab.get('minA')\n",
    "max_A=datos_matlab.get('maxA')\n",
    "Encoder_weights_A=encoder_weights_A.transpose()\n",
    "Encoder_biases_A=encoder_biases_A.transpose()[0]\n",
    "Decoder_weights_A=decoder_weights_A.transpose()\n",
    "Decoder_biases_A=decoder_biases_A.transpose()[0]\n",
    "\n",
    "# empezamos con el autoencoder B de dimensión 736-300-736 (46 columnas x 16 filas de sensores )\n",
    "encoder_weights_B= datos_matlab.get('encoder_weights_B')\n",
    "encoder_biases_B= datos_matlab.get('encoder_biases_B')\n",
    "decoder_weights_B= datos_matlab.get('decoder_weights_B')\n",
    "decoder_biases_B= datos_matlab.get('decoder_biases_B')\n",
    "min_B=datos_matlab.get('minB')\n",
    "max_B=datos_matlab.get('maxB')\n",
    "Encoder_weights_B=encoder_weights_B.transpose()\n",
    "Encoder_biases_B=encoder_biases_B.transpose()[0]\n",
    "Decoder_weights_B=decoder_weights_B.transpose()\n",
    "Decoder_biases_B=decoder_biases_B.transpose()[0]\n",
    "\n",
    "#Encoder_biases[0]"
   ]
  },
  {
   "cell_type": "markdown",
   "metadata": {},
   "source": [
    "## Creación de los modelos KERAS de los dos autoencoders"
   ]
  },
  {
   "cell_type": "markdown",
   "metadata": {},
   "source": [
    "Vamos a crear los dos autoencoders compresores como modelos Keras. En principio no los voy a utilizar; pero es posible que en un futuro sea necesario"
   ]
  },
  {
   "cell_type": "code",
   "execution_count": 8,
   "metadata": {},
   "outputs": [],
   "source": [
    "    \n",
    "encoding_dimA = 250  # floats -> compression of factor 2, assuming the input is 480 floats\n",
    "\n",
    "# input image dimensions = sensor dimensions\n",
    "img_rows, img_colsA = 16, 36\n",
    "input_output_dim_A=img_rows*img_colsA\n",
    "# this is our input placeholder\n",
    "input_img_A = Input(shape=(input_output_dim_A,))\n",
    "# \"encoded\" is the encoded representation of the input\n",
    "encoded_A = Dense(encoding_dimA, activation='sigmoid',use_bias=True, weights=[Encoder_weights_A,Encoder_biases_A] )(input_img_A)\n",
    "# \"decoded\" is the lossy reconstruction of the input\n",
    "decoded_A = Dense(input_output_dim_A, activation='sigmoid',use_bias=True, weights=[Decoder_weights_A,Decoder_biases_A] )(encoded_A)\n",
    "\n",
    "# this model maps an input to its reconstruction\n",
    "autoencoder_matlab_A = Model(input_img_A, decoded_A)\n",
    "# autoencoder_matlab.get_weights()"
   ]
  },
  {
   "cell_type": "code",
   "execution_count": 9,
   "metadata": {
    "scrolled": true
   },
   "outputs": [],
   "source": [
    "\n",
    "encoding_dimB = 300 \n",
    "# input image dimensions = sensor dimensions\n",
    "img_rows, img_colsB = 16, 46\n",
    "input_output_dim_B=img_rows*img_colsB\n",
    "# this is our input placeholder\n",
    "input_img_B = Input(shape=(input_output_dim_B,))\n",
    "# \"encoded\" is the encoded representation of the input\n",
    "encoded_B = Dense(encoding_dimB, activation='sigmoid',use_bias=True, weights=[Encoder_weights_B,Encoder_biases_B] )(input_img_B)\n",
    "# \"decoded\" is the lossy reconstruction of the input\n",
    "decoded_B = Dense(input_output_dim_B, activation='sigmoid',use_bias=True, weights=[Decoder_weights_B,Decoder_biases_B] )(encoded_B)\n",
    "\n",
    "# this model maps an input to its reconstruction\n",
    "\n",
    "\n",
    "autoencoder_matlab_B = Model(input_img_B, decoded_B)"
   ]
  },
  {
   "cell_type": "markdown",
   "metadata": {},
   "source": [
    "## Prepare data into training and test set."
   ]
  },
  {
   "cell_type": "markdown",
   "metadata": {},
   "source": [
    "Vamos a generar las matrices de datos para la red neuronal . En esta seccion de código cambio de recorrer fila a fila (Paola) a recorrer columna a columna"
   ]
  },
  {
   "cell_type": "code",
   "execution_count": 11,
   "metadata": {},
   "outputs": [
    {
     "name": "stdout",
     "output_type": "stream",
     "text": [
      "(6767, 3616)\n",
      "(6767, 3616)\n"
     ]
    }
   ],
   "source": [
    "L1A=5;\n",
    "L1B=1;\n",
    "\n",
    "X_train=conjunto_datos.values;\n",
    "x_train=X_train;\n",
    "\n",
    "for i in range (X_train.shape[0]):\n",
    "    idea1=X_train[i,:].reshape(img_rows,(L1A*img_colsA+L1B*img_colsB));\n",
    "    ideat=idea1.transpose();\n",
    "    idea2=ideat.reshape(1,(L1A*img_colsA+L1B*img_colsB)*img_rows);\n",
    "    x_train[i,:] =idea2;\n",
    "x_test = x_train;\n",
    "print(x_train.shape)\n",
    "print(x_test.shape)"
   ]
  },
  {
   "cell_type": "markdown",
   "metadata": {},
   "source": [
    "# Vamos a procesar y comprimir con las dos redes"
   ]
  },
  {
   "cell_type": "markdown",
   "metadata": {},
   "source": [
    "Primero escalamos los datos"
   ]
  },
  {
   "cell_type": "code",
   "execution_count": 12,
   "metadata": {},
   "outputs": [
    {
     "name": "stderr",
     "output_type": "stream",
     "text": [
      "/home/rgadea3/anaconda3/envs/tensorflow/lib/python3.6/site-packages/sklearn/utils/validation.py:475: DataConversionWarning: Data with input dtype int32 was converted to float64 by MinMaxScaler.\n",
      "  warnings.warn(msg, DataConversionWarning)\n"
     ]
    },
    {
     "data": {
      "text/plain": [
       "(2880,)"
      ]
     },
     "execution_count": 12,
     "metadata": {},
     "output_type": "execute_result"
    }
   ],
   "source": [
    "# min_max_scaler = preprocessing.QuantileTransformer().fit(x_train)\n",
    "# min_max_scaler = preprocessing.MaxAbsScaler().fit(x_train)\n",
    "# min_max_scaler = preprocessing.StandardScaler(with_mean=False).fit(x_train)\n",
    "# min_max_scaler = preprocessing.RobustScaler().fit(x_train)\n",
    "min_max_scaler = preprocessing.MinMaxScaler().fit(x_train)\n",
    "\n",
    "min_max_scaler_A = preprocessing.MinMaxScaler().fit(x_train[:,0:L1A*input_output_dim_A])\n",
    "min_max_scaler_B = preprocessing.MinMaxScaler().fit(x_train[:,0+L1A*input_output_dim_A:0+L1A*input_output_dim_A+L1B*input_output_dim_B])\n",
    "x_test_scaled = min_max_scaler.transform(x_test)\n",
    "\n",
    "\n",
    "min_max_scaler_A.data_max_.shape"
   ]
  },
  {
   "cell_type": "markdown",
   "metadata": {},
   "source": [
    "Ahora los particionamos y pasamos por las redes de compresión. Hay una red la A que se utiliza 5 veces\n",
    "y otra red la B que se utiliza 1 vez"
   ]
  },
  {
   "cell_type": "code",
   "execution_count": 13,
   "metadata": {},
   "outputs": [],
   "source": [
    "\n",
    "def sigmoid(x, derivative=False):\n",
    "  return x*(1-x) if derivative else 1/(1+np.exp(-x))\n",
    "ideaA=np.zeros((L1A,input_output_dim_A))\n",
    "ideaB=np.zeros((L1B,input_output_dim_B)) \n",
    "cara_externa=x_test[:,0: L1A*input_output_dim_A+L1B*input_output_dim_B] \n",
    "cara_externa_reconstruida=np.zeros((x_test.shape[0],L1A*input_output_dim_A+L1B*input_output_dim_B))\n",
    "for i in range(x_test.shape[0]):\n",
    "    for k in range(L1A):\n",
    "        ideaA[k,:]=x_test[i,k*input_output_dim_A:k*input_output_dim_A+input_output_dim_A]\n",
    "    entrada_imgs_A=(ideaA-min_A.transpose())/(max_A.transpose()-min_A.transpose())\n",
    "    encoded_imgs_A = sigmoid(np.dot(entrada_imgs_A, Encoder_weights_A) + Encoder_biases_A)\n",
    "    decoded_imgs_A= sigmoid(np.dot(encoded_imgs_A, Decoder_weights_A) + Decoder_biases_A)\n",
    "    #print(decoded_imgs_A.shape)\n",
    "    salida_reconstructed_1 = decoded_imgs_A*(max_A.transpose()-min_A.transpose())+min_A.transpose();\n",
    "    for k in range(L1B):\n",
    "        ideaB[k,:input_output_dim_B]=x_test[i,L1A*input_output_dim_A+k*input_output_dim_B:L1A*input_output_dim_A+k*input_output_dim_B+input_output_dim_B]\n",
    "    entrada_imgs_B=(ideaB-min_B.transpose())/(max_B.transpose()-min_B.transpose())\n",
    "    encoded_imgs_B = sigmoid(np.dot(entrada_imgs_B, Encoder_weights_B) + Encoder_biases_B)\n",
    "    decoded_imgs_B= sigmoid(np.dot(encoded_imgs_B, Decoder_weights_B) + Decoder_biases_B)\n",
    "    salida_reconstructed_2 = decoded_imgs_B*(max_B.transpose()-min_B.transpose())+min_B.transpose(); \n",
    "    hola1=np.reshape(salida_reconstructed_1,(L1A*input_output_dim_A))\n",
    "    hola2=np.reshape(salida_reconstructed_2,(L1B*input_output_dim_B))\n",
    "    #print(hola.shape)\n",
    "    salida_total=np.concatenate((hola1,hola2))\n",
    "    \n",
    "    #print(salida_total.shape)\n",
    "    cara_externa_reconstruida[i]=salida_total"
   ]
  },
  {
   "cell_type": "code",
   "execution_count": 14,
   "metadata": {},
   "outputs": [
    {
     "data": {
      "image/png": "[encoded data removed]",
      "text/plain": [
       "<Figure size 2880x720 with 2 Axes>"
      ]
     },
     "metadata": {},
     "output_type": "display_data"
    }
   ],
   "source": [
    "n = 1  # how many digits we will display\n",
    "plt.figure(figsize=(40, 10))\n",
    "for i in range(n):\n",
    "    # display original\n",
    "    idea=np.random.randint(1,x_test.shape[0])\n",
    "    ax = plt.subplot(2, n, i + 1)\n",
    "    plt.imshow(cara_externa[idea].reshape(L1A*img_colsA+L1B*img_colsB, img_rows).transpose(),vmin=0, vmax=10)\n",
    "    plt.viridis()\n",
    "    ax.get_xaxis().set_visible(False)\n",
    "    ax.get_yaxis().set_visible(False)\n",
    "\n",
    "    # display reconstruction\n",
    "    ax = plt.subplot(2, n, i + 1 + n)\n",
    "    plt.imshow(cara_externa_reconstruida[idea].reshape(L1A*img_colsA+L1B*img_colsB, img_rows).transpose(), vmin=0, vmax=10)\n",
    "    plt.viridis()\n",
    "    ax.get_xaxis().set_visible(False)\n",
    "    ax.get_yaxis().set_visible(False)\n",
    "plt.show()"
   ]
  },
  {
   "cell_type": "code",
   "execution_count": 15,
   "metadata": {},
   "outputs": [
    {
     "data": {
      "image/png": "[encoded data removed]",
      "text/plain": [
       "<Figure size 2880x720 with 10 Axes>"
      ]
     },
     "metadata": {},
     "output_type": "display_data"
    }
   ],
   "source": [
    "n = L1A  # how many digits we will display\n",
    "plt.figure(figsize=(40, 10))\n",
    "for i in range(n):\n",
    "    # display original\n",
    "    ax = plt.subplot(2, n, i + 1)\n",
    "    plt.imshow(cara_externa[idea].reshape(L1A*img_colsA+L1B*img_colsB, img_rows).transpose()[:,i*img_colsA:(i+1)*img_colsA] ,vmin=0, vmax=10)\n",
    "    plt.viridis()\n",
    "    ax.get_xaxis().set_visible(False)\n",
    "    ax.get_yaxis().set_visible(False)\n",
    "    ax = plt.subplot(2, n, i + 1+n)\n",
    "    plt.imshow(cara_externa_reconstruida[idea].reshape(L1A*img_colsA+L1B*img_colsB, img_rows).transpose()[:,i*img_colsA:(i+1)*img_colsA] ,vmin=0, vmax=10)\n",
    "    plt.viridis()\n",
    "    ax.get_xaxis().set_visible(False)\n",
    "    ax.get_yaxis().set_visible(False)\n",
    "plt.show()"
   ]
  },
  {
   "cell_type": "code",
   "execution_count": 16,
   "metadata": {},
   "outputs": [
    {
     "data": {
      "image/png": "[encoded data removed]",
      "text/plain": [
       "<Figure size 2880x720 with 2 Axes>"
      ]
     },
     "metadata": {},
     "output_type": "display_data"
    },
    {
     "name": "stdout",
     "output_type": "stream",
     "text": [
      "1007\n"
     ]
    }
   ],
   "source": [
    "n = L1B  # how many digits we will display\n",
    "plt.figure(figsize=(40, 10))\n",
    "for i in range(n):\n",
    "    # display original\n",
    "    ax = plt.subplot(2, n, i + 1)\n",
    "    plt.imshow(cara_externa[idea].reshape(L1A*img_colsA+L1B*img_colsB, img_rows).transpose()[:,L1A*img_colsA+i*img_colsB:L1A*img_colsA+(i+1)*img_colsB],vmin=0, vmax=10)\n",
    "    plt.viridis()\n",
    "    ax.get_xaxis().set_visible(False)\n",
    "    ax.get_yaxis().set_visible(False)\n",
    "    ax = plt.subplot(2, n, i + 1+n)\n",
    "    plt.imshow(cara_externa_reconstruida[idea].reshape(L1A*img_colsA+L1B*img_colsB, img_rows).transpose()[:,L1A*img_colsA+i*img_colsB:L1A*img_colsA+(i+1)*img_colsB],vmin=0, vmax=10)\n",
    "    plt.viridis()\n",
    "    ax.get_xaxis().set_visible(False)\n",
    "    ax.get_yaxis().set_visible(False)\n",
    "plt.show()\n",
    "print(idea)"
   ]
  },
  {
   "cell_type": "code",
   "execution_count": 18,
   "metadata": {},
   "outputs": [
    {
     "name": "stdout",
     "output_type": "stream",
     "text": [
      "[ 0  0  0  0  0  0  0  0  0  0  0  0  0  0  0  0  0  0  0  0  0  0  0  0\n",
      "  0  0  0  0  0  0  0  0  0  0  0  0  0  0  0  0  0  0  0  0  0  0  0  0\n",
      "  0  0  0  0  0  0  0  0  0  0  0  0  0  0  0  0  0  0  0  0  0  0  0  0\n",
      "  0  1  0  0  0  0  0  0  0  0  0  0  0  0  0  0  0  0  0  0  0  0  0  0\n",
      "  0  0  1  1  1  1  1  0  1  1  1  2  1  1  1  1  2  1  1  1  1  1  1  2\n",
      "  3  3  4  6  4  7 12  9  7  9  8  8  5  3  3  4  7  3  3  2  1  2  3  1\n",
      "  2  2  1  2  2  1  2  1  1  1  2  1  1  2  1  0  0  0  0  0  0  0  0  0\n",
      "  0  0  0  0  0  0  0  0  0  0  0  0  0  0  0  0  0  0  0  0  0  0  0  0\n",
      "  0  0  0  0  0  0  0  0  0  0  0  0  0  0  0  0  0  0  0  0  0  0  0  0\n",
      "  0  0  0  0  0  0  0  0  0  0]\n"
     ]
    }
   ],
   "source": [
    "print(np.amax(cara_externa[idea].reshape(L1A*img_colsA+L1B*img_colsB,img_rows),axis=1)[:])"
   ]
  },
  {
   "cell_type": "code",
   "execution_count": 19,
   "metadata": {},
   "outputs": [
    {
     "name": "stdout",
     "output_type": "stream",
     "text": [
      "[0.10202346 0.13441463 0.10248903 0.09005698 0.08405134 0.08438397\n",
      " 0.07590115 0.09003034 0.07880783 0.07407492 0.08198122 0.08300311\n",
      " 0.08212896 0.07561457 0.08262995 0.08261507 0.07986036 0.08705663\n",
      " 0.08655617 0.09740192 0.08562701 0.07203771 0.14817987 0.13204366\n",
      " 0.07633257 0.08912699 0.09760316 0.10287301 0.08939755 0.09375803\n",
      " 0.09973056 0.08999611 0.13232837 0.08780263 0.09096277 0.11043195\n",
      " 0.10202346 0.13441463 0.10248903 0.09005698 0.08405134 0.08438397\n",
      " 0.07590115 0.09003034 0.07880783 0.07407492 0.08198122 0.08300311\n",
      " 0.08212896 0.07561457 0.08262995 0.08261507 0.07986036 0.08705663\n",
      " 0.08655617 0.09740192 0.08562701 0.07203771 0.14817987 0.13204366\n",
      " 0.07633257 0.08912699 0.09760316 0.10287301 0.08939755 0.09375803\n",
      " 0.09973056 0.08999611 0.13232837 0.08780263 0.09096277 0.11043195\n",
      " 0.10334287 0.12656173 0.10446302 0.08843486 0.0803981  0.07976857\n",
      " 0.07482579 0.08804123 0.07361898 0.07319818 0.07898755 0.07767803\n",
      " 0.08239864 0.07372441 0.07733821 0.07940375 0.08013446 0.08594328\n",
      " 0.08543446 0.09584046 0.08501515 0.07471771 0.13816122 0.13297143\n",
      " 0.07927493 0.09116079 0.10245661 0.10517258 0.09443527 0.10164704\n",
      " 0.10484517 0.09899224 0.14478933 0.09585308 0.10438572 0.12569373\n",
      " 0.04056563 0.03574381 0.09848355 0.09295952 0.13571626 0.18605073\n",
      " 0.13820308 0.26961419 0.39165683 0.87656164 1.31251869 1.26683045\n",
      " 1.40213104 2.18187487 3.03174572 4.01269608 4.24208334 5.60358382\n",
      " 7.98655366 7.41326298 8.52664338 9.82982766 7.55604558 5.92723782\n",
      " 4.27201259 3.92709143 2.90313074 2.83119479 3.08817808 1.00866252\n",
      " 0.92149465 0.68204477 0.67940899 0.54321759 0.27758418 0.19275856\n",
      " 0.18974306 0.18489297 0.15714024 0.13635475 0.16531165 0.14802367\n",
      " 0.15137797 0.13112494 0.13776811 0.11041303 0.10086166 0.10799897\n",
      " 0.09953075 0.09292301 0.09084948 0.09075591 0.08685376 0.08873151\n",
      " 0.08368192 0.09179927 0.08606559 0.07647658 0.07833711 0.11274587\n",
      " 0.08712459 0.07617768 0.08866738 0.07124962 0.07355674 0.08699262\n",
      " 0.07294763 0.08616306 0.08001245 0.09363313 0.08621865 0.08489897\n",
      " 0.12142166 0.11628982 0.09112479 0.09723069 0.09459788 0.08123682\n",
      " 0.16041007 0.08499495 0.0860205  0.10817487 0.07670991 0.10849748\n",
      " 0.07622131 0.08047348 0.09797228 0.07604071 0.07436181 0.07551732\n",
      " 0.07649582 0.08181507 0.08149811 0.06774279 0.08168332 0.07950888\n",
      " 0.0828013  0.08774233 0.0644471  0.07979932 0.07706562 0.08537898\n",
      " 0.08614354 0.08165949 0.0930867  0.08899079 0.08613724 0.08930035\n",
      " 0.12266815 0.09178921 0.08097743 0.07994398 0.0836968  0.09124628\n",
      " 0.11000604 0.10960027 0.09975949 0.14539328]\n"
     ]
    }
   ],
   "source": [
    "print(np.amax(cara_externa_reconstruida[idea].reshape(L1A*img_colsA+L1B*img_colsB,img_rows),axis=1)[:])"
   ]
  },
  {
   "cell_type": "code",
   "execution_count": null,
   "metadata": {},
   "outputs": [],
   "source": []
  }
 ],
 "metadata": {
  "anaconda-cloud": {},
  "kernelspec": {
   "display_name": "Python [conda env:tensorflow]",
   "language": "python",
   "name": "conda-env-tensorflow-py"
  },
  "language_info": {
   "codemirror_mode": {
    "name": "ipython",
    "version": 3
   },
   "file_extension": ".py",
   "mimetype": "text/x-python",
   "name": "python",
   "nbconvert_exporter": "python",
   "pygments_lexer": "ipython3",
   "version": "3.6.5"
  },
  "varInspector": {
   "cols": {
    "lenName": 16,
    "lenType": 16,
    "lenVar": 40
   },
   "kernels_config": {
    "python": {
     "delete_cmd_postfix": "",
     "delete_cmd_prefix": "del ",
     "library": "var_list.py",
     "varRefreshCmd": "print(var_dic_list())"
    },
    "r": {
     "delete_cmd_postfix": ") ",
     "delete_cmd_prefix": "rm(",
     "library": "var_list.r",
     "varRefreshCmd": "cat(var_dic_list()) "
    }
   },
   "position": {
    "height": "479px",
    "left": "1594px",
    "right": "-183px",
    "top": "113px",
    "width": "637px"
   },
   "types_to_exclude": [
    "module",
    "function",
    "builtin_function_or_method",
    "instance",
    "_Feature"
   ],
   "window_display": true
  }
 },
 "nbformat": 4,
 "nbformat_minor": 1
}
