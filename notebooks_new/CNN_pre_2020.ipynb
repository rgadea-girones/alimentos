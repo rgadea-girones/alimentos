{
 "cells": [
  {
   "cell_type": "markdown",
   "metadata": {},
   "source": [
    "# Simple CNN for PETALO\n",
    "\n",
    "Esta red la vamos a utilizar para obtener el radio "
   ]
  },
  {
   "cell_type": "code",
   "execution_count": 1,
   "metadata": {},
   "outputs": [
    {
     "name": "stdout",
     "output_type": "stream",
     "text": [
      "['/home/rgadea/anaconda3/envs/tensorflow3/lib/python36.zip', '/home/rgadea/anaconda3/envs/tensorflow3/lib/python3.6', '/home/rgadea/anaconda3/envs/tensorflow3/lib/python3.6/lib-dynload', '', '/home/rgadea/anaconda3/envs/tensorflow3/lib/python3.6/site-packages', '/home/rgadea/anaconda3/envs/tensorflow3/lib/python3.6/site-packages/IPython/extensions', '/volumedisk0/home/rgadea/.ipython', '/home/rgadea/lmfit-py/', '/home/rgadea/experimentos/viherbos/']\n"
     ]
    },
    {
     "name": "stderr",
     "output_type": "stream",
     "text": [
      "Using TensorFlow backend.\n",
      "/home/rgadea/anaconda3/envs/tensorflow3/lib/python3.6/site-packages/tensorflow/python/framework/dtypes.py:526: FutureWarning: Passing (type, 1) or '1type' as a synonym of type is deprecated; in a future version of numpy, it will be understood as (type, (1,)) / '(1,)type'.\n",
      "  _np_qint8 = np.dtype([(\"qint8\", np.int8, 1)])\n",
      "/home/rgadea/anaconda3/envs/tensorflow3/lib/python3.6/site-packages/tensorflow/python/framework/dtypes.py:527: FutureWarning: Passing (type, 1) or '1type' as a synonym of type is deprecated; in a future version of numpy, it will be understood as (type, (1,)) / '(1,)type'.\n",
      "  _np_quint8 = np.dtype([(\"quint8\", np.uint8, 1)])\n",
      "/home/rgadea/anaconda3/envs/tensorflow3/lib/python3.6/site-packages/tensorflow/python/framework/dtypes.py:528: FutureWarning: Passing (type, 1) or '1type' as a synonym of type is deprecated; in a future version of numpy, it will be understood as (type, (1,)) / '(1,)type'.\n",
      "  _np_qint16 = np.dtype([(\"qint16\", np.int16, 1)])\n",
      "/home/rgadea/anaconda3/envs/tensorflow3/lib/python3.6/site-packages/tensorflow/python/framework/dtypes.py:529: FutureWarning: Passing (type, 1) or '1type' as a synonym of type is deprecated; in a future version of numpy, it will be understood as (type, (1,)) / '(1,)type'.\n",
      "  _np_quint16 = np.dtype([(\"quint16\", np.uint16, 1)])\n",
      "/home/rgadea/anaconda3/envs/tensorflow3/lib/python3.6/site-packages/tensorflow/python/framework/dtypes.py:530: FutureWarning: Passing (type, 1) or '1type' as a synonym of type is deprecated; in a future version of numpy, it will be understood as (type, (1,)) / '(1,)type'.\n",
      "  _np_qint32 = np.dtype([(\"qint32\", np.int32, 1)])\n",
      "/home/rgadea/anaconda3/envs/tensorflow3/lib/python3.6/site-packages/tensorflow/python/framework/dtypes.py:535: FutureWarning: Passing (type, 1) or '1type' as a synonym of type is deprecated; in a future version of numpy, it will be understood as (type, (1,)) / '(1,)type'.\n",
      "  np_resource = np.dtype([(\"resource\", np.ubyte, 1)])\n"
     ]
    }
   ],
   "source": [
    "import numpy as np\n",
    "#np.random.seed(1337)  # for reproducibility\n",
    "from time import time\n",
    "from datetime import datetime\n",
    "# from sklearn import preprocessing\n",
    "import sys\n",
    "\n",
    "sys.path.append(\"/home/rgadea/lmfit-py/\")\n",
    "sys.path.append(\"/home/rgadea/experimentos/viherbos/\")\n",
    "\n",
    "print(sys.path)\n",
    "import json \n",
    "\n",
    "import os\n",
    "os.environ[\"CUDA_DEVICE_ORDER\"] = \"PCI_BUS_ID\"\n",
    "os.environ[\"CUDA_VISIBLE_DEVICES\"] = \"0\"\n",
    "\n",
    "# import seaborn as sns\n",
    "from keras.datasets import mnist\n",
    "from keras.models import Model, Sequential\n",
    "from keras.layers import Input, Dense, Dropout, Activation, Flatten\n",
    "from keras.layers import Conv2D, MaxPooling2D,BatchNormalization\n",
    "from keras.callbacks import TensorBoard, EarlyStopping, ModelCheckpoint\n",
    "from keras.utils import np_utils\n",
    "from keras import regularizers\n",
    "from math import floor\n",
    "from lmfit.models import  GaussianModel\n",
    "import matplotlib.pyplot as plt"
   ]
  },
  {
   "cell_type": "code",
   "execution_count": 2,
   "metadata": {},
   "outputs": [
    {
     "name": "stdout",
     "output_type": "stream",
     "text": [
      "1.13.1\n"
     ]
    }
   ],
   "source": [
    "from keras import backend as K\n",
    "K.tensorflow_backend._get_available_gpus()\n",
    "import tensorflow as tf\n",
    "print(tf.__version__)\n",
    "sess = tf.Session(config=tf.ConfigProto(log_device_placement=True))"
   ]
  },
  {
   "cell_type": "markdown",
   "metadata": {},
   "source": [
    "## Vamos introducir los datos de petalo preprocesados en pyhton\n"
   ]
  },
  {
   "cell_type": "code",
   "execution_count": 3,
   "metadata": {},
   "outputs": [
    {
     "name": "stdout",
     "output_type": "stream",
     "text": [
      "(17064, 3500)\n",
      "(17064, 3500)\n",
      "(17064, 1)\n",
      "(16937, 3500)\n",
      "(16937, 3500)\n",
      "(16937, 1)\n"
     ]
    }
   ],
   "source": [
    "import scipy.io as sio\n",
    "import Event_Handle_red as  eh\n",
    "# import hdf5storage\n",
    "# datos_matlab = hdf5storage.loadmat('../datos_junio_2019/conjunto_entrenamiento_junio_2019_pitch7mm_rad165mm_29_total_2_distancias_red.mat')\n",
    "# conjunto_datos= datos_matlab.get('photodefbox2_todo_fil5')\n",
    "\n",
    "# npzfile = np.load('../conjuntos_datos_reconstruidos/fil5_pith7mm_rad165mm_scaled2_sig_sig_1200.npz')\n",
    "# npzfile.files\n",
    "path = \"/home/rgadea/experimentos/viherbos/\"\n",
    "data_file = \"MOVIE_DATA_batch1.h5\"\n",
    "json_file = \"CUBE.json\"\n",
    "def cart2pol(x, y,z):\n",
    "    rho = np.sqrt(x**2 + y**2)\n",
    "    phi = np.arctan2(y, x)\n",
    "    return(rho, phi,z)\n",
    "\n",
    "\n",
    "pepito1=eh.Event_Handler(path, data_file, json_file)\n",
    "idea1=pepito1.DATA_A.shape #obtengo el numero de muestras\n",
    "\n",
    "entradas_sensorsA11=np.zeros([idea1[0],20,175])\n",
    "entradas_sensorsB11=np.zeros([idea1[0],20,175])\n",
    "coordenadas11=np.zeros([idea1[0],3])\n",
    "entradas_sensorsA21=np.zeros([idea1[0],20,175])\n",
    "entradas_sensorsB21=np.zeros([idea1[0],20,175])\n",
    "coordenadas21=np.zeros([idea1[0],3])\n",
    "for i in range(idea1[0]):\n",
    "    DATA1=pepito1(i)\n",
    "    entradas_sensorsA11[i]=DATA1['DATA_A1'];\n",
    "    entradas_sensorsB11[i]=DATA1['DATA_B1'];    \n",
    "    veamos=DATA1['TRUE1']\n",
    "    polares=cart2pol(veamos[0], veamos[1], veamos[2])\n",
    "    coordenadas11[i]=np.asarray(polares)\n",
    "    entradas_sensorsA21[i]=DATA1['DATA_A2'];\n",
    "    entradas_sensorsB21[i]=DATA1['DATA_B2'];    \n",
    "    veamos=DATA1['TRUE2']\n",
    "    polares=cart2pol(veamos[0], veamos[1], veamos[2])\n",
    "    coordenadas21[i]=np.asarray(polares)\n",
    "\n",
    "data_file = \"MOVIE_DATA_batch2.h5\"\n",
    "pepito2=eh.Event_Handler(path, data_file, json_file)\n",
    "idea2=pepito2.DATA_A.shape #obtengo el numero de muestras\n",
    "\n",
    "entradas_sensorsA12=np.zeros([idea2[0],20,175])\n",
    "entradas_sensorsB12=np.zeros([idea2[0],20,175])\n",
    "coordenadas12=np.zeros([idea2[0],3])\n",
    "entradas_sensorsA22=np.zeros([idea2[0],20,175])\n",
    "entradas_sensorsB22=np.zeros([idea2[0],20,175])\n",
    "coordenadas22=np.zeros([idea2[0],3])\n",
    "for i in range(idea2[0]):\n",
    "    DATA2=pepito2(i)\n",
    "    entradas_sensorsA12[i]=DATA2['DATA_A1'];\n",
    "    entradas_sensorsB12[i]=DATA2['DATA_B1'];    \n",
    "    veamos=DATA2['TRUE1']\n",
    "    polares=cart2pol(veamos[0], veamos[1], veamos[2])\n",
    "    coordenadas12[i]=np.asarray(polares)\n",
    "    entradas_sensorsA22[i]=DATA2['DATA_A2'];\n",
    "    entradas_sensorsB22[i]=DATA2['DATA_B2'];    \n",
    "    veamos=DATA2['TRUE2']\n",
    "    polares=cart2pol(veamos[0], veamos[1], veamos[2])\n",
    "    coordenadas22[i]=np.asarray(polares)    \n",
    "\n",
    "entradas_sensorsA1=np.concatenate((entradas_sensorsA11,entradas_sensorsA12), axis=0)\n",
    "entradas_sensorsA2=np.concatenate((entradas_sensorsA21,entradas_sensorsA22), axis=0)   \n",
    "coordenadas1=np.concatenate((coordenadas11,coordenadas12), axis=0)\n",
    "\n",
    "\n",
    "entradas_sensorsB1=np.concatenate((entradas_sensorsB11,entradas_sensorsB12), axis=0)\n",
    "entradas_sensorsB2=np.concatenate((entradas_sensorsB21,entradas_sensorsB22), axis=0)  \n",
    "coordenadas2=np.concatenate((coordenadas21,coordenadas22), axis=0)"
   ]
  },
  {
   "cell_type": "code",
   "execution_count": 4,
   "metadata": {},
   "outputs": [],
   "source": [
    "    \n",
    "np.savez('../conjuntos_datos_nuevos_2020/19_12_2019', entradas_sensorsA1,entradas_sensorsB1, coordenadas1,entradas_sensorsA2,entradas_sensorsB2, coordenadas2 )"
   ]
  },
  {
   "cell_type": "code",
   "execution_count": 5,
   "metadata": {},
   "outputs": [],
   "source": [
    "energia=np.sum(entradas_sensorsA1, axis=0)"
   ]
  },
  {
   "cell_type": "code",
   "execution_count": 6,
   "metadata": {},
   "outputs": [
    {
     "name": "stdout",
     "output_type": "stream",
     "text": [
      "conjunto_datos_entradas A shape: (68002, 20, 175)\n",
      "conjunto_datos_entradas B shape: (68002, 20, 175)\n",
      "conjunto_datos_salidas shape: (68002, 3)\n"
     ]
    }
   ],
   "source": [
    "conjunto_datos_entradasA=np.concatenate((entradas_sensorsA1,entradas_sensorsA2),axis=0)\n",
    "conjunto_datos_entradasB=np.concatenate((entradas_sensorsB1,entradas_sensorsB2),axis=0)\n",
    "conjunto_datos_salidas=np.concatenate((coordenadas1,coordenadas2),axis=0)\n",
    "\n",
    "\n",
    "print('conjunto_datos_entradas A shape:', conjunto_datos_entradasA.shape)\n",
    "print('conjunto_datos_entradas B shape:', conjunto_datos_entradasB.shape)\n",
    "print('conjunto_datos_salidas shape:', conjunto_datos_salidas.shape)"
   ]
  },
  {
   "cell_type": "code",
   "execution_count": 7,
   "metadata": {},
   "outputs": [
    {
     "data": {
      "image/png": "[encoded data removed]",
      "text/plain": [
       "<Figure size 432x288 with 1 Axes>"
      ]
     },
     "metadata": {
      "needs_background": "light"
     },
     "output_type": "display_data"
    }
   ],
   "source": [
    "n, bins, patches = plt.hist(conjunto_datos_salidas[:,0], 400, density=0, facecolor='green', alpha=0.75)"
   ]
  },
  {
   "cell_type": "code",
   "execution_count": 8,
   "metadata": {},
   "outputs": [
    {
     "data": {
      "image/png": "[encoded data removed]",
      "text/plain": [
       "<Figure size 432x288 with 1 Axes>"
      ]
     },
     "metadata": {
      "needs_background": "light"
     },
     "output_type": "display_data"
    }
   ],
   "source": [
    "n, bins, patches = plt.hist(conjunto_datos_salidas[:,1], 400, density=0, facecolor='green', alpha=0.75)"
   ]
  },
  {
   "cell_type": "code",
   "execution_count": 9,
   "metadata": {},
   "outputs": [
    {
     "data": {
      "image/png": "[encoded data removed]",
      "text/plain": [
       "<Figure size 432x288 with 1 Axes>"
      ]
     },
     "metadata": {
      "needs_background": "light"
     },
     "output_type": "display_data"
    }
   ],
   "source": [
    "n, bins, patches = plt.hist(conjunto_datos_salidas[:,2], 400, density=0, facecolor='green', alpha=0.75)"
   ]
  },
  {
   "cell_type": "code",
   "execution_count": 10,
   "metadata": {},
   "outputs": [
    {
     "data": {
      "image/png": "[encoded data removed]",
      "text/plain": [
       "<Figure size 432x288 with 1 Axes>"
      ]
     },
     "metadata": {
      "needs_background": "light"
     },
     "output_type": "display_data"
    }
   ],
   "source": [
    "img_rows_t=20\n",
    "img_cols_t=175\n",
    "energia1B=conjunto_datos_entradasB.reshape(conjunto_datos_entradasB.shape[0], img_rows_t*img_cols_t)\n",
    "\n",
    "\n",
    "energia2B=np.sum(energia1B, axis=1)\n",
    "\n",
    "n1, bins1, patches1=plt.hist(energia2B,400, density=0, facecolor='blue', alpha=0.75)"
   ]
  },
  {
   "cell_type": "code",
   "execution_count": 11,
   "metadata": {},
   "outputs": [
    {
     "name": "stdout",
     "output_type": "stream",
     "text": [
      "490.0\n"
     ]
    }
   ],
   "source": [
    "print(n1.max())"
   ]
  },
  {
   "cell_type": "code",
   "execution_count": 12,
   "metadata": {},
   "outputs": [
    {
     "data": {
      "image/png": "[encoded data removed]",
      "text/plain": [
       "<Figure size 432x288 with 1 Axes>"
      ]
     },
     "metadata": {
      "needs_background": "light"
     },
     "output_type": "display_data"
    },
    {
     "name": "stdout",
     "output_type": "stream",
     "text": [
      "26362 181.29176604011835 -135.90053319765363 -33.12428283691406\n"
     ]
    },
    {
     "data": {
      "image/png": "[encoded data removed]",
      "text/plain": [
       "<Figure size 432x288 with 1 Axes>"
      ]
     },
     "metadata": {
      "needs_background": "light"
     },
     "output_type": "display_data"
    },
    {
     "name": "stdout",
     "output_type": "stream",
     "text": [
      "18094 190.40497853827333 47.05877473913742 11.322822570800781\n"
     ]
    },
    {
     "data": {
      "image/png": "[encoded data removed]",
      "text/plain": [
       "<Figure size 432x288 with 1 Axes>"
      ]
     },
     "metadata": {
      "needs_background": "light"
     },
     "output_type": "display_data"
    },
    {
     "name": "stdout",
     "output_type": "stream",
     "text": [
      "45335 188.2265100996255 -153.54857552436715 2.669490098953247\n"
     ]
    },
    {
     "data": {
      "image/png": "[encoded data removed]",
      "text/plain": [
       "<Figure size 432x288 with 1 Axes>"
      ]
     },
     "metadata": {
      "needs_background": "light"
     },
     "output_type": "display_data"
    },
    {
     "name": "stdout",
     "output_type": "stream",
     "text": [
      "22239 167.12265521688064 153.59668076010854 3.2004523277282715\n"
     ]
    },
    {
     "data": {
      "image/png": "[encoded data removed]",
      "text/plain": [
       "<Figure size 432x288 with 1 Axes>"
      ]
     },
     "metadata": {
      "needs_background": "light"
     },
     "output_type": "display_data"
    },
    {
     "name": "stdout",
     "output_type": "stream",
     "text": [
      "60550 190.40110700787992 -145.930692499917 -44.690528869628906\n"
     ]
    },
    {
     "data": {
      "image/png": "[encoded data removed]",
      "text/plain": [
       "<Figure size 432x288 with 1 Axes>"
      ]
     },
     "metadata": {
      "needs_background": "light"
     },
     "output_type": "display_data"
    },
    {
     "name": "stdout",
     "output_type": "stream",
     "text": [
      "21450 165.64693431479114 -102.80947597714763 -3.2795205116271973\n"
     ]
    },
    {
     "data": {
      "image/png": "[encoded data removed]",
      "text/plain": [
       "<Figure size 432x288 with 1 Axes>"
      ]
     },
     "metadata": {
      "needs_background": "light"
     },
     "output_type": "display_data"
    },
    {
     "name": "stdout",
     "output_type": "stream",
     "text": [
      "59620 165.99872135853397 -33.61613181988252 8.520263671875\n"
     ]
    },
    {
     "data": {
      "image/png": "[encoded data removed]",
      "text/plain": [
       "<Figure size 432x288 with 1 Axes>"
      ]
     },
     "metadata": {
      "needs_background": "light"
     },
     "output_type": "display_data"
    },
    {
     "name": "stdout",
     "output_type": "stream",
     "text": [
      "65796 166.04556022987123 56.425905644961645 -8.033291816711426\n"
     ]
    },
    {
     "data": {
      "image/png": "[encoded data removed]",
      "text/plain": [
       "<Figure size 432x288 with 1 Axes>"
      ]
     },
     "metadata": {
      "needs_background": "light"
     },
     "output_type": "display_data"
    },
    {
     "name": "stdout",
     "output_type": "stream",
     "text": [
      "8630 165.4451930201821 6.7615943029101295 57.04447937011719\n"
     ]
    },
    {
     "data": {
      "image/png": "[encoded data removed]",
      "text/plain": [
       "<Figure size 432x288 with 1 Axes>"
      ]
     },
     "metadata": {
      "needs_background": "light"
     },
     "output_type": "display_data"
    },
    {
     "name": "stdout",
     "output_type": "stream",
     "text": [
      "63194 183.17649056845175 -171.708825683976 6.275897026062012\n"
     ]
    }
   ],
   "source": [
    "for i in range(1,11):\n",
    "    idea=np.random.randint(1,conjunto_datos_entradasB.shape[0])\n",
    "    plt.imshow(conjunto_datos_entradasB[idea], cmap='viridis')\n",
    "    plt.show()\n",
    "    print(idea, conjunto_datos_salidas[idea,0],conjunto_datos_salidas[idea,1]*180/np.pi,conjunto_datos_salidas[idea,2])"
   ]
  },
  {
   "cell_type": "code",
   "execution_count": 55,
   "metadata": {},
   "outputs": [
    {
     "data": {
      "image/png": "[encoded data removed]",
      "text/plain": [
       "<Figure size 432x288 with 1 Axes>"
      ]
     },
     "metadata": {
      "needs_background": "light"
     },
     "output_type": "display_data"
    },
    {
     "name": "stdout",
     "output_type": "stream",
     "text": [
      "66247 170.3824836697924 -26.425602219072537 -40.216514587402344\n"
     ]
    }
   ],
   "source": []
  },
  {
   "cell_type": "code",
   "execution_count": 83,
   "metadata": {},
   "outputs": [
    {
     "data": {
      "image/png": "[encoded data removed]",
      "text/plain": [
       "<Figure size 432x288 with 1 Axes>"
      ]
     },
     "metadata": {
      "needs_background": "light"
     },
     "output_type": "display_data"
    },
    {
     "name": "stdout",
     "output_type": "stream",
     "text": [
      "7552 170.9435279843847 -147.38587452301243 0.5799381732940674\n",
      "24\n",
      "[24 60]\n",
      "[[14 41]\n",
      " [13 45]\n",
      " [13 44]\n",
      " [10 60]\n",
      " [ 6 44]]\n"
     ]
    },
    {
     "data": {
      "text/plain": [
       "[<matplotlib.lines.Line2D at 0x7f4df86a26a0>]"
      ]
     },
     "execution_count": 83,
     "metadata": {},
     "output_type": "execute_result"
    },
    {
     "data": {
      "image/png": "[encoded data removed]",
      "text/plain": [
       "<Figure size 432x288 with 1 Axes>"
      ]
     },
     "metadata": {
      "needs_background": "light"
     },
     "output_type": "display_data"
    }
   ],
   "source": [
    "from scipy import signal as fp1\n",
    "from gammapy import detect as fp2\n",
    "from skimage.feature import peak as fp3\n",
    "idea=7552\n",
    "plt.imshow(conjunto_datos_entradasB[idea], cmap='viridis')\n",
    "plt.show()\n",
    "print(idea, conjunto_datos_salidas[idea,0],conjunto_datos_salidas[idea,1]*180/np.pi,conjunto_datos_salidas[idea,2])\n",
    "\n",
    "i=0\n",
    "\n",
    "muestras=conjunto_datos_entradasB.shape[0]\n",
    "veamos3=np.zeros([muestras,175])\n",
    "veamos3[0]=np.sum(conjunto_datos_entradasB[idea], axis=0)\n",
    "indice=np.argmax(veamos3[0], axis=0)\n",
    "print (indice)\n",
    "indices = fp1.find_peaks(veamos3[0], height=40, distance=5)[0]\n",
    "indices2 = fp3.peak_local_max(conjunto_datos_entradasB[idea],threshold_rel =0.05, min_distance=4)\n",
    "print(indices)\n",
    "print(indices2)\n",
    "plt.plot(veamos3[0])"
   ]
  },
  {
   "cell_type": "code",
   "execution_count": 84,
   "metadata": {},
   "outputs": [
    {
     "data": {
      "image/png": "[encoded data removed]",
      "text/plain": [
       "<Figure size 432x288 with 1 Axes>"
      ]
     },
     "metadata": {
      "needs_background": "light"
     },
     "output_type": "display_data"
    }
   ],
   "source": [
    "energia1A=conjunto_datos_entradasA.reshape(conjunto_datos_entradasA.shape[0], img_rows_t*img_cols_t)\n",
    "energia2A=np.sum(energia1A, axis=1)\n",
    "n2, bins2, patches2=plt.hist(energia2A,400, density=0, facecolor='blue', alpha=0.75)"
   ]
  },
  {
   "cell_type": "code",
   "execution_count": 85,
   "metadata": {},
   "outputs": [],
   "source": [
    "energia2B_b=energia2B.reshape(energia2B.shape[0],1)\n",
    "\n"
   ]
  },
  {
   "cell_type": "code",
   "execution_count": null,
   "metadata": {},
   "outputs": [],
   "source": [
    "veamos=np.where((energia2B_b>1300).all(axis=1) )  # & (energia2B_b<1500).all(axis=1))\n",
    "\n",
    "conjunto_datos_entradasA_filt=conjunto_datos_entradasA[veamos]\n",
    "\n",
    "conjunto_datos_entradasB_filt=conjunto_datos_entradasB[veamos]\n",
    "\n",
    "conjunto_datos_salidas_filt=conjunto_datos_salidas[veamos]"
   ]
  },
  {
   "cell_type": "code",
   "execution_count": null,
   "metadata": {},
   "outputs": [],
   "source": [
    "energia1C=conjunto_datos_entradasB_filt.reshape(conjunto_datos_entradasB_filt.shape[0], img_rows_t*img_cols_t)\n",
    "energia2C=np.sum(energia1C, axis=1)\n",
    "n3, bins3, patches3=plt.hist(energia2C,400, density=0, facecolor='blue', alpha=0.75)"
   ]
  },
  {
   "cell_type": "code",
   "execution_count": null,
   "metadata": {},
   "outputs": [],
   "source": [
    "    \n",
    "np.savez('../conjuntos_datos_nuevos_2020/19_12_2019_filt',conjunto_datos_entradasA_filt, conjunto_datos_entradasB_filt, conjunto_datos_salidas_filt)"
   ]
  },
  {
   "cell_type": "code",
   "execution_count": null,
   "metadata": {},
   "outputs": [],
   "source": [
    "for i in range(1,11):\n",
    "    idea=np.random.randint(1,conjunto_datos_entradasB_filt.shape[0])\n",
    "    plt.imshow(conjunto_datos_entradasB_filt[idea], cmap='viridis')\n",
    "    plt.show()\n",
    "    print(idea, conjunto_datos_salidas_filt[idea,0],conjunto_datos_salidas_filt[idea,1]*180/np.pi,conjunto_datos_salidas_filt[idea,2])"
   ]
  },
  {
   "cell_type": "code",
   "execution_count": null,
   "metadata": {},
   "outputs": [],
   "source": []
  }
 ],
 "metadata": {
  "kernelspec": {
   "display_name": "Python [conda env:tensorflow3] *",
   "language": "python",
   "name": "conda-env-tensorflow3-py"
  },
  "language_info": {
   "codemirror_mode": {
    "name": "ipython",
    "version": 3
   },
   "file_extension": ".py",
   "mimetype": "text/x-python",
   "name": "python",
   "nbconvert_exporter": "python",
   "pygments_lexer": "ipython3",
   "version": "3.6.9"
  }
 },
 "nbformat": 4,
 "nbformat_minor": 4
}
