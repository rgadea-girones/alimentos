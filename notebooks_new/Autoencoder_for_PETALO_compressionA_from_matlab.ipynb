{
 "cells": [
  {
   "cell_type": "markdown",
   "metadata": {},
   "source": [
    "# Simple CNN for PETALO\n",
    "\n",
    "Esta red la vamos a utilizar para obtener el radio "
   ]
  },
  {
   "cell_type": "code",
   "execution_count": 42,
   "metadata": {},
   "outputs": [
    {
     "name": "stdout",
     "output_type": "stream",
     "text": [
      "['', '/home/rgadea3/anaconda3/envs/tensorflow/lib/python36.zip', '/home/rgadea3/anaconda3/envs/tensorflow/lib/python3.6', '/home/rgadea3/anaconda3/envs/tensorflow/lib/python3.6/lib-dynload', '/home/rgadea3/anaconda3/envs/tensorflow/lib/python3.6/site-packages', '/home/rgadea3/anaconda3/envs/tensorflow/lib/python3.6/site-packages/IPython/extensions', '/home/rgadea3/.ipython', '/home/rgadea/lmfit-py/']\n"
     ]
    }
   ],
   "source": [
    "import numpy as np\n",
    "#np.random.seed(1337)  # for reproducibility\n",
    "from time import time\n",
    "from sklearn import preprocessing\n",
    "import sys\n",
    "print(sys.path)\n",
    "sys.path.append(\"/home/rgadea/lmfit-py/\")\n",
    "from keras.datasets import mnist\n",
    "from keras.models import Model, Sequential\n",
    "from keras.layers import Input, Dense, Dropout, Activation, Flatten\n",
    "from keras.layers import Conv2D, MaxPooling2D,BatchNormalization\n",
    "from keras.callbacks import TensorBoard\n",
    "from keras.utils import np_utils\n",
    "from keras import regularizers\n",
    "from math import floor\n",
    "#from lmfit.models import  GaussianModel\n",
    "import matplotlib.pyplot as plt"
   ]
  },
  {
   "cell_type": "markdown",
   "metadata": {},
   "source": [
    "## Vamos introducir los datos de petalo preprocesados en matlab\n"
   ]
  },
  {
   "cell_type": "code",
   "execution_count": 43,
   "metadata": {},
   "outputs": [],
   "source": [
    "import scipy.io as sio\n",
    "import hdf5storage\n",
    "datos_matlab = hdf5storage.loadmat('../datos_julio_2018/conjunto_entrenamiento_julio_2018_ring1y2_fil1.mat')\n",
    "conjunto_datos= datos_matlab.get('photodefbox2_todoA')"
   ]
  },
  {
   "cell_type": "markdown",
   "metadata": {},
   "source": [
    "## Network parameters:"
   ]
  },
  {
   "cell_type": "code",
   "execution_count": 44,
   "metadata": {},
   "outputs": [],
   "source": [
    "use_regularizer = True\n",
    "my_regularizer = None\n",
    "my_epochs = 50\n",
    "features_path = 'simple_autoe_features.pickle'\n",
    "labels_path = 'simple_autoe_labels.pickle'\n",
    "\n",
    "if use_regularizer:\n",
    "    # add a sparsity constraint on the encoded representations\n",
    "    # note use of 10e-5 leads to blurred results\n",
    "    my_regularizer = regularizers.l2(0.001)\n",
    "    # and a larger number of epochs as the added regularization the model\n",
    "    # is less likely to overfit and can be trained longer\n",
    "    my_epochs = 100\n",
    "    features_path = 'sparse_autoe_features.pickle'\n",
    "    labels_path = 'sparse_autoe_labels.pickle'\n",
    "\n",
    "datos_matlab_encoder1 = hdf5storage.loadmat('../redes_compresoras/resultadoscompresores_1_medio_export.mat')\n",
    "encoder_weights= datos_matlab_encoder1.get('encoder_weights')\n",
    "encoder_biases= datos_matlab_encoder1.get('encoder_biases')\n",
    "decoder_weights= datos_matlab_encoder1.get('decoder_weights')\n",
    "decoder_biases= datos_matlab_encoder1.get('decoder_biases')\n",
    "Encoder_weights=encoder_weights.transpose()\n",
    "Encoder_biases=encoder_biases.transpose()\n",
    "Decoder_weights=decoder_weights.transpose()\n",
    "Decoder_biases=decoder_biases.transpose()\n",
    "#Encoder_biases[0]"
   ]
  },
  {
   "cell_type": "code",
   "execution_count": 45,
   "metadata": {
    "scrolled": true
   },
   "outputs": [],
   "source": [
    "    \n",
    "encoding_dim = 240  # 32 floats -> compression of factor 24.5, assuming the input is 784 floats\n",
    "\n",
    "# input image dimensions\n",
    "img_rows, img_cols = 16, 30\n",
    "# this is our input placeholder\n",
    "input_img = Input(shape=(480,))\n",
    "# \"encoded\" is the encoded representation of the input\n",
    "encoded = Dense(encoding_dim, activation='sigmoid',use_bias=True, weights=[Encoder_weights,Encoder_biases[0]] )(input_img)\n",
    "# \"decoded\" is the lossy reconstruction of the input\n",
    "decoded = Dense(480, activation='sigmoid',use_bias=True, weights=[Decoder_weights,Decoder_biases[0]] )(encoded)\n",
    "\n",
    "# this model maps an input to its reconstruction\n",
    "\n",
    "autoencoder=Sequential([\n",
    "    Dense(encoding_dim, kernel_regularizer=regularizers.l2(0.001),input_shape=(480,)),\n",
    "    Activation('sigmoid'),\n",
    "    Dense(480),\n",
    "    Activation('sigmoid'),\n",
    "])\n",
    "\n",
    "\n",
    "autoencoder_matlab = Model(input_img, decoded)\n",
    "# autoencoder_matlab.get_weights()\n",
    "# \"autoencoder_matlab.set_weights(encoder_weights,encoder_biases,decoder_weights,decoder_biases)"
   ]
  },
  {
   "cell_type": "markdown",
   "metadata": {},
   "source": [
    "## Prepare data into training and test set."
   ]
  },
  {
   "cell_type": "code",
   "execution_count": 46,
   "metadata": {},
   "outputs": [
    {
     "name": "stdout",
     "output_type": "stream",
     "text": [
      "73588\n",
      "conjunto_datos shape: (73588, 480)\n",
      "44152\n",
      "14717\n",
      "14719\n"
     ]
    }
   ],
   "source": [
    "# the data, shuffled and split between train and test sets\n",
    "# (X_train, y_train), (X_test, y_test) = mnist.load_data()\n",
    "numero_muestras=conjunto_datos.shape[0]\n",
    "print(numero_muestras)\n",
    "print('conjunto_datos shape:', conjunto_datos.shape)\n",
    "\n",
    "tr_size=60\n",
    "val_size=20\n",
    "test_size=100-val_size-tr_size\n",
    "\n",
    "tamanyo_tr=floor(tr_size*numero_muestras/100)\n",
    "tamanyo_val=floor(val_size*numero_muestras/100)\n",
    "tamanyo_test=numero_muestras-tamanyo_tr-tamanyo_val\n",
    "print(tamanyo_tr)\n",
    "print(tamanyo_val)\n",
    "print(tamanyo_test)\n",
    "\n",
    "\n",
    "X_train=conjunto_datos[:tamanyo_tr,:]\n",
    "X_val=conjunto_datos[tamanyo_tr:tamanyo_tr+tamanyo_val,:]\n",
    "X_test=conjunto_datos[tamanyo_tr+tamanyo_val:numero_muestras,:]\n",
    "\n",
    "\n",
    "\n",
    "\n",
    "\n",
    "Y_train=conjunto_datos[:tamanyo_tr,1] #elijo la coordenada radius\n",
    "Y_val=conjunto_datos[tamanyo_tr:tamanyo_tr+tamanyo_val,1] #elijo la corrdenada radius\n",
    "Y_test=conjunto_datos[tamanyo_tr+tamanyo_val:numero_muestras,1] #elijo la corrdenada radius"
   ]
  },
  {
   "cell_type": "code",
   "execution_count": 47,
   "metadata": {},
   "outputs": [],
   "source": [
    "X_train = X_train.reshape(X_train.shape[0], img_cols, img_rows,1)\n",
    "X_val = X_val.reshape(X_val.shape[0], img_cols, img_rows,1)\n",
    "X_test = X_test.reshape(X_test.shape[0], img_cols, img_rows,1)\n",
    "\n",
    "\n",
    "input_shape = (img_cols, img_rows,1)\n",
    "#input_shape=input_shape.astype('int32')"
   ]
  },
  {
   "cell_type": "code",
   "execution_count": 48,
   "metadata": {},
   "outputs": [
    {
     "name": "stdout",
     "output_type": "stream",
     "text": [
      "X_train shape: (44152, 30, 16, 1)\n",
      "44152 train samples\n",
      "14717 validation samples\n",
      "14719 test samples\n"
     ]
    }
   ],
   "source": [
    "X_train = X_train.astype('float32')\n",
    "X_val= X_val.astype('float32')\n",
    "X_test = X_test.astype('float32')\n",
    "\n",
    "print('X_train shape:', X_train.shape)\n",
    "print(X_train.shape[0], 'train samples')\n",
    "print(X_val.shape[0], 'validation samples')\n",
    "print(X_test.shape[0], 'test samples')"
   ]
  },
  {
   "cell_type": "markdown",
   "metadata": {},
   "source": [
    "Display 20 random training images using image"
   ]
  },
  {
   "cell_type": "code",
   "execution_count": 49,
   "metadata": {},
   "outputs": [
    {
     "data": {
      "image/png": "[encoded data removed]",
      "text/plain": [
       "<Figure size 432x288 with 1 Axes>"
      ]
     },
     "metadata": {},
     "output_type": "display_data"
    },
    {
     "data": {
      "image/png": "[encoded data removed]",
      "text/plain": [
       "<Figure size 432x288 with 1 Axes>"
      ]
     },
     "metadata": {},
     "output_type": "display_data"
    },
    {
     "data": {
      "image/png": "[encoded data removed]",
      "text/plain": [
       "<Figure size 432x288 with 1 Axes>"
      ]
     },
     "metadata": {},
     "output_type": "display_data"
    },
    {
     "data": {
      "image/png": "[encoded data removed]",
      "text/plain": [
       "<Figure size 432x288 with 1 Axes>"
      ]
     },
     "metadata": {},
     "output_type": "display_data"
    }
   ],
   "source": [
    "# convert class vectors to binary class matrices\n",
    "#Y_train = np_utils.to_categorical(y_train, nb_classes)\n",
    "#Y_test = np_utils.to_categorical(y_test, nb_classes)\n",
    "for i in range(1,5):\n",
    "    idea=np.random.randint(1,X_train.shape[0])\n",
    "    plt.imshow(np.reshape(X_train[idea].transpose(), [16, 30]), cmap='viridis')\n",
    "    plt.show()"
   ]
  },
  {
   "cell_type": "markdown",
   "metadata": {},
   "source": [
    "Vamos a generar las matrices de datos para la red neuronal "
   ]
  },
  {
   "cell_type": "code",
   "execution_count": 50,
   "metadata": {},
   "outputs": [
    {
     "name": "stdout",
     "output_type": "stream",
     "text": [
      "(44152, 480)\n",
      "(14719, 480)\n"
     ]
    }
   ],
   "source": [
    "x_train = X_train.reshape((len(X_train), np.prod(X_train.shape[1:])))\n",
    "x_test = X_test.reshape((len(X_test), np.prod(X_test.shape[1:])))\n",
    "print(x_train.shape)\n",
    "print(x_test.shape)"
   ]
  },
  {
   "cell_type": "markdown",
   "metadata": {},
   "source": [
    "Vamos a escalar entre 0 y 1"
   ]
  },
  {
   "cell_type": "code",
   "execution_count": 51,
   "metadata": {},
   "outputs": [],
   "source": [
    "# min_max_scaler = preprocessing.QuantileTransformer().fit(x_train)\n",
    "# min_max_scaler = preprocessing.MaxAbsScaler().fit(x_train)\n",
    "# min_max_scaler = preprocessing.StandardScaler(with_mean=False).fit(x_train)\n",
    "min_max_scaler = preprocessing.MinMaxScaler().fit(x_train)\n",
    "# min_max_scaler = preprocessing.RobustScaler().fit(x_train)\n",
    "x_train_min_max = min_max_scaler.transform(x_train)\n",
    "x_test_min_max = min_max_scaler.transform(x_test)\n",
    "#min_max_scaler.data_max_"
   ]
  },
  {
   "cell_type": "markdown",
   "metadata": {},
   "source": [
    "## Build the CNN. "
   ]
  },
  {
   "cell_type": "code",
   "execution_count": 52,
   "metadata": {},
   "outputs": [],
   "source": [
    "# this model maps an input to its encoded representation\n",
    "encoder = Model(input_img, encoded)\n",
    "\n",
    "# create a placeholder for an encoded (32-dimensional) input\n",
    "encoded_input = Input(shape=(encoding_dim,))\n",
    "# retrieve the last layer of the autoencoder model\n",
    "decoder_layer = autoencoder_matlab.layers[-1]\n",
    "# create the decoder model\n",
    "decoder = Model(encoded_input, decoder_layer(encoded_input))\n",
    "\n",
    "autoencoder_matlab.compile(optimizer='sgd', loss='mse')\n",
    "autoencoder.compile(optimizer='sgd', loss='mse')\n"
   ]
  },
  {
   "cell_type": "markdown",
   "metadata": {},
   "source": [
    "Show a summary of the model parameters. "
   ]
  },
  {
   "cell_type": "markdown",
   "metadata": {},
   "source": [
    "And now train the model and evaluate on the test set. "
   ]
  },
  {
   "cell_type": "code",
   "execution_count": 53,
   "metadata": {},
   "outputs": [],
   "source": [
    "#tensorboard=TensorBoard(log_dir=\"/home/rgadea3/EXPERIMENTOS/nuevas_investigaciones_2018/experimentos/logs/{}\".format(time()))\n",
    "#autoencoder.fit(x_train_min_max, x_train_min_max,\n",
    "#                epochs=1500,\n",
    "#                batch_size=500,\n",
    "#                shuffle=False,\n",
    "#                callbacks=[tensorboard],\n",
    "#                validation_data=(x_test_min_max, x_test_min_max))\n",
    "\n"
   ]
  },
  {
   "cell_type": "code",
   "execution_count": 54,
   "metadata": {},
   "outputs": [
    {
     "name": "stdout",
     "output_type": "stream",
     "text": [
      "14719/14719 [==============================] - 1s 50us/step\n"
     ]
    },
    {
     "data": {
      "text/plain": [
       "0.00011545068416479888"
      ]
     },
     "execution_count": 54,
     "metadata": {},
     "output_type": "execute_result"
    }
   ],
   "source": [
    "autoencoder_matlab.evaluate(x=x_test_min_max,y=x_test_min_max)"
   ]
  },
  {
   "cell_type": "code",
   "execution_count": 56,
   "metadata": {},
   "outputs": [],
   "source": [
    "# encode and decode some images\n",
    "# note that we take them from the *test* set\n",
    "def sigmoid(x, derivative=False):\n",
    "  return x*(1-x) if derivative else 1/(1+np.exp(-x))\n",
    "encoded_imgs = encoder.predict(x_test_min_max)\n",
    "decoded_imgs_scaled_dot= sigmoid(np.dot(encoded_imgs, Decoder_weights) + Decoder_biases[0])\n",
    "decoded_imgs_scaled = autoencoder_matlab.predict(x_test_min_max)\n",
    "decoded_imgs = min_max_scaler.inverse_transform(decoded_imgs_scaled)\n",
    "#x_test_min_max[3928]"
   ]
  },
  {
   "cell_type": "code",
   "execution_count": null,
   "metadata": {},
   "outputs": [],
   "source": [
    "#x_test[3928]"
   ]
  },
  {
   "cell_type": "code",
   "execution_count": null,
   "metadata": {},
   "outputs": [],
   "source": [
    "#x_test_min_max[3929]"
   ]
  },
  {
   "cell_type": "code",
   "execution_count": 59,
   "metadata": {},
   "outputs": [
    {
     "data": {
      "text/plain": [
       "array([2.34294636e-03, 3.57693247e-03, 7.64102268e-04, 2.03834171e-03,\n",
       "       1.13868923e-03, 4.17855947e-04, 1.37818817e-04, 5.38304957e-05,\n",
       "       9.86916129e-04, 2.96366517e-04, 1.95944114e-04, 5.88856754e-04,\n",
       "       1.64992444e-03, 5.63045731e-04, 2.37804590e-04, 7.67004793e-04,\n",
       "       2.56806705e-03, 1.49124733e-03, 7.12021079e-04, 2.98726722e-04,\n",
       "       1.07939658e-03, 7.48361635e-04, 3.51342285e-04, 1.42404845e-03,\n",
       "       3.43230064e-03, 8.75418482e-04, 2.21970622e-04, 1.28932216e-03,\n",
       "       3.25871719e-04, 1.84557011e-05, 3.20413703e-04, 6.10478281e-04,\n",
       "       1.83516613e-03, 7.23026460e-04, 1.12588773e-03, 2.53940001e-03,\n",
       "       4.27411916e-03, 3.67758505e-04, 1.39443277e-04, 2.84705457e-04,\n",
       "       1.27742242e-04, 6.04224566e-04, 8.56337894e-04, 4.03802114e-05,\n",
       "       7.39270617e-05, 2.18393179e-04, 1.38667843e-03, 9.65229236e-04,\n",
       "       4.61816136e-03, 1.75883051e-03, 1.04574196e-03, 6.73511415e-04,\n",
       "       2.63357698e-03, 7.56457739e-04, 5.97113918e-04, 1.37056166e-03,\n",
       "       5.10210695e-04, 8.83413188e-04, 8.16594518e-04, 5.77508821e-04,\n",
       "       5.15140477e-04, 1.60567724e-05, 1.61275238e-04, 9.16814024e-04,\n",
       "       1.06947919e-04, 9.02113912e-04, 3.18709761e-04, 1.77010917e-03,\n",
       "       1.14369357e-03, 5.87312854e-04, 1.78907660e-03, 6.26802910e-04,\n",
       "       3.69084184e-04, 2.86643044e-04, 5.26602787e-04, 1.21570512e-04,\n",
       "       2.48118653e-04, 4.63323049e-05, 2.64444767e-04, 1.16072872e-04,\n",
       "       1.11165777e-04, 6.98970049e-04, 2.41191918e-03, 7.74349144e-04,\n",
       "       7.75750203e-04, 5.19685913e-04, 1.48002378e-04, 3.21054627e-04,\n",
       "       2.45117437e-04, 8.41133296e-04, 1.72525499e-04, 7.36451912e-05,\n",
       "       1.26054991e-04, 6.55531650e-04, 3.00023094e-04, 3.10766263e-05,\n",
       "       7.91204628e-04, 1.00329588e-03, 1.18580728e-03, 1.89881248e-03,\n",
       "       8.90984491e-04, 1.85975851e-03, 8.49969336e-04, 1.64190715e-03,\n",
       "       2.19587499e-04, 1.08250155e-04, 2.59625172e-04, 2.83787056e-04,\n",
       "       1.05973042e-04, 2.49488337e-04, 1.14136637e-04, 2.21759503e-04,\n",
       "       7.12587964e-04, 3.14103020e-03, 1.99405273e-04, 1.03368261e-03,\n",
       "       4.53854300e-04, 1.45098998e-03, 3.00359097e-04, 1.38548377e-04,\n",
       "       5.66976494e-04, 1.94982422e-04, 1.99205344e-04, 4.19080781e-04,\n",
       "       3.33835284e-04, 8.90680167e-05, 2.27770015e-05, 8.24646777e-05,\n",
       "       3.85068171e-03, 4.58294060e-04, 1.62173202e-03, 5.32206055e-03,\n",
       "       3.75789637e-03, 2.98513740e-04, 9.59383033e-04, 3.52815812e-04,\n",
       "       2.19060530e-04, 4.14767594e-04, 1.22176571e-04, 4.19201911e-04,\n",
       "       2.99315434e-04, 5.35506879e-05, 5.28155106e-05, 2.13270701e-04,\n",
       "       3.30873299e-03, 2.20641238e-03, 2.15054187e-03, 2.21164944e-03,\n",
       "       5.92395954e-04, 1.18019769e-03, 1.70724071e-03, 1.63095727e-04,\n",
       "       3.32592841e-04, 6.89417997e-04, 7.50131672e-04, 5.82235632e-04,\n",
       "       1.72965432e-04, 3.43498323e-05, 9.59530662e-05, 1.64248399e-04,\n",
       "       1.87213125e-03, 6.58580847e-03, 2.20800447e-03, 6.00539194e-03,\n",
       "       1.43632723e-03, 2.34648032e-04, 1.30240558e-04, 2.41032732e-03,\n",
       "       4.06427804e-04, 2.99784355e-04, 6.94605988e-04, 2.48767697e-04,\n",
       "       2.24841075e-04, 1.69343699e-03, 2.57800857e-04, 1.01503058e-04,\n",
       "       4.10118327e-03, 2.35186946e-02, 1.86604483e-03, 1.66592165e-03,\n",
       "       1.48782902e-03, 6.98784250e-04, 2.00690003e-03, 2.08466453e-03,\n",
       "       8.70756805e-04, 5.70455974e-04, 5.40941430e-04, 6.41581137e-04,\n",
       "       9.58074059e-04, 1.67536884e-04, 1.52348238e-03, 3.25663947e-04,\n",
       "       2.43121013e-02, 1.49187902e-02, 6.45707175e-03, 1.24547789e-02,\n",
       "       3.87605699e-03, 8.91308067e-04, 1.07108371e-03, 4.82632313e-04,\n",
       "       3.66406981e-04, 2.69956450e-04, 9.63968487e-05, 7.90642007e-05,\n",
       "       2.47453863e-04, 3.84385348e-04, 9.23942251e-04, 1.61579694e-04,\n",
       "       4.42891940e-02, 1.67783294e-02, 2.10759416e-02, 3.67287896e-03,\n",
       "       1.11692538e-02, 1.06265512e-03, 1.97433890e-03, 1.16162957e-03,\n",
       "       1.93392893e-03, 6.47999172e-04, 2.03243180e-04, 2.67665222e-04,\n",
       "       3.35448916e-04, 1.87034369e-04, 2.71549943e-04, 3.82126658e-04,\n",
       "       2.43875179e-02, 5.04240859e-03, 3.02113425e-02, 4.73015336e-03,\n",
       "       5.90718118e-03, 2.32579676e-03, 2.12730234e-03, 1.89232302e-03,\n",
       "       5.92329307e-04, 2.84637616e-04, 3.67254339e-04, 6.58807869e-04,\n",
       "       1.67052762e-03, 5.41735324e-04, 1.25496706e-04, 5.54111430e-05,\n",
       "       4.72639687e-02, 3.92737351e-02, 5.23950383e-02, 5.55544626e-03,\n",
       "       1.02000963e-02, 5.35493391e-03, 1.04833697e-03, 2.39798310e-03,\n",
       "       1.46643620e-03, 5.59284294e-04, 7.24851619e-04, 3.68845358e-04,\n",
       "       1.87193873e-04, 1.89900654e-03, 9.64580278e-04, 9.74023642e-05,\n",
       "       2.33920086e-02, 7.06787407e-02, 5.20258285e-02, 2.23527327e-02,\n",
       "       4.09605447e-03, 4.48833359e-03, 2.26843241e-03, 3.19245714e-03,\n",
       "       1.77979900e-03, 5.84063993e-04, 1.07099186e-03, 3.48847097e-04,\n",
       "       1.19735382e-03, 1.34181697e-04, 5.55323859e-05, 2.57459051e-05,\n",
       "       7.87495226e-02, 4.69298773e-02, 4.77832109e-02, 2.60639042e-02,\n",
       "       3.83231416e-03, 8.31142347e-03, 1.98912923e-03, 1.18228723e-03,\n",
       "       2.63148500e-03, 1.05754600e-03, 3.08611011e-03, 1.26539357e-03,\n",
       "       8.80106352e-04, 4.42634919e-04, 5.01732342e-04, 8.54675236e-05,\n",
       "       3.68592329e-02, 3.27631794e-02, 8.00825469e-03, 1.28307296e-02,\n",
       "       5.20347292e-03, 5.67072770e-03, 2.46192934e-03, 3.32022598e-03,\n",
       "       2.20757560e-03, 5.52131236e-03, 4.88930847e-03, 1.32904924e-03,\n",
       "       6.47587702e-04, 7.05881044e-04, 1.59528587e-04, 1.55672769e-05,\n",
       "       2.07370464e-02, 3.50084230e-02, 1.41234025e-02, 1.34837553e-02,\n",
       "       2.11368799e-02, 5.65295666e-03, 5.66634722e-03, 1.05955580e-03,\n",
       "       4.09084884e-03, 3.76298744e-03, 3.08946148e-03, 3.83326347e-04,\n",
       "       1.65947771e-04, 4.61230258e-04, 2.04535958e-04, 1.99970935e-04,\n",
       "       7.78329419e-03, 2.40788795e-02, 1.85705349e-02, 2.08449606e-02,\n",
       "       1.17444731e-02, 4.06257343e-03, 4.95767267e-03, 5.29400958e-03,\n",
       "       2.70730886e-03, 3.12834117e-03, 2.57694721e-03, 3.91199859e-03,\n",
       "       9.35494390e-05, 5.24670875e-04, 2.73337268e-04, 3.60008184e-04,\n",
       "       1.15045421e-02, 1.00632356e-02, 1.07208714e-02, 6.22029975e-03,\n",
       "       6.74510899e-04, 2.31903605e-03, 3.26199387e-03, 1.75391650e-03,\n",
       "       2.03040056e-03, 1.02285435e-03, 2.78356299e-03, 2.91738106e-04,\n",
       "       1.17392954e-03, 6.74925919e-04, 6.11462528e-05, 2.39361441e-04,\n",
       "       9.95104667e-03, 2.30490835e-03, 2.78547779e-03, 1.10239796e-02,\n",
       "       8.42070382e-04, 5.71232522e-03, 5.56795206e-03, 1.10464194e-03,\n",
       "       2.81237677e-04, 2.21898966e-03, 3.66168126e-04, 1.16381423e-04,\n",
       "       5.38880937e-04, 6.20362873e-04, 1.95945304e-05, 1.98964277e-04,\n",
       "       3.83434468e-03, 1.30442381e-02, 3.93173238e-03, 1.27153099e-03,\n",
       "       2.03525857e-03, 3.36257182e-03, 8.05416435e-04, 1.34759699e-03,\n",
       "       1.87458599e-03, 9.73587390e-04, 2.52222322e-04, 1.07878761e-04,\n",
       "       1.06971580e-04, 7.10654786e-05, 1.17700365e-04, 1.17486423e-04,\n",
       "       5.85052650e-03, 1.20749453e-03, 4.14610794e-03, 4.13442915e-03,\n",
       "       5.39174071e-03, 1.38718041e-03, 2.49287952e-03, 2.67428905e-03,\n",
       "       4.98291221e-04, 7.43850367e-04, 2.25951720e-04, 1.89681799e-04,\n",
       "       6.59415324e-04, 4.89601625e-05, 8.94844779e-05, 2.32758728e-04,\n",
       "       2.02987972e-03, 2.44722166e-03, 5.35000628e-03, 1.21551752e-03,\n",
       "       5.12111699e-04, 4.70921776e-04, 6.44859625e-04, 6.34576776e-04,\n",
       "       4.66630707e-04, 3.49598733e-04, 3.37511883e-04, 1.15241535e-04,\n",
       "       5.74868929e-04, 6.61025551e-05, 1.07208289e-04, 4.01228026e-05,\n",
       "       1.35079084e-03, 1.53511309e-03, 1.21693371e-03, 7.32118788e-04,\n",
       "       2.46050698e-03, 1.07638433e-03, 1.19456847e-03, 3.45979061e-04,\n",
       "       1.23888225e-04, 3.39881750e-04, 9.76381853e-05, 6.70528796e-04,\n",
       "       7.82600691e-05, 3.34352553e-05, 6.54667019e-05, 1.90034934e-05,\n",
       "       2.63118581e-03, 4.56003705e-04, 9.91688692e-04, 7.57925038e-04,\n",
       "       3.30949057e-04, 6.46111803e-05, 7.78429385e-04, 5.29139943e-04,\n",
       "       1.95666507e-04, 5.38010390e-05, 5.15097599e-05, 1.80342060e-04,\n",
       "       6.24980312e-05, 1.36412258e-04, 1.25030143e-04, 1.33132417e-04,\n",
       "       1.82341755e-04, 5.42782909e-05, 4.29330161e-04, 9.23237094e-05,\n",
       "       2.51604099e-04, 1.37443480e-04, 3.50890245e-04, 3.49517504e-05,\n",
       "       1.60333337e-04, 6.17216647e-05, 7.25621521e-06, 2.48516881e-05,\n",
       "       3.63140207e-05, 3.17630584e-05, 4.96805078e-05, 4.39462492e-05,\n",
       "       4.92400548e-04, 5.69158758e-04, 1.46656545e-04, 9.36901342e-05,\n",
       "       2.39491768e-04, 5.07273769e-04, 3.56928969e-04, 1.73555716e-04,\n",
       "       9.40772370e-05, 8.26669839e-06, 4.97946985e-06, 6.97851601e-06,\n",
       "       3.44049731e-05, 4.78300208e-05, 1.94385630e-05, 9.08837319e-05],\n",
       "      dtype=float32)"
      ]
     },
     "execution_count": 59,
     "metadata": {},
     "output_type": "execute_result"
    }
   ],
   "source": [
    "decoded_imgs_scaled[3928]"
   ]
  },
  {
   "cell_type": "code",
   "execution_count": 58,
   "metadata": {},
   "outputs": [
    {
     "data": {
      "text/plain": [
       "array([2.34294619e-03, 3.57693422e-03, 7.64102090e-04, 2.03834080e-03,\n",
       "       1.13868957e-03, 4.17856129e-04, 1.37818789e-04, 5.38304570e-05,\n",
       "       9.86916199e-04, 2.96366611e-04, 1.95944256e-04, 5.88856662e-04,\n",
       "       1.64992452e-03, 5.63045943e-04, 2.37804576e-04, 7.67005027e-04,\n",
       "       2.56806798e-03, 1.49124746e-03, 7.12020887e-04, 2.98726587e-04,\n",
       "       1.07939667e-03, 7.48361496e-04, 3.51342299e-04, 1.42404874e-03,\n",
       "       3.43230193e-03, 8.75418910e-04, 2.21970573e-04, 1.28932216e-03,\n",
       "       3.25871920e-04, 1.84557123e-05, 3.20413865e-04, 6.10478373e-04,\n",
       "       1.83516729e-03, 7.23025862e-04, 1.12588850e-03, 2.53939884e-03,\n",
       "       4.27412223e-03, 3.67758486e-04, 1.39443302e-04, 2.84705567e-04,\n",
       "       1.27742278e-04, 6.04224704e-04, 8.56337673e-04, 4.03802209e-05,\n",
       "       7.39270321e-05, 2.18393286e-04, 1.38667887e-03, 9.65229053e-04,\n",
       "       4.61816156e-03, 1.75883104e-03, 1.04574188e-03, 6.73511720e-04,\n",
       "       2.63357593e-03, 7.56457349e-04, 5.97114172e-04, 1.37056128e-03,\n",
       "       5.10210826e-04, 8.83413290e-04, 8.16594487e-04, 5.77508833e-04,\n",
       "       5.15140345e-04, 1.60567803e-05, 1.61275247e-04, 9.16813797e-04,\n",
       "       1.06947899e-04, 9.02113433e-04, 3.18709662e-04, 1.77010966e-03,\n",
       "       1.14369367e-03, 5.87312882e-04, 1.78907685e-03, 6.26803036e-04,\n",
       "       3.69084131e-04, 2.86643258e-04, 5.26602733e-04, 1.21570541e-04,\n",
       "       2.48118695e-04, 4.63322969e-05, 2.64444908e-04, 1.16072894e-04,\n",
       "       1.11165802e-04, 6.98969882e-04, 2.41191940e-03, 7.74348944e-04,\n",
       "       7.75750335e-04, 5.19686166e-04, 1.48002412e-04, 3.21054849e-04,\n",
       "       2.45117450e-04, 8.41133322e-04, 1.72525468e-04, 7.36452018e-05,\n",
       "       1.26055035e-04, 6.55531693e-04, 3.00023128e-04, 3.10766199e-05,\n",
       "       7.91204591e-04, 1.00329629e-03, 1.18580743e-03, 1.89881209e-03,\n",
       "       8.90984773e-04, 1.85975857e-03, 8.49968950e-04, 1.64190772e-03,\n",
       "       2.19587568e-04, 1.08250128e-04, 2.59624914e-04, 2.83786926e-04,\n",
       "       1.05973030e-04, 2.49488248e-04, 1.14136639e-04, 2.21759527e-04,\n",
       "       7.12588164e-04, 3.14103101e-03, 1.99405305e-04, 1.03368253e-03,\n",
       "       4.53854555e-04, 1.45098970e-03, 3.00359185e-04, 1.38548371e-04,\n",
       "       5.66976715e-04, 1.94982339e-04, 1.99205330e-04, 4.19080801e-04,\n",
       "       3.33835241e-04, 8.90680743e-05, 2.27770005e-05, 8.24646422e-05,\n",
       "       3.85068084e-03, 4.58294149e-04, 1.62173203e-03, 5.32206112e-03,\n",
       "       3.75789489e-03, 2.98513928e-04, 9.59382881e-04, 3.52815900e-04,\n",
       "       2.19060782e-04, 4.14767228e-04, 1.22176599e-04, 4.19201752e-04,\n",
       "       2.99315468e-04, 5.35506733e-05, 5.28155278e-05, 2.13270654e-04,\n",
       "       3.30873193e-03, 2.20641149e-03, 2.15054061e-03, 2.21164933e-03,\n",
       "       5.92396130e-04, 1.18019721e-03, 1.70723999e-03, 1.63095754e-04,\n",
       "       3.32593068e-04, 6.89418137e-04, 7.50131859e-04, 5.82235729e-04,\n",
       "       1.72965358e-04, 3.43498042e-05, 9.59530917e-05, 1.64248302e-04,\n",
       "       1.87213136e-03, 6.58581007e-03, 2.20800483e-03, 6.00539302e-03,\n",
       "       1.43632707e-03, 2.34647981e-04, 1.30240602e-04, 2.41032774e-03,\n",
       "       4.06427712e-04, 2.99784498e-04, 6.94605954e-04, 2.48767680e-04,\n",
       "       2.24841079e-04, 1.69343713e-03, 2.57800857e-04, 1.01503131e-04,\n",
       "       4.10118077e-03, 2.35186906e-02, 1.86604402e-03, 1.66592096e-03,\n",
       "       1.48782818e-03, 6.98784305e-04, 2.00690003e-03, 2.08466536e-03,\n",
       "       8.70756635e-04, 5.70455928e-04, 5.40941470e-04, 6.41581132e-04,\n",
       "       9.58074264e-04, 1.67536834e-04, 1.52348264e-03, 3.25664015e-04,\n",
       "       2.43121139e-02, 1.49187967e-02, 6.45707032e-03, 1.24547725e-02,\n",
       "       3.87605754e-03, 8.91308023e-04, 1.07108342e-03, 4.82632331e-04,\n",
       "       3.66406796e-04, 2.69956564e-04, 9.63969125e-05, 7.90641739e-05,\n",
       "       2.47453712e-04, 3.84385274e-04, 9.23942324e-04, 1.61579697e-04,\n",
       "       4.42891610e-02, 1.67783184e-02, 2.10759449e-02, 3.67287803e-03,\n",
       "       1.11692506e-02, 1.06265508e-03, 1.97433943e-03, 1.16162928e-03,\n",
       "       1.93392891e-03, 6.47999163e-04, 2.03243184e-04, 2.67665220e-04,\n",
       "       3.35448990e-04, 1.87034417e-04, 2.71549881e-04, 3.82126745e-04,\n",
       "       2.43875012e-02, 5.04240785e-03, 3.02113481e-02, 4.73015597e-03,\n",
       "       5.90717784e-03, 2.32579711e-03, 2.12730268e-03, 1.89232366e-03,\n",
       "       5.92329437e-04, 2.84637697e-04, 3.67254433e-04, 6.58807739e-04,\n",
       "       1.67052779e-03, 5.41735399e-04, 1.25496684e-04, 5.54111395e-05,\n",
       "       4.72639818e-02, 3.92737557e-02, 5.23949882e-02, 5.55544417e-03,\n",
       "       1.02001001e-02, 5.35493524e-03, 1.04833720e-03, 2.39798303e-03,\n",
       "       1.46643538e-03, 5.59284027e-04, 7.24851464e-04, 3.68845094e-04,\n",
       "       1.87193903e-04, 1.89900788e-03, 9.64580427e-04, 9.74023833e-05,\n",
       "       2.33919970e-02, 7.06787202e-02, 5.20258043e-02, 2.23527243e-02,\n",
       "       4.09605595e-03, 4.48833336e-03, 2.26843189e-03, 3.19245801e-03,\n",
       "       1.77979879e-03, 5.84064069e-04, 1.07099222e-03, 3.48847102e-04,\n",
       "       1.19735375e-03, 1.34181780e-04, 5.55323558e-05, 2.57458959e-05,\n",
       "       7.87494825e-02, 4.69298714e-02, 4.77832287e-02, 2.60639227e-02,\n",
       "       3.83231210e-03, 8.31142508e-03, 1.98912868e-03, 1.18228694e-03,\n",
       "       2.63148541e-03, 1.05754498e-03, 3.08611154e-03, 1.26539428e-03,\n",
       "       8.80106545e-04, 4.42635043e-04, 5.01732094e-04, 8.54675129e-05,\n",
       "       3.68592748e-02, 3.27631907e-02, 8.00825125e-03, 1.28307263e-02,\n",
       "       5.20347445e-03, 5.67072574e-03, 2.46192997e-03, 3.32022627e-03,\n",
       "       2.20757689e-03, 5.52131374e-03, 4.88930654e-03, 1.32904970e-03,\n",
       "       6.47587909e-04, 7.05880812e-04, 1.59528712e-04, 1.55672645e-05,\n",
       "       2.07370491e-02, 3.50084103e-02, 1.41233973e-02, 1.34837649e-02,\n",
       "       2.11368829e-02, 5.65295666e-03, 5.66634921e-03, 1.05955475e-03,\n",
       "       4.09084864e-03, 3.76298874e-03, 3.08945990e-03, 3.83326377e-04,\n",
       "       1.65947840e-04, 4.61230158e-04, 2.04535864e-04, 1.99970850e-04,\n",
       "       7.78329869e-03, 2.40788770e-02, 1.85705310e-02, 2.08449627e-02,\n",
       "       1.17444773e-02, 4.06257232e-03, 4.95767500e-03, 5.29400670e-03,\n",
       "       2.70730966e-03, 3.12834167e-03, 2.57694604e-03, 3.91199982e-03,\n",
       "       9.35494079e-05, 5.24670821e-04, 2.73337249e-04, 3.60008102e-04,\n",
       "       1.15045410e-02, 1.00632336e-02, 1.07208705e-02, 6.22029717e-03,\n",
       "       6.74510852e-04, 2.31903489e-03, 3.26199447e-03, 1.75391614e-03,\n",
       "       2.03040048e-03, 1.02285474e-03, 2.78356395e-03, 2.91738194e-04,\n",
       "       1.17392919e-03, 6.74926074e-04, 6.11462387e-05, 2.39361456e-04,\n",
       "       9.95103901e-03, 2.30490801e-03, 2.78547788e-03, 1.10239784e-02,\n",
       "       8.42070164e-04, 5.71232290e-03, 5.56795433e-03, 1.10464232e-03,\n",
       "       2.81237915e-04, 2.21898953e-03, 3.66168137e-04, 1.16381452e-04,\n",
       "       5.38880964e-04, 6.20362787e-04, 1.95945295e-05, 1.98964202e-04,\n",
       "       3.83434548e-03, 1.30442316e-02, 3.93173334e-03, 1.27153168e-03,\n",
       "       2.03525962e-03, 3.36256995e-03, 8.05416752e-04, 1.34759660e-03,\n",
       "       1.87458617e-03, 9.73587196e-04, 2.52222368e-04, 1.07878739e-04,\n",
       "       1.06971565e-04, 7.10654609e-05, 1.17700396e-04, 1.17486453e-04,\n",
       "       5.85052714e-03, 1.20749436e-03, 4.14610884e-03, 4.13443166e-03,\n",
       "       5.39174057e-03, 1.38717990e-03, 2.49287990e-03, 2.67428970e-03,\n",
       "       4.98291224e-04, 7.43850425e-04, 2.25951788e-04, 1.89681842e-04,\n",
       "       6.59415567e-04, 4.89601678e-05, 8.94845143e-05, 2.32758798e-04,\n",
       "       2.02987939e-03, 2.44722031e-03, 5.35000703e-03, 1.21551749e-03,\n",
       "       5.12111347e-04, 4.70921766e-04, 6.44859413e-04, 6.34576735e-04,\n",
       "       4.66630826e-04, 3.49598808e-04, 3.37511761e-04, 1.15241519e-04,\n",
       "       5.74868873e-04, 6.61025963e-05, 1.07208293e-04, 4.01227954e-05,\n",
       "       1.35079036e-03, 1.53511250e-03, 1.21693312e-03, 7.32118684e-04,\n",
       "       2.46050769e-03, 1.07638428e-03, 1.19456822e-03, 3.45979038e-04,\n",
       "       1.23888282e-04, 3.39881786e-04, 9.76381796e-05, 6.70528944e-04,\n",
       "       7.82600116e-05, 3.34352564e-05, 6.54666586e-05, 1.90034984e-05,\n",
       "       2.63118417e-03, 4.56003683e-04, 9.91688480e-04, 7.57925080e-04,\n",
       "       3.30949060e-04, 6.46111206e-05, 7.78429040e-04, 5.29140047e-04,\n",
       "       1.95666553e-04, 5.38010051e-05, 5.15097450e-05, 1.80342000e-04,\n",
       "       6.24980127e-05, 1.36412278e-04, 1.25030173e-04, 1.33132486e-04,\n",
       "       1.82341708e-04, 5.42782813e-05, 4.29330276e-04, 9.23236442e-05,\n",
       "       2.51604135e-04, 1.37443442e-04, 3.50890189e-04, 3.49517593e-05,\n",
       "       1.60333319e-04, 6.17217034e-05, 7.25622000e-06, 2.48516977e-05,\n",
       "       3.63139911e-05, 3.17630457e-05, 4.96804995e-05, 4.39462668e-05,\n",
       "       4.92400385e-04, 5.69158652e-04, 1.46656511e-04, 9.36901586e-05,\n",
       "       2.39491983e-04, 5.07273630e-04, 3.56928896e-04, 1.73555801e-04,\n",
       "       9.40772182e-05, 8.26669529e-06, 4.97947131e-06, 6.97851074e-06,\n",
       "       3.44049795e-05, 4.78300420e-05, 1.94385790e-05, 9.08837372e-05])"
      ]
     },
     "execution_count": 58,
     "metadata": {},
     "output_type": "execute_result"
    }
   ],
   "source": [
    "decoded_imgs_scaled_dot[3928]"
   ]
  },
  {
   "cell_type": "code",
   "execution_count": 57,
   "metadata": {},
   "outputs": [
    {
     "data": {
      "text/plain": [
       "array([2.65221524e+00, 1.55238867e+00, 1.42887115e-01, 8.52026880e-01,\n",
       "       5.61373830e-01, 1.54606700e-01, 1.13424882e-01, 1.31346416e-02,\n",
       "       1.08560777e+00, 3.08517545e-01, 2.80591995e-01, 7.28415787e-01,\n",
       "       8.92609119e-01, 2.87716359e-01, 4.54206765e-02, 3.32113087e-01,\n",
       "       8.47462177e-01, 8.69397163e-01, 5.04110932e-01, 1.05749257e-01,\n",
       "       3.09786826e-01, 5.50794125e-01, 2.21696973e-01, 3.73100698e-01,\n",
       "       1.32143581e+00, 1.48821145e-01, 1.11207284e-01, 1.03274703e+00,\n",
       "       2.72102892e-01, 4.87230485e-03, 7.24134967e-02, 1.33084267e-01,\n",
       "       1.54153943e+00, 9.90546271e-02, 8.45541716e-01, 4.54552621e-01,\n",
       "       2.45334435e+00, 7.06096292e-02, 1.08486868e-01, 1.25555098e-01,\n",
       "       6.50207996e-02, 1.84288487e-01, 2.62039393e-01, 2.08765678e-02,\n",
       "       2.69094501e-02, 1.13346055e-01, 7.87633359e-01, 4.12152886e-01,\n",
       "       1.83802819e+00, 2.77191687e+00, 1.53410339e+00, 9.84673619e-01,\n",
       "       7.45302260e-01, 9.30443034e-02, 2.22126380e-01, 4.56397027e-01,\n",
       "       2.08165959e-01, 1.14843711e-01, 6.32860720e-01, 2.95107007e-01,\n",
       "       2.97236055e-01, 2.53696996e-03, 3.82222347e-02, 3.57557446e-01,\n",
       "       1.54325843e-01, 2.14703098e-01, 4.05717522e-01, 4.08895224e-01,\n",
       "       5.35248578e-01, 2.52544522e-01, 5.88606179e-01, 2.38811910e-01,\n",
       "       1.49848178e-01, 1.64246470e-01, 6.13492250e-01, 3.22161838e-02,\n",
       "       5.01199700e-02, 1.51506634e-02, 4.54845019e-02, 1.18162178e-01,\n",
       "       1.73196271e-01, 2.57220984e-01, 1.27108145e+00, 4.15825486e-01,\n",
       "       3.67705613e-01, 1.33039594e-01, 5.94969578e-02, 1.17184937e-01,\n",
       "       2.02712119e-01, 2.53181130e-01, 2.88117565e-02, 2.44502053e-02,\n",
       "       4.34889719e-02, 4.81160223e-01, 1.21809378e-01, 3.97780817e-03,\n",
       "       6.33754909e-01, 3.96301866e-01, 3.05938274e-01, 9.13328767e-01,\n",
       "       8.95439386e-01, 1.16048932e+00, 9.94464099e-01, 4.20328230e-01,\n",
       "       7.61968642e-02, 5.31508252e-02, 1.47726715e-01, 1.32812336e-01,\n",
       "       1.53025076e-01, 6.43679947e-02, 2.23707817e-02, 4.34648618e-02,\n",
       "       3.86222661e-01, 1.41974568e+00, 2.04988614e-01, 4.16574091e-01,\n",
       "       2.99997717e-01, 1.05196774e+00, 1.51681334e-01, 4.07332256e-02,\n",
       "       2.29058504e-01, 1.02755740e-01, 1.99006140e-01, 1.12313651e-01,\n",
       "       8.61295015e-02, 2.05747113e-02, 4.35040705e-03, 1.39365308e-02,\n",
       "       7.62434959e-01, 2.10356981e-01, 1.20656860e+00, 1.00586951e+00,\n",
       "       1.10106373e+00, 3.35827947e-01, 2.45602056e-01, 1.34070009e-01,\n",
       "       6.37466162e-02, 6.26299083e-02, 1.64938364e-02, 6.16226830e-02,\n",
       "       4.16048430e-02, 3.15949060e-02, 2.53514443e-02, 1.38839230e-01,\n",
       "       1.18783522e+00, 5.40571034e-01, 7.44087517e-01, 5.10891020e-01,\n",
       "       4.91096228e-01, 1.33716393e+00, 3.07303309e-01, 6.45859092e-02,\n",
       "       8.11526552e-02, 1.86142862e-01, 2.93301493e-01, 1.26927376e-01,\n",
       "       1.67430550e-01, 8.86225700e-03, 5.33499047e-02, 6.65206015e-02,\n",
       "       6.29036069e-01, 1.36326241e+00, 6.22657299e-01, 8.70781803e+00,\n",
       "       1.07868183e+00, 3.21467817e-02, 1.26333348e-02, 8.70128214e-01,\n",
       "       1.60945415e-01, 9.95284095e-02, 4.55661535e-01, 8.65711570e-02,\n",
       "       2.59466588e-01, 5.26658893e-01, 2.40270406e-01, 2.41577271e-02,\n",
       "       1.16883719e+00, 3.52780414e+00, 8.77041101e-01, 7.86315024e-01,\n",
       "       5.29667139e-01, 2.10334063e-01, 4.89683628e-01, 2.85599053e-01,\n",
       "       1.81988180e-01, 7.14210868e-01, 8.27640370e-02, 6.73660189e-02,\n",
       "       2.39518508e-01, 8.00826326e-02, 4.06769782e-01, 3.12637389e-02,\n",
       "       4.64361143e+00, 2.34225011e+00, 6.28918743e+00, 8.93007660e+00,\n",
       "       2.53494120e+00, 4.34958369e-01, 7.26194739e-01, 9.17001367e-02,\n",
       "       5.85151911e-01, 2.41341069e-01, 5.19579016e-02, 2.95700096e-02,\n",
       "       1.03435718e-01, 9.34056416e-02, 3.81588131e-01, 1.34272724e-01,\n",
       "       1.58998213e+01, 1.12079239e+01, 1.07065783e+01, 2.27351213e+00,\n",
       "       2.42372799e+00, 4.69693542e-01, 5.68609595e-01, 3.72883111e-01,\n",
       "       2.05383253e+00, 3.11039597e-01, 2.52428025e-01, 3.03532362e-01,\n",
       "       6.97733685e-02, 1.30924061e-01, 5.45815416e-02, 5.32302439e-01,\n",
       "       1.44130230e+01, 1.14966917e+00, 2.48337231e+01, 8.89268875e-01,\n",
       "       8.91984344e-01, 1.15126932e+00, 3.74405205e-01, 6.35820508e-01,\n",
       "       1.23796828e-01, 1.61104888e-01, 5.72916754e-02, 3.38627249e-01,\n",
       "       3.97585541e-01, 6.71751797e-02, 1.38046378e-02, 6.00656793e-02,\n",
       "       1.24776878e+01, 1.47276506e+01, 1.33607340e+01, 1.43886065e+00,\n",
       "       1.97881877e+00, 8.24659824e-01, 1.92893997e-01, 2.02149963e+00,\n",
       "       2.34629795e-01, 1.92393795e-01, 2.47174397e-01, 5.33350348e-01,\n",
       "       2.25381434e-01, 9.74190354e-01, 3.65575910e-01, 6.52595842e-03,\n",
       "       2.85616417e+01, 3.14520397e+01, 9.78085613e+00, 3.44232082e+00,\n",
       "       4.16159153e+00, 1.79533350e+00, 9.84499693e-01, 2.14213872e+00,\n",
       "       8.48964155e-01, 2.81518817e-01, 3.02019715e-01, 4.26988840e-01,\n",
       "       5.12467444e-01, 3.30086984e-02, 5.14229909e-02, 2.78055784e-03,\n",
       "       3.09485626e+01, 7.50878048e+00, 7.59753084e+00, 1.09729033e+01,\n",
       "       7.54965901e-01, 1.03061652e+00, 1.15369499e+00, 3.23946714e-01,\n",
       "       1.69467628e+00, 1.58631891e-01, 1.53996897e+00, 3.16348374e-01,\n",
       "       1.19694464e-01, 7.25921318e-02, 4.77147490e-01, 1.71789732e-02,\n",
       "       1.02468662e+01, 6.22500372e+00, 6.19038105e+00, 1.04570446e+01,\n",
       "       1.71714616e+00, 2.65390038e+00, 6.94264114e-01, 1.19860160e+00,\n",
       "       3.26721191e-01, 2.12570524e+00, 1.94105554e+00, 1.49119329e+00,\n",
       "       1.08147144e-01, 4.73646164e-01, 2.04037055e-01, 5.40184509e-03,\n",
       "       3.56677198e+00, 1.01874514e+01, 5.91770554e+00, 3.95074034e+00,\n",
       "       4.26964998e+00, 1.57152188e+00, 2.10788107e+00, 2.19328046e-01,\n",
       "       9.04077530e-01, 9.44509804e-01, 3.60540152e+00, 1.30714282e-01,\n",
       "       5.62562943e-02, 3.15942734e-01, 7.52692297e-02, 4.25938070e-02,\n",
       "       1.28424358e+00, 3.70814753e+00, 4.66120434e+00, 4.96110058e+00,\n",
       "       9.13720036e+00, 5.52509964e-01, 2.87545013e+00, 7.67631412e-01,\n",
       "       3.41933107e+00, 5.41203022e-01, 4.74158287e-01, 1.89731920e+00,\n",
       "       2.06744242e-02, 6.66332021e-02, 9.15679857e-02, 4.03209142e-02,\n",
       "       3.77348995e+00, 6.02787828e+00, 1.67245591e+00, 9.33666992e+00,\n",
       "       2.84643590e-01, 3.73364806e-01, 3.81979489e+00, 6.08609021e-01,\n",
       "       1.80908680e+00, 2.25027964e-01, 9.57545698e-01, 1.79418936e-01,\n",
       "       2.10133389e-01, 1.23511449e-01, 3.14291753e-02, 3.71488959e-01,\n",
       "       2.58727217e+00, 4.74811107e-01, 5.90521276e-01, 7.15456247e+00,\n",
       "       3.57037842e-01, 1.71369755e+00, 1.38642013e+00, 5.58948815e-01,\n",
       "       9.61832851e-02, 1.10061896e+00, 1.25961840e-01, 6.84322789e-02,\n",
       "       7.80299544e-01, 9.86377001e-02, 5.07498346e-03, 1.91602588e-01,\n",
       "       4.25995684e+00, 1.98272419e+00, 1.85184586e+00, 6.99342012e-01,\n",
       "       1.49795032e+00, 2.28654885e+00, 6.09700203e-01, 2.54695833e-01,\n",
       "       5.82996249e-01, 8.24628532e-01, 7.36489221e-02, 3.64630222e-02,\n",
       "       2.64219791e-02, 3.12688127e-02, 5.96740842e-02, 2.63169575e-02,\n",
       "       3.34650111e+00, 6.83441877e-01, 4.14610803e-01, 5.78820086e+00,\n",
       "       1.50429571e+00, 3.34310472e-01, 2.46545768e+00, 2.82404923e+00,\n",
       "       8.07231739e-02, 2.67786115e-01, 8.15685764e-02, 7.60623962e-02,\n",
       "       1.88592792e-01, 7.58882519e-03, 2.70243119e-02, 3.79396752e-02,\n",
       "       1.84516072e+00, 5.55519342e-01, 1.57825184e+00, 7.01353610e-01,\n",
       "       1.91017658e-01, 1.25265196e-01, 3.68214846e-01, 6.45364583e-01,\n",
       "       5.83288372e-02, 3.05549294e-01, 1.24541879e-01, 3.18066627e-02,\n",
       "       1.10374831e-01, 3.20597365e-02, 2.79813632e-02, 2.11045947e-02,\n",
       "       4.03886467e-01, 9.28743422e-01, 2.45820612e-01, 4.19504046e-01,\n",
       "       1.27946365e+00, 2.69096076e-01, 3.57175976e-01, 1.10367320e-01,\n",
       "       3.40692624e-02, 9.21079516e-02, 3.85670811e-02, 1.01920374e-01,\n",
       "       9.89989862e-02, 4.26968224e-02, 6.08840305e-03, 1.95355918e-02,\n",
       "       1.02879369e+00, 2.10217699e-01, 7.56658435e-01, 1.50827080e-01,\n",
       "       7.04921484e-02, 9.60122123e-02, 2.09397510e-01, 5.43955863e-01,\n",
       "       1.02724917e-01, 1.60865113e-02, 2.03978643e-02, 7.84487948e-02,\n",
       "       9.31220688e-03, 6.00213967e-02, 3.66338342e-02, 3.44812982e-02,\n",
       "       2.22456958e-02, 9.60725732e-03, 7.04101473e-02, 1.30176432e-02,\n",
       "       2.70977616e-01, 5.59394956e-02, 7.08798319e-02, 6.53597713e-03,\n",
       "       1.29869999e-02, 1.86399426e-02, 3.60633899e-03, 6.68510422e-03,\n",
       "       1.40172122e-02, 8.38544685e-03, 1.66926496e-02, 6.81166863e-03,\n",
       "       8.56776983e-02, 6.64777458e-01, 3.41709740e-02, 1.48030408e-02,\n",
       "       3.29780161e-01, 2.76971489e-01, 9.85123962e-02, 8.13976303e-02,\n",
       "       1.11951903e-02, 1.12427096e-03, 3.83917126e-03, 1.95398438e-03,\n",
       "       7.70671386e-03, 3.11373435e-02, 2.10908409e-02, 5.78929372e-02],\n",
       "      dtype=float32)"
      ]
     },
     "execution_count": 57,
     "metadata": {},
     "output_type": "execute_result"
    }
   ],
   "source": [
    "decoded_imgs[3928]"
   ]
  },
  {
   "cell_type": "code",
   "execution_count": 20,
   "metadata": {},
   "outputs": [
    {
     "data": {
      "text/plain": [
       "array([0.6713766 , 0.36930627, 0.10871807, 0.43521106, 0.41302523,\n",
       "       0.12557063, 0.29162157, 0.06546187, 1.1557497 , 0.79680145,\n",
       "       1.1233099 , 1.3583564 , 0.63135284, 0.58090985, 0.09438727,\n",
       "       0.8492924 , 0.36185926, 0.2454733 , 0.28369525, 0.04697418,\n",
       "       0.1931833 , 0.25680557, 0.2919936 , 0.18046768, 0.61835104,\n",
       "       0.06809554, 0.2985293 , 1.0810868 , 0.7667435 , 0.04179215,\n",
       "       0.19157796, 0.4029987 , 0.5967811 , 0.04694987, 0.33487388,\n",
       "       0.10726599, 0.7708159 , 0.05726608, 0.22252575, 0.12977546,\n",
       "       0.0625531 , 0.27807084, 0.43929604, 0.07424594, 0.03061841,\n",
       "       0.4817381 , 0.5620063 , 0.7812166 , 0.45813203, 1.4583461 ,\n",
       "       1.0294504 , 0.7643297 , 0.38297653, 0.0528539 , 0.1356224 ,\n",
       "       0.3208498 , 0.12829693, 0.14660752, 0.4782808 , 0.20041272,\n",
       "       0.6572327 , 0.02136513, 0.04538532, 0.55429065, 0.15809232,\n",
       "       0.16239038, 0.1445912 , 0.25438154, 0.33741745, 0.18503755,\n",
       "       0.37205103, 0.26232153, 0.10950758, 0.23181805, 0.871152  ,\n",
       "       0.07433531, 0.09851244, 0.05216685, 0.20745002, 0.5722648 ,\n",
       "       0.12523402, 0.19314635, 0.62968034, 0.317748  , 0.21207885,\n",
       "       0.06767695, 0.06107254, 0.13949312, 0.2020651 , 0.24361533,\n",
       "       0.06405243, 0.09592301, 0.04752986, 0.5118651 , 0.22785187,\n",
       "       0.02354206, 0.44040608, 0.1792334 , 0.09838448, 0.43231663,\n",
       "       0.48691002, 1.0001948 , 1.2231492 , 0.3119356 , 0.09826647,\n",
       "       0.10044929, 0.15878016, 0.19620854, 0.46078897, 0.17332706,\n",
       "       0.06669902, 0.1355564 , 0.10073515, 0.34289777, 0.10449401,\n",
       "       0.2045671 , 0.25174436, 0.8349249 , 0.13778313, 0.04123001,\n",
       "       0.24635883, 0.15921126, 0.4950027 , 0.19621055, 0.25038308,\n",
       "       0.05932837, 0.01231796, 0.04079575, 0.22604853, 0.07710795,\n",
       "       0.43741894, 0.2975884 , 0.40797943, 0.1189348 , 0.17574252,\n",
       "       0.11615399, 0.08345798, 0.04774691, 0.03639953, 0.08715403,\n",
       "       0.08925754, 0.15849008, 0.13033539, 0.23088108, 0.20787168,\n",
       "       0.08258016, 0.16892655, 0.08365022, 0.18549545, 0.47353122,\n",
       "       0.15120678, 0.05124011, 0.11663958, 0.25280467, 0.41145903,\n",
       "       0.17242971, 0.248053  , 0.01655423, 0.2689602 , 0.09891608,\n",
       "       0.09249785, 0.1094792 , 0.04823853, 1.1862715 , 0.26348945,\n",
       "       0.02179972, 0.01505775, 0.43136245, 0.13636073, 0.11187059,\n",
       "       0.5343913 , 0.10941825, 0.39845258, 0.6185027 , 0.384852  ,\n",
       "       0.09478935, 0.09128284, 0.14450222, 0.11583156, 0.10401983,\n",
       "       0.0749292 , 0.12724781, 0.21541055, 0.12589143, 0.10883276,\n",
       "       0.6026638 , 0.10347113, 0.12503383, 0.44584224, 0.19441284,\n",
       "       0.6241553 , 0.1447489 , 0.1366342 , 0.04871129, 0.20665061,\n",
       "       0.59505695, 0.28805298, 0.14765875, 0.33353987, 0.06292128,\n",
       "       0.4727057 , 0.2177942 , 0.12245516, 0.06690438, 0.22367266,\n",
       "       0.21469867, 0.47794467, 0.27146086, 0.44840154, 0.36652538,\n",
       "       0.33619773, 0.08653641, 0.28870872, 0.09533922, 0.1384566 ,\n",
       "       0.17247625, 1.3942032 , 0.36368006, 0.47329375, 0.72205645,\n",
       "       0.11685266, 0.24691832, 0.11241974, 1.0626969 , 0.25493586,\n",
       "       0.01422629, 0.7746366 , 0.05340637, 0.08635559, 0.22425261,\n",
       "       0.07426301, 0.2035737 , 0.09424843, 0.11036405, 0.09258983,\n",
       "       0.57413536, 0.46468115, 0.06885838, 0.02204768, 0.22564371,\n",
       "       0.13182591, 0.15834245, 0.24044472, 0.0489527 , 0.21209742,\n",
       "       0.14743099, 0.0352498 , 0.9945712 , 0.14786392, 0.1159599 ,\n",
       "       0.15069152, 0.56610423, 0.48250479, 0.25930068, 0.3580222 ,\n",
       "       0.02454707, 0.28995246, 0.32161728, 0.08832489, 0.05968617,\n",
       "       0.22535984, 0.17770693, 0.25072438, 0.81469613, 0.39140645,\n",
       "       0.1332009 , 0.08978135, 0.47537774, 0.70634854, 0.02689373,\n",
       "       0.09485323, 0.03008299, 0.38941798, 0.07063277, 0.06371627,\n",
       "       0.28580838, 0.03775997, 0.12865315, 0.3046205 , 0.15653647,\n",
       "       0.5120698 , 0.05592019, 0.5097349 , 0.12541693, 0.09242127,\n",
       "       0.10071167, 0.78018355, 0.10496873, 0.11323239, 0.07370853,\n",
       "       0.08032739, 0.29153383, 0.12054721, 0.2665254 , 0.14776614,\n",
       "       0.27567527, 0.07873751, 0.5113283 , 0.6190762 , 0.53629285,\n",
       "       0.09595992, 0.43321848, 0.35707265, 0.02706548, 0.08443712,\n",
       "       0.18583974, 0.10910296, 0.12886767, 0.31570086, 0.15577362,\n",
       "       0.2249788 , 0.05640969, 0.18838106, 0.23241803, 0.81538016,\n",
       "       0.09198943, 0.09643328, 0.23499456, 0.05864151, 0.15411176,\n",
       "       0.04849252, 0.12221256, 0.15664884, 0.24615218, 0.6880208 ,\n",
       "       0.04735288, 0.34722576, 0.15237765, 1.0101844 , 0.145     ,\n",
       "       0.15347238, 0.83411866, 0.03374349, 0.09241681, 0.16192213,\n",
       "       0.10379039, 0.15030327, 0.34828466, 0.10847409, 0.65142775,\n",
       "       0.04757653, 0.06391413, 0.6503551 , 0.14344388, 0.5880962 ,\n",
       "       0.07517613, 0.27857146, 0.11396816, 0.28000176, 0.20355955,\n",
       "       0.0678481 , 0.7448674 , 0.21730602, 0.04259871, 0.05111269,\n",
       "       0.8091855 , 0.05327706, 0.30610228, 0.32390955, 0.12184589,\n",
       "       0.06128509, 0.432239  , 0.19871104, 0.17940572, 0.9531591 ,\n",
       "       0.10496832, 0.0344196 , 0.51196915, 0.50761014, 0.16719998,\n",
       "       0.19962668, 0.12942153, 0.27948976, 0.5734252 , 0.18763465,\n",
       "       0.07316157, 0.21229482, 0.5909231 , 0.1385155 , 0.12608688,\n",
       "       0.04892924, 0.11653923, 0.1326387 , 0.13333698, 0.4142324 ,\n",
       "       0.11522643, 0.06591528, 1.2289935 , 0.40944627, 0.1116298 ,\n",
       "       1.0409908 , 1.270538  , 0.04696995, 0.206833  , 0.15554273,\n",
       "       0.1567093 , 0.31309727, 0.01240024, 0.11842197, 0.11073647,\n",
       "       0.43692824, 0.17627832, 0.29586405, 0.23233274, 0.09125688,\n",
       "       0.05488482, 0.3427594 , 0.9652595 , 0.11849702, 0.57370186,\n",
       "       0.24151514, 0.0802159 , 0.18992575, 0.10726374, 0.13380794,\n",
       "       0.26583356, 0.15816519, 0.24187243, 0.11623061, 0.20974126,\n",
       "       0.91710246, 0.30214718, 0.64855886, 0.19084534, 0.1041425 ,\n",
       "       0.24404466, 0.08750676, 0.20659643, 0.2870048 , 0.29347464,\n",
       "       0.03890288, 0.17013265, 0.47525403, 0.14010659, 0.6960106 ,\n",
       "       0.16818613, 0.12319341, 0.17001234, 0.2587986 , 1.0654995 ,\n",
       "       0.2442385 , 0.0489968 , 0.1461953 , 0.37083504, 0.04349335,\n",
       "       0.5906446 , 0.12422339, 0.13953544, 0.02254357, 0.02384392,\n",
       "       0.10549556, 0.0237661 , 0.9542928 , 0.18456873, 0.14937003,\n",
       "       0.02321037, 0.03351563, 0.17985508, 0.19239444, 0.2268672 ,\n",
       "       0.22801326, 0.04301209, 0.14616996, 0.065404  , 0.13556473,\n",
       "       1.2905855 , 0.06078857, 0.05763533, 1.7274392 , 0.7216029 ,\n",
       "       0.23323949, 0.3460559 , 0.09577927, 0.03748564, 0.20998612,\n",
       "       0.14475894, 0.1615248 , 0.25452736, 0.5253056 , 0.5896199 ],\n",
       "      dtype=float32)"
      ]
     },
     "execution_count": 20,
     "metadata": {},
     "output_type": "execute_result"
    }
   ],
   "source": [
    "decoded_imgs[3929]"
   ]
  },
  {
   "cell_type": "code",
   "execution_count": 41,
   "metadata": {},
   "outputs": [
    {
     "data": {
      "image/png": "[encoded data removed]",
      "text/plain": [
       "<Figure size 1440x288 with 8 Axes>"
      ]
     },
     "metadata": {},
     "output_type": "display_data"
    },
    {
     "name": "stdout",
     "output_type": "stream",
     "text": [
      "10132\n"
     ]
    }
   ],
   "source": [
    "n = 4  # how many digits we will display\n",
    "plt.figure(figsize=(20, 4))\n",
    "for i in range(n):\n",
    "    # display original\n",
    "    idea=np.random.randint(1,x_test.shape[0])\n",
    "    ax = plt.subplot(2, n, i + 1)\n",
    "    plt.imshow(x_test[idea].reshape(30, 16).transpose(),vmin=0, vmax=10)\n",
    "    plt.viridis()\n",
    "    ax.get_xaxis().set_visible(False)\n",
    "    ax.get_yaxis().set_visible(False)\n",
    "\n",
    "    # display reconstruction\n",
    "    ax = plt.subplot(2, n, i + 1 + n)\n",
    "    plt.imshow(decoded_imgs[idea].reshape(30, 16).transpose(), vmin=0, vmax=10)\n",
    "    plt.viridis()\n",
    "    ax.get_xaxis().set_visible(False)\n",
    "    ax.get_yaxis().set_visible(False)\n",
    "plt.show()\n",
    "print(idea)\n",
    "\n"
   ]
  },
  {
   "cell_type": "code",
   "execution_count": 27,
   "metadata": {},
   "outputs": [],
   "source": [
    "#print(error_prediction)"
   ]
  },
  {
   "cell_type": "code",
   "execution_count": null,
   "metadata": {},
   "outputs": [],
   "source": []
  }
 ],
 "metadata": {
  "anaconda-cloud": {},
  "kernelspec": {
   "display_name": "Python [conda env:tensorflow]",
   "language": "python",
   "name": "conda-env-tensorflow-py"
  },
  "language_info": {
   "codemirror_mode": {
    "name": "ipython",
    "version": 3
   },
   "file_extension": ".py",
   "mimetype": "text/x-python",
   "name": "python",
   "nbconvert_exporter": "python",
   "pygments_lexer": "ipython3",
   "version": "3.6.5"
  },
  "varInspector": {
   "cols": {
    "lenName": 16,
    "lenType": 16,
    "lenVar": 40
   },
   "kernels_config": {
    "python": {
     "delete_cmd_postfix": "",
     "delete_cmd_prefix": "del ",
     "library": "var_list.py",
     "varRefreshCmd": "print(var_dic_list())"
    },
    "r": {
     "delete_cmd_postfix": ") ",
     "delete_cmd_prefix": "rm(",
     "library": "var_list.r",
     "varRefreshCmd": "cat(var_dic_list()) "
    }
   },
   "position": {
    "height": "479px",
    "left": "1851px",
    "right": "72px",
    "top": "112px",
    "width": "637px"
   },
   "types_to_exclude": [
    "module",
    "function",
    "builtin_function_or_method",
    "instance",
    "_Feature"
   ],
   "window_display": true
  }
 },
 "nbformat": 4,
 "nbformat_minor": 1
}
