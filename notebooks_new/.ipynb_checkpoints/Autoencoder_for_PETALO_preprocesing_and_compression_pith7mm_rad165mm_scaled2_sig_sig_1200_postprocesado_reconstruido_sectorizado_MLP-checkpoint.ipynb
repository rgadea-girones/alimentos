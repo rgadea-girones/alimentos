{
 "cells": [
  {
   "cell_type": "markdown",
   "metadata": {},
   "source": [
    "# Simple AUTOENCODER for PETALO\n",
    "\n",
    "Esta red la vamos a utilizar para obtener el radio "
   ]
  },
  {
   "cell_type": "code",
   "execution_count": null,
   "metadata": {},
   "outputs": [],
   "source": [
    "import numpy as np\n",
    "#np.random.seed(1337)  # for reproducibility\n",
    "from time import time\n",
    "from datetime import datetime\n",
    "from sklearn import preprocessing\n",
    "import sys\n",
    "print(sys.path)\n",
    "sys.path.append(\"/home/rgadea/lmfit-py/\")\n",
    "import seaborn as sns\n",
    "from keras.datasets import mnist\n",
    "from keras.models import Model, Sequential\n",
    "from keras.layers import Input, Dense, Dropout, Activation, Flatten\n",
    "from keras.layers import Conv2D, MaxPooling2D,BatchNormalization\n",
    "from keras.callbacks import TensorBoard, EarlyStopping, ModelCheckpoint\n",
    "from keras.optimizers import SGD\n",
    "from keras.utils import np_utils\n",
    "from keras import regularizers\n",
    "from math import floor\n",
    "from lmfit.models import  GaussianModel\n",
    "import matplotlib.pyplot as plt"
   ]
  },
  {
   "cell_type": "markdown",
   "metadata": {},
   "source": [
    "## Vamos introducir los datos de petalo preprocesados en pyhton\n"
   ]
  },
  {
   "cell_type": "code",
   "execution_count": null,
   "metadata": {},
   "outputs": [],
   "source": [
    "import scipy.io as sio\n",
    "import hdf5storage\n",
    "# datos_matlab = hdf5storage.loadmat('../datos_junio_2019/conjunto_entrenamiento_junio_2019_pitch7mm_rad165mm_29_total.mat')\n",
    "npzfile = np.load('../conjuntos_datos_reconstruidos/fil1_pith7mm_rad165mm_scaled2_sig_sig_1200.npz')\n",
    "npzfile.files\n",
    "\n",
    "conjunto_datos1= npzfile['arr_1']\n",
    "npzfile = np.load('../conjuntos_datos_reconstruidos/fil2_pith7mm_rad165mm_scaled2_sig_sig_1200.npz')\n",
    "npzfile.files\n",
    "\n",
    "conjunto_datos2= npzfile['arr_1']\n",
    "\n",
    "conjunto_datos=np.concatenate((conjunto_datos1,conjunto_datos2), axis=0)\n",
    "print(conjunto_datos.shape)\n",
    "print(conjunto_datos[:10,6:26])"
   ]
  },
  {
   "cell_type": "markdown",
   "metadata": {},
   "source": [
    "## Network parameters:"
   ]
  },
  {
   "cell_type": "code",
   "execution_count": 3,
   "metadata": {},
   "outputs": [],
   "source": [
    "batch_size = 1000\n",
    "# aqui no aplicable porque es una regresion\n",
    "# nb_classes = 10 \n",
    "\n",
    "nb_epoch = 2000\n",
    "\n",
    "n_hidden1=50\n",
    "n_hidden2=20\n",
    "\n",
    "# input image dimensions\n",
    "img_rows, img_cols = 20, 31\n",
    "# number of convolutional filters to use\n",
    "nb_filters = 32\n",
    "# size of pooling area for max pooling\n",
    "pool_size = (2, 2)\n",
    "# convolution kernel size\n",
    "kernel_size = (4, 4)"
   ]
  },
  {
   "cell_type": "markdown",
   "metadata": {},
   "source": [
    "## Prepare data into training and test set."
   ]
  },
  {
   "cell_type": "code",
   "execution_count": 4,
   "metadata": {},
   "outputs": [
    {
     "name": "stdout",
     "output_type": "stream",
     "text": [
      "22703\n",
      "conjunto_datos shape: (22703, 3518)\n",
      "194.99941139023045\n",
      "sector shape: (22703, 20, 31)\n",
      "conjunto_datos_nuevo: (22703, 620)\n",
      "[[0. 0. 0. 0. 0. 0. 0. 0. 0. 0.]\n",
      " [0. 0. 0. 0. 0. 0. 0. 0. 0. 0.]\n",
      " [0. 0. 0. 0. 0. 0. 0. 0. 0. 0.]\n",
      " [0. 0. 0. 0. 0. 0. 0. 0. 0. 0.]\n",
      " [0. 0. 0. 0. 0. 0. 0. 0. 0. 0.]\n",
      " [0. 0. 0. 0. 0. 0. 0. 0. 0. 0.]\n",
      " [0. 0. 0. 0. 0. 0. 0. 0. 0. 0.]\n",
      " [0. 0. 0. 0. 0. 0. 0. 0. 0. 0.]\n",
      " [0. 0. 0. 0. 0. 0. 0. 0. 0. 0.]\n",
      " [0. 0. 0. 0. 0. 0. 0. 0. 0. 0.]]\n"
     ]
    }
   ],
   "source": [
    "# the data, shuffled and split between train and test sets\n",
    "# (X_train, y_train), (X_test, y_test) = mnist.load_data()\n",
    "# conjunto_datos=photodefbox2_todo_e\n",
    "numero_muestras=conjunto_datos.shape[0]\n",
    "print(numero_muestras)\n",
    "print('conjunto_datos shape:', conjunto_datos.shape)\n",
    "maxInColumns = np.amax(conjunto_datos, axis=0)\n",
    "print (maxInColumns[1])\n",
    "# n, bins, patches = plt.hist(conjunto_datos[:,1], 400, normed=0, facecolor='green', alpha=0.75)\n",
    "\n",
    "\n",
    "idea=conjunto_datos[:,6:3506]\n",
    "veamos=idea.reshape(idea.shape[0],175, 20)\n",
    "veamos2=np.zeros([idea.shape[0],20,175])\n",
    "veamos2_3=np.zeros([idea.shape[0],20,525])\n",
    "sector2=np.zeros([idea.shape[0],20,31])\n",
    "veamos3=np.zeros([idea.shape[0],175])\n",
    "# for i in range(idea.shape[0]):\n",
    "for i in range(idea.shape[0]):\n",
    "    veamos2[i]=np.reshape(veamos[i].transpose(), [20,175])\n",
    "    veamos3[i]=np.sum(veamos2[i], axis=0)\n",
    "    indice=np.argmax(veamos3[i], axis=0)\n",
    "    veamos2_3[i]=np.concatenate((veamos2[i],veamos2[i],veamos2[i]),axis=1)   \n",
    "    sector2[i]=veamos2_3[i,:,indice-15+175:indice+16+175]\n",
    "    \n",
    "\n",
    "print('sector shape:', sector2.shape)\n",
    "conjunto_datos_nuevo=sector2.reshape(sector2.shape[0], img_rows*img_cols)\n",
    "print('conjunto_datos_nuevo:', conjunto_datos_nuevo.shape)\n",
    "\n",
    "print(idea[:10,:10])"
   ]
  },
  {
   "cell_type": "code",
   "execution_count": 5,
   "metadata": {},
   "outputs": [
    {
     "data": {
      "image/png": "[encoded data removed]",
      "text/plain": [
       "<Figure size 432x288 with 1 Axes>"
      ]
     },
     "metadata": {},
     "output_type": "display_data"
    },
    {
     "data": {
      "image/png": "[encoded data removed]",
      "text/plain": [
       "<Figure size 432x288 with 1 Axes>"
      ]
     },
     "metadata": {},
     "output_type": "display_data"
    },
    {
     "data": {
      "image/png": "[encoded data removed]",
      "text/plain": [
       "<Figure size 432x288 with 1 Axes>"
      ]
     },
     "metadata": {},
     "output_type": "display_data"
    },
    {
     "data": {
      "image/png": "[encoded data removed]",
      "text/plain": [
       "<Figure size 432x288 with 1 Axes>"
      ]
     },
     "metadata": {},
     "output_type": "display_data"
    }
   ],
   "source": [
    "# convert class vectors to binary class matrices\n",
    "#Y_train = np_utils.to_categorical(y_train, nb_classes)\n",
    "#Y_test = np_utils.to_categorical(y_test, nb_classes)\n",
    "for i in range(1,5):\n",
    "    idea=np.random.randint(1,sector2.shape[0])\n",
    "    plt.imshow(sector2[idea], cmap='viridis')\n",
    "    plt.show()"
   ]
  },
  {
   "cell_type": "code",
   "execution_count": 6,
   "metadata": {},
   "outputs": [
    {
     "name": "stdout",
     "output_type": "stream",
     "text": [
      "13621\n",
      "4540\n",
      "4542\n",
      "(1896, 620)\n",
      "(851, 620)\n",
      "(586, 620)\n",
      "(585, 620)\n",
      "(624, 620)\n"
     ]
    }
   ],
   "source": [
    "tr_size=60\n",
    "val_size=20\n",
    "test_size=100-val_size-tr_size\n",
    "conjunto_datos_nuevo2=np.concatenate((conjunto_datos[:,0:3],conjunto_datos_nuevo), axis=1)\n",
    "tamanyo_tr=floor(tr_size*numero_muestras/100)\n",
    "tamanyo_val=floor(val_size*numero_muestras/100)\n",
    "tamanyo_test=numero_muestras-tamanyo_tr-tamanyo_val\n",
    "print(tamanyo_tr)\n",
    "print(tamanyo_val)\n",
    "print(tamanyo_test)\n",
    "\n",
    "\n",
    "XY_test=conjunto_datos_nuevo2[tamanyo_tr+tamanyo_val:numero_muestras,:]\n",
    "\n",
    "\n",
    "XY_test_bin0=XY_test[np.where((XY_test[:,1]>=164.9999) * (XY_test[:,1]<171.000))]\n",
    "XY_test_bin1=XY_test[np.where((XY_test[:,1]>=171.000) * (XY_test[:,1]<177.000))]\n",
    "XY_test_bin2=XY_test[np.where((XY_test[:,1]>=177.000) * (XY_test[:,1]<183.0000))]\n",
    "XY_test_bin3=XY_test[np.where((XY_test[:,1]>=183.000) * (XY_test[:,1]<189.0000))]\n",
    "XY_test_bin4=XY_test[np.where((XY_test[:,1]>=189.0000))]\n",
    "\n",
    "x_train=conjunto_datos_nuevo2[:tamanyo_tr,3:]\n",
    "x_val=conjunto_datos_nuevo2[tamanyo_tr:tamanyo_tr+tamanyo_val,3:]\n",
    "x_test=conjunto_datos_nuevo2[tamanyo_tr+tamanyo_val:numero_muestras,3:]\n",
    "\n",
    "x_test_bin0=XY_test_bin0[:,3:]\n",
    "Y_test_bin0=XY_test_bin0[:,1]\n",
    "print(x_test_bin0.shape)\n",
    "x_test_bin1=XY_test_bin1[:,3:]\n",
    "Y_test_bin1=XY_test_bin1[:,1]\n",
    "print(x_test_bin1.shape)\n",
    "x_test_bin2=XY_test_bin2[:,3:]\n",
    "Y_test_bin2=XY_test_bin2[:,1]\n",
    "print(x_test_bin2.shape)\n",
    "x_test_bin3=XY_test_bin3[:,3:]\n",
    "Y_test_bin3=XY_test_bin3[:,1]\n",
    "print(x_test_bin3.shape)\n",
    "x_test_bin4=XY_test_bin4[:,3:]\n",
    "Y_test_bin4=XY_test_bin4[:,1]\n",
    "print(x_test_bin4.shape)\n",
    "\n",
    "\n",
    "\n",
    "Y_train=conjunto_datos_nuevo2[:tamanyo_tr,1] #elijo la coordenada radius\n",
    "Y_val=conjunto_datos_nuevo2[tamanyo_tr:tamanyo_tr+tamanyo_val,1] #elijo la corrdenada radius\n",
    "Y_test=conjunto_datos_nuevo2[tamanyo_tr+tamanyo_val:numero_muestras,1] #elijo la corrdenada radius"
   ]
  },
  {
   "cell_type": "code",
   "execution_count": 7,
   "metadata": {},
   "outputs": [],
   "source": [
    "img_cols=31\n",
    "img_rows=20\n",
    "\n",
    "X_train = x_train.reshape(x_train.shape[0], img_rows, img_cols,1)\n",
    "X_val = x_val.reshape(x_val.shape[0], img_rows, img_cols,1)\n",
    "X_test = x_test.reshape(x_test.shape[0], img_rows, img_cols,1)\n",
    "\n",
    "X_test_bin0 = x_test_bin0.reshape(x_test_bin0.shape[0], img_rows, img_cols,1)\n",
    "X_test_bin1 = x_test_bin1.reshape(x_test_bin1.shape[0], img_rows, img_cols,1)\n",
    "X_test_bin2 = x_test_bin2.reshape(x_test_bin2.shape[0], img_rows, img_cols,1)\n",
    "X_test_bin3 = x_test_bin3.reshape(x_test_bin3.shape[0], img_rows, img_cols,1)\n",
    "X_test_bin4 = x_test_bin4.reshape(x_test_bin4.shape[0], img_rows, img_cols,1)\n",
    "\n",
    "input_shape = (img_rows, img_cols,1)\n",
    "#input_shape=input_shape.astype('int32')"
   ]
  },
  {
   "cell_type": "code",
   "execution_count": 8,
   "metadata": {},
   "outputs": [
    {
     "name": "stdout",
     "output_type": "stream",
     "text": [
      "X_train shape: (13621, 20, 31, 1)\n",
      "13621 train samples\n",
      "4540 validation samples\n",
      "4542 test samples\n"
     ]
    }
   ],
   "source": [
    "X_train = X_train.astype('float32')\n",
    "X_val= X_val.astype('float32')\n",
    "X_test = X_test.astype('float32')\n",
    "\n",
    "print('X_train shape:', X_train.shape)\n",
    "print(X_train.shape[0], 'train samples')\n",
    "print(X_val.shape[0], 'validation samples')\n",
    "print(X_test.shape[0], 'test samples')"
   ]
  },
  {
   "cell_type": "markdown",
   "metadata": {},
   "source": [
    "Display 20 random training images using image"
   ]
  },
  {
   "cell_type": "code",
   "execution_count": 9,
   "metadata": {},
   "outputs": [
    {
     "data": {
      "image/png": "[encoded data removed]",
      "text/plain": [
       "<Figure size 432x288 with 1 Axes>"
      ]
     },
     "metadata": {},
     "output_type": "display_data"
    },
    {
     "data": {
      "image/png": "[encoded data removed]",
      "text/plain": [
       "<Figure size 432x288 with 1 Axes>"
      ]
     },
     "metadata": {},
     "output_type": "display_data"
    },
    {
     "data": {
      "image/png": "[encoded data removed]",
      "text/plain": [
       "<Figure size 432x288 with 1 Axes>"
      ]
     },
     "metadata": {},
     "output_type": "display_data"
    },
    {
     "data": {
      "image/png": "[encoded data removed]",
      "text/plain": [
       "<Figure size 432x288 with 1 Axes>"
      ]
     },
     "metadata": {},
     "output_type": "display_data"
    }
   ],
   "source": [
    "# convert class vectors to binary class matrices\n",
    "#Y_train = np_utils.to_categorical(y_train, nb_classes)\n",
    "#Y_test = np_utils.to_categorical(y_test, nb_classes)\n",
    "for i in range(1,5):\n",
    "    idea=np.random.randint(1,X_train.shape[0])\n",
    "    plt.imshow(np.reshape(X_train[idea], [img_rows, img_cols]), cmap='viridis')\n",
    "    plt.show()"
   ]
  },
  {
   "cell_type": "markdown",
   "metadata": {},
   "source": [
    "## Build the MLP. "
   ]
  },
  {
   "cell_type": "code",
   "execution_count": 10,
   "metadata": {},
   "outputs": [
    {
     "name": "stdout",
     "output_type": "stream",
     "text": [
      "[[0. 0. 0. 0. 0. 0. 0. 0. 0. 0.]\n",
      " [0. 0. 0. 0. 0. 0. 0. 0. 0. 0.]\n",
      " [0. 0. 0. 0. 0. 0. 0. 0. 0. 0.]\n",
      " [0. 0. 0. 0. 0. 0. 0. 0. 0. 0.]\n",
      " [0. 0. 0. 0. 0. 0. 0. 0. 0. 0.]\n",
      " [0. 0. 0. 0. 0. 0. 0. 0. 0. 0.]\n",
      " [0. 0. 0. 0. 0. 0. 0. 0. 0. 0.]\n",
      " [0. 0. 1. 0. 0. 0. 0. 0. 0. 0.]\n",
      " [0. 0. 0. 0. 0. 0. 0. 0. 0. 0.]\n",
      " [0. 0. 0. 0. 0. 0. 0. 0. 0. 0.]]\n",
      "MinMaxScaler(copy=True, feature_range=(0, 1))\n",
      "X_train shape: (13621, 20, 31, 1)\n",
      "13621 train samples\n",
      "4540 validation samples\n",
      "4542 test samples\n",
      "[[0. 0. 0. 0. 0. 0. 0. 0. 0. 0.]\n",
      " [0. 0. 0. 0. 0. 0. 0. 0. 0. 0.]\n",
      " [0. 0. 0. 0. 0. 0. 0. 0. 0. 0.]\n",
      " [0. 0. 0. 0. 0. 0. 0. 0. 0. 0.]\n",
      " [0. 0. 0. 0. 0. 0. 0. 0. 0. 0.]\n",
      " [0. 0. 0. 0. 0. 0. 0. 0. 0. 0.]\n",
      " [0. 0. 0. 0. 0. 0. 0. 0. 0. 0.]\n",
      " [0. 0. 1. 0. 0. 0. 0. 0. 0. 0.]\n",
      " [0. 0. 0. 0. 0. 0. 0. 0. 0. 0.]\n",
      " [0. 0. 0. 0. 0. 0. 0. 0. 0. 0.]]\n"
     ]
    }
   ],
   "source": [
    "print(x_val[:10,:10])\n",
    "\n",
    "min_max_scaler = preprocessing.MinMaxScaler().fit(x_train)\n",
    "#min_max_scaler = preprocessing.RobustScaler().fit(x_train)\n",
    "# supermax=1\n",
    "# factor_aprendizaje=0.0001\n",
    "print(min_max_scaler)\n",
    "# comentar las siguientes lineas si no queremos normalizar\n",
    "# x_train = min_max_scaler.transform(x_train)\n",
    "# x_val = min_max_scaler.transform(x_val)\n",
    "# x_test = min_max_scaler.transform(x_test)\n",
    "# x_test_bin0 = min_max_scaler.transform(x_test_bin0)\n",
    "# x_test_bin1 = min_max_scaler.transform(x_test_bin1)\n",
    "# x_test_bin2 = min_max_scaler.transform(x_test_bin2)\n",
    "# x_test_bin3 = min_max_scaler.transform(x_test_bin3)\n",
    "# x_test_bin4 = min_max_scaler.transform(x_test_bin4)\n",
    "print('X_train shape:', X_train.shape)\n",
    "print(X_train.shape[0], 'train samples')\n",
    "print(X_val.shape[0], 'validation samples')\n",
    "print(X_test.shape[0], 'test samples')\n",
    "\n",
    "model=Sequential()\n",
    "# add input layer\n",
    "model.add(Dense(\n",
    "    units=n_hidden1,\n",
    "    input_dim=x_train.shape[1],\n",
    "    kernel_initializer='glorot_uniform',\n",
    "    bias_initializer='zeros',\n",
    "    activation='tanh') \n",
    ")\n",
    "# add hidden layer\n",
    "model.add(\n",
    "    Dense(\n",
    "        units=n_hidden1,\n",
    "        input_dim=n_hidden2,\n",
    "        kernel_initializer='glorot_uniform',\n",
    "        bias_initializer='zeros',\n",
    "        activation='tanh')\n",
    "    )\n",
    "# add output layer\n",
    "model.add(\n",
    "    Dense(\n",
    "        units=1,\n",
    "        input_dim=n_hidden2,\n",
    "        kernel_initializer='glorot_uniform',\n",
    "        bias_initializer='zeros',\n",
    "        activation='linear')\n",
    "    )\n",
    "\n",
    "# define SGD optimizer\n",
    "sgd_optimizer = SGD(\n",
    "    lr=0.001, decay=1e-7, momentum=0.9\n",
    ")\n",
    "# compile model\n",
    "experimento=\"{}_{}_tanh_tanh_linear_sin_normalizar_reconstruido\".format(n_hidden1,n_hidden2)\n",
    "algoritmo='adam'\n",
    "tensorboard=TensorBoard(log_dir=\"/home/rgadea3/EXPERIMENTOS/nuevas_investigaciones_2018/experimentos/logs/defs/{}{}{}\".format(experimento,algoritmo,datetime.now()))\n",
    "\n",
    "model.compile(loss='mean_squared_error', optimizer=algoritmo\n",
    "\n",
    "             )\n",
    "print(x_val[:10,:10])\n",
    "\n"
   ]
  },
  {
   "cell_type": "markdown",
   "metadata": {},
   "source": [
    "Show a summary of the model parameters. "
   ]
  },
  {
   "cell_type": "code",
   "execution_count": 11,
   "metadata": {
    "scrolled": true
   },
   "outputs": [
    {
     "name": "stdout",
     "output_type": "stream",
     "text": [
      "_________________________________________________________________\n",
      "Layer (type)                 Output Shape              Param #   \n",
      "=================================================================\n",
      "dense_1 (Dense)              (None, 50)                31050     \n",
      "_________________________________________________________________\n",
      "dense_2 (Dense)              (None, 50)                2550      \n",
      "_________________________________________________________________\n",
      "dense_3 (Dense)              (None, 1)                 51        \n",
      "=================================================================\n",
      "Total params: 33,651\n",
      "Trainable params: 33,651\n",
      "Non-trainable params: 0\n",
      "_________________________________________________________________\n"
     ]
    }
   ],
   "source": [
    "model.summary()"
   ]
  },
  {
   "cell_type": "markdown",
   "metadata": {},
   "source": [
    "And now train the model and evaluate on the test set. "
   ]
  },
  {
   "cell_type": "code",
   "execution_count": null,
   "metadata": {
    "scrolled": false
   },
   "outputs": [
    {
     "name": "stdout",
     "output_type": "stream",
     "text": [
      "Train on 13621 samples, validate on 4540 samples\n",
      "Epoch 1/2000\n",
      "13621/13621 [==============================] - 1s 39us/step - loss: 30082.9220 - val_loss: 29246.4326\n",
      "Epoch 2/2000\n",
      "13621/13621 [==============================] - 0s 11us/step - loss: 28856.6238 - val_loss: 28422.7106\n",
      "Epoch 3/2000\n",
      "13621/13621 [==============================] - 0s 13us/step - loss: 28160.0780 - val_loss: 27857.2616\n",
      "Epoch 4/2000\n",
      "13621/13621 [==============================] - 0s 14us/step - loss: 27673.3172 - val_loss: 27443.1508\n",
      "Epoch 5/2000\n",
      "13621/13621 [==============================] - 0s 11us/step - loss: 27296.8356 - val_loss: 27097.8842\n",
      "Epoch 6/2000\n",
      "13621/13621 [==============================] - 0s 9us/step - loss: 26969.6320 - val_loss: 26787.7099\n",
      "Epoch 7/2000\n",
      "13621/13621 [==============================] - 0s 10us/step - loss: 26671.9926 - val_loss: 26498.6585\n",
      "Epoch 8/2000\n",
      "13621/13621 [==============================] - 0s 12us/step - loss: 26391.5151 - val_loss: 26225.0538\n",
      "Epoch 9/2000\n",
      "13621/13621 [==============================] - 0s 11us/step - loss: 26124.5485 - val_loss: 25962.9757\n",
      "Epoch 10/2000\n",
      "13621/13621 [==============================] - 0s 11us/step - loss: 25866.3101 - val_loss: 25708.1714\n",
      "Epoch 11/2000\n",
      "13621/13621 [==============================] - 0s 13us/step - loss: 25614.5599 - val_loss: 25459.1604\n",
      "Epoch 12/2000\n",
      "13621/13621 [==============================] - 0s 15us/step - loss: 25367.8281 - val_loss: 25214.7010\n",
      "Epoch 13/2000\n",
      "13621/13621 [==============================] - 0s 16us/step - loss: 25125.2137 - val_loss: 24973.8384\n",
      "Epoch 14/2000\n",
      "13621/13621 [==============================] - 0s 11us/step - loss: 24886.2931 - val_loss: 24736.6654\n",
      "Epoch 15/2000\n",
      "13621/13621 [==============================] - 0s 9us/step - loss: 24650.7566 - val_loss: 24502.7109\n",
      "Epoch 16/2000\n",
      "13621/13621 [==============================] - 0s 10us/step - loss: 24418.2589 - val_loss: 24271.6709\n",
      "Epoch 17/2000\n",
      "13621/13621 [==============================] - 0s 9us/step - loss: 24188.4620 - val_loss: 24043.4041\n",
      "Epoch 18/2000\n",
      "13621/13621 [==============================] - 0s 12us/step - loss: 23961.4238 - val_loss: 23817.4830\n",
      "Epoch 19/2000\n",
      "13621/13621 [==============================] - 0s 11us/step - loss: 23736.7507 - val_loss: 23593.9266\n",
      "Epoch 20/2000\n",
      "13621/13621 [==============================] - 0s 10us/step - loss: 23514.3002 - val_loss: 23372.7014\n",
      "Epoch 21/2000\n",
      "13621/13621 [==============================] - 0s 10us/step - loss: 23294.1441 - val_loss: 23153.6050\n",
      "Epoch 22/2000\n",
      "13621/13621 [==============================] - 0s 12us/step - loss: 23076.0363 - val_loss: 22936.6738\n",
      "Epoch 23/2000\n",
      "13621/13621 [==============================] - 0s 15us/step - loss: 22860.0444 - val_loss: 22721.7012\n",
      "Epoch 24/2000\n",
      "13621/13621 [==============================] - 0s 15us/step - loss: 22646.0530 - val_loss: 22508.6031\n",
      "Epoch 25/2000\n",
      "13621/13621 [==============================] - 0s 15us/step - loss: 22433.9038 - val_loss: 22297.4954\n",
      "Epoch 26/2000\n",
      "13621/13621 [==============================] - 0s 15us/step - loss: 22223.6264 - val_loss: 22088.2130\n",
      "Epoch 27/2000\n",
      "13621/13621 [==============================] - 0s 14us/step - loss: 22015.1792 - val_loss: 21880.7456\n",
      "Epoch 28/2000\n",
      "13621/13621 [==============================] - 0s 16us/step - loss: 21808.4740 - val_loss: 21675.0673\n",
      "Epoch 29/2000\n",
      "13621/13621 [==============================] - 0s 15us/step - loss: 21603.5606 - val_loss: 21470.9888\n",
      "Epoch 30/2000\n",
      "13621/13621 [==============================] - 0s 15us/step - loss: 21400.2727 - val_loss: 21268.6158\n",
      "Epoch 31/2000\n",
      "13621/13621 [==============================] - 0s 15us/step - loss: 21198.6729 - val_loss: 21067.8918\n",
      "Epoch 32/2000\n",
      "13621/13621 [==============================] - 0s 15us/step - loss: 20998.6957 - val_loss: 20868.8001\n",
      "Epoch 33/2000\n",
      "13621/13621 [==============================] - 0s 15us/step - loss: 20800.2699 - val_loss: 20671.3663\n",
      "Epoch 34/2000\n",
      "13621/13621 [==============================] - 0s 14us/step - loss: 20603.5173 - val_loss: 20475.4231\n",
      "Epoch 35/2000\n",
      "13621/13621 [==============================] - 0s 13us/step - loss: 20408.2837 - val_loss: 20281.0228\n",
      "Epoch 36/2000\n",
      "13621/13621 [==============================] - 0s 15us/step - loss: 20214.5451 - val_loss: 20088.1704\n",
      "Epoch 37/2000\n",
      "13621/13621 [==============================] - 0s 15us/step - loss: 20022.3658 - val_loss: 19896.7853\n",
      "Epoch 38/2000\n",
      "13621/13621 [==============================] - 0s 15us/step - loss: 19831.6189 - val_loss: 19706.9499\n",
      "Epoch 39/2000\n",
      "13621/13621 [==============================] - 0s 15us/step - loss: 19642.3735 - val_loss: 19518.5412\n",
      "Epoch 40/2000\n",
      "13621/13621 [==============================] - 0s 16us/step - loss: 19454.5897 - val_loss: 19331.5763\n",
      "Epoch 41/2000\n",
      "13621/13621 [==============================] - 0s 15us/step - loss: 19268.2619 - val_loss: 19146.0478\n",
      "Epoch 42/2000\n",
      "13621/13621 [==============================] - 0s 15us/step - loss: 19083.3162 - val_loss: 18961.9473\n",
      "Epoch 43/2000\n",
      "13621/13621 [==============================] - 0s 15us/step - loss: 18899.8358 - val_loss: 18779.1977\n",
      "Epoch 44/2000\n",
      "13621/13621 [==============================] - 0s 15us/step - loss: 18717.6774 - val_loss: 18597.8915\n",
      "Epoch 45/2000\n",
      "13621/13621 [==============================] - 0s 15us/step - loss: 18536.9321 - val_loss: 18417.9455\n",
      "Epoch 46/2000\n",
      "13621/13621 [==============================] - 0s 15us/step - loss: 18357.5388 - val_loss: 18239.3990\n",
      "Epoch 47/2000\n",
      "13621/13621 [==============================] - 0s 16us/step - loss: 18179.5125 - val_loss: 18062.1755\n",
      "Epoch 48/2000\n",
      "13621/13621 [==============================] - 0s 15us/step - loss: 18002.8523 - val_loss: 17886.2389\n",
      "Epoch 49/2000\n",
      "13621/13621 [==============================] - 0s 15us/step - loss: 17827.4506 - val_loss: 17711.6842\n",
      "Epoch 50/2000\n",
      "13621/13621 [==============================] - 0s 15us/step - loss: 17653.3841 - val_loss: 17538.4635\n",
      "Epoch 51/2000\n",
      "13621/13621 [==============================] - 0s 15us/step - loss: 17480.6881 - val_loss: 17366.4805\n",
      "Epoch 52/2000\n",
      "13621/13621 [==============================] - 0s 15us/step - loss: 17309.2385 - val_loss: 17195.8240\n",
      "Epoch 53/2000\n",
      "13621/13621 [==============================] - 0s 15us/step - loss: 17139.0595 - val_loss: 17026.4942\n",
      "Epoch 54/2000\n",
      "13621/13621 [==============================] - 0s 15us/step - loss: 16970.2333 - val_loss: 16858.3554\n",
      "Epoch 55/2000\n",
      "13621/13621 [==============================] - 0s 15us/step - loss: 16802.6156 - val_loss: 16691.5138\n",
      "Epoch 56/2000\n",
      "13621/13621 [==============================] - 0s 15us/step - loss: 16636.2467 - val_loss: 16525.9176\n",
      "Epoch 57/2000\n",
      "13621/13621 [==============================] - 0s 15us/step - loss: 16471.1642 - val_loss: 16361.5363\n",
      "Epoch 58/2000\n",
      "13621/13621 [==============================] - 0s 16us/step - loss: 16307.2721 - val_loss: 16198.4058\n",
      "Epoch 59/2000\n",
      "13621/13621 [==============================] - 0s 15us/step - loss: 16144.6332 - val_loss: 16036.5019\n",
      "Epoch 60/2000\n",
      "13621/13621 [==============================] - 0s 15us/step - loss: 15983.1635 - val_loss: 15875.8906\n",
      "Epoch 61/2000\n",
      "13621/13621 [==============================] - 0s 16us/step - loss: 15822.9962 - val_loss: 15716.4450\n",
      "Epoch 62/2000\n",
      "13621/13621 [==============================] - 0s 15us/step - loss: 15664.0458 - val_loss: 15558.1038\n",
      "Epoch 63/2000\n",
      "13621/13621 [==============================] - 0s 15us/step - loss: 15506.1657 - val_loss: 15401.0607\n",
      "Epoch 64/2000\n",
      "13621/13621 [==============================] - 0s 15us/step - loss: 15349.5411 - val_loss: 15245.2074\n",
      "Epoch 65/2000\n",
      "13621/13621 [==============================] - 0s 15us/step - loss: 15194.1209 - val_loss: 15090.4740\n",
      "Epoch 66/2000\n",
      "13621/13621 [==============================] - 0s 15us/step - loss: 15039.8524 - val_loss: 14936.8808\n",
      "Epoch 67/2000\n",
      "13621/13621 [==============================] - 0s 16us/step - loss: 14886.6963 - val_loss: 14784.5225\n",
      "Epoch 68/2000\n",
      "13621/13621 [==============================] - 0s 16us/step - loss: 14734.7890 - val_loss: 14633.2460\n",
      "Epoch 69/2000\n",
      "13621/13621 [==============================] - 0s 15us/step - loss: 14583.9299 - val_loss: 14483.1933\n",
      "Epoch 70/2000\n",
      "13621/13621 [==============================] - 0s 15us/step - loss: 14434.3130 - val_loss: 14334.2348\n",
      "Epoch 71/2000\n",
      "13621/13621 [==============================] - 0s 15us/step - loss: 14285.7865 - val_loss: 14186.4178\n",
      "Epoch 72/2000\n",
      "13621/13621 [==============================] - 0s 15us/step - loss: 14138.3844 - val_loss: 14039.7361\n",
      "Epoch 73/2000\n",
      "13621/13621 [==============================] - 0s 15us/step - loss: 13992.1312 - val_loss: 13894.1642\n",
      "Epoch 74/2000\n",
      "13621/13621 [==============================] - 0s 15us/step - loss: 13846.9597 - val_loss: 13749.7182\n",
      "Epoch 75/2000\n",
      "13621/13621 [==============================] - 0s 15us/step - loss: 13702.9155 - val_loss: 13606.3684\n",
      "Epoch 76/2000\n",
      "13621/13621 [==============================] - 0s 15us/step - loss: 13559.9991 - val_loss: 13464.0737\n",
      "Epoch 77/2000\n",
      "13621/13621 [==============================] - 0s 15us/step - loss: 13418.1122 - val_loss: 13322.9318\n",
      "Epoch 78/2000\n",
      "13621/13621 [==============================] - 0s 15us/step - loss: 13277.3485 - val_loss: 13182.8520\n",
      "Epoch 79/2000\n",
      "13621/13621 [==============================] - 0s 15us/step - loss: 13137.6712 - val_loss: 13043.8417\n",
      "Epoch 80/2000\n",
      "13621/13621 [==============================] - 0s 16us/step - loss: 12999.0440 - val_loss: 12905.9258\n",
      "Epoch 81/2000\n",
      "13621/13621 [==============================] - 0s 15us/step - loss: 12861.5178 - val_loss: 12769.0640\n",
      "Epoch 82/2000\n",
      "13621/13621 [==============================] - 0s 15us/step - loss: 12725.0570 - val_loss: 12633.2513\n",
      "Epoch 83/2000\n",
      "13621/13621 [==============================] - 0s 15us/step - loss: 12589.6304 - val_loss: 12498.4947\n",
      "Epoch 84/2000\n",
      "13621/13621 [==============================] - 0s 15us/step - loss: 12455.2554 - val_loss: 12364.8122\n",
      "Epoch 85/2000\n",
      "13621/13621 [==============================] - 0s 15us/step - loss: 12321.9470 - val_loss: 12232.1527\n",
      "Epoch 86/2000\n",
      "13621/13621 [==============================] - 0s 15us/step - loss: 12189.6558 - val_loss: 12100.5402\n",
      "Epoch 87/2000\n",
      "13621/13621 [==============================] - 0s 15us/step - loss: 12058.3971 - val_loss: 11969.9598\n",
      "Epoch 88/2000\n",
      "13621/13621 [==============================] - 0s 15us/step - loss: 11928.2142 - val_loss: 11840.3121\n",
      "Epoch 89/2000\n",
      "13621/13621 [==============================] - 0s 15us/step - loss: 11798.9723 - val_loss: 11711.7568\n",
      "Epoch 90/2000\n",
      "13621/13621 [==============================] - 0s 15us/step - loss: 11670.7650 - val_loss: 11584.2640\n",
      "Epoch 91/2000\n",
      "13621/13621 [==============================] - 0s 15us/step - loss: 11543.6101 - val_loss: 11457.7324\n",
      "Epoch 92/2000\n",
      "13621/13621 [==============================] - 0s 15us/step - loss: 11417.4505 - val_loss: 11332.2067\n",
      "Epoch 93/2000\n",
      "13621/13621 [==============================] - 0s 15us/step - loss: 11292.3132 - val_loss: 11207.6356\n",
      "Epoch 94/2000\n",
      "13621/13621 [==============================] - 0s 15us/step - loss: 11168.0765 - val_loss: 11084.1563\n",
      "Epoch 95/2000\n",
      "13621/13621 [==============================] - 0s 15us/step - loss: 11044.9207 - val_loss: 10961.6240\n",
      "Epoch 96/2000\n",
      "13621/13621 [==============================] - 0s 15us/step - loss: 10922.7379 - val_loss: 10840.0378\n",
      "Epoch 97/2000\n",
      "13621/13621 [==============================] - 0s 15us/step - loss: 10801.5035 - val_loss: 10719.4718\n",
      "Epoch 98/2000\n",
      "13621/13621 [==============================] - 0s 15us/step - loss: 10681.2799 - val_loss: 10599.8326\n",
      "Epoch 99/2000\n",
      "13621/13621 [==============================] - 0s 15us/step - loss: 10561.9874 - val_loss: 10481.1980\n",
      "Epoch 100/2000\n",
      "13621/13621 [==============================] - 0s 15us/step - loss: 10443.6875 - val_loss: 10363.5006\n",
      "Epoch 101/2000\n",
      "13621/13621 [==============================] - 0s 15us/step - loss: 10326.3285 - val_loss: 10246.7584\n",
      "Epoch 102/2000\n",
      "13621/13621 [==============================] - 0s 15us/step - loss: 10209.9043 - val_loss: 10130.9734\n",
      "Epoch 103/2000\n",
      "13621/13621 [==============================] - 0s 15us/step - loss: 10094.4616 - val_loss: 10016.0998\n",
      "Epoch 104/2000\n",
      "13621/13621 [==============================] - 0s 15us/step - loss: 9979.9498 - val_loss: 9902.1679\n",
      "Epoch 105/2000\n",
      "13621/13621 [==============================] - 0s 15us/step - loss: 9866.3499 - val_loss: 9789.2100\n",
      "Epoch 106/2000\n",
      "13621/13621 [==============================] - 0s 15us/step - loss: 9753.7208 - val_loss: 9677.1556\n",
      "Epoch 107/2000\n",
      "13621/13621 [==============================] - 0s 14us/step - loss: 9641.9944 - val_loss: 9566.0518\n",
      "Epoch 108/2000\n",
      "13621/13621 [==============================] - 0s 15us/step - loss: 9531.2034 - val_loss: 9455.8677\n",
      "Epoch 109/2000\n",
      "13621/13621 [==============================] - 0s 15us/step - loss: 9421.3535 - val_loss: 9346.5800\n",
      "Epoch 110/2000\n",
      "13621/13621 [==============================] - 0s 12us/step - loss: 9312.3739 - val_loss: 9238.2331\n",
      "Epoch 111/2000\n",
      "13621/13621 [==============================] - 0s 13us/step - loss: 9204.3205 - val_loss: 9130.7389\n",
      "Epoch 112/2000\n",
      "13621/13621 [==============================] - 0s 14us/step - loss: 9097.1681 - val_loss: 9024.1445\n",
      "Epoch 113/2000\n",
      "13621/13621 [==============================] - 0s 15us/step - loss: 8990.8894 - val_loss: 8918.4969\n",
      "Epoch 114/2000\n",
      "13621/13621 [==============================] - 0s 15us/step - loss: 8885.5162 - val_loss: 8813.7407\n",
      "Epoch 115/2000\n",
      "13621/13621 [==============================] - 0s 14us/step - loss: 8781.0611 - val_loss: 8709.8326\n",
      "Epoch 116/2000\n",
      "13621/13621 [==============================] - 0s 15us/step - loss: 8677.4721 - val_loss: 8606.7738\n",
      "Epoch 117/2000\n",
      "13621/13621 [==============================] - 0s 15us/step - loss: 8574.7346 - val_loss: 8504.6404\n",
      "Epoch 118/2000\n",
      "13621/13621 [==============================] - 0s 16us/step - loss: 8472.9051 - val_loss: 8403.3527\n",
      "Epoch 119/2000\n",
      "13621/13621 [==============================] - 0s 16us/step - loss: 8371.8963 - val_loss: 8302.9697\n",
      "Epoch 120/2000\n",
      "13621/13621 [==============================] - 0s 15us/step - loss: 8271.7812 - val_loss: 8203.4470\n",
      "Epoch 121/2000\n",
      "13621/13621 [==============================] - 0s 15us/step - loss: 8172.5711 - val_loss: 8104.7147\n",
      "Epoch 122/2000\n",
      "13621/13621 [==============================] - 0s 15us/step - loss: 8074.1334 - val_loss: 8006.8690\n",
      "Epoch 123/2000\n",
      "13621/13621 [==============================] - 0s 15us/step - loss: 7976.5846 - val_loss: 7909.8834\n",
      "Epoch 124/2000\n",
      "13621/13621 [==============================] - 0s 16us/step - loss: 7879.9038 - val_loss: 7813.7299\n",
      "Epoch 125/2000\n",
      "13621/13621 [==============================] - 0s 15us/step - loss: 7784.0240 - val_loss: 7718.4268\n",
      "Epoch 126/2000\n",
      "13621/13621 [==============================] - 0s 15us/step - loss: 7689.0152 - val_loss: 7623.9468\n",
      "Epoch 127/2000\n",
      "13621/13621 [==============================] - 0s 15us/step - loss: 7594.8256 - val_loss: 7530.2942\n",
      "Epoch 128/2000\n",
      "13621/13621 [==============================] - 0s 15us/step - loss: 7501.4567 - val_loss: 7437.4813\n",
      "Epoch 129/2000\n",
      "13621/13621 [==============================] - 0s 16us/step - loss: 7408.9078 - val_loss: 7345.5211\n",
      "Epoch 130/2000\n",
      "13621/13621 [==============================] - 0s 15us/step - loss: 7317.2400 - val_loss: 7254.3073\n",
      "Epoch 131/2000\n",
      "13621/13621 [==============================] - 0s 16us/step - loss: 7226.3031 - val_loss: 7163.9538\n",
      "Epoch 132/2000\n",
      "13621/13621 [==============================] - 0s 13us/step - loss: 7136.2331 - val_loss: 7074.3799\n",
      "Epoch 133/2000\n",
      "13621/13621 [==============================] - 0s 13us/step - loss: 7046.9279 - val_loss: 6985.6414\n",
      "Epoch 134/2000\n",
      "13621/13621 [==============================] - ETA: 0s - loss: 6974.32 - 0s 15us/step - loss: 6958.4744 - val_loss: 6897.6681\n",
      "Epoch 135/2000\n",
      "13621/13621 [==============================] - 0s 15us/step - loss: 6870.7668 - val_loss: 6810.5256\n",
      "Epoch 136/2000\n",
      "13621/13621 [==============================] - 0s 15us/step - loss: 6783.8977 - val_loss: 6724.1479\n",
      "Epoch 137/2000\n",
      "13621/13621 [==============================] - 0s 15us/step - loss: 6697.7701 - val_loss: 6638.5920\n",
      "Epoch 138/2000\n",
      "13621/13621 [==============================] - 0s 15us/step - loss: 6612.4669 - val_loss: 6553.7782\n",
      "Epoch 139/2000\n",
      "13621/13621 [==============================] - 0s 15us/step - loss: 6527.9226 - val_loss: 6469.7537\n",
      "Epoch 140/2000\n",
      " 6000/13621 [============>.................] - ETA: 0s - loss: 6451.3038"
     ]
    }
   ],
   "source": [
    "history = model.fit(x_train, Y_train, batch_size=batch_size, epochs=nb_epoch,\n",
    "          verbose=1, validation_data=(x_val, Y_val),\n",
    "          callbacks=[tensorboard])"
   ]
  },
  {
   "cell_type": "code",
   "execution_count": null,
   "metadata": {},
   "outputs": [],
   "source": [
    "score = model.evaluate(x_test, Y_test, verbose=0)\n",
    "print('Test mse:', score)\n",
    "# print('Test mae:', score[1])\n",
    "Y_test_predicted=model.predict(x_test)\n",
    "x_test_array=np.asarray(Y_test)\n",
    "print(x_test_array.shape)\n",
    "error_prediction=Y_test-Y_test_predicted.flatten()\n",
    "print(error_prediction.shape)\n",
    "print(error_prediction[:10])\n",
    "print(Y_test.shape)\n",
    "print(Y_test_predicted.shape)"
   ]
  },
  {
   "cell_type": "code",
   "execution_count": null,
   "metadata": {},
   "outputs": [],
   "source": [
    "plt.plot(history.history['loss'])\n",
    "plt.plot(history.history['val_loss'])\n",
    "plt.title('model error')\n",
    "plt.ylabel('error')\n",
    "plt.xlabel('epoch')\n",
    "plt.legend(['train', 'test'], loc='upper left')\n",
    "plt.show()"
   ]
  },
  {
   "cell_type": "code",
   "execution_count": null,
   "metadata": {
    "scrolled": true
   },
   "outputs": [],
   "source": [
    "#print(error_prediction)"
   ]
  },
  {
   "cell_type": "code",
   "execution_count": null,
   "metadata": {
    "scrolled": true
   },
   "outputs": [],
   "source": [
    "\n",
    "n, bins, patches = plt.hist(error_prediction, 400, normed=0, facecolor='green', alpha=0.75)\n",
    "plt.title(\"Histogram with 400 bins\")\n",
    "plt.show()\n",
    "x=bins[:400]\n",
    "y=n\n",
    "print(n.shape)\n",
    "print(bins.shape)\n",
    "from numpy import exp, loadtxt, pi, sqrt, log\n",
    "\n",
    "from lmfit import Model\n",
    "def gaussian(x, amp, cen, wid):\n",
    "    \"\"\"1-d gaussian: gaussian(x, amp, cen, wid)\"\"\"\n",
    "    return amp * exp(-((x-cen)/wid)**2 )\n",
    "\n",
    "\n",
    "gmodel = Model(gaussian)\n",
    "result = gmodel.fit(y, x=x, amp=1000, cen=0, wid=1)\n",
    "\n",
    "print(result.fit_report())\n",
    "\n",
    "plt.plot(x, y, 'bo')\n",
    "plt.plot(x, result.init_fit, 'k--')\n",
    "plt.plot(x, result.best_fit, 'r-')\n",
    "plt.show()\n",
    "\n",
    "\n",
    "\n"
   ]
  },
  {
   "cell_type": "code",
   "execution_count": null,
   "metadata": {},
   "outputs": [],
   "source": [
    "FWHM=result.params['wid'].value*2*sqrt(log(2))"
   ]
  },
  {
   "cell_type": "code",
   "execution_count": null,
   "metadata": {},
   "outputs": [],
   "source": [
    "print(FWHM)"
   ]
  },
  {
   "cell_type": "code",
   "execution_count": null,
   "metadata": {},
   "outputs": [],
   "source": [
    "Y_test_bin0_predicted=model.predict(x_test_bin0)\n",
    "print(Y_test_bin0_predicted)\n",
    "error_prediction_bin0=Y_test_bin0-Y_test_bin0_predicted.flatten()\n",
    "n, bins, patches = plt.hist(error_prediction_bin0, 400, normed=0, facecolor='green', alpha=0.75)\n",
    "\n",
    "x=bins[:400]\n",
    "y=n\n",
    "\n",
    "gmodel = Model(gaussian)\n",
    "result = gmodel.fit(y, x=x, amp=1000, cen=0, wid=1)\n",
    "FWHM_bin0=result.params['wid'].value*2*sqrt(log(2))\n",
    "print(FWHM_bin0)"
   ]
  },
  {
   "cell_type": "code",
   "execution_count": null,
   "metadata": {},
   "outputs": [],
   "source": [
    "Y_test_bin1_predicted=model.predict(x_test_bin1)\n",
    "#print(Y_test_bin1_predicted)\n",
    "error_prediction_bin1=Y_test_bin1-Y_test_bin1_predicted.flatten()\n",
    "n, bins, patches = plt.hist(error_prediction_bin1, 400, normed=0, facecolor='green', alpha=0.75)\n",
    "\n",
    "x=bins[:400]\n",
    "y=n\n",
    "\n",
    "gmodel = Model(gaussian)\n",
    "result = gmodel.fit(y, x=x, amp=1000, cen=0, wid=1)\n",
    "FWHM_bin1=result.params['wid'].value*2*sqrt(log(2))\n",
    "print(FWHM_bin1)"
   ]
  },
  {
   "cell_type": "code",
   "execution_count": null,
   "metadata": {
    "scrolled": true
   },
   "outputs": [],
   "source": [
    "Y_test_bin2_predicted=model.predict(x_test_bin2)\n",
    "#print(Y_test_bin2_predicted)\n",
    "error_prediction_bin2=Y_test_bin2-Y_test_bin2_predicted.flatten()\n",
    "n, bins, patches = plt.hist(error_prediction_bin2, 400, normed=0, facecolor='green', alpha=0.75)\n",
    "\n",
    "x=bins[:400]\n",
    "y=n\n",
    "\n",
    "gmodel = Model(gaussian)\n",
    "result = gmodel.fit(y, x=x, amp=1000, cen=0, wid=1)\n",
    "FWHM_bin2=result.params['wid'].value*2*sqrt(log(2))\n",
    "print(FWHM_bin2)"
   ]
  },
  {
   "cell_type": "code",
   "execution_count": null,
   "metadata": {
    "scrolled": true
   },
   "outputs": [],
   "source": [
    "Y_test_bin3_predicted=model.predict(x_test_bin3)\n",
    "#print(Y_test_bin3_predicted)\n",
    "error_prediction_bin3=Y_test_bin3-Y_test_bin3_predicted.flatten()\n",
    "n, bins, patches = plt.hist(error_prediction_bin3, 400, normed=0, facecolor='green', alpha=0.75)\n",
    "\n",
    "x=bins[:400]\n",
    "y=n\n",
    "\n",
    "gmodel = Model(gaussian)\n",
    "result = gmodel.fit(y, x=x, amp=1000, cen=0, wid=1)\n",
    "FWHM_bin3=result.params['wid'].value*2*sqrt(log(2))\n",
    "print(FWHM_bin3)"
   ]
  },
  {
   "cell_type": "code",
   "execution_count": null,
   "metadata": {
    "scrolled": true
   },
   "outputs": [],
   "source": [
    "Y_test_bin4_predicted=model.predict(x_test_bin4)\n",
    "#print(Y_test_bin4_predicted)\n",
    "error_prediction_bin4=Y_test_bin4-Y_test_bin4_predicted.flatten()\n",
    "n, bins, patches = plt.hist(error_prediction_bin4, 400, normed=0, facecolor='green', alpha=0.75)\n",
    "\n",
    "x=bins[:400]\n",
    "y=n\n",
    "\n",
    "gmodel = Model(gaussian)\n",
    "result = gmodel.fit(y, x=x, amp=1000, cen=0, wid=1)\n",
    "FWHM_bin4=result.params['wid'].value*2*sqrt(log(2))\n",
    "print(FWHM_bin4)\n",
    "print(FWHM_bin3)\n",
    "print(FWHM_bin2)\n",
    "print(FWHM_bin1)\n",
    "print(FWHM_bin0)"
   ]
  },
  {
   "cell_type": "code",
   "execution_count": null,
   "metadata": {},
   "outputs": [],
   "source": []
  }
 ],
 "metadata": {
  "anaconda-cloud": {},
  "kernelspec": {
   "display_name": "Python [conda env:tensorflow]",
   "language": "python",
   "name": "conda-env-tensorflow-py"
  },
  "language_info": {
   "codemirror_mode": {
    "name": "ipython",
    "version": 3
   },
   "file_extension": ".py",
   "mimetype": "text/x-python",
   "name": "python",
   "nbconvert_exporter": "python",
   "pygments_lexer": "ipython3",
   "version": "3.6.5"
  },
  "varInspector": {
   "cols": {
    "lenName": 16,
    "lenType": 16,
    "lenVar": 40
   },
   "kernels_config": {
    "python": {
     "delete_cmd_postfix": "",
     "delete_cmd_prefix": "del ",
     "library": "var_list.py",
     "varRefreshCmd": "print(var_dic_list())"
    },
    "r": {
     "delete_cmd_postfix": ") ",
     "delete_cmd_prefix": "rm(",
     "library": "var_list.r",
     "varRefreshCmd": "cat(var_dic_list()) "
    }
   },
   "position": {
    "height": "495px",
    "left": "909px",
    "right": "57px",
    "top": "246px",
    "width": "800px"
   },
   "types_to_exclude": [
    "module",
    "function",
    "builtin_function_or_method",
    "instance",
    "_Feature"
   ],
   "window_display": false
  }
 },
 "nbformat": 4,
 "nbformat_minor": 1
}
