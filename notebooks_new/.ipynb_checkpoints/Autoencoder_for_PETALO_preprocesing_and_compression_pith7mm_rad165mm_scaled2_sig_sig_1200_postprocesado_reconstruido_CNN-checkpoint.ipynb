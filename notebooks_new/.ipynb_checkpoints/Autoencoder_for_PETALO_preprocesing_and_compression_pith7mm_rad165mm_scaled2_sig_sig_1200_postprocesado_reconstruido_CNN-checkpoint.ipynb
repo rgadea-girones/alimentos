{
 "cells": [
  {
   "cell_type": "markdown",
   "metadata": {},
   "source": [
    "# Simple AUTOENCODER for PETALO\n",
    "\n",
    "Esta red la vamos a utilizar para obtener el radio "
   ]
  },
  {
   "cell_type": "code",
   "execution_count": 1,
   "metadata": {},
   "outputs": [
    {
     "name": "stdout",
     "output_type": "stream",
     "text": [
      "['', '/home/rgadea3/anaconda3/envs/tensorflow/lib/python36.zip', '/home/rgadea3/anaconda3/envs/tensorflow/lib/python3.6', '/home/rgadea3/anaconda3/envs/tensorflow/lib/python3.6/lib-dynload', '/home/rgadea3/anaconda3/envs/tensorflow/lib/python3.6/site-packages', '/home/rgadea3/anaconda3/envs/tensorflow/lib/python3.6/site-packages/IPython/extensions', '/home/rgadea3/.ipython']\n"
     ]
    },
    {
     "name": "stderr",
     "output_type": "stream",
     "text": [
      "Using TensorFlow backend.\n"
     ]
    }
   ],
   "source": [
    "import numpy as np\n",
    "#np.random.seed(1337)  # for reproducibility\n",
    "from time import time\n",
    "from datetime import datetime\n",
    "from sklearn import preprocessing\n",
    "import sys\n",
    "print(sys.path)\n",
    "sys.path.append(\"/home/rgadea/lmfit-py/\")\n",
    "import seaborn as sns\n",
    "from keras.datasets import mnist\n",
    "from keras.models import Model, Sequential\n",
    "from keras.layers import Input, Dense, Dropout, Activation, Flatten\n",
    "from keras.layers import Conv2D, MaxPooling2D,BatchNormalization\n",
    "from keras.callbacks import TensorBoard, EarlyStopping, ModelCheckpoint\n",
    "from keras.utils import np_utils\n",
    "from keras import regularizers\n",
    "from math import floor\n",
    "from lmfit.models import  GaussianModel\n",
    "import matplotlib.pyplot as plt"
   ]
  },
  {
   "cell_type": "markdown",
   "metadata": {},
   "source": [
    "## Vamos introducir los datos de petalo preprocesados en pyhton\n"
   ]
  },
  {
   "cell_type": "code",
   "execution_count": 2,
   "metadata": {},
   "outputs": [],
   "source": [
    "import scipy.io as sio\n",
    "import hdf5storage\n",
    "# datos_matlab = hdf5storage.loadmat('../datos_junio_2019/conjunto_entrenamiento_junio_2019_pitch7mm_rad165mm_29_total.mat')\n",
    "npzfile = np.load('../conjuntos_datos_reconstruidos/fil1_pith7mm_rad165mm_scaled2_sig_sig_1200.npz')\n",
    "npzfile.files\n",
    "\n",
    "conjunto_datos1= npzfile['arr_1']\n",
    "npzfile = np.load('../conjuntos_datos_reconstruidos/fil2_pith7mm_rad165mm_scaled2_sig_sig_1200.npz')\n",
    "npzfile.files\n",
    "\n",
    "conjunto_datos2= npzfile['arr_1']\n",
    "\n",
    "conjunto_datos=np.concatenate((conjunto_datos1,conjunto_datos2), axis=0)\n",
    "print(conjunto_datos.shape)"
   ]
  },
  {
   "cell_type": "markdown",
   "metadata": {},
   "source": [
    "## Network parameters:"
   ]
  },
  {
   "cell_type": "code",
   "execution_count": 3,
   "metadata": {},
   "outputs": [],
   "source": [
    "batch_size = 500\n",
    "nb_classes = 10\n",
    "nb_epoch = 150\n",
    "\n",
    "# input image dimensions\n",
    "img_rows, img_cols = 16, 30\n",
    "# number of convolutional filters to use\n",
    "nb_filters = 32\n",
    "# size of pooling area for max pooling\n",
    "pool_size = (2, 2)\n",
    "# convolution kernel size\n",
    "kernel_size = (4, 4)"
   ]
  },
  {
   "cell_type": "markdown",
   "metadata": {},
   "source": [
    "## Prepare data into training and test set."
   ]
  },
  {
   "cell_type": "code",
   "execution_count": 4,
   "metadata": {},
   "outputs": [
    {
     "name": "stdout",
     "output_type": "stream",
     "text": [
      "50000\n",
      "conjunto_datos shape: (50000, 3518)\n",
      "194.99955299786114\n"
     ]
    },
    {
     "name": "stderr",
     "output_type": "stream",
     "text": [
      "/home/rgadea3/anaconda3/envs/tensorflow/lib/python3.6/site-packages/matplotlib/axes/_axes.py:6462: UserWarning: The 'normed' kwarg is deprecated, and has been replaced by the 'density' kwarg.\n",
      "  warnings.warn(\"The 'normed' kwarg is deprecated, and has been \"\n"
     ]
    },
    {
     "data": {
      "image/png": "[encoded data removed]",
      "text/plain": [
       "<Figure size 432x288 with 1 Axes>"
      ]
     },
     "metadata": {},
     "output_type": "display_data"
    }
   ],
   "source": [
    "# the data, shuffled and split between train and test sets\n",
    "# (X_train, y_train), (X_test, y_test) = mnist.load_data()\n",
    "# conjunto_datos=photodefbox2_todo_e\n",
    "numero_muestras=conjunto_datos.shape[0]\n",
    "print(numero_muestras)\n",
    "print('conjunto_datos shape:', conjunto_datos.shape)\n",
    "maxInColumns = np.amax(conjunto_datos, axis=0)\n",
    "print (maxInColumns[1])\n",
    "n, bins, patches = plt.hist(conjunto_datos[:,1], 400, normed=0, facecolor='green', alpha=0.75)\n"
   ]
  },
  {
   "cell_type": "code",
   "execution_count": 5,
   "metadata": {},
   "outputs": [
    {
     "name": "stdout",
     "output_type": "stream",
     "text": [
      "30000\n",
      "10000\n",
      "10000\n",
      "(3424, 3500)\n",
      "(2027, 3500)\n",
      "(1596, 3500)\n",
      "(1494, 3500)\n",
      "(1446, 3500)\n"
     ]
    }
   ],
   "source": [
    "tr_size=60\n",
    "val_size=20\n",
    "test_size=100-val_size-tr_size\n",
    "\n",
    "tamanyo_tr=floor(tr_size*numero_muestras/100)\n",
    "tamanyo_val=floor(val_size*numero_muestras/100)\n",
    "tamanyo_test=numero_muestras-tamanyo_tr-tamanyo_val\n",
    "print(tamanyo_tr)\n",
    "print(tamanyo_val)\n",
    "print(tamanyo_test)\n",
    "XY_test=conjunto_datos[tamanyo_tr+tamanyo_val:numero_muestras,:]\n",
    "XY_test_bin0=XY_test[np.where((XY_test[:,1]>=164.9999) * (XY_test[:,1]<171.000))]\n",
    "XY_test_bin1=XY_test[np.where((XY_test[:,1]>=171.000) * (XY_test[:,1]<177.000))]\n",
    "XY_test_bin2=XY_test[np.where((XY_test[:,1]>=177.000) * (XY_test[:,1]<183.0000))]\n",
    "XY_test_bin3=XY_test[np.where((XY_test[:,1]>=183.000) * (XY_test[:,1]<189.0000))]\n",
    "XY_test_bin4=XY_test[np.where((XY_test[:,1]>=189.0000))]\n",
    "\n",
    "X_train=conjunto_datos[:tamanyo_tr,6:3506]\n",
    "X_val=conjunto_datos[tamanyo_tr:tamanyo_tr+tamanyo_val,6:3506]\n",
    "X_test=conjunto_datos[tamanyo_tr+tamanyo_val:numero_muestras,6:3506]\n",
    "\n",
    "X_test_bin0=XY_test_bin0[:,6:3506]\n",
    "Y_test_bin0=XY_test_bin0[:,1]\n",
    "print(X_test_bin0.shape)\n",
    "X_test_bin1=XY_test_bin1[:,6:3506]\n",
    "Y_test_bin1=XY_test_bin1[:,1]\n",
    "print(X_test_bin1.shape)\n",
    "X_test_bin2=XY_test_bin2[:,6:3506]\n",
    "Y_test_bin2=XY_test_bin2[:,1]\n",
    "print(X_test_bin2.shape)\n",
    "X_test_bin3=XY_test_bin3[:,6:3506]\n",
    "Y_test_bin3=XY_test_bin3[:,1]\n",
    "print(X_test_bin3.shape)\n",
    "X_test_bin4=XY_test_bin4[:,6:3506]\n",
    "Y_test_bin4=XY_test_bin4[:,1]\n",
    "print(X_test_bin4.shape)\n",
    "\n",
    "\n",
    "\n",
    "Y_train=conjunto_datos[:tamanyo_tr,1] #elijo la coordenada radius\n",
    "Y_val=conjunto_datos[tamanyo_tr:tamanyo_tr+tamanyo_val,1] #elijo la corrdenada radius\n",
    "Y_test=conjunto_datos[tamanyo_tr+tamanyo_val:numero_muestras,1] #elijo la corrdenada radius"
   ]
  },
  {
   "cell_type": "code",
   "execution_count": 6,
   "metadata": {},
   "outputs": [],
   "source": [
    "img_cols=175\n",
    "img_rows=20\n",
    "\n",
    "X_train = X_train.reshape(X_train.shape[0], img_cols, img_rows,1)\n",
    "X_val = X_val.reshape(X_val.shape[0], img_cols, img_rows,1)\n",
    "X_test = X_test.reshape(X_test.shape[0], img_cols, img_rows,1)\n",
    "\n",
    "X_test_bin0 = X_test_bin0.reshape(X_test_bin0.shape[0], img_cols, img_rows,1)\n",
    "X_test_bin1 = X_test_bin1.reshape(X_test_bin1.shape[0], img_cols, img_rows,1)\n",
    "X_test_bin2 = X_test_bin2.reshape(X_test_bin2.shape[0], img_cols, img_rows,1)\n",
    "X_test_bin3 = X_test_bin3.reshape(X_test_bin3.shape[0], img_cols, img_rows,1)\n",
    "X_test_bin4 = X_test_bin4.reshape(X_test_bin4.shape[0], img_cols, img_rows,1)\n",
    "\n",
    "input_shape = (img_cols, img_rows,1)\n",
    "#input_shape=input_shape.astype('int32')"
   ]
  },
  {
   "cell_type": "code",
   "execution_count": 7,
   "metadata": {},
   "outputs": [
    {
     "name": "stdout",
     "output_type": "stream",
     "text": [
      "X_train shape: (30000, 175, 20, 1)\n",
      "30000 train samples\n",
      "10000 validation samples\n",
      "10000 test samples\n"
     ]
    }
   ],
   "source": [
    "X_train = X_train.astype('float32')\n",
    "X_val= X_val.astype('float32')\n",
    "X_test = X_test.astype('float32')\n",
    "\n",
    "print('X_train shape:', X_train.shape)\n",
    "print(X_train.shape[0], 'train samples')\n",
    "print(X_val.shape[0], 'validation samples')\n",
    "print(X_test.shape[0], 'test samples')"
   ]
  },
  {
   "cell_type": "markdown",
   "metadata": {},
   "source": [
    "Display 20 random training images using image"
   ]
  },
  {
   "cell_type": "code",
   "execution_count": 8,
   "metadata": {},
   "outputs": [
    {
     "data": {
      "image/png": "[encoded data removed]",
      "text/plain": [
       "<Figure size 432x288 with 1 Axes>"
      ]
     },
     "metadata": {},
     "output_type": "display_data"
    },
    {
     "data": {
      "image/png": "[encoded data removed]",
      "text/plain": [
       "<Figure size 432x288 with 1 Axes>"
      ]
     },
     "metadata": {},
     "output_type": "display_data"
    },
    {
     "data": {
      "image/png": "[encoded data removed]",
      "text/plain": [
       "<Figure size 432x288 with 1 Axes>"
      ]
     },
     "metadata": {},
     "output_type": "display_data"
    },
    {
     "data": {
      "image/png": "[encoded data removed]",
      "text/plain": [
       "<Figure size 432x288 with 1 Axes>"
      ]
     },
     "metadata": {},
     "output_type": "display_data"
    }
   ],
   "source": [
    "# convert class vectors to binary class matrices\n",
    "#Y_train = np_utils.to_categorical(y_train, nb_classes)\n",
    "#Y_test = np_utils.to_categorical(y_test, nb_classes)\n",
    "for i in range(1,5):\n",
    "    idea=np.random.randint(1,X_train.shape[0])\n",
    "    plt.imshow(np.reshape(X_train[idea].transpose(), [img_rows, img_cols]), cmap='viridis')\n",
    "    plt.show()"
   ]
  },
  {
   "cell_type": "markdown",
   "metadata": {},
   "source": [
    "## Build the CNN. "
   ]
  },
  {
   "cell_type": "code",
   "execution_count": 9,
   "metadata": {},
   "outputs": [],
   "source": [
    "model = Sequential()\n",
    "\n",
    "model.add(Conv2D(8, kernel_size=kernel_size,\n",
    "                        padding='same',\n",
    "                        input_shape=(img_cols,img_rows,1)))\n",
    "model.add(BatchNormalization())\n",
    "model.add(Activation('relu'))\n",
    "model.add(MaxPooling2D(pool_size=pool_size))\n",
    "\n",
    "model.add(Conv2D(16, kernel_size, padding='same'))\n",
    "model.add(BatchNormalization())\n",
    "model.add(Activation('relu'))\n",
    "model.add(MaxPooling2D(pool_size=pool_size))\n",
    "\n",
    "model.add(Conv2D(32, kernel_size, padding='same'))\n",
    "model.add(BatchNormalization())\n",
    "model.add(Activation('relu'))\n",
    "\n",
    "model.add(Conv2D(64, kernel_size, padding='same'))\n",
    "model.add(BatchNormalization())\n",
    "model.add(Activation('relu'))\n",
    "\n",
    "model.add(Dropout(0.2))\n",
    "model.add(Flatten())\n",
    "model.add(Dense(1))\n",
    "\n",
    "\n",
    "model.compile(loss='mean_squared_error',\n",
    "              optimizer='rmsPROP',\n",
    "              metrics=['mae','acc'])\n"
   ]
  },
  {
   "cell_type": "markdown",
   "metadata": {},
   "source": [
    "Show a summary of the model parameters. "
   ]
  },
  {
   "cell_type": "code",
   "execution_count": 10,
   "metadata": {
    "scrolled": true
   },
   "outputs": [
    {
     "name": "stdout",
     "output_type": "stream",
     "text": [
      "_________________________________________________________________\n",
      "Layer (type)                 Output Shape              Param #   \n",
      "=================================================================\n",
      "conv2d_1 (Conv2D)            (None, 175, 20, 8)        136       \n",
      "_________________________________________________________________\n",
      "batch_normalization_1 (Batch (None, 175, 20, 8)        32        \n",
      "_________________________________________________________________\n",
      "activation_1 (Activation)    (None, 175, 20, 8)        0         \n",
      "_________________________________________________________________\n",
      "max_pooling2d_1 (MaxPooling2 (None, 87, 10, 8)         0         \n",
      "_________________________________________________________________\n",
      "conv2d_2 (Conv2D)            (None, 87, 10, 16)        2064      \n",
      "_________________________________________________________________\n",
      "batch_normalization_2 (Batch (None, 87, 10, 16)        64        \n",
      "_________________________________________________________________\n",
      "activation_2 (Activation)    (None, 87, 10, 16)        0         \n",
      "_________________________________________________________________\n",
      "max_pooling2d_2 (MaxPooling2 (None, 43, 5, 16)         0         \n",
      "_________________________________________________________________\n",
      "conv2d_3 (Conv2D)            (None, 43, 5, 32)         8224      \n",
      "_________________________________________________________________\n",
      "batch_normalization_3 (Batch (None, 43, 5, 32)         128       \n",
      "_________________________________________________________________\n",
      "activation_3 (Activation)    (None, 43, 5, 32)         0         \n",
      "_________________________________________________________________\n",
      "conv2d_4 (Conv2D)            (None, 43, 5, 64)         32832     \n",
      "_________________________________________________________________\n",
      "batch_normalization_4 (Batch (None, 43, 5, 64)         256       \n",
      "_________________________________________________________________\n",
      "activation_4 (Activation)    (None, 43, 5, 64)         0         \n",
      "_________________________________________________________________\n",
      "dropout_1 (Dropout)          (None, 43, 5, 64)         0         \n",
      "_________________________________________________________________\n",
      "flatten_1 (Flatten)          (None, 13760)             0         \n",
      "_________________________________________________________________\n",
      "dense_1 (Dense)              (None, 1)                 13761     \n",
      "=================================================================\n",
      "Total params: 57,497\n",
      "Trainable params: 57,257\n",
      "Non-trainable params: 240\n",
      "_________________________________________________________________\n"
     ]
    }
   ],
   "source": [
    "model.summary()"
   ]
  },
  {
   "cell_type": "markdown",
   "metadata": {},
   "source": [
    "And now train the model and evaluate on the test set. "
   ]
  },
  {
   "cell_type": "code",
   "execution_count": 11,
   "metadata": {
    "scrolled": false
   },
   "outputs": [
    {
     "name": "stdout",
     "output_type": "stream",
     "text": [
      "Train on 30000 samples, validate on 10000 samples\n",
      "Epoch 1/150\n",
      "30000/30000 [==============================] - 12s 400us/step - loss: 2850.2997 - mean_absolute_error: 28.0825 - acc: 0.0000e+00 - val_loss: 256.5007 - val_mean_absolute_error: 13.0145 - val_acc: 0.0000e+00\n",
      "Epoch 2/150\n",
      "30000/30000 [==============================] - 8s 270us/step - loss: 103.0099 - mean_absolute_error: 6.1493 - acc: 0.0000e+00 - val_loss: 144.7939 - val_mean_absolute_error: 8.6633 - val_acc: 0.0000e+00\n",
      "Epoch 3/150\n",
      "30000/30000 [==============================] - 8s 276us/step - loss: 95.9709 - mean_absolute_error: 5.7796 - acc: 0.0000e+00 - val_loss: 95.6298 - val_mean_absolute_error: 6.0248 - val_acc: 0.0000e+00\n",
      "Epoch 4/150\n",
      "30000/30000 [==============================] - 8s 272us/step - loss: 91.7682 - mean_absolute_error: 5.4632 - acc: 0.0000e+00 - val_loss: 92.5379 - val_mean_absolute_error: 5.9857 - val_acc: 0.0000e+00\n",
      "Epoch 5/150\n",
      "30000/30000 [==============================] - 8s 270us/step - loss: 92.0103 - mean_absolute_error: 5.5226 - acc: 0.0000e+00 - val_loss: 85.5510 - val_mean_absolute_error: 5.4169 - val_acc: 0.0000e+00\n",
      "Epoch 6/150\n",
      "30000/30000 [==============================] - 8s 272us/step - loss: 88.3886 - mean_absolute_error: 5.3292 - acc: 0.0000e+00 - val_loss: 116.2081 - val_mean_absolute_error: 7.4810 - val_acc: 0.0000e+00\n",
      "Epoch 7/150\n",
      "30000/30000 [==============================] - 8s 268us/step - loss: 89.7457 - mean_absolute_error: 5.4231 - acc: 0.0000e+00 - val_loss: 522.9822 - val_mean_absolute_error: 21.2295 - val_acc: 0.0000e+00\n",
      "Epoch 8/150\n",
      "30000/30000 [==============================] - 8s 268us/step - loss: 86.8876 - mean_absolute_error: 5.1906 - acc: 0.0000e+00 - val_loss: 378.8235 - val_mean_absolute_error: 17.6249 - val_acc: 0.0000e+00\n",
      "Epoch 9/150\n",
      "30000/30000 [==============================] - 8s 265us/step - loss: 85.6274 - mean_absolute_error: 5.1001 - acc: 0.0000e+00 - val_loss: 94.2832 - val_mean_absolute_error: 6.1564 - val_acc: 0.0000e+00\n",
      "Epoch 10/150\n",
      "30000/30000 [==============================] - 8s 262us/step - loss: 84.1556 - mean_absolute_error: 5.0503 - acc: 0.0000e+00 - val_loss: 384.3080 - val_mean_absolute_error: 17.8042 - val_acc: 0.0000e+00\n",
      "Epoch 11/150\n",
      "30000/30000 [==============================] - 8s 268us/step - loss: 85.0843 - mean_absolute_error: 5.1083 - acc: 0.0000e+00 - val_loss: 73.1872 - val_mean_absolute_error: 4.4898 - val_acc: 0.0000e+00\n",
      "Epoch 12/150\n",
      "30000/30000 [==============================] - 8s 266us/step - loss: 83.6545 - mean_absolute_error: 5.0108 - acc: 0.0000e+00 - val_loss: 92.6168 - val_mean_absolute_error: 5.9973 - val_acc: 0.0000e+00\n",
      "Epoch 13/150\n",
      "30000/30000 [==============================] - 8s 267us/step - loss: 84.5846 - mean_absolute_error: 5.0601 - acc: 0.0000e+00 - val_loss: 67.3403 - val_mean_absolute_error: 3.9245 - val_acc: 0.0000e+00\n",
      "Epoch 14/150\n",
      "30000/30000 [==============================] - 8s 267us/step - loss: 82.0089 - mean_absolute_error: 4.9178 - acc: 0.0000e+00 - val_loss: 97.6150 - val_mean_absolute_error: 6.6604 - val_acc: 0.0000e+00\n",
      "Epoch 15/150\n",
      "30000/30000 [==============================] - 8s 257us/step - loss: 82.9637 - mean_absolute_error: 4.9760 - acc: 0.0000e+00 - val_loss: 109.4390 - val_mean_absolute_error: 7.7843 - val_acc: 0.0000e+00\n",
      "Epoch 16/150\n",
      "30000/30000 [==============================] - 8s 265us/step - loss: 82.3985 - mean_absolute_error: 4.9312 - acc: 0.0000e+00 - val_loss: 67.2240 - val_mean_absolute_error: 3.9714 - val_acc: 0.0000e+00\n",
      "Epoch 17/150\n",
      "30000/30000 [==============================] - 8s 267us/step - loss: 81.6889 - mean_absolute_error: 4.9485 - acc: 0.0000e+00 - val_loss: 109.3667 - val_mean_absolute_error: 7.8008 - val_acc: 0.0000e+00\n",
      "Epoch 18/150\n",
      "30000/30000 [==============================] - 8s 257us/step - loss: 81.5886 - mean_absolute_error: 4.9304 - acc: 0.0000e+00 - val_loss: 71.7491 - val_mean_absolute_error: 4.2572 - val_acc: 0.0000e+00\n",
      "Epoch 19/150\n",
      "30000/30000 [==============================] - 8s 268us/step - loss: 81.3015 - mean_absolute_error: 4.9271 - acc: 0.0000e+00 - val_loss: 168.0662 - val_mean_absolute_error: 10.3098 - val_acc: 0.0000e+00\n",
      "Epoch 20/150\n",
      "30000/30000 [==============================] - 8s 266us/step - loss: 80.6401 - mean_absolute_error: 4.8812 - acc: 0.0000e+00 - val_loss: 70.5239 - val_mean_absolute_error: 4.5036 - val_acc: 0.0000e+00\n",
      "Epoch 21/150\n",
      "30000/30000 [==============================] - 8s 271us/step - loss: 81.6815 - mean_absolute_error: 4.9107 - acc: 0.0000e+00 - val_loss: 214.7550 - val_mean_absolute_error: 12.3243 - val_acc: 0.0000e+00\n",
      "Epoch 22/150\n",
      "30000/30000 [==============================] - 8s 267us/step - loss: 79.3768 - mean_absolute_error: 4.7609 - acc: 0.0000e+00 - val_loss: 102.5149 - val_mean_absolute_error: 6.7633 - val_acc: 0.0000e+00\n",
      "Epoch 23/150\n",
      "30000/30000 [==============================] - 8s 264us/step - loss: 80.1269 - mean_absolute_error: 4.7932 - acc: 0.0000e+00 - val_loss: 69.6925 - val_mean_absolute_error: 4.3304 - val_acc: 0.0000e+00\n",
      "Epoch 24/150\n",
      "30000/30000 [==============================] - 8s 266us/step - loss: 80.2278 - mean_absolute_error: 4.8666 - acc: 0.0000e+00 - val_loss: 90.7478 - val_mean_absolute_error: 6.3509 - val_acc: 0.0000e+00\n",
      "Epoch 25/150\n",
      "30000/30000 [==============================] - 8s 273us/step - loss: 78.8634 - mean_absolute_error: 4.7683 - acc: 0.0000e+00 - val_loss: 212.8394 - val_mean_absolute_error: 12.1846 - val_acc: 0.0000e+00\n",
      "Epoch 26/150\n",
      "30000/30000 [==============================] - 8s 261us/step - loss: 79.5054 - mean_absolute_error: 4.8274 - acc: 0.0000e+00 - val_loss: 64.2876 - val_mean_absolute_error: 3.6569 - val_acc: 0.0000e+00\n",
      "Epoch 27/150\n",
      "30000/30000 [==============================] - 8s 276us/step - loss: 78.4791 - mean_absolute_error: 4.6767 - acc: 0.0000e+00 - val_loss: 110.3586 - val_mean_absolute_error: 7.2675 - val_acc: 0.0000e+00\n",
      "Epoch 28/150\n",
      "30000/30000 [==============================] - 8s 266us/step - loss: 79.5401 - mean_absolute_error: 4.8442 - acc: 0.0000e+00 - val_loss: 70.7365 - val_mean_absolute_error: 4.3549 - val_acc: 0.0000e+00\n",
      "Epoch 29/150\n",
      "30000/30000 [==============================] - 8s 276us/step - loss: 78.4508 - mean_absolute_error: 4.7317 - acc: 0.0000e+00 - val_loss: 95.4201 - val_mean_absolute_error: 6.3295 - val_acc: 0.0000e+00\n",
      "Epoch 30/150\n",
      "30000/30000 [==============================] - 8s 269us/step - loss: 78.7815 - mean_absolute_error: 4.7471 - acc: 0.0000e+00 - val_loss: 76.1135 - val_mean_absolute_error: 4.9075 - val_acc: 0.0000e+00\n",
      "Epoch 31/150\n",
      "30000/30000 [==============================] - 8s 261us/step - loss: 78.1723 - mean_absolute_error: 4.7135 - acc: 0.0000e+00 - val_loss: 74.8933 - val_mean_absolute_error: 4.5889 - val_acc: 0.0000e+00\n",
      "Epoch 32/150\n",
      "30000/30000 [==============================] - 8s 270us/step - loss: 77.0046 - mean_absolute_error: 4.6920 - acc: 0.0000e+00 - val_loss: 106.1400 - val_mean_absolute_error: 7.4222 - val_acc: 0.0000e+00\n",
      "Epoch 33/150\n",
      "30000/30000 [==============================] - 8s 269us/step - loss: 77.1581 - mean_absolute_error: 4.7148 - acc: 0.0000e+00 - val_loss: 104.6349 - val_mean_absolute_error: 7.3797 - val_acc: 0.0000e+00\n",
      "Epoch 34/150\n",
      "30000/30000 [==============================] - 8s 277us/step - loss: 78.5676 - mean_absolute_error: 4.8069 - acc: 0.0000e+00 - val_loss: 106.1940 - val_mean_absolute_error: 7.5763 - val_acc: 0.0000e+00\n",
      "Epoch 35/150\n",
      "30000/30000 [==============================] - 8s 267us/step - loss: 76.5142 - mean_absolute_error: 4.6680 - acc: 0.0000e+00 - val_loss: 72.5586 - val_mean_absolute_error: 4.7016 - val_acc: 0.0000e+00\n",
      "Epoch 36/150\n",
      "30000/30000 [==============================] - 8s 263us/step - loss: 77.4248 - mean_absolute_error: 4.7493 - acc: 0.0000e+00 - val_loss: 65.0275 - val_mean_absolute_error: 3.6586 - val_acc: 0.0000e+00\n",
      "Epoch 37/150\n",
      "30000/30000 [==============================] - 8s 272us/step - loss: 75.9612 - mean_absolute_error: 4.6469 - acc: 0.0000e+00 - val_loss: 190.9500 - val_mean_absolute_error: 11.8628 - val_acc: 0.0000e+00\n",
      "Epoch 38/150\n",
      "30000/30000 [==============================] - 8s 267us/step - loss: 75.5657 - mean_absolute_error: 4.6406 - acc: 0.0000e+00 - val_loss: 110.6465 - val_mean_absolute_error: 7.2749 - val_acc: 0.0000e+00\n"
     ]
    },
    {
     "name": "stdout",
     "output_type": "stream",
     "text": [
      "Epoch 39/150\n",
      "30000/30000 [==============================] - 8s 270us/step - loss: 76.8173 - mean_absolute_error: 4.7981 - acc: 0.0000e+00 - val_loss: 93.2393 - val_mean_absolute_error: 6.0055 - val_acc: 0.0000e+00\n",
      "Epoch 40/150\n",
      "30000/30000 [==============================] - 8s 266us/step - loss: 75.2787 - mean_absolute_error: 4.6178 - acc: 0.0000e+00 - val_loss: 97.1435 - val_mean_absolute_error: 6.4246 - val_acc: 0.0000e+00\n",
      "Epoch 41/150\n",
      "30000/30000 [==============================] - 8s 268us/step - loss: 75.2690 - mean_absolute_error: 4.6054 - acc: 0.0000e+00 - val_loss: 177.3806 - val_mean_absolute_error: 11.3166 - val_acc: 0.0000e+00\n",
      "Epoch 42/150\n",
      "30000/30000 [==============================] - 8s 271us/step - loss: 76.0563 - mean_absolute_error: 4.7401 - acc: 0.0000e+00 - val_loss: 177.5556 - val_mean_absolute_error: 10.5413 - val_acc: 0.0000e+00\n",
      "Epoch 43/150\n",
      "30000/30000 [==============================] - 8s 272us/step - loss: 75.1227 - mean_absolute_error: 4.6198 - acc: 0.0000e+00 - val_loss: 73.4492 - val_mean_absolute_error: 4.6127 - val_acc: 0.0000e+00\n",
      "Epoch 44/150\n",
      "30000/30000 [==============================] - 8s 276us/step - loss: 74.5150 - mean_absolute_error: 4.5677 - acc: 0.0000e+00 - val_loss: 79.9697 - val_mean_absolute_error: 4.9408 - val_acc: 0.0000e+00\n",
      "Epoch 45/150\n",
      "30000/30000 [==============================] - 8s 257us/step - loss: 74.9693 - mean_absolute_error: 4.6308 - acc: 0.0000e+00 - val_loss: 66.4842 - val_mean_absolute_error: 3.8898 - val_acc: 0.0000e+00\n",
      "Epoch 46/150\n",
      "30000/30000 [==============================] - 8s 260us/step - loss: 75.1132 - mean_absolute_error: 4.6637 - acc: 0.0000e+00 - val_loss: 138.6982 - val_mean_absolute_error: 8.8150 - val_acc: 0.0000e+00\n",
      "Epoch 47/150\n",
      "30000/30000 [==============================] - 8s 272us/step - loss: 73.0538 - mean_absolute_error: 4.4996 - acc: 0.0000e+00 - val_loss: 67.4791 - val_mean_absolute_error: 3.9755 - val_acc: 0.0000e+00\n",
      "Epoch 48/150\n",
      "30000/30000 [==============================] - 8s 269us/step - loss: 74.9600 - mean_absolute_error: 4.6789 - acc: 0.0000e+00 - val_loss: 66.9427 - val_mean_absolute_error: 3.9729 - val_acc: 0.0000e+00\n",
      "Epoch 49/150\n",
      "30000/30000 [==============================] - 8s 270us/step - loss: 73.0150 - mean_absolute_error: 4.6084 - acc: 0.0000e+00 - val_loss: 71.3470 - val_mean_absolute_error: 3.8670 - val_acc: 0.0000e+00\n",
      "Epoch 50/150\n",
      "30000/30000 [==============================] - 8s 266us/step - loss: 74.0983 - mean_absolute_error: 4.6277 - acc: 0.0000e+00 - val_loss: 73.9594 - val_mean_absolute_error: 4.4855 - val_acc: 0.0000e+00\n",
      "Epoch 51/150\n",
      "30000/30000 [==============================] - 8s 274us/step - loss: 74.0143 - mean_absolute_error: 4.6568 - acc: 0.0000e+00 - val_loss: 88.8981 - val_mean_absolute_error: 6.2322 - val_acc: 0.0000e+00\n",
      "Epoch 52/150\n",
      "30000/30000 [==============================] - 8s 260us/step - loss: 74.2988 - mean_absolute_error: 4.6278 - acc: 0.0000e+00 - val_loss: 93.3805 - val_mean_absolute_error: 6.1644 - val_acc: 0.0000e+00\n",
      "Epoch 53/150\n",
      "30000/30000 [==============================] - 8s 267us/step - loss: 72.5079 - mean_absolute_error: 4.5774 - acc: 0.0000e+00 - val_loss: 77.1641 - val_mean_absolute_error: 4.6533 - val_acc: 0.0000e+00\n",
      "Epoch 54/150\n",
      "30000/30000 [==============================] - 8s 262us/step - loss: 72.5005 - mean_absolute_error: 4.5662 - acc: 0.0000e+00 - val_loss: 69.0589 - val_mean_absolute_error: 4.1141 - val_acc: 0.0000e+00\n",
      "Epoch 55/150\n",
      "30000/30000 [==============================] - 8s 269us/step - loss: 71.8045 - mean_absolute_error: 4.5391 - acc: 0.0000e+00 - val_loss: 82.0629 - val_mean_absolute_error: 5.3836 - val_acc: 0.0000e+00\n",
      "Epoch 56/150\n",
      "30000/30000 [==============================] - 8s 273us/step - loss: 72.6670 - mean_absolute_error: 4.6391 - acc: 0.0000e+00 - val_loss: 68.6524 - val_mean_absolute_error: 3.9881 - val_acc: 0.0000e+00\n",
      "Epoch 57/150\n",
      "30000/30000 [==============================] - 8s 260us/step - loss: 70.8714 - mean_absolute_error: 4.4456 - acc: 0.0000e+00 - val_loss: 99.8768 - val_mean_absolute_error: 6.5039 - val_acc: 0.0000e+00\n",
      "Epoch 58/150\n",
      "30000/30000 [==============================] - 8s 270us/step - loss: 73.9707 - mean_absolute_error: 4.6911 - acc: 0.0000e+00 - val_loss: 69.4014 - val_mean_absolute_error: 4.3003 - val_acc: 0.0000e+00\n",
      "Epoch 59/150\n",
      "30000/30000 [==============================] - 8s 267us/step - loss: 70.7881 - mean_absolute_error: 4.4791 - acc: 0.0000e+00 - val_loss: 444.5803 - val_mean_absolute_error: 19.3970 - val_acc: 0.0000e+00\n",
      "Epoch 60/150\n",
      "30000/30000 [==============================] - 8s 276us/step - loss: 69.5407 - mean_absolute_error: 4.3697 - acc: 0.0000e+00 - val_loss: 103.3827 - val_mean_absolute_error: 6.7727 - val_acc: 0.0000e+00\n",
      "Epoch 61/150\n",
      "30000/30000 [==============================] - 8s 257us/step - loss: 71.5545 - mean_absolute_error: 4.6370 - acc: 0.0000e+00 - val_loss: 157.2872 - val_mean_absolute_error: 10.2757 - val_acc: 0.0000e+00\n",
      "Epoch 62/150\n",
      "30000/30000 [==============================] - 8s 266us/step - loss: 71.0141 - mean_absolute_error: 4.5769 - acc: 0.0000e+00 - val_loss: 81.1329 - val_mean_absolute_error: 5.1105 - val_acc: 0.0000e+00\n",
      "Epoch 63/150\n",
      "30000/30000 [==============================] - 8s 269us/step - loss: 69.8443 - mean_absolute_error: 4.4822 - acc: 0.0000e+00 - val_loss: 77.7477 - val_mean_absolute_error: 4.8015 - val_acc: 0.0000e+00\n",
      "Epoch 64/150\n",
      "30000/30000 [==============================] - 8s 270us/step - loss: 70.7527 - mean_absolute_error: 4.5725 - acc: 0.0000e+00 - val_loss: 85.7309 - val_mean_absolute_error: 5.8516 - val_acc: 0.0000e+00\n",
      "Epoch 65/150\n",
      "30000/30000 [==============================] - 8s 271us/step - loss: 68.8853 - mean_absolute_error: 4.4323 - acc: 0.0000e+00 - val_loss: 199.8299 - val_mean_absolute_error: 12.0898 - val_acc: 0.0000e+00\n",
      "Epoch 66/150\n",
      "30000/30000 [==============================] - 8s 271us/step - loss: 71.0654 - mean_absolute_error: 4.5934 - acc: 0.0000e+00 - val_loss: 81.1577 - val_mean_absolute_error: 4.9989 - val_acc: 0.0000e+00\n",
      "Epoch 67/150\n",
      "30000/30000 [==============================] - 8s 266us/step - loss: 68.6654 - mean_absolute_error: 4.4738 - acc: 0.0000e+00 - val_loss: 79.5604 - val_mean_absolute_error: 4.9388 - val_acc: 0.0000e+00\n",
      "Epoch 68/150\n",
      "30000/30000 [==============================] - 8s 265us/step - loss: 69.3133 - mean_absolute_error: 4.5145 - acc: 0.0000e+00 - val_loss: 99.6501 - val_mean_absolute_error: 6.7903 - val_acc: 0.0000e+00\n",
      "Epoch 69/150\n",
      "30000/30000 [==============================] - 8s 271us/step - loss: 69.1249 - mean_absolute_error: 4.5785 - acc: 0.0000e+00 - val_loss: 148.9533 - val_mean_absolute_error: 9.9196 - val_acc: 0.0000e+00\n",
      "Epoch 70/150\n",
      "30000/30000 [==============================] - 8s 269us/step - loss: 68.4378 - mean_absolute_error: 4.5406 - acc: 0.0000e+00 - val_loss: 83.4275 - val_mean_absolute_error: 5.5809 - val_acc: 0.0000e+00\n",
      "Epoch 71/150\n",
      "30000/30000 [==============================] - 8s 279us/step - loss: 66.7751 - mean_absolute_error: 4.4214 - acc: 0.0000e+00 - val_loss: 67.0306 - val_mean_absolute_error: 3.9094 - val_acc: 0.0000e+00\n",
      "Epoch 72/150\n",
      "30000/30000 [==============================] - 8s 270us/step - loss: 68.6763 - mean_absolute_error: 4.5667 - acc: 0.0000e+00 - val_loss: 211.3154 - val_mean_absolute_error: 12.6360 - val_acc: 0.0000e+00\n",
      "Epoch 73/150\n",
      "30000/30000 [==============================] - 8s 273us/step - loss: 67.2782 - mean_absolute_error: 4.5083 - acc: 0.0000e+00 - val_loss: 108.0040 - val_mean_absolute_error: 7.0043 - val_acc: 0.0000e+00\n",
      "Epoch 74/150\n",
      "30000/30000 [==============================] - 8s 272us/step - loss: 66.5886 - mean_absolute_error: 4.4634 - acc: 0.0000e+00 - val_loss: 77.1425 - val_mean_absolute_error: 4.7553 - val_acc: 0.0000e+00\n",
      "Epoch 75/150\n",
      "30000/30000 [==============================] - 8s 274us/step - loss: 66.4767 - mean_absolute_error: 4.4036 - acc: 0.0000e+00 - val_loss: 168.7578 - val_mean_absolute_error: 10.8495 - val_acc: 0.0000e+00\n",
      "Epoch 76/150\n",
      "30000/30000 [==============================] - 8s 269us/step - loss: 67.2714 - mean_absolute_error: 4.5431 - acc: 0.0000e+00 - val_loss: 97.6523 - val_mean_absolute_error: 6.3310 - val_acc: 0.0000e+00\n",
      "Epoch 77/150\n"
     ]
    },
    {
     "name": "stdout",
     "output_type": "stream",
     "text": [
      "30000/30000 [==============================] - 8s 268us/step - loss: 66.9407 - mean_absolute_error: 4.5241 - acc: 0.0000e+00 - val_loss: 249.3017 - val_mean_absolute_error: 13.5075 - val_acc: 0.0000e+00\n",
      "Epoch 78/150\n",
      "30000/30000 [==============================] - 8s 265us/step - loss: 64.8384 - mean_absolute_error: 4.3760 - acc: 0.0000e+00 - val_loss: 128.0008 - val_mean_absolute_error: 8.7322 - val_acc: 0.0000e+00\n",
      "Epoch 79/150\n",
      "30000/30000 [==============================] - 8s 268us/step - loss: 66.0273 - mean_absolute_error: 4.4927 - acc: 0.0000e+00 - val_loss: 84.4498 - val_mean_absolute_error: 5.3790 - val_acc: 0.0000e+00\n",
      "Epoch 80/150\n",
      "30000/30000 [==============================] - 8s 268us/step - loss: 65.5795 - mean_absolute_error: 4.4581 - acc: 0.0000e+00 - val_loss: 131.3011 - val_mean_absolute_error: 8.9156 - val_acc: 0.0000e+00\n",
      "Epoch 81/150\n",
      "30000/30000 [==============================] - 8s 272us/step - loss: 64.0603 - mean_absolute_error: 4.3401 - acc: 0.0000e+00 - val_loss: 95.8515 - val_mean_absolute_error: 6.1060 - val_acc: 0.0000e+00\n",
      "Epoch 82/150\n",
      "30000/30000 [==============================] - 8s 266us/step - loss: 64.3970 - mean_absolute_error: 4.4581 - acc: 0.0000e+00 - val_loss: 96.9891 - val_mean_absolute_error: 6.7326 - val_acc: 0.0000e+00\n",
      "Epoch 83/150\n",
      "30000/30000 [==============================] - 8s 269us/step - loss: 64.9684 - mean_absolute_error: 4.4505 - acc: 0.0000e+00 - val_loss: 331.9676 - val_mean_absolute_error: 16.2069 - val_acc: 0.0000e+00\n",
      "Epoch 84/150\n",
      "30000/30000 [==============================] - 8s 272us/step - loss: 64.6417 - mean_absolute_error: 4.4587 - acc: 0.0000e+00 - val_loss: 71.1635 - val_mean_absolute_error: 4.2162 - val_acc: 0.0000e+00\n",
      "Epoch 85/150\n",
      "30000/30000 [==============================] - 8s 268us/step - loss: 63.7409 - mean_absolute_error: 4.4479 - acc: 0.0000e+00 - val_loss: 78.4156 - val_mean_absolute_error: 4.6537 - val_acc: 0.0000e+00\n",
      "Epoch 86/150\n",
      "30000/30000 [==============================] - 8s 275us/step - loss: 63.2178 - mean_absolute_error: 4.3730 - acc: 0.0000e+00 - val_loss: 254.3022 - val_mean_absolute_error: 13.6096 - val_acc: 0.0000e+00\n",
      "Epoch 87/150\n",
      "30000/30000 [==============================] - 8s 265us/step - loss: 64.3752 - mean_absolute_error: 4.5275 - acc: 0.0000e+00 - val_loss: 144.7900 - val_mean_absolute_error: 9.4394 - val_acc: 0.0000e+00\n",
      "Epoch 88/150\n",
      "30000/30000 [==============================] - 8s 272us/step - loss: 62.8181 - mean_absolute_error: 4.4195 - acc: 0.0000e+00 - val_loss: 69.0958 - val_mean_absolute_error: 4.0227 - val_acc: 0.0000e+00\n",
      "Epoch 89/150\n",
      "30000/30000 [==============================] - 8s 269us/step - loss: 61.1518 - mean_absolute_error: 4.3230 - acc: 0.0000e+00 - val_loss: 72.8581 - val_mean_absolute_error: 4.4625 - val_acc: 0.0000e+00\n",
      "Epoch 90/150\n",
      "30000/30000 [==============================] - 8s 273us/step - loss: 64.7011 - mean_absolute_error: 4.5674 - acc: 0.0000e+00 - val_loss: 224.6707 - val_mean_absolute_error: 13.0593 - val_acc: 0.0000e+00\n",
      "Epoch 91/150\n",
      "30000/30000 [==============================] - 8s 275us/step - loss: 61.1445 - mean_absolute_error: 4.3282 - acc: 0.0000e+00 - val_loss: 76.7688 - val_mean_absolute_error: 4.6890 - val_acc: 0.0000e+00\n",
      "Epoch 92/150\n",
      "30000/30000 [==============================] - 8s 266us/step - loss: 61.9306 - mean_absolute_error: 4.4437 - acc: 0.0000e+00 - val_loss: 133.1715 - val_mean_absolute_error: 8.8967 - val_acc: 0.0000e+00\n",
      "Epoch 93/150\n",
      "30000/30000 [==============================] - 8s 264us/step - loss: 61.1859 - mean_absolute_error: 4.3537 - acc: 0.0000e+00 - val_loss: 71.7734 - val_mean_absolute_error: 4.2268 - val_acc: 0.0000e+00\n",
      "Epoch 94/150\n",
      "30000/30000 [==============================] - 8s 272us/step - loss: 60.5409 - mean_absolute_error: 4.3764 - acc: 0.0000e+00 - val_loss: 76.0449 - val_mean_absolute_error: 4.7853 - val_acc: 0.0000e+00\n",
      "Epoch 95/150\n",
      "30000/30000 [==============================] - 8s 273us/step - loss: 62.4223 - mean_absolute_error: 4.4929 - acc: 0.0000e+00 - val_loss: 78.0111 - val_mean_absolute_error: 4.6785 - val_acc: 0.0000e+00\n",
      "Epoch 96/150\n",
      "30000/30000 [==============================] - 8s 264us/step - loss: 60.0763 - mean_absolute_error: 4.3441 - acc: 0.0000e+00 - val_loss: 84.8984 - val_mean_absolute_error: 5.2053 - val_acc: 0.0000e+00\n",
      "Epoch 97/150\n",
      "30000/30000 [==============================] - 8s 272us/step - loss: 59.7044 - mean_absolute_error: 4.3678 - acc: 0.0000e+00 - val_loss: 383.5039 - val_mean_absolute_error: 17.6697 - val_acc: 0.0000e+00\n",
      "Epoch 98/150\n",
      "30000/30000 [==============================] - 8s 274us/step - loss: 60.4864 - mean_absolute_error: 4.4702 - acc: 0.0000e+00 - val_loss: 186.6968 - val_mean_absolute_error: 10.9696 - val_acc: 0.0000e+00\n",
      "Epoch 99/150\n",
      "30000/30000 [==============================] - 8s 267us/step - loss: 59.6147 - mean_absolute_error: 4.3452 - acc: 0.0000e+00 - val_loss: 72.5017 - val_mean_absolute_error: 4.1963 - val_acc: 0.0000e+00\n",
      "Epoch 100/150\n",
      "30000/30000 [==============================] - 8s 265us/step - loss: 59.5072 - mean_absolute_error: 4.4114 - acc: 0.0000e+00 - val_loss: 74.6073 - val_mean_absolute_error: 4.4067 - val_acc: 0.0000e+00\n",
      "Epoch 101/150\n",
      "30000/30000 [==============================] - 8s 271us/step - loss: 57.6482 - mean_absolute_error: 4.2461 - acc: 0.0000e+00 - val_loss: 210.6445 - val_mean_absolute_error: 12.4721 - val_acc: 0.0000e+00\n",
      "Epoch 102/150\n",
      "30000/30000 [==============================] - 8s 262us/step - loss: 58.2328 - mean_absolute_error: 4.3862 - acc: 0.0000e+00 - val_loss: 96.4080 - val_mean_absolute_error: 6.1198 - val_acc: 0.0000e+00\n",
      "Epoch 103/150\n",
      "30000/30000 [==============================] - 8s 256us/step - loss: 58.9170 - mean_absolute_error: 4.3798 - acc: 0.0000e+00 - val_loss: 84.6703 - val_mean_absolute_error: 5.3073 - val_acc: 0.0000e+00\n",
      "Epoch 104/150\n",
      "30000/30000 [==============================] - 8s 257us/step - loss: 57.7244 - mean_absolute_error: 4.3560 - acc: 0.0000e+00 - val_loss: 74.2151 - val_mean_absolute_error: 4.4842 - val_acc: 0.0000e+00\n",
      "Epoch 105/150\n",
      "30000/30000 [==============================] - 8s 265us/step - loss: 58.2655 - mean_absolute_error: 4.3947 - acc: 0.0000e+00 - val_loss: 73.2546 - val_mean_absolute_error: 4.4171 - val_acc: 0.0000e+00\n",
      "Epoch 106/150\n",
      "30000/30000 [==============================] - 8s 262us/step - loss: 56.5040 - mean_absolute_error: 4.3367 - acc: 0.0000e+00 - val_loss: 180.6776 - val_mean_absolute_error: 11.1788 - val_acc: 0.0000e+00\n",
      "Epoch 107/150\n",
      "30000/30000 [==============================] - 8s 272us/step - loss: 56.7524 - mean_absolute_error: 4.3431 - acc: 0.0000e+00 - val_loss: 191.0615 - val_mean_absolute_error: 11.6083 - val_acc: 0.0000e+00\n",
      "Epoch 108/150\n",
      "30000/30000 [==============================] - 8s 255us/step - loss: 56.4547 - mean_absolute_error: 4.4039 - acc: 0.0000e+00 - val_loss: 276.2619 - val_mean_absolute_error: 14.2596 - val_acc: 0.0000e+00\n",
      "Epoch 109/150\n",
      "30000/30000 [==============================] - 8s 265us/step - loss: 55.8793 - mean_absolute_error: 4.3545 - acc: 0.0000e+00 - val_loss: 81.7997 - val_mean_absolute_error: 5.0417 - val_acc: 0.0000e+00\n",
      "Epoch 110/150\n",
      "30000/30000 [==============================] - 8s 269us/step - loss: 55.8196 - mean_absolute_error: 4.3681 - acc: 0.0000e+00 - val_loss: 73.7794 - val_mean_absolute_error: 4.3974 - val_acc: 0.0000e+00\n",
      "Epoch 111/150\n",
      "30000/30000 [==============================] - 8s 266us/step - loss: 54.8537 - mean_absolute_error: 4.3222 - acc: 0.0000e+00 - val_loss: 106.8389 - val_mean_absolute_error: 6.7998 - val_acc: 0.0000e+00\n",
      "Epoch 112/150\n",
      "30000/30000 [==============================] - 8s 268us/step - loss: 54.0746 - mean_absolute_error: 4.3012 - acc: 0.0000e+00 - val_loss: 93.0663 - val_mean_absolute_error: 6.0144 - val_acc: 0.0000e+00\n",
      "Epoch 113/150\n",
      "30000/30000 [==============================] - 8s 265us/step - loss: 56.4055 - mean_absolute_error: 4.4773 - acc: 0.0000e+00 - val_loss: 80.7145 - val_mean_absolute_error: 5.0314 - val_acc: 0.0000e+00\n",
      "Epoch 114/150\n",
      "30000/30000 [==============================] - 8s 263us/step - loss: 53.1773 - mean_absolute_error: 4.2880 - acc: 0.0000e+00 - val_loss: 95.8637 - val_mean_absolute_error: 6.0943 - val_acc: 0.0000e+00\n",
      "Epoch 115/150\n"
     ]
    },
    {
     "name": "stdout",
     "output_type": "stream",
     "text": [
      "30000/30000 [==============================] - 8s 269us/step - loss: 53.6629 - mean_absolute_error: 4.3100 - acc: 0.0000e+00 - val_loss: 127.0889 - val_mean_absolute_error: 8.0310 - val_acc: 0.0000e+00\n",
      "Epoch 116/150\n",
      "30000/30000 [==============================] - 8s 274us/step - loss: 53.3365 - mean_absolute_error: 4.2836 - acc: 0.0000e+00 - val_loss: 252.7172 - val_mean_absolute_error: 13.9169 - val_acc: 0.0000e+00\n",
      "Epoch 117/150\n",
      "30000/30000 [==============================] - 8s 269us/step - loss: 53.6928 - mean_absolute_error: 4.3422 - acc: 0.0000e+00 - val_loss: 88.4470 - val_mean_absolute_error: 5.8343 - val_acc: 0.0000e+00\n",
      "Epoch 118/150\n",
      "30000/30000 [==============================] - 8s 267us/step - loss: 53.5851 - mean_absolute_error: 4.3727 - acc: 0.0000e+00 - val_loss: 153.0903 - val_mean_absolute_error: 9.7643 - val_acc: 0.0000e+00\n",
      "Epoch 119/150\n",
      "30000/30000 [==============================] - 8s 266us/step - loss: 51.8696 - mean_absolute_error: 4.2466 - acc: 0.0000e+00 - val_loss: 287.7374 - val_mean_absolute_error: 14.7137 - val_acc: 0.0000e+00\n",
      "Epoch 120/150\n",
      "30000/30000 [==============================] - 8s 262us/step - loss: 51.4187 - mean_absolute_error: 4.3193 - acc: 0.0000e+00 - val_loss: 76.8759 - val_mean_absolute_error: 4.4875 - val_acc: 0.0000e+00\n",
      "Epoch 121/150\n",
      "30000/30000 [==============================] - 8s 266us/step - loss: 53.6147 - mean_absolute_error: 4.4395 - acc: 0.0000e+00 - val_loss: 90.2687 - val_mean_absolute_error: 5.9532 - val_acc: 0.0000e+00\n",
      "Epoch 122/150\n",
      "30000/30000 [==============================] - 8s 259us/step - loss: 51.1121 - mean_absolute_error: 4.3252 - acc: 0.0000e+00 - val_loss: 100.4591 - val_mean_absolute_error: 6.4085 - val_acc: 0.0000e+00\n",
      "Epoch 123/150\n",
      "30000/30000 [==============================] - 8s 266us/step - loss: 51.4851 - mean_absolute_error: 4.3158 - acc: 0.0000e+00 - val_loss: 101.7327 - val_mean_absolute_error: 6.8460 - val_acc: 0.0000e+00\n",
      "Epoch 124/150\n",
      "30000/30000 [==============================] - 8s 261us/step - loss: 50.7709 - mean_absolute_error: 4.3263 - acc: 0.0000e+00 - val_loss: 76.3205 - val_mean_absolute_error: 4.6042 - val_acc: 0.0000e+00\n",
      "Epoch 125/150\n",
      "30000/30000 [==============================] - 8s 265us/step - loss: 49.8510 - mean_absolute_error: 4.2862 - acc: 0.0000e+00 - val_loss: 77.4601 - val_mean_absolute_error: 4.7258 - val_acc: 0.0000e+00\n",
      "Epoch 126/150\n",
      "30000/30000 [==============================] - 8s 268us/step - loss: 50.1639 - mean_absolute_error: 4.3029 - acc: 0.0000e+00 - val_loss: 85.9980 - val_mean_absolute_error: 5.3727 - val_acc: 0.0000e+00\n",
      "Epoch 127/150\n",
      "30000/30000 [==============================] - 8s 264us/step - loss: 50.3230 - mean_absolute_error: 4.2911 - acc: 0.0000e+00 - val_loss: 79.4642 - val_mean_absolute_error: 4.7418 - val_acc: 0.0000e+00\n",
      "Epoch 128/150\n",
      "30000/30000 [==============================] - 8s 273us/step - loss: 50.1444 - mean_absolute_error: 4.3513 - acc: 0.0000e+00 - val_loss: 230.8519 - val_mean_absolute_error: 12.6537 - val_acc: 0.0000e+00\n",
      "Epoch 129/150\n",
      "30000/30000 [==============================] - 8s 266us/step - loss: 48.6580 - mean_absolute_error: 4.2686 - acc: 0.0000e+00 - val_loss: 98.2639 - val_mean_absolute_error: 6.3691 - val_acc: 0.0000e+00\n",
      "Epoch 130/150\n",
      "30000/30000 [==============================] - 8s 272us/step - loss: 48.3994 - mean_absolute_error: 4.2862 - acc: 0.0000e+00 - val_loss: 317.5295 - val_mean_absolute_error: 15.5906 - val_acc: 0.0000e+00\n",
      "Epoch 131/150\n",
      "30000/30000 [==============================] - 8s 268us/step - loss: 48.3951 - mean_absolute_error: 4.2911 - acc: 0.0000e+00 - val_loss: 192.6792 - val_mean_absolute_error: 11.0963 - val_acc: 0.0000e+00\n",
      "Epoch 132/150\n",
      "30000/30000 [==============================] - 8s 268us/step - loss: 48.3552 - mean_absolute_error: 4.2408 - acc: 0.0000e+00 - val_loss: 87.3273 - val_mean_absolute_error: 5.3332 - val_acc: 0.0000e+00\n",
      "Epoch 133/150\n",
      "30000/30000 [==============================] - 8s 264us/step - loss: 47.5297 - mean_absolute_error: 4.2248 - acc: 0.0000e+00 - val_loss: 98.0159 - val_mean_absolute_error: 6.0668 - val_acc: 0.0000e+00\n",
      "Epoch 134/150\n",
      "30000/30000 [==============================] - 8s 269us/step - loss: 48.9506 - mean_absolute_error: 4.3523 - acc: 0.0000e+00 - val_loss: 78.3013 - val_mean_absolute_error: 4.6576 - val_acc: 0.0000e+00\n",
      "Epoch 135/150\n",
      "30000/30000 [==============================] - 8s 276us/step - loss: 47.1106 - mean_absolute_error: 4.2674 - acc: 0.0000e+00 - val_loss: 154.7604 - val_mean_absolute_error: 9.3359 - val_acc: 0.0000e+00\n",
      "Epoch 136/150\n",
      "30000/30000 [==============================] - 8s 264us/step - loss: 46.4104 - mean_absolute_error: 4.2303 - acc: 0.0000e+00 - val_loss: 87.3708 - val_mean_absolute_error: 5.5424 - val_acc: 0.0000e+00\n",
      "Epoch 137/150\n",
      "30000/30000 [==============================] - 8s 251us/step - loss: 45.4888 - mean_absolute_error: 4.1954 - acc: 0.0000e+00 - val_loss: 92.0814 - val_mean_absolute_error: 5.5572 - val_acc: 0.0000e+00\n",
      "Epoch 138/150\n",
      "30000/30000 [==============================] - 7s 250us/step - loss: 46.7133 - mean_absolute_error: 4.2867 - acc: 0.0000e+00 - val_loss: 82.5364 - val_mean_absolute_error: 4.8896 - val_acc: 0.0000e+00\n",
      "Epoch 139/150\n",
      "30000/30000 [==============================] - 8s 276us/step - loss: 45.3407 - mean_absolute_error: 4.1723 - acc: 0.0000e+00 - val_loss: 78.1471 - val_mean_absolute_error: 4.6007 - val_acc: 0.0000e+00\n",
      "Epoch 140/150\n",
      "30000/30000 [==============================] - 8s 271us/step - loss: 45.0170 - mean_absolute_error: 4.2437 - acc: 0.0000e+00 - val_loss: 159.7487 - val_mean_absolute_error: 10.0657 - val_acc: 0.0000e+00\n",
      "Epoch 141/150\n",
      "30000/30000 [==============================] - 8s 272us/step - loss: 45.5259 - mean_absolute_error: 4.3070 - acc: 0.0000e+00 - val_loss: 200.1487 - val_mean_absolute_error: 11.2751 - val_acc: 0.0000e+00\n",
      "Epoch 142/150\n",
      "30000/30000 [==============================] - 8s 280us/step - loss: 43.4831 - mean_absolute_error: 4.1621 - acc: 0.0000e+00 - val_loss: 148.0562 - val_mean_absolute_error: 9.0262 - val_acc: 0.0000e+00\n",
      "Epoch 143/150\n",
      "30000/30000 [==============================] - 8s 279us/step - loss: 44.9782 - mean_absolute_error: 4.2809 - acc: 0.0000e+00 - val_loss: 191.5256 - val_mean_absolute_error: 10.9910 - val_acc: 0.0000e+00\n",
      "Epoch 144/150\n",
      "30000/30000 [==============================] - 8s 268us/step - loss: 44.0947 - mean_absolute_error: 4.1931 - acc: 0.0000e+00 - val_loss: 156.6328 - val_mean_absolute_error: 9.3857 - val_acc: 0.0000e+00\n",
      "Epoch 145/150\n",
      "30000/30000 [==============================] - 8s 274us/step - loss: 43.7072 - mean_absolute_error: 4.2024 - acc: 0.0000e+00 - val_loss: 114.2570 - val_mean_absolute_error: 7.2060 - val_acc: 0.0000e+00\n",
      "Epoch 146/150\n",
      "30000/30000 [==============================] - 8s 261us/step - loss: 43.8955 - mean_absolute_error: 4.2602 - acc: 0.0000e+00 - val_loss: 129.0911 - val_mean_absolute_error: 8.0768 - val_acc: 0.0000e+00\n",
      "Epoch 147/150\n",
      "30000/30000 [==============================] - 8s 271us/step - loss: 42.4191 - mean_absolute_error: 4.1828 - acc: 0.0000e+00 - val_loss: 83.9690 - val_mean_absolute_error: 5.0737 - val_acc: 0.0000e+00\n",
      "Epoch 148/150\n",
      "30000/30000 [==============================] - 8s 258us/step - loss: 43.5937 - mean_absolute_error: 4.2831 - acc: 0.0000e+00 - val_loss: 85.1218 - val_mean_absolute_error: 5.1899 - val_acc: 0.0000e+00\n",
      "Epoch 149/150\n",
      "30000/30000 [==============================] - 8s 263us/step - loss: 42.2793 - mean_absolute_error: 4.1669 - acc: 0.0000e+00 - val_loss: 90.0837 - val_mean_absolute_error: 5.4932 - val_acc: 0.0000e+00\n",
      "Epoch 150/150\n",
      "30000/30000 [==============================] - 8s 269us/step - loss: 41.5433 - mean_absolute_error: 4.1631 - acc: 0.0000e+00 - val_loss: 123.3336 - val_mean_absolute_error: 7.7526 - val_acc: 0.0000e+00\n"
     ]
    }
   ],
   "source": [
    "history = model.fit(X_train, Y_train, batch_size=batch_size, epochs=nb_epoch,\n",
    "          verbose=1, validation_data=(X_val, Y_val))"
   ]
  },
  {
   "cell_type": "code",
   "execution_count": 12,
   "metadata": {},
   "outputs": [
    {
     "name": "stdout",
     "output_type": "stream",
     "text": [
      "Test mse: 118.29970294189454\n",
      "Test mae: 7.6898240432739255\n",
      "[183.31557 156.50569 182.06279 181.84099 159.63261 167.41235 165.83784\n",
      " 168.76447 166.07654 162.9435 ]\n",
      "[190.92983196 166.69440063 192.60952252 181.2229181  180.28825056\n",
      " 167.31814011 166.4944938  171.50210414 189.26039313 169.86605625]\n",
      "[ 7.61426494 10.1887091  10.5467326  -0.61807006 20.65563642 -0.0942134\n",
      "  0.65664895  2.73763881 23.18385505  6.92255955]\n"
     ]
    }
   ],
   "source": [
    "score = model.evaluate(X_test, Y_test, verbose=0)\n",
    "print('Test mse:', score[0])\n",
    "print('Test mae:', score[1])\n",
    "Y_test_predicted=model.predict(X_test)\n",
    "print(Y_test_predicted[:10].flatten())\n",
    "print(Y_test[:10])\n",
    "error_prediction=Y_test-Y_test_predicted.flatten()\n",
    "\n",
    "print(error_prediction[:10])"
   ]
  },
  {
   "cell_type": "code",
   "execution_count": 13,
   "metadata": {},
   "outputs": [
    {
     "data": {
      "image/png": "[encoded data removed]",
      "text/plain": [
       "<Figure size 432x288 with 1 Axes>"
      ]
     },
     "metadata": {},
     "output_type": "display_data"
    }
   ],
   "source": [
    "plt.plot(history.history['loss'])\n",
    "plt.plot(history.history['val_loss'])\n",
    "plt.title('model error')\n",
    "plt.ylabel('error')\n",
    "plt.xlabel('epoch')\n",
    "plt.legend(['train', 'test'], loc='upper left')\n",
    "plt.show()"
   ]
  },
  {
   "cell_type": "code",
   "execution_count": 14,
   "metadata": {
    "scrolled": true
   },
   "outputs": [],
   "source": [
    "#print(error_prediction)"
   ]
  },
  {
   "cell_type": "code",
   "execution_count": 15,
   "metadata": {
    "scrolled": true
   },
   "outputs": [
    {
     "name": "stderr",
     "output_type": "stream",
     "text": [
      "/home/rgadea3/anaconda3/envs/tensorflow/lib/python3.6/site-packages/matplotlib/axes/_axes.py:6462: UserWarning: The 'normed' kwarg is deprecated, and has been replaced by the 'density' kwarg.\n",
      "  warnings.warn(\"The 'normed' kwarg is deprecated, and has been \"\n"
     ]
    },
    {
     "data": {
      "image/png": "[encoded data removed]",
      "text/plain": [
       "<Figure size 432x288 with 1 Axes>"
      ]
     },
     "metadata": {},
     "output_type": "display_data"
    },
    {
     "name": "stdout",
     "output_type": "stream",
     "text": [
      "(400,)\n",
      "(401,)\n",
      "[[Model]]\n",
      "    Model(gaussian)\n",
      "[[Fit Statistics]]\n",
      "    # fitting method   = leastsq\n",
      "    # function evals   = 41\n",
      "    # data points      = 400\n",
      "    # variables        = 3\n",
      "    chi-square         = 15031.8394\n",
      "    reduced chi-square = 37.8635753\n",
      "    Akaike info crit   = 1456.58452\n",
      "    Bayesian info crit = 1468.55892\n",
      "[[Variables]]\n",
      "    amp:  397.903881 +/- 1.81796505 (0.46%) (init = 1000)\n",
      "    cen:  6.18813618 +/- 0.02865290 (0.46%) (init = 0)\n",
      "    wid:  7.68076700 +/- 0.04052132 (0.53%) (init = 1)\n",
      "[[Correlations]] (unreported correlations are < 0.100)\n",
      "    C(amp, wid) = -0.577\n",
      "\n"
     ]
    },
    {
     "data": {
      "image/png": "[encoded data removed]",
      "text/plain": [
       "<Figure size 432x288 with 1 Axes>"
      ]
     },
     "metadata": {},
     "output_type": "display_data"
    }
   ],
   "source": [
    "\n",
    "n, bins, patches = plt.hist(error_prediction, 400, normed=0, facecolor='green', alpha=0.75)\n",
    "plt.title(\"Histogram with 400 bins\")\n",
    "plt.show()\n",
    "x=bins[:400]\n",
    "y=n\n",
    "print(n.shape)\n",
    "print(bins.shape)\n",
    "from numpy import exp, loadtxt, pi, sqrt, log\n",
    "\n",
    "from lmfit import Model\n",
    "def gaussian(x, amp, cen, wid):\n",
    "    \"\"\"1-d gaussian: gaussian(x, amp, cen, wid)\"\"\"\n",
    "    return amp * exp(-((x-cen)/wid)**2 )\n",
    "\n",
    "\n",
    "gmodel = Model(gaussian)\n",
    "result = gmodel.fit(y, x=x, amp=1000, cen=0, wid=1)\n",
    "\n",
    "print(result.fit_report())\n",
    "\n",
    "plt.plot(x, y, 'bo')\n",
    "plt.plot(x, result.init_fit, 'k--')\n",
    "plt.plot(x, result.best_fit, 'r-')\n",
    "plt.show()\n",
    "\n",
    "\n",
    "\n"
   ]
  },
  {
   "cell_type": "code",
   "execution_count": 16,
   "metadata": {},
   "outputs": [],
   "source": [
    "FWHM=result.params['wid'].value*2*sqrt(log(2))"
   ]
  },
  {
   "cell_type": "code",
   "execution_count": 17,
   "metadata": {},
   "outputs": [
    {
     "name": "stdout",
     "output_type": "stream",
     "text": [
      "12.7893159683895\n"
     ]
    }
   ],
   "source": [
    "print(FWHM)"
   ]
  },
  {
   "cell_type": "code",
   "execution_count": 18,
   "metadata": {},
   "outputs": [
    {
     "name": "stdout",
     "output_type": "stream",
     "text": [
      "[[156.50569]\n",
      " [167.41235]\n",
      " [165.83784]\n",
      " ...\n",
      " [172.28853]\n",
      " [162.2778 ]\n",
      " [165.18834]]\n"
     ]
    },
    {
     "name": "stderr",
     "output_type": "stream",
     "text": [
      "/home/rgadea3/anaconda3/envs/tensorflow/lib/python3.6/site-packages/matplotlib/axes/_axes.py:6462: UserWarning: The 'normed' kwarg is deprecated, and has been replaced by the 'density' kwarg.\n",
      "  warnings.warn(\"The 'normed' kwarg is deprecated, and has been \"\n"
     ]
    },
    {
     "name": "stdout",
     "output_type": "stream",
     "text": [
      "10.179071101556886\n"
     ]
    },
    {
     "data": {
      "image/png": "[encoded data removed]",
      "text/plain": [
       "<Figure size 432x288 with 1 Axes>"
      ]
     },
     "metadata": {},
     "output_type": "display_data"
    }
   ],
   "source": [
    "Y_test_bin0_predicted=model.predict(X_test_bin0)\n",
    "print(Y_test_bin0_predicted)\n",
    "error_prediction_bin0=Y_test_bin0-Y_test_bin0_predicted.flatten()\n",
    "n, bins, patches = plt.hist(error_prediction_bin0, 400, normed=0, facecolor='green', alpha=0.75)\n",
    "\n",
    "x=bins[:400]\n",
    "y=n\n",
    "\n",
    "gmodel = Model(gaussian)\n",
    "result = gmodel.fit(y, x=x, amp=1000, cen=0, wid=1)\n",
    "FWHM_bin0=result.params['wid'].value*2*sqrt(log(2))\n",
    "print(FWHM_bin0)"
   ]
  },
  {
   "cell_type": "code",
   "execution_count": 19,
   "metadata": {},
   "outputs": [
    {
     "name": "stderr",
     "output_type": "stream",
     "text": [
      "/home/rgadea3/anaconda3/envs/tensorflow/lib/python3.6/site-packages/matplotlib/axes/_axes.py:6462: UserWarning: The 'normed' kwarg is deprecated, and has been replaced by the 'density' kwarg.\n",
      "  warnings.warn(\"The 'normed' kwarg is deprecated, and has been \"\n"
     ]
    },
    {
     "name": "stdout",
     "output_type": "stream",
     "text": [
      "8.598026253910064\n"
     ]
    },
    {
     "data": {
      "image/png": "[encoded data removed]",
      "text/plain": [
       "<Figure size 432x288 with 1 Axes>"
      ]
     },
     "metadata": {},
     "output_type": "display_data"
    }
   ],
   "source": [
    "Y_test_bin1_predicted=model.predict(X_test_bin1)\n",
    "#print(Y_test_bin1_predicted)\n",
    "error_prediction_bin1=Y_test_bin1-Y_test_bin1_predicted.flatten()\n",
    "n, bins, patches = plt.hist(error_prediction_bin1, 400, normed=0, facecolor='green', alpha=0.75)\n",
    "\n",
    "x=bins[:400]\n",
    "y=n\n",
    "\n",
    "gmodel = Model(gaussian)\n",
    "result = gmodel.fit(y, x=x, amp=1000, cen=0, wid=1)\n",
    "FWHM_bin1=result.params['wid'].value*2*sqrt(log(2))\n",
    "print(FWHM_bin1)"
   ]
  },
  {
   "cell_type": "code",
   "execution_count": 20,
   "metadata": {
    "scrolled": true
   },
   "outputs": [
    {
     "name": "stderr",
     "output_type": "stream",
     "text": [
      "/home/rgadea3/anaconda3/envs/tensorflow/lib/python3.6/site-packages/matplotlib/axes/_axes.py:6462: UserWarning: The 'normed' kwarg is deprecated, and has been replaced by the 'density' kwarg.\n",
      "  warnings.warn(\"The 'normed' kwarg is deprecated, and has been \"\n"
     ]
    },
    {
     "name": "stdout",
     "output_type": "stream",
     "text": [
      "9.246192116955783\n"
     ]
    },
    {
     "data": {
      "image/png": "[encoded data removed]",
      "text/plain": [
       "<Figure size 432x288 with 1 Axes>"
      ]
     },
     "metadata": {},
     "output_type": "display_data"
    }
   ],
   "source": [
    "Y_test_bin2_predicted=model.predict(X_test_bin2)\n",
    "#print(Y_test_bin2_predicted)\n",
    "error_prediction_bin2=Y_test_bin2-Y_test_bin2_predicted.flatten()\n",
    "n, bins, patches = plt.hist(error_prediction_bin2, 400, normed=0, facecolor='green', alpha=0.75)\n",
    "\n",
    "x=bins[:400]\n",
    "y=n\n",
    "\n",
    "gmodel = Model(gaussian)\n",
    "result = gmodel.fit(y, x=x, amp=1000, cen=0, wid=1)\n",
    "FWHM_bin2=result.params['wid'].value*2*sqrt(log(2))\n",
    "print(FWHM_bin2)"
   ]
  },
  {
   "cell_type": "code",
   "execution_count": 21,
   "metadata": {
    "scrolled": true
   },
   "outputs": [
    {
     "name": "stderr",
     "output_type": "stream",
     "text": [
      "/home/rgadea3/anaconda3/envs/tensorflow/lib/python3.6/site-packages/matplotlib/axes/_axes.py:6462: UserWarning: The 'normed' kwarg is deprecated, and has been replaced by the 'density' kwarg.\n",
      "  warnings.warn(\"The 'normed' kwarg is deprecated, and has been \"\n"
     ]
    },
    {
     "name": "stdout",
     "output_type": "stream",
     "text": [
      "10.045841277062356\n"
     ]
    },
    {
     "data": {
      "image/png": "[encoded data removed]",
      "text/plain": [
       "<Figure size 432x288 with 1 Axes>"
      ]
     },
     "metadata": {},
     "output_type": "display_data"
    }
   ],
   "source": [
    "Y_test_bin3_predicted=model.predict(X_test_bin3)\n",
    "#print(Y_test_bin3_predicted)\n",
    "error_prediction_bin3=Y_test_bin3-Y_test_bin3_predicted.flatten()\n",
    "n, bins, patches = plt.hist(error_prediction_bin3, 400, normed=0, facecolor='green', alpha=0.75)\n",
    "\n",
    "x=bins[:400]\n",
    "y=n\n",
    "\n",
    "gmodel = Model(gaussian)\n",
    "result = gmodel.fit(y, x=x, amp=1000, cen=0, wid=1)\n",
    "FWHM_bin3=result.params['wid'].value*2*sqrt(log(2))\n",
    "print(FWHM_bin3)"
   ]
  },
  {
   "cell_type": "code",
   "execution_count": 22,
   "metadata": {
    "scrolled": true
   },
   "outputs": [
    {
     "name": "stderr",
     "output_type": "stream",
     "text": [
      "/home/rgadea3/anaconda3/envs/tensorflow/lib/python3.6/site-packages/matplotlib/axes/_axes.py:6462: UserWarning: The 'normed' kwarg is deprecated, and has been replaced by the 'density' kwarg.\n",
      "  warnings.warn(\"The 'normed' kwarg is deprecated, and has been \"\n"
     ]
    },
    {
     "name": "stdout",
     "output_type": "stream",
     "text": [
      "12.688385300035064\n",
      "10.045841277062356\n",
      "9.246192116955783\n",
      "8.598026253910064\n",
      "10.179071101556886\n"
     ]
    },
    {
     "data": {
      "image/png": "[encoded data removed]",
      "text/plain": [
       "<Figure size 432x288 with 1 Axes>"
      ]
     },
     "metadata": {},
     "output_type": "display_data"
    }
   ],
   "source": [
    "Y_test_bin4_predicted=model.predict(X_test_bin4)\n",
    "#print(Y_test_bin4_predicted)\n",
    "error_prediction_bin4=Y_test_bin4-Y_test_bin4_predicted.flatten()\n",
    "n, bins, patches = plt.hist(error_prediction_bin4, 400, normed=0, facecolor='green', alpha=0.75)\n",
    "\n",
    "x=bins[:400]\n",
    "y=n\n",
    "\n",
    "gmodel = Model(gaussian)\n",
    "result = gmodel.fit(y, x=x, amp=1000, cen=0, wid=1)\n",
    "FWHM_bin4=result.params['wid'].value*2*sqrt(log(2))\n",
    "print(FWHM_bin4)\n",
    "print(FWHM_bin3)\n",
    "print(FWHM_bin2)\n",
    "print(FWHM_bin1)\n",
    "print(FWHM_bin0)"
   ]
  },
  {
   "cell_type": "code",
   "execution_count": null,
   "metadata": {},
   "outputs": [],
   "source": []
  }
 ],
 "metadata": {
  "anaconda-cloud": {},
  "kernelspec": {
   "display_name": "Python [conda env:tensorflow]",
   "language": "python",
   "name": "conda-env-tensorflow-py"
  },
  "language_info": {
   "codemirror_mode": {
    "name": "ipython",
    "version": 3
   },
   "file_extension": ".py",
   "mimetype": "text/x-python",
   "name": "python",
   "nbconvert_exporter": "python",
   "pygments_lexer": "ipython3",
   "version": "3.6.5"
  },
  "varInspector": {
   "cols": {
    "lenName": 16,
    "lenType": 16,
    "lenVar": 40
   },
   "kernels_config": {
    "python": {
     "delete_cmd_postfix": "",
     "delete_cmd_prefix": "del ",
     "library": "var_list.py",
     "varRefreshCmd": "print(var_dic_list())"
    },
    "r": {
     "delete_cmd_postfix": ") ",
     "delete_cmd_prefix": "rm(",
     "library": "var_list.r",
     "varRefreshCmd": "cat(var_dic_list()) "
    }
   },
   "position": {
    "height": "495px",
    "left": "909px",
    "right": "57px",
    "top": "246px",
    "width": "800px"
   },
   "types_to_exclude": [
    "module",
    "function",
    "builtin_function_or_method",
    "instance",
    "_Feature"
   ],
   "window_display": false
  }
 },
 "nbformat": 4,
 "nbformat_minor": 1
}
