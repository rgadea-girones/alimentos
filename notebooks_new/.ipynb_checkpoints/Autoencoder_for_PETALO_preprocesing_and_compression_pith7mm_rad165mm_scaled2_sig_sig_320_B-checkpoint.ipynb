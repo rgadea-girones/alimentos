{
 "cells": [
  {
   "cell_type": "markdown",
   "metadata": {},
   "source": [
    "# Simple AUTOENCODER for PETALO\n",
    "\n",
    "Esta red la vamos a utilizar para obtener el radio "
   ]
  },
  {
   "cell_type": "code",
   "execution_count": 1,
   "metadata": {},
   "outputs": [
    {
     "name": "stdout",
     "output_type": "stream",
     "text": [
      "['', '/home/rgadea3/anaconda3/envs/tensorflow/lib/python36.zip', '/home/rgadea3/anaconda3/envs/tensorflow/lib/python3.6', '/home/rgadea3/anaconda3/envs/tensorflow/lib/python3.6/lib-dynload', '/home/rgadea3/anaconda3/envs/tensorflow/lib/python3.6/site-packages', '/home/rgadea3/anaconda3/envs/tensorflow/lib/python3.6/site-packages/IPython/extensions', '/home/rgadea3/.ipython']\n"
     ]
    },
    {
     "name": "stderr",
     "output_type": "stream",
     "text": [
      "Using TensorFlow backend.\n"
     ]
    }
   ],
   "source": [
    "import numpy as np\n",
    "#np.random.seed(1337)  # for reproducibility\n",
    "from time import time\n",
    "from datetime import datetime\n",
    "from sklearn import preprocessing\n",
    "import sys\n",
    "print(sys.path)\n",
    "sys.path.append(\"/home/rgadea/lmfit-py/\")\n",
    "import seaborn as sns\n",
    "from keras.datasets import mnist\n",
    "from keras.models import Model, Sequential\n",
    "from keras.layers import Input, Dense, Dropout, Activation, Flatten\n",
    "from keras.layers import Conv2D, MaxPooling2D,BatchNormalization\n",
    "from keras.callbacks import TensorBoard, EarlyStopping, ModelCheckpoint\n",
    "from keras.utils import np_utils\n",
    "from keras import regularizers\n",
    "from math import floor\n",
    "from lmfit.models import  GaussianModel\n",
    "import matplotlib.pyplot as plt"
   ]
  },
  {
   "cell_type": "markdown",
   "metadata": {},
   "source": [
    "## Vamos introducir los datos de petalo preprocesados en matlab\n"
   ]
  },
  {
   "cell_type": "code",
   "execution_count": 2,
   "metadata": {},
   "outputs": [
    {
     "data": {
      "text/plain": [
       "(50000, 3517)"
      ]
     },
     "execution_count": 2,
     "metadata": {},
     "output_type": "execute_result"
    }
   ],
   "source": [
    "import scipy.io as sio\n",
    "import hdf5storage\n",
    "datos_matlab = hdf5storage.loadmat('../datos_junio_2019/conjunto_entrenamiento_junio_2019_pitch7mm_rad165mm_29_total.mat')\n",
    "conjunto_datos= datos_matlab.get('photodefbox2_todo')\n",
    "conjunto_datos.shape"
   ]
  },
  {
   "cell_type": "code",
   "execution_count": 3,
   "metadata": {},
   "outputs": [
    {
     "name": "stdout",
     "output_type": "stream",
     "text": [
      "50000\n",
      "conjunto_datos shape: (50000, 3517)\n",
      "5000\n",
      "40000\n",
      "5000\n",
      "(5000, 500)\n",
      "(5000, 500)\n"
     ]
    }
   ],
   "source": [
    "L1A=5;\n",
    "# hay tres L1 con 576 sensores (36*16)\n",
    "L1B=1;\n",
    "# hay dos L1 con 640 sensores (40*16)\n",
    "img_rows=20\n",
    "img_colsA=30\n",
    "img_colsB=25\n",
    "img_cols=30\n",
    "input_output_dim_A=img_rows*img_colsA\n",
    "input_output_dim_B=img_rows*img_colsB\n",
    "ideaA=np.zeros((L1A,input_output_dim_A))\n",
    "ideaB=np.zeros((L1B,input_output_dim_B)) \n",
    "numero_muestras=conjunto_datos.shape[0]\n",
    "print(numero_muestras)\n",
    "print('conjunto_datos shape:', conjunto_datos.shape)\n",
    "\n",
    "tr_size=10\n",
    "val_size=80\n",
    "test_size=100-val_size-tr_size\n",
    "\n",
    "tamanyo_tr=floor(tr_size*numero_muestras/100)\n",
    "tamanyo_val=floor(val_size*numero_muestras/100)\n",
    "tamanyo_test=numero_muestras-tamanyo_tr-tamanyo_val\n",
    "print(tamanyo_tr)\n",
    "print(tamanyo_val)\n",
    "print(tamanyo_test)\n",
    "\n",
    "\n",
    "X_train=conjunto_datos[:tamanyo_tr,:]\n",
    "X_val=conjunto_datos[tamanyo_tr:tamanyo_tr+tamanyo_val,:]\n",
    "X_test=conjunto_datos[tamanyo_tr+tamanyo_val:numero_muestras,:]\n",
    "\n",
    "\n",
    "x_train = X_train\n",
    "x_test = X_test\n",
    "\n",
    "datos_tr=np.zeros((X_train.shape[0]*L1B,input_output_dim_B))\n",
    "for i in range(x_train.shape[0]):\n",
    "    for k in range(L1B):\n",
    "        ideaB[k,:]=x_train[i,6+L1A*input_output_dim_A+k*input_output_dim_B:6+L1A*input_output_dim_A+(k+1)*input_output_dim_B]\n",
    "    datos_tr[(i)*L1B :(i+1)*L1B,:] = ideaB  \n",
    " \n",
    "x_trainB = datos_tr;\n",
    "\n",
    "datos_test=np.zeros((X_test.shape[0]*L1B,input_output_dim_B))\n",
    "for i in range(x_test.shape[0]):\n",
    "    for k in range(L1B):\n",
    "        ideaB[k,:]=x_test[i,6+L1A*input_output_dim_A+k*input_output_dim_B:6+L1A*input_output_dim_A+(k+1)*input_output_dim_B]\n",
    "    datos_test[(i)*L1B :(i+1)*L1B,:] = ideaB  \n",
    " \n",
    "x_testB = datos_test;\n",
    "\n",
    "\n",
    "\n",
    "\n",
    "\n",
    "print(x_trainB.shape)\n",
    "print(x_testB.shape)\n"
   ]
  },
  {
   "cell_type": "markdown",
   "metadata": {},
   "source": [
    "## Network parameters:"
   ]
  },
  {
   "cell_type": "code",
   "execution_count": 4,
   "metadata": {},
   "outputs": [],
   "source": [
    "use_regularizer = True\n",
    "my_regularizer = None\n",
    "my_epochs = 50\n",
    "features_path = 'simple_autoe_features.pickle'\n",
    "labels_path = 'simple_autoe_labels.pickle'\n",
    "\n",
    "if use_regularizer:\n",
    "    # add a sparsity constraint on the encoded representations\n",
    "    # note use of 10e-5 leads to blurred results\n",
    "    my_regularizer = regularizers.l2(0.001)\n",
    "    # and a larger number of epochs as the added regularization the model\n",
    "    # is less likely to overfit and can be trained longer\n",
    "    my_epochs = 100\n",
    "    features_path = 'sparse_autoe_features.pickle'\n",
    "    labels_path = 'sparse_autoe_labels.pickle'\n",
    "\n",
    "   \n",
    "    \n",
    "encoding_dim = 320  # 32 floats -> compression of factor 24.5, assuming the input is 784 floats\n",
    "\n",
    "\n",
    "# this is our input placeholder\n",
    "\n",
    "input_img = Input(shape=(img_rows*img_colsB,))\n",
    "\n",
    "# \"encoded\" is the encoded representation of the input\n",
    "encoded = Dense(encoding_dim, activation='sigmoid', use_bias=False,bias_initializer='random_uniform')(input_img)\n",
    "# \"decoded\" is the lossy reconstruction of the input\n",
    "decoded = Dense(img_colsB*img_rows, activation='sigmoid',use_bias=True,bias_initializer='random_uniform')(encoded)\n",
    "\n",
    "# this model maps an input to its reconstruction\n",
    "\n",
    "\n",
    "#autoencoder=Sequential([\n",
    "#    Dense(encoding_dim, kernel_regularizer=regularizers.l2(0.001), use_bias=True,bias_initializer='random_uniform',input_shape=(640,)),\n",
    "#    Activation('sigmoid'),\n",
    "#    Dense(img_cols*img_rows, use_bias=True,bias_initializer='random_uniform'),\n",
    "#    Activation('linear'),\n",
    "#])\n",
    "\n",
    "autoencoderB = Model(input_img, decoded)"
   ]
  },
  {
   "cell_type": "markdown",
   "metadata": {},
   "source": [
    "## Prepare data into training and test set."
   ]
  },
  {
   "cell_type": "code",
   "execution_count": 5,
   "metadata": {},
   "outputs": [],
   "source": [
    "x_trainB = x_trainB.reshape(x_trainB.shape[0], img_colsB, img_rows,1)\n",
    "# X_val = X_val.reshape(X_val.shape[0], img_cols, img_rows,1)\n",
    "x_testB = x_testB.reshape(x_testB.shape[0], img_colsB, img_rows,1)\n",
    "\n",
    "\n",
    "input_shape = (img_colsB, img_rows,1)\n",
    "#input_shape=input_shape.astype('int32')"
   ]
  },
  {
   "cell_type": "code",
   "execution_count": 6,
   "metadata": {},
   "outputs": [
    {
     "name": "stdout",
     "output_type": "stream",
     "text": [
      "X_train shape: (5000, 25, 20, 1)\n"
     ]
    }
   ],
   "source": [
    "x_trainB = x_trainB.astype('float32')\n",
    "# X_val= X_val.astype('float32')\n",
    "x_testB = x_testB.astype('float32')\n",
    "\n",
    "print('X_train shape:', x_trainB.shape)\n",
    "# print(X_train.shape[0], 'train samples')\n",
    "# print(X_val.shape[0], 'validation samples')\n",
    "\n",
    "X_train=x_trainB\n",
    "X_test=x_testB"
   ]
  },
  {
   "cell_type": "markdown",
   "metadata": {},
   "source": [
    "Display 20 random training images using image"
   ]
  },
  {
   "cell_type": "code",
   "execution_count": 7,
   "metadata": {},
   "outputs": [
    {
     "data": {
      "image/png": "[encoded data removed]",
      "text/plain": [
       "<Figure size 432x288 with 1 Axes>"
      ]
     },
     "metadata": {},
     "output_type": "display_data"
    },
    {
     "name": "stdout",
     "output_type": "stream",
     "text": [
      "1562\n"
     ]
    },
    {
     "data": {
      "image/png": "[encoded data removed]",
      "text/plain": [
       "<Figure size 432x288 with 1 Axes>"
      ]
     },
     "metadata": {},
     "output_type": "display_data"
    },
    {
     "name": "stdout",
     "output_type": "stream",
     "text": [
      "3645\n"
     ]
    },
    {
     "data": {
      "image/png": "[encoded data removed]",
      "text/plain": [
       "<Figure size 432x288 with 1 Axes>"
      ]
     },
     "metadata": {},
     "output_type": "display_data"
    },
    {
     "name": "stdout",
     "output_type": "stream",
     "text": [
      "4879\n"
     ]
    },
    {
     "data": {
      "image/png": "[encoded data removed]",
      "text/plain": [
       "<Figure size 432x288 with 1 Axes>"
      ]
     },
     "metadata": {},
     "output_type": "display_data"
    },
    {
     "name": "stdout",
     "output_type": "stream",
     "text": [
      "3220\n"
     ]
    }
   ],
   "source": [
    "# convert class vectors to binary class matrices\n",
    "#Y_train = np_utils.to_categorical(y_train, nb_classes)\n",
    "#Y_test = np_utils.to_categorical(y_test, nb_classes)\n",
    "for i in range(1,5):\n",
    "    idea=np.random.randint(1,X_train.shape[0])\n",
    "    plt.imshow(np.reshape(X_train[idea].transpose(), [img_rows, img_colsB]), vmin=0, vmax=30)\n",
    "    plt.viridis()\n",
    "    plt.show()\n",
    "    print(idea)"
   ]
  },
  {
   "cell_type": "markdown",
   "metadata": {},
   "source": [
    "Vamos a generar las matrices de datos para la red neuronal "
   ]
  },
  {
   "cell_type": "code",
   "execution_count": 8,
   "metadata": {},
   "outputs": [
    {
     "name": "stdout",
     "output_type": "stream",
     "text": [
      "(5000, 500)\n",
      "(5000, 500)\n"
     ]
    }
   ],
   "source": [
    "x_train = X_train.reshape((len(X_train), np.prod(X_train.shape[1:])))\n",
    "x_test = X_test.reshape((len(X_test), np.prod(X_test.shape[1:])))\n",
    "\n",
    "print(x_train.shape)\n",
    "print(x_test.shape)\n"
   ]
  },
  {
   "cell_type": "code",
   "execution_count": 9,
   "metadata": {},
   "outputs": [
    {
     "name": "stdout",
     "output_type": "stream",
     "text": [
      "MinMaxScaler(copy=True, feature_range=(0, 1))\n",
      "[ 0.  0.  2.  0.  0.  1.  0.  0.  0.  0.  0.  0.  0.  0.  0.  0.  0.  0.\n",
      "  0.  0.  0.  0.  0.  0.  0.  0.  0.  1.  0.  0.  0.  0.  0.  0.  0.  0.\n",
      "  0.  0.  0.  0.  0.  0.  0.  0.  0.  0.  1.  0.  1.  0.  0.  0.  0.  0.\n",
      "  0.  0.  0.  0.  0.  0.  0.  1.  0.  0.  0.  0.  0.  0.  1.  0.  0.  0.\n",
      "  0.  0.  0.  0.  0.  0.  0.  0.  0.  0.  0.  0.  0.  0.  0.  0.  0.  0.\n",
      "  0.  0.  1.  0.  0.  0.  0.  0.  0.  0.  0.  0.  0.  1.  0.  0.  0.  0.\n",
      "  0.  0.  0.  0.  0.  0.  0.  0.  0.  0.  0.  0.  0.  0.  0.  0.  0.  0.\n",
      "  0.  0.  0.  0.  1.  0.  0.  1.  1.  0.  0.  0.  0.  0.  0.  0.  0.  0.\n",
      "  0.  1.  0.  0.  1.  0.  0.  0.  0.  0.  0.  0.  0.  0.  0.  0.  0.  0.\n",
      "  0.  0.  0.  0.  0.  0.  0.  0.  0.  0.  0.  0.  0.  0.  0.  0.  0.  0.\n",
      "  0.  0.  0.  1.  0.  0.  0.  0.  0.  0.  0.  0.  0.  0.  0.  0.  0.  0.\n",
      "  0.  0.  0.  0.  0.  0.  0.  1.  0.  0.  0.  0.  0.  0.  0.  0.  0.  0.\n",
      "  0.  0.  0.  0.  0.  0.  0.  2.  0.  0.  0.  0.  0.  0.  0.  0.  0.  0.\n",
      "  0.  0.  0.  0.  0.  0.  0.  1.  0.  0.  0.  0.  0.  0.  0.  0.  0.  1.\n",
      "  0.  1.  0.  0.  0.  0.  0.  0.  0.  1.  0.  0.  1.  1.  3.  0.  0.  0.\n",
      "  1.  0.  0.  0.  0.  0.  0.  0.  0.  0.  0.  0.  0.  0.  2.  1.  1.  2.\n",
      "  0.  0.  0.  0.  0.  0.  0.  1.  0.  0.  0.  0.  0.  0.  1.  2.  0.  2.\n",
      "  3.  1.  1.  0.  2.  0.  0.  0.  0.  0.  0.  0.  0.  0.  0.  0.  1.  1.\n",
      "  3.  1.  2.  0.  0.  0.  3.  1.  0.  0.  0.  0.  0.  0.  0.  0.  1.  2.\n",
      "  0.  1.  1.  4.  2.  6.  5.  3.  0.  0.  1.  0.  0.  0.  1.  0.  0.  0.\n",
      "  1.  1.  2.  3.  3.  3.  3.  4.  3.  1.  2.  1.  0.  0.  0.  0.  0.  0.\n",
      "  0.  0.  0.  0.  5.  2.  7.  3.  3.  7.  2.  7.  0.  1.  1.  0.  0.  0.\n",
      "  0.  0.  0.  0.  0.  1.  0.  2.  5. 15. 13.  9.  3.  7.  2.  4.  0.  0.\n",
      "  0.  1.  0.  0.  0.  0.  1.  1.  4.  6.  6. 12. 16. 10.  8.  3.  4.  3.\n",
      "  0.  0.  0.  0.  0.  0.  0.  0.  1.  3.  1.  0.  4. 13. 11. 11. 10.  4.\n",
      "  2.  3.  0.  0.  1.  0.  0.  0.  0.  0.  2.  5.  4.  7.  6. 11.  5.  9.\n",
      "  6.  8.  3.  2.  3.  0.  0.  1.  0.  0.  0.  0.  2.  2.  1.  5.  6.  8.\n",
      " 14.  6.  6.  5.  6.  0.  0.  0.  0.  0.  1.  0.  0.  0.]\n",
      "[ 0.  0.  2.  0.  0.  1.  0.  0.  0.  0.  0.  0.  0.  0.  0.  0.  0.  0.\n",
      "  0.  0.  0.  0.  0.  0.  0.  0.  0.  1.  0.  0.  0.  0.  0.  0.  0.  0.\n",
      "  0.  0.  0.  0.  0.  0.  0.  0.  0.  0.  1.  0.  1.  0.  0.  0.  0.  0.\n",
      "  0.  0.  0.  0.  0.  0.  0.  1.  0.  0.  0.  0.  0.  0.  1.  0.  0.  0.\n",
      "  0.  0.  0.  0.  0.  0.  0.  0.  0.  0.  0.  0.  0.  0.  0.  0.  0.  0.\n",
      "  0.  0.  1.  0.  0.  0.  0.  0.  0.  0.  0.  0.  0.  1.  0.  0.  0.  0.\n",
      "  0.  0.  0.  0.  0.  0.  0.  0.  0.  0.  0.  0.  0.  0.  0.  0.  0.  0.\n",
      "  0.  0.  0.  0.  1.  0.  0.  1.  1.  0.  0.  0.  0.  0.  0.  0.  0.  0.\n",
      "  0.  1.  0.  0.  1.  0.  0.  0.  0.  0.  0.  0.  0.  0.  0.  0.  0.  0.\n",
      "  0.  0.  0.  0.  0.  0.  0.  0.  0.  0.  0.  0.  0.  0.  0.  0.  0.  0.\n",
      "  0.  0.  0.  1.  0.  0.  0.  0.  0.  0.  0.  0.  0.  0.  0.  0.  0.  0.\n",
      "  0.  0.  0.  0.  0.  0.  0.  1.  0.  0.  0.  0.  0.  0.  0.  0.  0.  0.\n",
      "  0.  0.  0.  0.  0.  0.  0.  2.  0.  0.  0.  0.  0.  0.  0.  0.  0.  0.\n",
      "  0.  0.  0.  0.  0.  0.  0.  1.  0.  0.  0.  0.  0.  0.  0.  0.  0.  1.\n",
      "  0.  1.  0.  0.  0.  0.  0.  0.  0.  1.  0.  0.  1.  1.  3.  0.  0.  0.\n",
      "  1.  0.  0.  0.  0.  0.  0.  0.  0.  0.  0.  0.  0.  0.  2.  1.  1.  2.\n",
      "  0.  0.  0.  0.  0.  0.  0.  1.  0.  0.  0.  0.  0.  0.  1.  2.  0.  2.\n",
      "  3.  1.  1.  0.  2.  0.  0.  0.  0.  0.  0.  0.  0.  0.  0.  0.  1.  1.\n",
      "  3.  1.  2.  0.  0.  0.  3.  1.  0.  0.  0.  0.  0.  0.  0.  0.  1.  2.\n",
      "  0.  1.  1.  4.  2.  6.  5.  3.  0.  0.  1.  0.  0.  0.  1.  0.  0.  0.\n",
      "  1.  1.  2.  3.  3.  3.  3.  4.  3.  1.  2.  1.  0.  0.  0.  0.  0.  0.\n",
      "  0.  0.  0.  0.  5.  2.  7.  3.  3.  7.  2.  7.  0.  1.  1.  0.  0.  0.\n",
      "  0.  0.  0.  0.  0.  1.  0.  2.  5. 15. 13.  9.  3.  7.  2.  4.  0.  0.\n",
      "  0.  1.  0.  0.  0.  0.  1.  1.  4.  6.  6. 12. 16. 10.  8.  3.  4.  3.\n",
      "  0.  0.  0.  0.  0.  0.  0.  0.  1.  3.  1.  0.  4. 13. 11. 11. 10.  4.\n",
      "  2.  3.  0.  0.  1.  0.  0.  0.  0.  0.  2.  5.  4.  7.  6. 11.  5.  9.\n",
      "  6.  8.  3.  2.  3.  0.  0.  1.  0.  0.  0.  0.  2.  2.  1.  5.  6.  8.\n",
      " 14.  6.  6.  5.  6.  0.  0.  0.  0.  0.  1.  0.  0.  0.]\n",
      "[0. 0. 0. 0. 0. 0. 0. 0. 0. 0. 0. 0. 0. 0. 0. 0. 0. 0. 0. 0. 0. 0. 0. 0.\n",
      " 0. 0. 0. 0. 0. 0. 0. 0. 0. 0. 0. 0. 0. 0. 0. 0. 0. 0. 0. 0. 0. 0. 0. 0.\n",
      " 0. 0. 0. 0. 0. 0. 0. 0. 0. 0. 0. 0. 0. 0. 0. 0. 0. 0. 0. 0. 0. 0. 0. 0.\n",
      " 0. 0. 0. 0. 0. 0. 0. 0. 0. 0. 0. 0. 0. 0. 0. 0. 0. 0. 0. 0. 0. 0. 0. 0.\n",
      " 0. 0. 0. 0. 0. 0. 0. 0. 0. 0. 0. 0. 0. 0. 0. 0. 0. 0. 0. 0. 0. 0. 0. 0.\n",
      " 0. 0. 0. 0. 0. 0. 0. 0. 0. 0. 0. 0. 0. 0. 0. 0. 0. 0. 0. 0. 0. 0. 0. 0.\n",
      " 0. 0. 0. 0. 0. 0. 0. 0. 0. 0. 0. 0. 0. 0. 0. 0. 0. 0. 0. 0. 0. 0. 0. 0.\n",
      " 0. 0. 0. 0. 0. 0. 0. 0. 0. 0. 0. 0. 0. 0. 0. 0. 0. 0. 0. 0. 0. 0. 0. 0.\n",
      " 0. 0. 0. 0. 0. 0. 0. 0. 0. 0. 0. 0. 0. 0. 0. 0. 0. 0. 0. 0. 0. 0. 0. 0.\n",
      " 0. 0. 0. 0. 0. 0. 0. 0. 0. 0. 0. 0. 0. 0. 0. 0. 0. 0. 0. 0. 0. 0. 0. 0.\n",
      " 0. 0. 0. 0. 0. 0. 0. 0. 0. 0. 0. 0. 0. 0. 0. 0. 0. 0. 0. 0. 0. 0. 0. 0.\n",
      " 0. 0. 0. 0. 0. 0. 0. 0. 0. 0. 0. 0. 0. 0. 0. 0. 0. 0. 0. 0. 0. 0. 0. 0.\n",
      " 0. 0. 0. 0. 0. 0. 0. 0. 0. 0. 0. 0. 0. 0. 0. 0. 0. 0. 0. 0. 0. 0. 0. 0.\n",
      " 0. 0. 0. 0. 0. 0. 0. 0. 0. 0. 0. 0. 0. 0. 0. 0. 0. 0. 0. 0. 0. 0. 0. 0.\n",
      " 0. 0. 0. 0. 0. 0. 0. 0. 0. 0. 0. 0. 0. 0. 0. 0. 0. 0. 0. 0. 0. 0. 0. 0.\n",
      " 0. 0. 0. 0. 0. 0. 0. 0. 0. 0. 0. 0. 0. 0. 0. 0. 0. 0. 0. 0. 0. 0. 0. 0.\n",
      " 0. 0. 0. 0. 0. 0. 0. 0. 0. 0. 0. 0. 0. 0. 0. 0. 0. 0. 0. 0. 0. 0. 0. 0.\n",
      " 0. 0. 0. 0. 0. 0. 0. 0. 0. 0. 0. 0. 0. 0. 0. 0. 0. 0. 0. 0. 0. 0. 0. 0.\n",
      " 0. 0. 0. 0. 0. 0. 0. 0. 0. 0. 0. 0. 0. 0. 0. 0. 0. 0. 0. 0. 0. 0. 0. 0.\n",
      " 0. 0. 0. 0. 0. 0. 0. 0. 0. 0. 0. 0. 0. 0. 0. 0. 0. 0. 0. 0. 0. 0. 0. 0.\n",
      " 0. 0. 0. 0. 0. 0. 0. 0. 0. 0. 0. 0. 0. 0. 0. 0. 0. 0. 0. 0.]\n",
      "[0. 0. 0. 0. 0. 0. 0. 0. 0. 0. 0. 0. 0. 0. 0. 0. 0. 0. 0. 0. 0. 0. 0. 0.\n",
      " 0. 0. 0. 0. 0. 0. 0. 0. 0. 0. 0. 0. 0. 0. 0. 0. 0. 0. 0. 0. 0. 0. 0. 0.\n",
      " 0. 0. 0. 0. 0. 0. 0. 0. 0. 0. 0. 0. 0. 0. 0. 0. 0. 0. 0. 0. 0. 0. 0. 0.\n",
      " 0. 0. 0. 0. 0. 0. 0. 0. 0. 0. 0. 0. 0. 0. 0. 0. 0. 0. 0. 0. 0. 0. 0. 0.\n",
      " 0. 0. 0. 0. 0. 0. 0. 0. 0. 0. 0. 0. 0. 0. 0. 0. 0. 0. 0. 0. 0. 0. 0. 0.\n",
      " 0. 0. 0. 0. 0. 0. 0. 0. 0. 0. 0. 0. 0. 0. 0. 0. 0. 0. 0. 0. 0. 0. 0. 0.\n",
      " 0. 0. 0. 0. 0. 0. 0. 0. 0. 0. 0. 0. 0. 0. 0. 0. 0. 0. 0. 0. 0. 0. 0. 0.\n",
      " 0. 0. 0. 0. 0. 0. 0. 0. 0. 0. 0. 0. 0. 0. 0. 0. 0. 0. 0. 0. 0. 0. 0. 0.\n",
      " 0. 0. 0. 0. 0. 0. 0. 0. 0. 0. 0. 0. 0. 0. 0. 0. 0. 0. 0. 0. 0. 0. 0. 0.\n",
      " 0. 0. 0. 0. 0. 0. 0. 0. 0. 0. 0. 0. 0. 0. 0. 0. 0. 0. 0. 0. 0. 0. 0. 0.\n",
      " 0. 0. 0. 0. 0. 0. 0. 0. 0. 0. 0. 0. 0. 0. 0. 0. 0. 0. 0. 0. 0. 0. 0. 0.\n",
      " 0. 0. 0. 0. 0. 0. 0. 0. 0. 0. 0. 0. 0. 0. 0. 0. 0. 0. 0. 0. 0. 0. 0. 0.\n",
      " 0. 0. 0. 0. 0. 0. 0. 0. 0. 0. 0. 0. 0. 0. 0. 0. 0. 0. 0. 0. 0. 0. 0. 0.\n",
      " 0. 0. 0. 0. 0. 0. 0. 0. 0. 0. 0. 0. 0. 0. 0. 0. 0. 0. 0. 0. 0. 0. 0. 0.\n",
      " 0. 0. 0. 0. 0. 0. 0. 0. 0. 0. 0. 0. 0. 0. 0. 0. 0. 0. 0. 0. 0. 0. 0. 0.\n",
      " 0. 0. 0. 0. 0. 0. 0. 0. 0. 0. 0. 0. 0. 0. 0. 0. 0. 0. 0. 0. 0. 0. 0. 0.\n",
      " 0. 0. 0. 0. 0. 0. 0. 0. 0. 0. 0. 0. 0. 0. 0. 0. 0. 0. 0. 0. 0. 0. 0. 0.\n",
      " 0. 0. 0. 0. 0. 0. 0. 0. 0. 0. 0. 0. 0. 0. 0. 0. 0. 0. 0. 0. 0. 0. 0. 0.\n",
      " 0. 0. 0. 0. 0. 0. 0. 0. 0. 0. 0. 0. 0. 0. 0. 0. 0. 0. 0. 0. 0. 0. 0. 0.\n",
      " 0. 0. 0. 0. 0. 0. 0. 0. 0. 0. 0. 0. 0. 0. 0. 0. 0. 0. 0. 0. 0. 0. 0. 0.\n",
      " 0. 0. 0. 0. 0. 0. 0. 0. 0. 0. 0. 0. 0. 0. 0. 0. 0. 0. 0. 0.]\n"
     ]
    }
   ],
   "source": [
    "# min_max_scaler = preprocessing.QuantileTransformer().fit(x_train)\n",
    "# min_max_scaler = preprocessing.MaxAbsScaler().fit(x_train)\n",
    "# min_max_scaler = preprocessing.StandardScaler(with_mean=False).fit(x_train)\n",
    "min_max_scaler = preprocessing.MinMaxScaler().fit(x_train)\n",
    "#min_max_scaler = preprocessing.RobustScaler().fit(x_train)\n",
    "supermax=1\n",
    "factor_aprendizaje=0.0001\n",
    "print(min_max_scaler)\n",
    "# x_train_scaled = min_max_scaler.transform(x_train)\n",
    "# x_test_scaled = min_max_scaler.transform(x_test)\n",
    "x_train_scaled=(x_train/supermax)\n",
    "x_test_scaled=(x_test/supermax)\n",
    "#min_max_scaler.scale_\n",
    "print(x_train[2413])\n",
    "print(x_train_scaled[2413])\n",
    "print(x_test[2413])\n",
    "print(x_test_scaled[2413])"
   ]
  },
  {
   "cell_type": "markdown",
   "metadata": {},
   "source": [
    "## Build the autoencoder. "
   ]
  },
  {
   "cell_type": "markdown",
   "metadata": {},
   "source": [
    "Create our metrics, for example energy"
   ]
  },
  {
   "cell_type": "code",
   "execution_count": 10,
   "metadata": {},
   "outputs": [],
   "source": [
    "import keras.backend as KK\n",
    "import keras.callbacks as KKcall"
   ]
  },
  {
   "cell_type": "code",
   "execution_count": 11,
   "metadata": {},
   "outputs": [],
   "source": [
    "class Metrics(KKcall.Callback):\n",
    "    def on_train_begin(self, logs={}):\n",
    "        self._data = []\n",
    "\n",
    "    def on_epoch_end(self, batch, logs={}):\n",
    "        X_val, y_val = self.validation_data[0], self.validation_data[1]\n",
    "        y_predict = np.asarray(self.model.predict(X_val))\n",
    "\n",
    "        y_val = np.sum((y_val+1)*supermax/2, axis=1)\n",
    "        y_predict = np.sum((y_predict+1)*supermax/2, axis=1)\n",
    "\n",
    "        self._data.append({\n",
    "            'val_energy': np.mean(y_predict-y_val),\n",
    "        })\n",
    "        return\n",
    "\n",
    "    def get_data(self):\n",
    "        return self._data\n",
    "\n",
    "metrics = Metrics()\n",
    "\n",
    "def energy_error(y_true, y_pred):\n",
    "    veamos_energia=(KK.sum(y_pred, axis=1)-KK.sum(y_true,axis=1))\n",
    "    return KK.mean(veamos_energia,axis=-1)"
   ]
  },
  {
   "cell_type": "code",
   "execution_count": 12,
   "metadata": {},
   "outputs": [],
   "source": [
    "# this model maps an input to its encoded representation\n",
    "encoder = Model(input_img, encoded)\n",
    "\n",
    "# create a placeholder for an encoded (32-dimensional) input\n",
    "encoded_input = Input(shape=(encoding_dim,))\n",
    "# retrieve the last layer of the autoencoder model\n",
    "decoder_layer = autoencoderB.layers[-1]\n",
    "# create the decoder model\n",
    "decoder = Model(encoded_input, decoder_layer(encoded_input))\n",
    "\n",
    "autoencoderB.compile(optimizer='RMSprop', loss='mse', metrics=[energy_error])\n",
    "\n",
    "autoencoderB.optimizer.lr=(factor_aprendizaje)"
   ]
  },
  {
   "cell_type": "markdown",
   "metadata": {},
   "source": [
    "Show a summary of the model parameters. "
   ]
  },
  {
   "cell_type": "markdown",
   "metadata": {},
   "source": [
    "And now train the model and evaluate on the test set. "
   ]
  },
  {
   "cell_type": "code",
   "execution_count": 13,
   "metadata": {
    "scrolled": true
   },
   "outputs": [
    {
     "name": "stdout",
     "output_type": "stream",
     "text": [
      "Train on 5000 samples, validate on 5000 samples\n",
      "Epoch 1/50\n",
      "5000/5000 [==============================] - 1s 158us/step - loss: 19.9776 - energy_error: 84.7714 - val_loss: 21.9886 - val_energy_error: 71.0138\n",
      "Epoch 2/50\n",
      "5000/5000 [==============================] - 0s 34us/step - loss: 19.9389 - energy_error: 58.9728 - val_loss: 21.9596 - val_energy_error: 49.9717\n",
      "Epoch 3/50\n",
      "5000/5000 [==============================] - 0s 26us/step - loss: 19.9097 - energy_error: 39.9979 - val_loss: 21.9350 - val_energy_error: 33.1397\n",
      "Epoch 4/50\n",
      "5000/5000 [==============================] - 0s 28us/step - loss: 19.8846 - energy_error: 24.7521 - val_loss: 21.9133 - val_energy_error: 19.6165\n",
      "Epoch 5/50\n",
      "5000/5000 [==============================] - 0s 32us/step - loss: 19.8621 - energy_error: 12.4394 - val_loss: 21.8936 - val_energy_error: 8.6432\n",
      "Epoch 6/50\n",
      "5000/5000 [==============================] - 0s 27us/step - loss: 19.8416 - energy_error: 2.3516 - val_loss: 21.8754 - val_energy_error: -0.4349\n",
      "Epoch 7/50\n",
      "5000/5000 [==============================] - 0s 26us/step - loss: 19.8227 - energy_error: -6.0848 - val_loss: 21.8584 - val_energy_error: -8.1041\n",
      "Epoch 8/50\n",
      "5000/5000 [==============================] - 0s 34us/step - loss: 19.8050 - energy_error: -13.2756 - val_loss: 21.8423 - val_energy_error: -14.6870\n",
      "Epoch 9/50\n",
      "5000/5000 [==============================] - 0s 24us/step - loss: 19.7883 - energy_error: -19.4837 - val_loss: 21.8269 - val_energy_error: -20.3939\n",
      "Epoch 10/50\n",
      "5000/5000 [==============================] - 0s 27us/step - loss: 19.7725 - energy_error: -24.8868 - val_loss: 21.8122 - val_energy_error: -25.3759\n",
      "Epoch 11/50\n",
      "5000/5000 [==============================] - 0s 28us/step - loss: 19.7574 - energy_error: -29.6206 - val_loss: 21.7981 - val_energy_error: -29.7552\n",
      "Epoch 12/50\n",
      "5000/5000 [==============================] - 0s 28us/step - loss: 19.7430 - energy_error: -33.7962 - val_loss: 21.7846 - val_energy_error: -33.6321\n",
      "Epoch 13/50\n",
      "5000/5000 [==============================] - 0s 36us/step - loss: 19.7293 - energy_error: -37.5073 - val_loss: 21.7716 - val_energy_error: -37.0933\n",
      "Epoch 14/50\n",
      "5000/5000 [==============================] - 0s 27us/step - loss: 19.7163 - energy_error: -40.8361 - val_loss: 21.7593 - val_energy_error: -40.2156\n",
      "Epoch 15/50\n",
      "5000/5000 [==============================] - 0s 33us/step - loss: 19.7039 - energy_error: -43.8532 - val_loss: 21.7475 - val_energy_error: -43.0623\n",
      "Epoch 16/50\n",
      "5000/5000 [==============================] - 0s 29us/step - loss: 19.6922 - energy_error: -46.6160 - val_loss: 21.7364 - val_energy_error: -45.6864\n",
      "Epoch 17/50\n",
      "5000/5000 [==============================] - 0s 28us/step - loss: 19.6812 - energy_error: -49.1726 - val_loss: 21.7259 - val_energy_error: -48.1325\n",
      "Epoch 18/50\n",
      "5000/5000 [==============================] - 0s 33us/step - loss: 19.6709 - energy_error: -51.5639 - val_loss: 21.7161 - val_energy_error: -50.4357\n",
      "Epoch 19/50\n",
      "5000/5000 [==============================] - 0s 27us/step - loss: 19.6614 - energy_error: -53.8227 - val_loss: 21.7069 - val_energy_error: -52.6249\n",
      "Epoch 20/50\n",
      "5000/5000 [==============================] - 0s 28us/step - loss: 19.6526 - energy_error: -55.9756 - val_loss: 21.6984 - val_energy_error: -54.7241\n",
      "Epoch 21/50\n",
      "5000/5000 [==============================] - 0s 32us/step - loss: 19.6444 - energy_error: -58.0441 - val_loss: 21.6906 - val_energy_error: -56.7524\n",
      "Epoch 22/50\n",
      "5000/5000 [==============================] - 0s 27us/step - loss: 19.6369 - energy_error: -60.0446 - val_loss: 21.6834 - val_energy_error: -58.7235\n",
      "Epoch 23/50\n",
      "5000/5000 [==============================] - 0s 29us/step - loss: 19.6300 - energy_error: -61.9882 - val_loss: 21.6768 - val_energy_error: -60.6461\n",
      "Epoch 24/50\n",
      "5000/5000 [==============================] - 0s 25us/step - loss: 19.6238 - energy_error: -63.8814 - val_loss: 21.6707 - val_energy_error: -62.5242\n",
      "Epoch 25/50\n",
      "5000/5000 [==============================] - 0s 29us/step - loss: 19.6180 - energy_error: -65.7270 - val_loss: 21.6652 - val_energy_error: -64.3584\n",
      "Epoch 26/50\n",
      "5000/5000 [==============================] - 0s 28us/step - loss: 19.6128 - energy_error: -67.5248 - val_loss: 21.6601 - val_energy_error: -66.1469\n",
      "Epoch 27/50\n",
      "5000/5000 [==============================] - 0s 26us/step - loss: 19.6080 - energy_error: -69.2727 - val_loss: 21.6555 - val_energy_error: -67.8862\n",
      "Epoch 28/50\n",
      "5000/5000 [==============================] - 0s 29us/step - loss: 19.6037 - energy_error: -70.9676 - val_loss: 21.6512 - val_energy_error: -69.5722\n",
      "Epoch 29/50\n",
      "5000/5000 [==============================] - 0s 26us/step - loss: 19.5997 - energy_error: -72.6075 - val_loss: 21.6473 - val_energy_error: -71.2019\n",
      "Epoch 30/50\n",
      "5000/5000 [==============================] - 0s 28us/step - loss: 19.5961 - energy_error: -74.1906 - val_loss: 21.6438 - val_energy_error: -72.7731\n",
      "Epoch 31/50\n",
      "5000/5000 [==============================] - 0s 29us/step - loss: 19.5929 - energy_error: -75.7152 - val_loss: 21.6406 - val_energy_error: -74.2845\n",
      "Epoch 32/50\n",
      "5000/5000 [==============================] - 0s 27us/step - loss: 19.5899 - energy_error: -77.1800 - val_loss: 21.6376 - val_energy_error: -75.7359\n",
      "Epoch 33/50\n",
      "5000/5000 [==============================] - 0s 26us/step - loss: 19.5873 - energy_error: -78.5851 - val_loss: 21.6350 - val_energy_error: -77.1273\n",
      "Epoch 34/50\n",
      "5000/5000 [==============================] - 0s 30us/step - loss: 19.5848 - energy_error: -79.9304 - val_loss: 21.6325 - val_energy_error: -78.4580\n",
      "Epoch 35/50\n",
      "5000/5000 [==============================] - 0s 28us/step - loss: 19.5826 - energy_error: -81.2162 - val_loss: 21.6303 - val_energy_error: -79.7275\n",
      "Epoch 36/50\n",
      "5000/5000 [==============================] - 0s 25us/step - loss: 19.5806 - energy_error: -82.4427 - val_loss: 21.6283 - val_energy_error: -80.9359\n",
      "Epoch 37/50\n",
      "5000/5000 [==============================] - 0s 24us/step - loss: 19.5788 - energy_error: -83.6103 - val_loss: 21.6264 - val_energy_error: -82.0841\n",
      "Epoch 38/50\n",
      "5000/5000 [==============================] - 0s 30us/step - loss: 19.5771 - energy_error: -84.7200 - val_loss: 21.6246 - val_energy_error: -83.1735\n",
      "Epoch 39/50\n",
      "5000/5000 [==============================] - 0s 24us/step - loss: 19.5756 - energy_error: -85.7735 - val_loss: 21.6230 - val_energy_error: -84.2062\n",
      "Epoch 40/50\n",
      "5000/5000 [==============================] - 0s 23us/step - loss: 19.5742 - energy_error: -86.7728 - val_loss: 21.6215 - val_energy_error: -85.1846\n",
      "Epoch 41/50\n",
      "5000/5000 [==============================] - 0s 26us/step - loss: 19.5729 - energy_error: -87.7201 - val_loss: 21.6201 - val_energy_error: -86.1105\n",
      "Epoch 42/50\n",
      "5000/5000 [==============================] - 0s 28us/step - loss: 19.5717 - energy_error: -88.6174 - val_loss: 21.6188 - val_energy_error: -86.9864\n",
      "Epoch 43/50\n",
      "5000/5000 [==============================] - 0s 30us/step - loss: 19.5706 - energy_error: -89.4674 - val_loss: 21.6176 - val_energy_error: -87.8152\n",
      "Epoch 44/50\n",
      "5000/5000 [==============================] - 0s 26us/step - loss: 19.5697 - energy_error: -90.2726 - val_loss: 21.6165 - val_energy_error: -88.5991\n",
      "Epoch 45/50\n",
      "5000/5000 [==============================] - 0s 30us/step - loss: 19.5687 - energy_error: -91.0350 - val_loss: 21.6155 - val_energy_error: -89.3404\n",
      "Epoch 46/50\n",
      "5000/5000 [==============================] - 0s 28us/step - loss: 19.5679 - energy_error: -91.7569 - val_loss: 21.6146 - val_energy_error: -90.0407\n",
      "Epoch 47/50\n",
      "5000/5000 [==============================] - 0s 28us/step - loss: 19.5671 - energy_error: -92.4401 - val_loss: 21.6137 - val_energy_error: -90.7016\n",
      "Epoch 48/50\n",
      "5000/5000 [==============================] - 0s 33us/step - loss: 19.5664 - energy_error: -93.0862 - val_loss: 21.6128 - val_energy_error: -91.3247\n",
      "Epoch 49/50\n",
      "5000/5000 [==============================] - 0s 27us/step - loss: 19.5658 - energy_error: -93.6964 - val_loss: 21.6121 - val_energy_error: -91.9118\n",
      "Epoch 50/50\n",
      "5000/5000 [==============================] - 0s 26us/step - loss: 19.5651 - energy_error: -94.2719 - val_loss: 21.6113 - val_energy_error: -92.4650\n"
     ]
    }
   ],
   "source": [
    "algoritmo='RMSprop'\n",
    "experimento=\"scaledB_{}_encoder_without_bias_sig_sig_lr_{}\".format(supermax,factor_aprendizaje)\n",
    "tensorboard=TensorBoard(log_dir=\"/home/rgadea3/EXPERIMENTOS/nuevas_investigaciones_2018/experimentos/logs/defs/{}{}{}{}\".format(encoding_dim,algoritmo,experimento,datetime.now()))\n",
    "#modelCheckpoint=ModelCheckpoint(\"/home/rgadea3/EXPERIMENTOS/nuevas_investigaciones_2018/experimentos/logs/\", monitor='val_loss', verbose=0, save_best_only=False, save_weights_only=False, mode='auto', period=1)\n",
    "early_stop=EarlyStopping(monitor='val_loss', min_delta=0, patience=500, verbose=2, mode='auto', baseline=None)\n",
    "results=autoencoderB.fit(x_train_scaled, x_train_scaled,\n",
    "                epochs=500,\n",
    "                batch_size=200,\n",
    "                shuffle=False,\n",
    "                callbacks=[tensorboard, early_stop, metrics],\n",
    "                validation_data=(x_test_scaled, x_test_scaled))\n",
    "\n"
   ]
  },
  {
   "cell_type": "code",
   "execution_count": 14,
   "metadata": {},
   "outputs": [
    {
     "data": {
      "image/png": "[encoded data removed]",
      "text/plain": [
       "<Figure size 432x288 with 1 Axes>"
      ]
     },
     "metadata": {},
     "output_type": "display_data"
    },
    {
     "data": {
      "image/png": "[encoded data removed]",
      "text/plain": [
       "<Figure size 432x288 with 1 Axes>"
      ]
     },
     "metadata": {},
     "output_type": "display_data"
    }
   ],
   "source": [
    "# summarize history for categorical accuracy\n",
    "plt.plot(results.history['energy_error'])\n",
    "plt.plot(results.history['val_energy_error'])\n",
    "plt.title('Energy error')\n",
    "plt.ylabel('accuracy')\n",
    "plt.xlabel('epoch')\n",
    "plt.legend(['train', 'test'], loc='upper left')\n",
    "plt.show()\n",
    "# summarize history for loss\n",
    "plt.plot(results.history['loss'])\n",
    "plt.plot(results.history['val_loss'])\n",
    "plt.title('model loss')\n",
    "plt.ylabel('loss')\n",
    "plt.xlabel('epoch')\n",
    "plt.legend(['train', 'test'], loc='upper left')\n",
    "plt.show()"
   ]
  },
  {
   "cell_type": "code",
   "execution_count": 15,
   "metadata": {},
   "outputs": [
    {
     "name": "stdout",
     "output_type": "stream",
     "text": [
      "5000/5000 [==============================] - 0s 49us/step\n"
     ]
    },
    {
     "data": {
      "image/png": "[encoded data removed]",
      "text/plain": [
       "<Figure size 432x288 with 1 Axes>"
      ]
     },
     "metadata": {},
     "output_type": "display_data"
    }
   ],
   "source": [
    "import pandas as pd \n",
    "autoencoderB.evaluate(x=x_test_scaled,y=x_test_scaled)\n",
    "D=metrics.get_data()\n",
    "\n",
    "\n",
    "energies=pd.DataFrame(D).values.reshape(len(D))\n",
    "valores=len(energies)\n",
    "plt.plot(range(valores),energies) \n",
    "\n",
    "plt.show()"
   ]
  },
  {
   "cell_type": "code",
   "execution_count": 16,
   "metadata": {},
   "outputs": [],
   "source": [
    "autoencoderB.save_weights('../redes_compresoras/defs/compresor_python_{}{}{}{}'.format(encoding_dim,algoritmo,experimento,datetime.now()))\n",
    "#np.savez('../redes_compresoras/maxmin_python_ver_rms_prop_scaled_min_max_ver2', min_max_scaler.data_max_, min_max_scaler.data_min_)\n",
    "#autoencoder.load_weights('../redes_compresoras/defs/compresor_python_320RMSpropscaled_100_encoder_without_bias_sig_sig_lr_0.00012018-11-03 09:43:55.047213')"
   ]
  },
  {
   "cell_type": "code",
   "execution_count": 17,
   "metadata": {},
   "outputs": [],
   "source": [
    "# standard_scores = encoder.predict(x_test_scaled).ravel()\n",
    "# #regularized_scores = encoded_regularized.predict(x_test).ravel()\n",
    "# sns.distplot(standard_scores, hist=True, label='standard model')\n",
    "# #sns.distplot(regularized_scores, hist=False, label='regularized model')"
   ]
  },
  {
   "cell_type": "code",
   "execution_count": 18,
   "metadata": {},
   "outputs": [],
   "source": [
    "# encode and decode some images\n",
    "# note that we take them from the *test* set\n",
    "# encoded_imgs = encoder.predict(x_test_min_max)\n",
    "# decoded_imgs_scaled = decoder.predict(encoded_imgs)\n",
    "# decoded_imgs_scaled = autoencoderB.predict(x_test_min_max)\n",
    "decoded_imgs_scaled = autoencoderB.predict(x_test_scaled)\n",
    "decoded_imgs = supermax*(decoded_imgs_scaled)\n",
    "# decoded_imgs = min_max_scaler.inverse_transform(decoded_imgs_scaled)\n",
    "#decoded_imgs = autoencoder.predict(x_test)\n"
   ]
  },
  {
   "cell_type": "code",
   "execution_count": 23,
   "metadata": {},
   "outputs": [
    {
     "data": {
      "image/png": "[encoded data removed]",
      "text/plain": [
       "<Figure size 1440x288 with 2 Axes>"
      ]
     },
     "metadata": {},
     "output_type": "display_data"
    }
   ],
   "source": [
    "n = 1  # how many digits we will display\n",
    "plt.figure(figsize=(20, 4))\n",
    "for i in range(n):\n",
    "    # display original\n",
    "    idea=np.random.randint(1,x_test.shape[0])\n",
    "    ax = plt.subplot(2, n, i + 1)\n",
    "    plt.imshow(x_test[idea].reshape(img_colsB,img_rows ).transpose(),vmin=0, vmax=30)\n",
    "    plt.viridis()\n",
    "    ax.get_xaxis().set_visible(False)\n",
    "    ax.get_yaxis().set_visible(False)\n",
    "\n",
    "    # display reconstruction\n",
    "    ax = plt.subplot(2, n, i + 1 + n)\n",
    "    plt.imshow(decoded_imgs[idea].reshape(img_colsB, img_rows).transpose(),vmin=0, vmax=30)\n",
    "    plt.viridis()\n",
    "    ax.get_xaxis().set_visible(False)\n",
    "    ax.get_yaxis().set_visible(False)\n",
    "plt.show()\n",
    "# print(idea)\n",
    "# print(x_test[idea])\n",
    "# print(decoded_imgs[idea])\n",
    "# print(decoded_imgs_scaled[idea])\n"
   ]
  },
  {
   "cell_type": "code",
   "execution_count": null,
   "metadata": {},
   "outputs": [],
   "source": []
  }
 ],
 "metadata": {
  "anaconda-cloud": {},
  "kernelspec": {
   "display_name": "Python [conda env:tensorflow]",
   "language": "python",
   "name": "conda-env-tensorflow-py"
  },
  "language_info": {
   "codemirror_mode": {
    "name": "ipython",
    "version": 3
   },
   "file_extension": ".py",
   "mimetype": "text/x-python",
   "name": "python",
   "nbconvert_exporter": "python",
   "pygments_lexer": "ipython3",
   "version": "3.6.5"
  },
  "varInspector": {
   "cols": {
    "lenName": 16,
    "lenType": 16,
    "lenVar": 40
   },
   "kernels_config": {
    "python": {
     "delete_cmd_postfix": "",
     "delete_cmd_prefix": "del ",
     "library": "var_list.py",
     "varRefreshCmd": "print(var_dic_list())"
    },
    "r": {
     "delete_cmd_postfix": ") ",
     "delete_cmd_prefix": "rm(",
     "library": "var_list.r",
     "varRefreshCmd": "cat(var_dic_list()) "
    }
   },
   "position": {
    "height": "495px",
    "left": "1249px",
    "right": "57px",
    "top": "240px",
    "width": "504px"
   },
   "types_to_exclude": [
    "module",
    "function",
    "builtin_function_or_method",
    "instance",
    "_Feature"
   ],
   "window_display": false
  }
 },
 "nbformat": 4,
 "nbformat_minor": 1
}
