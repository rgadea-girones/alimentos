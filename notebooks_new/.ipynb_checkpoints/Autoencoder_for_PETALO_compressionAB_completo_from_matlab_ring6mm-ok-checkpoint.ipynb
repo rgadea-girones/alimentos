{
 "cells": [
  {
   "cell_type": "markdown",
   "metadata": {},
   "source": [
    "# Autoencoder for PETALO\n",
    "\n",
    "Esta red la vamos a utilizar para comprimir los datos del anillo de 5mm de pitch"
   ]
  },
  {
   "cell_type": "code",
   "execution_count": 1,
   "metadata": {},
   "outputs": [
    {
     "name": "stdout",
     "output_type": "stream",
     "text": [
      "['', '/home/rgadea3/anaconda3/envs/tensorflow/lib/python36.zip', '/home/rgadea3/anaconda3/envs/tensorflow/lib/python3.6', '/home/rgadea3/anaconda3/envs/tensorflow/lib/python3.6/lib-dynload', '/home/rgadea3/anaconda3/envs/tensorflow/lib/python3.6/site-packages', '/home/rgadea3/anaconda3/envs/tensorflow/lib/python3.6/site-packages/IPython/extensions', '/home/rgadea3/.ipython']\n"
     ]
    },
    {
     "name": "stderr",
     "output_type": "stream",
     "text": [
      "Using TensorFlow backend.\n"
     ]
    }
   ],
   "source": [
    "import numpy as np\n",
    "#np.random.seed(1337)  # for reproducibility\n",
    "from time import time\n",
    "from sklearn import preprocessing\n",
    "import sys\n",
    "print(sys.path)\n",
    "sys.path.append(\"/home/rgadea/lmfit-py/\")\n",
    "from keras.datasets import mnist\n",
    "from keras.models import Model, Sequential\n",
    "from keras.layers import Input, Dense, Dropout, Activation, Flatten\n",
    "from keras.layers import Conv2D, MaxPooling2D,BatchNormalization\n",
    "from keras.callbacks import TensorBoard\n",
    "from keras.utils import np_utils\n",
    "from keras import regularizers\n",
    "from math import floor\n",
    "#from lmfit.models import  GaussianModel\n",
    "import matplotlib.pyplot as plt"
   ]
  },
  {
   "cell_type": "markdown",
   "metadata": {},
   "source": [
    "## Vamos introducir los datos de ficheros de Vicente\n"
   ]
  },
  {
   "cell_type": "markdown",
   "metadata": {},
   "source": [
    "El fichero que ontroducimos es el p_OF_6mm0.h5"
   ]
  },
  {
   "cell_type": "code",
   "execution_count": 2,
   "metadata": {},
   "outputs": [
    {
     "data": {
      "text/plain": [
       "(7698, 3008)"
      ]
     },
     "execution_count": 2,
     "metadata": {},
     "output_type": "execute_result"
    }
   ],
   "source": [
    "import pandas as pd\n",
    "filename = '../datos_octubre_2018/p_OF_6mm0.h5'\n",
    "conjunto_datos=pd.read_hdf(filename,'MC');\n",
    "conjunto_datos.shape\n"
   ]
  },
  {
   "cell_type": "markdown",
   "metadata": {},
   "source": [
    "## Network parameters from matlab:"
   ]
  },
  {
   "cell_type": "code",
   "execution_count": 3,
   "metadata": {},
   "outputs": [],
   "source": [
    "import scipy.io as sio\n",
    "import hdf5storage\n",
    "# empezamos con el autoencoder A de dimensión 576-250-576 (36 columnas x 16 filas de sensores )\n",
    "datos_matlab= hdf5storage.loadmat('../datos_octubre_2018/compresores_ring6mm_def_1_medio_export.mat')\n",
    "encoder_weights_A= datos_matlab.get('encoder_weights_A')\n",
    "encoder_biases_A= datos_matlab.get('encoder_biases_A')\n",
    "decoder_weights_A= datos_matlab.get('decoder_weights_A')\n",
    "decoder_biases_A= datos_matlab.get('decoder_biases_A')\n",
    "min_A=datos_matlab.get('minA')\n",
    "max_A=datos_matlab.get('maxA')\n",
    "Encoder_weights_A=encoder_weights_A.transpose()\n",
    "Encoder_biases_A=encoder_biases_A.transpose()[0]\n",
    "Decoder_weights_A=decoder_weights_A.transpose()\n",
    "Decoder_biases_A=decoder_biases_A.transpose()[0]\n",
    "\n",
    "# empezamos con el autoencoder B de dimensión 640-300-640 (40 columnas x 16 filas de sensores )\n",
    "encoder_weights_B= datos_matlab.get('encoder_weights_B')\n",
    "encoder_biases_B= datos_matlab.get('encoder_biases_B')\n",
    "decoder_weights_B= datos_matlab.get('decoder_weights_B')\n",
    "decoder_biases_B= datos_matlab.get('decoder_biases_B')\n",
    "min_B=datos_matlab.get('minB')\n",
    "max_B=datos_matlab.get('maxB')\n",
    "Encoder_weights_B=encoder_weights_B.transpose()\n",
    "Encoder_biases_B=encoder_biases_B.transpose()[0]\n",
    "Decoder_weights_B=decoder_weights_B.transpose()\n",
    "Decoder_biases_B=decoder_biases_B.transpose()[0]\n",
    "\n",
    "#Encoder_biases[0]"
   ]
  },
  {
   "cell_type": "markdown",
   "metadata": {},
   "source": [
    "## Creación de los modelos KERAS de los dos autoencoders"
   ]
  },
  {
   "cell_type": "markdown",
   "metadata": {},
   "source": [
    "Vamos a crear los dos autoencoders compresores como modelos Keras. En principio no los voy a utilizar; pero es posible que en un futuro sea necesario"
   ]
  },
  {
   "cell_type": "code",
   "execution_count": 4,
   "metadata": {},
   "outputs": [],
   "source": [
    "    \n",
    "encoding_dimA = 250  # floats -> compression of factor 2, assuming the input is 480 floats\n",
    "\n",
    "# input image dimensions = sensor dimensions\n",
    "img_rows, img_colsA = 16, 36\n",
    "input_output_dim_A=img_rows*img_colsA\n",
    "# this is our input placeholder\n",
    "input_img_A = Input(shape=(input_output_dim_A,))\n",
    "# \"encoded\" is the encoded representation of the input\n",
    "encoded_A = Dense(encoding_dimA, activation='sigmoid',use_bias=True, weights=[Encoder_weights_A,Encoder_biases_A] )(input_img_A)\n",
    "# \"decoded\" is the lossy reconstruction of the input\n",
    "decoded_A = Dense(input_output_dim_A, activation='sigmoid',use_bias=True, weights=[Decoder_weights_A,Decoder_biases_A] )(encoded_A)\n",
    "\n",
    "# this model maps an input to its reconstruction\n",
    "autoencoder_matlab_A = Model(input_img_A, decoded_A)\n",
    "# autoencoder_matlab.get_weights()"
   ]
  },
  {
   "cell_type": "code",
   "execution_count": 5,
   "metadata": {
    "scrolled": true
   },
   "outputs": [],
   "source": [
    "\n",
    "encoding_dimB = 300 \n",
    "# input image dimensions = sensor dimensions\n",
    "img_rows, img_colsB = 16, 40\n",
    "input_output_dim_B=img_rows*img_colsB\n",
    "# this is our input placeholder\n",
    "input_img_B = Input(shape=(input_output_dim_B,))\n",
    "# \"encoded\" is the encoded representation of the input\n",
    "encoded_B = Dense(encoding_dimB, activation='sigmoid',use_bias=True, weights=[Encoder_weights_B,Encoder_biases_B] )(input_img_B)\n",
    "# \"decoded\" is the lossy reconstruction of the input\n",
    "decoded_B = Dense(input_output_dim_B, activation='sigmoid',use_bias=True, weights=[Decoder_weights_B,Decoder_biases_B] )(encoded_B)\n",
    "\n",
    "# this model maps an input to its reconstruction\n",
    "\n",
    "\n",
    "autoencoder_matlab_B = Model(input_img_B, decoded_B)"
   ]
  },
  {
   "cell_type": "markdown",
   "metadata": {},
   "source": [
    "## Prepare data into training and test set."
   ]
  },
  {
   "cell_type": "markdown",
   "metadata": {},
   "source": [
    "Vamos a generar las matrices de datos para la red neuronal . En esta seccion de código cambio de recorrer fila a fila (Paola) a recorrer columna a columna"
   ]
  },
  {
   "cell_type": "code",
   "execution_count": 6,
   "metadata": {},
   "outputs": [
    {
     "name": "stdout",
     "output_type": "stream",
     "text": [
      "(7698, 3008)\n",
      "(7698, 3008)\n"
     ]
    }
   ],
   "source": [
    "L1A=3;\n",
    "# hay tres L1 con 576 sensores (36*16)\n",
    "L1B=2;\n",
    "# hay dos L1 con 640 sensores (40*16)\n",
    "X_train=conjunto_datos.values;\n",
    "x_train=X_train;\n",
    "\n",
    "for i in range (X_train.shape[0]):\n",
    "    idea1=X_train[i,:].reshape(img_rows,(L1A*img_colsA+L1B*img_colsB));\n",
    "    ideat=idea1.transpose();\n",
    "    idea2=ideat.reshape(1,(L1A*img_colsA+L1B*img_colsB)*img_rows);\n",
    "    x_train[i,:] =idea2;\n",
    "x_test = x_train;\n",
    "print(x_train.shape)\n",
    "print(x_test.shape)"
   ]
  },
  {
   "cell_type": "markdown",
   "metadata": {},
   "source": [
    "# Vamos a procesar y comprimir con las dos redes"
   ]
  },
  {
   "cell_type": "markdown",
   "metadata": {},
   "source": [
    "Primero escalamos los datos"
   ]
  },
  {
   "cell_type": "code",
   "execution_count": 17,
   "metadata": {},
   "outputs": [
    {
     "name": "stderr",
     "output_type": "stream",
     "text": [
      "/home/rgadea3/anaconda3/envs/tensorflow/lib/python3.6/site-packages/sklearn/utils/validation.py:475: DataConversionWarning: Data with input dtype int32 was converted to float64 by MinMaxScaler.\n",
      "  warnings.warn(msg, DataConversionWarning)\n"
     ]
    },
    {
     "data": {
      "text/plain": [
       "(1728,)"
      ]
     },
     "execution_count": 17,
     "metadata": {},
     "output_type": "execute_result"
    }
   ],
   "source": [
    "# min_max_scaler = preprocessing.QuantileTransformer().fit(x_train)\n",
    "# min_max_scaler = preprocessing.MaxAbsScaler().fit(x_train)\n",
    "# min_max_scaler = preprocessing.StandardScaler(with_mean=False).fit(x_train)\n",
    "# min_max_scaler = preprocessing.RobustScaler().fit(x_train)\n",
    "min_max_scaler = preprocessing.MinMaxScaler().fit(x_train)\n",
    "\n",
    "min_max_scaler_A = preprocessing.MinMaxScaler().fit(x_train[:,0:L1A*input_output_dim_A])\n",
    "min_max_scaler_B = preprocessing.MinMaxScaler().fit(x_train[:,0+L1A*input_output_dim_A:0+L1A*input_output_dim_A+L1B*input_output_dim_B])\n",
    "x_test_scaled = min_max_scaler.transform(x_test)\n",
    "\n",
    "\n",
    "min_max_scaler_A.data_max_.shape"
   ]
  },
  {
   "cell_type": "markdown",
   "metadata": {},
   "source": [
    "Ahora los particionamos y pasamos por las redes de compresión. Hay una red la A que se utiliza 5 veces\n",
    "y otra red la B que se utiliza 1 vez"
   ]
  },
  {
   "cell_type": "code",
   "execution_count": 8,
   "metadata": {},
   "outputs": [],
   "source": [
    "\n",
    "def sigmoid(x, derivative=False):\n",
    "  return x*(1-x) if derivative else 1/(1+np.exp(-x))\n",
    "ideaA=np.zeros((L1A,input_output_dim_A))\n",
    "ideaB=np.zeros((L1B,input_output_dim_B)) \n",
    "cara_externa=x_test[:,0: L1A*input_output_dim_A+L1B*input_output_dim_B] \n",
    "cara_externa_reconstruida=np.zeros((x_test.shape[0],L1A*input_output_dim_A+L1B*input_output_dim_B))\n",
    "for i in range(x_test.shape[0]):\n",
    "    for k in range(L1A):\n",
    "        ideaA[k,:]=x_test[i,k*input_output_dim_A:k*input_output_dim_A+input_output_dim_A]\n",
    "    entrada_imgs_A=(ideaA-min_A.transpose())/(max_A.transpose()-min_A.transpose())\n",
    "    encoded_imgs_A = sigmoid(np.dot(entrada_imgs_A, Encoder_weights_A) + Encoder_biases_A)\n",
    "    decoded_imgs_A= sigmoid(np.dot(encoded_imgs_A, Decoder_weights_A) + Decoder_biases_A)\n",
    "    #print(decoded_imgs_A.shape)\n",
    "    salida_reconstructed_1 = decoded_imgs_A*(max_A.transpose()-min_A.transpose())+min_A.transpose();\n",
    "    for k in range(L1B):\n",
    "        ideaB[k,:input_output_dim_B]=x_test[i,L1A*input_output_dim_A+k*input_output_dim_B:L1A*input_output_dim_A+k*input_output_dim_B+input_output_dim_B]\n",
    "    entrada_imgs_B=(ideaB-min_B.transpose())/(max_B.transpose()-min_B.transpose())\n",
    "    encoded_imgs_B = sigmoid(np.dot(entrada_imgs_B, Encoder_weights_B) + Encoder_biases_B)\n",
    "    decoded_imgs_B= sigmoid(np.dot(encoded_imgs_B, Decoder_weights_B) + Decoder_biases_B)\n",
    "    salida_reconstructed_2 = decoded_imgs_B*(max_B.transpose()-min_B.transpose())+min_B.transpose(); \n",
    "    hola1=np.reshape(salida_reconstructed_1,(L1A*input_output_dim_A))\n",
    "    hola2=np.reshape(salida_reconstructed_2,(L1B*input_output_dim_B))\n",
    "    #print(hola.shape)\n",
    "    salida_total=np.concatenate((hola1,hola2))\n",
    "    \n",
    "    #print(salida_total.shape)\n",
    "    cara_externa_reconstruida[i]=salida_total"
   ]
  },
  {
   "cell_type": "markdown",
   "metadata": {},
   "source": [
    "## Visualizamos los resultados"
   ]
  },
  {
   "cell_type": "markdown",
   "metadata": {},
   "source": [
    "Visualizamos todos los sensores: "
   ]
  },
  {
   "cell_type": "code",
   "execution_count": 14,
   "metadata": {},
   "outputs": [
    {
     "data": {
      "image/png": "[encoded data removed]",
      "text/plain": [
       "<Figure size 2880x720 with 2 Axes>"
      ]
     },
     "metadata": {},
     "output_type": "display_data"
    }
   ],
   "source": [
    "n = 1  # how many digits we will display\n",
    "plt.figure(figsize=(40, 10))\n",
    "for i in range(n):\n",
    "    # display original\n",
    "    idea=np.random.randint(1,x_test.shape[0])\n",
    "    ax = plt.subplot(2, n, i + 1)\n",
    "    plt.imshow(cara_externa[idea].reshape(L1A*img_colsA+L1B*img_colsB, img_rows).transpose(),vmin=0, vmax=10)\n",
    "    plt.viridis()\n",
    "    ax.get_xaxis().set_visible(False)\n",
    "    ax.get_yaxis().set_visible(False)\n",
    "\n",
    "    # display reconstruction\n",
    "    ax = plt.subplot(2, n, i + 1 + n)\n",
    "    plt.imshow(cara_externa_reconstruida[idea].reshape(L1A*img_colsA+L1B*img_colsB, img_rows).transpose(), vmin=0, vmax=10)\n",
    "    plt.viridis()\n",
    "    ax.get_xaxis().set_visible(False)\n",
    "    ax.get_yaxis().set_visible(False)\n",
    "plt.show()"
   ]
  },
  {
   "cell_type": "markdown",
   "metadata": {},
   "source": [
    "Visualizamos ahora L1 a L1, teniendo en cuenta que hay de dos tipos:\n",
    "L1A (con 36 columnas )"
   ]
  },
  {
   "cell_type": "code",
   "execution_count": 15,
   "metadata": {
    "scrolled": true
   },
   "outputs": [
    {
     "data": {
      "image/png": "[encoded data removed]",
      "text/plain": [
       "<Figure size 2880x720 with 6 Axes>"
      ]
     },
     "metadata": {},
     "output_type": "display_data"
    }
   ],
   "source": [
    "n = L1A  # how many digits we will display\n",
    "plt.figure(figsize=(40, 10))\n",
    "for i in range(n):\n",
    "    # display original\n",
    "    ax = plt.subplot(2, n, i + 1)\n",
    "    plt.imshow(cara_externa[idea].reshape(L1A*img_colsA+L1B*img_colsB, img_rows).transpose()[:,i*img_colsA:(i+1)*img_colsA] ,vmin=0, vmax=10)\n",
    "    plt.viridis()\n",
    "    ax.get_xaxis().set_visible(False)\n",
    "    ax.get_yaxis().set_visible(False)\n",
    "    ax = plt.subplot(2, n, i + 1+n)\n",
    "    plt.imshow(cara_externa_reconstruida[idea].reshape(L1A*img_colsA+L1B*img_colsB, img_rows).transpose()[:,i*img_colsA:(i+1)*img_colsA] ,vmin=0, vmax=10)\n",
    "    plt.viridis()\n",
    "    ax.get_xaxis().set_visible(False)\n",
    "    ax.get_yaxis().set_visible(False)\n",
    "plt.show()"
   ]
  },
  {
   "attachments": {},
   "cell_type": "markdown",
   "metadata": {},
   "source": [
    "Y ahora los L1B (con 40 columnas)"
   ]
  },
  {
   "cell_type": "code",
   "execution_count": 16,
   "metadata": {
    "scrolled": true
   },
   "outputs": [
    {
     "data": {
      "image/png": "[encoded data removed]",
      "text/plain": [
       "<Figure size 2880x720 with 4 Axes>"
      ]
     },
     "metadata": {},
     "output_type": "display_data"
    },
    {
     "name": "stdout",
     "output_type": "stream",
     "text": [
      "619\n"
     ]
    }
   ],
   "source": [
    "n = L1B  # how many digits we will display\n",
    "plt.figure(figsize=(40, 10))\n",
    "for i in range(n):\n",
    "    # display original\n",
    "    ax = plt.subplot(2, n, i + 1)\n",
    "    plt.imshow(cara_externa[idea].reshape(L1A*img_colsA+L1B*img_colsB, img_rows).transpose()[:,L1A*img_colsA+i*img_colsB:L1A*img_colsA+(i+1)*img_colsB],vmin=0, vmax=10)\n",
    "    plt.viridis()\n",
    "    ax.get_xaxis().set_visible(False)\n",
    "    ax.get_yaxis().set_visible(False)\n",
    "    ax = plt.subplot(2, n, i + 1+n)\n",
    "    plt.imshow(cara_externa_reconstruida[idea].reshape(L1A*img_colsA+L1B*img_colsB, img_rows).transpose()[:,L1A*img_colsA+i*img_colsB:L1A*img_colsA+(i+1)*img_colsB],vmin=0, vmax=10)\n",
    "    plt.viridis()\n",
    "    ax.get_xaxis().set_visible(False)\n",
    "    ax.get_yaxis().set_visible(False)\n",
    "plt.show()\n",
    "print(idea)"
   ]
  },
  {
   "cell_type": "code",
   "execution_count": 12,
   "metadata": {},
   "outputs": [
    {
     "name": "stdout",
     "output_type": "stream",
     "text": [
      "[  0   0   0   0   1   0   1   1   1   1   4   5   8 101   6   2   2   1\n",
      "   0   0   0   0   0   0   0   1   1   1   1   0   0   0   0   0   0   0\n",
      "   0   0   0   0   0   1   1   0   0   0   1   1   0   0   0   1   0   0\n",
      "   0   0   0   0   0   0   0   0   0   0   0   0   0   0   0   0   0   0\n",
      "   0   0   0   0   0   0   0   0   0   0   0   0   0   0   0   0   0   0\n",
      "   0   0   0   0   0   0   0   0   0   0   0   0   0   0   0   0   0   0\n",
      "   0   0   0   0   0   0   0   0   0   0   0   0   0   0   0   0   0   0\n",
      "   0   0   0   0   0   0   0   0   0   0   0   0   0   0   0   0   0   0\n",
      "   0   0   0   0   0   0   0   0   0   0   0   0   0   0   0   0   0   0\n",
      "   0   0   0   0   0   0   0   0   0   0   0   0   1   0   1   0   0   0\n",
      "   0   0   0   1   1   0   0   1]\n"
     ]
    }
   ],
   "source": [
    "print(np.amax(cara_externa[idea].reshape(L1A*img_colsA+L1B*img_colsB,img_rows),axis=1)[:])"
   ]
  },
  {
   "cell_type": "code",
   "execution_count": 13,
   "metadata": {},
   "outputs": [
    {
     "name": "stdout",
     "output_type": "stream",
     "text": [
      "[4.43690516e-01 2.32417180e-01 8.07422962e-02 7.53974056e-01\n",
      " 5.93830445e-01 1.65533769e-01 1.10759652e+00 2.53500351e+00\n",
      " 1.33835618e+00 2.04070438e+00 5.32658434e+00 4.65591694e+00\n",
      " 8.20008205e+00 9.25408607e+01 8.70654472e+00 3.80734226e+00\n",
      " 7.82741813e-01 4.87943263e-01 2.79051795e-01 2.14978272e-01\n",
      " 2.47577919e-01 1.11093283e-01 1.07349036e-01 1.07608875e-01\n",
      " 3.43222638e-01 1.11456045e-01 1.20585193e-01 1.95807537e-01\n",
      " 3.27427051e-01 1.62167772e-01 7.97305979e-01 7.99943116e-01\n",
      " 3.49105227e-01 3.74077594e-01 1.68743327e-01 2.72813884e-01\n",
      " 1.25959707e-01 9.79831523e-02 1.05372329e-01 9.09228367e-02\n",
      " 1.34263215e-01 8.15329144e-02 9.62130432e-02 1.21182368e-01\n",
      " 9.28230816e-02 7.96742951e-02 9.02389357e-02 8.42742474e-02\n",
      " 8.52923493e-02 8.28576460e-02 1.08675387e-01 7.48912328e-02\n",
      " 9.28063202e-02 8.16205592e-02 7.82626698e-02 7.59866732e-02\n",
      " 6.43720513e-02 6.59859304e-02 6.51377332e-02 7.76003655e-02\n",
      " 7.81815576e-02 7.41224782e-02 7.40661447e-02 7.20873820e-02\n",
      " 6.80175596e-02 8.29583506e-02 1.09423464e-01 7.62877621e-02\n",
      " 8.56840563e-02 8.23186785e-02 9.16106943e-02 1.11879767e-01\n",
      " 1.27596140e-01 9.39553103e-02 1.02639232e-01 8.57103160e-02\n",
      " 1.28860327e-01 8.08974321e-02 9.50901832e-02 1.22857439e-01\n",
      " 8.67471773e-02 7.71934766e-02 8.69302279e-02 8.06473929e-02\n",
      " 8.17242587e-02 8.15004022e-02 1.07558081e-01 7.50743457e-02\n",
      " 9.37145030e-02 8.02715826e-02 7.91954859e-02 7.44533154e-02\n",
      " 6.66860391e-02 6.74062277e-02 6.61881902e-02 7.99851188e-02\n",
      " 7.97613119e-02 7.61474871e-02 7.76552932e-02 7.40611366e-02\n",
      " 7.30683971e-02 8.47543866e-02 1.21826871e-01 8.03027779e-02\n",
      " 8.70095574e-02 8.41279974e-02 9.98075550e-02 1.20813419e-01\n",
      " 1.06825257e-01 9.15274071e-02 9.10854438e-02 8.50866183e-02\n",
      " 7.88158791e-02 8.57290582e-02 7.95434799e-02 8.56485850e-02\n",
      " 9.64031407e-02 8.16105335e-02 7.11165313e-02 7.90421512e-02\n",
      " 1.02958438e-01 7.49458964e-02 8.52985310e-02 6.94941729e-02\n",
      " 6.83657015e-02 7.19276342e-02 6.31681078e-02 7.65947521e-02\n",
      " 7.67706700e-02 6.23977049e-02 7.26510363e-02 7.33227217e-02\n",
      " 7.87724455e-02 6.20355226e-02 7.31059647e-02 6.73335315e-02\n",
      " 6.62533170e-02 6.78201373e-02 8.03177353e-02 6.94996809e-02\n",
      " 6.68411298e-02 7.06877726e-02 7.95281823e-02 9.30394285e-02\n",
      " 1.07381228e-01 8.37697420e-02 9.51039059e-02 1.13120995e-01\n",
      " 1.04838301e-01 8.97772824e-02 8.96779516e-02 8.41747453e-02\n",
      " 7.90923626e-02 8.50155507e-02 7.91839899e-02 8.45671243e-02\n",
      " 9.48468689e-02 8.24540254e-02 7.11728390e-02 7.77781680e-02\n",
      " 1.00421847e-01 7.48257980e-02 8.54823530e-02 6.96383353e-02\n",
      " 6.68720539e-02 7.10515217e-02 6.35120306e-02 7.71401185e-02\n",
      " 7.68973887e-02 6.25685602e-02 7.24532210e-02 7.34209630e-02\n",
      " 7.82146307e-02 6.30354196e-02 7.37286353e-02 6.84756506e-02\n",
      " 6.71926468e-02 7.03684561e-02 8.44480330e-02 7.17818712e-02\n",
      " 6.85106726e-02 7.20727150e-02 8.14889727e-02 9.56400878e-02\n",
      " 1.06167599e-01 8.56008253e-02 9.48811738e-02 1.13789994e-01]\n"
     ]
    }
   ],
   "source": [
    "print(np.amax(cara_externa_reconstruida[idea].reshape(L1A*img_colsA+L1B*img_colsB,img_rows),axis=1)[:])"
   ]
  },
  {
   "cell_type": "code",
   "execution_count": null,
   "metadata": {},
   "outputs": [],
   "source": []
  }
 ],
 "metadata": {
  "anaconda-cloud": {},
  "kernelspec": {
   "display_name": "Python [conda env:tensorflow]",
   "language": "python",
   "name": "conda-env-tensorflow-py"
  },
  "language_info": {
   "codemirror_mode": {
    "name": "ipython",
    "version": 3
   },
   "file_extension": ".py",
   "mimetype": "text/x-python",
   "name": "python",
   "nbconvert_exporter": "python",
   "pygments_lexer": "ipython3",
   "version": "3.6.5"
  },
  "varInspector": {
   "cols": {
    "lenName": 16,
    "lenType": 16,
    "lenVar": 40
   },
   "kernels_config": {
    "python": {
     "delete_cmd_postfix": "",
     "delete_cmd_prefix": "del ",
     "library": "var_list.py",
     "varRefreshCmd": "print(var_dic_list())"
    },
    "r": {
     "delete_cmd_postfix": ") ",
     "delete_cmd_prefix": "rm(",
     "library": "var_list.r",
     "varRefreshCmd": "cat(var_dic_list()) "
    }
   },
   "position": {
    "height": "479px",
    "left": "1594px",
    "right": "-183px",
    "top": "113px",
    "width": "637px"
   },
   "types_to_exclude": [
    "module",
    "function",
    "builtin_function_or_method",
    "instance",
    "_Feature"
   ],
   "window_display": true
  }
 },
 "nbformat": 4,
 "nbformat_minor": 1
}
