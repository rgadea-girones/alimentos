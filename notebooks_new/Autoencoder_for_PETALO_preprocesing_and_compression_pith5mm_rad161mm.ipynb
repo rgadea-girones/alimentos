{
 "cells": [
  {
   "cell_type": "markdown",
   "metadata": {},
   "source": [
    "# Simple AUTOENCODER for PETALO\n",
    "\n",
    "Esta red la vamos a utilizar para obtener el radio "
   ]
  },
  {
   "cell_type": "code",
   "execution_count": 44,
   "metadata": {},
   "outputs": [
    {
     "name": "stdout",
     "output_type": "stream",
     "text": [
      "['', '/home/rgadea3/anaconda3/envs/tensorflow/lib/python36.zip', '/home/rgadea3/anaconda3/envs/tensorflow/lib/python3.6', '/home/rgadea3/anaconda3/envs/tensorflow/lib/python3.6/lib-dynload', '/home/rgadea3/anaconda3/envs/tensorflow/lib/python3.6/site-packages', '/home/rgadea3/anaconda3/envs/tensorflow/lib/python3.6/site-packages/IPython/extensions', '/home/rgadea3/.ipython', '/home/rgadea/lmfit-py/', '/home/rgadea/lmfit-py/', '/home/rgadea/lmfit-py/']\n"
     ]
    }
   ],
   "source": [
    "import numpy as np\n",
    "#np.random.seed(1337)  # for reproducibility\n",
    "from time import time\n",
    "from sklearn import preprocessing\n",
    "import sys\n",
    "print(sys.path)\n",
    "sys.path.append(\"/home/rgadea/lmfit-py/\")\n",
    "import seaborn as sns\n",
    "from keras.datasets import mnist\n",
    "from keras.models import Model, Sequential\n",
    "from keras.layers import Input, Dense, Dropout, Activation, Flatten\n",
    "from keras.layers import Conv2D, MaxPooling2D,BatchNormalization\n",
    "from keras.callbacks import TensorBoard, EarlyStopping, ModelCheckpoint\n",
    "from keras.utils import np_utils\n",
    "from keras import regularizers\n",
    "from math import floor\n",
    "#from lmfit.models import  GaussianModel\n",
    "import matplotlib.pyplot as plt"
   ]
  },
  {
   "cell_type": "markdown",
   "metadata": {},
   "source": [
    "## Vamos introducir los datos de petalo preprocesados en matlab\n"
   ]
  },
  {
   "cell_type": "code",
   "execution_count": 19,
   "metadata": {},
   "outputs": [
    {
     "data": {
      "text/plain": [
       "(66498, 640)"
      ]
     },
     "execution_count": 19,
     "metadata": {},
     "output_type": "execute_result"
    }
   ],
   "source": [
    "import scipy.io as sio\n",
    "import hdf5storage\n",
    "datos_matlab = hdf5storage.loadmat('../datos_octubre_2018/conjunto_entrenamiento_octubre_2018_red_pitch5mm_rad161mm_total.mat')\n",
    "conjunto_datos= datos_matlab.get('photodefA')\n",
    "conjunto_datos.shape"
   ]
  },
  {
   "cell_type": "code",
   "execution_count": 20,
   "metadata": {},
   "outputs": [
    {
     "data": {
      "text/plain": [
       "(6320, 3840)"
      ]
     },
     "execution_count": 20,
     "metadata": {},
     "output_type": "execute_result"
    }
   ],
   "source": [
    "import os\n",
    "import pandas as pd\n",
    "dir_name='../datos_octubre_2018'\n",
    "base_filename='p_OF_5mm_161mm'\n",
    "filename_suffix='.h5'\n",
    "file=os.path.join(dir_name, base_filename+ \"{0:03d}\".format(0) + filename_suffix)\n",
    "conjunto_datos_waves=pd.read_hdf(file,'MC')\n",
    "datos_waves=conjunto_datos_waves.values\n",
    "datos_waves.shape"
   ]
  },
  {
   "cell_type": "code",
   "execution_count": 21,
   "metadata": {
    "scrolled": true
   },
   "outputs": [
    {
     "data": {
      "text/plain": [
       "(12641, 3840)"
      ]
     },
     "execution_count": 21,
     "metadata": {},
     "output_type": "execute_result"
    }
   ],
   "source": [
    "for i in range(1,2):\n",
    "    file=os.path.join(dir_name, base_filename+ \"{0:03d}\".format(i) + filename_suffix)\n",
    "    #print(file)\n",
    "    veamos=pd.read_hdf(file,'MC')\n",
    "    veamos_array=veamos.values\n",
    "    datos_waves=np.concatenate((datos_waves,veamos_array),axis=0)\n",
    "datos_waves.shape"
   ]
  },
  {
   "cell_type": "code",
   "execution_count": 22,
   "metadata": {},
   "outputs": [
    {
     "name": "stdout",
     "output_type": "stream",
     "text": [
      "(12641, 3840)\n"
     ]
    }
   ],
   "source": [
    "L1A=6;\n",
    "# hay tres L1 con 640 sensores (40*16)\n",
    "# input image dimensions\n",
    "img_rows, img_cols = 16, 40\n",
    "\n",
    "X_trained=datos_waves;\n",
    "x_trained=X_trained;\n",
    "\n",
    "for i in range (X_trained.shape[0]):\n",
    "    idea1=X_trained[i,:].reshape(img_rows,(L1A*img_cols));\n",
    "    ideat=idea1.transpose();\n",
    "    idea2=ideat.reshape(1,(L1A*img_cols)*img_rows);\n",
    "    x_trained[i,:] =idea2;\n",
    "\n",
    "print(x_trained.shape)\n"
   ]
  },
  {
   "cell_type": "code",
   "execution_count": 23,
   "metadata": {},
   "outputs": [],
   "source": [
    "input_output_dim_A=img_rows*img_cols\n",
    "ideaA=np.zeros((L1A,input_output_dim_A))\n",
    "\n",
    "conjunto_datos=np.zeros((x_trained.shape[0]*L1A,input_output_dim_A))\n",
    "for i in range(x_trained.shape[0]):\n",
    "    for k in range(L1A):\n",
    "        ideaA[k,:]=x_trained[i,k*input_output_dim_A:k*input_output_dim_A+input_output_dim_A]\n",
    "    conjunto_datos[(i)*L1A :(i+1)*L1A,:] = ideaA    \n",
    "    \n",
    "\n",
    "  "
   ]
  },
  {
   "cell_type": "code",
   "execution_count": null,
   "metadata": {},
   "outputs": [],
   "source": []
  },
  {
   "cell_type": "markdown",
   "metadata": {},
   "source": [
    "## Network parameters:"
   ]
  },
  {
   "cell_type": "code",
   "execution_count": 24,
   "metadata": {},
   "outputs": [],
   "source": [
    "use_regularizer = True\n",
    "my_regularizer = None\n",
    "my_epochs = 50\n",
    "features_path = 'simple_autoe_features.pickle'\n",
    "labels_path = 'simple_autoe_labels.pickle'\n",
    "\n",
    "if use_regularizer:\n",
    "    # add a sparsity constraint on the encoded representations\n",
    "    # note use of 10e-5 leads to blurred results\n",
    "    my_regularizer = regularizers.l2(0.001)\n",
    "    # and a larger number of epochs as the added regularization the model\n",
    "    # is less likely to overfit and can be trained longer\n",
    "    my_epochs = 100\n",
    "    features_path = 'sparse_autoe_features.pickle'\n",
    "    labels_path = 'sparse_autoe_labels.pickle'\n",
    "\n",
    "   \n",
    "    \n",
    "encoding_dim = 320  # 32 floats -> compression of factor 24.5, assuming the input is 784 floats\n",
    "\n",
    "\n",
    "# this is our input placeholder\n",
    "\n",
    "input_img = Input(shape=(img_rows*img_cols,))\n",
    "\n",
    "# \"encoded\" is the encoded representation of the input\n",
    "encoded = Dense(encoding_dim, activation='sigmoid',kernel_regularizer=regularizers.l2(0.0), use_bias=True,bias_initializer='random_uniform')(input_img)\n",
    "# \"decoded\" is the lossy reconstruction of the input\n",
    "decoded = Dense(img_cols*img_rows, activation='linear',use_bias=True,bias_initializer='random_uniform')(encoded)\n",
    "\n",
    "# this model maps an input to its reconstruction\n",
    "\n",
    "\n",
    "#autoencoder=Sequential([\n",
    "#    Dense(encoding_dim, kernel_regularizer=regularizers.l2(0.001), use_bias=True,bias_initializer='random_uniform',input_shape=(640,)),\n",
    "#    Activation('sigmoid'),\n",
    "#    Dense(img_cols*img_rows, use_bias=True,bias_initializer='random_uniform'),\n",
    "#    Activation('linear'),\n",
    "#])\n",
    "\n",
    "autoencoder = Model(input_img, decoded)"
   ]
  },
  {
   "cell_type": "markdown",
   "metadata": {},
   "source": [
    "## Prepare data into training and test set."
   ]
  },
  {
   "cell_type": "code",
   "execution_count": 25,
   "metadata": {},
   "outputs": [
    {
     "name": "stdout",
     "output_type": "stream",
     "text": [
      "75846\n",
      "conjunto_datos shape: (75846, 640)\n",
      "45507\n",
      "15169\n",
      "15170\n"
     ]
    }
   ],
   "source": [
    "# the data, shuffled and split between train and test sets\n",
    "# (X_train, y_train), (X_test, y_test) = mnist.load_data()\n",
    "numero_muestras=conjunto_datos.shape[0]\n",
    "print(numero_muestras)\n",
    "print('conjunto_datos shape:', conjunto_datos.shape)\n",
    "\n",
    "tr_size=60\n",
    "val_size=20\n",
    "test_size=100-val_size-tr_size\n",
    "\n",
    "tamanyo_tr=floor(tr_size*numero_muestras/100)\n",
    "tamanyo_val=floor(val_size*numero_muestras/100)\n",
    "tamanyo_test=numero_muestras-tamanyo_tr-tamanyo_val\n",
    "print(tamanyo_tr)\n",
    "print(tamanyo_val)\n",
    "print(tamanyo_test)\n",
    "\n",
    "\n",
    "X_train=conjunto_datos[:tamanyo_tr,:]\n",
    "X_val=conjunto_datos[tamanyo_tr:tamanyo_tr+tamanyo_val,:]\n",
    "X_test=conjunto_datos[tamanyo_tr+tamanyo_val:numero_muestras,:]\n",
    "\n",
    "\n",
    "\n",
    "\n",
    "\n",
    "Y_train=conjunto_datos[:tamanyo_tr,1] #elijo la coordenada radius\n",
    "Y_val=conjunto_datos[tamanyo_tr:tamanyo_tr+tamanyo_val,1] #elijo la corrdenada radius\n",
    "Y_test=conjunto_datos[tamanyo_tr+tamanyo_val:numero_muestras,1] #elijo la corrdenada radius"
   ]
  },
  {
   "cell_type": "code",
   "execution_count": 26,
   "metadata": {},
   "outputs": [],
   "source": [
    "X_train = X_train.reshape(X_train.shape[0], img_cols, img_rows,1)\n",
    "X_val = X_val.reshape(X_val.shape[0], img_cols, img_rows,1)\n",
    "X_test = X_test.reshape(X_test.shape[0], img_cols, img_rows,1)\n",
    "\n",
    "\n",
    "input_shape = (img_cols, img_rows,1)\n",
    "#input_shape=input_shape.astype('int32')"
   ]
  },
  {
   "cell_type": "code",
   "execution_count": 27,
   "metadata": {},
   "outputs": [
    {
     "name": "stdout",
     "output_type": "stream",
     "text": [
      "X_train shape: (45507, 40, 16, 1)\n",
      "45507 train samples\n",
      "15169 validation samples\n",
      "15170 test samples\n"
     ]
    }
   ],
   "source": [
    "X_train = X_train.astype('float32')\n",
    "X_val= X_val.astype('float32')\n",
    "X_test = X_test.astype('float32')\n",
    "\n",
    "print('X_train shape:', X_train.shape)\n",
    "print(X_train.shape[0], 'train samples')\n",
    "print(X_val.shape[0], 'validation samples')\n",
    "print(X_test.shape[0], 'test samples')"
   ]
  },
  {
   "cell_type": "markdown",
   "metadata": {},
   "source": [
    "Display 20 random training images using image"
   ]
  },
  {
   "cell_type": "code",
   "execution_count": 28,
   "metadata": {},
   "outputs": [
    {
     "data": {
      "image/png": "[encoded data removed]",
      "text/plain": [
       "<Figure size 432x288 with 1 Axes>"
      ]
     },
     "metadata": {},
     "output_type": "display_data"
    },
    {
     "data": {
      "image/png": "[encoded data removed]",
      "text/plain": [
       "<Figure size 432x288 with 1 Axes>"
      ]
     },
     "metadata": {},
     "output_type": "display_data"
    },
    {
     "data": {
      "image/png": "[encoded data removed]",
      "text/plain": [
       "<Figure size 432x288 with 1 Axes>"
      ]
     },
     "metadata": {},
     "output_type": "display_data"
    },
    {
     "data": {
      "image/png": "[encoded data removed]",
      "text/plain": [
       "<Figure size 432x288 with 1 Axes>"
      ]
     },
     "metadata": {},
     "output_type": "display_data"
    }
   ],
   "source": [
    "# convert class vectors to binary class matrices\n",
    "#Y_train = np_utils.to_categorical(y_train, nb_classes)\n",
    "#Y_test = np_utils.to_categorical(y_test, nb_classes)\n",
    "for i in range(1,5):\n",
    "    idea=np.random.randint(1,X_train.shape[0])\n",
    "    plt.imshow(np.reshape(X_train[idea].transpose(), [16, 40]), vmin=0, vmax=30)\n",
    "    plt.viridis()\n",
    "    plt.show()"
   ]
  },
  {
   "cell_type": "markdown",
   "metadata": {},
   "source": [
    "Vamos a generar las matrices de datos para la red neuronal "
   ]
  },
  {
   "cell_type": "code",
   "execution_count": 29,
   "metadata": {},
   "outputs": [
    {
     "name": "stdout",
     "output_type": "stream",
     "text": [
      "(45507, 640)\n",
      "(15170, 640)\n"
     ]
    }
   ],
   "source": [
    "x_train = X_train.reshape((len(X_train), np.prod(X_train.shape[1:])))\n",
    "x_test = X_test.reshape((len(X_test), np.prod(X_test.shape[1:])))\n",
    "print(x_train.shape)\n",
    "print(x_test.shape)"
   ]
  },
  {
   "cell_type": "markdown",
   "metadata": {},
   "source": [
    "## Build the autoencoder. "
   ]
  },
  {
   "cell_type": "code",
   "execution_count": 30,
   "metadata": {},
   "outputs": [],
   "source": [
    "# this model maps an input to its encoded representation\n",
    "encoder = Model(input_img, encoded)\n",
    "\n",
    "# create a placeholder for an encoded (32-dimensional) input\n",
    "encoded_input = Input(shape=(encoding_dim,))\n",
    "# retrieve the last layer of the autoencoder model\n",
    "decoder_layer = autoencoder.layers[-1]\n",
    "# create the decoder model\n",
    "decoder = Model(encoded_input, decoder_layer(encoded_input))\n",
    "\n",
    "autoencoder.compile(optimizer='RMSprop', loss='mse', metrics=['mae'])\n",
    "\n"
   ]
  },
  {
   "cell_type": "markdown",
   "metadata": {},
   "source": [
    "Show a summary of the model parameters. "
   ]
  },
  {
   "cell_type": "markdown",
   "metadata": {},
   "source": [
    "And now train the model and evaluate on the test set. "
   ]
  },
  {
   "cell_type": "code",
   "execution_count": 31,
   "metadata": {
    "scrolled": true
   },
   "outputs": [
    {
     "name": "stdout",
     "output_type": "stream",
     "text": [
      "Train on 45507 samples, validate on 15170 samples\n",
      "Epoch 1/5000\n",
      "45507/45507 [==============================] - 1s 18us/step - loss: 3.1997 - mean_absolute_error: 0.1926 - val_loss: 2.6803 - val_mean_absolute_error: 0.2164\n",
      "Epoch 2/5000\n",
      "45507/45507 [==============================] - 1s 19us/step - loss: 3.0221 - mean_absolute_error: 0.1717 - val_loss: 2.5790 - val_mean_absolute_error: 0.2062\n",
      "Epoch 3/5000\n",
      "45507/45507 [==============================] - 1s 19us/step - loss: 2.9334 - mean_absolute_error: 0.1678 - val_loss: 2.5140 - val_mean_absolute_error: 0.2023\n",
      "Epoch 4/5000\n",
      "45507/45507 [==============================] - 1s 19us/step - loss: 2.8700 - mean_absolute_error: 0.1669 - val_loss: 2.4640 - val_mean_absolute_error: 0.1932\n",
      "Epoch 5/5000\n",
      "45507/45507 [==============================] - 1s 19us/step - loss: 2.8198 - mean_absolute_error: 0.1674 - val_loss: 2.4263 - val_mean_absolute_error: 0.1895\n",
      "Epoch 6/5000\n",
      "45507/45507 [==============================] - 1s 20us/step - loss: 2.7774 - mean_absolute_error: 0.1667 - val_loss: 2.3964 - val_mean_absolute_error: 0.1964\n",
      "Epoch 7/5000\n",
      "45507/45507 [==============================] - 1s 20us/step - loss: 2.7417 - mean_absolute_error: 0.1678 - val_loss: 2.3662 - val_mean_absolute_error: 0.1847\n",
      "Epoch 8/5000\n",
      "45507/45507 [==============================] - 1s 19us/step - loss: 2.7090 - mean_absolute_error: 0.1668 - val_loss: 2.3430 - val_mean_absolute_error: 0.1853\n",
      "Epoch 9/5000\n",
      "45507/45507 [==============================] - 1s 20us/step - loss: 2.6803 - mean_absolute_error: 0.1687 - val_loss: 2.3217 - val_mean_absolute_error: 0.1822\n",
      "Epoch 10/5000\n",
      "45507/45507 [==============================] - 1s 20us/step - loss: 2.6533 - mean_absolute_error: 0.1684 - val_loss: 2.3017 - val_mean_absolute_error: 0.1822\n",
      "Epoch 11/5000\n",
      "45507/45507 [==============================] - 1s 19us/step - loss: 2.6288 - mean_absolute_error: 0.1686 - val_loss: 2.2844 - val_mean_absolute_error: 0.1864\n",
      "Epoch 12/5000\n",
      "45507/45507 [==============================] - 1s 16us/step - loss: 2.6060 - mean_absolute_error: 0.1693 - val_loss: 2.2680 - val_mean_absolute_error: 0.1829\n",
      "Epoch 13/5000\n",
      "45507/45507 [==============================] - 1s 19us/step - loss: 2.5849 - mean_absolute_error: 0.1702 - val_loss: 2.2524 - val_mean_absolute_error: 0.1808\n",
      "Epoch 14/5000\n",
      "45507/45507 [==============================] - 1s 19us/step - loss: 2.5645 - mean_absolute_error: 0.1697 - val_loss: 2.2398 - val_mean_absolute_error: 0.1831\n",
      "Epoch 15/5000\n",
      "45507/45507 [==============================] - 1s 20us/step - loss: 2.5457 - mean_absolute_error: 0.1703 - val_loss: 2.2254 - val_mean_absolute_error: 0.1817\n",
      "Epoch 16/5000\n",
      "45507/45507 [==============================] - 1s 19us/step - loss: 2.5279 - mean_absolute_error: 0.1712 - val_loss: 2.2124 - val_mean_absolute_error: 0.1782\n",
      "Epoch 17/5000\n",
      "45507/45507 [==============================] - 1s 20us/step - loss: 2.5105 - mean_absolute_error: 0.1713 - val_loss: 2.2014 - val_mean_absolute_error: 0.1785\n",
      "Epoch 18/5000\n",
      "45507/45507 [==============================] - 1s 18us/step - loss: 2.4947 - mean_absolute_error: 0.1721 - val_loss: 2.1910 - val_mean_absolute_error: 0.1803\n",
      "Epoch 19/5000\n",
      "45507/45507 [==============================] - 1s 19us/step - loss: 2.4786 - mean_absolute_error: 0.1716 - val_loss: 2.1805 - val_mean_absolute_error: 0.1794\n",
      "Epoch 20/5000\n",
      "45507/45507 [==============================] - 1s 20us/step - loss: 2.4638 - mean_absolute_error: 0.1726 - val_loss: 2.1699 - val_mean_absolute_error: 0.1762\n",
      "Epoch 21/5000\n",
      "45507/45507 [==============================] - 1s 20us/step - loss: 2.4496 - mean_absolute_error: 0.1734 - val_loss: 2.1621 - val_mean_absolute_error: 0.1840\n",
      "Epoch 22/5000\n",
      "45507/45507 [==============================] - 1s 19us/step - loss: 2.4358 - mean_absolute_error: 0.1738 - val_loss: 2.1520 - val_mean_absolute_error: 0.1799\n",
      "Epoch 23/5000\n",
      "45507/45507 [==============================] - 1s 19us/step - loss: 2.4222 - mean_absolute_error: 0.1735 - val_loss: 2.1428 - val_mean_absolute_error: 0.1778\n",
      "Epoch 24/5000\n",
      "45507/45507 [==============================] - 1s 19us/step - loss: 2.4096 - mean_absolute_error: 0.1743 - val_loss: 2.1349 - val_mean_absolute_error: 0.1842\n",
      "Epoch 25/5000\n",
      "45507/45507 [==============================] - 1s 20us/step - loss: 2.3972 - mean_absolute_error: 0.1745 - val_loss: 2.1279 - val_mean_absolute_error: 0.1789\n",
      "Epoch 26/5000\n",
      "45507/45507 [==============================] - 1s 20us/step - loss: 2.3851 - mean_absolute_error: 0.1749 - val_loss: 2.1200 - val_mean_absolute_error: 0.1831\n",
      "Epoch 27/5000\n",
      "45507/45507 [==============================] - 1s 20us/step - loss: 2.3735 - mean_absolute_error: 0.1751 - val_loss: 2.1116 - val_mean_absolute_error: 0.1778\n",
      "Epoch 28/5000\n",
      "45507/45507 [==============================] - 1s 20us/step - loss: 2.3621 - mean_absolute_error: 0.1754 - val_loss: 2.1034 - val_mean_absolute_error: 0.1788\n",
      "Epoch 29/5000\n",
      "45507/45507 [==============================] - 1s 19us/step - loss: 2.3514 - mean_absolute_error: 0.1757 - val_loss: 2.0961 - val_mean_absolute_error: 0.1786\n",
      "Epoch 30/5000\n",
      "45507/45507 [==============================] - 1s 20us/step - loss: 2.3405 - mean_absolute_error: 0.1763 - val_loss: 2.0902 - val_mean_absolute_error: 0.1768\n",
      "Epoch 31/5000\n",
      "45507/45507 [==============================] - 1s 20us/step - loss: 2.3304 - mean_absolute_error: 0.1764 - val_loss: 2.0841 - val_mean_absolute_error: 0.1776\n",
      "Epoch 32/5000\n",
      "45507/45507 [==============================] - 1s 20us/step - loss: 2.3202 - mean_absolute_error: 0.1768 - val_loss: 2.0777 - val_mean_absolute_error: 0.1847\n",
      "Epoch 33/5000\n",
      "45507/45507 [==============================] - 1s 20us/step - loss: 2.3103 - mean_absolute_error: 0.1767 - val_loss: 2.0708 - val_mean_absolute_error: 0.1780\n",
      "Epoch 34/5000\n",
      "45507/45507 [==============================] - 1s 20us/step - loss: 2.3009 - mean_absolute_error: 0.1775 - val_loss: 2.0670 - val_mean_absolute_error: 0.1829\n",
      "Epoch 35/5000\n",
      "45507/45507 [==============================] - 1s 20us/step - loss: 2.2918 - mean_absolute_error: 0.1776 - val_loss: 2.0602 - val_mean_absolute_error: 0.1814\n",
      "Epoch 36/5000\n",
      "45507/45507 [==============================] - 1s 20us/step - loss: 2.2823 - mean_absolute_error: 0.1779 - val_loss: 2.0530 - val_mean_absolute_error: 0.1762\n",
      "Epoch 37/5000\n",
      "45507/45507 [==============================] - 1s 20us/step - loss: 2.2735 - mean_absolute_error: 0.1779 - val_loss: 2.0471 - val_mean_absolute_error: 0.1791\n",
      "Epoch 38/5000\n",
      "45507/45507 [==============================] - 1s 20us/step - loss: 2.2648 - mean_absolute_error: 0.1784 - val_loss: 2.0420 - val_mean_absolute_error: 0.1821\n",
      "Epoch 39/5000\n",
      "45507/45507 [==============================] - 1s 19us/step - loss: 2.2564 - mean_absolute_error: 0.1787 - val_loss: 2.0367 - val_mean_absolute_error: 0.1801\n",
      "Epoch 40/5000\n",
      "45507/45507 [==============================] - 1s 20us/step - loss: 2.2479 - mean_absolute_error: 0.1791 - val_loss: 2.0298 - val_mean_absolute_error: 0.1708\n",
      "Epoch 41/5000\n",
      "45507/45507 [==============================] - 1s 20us/step - loss: 2.2395 - mean_absolute_error: 0.1789 - val_loss: 2.0285 - val_mean_absolute_error: 0.1834\n",
      "Epoch 42/5000\n",
      "45507/45507 [==============================] - 1s 20us/step - loss: 2.2316 - mean_absolute_error: 0.1793 - val_loss: 2.0228 - val_mean_absolute_error: 0.1790\n",
      "Epoch 43/5000\n",
      "45507/45507 [==============================] - 1s 19us/step - loss: 2.2236 - mean_absolute_error: 0.1793 - val_loss: 2.0196 - val_mean_absolute_error: 0.1871\n",
      "Epoch 44/5000\n",
      "45507/45507 [==============================] - 1s 19us/step - loss: 2.2160 - mean_absolute_error: 0.1795 - val_loss: 2.0129 - val_mean_absolute_error: 0.1850\n",
      "Epoch 45/5000\n",
      "45507/45507 [==============================] - 1s 19us/step - loss: 2.2087 - mean_absolute_error: 0.1798 - val_loss: 2.0071 - val_mean_absolute_error: 0.1835\n",
      "Epoch 46/5000\n",
      "45507/45507 [==============================] - 1s 19us/step - loss: 2.2009 - mean_absolute_error: 0.1795 - val_loss: 2.0046 - val_mean_absolute_error: 0.1819\n",
      "Epoch 47/5000\n",
      "45507/45507 [==============================] - 1s 20us/step - loss: 2.1936 - mean_absolute_error: 0.1800 - val_loss: 1.9990 - val_mean_absolute_error: 0.1831\n",
      "Epoch 48/5000\n"
     ]
    },
    {
     "name": "stdout",
     "output_type": "stream",
     "text": [
      "45507/45507 [==============================] - 1s 20us/step - loss: 2.1865 - mean_absolute_error: 0.1800 - val_loss: 1.9932 - val_mean_absolute_error: 0.1782\n",
      "Epoch 49/5000\n",
      "45507/45507 [==============================] - 1s 20us/step - loss: 2.1796 - mean_absolute_error: 0.1809 - val_loss: 1.9908 - val_mean_absolute_error: 0.1831\n",
      "Epoch 50/5000\n",
      "45507/45507 [==============================] - 1s 20us/step - loss: 2.1727 - mean_absolute_error: 0.1806 - val_loss: 1.9861 - val_mean_absolute_error: 0.1803\n",
      "Epoch 51/5000\n",
      "45507/45507 [==============================] - 1s 20us/step - loss: 2.1659 - mean_absolute_error: 0.1807 - val_loss: 1.9803 - val_mean_absolute_error: 0.1794\n",
      "Epoch 52/5000\n",
      "45507/45507 [==============================] - 1s 20us/step - loss: 2.1590 - mean_absolute_error: 0.1809 - val_loss: 1.9758 - val_mean_absolute_error: 0.1777\n",
      "Epoch 53/5000\n",
      "45507/45507 [==============================] - 1s 20us/step - loss: 2.1525 - mean_absolute_error: 0.1811 - val_loss: 1.9738 - val_mean_absolute_error: 0.1804\n",
      "Epoch 54/5000\n",
      "45507/45507 [==============================] - 1s 20us/step - loss: 2.1461 - mean_absolute_error: 0.1811 - val_loss: 1.9699 - val_mean_absolute_error: 0.1775\n",
      "Epoch 55/5000\n",
      "45507/45507 [==============================] - 1s 19us/step - loss: 2.1398 - mean_absolute_error: 0.1814 - val_loss: 1.9664 - val_mean_absolute_error: 0.1837\n",
      "Epoch 56/5000\n",
      "45507/45507 [==============================] - 1s 19us/step - loss: 2.1331 - mean_absolute_error: 0.1810 - val_loss: 1.9612 - val_mean_absolute_error: 0.1810\n",
      "Epoch 57/5000\n",
      "45507/45507 [==============================] - 1s 20us/step - loss: 2.1269 - mean_absolute_error: 0.1813 - val_loss: 1.9568 - val_mean_absolute_error: 0.1801\n",
      "Epoch 58/5000\n",
      "45507/45507 [==============================] - 1s 20us/step - loss: 2.1207 - mean_absolute_error: 0.1817 - val_loss: 1.9542 - val_mean_absolute_error: 0.1842\n",
      "Epoch 59/5000\n",
      "45507/45507 [==============================] - 1s 20us/step - loss: 2.1148 - mean_absolute_error: 0.1816 - val_loss: 1.9500 - val_mean_absolute_error: 0.1804\n",
      "Epoch 60/5000\n",
      "45507/45507 [==============================] - 1s 20us/step - loss: 2.1088 - mean_absolute_error: 0.1819 - val_loss: 1.9463 - val_mean_absolute_error: 0.1830\n",
      "Epoch 61/5000\n",
      "45507/45507 [==============================] - 1s 20us/step - loss: 2.1028 - mean_absolute_error: 0.1820 - val_loss: 1.9414 - val_mean_absolute_error: 0.1771\n",
      "Epoch 62/5000\n",
      "45507/45507 [==============================] - 1s 19us/step - loss: 2.0975 - mean_absolute_error: 0.1824 - val_loss: 1.9400 - val_mean_absolute_error: 0.1864\n",
      "Epoch 63/5000\n",
      "45507/45507 [==============================] - 1s 20us/step - loss: 2.0912 - mean_absolute_error: 0.1824 - val_loss: 1.9350 - val_mean_absolute_error: 0.1811\n",
      "Epoch 64/5000\n",
      "45507/45507 [==============================] - 1s 20us/step - loss: 2.0858 - mean_absolute_error: 0.1824 - val_loss: 1.9323 - val_mean_absolute_error: 0.1803\n",
      "Epoch 65/5000\n",
      "45507/45507 [==============================] - 1s 20us/step - loss: 2.0799 - mean_absolute_error: 0.1824 - val_loss: 1.9274 - val_mean_absolute_error: 0.1811\n",
      "Epoch 66/5000\n",
      "45507/45507 [==============================] - 1s 20us/step - loss: 2.0746 - mean_absolute_error: 0.1824 - val_loss: 1.9259 - val_mean_absolute_error: 0.1845\n",
      "Epoch 67/5000\n",
      "45507/45507 [==============================] - 1s 20us/step - loss: 2.0691 - mean_absolute_error: 0.1827 - val_loss: 1.9216 - val_mean_absolute_error: 0.1856\n",
      "Epoch 68/5000\n",
      "45507/45507 [==============================] - 1s 19us/step - loss: 2.0634 - mean_absolute_error: 0.1826 - val_loss: 1.9177 - val_mean_absolute_error: 0.1817\n",
      "Epoch 69/5000\n",
      "45507/45507 [==============================] - 1s 19us/step - loss: 2.0582 - mean_absolute_error: 0.1829 - val_loss: 1.9157 - val_mean_absolute_error: 0.1845\n",
      "Epoch 70/5000\n",
      "45507/45507 [==============================] - 1s 19us/step - loss: 2.0529 - mean_absolute_error: 0.1829 - val_loss: 1.9129 - val_mean_absolute_error: 0.1862\n",
      "Epoch 71/5000\n",
      "45507/45507 [==============================] - 1s 20us/step - loss: 2.0477 - mean_absolute_error: 0.1832 - val_loss: 1.9074 - val_mean_absolute_error: 0.1798\n",
      "Epoch 72/5000\n",
      "45507/45507 [==============================] - 1s 19us/step - loss: 2.0425 - mean_absolute_error: 0.1831 - val_loss: 1.9055 - val_mean_absolute_error: 0.1831\n",
      "Epoch 73/5000\n",
      "45507/45507 [==============================] - 1s 19us/step - loss: 2.0373 - mean_absolute_error: 0.1827 - val_loss: 1.9028 - val_mean_absolute_error: 0.1828\n",
      "Epoch 74/5000\n",
      "45507/45507 [==============================] - 1s 20us/step - loss: 2.0323 - mean_absolute_error: 0.1833 - val_loss: 1.9006 - val_mean_absolute_error: 0.1862\n",
      "Epoch 75/5000\n",
      "45507/45507 [==============================] - 1s 19us/step - loss: 2.0272 - mean_absolute_error: 0.1831 - val_loss: 1.8949 - val_mean_absolute_error: 0.1817\n",
      "Epoch 76/5000\n",
      "45507/45507 [==============================] - 1s 19us/step - loss: 2.0225 - mean_absolute_error: 0.1836 - val_loss: 1.8919 - val_mean_absolute_error: 0.1834\n",
      "Epoch 77/5000\n",
      "45507/45507 [==============================] - 1s 19us/step - loss: 2.0174 - mean_absolute_error: 0.1833 - val_loss: 1.8908 - val_mean_absolute_error: 0.1837\n",
      "Epoch 78/5000\n",
      "45507/45507 [==============================] - 1s 19us/step - loss: 2.0126 - mean_absolute_error: 0.1835 - val_loss: 1.8864 - val_mean_absolute_error: 0.1828\n",
      "Epoch 79/5000\n",
      "45507/45507 [==============================] - 1s 18us/step - loss: 2.0078 - mean_absolute_error: 0.1837 - val_loss: 1.8859 - val_mean_absolute_error: 0.1862\n",
      "Epoch 80/5000\n",
      "45507/45507 [==============================] - 1s 18us/step - loss: 2.0025 - mean_absolute_error: 0.1830 - val_loss: 1.8825 - val_mean_absolute_error: 0.1841\n",
      "Epoch 81/5000\n",
      "45507/45507 [==============================] - 1s 17us/step - loss: 1.9983 - mean_absolute_error: 0.1837 - val_loss: 1.8781 - val_mean_absolute_error: 0.1818\n",
      "Epoch 82/5000\n",
      "45507/45507 [==============================] - 1s 19us/step - loss: 1.9934 - mean_absolute_error: 0.1836 - val_loss: 1.8757 - val_mean_absolute_error: 0.1836\n",
      "Epoch 83/5000\n",
      "45507/45507 [==============================] - 1s 19us/step - loss: 1.9891 - mean_absolute_error: 0.1841 - val_loss: 1.8717 - val_mean_absolute_error: 0.1805\n",
      "Epoch 84/5000\n",
      "45507/45507 [==============================] - 1s 19us/step - loss: 1.9840 - mean_absolute_error: 0.1836 - val_loss: 1.8693 - val_mean_absolute_error: 0.1806\n",
      "Epoch 85/5000\n",
      "45507/45507 [==============================] - 1s 19us/step - loss: 1.9794 - mean_absolute_error: 0.1834 - val_loss: 1.8696 - val_mean_absolute_error: 0.1844\n",
      "Epoch 86/5000\n",
      "45507/45507 [==============================] - 1s 19us/step - loss: 1.9752 - mean_absolute_error: 0.1839 - val_loss: 1.8650 - val_mean_absolute_error: 0.1843\n",
      "Epoch 87/5000\n",
      "45507/45507 [==============================] - 1s 19us/step - loss: 1.9704 - mean_absolute_error: 0.1840 - val_loss: 1.8599 - val_mean_absolute_error: 0.1818\n",
      "Epoch 88/5000\n",
      "45507/45507 [==============================] - 1s 19us/step - loss: 1.9663 - mean_absolute_error: 0.1842 - val_loss: 1.8566 - val_mean_absolute_error: 0.1833\n",
      "Epoch 89/5000\n",
      "45507/45507 [==============================] - 1s 19us/step - loss: 1.9619 - mean_absolute_error: 0.1840 - val_loss: 1.8558 - val_mean_absolute_error: 0.1849\n",
      "Epoch 90/5000\n",
      "45507/45507 [==============================] - 1s 19us/step - loss: 1.9575 - mean_absolute_error: 0.1841 - val_loss: 1.8531 - val_mean_absolute_error: 0.1845\n",
      "Epoch 91/5000\n",
      "45507/45507 [==============================] - 1s 19us/step - loss: 1.9530 - mean_absolute_error: 0.1840 - val_loss: 1.8510 - val_mean_absolute_error: 0.1851\n",
      "Epoch 92/5000\n",
      "45507/45507 [==============================] - 1s 19us/step - loss: 1.9489 - mean_absolute_error: 0.1842 - val_loss: 1.8478 - val_mean_absolute_error: 0.1840\n",
      "Epoch 93/5000\n",
      "45507/45507 [==============================] - 1s 19us/step - loss: 1.9443 - mean_absolute_error: 0.1838 - val_loss: 1.8467 - val_mean_absolute_error: 0.1860\n",
      "Epoch 94/5000\n",
      "45507/45507 [==============================] - 1s 19us/step - loss: 1.9404 - mean_absolute_error: 0.1841 - val_loss: 1.8436 - val_mean_absolute_error: 0.1846\n",
      "Epoch 95/5000\n",
      "45507/45507 [==============================] - 1s 19us/step - loss: 1.9363 - mean_absolute_error: 0.1840 - val_loss: 1.8402 - val_mean_absolute_error: 0.1814\n"
     ]
    },
    {
     "name": "stdout",
     "output_type": "stream",
     "text": [
      "Epoch 96/5000\n",
      "45507/45507 [==============================] - 1s 19us/step - loss: 1.9324 - mean_absolute_error: 0.1844 - val_loss: 1.8360 - val_mean_absolute_error: 0.1802\n",
      "Epoch 97/5000\n",
      "45507/45507 [==============================] - 1s 19us/step - loss: 1.9276 - mean_absolute_error: 0.1838 - val_loss: 1.8367 - val_mean_absolute_error: 0.1870\n",
      "Epoch 98/5000\n",
      "45507/45507 [==============================] - 1s 19us/step - loss: 1.9239 - mean_absolute_error: 0.1843 - val_loss: 1.8330 - val_mean_absolute_error: 0.1829\n",
      "Epoch 99/5000\n",
      "45507/45507 [==============================] - 1s 19us/step - loss: 1.9200 - mean_absolute_error: 0.1841 - val_loss: 1.8299 - val_mean_absolute_error: 0.1844\n",
      "Epoch 100/5000\n",
      "45507/45507 [==============================] - 1s 19us/step - loss: 1.9158 - mean_absolute_error: 0.1845 - val_loss: 1.8280 - val_mean_absolute_error: 0.1821\n",
      "Epoch 101/5000\n",
      "45507/45507 [==============================] - 1s 19us/step - loss: 1.9120 - mean_absolute_error: 0.1843 - val_loss: 1.8251 - val_mean_absolute_error: 0.1844\n",
      "Epoch 102/5000\n",
      "45507/45507 [==============================] - 1s 19us/step - loss: 1.9081 - mean_absolute_error: 0.1846 - val_loss: 1.8239 - val_mean_absolute_error: 0.1864\n",
      "Epoch 103/5000\n",
      "45507/45507 [==============================] - 1s 19us/step - loss: 1.9042 - mean_absolute_error: 0.1842 - val_loss: 1.8211 - val_mean_absolute_error: 0.1831\n",
      "Epoch 104/5000\n",
      "45507/45507 [==============================] - 1s 19us/step - loss: 1.9002 - mean_absolute_error: 0.1842 - val_loss: 1.8198 - val_mean_absolute_error: 0.1865\n",
      "Epoch 105/5000\n",
      "45507/45507 [==============================] - 1s 19us/step - loss: 1.8963 - mean_absolute_error: 0.1842 - val_loss: 1.8144 - val_mean_absolute_error: 0.1834\n",
      "Epoch 106/5000\n",
      "45507/45507 [==============================] - 1s 19us/step - loss: 1.8922 - mean_absolute_error: 0.1845 - val_loss: 1.8127 - val_mean_absolute_error: 0.1823\n",
      "Epoch 107/5000\n",
      "45507/45507 [==============================] - 1s 19us/step - loss: 1.8888 - mean_absolute_error: 0.1845 - val_loss: 1.8110 - val_mean_absolute_error: 0.1843\n",
      "Epoch 108/5000\n",
      "45507/45507 [==============================] - 1s 19us/step - loss: 1.8849 - mean_absolute_error: 0.1844 - val_loss: 1.8076 - val_mean_absolute_error: 0.1821\n",
      "Epoch 109/5000\n",
      "45507/45507 [==============================] - 1s 19us/step - loss: 1.8810 - mean_absolute_error: 0.1844 - val_loss: 1.8075 - val_mean_absolute_error: 0.1856\n",
      "Epoch 110/5000\n",
      "45507/45507 [==============================] - 1s 19us/step - loss: 1.8776 - mean_absolute_error: 0.1842 - val_loss: 1.8041 - val_mean_absolute_error: 0.1838\n",
      "Epoch 111/5000\n",
      "45507/45507 [==============================] - 1s 19us/step - loss: 1.8736 - mean_absolute_error: 0.1846 - val_loss: 1.8009 - val_mean_absolute_error: 0.1824\n",
      "Epoch 112/5000\n",
      "45507/45507 [==============================] - 1s 19us/step - loss: 1.8700 - mean_absolute_error: 0.1848 - val_loss: 1.8013 - val_mean_absolute_error: 0.1829\n",
      "Epoch 113/5000\n",
      "45507/45507 [==============================] - 1s 19us/step - loss: 1.8665 - mean_absolute_error: 0.1843 - val_loss: 1.8005 - val_mean_absolute_error: 0.1895\n",
      "Epoch 114/5000\n",
      "45507/45507 [==============================] - 1s 18us/step - loss: 1.8626 - mean_absolute_error: 0.1842 - val_loss: 1.7960 - val_mean_absolute_error: 0.1845\n",
      "Epoch 115/5000\n",
      "45507/45507 [==============================] - 1s 19us/step - loss: 1.8593 - mean_absolute_error: 0.1845 - val_loss: 1.7941 - val_mean_absolute_error: 0.1862\n",
      "Epoch 116/5000\n",
      "45507/45507 [==============================] - 1s 19us/step - loss: 1.8556 - mean_absolute_error: 0.1843 - val_loss: 1.7899 - val_mean_absolute_error: 0.1803\n",
      "Epoch 117/5000\n",
      "45507/45507 [==============================] - 1s 19us/step - loss: 1.8520 - mean_absolute_error: 0.1844 - val_loss: 1.7897 - val_mean_absolute_error: 0.1850\n",
      "Epoch 118/5000\n",
      "45507/45507 [==============================] - 1s 19us/step - loss: 1.8489 - mean_absolute_error: 0.1848 - val_loss: 1.7871 - val_mean_absolute_error: 0.1827\n",
      "Epoch 119/5000\n",
      "45507/45507 [==============================] - 1s 19us/step - loss: 1.8448 - mean_absolute_error: 0.1846 - val_loss: 1.7856 - val_mean_absolute_error: 0.1844\n",
      "Epoch 120/5000\n",
      "45507/45507 [==============================] - 1s 19us/step - loss: 1.8416 - mean_absolute_error: 0.1846 - val_loss: 1.7818 - val_mean_absolute_error: 0.1823\n",
      "Epoch 121/5000\n",
      "45507/45507 [==============================] - 1s 19us/step - loss: 1.8382 - mean_absolute_error: 0.1841 - val_loss: 1.7820 - val_mean_absolute_error: 0.1858\n",
      "Epoch 122/5000\n",
      "45507/45507 [==============================] - 1s 19us/step - loss: 1.8351 - mean_absolute_error: 0.1847 - val_loss: 1.7791 - val_mean_absolute_error: 0.1864\n",
      "Epoch 123/5000\n",
      "45507/45507 [==============================] - 1s 19us/step - loss: 1.8314 - mean_absolute_error: 0.1846 - val_loss: 1.7793 - val_mean_absolute_error: 0.1859\n",
      "Epoch 124/5000\n",
      "45507/45507 [==============================] - 1s 19us/step - loss: 1.8280 - mean_absolute_error: 0.1841 - val_loss: 1.7761 - val_mean_absolute_error: 0.1861\n",
      "Epoch 125/5000\n",
      "45507/45507 [==============================] - 1s 19us/step - loss: 1.8245 - mean_absolute_error: 0.1844 - val_loss: 1.7740 - val_mean_absolute_error: 0.1862\n",
      "Epoch 126/5000\n",
      "45507/45507 [==============================] - 1s 19us/step - loss: 1.8215 - mean_absolute_error: 0.1848 - val_loss: 1.7717 - val_mean_absolute_error: 0.1836\n",
      "Epoch 127/5000\n",
      "45507/45507 [==============================] - 1s 19us/step - loss: 1.8179 - mean_absolute_error: 0.1844 - val_loss: 1.7683 - val_mean_absolute_error: 0.1807\n",
      "Epoch 128/5000\n",
      "45507/45507 [==============================] - 1s 19us/step - loss: 1.8148 - mean_absolute_error: 0.1848 - val_loss: 1.7689 - val_mean_absolute_error: 0.1852\n",
      "Epoch 129/5000\n",
      "45507/45507 [==============================] - 1s 19us/step - loss: 1.8115 - mean_absolute_error: 0.1847 - val_loss: 1.7668 - val_mean_absolute_error: 0.1871\n",
      "Epoch 130/5000\n",
      "45507/45507 [==============================] - 1s 19us/step - loss: 1.8081 - mean_absolute_error: 0.1848 - val_loss: 1.7631 - val_mean_absolute_error: 0.1847\n",
      "Epoch 131/5000\n",
      "45507/45507 [==============================] - 1s 19us/step - loss: 1.8047 - mean_absolute_error: 0.1842 - val_loss: 1.7618 - val_mean_absolute_error: 0.1833\n",
      "Epoch 132/5000\n",
      "45507/45507 [==============================] - 1s 19us/step - loss: 1.8019 - mean_absolute_error: 0.1842 - val_loss: 1.7608 - val_mean_absolute_error: 0.1863\n",
      "Epoch 133/5000\n",
      "45507/45507 [==============================] - 1s 19us/step - loss: 1.7984 - mean_absolute_error: 0.1843 - val_loss: 1.7602 - val_mean_absolute_error: 0.1840\n",
      "Epoch 134/5000\n",
      "45507/45507 [==============================] - 1s 19us/step - loss: 1.7953 - mean_absolute_error: 0.1849 - val_loss: 1.7578 - val_mean_absolute_error: 0.1860\n",
      "Epoch 135/5000\n",
      "45507/45507 [==============================] - 1s 19us/step - loss: 1.7921 - mean_absolute_error: 0.1843 - val_loss: 1.7539 - val_mean_absolute_error: 0.1842\n",
      "Epoch 136/5000\n",
      "45507/45507 [==============================] - 1s 19us/step - loss: 1.7891 - mean_absolute_error: 0.1851 - val_loss: 1.7532 - val_mean_absolute_error: 0.1828\n",
      "Epoch 137/5000\n",
      "45507/45507 [==============================] - 1s 18us/step - loss: 1.7859 - mean_absolute_error: 0.1845 - val_loss: 1.7530 - val_mean_absolute_error: 0.1882\n",
      "Epoch 138/5000\n",
      "45507/45507 [==============================] - 1s 19us/step - loss: 1.7830 - mean_absolute_error: 0.1849 - val_loss: 1.7495 - val_mean_absolute_error: 0.1853\n",
      "Epoch 139/5000\n",
      "45507/45507 [==============================] - 1s 20us/step - loss: 1.7800 - mean_absolute_error: 0.1848 - val_loss: 1.7485 - val_mean_absolute_error: 0.1834\n",
      "Epoch 140/5000\n",
      "45507/45507 [==============================] - 1s 20us/step - loss: 1.7768 - mean_absolute_error: 0.1849 - val_loss: 1.7467 - val_mean_absolute_error: 0.1829\n",
      "Epoch 141/5000\n",
      "45507/45507 [==============================] - 1s 19us/step - loss: 1.7735 - mean_absolute_error: 0.1848 - val_loss: 1.7429 - val_mean_absolute_error: 0.1841\n",
      "Epoch 142/5000\n",
      "45507/45507 [==============================] - 1s 19us/step - loss: 1.7704 - mean_absolute_error: 0.1846 - val_loss: 1.7430 - val_mean_absolute_error: 0.1859\n",
      "Epoch 143/5000\n"
     ]
    },
    {
     "name": "stdout",
     "output_type": "stream",
     "text": [
      "45507/45507 [==============================] - 1s 20us/step - loss: 1.7680 - mean_absolute_error: 0.1843 - val_loss: 1.7427 - val_mean_absolute_error: 0.1891\n",
      "Epoch 144/5000\n",
      "45507/45507 [==============================] - 1s 19us/step - loss: 1.7644 - mean_absolute_error: 0.1843 - val_loss: 1.7425 - val_mean_absolute_error: 0.1867\n",
      "Epoch 145/5000\n",
      "45507/45507 [==============================] - 1s 19us/step - loss: 1.7618 - mean_absolute_error: 0.1846 - val_loss: 1.7359 - val_mean_absolute_error: 0.1839\n",
      "Epoch 146/5000\n",
      "45507/45507 [==============================] - 1s 19us/step - loss: 1.7587 - mean_absolute_error: 0.1846 - val_loss: 1.7349 - val_mean_absolute_error: 0.1803\n",
      "Epoch 147/5000\n",
      "45507/45507 [==============================] - 1s 19us/step - loss: 1.7557 - mean_absolute_error: 0.1842 - val_loss: 1.7360 - val_mean_absolute_error: 0.1868\n",
      "Epoch 148/5000\n",
      "45507/45507 [==============================] - 1s 17us/step - loss: 1.7531 - mean_absolute_error: 0.1847 - val_loss: 1.7333 - val_mean_absolute_error: 0.1860\n",
      "Epoch 149/5000\n",
      "45507/45507 [==============================] - 1s 17us/step - loss: 1.7501 - mean_absolute_error: 0.1845 - val_loss: 1.7301 - val_mean_absolute_error: 0.1841\n",
      "Epoch 150/5000\n",
      "45507/45507 [==============================] - 1s 19us/step - loss: 1.7474 - mean_absolute_error: 0.1852 - val_loss: 1.7308 - val_mean_absolute_error: 0.1866\n",
      "Epoch 151/5000\n",
      "45507/45507 [==============================] - 1s 19us/step - loss: 1.7444 - mean_absolute_error: 0.1847 - val_loss: 1.7289 - val_mean_absolute_error: 0.1873\n",
      "Epoch 152/5000\n",
      "45507/45507 [==============================] - 1s 19us/step - loss: 1.7415 - mean_absolute_error: 0.1842 - val_loss: 1.7271 - val_mean_absolute_error: 0.1852\n",
      "Epoch 153/5000\n",
      "45507/45507 [==============================] - 1s 19us/step - loss: 1.7387 - mean_absolute_error: 0.1849 - val_loss: 1.7259 - val_mean_absolute_error: 0.1838\n",
      "Epoch 154/5000\n",
      "45507/45507 [==============================] - 1s 19us/step - loss: 1.7359 - mean_absolute_error: 0.1844 - val_loss: 1.7237 - val_mean_absolute_error: 0.1838\n",
      "Epoch 155/5000\n",
      "45507/45507 [==============================] - 1s 18us/step - loss: 1.7334 - mean_absolute_error: 0.1849 - val_loss: 1.7248 - val_mean_absolute_error: 0.1842\n",
      "Epoch 156/5000\n",
      "45507/45507 [==============================] - 1s 19us/step - loss: 1.7306 - mean_absolute_error: 0.1848 - val_loss: 1.7199 - val_mean_absolute_error: 0.1843\n",
      "Epoch 157/5000\n",
      "45507/45507 [==============================] - 1s 19us/step - loss: 1.7274 - mean_absolute_error: 0.1846 - val_loss: 1.7197 - val_mean_absolute_error: 0.1862\n",
      "Epoch 158/5000\n",
      "45507/45507 [==============================] - 1s 19us/step - loss: 1.7252 - mean_absolute_error: 0.1850 - val_loss: 1.7187 - val_mean_absolute_error: 0.1847\n",
      "Epoch 159/5000\n",
      "45507/45507 [==============================] - 1s 19us/step - loss: 1.7217 - mean_absolute_error: 0.1840 - val_loss: 1.7178 - val_mean_absolute_error: 0.1848\n",
      "Epoch 160/5000\n",
      "45507/45507 [==============================] - 1s 19us/step - loss: 1.7195 - mean_absolute_error: 0.1845 - val_loss: 1.7156 - val_mean_absolute_error: 0.1849\n",
      "Epoch 161/5000\n",
      "45507/45507 [==============================] - 1s 19us/step - loss: 1.7167 - mean_absolute_error: 0.1844 - val_loss: 1.7128 - val_mean_absolute_error: 0.1826\n",
      "Epoch 162/5000\n",
      "45507/45507 [==============================] - 1s 19us/step - loss: 1.7142 - mean_absolute_error: 0.1849 - val_loss: 1.7136 - val_mean_absolute_error: 0.1852\n",
      "Epoch 163/5000\n",
      "45507/45507 [==============================] - 1s 19us/step - loss: 1.7112 - mean_absolute_error: 0.1846 - val_loss: 1.7119 - val_mean_absolute_error: 0.1877\n",
      "Epoch 164/5000\n",
      "45507/45507 [==============================] - 1s 19us/step - loss: 1.7090 - mean_absolute_error: 0.1846 - val_loss: 1.7110 - val_mean_absolute_error: 0.1880\n",
      "Epoch 165/5000\n",
      "45507/45507 [==============================] - 1s 19us/step - loss: 1.7062 - mean_absolute_error: 0.1845 - val_loss: 1.7114 - val_mean_absolute_error: 0.1888\n",
      "Epoch 166/5000\n",
      "45507/45507 [==============================] - 1s 19us/step - loss: 1.7035 - mean_absolute_error: 0.1851 - val_loss: 1.7074 - val_mean_absolute_error: 0.1845\n",
      "Epoch 167/5000\n",
      "45507/45507 [==============================] - 1s 19us/step - loss: 1.7008 - mean_absolute_error: 0.1856 - val_loss: 1.7066 - val_mean_absolute_error: 0.1841\n",
      "Epoch 168/5000\n",
      "45507/45507 [==============================] - 1s 19us/step - loss: 1.6982 - mean_absolute_error: 0.1852 - val_loss: 1.7063 - val_mean_absolute_error: 0.1858\n",
      "Epoch 169/5000\n",
      "45507/45507 [==============================] - 1s 19us/step - loss: 1.6954 - mean_absolute_error: 0.1849 - val_loss: 1.7042 - val_mean_absolute_error: 0.1844\n",
      "Epoch 170/5000\n",
      "45507/45507 [==============================] - 1s 19us/step - loss: 1.6932 - mean_absolute_error: 0.1849 - val_loss: 1.7058 - val_mean_absolute_error: 0.1895\n",
      "Epoch 171/5000\n",
      "45507/45507 [==============================] - 1s 19us/step - loss: 1.6906 - mean_absolute_error: 0.1844 - val_loss: 1.7024 - val_mean_absolute_error: 0.1839\n",
      "Epoch 172/5000\n",
      "45507/45507 [==============================] - 1s 19us/step - loss: 1.6882 - mean_absolute_error: 0.1851 - val_loss: 1.6998 - val_mean_absolute_error: 0.1856\n",
      "Epoch 173/5000\n",
      "45507/45507 [==============================] - 1s 19us/step - loss: 1.6859 - mean_absolute_error: 0.1845 - val_loss: 1.6985 - val_mean_absolute_error: 0.1867\n",
      "Epoch 174/5000\n",
      "45507/45507 [==============================] - 1s 19us/step - loss: 1.6830 - mean_absolute_error: 0.1848 - val_loss: 1.6973 - val_mean_absolute_error: 0.1845\n",
      "Epoch 175/5000\n",
      "45507/45507 [==============================] - 1s 19us/step - loss: 1.6805 - mean_absolute_error: 0.1848 - val_loss: 1.6974 - val_mean_absolute_error: 0.1870\n",
      "Epoch 176/5000\n",
      "45507/45507 [==============================] - 1s 19us/step - loss: 1.6782 - mean_absolute_error: 0.1851 - val_loss: 1.6952 - val_mean_absolute_error: 0.1870\n",
      "Epoch 177/5000\n",
      "45507/45507 [==============================] - 1s 19us/step - loss: 1.6756 - mean_absolute_error: 0.1836 - val_loss: 1.6940 - val_mean_absolute_error: 0.1883\n",
      "Epoch 178/5000\n",
      "45507/45507 [==============================] - 1s 17us/step - loss: 1.6734 - mean_absolute_error: 0.1843 - val_loss: 1.6964 - val_mean_absolute_error: 0.1902\n",
      "Epoch 179/5000\n",
      "45507/45507 [==============================] - 1s 19us/step - loss: 1.6707 - mean_absolute_error: 0.1853 - val_loss: 1.6927 - val_mean_absolute_error: 0.1875\n",
      "Epoch 180/5000\n",
      "45507/45507 [==============================] - 1s 19us/step - loss: 1.6679 - mean_absolute_error: 0.1847 - val_loss: 1.6898 - val_mean_absolute_error: 0.1842\n",
      "Epoch 181/5000\n",
      "45507/45507 [==============================] - 1s 19us/step - loss: 1.6662 - mean_absolute_error: 0.1842 - val_loss: 1.6913 - val_mean_absolute_error: 0.1889\n",
      "Epoch 182/5000\n",
      "45507/45507 [==============================] - 1s 19us/step - loss: 1.6635 - mean_absolute_error: 0.1846 - val_loss: 1.6880 - val_mean_absolute_error: 0.1845\n",
      "Epoch 183/5000\n",
      "45507/45507 [==============================] - 1s 19us/step - loss: 1.6611 - mean_absolute_error: 0.1838 - val_loss: 1.6877 - val_mean_absolute_error: 0.1887\n",
      "Epoch 184/5000\n",
      "45507/45507 [==============================] - 1s 19us/step - loss: 1.6583 - mean_absolute_error: 0.1849 - val_loss: 1.6849 - val_mean_absolute_error: 0.1892\n",
      "Epoch 185/5000\n",
      "45507/45507 [==============================] - 1s 19us/step - loss: 1.6560 - mean_absolute_error: 0.1849 - val_loss: 1.6854 - val_mean_absolute_error: 0.1865\n",
      "Epoch 186/5000\n",
      "45507/45507 [==============================] - 1s 19us/step - loss: 1.6540 - mean_absolute_error: 0.1843 - val_loss: 1.6831 - val_mean_absolute_error: 0.1857\n",
      "Epoch 187/5000\n",
      "45507/45507 [==============================] - 1s 19us/step - loss: 1.6514 - mean_absolute_error: 0.1850 - val_loss: 1.6841 - val_mean_absolute_error: 0.1885\n",
      "Epoch 188/5000\n",
      "45507/45507 [==============================] - 1s 19us/step - loss: 1.6488 - mean_absolute_error: 0.1845 - val_loss: 1.6821 - val_mean_absolute_error: 0.1892\n",
      "Epoch 189/5000\n",
      "45507/45507 [==============================] - 1s 19us/step - loss: 1.6470 - mean_absolute_error: 0.1846 - val_loss: 1.6829 - val_mean_absolute_error: 0.1886\n",
      "Epoch 190/5000\n"
     ]
    },
    {
     "name": "stdout",
     "output_type": "stream",
     "text": [
      "45507/45507 [==============================] - 1s 19us/step - loss: 1.6442 - mean_absolute_error: 0.1838 - val_loss: 1.6792 - val_mean_absolute_error: 0.1849\n",
      "Epoch 191/5000\n",
      "45507/45507 [==============================] - 1s 19us/step - loss: 1.6425 - mean_absolute_error: 0.1844 - val_loss: 1.6791 - val_mean_absolute_error: 0.1886\n",
      "Epoch 192/5000\n",
      "45507/45507 [==============================] - 1s 19us/step - loss: 1.6402 - mean_absolute_error: 0.1843 - val_loss: 1.6754 - val_mean_absolute_error: 0.1882\n",
      "Epoch 193/5000\n",
      "45507/45507 [==============================] - 1s 19us/step - loss: 1.6377 - mean_absolute_error: 0.1850 - val_loss: 1.6739 - val_mean_absolute_error: 0.1838\n",
      "Epoch 194/5000\n",
      "45507/45507 [==============================] - 1s 19us/step - loss: 1.6354 - mean_absolute_error: 0.1843 - val_loss: 1.6749 - val_mean_absolute_error: 0.1858\n",
      "Epoch 195/5000\n",
      "45507/45507 [==============================] - 1s 19us/step - loss: 1.6335 - mean_absolute_error: 0.1847 - val_loss: 1.6746 - val_mean_absolute_error: 0.1860\n",
      "Epoch 196/5000\n",
      "45507/45507 [==============================] - 1s 19us/step - loss: 1.6305 - mean_absolute_error: 0.1842 - val_loss: 1.6742 - val_mean_absolute_error: 0.1922\n",
      "Epoch 197/5000\n",
      "45507/45507 [==============================] - 1s 20us/step - loss: 1.6287 - mean_absolute_error: 0.1837 - val_loss: 1.6731 - val_mean_absolute_error: 0.1902\n",
      "Epoch 198/5000\n",
      "45507/45507 [==============================] - 1s 19us/step - loss: 1.6265 - mean_absolute_error: 0.1849 - val_loss: 1.6703 - val_mean_absolute_error: 0.1890\n",
      "Epoch 199/5000\n",
      "45507/45507 [==============================] - 1s 19us/step - loss: 1.6242 - mean_absolute_error: 0.1851 - val_loss: 1.6700 - val_mean_absolute_error: 0.1891\n",
      "Epoch 200/5000\n",
      "45507/45507 [==============================] - 1s 19us/step - loss: 1.6216 - mean_absolute_error: 0.1841 - val_loss: 1.6675 - val_mean_absolute_error: 0.1884\n",
      "Epoch 201/5000\n",
      "45507/45507 [==============================] - 1s 19us/step - loss: 1.6204 - mean_absolute_error: 0.1854 - val_loss: 1.6682 - val_mean_absolute_error: 0.1897\n",
      "Epoch 202/5000\n",
      "45507/45507 [==============================] - 1s 19us/step - loss: 1.6181 - mean_absolute_error: 0.1849 - val_loss: 1.6658 - val_mean_absolute_error: 0.1867\n",
      "Epoch 203/5000\n",
      "45507/45507 [==============================] - 1s 19us/step - loss: 1.6151 - mean_absolute_error: 0.1844 - val_loss: 1.6663 - val_mean_absolute_error: 0.1908\n",
      "Epoch 204/5000\n",
      "45507/45507 [==============================] - 1s 19us/step - loss: 1.6132 - mean_absolute_error: 0.1849 - val_loss: 1.6655 - val_mean_absolute_error: 0.1874\n",
      "Epoch 205/5000\n",
      "45507/45507 [==============================] - 1s 19us/step - loss: 1.6110 - mean_absolute_error: 0.1848 - val_loss: 1.6638 - val_mean_absolute_error: 0.1909\n",
      "Epoch 206/5000\n",
      "45507/45507 [==============================] - 1s 19us/step - loss: 1.6093 - mean_absolute_error: 0.1851 - val_loss: 1.6642 - val_mean_absolute_error: 0.1893\n",
      "Epoch 207/5000\n",
      "45507/45507 [==============================] - 1s 19us/step - loss: 1.6065 - mean_absolute_error: 0.1851 - val_loss: 1.6614 - val_mean_absolute_error: 0.1902\n",
      "Epoch 208/5000\n",
      "45507/45507 [==============================] - 1s 19us/step - loss: 1.6053 - mean_absolute_error: 0.1847 - val_loss: 1.6631 - val_mean_absolute_error: 0.1873\n",
      "Epoch 209/5000\n",
      "45507/45507 [==============================] - 1s 19us/step - loss: 1.6033 - mean_absolute_error: 0.1834 - val_loss: 1.6573 - val_mean_absolute_error: 0.1848\n",
      "Epoch 210/5000\n",
      "45507/45507 [==============================] - 1s 19us/step - loss: 1.6007 - mean_absolute_error: 0.1827 - val_loss: 1.6604 - val_mean_absolute_error: 0.1926\n",
      "Epoch 211/5000\n",
      "45507/45507 [==============================] - 1s 19us/step - loss: 1.5987 - mean_absolute_error: 0.1852 - val_loss: 1.6553 - val_mean_absolute_error: 0.1851\n",
      "Epoch 212/5000\n",
      "45507/45507 [==============================] - 1s 18us/step - loss: 1.5970 - mean_absolute_error: 0.1837 - val_loss: 1.6577 - val_mean_absolute_error: 0.1912\n",
      "Epoch 213/5000\n",
      "45507/45507 [==============================] - 1s 19us/step - loss: 1.5948 - mean_absolute_error: 0.1835 - val_loss: 1.6539 - val_mean_absolute_error: 0.1844\n",
      "Epoch 214/5000\n",
      "45507/45507 [==============================] - 1s 19us/step - loss: 1.5925 - mean_absolute_error: 0.1844 - val_loss: 1.6560 - val_mean_absolute_error: 0.1914\n",
      "Epoch 215/5000\n",
      "45507/45507 [==============================] - 1s 19us/step - loss: 1.5906 - mean_absolute_error: 0.1845 - val_loss: 1.6526 - val_mean_absolute_error: 0.1879\n",
      "Epoch 216/5000\n",
      "45507/45507 [==============================] - 1s 18us/step - loss: 1.5883 - mean_absolute_error: 0.1850 - val_loss: 1.6529 - val_mean_absolute_error: 0.1866\n",
      "Epoch 217/5000\n",
      "45507/45507 [==============================] - 1s 20us/step - loss: 1.5863 - mean_absolute_error: 0.1851 - val_loss: 1.6519 - val_mean_absolute_error: 0.1873\n",
      "Epoch 218/5000\n",
      "45507/45507 [==============================] - 1s 18us/step - loss: 1.5842 - mean_absolute_error: 0.1845 - val_loss: 1.6526 - val_mean_absolute_error: 0.1923\n",
      "Epoch 219/5000\n",
      "45507/45507 [==============================] - 1s 17us/step - loss: 1.5830 - mean_absolute_error: 0.1848 - val_loss: 1.6516 - val_mean_absolute_error: 0.1888\n",
      "Epoch 220/5000\n",
      "45507/45507 [==============================] - 1s 19us/step - loss: 1.5803 - mean_absolute_error: 0.1837 - val_loss: 1.6500 - val_mean_absolute_error: 0.1890\n",
      "Epoch 221/5000\n",
      "45507/45507 [==============================] - 1s 19us/step - loss: 1.5786 - mean_absolute_error: 0.1850 - val_loss: 1.6489 - val_mean_absolute_error: 0.1896\n",
      "Epoch 222/5000\n",
      "45507/45507 [==============================] - 1s 19us/step - loss: 1.5767 - mean_absolute_error: 0.1832 - val_loss: 1.6470 - val_mean_absolute_error: 0.1900\n",
      "Epoch 223/5000\n",
      "45507/45507 [==============================] - 1s 19us/step - loss: 1.5744 - mean_absolute_error: 0.1847 - val_loss: 1.6493 - val_mean_absolute_error: 0.1918\n",
      "Epoch 224/5000\n",
      "45507/45507 [==============================] - 1s 20us/step - loss: 1.5725 - mean_absolute_error: 0.1851 - val_loss: 1.6469 - val_mean_absolute_error: 0.1903\n",
      "Epoch 225/5000\n",
      "45507/45507 [==============================] - 1s 19us/step - loss: 1.5707 - mean_absolute_error: 0.1847 - val_loss: 1.6455 - val_mean_absolute_error: 0.1911\n",
      "Epoch 226/5000\n",
      "45507/45507 [==============================] - 1s 19us/step - loss: 1.5687 - mean_absolute_error: 0.1851 - val_loss: 1.6436 - val_mean_absolute_error: 0.1904\n",
      "Epoch 227/5000\n",
      "45507/45507 [==============================] - 1s 19us/step - loss: 1.5667 - mean_absolute_error: 0.1844 - val_loss: 1.6470 - val_mean_absolute_error: 0.1923\n",
      "Epoch 228/5000\n",
      "45507/45507 [==============================] - 1s 19us/step - loss: 1.5651 - mean_absolute_error: 0.1842 - val_loss: 1.6465 - val_mean_absolute_error: 0.1916\n",
      "Epoch 229/5000\n",
      "45507/45507 [==============================] - 1s 19us/step - loss: 1.5632 - mean_absolute_error: 0.1850 - val_loss: 1.6427 - val_mean_absolute_error: 0.1926\n",
      "Epoch 230/5000\n",
      "45507/45507 [==============================] - 1s 19us/step - loss: 1.5613 - mean_absolute_error: 0.1847 - val_loss: 1.6435 - val_mean_absolute_error: 0.1888\n",
      "Epoch 231/5000\n",
      "45507/45507 [==============================] - 1s 19us/step - loss: 1.5595 - mean_absolute_error: 0.1848 - val_loss: 1.6418 - val_mean_absolute_error: 0.1920\n",
      "Epoch 232/5000\n",
      "45507/45507 [==============================] - 1s 19us/step - loss: 1.5574 - mean_absolute_error: 0.1851 - val_loss: 1.6414 - val_mean_absolute_error: 0.1907\n",
      "Epoch 233/5000\n",
      "45507/45507 [==============================] - 1s 19us/step - loss: 1.5556 - mean_absolute_error: 0.1847 - val_loss: 1.6401 - val_mean_absolute_error: 0.1889\n",
      "Epoch 234/5000\n",
      "45507/45507 [==============================] - 1s 19us/step - loss: 1.5537 - mean_absolute_error: 0.1846 - val_loss: 1.6396 - val_mean_absolute_error: 0.1883\n",
      "Epoch 235/5000\n",
      "45507/45507 [==============================] - 1s 19us/step - loss: 1.5518 - mean_absolute_error: 0.1844 - val_loss: 1.6366 - val_mean_absolute_error: 0.1910\n",
      "Epoch 236/5000\n",
      "45507/45507 [==============================] - 1s 19us/step - loss: 1.5500 - mean_absolute_error: 0.1849 - val_loss: 1.6374 - val_mean_absolute_error: 0.1883\n",
      "Epoch 237/5000\n"
     ]
    },
    {
     "name": "stdout",
     "output_type": "stream",
     "text": [
      "45507/45507 [==============================] - 1s 19us/step - loss: 1.5481 - mean_absolute_error: 0.1843 - val_loss: 1.6377 - val_mean_absolute_error: 0.1886\n",
      "Epoch 238/5000\n",
      "45507/45507 [==============================] - 1s 19us/step - loss: 1.5459 - mean_absolute_error: 0.1843 - val_loss: 1.6367 - val_mean_absolute_error: 0.1909\n",
      "Epoch 239/5000\n",
      "45507/45507 [==============================] - 1s 19us/step - loss: 1.5445 - mean_absolute_error: 0.1847 - val_loss: 1.6368 - val_mean_absolute_error: 0.1902\n",
      "Epoch 240/5000\n",
      "45507/45507 [==============================] - 1s 19us/step - loss: 1.5428 - mean_absolute_error: 0.1840 - val_loss: 1.6344 - val_mean_absolute_error: 0.1926\n",
      "Epoch 241/5000\n",
      "45507/45507 [==============================] - 1s 19us/step - loss: 1.5410 - mean_absolute_error: 0.1844 - val_loss: 1.6355 - val_mean_absolute_error: 0.1901\n",
      "Epoch 242/5000\n",
      "45507/45507 [==============================] - 1s 19us/step - loss: 1.5390 - mean_absolute_error: 0.1830 - val_loss: 1.6335 - val_mean_absolute_error: 0.1853\n",
      "Epoch 243/5000\n",
      "45507/45507 [==============================] - 1s 19us/step - loss: 1.5370 - mean_absolute_error: 0.1834 - val_loss: 1.6314 - val_mean_absolute_error: 0.1934\n",
      "Epoch 244/5000\n",
      "45507/45507 [==============================] - 1s 19us/step - loss: 1.5352 - mean_absolute_error: 0.1841 - val_loss: 1.6316 - val_mean_absolute_error: 0.1910\n",
      "Epoch 245/5000\n",
      "45507/45507 [==============================] - 1s 19us/step - loss: 1.5331 - mean_absolute_error: 0.1841 - val_loss: 1.6315 - val_mean_absolute_error: 0.1914\n",
      "Epoch 246/5000\n",
      "45507/45507 [==============================] - 1s 19us/step - loss: 1.5322 - mean_absolute_error: 0.1851 - val_loss: 1.6281 - val_mean_absolute_error: 0.1900\n",
      "Epoch 247/5000\n",
      "45507/45507 [==============================] - 1s 19us/step - loss: 1.5301 - mean_absolute_error: 0.1841 - val_loss: 1.6291 - val_mean_absolute_error: 0.1904\n",
      "Epoch 248/5000\n",
      "45507/45507 [==============================] - 1s 19us/step - loss: 1.5287 - mean_absolute_error: 0.1839 - val_loss: 1.6319 - val_mean_absolute_error: 0.1933\n",
      "Epoch 249/5000\n",
      "45507/45507 [==============================] - 1s 19us/step - loss: 1.5265 - mean_absolute_error: 0.1844 - val_loss: 1.6314 - val_mean_absolute_error: 0.1941\n",
      "Epoch 250/5000\n",
      "45507/45507 [==============================] - 1s 19us/step - loss: 1.5247 - mean_absolute_error: 0.1843 - val_loss: 1.6287 - val_mean_absolute_error: 0.1921\n",
      "Epoch 251/5000\n",
      "45507/45507 [==============================] - 1s 19us/step - loss: 1.5231 - mean_absolute_error: 0.1835 - val_loss: 1.6259 - val_mean_absolute_error: 0.1889\n",
      "Epoch 252/5000\n",
      "45507/45507 [==============================] - 1s 19us/step - loss: 1.5217 - mean_absolute_error: 0.1836 - val_loss: 1.6297 - val_mean_absolute_error: 0.1926\n",
      "Epoch 253/5000\n",
      "45507/45507 [==============================] - 1s 19us/step - loss: 1.5198 - mean_absolute_error: 0.1841 - val_loss: 1.6264 - val_mean_absolute_error: 0.1897\n",
      "Epoch 254/5000\n",
      "45507/45507 [==============================] - 1s 19us/step - loss: 1.5179 - mean_absolute_error: 0.1845 - val_loss: 1.6253 - val_mean_absolute_error: 0.1889\n",
      "Epoch 255/5000\n",
      "45507/45507 [==============================] - 1s 19us/step - loss: 1.5168 - mean_absolute_error: 0.1844 - val_loss: 1.6258 - val_mean_absolute_error: 0.1910\n",
      "Epoch 256/5000\n",
      "45507/45507 [==============================] - 1s 19us/step - loss: 1.5144 - mean_absolute_error: 0.1844 - val_loss: 1.6252 - val_mean_absolute_error: 0.1913\n",
      "Epoch 257/5000\n",
      "45507/45507 [==============================] - 1s 19us/step - loss: 1.5129 - mean_absolute_error: 0.1841 - val_loss: 1.6226 - val_mean_absolute_error: 0.1931\n",
      "Epoch 258/5000\n",
      "45507/45507 [==============================] - 1s 19us/step - loss: 1.5115 - mean_absolute_error: 0.1834 - val_loss: 1.6209 - val_mean_absolute_error: 0.1907\n",
      "Epoch 259/5000\n",
      "45507/45507 [==============================] - 1s 19us/step - loss: 1.5091 - mean_absolute_error: 0.1840 - val_loss: 1.6212 - val_mean_absolute_error: 0.1916\n",
      "Epoch 260/5000\n",
      "45507/45507 [==============================] - 1s 19us/step - loss: 1.5085 - mean_absolute_error: 0.1847 - val_loss: 1.6230 - val_mean_absolute_error: 0.1915\n",
      "Epoch 261/5000\n",
      "45507/45507 [==============================] - 1s 19us/step - loss: 1.5062 - mean_absolute_error: 0.1840 - val_loss: 1.6203 - val_mean_absolute_error: 0.1923\n",
      "Epoch 262/5000\n",
      "45507/45507 [==============================] - 1s 19us/step - loss: 1.5048 - mean_absolute_error: 0.1835 - val_loss: 1.6220 - val_mean_absolute_error: 0.1925\n",
      "Epoch 263/5000\n",
      "45507/45507 [==============================] - 1s 19us/step - loss: 1.5029 - mean_absolute_error: 0.1832 - val_loss: 1.6206 - val_mean_absolute_error: 0.1950\n",
      "Epoch 264/5000\n",
      "45507/45507 [==============================] - 1s 19us/step - loss: 1.5015 - mean_absolute_error: 0.1828 - val_loss: 1.6197 - val_mean_absolute_error: 0.1907\n",
      "Epoch 265/5000\n",
      "45507/45507 [==============================] - 1s 19us/step - loss: 1.5000 - mean_absolute_error: 0.1846 - val_loss: 1.6147 - val_mean_absolute_error: 0.1933\n",
      "Epoch 266/5000\n",
      "45507/45507 [==============================] - 1s 19us/step - loss: 1.4981 - mean_absolute_error: 0.1844 - val_loss: 1.6234 - val_mean_absolute_error: 0.1958\n",
      "Epoch 267/5000\n",
      "45507/45507 [==============================] - 1s 19us/step - loss: 1.4967 - mean_absolute_error: 0.1831 - val_loss: 1.6147 - val_mean_absolute_error: 0.1901\n",
      "Epoch 268/5000\n",
      "45507/45507 [==============================] - 1s 19us/step - loss: 1.4950 - mean_absolute_error: 0.1832 - val_loss: 1.6209 - val_mean_absolute_error: 0.1954\n",
      "Epoch 269/5000\n",
      "45507/45507 [==============================] - 1s 19us/step - loss: 1.4934 - mean_absolute_error: 0.1836 - val_loss: 1.6157 - val_mean_absolute_error: 0.1956\n",
      "Epoch 270/5000\n",
      "45507/45507 [==============================] - 1s 19us/step - loss: 1.4918 - mean_absolute_error: 0.1843 - val_loss: 1.6182 - val_mean_absolute_error: 0.1918\n",
      "Epoch 271/5000\n",
      "45507/45507 [==============================] - 1s 19us/step - loss: 1.4901 - mean_absolute_error: 0.1840 - val_loss: 1.6140 - val_mean_absolute_error: 0.1883\n",
      "Epoch 272/5000\n",
      "45507/45507 [==============================] - 1s 19us/step - loss: 1.4883 - mean_absolute_error: 0.1834 - val_loss: 1.6196 - val_mean_absolute_error: 0.1903\n",
      "Epoch 273/5000\n",
      "45507/45507 [==============================] - 1s 19us/step - loss: 1.4871 - mean_absolute_error: 0.1821 - val_loss: 1.6126 - val_mean_absolute_error: 0.1906\n",
      "Epoch 274/5000\n",
      "45507/45507 [==============================] - 1s 19us/step - loss: 1.4859 - mean_absolute_error: 0.1831 - val_loss: 1.6141 - val_mean_absolute_error: 0.1924\n",
      "Epoch 275/5000\n",
      "45507/45507 [==============================] - 1s 19us/step - loss: 1.4838 - mean_absolute_error: 0.1830 - val_loss: 1.6130 - val_mean_absolute_error: 0.1937\n",
      "Epoch 276/5000\n",
      "45507/45507 [==============================] - 1s 19us/step - loss: 1.4818 - mean_absolute_error: 0.1830 - val_loss: 1.6109 - val_mean_absolute_error: 0.1900\n",
      "Epoch 277/5000\n",
      "45507/45507 [==============================] - 1s 19us/step - loss: 1.4802 - mean_absolute_error: 0.1837 - val_loss: 1.6141 - val_mean_absolute_error: 0.1939\n",
      "Epoch 278/5000\n",
      "45507/45507 [==============================] - 1s 19us/step - loss: 1.4790 - mean_absolute_error: 0.1826 - val_loss: 1.6154 - val_mean_absolute_error: 0.1975\n",
      "Epoch 279/5000\n",
      "45507/45507 [==============================] - 1s 19us/step - loss: 1.4779 - mean_absolute_error: 0.1827 - val_loss: 1.6095 - val_mean_absolute_error: 0.1918\n",
      "Epoch 280/5000\n",
      "45507/45507 [==============================] - 1s 19us/step - loss: 1.4756 - mean_absolute_error: 0.1838 - val_loss: 1.6098 - val_mean_absolute_error: 0.1916\n",
      "Epoch 281/5000\n",
      "45507/45507 [==============================] - 1s 18us/step - loss: 1.4741 - mean_absolute_error: 0.1837 - val_loss: 1.6098 - val_mean_absolute_error: 0.1906\n",
      "Epoch 282/5000\n",
      "45507/45507 [==============================] - 1s 18us/step - loss: 1.4727 - mean_absolute_error: 0.1827 - val_loss: 1.6087 - val_mean_absolute_error: 0.1927\n",
      "Epoch 283/5000\n",
      "45507/45507 [==============================] - 1s 19us/step - loss: 1.4711 - mean_absolute_error: 0.1837 - val_loss: 1.6064 - val_mean_absolute_error: 0.1931\n",
      "Epoch 284/5000\n"
     ]
    },
    {
     "name": "stdout",
     "output_type": "stream",
     "text": [
      "45507/45507 [==============================] - 1s 19us/step - loss: 1.4698 - mean_absolute_error: 0.1841 - val_loss: 1.6102 - val_mean_absolute_error: 0.1950\n",
      "Epoch 285/5000\n",
      "45507/45507 [==============================] - 1s 17us/step - loss: 1.4683 - mean_absolute_error: 0.1833 - val_loss: 1.6090 - val_mean_absolute_error: 0.1909\n",
      "Epoch 286/5000\n",
      "45507/45507 [==============================] - 1s 17us/step - loss: 1.4665 - mean_absolute_error: 0.1830 - val_loss: 1.6045 - val_mean_absolute_error: 0.1920\n",
      "Epoch 287/5000\n",
      "45507/45507 [==============================] - 1s 19us/step - loss: 1.4649 - mean_absolute_error: 0.1844 - val_loss: 1.6076 - val_mean_absolute_error: 0.1948\n",
      "Epoch 288/5000\n",
      "45507/45507 [==============================] - 1s 18us/step - loss: 1.4633 - mean_absolute_error: 0.1844 - val_loss: 1.6066 - val_mean_absolute_error: 0.1935\n",
      "Epoch 289/5000\n",
      "45507/45507 [==============================] - 1s 19us/step - loss: 1.4629 - mean_absolute_error: 0.1838 - val_loss: 1.6047 - val_mean_absolute_error: 0.1905\n",
      "Epoch 290/5000\n",
      "45507/45507 [==============================] - 1s 19us/step - loss: 1.4609 - mean_absolute_error: 0.1810 - val_loss: 1.6055 - val_mean_absolute_error: 0.1967\n",
      "Epoch 291/5000\n",
      "45507/45507 [==============================] - 1s 18us/step - loss: 1.4604 - mean_absolute_error: 0.1818 - val_loss: 1.6081 - val_mean_absolute_error: 0.1978\n",
      "Epoch 292/5000\n",
      "45507/45507 [==============================] - 1s 19us/step - loss: 1.4580 - mean_absolute_error: 0.1831 - val_loss: 1.6049 - val_mean_absolute_error: 0.1897\n",
      "Epoch 293/5000\n",
      "45507/45507 [==============================] - 1s 19us/step - loss: 1.4561 - mean_absolute_error: 0.1844 - val_loss: 1.6023 - val_mean_absolute_error: 0.1944\n",
      "Epoch 294/5000\n",
      "45507/45507 [==============================] - 1s 19us/step - loss: 1.4548 - mean_absolute_error: 0.1835 - val_loss: 1.5998 - val_mean_absolute_error: 0.1929\n",
      "Epoch 295/5000\n",
      "45507/45507 [==============================] - 1s 19us/step - loss: 1.4529 - mean_absolute_error: 0.1848 - val_loss: 1.6021 - val_mean_absolute_error: 0.1923\n",
      "Epoch 296/5000\n",
      "45507/45507 [==============================] - 1s 19us/step - loss: 1.4520 - mean_absolute_error: 0.1834 - val_loss: 1.6041 - val_mean_absolute_error: 0.1920\n",
      "Epoch 297/5000\n",
      "45507/45507 [==============================] - 1s 19us/step - loss: 1.4510 - mean_absolute_error: 0.1833 - val_loss: 1.5996 - val_mean_absolute_error: 0.1914\n",
      "Epoch 298/5000\n",
      "45507/45507 [==============================] - 1s 19us/step - loss: 1.4494 - mean_absolute_error: 0.1839 - val_loss: 1.6012 - val_mean_absolute_error: 0.1942\n",
      "Epoch 299/5000\n",
      "45507/45507 [==============================] - 1s 19us/step - loss: 1.4476 - mean_absolute_error: 0.1826 - val_loss: 1.5991 - val_mean_absolute_error: 0.1915\n",
      "Epoch 300/5000\n",
      "45507/45507 [==============================] - 1s 19us/step - loss: 1.4465 - mean_absolute_error: 0.1829 - val_loss: 1.6015 - val_mean_absolute_error: 0.1938\n",
      "Epoch 301/5000\n",
      "45507/45507 [==============================] - 1s 19us/step - loss: 1.4448 - mean_absolute_error: 0.1816 - val_loss: 1.6012 - val_mean_absolute_error: 0.1950\n",
      "Epoch 302/5000\n",
      "45507/45507 [==============================] - 1s 19us/step - loss: 1.4434 - mean_absolute_error: 0.1839 - val_loss: 1.5993 - val_mean_absolute_error: 0.1940\n",
      "Epoch 303/5000\n",
      "45507/45507 [==============================] - 1s 19us/step - loss: 1.4420 - mean_absolute_error: 0.1834 - val_loss: 1.5984 - val_mean_absolute_error: 0.1927\n",
      "Epoch 304/5000\n",
      "45507/45507 [==============================] - 1s 19us/step - loss: 1.4406 - mean_absolute_error: 0.1828 - val_loss: 1.5973 - val_mean_absolute_error: 0.1956\n",
      "Epoch 305/5000\n",
      "45507/45507 [==============================] - 1s 19us/step - loss: 1.4396 - mean_absolute_error: 0.1831 - val_loss: 1.6008 - val_mean_absolute_error: 0.1954\n",
      "Epoch 306/5000\n",
      "45507/45507 [==============================] - 1s 19us/step - loss: 1.4380 - mean_absolute_error: 0.1824 - val_loss: 1.5950 - val_mean_absolute_error: 0.1925\n",
      "Epoch 307/5000\n",
      "45507/45507 [==============================] - 1s 19us/step - loss: 1.4370 - mean_absolute_error: 0.1831 - val_loss: 1.5990 - val_mean_absolute_error: 0.1884\n",
      "Epoch 308/5000\n",
      "45507/45507 [==============================] - 1s 19us/step - loss: 1.4357 - mean_absolute_error: 0.1817 - val_loss: 1.5978 - val_mean_absolute_error: 0.1942\n",
      "Epoch 309/5000\n",
      "45507/45507 [==============================] - 1s 19us/step - loss: 1.4338 - mean_absolute_error: 0.1802 - val_loss: 1.5980 - val_mean_absolute_error: 0.1973\n",
      "Epoch 310/5000\n",
      "45507/45507 [==============================] - 1s 19us/step - loss: 1.4322 - mean_absolute_error: 0.1824 - val_loss: 1.5943 - val_mean_absolute_error: 0.1911\n",
      "Epoch 311/5000\n",
      "45507/45507 [==============================] - 1s 19us/step - loss: 1.4312 - mean_absolute_error: 0.1827 - val_loss: 1.5955 - val_mean_absolute_error: 0.1978\n",
      "Epoch 312/5000\n",
      "45507/45507 [==============================] - 1s 19us/step - loss: 1.4296 - mean_absolute_error: 0.1827 - val_loss: 1.5951 - val_mean_absolute_error: 0.1928\n",
      "Epoch 313/5000\n",
      "45507/45507 [==============================] - 1s 19us/step - loss: 1.4278 - mean_absolute_error: 0.1835 - val_loss: 1.5927 - val_mean_absolute_error: 0.1915\n",
      "Epoch 314/5000\n",
      "45507/45507 [==============================] - 1s 19us/step - loss: 1.4261 - mean_absolute_error: 0.1845 - val_loss: 1.5930 - val_mean_absolute_error: 0.1976\n",
      "Epoch 315/5000\n",
      "45507/45507 [==============================] - 1s 19us/step - loss: 1.4253 - mean_absolute_error: 0.1845 - val_loss: 1.5918 - val_mean_absolute_error: 0.1954\n",
      "Epoch 316/5000\n",
      "45507/45507 [==============================] - 1s 19us/step - loss: 1.4231 - mean_absolute_error: 0.1836 - val_loss: 1.5948 - val_mean_absolute_error: 0.1965\n",
      "Epoch 317/5000\n",
      "45507/45507 [==============================] - 1s 19us/step - loss: 1.4226 - mean_absolute_error: 0.1838 - val_loss: 1.5941 - val_mean_absolute_error: 0.1986\n",
      "Epoch 318/5000\n",
      "45507/45507 [==============================] - 1s 19us/step - loss: 1.4212 - mean_absolute_error: 0.1840 - val_loss: 1.5904 - val_mean_absolute_error: 0.1951\n",
      "Epoch 319/5000\n",
      "45507/45507 [==============================] - 1s 18us/step - loss: 1.4198 - mean_absolute_error: 0.1834 - val_loss: 1.5916 - val_mean_absolute_error: 0.1939\n",
      "Epoch 320/5000\n",
      "45507/45507 [==============================] - 1s 18us/step - loss: 1.4184 - mean_absolute_error: 0.1847 - val_loss: 1.5908 - val_mean_absolute_error: 0.1950\n",
      "Epoch 321/5000\n",
      "45507/45507 [==============================] - 1s 19us/step - loss: 1.4171 - mean_absolute_error: 0.1837 - val_loss: 1.5910 - val_mean_absolute_error: 0.1937\n",
      "Epoch 322/5000\n",
      "45507/45507 [==============================] - 1s 19us/step - loss: 1.4157 - mean_absolute_error: 0.1827 - val_loss: 1.5892 - val_mean_absolute_error: 0.1958\n",
      "Epoch 323/5000\n",
      "45507/45507 [==============================] - 1s 19us/step - loss: 1.4154 - mean_absolute_error: 0.1790 - val_loss: 1.5847 - val_mean_absolute_error: 0.1970\n",
      "Epoch 324/5000\n",
      "45507/45507 [==============================] - 1s 19us/step - loss: 1.4136 - mean_absolute_error: 0.1827 - val_loss: 1.5889 - val_mean_absolute_error: 0.1925\n",
      "Epoch 325/5000\n",
      "45507/45507 [==============================] - 1s 19us/step - loss: 1.4117 - mean_absolute_error: 0.1829 - val_loss: 1.5884 - val_mean_absolute_error: 0.1959\n",
      "Epoch 326/5000\n",
      "45507/45507 [==============================] - 1s 20us/step - loss: 1.4112 - mean_absolute_error: 0.1811 - val_loss: 1.5909 - val_mean_absolute_error: 0.1955\n",
      "Epoch 327/5000\n",
      "45507/45507 [==============================] - 1s 19us/step - loss: 1.4094 - mean_absolute_error: 0.1808 - val_loss: 1.5852 - val_mean_absolute_error: 0.1968\n",
      "Epoch 328/5000\n",
      "45507/45507 [==============================] - 1s 19us/step - loss: 1.4085 - mean_absolute_error: 0.1811 - val_loss: 1.5894 - val_mean_absolute_error: 0.1925\n",
      "Epoch 329/5000\n",
      "45507/45507 [==============================] - 1s 19us/step - loss: 1.4072 - mean_absolute_error: 0.1828 - val_loss: 1.5874 - val_mean_absolute_error: 0.1965\n",
      "Epoch 330/5000\n",
      "45507/45507 [==============================] - 1s 19us/step - loss: 1.4066 - mean_absolute_error: 0.1779 - val_loss: 1.5894 - val_mean_absolute_error: 0.1927\n",
      "Epoch 331/5000\n"
     ]
    },
    {
     "name": "stdout",
     "output_type": "stream",
     "text": [
      "45507/45507 [==============================] - 1s 19us/step - loss: 1.4055 - mean_absolute_error: 0.1812 - val_loss: 1.5895 - val_mean_absolute_error: 0.1886\n",
      "Epoch 332/5000\n",
      "45507/45507 [==============================] - 1s 19us/step - loss: 1.4030 - mean_absolute_error: 0.1816 - val_loss: 1.5863 - val_mean_absolute_error: 0.1917\n",
      "Epoch 333/5000\n",
      "45507/45507 [==============================] - 1s 19us/step - loss: 1.4011 - mean_absolute_error: 0.1835 - val_loss: 1.5883 - val_mean_absolute_error: 0.1937\n",
      "Epoch 00333: early stopping\n"
     ]
    },
    {
     "data": {
      "text/plain": [
       "<keras.callbacks.History at 0x7f72f06a9978>"
      ]
     },
     "execution_count": 31,
     "metadata": {},
     "output_type": "execute_result"
    }
   ],
   "source": [
    "tensorboard=TensorBoard(log_dir=\"/home/rgadea3/EXPERIMENTOS/nuevas_investigaciones_2018/experimentos/logs/{}\".format(time()))\n",
    "#modelCheckpoint=ModelCheckpoint(\"/home/rgadea3/EXPERIMENTOS/nuevas_investigaciones_2018/experimentos/logs/\", monitor='val_loss', verbose=0, save_best_only=False, save_weights_only=False, mode='auto', period=1)\n",
    "early_stop=EarlyStopping(monitor='val_loss', min_delta=0, patience=10, verbose=2, mode='auto', baseline=None)\n",
    "autoencoder.fit(x_train, x_train,\n",
    "                epochs=5000,\n",
    "                batch_size=500,\n",
    "                shuffle=False,\n",
    "                callbacks=[tensorboard, early_stop],\n",
    "                validation_data=(x_test, x_test))\n",
    "\n"
   ]
  },
  {
   "cell_type": "code",
   "execution_count": 32,
   "metadata": {},
   "outputs": [
    {
     "name": "stdout",
     "output_type": "stream",
     "text": [
      "15170/15170 [==============================] - 1s 79us/step\n"
     ]
    }
   ],
   "source": [
    "autoencoder.evaluate(x=x_test,y=x_test)\n",
    "autoencoder.save_weights('../redes_compresoras/compresor_python_ver_rms_prop_ver1')"
   ]
  },
  {
   "cell_type": "code",
   "execution_count": 33,
   "metadata": {},
   "outputs": [
    {
     "data": {
      "text/plain": [
       "<matplotlib.axes._subplots.AxesSubplot at 0x7f73512aa8d0>"
      ]
     },
     "execution_count": 33,
     "metadata": {},
     "output_type": "execute_result"
    },
    {
     "data": {
      "image/png": "[encoded data removed]",
      "text/plain": [
       "<Figure size 432x288 with 1 Axes>"
      ]
     },
     "metadata": {},
     "output_type": "display_data"
    }
   ],
   "source": [
    "standard_scores = encoder.predict(x_test).ravel()\n",
    "#regularized_scores = encoded_regularized.predict(x_test).ravel()\n",
    "sns.distplot(standard_scores, hist=False, label='standard model')\n",
    "#sns.distplot(regularized_scores, hist=False, label='regularized model')"
   ]
  },
  {
   "cell_type": "code",
   "execution_count": 34,
   "metadata": {},
   "outputs": [],
   "source": [
    "# encode and decode some images\n",
    "# note that we take them from the *test* set\n",
    "# encoded_imgs = encoder.predict(x_test_min_max)\n",
    "# decoded_imgs_scaled = decoder.predict(encoded_imgs)\n",
    "#decoded_imgs_scaled = autoencoder.predict(x_test_min_max)\n",
    "decoded_imgs = autoencoder.predict(x_test)\n"
   ]
  },
  {
   "cell_type": "code",
   "execution_count": 35,
   "metadata": {},
   "outputs": [
    {
     "data": {
      "image/png": "[encoded data removed]",
      "text/plain": [
       "<Figure size 1440x288 with 12 Axes>"
      ]
     },
     "metadata": {},
     "output_type": "display_data"
    },
    {
     "name": "stdout",
     "output_type": "stream",
     "text": [
      "5956\n"
     ]
    }
   ],
   "source": [
    "n = 6  # how many digits we will display\n",
    "plt.figure(figsize=(20, 4))\n",
    "for i in range(n):\n",
    "    # display original\n",
    "    idea=np.random.randint(1,x_test.shape[0])\n",
    "    ax = plt.subplot(2, n, i + 1)\n",
    "    plt.imshow(x_test[idea].reshape(40, 16).transpose(),vmin=0, vmax=30)\n",
    "    plt.viridis()\n",
    "    ax.get_xaxis().set_visible(False)\n",
    "    ax.get_yaxis().set_visible(False)\n",
    "\n",
    "    # display reconstruction\n",
    "    ax = plt.subplot(2, n, i + 1 + n)\n",
    "    plt.imshow(decoded_imgs[idea].reshape(40, 16).transpose(),vmin=0, vmax=30)\n",
    "    plt.viridis()\n",
    "    ax.get_xaxis().set_visible(False)\n",
    "    ax.get_yaxis().set_visible(False)\n",
    "plt.show()\n",
    "print(idea)\n",
    "\n"
   ]
  },
  {
   "cell_type": "code",
   "execution_count": 36,
   "metadata": {
    "scrolled": true
   },
   "outputs": [
    {
     "data": {
      "text/plain": [
       "(6296, 3840)"
      ]
     },
     "execution_count": 36,
     "metadata": {},
     "output_type": "execute_result"
    }
   ],
   "source": [
    "import pandas as pd\n",
    "filename = '../datos_octubre_2018/p_OF_5mm_161mm003.h5'\n",
    "conjunto_datos_test=pd.read_hdf(filename,'MC');\n",
    "conjunto_datos_test.shape"
   ]
  },
  {
   "cell_type": "code",
   "execution_count": 37,
   "metadata": {},
   "outputs": [
    {
     "name": "stdout",
     "output_type": "stream",
     "text": [
      "(6296, 3840)\n",
      "(6296, 3840)\n"
     ]
    }
   ],
   "source": [
    "L1A=6;\n",
    "# hay tres L1 con 640 sensores (40*16)\n",
    "L1B=0;\n",
    "# hay dos L1 con 640 sensores (40*16)\n",
    "X_trained=conjunto_datos_test.values;\n",
    "x_trained=X_trained;\n",
    "\n",
    "for i in range (X_trained.shape[0]):\n",
    "    idea1=X_trained[i,:].reshape(img_rows,(L1A*img_cols));\n",
    "    ideat=idea1.transpose();\n",
    "    idea2=ideat.reshape(1,(L1A*img_cols)*img_rows);\n",
    "    x_trained[i,:] =idea2;\n",
    "x_tested = x_trained;\n",
    "print(x_trained.shape)\n",
    "print(x_tested.shape)"
   ]
  },
  {
   "cell_type": "markdown",
   "metadata": {},
   "source": [
    "# Vamos a procesar y comprimir con la red"
   ]
  },
  {
   "cell_type": "markdown",
   "metadata": {},
   "source": [
    "Ahora los particionamos y pasamos por las redes de compresión. Hay una red la A que se utiliza 5 veces"
   ]
  },
  {
   "cell_type": "code",
   "execution_count": 38,
   "metadata": {},
   "outputs": [],
   "source": [
    "\n",
    "def sigmoid(x, derivative=False):\n",
    "  return x*(1-x) if derivative else 1/(1+np.exp(-x))\n",
    "ideaA=np.zeros((L1A,input_output_dim_A))\n",
    "\n",
    "cara_externa=x_tested[:,0: L1A*input_output_dim_A] \n",
    "cara_externa_reconstruida=np.zeros((x_tested.shape[0],L1A*input_output_dim_A))\n",
    "for i in range(x_tested.shape[0]):\n",
    "    for k in range(L1A):\n",
    "        ideaA[k,:]=x_tested[i,k*input_output_dim_A:k*input_output_dim_A+input_output_dim_A]\n",
    "    salida_reconstructed_1 = autoencoder.predict(ideaA)    \n",
    "    \n",
    "    #entrada_imgs_A=(ideaA-min_A.transpose())/(max_A.transpose()-min_A.transpose())\n",
    "    #entrada_imgs_A=(ideaA) #he quitado el escalado\n",
    "    #encoded_imgs_A = sigmoid(np.dot(entrada_imgs_A, Encoder_weights_A) + Encoder_biases_A)\n",
    "    #decoded_imgs_A= (np.dot(encoded_imgs_A, Decoder_weights_A) + Decoder_biases_A)\n",
    "    #print(decoded_imgs_A.shape)\n",
    "    #salida_reconstructed_1 = decoded_imgs_A*(max_A.transpose()-min_A.transpose())+min_A.transpose();\n",
    "    #salida_reconstructed_1 = decoded_imgs_A #quito el escalado inverso    \n",
    " \n",
    "    hola1=np.reshape(salida_reconstructed_1,(L1A*input_output_dim_A))\n",
    "\n",
    "    #print(hola.shape)\n",
    "    salida_total=hola1\n",
    "    #salida_total[salida_total<0]=0\n",
    "    #print(salida_total.shape)\n",
    "    cara_externa_reconstruida[i]=salida_total\n",
    "  "
   ]
  },
  {
   "cell_type": "markdown",
   "metadata": {},
   "source": [
    "## Visualizamos los resultados"
   ]
  },
  {
   "cell_type": "markdown",
   "metadata": {},
   "source": [
    "Visualizamos todos los sensores: "
   ]
  },
  {
   "cell_type": "code",
   "execution_count": 39,
   "metadata": {
    "scrolled": true
   },
   "outputs": [
    {
     "data": {
      "image/png": "[encoded data removed]",
      "text/plain": [
       "<Figure size 2880x720 with 2 Axes>"
      ]
     },
     "metadata": {},
     "output_type": "display_data"
    }
   ],
   "source": [
    "n = 1  # how many digits we will display\n",
    "plt.figure(figsize=(40, 10))\n",
    "for i in range(n):\n",
    "    # display original\n",
    "    idea=np.random.randint(1,x_tested.shape[0])\n",
    "    #idea=1890\n",
    "    ax = plt.subplot(2, n, i + 1)\n",
    "    plt.imshow(cara_externa[idea].reshape(L1A*img_cols, img_rows).transpose(), vmin=0, vmax=30)\n",
    "    plt.viridis()\n",
    "    ax.get_xaxis().set_visible(False)\n",
    "    ax.get_yaxis().set_visible(False)\n",
    "\n",
    "    # display reconstruction\n",
    "    ax = plt.subplot(2, n, i + 1 + n)\n",
    "    plt.imshow(cara_externa_reconstruida[idea].reshape(L1A*img_cols, img_rows).transpose(), vmin=0, vmax=30)\n",
    "    plt.viridis()\n",
    "    ax.get_xaxis().set_visible(False)\n",
    "    ax.get_yaxis().set_visible(False)\n",
    "plt.show()"
   ]
  },
  {
   "cell_type": "markdown",
   "metadata": {},
   "source": [
    "Visualizamos ahora L1 a L1, teniendo en cuenta que hay de dos tipos:\n",
    "L1A (con 36 columnas )"
   ]
  },
  {
   "cell_type": "code",
   "execution_count": 40,
   "metadata": {
    "scrolled": true
   },
   "outputs": [
    {
     "data": {
      "image/png": "[encoded data removed]",
      "text/plain": [
       "<Figure size 2880x720 with 12 Axes>"
      ]
     },
     "metadata": {},
     "output_type": "display_data"
    }
   ],
   "source": [
    "n = L1A  # how many digits we will display\n",
    "plt.figure(figsize=(40, 10))\n",
    "for i in range(n):\n",
    "    # display original\n",
    "    ax = plt.subplot(2, n, i + 1)\n",
    "    plt.imshow(cara_externa[idea].reshape(L1A*img_cols, img_rows).transpose()[:,i*img_cols:(i+1)*img_cols] ,vmin=0, vmax=30)\n",
    "    plt.viridis()\n",
    "    ax.get_xaxis().set_visible(False)\n",
    "    ax.get_yaxis().set_visible(False)\n",
    "    ax = plt.subplot(2, n, i + 1+n)\n",
    "    plt.imshow(cara_externa_reconstruida[idea].reshape(L1A*img_cols, img_rows).transpose()[:,i*img_cols:(i+1)*img_cols] ,vmin=0, vmax=30)\n",
    "    plt.viridis()\n",
    "    ax.get_xaxis().set_visible(False)\n",
    "    ax.get_yaxis().set_visible(False)\n",
    "plt.show()"
   ]
  },
  {
   "cell_type": "code",
   "execution_count": 41,
   "metadata": {},
   "outputs": [
    {
     "name": "stdout",
     "output_type": "stream",
     "text": [
      "[[0 0 0 0 0 0 0 0 0 0 0 0 0 0 0 0]\n",
      " [0 0 0 0 0 0 0 0 0 0 0 0 0 0 0 0]\n",
      " [0 0 0 0 0 0 0 0 0 0 0 0 0 0 0 0]\n",
      " [0 0 0 0 0 0 0 0 0 0 0 0 0 0 0 0]\n",
      " [0 0 0 0 0 0 0 0 0 0 0 0 0 0 0 0]\n",
      " [0 0 0 0 0 0 0 0 0 0 0 0 0 0 0 0]\n",
      " [0 0 1 0 0 0 0 0 0 0 0 0 0 0 1 0]\n",
      " [0 0 0 0 0 0 0 0 0 0 0 0 0 0 0 1]\n",
      " [0 1 0 0 0 0 0 0 0 0 0 0 0 0 0 0]\n",
      " [0 0 0 0 0 0 0 0 0 1 0 0 0 0 0 0]\n",
      " [0 1 0 0 0 0 0 0 0 0 0 0 1 0 0 0]\n",
      " [0 0 0 0 0 0 0 0 0 0 0 0 0 1 1 0]\n",
      " [0 0 0 0 0 0 0 0 0 0 0 0 0 0 1 0]\n",
      " [0 0 0 0 0 0 0 0 0 0 1 0 0 0 0 0]\n",
      " [0 0 0 0 0 0 1 0 0 0 0 0 0 0 0 1]\n",
      " [0 1 0 0 0 0 0 0 0 0 0 0 1 0 1 0]\n",
      " [0 0 0 0 0 0 1 0 0 0 0 2 0 0 1 0]\n",
      " [0 0 0 0 0 0 0 0 0 0 0 0 0 2 2 1]\n",
      " [0 0 0 0 0 0 0 0 0 0 0 0 0 1 0 1]\n",
      " [0 0 0 0 0 0 0 0 1 0 2 0 0 1 0 0]\n",
      " [0 0 0 0 0 0 0 0 0 0 1 0 0 0 1 0]\n",
      " [0 0 0 1 0 0 0 1 0 0 1 0 1 0 0 0]\n",
      " [0 0 0 0 0 0 0 0 0 0 0 0 1 1 0 0]\n",
      " [0 1 1 0 0 0 0 0 0 0 0 0 0 0 1 2]\n",
      " [0 0 0 1 0 0 0 0 0 1 1 1 0 4 1 1]\n",
      " [0 0 0 0 0 0 1 0 1 1 0 1 1 1 2 1]\n",
      " [0 0 1 0 0 1 0 1 1 3 0 1 1 0 1 0]\n",
      " [0 0 0 0 1 0 0 1 1 3 1 1 5 0 2 3]\n",
      " [0 0 0 0 0 1 1 0 0 1 0 3 3 1 1 2]\n",
      " [0 0 0 0 0 2 1 0 5 2 3 5 5 5 2 2]\n",
      " [0 0 0 0 0 0 1 1 2 3 1 2 5 1 4 1]\n",
      " [0 0 0 0 1 1 0 2 3 1 1 8 4 4 6 1]\n",
      " [0 0 1 0 0 2 2 2 0 3 5 3 5 4 3 2]\n",
      " [0 0 0 0 0 0 1 2 4 4 5 5 5 4 2 3]\n",
      " [0 0 0 1 0 0 3 2 2 4 3 2 3 4 1 3]\n",
      " [0 1 0 0 1 4 1 0 1 0 1 5 4 6 2 3]\n",
      " [0 1 0 0 0 1 0 2 2 2 1 1 1 0 3 3]\n",
      " [0 0 0 0 2 1 1 2 0 3 2 1 3 3 1 1]\n",
      " [0 1 0 1 1 0 1 0 0 2 2 3 1 1 4 0]\n",
      " [1 0 0 0 0 3 1 1 2 1 1 2 2 1 0 0]]\n",
      "382\n"
     ]
    }
   ],
   "source": [
    "i=3\n",
    "print(cara_externa[idea].reshape(L1A*img_cols,img_rows)[i*img_cols:(i+1)*img_cols,:])\n",
    "print(np.sum(cara_externa[idea].reshape(L1A*img_cols,img_rows)[i*img_cols:(i+1)*img_cols,:]))"
   ]
  },
  {
   "cell_type": "code",
   "execution_count": 42,
   "metadata": {
    "scrolled": true
   },
   "outputs": [
    {
     "name": "stdout",
     "output_type": "stream",
     "text": [
      "[[  0   0   0   0   0   0   0   0   0   0   0   0   0   0   0   0]\n",
      " [  0   0   0   0   0   0   0   0   0   1   0   0   0   0   0   0]\n",
      " [  0   0   0   0   0   0   0   0   0   0   0   0   0   0   0   0]\n",
      " [  0   0   0   0   0   0   0   0   0   0   0   0   0   0   0   0]\n",
      " [  0   0   0   0   0   0   0   0   0   0   0   0   0   0   0   0]\n",
      " [  0   0   0   0   0   0   0   0   0   0   0   0   0   0   0   0]\n",
      " [  0   0   0   0   0   0   0   0   0   0   0   0   0   0   1   1]\n",
      " [  0   0   0   0   0   0   0   0   0   0   0   0  -1   0   0   2]\n",
      " [  0   0   0   0   0   0   0   0  -1   0   0   0   0  -1   0   0]\n",
      " [  0   0   0   0   0   0   0   0   0   0   1   0   0   0   0   0]\n",
      " [  0   0   0   0   0   1   0   0   0   0   0   0   0   0  -1   0]\n",
      " [  0   0   0   0   0   1   0   0   0  -1   0   0   0   0   0   0]\n",
      " [  0   0   0   0   1   0   0   0   0   0   0   0   0   0   4   0]\n",
      " [  0   0   0   0   0   0   0   0   0   0   0   0   0   0   0   0]\n",
      " [  0   0   0   0   0   0   1   0   0   0   0   0   0   0   0   0]\n",
      " [  0   0   0   0   0   0   0   0   0   0   0   1   0   0   0   0]\n",
      " [  0   0   0   0   0   0   0   0   0   0   0   0   2   0   0   0]\n",
      " [  0   0   0   0  -1   0   0   0   0   0   0   0   0   1   2   0]\n",
      " [  0   0   0   0   0   0   0   0   0   0   0   0   0   1   1   0]\n",
      " [  0   0   0   0   0   0   0   0   0   0   0   0   0   0   0   0]\n",
      " [  0   0   0   0  -2   0   0   0   0   0   1   0   0   0   0   0]\n",
      " [  0   0   0   0   0   0   0   0   0   0   0   0   1   0   0   0]\n",
      " [ -1   0   0   0   0   0   0   0   0   0   0   0   0   0   0   0]\n",
      " [  0   0   0   0   0   0   0   0   0   0   0   0   0   1   0   1]\n",
      " [  0   0   0   1   0   0   0   0   0   1   1   0   0   1   1   1]\n",
      " [  0   0   0   0   1   4   0   0   1   1   0   0   1   1   0  -1]\n",
      " [  0   0   0   0   0   1   0   0   2   1   1   0   1   0   1   1]\n",
      " [  0   0  -1   0   0   1   0   0   0   1   1   0   2   1   1   1]\n",
      " [  0   0 -13  -2   0   1   1   0   0   0   1   2   3  -1   0   1]\n",
      " [  0   0   0  -1   0   1   1   2   3   2   2   3   4   4   0   1]\n",
      " [  0   0   0   0   0   1   1   2   3   2   2   2   5   5   4   2]\n",
      " [  0   0   0   0   0   1   1   2   2   2   2   4   5   4   4   4]\n",
      " [  0   0   0   0   0   2   1   2   0   2   6   5   4   3   3   2]\n",
      " [  0   0   0   0   0   0   1   2   3   5   4   6   5   3   3   2]\n",
      " [  0   0   0   0   0   1   2   2   2   4   2   3   4   3   3   2]\n",
      " [  0   0   0   0   1   2   1   1   0   0   1   2   4   3   4   3]\n",
      " [ -2   0   0   0   1   1   0   1   1   1   1   1   2   2   2   2]\n",
      " [  0   0   0   1   3   1   1   0   1   2   2   2   3   2   2   1]\n",
      " [  0   0   0   1   2   1   1   0   0   2   3   3   2   2   2   1]\n",
      " [  0   0   0   0   1   2   1   1   1   1   1   2   1   0   1   0]]\n",
      "398.4214990865439\n"
     ]
    }
   ],
   "source": [
    "print(cara_externa_reconstruida[idea].reshape(L1A*img_cols,img_rows)[i*img_cols:(i+1)*img_cols,:].astype(int))\n",
    "print(np.sum(cara_externa_reconstruida[idea].reshape(L1A*img_cols,img_rows)[i*img_cols:(i+1)*img_cols,:]))"
   ]
  },
  {
   "cell_type": "code",
   "execution_count": 43,
   "metadata": {},
   "outputs": [
    {
     "name": "stdout",
     "output_type": "stream",
     "text": [
      "992\n"
     ]
    }
   ],
   "source": [
    "print(idea)"
   ]
  },
  {
   "cell_type": "code",
   "execution_count": null,
   "metadata": {},
   "outputs": [],
   "source": []
  }
 ],
 "metadata": {
  "anaconda-cloud": {},
  "kernelspec": {
   "display_name": "Python [conda env:tensorflow]",
   "language": "python",
   "name": "conda-env-tensorflow-py"
  },
  "language_info": {
   "codemirror_mode": {
    "name": "ipython",
    "version": 3
   },
   "file_extension": ".py",
   "mimetype": "text/x-python",
   "name": "python",
   "nbconvert_exporter": "python",
   "pygments_lexer": "ipython3",
   "version": "3.6.5"
  },
  "varInspector": {
   "cols": {
    "lenName": 16,
    "lenType": 16,
    "lenVar": 40
   },
   "kernels_config": {
    "python": {
     "delete_cmd_postfix": "",
     "delete_cmd_prefix": "del ",
     "library": "var_list.py",
     "varRefreshCmd": "print(var_dic_list())"
    },
    "r": {
     "delete_cmd_postfix": ") ",
     "delete_cmd_prefix": "rm(",
     "library": "var_list.r",
     "varRefreshCmd": "cat(var_dic_list()) "
    }
   },
   "position": {
    "height": "495px",
    "left": "1249px",
    "right": "57px",
    "top": "240px",
    "width": "390px"
   },
   "types_to_exclude": [
    "module",
    "function",
    "builtin_function_or_method",
    "instance",
    "_Feature"
   ],
   "window_display": false
  }
 },
 "nbformat": 4,
 "nbformat_minor": 1
}
