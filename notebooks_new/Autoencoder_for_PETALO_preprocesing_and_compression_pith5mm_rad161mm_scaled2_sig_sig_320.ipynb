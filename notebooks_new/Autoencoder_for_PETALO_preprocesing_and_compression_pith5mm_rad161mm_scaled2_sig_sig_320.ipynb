{
 "cells": [
  {
   "cell_type": "markdown",
   "metadata": {},
   "source": [
    "# Simple AUTOENCODER for PETALO\n",
    "\n",
    "Esta red la vamos a utilizar para obtener el radio "
   ]
  },
  {
   "cell_type": "code",
   "execution_count": 1,
   "metadata": {},
   "outputs": [
    {
     "name": "stdout",
     "output_type": "stream",
     "text": [
      "['', '/home/rgadea3/anaconda3/envs/tensorflow/lib/python36.zip', '/home/rgadea3/anaconda3/envs/tensorflow/lib/python3.6', '/home/rgadea3/anaconda3/envs/tensorflow/lib/python3.6/lib-dynload', '/home/rgadea3/anaconda3/envs/tensorflow/lib/python3.6/site-packages', '/home/rgadea3/anaconda3/envs/tensorflow/lib/python3.6/site-packages/IPython/extensions', '/home/rgadea3/.ipython']\n"
     ]
    },
    {
     "name": "stderr",
     "output_type": "stream",
     "text": [
      "Using TensorFlow backend.\n"
     ]
    }
   ],
   "source": [
    "import numpy as np\n",
    "#np.random.seed(1337)  # for reproducibility\n",
    "from time import time\n",
    "from datetime import datetime\n",
    "from sklearn import preprocessing\n",
    "import sys\n",
    "print(sys.path)\n",
    "sys.path.append(\"/home/rgadea/lmfit-py/\")\n",
    "import seaborn as sns\n",
    "from keras.datasets import mnist\n",
    "from keras.models import Model, Sequential\n",
    "from keras.layers import Input, Dense, Dropout, Activation, Flatten\n",
    "from keras.layers import Conv2D, MaxPooling2D,BatchNormalization\n",
    "from keras.callbacks import TensorBoard, EarlyStopping, ModelCheckpoint\n",
    "from keras.utils import np_utils\n",
    "from keras import regularizers\n",
    "from math import floor\n",
    "from lmfit.models import  GaussianModel\n",
    "import matplotlib.pyplot as plt"
   ]
  },
  {
   "cell_type": "markdown",
   "metadata": {},
   "source": [
    "## Vamos introducir los datos de petalo preprocesados en matlab\n"
   ]
  },
  {
   "cell_type": "code",
   "execution_count": 2,
   "metadata": {},
   "outputs": [
    {
     "data": {
      "text/plain": [
       "(66498, 640)"
      ]
     },
     "execution_count": 2,
     "metadata": {},
     "output_type": "execute_result"
    }
   ],
   "source": [
    "import scipy.io as sio\n",
    "import hdf5storage\n",
    "datos_matlab = hdf5storage.loadmat('../datos_octubre_2018/conjunto_entrenamiento_octubre_2018_red_pitch5mm_rad161mm_total.mat')\n",
    "conjunto_datos= datos_matlab.get('photodefA')\n",
    "conjunto_datos.shape"
   ]
  },
  {
   "cell_type": "code",
   "execution_count": 3,
   "metadata": {},
   "outputs": [
    {
     "data": {
      "text/plain": [
       "(6320, 3840)"
      ]
     },
     "execution_count": 3,
     "metadata": {},
     "output_type": "execute_result"
    }
   ],
   "source": [
    "import os\n",
    "import pandas as pd\n",
    "dir_name='../datos_octubre_2018'\n",
    "base_filename='p_OF_5mm_161mm'\n",
    "filename_suffix='.h5'\n",
    "file=os.path.join(dir_name, base_filename+ \"{0:03d}\".format(0) + filename_suffix)\n",
    "conjunto_datos_waves=pd.read_hdf(file,'MC')\n",
    "datos_waves=conjunto_datos_waves.values\n",
    "datos_waves.shape"
   ]
  },
  {
   "cell_type": "code",
   "execution_count": 4,
   "metadata": {
    "scrolled": true
   },
   "outputs": [
    {
     "data": {
      "text/plain": [
       "(12641, 3840)"
      ]
     },
     "execution_count": 4,
     "metadata": {},
     "output_type": "execute_result"
    }
   ],
   "source": [
    "for i in range(1,2):\n",
    "    file=os.path.join(dir_name, base_filename+ \"{0:03d}\".format(i) + filename_suffix)\n",
    "    #print(file)\n",
    "    veamos=pd.read_hdf(file,'MC')\n",
    "    veamos_array=veamos.values\n",
    "    datos_waves=np.concatenate((datos_waves,veamos_array),axis=0)\n",
    "datos_waves.shape"
   ]
  },
  {
   "cell_type": "code",
   "execution_count": 5,
   "metadata": {},
   "outputs": [
    {
     "name": "stdout",
     "output_type": "stream",
     "text": [
      "(12641, 3840)\n"
     ]
    }
   ],
   "source": [
    "L1A=6;\n",
    "# hay tres L1 con 640 sensores (40*16)\n",
    "# input image dimensions\n",
    "img_rows, img_cols = 16, 40\n",
    "\n",
    "X_trained=datos_waves;\n",
    "x_trained=X_trained;\n",
    "\n",
    "for i in range (X_trained.shape[0]):\n",
    "    idea1=X_trained[i,:].reshape(img_rows,(L1A*img_cols));\n",
    "    ideat=idea1.transpose();\n",
    "    idea2=ideat.reshape(1,(L1A*img_cols)*img_rows);\n",
    "    x_trained[i,:] =idea2;\n",
    "\n",
    "print(x_trained.shape)\n"
   ]
  },
  {
   "cell_type": "code",
   "execution_count": 6,
   "metadata": {},
   "outputs": [],
   "source": [
    "input_output_dim_A=img_rows*img_cols\n",
    "ideaA=np.zeros((L1A,input_output_dim_A))\n",
    "\n",
    "conjunto_datos=np.zeros((x_trained.shape[0]*L1A,input_output_dim_A))\n",
    "for i in range(x_trained.shape[0]):\n",
    "    for k in range(L1A):\n",
    "        ideaA[k,:]=x_trained[i,k*input_output_dim_A:k*input_output_dim_A+input_output_dim_A]\n",
    "    conjunto_datos[(i)*L1A :(i+1)*L1A,:] = ideaA    \n",
    "    \n",
    "\n",
    "  "
   ]
  },
  {
   "cell_type": "code",
   "execution_count": null,
   "metadata": {},
   "outputs": [],
   "source": []
  },
  {
   "cell_type": "markdown",
   "metadata": {},
   "source": [
    "## Network parameters:"
   ]
  },
  {
   "cell_type": "code",
   "execution_count": 7,
   "metadata": {},
   "outputs": [],
   "source": [
    "use_regularizer = True\n",
    "my_regularizer = None\n",
    "my_epochs = 50\n",
    "features_path = 'simple_autoe_features.pickle'\n",
    "labels_path = 'simple_autoe_labels.pickle'\n",
    "\n",
    "if use_regularizer:\n",
    "    # add a sparsity constraint on the encoded representations\n",
    "    # note use of 10e-5 leads to blurred results\n",
    "    my_regularizer = regularizers.l2(0.001)\n",
    "    # and a larger number of epochs as the added regularization the model\n",
    "    # is less likely to overfit and can be trained longer\n",
    "    my_epochs = 100\n",
    "    features_path = 'sparse_autoe_features.pickle'\n",
    "    labels_path = 'sparse_autoe_labels.pickle'\n",
    "\n",
    "   \n",
    "    \n",
    "encoding_dim = 320  # 32 floats -> compression of factor 24.5, assuming the input is 784 floats\n",
    "\n",
    "\n",
    "# this is our input placeholder\n",
    "\n",
    "input_img = Input(shape=(img_rows*img_cols,))\n",
    "\n",
    "# \"encoded\" is the encoded representation of the input\n",
    "encoded = Dense(encoding_dim, activation='sigmoid', use_bias=False,bias_initializer='random_uniform')(input_img)\n",
    "# \"decoded\" is the lossy reconstruction of the input\n",
    "decoded = Dense(img_cols*img_rows, activation='sigmoid',use_bias=True,bias_initializer='random_uniform')(encoded)\n",
    "\n",
    "# this model maps an input to its reconstruction\n",
    "\n",
    "\n",
    "#autoencoder=Sequential([\n",
    "#    Dense(encoding_dim, kernel_regularizer=regularizers.l2(0.001), use_bias=True,bias_initializer='random_uniform',input_shape=(640,)),\n",
    "#    Activation('sigmoid'),\n",
    "#    Dense(img_cols*img_rows, use_bias=True,bias_initializer='random_uniform'),\n",
    "#    Activation('linear'),\n",
    "#])\n",
    "\n",
    "autoencoder = Model(input_img, decoded)"
   ]
  },
  {
   "cell_type": "markdown",
   "metadata": {},
   "source": [
    "## Prepare data into training and test set."
   ]
  },
  {
   "cell_type": "code",
   "execution_count": 8,
   "metadata": {},
   "outputs": [
    {
     "name": "stdout",
     "output_type": "stream",
     "text": [
      "75846\n",
      "conjunto_datos shape: (75846, 640)\n",
      "45507\n",
      "15169\n",
      "15170\n"
     ]
    }
   ],
   "source": [
    "# the data, shuffled and split between train and test sets\n",
    "# (X_train, y_train), (X_test, y_test) = mnist.load_data()\n",
    "numero_muestras=conjunto_datos.shape[0]\n",
    "print(numero_muestras)\n",
    "print('conjunto_datos shape:', conjunto_datos.shape)\n",
    "\n",
    "tr_size=60\n",
    "val_size=20\n",
    "test_size=100-val_size-tr_size\n",
    "\n",
    "tamanyo_tr=floor(tr_size*numero_muestras/100)\n",
    "tamanyo_val=floor(val_size*numero_muestras/100)\n",
    "tamanyo_test=numero_muestras-tamanyo_tr-tamanyo_val\n",
    "print(tamanyo_tr)\n",
    "print(tamanyo_val)\n",
    "print(tamanyo_test)\n",
    "\n",
    "\n",
    "X_train=conjunto_datos[:tamanyo_tr,:]\n",
    "X_val=conjunto_datos[tamanyo_tr:tamanyo_tr+tamanyo_val,:]\n",
    "X_test=conjunto_datos[tamanyo_tr+tamanyo_val:numero_muestras,:]\n",
    "\n",
    "\n",
    "\n",
    "\n",
    "\n",
    "Y_train=conjunto_datos[:tamanyo_tr,1] #elijo la coordenada radius\n",
    "Y_val=conjunto_datos[tamanyo_tr:tamanyo_tr+tamanyo_val,1] #elijo la corrdenada radius\n",
    "Y_test=conjunto_datos[tamanyo_tr+tamanyo_val:numero_muestras,1] #elijo la corrdenada radius"
   ]
  },
  {
   "cell_type": "code",
   "execution_count": 43,
   "metadata": {},
   "outputs": [],
   "source": [
    "X_train = X_train.reshape(X_train.shape[0], img_cols, img_rows,1)\n",
    "X_val = X_val.reshape(X_val.shape[0], img_cols, img_rows,1)\n",
    "X_test = X_test.reshape(X_test.shape[0], img_cols, img_rows,1)\n",
    "\n",
    "\n",
    "input_shape = (img_cols, img_rows,1)\n",
    "#input_shape=input_shape.astype('int32')"
   ]
  },
  {
   "cell_type": "code",
   "execution_count": 44,
   "metadata": {},
   "outputs": [
    {
     "name": "stdout",
     "output_type": "stream",
     "text": [
      "X_train shape: (45507, 40, 16, 1)\n",
      "45507 train samples\n",
      "15169 validation samples\n",
      "15170 test samples\n"
     ]
    }
   ],
   "source": [
    "X_train = X_train.astype('float32')\n",
    "X_val= X_val.astype('float32')\n",
    "X_test = X_test.astype('float32')\n",
    "\n",
    "print('X_train shape:', X_train.shape)\n",
    "print(X_train.shape[0], 'train samples')\n",
    "print(X_val.shape[0], 'validation samples')\n",
    "print(X_test.shape[0], 'test samples')"
   ]
  },
  {
   "cell_type": "markdown",
   "metadata": {},
   "source": [
    "Display 20 random training images using image"
   ]
  },
  {
   "cell_type": "code",
   "execution_count": 45,
   "metadata": {},
   "outputs": [
    {
     "data": {
      "image/png": "[encoded data removed]",
      "text/plain": [
       "<Figure size 432x288 with 1 Axes>"
      ]
     },
     "metadata": {},
     "output_type": "display_data"
    },
    {
     "name": "stdout",
     "output_type": "stream",
     "text": [
      "29095\n"
     ]
    },
    {
     "data": {
      "image/png": "[encoded data removed]",
      "text/plain": [
       "<Figure size 432x288 with 1 Axes>"
      ]
     },
     "metadata": {},
     "output_type": "display_data"
    },
    {
     "name": "stdout",
     "output_type": "stream",
     "text": [
      "38854\n"
     ]
    },
    {
     "data": {
      "image/png": "[encoded data removed]",
      "text/plain": [
       "<Figure size 432x288 with 1 Axes>"
      ]
     },
     "metadata": {},
     "output_type": "display_data"
    },
    {
     "name": "stdout",
     "output_type": "stream",
     "text": [
      "32301\n"
     ]
    },
    {
     "data": {
      "image/png": "[encoded data removed]",
      "text/plain": [
       "<Figure size 432x288 with 1 Axes>"
      ]
     },
     "metadata": {},
     "output_type": "display_data"
    },
    {
     "name": "stdout",
     "output_type": "stream",
     "text": [
      "33129\n"
     ]
    }
   ],
   "source": [
    "# convert class vectors to binary class matrices\n",
    "#Y_train = np_utils.to_categorical(y_train, nb_classes)\n",
    "#Y_test = np_utils.to_categorical(y_test, nb_classes)\n",
    "for i in range(1,5):\n",
    "    idea=np.random.randint(1,X_train.shape[0])\n",
    "    plt.imshow(np.reshape(X_train[idea].transpose(), [16, 40]), vmin=0, vmax=30)\n",
    "    plt.viridis()\n",
    "    plt.show()\n",
    "    print(idea)"
   ]
  },
  {
   "cell_type": "markdown",
   "metadata": {},
   "source": [
    "Vamos a generar las matrices de datos para la red neuronal "
   ]
  },
  {
   "cell_type": "code",
   "execution_count": 46,
   "metadata": {},
   "outputs": [
    {
     "name": "stdout",
     "output_type": "stream",
     "text": [
      "(45507, 640)\n",
      "(15170, 640)\n",
      "(15170, 640)\n"
     ]
    }
   ],
   "source": [
    "x_train = X_train.reshape((len(X_train), np.prod(X_train.shape[1:])))\n",
    "x_test = X_test.reshape((len(X_test), np.prod(X_test.shape[1:])))\n",
    "prueba=x_train[0:15170,:]\n",
    "print(x_train.shape)\n",
    "print(x_test.shape)\n",
    "print(prueba.shape)"
   ]
  },
  {
   "cell_type": "code",
   "execution_count": 47,
   "metadata": {},
   "outputs": [
    {
     "name": "stdout",
     "output_type": "stream",
     "text": [
      "MinMaxScaler(copy=True, feature_range=(0, 1))\n"
     ]
    },
    {
     "data": {
      "text/plain": [
       "array([0.01, 0.  , 0.  , 0.  , 0.01, 0.01, 0.  , 0.03, 0.  , 0.04, 0.02,\n",
       "       0.01, 0.  , 0.  , 0.  , 0.  , 0.  , 0.  , 0.  , 0.  , 0.  , 0.02,\n",
       "       0.03, 0.04, 0.01, 0.  , 0.02, 0.01, 0.02, 0.01, 0.02, 0.01, 0.  ,\n",
       "       0.01, 0.01, 0.01, 0.02, 0.  , 0.04, 0.05, 0.04, 0.01, 0.  , 0.  ,\n",
       "       0.01, 0.01, 0.02, 0.01, 0.  , 0.  , 0.01, 0.  , 0.01, 0.02, 0.03,\n",
       "       0.02, 0.01, 0.  , 0.04, 0.04, 0.04, 0.  , 0.01, 0.01, 0.01, 0.  ,\n",
       "       0.01, 0.  , 0.01, 0.03, 0.01, 0.01, 0.02, 0.01, 0.02, 0.03, 0.01,\n",
       "       0.  , 0.01, 0.01, 0.  , 0.  , 0.  , 0.  , 0.01, 0.02, 0.02, 0.01,\n",
       "       0.03, 0.04, 0.03, 0.03, 0.01, 0.03, 0.  , 0.02, 0.  , 0.  , 0.01,\n",
       "       0.  , 0.  , 0.02, 0.01, 0.02, 0.01, 0.02, 0.  , 0.03, 0.02, 0.01,\n",
       "       0.02, 0.  , 0.  , 0.  , 0.  , 0.  , 0.  , 0.  , 0.02, 0.03, 0.02,\n",
       "       0.01, 0.  , 0.01, 0.03, 0.  , 0.  , 0.01, 0.  , 0.  , 0.  , 0.01,\n",
       "       0.02, 0.  , 0.  , 0.01, 0.04, 0.02, 0.  , 0.01, 0.01, 0.  , 0.  ,\n",
       "       0.01, 0.  , 0.  , 0.  , 0.01, 0.  , 0.  , 0.  , 0.02, 0.01, 0.  ,\n",
       "       0.  , 0.01, 0.01, 0.  , 0.  , 0.  , 0.01, 0.01, 0.  , 0.  , 0.  ,\n",
       "       0.02, 0.  , 0.01, 0.02, 0.  , 0.01, 0.02, 0.  , 0.  , 0.  , 0.  ,\n",
       "       0.  , 0.  , 0.  , 0.01, 0.01, 0.  , 0.  , 0.01, 0.01, 0.  , 0.  ,\n",
       "       0.01, 0.  , 0.  , 0.01, 0.01, 0.  , 0.  , 0.01, 0.  , 0.  , 0.01,\n",
       "       0.01, 0.02, 0.  , 0.  , 0.  , 0.  , 0.01, 0.  , 0.  , 0.  , 0.  ,\n",
       "       0.  , 0.  , 0.  , 0.  , 0.  , 0.01, 0.  , 0.  , 0.  , 0.  , 0.  ,\n",
       "       0.01, 0.  , 0.01, 0.  , 0.01, 0.  , 0.  , 0.  , 0.  , 0.01, 0.  ,\n",
       "       0.  , 0.  , 0.  , 0.  , 0.  , 0.  , 0.01, 0.01, 0.  , 0.  , 0.  ,\n",
       "       0.  , 0.  , 0.01, 0.01, 0.  , 0.  , 0.  , 0.  , 0.  , 0.  , 0.  ,\n",
       "       0.  , 0.  , 0.  , 0.  , 0.  , 0.  , 0.01, 0.  , 0.  , 0.  , 0.  ,\n",
       "       0.  , 0.  , 0.  , 0.  , 0.  , 0.  , 0.  , 0.  , 0.  , 0.  , 0.  ,\n",
       "       0.  , 0.  , 0.  , 0.01, 0.  , 0.01, 0.  , 0.  , 0.  , 0.  , 0.  ,\n",
       "       0.  , 0.  , 0.  , 0.  , 0.  , 0.  , 0.  , 0.  , 0.  , 0.  , 0.  ,\n",
       "       0.  , 0.  , 0.  , 0.  , 0.  , 0.  , 0.  , 0.  , 0.  , 0.  , 0.  ,\n",
       "       0.  , 0.  , 0.  , 0.  , 0.  , 0.  , 0.  , 0.  , 0.  , 0.  , 0.01,\n",
       "       0.  , 0.  , 0.  , 0.  , 0.  , 0.  , 0.02, 0.  , 0.  , 0.  , 0.  ,\n",
       "       0.  , 0.  , 0.  , 0.  , 0.  , 0.  , 0.  , 0.  , 0.  , 0.  , 0.  ,\n",
       "       0.  , 0.  , 0.  , 0.  , 0.  , 0.  , 0.  , 0.  , 0.  , 0.  , 0.  ,\n",
       "       0.  , 0.  , 0.  , 0.  , 0.  , 0.  , 0.  , 0.  , 0.  , 0.  , 0.  ,\n",
       "       0.  , 0.  , 0.  , 0.  , 0.  , 0.  , 0.  , 0.  , 0.  , 0.  , 0.  ,\n",
       "       0.  , 0.  , 0.  , 0.  , 0.  , 0.  , 0.  , 0.  , 0.  , 0.  , 0.  ,\n",
       "       0.  , 0.  , 0.  , 0.  , 0.  , 0.  , 0.  , 0.  , 0.  , 0.01, 0.  ,\n",
       "       0.  , 0.  , 0.  , 0.  , 0.  , 0.  , 0.  , 0.  , 0.  , 0.  , 0.  ,\n",
       "       0.  , 0.  , 0.  , 0.  , 0.  , 0.  , 0.  , 0.  , 0.01, 0.  , 0.  ,\n",
       "       0.  , 0.  , 0.  , 0.  , 0.  , 0.  , 0.  , 0.  , 0.  , 0.  , 0.  ,\n",
       "       0.  , 0.  , 0.  , 0.  , 0.  , 0.  , 0.  , 0.  , 0.  , 0.  , 0.  ,\n",
       "       0.  , 0.  , 0.  , 0.  , 0.  , 0.  , 0.  , 0.  , 0.  , 0.  , 0.  ,\n",
       "       0.  , 0.  , 0.  , 0.  , 0.  , 0.  , 0.  , 0.  , 0.  , 0.  , 0.  ,\n",
       "       0.  , 0.  , 0.01, 0.  , 0.  , 0.  , 0.  , 0.  , 0.  , 0.  , 0.01,\n",
       "       0.  , 0.  , 0.  , 0.  , 0.  , 0.  , 0.  , 0.  , 0.  , 0.  , 0.01,\n",
       "       0.  , 0.  , 0.  , 0.  , 0.  , 0.  , 0.  , 0.  , 0.  , 0.  , 0.  ,\n",
       "       0.  , 0.  , 0.  , 0.  , 0.  , 0.  , 0.  , 0.  , 0.  , 0.  , 0.  ,\n",
       "       0.  , 0.  , 0.  , 0.01, 0.  , 0.  , 0.  , 0.  , 0.01, 0.  , 0.  ,\n",
       "       0.  , 0.  , 0.  , 0.  , 0.  , 0.  , 0.  , 0.  , 0.  , 0.  , 0.  ,\n",
       "       0.  , 0.  , 0.  , 0.  , 0.  , 0.  , 0.  , 0.  , 0.  , 0.  , 0.  ,\n",
       "       0.  , 0.  , 0.  , 0.  , 0.  , 0.  , 0.  , 0.  , 0.  , 0.  , 0.  ,\n",
       "       0.  , 0.  , 0.  , 0.  , 0.  , 0.  , 0.  , 0.  , 0.  , 0.  , 0.  ,\n",
       "       0.  , 0.  , 0.  , 0.  , 0.  , 0.  , 0.  , 0.  , 0.  , 0.  , 0.  ,\n",
       "       0.  , 0.  , 0.  , 0.  , 0.  , 0.  , 0.  , 0.  , 0.  , 0.  , 0.  ,\n",
       "       0.  , 0.  , 0.  , 0.  , 0.  , 0.  , 0.  , 0.  , 0.  , 0.  , 0.  ,\n",
       "       0.  , 0.  , 0.  , 0.  , 0.  , 0.  , 0.  , 0.  , 0.  , 0.  , 0.  ,\n",
       "       0.  , 0.  , 0.  , 0.  , 0.  , 0.  , 0.  , 0.  , 0.  , 0.  , 0.  ,\n",
       "       0.  , 0.  , 0.  , 0.  , 0.  , 0.  , 0.  , 0.  , 0.  , 0.  , 0.  ,\n",
       "       0.  , 0.  , 0.  , 0.  , 0.  , 0.  , 0.  , 0.  , 0.  , 0.  , 0.  ,\n",
       "       0.  , 0.  ], dtype=float32)"
      ]
     },
     "execution_count": 47,
     "metadata": {},
     "output_type": "execute_result"
    }
   ],
   "source": [
    "# min_max_scaler = preprocessing.QuantileTransformer().fit(x_train)\n",
    "# min_max_scaler = preprocessing.MaxAbsScaler().fit(x_train)\n",
    "# min_max_scaler = preprocessing.StandardScaler(with_mean=False).fit(x_train)\n",
    "min_max_scaler = preprocessing.MinMaxScaler().fit(x_train)\n",
    "#min_max_scaler = preprocessing.RobustScaler().fit(x_train)\n",
    "supermax=100\n",
    "factor_aprendizaje=0.0001\n",
    "print(min_max_scaler)\n",
    "#x_train_scaled = min_max_scaler.transform(x_train)\n",
    "#x_test_scaled = min_max_scaler.transform(x_test)\n",
    "x_train_scaled=(x_train/supermax)\n",
    "x_test_scaled=(x_test/supermax)\n",
    "#min_max_scaler.scale_\n",
    "x_train[29413]\n",
    "x_train_scaled[29413]"
   ]
  },
  {
   "cell_type": "markdown",
   "metadata": {},
   "source": [
    "## Build the autoencoder. "
   ]
  },
  {
   "cell_type": "markdown",
   "metadata": {},
   "source": [
    "Create our metrics, for example energy"
   ]
  },
  {
   "cell_type": "code",
   "execution_count": 48,
   "metadata": {},
   "outputs": [],
   "source": [
    "import keras.backend as KK\n",
    "import keras.callbacks as KKcall"
   ]
  },
  {
   "cell_type": "code",
   "execution_count": 49,
   "metadata": {},
   "outputs": [],
   "source": [
    "class Metrics(KKcall.Callback):\n",
    "    def on_train_begin(self, logs={}):\n",
    "        self._data = []\n",
    "\n",
    "    def on_epoch_end(self, batch, logs={}):\n",
    "        X_val, y_val = self.validation_data[0], self.validation_data[1]\n",
    "        y_predict = np.asarray(self.model.predict(X_val))\n",
    "\n",
    "        y_val = np.sum((y_val+1)*supermax/2, axis=1)\n",
    "        y_predict = np.sum((y_predict+1)*supermax/2, axis=1)\n",
    "\n",
    "        self._data.append({\n",
    "            'val_energy': np.mean(y_predict-y_val),\n",
    "        })\n",
    "        return\n",
    "\n",
    "    def get_data(self):\n",
    "        return self._data\n",
    "\n",
    "metrics = Metrics()\n",
    "\n",
    "def energy_error(y_true, y_pred):\n",
    "    veamos_energia=(KK.sum(y_pred, axis=1)-KK.sum(y_true,axis=1))\n",
    "    return KK.mean(veamos_energia,axis=-1)"
   ]
  },
  {
   "cell_type": "code",
   "execution_count": 50,
   "metadata": {},
   "outputs": [],
   "source": [
    "# this model maps an input to its encoded representation\n",
    "encoder = Model(input_img, encoded)\n",
    "\n",
    "# create a placeholder for an encoded (32-dimensional) input\n",
    "encoded_input = Input(shape=(encoding_dim,))\n",
    "# retrieve the last layer of the autoencoder model\n",
    "decoder_layer = autoencoder.layers[-1]\n",
    "# create the decoder model\n",
    "decoder = Model(encoded_input, decoder_layer(encoded_input))\n",
    "\n",
    "autoencoder.compile(optimizer='RMSprop', loss='mse', metrics=[energy_error])\n",
    "\n",
    "autoencoder.optimizer.lr=(factor_aprendizaje)"
   ]
  },
  {
   "cell_type": "markdown",
   "metadata": {},
   "source": [
    "Show a summary of the model parameters. "
   ]
  },
  {
   "cell_type": "markdown",
   "metadata": {},
   "source": [
    "And now train the model and evaluate on the test set. "
   ]
  },
  {
   "cell_type": "code",
   "execution_count": 65,
   "metadata": {
    "scrolled": true
   },
   "outputs": [
    {
     "name": "stdout",
     "output_type": "stream",
     "text": [
      "Train on 45507 samples, validate on 15170 samples\n",
      "Epoch 1/100\n",
      "45507/45507 [==============================] - 1s 27us/step - loss: 1.4308e-04 - energy_error: 0.2917 - val_loss: 1.3519e-04 - val_energy_error: 0.3139\n",
      "Epoch 2/100\n",
      "45507/45507 [==============================] - 1s 21us/step - loss: 1.4308e-04 - energy_error: 0.2917 - val_loss: 1.3519e-04 - val_energy_error: 0.3139\n",
      "Epoch 3/100\n",
      "45507/45507 [==============================] - 1s 20us/step - loss: 1.4308e-04 - energy_error: 0.2917 - val_loss: 1.3519e-04 - val_energy_error: 0.3139\n",
      "Epoch 4/100\n",
      "45507/45507 [==============================] - 1s 21us/step - loss: 1.4308e-04 - energy_error: 0.2916 - val_loss: 1.3519e-04 - val_energy_error: 0.3139\n",
      "Epoch 5/100\n",
      "45507/45507 [==============================] - 1s 20us/step - loss: 1.4307e-04 - energy_error: 0.2916 - val_loss: 1.3519e-04 - val_energy_error: 0.3138\n",
      "Epoch 6/100\n",
      "45507/45507 [==============================] - 1s 19us/step - loss: 1.4307e-04 - energy_error: 0.2916 - val_loss: 1.3519e-04 - val_energy_error: 0.3138\n",
      "Epoch 7/100\n",
      "45507/45507 [==============================] - 1s 20us/step - loss: 1.4307e-04 - energy_error: 0.2916 - val_loss: 1.3519e-04 - val_energy_error: 0.3138\n",
      "Epoch 8/100\n",
      "45507/45507 [==============================] - 1s 19us/step - loss: 1.4307e-04 - energy_error: 0.2916 - val_loss: 1.3519e-04 - val_energy_error: 0.3138\n",
      "Epoch 9/100\n",
      "45507/45507 [==============================] - 1s 19us/step - loss: 1.4307e-04 - energy_error: 0.2916 - val_loss: 1.3518e-04 - val_energy_error: 0.3138\n",
      "Epoch 10/100\n",
      "45507/45507 [==============================] - 1s 19us/step - loss: 1.4307e-04 - energy_error: 0.2916 - val_loss: 1.3518e-04 - val_energy_error: 0.3138\n",
      "Epoch 11/100\n",
      "45507/45507 [==============================] - 1s 19us/step - loss: 1.4307e-04 - energy_error: 0.2916 - val_loss: 1.3518e-04 - val_energy_error: 0.3138\n",
      "Epoch 12/100\n",
      "45507/45507 [==============================] - 1s 21us/step - loss: 1.4307e-04 - energy_error: 0.2915 - val_loss: 1.3518e-04 - val_energy_error: 0.3138\n",
      "Epoch 13/100\n",
      "45507/45507 [==============================] - 1s 20us/step - loss: 1.4307e-04 - energy_error: 0.2915 - val_loss: 1.3518e-04 - val_energy_error: 0.3137\n",
      "Epoch 14/100\n",
      "45507/45507 [==============================] - 1s 20us/step - loss: 1.4307e-04 - energy_error: 0.2915 - val_loss: 1.3518e-04 - val_energy_error: 0.3137\n",
      "Epoch 15/100\n",
      "45507/45507 [==============================] - 1s 21us/step - loss: 1.4307e-04 - energy_error: 0.2915 - val_loss: 1.3518e-04 - val_energy_error: 0.3137\n",
      "Epoch 16/100\n",
      "45507/45507 [==============================] - 1s 20us/step - loss: 1.4307e-04 - energy_error: 0.2915 - val_loss: 1.3518e-04 - val_energy_error: 0.3137\n",
      "Epoch 17/100\n",
      "45507/45507 [==============================] - 1s 19us/step - loss: 1.4307e-04 - energy_error: 0.2915 - val_loss: 1.3518e-04 - val_energy_error: 0.3137\n",
      "Epoch 18/100\n",
      "45507/45507 [==============================] - 1s 20us/step - loss: 1.4307e-04 - energy_error: 0.2915 - val_loss: 1.3517e-04 - val_energy_error: 0.3137\n",
      "Epoch 19/100\n",
      "45507/45507 [==============================] - 1s 21us/step - loss: 1.4307e-04 - energy_error: 0.2914 - val_loss: 1.3517e-04 - val_energy_error: 0.3137\n",
      "Epoch 20/100\n",
      "45507/45507 [==============================] - 1s 20us/step - loss: 1.4307e-04 - energy_error: 0.2914 - val_loss: 1.3517e-04 - val_energy_error: 0.3136\n",
      "Epoch 21/100\n",
      "45507/45507 [==============================] - ETA: 0s - loss: 1.4487e-04 - energy_error: 0.29 - 1s 19us/step - loss: 1.4306e-04 - energy_error: 0.2914 - val_loss: 1.3517e-04 - val_energy_error: 0.3136\n",
      "Epoch 22/100\n",
      "45507/45507 [==============================] - 1s 20us/step - loss: 1.4306e-04 - energy_error: 0.2914 - val_loss: 1.3517e-04 - val_energy_error: 0.3136\n",
      "Epoch 23/100\n",
      "45507/45507 [==============================] - 1s 20us/step - loss: 1.4306e-04 - energy_error: 0.2914 - val_loss: 1.3517e-04 - val_energy_error: 0.3136\n",
      "Epoch 24/100\n",
      "45507/45507 [==============================] - 1s 20us/step - loss: 1.4306e-04 - energy_error: 0.2914 - val_loss: 1.3517e-04 - val_energy_error: 0.3136\n",
      "Epoch 25/100\n",
      "45507/45507 [==============================] - 1s 21us/step - loss: 1.4306e-04 - energy_error: 0.2914 - val_loss: 1.3517e-04 - val_energy_error: 0.3136\n",
      "Epoch 26/100\n",
      "45507/45507 [==============================] - 1s 19us/step - loss: 1.4306e-04 - energy_error: 0.2914 - val_loss: 1.3517e-04 - val_energy_error: 0.3136\n",
      "Epoch 27/100\n",
      "45507/45507 [==============================] - 1s 19us/step - loss: 1.4306e-04 - energy_error: 0.2913 - val_loss: 1.3516e-04 - val_energy_error: 0.3136\n",
      "Epoch 28/100\n",
      "45507/45507 [==============================] - 1s 20us/step - loss: 1.4306e-04 - energy_error: 0.2913 - val_loss: 1.3516e-04 - val_energy_error: 0.3135\n",
      "Epoch 29/100\n",
      "45507/45507 [==============================] - 1s 20us/step - loss: 1.4306e-04 - energy_error: 0.2913 - val_loss: 1.3516e-04 - val_energy_error: 0.3135\n",
      "Epoch 30/100\n",
      "45507/45507 [==============================] - 1s 19us/step - loss: 1.4306e-04 - energy_error: 0.2913 - val_loss: 1.3516e-04 - val_energy_error: 0.3135\n",
      "Epoch 31/100\n",
      "45507/45507 [==============================] - 1s 19us/step - loss: 1.4306e-04 - energy_error: 0.2913 - val_loss: 1.3516e-04 - val_energy_error: 0.3135\n",
      "Epoch 32/100\n",
      "45507/45507 [==============================] - 1s 19us/step - loss: 1.4306e-04 - energy_error: 0.2913 - val_loss: 1.3516e-04 - val_energy_error: 0.3135\n",
      "Epoch 33/100\n",
      "45507/45507 [==============================] - 1s 20us/step - loss: 1.4306e-04 - energy_error: 0.2913 - val_loss: 1.3516e-04 - val_energy_error: 0.3135\n",
      "Epoch 34/100\n",
      "45507/45507 [==============================] - 1s 19us/step - loss: 1.4306e-04 - energy_error: 0.2912 - val_loss: 1.3516e-04 - val_energy_error: 0.3135\n",
      "Epoch 35/100\n",
      "45507/45507 [==============================] - 1s 19us/step - loss: 1.4306e-04 - energy_error: 0.2912 - val_loss: 1.3516e-04 - val_energy_error: 0.3135\n",
      "Epoch 36/100\n",
      "45507/45507 [==============================] - 1s 21us/step - loss: 1.4306e-04 - energy_error: 0.2912 - val_loss: 1.3515e-04 - val_energy_error: 0.3134\n",
      "Epoch 37/100\n",
      "45507/45507 [==============================] - 1s 20us/step - loss: 1.4305e-04 - energy_error: 0.2912 - val_loss: 1.3515e-04 - val_energy_error: 0.3134\n",
      "Epoch 38/100\n",
      "45507/45507 [==============================] - 1s 19us/step - loss: 1.4305e-04 - energy_error: 0.2912 - val_loss: 1.3515e-04 - val_energy_error: 0.3134\n",
      "Epoch 39/100\n",
      "45507/45507 [==============================] - 1s 20us/step - loss: 1.4305e-04 - energy_error: 0.2912 - val_loss: 1.3515e-04 - val_energy_error: 0.3134\n",
      "Epoch 40/100\n",
      "45507/45507 [==============================] - 1s 20us/step - loss: 1.4305e-04 - energy_error: 0.2912 - val_loss: 1.3515e-04 - val_energy_error: 0.3134\n",
      "Epoch 41/100\n",
      "45507/45507 [==============================] - 1s 20us/step - loss: 1.4305e-04 - energy_error: 0.2911 - val_loss: 1.3515e-04 - val_energy_error: 0.3134\n",
      "Epoch 42/100\n",
      "45507/45507 [==============================] - 1s 21us/step - loss: 1.4305e-04 - energy_error: 0.2911 - val_loss: 1.3515e-04 - val_energy_error: 0.3134\n",
      "Epoch 43/100\n",
      "45507/45507 [==============================] - 1s 20us/step - loss: 1.4305e-04 - energy_error: 0.2911 - val_loss: 1.3515e-04 - val_energy_error: 0.3133\n",
      "Epoch 44/100\n",
      "45507/45507 [==============================] - 1s 19us/step - loss: 1.4305e-04 - energy_error: 0.2911 - val_loss: 1.3515e-04 - val_energy_error: 0.3133\n",
      "Epoch 45/100\n",
      "45507/45507 [==============================] - 1s 19us/step - loss: 1.4305e-04 - energy_error: 0.2911 - val_loss: 1.3514e-04 - val_energy_error: 0.3133\n",
      "Epoch 46/100\n",
      "45507/45507 [==============================] - 1s 19us/step - loss: 1.4305e-04 - energy_error: 0.2911 - val_loss: 1.3514e-04 - val_energy_error: 0.3133\n",
      "Epoch 47/100\n",
      "45507/45507 [==============================] - 1s 20us/step - loss: 1.4305e-04 - energy_error: 0.2911 - val_loss: 1.3514e-04 - val_energy_error: 0.3133\n",
      "Epoch 48/100\n",
      "45507/45507 [==============================] - 1s 21us/step - loss: 1.4305e-04 - energy_error: 0.2911 - val_loss: 1.3514e-04 - val_energy_error: 0.3133\n",
      "Epoch 49/100\n",
      "45507/45507 [==============================] - 1s 20us/step - loss: 1.4305e-04 - energy_error: 0.2910 - val_loss: 1.3514e-04 - val_energy_error: 0.3133\n",
      "Epoch 50/100\n",
      "45507/45507 [==============================] - 1s 19us/step - loss: 1.4305e-04 - energy_error: 0.2910 - val_loss: 1.3514e-04 - val_energy_error: 0.3133\n",
      "Epoch 51/100\n",
      "45507/45507 [==============================] - 1s 21us/step - loss: 1.4305e-04 - energy_error: 0.2910 - val_loss: 1.3514e-04 - val_energy_error: 0.3132\n",
      "Epoch 52/100\n",
      "45507/45507 [==============================] - 1s 19us/step - loss: 1.4305e-04 - energy_error: 0.2910 - val_loss: 1.3514e-04 - val_energy_error: 0.3132\n",
      "Epoch 53/100\n",
      "45507/45507 [==============================] - 1s 20us/step - loss: 1.4305e-04 - energy_error: 0.2910 - val_loss: 1.3513e-04 - val_energy_error: 0.3132\n",
      "Epoch 54/100\n",
      "45507/45507 [==============================] - 1s 19us/step - loss: 1.4304e-04 - energy_error: 0.2910 - val_loss: 1.3513e-04 - val_energy_error: 0.3132\n",
      "Epoch 55/100\n",
      "45507/45507 [==============================] - 1s 20us/step - loss: 1.4304e-04 - energy_error: 0.2910 - val_loss: 1.3513e-04 - val_energy_error: 0.3132\n",
      "Epoch 56/100\n",
      "45507/45507 [==============================] - 1s 20us/step - loss: 1.4304e-04 - energy_error: 0.2909 - val_loss: 1.3513e-04 - val_energy_error: 0.3132\n",
      "Epoch 57/100\n",
      "45507/45507 [==============================] - 1s 19us/step - loss: 1.4304e-04 - energy_error: 0.2909 - val_loss: 1.3513e-04 - val_energy_error: 0.3132\n",
      "Epoch 58/100\n",
      "45507/45507 [==============================] - 1s 20us/step - loss: 1.4304e-04 - energy_error: 0.2909 - val_loss: 1.3513e-04 - val_energy_error: 0.3132\n",
      "Epoch 59/100\n",
      "45507/45507 [==============================] - 1s 20us/step - loss: 1.4304e-04 - energy_error: 0.2909 - val_loss: 1.3513e-04 - val_energy_error: 0.3131\n",
      "Epoch 60/100\n",
      "45507/45507 [==============================] - 1s 19us/step - loss: 1.4304e-04 - energy_error: 0.2909 - val_loss: 1.3513e-04 - val_energy_error: 0.3131\n",
      "Epoch 61/100\n",
      "45507/45507 [==============================] - 1s 19us/step - loss: 1.4304e-04 - energy_error: 0.2909 - val_loss: 1.3513e-04 - val_energy_error: 0.3131\n",
      "Epoch 62/100\n",
      "45507/45507 [==============================] - 1s 19us/step - loss: 1.4304e-04 - energy_error: 0.2909 - val_loss: 1.3512e-04 - val_energy_error: 0.3131\n",
      "Epoch 63/100\n",
      "45507/45507 [==============================] - 1s 20us/step - loss: 1.4304e-04 - energy_error: 0.2909 - val_loss: 1.3512e-04 - val_energy_error: 0.3131\n",
      "Epoch 64/100\n",
      "45507/45507 [==============================] - 1s 22us/step - loss: 1.4304e-04 - energy_error: 0.2908 - val_loss: 1.3512e-04 - val_energy_error: 0.3131\n",
      "Epoch 65/100\n",
      "45507/45507 [==============================] - 1s 19us/step - loss: 1.4304e-04 - energy_error: 0.2908 - val_loss: 1.3512e-04 - val_energy_error: 0.3131\n",
      "Epoch 66/100\n",
      "45507/45507 [==============================] - 1s 20us/step - loss: 1.4304e-04 - energy_error: 0.2908 - val_loss: 1.3512e-04 - val_energy_error: 0.3130\n",
      "Epoch 67/100\n",
      "45507/45507 [==============================] - 1s 19us/step - loss: 1.4304e-04 - energy_error: 0.2908 - val_loss: 1.3512e-04 - val_energy_error: 0.3130\n",
      "Epoch 68/100\n",
      "45507/45507 [==============================] - 1s 19us/step - loss: 1.4304e-04 - energy_error: 0.2908 - val_loss: 1.3512e-04 - val_energy_error: 0.3130\n",
      "Epoch 69/100\n",
      "45507/45507 [==============================] - 1s 20us/step - loss: 1.4304e-04 - energy_error: 0.2908 - val_loss: 1.3512e-04 - val_energy_error: 0.3130\n",
      "Epoch 70/100\n",
      "45507/45507 [==============================] - 1s 20us/step - loss: 1.4303e-04 - energy_error: 0.2908 - val_loss: 1.3512e-04 - val_energy_error: 0.3130\n",
      "Epoch 71/100\n",
      "45507/45507 [==============================] - 1s 20us/step - loss: 1.4303e-04 - energy_error: 0.2907 - val_loss: 1.3511e-04 - val_energy_error: 0.3130\n",
      "Epoch 72/100\n",
      "45507/45507 [==============================] - 1s 21us/step - loss: 1.4303e-04 - energy_error: 0.2907 - val_loss: 1.3511e-04 - val_energy_error: 0.3130\n",
      "Epoch 73/100\n",
      "45507/45507 [==============================] - 1s 19us/step - loss: 1.4303e-04 - energy_error: 0.2907 - val_loss: 1.3511e-04 - val_energy_error: 0.3130\n",
      "Epoch 74/100\n",
      "45507/45507 [==============================] - 1s 19us/step - loss: 1.4303e-04 - energy_error: 0.2907 - val_loss: 1.3511e-04 - val_energy_error: 0.3129\n",
      "Epoch 75/100\n",
      "45507/45507 [==============================] - 1s 19us/step - loss: 1.4303e-04 - energy_error: 0.2907 - val_loss: 1.3511e-04 - val_energy_error: 0.3129\n",
      "Epoch 76/100\n",
      "45507/45507 [==============================] - 1s 20us/step - loss: 1.4303e-04 - energy_error: 0.2907 - val_loss: 1.3511e-04 - val_energy_error: 0.3129\n",
      "Epoch 77/100\n",
      "45507/45507 [==============================] - 1s 20us/step - loss: 1.4303e-04 - energy_error: 0.2907 - val_loss: 1.3511e-04 - val_energy_error: 0.3129\n",
      "Epoch 78/100\n",
      "45507/45507 [==============================] - 1s 21us/step - loss: 1.4303e-04 - energy_error: 0.2907 - val_loss: 1.3511e-04 - val_energy_error: 0.3129\n",
      "Epoch 79/100\n",
      "45507/45507 [==============================] - 1s 20us/step - loss: 1.4303e-04 - energy_error: 0.2906 - val_loss: 1.3511e-04 - val_energy_error: 0.3129\n",
      "Epoch 80/100\n",
      "45507/45507 [==============================] - 1s 20us/step - loss: 1.4303e-04 - energy_error: 0.2906 - val_loss: 1.3510e-04 - val_energy_error: 0.3129\n",
      "Epoch 81/100\n",
      "45507/45507 [==============================] - 1s 22us/step - loss: 1.4303e-04 - energy_error: 0.2906 - val_loss: 1.3510e-04 - val_energy_error: 0.3129\n",
      "Epoch 82/100\n",
      "45507/45507 [==============================] - 1s 20us/step - loss: 1.4303e-04 - energy_error: 0.2906 - val_loss: 1.3510e-04 - val_energy_error: 0.3128\n",
      "Epoch 83/100\n",
      "45507/45507 [==============================] - 1s 21us/step - loss: 1.4303e-04 - energy_error: 0.2906 - val_loss: 1.3510e-04 - val_energy_error: 0.3128\n",
      "Epoch 84/100\n",
      "45507/45507 [==============================] - 1s 19us/step - loss: 1.4303e-04 - energy_error: 0.2906 - val_loss: 1.3510e-04 - val_energy_error: 0.3128\n",
      "Epoch 85/100\n",
      "45507/45507 [==============================] - 1s 19us/step - loss: 1.4303e-04 - energy_error: 0.2906 - val_loss: 1.3510e-04 - val_energy_error: 0.3128\n",
      "Epoch 86/100\n",
      "45507/45507 [==============================] - 1s 20us/step - loss: 1.4302e-04 - energy_error: 0.2905 - val_loss: 1.3510e-04 - val_energy_error: 0.3128\n",
      "Epoch 87/100\n",
      "45507/45507 [==============================] - 1s 20us/step - loss: 1.4302e-04 - energy_error: 0.2905 - val_loss: 1.3510e-04 - val_energy_error: 0.3128\n",
      "Epoch 88/100\n",
      "45507/45507 [==============================] - 1s 22us/step - loss: 1.4302e-04 - energy_error: 0.2905 - val_loss: 1.3510e-04 - val_energy_error: 0.3128\n",
      "Epoch 89/100\n",
      "45507/45507 [==============================] - 1s 20us/step - loss: 1.4302e-04 - energy_error: 0.2905 - val_loss: 1.3509e-04 - val_energy_error: 0.3128\n",
      "Epoch 90/100\n",
      "45507/45507 [==============================] - 1s 20us/step - loss: 1.4302e-04 - energy_error: 0.2905 - val_loss: 1.3509e-04 - val_energy_error: 0.3127\n",
      "Epoch 91/100\n",
      "45507/45507 [==============================] - 1s 20us/step - loss: 1.4302e-04 - energy_error: 0.2905 - val_loss: 1.3509e-04 - val_energy_error: 0.3127\n",
      "Epoch 92/100\n",
      "45507/45507 [==============================] - 1s 20us/step - loss: 1.4302e-04 - energy_error: 0.2905 - val_loss: 1.3509e-04 - val_energy_error: 0.3127\n",
      "Epoch 93/100\n",
      "45507/45507 [==============================] - 1s 20us/step - loss: 1.4302e-04 - energy_error: 0.2904 - val_loss: 1.3509e-04 - val_energy_error: 0.3127\n",
      "Epoch 94/100\n",
      "45507/45507 [==============================] - 1s 19us/step - loss: 1.4302e-04 - energy_error: 0.2904 - val_loss: 1.3509e-04 - val_energy_error: 0.3127\n",
      "Epoch 95/100\n",
      "45507/45507 [==============================] - 1s 19us/step - loss: 1.4302e-04 - energy_error: 0.2904 - val_loss: 1.3509e-04 - val_energy_error: 0.3127\n",
      "Epoch 96/100\n",
      "45507/45507 [==============================] - 1s 20us/step - loss: 1.4302e-04 - energy_error: 0.2904 - val_loss: 1.3509e-04 - val_energy_error: 0.3127\n",
      "Epoch 97/100\n",
      "45507/45507 [==============================] - 1s 19us/step - loss: 1.4302e-04 - energy_error: 0.2904 - val_loss: 1.3509e-04 - val_energy_error: 0.3126\n",
      "Epoch 98/100\n",
      "45507/45507 [==============================] - 1s 19us/step - loss: 1.4302e-04 - energy_error: 0.2904 - val_loss: 1.3508e-04 - val_energy_error: 0.3126\n",
      "Epoch 99/100\n",
      "45507/45507 [==============================] - 1s 19us/step - loss: 1.4302e-04 - energy_error: 0.2904 - val_loss: 1.3508e-04 - val_energy_error: 0.3126\n"
     ]
    },
    {
     "name": "stdout",
     "output_type": "stream",
     "text": [
      "Epoch 100/100\n",
      "45507/45507 [==============================] - 1s 20us/step - loss: 1.4302e-04 - energy_error: 0.2904 - val_loss: 1.3508e-04 - val_energy_error: 0.3126\n"
     ]
    },
    {
     "data": {
      "text/plain": [
       "<keras.callbacks.History at 0x7fc2f82557b8>"
      ]
     },
     "execution_count": 65,
     "metadata": {},
     "output_type": "execute_result"
    }
   ],
   "source": [
    "algoritmo='RMSprop'\n",
    "experimento=\"scaled_{}_encoder_without_bias_sig_sig_lr_{}\".format(supermax,factor_aprendizaje)\n",
    "tensorboard=TensorBoard(log_dir=\"/home/rgadea3/EXPERIMENTOS/nuevas_investigaciones_2018/experimentos/logs/defs/{}{}{}{}\".format(encoding_dim,algoritmo,experimento,datetime.now()))\n",
    "#modelCheckpoint=ModelCheckpoint(\"/home/rgadea3/EXPERIMENTOS/nuevas_investigaciones_2018/experimentos/logs/\", monitor='val_loss', verbose=0, save_best_only=False, save_weights_only=False, mode='auto', period=1)\n",
    "early_stop=EarlyStopping(monitor='val_loss', min_delta=0, patience=500, verbose=2, mode='auto', baseline=None)\n",
    "autoencoder.fit(x_train_scaled, x_train_scaled,\n",
    "                epochs=100,\n",
    "                batch_size=200,\n",
    "                shuffle=False,\n",
    "                callbacks=[tensorboard, early_stop, metrics],\n",
    "                validation_data=(x_test_scaled, x_test_scaled))\n",
    "\n"
   ]
  },
  {
   "cell_type": "code",
   "execution_count": 104,
   "metadata": {},
   "outputs": [
    {
     "ename": "RuntimeError",
     "evalue": "You must compile a model before training/testing. Use `model.compile(optimizer, loss)`.",
     "output_type": "error",
     "traceback": [
      "\u001b[0;31m---------------------------------------------------------------------------\u001b[0m",
      "\u001b[0;31mRuntimeError\u001b[0m                              Traceback (most recent call last)",
      "\u001b[0;32m<ipython-input-104-e607ff977e3d>\u001b[0m in \u001b[0;36m<module>\u001b[0;34m()\u001b[0m\n\u001b[0;32m----> 1\u001b[0;31m \u001b[0mautoencoder\u001b[0m\u001b[0;34m.\u001b[0m\u001b[0mevaluate\u001b[0m\u001b[0;34m(\u001b[0m\u001b[0mx\u001b[0m\u001b[0;34m=\u001b[0m\u001b[0mx_test_scaled\u001b[0m\u001b[0;34m,\u001b[0m\u001b[0my\u001b[0m\u001b[0;34m=\u001b[0m\u001b[0mx_test_scaled\u001b[0m\u001b[0;34m)\u001b[0m\u001b[0;34m\u001b[0m\u001b[0m\n\u001b[0m\u001b[1;32m      2\u001b[0m \u001b[0mD\u001b[0m\u001b[0;34m=\u001b[0m\u001b[0mmetrics\u001b[0m\u001b[0;34m.\u001b[0m\u001b[0mget_data\u001b[0m\u001b[0;34m(\u001b[0m\u001b[0;34m)\u001b[0m\u001b[0;34m\u001b[0m\u001b[0m\n\u001b[1;32m      3\u001b[0m \u001b[0;34m\u001b[0m\u001b[0m\n\u001b[1;32m      4\u001b[0m \u001b[0;34m\u001b[0m\u001b[0m\n\u001b[1;32m      5\u001b[0m \u001b[0menergies\u001b[0m\u001b[0;34m=\u001b[0m\u001b[0mpd\u001b[0m\u001b[0;34m.\u001b[0m\u001b[0mDataFrame\u001b[0m\u001b[0;34m(\u001b[0m\u001b[0mD\u001b[0m\u001b[0;34m)\u001b[0m\u001b[0;34m.\u001b[0m\u001b[0mvalues\u001b[0m\u001b[0;34m.\u001b[0m\u001b[0mreshape\u001b[0m\u001b[0;34m(\u001b[0m\u001b[0mlen\u001b[0m\u001b[0;34m(\u001b[0m\u001b[0mD\u001b[0m\u001b[0;34m)\u001b[0m\u001b[0;34m)\u001b[0m\u001b[0;34m\u001b[0m\u001b[0m\n",
      "\u001b[0;32m~/anaconda3/envs/tensorflow/lib/python3.6/site-packages/keras/engine/training.py\u001b[0m in \u001b[0;36mevaluate\u001b[0;34m(self, x, y, batch_size, verbose, sample_weight, steps)\u001b[0m\n\u001b[1;32m   1103\u001b[0m             \u001b[0mx\u001b[0m\u001b[0;34m,\u001b[0m \u001b[0my\u001b[0m\u001b[0;34m,\u001b[0m\u001b[0;34m\u001b[0m\u001b[0m\n\u001b[1;32m   1104\u001b[0m             \u001b[0msample_weight\u001b[0m\u001b[0;34m=\u001b[0m\u001b[0msample_weight\u001b[0m\u001b[0;34m,\u001b[0m\u001b[0;34m\u001b[0m\u001b[0m\n\u001b[0;32m-> 1105\u001b[0;31m             batch_size=batch_size)\n\u001b[0m\u001b[1;32m   1106\u001b[0m         \u001b[0;31m# Prepare inputs, delegate logic to `test_loop`.\u001b[0m\u001b[0;34m\u001b[0m\u001b[0;34m\u001b[0m\u001b[0m\n\u001b[1;32m   1107\u001b[0m         \u001b[0;32mif\u001b[0m \u001b[0mself\u001b[0m\u001b[0;34m.\u001b[0m\u001b[0m_uses_dynamic_learning_phase\u001b[0m\u001b[0;34m(\u001b[0m\u001b[0;34m)\u001b[0m\u001b[0;34m:\u001b[0m\u001b[0;34m\u001b[0m\u001b[0m\n",
      "\u001b[0;32m~/anaconda3/envs/tensorflow/lib/python3.6/site-packages/keras/engine/training.py\u001b[0m in \u001b[0;36m_standardize_user_data\u001b[0;34m(self, x, y, sample_weight, class_weight, check_array_lengths, batch_size)\u001b[0m\n\u001b[1;32m    678\u001b[0m         \u001b[0;32mif\u001b[0m \u001b[0my\u001b[0m \u001b[0;32mis\u001b[0m \u001b[0;32mnot\u001b[0m \u001b[0;32mNone\u001b[0m\u001b[0;34m:\u001b[0m\u001b[0;34m\u001b[0m\u001b[0m\n\u001b[1;32m    679\u001b[0m             \u001b[0;32mif\u001b[0m \u001b[0;32mnot\u001b[0m \u001b[0mself\u001b[0m\u001b[0;34m.\u001b[0m\u001b[0moptimizer\u001b[0m\u001b[0;34m:\u001b[0m\u001b[0;34m\u001b[0m\u001b[0m\n\u001b[0;32m--> 680\u001b[0;31m                 raise RuntimeError('You must compile a model before '\n\u001b[0m\u001b[1;32m    681\u001b[0m                                    \u001b[0;34m'training/testing. '\u001b[0m\u001b[0;34m\u001b[0m\u001b[0m\n\u001b[1;32m    682\u001b[0m                                    'Use `model.compile(optimizer, loss)`.')\n",
      "\u001b[0;31mRuntimeError\u001b[0m: You must compile a model before training/testing. Use `model.compile(optimizer, loss)`."
     ]
    }
   ],
   "source": [
    "autoencoder.evaluate(x=x_test_scaled,y=x_test_scaled)\n",
    "D=metrics.get_data()\n",
    "\n",
    "\n",
    "energies=pd.DataFrame(D).values.reshape(len(D))\n",
    "valores=len(energies)\n",
    "plt.plot(range(valores),energies) \n",
    "\n",
    "plt.show()"
   ]
  },
  {
   "cell_type": "code",
   "execution_count": 67,
   "metadata": {},
   "outputs": [],
   "source": [
    "autoencoder.save_weights('../redes_compresoras/defs/compresor_python_{}{}{}{}'.format(encoding_dim,algoritmo,experimento,datetime.now()))\n",
    "#np.savez('../redes_compresoras/maxmin_python_ver_rms_prop_scaled_min_max_ver2', min_max_scaler.data_max_, min_max_scaler.data_min_)\n",
    "#autoencoder.load_weights('../redes_compresoras/defs/compresor_python_320RMSpropscaled_100_encoder_without_bias_sig_sig_lr_0.00012018-11-03 09:43:55.047213')"
   ]
  },
  {
   "cell_type": "code",
   "execution_count": 68,
   "metadata": {},
   "outputs": [
    {
     "data": {
      "text/plain": [
       "<matplotlib.axes._subplots.AxesSubplot at 0x7fc0acc83978>"
      ]
     },
     "execution_count": 68,
     "metadata": {},
     "output_type": "execute_result"
    },
    {
     "data": {
      "image/png": "[encoded data removed]",
      "text/plain": [
       "<Figure size 432x288 with 1 Axes>"
      ]
     },
     "metadata": {},
     "output_type": "display_data"
    }
   ],
   "source": [
    "standard_scores = encoder.predict(x_test_scaled).ravel()\n",
    "#regularized_scores = encoded_regularized.predict(x_test).ravel()\n",
    "sns.distplot(standard_scores, hist=True, label='standard model')\n",
    "#sns.distplot(regularized_scores, hist=False, label='regularized model')"
   ]
  },
  {
   "cell_type": "code",
   "execution_count": 69,
   "metadata": {},
   "outputs": [],
   "source": [
    "# encode and decode some images\n",
    "# note that we take them from the *test* set\n",
    "# encoded_imgs = encoder.predict(x_test_min_max)\n",
    "# decoded_imgs_scaled = decoder.predict(encoded_imgs)\n",
    "#decoded_imgs_scaled = autoencoder.predict(x_test_min_max)\n",
    "decoded_imgs_scaled = autoencoder.predict(x_test_scaled)\n",
    "decoded_imgs = supermax*(decoded_imgs_scaled)\n",
    "#decoded_imgs = min_max_scaler.inverse_transform(decoded_imgs_scaled)\n",
    "#decoded_imgs = autoencoder.predict(x_test)\n"
   ]
  },
  {
   "cell_type": "code",
   "execution_count": 70,
   "metadata": {},
   "outputs": [
    {
     "data": {
      "image/png": "[encoded data removed]",
      "text/plain": [
       "<Figure size 1440x288 with 12 Axes>"
      ]
     },
     "metadata": {},
     "output_type": "display_data"
    },
    {
     "name": "stdout",
     "output_type": "stream",
     "text": [
      "8447\n"
     ]
    }
   ],
   "source": [
    "n = 6  # how many digits we will display\n",
    "plt.figure(figsize=(20, 4))\n",
    "for i in range(n):\n",
    "    # display original\n",
    "    idea=np.random.randint(1,x_test.shape[0])\n",
    "    ax = plt.subplot(2, n, i + 1)\n",
    "    plt.imshow(x_test[idea].reshape(40, 16).transpose(),vmin=0, vmax=30)\n",
    "    plt.viridis()\n",
    "    ax.get_xaxis().set_visible(False)\n",
    "    ax.get_yaxis().set_visible(False)\n",
    "\n",
    "    # display reconstruction\n",
    "    ax = plt.subplot(2, n, i + 1 + n)\n",
    "    plt.imshow(decoded_imgs[idea].reshape(40, 16).transpose(),vmin=0, vmax=30)\n",
    "    plt.viridis()\n",
    "    ax.get_xaxis().set_visible(False)\n",
    "    ax.get_yaxis().set_visible(False)\n",
    "plt.show()\n",
    "print(idea)\n",
    "\n"
   ]
  },
  {
   "cell_type": "code",
   "execution_count": 71,
   "metadata": {
    "scrolled": true
   },
   "outputs": [
    {
     "data": {
      "text/plain": [
       "(6296, 3840)"
      ]
     },
     "execution_count": 71,
     "metadata": {},
     "output_type": "execute_result"
    }
   ],
   "source": [
    "import pandas as pd\n",
    "filename = '../datos_octubre_2018/p_OF_5mm_161mm003.h5'\n",
    "conjunto_datos_test=pd.read_hdf(filename,'MC');\n",
    "conjunto_datos_test.shape"
   ]
  },
  {
   "cell_type": "code",
   "execution_count": 73,
   "metadata": {},
   "outputs": [
    {
     "name": "stdout",
     "output_type": "stream",
     "text": [
      "(6296, 3840)\n",
      "(6296, 3840)\n"
     ]
    }
   ],
   "source": [
    "L1A=6;\n",
    "# hay tres L1 con 640 sensores (40*16)\n",
    "L1B=0;\n",
    "# hay dos L1 con 640 sensores (40*16)\n",
    "X_trained=conjunto_datos_test.values;\n",
    "x_trained=X_trained;\n",
    "\n",
    "for i in range (X_trained.shape[0]):\n",
    "    idea1=X_trained[i,:].reshape(img_rows,(L1A*img_cols));\n",
    "    ideat=idea1.transpose();\n",
    "    idea2=ideat.reshape(1,(L1A*img_cols)*img_rows);\n",
    "    x_trained[i,:] =idea2;\n",
    "x_tested = x_trained;\n",
    "print(x_trained.shape)\n",
    "print(x_tested.shape)"
   ]
  },
  {
   "cell_type": "markdown",
   "metadata": {},
   "source": [
    "# Vamos a procesar y comprimir con la red"
   ]
  },
  {
   "cell_type": "markdown",
   "metadata": {},
   "source": [
    "Ahora los particionamos y pasamos por las redes de compresión. Hay una red la A que se utiliza 5 veces"
   ]
  },
  {
   "cell_type": "code",
   "execution_count": 74,
   "metadata": {},
   "outputs": [],
   "source": [
    "\n",
    "def sigmoid(x, derivative=False):\n",
    "  return x*(1-x) if derivative else 1/(1+np.exp(-x))\n",
    "ideaA=np.zeros((L1A,input_output_dim_A))\n",
    "\n",
    "cara_externa=x_tested[:,0: L1A*input_output_dim_A] \n",
    "cara_externa_reconstruida=np.zeros((x_tested.shape[0],L1A*input_output_dim_A))\n",
    "for i in range(x_tested.shape[0]):\n",
    "    for k in range(L1A):\n",
    "        ideaA[k,:]=x_tested[i,k*input_output_dim_A:k*input_output_dim_A+input_output_dim_A]\n",
    "    #ideaA_scaled=min_max_scaler.transform(ideaA)\n",
    "    ideaA_scaled=(ideaA/(supermax))\n",
    "    salida_reconstructed_1_scaled = autoencoder.predict(ideaA_scaled)    \n",
    "    salida_reconstructed_1 = supermax*(salida_reconstructed_1_scaled)\n",
    "    #salida_reconstructed_1 = min_max_scaler.inverse_transform(salida_reconstructed_1_scaled)     \n",
    "    #salida_reconstructed_1 = ideaA\n",
    "    \n",
    "    #entrada_imgs_A=(ideaA-min_A.transpose())/(max_A.transpose()-min_A.transpose())\n",
    "    #entrada_imgs_A=(ideaA) #he quitado el escalado\n",
    "    #encoded_imgs_A = sigmoid(np.dot(entrada_imgs_A, Encoder_weights_A) + Encoder_biases_A)\n",
    "    #decoded_imgs_A= (np.dot(encoded_imgs_A, Decoder_weights_A) + Decoder_biases_A)\n",
    "    #print(decoded_imgs_A.shape)\n",
    "    #salida_reconstructed_1 = decoded_imgs_A*(max_A.transpose()-min_A.transpose())+min_A.transpose();\n",
    "    #salida_reconstructed_1 = decoded_imgs_A #quito el escalado inverso    \n",
    " \n",
    "    hola1=np.reshape(salida_reconstructed_1,(L1A*input_output_dim_A))\n",
    "\n",
    "    #print(hola.shape)\n",
    "    salida_total=hola1\n",
    "    #salida_total[salida_total<0]=0\n",
    "    #print(salida_total.shape)\n",
    "    cara_externa_reconstruida[i]=salida_total\n",
    "  "
   ]
  },
  {
   "cell_type": "markdown",
   "metadata": {},
   "source": [
    "## Visualizamos los resultados"
   ]
  },
  {
   "cell_type": "markdown",
   "metadata": {},
   "source": [
    "Visualizamos todos los sensores: "
   ]
  },
  {
   "cell_type": "code",
   "execution_count": 75,
   "metadata": {
    "scrolled": true
   },
   "outputs": [
    {
     "data": {
      "image/png": "[encoded data removed]",
      "text/plain": [
       "<Figure size 2880x720 with 2 Axes>"
      ]
     },
     "metadata": {},
     "output_type": "display_data"
    }
   ],
   "source": [
    "n = 1  # how many digits we will display\n",
    "plt.figure(figsize=(40, 10))\n",
    "for i in range(n):\n",
    "    # display original\n",
    "    idea=np.random.randint(1,x_tested.shape[0])\n",
    "    idea=1890\n",
    "    idea= 4299\n",
    "    ax = plt.subplot(2, n, i + 1)\n",
    "    plt.imshow(cara_externa[idea].reshape(L1A*img_cols, img_rows).transpose(), vmin=0, vmax=30)\n",
    "    plt.viridis()\n",
    "    ax.get_xaxis().set_visible(False)\n",
    "    ax.get_yaxis().set_visible(False)\n",
    "\n",
    "    # display reconstruction\n",
    "    ax = plt.subplot(2, n, i + 1 + n)\n",
    "    plt.imshow(cara_externa_reconstruida[idea].reshape(L1A*img_cols, img_rows).transpose(), vmin=0, vmax=30)\n",
    "    plt.viridis()\n",
    "    ax.get_xaxis().set_visible(False)\n",
    "    ax.get_yaxis().set_visible(False)\n",
    "plt.show()"
   ]
  },
  {
   "cell_type": "markdown",
   "metadata": {},
   "source": [
    "Visualizamos ahora L1 a L1, teniendo en cuenta que hay de dos tipos:\n",
    "L1A (con 36 columnas )"
   ]
  },
  {
   "cell_type": "code",
   "execution_count": 76,
   "metadata": {
    "scrolled": true
   },
   "outputs": [
    {
     "data": {
      "image/png": "[encoded data removed]",
      "text/plain": [
       "<Figure size 2880x720 with 12 Axes>"
      ]
     },
     "metadata": {},
     "output_type": "display_data"
    }
   ],
   "source": [
    "n = L1A  # how many digits we will display\n",
    "plt.figure(figsize=(40, 10))\n",
    "for i in range(n):\n",
    "    # display original\n",
    "    ax = plt.subplot(2, n, i + 1)\n",
    "    plt.imshow(cara_externa[idea].reshape(L1A*img_cols, img_rows).transpose()[:,i*img_cols:(i+1)*img_cols] ,vmin=0, vmax=30)\n",
    "    plt.viridis()\n",
    "    ax.get_xaxis().set_visible(False)\n",
    "    ax.get_yaxis().set_visible(False)\n",
    "    ax = plt.subplot(2, n, i + 1+n)\n",
    "    plt.imshow(cara_externa_reconstruida[idea].reshape(L1A*img_cols, img_rows).transpose()[:,i*img_cols:(i+1)*img_cols] ,vmin=0, vmax=30)\n",
    "    plt.viridis()\n",
    "    ax.get_xaxis().set_visible(False)\n",
    "    ax.get_yaxis().set_visible(False)\n",
    "plt.show()"
   ]
  },
  {
   "cell_type": "code",
   "execution_count": 103,
   "metadata": {},
   "outputs": [
    {
     "ename": "IndexError",
     "evalue": "index 9409 is out of bounds for axis 0 with size 6296",
     "output_type": "error",
     "traceback": [
      "\u001b[0;31m---------------------------------------------------------------------------\u001b[0m",
      "\u001b[0;31mIndexError\u001b[0m                                Traceback (most recent call last)",
      "\u001b[0;32m<ipython-input-103-2beb63b3596b>\u001b[0m in \u001b[0;36m<module>\u001b[0;34m()\u001b[0m\n\u001b[1;32m      1\u001b[0m \u001b[0mi\u001b[0m\u001b[0;34m=\u001b[0m\u001b[0;36m2\u001b[0m\u001b[0;34m\u001b[0m\u001b[0m\n\u001b[0;32m----> 2\u001b[0;31m \u001b[0mprint\u001b[0m\u001b[0;34m(\u001b[0m\u001b[0mcara_externa\u001b[0m\u001b[0;34m[\u001b[0m\u001b[0midea\u001b[0m\u001b[0;34m]\u001b[0m\u001b[0;34m.\u001b[0m\u001b[0mreshape\u001b[0m\u001b[0;34m(\u001b[0m\u001b[0mL1A\u001b[0m\u001b[0;34m*\u001b[0m\u001b[0mimg_cols\u001b[0m\u001b[0;34m,\u001b[0m\u001b[0mimg_rows\u001b[0m\u001b[0;34m)\u001b[0m\u001b[0;34m[\u001b[0m\u001b[0mi\u001b[0m\u001b[0;34m*\u001b[0m\u001b[0mimg_cols\u001b[0m\u001b[0;34m:\u001b[0m\u001b[0;34m(\u001b[0m\u001b[0mi\u001b[0m\u001b[0;34m+\u001b[0m\u001b[0;36m1\u001b[0m\u001b[0;34m)\u001b[0m\u001b[0;34m*\u001b[0m\u001b[0mimg_cols\u001b[0m\u001b[0;34m,\u001b[0m\u001b[0;34m:\u001b[0m\u001b[0;34m]\u001b[0m\u001b[0;34m)\u001b[0m\u001b[0;34m\u001b[0m\u001b[0m\n\u001b[0m\u001b[1;32m      3\u001b[0m \u001b[0mprint\u001b[0m\u001b[0;34m(\u001b[0m\u001b[0mnp\u001b[0m\u001b[0;34m.\u001b[0m\u001b[0msum\u001b[0m\u001b[0;34m(\u001b[0m\u001b[0mcara_externa\u001b[0m\u001b[0;34m[\u001b[0m\u001b[0midea\u001b[0m\u001b[0;34m]\u001b[0m\u001b[0;34m.\u001b[0m\u001b[0mreshape\u001b[0m\u001b[0;34m(\u001b[0m\u001b[0mL1A\u001b[0m\u001b[0;34m*\u001b[0m\u001b[0mimg_cols\u001b[0m\u001b[0;34m,\u001b[0m\u001b[0mimg_rows\u001b[0m\u001b[0;34m)\u001b[0m\u001b[0;34m[\u001b[0m\u001b[0mi\u001b[0m\u001b[0;34m*\u001b[0m\u001b[0mimg_cols\u001b[0m\u001b[0;34m:\u001b[0m\u001b[0;34m(\u001b[0m\u001b[0mi\u001b[0m\u001b[0;34m+\u001b[0m\u001b[0;36m1\u001b[0m\u001b[0;34m)\u001b[0m\u001b[0;34m*\u001b[0m\u001b[0mimg_cols\u001b[0m\u001b[0;34m,\u001b[0m\u001b[0;34m:\u001b[0m\u001b[0;34m]\u001b[0m\u001b[0;34m)\u001b[0m\u001b[0;34m)\u001b[0m\u001b[0;34m\u001b[0m\u001b[0m\n",
      "\u001b[0;31mIndexError\u001b[0m: index 9409 is out of bounds for axis 0 with size 6296"
     ]
    }
   ],
   "source": [
    "i=2\n",
    "print(cara_externa[idea].reshape(L1A*img_cols,img_rows)[i*img_cols:(i+1)*img_cols,:])\n",
    "print(np.sum(cara_externa[idea].reshape(L1A*img_cols,img_rows)[i*img_cols:(i+1)*img_cols,:]))"
   ]
  },
  {
   "cell_type": "code",
   "execution_count": 102,
   "metadata": {
    "scrolled": true
   },
   "outputs": [
    {
     "ename": "IndexError",
     "evalue": "index 9409 is out of bounds for axis 0 with size 6296",
     "output_type": "error",
     "traceback": [
      "\u001b[0;31m---------------------------------------------------------------------------\u001b[0m",
      "\u001b[0;31mIndexError\u001b[0m                                Traceback (most recent call last)",
      "\u001b[0;32m<ipython-input-102-e3278852803a>\u001b[0m in \u001b[0;36m<module>\u001b[0;34m()\u001b[0m\n\u001b[1;32m      1\u001b[0m \u001b[0;31m#print(cara_externa_reconstruida[idea].reshape(L1A*img_cols,img_rows)[i*img_cols:(i+1)*img_cols,:].astype(int))\u001b[0m\u001b[0;34m\u001b[0m\u001b[0;34m\u001b[0m\u001b[0m\n\u001b[0;32m----> 2\u001b[0;31m \u001b[0mprint\u001b[0m\u001b[0;34m(\u001b[0m\u001b[0mnp\u001b[0m\u001b[0;34m.\u001b[0m\u001b[0msum\u001b[0m\u001b[0;34m(\u001b[0m\u001b[0mcara_externa_reconstruida\u001b[0m\u001b[0;34m[\u001b[0m\u001b[0midea\u001b[0m\u001b[0;34m]\u001b[0m\u001b[0;34m.\u001b[0m\u001b[0mreshape\u001b[0m\u001b[0;34m(\u001b[0m\u001b[0mL1A\u001b[0m\u001b[0;34m*\u001b[0m\u001b[0mimg_cols\u001b[0m\u001b[0;34m,\u001b[0m\u001b[0mimg_rows\u001b[0m\u001b[0;34m)\u001b[0m\u001b[0;34m[\u001b[0m\u001b[0mi\u001b[0m\u001b[0;34m*\u001b[0m\u001b[0mimg_cols\u001b[0m\u001b[0;34m:\u001b[0m\u001b[0;34m(\u001b[0m\u001b[0mi\u001b[0m\u001b[0;34m+\u001b[0m\u001b[0;36m1\u001b[0m\u001b[0;34m)\u001b[0m\u001b[0;34m*\u001b[0m\u001b[0mimg_cols\u001b[0m\u001b[0;34m,\u001b[0m\u001b[0;34m:\u001b[0m\u001b[0;34m]\u001b[0m\u001b[0;34m)\u001b[0m\u001b[0;34m)\u001b[0m\u001b[0;34m\u001b[0m\u001b[0m\n\u001b[0m",
      "\u001b[0;31mIndexError\u001b[0m: index 9409 is out of bounds for axis 0 with size 6296"
     ]
    }
   ],
   "source": [
    "#print(cara_externa_reconstruida[idea].reshape(L1A*img_cols,img_rows)[i*img_cols:(i+1)*img_cols,:].astype(int))\n",
    "print(np.sum(cara_externa_reconstruida[idea].reshape(L1A*img_cols,img_rows)[i*img_cols:(i+1)*img_cols,:]))"
   ]
  },
  {
   "cell_type": "code",
   "execution_count": 79,
   "metadata": {},
   "outputs": [
    {
     "name": "stdout",
     "output_type": "stream",
     "text": [
      "4299\n"
     ]
    },
    {
     "data": {
      "text/plain": [
       "array([1067.18186245, 1071.66720184, 1171.92385567, ..., 1252.7662288 ,\n",
       "       1135.58935601, 1009.18711671])"
      ]
     },
     "execution_count": 79,
     "metadata": {},
     "output_type": "execute_result"
    }
   ],
   "source": [
    "print(idea)\n",
    "np.sum(cara_externa_reconstruida,axis=0)"
   ]
  },
  {
   "cell_type": "code",
   "execution_count": 80,
   "metadata": {},
   "outputs": [
    {
     "name": "stderr",
     "output_type": "stream",
     "text": [
      "/home/rgadea3/anaconda3/envs/tensorflow/lib/python3.6/site-packages/matplotlib/axes/_axes.py:6462: UserWarning: The 'normed' kwarg is deprecated, and has been replaced by the 'density' kwarg.\n",
      "  warnings.warn(\"The 'normed' kwarg is deprecated, and has been \"\n"
     ]
    },
    {
     "data": {
      "image/png": "[encoded data removed]",
      "text/plain": [
       "<Figure size 432x288 with 1 Axes>"
      ]
     },
     "metadata": {},
     "output_type": "display_data"
    },
    {
     "name": "stdout",
     "output_type": "stream",
     "text": [
      "(400,)\n",
      "(401,)\n",
      "[[Model]]\n",
      "    Model(gaussian)\n",
      "[[Fit Statistics]]\n",
      "    # fitting method   = leastsq\n",
      "    # function evals   = 46\n",
      "    # data points      = 400\n",
      "    # variables        = 3\n",
      "    chi-square         = 33789.8807\n",
      "    reduced chi-square = 85.1130496\n",
      "    Akaike info crit   = 1780.58084\n",
      "    Bayesian info crit = 1792.55523\n",
      "[[Variables]]\n",
      "    amp:  385.694571 +/- 3.51650103 (0.91%) (init = 200)\n",
      "    cen:  170.069457 +/- 0.53183537 (0.31%) (init = 0)\n",
      "    wid:  71.4400576 +/- 0.75212879 (1.05%) (init = 100)\n",
      "[[Correlations]] (unreported correlations are < 0.100)\n",
      "    C(amp, wid) = -0.577\n",
      "\n"
     ]
    },
    {
     "data": {
      "image/png": "[encoded data removed]",
      "text/plain": [
       "<Figure size 432x288 with 1 Axes>"
      ]
     },
     "metadata": {},
     "output_type": "display_data"
    }
   ],
   "source": [
    "veamos_energia=(np.sum(cara_externa_reconstruida, axis=1))-(np.sum(cara_externa, axis=1))\n",
    "n, bins, patches = plt.hist(veamos_energia, 400, normed=0, facecolor='green', alpha=0.75)\n",
    "plt.title(\"Histogram with 400 bins\")\n",
    "plt.show()\n",
    "x=bins[:400]\n",
    "y=n\n",
    "print(n.shape)\n",
    "print(bins.shape)\n",
    "from numpy import exp, loadtxt, pi, sqrt, log\n",
    "\n",
    "from lmfit import Model\n",
    "def gaussian(x, amp, cen, wid):\n",
    "    \"\"\"1-d gaussian: gaussian(x, amp, cen, wid)\"\"\"\n",
    "    return amp * exp(-((x-cen)/wid)**2 )\n",
    "\n",
    "\n",
    "gmodel = Model(gaussian)\n",
    "result = gmodel.fit(y, x=x, amp=200, cen=0, wid=100)\n",
    "\n",
    "print(result.fit_report())\n",
    "\n",
    "plt.plot(x, y, 'bo')\n",
    "plt.plot(x, result.init_fit, 'k--')\n",
    "plt.plot(x, result.best_fit, 'r-')\n",
    "plt.show()"
   ]
  },
  {
   "cell_type": "code",
   "execution_count": null,
   "metadata": {},
   "outputs": [],
   "source": []
  }
 ],
 "metadata": {
  "anaconda-cloud": {},
  "kernelspec": {
   "display_name": "Python [conda env:tensorflow]",
   "language": "python",
   "name": "conda-env-tensorflow-py"
  },
  "language_info": {
   "codemirror_mode": {
    "name": "ipython",
    "version": 3
   },
   "file_extension": ".py",
   "mimetype": "text/x-python",
   "name": "python",
   "nbconvert_exporter": "python",
   "pygments_lexer": "ipython3",
   "version": "3.6.5"
  },
  "varInspector": {
   "cols": {
    "lenName": 16,
    "lenType": 16,
    "lenVar": 40
   },
   "kernels_config": {
    "python": {
     "delete_cmd_postfix": "",
     "delete_cmd_prefix": "del ",
     "library": "var_list.py",
     "varRefreshCmd": "print(var_dic_list())"
    },
    "r": {
     "delete_cmd_postfix": ") ",
     "delete_cmd_prefix": "rm(",
     "library": "var_list.r",
     "varRefreshCmd": "cat(var_dic_list()) "
    }
   },
   "position": {
    "height": "495px",
    "left": "1249px",
    "right": "57px",
    "top": "240px",
    "width": "504px"
   },
   "types_to_exclude": [
    "module",
    "function",
    "builtin_function_or_method",
    "instance",
    "_Feature"
   ],
   "window_display": false
  }
 },
 "nbformat": 4,
 "nbformat_minor": 1
}
