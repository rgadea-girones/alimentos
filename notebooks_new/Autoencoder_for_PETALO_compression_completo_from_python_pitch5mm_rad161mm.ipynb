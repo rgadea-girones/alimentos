{
 "cells": [
  {
   "cell_type": "markdown",
   "metadata": {},
   "source": [
    "# Autoencoder for PETALO\n",
    "\n",
    "Esta red la vamos a utilizar para comprimir los datos del anillo de 5mm de pitch radius 161mm"
   ]
  },
  {
   "cell_type": "code",
   "execution_count": 1,
   "metadata": {},
   "outputs": [
    {
     "name": "stdout",
     "output_type": "stream",
     "text": [
      "['', '/home/rgadea3/anaconda3/envs/tensorflow/lib/python36.zip', '/home/rgadea3/anaconda3/envs/tensorflow/lib/python3.6', '/home/rgadea3/anaconda3/envs/tensorflow/lib/python3.6/lib-dynload', '/home/rgadea3/anaconda3/envs/tensorflow/lib/python3.6/site-packages', '/home/rgadea3/anaconda3/envs/tensorflow/lib/python3.6/site-packages/IPython/extensions', '/home/rgadea3/.ipython']\n"
     ]
    },
    {
     "name": "stderr",
     "output_type": "stream",
     "text": [
      "Using TensorFlow backend.\n"
     ]
    }
   ],
   "source": [
    "import numpy as np\n",
    "#np.random.seed(1337)  # for reproducibility\n",
    "from time import time\n",
    "from sklearn import preprocessing\n",
    "import sys\n",
    "print(sys.path)\n",
    "sys.path.append(\"/home/rgadea/lmfit-py/\")\n",
    "from keras.datasets import mnist\n",
    "from keras.models import Model, Sequential\n",
    "from keras.layers import Input, Dense, Dropout, Activation, Flatten\n",
    "from keras.layers import Conv2D, MaxPooling2D,BatchNormalization\n",
    "from keras.callbacks import TensorBoard\n",
    "from keras.utils import np_utils\n",
    "from keras import regularizers\n",
    "from math import floor\n",
    "#from lmfit.models import  GaussianModel\n",
    "import matplotlib.pyplot as plt"
   ]
  },
  {
   "cell_type": "markdown",
   "metadata": {},
   "source": [
    "## Vamos introducir los datos de ficheros de Vicente\n"
   ]
  },
  {
   "cell_type": "markdown",
   "metadata": {},
   "source": [
    "El fichero que ontroducimos es el p_OF_6mm0.h5"
   ]
  },
  {
   "cell_type": "code",
   "execution_count": 2,
   "metadata": {},
   "outputs": [
    {
     "data": {
      "text/plain": [
       "(6320, 3840)"
      ]
     },
     "execution_count": 2,
     "metadata": {},
     "output_type": "execute_result"
    }
   ],
   "source": [
    "import pandas as pd\n",
    "filename = '../datos_octubre_2018/p_OF_5mm_161mm000.h5'\n",
    "conjunto_datos=pd.read_hdf(filename,'MC');\n",
    "conjunto_datos.shape\n"
   ]
  },
  {
   "cell_type": "markdown",
   "metadata": {},
   "source": [
    "## Creación de los modelos KERAS del  autoencoders"
   ]
  },
  {
   "cell_type": "markdown",
   "metadata": {},
   "source": [
    "Vamos a crear los dos autoencoders compresores como modelos Keras. En principio no los voy a utilizar; pero es posible que en un futuro sea necesario"
   ]
  },
  {
   "cell_type": "code",
   "execution_count": 3,
   "metadata": {},
   "outputs": [],
   "source": [
    "    \n",
    "encoding_dimA = 320  # floats -> compression of factor 2, assuming the input is 480 floats\n",
    "\n",
    "# input image dimensions = sensor dimensions\n",
    "img_rows, img_colsA = 16, 40\n",
    "input_output_dim_A=img_rows*img_colsA\n",
    "# this is our input placeholder\n",
    "input_img_A = Input(shape=(input_output_dim_A,))\n",
    "# \"encoded\" is the encoded representation of the input\n",
    "encoded_A = Dense(encoding_dimA, activation='sigmoid',use_bias=True)(input_img_A)\n",
    "# \"decoded\" is the lossy reconstruction of the input\n",
    "decoded_A = Dense(input_output_dim_A, activation='linear',use_bias=True )(encoded_A)\n",
    "\n",
    "# this model maps an input to its reconstruction\n",
    "autoencoder = Model(input_img_A, decoded_A)\n",
    "# autoencoder_matlab.get_weights()"
   ]
  },
  {
   "cell_type": "code",
   "execution_count": null,
   "metadata": {},
   "outputs": [],
   "source": []
  },
  {
   "cell_type": "markdown",
   "metadata": {},
   "source": [
    "## Network parameters from python:"
   ]
  },
  {
   "cell_type": "code",
   "execution_count": 4,
   "metadata": {},
   "outputs": [
    {
     "name": "stdout",
     "output_type": "stream",
     "text": [
      "(640, 320)\n",
      "(320,)\n",
      "(320, 640)\n",
      "(640,)\n"
     ]
    }
   ],
   "source": [
    "\n",
    "autoencoder.load_weights('compresor_python', by_name=False)\n",
    "vamos=autoencoder.get_weights()\n",
    "print(vamos[0].shape)\n",
    "print(vamos[1].shape)\n",
    "print(vamos[2].shape)\n",
    "print(vamos[3].shape)\n",
    "\n",
    "#datos_matlab= hdf5storage.loadmat('../datos_octubre_2018/compresores_pitch5mm_rad161mm_1_medio_ver1_export.mat')\n",
    "Encoder_weights_A= vamos[0]\n",
    "Encoder_biases_A= vamos[1]\n",
    "Decoder_weights_A= vamos[2]\n",
    "Decoder_biases_A= vamos[3]\n",
    "\n",
    "#Encoder_weights_A=encoder_weights_A.transpose()\n",
    "#Encoder_biases_A=encoder_biases_A.transpose()[0]\n",
    "#Decoder_weights_A=decoder_weights_A.transpose()\n",
    "#Decoder_biases_A=decoder_biases_A.transpose()[0]\n",
    "\n",
    "\n",
    "#Encoder_biases[0]"
   ]
  },
  {
   "cell_type": "markdown",
   "metadata": {},
   "source": [
    "Vamos a crear los dos autoencoders compresores como modelos Keras. En principio no los voy a utilizar; pero es posible que en un futuro sea necesario"
   ]
  },
  {
   "cell_type": "markdown",
   "metadata": {},
   "source": [
    "## Prepare data into training and test set."
   ]
  },
  {
   "cell_type": "markdown",
   "metadata": {},
   "source": [
    "Vamos a generar las matrices de datos para la red neuronal . En esta seccion de código cambio de recorrer fila a fila (Paola) a recorrer columna a columna"
   ]
  },
  {
   "cell_type": "code",
   "execution_count": 5,
   "metadata": {},
   "outputs": [
    {
     "name": "stdout",
     "output_type": "stream",
     "text": [
      "(6320, 3840)\n",
      "(6320, 3840)\n"
     ]
    }
   ],
   "source": [
    "L1A=6;\n",
    "# hay tres L1 con 640 sensores (40*16)\n",
    "L1B=0;\n",
    "# hay dos L1 con 640 sensores (40*16)\n",
    "X_train=conjunto_datos.values;\n",
    "x_train=X_train;\n",
    "\n",
    "for i in range (X_train.shape[0]):\n",
    "    idea1=X_train[i,:].reshape(img_rows,(L1A*img_colsA));\n",
    "    ideat=idea1.transpose();\n",
    "    idea2=ideat.reshape(1,(L1A*img_colsA)*img_rows);\n",
    "    x_train[i,:] =idea2;\n",
    "x_test = x_train;\n",
    "print(x_train.shape)\n",
    "print(x_test.shape)"
   ]
  },
  {
   "cell_type": "markdown",
   "metadata": {},
   "source": [
    "# Vamos a procesar y comprimir con la red"
   ]
  },
  {
   "cell_type": "markdown",
   "metadata": {},
   "source": [
    "Ahora los particionamos y pasamos por las redes de compresión. Hay una red la A que se utiliza 5 veces\n",
    "y otra red la B que se utiliza 1 vez"
   ]
  },
  {
   "cell_type": "code",
   "execution_count": 6,
   "metadata": {},
   "outputs": [],
   "source": [
    "\n",
    "def sigmoid(x, derivative=False):\n",
    "  return x*(1-x) if derivative else 1/(1+np.exp(-x))\n",
    "ideaA=np.zeros((L1A,input_output_dim_A))\n",
    "\n",
    "cara_externa=x_test[:,0: L1A*input_output_dim_A] \n",
    "cara_externa_reconstruida=np.zeros((x_test.shape[0],L1A*input_output_dim_A))\n",
    "for i in range(x_test.shape[0]):\n",
    "    for k in range(L1A):\n",
    "        ideaA[k,:]=x_test[i,k*input_output_dim_A:k*input_output_dim_A+input_output_dim_A]\n",
    "    #entrada_imgs_A=(ideaA-min_A.transpose())/(max_A.transpose()-min_A.transpose())\n",
    "    entrada_imgs_A=(ideaA) #he quitado el escalado\n",
    "    encoded_imgs_A = sigmoid(np.dot(entrada_imgs_A, Encoder_weights_A) + Encoder_biases_A)\n",
    "    decoded_imgs_A= (np.dot(encoded_imgs_A, Decoder_weights_A) + Decoder_biases_A)\n",
    "    #print(decoded_imgs_A.shape)\n",
    "    #salida_reconstructed_1 = decoded_imgs_A*(max_A.transpose()-min_A.transpose())+min_A.transpose();\n",
    "    salida_reconstructed_1 = decoded_imgs_A #quito el escalado inverso    \n",
    " \n",
    "    hola1=np.reshape(salida_reconstructed_1,(L1A*input_output_dim_A))\n",
    "\n",
    "    #print(hola.shape)\n",
    "    salida_total=hola1\n",
    "    #salida_total[salida_total<0]=0\n",
    "    #print(salida_total.shape)\n",
    "    cara_externa_reconstruida[i]=salida_total\n",
    "  "
   ]
  },
  {
   "cell_type": "markdown",
   "metadata": {},
   "source": [
    "## Visualizamos los resultados"
   ]
  },
  {
   "cell_type": "markdown",
   "metadata": {},
   "source": [
    "Visualizamos todos los sensores: "
   ]
  },
  {
   "cell_type": "code",
   "execution_count": 12,
   "metadata": {
    "scrolled": true
   },
   "outputs": [
    {
     "data": {
      "image/png": "[encoded data removed]",
      "text/plain": [
       "<Figure size 2880x720 with 2 Axes>"
      ]
     },
     "metadata": {},
     "output_type": "display_data"
    }
   ],
   "source": [
    "n = 1  # how many digits we will display\n",
    "plt.figure(figsize=(40, 10))\n",
    "for i in range(n):\n",
    "    # display original\n",
    "    idea=np.random.randint(1,x_test.shape[0])\n",
    "    ax = plt.subplot(2, n, i + 1)\n",
    "    plt.imshow(cara_externa[idea].reshape(L1A*img_colsA, img_rows).transpose(),vmin=0, vmax=30)\n",
    "    plt.viridis()\n",
    "    ax.get_xaxis().set_visible(False)\n",
    "    ax.get_yaxis().set_visible(False)\n",
    "\n",
    "    # display reconstruction\n",
    "    ax = plt.subplot(2, n, i + 1 + n)\n",
    "    plt.imshow(cara_externa_reconstruida[idea].reshape(L1A*img_colsA, img_rows).transpose(), vmin=0, vmax=30)\n",
    "    plt.viridis()\n",
    "    ax.get_xaxis().set_visible(False)\n",
    "    ax.get_yaxis().set_visible(False)\n",
    "plt.show()"
   ]
  },
  {
   "cell_type": "markdown",
   "metadata": {},
   "source": [
    "Visualizamos ahora L1 a L1, teniendo en cuenta que hay de dos tipos:\n",
    "L1A (con 36 columnas )"
   ]
  },
  {
   "cell_type": "code",
   "execution_count": 13,
   "metadata": {
    "scrolled": false
   },
   "outputs": [
    {
     "data": {
      "image/png": "[encoded data removed]",
      "text/plain": [
       "<Figure size 2880x720 with 12 Axes>"
      ]
     },
     "metadata": {},
     "output_type": "display_data"
    }
   ],
   "source": [
    "n = L1A  # how many digits we will display\n",
    "plt.figure(figsize=(40, 10))\n",
    "for i in range(n):\n",
    "    # display original\n",
    "    ax = plt.subplot(2, n, i + 1)\n",
    "    plt.imshow(cara_externa[idea].reshape(L1A*img_colsA, img_rows).transpose()[:,i*img_colsA:(i+1)*img_colsA] ,vmin=0, vmax=30)\n",
    "    plt.viridis()\n",
    "    ax.get_xaxis().set_visible(False)\n",
    "    ax.get_yaxis().set_visible(False)\n",
    "    ax = plt.subplot(2, n, i + 1+n)\n",
    "    plt.imshow(cara_externa_reconstruida[idea].reshape(L1A*img_colsA, img_rows).transpose()[:,i*img_colsA:(i+1)*img_colsA] ,vmin=0, vmax=30)\n",
    "    plt.viridis()\n",
    "    ax.get_xaxis().set_visible(False)\n",
    "    ax.get_yaxis().set_visible(False)\n",
    "plt.show()"
   ]
  },
  {
   "cell_type": "code",
   "execution_count": 14,
   "metadata": {},
   "outputs": [
    {
     "name": "stdout",
     "output_type": "stream",
     "text": [
      "[[ 0  0  0  0  0  0  0  0  0  0  0  0  0  0  0  0]\n",
      " [ 0  0  0  0  0  0  0  0  0  0  0  0  0  0  0  0]\n",
      " [ 0  0  0  0  0  0  0  0  0  0  0  0  1  0  0  0]\n",
      " [ 0  0  0  0  0  0  0  0  0  0  0  0  0  0  1  0]\n",
      " [ 0  0  0  0  0  0  0  0  0  0  0  0  0  0  0  0]\n",
      " [ 0  0  0  0  0  0  0  1  0  0  0  0  0  0  0  0]\n",
      " [ 0  0  0  0  0  0  0  0  0  0  0  0  0  0  0  0]\n",
      " [ 0  0  0  0  0  0  0  0  0  0  0  0  0  0  0  0]\n",
      " [ 0  0  0  0  0  0  0  0  0  0  0  0  0  0  1  0]\n",
      " [ 0  1  0  1  1  0  0  0  0  0  0  0  0  0  0  0]\n",
      " [ 0  0  0  0  0  0  0  0  0  0  0  0  0  0  0  0]\n",
      " [ 0  0  0  0  0  0  0  0  0  0  0  0  0  0  0  0]\n",
      " [ 1  0  0  0  1  0  0  0  0  0  0  0  0  0  0  0]\n",
      " [ 0  0  0  0  0  1  0  0  0  0  0  0  0  0  0  0]\n",
      " [ 0  0  0  0  0  0  1  0  1  0  0  0  0  0  0  0]\n",
      " [ 0  0  0  0  0  0  0  0  0  0  0  0  0  0  0  0]\n",
      " [ 0  0  0  0  0  0  0  0  0  0  0  0  0  0  0  0]\n",
      " [ 0  0  0  0  0  0  0  1  0  0  1  0  0  0  0  0]\n",
      " [ 0  0  0  0  0  0  0  0  0  0  0  0  0  0  0  0]\n",
      " [ 0  0  1  1  0  1  1  0  0  0  0  0  0  0  0  0]\n",
      " [ 0  0  0  0  0  0  0  0  0  0  0  0  1  0  0  0]\n",
      " [ 0  0  1  0  0  1  0  0  0  0  0  0  2  1  0  0]\n",
      " [ 0  0  0  1  0  1  0  2  0  1  0  0  0  0  0  0]\n",
      " [ 1  0  1  0  1  3  0  0  0  2  0  2  0  0  0  0]\n",
      " [ 1  0  1  0  0  0  1  1  1  1  1  0  0  0  0  0]\n",
      " [ 0  1  0  0  1  1  1  1  2  1  0  2  0  0  0  0]\n",
      " [ 1  0  1  0  0  0  2  2  0  1  0  2  0  0  0  0]\n",
      " [ 0  1  1  2  4  1  0  3  1  1  1  3  1  0  1  0]\n",
      " [ 0  1  1  1  1  3  4  3  0  0  1  0  1  0  0  0]\n",
      " [ 5  3  3  2  1  2  5  3  3  1  0  1  0  0  0  0]\n",
      " [ 1  0  1  1  2  3  3  3  1  2  4  1  0  0  0  0]\n",
      " [ 2  1  1  2  3  5  1  1  3  2  2  0  0  0  0  0]\n",
      " [ 0  0  2  1  0  3  0  4  3  1  2  1  3  0  0  1]\n",
      " [ 0  1  1  0  2  3  3  2  2  1  1  0  0  1  0  0]\n",
      " [ 0  1  0  3  4  4  1  5  2  3  8  0  1  0  0  2]\n",
      " [ 1  1  1  2  2  1  2  2  1  3  2  4  2  3  2  1]\n",
      " [ 1  1  1  1  2  1  1  3  2  4  3  9  3  2  0  2]\n",
      " [ 0  1  1  0  0  1  1  2  2  8 11  6  5  2  1  0]\n",
      " [ 1  0  2  1  0  0  3  3  9  8 22 38 14  2  2  1]\n",
      " [ 0  0  0  1  0  1  1  4  4 10 16 17 10  1  0  1]]\n",
      "526\n"
     ]
    }
   ],
   "source": [
    "i=2\n",
    "print(cara_externa[idea].reshape(L1A*img_colsA,img_rows)[i*img_colsA:(i+1)*img_colsA,:])\n",
    "print(np.sum(cara_externa[idea].reshape(L1A*img_colsA,img_rows)[i*img_colsA:(i+1)*img_colsA,:]))"
   ]
  },
  {
   "cell_type": "code",
   "execution_count": 15,
   "metadata": {},
   "outputs": [
    {
     "name": "stdout",
     "output_type": "stream",
     "text": [
      "[[ 0  0  0  0  0  0  0  0  0  0  0  0  0  0  0  0]\n",
      " [ 0  0  0  0  0  0  0  0  0  0  0  0  0  0  0  0]\n",
      " [ 0  0  0  0  0  0  0  0  0  0  0  0  0  0  0  0]\n",
      " [ 0  0  0  0  0  0  0  0  0  0  0  0  0  0  0  0]\n",
      " [ 0  0  0  0  0  0  0  0  0  0  0  0  0  0  0  0]\n",
      " [ 0  0  0  0  0  0  0  0  0  0  0  0  0  0  0  0]\n",
      " [ 0  0  0  0  0  0  0  0  0  0  0  0  0  0  0  0]\n",
      " [ 0  0  0  0  0  0  0  0  0  0  0  0  0  0  0  0]\n",
      " [ 0  0  0  0  0  0  0  0  0  0  0  0  0  0  0  0]\n",
      " [ 0  0  0  0  0  0  0  0  0  0  0  0  0  0  0  0]\n",
      " [ 0  0  0  0  0  0  0  0  0  0  0  0  0  0  0  0]\n",
      " [ 0  0  0  0  0  0  0  0  0  0  0  0  0  0  0  0]\n",
      " [ 0  0  0  0  0  0  0  0  0  0  0  0  0  0  0  0]\n",
      " [ 0  0  0  0  0  0  0  0  0  0  0  0  0  0  0  0]\n",
      " [ 0  0  0  0  0  0  0  0  0  0  0  0  0  0  0  0]\n",
      " [ 0  0  0  0  0  0  0  0  0  0  0  0  0  0  0  0]\n",
      " [ 0  0  0  0  0  0  0  0  0  0  0  0  0  0  0  0]\n",
      " [ 0  0  0  0  0  0  0  0  0  0  0  0  0  0  0  0]\n",
      " [ 0  0  0  0  0  0  0  0  0  0  0  0  0  0  0  0]\n",
      " [ 0  0  0  0  0  0  0  0  0  0  0  0  0  0  0  0]\n",
      " [ 0  0  0  0  0  0  0  0  0  0  0  0  0  0  0  0]\n",
      " [ 0  0  0  0  0  0  0  0  0  0  0  0  0  0  0  0]\n",
      " [ 0  0  0  0  0  0  0  0  0  0  0  0  0  0  0  0]\n",
      " [ 0  0  0  0  0  0  0  0  0  0  0  0  0  0  0  0]\n",
      " [ 0  0  0  0  0  0  0  0  0  0  0  0  0  0  0  0]\n",
      " [ 0  0  0  0  0  0  0  0  1  1  1  0  0  0  0  0]\n",
      " [ 0  0  0  1  1  1  0  1  1  0  0  0  0  0  0  0]\n",
      " [ 0  0  0  1  1  1  1  1  1  0  0  0  0  0  0  0]\n",
      " [ 1  1  1  1  1  1  2  1  1  1  0  0  0  0  0  0]\n",
      " [ 1  1  1  1  1  2  2  1  1  1  0  0  0  0  0  0]\n",
      " [ 1  1  1  1  1  2  2  1  1  1  0  0  0 -1  0  0]\n",
      " [ 0  0  1  1  1  1  1  1  1  1  0  0  1 -1  0  0]\n",
      " [ 0  1  1  1  1  2  1  1  1  1  1  0  0  0  0  0]\n",
      " [ 0  1  0  1  1  1  2  1  1  1  1  1  0  0  0  0]\n",
      " [ 0  0  1  1  1  2  1  1  2  2  2  2  1  1  0  0]\n",
      " [ 0  1  0  0  0  1  1  2  3  4  4  4  2  1  1  0]\n",
      " [ 0  1  1  0  0  0  1  2  4  6  7  7  5  3  1  1]\n",
      " [ 0  1  1  0  0  0  1  3  5 11 11 10  8  5  2  0]\n",
      " [ 0  0  0  0  0  0  1  4  6  9 11 16  9  5  3  1]\n",
      " [ 0  0  0  0  0  0  2  4  7 10 14 11  9  6  4  2]]\n",
      "507.72630937827864\n"
     ]
    }
   ],
   "source": [
    "print(cara_externa_reconstruida[idea].reshape(L1A*img_colsA,img_rows)[i*img_colsA:(i+1)*img_colsA,:].astype(int))\n",
    "print(np.sum(cara_externa_reconstruida[idea].reshape(L1A*img_colsA,img_rows)[i*img_colsA:(i+1)*img_colsA,:]))"
   ]
  },
  {
   "cell_type": "code",
   "execution_count": null,
   "metadata": {},
   "outputs": [],
   "source": []
  }
 ],
 "metadata": {
  "anaconda-cloud": {},
  "kernelspec": {
   "display_name": "Python [default]",
   "language": "python",
   "name": "python3"
  },
  "language_info": {
   "codemirror_mode": {
    "name": "ipython",
    "version": 3
   },
   "file_extension": ".py",
   "mimetype": "text/x-python",
   "name": "python",
   "nbconvert_exporter": "python",
   "pygments_lexer": "ipython3",
   "version": "3.6.5"
  },
  "varInspector": {
   "cols": {
    "lenName": 16,
    "lenType": 16,
    "lenVar": 40
   },
   "kernels_config": {
    "python": {
     "delete_cmd_postfix": "",
     "delete_cmd_prefix": "del ",
     "library": "var_list.py",
     "varRefreshCmd": "print(var_dic_list())"
    },
    "r": {
     "delete_cmd_postfix": ") ",
     "delete_cmd_prefix": "rm(",
     "library": "var_list.r",
     "varRefreshCmd": "cat(var_dic_list()) "
    }
   },
   "position": {
    "height": "479px",
    "left": "1009px",
    "right": "50px",
    "top": "193px",
    "width": "637px"
   },
   "types_to_exclude": [
    "module",
    "function",
    "builtin_function_or_method",
    "instance",
    "_Feature"
   ],
   "window_display": false
  }
 },
 "nbformat": 4,
 "nbformat_minor": 1
}
