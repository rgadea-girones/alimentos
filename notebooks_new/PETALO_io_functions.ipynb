{
 "cells": [
  {
   "cell_type": "code",
   "execution_count": 1,
   "metadata": {},
   "outputs": [
    {
     "name": "stdout",
     "output_type": "stream",
     "text": [
      "['', '/home/rgadea/anaconda3/envs/IC3.6/lib/python36.zip', '/home/rgadea/anaconda3/envs/IC3.6/lib/python3.6', '/home/rgadea/anaconda3/envs/IC3.6/lib/python3.6/lib-dynload', '/home/rgadea/anaconda3/envs/IC3.6/lib/python3.6/site-packages', '/home/rgadea/anaconda3/envs/IC3.6/lib/python3.6/site-packages/Sphinx-1.6.3-py3.6.egg', '/volumedisk0/home/rgadea/experimentos/repositories/IC', '/home/rgadea/anaconda3/envs/IC3.6/lib/python3.6/site-packages/IPython/extensions', '/volumedisk0/home/rgadea/.ipython']\n"
     ]
    },
    {
     "ename": "ImportError",
     "evalue": "cannot import name 'units_dict'",
     "output_type": "error",
     "traceback": [
      "\u001b[0;31m---------------------------------------------------------------------------\u001b[0m",
      "\u001b[0;31mImportError\u001b[0m                               Traceback (most recent call last)",
      "\u001b[0;32m<ipython-input-1-08217fcb4d2a>\u001b[0m in \u001b[0;36m<module>\u001b[0;34m()\u001b[0m\n\u001b[1;32m      7\u001b[0m \u001b[0;32mfrom\u001b[0m \u001b[0minvisible_cities\u001b[0m\u001b[0;34m.\u001b[0m\u001b[0mio\u001b[0m \u001b[0;32mimport\u001b[0m \u001b[0mmcinfo_io\u001b[0m\u001b[0;34m\u001b[0m\u001b[0m\n\u001b[1;32m      8\u001b[0m \u001b[0;32mfrom\u001b[0m \u001b[0minvisible_cities\u001b[0m\u001b[0;34m.\u001b[0m\u001b[0mreco\u001b[0m\u001b[0;34m.\u001b[0m\u001b[0mxy_algorithms\u001b[0m \u001b[0;32mimport\u001b[0m \u001b[0mbarycenter\u001b[0m\u001b[0;34m\u001b[0m\u001b[0m\n\u001b[0;32m----> 9\u001b[0;31m \u001b[0;32mfrom\u001b[0m \u001b[0mantea\u001b[0m\u001b[0;34m.\u001b[0m\u001b[0mio\u001b[0m \u001b[0;32mimport\u001b[0m \u001b[0mmc_io\u001b[0m\u001b[0;34m\u001b[0m\u001b[0m\n\u001b[0m\u001b[1;32m     10\u001b[0m \u001b[0;32mimport\u001b[0m \u001b[0mre\u001b[0m\u001b[0;34m\u001b[0m\u001b[0m\n\u001b[1;32m     11\u001b[0m \u001b[0;32mimport\u001b[0m \u001b[0mos\u001b[0m\u001b[0;34m\u001b[0m\u001b[0m\n",
      "\u001b[0;32m~/experimentos/repositories/ANTEA/antea/io/mc_io.py\u001b[0m in \u001b[0;36m<module>\u001b[0;34m()\u001b[0m\n\u001b[1;32m      4\u001b[0m \u001b[0;32mfrom\u001b[0m \u001b[0minvisible_cities\u001b[0m\u001b[0;34m.\u001b[0m\u001b[0mcore\u001b[0m            \u001b[0;32mimport\u001b[0m \u001b[0msystem_of_units\u001b[0m \u001b[0;32mas\u001b[0m \u001b[0munits\u001b[0m\u001b[0;34m\u001b[0m\u001b[0m\n\u001b[1;32m      5\u001b[0m \u001b[0;32mfrom\u001b[0m \u001b[0minvisible_cities\u001b[0m\u001b[0;34m.\u001b[0m\u001b[0mevm\u001b[0m\u001b[0;34m.\u001b[0m\u001b[0mevent_model\u001b[0m \u001b[0;32mimport\u001b[0m \u001b[0mWaveform\u001b[0m\u001b[0;34m\u001b[0m\u001b[0m\n\u001b[0;32m----> 6\u001b[0;31m \u001b[0;32mfrom\u001b[0m \u001b[0minvisible_cities\u001b[0m\u001b[0;34m.\u001b[0m\u001b[0mio\u001b[0m\u001b[0;34m.\u001b[0m\u001b[0mmcinfo_io\u001b[0m    \u001b[0;32mimport\u001b[0m \u001b[0munits_dict\u001b[0m\u001b[0;34m\u001b[0m\u001b[0m\n\u001b[0m\u001b[1;32m      7\u001b[0m \u001b[0;34m\u001b[0m\u001b[0m\n\u001b[1;32m      8\u001b[0m \u001b[0;32mfrom\u001b[0m \u001b[0mtyping\u001b[0m \u001b[0;32mimport\u001b[0m \u001b[0mMapping\u001b[0m\u001b[0;34m\u001b[0m\u001b[0m\n",
      "\u001b[0;31mImportError\u001b[0m: cannot import name 'units_dict'"
     ]
    }
   ],
   "source": [
    "import numpy as np\n",
    "import sys\n",
    "print(sys.path)\n",
    "sys.path.append(\"/home/rgadea/experimentos/repositories/IC/\")\n",
    "sys.path.append(\"/home/rgadea/experimentos/repositories/ANTEA/\")\n",
    "import tables as tb\n",
    "from invisible_cities.io import mcinfo_io\n",
    "from invisible_cities.reco.xy_algorithms import barycenter\n",
    "from antea.io import mc_io\n",
    "import re\n",
    "import os\n",
    "from glob import glob\n",
    "import h5py\n",
    "import matplotlib.pyplot as plt\n",
    "%load_ext autoreload\n",
    "%autoreload 2\n"
   ]
  },
  {
   "cell_type": "code",
   "execution_count": 2,
   "metadata": {},
   "outputs": [],
   "source": [
    "dirname='/data/PETALO/'"
   ]
  },
  {
   "cell_type": "code",
   "execution_count": 3,
   "metadata": {},
   "outputs": [],
   "source": [
    "def plot_2d(xarr, yval=None):\n",
    "    x=range(xarr.shape[0])\n",
    "    y=range(xarr.shape[1])\n",
    "    fig = plt.figure(figsize=[15,10])\n",
    "    \n",
    "    if yval!=None:\n",
    "        print('label: ',yval)\n",
    "    #xy projection\n",
    "    xx,yy=np.meshgrid(x,y)\n",
    "    x1=xx.flatten()\n",
    "    y1=yy.flatten()\n",
    "    E1=xarr.flatten()\n",
    "    indx=np.where(E1>0)\n",
    "    E1=E1[indx]\n",
    "    x1=x1[indx]\n",
    "    y1=y1[indx]\n",
    "    s=15*15\n",
    "    ax1 = fig.add_subplot(111)#, projection='3d')\n",
    "    sc3d = ax1.scatter(x1,y1,marker='s',cmap='jet',c=E1, s=s)\n",
    "    ax1.set_xlim(0, 30)\n",
    "    ax1.set_ylim(0, 30)\n",
    "    fig.colorbar(sc3d)\n"
   ]
  },
  {
   "cell_type": "markdown",
   "metadata": {},
   "source": [
    "### For now I decided to discard all events that got both gammas detected so I dont need to worry of separating 2 clusters of charges detected. I also discard events where interaction was not in the active volume, and that have less than 10 sipms lighted. The minimum threshold is 3 photons###"
   ]
  },
  {
   "cell_type": "code",
   "execution_count": 4,
   "metadata": {},
   "outputs": [],
   "source": [
    "def get_events_and_cls_labels(mcinfo, evtnum):\n",
    "    \"\"\"Given mcinfo dictionary and event number cuts out events with 2 clusters and labels if gamma had compton scattering.\n",
    "    Returns passed (0 or 1) and labels (0-no compton, 1-compton)\"\"\"\n",
    "    pas=-1\n",
    "    energy=0\n",
    "    compt=0\n",
    "    #make sure one of two mother gamma has 0 hits while the other has more than 0 hits\n",
    "    for x in list(mcinfo[evtnum].keys()):\n",
    "        if (mcinfo[evtnum][x].mother_indx==0) and (len(mcinfo[evtnum][x].hits)>0):\n",
    "            pas*=-1\n",
    "        #if (mcinfo[evtnum][x].mother_indx!=0) and (len(mcinfo[evtnum][x].hits)>0):\n",
    "        #    energy+=mcinfo[evtnum][x].E\n",
    "        if (mcinfo[evtnum][x].process=='compt') and (len(mcinfo[evtnum][x].hits)>0):\n",
    "            compt=1\n",
    "    return pas, compt\n",
    "\n",
    "def get_ev_nums_and_labels(mcinfo):\n",
    "    \"\"\"Labels events for all event in mcinfo dictionary. Returns event numbers and corresponding labels.\"\"\"\n",
    "    evt_nums=[]; labels=[];\n",
    "    for x in mcinfo.keys():\n",
    "        pas,lab=get_events_and_cls_labels(mcinfo,x)\n",
    "        if pas==1:\n",
    "            evt_nums.append(x)\n",
    "            labels.append(lab)\n",
    "    return np.array(evt_nums), np.array(labels)    \n",
    "\n",
    "#make dictionary of sensor positions\n",
    "def get_pos_dict(table):\n",
    "    \"\"\"Returns dictionary of sensor_id: [x,y,z] \"\"\"\n",
    "    positions_table = table.root.MC.sensor_positions.read()\n",
    "    keys=positions_table['sensor_id']\n",
    "    vals=np.stack([positions_table['x'],positions_table['y'],positions_table['z']],axis=1)\n",
    "    pos_dict=dict(zip(keys,vals))\n",
    "    return pos_dict\n",
    "\n",
    "def get_data_input_event(events, evnt,pos_dict, dimension_x=30,dimension_y=30, min_len=10, min_charge=2):\n",
    "    \"\"\"Given waveforms, event number  and information of sensor positions makes 2d image of sensor responses. \n",
    "    Cuts applied are:\n",
    "    1. Minimum charge of sensor is larger than min_charge=2 photons\n",
    "    2. Only events that have more min_len=10 are accounted\n",
    "    3. The dimension of the image is dimension_x=30,dimension_y=30 around the barycenter of the event.\n",
    "    Returns 0,1 value if event passed the cut and the voxelized image.\"\"\"\n",
    "    pas=0\n",
    "    tensor=np.zeros((dimension_x,dimension_y))\n",
    "    try:\n",
    "        data=np.array([np.append(pos_dict[x],events[evnt][x].charges) for x in events[evnt].keys() if  (events[evnt][x].charges[0]>min_charge)] )        \n",
    "    except IndexError:\n",
    "        return pas,tensor\n",
    "    \n",
    "    if len(data)>min_len:\n",
    "        data=np.array(list(map(lambda x: [np.arctan2(x[1],x[0]),x[2],x[3]],data)))\n",
    "        if (data[:,0].max()-data[:,0].min())>3:\n",
    "            data[:,0]=np.mod((data[:,0]+np.pi/2),2*np.pi)\n",
    "        barcnt=barycenter(data[:,0:2], data[:,2])\n",
    "        Xc,Yc=barcnt[0].X,barcnt[0].Y\n",
    "        data[:,0]=np.round((data[:,0]-Xc)/4*129.4)\n",
    "        data[:,1]=np.round((data[:,1]-Yc)/4)\n",
    "        tensor=np.zeros((dimension_x,dimension_y))\n",
    "        for d in data:\n",
    "            indx_i=int(d[0]+dimension_x/2)\n",
    "            indx_j=int(d[1]+dimension_y/2)\n",
    "            try:\n",
    "                tensor[indx_i,indx_j]=d[2]\n",
    "            except IndexError:\n",
    "                pass\n",
    "        pas=1\n",
    "    return pas,tensor"
   ]
  },
  {
   "cell_type": "code",
   "execution_count": 5,
   "metadata": {},
   "outputs": [],
   "source": [
    "def get_input_and_labels(input_file, return_mcinfo=False):\n",
    "    \"\"\" Given input file it makes 2d normalized images of sensor responses and labels for the events that pass the cuts.\n",
    "    If return_mcinfo=True returns true MC information (for checks).\"\"\"\n",
    "    table=tb.open_file(input_file, mode='r')\n",
    "    mcinfo=mcinfo_io.read_mcinfo(table)\n",
    "    print('read mc info')\n",
    "    evt_nums, labels=get_ev_nums_and_labels(mcinfo)\n",
    "    pos_dict=get_pos_dict(table)\n",
    "    #read waveforms\n",
    "    allevs=mc_io.read_mcsns_response(input_file)\n",
    "    print('read waveforms')\n",
    "    x_arr=[];ev_arr=[]; y_arr=[]\n",
    "    for ev in allevs.keys():\n",
    "        if ev in evt_nums:\n",
    "            pas, data=get_data_input_event(allevs, ev,pos_dict)\n",
    "            if pas==1:\n",
    "                data=data/data.sum()\n",
    "                x_arr.append(data)\n",
    "                ev_arr.append(ev)\n",
    "                y_arr.append(labels[evt_nums==ev])\n",
    "    x_arr=np.array(x_arr)\n",
    "    y_arr=np.array(y_arr)\n",
    "    ev_arr=np.array(ev_arr)\n",
    "    x_arr=np.reshape(x_arr, (x_arr.shape[0], x_arr.shape[1], x_arr.shape[2],1))\n",
    "    y_arr=np.reshape(y_arr, (y_arr.shape[0],1))\n",
    "    if return_mcinfo:\n",
    "        return x_arr, y_arr,ev_arr, mcinfo\n",
    "    else:\n",
    "        return x_arr, y_arr,ev_arr\n",
    "    "
   ]
  },
  {
   "cell_type": "code",
   "execution_count": 6,
   "metadata": {},
   "outputs": [],
   "source": [
    "def get_input_and_labels_files(directory, num_files):\n",
    "    \"\"\" Makes training data for NN for num_files from directory.\"\"\"\n",
    "    files=sorted(os.listdir(dirname),key=lambda f:[int(x) for x in re.findall(r'\\d+', f)])[:num_files]\n",
    "    x_arr=[];y_arr=[];ev_arr=[]\n",
    "    for f in files:\n",
    "        input_file=dirname+f\n",
    "        x,y,e=get_input_and_labels(input_file)\n",
    "        x_arr.append(x)\n",
    "        y_arr.append(y)\n",
    "        ev_arr.append(e)\n",
    "    x_arr=np.concatenate(x_arr)\n",
    "    y_arr=np.concatenate(y_arr)\n",
    "    ev_arr=np.concatenate(ev_arr)\n",
    "    return x_arr,y_arr,ev_arr\n",
    "        "
   ]
  },
  {
   "cell_type": "markdown",
   "metadata": {},
   "source": [
    "## example how to read and plot events from one file ##"
   ]
  },
  {
   "cell_type": "code",
   "execution_count": 7,
   "metadata": {},
   "outputs": [
    {
     "ename": "NameError",
     "evalue": "name 'os' is not defined",
     "output_type": "error",
     "traceback": [
      "\u001b[0;31m---------------------------------------------------------------------------\u001b[0m",
      "\u001b[0;31mNameError\u001b[0m                                 Traceback (most recent call last)",
      "\u001b[0;32m<ipython-input-7-a0f30dd1ddae>\u001b[0m in \u001b[0;36m<module>\u001b[0;34m()\u001b[0m\n\u001b[0;32m----> 1\u001b[0;31m \u001b[0mfiles\u001b[0m\u001b[0;34m=\u001b[0m\u001b[0msorted\u001b[0m\u001b[0;34m(\u001b[0m\u001b[0mos\u001b[0m\u001b[0;34m.\u001b[0m\u001b[0mlistdir\u001b[0m\u001b[0;34m(\u001b[0m\u001b[0mdirname\u001b[0m\u001b[0;34m)\u001b[0m\u001b[0;34m,\u001b[0m\u001b[0mkey\u001b[0m\u001b[0;34m=\u001b[0m\u001b[0;32mlambda\u001b[0m \u001b[0mf\u001b[0m\u001b[0;34m:\u001b[0m\u001b[0;34m[\u001b[0m\u001b[0mint\u001b[0m\u001b[0;34m(\u001b[0m\u001b[0mx\u001b[0m\u001b[0;34m)\u001b[0m \u001b[0;32mfor\u001b[0m \u001b[0mx\u001b[0m \u001b[0;32min\u001b[0m \u001b[0mre\u001b[0m\u001b[0;34m.\u001b[0m\u001b[0mfindall\u001b[0m\u001b[0;34m(\u001b[0m\u001b[0;34mr'\\d+'\u001b[0m\u001b[0;34m,\u001b[0m \u001b[0mf\u001b[0m\u001b[0;34m)\u001b[0m\u001b[0;34m]\u001b[0m\u001b[0;34m)\u001b[0m\u001b[0;34m\u001b[0m\u001b[0m\n\u001b[0m\u001b[1;32m      2\u001b[0m \u001b[0minput_file\u001b[0m\u001b[0;34m=\u001b[0m\u001b[0mdirname\u001b[0m\u001b[0;34m+\u001b[0m\u001b[0mfiles\u001b[0m\u001b[0;34m[\u001b[0m\u001b[0;36m0\u001b[0m\u001b[0;34m]\u001b[0m\u001b[0;34m\u001b[0m\u001b[0m\n\u001b[1;32m      3\u001b[0m \u001b[0mx\u001b[0m\u001b[0;34m,\u001b[0m\u001b[0my\u001b[0m\u001b[0;34m,\u001b[0m\u001b[0me\u001b[0m\u001b[0;34m,\u001b[0m\u001b[0mmcinfo\u001b[0m\u001b[0;34m=\u001b[0m\u001b[0mget_input_and_labels\u001b[0m\u001b[0;34m(\u001b[0m\u001b[0minput_file\u001b[0m\u001b[0;34m,\u001b[0m \u001b[0mreturn_mcinfo\u001b[0m\u001b[0;34m=\u001b[0m\u001b[0;32mTrue\u001b[0m\u001b[0;34m)\u001b[0m\u001b[0;34m\u001b[0m\u001b[0m\n",
      "\u001b[0;31mNameError\u001b[0m: name 'os' is not defined"
     ]
    }
   ],
   "source": [
    "files=sorted(os.listdir(dirname),key=lambda f:[int(x) for x in re.findall(r'\\d+', f)])\n",
    "input_file=dirname+files[0]\n",
    "x,y,e,mcinfo=get_input_and_labels(input_file, return_mcinfo=True)"
   ]
  },
  {
   "cell_type": "code",
   "execution_count": 8,
   "metadata": {},
   "outputs": [
    {
     "ename": "NameError",
     "evalue": "name 'x' is not defined",
     "output_type": "error",
     "traceback": [
      "\u001b[0;31m---------------------------------------------------------------------------\u001b[0m",
      "\u001b[0;31mNameError\u001b[0m                                 Traceback (most recent call last)",
      "\u001b[0;32m<ipython-input-8-3541e84d52b9>\u001b[0m in \u001b[0;36m<module>\u001b[0;34m()\u001b[0m\n\u001b[1;32m      1\u001b[0m \u001b[0mget_ipython\u001b[0m\u001b[0;34m(\u001b[0m\u001b[0;34m)\u001b[0m\u001b[0;34m.\u001b[0m\u001b[0mrun_line_magic\u001b[0m\u001b[0;34m(\u001b[0m\u001b[0;34m'matplotlib'\u001b[0m\u001b[0;34m,\u001b[0m \u001b[0;34m'inline'\u001b[0m\u001b[0;34m)\u001b[0m\u001b[0;34m\u001b[0m\u001b[0m\n\u001b[0;32m----> 2\u001b[0;31m \u001b[0mindx\u001b[0m\u001b[0;34m=\u001b[0m\u001b[0mnp\u001b[0m\u001b[0;34m.\u001b[0m\u001b[0mrandom\u001b[0m\u001b[0;34m.\u001b[0m\u001b[0mchoice\u001b[0m\u001b[0;34m(\u001b[0m\u001b[0mrange\u001b[0m\u001b[0;34m(\u001b[0m\u001b[0mx\u001b[0m\u001b[0;34m.\u001b[0m\u001b[0mshape\u001b[0m\u001b[0;34m[\u001b[0m\u001b[0;36m0\u001b[0m\u001b[0;34m]\u001b[0m\u001b[0;34m)\u001b[0m\u001b[0;34m)\u001b[0m\u001b[0;34m\u001b[0m\u001b[0m\n\u001b[0m\u001b[1;32m      3\u001b[0m \u001b[0mprint\u001b[0m\u001b[0;34m(\u001b[0m\u001b[0;34m'event number: '\u001b[0m\u001b[0;34m,\u001b[0m\u001b[0me\u001b[0m\u001b[0;34m[\u001b[0m\u001b[0mindx\u001b[0m\u001b[0;34m]\u001b[0m\u001b[0;34m)\u001b[0m\u001b[0;34m\u001b[0m\u001b[0m\n\u001b[1;32m      4\u001b[0m \u001b[0mplot_2d\u001b[0m\u001b[0;34m(\u001b[0m\u001b[0mx\u001b[0m\u001b[0;34m[\u001b[0m\u001b[0mindx\u001b[0m\u001b[0;34m]\u001b[0m\u001b[0;34m,\u001b[0m\u001b[0my\u001b[0m\u001b[0;34m[\u001b[0m\u001b[0mindx\u001b[0m\u001b[0;34m]\u001b[0m\u001b[0;34m)\u001b[0m\u001b[0;34m\u001b[0m\u001b[0m\n",
      "\u001b[0;31mNameError\u001b[0m: name 'x' is not defined"
     ]
    }
   ],
   "source": [
    "%matplotlib inline\n",
    "indx=np.random.choice(range(x.shape[0]))\n",
    "print('event number: ',e[indx])\n",
    "plot_2d(x[indx],y[indx])"
   ]
  },
  {
   "cell_type": "code",
   "execution_count": null,
   "metadata": {},
   "outputs": [],
   "source": [
    "mcinfo[e[indx]]"
   ]
  },
  {
   "cell_type": "markdown",
   "metadata": {},
   "source": [
    "### example how to create training set form 2 files ###"
   ]
  },
  {
   "cell_type": "code",
   "execution_count": null,
   "metadata": {},
   "outputs": [],
   "source": [
    "x_train,y_train,ev_train=get_input_and_labels_files(dirname, 2)"
   ]
  }
 ],
 "metadata": {
  "kernelspec": {
   "display_name": "Python [conda env:IC3.6]",
   "language": "python",
   "name": "conda-env-IC3.6-py"
  }
 },
 "nbformat": 4,
 "nbformat_minor": 2
}
