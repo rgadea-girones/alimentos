{
 "cells": [
  {
   "cell_type": "markdown",
   "metadata": {},
   "source": [
    "# Simple AUTOENCODER for PETALO\n",
    "\n",
    "Esta red la vamos a utilizar para obtener el radio "
   ]
  },
  {
   "cell_type": "code",
   "execution_count": 1,
   "metadata": {},
   "outputs": [
    {
     "name": "stdout",
     "output_type": "stream",
     "text": [
      "['', '/home/rgadea3/anaconda3/envs/tensorflow/lib/python36.zip', '/home/rgadea3/anaconda3/envs/tensorflow/lib/python3.6', '/home/rgadea3/anaconda3/envs/tensorflow/lib/python3.6/lib-dynload', '/home/rgadea3/anaconda3/envs/tensorflow/lib/python3.6/site-packages', '/home/rgadea3/anaconda3/envs/tensorflow/lib/python3.6/site-packages/IPython/extensions', '/home/rgadea3/.ipython']\n"
     ]
    },
    {
     "name": "stderr",
     "output_type": "stream",
     "text": [
      "Using TensorFlow backend.\n"
     ]
    }
   ],
   "source": [
    "import numpy as np\n",
    "#np.random.seed(1337)  # for reproducibility\n",
    "from time import time\n",
    "from datetime import datetime\n",
    "from sklearn import preprocessing\n",
    "import sys\n",
    "print(sys.path)\n",
    "sys.path.append(\"/home/rgadea/lmfit-py/\")\n",
    "import seaborn as sns\n",
    "from keras.datasets import mnist\n",
    "from keras.models import Model, Sequential\n",
    "from keras.layers import Input, Dense, Dropout, Activation, Flatten\n",
    "from keras.layers import Conv2D, MaxPooling2D,BatchNormalization\n",
    "from keras.callbacks import TensorBoard, EarlyStopping, ModelCheckpoint\n",
    "from keras.utils import np_utils\n",
    "from keras import regularizers\n",
    "from math import floor\n",
    "from lmfit.models import  GaussianModel\n",
    "import matplotlib.pyplot as plt"
   ]
  },
  {
   "cell_type": "markdown",
   "metadata": {},
   "source": [
    "## Vamos introducir los datos de petalo preprocesados en pyhton\n"
   ]
  },
  {
   "cell_type": "code",
   "execution_count": 2,
   "metadata": {},
   "outputs": [
    {
     "name": "stdout",
     "output_type": "stream",
     "text": [
      "(22703, 3518)\n"
     ]
    }
   ],
   "source": [
    "import scipy.io as sio\n",
    "import hdf5storage\n",
    "# datos_matlab = hdf5storage.loadmat('../datos_junio_2019/conjunto_entrenamiento_junio_2019_pitch7mm_rad165mm_29_total.mat')\n",
    "npzfile = np.load('../conjuntos_datos_reconstruidos/fil1_pith7mm_rad165mm_scaled2_sig_sig_1200.npz')\n",
    "npzfile.files\n",
    "\n",
    "conjunto_datos1= npzfile['arr_0']\n",
    "npzfile = np.load('../conjuntos_datos_reconstruidos/fil2_pith7mm_rad165mm_scaled2_sig_sig_1200.npz')\n",
    "npzfile.files\n",
    "\n",
    "conjunto_datos2= npzfile['arr_0']\n",
    "\n",
    "conjunto_datos=np.concatenate((conjunto_datos1,conjunto_datos2), axis=0)\n",
    "print(conjunto_datos.shape)"
   ]
  },
  {
   "cell_type": "markdown",
   "metadata": {},
   "source": [
    "## Network parameters:"
   ]
  },
  {
   "cell_type": "code",
   "execution_count": 3,
   "metadata": {},
   "outputs": [],
   "source": [
    "batch_size = 500\n",
    "nb_classes = 10\n",
    "nb_epoch = 150\n",
    "\n",
    "# input image dimensions\n",
    "img_rows, img_cols = 16, 30\n",
    "# number of convolutional filters to use\n",
    "nb_filters = 32\n",
    "# size of pooling area for max pooling\n",
    "pool_size = (2, 2)\n",
    "# convolution kernel size\n",
    "kernel_size = (4, 4)"
   ]
  },
  {
   "cell_type": "markdown",
   "metadata": {},
   "source": [
    "## Prepare data into training and test set."
   ]
  },
  {
   "cell_type": "code",
   "execution_count": 4,
   "metadata": {},
   "outputs": [
    {
     "name": "stdout",
     "output_type": "stream",
     "text": [
      "22703\n",
      "conjunto_datos shape: (22703, 3518)\n",
      "194.99941139023045\n"
     ]
    },
    {
     "name": "stderr",
     "output_type": "stream",
     "text": [
      "/home/rgadea3/anaconda3/envs/tensorflow/lib/python3.6/site-packages/matplotlib/axes/_axes.py:6462: UserWarning: The 'normed' kwarg is deprecated, and has been replaced by the 'density' kwarg.\n",
      "  warnings.warn(\"The 'normed' kwarg is deprecated, and has been \"\n"
     ]
    },
    {
     "data": {
      "image/png": "[encoded data removed]",
      "text/plain": [
       "<Figure size 432x288 with 1 Axes>"
      ]
     },
     "metadata": {},
     "output_type": "display_data"
    }
   ],
   "source": [
    "# the data, shuffled and split between train and test sets\n",
    "# (X_train, y_train), (X_test, y_test) = mnist.load_data()\n",
    "# conjunto_datos=photodefbox2_todo_e\n",
    "numero_muestras=conjunto_datos.shape[0]\n",
    "print(numero_muestras)\n",
    "print('conjunto_datos shape:', conjunto_datos.shape)\n",
    "maxInColumns = np.amax(conjunto_datos, axis=0)\n",
    "print (maxInColumns[1])\n",
    "n, bins, patches = plt.hist(conjunto_datos[:,1], 400, normed=0, facecolor='green', alpha=0.75)\n"
   ]
  },
  {
   "cell_type": "code",
   "execution_count": 5,
   "metadata": {},
   "outputs": [
    {
     "name": "stdout",
     "output_type": "stream",
     "text": [
      "13621\n",
      "4540\n",
      "4542\n",
      "(1896, 3500)\n",
      "(851, 3500)\n",
      "(586, 3500)\n",
      "(585, 3500)\n",
      "(624, 3500)\n"
     ]
    }
   ],
   "source": [
    "tr_size=60\n",
    "val_size=20\n",
    "test_size=100-val_size-tr_size\n",
    "\n",
    "tamanyo_tr=floor(tr_size*numero_muestras/100)\n",
    "tamanyo_val=floor(val_size*numero_muestras/100)\n",
    "tamanyo_test=numero_muestras-tamanyo_tr-tamanyo_val\n",
    "print(tamanyo_tr)\n",
    "print(tamanyo_val)\n",
    "print(tamanyo_test)\n",
    "XY_test=conjunto_datos[tamanyo_tr+tamanyo_val:numero_muestras,:]\n",
    "XY_test_bin0=XY_test[np.where((XY_test[:,1]>=164.9999) * (XY_test[:,1]<171.000))]\n",
    "XY_test_bin1=XY_test[np.where((XY_test[:,1]>=171.000) * (XY_test[:,1]<177.000))]\n",
    "XY_test_bin2=XY_test[np.where((XY_test[:,1]>=177.000) * (XY_test[:,1]<183.0000))]\n",
    "XY_test_bin3=XY_test[np.where((XY_test[:,1]>=183.000) * (XY_test[:,1]<189.0000))]\n",
    "XY_test_bin4=XY_test[np.where((XY_test[:,1]>=189.0000))]\n",
    "\n",
    "X_train=conjunto_datos[:tamanyo_tr,6:3506]\n",
    "X_val=conjunto_datos[tamanyo_tr:tamanyo_tr+tamanyo_val,6:3506]\n",
    "X_test=conjunto_datos[tamanyo_tr+tamanyo_val:numero_muestras,6:3506]\n",
    "\n",
    "X_test_bin0=XY_test_bin0[:,6:3506]\n",
    "Y_test_bin0=XY_test_bin0[:,1]\n",
    "print(X_test_bin0.shape)\n",
    "X_test_bin1=XY_test_bin1[:,6:3506]\n",
    "Y_test_bin1=XY_test_bin1[:,1]\n",
    "print(X_test_bin1.shape)\n",
    "X_test_bin2=XY_test_bin2[:,6:3506]\n",
    "Y_test_bin2=XY_test_bin2[:,1]\n",
    "print(X_test_bin2.shape)\n",
    "X_test_bin3=XY_test_bin3[:,6:3506]\n",
    "Y_test_bin3=XY_test_bin3[:,1]\n",
    "print(X_test_bin3.shape)\n",
    "X_test_bin4=XY_test_bin4[:,6:3506]\n",
    "Y_test_bin4=XY_test_bin4[:,1]\n",
    "print(X_test_bin4.shape)\n",
    "\n",
    "\n",
    "\n",
    "Y_train=conjunto_datos[:tamanyo_tr,1] #elijo la coordenada radius\n",
    "Y_val=conjunto_datos[tamanyo_tr:tamanyo_tr+tamanyo_val,1] #elijo la corrdenada radius\n",
    "Y_test=conjunto_datos[tamanyo_tr+tamanyo_val:numero_muestras,1] #elijo la corrdenada radius"
   ]
  },
  {
   "cell_type": "code",
   "execution_count": 6,
   "metadata": {},
   "outputs": [],
   "source": [
    "img_cols=175\n",
    "img_rows=20\n",
    "\n",
    "X_train = X_train.reshape(X_train.shape[0], img_cols, img_rows,1)\n",
    "X_val = X_val.reshape(X_val.shape[0], img_cols, img_rows,1)\n",
    "X_test = X_test.reshape(X_test.shape[0], img_cols, img_rows,1)\n",
    "\n",
    "X_test_bin0 = X_test_bin0.reshape(X_test_bin0.shape[0], img_cols, img_rows,1)\n",
    "X_test_bin1 = X_test_bin1.reshape(X_test_bin1.shape[0], img_cols, img_rows,1)\n",
    "X_test_bin2 = X_test_bin2.reshape(X_test_bin2.shape[0], img_cols, img_rows,1)\n",
    "X_test_bin3 = X_test_bin3.reshape(X_test_bin3.shape[0], img_cols, img_rows,1)\n",
    "X_test_bin4 = X_test_bin4.reshape(X_test_bin4.shape[0], img_cols, img_rows,1)\n",
    "\n",
    "input_shape = (img_cols, img_rows,1)\n",
    "#input_shape=input_shape.astype('int32')"
   ]
  },
  {
   "cell_type": "code",
   "execution_count": 7,
   "metadata": {},
   "outputs": [
    {
     "name": "stdout",
     "output_type": "stream",
     "text": [
      "X_train shape: (13621, 175, 20, 1)\n",
      "13621 train samples\n",
      "4540 validation samples\n",
      "4542 test samples\n"
     ]
    }
   ],
   "source": [
    "X_train = X_train.astype('float32')\n",
    "X_val= X_val.astype('float32')\n",
    "X_test = X_test.astype('float32')\n",
    "\n",
    "print('X_train shape:', X_train.shape)\n",
    "print(X_train.shape[0], 'train samples')\n",
    "print(X_val.shape[0], 'validation samples')\n",
    "print(X_test.shape[0], 'test samples')"
   ]
  },
  {
   "cell_type": "markdown",
   "metadata": {},
   "source": [
    "Display 20 random training images using image"
   ]
  },
  {
   "cell_type": "code",
   "execution_count": 8,
   "metadata": {},
   "outputs": [
    {
     "data": {
      "image/png": "[encoded data removed]",
      "text/plain": [
       "<Figure size 1440x144 with 1 Axes>"
      ]
     },
     "metadata": {},
     "output_type": "display_data"
    },
    {
     "data": {
      "image/png": "[encoded data removed]",
      "text/plain": [
       "<Figure size 1440x144 with 1 Axes>"
      ]
     },
     "metadata": {},
     "output_type": "display_data"
    },
    {
     "data": {
      "image/png": "[encoded data removed]",
      "text/plain": [
       "<Figure size 1440x144 with 1 Axes>"
      ]
     },
     "metadata": {},
     "output_type": "display_data"
    },
    {
     "data": {
      "image/png": "[encoded data removed]",
      "text/plain": [
       "<Figure size 1440x144 with 1 Axes>"
      ]
     },
     "metadata": {},
     "output_type": "display_data"
    }
   ],
   "source": [
    "# convert class vectors to binary class matrices\n",
    "#Y_train = np_utils.to_categorical(y_train, nb_classes)\n",
    "#Y_test = np_utils.to_categorical(y_test, nb_classes)\n",
    "for i in range(1,5):\n",
    "    idea=np.random.randint(1,X_train.shape[0])\n",
    "    plt.figure(figsize = (20,2))\n",
    "    plt.imshow(np.reshape(X_train[idea].transpose(), [img_rows, img_cols]), cmap='viridis')\n",
    "    plt.show()"
   ]
  },
  {
   "cell_type": "markdown",
   "metadata": {},
   "source": [
    "## Build the CNN. "
   ]
  },
  {
   "cell_type": "code",
   "execution_count": 9,
   "metadata": {},
   "outputs": [],
   "source": [
    "model = Sequential()\n",
    "\n",
    "model.add(Conv2D(8, kernel_size=kernel_size,\n",
    "                        padding='same',\n",
    "                        input_shape=(img_cols,img_rows,1)))\n",
    "model.add(BatchNormalization())\n",
    "model.add(Activation('relu'))\n",
    "model.add(MaxPooling2D(pool_size=pool_size))\n",
    "\n",
    "model.add(Conv2D(16, kernel_size, padding='same'))\n",
    "model.add(BatchNormalization())\n",
    "model.add(Activation('relu'))\n",
    "model.add(MaxPooling2D(pool_size=pool_size))\n",
    "\n",
    "model.add(Conv2D(32, kernel_size, padding='same'))\n",
    "model.add(BatchNormalization())\n",
    "model.add(Activation('relu'))\n",
    "\n",
    "model.add(Conv2D(64, kernel_size, padding='same'))\n",
    "model.add(BatchNormalization())\n",
    "model.add(Activation('relu'))\n",
    "\n",
    "model.add(Dropout(0.2))\n",
    "model.add(Flatten())\n",
    "model.add(Dense(1))\n",
    "\n",
    "\n",
    "model.compile(loss='mean_squared_error',\n",
    "              optimizer='rmsPROP',\n",
    "              metrics=['mae','acc'])\n"
   ]
  },
  {
   "cell_type": "markdown",
   "metadata": {},
   "source": [
    "Show a summary of the model parameters. "
   ]
  },
  {
   "cell_type": "code",
   "execution_count": 10,
   "metadata": {
    "scrolled": true
   },
   "outputs": [
    {
     "name": "stdout",
     "output_type": "stream",
     "text": [
      "_________________________________________________________________\n",
      "Layer (type)                 Output Shape              Param #   \n",
      "=================================================================\n",
      "conv2d_1 (Conv2D)            (None, 175, 20, 8)        136       \n",
      "_________________________________________________________________\n",
      "batch_normalization_1 (Batch (None, 175, 20, 8)        32        \n",
      "_________________________________________________________________\n",
      "activation_1 (Activation)    (None, 175, 20, 8)        0         \n",
      "_________________________________________________________________\n",
      "max_pooling2d_1 (MaxPooling2 (None, 87, 10, 8)         0         \n",
      "_________________________________________________________________\n",
      "conv2d_2 (Conv2D)            (None, 87, 10, 16)        2064      \n",
      "_________________________________________________________________\n",
      "batch_normalization_2 (Batch (None, 87, 10, 16)        64        \n",
      "_________________________________________________________________\n",
      "activation_2 (Activation)    (None, 87, 10, 16)        0         \n",
      "_________________________________________________________________\n",
      "max_pooling2d_2 (MaxPooling2 (None, 43, 5, 16)         0         \n",
      "_________________________________________________________________\n",
      "conv2d_3 (Conv2D)            (None, 43, 5, 32)         8224      \n",
      "_________________________________________________________________\n",
      "batch_normalization_3 (Batch (None, 43, 5, 32)         128       \n",
      "_________________________________________________________________\n",
      "activation_3 (Activation)    (None, 43, 5, 32)         0         \n",
      "_________________________________________________________________\n",
      "conv2d_4 (Conv2D)            (None, 43, 5, 64)         32832     \n",
      "_________________________________________________________________\n",
      "batch_normalization_4 (Batch (None, 43, 5, 64)         256       \n",
      "_________________________________________________________________\n",
      "activation_4 (Activation)    (None, 43, 5, 64)         0         \n",
      "_________________________________________________________________\n",
      "dropout_1 (Dropout)          (None, 43, 5, 64)         0         \n",
      "_________________________________________________________________\n",
      "flatten_1 (Flatten)          (None, 13760)             0         \n",
      "_________________________________________________________________\n",
      "dense_1 (Dense)              (None, 1)                 13761     \n",
      "=================================================================\n",
      "Total params: 57,497\n",
      "Trainable params: 57,257\n",
      "Non-trainable params: 240\n",
      "_________________________________________________________________\n"
     ]
    }
   ],
   "source": [
    "model.summary()"
   ]
  },
  {
   "cell_type": "markdown",
   "metadata": {},
   "source": [
    "And now train the model and evaluate on the test set. "
   ]
  },
  {
   "cell_type": "code",
   "execution_count": 11,
   "metadata": {
    "scrolled": false
   },
   "outputs": [
    {
     "name": "stdout",
     "output_type": "stream",
     "text": [
      "Train on 13621 samples, validate on 4540 samples\n",
      "Epoch 1/150\n",
      "13621/13621 [==============================] - 8s 567us/step - loss: 7124.0426 - mean_absolute_error: 58.5852 - acc: 0.0000e+00 - val_loss: 614.3934 - val_mean_absolute_error: 23.6384 - val_acc: 0.0000e+00\n",
      "Epoch 2/150\n",
      "13621/13621 [==============================] - 3s 230us/step - loss: 36.0904 - mean_absolute_error: 4.6012 - acc: 0.0000e+00 - val_loss: 658.7958 - val_mean_absolute_error: 24.9702 - val_acc: 0.0000e+00\n",
      "Epoch 3/150\n",
      "13621/13621 [==============================] - 3s 251us/step - loss: 35.9837 - mean_absolute_error: 4.8166 - acc: 0.0000e+00 - val_loss: 48.4666 - val_mean_absolute_error: 5.8182 - val_acc: 0.0000e+00\n",
      "Epoch 4/150\n",
      "13621/13621 [==============================] - 3s 252us/step - loss: 29.9314 - mean_absolute_error: 4.3539 - acc: 0.0000e+00 - val_loss: 27.2032 - val_mean_absolute_error: 4.3021 - val_acc: 0.0000e+00\n",
      "Epoch 5/150\n",
      "13621/13621 [==============================] - 3s 235us/step - loss: 31.7905 - mean_absolute_error: 4.2864 - acc: 0.0000e+00 - val_loss: 109.5057 - val_mean_absolute_error: 9.9263 - val_acc: 0.0000e+00\n",
      "Epoch 6/150\n",
      "13621/13621 [==============================] - 3s 257us/step - loss: 27.6000 - mean_absolute_error: 3.9429 - acc: 0.0000e+00 - val_loss: 53.6486 - val_mean_absolute_error: 6.7645 - val_acc: 0.0000e+00\n",
      "Epoch 7/150\n",
      "13621/13621 [==============================] - 3s 240us/step - loss: 19.6202 - mean_absolute_error: 3.3640 - acc: 0.0000e+00 - val_loss: 392.3290 - val_mean_absolute_error: 19.5286 - val_acc: 0.0000e+00\n",
      "Epoch 8/150\n",
      "13621/13621 [==============================] - 3s 245us/step - loss: 28.7925 - mean_absolute_error: 4.2955 - acc: 0.0000e+00 - val_loss: 241.9513 - val_mean_absolute_error: 15.2869 - val_acc: 0.0000e+00\n",
      "Epoch 9/150\n",
      "13621/13621 [==============================] - 4s 258us/step - loss: 19.0119 - mean_absolute_error: 3.5434 - acc: 0.0000e+00 - val_loss: 14.3935 - val_mean_absolute_error: 3.1022 - val_acc: 0.0000e+00\n",
      "Epoch 10/150\n",
      "13621/13621 [==============================] - 3s 247us/step - loss: 24.3041 - mean_absolute_error: 4.1343 - acc: 0.0000e+00 - val_loss: 7.1547 - val_mean_absolute_error: 1.8845 - val_acc: 0.0000e+00\n",
      "Epoch 11/150\n",
      "13621/13621 [==============================] - 3s 238us/step - loss: 23.5854 - mean_absolute_error: 3.7412 - acc: 0.0000e+00 - val_loss: 207.6872 - val_mean_absolute_error: 14.1832 - val_acc: 0.0000e+00\n",
      "Epoch 12/150\n",
      "13621/13621 [==============================] - 3s 241us/step - loss: 20.2478 - mean_absolute_error: 3.7914 - acc: 0.0000e+00 - val_loss: 416.4358 - val_mean_absolute_error: 20.2627 - val_acc: 0.0000e+00\n",
      "Epoch 13/150\n",
      "13621/13621 [==============================] - 3s 244us/step - loss: 21.7214 - mean_absolute_error: 3.9300 - acc: 0.0000e+00 - val_loss: 79.5665 - val_mean_absolute_error: 8.6502 - val_acc: 0.0000e+00\n",
      "Epoch 14/150\n",
      "13621/13621 [==============================] - 3s 239us/step - loss: 17.3546 - mean_absolute_error: 3.2418 - acc: 0.0000e+00 - val_loss: 474.5631 - val_mean_absolute_error: 21.6534 - val_acc: 0.0000e+00\n",
      "Epoch 15/150\n",
      "13621/13621 [==============================] - 3s 247us/step - loss: 37.3901 - mean_absolute_error: 4.1962 - acc: 0.0000e+00 - val_loss: 1731.8527 - val_mean_absolute_error: 41.4637 - val_acc: 0.0000e+00\n",
      "Epoch 16/150\n",
      "13621/13621 [==============================] - 3s 253us/step - loss: 15.9241 - mean_absolute_error: 3.1689 - acc: 0.0000e+00 - val_loss: 33.1818 - val_mean_absolute_error: 5.3604 - val_acc: 0.0000e+00\n",
      "Epoch 17/150\n",
      "13621/13621 [==============================] - 3s 246us/step - loss: 17.6732 - mean_absolute_error: 3.3768 - acc: 0.0000e+00 - val_loss: 158.2438 - val_mean_absolute_error: 12.3485 - val_acc: 0.0000e+00\n",
      "Epoch 18/150\n",
      "13621/13621 [==============================] - 3s 256us/step - loss: 22.0705 - mean_absolute_error: 3.8823 - acc: 0.0000e+00 - val_loss: 730.4783 - val_mean_absolute_error: 26.9181 - val_acc: 0.0000e+00\n",
      "Epoch 19/150\n",
      "13621/13621 [==============================] - 3s 244us/step - loss: 18.2721 - mean_absolute_error: 3.2881 - acc: 0.0000e+00 - val_loss: 22.7301 - val_mean_absolute_error: 4.2795 - val_acc: 0.0000e+00\n",
      "Epoch 20/150\n",
      "13621/13621 [==============================] - 4s 258us/step - loss: 20.6596 - mean_absolute_error: 3.7271 - acc: 0.0000e+00 - val_loss: 4.9343 - val_mean_absolute_error: 1.5062 - val_acc: 0.0000e+00\n",
      "Epoch 21/150\n",
      "13621/13621 [==============================] - 4s 261us/step - loss: 16.7504 - mean_absolute_error: 3.1000 - acc: 0.0000e+00 - val_loss: 6.5940 - val_mean_absolute_error: 1.8708 - val_acc: 0.0000e+00\n",
      "Epoch 22/150\n",
      "13621/13621 [==============================] - 3s 236us/step - loss: 21.6380 - mean_absolute_error: 3.7473 - acc: 0.0000e+00 - val_loss: 18.8115 - val_mean_absolute_error: 3.9930 - val_acc: 0.0000e+00\n",
      "Epoch 23/150\n",
      "13621/13621 [==============================] - 3s 235us/step - loss: 19.4355 - mean_absolute_error: 3.6541 - acc: 0.0000e+00 - val_loss: 133.7648 - val_mean_absolute_error: 11.3551 - val_acc: 0.0000e+00\n",
      "Epoch 24/150\n",
      "13621/13621 [==============================] - 3s 228us/step - loss: 20.0069 - mean_absolute_error: 3.7404 - acc: 0.0000e+00 - val_loss: 5.4237 - val_mean_absolute_error: 1.6678 - val_acc: 0.0000e+00\n",
      "Epoch 25/150\n",
      "13621/13621 [==============================] - 3s 242us/step - loss: 19.8754 - mean_absolute_error: 3.7120 - acc: 0.0000e+00 - val_loss: 5.6417 - val_mean_absolute_error: 1.7605 - val_acc: 0.0000e+00\n",
      "Epoch 26/150\n",
      "13621/13621 [==============================] - 3s 253us/step - loss: 19.2425 - mean_absolute_error: 3.2081 - acc: 0.0000e+00 - val_loss: 56.6260 - val_mean_absolute_error: 7.2598 - val_acc: 0.0000e+00\n",
      "Epoch 27/150\n",
      "13621/13621 [==============================] - 3s 245us/step - loss: 17.8192 - mean_absolute_error: 3.5113 - acc: 0.0000e+00 - val_loss: 63.9263 - val_mean_absolute_error: 7.7257 - val_acc: 0.0000e+00\n",
      "Epoch 28/150\n",
      "13621/13621 [==============================] - 3s 240us/step - loss: 15.4995 - mean_absolute_error: 3.1609 - acc: 0.0000e+00 - val_loss: 206.5266 - val_mean_absolute_error: 14.2281 - val_acc: 0.0000e+00\n",
      "Epoch 29/150\n",
      "13621/13621 [==============================] - 3s 247us/step - loss: 19.0527 - mean_absolute_error: 3.5793 - acc: 0.0000e+00 - val_loss: 33.0885 - val_mean_absolute_error: 5.3619 - val_acc: 0.0000e+00\n",
      "Epoch 30/150\n",
      "13621/13621 [==============================] - 3s 254us/step - loss: 18.9553 - mean_absolute_error: 3.5726 - acc: 0.0000e+00 - val_loss: 53.6457 - val_mean_absolute_error: 7.0010 - val_acc: 0.0000e+00\n",
      "Epoch 31/150\n",
      "13621/13621 [==============================] - 3s 255us/step - loss: 15.5861 - mean_absolute_error: 3.2206 - acc: 0.0000e+00 - val_loss: 228.2375 - val_mean_absolute_error: 14.9556 - val_acc: 0.0000e+00\n",
      "Epoch 32/150\n",
      "13621/13621 [==============================] - 3s 233us/step - loss: 14.9497 - mean_absolute_error: 3.1659 - acc: 0.0000e+00 - val_loss: 70.7494 - val_mean_absolute_error: 8.0951 - val_acc: 0.0000e+00 loss: 15.3431 - mean_absolute_error: 3.2424 - acc: 0.\n",
      "Epoch 33/150\n",
      "13621/13621 [==============================] - 3s 246us/step - loss: 17.5222 - mean_absolute_error: 3.2868 - acc: 0.0000e+00 - val_loss: 7.4862 - val_mean_absolute_error: 1.9869 - val_acc: 0.0000e+00\n",
      "Epoch 34/150\n",
      "13621/13621 [==============================] - 3s 230us/step - loss: 20.3141 - mean_absolute_error: 3.8550 - acc: 0.0000e+00 - val_loss: 138.2774 - val_mean_absolute_error: 11.5709 - val_acc: 0.0000e+00\n",
      "Epoch 35/150\n",
      "13621/13621 [==============================] - 3s 246us/step - loss: 17.1460 - mean_absolute_error: 3.4240 - acc: 0.0000e+00 - val_loss: 24.1175 - val_mean_absolute_error: 4.6011 - val_acc: 0.0000e+00\n",
      "Epoch 36/150\n",
      "13621/13621 [==============================] - 3s 252us/step - loss: 17.8241 - mean_absolute_error: 3.6175 - acc: 0.0000e+00 - val_loss: 134.1911 - val_mean_absolute_error: 11.3901 - val_acc: 0.0000e+00\n",
      "Epoch 37/150\n",
      "13621/13621 [==============================] - 3s 245us/step - loss: 19.6682 - mean_absolute_error: 3.8679 - acc: 0.0000e+00 - val_loss: 90.7707 - val_mean_absolute_error: 9.1811 - val_acc: 0.0000e+00\n",
      "Epoch 38/150\n",
      "13621/13621 [==============================] - 3s 245us/step - loss: 18.7644 - mean_absolute_error: 3.6446 - acc: 0.0000e+00 - val_loss: 98.1285 - val_mean_absolute_error: 9.7332 - val_acc: 0.0000e+00\n"
     ]
    },
    {
     "name": "stdout",
     "output_type": "stream",
     "text": [
      "Epoch 39/150\n",
      "13621/13621 [==============================] - 3s 240us/step - loss: 17.7203 - mean_absolute_error: 3.3883 - acc: 0.0000e+00 - val_loss: 73.9370 - val_mean_absolute_error: 8.3907 - val_acc: 0.0000e+00\n",
      "Epoch 40/150\n",
      "13621/13621 [==============================] - 3s 218us/step - loss: 18.7236 - mean_absolute_error: 3.5176 - acc: 0.0000e+00 - val_loss: 22.8595 - val_mean_absolute_error: 4.4862 - val_acc: 0.0000e+00\n",
      "Epoch 41/150\n",
      "13621/13621 [==============================] - 3s 244us/step - loss: 13.5519 - mean_absolute_error: 2.9060 - acc: 0.0000e+00 - val_loss: 36.9695 - val_mean_absolute_error: 5.7238 - val_acc: 0.0000e+00\n",
      "Epoch 42/150\n",
      "13621/13621 [==============================] - 3s 252us/step - loss: 18.6707 - mean_absolute_error: 3.5021 - acc: 0.0000e+00 - val_loss: 20.2195 - val_mean_absolute_error: 4.1800 - val_acc: 0.0000e+00\n",
      "Epoch 43/150\n",
      "13621/13621 [==============================] - 3s 257us/step - loss: 16.9753 - mean_absolute_error: 3.3094 - acc: 0.0000e+00 - val_loss: 4.1680 - val_mean_absolute_error: 1.3370 - val_acc: 0.0000e+00\n",
      "Epoch 44/150\n",
      "13621/13621 [==============================] - 4s 259us/step - loss: 18.7174 - mean_absolute_error: 3.5140 - acc: 0.0000e+00 - val_loss: 44.0718 - val_mean_absolute_error: 6.3990 - val_acc: 0.0000e+00\n",
      "Epoch 45/150\n",
      "13621/13621 [==============================] - 3s 240us/step - loss: 14.9015 - mean_absolute_error: 3.1750 - acc: 0.0000e+00 - val_loss: 4.8651 - val_mean_absolute_error: 1.5086 - val_acc: 0.0000e+00\n",
      "Epoch 46/150\n",
      "13621/13621 [==============================] - 3s 233us/step - loss: 18.5222 - mean_absolute_error: 3.5016 - acc: 0.0000e+00 - val_loss: 52.3257 - val_mean_absolute_error: 6.9951 - val_acc: 0.0000e+00\n",
      "Epoch 47/150\n",
      "13621/13621 [==============================] - 3s 238us/step - loss: 18.6578 - mean_absolute_error: 3.6094 - acc: 0.0000e+00 - val_loss: 189.8319 - val_mean_absolute_error: 13.6326 - val_acc: 0.0000e+00\n",
      "Epoch 48/150\n",
      "13621/13621 [==============================] - 3s 245us/step - loss: 14.0323 - mean_absolute_error: 3.0849 - acc: 0.0000e+00 - val_loss: 34.7456 - val_mean_absolute_error: 5.6448 - val_acc: 0.0000e+00\n",
      "Epoch 49/150\n",
      "13621/13621 [==============================] - 3s 253us/step - loss: 18.8392 - mean_absolute_error: 3.6732 - acc: 0.0000e+00 - val_loss: 5.2444 - val_mean_absolute_error: 1.7546 - val_acc: 0.0000e+00\n",
      "Epoch 50/150\n",
      "13621/13621 [==============================] - 3s 248us/step - loss: 13.9220 - mean_absolute_error: 3.0529 - acc: 0.0000e+00 - val_loss: 4.2170 - val_mean_absolute_error: 1.3405 - val_acc: 0.0000e+00\n",
      "Epoch 51/150\n",
      "13621/13621 [==============================] - 3s 241us/step - loss: 16.3314 - mean_absolute_error: 3.2982 - acc: 0.0000e+00 - val_loss: 4.2453 - val_mean_absolute_error: 1.4394 - val_acc: 0.0000e+00\n",
      "Epoch 52/150\n",
      "13621/13621 [==============================] - 3s 243us/step - loss: 18.1200 - mean_absolute_error: 3.4795 - acc: 0.0000e+00 - val_loss: 116.3269 - val_mean_absolute_error: 10.6311 - val_acc: 0.0000e+00\n",
      "Epoch 53/150\n",
      "13621/13621 [==============================] - 3s 234us/step - loss: 16.6313 - mean_absolute_error: 3.4182 - acc: 0.0000e+00 - val_loss: 80.3117 - val_mean_absolute_error: 8.7851 - val_acc: 0.0000e+00\n",
      "Epoch 54/150\n",
      "13621/13621 [==============================] - 3s 249us/step - loss: 16.4878 - mean_absolute_error: 3.3635 - acc: 0.0000e+00 - val_loss: 14.1620 - val_mean_absolute_error: 3.0739 - val_acc: 0.0000e+00\n",
      "Epoch 55/150\n",
      "13621/13621 [==============================] - 3s 249us/step - loss: 15.1263 - mean_absolute_error: 3.1118 - acc: 0.0000e+00 - val_loss: 21.6215 - val_mean_absolute_error: 4.2008 - val_acc: 0.0000e+00\n",
      "Epoch 56/150\n",
      "13621/13621 [==============================] - 3s 255us/step - loss: 15.3297 - mean_absolute_error: 3.0782 - acc: 0.0000e+00 - val_loss: 5.2286 - val_mean_absolute_error: 1.6474 - val_acc: 0.0000e+00\n",
      "Epoch 57/150\n",
      "13621/13621 [==============================] - 3s 245us/step - loss: 16.9347 - mean_absolute_error: 3.4142 - acc: 0.0000e+00 - val_loss: 25.5780 - val_mean_absolute_error: 4.7345 - val_acc: 0.0000e+00\n",
      "Epoch 58/150\n",
      "13621/13621 [==============================] - 3s 244us/step - loss: 16.0431 - mean_absolute_error: 3.1130 - acc: 0.0000e+00 - val_loss: 5.7605 - val_mean_absolute_error: 1.5364 - val_acc: 0.0000e+00\n",
      "Epoch 59/150\n",
      "13621/13621 [==============================] - 3s 242us/step - loss: 14.7473 - mean_absolute_error: 3.1095 - acc: 0.0000e+00 - val_loss: 153.1429 - val_mean_absolute_error: 12.2197 - val_acc: 0.0000e+00\n",
      "Epoch 60/150\n",
      "13621/13621 [==============================] - 3s 256us/step - loss: 17.3838 - mean_absolute_error: 3.4897 - acc: 0.0000e+00 - val_loss: 37.3149 - val_mean_absolute_error: 5.8650 - val_acc: 0.0000e+00\n",
      "Epoch 61/150\n",
      "13621/13621 [==============================] - 3s 245us/step - loss: 15.4812 - mean_absolute_error: 3.2512 - acc: 0.0000e+00 - val_loss: 27.5793 - val_mean_absolute_error: 5.0031 - val_acc: 0.0000e+00\n",
      "Epoch 62/150\n",
      "13621/13621 [==============================] - 3s 232us/step - loss: 15.9156 - mean_absolute_error: 3.2893 - acc: 0.0000e+00 - val_loss: 51.8209 - val_mean_absolute_error: 6.9950 - val_acc: 0.0000e+00\n",
      "Epoch 63/150\n",
      "13621/13621 [==============================] - 3s 242us/step - loss: 15.2688 - mean_absolute_error: 3.1268 - acc: 0.0000e+00 - val_loss: 22.4342 - val_mean_absolute_error: 4.4467 - val_acc: 0.0000e+00\n",
      "Epoch 64/150\n",
      "13621/13621 [==============================] - 3s 241us/step - loss: 17.1227 - mean_absolute_error: 3.5313 - acc: 0.0000e+00 - val_loss: 5.2528 - val_mean_absolute_error: 1.7041 - val_acc: 0.0000e+00\n",
      "Epoch 65/150\n",
      "13621/13621 [==============================] - 3s 236us/step - loss: 16.6850 - mean_absolute_error: 3.3323 - acc: 0.0000e+00 - val_loss: 27.5865 - val_mean_absolute_error: 4.9296 - val_acc: 0.0000e+00\n",
      "Epoch 66/150\n",
      "13621/13621 [==============================] - 3s 251us/step - loss: 14.9229 - mean_absolute_error: 2.9794 - acc: 0.0000e+00 - val_loss: 143.2187 - val_mean_absolute_error: 11.7838 - val_acc: 0.0000e+00\n",
      "Epoch 67/150\n",
      "13621/13621 [==============================] - 3s 255us/step - loss: 12.4452 - mean_absolute_error: 2.7678 - acc: 0.0000e+00 - val_loss: 23.1573 - val_mean_absolute_error: 4.4953 - val_acc: 0.0000e+00\n",
      "Epoch 68/150\n",
      "13621/13621 [==============================] - 3s 241us/step - loss: 17.5213 - mean_absolute_error: 3.4726 - acc: 0.0000e+00 - val_loss: 59.6251 - val_mean_absolute_error: 7.5257 - val_acc: 0.0000e+00\n",
      "Epoch 69/150\n",
      "13621/13621 [==============================] - 3s 241us/step - loss: 16.9770 - mean_absolute_error: 3.3153 - acc: 0.0000e+00 - val_loss: 110.0319 - val_mean_absolute_error: 10.2579 - val_acc: 0.0000e+00\n",
      "Epoch 70/150\n",
      "13621/13621 [==============================] - 3s 251us/step - loss: 15.4305 - mean_absolute_error: 3.2682 - acc: 0.0000e+00 - val_loss: 100.5674 - val_mean_absolute_error: 9.8819 - val_acc: 0.0000e+00\n",
      "Epoch 71/150\n",
      "13621/13621 [==============================] - 3s 248us/step - loss: 13.2376 - mean_absolute_error: 2.9737 - acc: 0.0000e+00 - val_loss: 6.0105 - val_mean_absolute_error: 1.8333 - val_acc: 0.0000e+00\n",
      "Epoch 72/150\n",
      "13621/13621 [==============================] - 3s 245us/step - loss: 17.6625 - mean_absolute_error: 3.5910 - acc: 0.0000e+00 - val_loss: 26.2385 - val_mean_absolute_error: 4.8968 - val_acc: 0.0000e+00\n",
      "Epoch 73/150\n",
      "13621/13621 [==============================] - 3s 242us/step - loss: 14.5650 - mean_absolute_error: 2.9639 - acc: 0.0000e+00 - val_loss: 94.4746 - val_mean_absolute_error: 9.5324 - val_acc: 0.0000e+00\n",
      "Epoch 74/150\n",
      "13621/13621 [==============================] - 3s 237us/step - loss: 14.0596 - mean_absolute_error: 3.0245 - acc: 0.0000e+00 - val_loss: 10.6384 - val_mean_absolute_error: 2.7168 - val_acc: 0.0000e+00\n",
      "Epoch 75/150\n",
      "13621/13621 [==============================] - 3s 244us/step - loss: 17.0185 - mean_absolute_error: 3.4495 - acc: 0.0000e+00 - val_loss: 62.1464 - val_mean_absolute_error: 7.6686 - val_acc: 0.0000e+00\n",
      "Epoch 76/150\n",
      "13621/13621 [==============================] - 3s 245us/step - loss: 13.1803 - mean_absolute_error: 2.7279 - acc: 0.0000e+00 - val_loss: 17.0479 - val_mean_absolute_error: 3.7011 - val_acc: 0.0000e+00\n",
      "Epoch 77/150\n"
     ]
    },
    {
     "name": "stdout",
     "output_type": "stream",
     "text": [
      "13621/13621 [==============================] - 3s 220us/step - loss: 17.5074 - mean_absolute_error: 3.4648 - acc: 0.0000e+00 - val_loss: 66.0727 - val_mean_absolute_error: 7.9220 - val_acc: 0.0000e+00\n",
      "Epoch 78/150\n",
      "13621/13621 [==============================] - 4s 263us/step - loss: 14.9069 - mean_absolute_error: 3.1009 - acc: 0.0000e+00 - val_loss: 38.5601 - val_mean_absolute_error: 5.8986 - val_acc: 0.0000e+00\n",
      "Epoch 79/150\n",
      "13621/13621 [==============================] - 3s 222us/step - loss: 14.3311 - mean_absolute_error: 3.1264 - acc: 0.0000e+00 - val_loss: 31.8212 - val_mean_absolute_error: 5.4058 - val_acc: 0.0000e+00\n",
      "Epoch 80/150\n",
      "13621/13621 [==============================] - 3s 249us/step - loss: 16.2640 - mean_absolute_error: 3.1481 - acc: 0.0000e+00 - val_loss: 329.6808 - val_mean_absolute_error: 18.0272 - val_acc: 0.0000e+00\n",
      "Epoch 81/150\n",
      "13621/13621 [==============================] - 3s 239us/step - loss: 13.4040 - mean_absolute_error: 2.8069 - acc: 0.0000e+00 - val_loss: 3.2519 - val_mean_absolute_error: 1.1238 - val_acc: 0.0000e+00\n",
      "Epoch 82/150\n",
      "13621/13621 [==============================] - 3s 244us/step - loss: 15.8698 - mean_absolute_error: 3.1834 - acc: 0.0000e+00 - val_loss: 30.2425 - val_mean_absolute_error: 5.2240 - val_acc: 0.0000e+00\n",
      "Epoch 83/150\n",
      "13621/13621 [==============================] - 3s 240us/step - loss: 17.2038 - mean_absolute_error: 3.4912 - acc: 0.0000e+00 - val_loss: 7.3393 - val_mean_absolute_error: 2.0680 - val_acc: 0.0000e+00\n",
      "Epoch 84/150\n",
      "13621/13621 [==============================] - 3s 249us/step - loss: 12.7201 - mean_absolute_error: 2.8820 - acc: 0.0000e+00 - val_loss: 22.7330 - val_mean_absolute_error: 4.5535 - val_acc: 0.0000e+00\n",
      "Epoch 85/150\n",
      "13621/13621 [==============================] - 3s 251us/step - loss: 15.3457 - mean_absolute_error: 3.2507 - acc: 0.0000e+00 - val_loss: 6.2176 - val_mean_absolute_error: 1.7858 - val_acc: 0.0000e+00\n",
      "Epoch 86/150\n",
      "13621/13621 [==============================] - 3s 234us/step - loss: 15.8630 - mean_absolute_error: 3.2950 - acc: 0.0000e+00 - val_loss: 3.0851 - val_mean_absolute_error: 1.0745 - val_acc: 0.0000e+00\n",
      "Epoch 87/150\n",
      "13621/13621 [==============================] - 3s 248us/step - loss: 11.4924 - mean_absolute_error: 2.6042 - acc: 0.0000e+00 - val_loss: 10.2529 - val_mean_absolute_error: 2.6289 - val_acc: 0.0000e+00\n",
      "Epoch 88/150\n",
      "13621/13621 [==============================] - 3s 247us/step - loss: 17.0199 - mean_absolute_error: 3.3111 - acc: 0.0000e+00 - val_loss: 27.8892 - val_mean_absolute_error: 5.0513 - val_acc: 0.0000e+00\n",
      "Epoch 89/150\n",
      "13621/13621 [==============================] - 3s 247us/step - loss: 13.3394 - mean_absolute_error: 2.9635 - acc: 0.0000e+00 - val_loss: 13.5440 - val_mean_absolute_error: 3.2422 - val_acc: 0.0000e+00\n",
      "Epoch 90/150\n",
      "13621/13621 [==============================] - 3s 238us/step - loss: 15.6666 - mean_absolute_error: 3.4142 - acc: 0.0000e+00 - val_loss: 10.1037 - val_mean_absolute_error: 2.7699 - val_acc: 0.0000e+00\n",
      "Epoch 91/150\n",
      "13621/13621 [==============================] - 3s 250us/step - loss: 14.4636 - mean_absolute_error: 3.1285 - acc: 0.0000e+00 - val_loss: 3.4009 - val_mean_absolute_error: 1.1703 - val_acc: 0.0000e+00\n",
      "Epoch 92/150\n",
      "13621/13621 [==============================] - 3s 246us/step - loss: 13.6385 - mean_absolute_error: 3.0756 - acc: 0.0000e+00 - val_loss: 28.8427 - val_mean_absolute_error: 4.9437 - val_acc: 0.0000e+00\n",
      "Epoch 93/150\n",
      "13621/13621 [==============================] - 3s 240us/step - loss: 14.9086 - mean_absolute_error: 3.1926 - acc: 0.0000e+00 - val_loss: 77.8892 - val_mean_absolute_error: 8.6303 - val_acc: 0.0000e+00\n",
      "Epoch 94/150\n",
      "13621/13621 [==============================] - 3s 236us/step - loss: 11.3704 - mean_absolute_error: 2.6679 - acc: 0.0000e+00 - val_loss: 3.9611 - val_mean_absolute_error: 1.2450 - val_acc: 0.0000e+00\n",
      "Epoch 95/150\n",
      "13621/13621 [==============================] - 3s 240us/step - loss: 17.2203 - mean_absolute_error: 3.3628 - acc: 0.0000e+00 - val_loss: 3.1655 - val_mean_absolute_error: 1.1145 - val_acc: 0.0000e+00\n",
      "Epoch 96/150\n",
      "13621/13621 [==============================] - 3s 247us/step - loss: 13.1265 - mean_absolute_error: 2.9833 - acc: 0.0000e+00 - val_loss: 17.5119 - val_mean_absolute_error: 3.8941 - val_acc: 0.0000e+00\n",
      "Epoch 97/150\n",
      "13621/13621 [==============================] - 3s 238us/step - loss: 15.9667 - mean_absolute_error: 3.3890 - acc: 0.0000e+00 - val_loss: 455.4123 - val_mean_absolute_error: 21.1768 - val_acc: 0.0000e+00\n",
      "Epoch 98/150\n",
      "13621/13621 [==============================] - 3s 244us/step - loss: 12.9609 - mean_absolute_error: 2.8721 - acc: 0.0000e+00 - val_loss: 9.2956 - val_mean_absolute_error: 2.5671 - val_acc: 0.0000e+00\n",
      "Epoch 99/150\n",
      "13621/13621 [==============================] - 3s 235us/step - loss: 14.9770 - mean_absolute_error: 3.1526 - acc: 0.0000e+00 - val_loss: 3.3359 - val_mean_absolute_error: 1.1174 - val_acc: 0.0000e+00\n",
      "Epoch 100/150\n",
      "13621/13621 [==============================] - 3s 238us/step - loss: 16.5947 - mean_absolute_error: 3.3738 - acc: 0.0000e+00 - val_loss: 8.2024 - val_mean_absolute_error: 2.2248 - val_acc: 0.0000e+00\n",
      "Epoch 101/150\n",
      "13621/13621 [==============================] - 3s 247us/step - loss: 12.2434 - mean_absolute_error: 2.7632 - acc: 0.0000e+00 - val_loss: 194.6699 - val_mean_absolute_error: 13.7784 - val_acc: 0.0000e+00\n",
      "Epoch 102/150\n",
      "13621/13621 [==============================] - 3s 243us/step - loss: 14.0941 - mean_absolute_error: 3.0283 - acc: 0.0000e+00 - val_loss: 45.6437 - val_mean_absolute_error: 6.5648 - val_acc: 0.0000e+00\n",
      "Epoch 103/150\n",
      "13621/13621 [==============================] - 3s 237us/step - loss: 12.7578 - mean_absolute_error: 2.9234 - acc: 0.0000e+00 - val_loss: 39.1673 - val_mean_absolute_error: 6.0204 - val_acc: 0.0000e+00\n",
      "Epoch 104/150\n",
      "13621/13621 [==============================] - 3s 255us/step - loss: 14.9107 - mean_absolute_error: 3.2173 - acc: 0.0000e+00 - val_loss: 3.6463 - val_mean_absolute_error: 1.2637 - val_acc: 0.0000e+00\n",
      "Epoch 105/150\n",
      "13621/13621 [==============================] - 3s 238us/step - loss: 14.1057 - mean_absolute_error: 3.1243 - acc: 0.0000e+00 - val_loss: 3.8331 - val_mean_absolute_error: 1.3598 - val_acc: 0.0000e+00\n",
      "Epoch 106/150\n",
      "13621/13621 [==============================] - 3s 245us/step - loss: 13.9172 - mean_absolute_error: 2.9878 - acc: 0.0000e+00 - val_loss: 97.7082 - val_mean_absolute_error: 9.7070 - val_acc: 0.0000e+00\n",
      "Epoch 107/150\n",
      "13621/13621 [==============================] - 3s 245us/step - loss: 14.8863 - mean_absolute_error: 3.2910 - acc: 0.0000e+00 - val_loss: 34.1244 - val_mean_absolute_error: 5.4629 - val_acc: 0.0000e+00\n",
      "Epoch 108/150\n",
      "13621/13621 [==============================] - 4s 257us/step - loss: 14.8495 - mean_absolute_error: 3.2888 - acc: 0.0000e+00 - val_loss: 39.9718 - val_mean_absolute_error: 6.1013 - val_acc: 0.0000e+00\n",
      "Epoch 109/150\n",
      "13621/13621 [==============================] - 3s 246us/step - loss: 14.5154 - mean_absolute_error: 3.1301 - acc: 0.0000e+00 - val_loss: 52.5966 - val_mean_absolute_error: 7.0487 - val_acc: 0.0000e+00\n",
      "Epoch 110/150\n",
      "13621/13621 [==============================] - 3s 239us/step - loss: 13.6937 - mean_absolute_error: 3.0153 - acc: 0.0000e+00 - val_loss: 19.6240 - val_mean_absolute_error: 4.1287 - val_acc: 0.0000e+00\n",
      "Epoch 111/150\n",
      "13621/13621 [==============================] - 3s 254us/step - loss: 12.6778 - mean_absolute_error: 2.8328 - acc: 0.0000e+00 - val_loss: 10.4306 - val_mean_absolute_error: 2.7322 - val_acc: 0.0000e+00\n",
      "Epoch 112/150\n",
      "13621/13621 [==============================] - 3s 245us/step - loss: 14.2179 - mean_absolute_error: 3.1603 - acc: 0.0000e+00 - val_loss: 67.8200 - val_mean_absolute_error: 8.0259 - val_acc: 0.0000e+00\n",
      "Epoch 113/150\n",
      "13621/13621 [==============================] - 3s 249us/step - loss: 14.5798 - mean_absolute_error: 3.1748 - acc: 0.0000e+00 - val_loss: 107.0502 - val_mean_absolute_error: 10.1959 - val_acc: 0.0000e+00\n",
      "Epoch 114/150\n",
      "13621/13621 [==============================] - 3s 240us/step - loss: 14.4763 - mean_absolute_error: 3.1112 - acc: 0.0000e+00 - val_loss: 10.4591 - val_mean_absolute_error: 2.6525 - val_acc: 0.0000e+00\n",
      "Epoch 115/150\n"
     ]
    },
    {
     "name": "stdout",
     "output_type": "stream",
     "text": [
      "13621/13621 [==============================] - 3s 256us/step - loss: 13.5903 - mean_absolute_error: 3.0142 - acc: 0.0000e+00 - val_loss: 86.1815 - val_mean_absolute_error: 9.1460 - val_acc: 0.0000e+00\n",
      "Epoch 116/150\n",
      "13621/13621 [==============================] - 3s 248us/step - loss: 15.3932 - mean_absolute_error: 3.1537 - acc: 0.0000e+00 - val_loss: 8.9686 - val_mean_absolute_error: 2.5932 - val_acc: 0.0000e+00\n",
      "Epoch 117/150\n",
      "13621/13621 [==============================] - 3s 253us/step - loss: 13.7157 - mean_absolute_error: 3.0042 - acc: 0.0000e+00 - val_loss: 5.4788 - val_mean_absolute_error: 1.7360 - val_acc: 0.0000e+00\n",
      "Epoch 118/150\n",
      "13621/13621 [==============================] - 3s 229us/step - loss: 11.3515 - mean_absolute_error: 2.6195 - acc: 0.0000e+00 - val_loss: 191.1076 - val_mean_absolute_error: 13.6521 - val_acc: 0.0000e+00\n",
      "Epoch 119/150\n",
      "13621/13621 [==============================] - 3s 246us/step - loss: 12.1429 - mean_absolute_error: 2.7874 - acc: 0.0000e+00 - val_loss: 9.9124 - val_mean_absolute_error: 2.6018 - val_acc: 0.0000e+00\n",
      "Epoch 120/150\n",
      "13621/13621 [==============================] - 3s 251us/step - loss: 14.3929 - mean_absolute_error: 3.1722 - acc: 0.0000e+00 - val_loss: 4.7816 - val_mean_absolute_error: 1.7058 - val_acc: 0.0000e+00\n",
      "Epoch 121/150\n",
      "13621/13621 [==============================] - 3s 248us/step - loss: 13.8105 - mean_absolute_error: 2.9911 - acc: 0.0000e+00 - val_loss: 5.0717 - val_mean_absolute_error: 1.5675 - val_acc: 0.0000e+00\n",
      "Epoch 122/150\n",
      "13621/13621 [==============================] - 3s 251us/step - loss: 14.3071 - mean_absolute_error: 2.9703 - acc: 0.0000e+00 - val_loss: 50.9486 - val_mean_absolute_error: 6.8300 - val_acc: 0.0000e+00\n",
      "Epoch 123/150\n",
      "13621/13621 [==============================] - 3s 249us/step - loss: 11.6373 - mean_absolute_error: 2.7307 - acc: 0.0000e+00 - val_loss: 6.2153 - val_mean_absolute_error: 1.9148 - val_acc: 0.0000e+00\n",
      "Epoch 124/150\n",
      "13621/13621 [==============================] - 3s 247us/step - loss: 15.4841 - mean_absolute_error: 3.1964 - acc: 0.0000e+00 - val_loss: 10.5589 - val_mean_absolute_error: 2.8189 - val_acc: 0.0000e+00\n",
      "Epoch 125/150\n",
      "13621/13621 [==============================] - 3s 257us/step - loss: 13.0772 - mean_absolute_error: 2.7740 - acc: 0.0000e+00 - val_loss: 3.3527 - val_mean_absolute_error: 1.1653 - val_acc: 0.0000e+00\n",
      "Epoch 126/150\n",
      "13621/13621 [==============================] - 3s 242us/step - loss: 14.3465 - mean_absolute_error: 3.1506 - acc: 0.0000e+00 - val_loss: 3.8047 - val_mean_absolute_error: 1.3925 - val_acc: 0.0000e+00\n",
      "Epoch 127/150\n",
      "13621/13621 [==============================] - 3s 234us/step - loss: 12.3542 - mean_absolute_error: 2.7907 - acc: 0.0000e+00 - val_loss: 3.7241 - val_mean_absolute_error: 1.3438 - val_acc: 0.0000e+00\n",
      "Epoch 128/150\n",
      "13621/13621 [==============================] - 3s 230us/step - loss: 14.7704 - mean_absolute_error: 3.2597 - acc: 0.0000e+00 - val_loss: 4.9086 - val_mean_absolute_error: 1.5474 - val_acc: 0.0000e+00\n",
      "Epoch 129/150\n",
      "13621/13621 [==============================] - 3s 239us/step - loss: 13.2111 - mean_absolute_error: 2.8208 - acc: 0.0000e+00 - val_loss: 4.0869 - val_mean_absolute_error: 1.2305 - val_acc: 0.0000e+00\n",
      "Epoch 130/150\n",
      "13621/13621 [==============================] - 3s 254us/step - loss: 12.8670 - mean_absolute_error: 2.7830 - acc: 0.0000e+00 - val_loss: 4.4868 - val_mean_absolute_error: 1.5917 - val_acc: 0.0000e+00\n",
      "Epoch 131/150\n",
      "13621/13621 [==============================] - 3s 250us/step - loss: 11.0911 - mean_absolute_error: 2.6140 - acc: 0.0000e+00 - val_loss: 410.7936 - val_mean_absolute_error: 20.1339 - val_acc: 0.0000e+00\n",
      "Epoch 132/150\n",
      "13621/13621 [==============================] - 3s 229us/step - loss: 13.7558 - mean_absolute_error: 3.0627 - acc: 0.0000e+00 - val_loss: 4.7932 - val_mean_absolute_error: 1.5930 - val_acc: 0.0000e+00\n",
      "Epoch 133/150\n",
      "13621/13621 [==============================] - 3s 239us/step - loss: 13.4310 - mean_absolute_error: 2.9444 - acc: 0.0000e+00 - val_loss: 8.6609 - val_mean_absolute_error: 2.5963 - val_acc: 0.0000e+00\n",
      "Epoch 134/150\n",
      "13621/13621 [==============================] - 3s 251us/step - loss: 13.6018 - mean_absolute_error: 3.1038 - acc: 0.0000e+00 - val_loss: 63.4967 - val_mean_absolute_error: 7.7117 - val_acc: 0.0000e+00\n",
      "Epoch 135/150\n",
      "13621/13621 [==============================] - 3s 251us/step - loss: 13.4927 - mean_absolute_error: 3.1034 - acc: 0.0000e+00 - val_loss: 5.3573 - val_mean_absolute_error: 1.6360 - val_acc: 0.0000e+00\n",
      "Epoch 136/150\n",
      "13621/13621 [==============================] - 3s 235us/step - loss: 12.9375 - mean_absolute_error: 2.9018 - acc: 0.0000e+00 - val_loss: 6.4331 - val_mean_absolute_error: 2.0036 - val_acc: 0.0000e+00\n",
      "Epoch 137/150\n",
      "13621/13621 [==============================] - 3s 238us/step - loss: 14.2231 - mean_absolute_error: 3.1202 - acc: 0.0000e+00 - val_loss: 22.1969 - val_mean_absolute_error: 4.4112 - val_acc: 0.0000e+00\n",
      "Epoch 138/150\n",
      "13621/13621 [==============================] - 3s 249us/step - loss: 14.0350 - mean_absolute_error: 3.0537 - acc: 0.0000e+00 - val_loss: 138.0172 - val_mean_absolute_error: 11.6146 - val_acc: 0.0000e+00\n",
      "Epoch 139/150\n",
      "13621/13621 [==============================] - 3s 239us/step - loss: 15.0567 - mean_absolute_error: 3.1154 - acc: 0.0000e+00 - val_loss: 21.1153 - val_mean_absolute_error: 4.3278 - val_acc: 0.0000e+00\n",
      "Epoch 140/150\n",
      "13621/13621 [==============================] - 3s 254us/step - loss: 12.1902 - mean_absolute_error: 2.8724 - acc: 0.0000e+00 - val_loss: 7.5662 - val_mean_absolute_error: 2.2509 - val_acc: 0.0000e+00\n",
      "Epoch 141/150\n",
      "13621/13621 [==============================] - 3s 250us/step - loss: 13.7990 - mean_absolute_error: 3.0269 - acc: 0.0000e+00 - val_loss: 7.7946 - val_mean_absolute_error: 2.4667 - val_acc: 0.0000e+00\n",
      "Epoch 142/150\n",
      "13621/13621 [==============================] - 3s 257us/step - loss: 13.2256 - mean_absolute_error: 3.0073 - acc: 0.0000e+00 - val_loss: 6.0842 - val_mean_absolute_error: 1.8598 - val_acc: 0.0000e+00\n",
      "Epoch 143/150\n",
      "13621/13621 [==============================] - 3s 244us/step - loss: 12.9535 - mean_absolute_error: 2.9437 - acc: 0.0000e+00 - val_loss: 396.1613 - val_mean_absolute_error: 19.7268 - val_acc: 0.0000e+00\n",
      "Epoch 144/150\n",
      "13621/13621 [==============================] - 3s 252us/step - loss: 11.8431 - mean_absolute_error: 2.8235 - acc: 0.0000e+00 - val_loss: 5.6436 - val_mean_absolute_error: 1.9360 - val_acc: 0.0000e+00\n",
      "Epoch 145/150\n",
      "13621/13621 [==============================] - 4s 257us/step - loss: 14.8326 - mean_absolute_error: 3.1577 - acc: 0.0000e+00 - val_loss: 164.7032 - val_mean_absolute_error: 12.6599 - val_acc: 0.0000e+00\n",
      "Epoch 146/150\n",
      "13621/13621 [==============================] - 3s 251us/step - loss: 10.7358 - mean_absolute_error: 2.6332 - acc: 0.0000e+00 - val_loss: 51.1671 - val_mean_absolute_error: 6.9524 - val_acc: 0.0000e+00\n",
      "Epoch 147/150\n",
      "13621/13621 [==============================] - 3s 249us/step - loss: 13.8213 - mean_absolute_error: 2.7979 - acc: 0.0000e+00 - val_loss: 3.6790 - val_mean_absolute_error: 1.3067 - val_acc: 0.0000e+00\n",
      "Epoch 148/150\n",
      "13621/13621 [==============================] - 3s 234us/step - loss: 13.3763 - mean_absolute_error: 2.9789 - acc: 0.0000e+00 - val_loss: 9.0908 - val_mean_absolute_error: 2.4519 - val_acc: 0.0000e+00\n",
      "Epoch 149/150\n",
      "13621/13621 [==============================] - 3s 242us/step - loss: 12.4310 - mean_absolute_error: 2.9010 - acc: 0.0000e+00 - val_loss: 3.8370 - val_mean_absolute_error: 1.4261 - val_acc: 0.0000e+00\n",
      "Epoch 150/150\n",
      "13621/13621 [==============================] - 3s 252us/step - loss: 14.3455 - mean_absolute_error: 3.0711 - acc: 0.0000e+00 - val_loss: 77.6588 - val_mean_absolute_error: 8.6534 - val_acc: 0.0000e+00\n"
     ]
    }
   ],
   "source": [
    "history = model.fit(X_train, Y_train, batch_size=batch_size, epochs=nb_epoch,\n",
    "          verbose=1, validation_data=(X_val, Y_val))"
   ]
  },
  {
   "cell_type": "code",
   "execution_count": 12,
   "metadata": {},
   "outputs": [
    {
     "name": "stdout",
     "output_type": "stream",
     "text": [
      "Test mse: 78.31022940685654\n",
      "Test mae: 8.678361360641473\n",
      "[197.19131 178.04501 188.14957 176.97493 194.25975 198.70494 180.50562\n",
      " 195.6321  201.6244  202.01935]\n",
      "[189.61838646 168.72199634 180.99847038 168.69528274 186.26602127\n",
      " 190.87447955 170.73269039 187.83115017 193.39890731 192.06887669]\n",
      "[-7.57292823 -9.32301708 -7.15109627 -8.27964707 -7.9937291  -7.83046125\n",
      " -9.77292484 -7.80094516 -8.22549759 -9.95047145]\n"
     ]
    }
   ],
   "source": [
    "score = model.evaluate(X_test, Y_test, verbose=0)\n",
    "print('Test mse:', score[0])\n",
    "print('Test mae:', score[1])\n",
    "Y_test_predicted=model.predict(X_test)\n",
    "print(Y_test_predicted[:10].flatten())\n",
    "print(Y_test[:10])\n",
    "error_prediction=Y_test-Y_test_predicted.flatten()\n",
    "\n",
    "print(error_prediction[:10])"
   ]
  },
  {
   "cell_type": "code",
   "execution_count": 13,
   "metadata": {},
   "outputs": [
    {
     "data": {
      "image/png": "[encoded data removed]",
      "text/plain": [
       "<Figure size 432x288 with 1 Axes>"
      ]
     },
     "metadata": {},
     "output_type": "display_data"
    }
   ],
   "source": [
    "plt.plot(history.history['loss'])\n",
    "plt.plot(history.history['val_loss'])\n",
    "plt.title('model error')\n",
    "plt.ylabel('error')\n",
    "plt.xlabel('epoch')\n",
    "plt.legend(['train', 'test'], loc='upper left')\n",
    "plt.show()"
   ]
  },
  {
   "cell_type": "code",
   "execution_count": 14,
   "metadata": {
    "scrolled": true
   },
   "outputs": [],
   "source": [
    "#print(error_prediction)"
   ]
  },
  {
   "cell_type": "code",
   "execution_count": 15,
   "metadata": {
    "scrolled": true
   },
   "outputs": [
    {
     "name": "stderr",
     "output_type": "stream",
     "text": [
      "/home/rgadea3/anaconda3/envs/tensorflow/lib/python3.6/site-packages/matplotlib/axes/_axes.py:6462: UserWarning: The 'normed' kwarg is deprecated, and has been replaced by the 'density' kwarg.\n",
      "  warnings.warn(\"The 'normed' kwarg is deprecated, and has been \"\n"
     ]
    },
    {
     "data": {
      "image/png": "[encoded data removed]",
      "text/plain": [
       "<Figure size 432x288 with 1 Axes>"
      ]
     },
     "metadata": {},
     "output_type": "display_data"
    },
    {
     "name": "stdout",
     "output_type": "stream",
     "text": [
      "(400,)\n",
      "(401,)\n",
      "[[Model]]\n",
      "    Model(gaussian)\n",
      "[[Fit Statistics]]\n",
      "    # fitting method   = leastsq\n",
      "    # function evals   = 56\n",
      "    # data points      = 400\n",
      "    # variables        = 3\n",
      "    chi-square         = 4528.34182\n",
      "    reduced chi-square = 11.4064026\n",
      "    Akaike info crit   = 976.658624\n",
      "    Bayesian info crit = 988.633018\n",
      "[[Variables]]\n",
      "    amp:  154.671300 +/- 0.93590662 (0.61%) (init = 1000)\n",
      "    cen: -8.79273701 +/- 0.00818662 (0.09%) (init = 0)\n",
      "    wid:  1.65700400 +/- 0.01157763 (0.70%) (init = 1)\n",
      "[[Correlations]] (unreported correlations are < 0.100)\n",
      "    C(amp, wid) = -0.577\n",
      "\n"
     ]
    },
    {
     "data": {
      "image/png": "[encoded data removed]",
      "text/plain": [
       "<Figure size 432x288 with 1 Axes>"
      ]
     },
     "metadata": {},
     "output_type": "display_data"
    }
   ],
   "source": [
    "\n",
    "n, bins, patches = plt.hist(error_prediction, 400, normed=0, facecolor='green', alpha=0.75)\n",
    "plt.title(\"Histogram with 400 bins\")\n",
    "plt.show()\n",
    "x=bins[:400]\n",
    "y=n\n",
    "print(n.shape)\n",
    "print(bins.shape)\n",
    "from numpy import exp, loadtxt, pi, sqrt, log\n",
    "\n",
    "from lmfit import Model\n",
    "def gaussian(x, amp, cen, wid):\n",
    "    \"\"\"1-d gaussian: gaussian(x, amp, cen, wid)\"\"\"\n",
    "    return amp * exp(-((x-cen)/wid)**2 )\n",
    "\n",
    "\n",
    "gmodel = Model(gaussian)\n",
    "result = gmodel.fit(y, x=x, amp=1000, cen=0, wid=1)\n",
    "\n",
    "print(result.fit_report())\n",
    "\n",
    "plt.plot(x, y, 'bo')\n",
    "plt.plot(x, result.init_fit, 'k--')\n",
    "plt.plot(x, result.best_fit, 'r-')\n",
    "plt.show()\n",
    "\n",
    "\n",
    "\n"
   ]
  },
  {
   "cell_type": "code",
   "execution_count": 16,
   "metadata": {},
   "outputs": [],
   "source": [
    "FWHM=result.params['wid'].value*2*sqrt(log(2))"
   ]
  },
  {
   "cell_type": "code",
   "execution_count": 17,
   "metadata": {},
   "outputs": [
    {
     "name": "stdout",
     "output_type": "stream",
     "text": [
      "2.7590926437734495\n"
     ]
    }
   ],
   "source": [
    "print(FWHM)"
   ]
  },
  {
   "cell_type": "code",
   "execution_count": 18,
   "metadata": {},
   "outputs": [
    {
     "name": "stdout",
     "output_type": "stream",
     "text": [
      "[[178.04501]\n",
      " [176.97493]\n",
      " [180.50562]\n",
      " ...\n",
      " [174.17523]\n",
      " [178.41396]\n",
      " [178.64459]]\n"
     ]
    },
    {
     "name": "stderr",
     "output_type": "stream",
     "text": [
      "/home/rgadea3/anaconda3/envs/tensorflow/lib/python3.6/site-packages/matplotlib/axes/_axes.py:6462: UserWarning: The 'normed' kwarg is deprecated, and has been replaced by the 'density' kwarg.\n",
      "  warnings.warn(\"The 'normed' kwarg is deprecated, and has been \"\n"
     ]
    },
    {
     "name": "stdout",
     "output_type": "stream",
     "text": [
      "0.1008328243585907\n"
     ]
    },
    {
     "data": {
      "image/png": "[encoded data removed]",
      "text/plain": [
       "<Figure size 432x288 with 1 Axes>"
      ]
     },
     "metadata": {},
     "output_type": "display_data"
    }
   ],
   "source": [
    "Y_test_bin0_predicted=model.predict(X_test_bin0)\n",
    "print(Y_test_bin0_predicted)\n",
    "error_prediction_bin0=Y_test_bin0-Y_test_bin0_predicted.flatten()\n",
    "n, bins, patches = plt.hist(error_prediction_bin0, 400, normed=0, facecolor='green', alpha=0.75)\n",
    "\n",
    "x=bins[:400]\n",
    "y=n\n",
    "\n",
    "gmodel = Model(gaussian)\n",
    "result = gmodel.fit(y, x=x, amp=1000, cen=0, wid=1)\n",
    "FWHM_bin0=result.params['wid'].value*2*sqrt(log(2))\n",
    "print(FWHM_bin0)"
   ]
  },
  {
   "cell_type": "code",
   "execution_count": 19,
   "metadata": {},
   "outputs": [
    {
     "name": "stderr",
     "output_type": "stream",
     "text": [
      "/home/rgadea3/anaconda3/envs/tensorflow/lib/python3.6/site-packages/matplotlib/axes/_axes.py:6462: UserWarning: The 'normed' kwarg is deprecated, and has been replaced by the 'density' kwarg.\n",
      "  warnings.warn(\"The 'normed' kwarg is deprecated, and has been \"\n"
     ]
    },
    {
     "name": "stdout",
     "output_type": "stream",
     "text": [
      "0.05425918600944695\n"
     ]
    },
    {
     "data": {
      "image/png": "[encoded data removed]",
      "text/plain": [
       "<Figure size 432x288 with 1 Axes>"
      ]
     },
     "metadata": {},
     "output_type": "display_data"
    }
   ],
   "source": [
    "Y_test_bin1_predicted=model.predict(X_test_bin1)\n",
    "#print(Y_test_bin1_predicted)\n",
    "error_prediction_bin1=Y_test_bin1-Y_test_bin1_predicted.flatten()\n",
    "n, bins, patches = plt.hist(error_prediction_bin1, 400, normed=0, facecolor='green', alpha=0.75)\n",
    "\n",
    "x=bins[:400]\n",
    "y=n\n",
    "\n",
    "gmodel = Model(gaussian)\n",
    "result = gmodel.fit(y, x=x, amp=1000, cen=0, wid=1)\n",
    "FWHM_bin1=result.params['wid'].value*2*sqrt(log(2))\n",
    "print(FWHM_bin1)"
   ]
  },
  {
   "cell_type": "code",
   "execution_count": 20,
   "metadata": {
    "scrolled": true
   },
   "outputs": [
    {
     "name": "stderr",
     "output_type": "stream",
     "text": [
      "/home/rgadea3/anaconda3/envs/tensorflow/lib/python3.6/site-packages/matplotlib/axes/_axes.py:6462: UserWarning: The 'normed' kwarg is deprecated, and has been replaced by the 'density' kwarg.\n",
      "  warnings.warn(\"The 'normed' kwarg is deprecated, and has been \"\n"
     ]
    },
    {
     "name": "stdout",
     "output_type": "stream",
     "text": [
      "2.6133679629723563\n"
     ]
    },
    {
     "data": {
      "image/png": "[encoded data removed]",
      "text/plain": [
       "<Figure size 432x288 with 1 Axes>"
      ]
     },
     "metadata": {},
     "output_type": "display_data"
    }
   ],
   "source": [
    "Y_test_bin2_predicted=model.predict(X_test_bin2)\n",
    "#print(Y_test_bin2_predicted)\n",
    "error_prediction_bin2=Y_test_bin2-Y_test_bin2_predicted.flatten()\n",
    "n, bins, patches = plt.hist(error_prediction_bin2, 400, normed=0, facecolor='green', alpha=0.75)\n",
    "\n",
    "x=bins[:400]\n",
    "y=n\n",
    "\n",
    "gmodel = Model(gaussian)\n",
    "result = gmodel.fit(y, x=x, amp=1000, cen=0, wid=1)\n",
    "FWHM_bin2=result.params['wid'].value*2*sqrt(log(2))\n",
    "print(FWHM_bin2)"
   ]
  },
  {
   "cell_type": "code",
   "execution_count": 21,
   "metadata": {
    "scrolled": true
   },
   "outputs": [
    {
     "name": "stderr",
     "output_type": "stream",
     "text": [
      "/home/rgadea3/anaconda3/envs/tensorflow/lib/python3.6/site-packages/matplotlib/axes/_axes.py:6462: UserWarning: The 'normed' kwarg is deprecated, and has been replaced by the 'density' kwarg.\n",
      "  warnings.warn(\"The 'normed' kwarg is deprecated, and has been \"\n"
     ]
    },
    {
     "name": "stdout",
     "output_type": "stream",
     "text": [
      "-2.566811527658447\n"
     ]
    },
    {
     "data": {
      "image/png": "[encoded data removed]",
      "text/plain": [
       "<Figure size 432x288 with 1 Axes>"
      ]
     },
     "metadata": {},
     "output_type": "display_data"
    }
   ],
   "source": [
    "Y_test_bin3_predicted=model.predict(X_test_bin3)\n",
    "#print(Y_test_bin3_predicted)\n",
    "error_prediction_bin3=Y_test_bin3-Y_test_bin3_predicted.flatten()\n",
    "n, bins, patches = plt.hist(error_prediction_bin3, 400, normed=0, facecolor='green', alpha=0.75)\n",
    "\n",
    "x=bins[:400]\n",
    "y=n\n",
    "\n",
    "gmodel = Model(gaussian)\n",
    "result = gmodel.fit(y, x=x, amp=1000, cen=0, wid=1)\n",
    "FWHM_bin3=result.params['wid'].value*2*sqrt(log(2))\n",
    "print(FWHM_bin3)"
   ]
  },
  {
   "cell_type": "code",
   "execution_count": 22,
   "metadata": {
    "scrolled": true
   },
   "outputs": [
    {
     "name": "stderr",
     "output_type": "stream",
     "text": [
      "/home/rgadea3/anaconda3/envs/tensorflow/lib/python3.6/site-packages/matplotlib/axes/_axes.py:6462: UserWarning: The 'normed' kwarg is deprecated, and has been replaced by the 'density' kwarg.\n",
      "  warnings.warn(\"The 'normed' kwarg is deprecated, and has been \"\n"
     ]
    },
    {
     "name": "stdout",
     "output_type": "stream",
     "text": [
      "3.120086884018336\n",
      "-2.566811527658447\n",
      "2.6133679629723563\n",
      "0.05425918600944695\n",
      "0.1008328243585907\n"
     ]
    },
    {
     "data": {
      "image/png": "[encoded data removed]",
      "text/plain": [
       "<Figure size 432x288 with 1 Axes>"
      ]
     },
     "metadata": {},
     "output_type": "display_data"
    }
   ],
   "source": [
    "Y_test_bin4_predicted=model.predict(X_test_bin4)\n",
    "#print(Y_test_bin4_predicted)\n",
    "error_prediction_bin4=Y_test_bin4-Y_test_bin4_predicted.flatten()\n",
    "n, bins, patches = plt.hist(error_prediction_bin4, 400, normed=0, facecolor='green', alpha=0.75)\n",
    "\n",
    "x=bins[:400]\n",
    "y=n\n",
    "\n",
    "gmodel = Model(gaussian)\n",
    "result = gmodel.fit(y, x=x, amp=1000, cen=0, wid=1)\n",
    "FWHM_bin4=result.params['wid'].value*2*sqrt(log(2))\n",
    "print(FWHM_bin4)\n",
    "print(FWHM_bin3)\n",
    "print(FWHM_bin2)\n",
    "print(FWHM_bin1)\n",
    "print(FWHM_bin0)"
   ]
  },
  {
   "cell_type": "code",
   "execution_count": null,
   "metadata": {},
   "outputs": [],
   "source": []
  }
 ],
 "metadata": {
  "anaconda-cloud": {},
  "kernelspec": {
   "display_name": "Python [conda env:tensorflow]",
   "language": "python",
   "name": "conda-env-tensorflow-py"
  },
  "language_info": {
   "codemirror_mode": {
    "name": "ipython",
    "version": 3
   },
   "file_extension": ".py",
   "mimetype": "text/x-python",
   "name": "python",
   "nbconvert_exporter": "python",
   "pygments_lexer": "ipython3",
   "version": "3.6.5"
  },
  "varInspector": {
   "cols": {
    "lenName": 16,
    "lenType": 16,
    "lenVar": 40
   },
   "kernels_config": {
    "python": {
     "delete_cmd_postfix": "",
     "delete_cmd_prefix": "del ",
     "library": "var_list.py",
     "varRefreshCmd": "print(var_dic_list())"
    },
    "r": {
     "delete_cmd_postfix": ") ",
     "delete_cmd_prefix": "rm(",
     "library": "var_list.r",
     "varRefreshCmd": "cat(var_dic_list()) "
    }
   },
   "position": {
    "height": "495px",
    "left": "909px",
    "right": "57px",
    "top": "246px",
    "width": "800px"
   },
   "types_to_exclude": [
    "module",
    "function",
    "builtin_function_or_method",
    "instance",
    "_Feature"
   ],
   "window_display": false
  }
 },
 "nbformat": 4,
 "nbformat_minor": 1
}
