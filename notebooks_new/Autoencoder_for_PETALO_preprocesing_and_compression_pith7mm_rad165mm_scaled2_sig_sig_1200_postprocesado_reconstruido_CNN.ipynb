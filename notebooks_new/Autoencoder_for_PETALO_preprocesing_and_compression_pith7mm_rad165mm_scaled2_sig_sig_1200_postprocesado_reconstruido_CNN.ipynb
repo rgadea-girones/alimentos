{
 "cells": [
  {
   "cell_type": "markdown",
   "metadata": {},
   "source": [
    "# Simple AUTOENCODER for PETALO\n",
    "\n",
    "Esta red la vamos a utilizar para obtener el radio "
   ]
  },
  {
   "cell_type": "code",
   "execution_count": 1,
   "metadata": {},
   "outputs": [
    {
     "name": "stdout",
     "output_type": "stream",
     "text": [
      "['', '/home/rgadea3/anaconda3/envs/tensorflow/lib/python36.zip', '/home/rgadea3/anaconda3/envs/tensorflow/lib/python3.6', '/home/rgadea3/anaconda3/envs/tensorflow/lib/python3.6/lib-dynload', '/home/rgadea3/anaconda3/envs/tensorflow/lib/python3.6/site-packages', '/home/rgadea3/anaconda3/envs/tensorflow/lib/python3.6/site-packages/IPython/extensions', '/home/rgadea3/.ipython']\n"
     ]
    },
    {
     "name": "stderr",
     "output_type": "stream",
     "text": [
      "Using TensorFlow backend.\n"
     ]
    }
   ],
   "source": [
    "import numpy as np\n",
    "#np.random.seed(1337)  # for reproducibility\n",
    "from time import time\n",
    "from datetime import datetime\n",
    "from sklearn import preprocessing\n",
    "import sys\n",
    "print(sys.path)\n",
    "sys.path.append(\"/home/rgadea/lmfit-py/\")\n",
    "import seaborn as sns\n",
    "from keras.datasets import mnist\n",
    "from keras.models import Model, Sequential\n",
    "from keras.layers import Input, Dense, Dropout, Activation, Flatten\n",
    "from keras.layers import Conv2D, MaxPooling2D,BatchNormalization\n",
    "from keras.callbacks import TensorBoard, EarlyStopping, ModelCheckpoint\n",
    "from keras.utils import np_utils\n",
    "from keras import regularizers\n",
    "from math import floor\n",
    "from lmfit.models import  GaussianModel\n",
    "import matplotlib.pyplot as plt"
   ]
  },
  {
   "cell_type": "markdown",
   "metadata": {},
   "source": [
    "## Vamos introducir los datos de petalo preprocesados en pyhton\n"
   ]
  },
  {
   "cell_type": "code",
   "execution_count": 2,
   "metadata": {},
   "outputs": [
    {
     "name": "stdout",
     "output_type": "stream",
     "text": [
      "(22703, 3518)\n"
     ]
    }
   ],
   "source": [
    "import scipy.io as sio\n",
    "import hdf5storage\n",
    "# datos_matlab = hdf5storage.loadmat('../datos_junio_2019/conjunto_entrenamiento_junio_2019_pitch7mm_rad165mm_29_total.mat')\n",
    "npzfile = np.load('../conjuntos_datos_reconstruidos/fil1_pith7mm_rad165mm_scaled2_sig_sig_1200.npz')\n",
    "npzfile.files\n",
    "\n",
    "conjunto_datos1= npzfile['arr_1']\n",
    "npzfile = np.load('../conjuntos_datos_reconstruidos/fil2_pith7mm_rad165mm_scaled2_sig_sig_1200.npz')\n",
    "npzfile.files\n",
    "\n",
    "conjunto_datos2= npzfile['arr_1']\n",
    "\n",
    "conjunto_datos=np.concatenate((conjunto_datos1,conjunto_datos2), axis=0)\n",
    "print(conjunto_datos.shape)"
   ]
  },
  {
   "cell_type": "markdown",
   "metadata": {},
   "source": [
    "## Network parameters:"
   ]
  },
  {
   "cell_type": "code",
   "execution_count": 3,
   "metadata": {},
   "outputs": [],
   "source": [
    "batch_size = 500\n",
    "nb_classes = 10\n",
    "nb_epoch = 150\n",
    "\n",
    "# input image dimensions\n",
    "img_rows, img_cols = 16, 30\n",
    "# number of convolutional filters to use\n",
    "nb_filters = 32\n",
    "# size of pooling area for max pooling\n",
    "pool_size = (2, 2)\n",
    "# convolution kernel size\n",
    "kernel_size = (4, 4)"
   ]
  },
  {
   "cell_type": "markdown",
   "metadata": {},
   "source": [
    "## Prepare data into training and test set."
   ]
  },
  {
   "cell_type": "code",
   "execution_count": 4,
   "metadata": {},
   "outputs": [
    {
     "name": "stdout",
     "output_type": "stream",
     "text": [
      "22703\n",
      "conjunto_datos shape: (22703, 3518)\n",
      "194.99941139023045\n"
     ]
    },
    {
     "name": "stderr",
     "output_type": "stream",
     "text": [
      "/home/rgadea3/anaconda3/envs/tensorflow/lib/python3.6/site-packages/matplotlib/axes/_axes.py:6462: UserWarning: The 'normed' kwarg is deprecated, and has been replaced by the 'density' kwarg.\n",
      "  warnings.warn(\"The 'normed' kwarg is deprecated, and has been \"\n"
     ]
    },
    {
     "data": {
      "image/png": "[encoded data removed]",
      "text/plain": [
       "<Figure size 432x288 with 1 Axes>"
      ]
     },
     "metadata": {},
     "output_type": "display_data"
    }
   ],
   "source": [
    "# the data, shuffled and split between train and test sets\n",
    "# (X_train, y_train), (X_test, y_test) = mnist.load_data()\n",
    "# conjunto_datos=photodefbox2_todo_e\n",
    "numero_muestras=conjunto_datos.shape[0]\n",
    "print(numero_muestras)\n",
    "print('conjunto_datos shape:', conjunto_datos.shape)\n",
    "maxInColumns = np.amax(conjunto_datos, axis=0)\n",
    "print (maxInColumns[1])\n",
    "n, bins, patches = plt.hist(conjunto_datos[:,1], 400, normed=0, facecolor='green', alpha=0.75)\n"
   ]
  },
  {
   "cell_type": "code",
   "execution_count": 5,
   "metadata": {},
   "outputs": [
    {
     "name": "stdout",
     "output_type": "stream",
     "text": [
      "13621\n",
      "4540\n",
      "4542\n",
      "(1896, 3500)\n",
      "(851, 3500)\n",
      "(586, 3500)\n",
      "(585, 3500)\n",
      "(624, 3500)\n"
     ]
    }
   ],
   "source": [
    "tr_size=60\n",
    "val_size=20\n",
    "test_size=100-val_size-tr_size\n",
    "\n",
    "tamanyo_tr=floor(tr_size*numero_muestras/100)\n",
    "tamanyo_val=floor(val_size*numero_muestras/100)\n",
    "tamanyo_test=numero_muestras-tamanyo_tr-tamanyo_val\n",
    "print(tamanyo_tr)\n",
    "print(tamanyo_val)\n",
    "print(tamanyo_test)\n",
    "XY_test=conjunto_datos[tamanyo_tr+tamanyo_val:numero_muestras,:]\n",
    "XY_test_bin0=XY_test[np.where((XY_test[:,1]>=164.9999) * (XY_test[:,1]<171.000))]\n",
    "XY_test_bin1=XY_test[np.where((XY_test[:,1]>=171.000) * (XY_test[:,1]<177.000))]\n",
    "XY_test_bin2=XY_test[np.where((XY_test[:,1]>=177.000) * (XY_test[:,1]<183.0000))]\n",
    "XY_test_bin3=XY_test[np.where((XY_test[:,1]>=183.000) * (XY_test[:,1]<189.0000))]\n",
    "XY_test_bin4=XY_test[np.where((XY_test[:,1]>=189.0000))]\n",
    "\n",
    "X_train=conjunto_datos[:tamanyo_tr,6:3506]\n",
    "X_val=conjunto_datos[tamanyo_tr:tamanyo_tr+tamanyo_val,6:3506]\n",
    "X_test=conjunto_datos[tamanyo_tr+tamanyo_val:numero_muestras,6:3506]\n",
    "\n",
    "X_test_bin0=XY_test_bin0[:,6:3506]\n",
    "Y_test_bin0=XY_test_bin0[:,1]\n",
    "print(X_test_bin0.shape)\n",
    "X_test_bin1=XY_test_bin1[:,6:3506]\n",
    "Y_test_bin1=XY_test_bin1[:,1]\n",
    "print(X_test_bin1.shape)\n",
    "X_test_bin2=XY_test_bin2[:,6:3506]\n",
    "Y_test_bin2=XY_test_bin2[:,1]\n",
    "print(X_test_bin2.shape)\n",
    "X_test_bin3=XY_test_bin3[:,6:3506]\n",
    "Y_test_bin3=XY_test_bin3[:,1]\n",
    "print(X_test_bin3.shape)\n",
    "X_test_bin4=XY_test_bin4[:,6:3506]\n",
    "Y_test_bin4=XY_test_bin4[:,1]\n",
    "print(X_test_bin4.shape)\n",
    "\n",
    "\n",
    "\n",
    "Y_train=conjunto_datos[:tamanyo_tr,1] #elijo la coordenada radius\n",
    "Y_val=conjunto_datos[tamanyo_tr:tamanyo_tr+tamanyo_val,1] #elijo la corrdenada radius\n",
    "Y_test=conjunto_datos[tamanyo_tr+tamanyo_val:numero_muestras,1] #elijo la corrdenada radius"
   ]
  },
  {
   "cell_type": "code",
   "execution_count": 6,
   "metadata": {},
   "outputs": [],
   "source": [
    "img_cols=175\n",
    "img_rows=20\n",
    "\n",
    "X_train = X_train.reshape(X_train.shape[0], img_cols, img_rows,1)\n",
    "X_val = X_val.reshape(X_val.shape[0], img_cols, img_rows,1)\n",
    "X_test = X_test.reshape(X_test.shape[0], img_cols, img_rows,1)\n",
    "\n",
    "X_test_bin0 = X_test_bin0.reshape(X_test_bin0.shape[0], img_cols, img_rows,1)\n",
    "X_test_bin1 = X_test_bin1.reshape(X_test_bin1.shape[0], img_cols, img_rows,1)\n",
    "X_test_bin2 = X_test_bin2.reshape(X_test_bin2.shape[0], img_cols, img_rows,1)\n",
    "X_test_bin3 = X_test_bin3.reshape(X_test_bin3.shape[0], img_cols, img_rows,1)\n",
    "X_test_bin4 = X_test_bin4.reshape(X_test_bin4.shape[0], img_cols, img_rows,1)\n",
    "\n",
    "input_shape = (img_cols, img_rows,1)\n",
    "#input_shape=input_shape.astype('int32')"
   ]
  },
  {
   "cell_type": "code",
   "execution_count": 7,
   "metadata": {},
   "outputs": [
    {
     "name": "stdout",
     "output_type": "stream",
     "text": [
      "X_train shape: (13621, 175, 20, 1)\n",
      "13621 train samples\n",
      "4540 validation samples\n",
      "4542 test samples\n"
     ]
    }
   ],
   "source": [
    "X_train = X_train.astype('float32')\n",
    "X_val= X_val.astype('float32')\n",
    "X_test = X_test.astype('float32')\n",
    "\n",
    "print('X_train shape:', X_train.shape)\n",
    "print(X_train.shape[0], 'train samples')\n",
    "print(X_val.shape[0], 'validation samples')\n",
    "print(X_test.shape[0], 'test samples')"
   ]
  },
  {
   "cell_type": "markdown",
   "metadata": {},
   "source": [
    "Display 20 random training images using image"
   ]
  },
  {
   "cell_type": "code",
   "execution_count": 8,
   "metadata": {},
   "outputs": [
    {
     "data": {
      "image/png": "[encoded data removed]",
      "text/plain": [
       "<Figure size 432x288 with 1 Axes>"
      ]
     },
     "metadata": {},
     "output_type": "display_data"
    },
    {
     "data": {
      "image/png": "[encoded data removed]",
      "text/plain": [
       "<Figure size 432x288 with 1 Axes>"
      ]
     },
     "metadata": {},
     "output_type": "display_data"
    },
    {
     "data": {
      "image/png": "[encoded data removed]",
      "text/plain": [
       "<Figure size 432x288 with 1 Axes>"
      ]
     },
     "metadata": {},
     "output_type": "display_data"
    },
    {
     "data": {
      "image/png": "[encoded data removed]",
      "text/plain": [
       "<Figure size 432x288 with 1 Axes>"
      ]
     },
     "metadata": {},
     "output_type": "display_data"
    }
   ],
   "source": [
    "# convert class vectors to binary class matrices\n",
    "#Y_train = np_utils.to_categorical(y_train, nb_classes)\n",
    "#Y_test = np_utils.to_categorical(y_test, nb_classes)\n",
    "for i in range(1,5):\n",
    "    idea=np.random.randint(1,X_train.shape[0])\n",
    "    plt.imshow(np.reshape(X_train[idea].transpose(), [img_rows, img_cols]), cmap='viridis')\n",
    "    plt.show()"
   ]
  },
  {
   "cell_type": "markdown",
   "metadata": {},
   "source": [
    "## Build the CNN. "
   ]
  },
  {
   "cell_type": "code",
   "execution_count": 9,
   "metadata": {},
   "outputs": [],
   "source": [
    "model = Sequential()\n",
    "\n",
    "model.add(Conv2D(8, kernel_size=kernel_size,\n",
    "                        padding='same',\n",
    "                        input_shape=(img_cols,img_rows,1)))\n",
    "model.add(BatchNormalization())\n",
    "model.add(Activation('relu'))\n",
    "model.add(MaxPooling2D(pool_size=pool_size))\n",
    "\n",
    "model.add(Conv2D(16, kernel_size, padding='same'))\n",
    "model.add(BatchNormalization())\n",
    "model.add(Activation('relu'))\n",
    "model.add(MaxPooling2D(pool_size=pool_size))\n",
    "\n",
    "model.add(Conv2D(32, kernel_size, padding='same'))\n",
    "model.add(BatchNormalization())\n",
    "model.add(Activation('relu'))\n",
    "\n",
    "model.add(Conv2D(64, kernel_size, padding='same'))\n",
    "model.add(BatchNormalization())\n",
    "model.add(Activation('relu'))\n",
    "\n",
    "model.add(Dropout(0.2))\n",
    "model.add(Flatten())\n",
    "model.add(Dense(1))\n",
    "\n",
    "\n",
    "model.compile(loss='mean_squared_error',\n",
    "              optimizer='rmsPROP',\n",
    "              metrics=['mae','acc'])\n"
   ]
  },
  {
   "cell_type": "markdown",
   "metadata": {},
   "source": [
    "Show a summary of the model parameters. "
   ]
  },
  {
   "cell_type": "code",
   "execution_count": 10,
   "metadata": {
    "scrolled": true
   },
   "outputs": [
    {
     "name": "stdout",
     "output_type": "stream",
     "text": [
      "_________________________________________________________________\n",
      "Layer (type)                 Output Shape              Param #   \n",
      "=================================================================\n",
      "conv2d_1 (Conv2D)            (None, 175, 20, 8)        136       \n",
      "_________________________________________________________________\n",
      "batch_normalization_1 (Batch (None, 175, 20, 8)        32        \n",
      "_________________________________________________________________\n",
      "activation_1 (Activation)    (None, 175, 20, 8)        0         \n",
      "_________________________________________________________________\n",
      "max_pooling2d_1 (MaxPooling2 (None, 87, 10, 8)         0         \n",
      "_________________________________________________________________\n",
      "conv2d_2 (Conv2D)            (None, 87, 10, 16)        2064      \n",
      "_________________________________________________________________\n",
      "batch_normalization_2 (Batch (None, 87, 10, 16)        64        \n",
      "_________________________________________________________________\n",
      "activation_2 (Activation)    (None, 87, 10, 16)        0         \n",
      "_________________________________________________________________\n",
      "max_pooling2d_2 (MaxPooling2 (None, 43, 5, 16)         0         \n",
      "_________________________________________________________________\n",
      "conv2d_3 (Conv2D)            (None, 43, 5, 32)         8224      \n",
      "_________________________________________________________________\n",
      "batch_normalization_3 (Batch (None, 43, 5, 32)         128       \n",
      "_________________________________________________________________\n",
      "activation_3 (Activation)    (None, 43, 5, 32)         0         \n",
      "_________________________________________________________________\n",
      "conv2d_4 (Conv2D)            (None, 43, 5, 64)         32832     \n",
      "_________________________________________________________________\n",
      "batch_normalization_4 (Batch (None, 43, 5, 64)         256       \n",
      "_________________________________________________________________\n",
      "activation_4 (Activation)    (None, 43, 5, 64)         0         \n",
      "_________________________________________________________________\n",
      "dropout_1 (Dropout)          (None, 43, 5, 64)         0         \n",
      "_________________________________________________________________\n",
      "flatten_1 (Flatten)          (None, 13760)             0         \n",
      "_________________________________________________________________\n",
      "dense_1 (Dense)              (None, 1)                 13761     \n",
      "=================================================================\n",
      "Total params: 57,497\n",
      "Trainable params: 57,257\n",
      "Non-trainable params: 240\n",
      "_________________________________________________________________\n"
     ]
    }
   ],
   "source": [
    "model.summary()"
   ]
  },
  {
   "cell_type": "markdown",
   "metadata": {},
   "source": [
    "And now train the model and evaluate on the test set. "
   ]
  },
  {
   "cell_type": "code",
   "execution_count": 11,
   "metadata": {
    "scrolled": false
   },
   "outputs": [
    {
     "name": "stdout",
     "output_type": "stream",
     "text": [
      "Train on 13621 samples, validate on 4540 samples\n",
      "Epoch 1/150\n",
      "13621/13621 [==============================] - 6s 426us/step - loss: 6149.0614 - mean_absolute_error: 54.4957 - acc: 0.0000e+00 - val_loss: 879.9078 - val_mean_absolute_error: 28.6748 - val_acc: 0.0000e+00\n",
      "Epoch 2/150\n",
      "13621/13621 [==============================] - 3s 239us/step - loss: 40.2119 - mean_absolute_error: 4.6581 - acc: 0.0000e+00 - val_loss: 994.0560 - val_mean_absolute_error: 30.9800 - val_acc: 0.0000e+00\n",
      "Epoch 3/150\n",
      "13621/13621 [==============================] - 3s 251us/step - loss: 50.7445 - mean_absolute_error: 5.6020 - acc: 0.0000e+00 - val_loss: 28.1311 - val_mean_absolute_error: 4.1642 - val_acc: 0.0000e+00\n",
      "Epoch 4/150\n",
      "13621/13621 [==============================] - 3s 229us/step - loss: 30.8553 - mean_absolute_error: 4.4107 - acc: 0.0000e+00 - val_loss: 29.7640 - val_mean_absolute_error: 4.4070 - val_acc: 0.0000e+00\n",
      "Epoch 5/150\n",
      "13621/13621 [==============================] - 3s 237us/step - loss: 35.5666 - mean_absolute_error: 4.7771 - acc: 0.0000e+00 - val_loss: 79.8442 - val_mean_absolute_error: 8.1949 - val_acc: 0.0000e+00\n",
      "Epoch 6/150\n",
      "13621/13621 [==============================] - 3s 249us/step - loss: 30.9553 - mean_absolute_error: 4.4271 - acc: 0.0000e+00 - val_loss: 211.5661 - val_mean_absolute_error: 14.0428 - val_acc: 0.0000e+00\n",
      "Epoch 7/150\n",
      "13621/13621 [==============================] - 3s 222us/step - loss: 27.3271 - mean_absolute_error: 4.2169 - acc: 0.0000e+00 - val_loss: 275.0107 - val_mean_absolute_error: 16.1379 - val_acc: 0.0000e+00\n",
      "Epoch 8/150\n",
      "13621/13621 [==============================] - 3s 239us/step - loss: 27.9346 - mean_absolute_error: 4.1091 - acc: 0.0000e+00 - val_loss: 286.7255 - val_mean_absolute_error: 16.5762 - val_acc: 0.0000e+00\n",
      "Epoch 9/150\n",
      "13621/13621 [==============================] - 3s 229us/step - loss: 27.2526 - mean_absolute_error: 4.1819 - acc: 0.0000e+00 - val_loss: 805.9786 - val_mean_absolute_error: 28.1928 - val_acc: 0.0000e+00\n",
      "Epoch 10/150\n",
      "13621/13621 [==============================] - 3s 245us/step - loss: 26.8980 - mean_absolute_error: 4.0568 - acc: 0.0000e+00 - val_loss: 141.8678 - val_mean_absolute_error: 11.4112 - val_acc: 0.0000e+00\n",
      "Epoch 11/150\n",
      "13621/13621 [==============================] - 3s 245us/step - loss: 22.9114 - mean_absolute_error: 3.8830 - acc: 0.0000e+00 - val_loss: 160.5572 - val_mean_absolute_error: 12.2571 - val_acc: 0.0000e+00\n",
      "Epoch 12/150\n",
      "13621/13621 [==============================] - 3s 227us/step - loss: 25.7116 - mean_absolute_error: 3.9955 - acc: 0.0000e+00 - val_loss: 262.8265 - val_mean_absolute_error: 15.9062 - val_acc: 0.0000e+00\n",
      "Epoch 13/150\n",
      "13621/13621 [==============================] - 3s 239us/step - loss: 22.5902 - mean_absolute_error: 3.8671 - acc: 0.0000e+00 - val_loss: 20.9195 - val_mean_absolute_error: 3.9147 - val_acc: 0.0000e+00\n",
      "Epoch 14/150\n",
      "13621/13621 [==============================] - 3s 234us/step - loss: 25.5254 - mean_absolute_error: 4.1290 - acc: 0.0000e+00 - val_loss: 24.4384 - val_mean_absolute_error: 4.3150 - val_acc: 0.0000e+00\n",
      "Epoch 15/150\n",
      "13621/13621 [==============================] - 3s 239us/step - loss: 21.5897 - mean_absolute_error: 3.7599 - acc: 0.0000e+00 - val_loss: 10.0236 - val_mean_absolute_error: 2.2606 - val_acc: 0.0000e+00\n",
      "Epoch 16/150\n",
      "13621/13621 [==============================] - 3s 244us/step - loss: 25.8824 - mean_absolute_error: 4.2693 - acc: 0.0000e+00 - val_loss: 8.1360 - val_mean_absolute_error: 2.0105 - val_acc: 0.0000e+00\n",
      "Epoch 17/150\n",
      "13621/13621 [==============================] - 3s 246us/step - loss: 18.9701 - mean_absolute_error: 3.5512 - acc: 0.0000e+00 - val_loss: 126.1311 - val_mean_absolute_error: 10.8576 - val_acc: 0.0000e+00\n",
      "Epoch 18/150\n",
      "13621/13621 [==============================] - 3s 244us/step - loss: 25.7993 - mean_absolute_error: 3.9754 - acc: 0.0000e+00 - val_loss: 41.5725 - val_mean_absolute_error: 6.0556 - val_acc: 0.0000e+00\n",
      "Epoch 19/150\n",
      "13621/13621 [==============================] - 3s 233us/step - loss: 23.7423 - mean_absolute_error: 3.9940 - acc: 0.0000e+00 - val_loss: 16.2273 - val_mean_absolute_error: 3.4469 - val_acc: 0.0000e+00\n",
      "Epoch 20/150\n",
      "13621/13621 [==============================] - 3s 245us/step - loss: 18.8955 - mean_absolute_error: 3.4569 - acc: 0.0000e+00 - val_loss: 10.2109 - val_mean_absolute_error: 2.3571 - val_acc: 0.0000e+00\n",
      "Epoch 21/150\n",
      "13621/13621 [==============================] - 3s 226us/step - loss: 22.6466 - mean_absolute_error: 3.9829 - acc: 0.0000e+00 - val_loss: 39.8492 - val_mean_absolute_error: 5.6651 - val_acc: 0.0000e+00\n",
      "Epoch 22/150\n",
      "13621/13621 [==============================] - 3s 237us/step - loss: 22.5370 - mean_absolute_error: 3.9294 - acc: 0.0000e+00 - val_loss: 84.2122 - val_mean_absolute_error: 8.7562 - val_acc: 0.0000e+00\n",
      "Epoch 23/150\n",
      "13621/13621 [==============================] - 3s 229us/step - loss: 18.8072 - mean_absolute_error: 3.5039 - acc: 0.0000e+00 - val_loss: 101.4811 - val_mean_absolute_error: 9.6997 - val_acc: 0.0000e+00\n",
      "Epoch 24/150\n",
      "13621/13621 [==============================] - 3s 242us/step - loss: 20.4220 - mean_absolute_error: 3.7427 - acc: 0.0000e+00 - val_loss: 7.0508 - val_mean_absolute_error: 1.9578 - val_acc: 0.0000e+00\n",
      "Epoch 25/150\n",
      "13621/13621 [==============================] - 3s 238us/step - loss: 20.3105 - mean_absolute_error: 3.7124 - acc: 0.0000e+00 - val_loss: 12.2474 - val_mean_absolute_error: 2.6316 - val_acc: 0.0000e+00\n",
      "Epoch 26/150\n",
      "13621/13621 [==============================] - 3s 234us/step - loss: 23.5171 - mean_absolute_error: 3.8530 - acc: 0.0000e+00 - val_loss: 232.0637 - val_mean_absolute_error: 14.9555 - val_acc: 0.0000e+00\n",
      "Epoch 27/150\n",
      "13621/13621 [==============================] - 3s 223us/step - loss: 17.9619 - mean_absolute_error: 3.3982 - acc: 0.0000e+00 - val_loss: 34.0573 - val_mean_absolute_error: 5.4753 - val_acc: 0.0000e+00\n",
      "Epoch 28/150\n",
      "13621/13621 [==============================] - 3s 242us/step - loss: 19.2865 - mean_absolute_error: 3.5551 - acc: 0.0000e+00 - val_loss: 60.9697 - val_mean_absolute_error: 7.4315 - val_acc: 0.0000e+00\n",
      "Epoch 29/150\n",
      "13621/13621 [==============================] - 3s 245us/step - loss: 19.7585 - mean_absolute_error: 3.6271 - acc: 0.0000e+00 - val_loss: 71.4130 - val_mean_absolute_error: 8.0928 - val_acc: 0.0000e+00\n",
      "Epoch 30/150\n",
      "13621/13621 [==============================] - 3s 240us/step - loss: 19.3697 - mean_absolute_error: 3.6539 - acc: 0.0000e+00 - val_loss: 13.2217 - val_mean_absolute_error: 2.8837 - val_acc: 0.0000e+00\n",
      "Epoch 31/150\n",
      "13621/13621 [==============================] - 3s 243us/step - loss: 20.7229 - mean_absolute_error: 3.5772 - acc: 0.0000e+00 - val_loss: 7.9669 - val_mean_absolute_error: 2.0332 - val_acc: 0.0000e+00\n",
      "Epoch 32/150\n",
      "13621/13621 [==============================] - 3s 244us/step - loss: 21.5575 - mean_absolute_error: 3.9016 - acc: 0.0000e+00 - val_loss: 16.3844 - val_mean_absolute_error: 3.5642 - val_acc: 0.0000e+00\n",
      "Epoch 33/150\n",
      "13621/13621 [==============================] - 3s 246us/step - loss: 16.1741 - mean_absolute_error: 3.1852 - acc: 0.0000e+00 - val_loss: 21.7950 - val_mean_absolute_error: 4.2154 - val_acc: 0.0000e+00\n",
      "Epoch 34/150\n",
      "13621/13621 [==============================] - 3s 220us/step - loss: 20.5249 - mean_absolute_error: 3.7191 - acc: 0.0000e+00 - val_loss: 84.2579 - val_mean_absolute_error: 8.8478 - val_acc: 0.0000e+00\n",
      "Epoch 35/150\n",
      "13621/13621 [==============================] - 3s 235us/step - loss: 19.0376 - mean_absolute_error: 3.6621 - acc: 0.0000e+00 - val_loss: 111.3260 - val_mean_absolute_error: 10.2323 - val_acc: 0.0000e+00\n",
      "Epoch 36/150\n",
      "13621/13621 [==============================] - 3s 223us/step - loss: 20.7306 - mean_absolute_error: 3.8331 - acc: 0.0000e+00 - val_loss: 352.7326 - val_mean_absolute_error: 18.6385 - val_acc: 0.0000e+00\n",
      "Epoch 37/150\n",
      "13621/13621 [==============================] - 3s 243us/step - loss: 17.1718 - mean_absolute_error: 3.3874 - acc: 0.0000e+00 - val_loss: 33.8107 - val_mean_absolute_error: 5.4480 - val_acc: 0.0000e+00\n",
      "Epoch 38/150\n",
      "13621/13621 [==============================] - 3s 242us/step - loss: 18.8290 - mean_absolute_error: 3.6626 - acc: 0.0000e+00 - val_loss: 133.9464 - val_mean_absolute_error: 11.3491 - val_acc: 0.0000e+00\n"
     ]
    },
    {
     "name": "stdout",
     "output_type": "stream",
     "text": [
      "Epoch 39/150\n",
      "13621/13621 [==============================] - 3s 230us/step - loss: 21.2512 - mean_absolute_error: 3.7636 - acc: 0.0000e+00 - val_loss: 37.4899 - val_mean_absolute_error: 5.7699 - val_acc: 0.0000e+00\n",
      "Epoch 40/150\n",
      "13621/13621 [==============================] - 3s 247us/step - loss: 18.5936 - mean_absolute_error: 3.4114 - acc: 0.0000e+00 - val_loss: 57.7678 - val_mean_absolute_error: 7.2502 - val_acc: 0.0000e+00\n",
      "Epoch 41/150\n",
      "13621/13621 [==============================] - 3s 230us/step - loss: 18.4084 - mean_absolute_error: 3.5851 - acc: 0.0000e+00 - val_loss: 8.5475 - val_mean_absolute_error: 2.3594 - val_acc: 0.0000e+00\n",
      "Epoch 42/150\n",
      "13621/13621 [==============================] - 3s 236us/step - loss: 20.1283 - mean_absolute_error: 3.7390 - acc: 0.0000e+00 - val_loss: 28.0375 - val_mean_absolute_error: 4.9279 - val_acc: 0.0000e+00\n",
      "Epoch 43/150\n",
      "13621/13621 [==============================] - 3s 226us/step - loss: 18.2021 - mean_absolute_error: 3.5054 - acc: 0.0000e+00 - val_loss: 7.2948 - val_mean_absolute_error: 2.1201 - val_acc: 0.0000e+00\n",
      "Epoch 44/150\n",
      "13621/13621 [==============================] - 3s 233us/step - loss: 17.2188 - mean_absolute_error: 3.2462 - acc: 0.0000e+00 - val_loss: 38.0541 - val_mean_absolute_error: 5.8353 - val_acc: 0.0000e+00\n",
      "Epoch 45/150\n",
      "13621/13621 [==============================] - 3s 226us/step - loss: 18.3399 - mean_absolute_error: 3.5262 - acc: 0.0000e+00 - val_loss: 23.9129 - val_mean_absolute_error: 4.4877 - val_acc: 0.0000e+00\n",
      "Epoch 46/150\n",
      "13621/13621 [==============================] - 3s 242us/step - loss: 18.4272 - mean_absolute_error: 3.5380 - acc: 0.0000e+00 - val_loss: 5.3945 - val_mean_absolute_error: 1.5679 - val_acc: 0.0000e+00\n",
      "Epoch 47/150\n",
      "13621/13621 [==============================] - 3s 236us/step - loss: 18.4802 - mean_absolute_error: 3.5162 - acc: 0.0000e+00 - val_loss: 18.2713 - val_mean_absolute_error: 3.5627 - val_acc: 0.0000e+00\n",
      "Epoch 48/150\n",
      "13621/13621 [==============================] - 3s 239us/step - loss: 18.2837 - mean_absolute_error: 3.5836 - acc: 0.0000e+00 - val_loss: 12.4504 - val_mean_absolute_error: 3.0174 - val_acc: 0.0000e+00\n",
      "Epoch 49/150\n",
      "13621/13621 [==============================] - 3s 247us/step - loss: 13.1879 - mean_absolute_error: 2.9033 - acc: 0.0000e+00 - val_loss: 49.6805 - val_mean_absolute_error: 6.7182 - val_acc: 0.0000e+00\n",
      "Epoch 50/150\n",
      "13621/13621 [==============================] - 3s 237us/step - loss: 22.7346 - mean_absolute_error: 3.7366 - acc: 0.0000e+00 - val_loss: 11.6512 - val_mean_absolute_error: 2.7089 - val_acc: 0.0000e+00\n",
      "Epoch 51/150\n",
      "13621/13621 [==============================] - 3s 238us/step - loss: 15.6799 - mean_absolute_error: 3.2692 - acc: 0.0000e+00 - val_loss: 21.6202 - val_mean_absolute_error: 4.1569 - val_acc: 0.0000e+00\n",
      "Epoch 52/150\n",
      "13621/13621 [==============================] - 3s 240us/step - loss: 17.6251 - mean_absolute_error: 3.3642 - acc: 0.0000e+00 - val_loss: 6.0754 - val_mean_absolute_error: 1.7739 - val_acc: 0.0000e+00\n",
      "Epoch 53/150\n",
      "13621/13621 [==============================] - 3s 245us/step - loss: 19.1225 - mean_absolute_error: 3.6450 - acc: 0.0000e+00 - val_loss: 14.5937 - val_mean_absolute_error: 3.3322 - val_acc: 0.0000e+00\n",
      "Epoch 54/150\n",
      "13621/13621 [==============================] - 3s 245us/step - loss: 16.8851 - mean_absolute_error: 3.3330 - acc: 0.0000e+00 - val_loss: 9.3058 - val_mean_absolute_error: 2.4203 - val_acc: 0.0000e+00\n",
      "Epoch 55/150\n",
      "13621/13621 [==============================] - 3s 242us/step - loss: 16.1695 - mean_absolute_error: 3.1614 - acc: 0.0000e+00 - val_loss: 104.5910 - val_mean_absolute_error: 9.9346 - val_acc: 0.0000e+00\n",
      "Epoch 56/150\n",
      "13621/13621 [==============================] - 3s 232us/step - loss: 17.5609 - mean_absolute_error: 3.4141 - acc: 0.0000e+00 - val_loss: 15.7583 - val_mean_absolute_error: 3.0150 - val_acc: 0.0000e+00\n",
      "Epoch 57/150\n",
      "13621/13621 [==============================] - 3s 236us/step - loss: 18.3337 - mean_absolute_error: 3.6396 - acc: 0.0000e+00 - val_loss: 14.8943 - val_mean_absolute_error: 3.4168 - val_acc: 0.0000e+00\n",
      "Epoch 58/150\n",
      "13621/13621 [==============================] - 3s 234us/step - loss: 18.1412 - mean_absolute_error: 3.6002 - acc: 0.0000e+00 - val_loss: 5.7782 - val_mean_absolute_error: 1.6470 - val_acc: 0.0000e+00\n",
      "Epoch 59/150\n",
      "13621/13621 [==============================] - 3s 230us/step - loss: 13.3701 - mean_absolute_error: 2.9794 - acc: 0.0000e+00 - val_loss: 7.2092 - val_mean_absolute_error: 2.0285 - val_acc: 0.0000e+00\n",
      "Epoch 60/150\n",
      "13621/13621 [==============================] - 3s 245us/step - loss: 20.3982 - mean_absolute_error: 3.7408 - acc: 0.0000e+00 - val_loss: 47.9551 - val_mean_absolute_error: 6.5176 - val_acc: 0.0000e+00\n",
      "Epoch 61/150\n",
      "13621/13621 [==============================] - 3s 231us/step - loss: 15.6165 - mean_absolute_error: 3.1387 - acc: 0.0000e+00 - val_loss: 47.4461 - val_mean_absolute_error: 6.5422 - val_acc: 0.0000e+00\n",
      "Epoch 62/150\n",
      "13621/13621 [==============================] - 3s 243us/step - loss: 17.6254 - mean_absolute_error: 3.4742 - acc: 0.0000e+00 - val_loss: 15.6030 - val_mean_absolute_error: 3.5234 - val_acc: 0.0000e+00\n",
      "Epoch 63/150\n",
      "13621/13621 [==============================] - 3s 238us/step - loss: 15.8786 - mean_absolute_error: 2.9547 - acc: 0.0000e+00 - val_loss: 5.5788 - val_mean_absolute_error: 1.6926 - val_acc: 0.0000e+00\n",
      "Epoch 64/150\n",
      "13621/13621 [==============================] - 3s 241us/step - loss: 15.2253 - mean_absolute_error: 3.0765 - acc: 0.0000e+00 - val_loss: 11.2526 - val_mean_absolute_error: 2.8603 - val_acc: 0.0000e+00\n",
      "Epoch 65/150\n",
      "13621/13621 [==============================] - 3s 229us/step - loss: 19.9006 - mean_absolute_error: 3.4239 - acc: 0.0000e+00 - val_loss: 7.1289 - val_mean_absolute_error: 1.8884 - val_acc: 0.0000e+00\n",
      "Epoch 66/150\n",
      "13621/13621 [==============================] - 3s 233us/step - loss: 17.2062 - mean_absolute_error: 3.3371 - acc: 0.0000e+00 - val_loss: 7.2677 - val_mean_absolute_error: 2.0053 - val_acc: 0.0000e+00\n",
      "Epoch 67/150\n",
      "13621/13621 [==============================] - 3s 249us/step - loss: 15.3997 - mean_absolute_error: 2.9308 - acc: 0.0000e+00 - val_loss: 5.1474 - val_mean_absolute_error: 1.5431 - val_acc: 0.0000e+00\n",
      "Epoch 68/150\n",
      "13621/13621 [==============================] - 3s 242us/step - loss: 15.0539 - mean_absolute_error: 3.1406 - acc: 0.0000e+00 - val_loss: 9.3880 - val_mean_absolute_error: 2.3311 - val_acc: 0.0000e+00\n",
      "Epoch 69/150\n",
      "13621/13621 [==============================] - 3s 252us/step - loss: 18.3278 - mean_absolute_error: 3.6015 - acc: 0.0000e+00 - val_loss: 79.6761 - val_mean_absolute_error: 8.6883 - val_acc: 0.0000e+00\n",
      "Epoch 70/150\n",
      "13621/13621 [==============================] - 3s 244us/step - loss: 15.8095 - mean_absolute_error: 3.3502 - acc: 0.0000e+00 - val_loss: 18.0304 - val_mean_absolute_error: 3.8263 - val_acc: 0.0000e+00\n",
      "Epoch 71/150\n",
      "13621/13621 [==============================] - 3s 252us/step - loss: 17.4372 - mean_absolute_error: 3.3578 - acc: 0.0000e+00 - val_loss: 6.0813 - val_mean_absolute_error: 1.8485 - val_acc: 0.0000e+00\n",
      "Epoch 72/150\n",
      "13621/13621 [==============================] - 3s 250us/step - loss: 15.8064 - mean_absolute_error: 3.3062 - acc: 0.0000e+00 - val_loss: 12.2574 - val_mean_absolute_error: 2.9000 - val_acc: 0.0000e+00\n",
      "Epoch 73/150\n",
      "13621/13621 [==============================] - 3s 238us/step - loss: 17.6019 - mean_absolute_error: 3.3657 - acc: 0.0000e+00 - val_loss: 5.4939 - val_mean_absolute_error: 1.6714 - val_acc: 0.0000e+00\n",
      "Epoch 74/150\n",
      "13621/13621 [==============================] - 3s 218us/step - loss: 13.9156 - mean_absolute_error: 2.9227 - acc: 0.0000e+00 - val_loss: 165.4665 - val_mean_absolute_error: 12.6102 - val_acc: 0.0000e+00\n",
      "Epoch 75/150\n",
      "13621/13621 [==============================] - 3s 250us/step - loss: 16.4415 - mean_absolute_error: 3.2544 - acc: 0.0000e+00 - val_loss: 41.2450 - val_mean_absolute_error: 6.0183 - val_acc: 0.0000e+00\n",
      "Epoch 76/150\n",
      "13621/13621 [==============================] - 3s 228us/step - loss: 16.2433 - mean_absolute_error: 3.3427 - acc: 0.0000e+00 - val_loss: 29.9478 - val_mean_absolute_error: 5.0898 - val_acc: 0.0000e+00\n",
      "Epoch 77/150\n"
     ]
    },
    {
     "name": "stdout",
     "output_type": "stream",
     "text": [
      "13621/13621 [==============================] - 3s 236us/step - loss: 15.5893 - mean_absolute_error: 3.2410 - acc: 0.0000e+00 - val_loss: 4.7199 - val_mean_absolute_error: 1.5229 - val_acc: 0.0000e+00\n",
      "Epoch 78/150\n",
      "13621/13621 [==============================] - 3s 242us/step - loss: 18.0710 - mean_absolute_error: 3.2918 - acc: 0.0000e+00 - val_loss: 5.6199 - val_mean_absolute_error: 1.7936 - val_acc: 0.0000e+00\n",
      "Epoch 79/150\n",
      "13621/13621 [==============================] - 3s 245us/step - loss: 14.8676 - mean_absolute_error: 3.0681 - acc: 0.0000e+00 - val_loss: 53.6203 - val_mean_absolute_error: 6.8353 - val_acc: 0.0000e+00\n",
      "Epoch 80/150\n",
      "13621/13621 [==============================] - 3s 244us/step - loss: 18.0648 - mean_absolute_error: 3.4194 - acc: 0.0000e+00 - val_loss: 18.6403 - val_mean_absolute_error: 3.9364 - val_acc: 0.0000e+00\n",
      "Epoch 81/150\n",
      "13621/13621 [==============================] - 3s 232us/step - loss: 16.3813 - mean_absolute_error: 3.3712 - acc: 0.0000e+00 - val_loss: 4.6487 - val_mean_absolute_error: 1.4966 - val_acc: 0.0000e+00\n",
      "Epoch 82/150\n",
      "13621/13621 [==============================] - 3s 241us/step - loss: 16.0797 - mean_absolute_error: 3.2507 - acc: 0.0000e+00 - val_loss: 4.6062 - val_mean_absolute_error: 1.4559 - val_acc: 0.0000e+00\n",
      "Epoch 83/150\n",
      "13621/13621 [==============================] - 3s 245us/step - loss: 16.6279 - mean_absolute_error: 3.3397 - acc: 0.0000e+00 - val_loss: 14.7550 - val_mean_absolute_error: 3.2075 - val_acc: 0.0000e+00\n",
      "Epoch 84/150\n",
      "13621/13621 [==============================] - 3s 240us/step - loss: 16.6101 - mean_absolute_error: 3.3762 - acc: 0.0000e+00 - val_loss: 49.0533 - val_mean_absolute_error: 6.6842 - val_acc: 0.0000e+00\n",
      "Epoch 85/150\n",
      "13621/13621 [==============================] - 3s 244us/step - loss: 15.5151 - mean_absolute_error: 3.3007 - acc: 0.0000e+00 - val_loss: 5.3522 - val_mean_absolute_error: 1.5998 - val_acc: 0.0000e+00\n",
      "Epoch 86/150\n",
      "13621/13621 [==============================] - 3s 218us/step - loss: 17.2013 - mean_absolute_error: 3.4545 - acc: 0.0000e+00 - val_loss: 23.1388 - val_mean_absolute_error: 4.4409 - val_acc: 0.0000e+00\n",
      "Epoch 87/150\n",
      "13621/13621 [==============================] - 3s 227us/step - loss: 16.3657 - mean_absolute_error: 3.3996 - acc: 0.0000e+00 - val_loss: 6.6429 - val_mean_absolute_error: 1.9814 - val_acc: 0.0000e+00\n",
      "Epoch 88/150\n",
      "13621/13621 [==============================] - 3s 232us/step - loss: 14.4088 - mean_absolute_error: 2.9670 - acc: 0.0000e+00 - val_loss: 17.9203 - val_mean_absolute_error: 3.7603 - val_acc: 0.0000e+00\n",
      "Epoch 89/150\n",
      "13621/13621 [==============================] - 3s 248us/step - loss: 17.9066 - mean_absolute_error: 3.4349 - acc: 0.0000e+00 - val_loss: 9.9870 - val_mean_absolute_error: 2.5957 - val_acc: 0.0000e+00\n",
      "Epoch 90/150\n",
      "13621/13621 [==============================] - 3s 251us/step - loss: 14.4999 - mean_absolute_error: 3.0768 - acc: 0.0000e+00 - val_loss: 58.1762 - val_mean_absolute_error: 7.3585 - val_acc: 0.0000e+00\n",
      "Epoch 91/150\n",
      "13621/13621 [==============================] - 3s 235us/step - loss: 16.9230 - mean_absolute_error: 3.2970 - acc: 0.0000e+00 - val_loss: 5.8820 - val_mean_absolute_error: 1.7367 - val_acc: 0.0000e+00\n",
      "Epoch 92/150\n",
      "13621/13621 [==============================] - 3s 245us/step - loss: 14.3709 - mean_absolute_error: 3.1190 - acc: 0.0000e+00 - val_loss: 68.9991 - val_mean_absolute_error: 8.0870 - val_acc: 0.0000e+00\n",
      "Epoch 93/150\n",
      "13621/13621 [==============================] - 3s 247us/step - loss: 16.9094 - mean_absolute_error: 3.4917 - acc: 0.0000e+00 - val_loss: 22.1492 - val_mean_absolute_error: 4.3324 - val_acc: 0.0000e+00\n",
      "Epoch 94/150\n",
      "13621/13621 [==============================] - 3s 232us/step - loss: 14.3079 - mean_absolute_error: 2.9099 - acc: 0.0000e+00 - val_loss: 12.5114 - val_mean_absolute_error: 2.9303 - val_acc: 0.0000e+00\n",
      "Epoch 95/150\n",
      "13621/13621 [==============================] - 3s 239us/step - loss: 17.0974 - mean_absolute_error: 3.4346 - acc: 0.0000e+00 - val_loss: 93.7415 - val_mean_absolute_error: 9.4919 - val_acc: 0.0000e+00\n",
      "Epoch 96/150\n",
      "13621/13621 [==============================] - 3s 248us/step - loss: 16.4047 - mean_absolute_error: 3.3398 - acc: 0.0000e+00 - val_loss: 5.0372 - val_mean_absolute_error: 1.5296 - val_acc: 0.0000e+00\n",
      "Epoch 97/150\n",
      "13621/13621 [==============================] - 3s 245us/step - loss: 16.2542 - mean_absolute_error: 3.3473 - acc: 0.0000e+00 - val_loss: 5.2770 - val_mean_absolute_error: 1.6113 - val_acc: 0.0000e+00\n",
      "Epoch 98/150\n",
      "13621/13621 [==============================] - 3s 230us/step - loss: 16.5240 - mean_absolute_error: 3.2911 - acc: 0.0000e+00 - val_loss: 31.6357 - val_mean_absolute_error: 5.2335 - val_acc: 0.0000e+00\n",
      "Epoch 99/150\n",
      "13621/13621 [==============================] - 3s 241us/step - loss: 13.6668 - mean_absolute_error: 3.0082 - acc: 0.0000e+00 - val_loss: 110.9483 - val_mean_absolute_error: 10.3533 - val_acc: 0.0000e+00\n",
      "Epoch 100/150\n",
      "13621/13621 [==============================] - 3s 227us/step - loss: 16.4512 - mean_absolute_error: 3.3657 - acc: 0.0000e+00 - val_loss: 4.4420 - val_mean_absolute_error: 1.4557 - val_acc: 0.0000e+00\n",
      "Epoch 101/150\n",
      "13621/13621 [==============================] - 3s 243us/step - loss: 15.1299 - mean_absolute_error: 3.2790 - acc: 0.0000e+00 - val_loss: 7.6949 - val_mean_absolute_error: 1.9636 - val_acc: 0.0000e+00\n",
      "Epoch 102/150\n",
      "13621/13621 [==============================] - 3s 237us/step - loss: 17.0825 - mean_absolute_error: 3.4882 - acc: 0.0000e+00 - val_loss: 16.8077 - val_mean_absolute_error: 3.7262 - val_acc: 0.0000e+00\n",
      "Epoch 103/150\n",
      "13621/13621 [==============================] - 3s 238us/step - loss: 15.2289 - mean_absolute_error: 3.1923 - acc: 0.0000e+00 - val_loss: 5.4427 - val_mean_absolute_error: 1.7185 - val_acc: 0.0000e+00\n",
      "Epoch 104/150\n",
      "13621/13621 [==============================] - 3s 236us/step - loss: 16.1593 - mean_absolute_error: 3.2949 - acc: 0.0000e+00 - val_loss: 17.3577 - val_mean_absolute_error: 3.7290 - val_acc: 0.0000e+00\n",
      "Epoch 105/150\n",
      "13621/13621 [==============================] - 3s 244us/step - loss: 16.0450 - mean_absolute_error: 3.2983 - acc: 0.0000e+00 - val_loss: 4.9078 - val_mean_absolute_error: 1.5645 - val_acc: 0.0000e+00\n",
      "Epoch 106/150\n",
      "13621/13621 [==============================] - 3s 246us/step - loss: 13.4310 - mean_absolute_error: 2.7684 - acc: 0.0000e+00 - val_loss: 19.4920 - val_mean_absolute_error: 4.0039 - val_acc: 0.0000e+00\n",
      "Epoch 107/150\n",
      "13621/13621 [==============================] - 3s 238us/step - loss: 15.2726 - mean_absolute_error: 3.2292 - acc: 0.0000e+00 - val_loss: 18.6365 - val_mean_absolute_error: 3.9405 - val_acc: 0.0000e+00\n",
      "Epoch 108/150\n",
      "13621/13621 [==============================] - 3s 242us/step - loss: 15.8077 - mean_absolute_error: 3.2679 - acc: 0.0000e+00 - val_loss: 14.7412 - val_mean_absolute_error: 3.4548 - val_acc: 0.0000e+00\n",
      "Epoch 109/150\n",
      "13621/13621 [==============================] - 3s 238us/step - loss: 16.8262 - mean_absolute_error: 3.2931 - acc: 0.0000e+00 - val_loss: 82.0129 - val_mean_absolute_error: 8.8324 - val_acc: 0.0000e+00\n",
      "Epoch 110/150\n",
      "13621/13621 [==============================] - 3s 243us/step - loss: 13.7767 - mean_absolute_error: 3.0277 - acc: 0.0000e+00 - val_loss: 8.3512 - val_mean_absolute_error: 2.3852 - val_acc: 0.0000e+00\n",
      "Epoch 111/150\n",
      "13621/13621 [==============================] - 3s 237us/step - loss: 15.0810 - mean_absolute_error: 3.1164 - acc: 0.0000e+00 - val_loss: 11.2533 - val_mean_absolute_error: 2.8112 - val_acc: 0.0000e+00\n",
      "Epoch 112/150\n",
      "13621/13621 [==============================] - 3s 235us/step - loss: 13.3946 - mean_absolute_error: 2.8978 - acc: 0.0000e+00 - val_loss: 60.0448 - val_mean_absolute_error: 7.4398 - val_acc: 0.0000e+00\n",
      "Epoch 113/150\n",
      "13621/13621 [==============================] - 3s 244us/step - loss: 17.2229 - mean_absolute_error: 3.4403 - acc: 0.0000e+00 - val_loss: 29.6904 - val_mean_absolute_error: 5.0685 - val_acc: 0.0000e+00\n",
      "Epoch 114/150\n",
      "13621/13621 [==============================] - 3s 242us/step - loss: 13.9430 - mean_absolute_error: 2.9406 - acc: 0.0000e+00 - val_loss: 18.1786 - val_mean_absolute_error: 3.8105 - val_acc: 0.0000e+00\n",
      "Epoch 115/150\n"
     ]
    },
    {
     "name": "stdout",
     "output_type": "stream",
     "text": [
      "13621/13621 [==============================] - 3s 222us/step - loss: 14.7601 - mean_absolute_error: 3.2181 - acc: 0.0000e+00 - val_loss: 117.3068 - val_mean_absolute_error: 10.6167 - val_acc: 0.0000e+00\n",
      "Epoch 116/150\n",
      "13621/13621 [==============================] - 3s 248us/step - loss: 14.4943 - mean_absolute_error: 3.0905 - acc: 0.0000e+00 - val_loss: 14.2972 - val_mean_absolute_error: 3.2853 - val_acc: 0.0000e+00\n",
      "Epoch 117/150\n",
      "13621/13621 [==============================] - 3s 230us/step - loss: 16.6544 - mean_absolute_error: 3.4083 - acc: 0.0000e+00 - val_loss: 16.2208 - val_mean_absolute_error: 3.6446 - val_acc: 0.0000e+00\n",
      "Epoch 118/150\n",
      "13621/13621 [==============================] - 3s 228us/step - loss: 13.9412 - mean_absolute_error: 2.9258 - acc: 0.0000e+00 - val_loss: 8.5010 - val_mean_absolute_error: 2.4300 - val_acc: 0.0000e+00\n",
      "Epoch 119/150\n",
      "13621/13621 [==============================] - 3s 253us/step - loss: 14.3734 - mean_absolute_error: 3.0777 - acc: 0.0000e+00 - val_loss: 43.4004 - val_mean_absolute_error: 6.3297 - val_acc: 0.0000e+00\n",
      "Epoch 120/150\n",
      "13621/13621 [==============================] - 3s 225us/step - loss: 15.0059 - mean_absolute_error: 3.2031 - acc: 0.0000e+00 - val_loss: 8.5261 - val_mean_absolute_error: 2.4585 - val_acc: 0.0000e+00\n",
      "Epoch 121/150\n",
      "13621/13621 [==============================] - 3s 242us/step - loss: 14.8702 - mean_absolute_error: 3.1373 - acc: 0.0000e+00 - val_loss: 24.2850 - val_mean_absolute_error: 4.5525 - val_acc: 0.0000e+00\n",
      "Epoch 122/150\n",
      "13621/13621 [==============================] - 3s 227us/step - loss: 15.6360 - mean_absolute_error: 3.2486 - acc: 0.0000e+00 - val_loss: 10.4144 - val_mean_absolute_error: 2.5561 - val_acc: 0.0000e+00\n",
      "Epoch 123/150\n",
      "13621/13621 [==============================] - 3s 243us/step - loss: 14.4395 - mean_absolute_error: 3.1550 - acc: 0.0000e+00 - val_loss: 52.1741 - val_mean_absolute_error: 6.9833 - val_acc: 0.0000e+00\n",
      "Epoch 124/150\n",
      "13621/13621 [==============================] - 3s 234us/step - loss: 15.0131 - mean_absolute_error: 3.0140 - acc: 0.0000e+00 - val_loss: 21.1596 - val_mean_absolute_error: 4.2526 - val_acc: 0.0000e+00\n",
      "Epoch 125/150\n",
      "13621/13621 [==============================] - 3s 243us/step - loss: 12.7711 - mean_absolute_error: 2.9269 - acc: 0.0000e+00 - val_loss: 4.2456 - val_mean_absolute_error: 1.4132 - val_acc: 0.0000e+00\n",
      "Epoch 126/150\n",
      "13621/13621 [==============================] - 3s 234us/step - loss: 14.9220 - mean_absolute_error: 3.2316 - acc: 0.0000e+00 - val_loss: 4.3760 - val_mean_absolute_error: 1.4391 - val_acc: 0.0000e+00\n",
      "Epoch 127/150\n",
      "13621/13621 [==============================] - 3s 214us/step - loss: 15.7451 - mean_absolute_error: 3.3332 - acc: 0.0000e+00 - val_loss: 51.3888 - val_mean_absolute_error: 6.9029 - val_acc: 0.0000e+00\n",
      "Epoch 128/150\n",
      "13621/13621 [==============================] - 3s 220us/step - loss: 15.5495 - mean_absolute_error: 3.2913 - acc: 0.0000e+00 - val_loss: 5.5882 - val_mean_absolute_error: 1.7839 - val_acc: 0.0000e+00\n",
      "Epoch 129/150\n",
      "13621/13621 [==============================] - 3s 236us/step - loss: 13.9388 - mean_absolute_error: 3.0459 - acc: 0.0000e+00 - val_loss: 19.2430 - val_mean_absolute_error: 3.8614 - val_acc: 0.0000e+00\n",
      "Epoch 130/150\n",
      "13621/13621 [==============================] - 3s 244us/step - loss: 14.2712 - mean_absolute_error: 3.1515 - acc: 0.0000e+00 - val_loss: 6.4392 - val_mean_absolute_error: 1.8972 - val_acc: 0.0000e+00\n",
      "Epoch 131/150\n",
      "13621/13621 [==============================] - 3s 245us/step - loss: 13.7041 - mean_absolute_error: 3.0360 - acc: 0.0000e+00 - val_loss: 41.5900 - val_mean_absolute_error: 6.1244 - val_acc: 0.0000e+00\n",
      "Epoch 132/150\n",
      "13621/13621 [==============================] - 3s 241us/step - loss: 15.0131 - mean_absolute_error: 3.2014 - acc: 0.0000e+00 - val_loss: 4.2389 - val_mean_absolute_error: 1.3954 - val_acc: 0.0000e+00bsolute_error: 3.2295 - acc: 0.0000\n",
      "Epoch 133/150\n",
      "13621/13621 [==============================] - 3s 233us/step - loss: 14.1692 - mean_absolute_error: 2.9813 - acc: 0.0000e+00 - val_loss: 13.3833 - val_mean_absolute_error: 3.1025 - val_acc: 0.0000e+00\n",
      "Epoch 134/150\n",
      "13621/13621 [==============================] - 3s 244us/step - loss: 15.4833 - mean_absolute_error: 3.1797 - acc: 0.0000e+00 - val_loss: 14.1062 - val_mean_absolute_error: 3.1385 - val_acc: 0.0000e+00\n",
      "Epoch 135/150\n",
      "13621/13621 [==============================] - 3s 230us/step - loss: 14.4766 - mean_absolute_error: 3.1051 - acc: 0.0000e+00 - val_loss: 61.9844 - val_mean_absolute_error: 7.6663 - val_acc: 0.0000e+00\n",
      "Epoch 136/150\n",
      "13621/13621 [==============================] - 3s 215us/step - loss: 13.4840 - mean_absolute_error: 2.9975 - acc: 0.0000e+00 - val_loss: 6.6683 - val_mean_absolute_error: 2.0804 - val_acc: 0.0000e+00\n",
      "Epoch 137/150\n",
      "13621/13621 [==============================] - 3s 244us/step - loss: 14.3644 - mean_absolute_error: 3.0701 - acc: 0.0000e+00 - val_loss: 4.6665 - val_mean_absolute_error: 1.5204 - val_acc: 0.0000e+00\n",
      "Epoch 138/150\n",
      "13621/13621 [==============================] - 3s 232us/step - loss: 13.7802 - mean_absolute_error: 2.9344 - acc: 0.0000e+00 - val_loss: 4.1709 - val_mean_absolute_error: 1.3674 - val_acc: 0.0000e+00\n",
      "Epoch 139/150\n",
      "13621/13621 [==============================] - 3s 240us/step - loss: 13.6200 - mean_absolute_error: 3.0592 - acc: 0.0000e+00 - val_loss: 13.5745 - val_mean_absolute_error: 3.0403 - val_acc: 0.0000e+00\n",
      "Epoch 140/150\n",
      "13621/13621 [==============================] - 3s 221us/step - loss: 13.7286 - mean_absolute_error: 2.7637 - acc: 0.0000e+00 - val_loss: 5.3680 - val_mean_absolute_error: 1.6905 - val_acc: 0.0000e+00\n",
      "Epoch 141/150\n",
      "13621/13621 [==============================] - 3s 241us/step - loss: 12.9352 - mean_absolute_error: 2.9271 - acc: 0.0000e+00 - val_loss: 29.0508 - val_mean_absolute_error: 5.0583 - val_acc: 0.0000e+00\n",
      "Epoch 142/150\n",
      "13621/13621 [==============================] - 3s 232us/step - loss: 14.9711 - mean_absolute_error: 3.0880 - acc: 0.0000e+00 - val_loss: 16.2975 - val_mean_absolute_error: 3.4231 - val_acc: 0.0000e+00\n",
      "Epoch 143/150\n",
      "13621/13621 [==============================] - 3s 235us/step - loss: 14.3710 - mean_absolute_error: 3.0920 - acc: 0.0000e+00 - val_loss: 7.7863 - val_mean_absolute_error: 2.1479 - val_acc: 0.0000e+00\n",
      "Epoch 144/150\n",
      "13621/13621 [==============================] - 3s 230us/step - loss: 15.1329 - mean_absolute_error: 3.2103 - acc: 0.0000e+00 - val_loss: 17.9860 - val_mean_absolute_error: 3.6969 - val_acc: 0.0000e+00\n",
      "Epoch 145/150\n",
      "13621/13621 [==============================] - 3s 242us/step - loss: 13.0519 - mean_absolute_error: 2.9022 - acc: 0.0000e+00 - val_loss: 5.1978 - val_mean_absolute_error: 1.6321 - val_acc: 0.0000e+00\n",
      "Epoch 146/150\n",
      "13621/13621 [==============================] - 3s 233us/step - loss: 14.4072 - mean_absolute_error: 3.0840 - acc: 0.0000e+00 - val_loss: 6.4843 - val_mean_absolute_error: 1.9443 - val_acc: 0.0000e+00\n",
      "Epoch 147/150\n",
      "13621/13621 [==============================] - 3s 241us/step - loss: 15.6613 - mean_absolute_error: 3.2203 - acc: 0.0000e+00 - val_loss: 24.1702 - val_mean_absolute_error: 4.4687 - val_acc: 0.0000e+00\n",
      "Epoch 148/150\n",
      "13621/13621 [==============================] - 3s 245us/step - loss: 14.5827 - mean_absolute_error: 3.1944 - acc: 0.0000e+00 - val_loss: 18.5223 - val_mean_absolute_error: 3.8270 - val_acc: 0.0000e+00\n",
      "Epoch 149/150\n",
      "13621/13621 [==============================] - 3s 244us/step - loss: 14.6956 - mean_absolute_error: 3.1152 - acc: 0.0000e+00 - val_loss: 114.9409 - val_mean_absolute_error: 10.4989 - val_acc: 0.0000e+00\n",
      "Epoch 150/150\n",
      "13621/13621 [==============================] - 3s 240us/step - loss: 13.5434 - mean_absolute_error: 3.0235 - acc: 0.0000e+00 - val_loss: 22.8565 - val_mean_absolute_error: 4.4113 - val_acc: 0.0000e+00\n"
     ]
    }
   ],
   "source": [
    "history = model.fit(X_train, Y_train, batch_size=batch_size, epochs=nb_epoch,\n",
    "          verbose=1, validation_data=(X_val, Y_val))"
   ]
  },
  {
   "cell_type": "code",
   "execution_count": 12,
   "metadata": {},
   "outputs": [
    {
     "name": "stdout",
     "output_type": "stream",
     "text": [
      "Test mse: 23.997536278358908\n",
      "Test mae: 4.499439168532795\n",
      "[195.57137 171.2778  188.43283 170.7439  188.95537 196.9566  174.18861\n",
      " 192.13669 195.82158 198.66508]\n",
      "[189.61838646 168.72199634 180.99847038 168.69528274 186.26602127\n",
      " 190.87447955 170.73269039 187.83115017 193.39890731 192.06887669]\n",
      "[-5.95297889 -2.55580517 -7.43436043 -2.04861375 -2.68934677 -6.08212446\n",
      " -3.4559235  -4.30553806 -2.42267167 -6.59620815]\n"
     ]
    }
   ],
   "source": [
    "score = model.evaluate(X_test, Y_test, verbose=0)\n",
    "print('Test mse:', score[0])\n",
    "print('Test mae:', score[1])\n",
    "Y_test_predicted=model.predict(X_test)\n",
    "print(Y_test_predicted[:10].flatten())\n",
    "print(Y_test[:10])\n",
    "error_prediction=Y_test-Y_test_predicted.flatten()\n",
    "\n",
    "print(error_prediction[:10])"
   ]
  },
  {
   "cell_type": "code",
   "execution_count": 13,
   "metadata": {},
   "outputs": [
    {
     "data": {
      "image/png": "[encoded data removed]",
      "text/plain": [
       "<Figure size 432x288 with 1 Axes>"
      ]
     },
     "metadata": {},
     "output_type": "display_data"
    }
   ],
   "source": [
    "plt.plot(history.history['loss'])\n",
    "plt.plot(history.history['val_loss'])\n",
    "plt.title('model error')\n",
    "plt.ylabel('error')\n",
    "plt.xlabel('epoch')\n",
    "plt.legend(['train', 'test'], loc='upper left')\n",
    "plt.show()"
   ]
  },
  {
   "cell_type": "code",
   "execution_count": 14,
   "metadata": {
    "scrolled": true
   },
   "outputs": [],
   "source": [
    "#print(error_prediction)"
   ]
  },
  {
   "cell_type": "code",
   "execution_count": 15,
   "metadata": {
    "scrolled": true
   },
   "outputs": [
    {
     "name": "stderr",
     "output_type": "stream",
     "text": [
      "/home/rgadea3/anaconda3/envs/tensorflow/lib/python3.6/site-packages/matplotlib/axes/_axes.py:6462: UserWarning: The 'normed' kwarg is deprecated, and has been replaced by the 'density' kwarg.\n",
      "  warnings.warn(\"The 'normed' kwarg is deprecated, and has been \"\n"
     ]
    },
    {
     "data": {
      "image/png": "[encoded data removed]",
      "text/plain": [
       "<Figure size 432x288 with 1 Axes>"
      ]
     },
     "metadata": {},
     "output_type": "display_data"
    },
    {
     "name": "stdout",
     "output_type": "stream",
     "text": [
      "(400,)\n",
      "(401,)\n",
      "[[Model]]\n",
      "    Model(gaussian)\n",
      "[[Fit Statistics]]\n",
      "    # fitting method   = leastsq\n",
      "    # function evals   = 79\n",
      "    # data points      = 400\n",
      "    # variables        = 3\n",
      "    chi-square         = 8234.40228\n",
      "    reduced chi-square = 20.7415675\n",
      "    Akaike info crit   = 1215.84460\n",
      "    Bayesian info crit = 1227.81900\n",
      "[[Variables]]\n",
      "    amp:  111.278170 +/- 1.06000189 (0.95%) (init = 1000)\n",
      "    cen: -4.26484024 +/- 0.01777149 (0.42%) (init = 0)\n",
      "    wid:  2.28496622 +/- 0.02513268 (1.10%) (init = 1)\n",
      "[[Correlations]] (unreported correlations are < 0.100)\n",
      "    C(amp, wid) = -0.577\n",
      "\n"
     ]
    },
    {
     "data": {
      "image/png": "[encoded data removed]",
      "text/plain": [
       "<Figure size 432x288 with 1 Axes>"
      ]
     },
     "metadata": {},
     "output_type": "display_data"
    }
   ],
   "source": [
    "\n",
    "n, bins, patches = plt.hist(error_prediction, 400, normed=0, facecolor='green', alpha=0.75)\n",
    "plt.title(\"Histogram with 400 bins\")\n",
    "plt.show()\n",
    "x=bins[:400]\n",
    "y=n\n",
    "print(n.shape)\n",
    "print(bins.shape)\n",
    "from numpy import exp, loadtxt, pi, sqrt, log\n",
    "\n",
    "from lmfit import Model\n",
    "def gaussian(x, amp, cen, wid):\n",
    "    \"\"\"1-d gaussian: gaussian(x, amp, cen, wid)\"\"\"\n",
    "    return amp * exp(-((x-cen)/wid)**2 )\n",
    "\n",
    "\n",
    "gmodel = Model(gaussian)\n",
    "result = gmodel.fit(y, x=x, amp=1000, cen=0, wid=1)\n",
    "\n",
    "print(result.fit_report())\n",
    "\n",
    "plt.plot(x, y, 'bo')\n",
    "plt.plot(x, result.init_fit, 'k--')\n",
    "plt.plot(x, result.best_fit, 'r-')\n",
    "plt.show()\n",
    "\n",
    "\n",
    "\n"
   ]
  },
  {
   "cell_type": "code",
   "execution_count": 16,
   "metadata": {},
   "outputs": [],
   "source": [
    "FWHM=result.params['wid'].value*2*sqrt(log(2))"
   ]
  },
  {
   "cell_type": "code",
   "execution_count": 17,
   "metadata": {},
   "outputs": [
    {
     "name": "stdout",
     "output_type": "stream",
     "text": [
      "3.8047183185646527\n"
     ]
    }
   ],
   "source": [
    "print(FWHM)"
   ]
  },
  {
   "cell_type": "code",
   "execution_count": 18,
   "metadata": {},
   "outputs": [
    {
     "name": "stdout",
     "output_type": "stream",
     "text": [
      "[[171.2778 ]\n",
      " [170.7439 ]\n",
      " [174.18861]\n",
      " ...\n",
      " [170.23424]\n",
      " [174.71996]\n",
      " [173.10283]]\n"
     ]
    },
    {
     "name": "stderr",
     "output_type": "stream",
     "text": [
      "/home/rgadea3/anaconda3/envs/tensorflow/lib/python3.6/site-packages/matplotlib/axes/_axes.py:6462: UserWarning: The 'normed' kwarg is deprecated, and has been replaced by the 'density' kwarg.\n",
      "  warnings.warn(\"The 'normed' kwarg is deprecated, and has been \"\n"
     ]
    },
    {
     "name": "stdout",
     "output_type": "stream",
     "text": [
      "0.18766920342576926\n"
     ]
    },
    {
     "data": {
      "image/png": "[encoded data removed]",
      "text/plain": [
       "<Figure size 432x288 with 1 Axes>"
      ]
     },
     "metadata": {},
     "output_type": "display_data"
    }
   ],
   "source": [
    "Y_test_bin0_predicted=model.predict(X_test_bin0)\n",
    "print(Y_test_bin0_predicted)\n",
    "error_prediction_bin0=Y_test_bin0-Y_test_bin0_predicted.flatten()\n",
    "n, bins, patches = plt.hist(error_prediction_bin0, 400, normed=0, facecolor='green', alpha=0.75)\n",
    "\n",
    "x=bins[:400]\n",
    "y=n\n",
    "\n",
    "gmodel = Model(gaussian)\n",
    "result = gmodel.fit(y, x=x, amp=1000, cen=0, wid=1)\n",
    "FWHM_bin0=result.params['wid'].value*2*sqrt(log(2))\n",
    "print(FWHM_bin0)"
   ]
  },
  {
   "cell_type": "code",
   "execution_count": 19,
   "metadata": {},
   "outputs": [
    {
     "name": "stderr",
     "output_type": "stream",
     "text": [
      "/home/rgadea3/anaconda3/envs/tensorflow/lib/python3.6/site-packages/matplotlib/axes/_axes.py:6462: UserWarning: The 'normed' kwarg is deprecated, and has been replaced by the 'density' kwarg.\n",
      "  warnings.warn(\"The 'normed' kwarg is deprecated, and has been \"\n"
     ]
    },
    {
     "name": "stdout",
     "output_type": "stream",
     "text": [
      "0.22114085351833007\n"
     ]
    },
    {
     "data": {
      "image/png": "[encoded data removed]",
      "text/plain": [
       "<Figure size 432x288 with 1 Axes>"
      ]
     },
     "metadata": {},
     "output_type": "display_data"
    }
   ],
   "source": [
    "Y_test_bin1_predicted=model.predict(X_test_bin1)\n",
    "#print(Y_test_bin1_predicted)\n",
    "error_prediction_bin1=Y_test_bin1-Y_test_bin1_predicted.flatten()\n",
    "n, bins, patches = plt.hist(error_prediction_bin1, 400, normed=0, facecolor='green', alpha=0.75)\n",
    "\n",
    "x=bins[:400]\n",
    "y=n\n",
    "\n",
    "gmodel = Model(gaussian)\n",
    "result = gmodel.fit(y, x=x, amp=1000, cen=0, wid=1)\n",
    "FWHM_bin1=result.params['wid'].value*2*sqrt(log(2))\n",
    "print(FWHM_bin1)"
   ]
  },
  {
   "cell_type": "code",
   "execution_count": 20,
   "metadata": {
    "scrolled": true
   },
   "outputs": [
    {
     "name": "stderr",
     "output_type": "stream",
     "text": [
      "/home/rgadea3/anaconda3/envs/tensorflow/lib/python3.6/site-packages/matplotlib/axes/_axes.py:6462: UserWarning: The 'normed' kwarg is deprecated, and has been replaced by the 'density' kwarg.\n",
      "  warnings.warn(\"The 'normed' kwarg is deprecated, and has been \"\n"
     ]
    },
    {
     "name": "stdout",
     "output_type": "stream",
     "text": [
      "3.2108909953295677\n"
     ]
    },
    {
     "data": {
      "image/png": "[encoded data removed]",
      "text/plain": [
       "<Figure size 432x288 with 1 Axes>"
      ]
     },
     "metadata": {},
     "output_type": "display_data"
    }
   ],
   "source": [
    "Y_test_bin2_predicted=model.predict(X_test_bin2)\n",
    "#print(Y_test_bin2_predicted)\n",
    "error_prediction_bin2=Y_test_bin2-Y_test_bin2_predicted.flatten()\n",
    "n, bins, patches = plt.hist(error_prediction_bin2, 400, normed=0, facecolor='green', alpha=0.75)\n",
    "\n",
    "x=bins[:400]\n",
    "y=n\n",
    "\n",
    "gmodel = Model(gaussian)\n",
    "result = gmodel.fit(y, x=x, amp=1000, cen=0, wid=1)\n",
    "FWHM_bin2=result.params['wid'].value*2*sqrt(log(2))\n",
    "print(FWHM_bin2)"
   ]
  },
  {
   "cell_type": "code",
   "execution_count": 21,
   "metadata": {
    "scrolled": true
   },
   "outputs": [
    {
     "name": "stderr",
     "output_type": "stream",
     "text": [
      "/home/rgadea3/anaconda3/envs/tensorflow/lib/python3.6/site-packages/matplotlib/axes/_axes.py:6462: UserWarning: The 'normed' kwarg is deprecated, and has been replaced by the 'density' kwarg.\n",
      "  warnings.warn(\"The 'normed' kwarg is deprecated, and has been \"\n"
     ]
    },
    {
     "name": "stdout",
     "output_type": "stream",
     "text": [
      "3.5662651124300435\n"
     ]
    },
    {
     "data": {
      "image/png": "[encoded data removed]",
      "text/plain": [
       "<Figure size 432x288 with 1 Axes>"
      ]
     },
     "metadata": {},
     "output_type": "display_data"
    }
   ],
   "source": [
    "Y_test_bin3_predicted=model.predict(X_test_bin3)\n",
    "#print(Y_test_bin3_predicted)\n",
    "error_prediction_bin3=Y_test_bin3-Y_test_bin3_predicted.flatten()\n",
    "n, bins, patches = plt.hist(error_prediction_bin3, 400, normed=0, facecolor='green', alpha=0.75)\n",
    "\n",
    "x=bins[:400]\n",
    "y=n\n",
    "\n",
    "gmodel = Model(gaussian)\n",
    "result = gmodel.fit(y, x=x, amp=1000, cen=0, wid=1)\n",
    "FWHM_bin3=result.params['wid'].value*2*sqrt(log(2))\n",
    "print(FWHM_bin3)"
   ]
  },
  {
   "cell_type": "code",
   "execution_count": 22,
   "metadata": {
    "scrolled": true
   },
   "outputs": [
    {
     "name": "stderr",
     "output_type": "stream",
     "text": [
      "/home/rgadea3/anaconda3/envs/tensorflow/lib/python3.6/site-packages/matplotlib/axes/_axes.py:6462: UserWarning: The 'normed' kwarg is deprecated, and has been replaced by the 'density' kwarg.\n",
      "  warnings.warn(\"The 'normed' kwarg is deprecated, and has been \"\n"
     ]
    },
    {
     "name": "stdout",
     "output_type": "stream",
     "text": [
      "4.852060242359658\n",
      "3.5662651124300435\n",
      "3.2108909953295677\n",
      "0.22114085351833007\n",
      "0.18766920342576926\n"
     ]
    },
    {
     "data": {
      "image/png": "[encoded data removed]",
      "text/plain": [
       "<Figure size 432x288 with 1 Axes>"
      ]
     },
     "metadata": {},
     "output_type": "display_data"
    }
   ],
   "source": [
    "Y_test_bin4_predicted=model.predict(X_test_bin4)\n",
    "#print(Y_test_bin4_predicted)\n",
    "error_prediction_bin4=Y_test_bin4-Y_test_bin4_predicted.flatten()\n",
    "n, bins, patches = plt.hist(error_prediction_bin4, 400, normed=0, facecolor='green', alpha=0.75)\n",
    "\n",
    "x=bins[:400]\n",
    "y=n\n",
    "\n",
    "gmodel = Model(gaussian)\n",
    "result = gmodel.fit(y, x=x, amp=1000, cen=0, wid=1)\n",
    "FWHM_bin4=result.params['wid'].value*2*sqrt(log(2))\n",
    "print(FWHM_bin4)\n",
    "print(FWHM_bin3)\n",
    "print(FWHM_bin2)\n",
    "print(FWHM_bin1)\n",
    "print(FWHM_bin0)"
   ]
  },
  {
   "cell_type": "code",
   "execution_count": null,
   "metadata": {},
   "outputs": [],
   "source": []
  }
 ],
 "metadata": {
  "anaconda-cloud": {},
  "kernelspec": {
   "display_name": "Python [conda env:tensorflow]",
   "language": "python",
   "name": "conda-env-tensorflow-py"
  },
  "language_info": {
   "codemirror_mode": {
    "name": "ipython",
    "version": 3
   },
   "file_extension": ".py",
   "mimetype": "text/x-python",
   "name": "python",
   "nbconvert_exporter": "python",
   "pygments_lexer": "ipython3",
   "version": "3.6.5"
  },
  "varInspector": {
   "cols": {
    "lenName": 16,
    "lenType": 16,
    "lenVar": 40
   },
   "kernels_config": {
    "python": {
     "delete_cmd_postfix": "",
     "delete_cmd_prefix": "del ",
     "library": "var_list.py",
     "varRefreshCmd": "print(var_dic_list())"
    },
    "r": {
     "delete_cmd_postfix": ") ",
     "delete_cmd_prefix": "rm(",
     "library": "var_list.r",
     "varRefreshCmd": "cat(var_dic_list()) "
    }
   },
   "position": {
    "height": "495px",
    "left": "909px",
    "right": "57px",
    "top": "246px",
    "width": "800px"
   },
   "types_to_exclude": [
    "module",
    "function",
    "builtin_function_or_method",
    "instance",
    "_Feature"
   ],
   "window_display": false
  }
 },
 "nbformat": 4,
 "nbformat_minor": 1
}
