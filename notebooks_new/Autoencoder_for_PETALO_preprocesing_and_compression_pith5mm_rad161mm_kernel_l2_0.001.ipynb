{
 "cells": [
  {
   "cell_type": "markdown",
   "metadata": {},
   "source": [
    "# Simple AUTOENCODER for PETALO\n",
    "\n",
    "Esta red la vamos a utilizar para obtener el radio "
   ]
  },
  {
   "cell_type": "code",
   "execution_count": 1,
   "metadata": {},
   "outputs": [
    {
     "name": "stdout",
     "output_type": "stream",
     "text": [
      "['', '/home/rgadea3/anaconda3/envs/tensorflow/lib/python36.zip', '/home/rgadea3/anaconda3/envs/tensorflow/lib/python3.6', '/home/rgadea3/anaconda3/envs/tensorflow/lib/python3.6/lib-dynload', '/home/rgadea3/anaconda3/envs/tensorflow/lib/python3.6/site-packages', '/home/rgadea3/anaconda3/envs/tensorflow/lib/python3.6/site-packages/IPython/extensions', '/home/rgadea3/.ipython']\n"
     ]
    },
    {
     "name": "stderr",
     "output_type": "stream",
     "text": [
      "Using TensorFlow backend.\n"
     ]
    }
   ],
   "source": [
    "import numpy as np\n",
    "#np.random.seed(1337)  # for reproducibility\n",
    "from time import time\n",
    "from sklearn import preprocessing\n",
    "import sys\n",
    "print(sys.path)\n",
    "sys.path.append(\"/home/rgadea/lmfit-py/\")\n",
    "import seaborn as sns\n",
    "from keras.datasets import mnist\n",
    "from keras.models import Model, Sequential\n",
    "from keras.layers import Input, Dense, Dropout, Activation, Flatten\n",
    "from keras.layers import Conv2D, MaxPooling2D,BatchNormalization\n",
    "from keras.callbacks import TensorBoard, EarlyStopping, ModelCheckpoint\n",
    "from keras.utils import np_utils\n",
    "from keras import regularizers\n",
    "from math import floor\n",
    "#from lmfit.models import  GaussianModel\n",
    "import matplotlib.pyplot as plt"
   ]
  },
  {
   "cell_type": "markdown",
   "metadata": {},
   "source": [
    "## Vamos introducir los datos de petalo preprocesados en matlab\n"
   ]
  },
  {
   "cell_type": "code",
   "execution_count": 2,
   "metadata": {},
   "outputs": [
    {
     "data": {
      "text/plain": [
       "(66498, 640)"
      ]
     },
     "execution_count": 2,
     "metadata": {},
     "output_type": "execute_result"
    }
   ],
   "source": [
    "import scipy.io as sio\n",
    "import hdf5storage\n",
    "datos_matlab = hdf5storage.loadmat('../datos_octubre_2018/conjunto_entrenamiento_octubre_2018_red_pitch5mm_rad161mm_total.mat')\n",
    "conjunto_datos= datos_matlab.get('photodefA')\n",
    "conjunto_datos.shape"
   ]
  },
  {
   "cell_type": "code",
   "execution_count": 3,
   "metadata": {},
   "outputs": [
    {
     "data": {
      "text/plain": [
       "(6320, 3840)"
      ]
     },
     "execution_count": 3,
     "metadata": {},
     "output_type": "execute_result"
    }
   ],
   "source": [
    "import os\n",
    "import pandas as pd\n",
    "dir_name='../datos_octubre_2018'\n",
    "base_filename='p_OF_5mm_161mm'\n",
    "filename_suffix='.h5'\n",
    "file=os.path.join(dir_name, base_filename+ \"{0:03d}\".format(0) + filename_suffix)\n",
    "conjunto_datos_waves=pd.read_hdf(file,'MC')\n",
    "datos_waves=conjunto_datos_waves.values\n",
    "datos_waves.shape"
   ]
  },
  {
   "cell_type": "code",
   "execution_count": 4,
   "metadata": {
    "scrolled": true
   },
   "outputs": [
    {
     "data": {
      "text/plain": [
       "(12641, 3840)"
      ]
     },
     "execution_count": 4,
     "metadata": {},
     "output_type": "execute_result"
    }
   ],
   "source": [
    "for i in range(1,2):\n",
    "    file=os.path.join(dir_name, base_filename+ \"{0:03d}\".format(i) + filename_suffix)\n",
    "    #print(file)\n",
    "    veamos=pd.read_hdf(file,'MC')\n",
    "    veamos_array=veamos.values\n",
    "    datos_waves=np.concatenate((datos_waves,veamos_array),axis=0)\n",
    "datos_waves.shape"
   ]
  },
  {
   "cell_type": "code",
   "execution_count": 5,
   "metadata": {},
   "outputs": [
    {
     "name": "stdout",
     "output_type": "stream",
     "text": [
      "(12641, 3840)\n"
     ]
    }
   ],
   "source": [
    "L1A=6;\n",
    "# hay tres L1 con 640 sensores (40*16)\n",
    "# input image dimensions\n",
    "img_rows, img_cols = 16, 40\n",
    "\n",
    "X_trained=datos_waves;\n",
    "x_trained=X_trained;\n",
    "\n",
    "for i in range (X_trained.shape[0]):\n",
    "    idea1=X_trained[i,:].reshape(img_rows,(L1A*img_cols));\n",
    "    ideat=idea1.transpose();\n",
    "    idea2=ideat.reshape(1,(L1A*img_cols)*img_rows);\n",
    "    x_trained[i,:] =idea2;\n",
    "\n",
    "print(x_trained.shape)\n"
   ]
  },
  {
   "cell_type": "code",
   "execution_count": 6,
   "metadata": {},
   "outputs": [],
   "source": [
    "input_output_dim_A=img_rows*img_cols\n",
    "ideaA=np.zeros((L1A,input_output_dim_A))\n",
    "\n",
    "conjunto_datos=np.zeros((x_trained.shape[0]*L1A,input_output_dim_A))\n",
    "for i in range(x_trained.shape[0]):\n",
    "    for k in range(L1A):\n",
    "        ideaA[k,:]=x_trained[i,k*input_output_dim_A:k*input_output_dim_A+input_output_dim_A]\n",
    "    conjunto_datos[(i)*L1A :(i+1)*L1A,:] = ideaA    \n",
    "    \n",
    "\n",
    "  "
   ]
  },
  {
   "cell_type": "code",
   "execution_count": null,
   "metadata": {},
   "outputs": [],
   "source": []
  },
  {
   "cell_type": "markdown",
   "metadata": {},
   "source": [
    "## Network parameters:"
   ]
  },
  {
   "cell_type": "code",
   "execution_count": 7,
   "metadata": {},
   "outputs": [],
   "source": [
    "use_regularizer = True\n",
    "my_regularizer = None\n",
    "my_epochs = 50\n",
    "features_path = 'simple_autoe_features.pickle'\n",
    "labels_path = 'simple_autoe_labels.pickle'\n",
    "\n",
    "if use_regularizer:\n",
    "    # add a sparsity constraint on the encoded representations\n",
    "    # note use of 10e-5 leads to blurred results\n",
    "    my_regularizer = regularizers.l2(0.001)\n",
    "    # and a larger number of epochs as the added regularization the model\n",
    "    # is less likely to overfit and can be trained longer\n",
    "    my_epochs = 100\n",
    "    features_path = 'sparse_autoe_features.pickle'\n",
    "    labels_path = 'sparse_autoe_labels.pickle'\n",
    "\n",
    "   \n",
    "    \n",
    "encoding_dim = 320  # 32 floats -> compression of factor 24.5, assuming the input is 784 floats\n",
    "\n",
    "\n",
    "# this is our input placeholder\n",
    "\n",
    "input_img = Input(shape=(img_rows*img_cols,))\n",
    "\n",
    "# \"encoded\" is the encoded representation of the input\n",
    "encoded = Dense(encoding_dim, activation='sigmoid',kernel_regularizer=regularizers.l2(0.001), use_bias=True,bias_initializer='random_uniform')(input_img)\n",
    "# \"decoded\" is the lossy reconstruction of the input\n",
    "decoded = Dense(img_cols*img_rows, activation='linear',use_bias=True,bias_initializer='random_uniform')(encoded)\n",
    "\n",
    "# this model maps an input to its reconstruction\n",
    "\n",
    "\n",
    "#autoencoder=Sequential([\n",
    "#    Dense(encoding_dim, kernel_regularizer=regularizers.l2(0.001), use_bias=True,bias_initializer='random_uniform',input_shape=(640,)),\n",
    "#    Activation('sigmoid'),\n",
    "#    Dense(img_cols*img_rows, use_bias=True,bias_initializer='random_uniform'),\n",
    "#    Activation('linear'),\n",
    "#])\n",
    "\n",
    "autoencoder = Model(input_img, decoded)"
   ]
  },
  {
   "cell_type": "markdown",
   "metadata": {},
   "source": [
    "## Prepare data into training and test set."
   ]
  },
  {
   "cell_type": "code",
   "execution_count": 8,
   "metadata": {},
   "outputs": [
    {
     "name": "stdout",
     "output_type": "stream",
     "text": [
      "75846\n",
      "conjunto_datos shape: (75846, 640)\n",
      "45507\n",
      "15169\n",
      "15170\n"
     ]
    }
   ],
   "source": [
    "# the data, shuffled and split between train and test sets\n",
    "# (X_train, y_train), (X_test, y_test) = mnist.load_data()\n",
    "numero_muestras=conjunto_datos.shape[0]\n",
    "print(numero_muestras)\n",
    "print('conjunto_datos shape:', conjunto_datos.shape)\n",
    "\n",
    "tr_size=60\n",
    "val_size=20\n",
    "test_size=100-val_size-tr_size\n",
    "\n",
    "tamanyo_tr=floor(tr_size*numero_muestras/100)\n",
    "tamanyo_val=floor(val_size*numero_muestras/100)\n",
    "tamanyo_test=numero_muestras-tamanyo_tr-tamanyo_val\n",
    "print(tamanyo_tr)\n",
    "print(tamanyo_val)\n",
    "print(tamanyo_test)\n",
    "\n",
    "\n",
    "X_train=conjunto_datos[:tamanyo_tr,:]\n",
    "X_val=conjunto_datos[tamanyo_tr:tamanyo_tr+tamanyo_val,:]\n",
    "X_test=conjunto_datos[tamanyo_tr+tamanyo_val:numero_muestras,:]\n",
    "\n",
    "\n",
    "\n",
    "\n",
    "\n",
    "Y_train=conjunto_datos[:tamanyo_tr,1] #elijo la coordenada radius\n",
    "Y_val=conjunto_datos[tamanyo_tr:tamanyo_tr+tamanyo_val,1] #elijo la corrdenada radius\n",
    "Y_test=conjunto_datos[tamanyo_tr+tamanyo_val:numero_muestras,1] #elijo la corrdenada radius"
   ]
  },
  {
   "cell_type": "code",
   "execution_count": 9,
   "metadata": {},
   "outputs": [],
   "source": [
    "X_train = X_train.reshape(X_train.shape[0], img_cols, img_rows,1)\n",
    "X_val = X_val.reshape(X_val.shape[0], img_cols, img_rows,1)\n",
    "X_test = X_test.reshape(X_test.shape[0], img_cols, img_rows,1)\n",
    "\n",
    "\n",
    "input_shape = (img_cols, img_rows,1)\n",
    "#input_shape=input_shape.astype('int32')"
   ]
  },
  {
   "cell_type": "code",
   "execution_count": 10,
   "metadata": {},
   "outputs": [
    {
     "name": "stdout",
     "output_type": "stream",
     "text": [
      "X_train shape: (45507, 40, 16, 1)\n",
      "45507 train samples\n",
      "15169 validation samples\n",
      "15170 test samples\n"
     ]
    }
   ],
   "source": [
    "X_train = X_train.astype('float32')\n",
    "X_val= X_val.astype('float32')\n",
    "X_test = X_test.astype('float32')\n",
    "\n",
    "print('X_train shape:', X_train.shape)\n",
    "print(X_train.shape[0], 'train samples')\n",
    "print(X_val.shape[0], 'validation samples')\n",
    "print(X_test.shape[0], 'test samples')"
   ]
  },
  {
   "cell_type": "markdown",
   "metadata": {},
   "source": [
    "Display 20 random training images using image"
   ]
  },
  {
   "cell_type": "code",
   "execution_count": 11,
   "metadata": {},
   "outputs": [
    {
     "data": {
      "image/png": "[encoded data removed]",
      "text/plain": [
       "<Figure size 432x288 with 1 Axes>"
      ]
     },
     "metadata": {},
     "output_type": "display_data"
    },
    {
     "data": {
      "image/png": "[encoded data removed]",
      "text/plain": [
       "<Figure size 432x288 with 1 Axes>"
      ]
     },
     "metadata": {},
     "output_type": "display_data"
    },
    {
     "data": {
      "image/png": "[encoded data removed]",
      "text/plain": [
       "<Figure size 432x288 with 1 Axes>"
      ]
     },
     "metadata": {},
     "output_type": "display_data"
    },
    {
     "data": {
      "image/png": "[encoded data removed]",
      "text/plain": [
       "<Figure size 432x288 with 1 Axes>"
      ]
     },
     "metadata": {},
     "output_type": "display_data"
    }
   ],
   "source": [
    "# convert class vectors to binary class matrices\n",
    "#Y_train = np_utils.to_categorical(y_train, nb_classes)\n",
    "#Y_test = np_utils.to_categorical(y_test, nb_classes)\n",
    "for i in range(1,5):\n",
    "    idea=np.random.randint(1,X_train.shape[0])\n",
    "    plt.imshow(np.reshape(X_train[idea].transpose(), [16, 40]), vmin=0, vmax=30)\n",
    "    plt.viridis()\n",
    "    plt.show()"
   ]
  },
  {
   "cell_type": "markdown",
   "metadata": {},
   "source": [
    "Vamos a generar las matrices de datos para la red neuronal "
   ]
  },
  {
   "cell_type": "code",
   "execution_count": 12,
   "metadata": {},
   "outputs": [
    {
     "name": "stdout",
     "output_type": "stream",
     "text": [
      "(45507, 640)\n",
      "(15170, 640)\n"
     ]
    }
   ],
   "source": [
    "x_train = X_train.reshape((len(X_train), np.prod(X_train.shape[1:])))\n",
    "x_test = X_test.reshape((len(X_test), np.prod(X_test.shape[1:])))\n",
    "print(x_train.shape)\n",
    "print(x_test.shape)"
   ]
  },
  {
   "cell_type": "markdown",
   "metadata": {},
   "source": [
    "## Build the autoencoder. "
   ]
  },
  {
   "cell_type": "code",
   "execution_count": 13,
   "metadata": {},
   "outputs": [],
   "source": [
    "# this model maps an input to its encoded representation\n",
    "encoder = Model(input_img, encoded)\n",
    "\n",
    "# create a placeholder for an encoded (32-dimensional) input\n",
    "encoded_input = Input(shape=(encoding_dim,))\n",
    "# retrieve the last layer of the autoencoder model\n",
    "decoder_layer = autoencoder.layers[-1]\n",
    "# create the decoder model\n",
    "decoder = Model(encoded_input, decoder_layer(encoded_input))\n",
    "\n",
    "autoencoder.compile(optimizer='RMSprop', loss='mse', metrics=['mae'])\n",
    "\n"
   ]
  },
  {
   "cell_type": "markdown",
   "metadata": {},
   "source": [
    "Show a summary of the model parameters. "
   ]
  },
  {
   "cell_type": "markdown",
   "metadata": {},
   "source": [
    "And now train the model and evaluate on the test set. "
   ]
  },
  {
   "cell_type": "code",
   "execution_count": 14,
   "metadata": {
    "scrolled": true
   },
   "outputs": [
    {
     "name": "stdout",
     "output_type": "stream",
     "text": [
      "Train on 45507 samples, validate on 15170 samples\n",
      "Epoch 1/5000\n",
      "45507/45507 [==============================] - 1s 25us/step - loss: 3.3293 - mean_absolute_error: 0.1943 - val_loss: 2.7150 - val_mean_absolute_error: 0.2179\n",
      "Epoch 2/5000\n",
      "45507/45507 [==============================] - 1s 20us/step - loss: 3.0468 - mean_absolute_error: 0.1700 - val_loss: 2.6057 - val_mean_absolute_error: 0.2007\n",
      "Epoch 3/5000\n",
      "45507/45507 [==============================] - 1s 20us/step - loss: 2.9662 - mean_absolute_error: 0.1666 - val_loss: 2.5462 - val_mean_absolute_error: 0.1900\n",
      "Epoch 4/5000\n",
      "45507/45507 [==============================] - 1s 19us/step - loss: 2.9128 - mean_absolute_error: 0.1653 - val_loss: 2.5039 - val_mean_absolute_error: 0.1850\n",
      "Epoch 5/5000\n",
      "45507/45507 [==============================] - 1s 20us/step - loss: 2.8708 - mean_absolute_error: 0.1646 - val_loss: 2.4703 - val_mean_absolute_error: 0.1828\n",
      "Epoch 6/5000\n",
      "45507/45507 [==============================] - 1s 20us/step - loss: 2.8358 - mean_absolute_error: 0.1648 - val_loss: 2.4421 - val_mean_absolute_error: 0.1843\n",
      "Epoch 7/5000\n",
      "45507/45507 [==============================] - 1s 20us/step - loss: 2.8052 - mean_absolute_error: 0.1640 - val_loss: 2.4180 - val_mean_absolute_error: 0.1842\n",
      "Epoch 8/5000\n",
      "45507/45507 [==============================] - 1s 20us/step - loss: 2.7779 - mean_absolute_error: 0.1642 - val_loss: 2.3942 - val_mean_absolute_error: 0.1747\n",
      "Epoch 9/5000\n",
      "45507/45507 [==============================] - 1s 20us/step - loss: 2.7533 - mean_absolute_error: 0.1646 - val_loss: 2.3763 - val_mean_absolute_error: 0.1784\n",
      "Epoch 10/5000\n",
      "45507/45507 [==============================] - 1s 20us/step - loss: 2.7303 - mean_absolute_error: 0.1645 - val_loss: 2.3577 - val_mean_absolute_error: 0.1760\n",
      "Epoch 11/5000\n",
      "45507/45507 [==============================] - 1s 17us/step - loss: 2.7093 - mean_absolute_error: 0.1643 - val_loss: 2.3419 - val_mean_absolute_error: 0.1751\n",
      "Epoch 12/5000\n",
      "45507/45507 [==============================] - 1s 18us/step - loss: 2.6896 - mean_absolute_error: 0.1650 - val_loss: 2.3277 - val_mean_absolute_error: 0.1799\n",
      "Epoch 13/5000\n",
      "45507/45507 [==============================] - 1s 20us/step - loss: 2.6708 - mean_absolute_error: 0.1647 - val_loss: 2.3118 - val_mean_absolute_error: 0.1729\n",
      "Epoch 14/5000\n",
      "45507/45507 [==============================] - 1s 20us/step - loss: 2.6536 - mean_absolute_error: 0.1651 - val_loss: 2.2994 - val_mean_absolute_error: 0.1718\n",
      "Epoch 15/5000\n",
      "45507/45507 [==============================] - 1s 20us/step - loss: 2.6365 - mean_absolute_error: 0.1641 - val_loss: 2.2884 - val_mean_absolute_error: 0.1726\n",
      "Epoch 16/5000\n",
      "45507/45507 [==============================] - 1s 20us/step - loss: 2.6212 - mean_absolute_error: 0.1657 - val_loss: 2.2747 - val_mean_absolute_error: 0.1710\n",
      "Epoch 17/5000\n",
      "45507/45507 [==============================] - 1s 20us/step - loss: 2.6056 - mean_absolute_error: 0.1649 - val_loss: 2.2663 - val_mean_absolute_error: 0.1693\n",
      "Epoch 18/5000\n",
      "45507/45507 [==============================] - 1s 19us/step - loss: 2.5912 - mean_absolute_error: 0.1658 - val_loss: 2.2553 - val_mean_absolute_error: 0.1703\n",
      "Epoch 19/5000\n",
      "45507/45507 [==============================] - 1s 20us/step - loss: 2.5772 - mean_absolute_error: 0.1656 - val_loss: 2.2446 - val_mean_absolute_error: 0.1733\n",
      "Epoch 20/5000\n",
      "45507/45507 [==============================] - 1s 20us/step - loss: 2.5635 - mean_absolute_error: 0.1658 - val_loss: 2.2348 - val_mean_absolute_error: 0.1680\n",
      "Epoch 21/5000\n",
      "45507/45507 [==============================] - 1s 20us/step - loss: 2.5507 - mean_absolute_error: 0.1660 - val_loss: 2.2258 - val_mean_absolute_error: 0.1714\n",
      "Epoch 22/5000\n",
      "45507/45507 [==============================] - 1s 19us/step - loss: 2.5383 - mean_absolute_error: 0.1661 - val_loss: 2.2148 - val_mean_absolute_error: 0.1672\n",
      "Epoch 23/5000\n",
      "45507/45507 [==============================] - 1s 20us/step - loss: 2.5260 - mean_absolute_error: 0.1660 - val_loss: 2.2065 - val_mean_absolute_error: 0.1642\n",
      "Epoch 24/5000\n",
      "45507/45507 [==============================] - 1s 20us/step - loss: 2.5143 - mean_absolute_error: 0.1662 - val_loss: 2.1993 - val_mean_absolute_error: 0.1674\n",
      "Epoch 25/5000\n",
      "45507/45507 [==============================] - 1s 20us/step - loss: 2.5028 - mean_absolute_error: 0.1665 - val_loss: 2.1948 - val_mean_absolute_error: 0.1663\n",
      "Epoch 26/5000\n",
      "45507/45507 [==============================] - 1s 20us/step - loss: 2.4917 - mean_absolute_error: 0.1666 - val_loss: 2.1841 - val_mean_absolute_error: 0.1668\n",
      "Epoch 27/5000\n",
      "45507/45507 [==============================] - 1s 20us/step - loss: 2.4808 - mean_absolute_error: 0.1670 - val_loss: 2.1783 - val_mean_absolute_error: 0.1672\n",
      "Epoch 28/5000\n",
      "45507/45507 [==============================] - 1s 20us/step - loss: 2.4704 - mean_absolute_error: 0.1668 - val_loss: 2.1693 - val_mean_absolute_error: 0.1672\n",
      "Epoch 29/5000\n",
      "45507/45507 [==============================] - 1s 20us/step - loss: 2.4602 - mean_absolute_error: 0.1675 - val_loss: 2.1642 - val_mean_absolute_error: 0.1655\n",
      "Epoch 30/5000\n",
      "45507/45507 [==============================] - 1s 20us/step - loss: 2.4499 - mean_absolute_error: 0.1668 - val_loss: 2.1547 - val_mean_absolute_error: 0.1609\n",
      "Epoch 31/5000\n",
      "45507/45507 [==============================] - 1s 20us/step - loss: 2.4403 - mean_absolute_error: 0.1683 - val_loss: 2.1497 - val_mean_absolute_error: 0.1638\n",
      "Epoch 32/5000\n",
      "45507/45507 [==============================] - 1s 20us/step - loss: 2.4305 - mean_absolute_error: 0.1676 - val_loss: 2.1441 - val_mean_absolute_error: 0.1655\n",
      "Epoch 33/5000\n",
      "45507/45507 [==============================] - 1s 20us/step - loss: 2.4213 - mean_absolute_error: 0.1681 - val_loss: 2.1345 - val_mean_absolute_error: 0.1639\n",
      "Epoch 34/5000\n",
      "45507/45507 [==============================] - 1s 20us/step - loss: 2.4120 - mean_absolute_error: 0.1682 - val_loss: 2.1289 - val_mean_absolute_error: 0.1665\n",
      "Epoch 35/5000\n",
      "45507/45507 [==============================] - 1s 20us/step - loss: 2.4031 - mean_absolute_error: 0.1681 - val_loss: 2.1262 - val_mean_absolute_error: 0.1606\n",
      "Epoch 36/5000\n",
      "45507/45507 [==============================] - 1s 20us/step - loss: 2.3940 - mean_absolute_error: 0.1677 - val_loss: 2.1206 - val_mean_absolute_error: 0.1714\n",
      "Epoch 37/5000\n",
      "45507/45507 [==============================] - 1s 20us/step - loss: 2.3857 - mean_absolute_error: 0.1686 - val_loss: 2.1133 - val_mean_absolute_error: 0.1639\n",
      "Epoch 38/5000\n",
      "45507/45507 [==============================] - 1s 20us/step - loss: 2.3771 - mean_absolute_error: 0.1686 - val_loss: 2.1056 - val_mean_absolute_error: 0.1704\n",
      "Epoch 39/5000\n",
      "45507/45507 [==============================] - 1s 20us/step - loss: 2.3689 - mean_absolute_error: 0.1687 - val_loss: 2.1001 - val_mean_absolute_error: 0.1642\n",
      "Epoch 40/5000\n",
      "45507/45507 [==============================] - 1s 19us/step - loss: 2.3605 - mean_absolute_error: 0.1687 - val_loss: 2.0962 - val_mean_absolute_error: 0.1660\n",
      "Epoch 41/5000\n",
      "45507/45507 [==============================] - 1s 20us/step - loss: 2.3526 - mean_absolute_error: 0.1690 - val_loss: 2.0909 - val_mean_absolute_error: 0.1668\n",
      "Epoch 42/5000\n",
      "45507/45507 [==============================] - 1s 20us/step - loss: 2.3447 - mean_absolute_error: 0.1690 - val_loss: 2.0845 - val_mean_absolute_error: 0.1673\n",
      "Epoch 43/5000\n",
      "45507/45507 [==============================] - 1s 20us/step - loss: 2.3368 - mean_absolute_error: 0.1693 - val_loss: 2.0790 - val_mean_absolute_error: 0.1634\n",
      "Epoch 44/5000\n",
      "45507/45507 [==============================] - 1s 17us/step - loss: 2.3293 - mean_absolute_error: 0.1694 - val_loss: 2.0702 - val_mean_absolute_error: 0.1597\n",
      "Epoch 45/5000\n",
      "45507/45507 [==============================] - 1s 20us/step - loss: 2.3217 - mean_absolute_error: 0.1697 - val_loss: 2.0674 - val_mean_absolute_error: 0.1628\n",
      "Epoch 46/5000\n",
      "45507/45507 [==============================] - 1s 20us/step - loss: 2.3143 - mean_absolute_error: 0.1693 - val_loss: 2.0634 - val_mean_absolute_error: 0.1650\n",
      "Epoch 47/5000\n",
      "45507/45507 [==============================] - 1s 20us/step - loss: 2.3070 - mean_absolute_error: 0.1700 - val_loss: 2.0628 - val_mean_absolute_error: 0.1653\n",
      "Epoch 48/5000\n"
     ]
    },
    {
     "name": "stdout",
     "output_type": "stream",
     "text": [
      "45507/45507 [==============================] - 1s 20us/step - loss: 2.3001 - mean_absolute_error: 0.1701 - val_loss: 2.0544 - val_mean_absolute_error: 0.1611\n",
      "Epoch 49/5000\n",
      "45507/45507 [==============================] - 1s 20us/step - loss: 2.2928 - mean_absolute_error: 0.1698 - val_loss: 2.0468 - val_mean_absolute_error: 0.1625\n",
      "Epoch 50/5000\n",
      "45507/45507 [==============================] - 1s 20us/step - loss: 2.2857 - mean_absolute_error: 0.1701 - val_loss: 2.0437 - val_mean_absolute_error: 0.1634\n",
      "Epoch 51/5000\n",
      "45507/45507 [==============================] - 1s 20us/step - loss: 2.2793 - mean_absolute_error: 0.1706 - val_loss: 2.0444 - val_mean_absolute_error: 0.1671\n",
      "Epoch 52/5000\n",
      "45507/45507 [==============================] - 1s 20us/step - loss: 2.2722 - mean_absolute_error: 0.1704 - val_loss: 2.0360 - val_mean_absolute_error: 0.1633\n",
      "Epoch 53/5000\n",
      "45507/45507 [==============================] - 1s 20us/step - loss: 2.2656 - mean_absolute_error: 0.1707 - val_loss: 2.0326 - val_mean_absolute_error: 0.1615\n",
      "Epoch 54/5000\n",
      "45507/45507 [==============================] - 1s 20us/step - loss: 2.2587 - mean_absolute_error: 0.1710 - val_loss: 2.0239 - val_mean_absolute_error: 0.1602\n",
      "Epoch 55/5000\n",
      "45507/45507 [==============================] - 1s 20us/step - loss: 2.2522 - mean_absolute_error: 0.1707 - val_loss: 2.0282 - val_mean_absolute_error: 0.1677\n",
      "Epoch 56/5000\n",
      "45507/45507 [==============================] - 1s 20us/step - loss: 2.2461 - mean_absolute_error: 0.1711 - val_loss: 2.0215 - val_mean_absolute_error: 0.1666\n",
      "Epoch 57/5000\n",
      "45507/45507 [==============================] - 1s 19us/step - loss: 2.2395 - mean_absolute_error: 0.1709 - val_loss: 2.0131 - val_mean_absolute_error: 0.1605\n",
      "Epoch 58/5000\n",
      "45507/45507 [==============================] - 1s 20us/step - loss: 2.2332 - mean_absolute_error: 0.1714 - val_loss: 2.0099 - val_mean_absolute_error: 0.1633\n",
      "Epoch 59/5000\n",
      "45507/45507 [==============================] - 1s 20us/step - loss: 2.2270 - mean_absolute_error: 0.1714 - val_loss: 2.0113 - val_mean_absolute_error: 0.1655\n",
      "Epoch 60/5000\n",
      "45507/45507 [==============================] - 1s 20us/step - loss: 2.2208 - mean_absolute_error: 0.1713 - val_loss: 2.0049 - val_mean_absolute_error: 0.1649\n",
      "Epoch 61/5000\n",
      "45507/45507 [==============================] - 1s 20us/step - loss: 2.2146 - mean_absolute_error: 0.1716 - val_loss: 2.0020 - val_mean_absolute_error: 0.1683\n",
      "Epoch 62/5000\n",
      "45507/45507 [==============================] - 1s 20us/step - loss: 2.2090 - mean_absolute_error: 0.1715 - val_loss: 1.9973 - val_mean_absolute_error: 0.1671\n",
      "Epoch 63/5000\n",
      "45507/45507 [==============================] - 1s 20us/step - loss: 2.2030 - mean_absolute_error: 0.1719 - val_loss: 1.9944 - val_mean_absolute_error: 0.1645\n",
      "Epoch 64/5000\n",
      "45507/45507 [==============================] - 1s 20us/step - loss: 2.1972 - mean_absolute_error: 0.1721 - val_loss: 1.9914 - val_mean_absolute_error: 0.1695\n",
      "Epoch 65/5000\n",
      "45507/45507 [==============================] - 1s 21us/step - loss: 2.1911 - mean_absolute_error: 0.1717 - val_loss: 1.9835 - val_mean_absolute_error: 0.1638\n",
      "Epoch 66/5000\n",
      "45507/45507 [==============================] - 1s 20us/step - loss: 2.1856 - mean_absolute_error: 0.1717 - val_loss: 1.9832 - val_mean_absolute_error: 0.1654\n",
      "Epoch 67/5000\n",
      "45507/45507 [==============================] - 1s 20us/step - loss: 2.1800 - mean_absolute_error: 0.1719 - val_loss: 1.9772 - val_mean_absolute_error: 0.1646\n",
      "Epoch 68/5000\n",
      "45507/45507 [==============================] - 1s 20us/step - loss: 2.1743 - mean_absolute_error: 0.1722 - val_loss: 1.9731 - val_mean_absolute_error: 0.1642\n",
      "Epoch 69/5000\n",
      "45507/45507 [==============================] - 1s 20us/step - loss: 2.1684 - mean_absolute_error: 0.1721 - val_loss: 1.9730 - val_mean_absolute_error: 0.1671\n",
      "Epoch 70/5000\n",
      "45507/45507 [==============================] - 1s 19us/step - loss: 2.1633 - mean_absolute_error: 0.1725 - val_loss: 1.9692 - val_mean_absolute_error: 0.1672\n",
      "Epoch 71/5000\n",
      "45507/45507 [==============================] - 1s 20us/step - loss: 2.1579 - mean_absolute_error: 0.1725 - val_loss: 1.9644 - val_mean_absolute_error: 0.1691\n",
      "Epoch 72/5000\n",
      "45507/45507 [==============================] - 1s 20us/step - loss: 2.1522 - mean_absolute_error: 0.1723 - val_loss: 1.9646 - val_mean_absolute_error: 0.1690\n",
      "Epoch 73/5000\n",
      "45507/45507 [==============================] - 1s 20us/step - loss: 2.1473 - mean_absolute_error: 0.1726 - val_loss: 1.9577 - val_mean_absolute_error: 0.1643\n",
      "Epoch 74/5000\n",
      "45507/45507 [==============================] - 1s 20us/step - loss: 2.1416 - mean_absolute_error: 0.1722 - val_loss: 1.9539 - val_mean_absolute_error: 0.1667\n",
      "Epoch 75/5000\n",
      "45507/45507 [==============================] - 1s 20us/step - loss: 2.1365 - mean_absolute_error: 0.1727 - val_loss: 1.9498 - val_mean_absolute_error: 0.1627\n",
      "Epoch 76/5000\n",
      "45507/45507 [==============================] - 1s 20us/step - loss: 2.1314 - mean_absolute_error: 0.1728 - val_loss: 1.9471 - val_mean_absolute_error: 0.1603\n",
      "Epoch 77/5000\n",
      "45507/45507 [==============================] - 1s 19us/step - loss: 2.1264 - mean_absolute_error: 0.1734 - val_loss: 1.9417 - val_mean_absolute_error: 0.1627\n",
      "Epoch 78/5000\n",
      "45507/45507 [==============================] - 1s 20us/step - loss: 2.1212 - mean_absolute_error: 0.1728 - val_loss: 1.9413 - val_mean_absolute_error: 0.1637\n",
      "Epoch 79/5000\n",
      "45507/45507 [==============================] - 1s 18us/step - loss: 2.1165 - mean_absolute_error: 0.1738 - val_loss: 1.9398 - val_mean_absolute_error: 0.1679\n",
      "Epoch 80/5000\n",
      "45507/45507 [==============================] - 1s 20us/step - loss: 2.1113 - mean_absolute_error: 0.1735 - val_loss: 1.9343 - val_mean_absolute_error: 0.1639\n",
      "Epoch 81/5000\n",
      "45507/45507 [==============================] - 1s 20us/step - loss: 2.1062 - mean_absolute_error: 0.1732 - val_loss: 1.9333 - val_mean_absolute_error: 0.1662\n",
      "Epoch 82/5000\n",
      "45507/45507 [==============================] - 1s 20us/step - loss: 2.1015 - mean_absolute_error: 0.1730 - val_loss: 1.9317 - val_mean_absolute_error: 0.1697\n",
      "Epoch 83/5000\n",
      "45507/45507 [==============================] - 1s 20us/step - loss: 2.0967 - mean_absolute_error: 0.1734 - val_loss: 1.9255 - val_mean_absolute_error: 0.1611\n",
      "Epoch 84/5000\n",
      "45507/45507 [==============================] - 1s 20us/step - loss: 2.0920 - mean_absolute_error: 0.1735 - val_loss: 1.9214 - val_mean_absolute_error: 0.1648\n",
      "Epoch 85/5000\n",
      "45507/45507 [==============================] - 1s 20us/step - loss: 2.0872 - mean_absolute_error: 0.1740 - val_loss: 1.9211 - val_mean_absolute_error: 0.1684\n",
      "Epoch 86/5000\n",
      "45507/45507 [==============================] - 1s 20us/step - loss: 2.0826 - mean_absolute_error: 0.1741 - val_loss: 1.9170 - val_mean_absolute_error: 0.1648\n",
      "Epoch 87/5000\n",
      "45507/45507 [==============================] - 1s 20us/step - loss: 2.0777 - mean_absolute_error: 0.1740 - val_loss: 1.9144 - val_mean_absolute_error: 0.1680\n",
      "Epoch 88/5000\n",
      "45507/45507 [==============================] - 1s 20us/step - loss: 2.0731 - mean_absolute_error: 0.1738 - val_loss: 1.9101 - val_mean_absolute_error: 0.1648\n",
      "Epoch 89/5000\n",
      "45507/45507 [==============================] - 1s 20us/step - loss: 2.0685 - mean_absolute_error: 0.1740 - val_loss: 1.9091 - val_mean_absolute_error: 0.1664\n",
      "Epoch 90/5000\n",
      "45507/45507 [==============================] - 1s 20us/step - loss: 2.0639 - mean_absolute_error: 0.1739 - val_loss: 1.9048 - val_mean_absolute_error: 0.1654\n",
      "Epoch 91/5000\n",
      "45507/45507 [==============================] - 1s 20us/step - loss: 2.0597 - mean_absolute_error: 0.1747 - val_loss: 1.9005 - val_mean_absolute_error: 0.1629\n",
      "Epoch 92/5000\n",
      "45507/45507 [==============================] - 1s 20us/step - loss: 2.0548 - mean_absolute_error: 0.1744 - val_loss: 1.9001 - val_mean_absolute_error: 0.1635\n",
      "Epoch 93/5000\n",
      "45507/45507 [==============================] - 1s 20us/step - loss: 2.0509 - mean_absolute_error: 0.1744 - val_loss: 1.8971 - val_mean_absolute_error: 0.1688\n",
      "Epoch 94/5000\n",
      "45507/45507 [==============================] - 1s 20us/step - loss: 2.0463 - mean_absolute_error: 0.1742 - val_loss: 1.8938 - val_mean_absolute_error: 0.1659\n",
      "Epoch 95/5000\n",
      "45507/45507 [==============================] - 1s 20us/step - loss: 2.0420 - mean_absolute_error: 0.1739 - val_loss: 1.8933 - val_mean_absolute_error: 0.1688\n"
     ]
    },
    {
     "name": "stdout",
     "output_type": "stream",
     "text": [
      "Epoch 96/5000\n",
      "45507/45507 [==============================] - 1s 20us/step - loss: 2.0376 - mean_absolute_error: 0.1747 - val_loss: 1.8895 - val_mean_absolute_error: 0.1672\n",
      "Epoch 97/5000\n",
      "45507/45507 [==============================] - 1s 20us/step - loss: 2.0337 - mean_absolute_error: 0.1754 - val_loss: 1.8841 - val_mean_absolute_error: 0.1636\n",
      "Epoch 98/5000\n",
      "45507/45507 [==============================] - 1s 20us/step - loss: 2.0288 - mean_absolute_error: 0.1742 - val_loss: 1.8848 - val_mean_absolute_error: 0.1704\n",
      "Epoch 99/5000\n",
      "45507/45507 [==============================] - 1s 20us/step - loss: 2.0249 - mean_absolute_error: 0.1747 - val_loss: 1.8809 - val_mean_absolute_error: 0.1654\n",
      "Epoch 100/5000\n",
      "45507/45507 [==============================] - 1s 20us/step - loss: 2.0212 - mean_absolute_error: 0.1751 - val_loss: 1.8783 - val_mean_absolute_error: 0.1631\n",
      "Epoch 101/5000\n",
      "45507/45507 [==============================] - 1s 20us/step - loss: 2.0168 - mean_absolute_error: 0.1752 - val_loss: 1.8784 - val_mean_absolute_error: 0.1679\n",
      "Epoch 102/5000\n",
      "45507/45507 [==============================] - 1s 20us/step - loss: 2.0125 - mean_absolute_error: 0.1751 - val_loss: 1.8727 - val_mean_absolute_error: 0.1653\n",
      "Epoch 103/5000\n",
      "45507/45507 [==============================] - 1s 19us/step - loss: 2.0084 - mean_absolute_error: 0.1748 - val_loss: 1.8722 - val_mean_absolute_error: 0.1667\n",
      "Epoch 104/5000\n",
      "45507/45507 [==============================] - 1s 20us/step - loss: 2.0043 - mean_absolute_error: 0.1748 - val_loss: 1.8681 - val_mean_absolute_error: 0.1658\n",
      "Epoch 105/5000\n",
      "45507/45507 [==============================] - 1s 20us/step - loss: 2.0004 - mean_absolute_error: 0.1749 - val_loss: 1.8663 - val_mean_absolute_error: 0.1670\n",
      "Epoch 106/5000\n",
      "45507/45507 [==============================] - 1s 20us/step - loss: 1.9963 - mean_absolute_error: 0.1748 - val_loss: 1.8641 - val_mean_absolute_error: 0.1689\n",
      "Epoch 107/5000\n",
      "45507/45507 [==============================] - 1s 20us/step - loss: 1.9926 - mean_absolute_error: 0.1752 - val_loss: 1.8615 - val_mean_absolute_error: 0.1626\n",
      "Epoch 108/5000\n",
      "45507/45507 [==============================] - 1s 20us/step - loss: 1.9882 - mean_absolute_error: 0.1748 - val_loss: 1.8604 - val_mean_absolute_error: 0.1677\n",
      "Epoch 109/5000\n",
      "45507/45507 [==============================] - 1s 19us/step - loss: 1.9844 - mean_absolute_error: 0.1756 - val_loss: 1.8597 - val_mean_absolute_error: 0.1698\n",
      "Epoch 110/5000\n",
      "45507/45507 [==============================] - 1s 17us/step - loss: 1.9807 - mean_absolute_error: 0.1759 - val_loss: 1.8532 - val_mean_absolute_error: 0.1642\n",
      "Epoch 111/5000\n",
      "45507/45507 [==============================] - 1s 20us/step - loss: 1.9766 - mean_absolute_error: 0.1760 - val_loss: 1.8536 - val_mean_absolute_error: 0.1682\n",
      "Epoch 112/5000\n",
      "45507/45507 [==============================] - 1s 20us/step - loss: 1.9732 - mean_absolute_error: 0.1757 - val_loss: 1.8505 - val_mean_absolute_error: 0.1664\n",
      "Epoch 113/5000\n",
      "45507/45507 [==============================] - 1s 20us/step - loss: 1.9690 - mean_absolute_error: 0.1751 - val_loss: 1.8478 - val_mean_absolute_error: 0.1695\n",
      "Epoch 114/5000\n",
      "45507/45507 [==============================] - 1s 20us/step - loss: 1.9654 - mean_absolute_error: 0.1759 - val_loss: 1.8455 - val_mean_absolute_error: 0.1673\n",
      "Epoch 115/5000\n",
      "45507/45507 [==============================] - 1s 20us/step - loss: 1.9616 - mean_absolute_error: 0.1764 - val_loss: 1.8436 - val_mean_absolute_error: 0.1667\n",
      "Epoch 116/5000\n",
      "45507/45507 [==============================] - 1s 20us/step - loss: 1.9573 - mean_absolute_error: 0.1757 - val_loss: 1.8422 - val_mean_absolute_error: 0.1654\n",
      "Epoch 117/5000\n",
      "45507/45507 [==============================] - 1s 20us/step - loss: 1.9543 - mean_absolute_error: 0.1762 - val_loss: 1.8385 - val_mean_absolute_error: 0.1686\n",
      "Epoch 118/5000\n",
      "45507/45507 [==============================] - 1s 20us/step - loss: 1.9504 - mean_absolute_error: 0.1766 - val_loss: 1.8357 - val_mean_absolute_error: 0.1654\n",
      "Epoch 119/5000\n",
      "45507/45507 [==============================] - 1s 20us/step - loss: 1.9467 - mean_absolute_error: 0.1762 - val_loss: 1.8348 - val_mean_absolute_error: 0.1681\n",
      "Epoch 120/5000\n",
      "45507/45507 [==============================] - 1s 20us/step - loss: 1.9429 - mean_absolute_error: 0.1763 - val_loss: 1.8361 - val_mean_absolute_error: 0.1699\n",
      "Epoch 121/5000\n",
      "45507/45507 [==============================] - 1s 20us/step - loss: 1.9395 - mean_absolute_error: 0.1765 - val_loss: 1.8302 - val_mean_absolute_error: 0.1686\n",
      "Epoch 122/5000\n",
      "45507/45507 [==============================] - 1s 20us/step - loss: 1.9356 - mean_absolute_error: 0.1767 - val_loss: 1.8289 - val_mean_absolute_error: 0.1647\n",
      "Epoch 123/5000\n",
      "45507/45507 [==============================] - 1s 20us/step - loss: 1.9321 - mean_absolute_error: 0.1766 - val_loss: 1.8277 - val_mean_absolute_error: 0.1696\n",
      "Epoch 124/5000\n",
      "45507/45507 [==============================] - 1s 20us/step - loss: 1.9283 - mean_absolute_error: 0.1765 - val_loss: 1.8242 - val_mean_absolute_error: 0.1666\n",
      "Epoch 125/5000\n",
      "45507/45507 [==============================] - 1s 20us/step - loss: 1.9252 - mean_absolute_error: 0.1764 - val_loss: 1.8233 - val_mean_absolute_error: 0.1694\n",
      "Epoch 126/5000\n",
      "45507/45507 [==============================] - 1s 20us/step - loss: 1.9213 - mean_absolute_error: 0.1763 - val_loss: 1.8199 - val_mean_absolute_error: 0.1640\n",
      "Epoch 127/5000\n",
      "45507/45507 [==============================] - 1s 20us/step - loss: 1.9177 - mean_absolute_error: 0.1760 - val_loss: 1.8211 - val_mean_absolute_error: 0.1725\n",
      "Epoch 128/5000\n",
      "45507/45507 [==============================] - 1s 20us/step - loss: 1.9144 - mean_absolute_error: 0.1763 - val_loss: 1.8169 - val_mean_absolute_error: 0.1674\n",
      "Epoch 129/5000\n",
      "45507/45507 [==============================] - 1s 20us/step - loss: 1.9112 - mean_absolute_error: 0.1776 - val_loss: 1.8147 - val_mean_absolute_error: 0.1667\n",
      "Epoch 130/5000\n",
      "45507/45507 [==============================] - 1s 20us/step - loss: 1.9079 - mean_absolute_error: 0.1769 - val_loss: 1.8134 - val_mean_absolute_error: 0.1671\n",
      "Epoch 131/5000\n",
      "45507/45507 [==============================] - 1s 20us/step - loss: 1.9042 - mean_absolute_error: 0.1765 - val_loss: 1.8100 - val_mean_absolute_error: 0.1674\n",
      "Epoch 132/5000\n",
      "45507/45507 [==============================] - 1s 20us/step - loss: 1.9006 - mean_absolute_error: 0.1769 - val_loss: 1.8082 - val_mean_absolute_error: 0.1658\n",
      "Epoch 133/5000\n",
      "45507/45507 [==============================] - 1s 20us/step - loss: 1.8979 - mean_absolute_error: 0.1766 - val_loss: 1.8087 - val_mean_absolute_error: 0.1705\n",
      "Epoch 134/5000\n",
      "45507/45507 [==============================] - 1s 19us/step - loss: 1.8939 - mean_absolute_error: 0.1763 - val_loss: 1.8045 - val_mean_absolute_error: 0.1678\n",
      "Epoch 135/5000\n",
      "45507/45507 [==============================] - 1s 21us/step - loss: 1.8912 - mean_absolute_error: 0.1778 - val_loss: 1.8018 - val_mean_absolute_error: 0.1652\n",
      "Epoch 136/5000\n",
      "45507/45507 [==============================] - 1s 19us/step - loss: 1.8873 - mean_absolute_error: 0.1770 - val_loss: 1.8012 - val_mean_absolute_error: 0.1684\n",
      "Epoch 137/5000\n",
      "45507/45507 [==============================] - 1s 20us/step - loss: 1.8843 - mean_absolute_error: 0.1769 - val_loss: 1.7990 - val_mean_absolute_error: 0.1679\n",
      "Epoch 138/5000\n",
      "45507/45507 [==============================] - 1s 20us/step - loss: 1.8808 - mean_absolute_error: 0.1769 - val_loss: 1.7975 - val_mean_absolute_error: 0.1681\n",
      "Epoch 139/5000\n",
      "45507/45507 [==============================] - 1s 20us/step - loss: 1.8779 - mean_absolute_error: 0.1773 - val_loss: 1.7959 - val_mean_absolute_error: 0.1702\n",
      "Epoch 140/5000\n",
      "45507/45507 [==============================] - 1s 20us/step - loss: 1.8748 - mean_absolute_error: 0.1776 - val_loss: 1.7961 - val_mean_absolute_error: 0.1728\n",
      "Epoch 141/5000\n",
      "45507/45507 [==============================] - 1s 20us/step - loss: 1.8716 - mean_absolute_error: 0.1775 - val_loss: 1.7917 - val_mean_absolute_error: 0.1669\n",
      "Epoch 142/5000\n",
      "45507/45507 [==============================] - 1s 19us/step - loss: 1.8681 - mean_absolute_error: 0.1775 - val_loss: 1.7894 - val_mean_absolute_error: 0.1686\n",
      "Epoch 143/5000\n"
     ]
    },
    {
     "name": "stdout",
     "output_type": "stream",
     "text": [
      "45507/45507 [==============================] - 1s 19us/step - loss: 1.8652 - mean_absolute_error: 0.1775 - val_loss: 1.7882 - val_mean_absolute_error: 0.1680\n",
      "Epoch 144/5000\n",
      "45507/45507 [==============================] - 1s 20us/step - loss: 1.8620 - mean_absolute_error: 0.1773 - val_loss: 1.7860 - val_mean_absolute_error: 0.1679\n",
      "Epoch 145/5000\n",
      "45507/45507 [==============================] - 1s 20us/step - loss: 1.8589 - mean_absolute_error: 0.1781 - val_loss: 1.7837 - val_mean_absolute_error: 0.1666\n",
      "Epoch 146/5000\n",
      "45507/45507 [==============================] - 1s 20us/step - loss: 1.8559 - mean_absolute_error: 0.1772 - val_loss: 1.7814 - val_mean_absolute_error: 0.1651\n",
      "Epoch 147/5000\n",
      "45507/45507 [==============================] - 1s 20us/step - loss: 1.8530 - mean_absolute_error: 0.1778 - val_loss: 1.7813 - val_mean_absolute_error: 0.1698\n",
      "Epoch 148/5000\n",
      "45507/45507 [==============================] - 1s 20us/step - loss: 1.8495 - mean_absolute_error: 0.1776 - val_loss: 1.7813 - val_mean_absolute_error: 0.1697\n",
      "Epoch 149/5000\n",
      "45507/45507 [==============================] - 1s 20us/step - loss: 1.8463 - mean_absolute_error: 0.1775 - val_loss: 1.7770 - val_mean_absolute_error: 0.1670\n",
      "Epoch 150/5000\n",
      "45507/45507 [==============================] - 1s 21us/step - loss: 1.8433 - mean_absolute_error: 0.1776 - val_loss: 1.7754 - val_mean_absolute_error: 0.1713\n",
      "Epoch 151/5000\n",
      "45507/45507 [==============================] - 1s 19us/step - loss: 1.8401 - mean_absolute_error: 0.1774 - val_loss: 1.7748 - val_mean_absolute_error: 0.1670\n",
      "Epoch 152/5000\n",
      "45507/45507 [==============================] - 1s 20us/step - loss: 1.8375 - mean_absolute_error: 0.1783 - val_loss: 1.7705 - val_mean_absolute_error: 0.1675\n",
      "Epoch 153/5000\n",
      "45507/45507 [==============================] - 1s 20us/step - loss: 1.8341 - mean_absolute_error: 0.1782 - val_loss: 1.7706 - val_mean_absolute_error: 0.1674\n",
      "Epoch 154/5000\n",
      "45507/45507 [==============================] - 1s 20us/step - loss: 1.8311 - mean_absolute_error: 0.1780 - val_loss: 1.7679 - val_mean_absolute_error: 0.1713\n",
      "Epoch 155/5000\n",
      "45507/45507 [==============================] - 1s 20us/step - loss: 1.8284 - mean_absolute_error: 0.1786 - val_loss: 1.7651 - val_mean_absolute_error: 0.1648\n",
      "Epoch 156/5000\n",
      "45507/45507 [==============================] - 1s 20us/step - loss: 1.8255 - mean_absolute_error: 0.1784 - val_loss: 1.7673 - val_mean_absolute_error: 0.1697\n",
      "Epoch 157/5000\n",
      "45507/45507 [==============================] - 1s 20us/step - loss: 1.8222 - mean_absolute_error: 0.1779 - val_loss: 1.7645 - val_mean_absolute_error: 0.1683\n",
      "Epoch 158/5000\n",
      "45507/45507 [==============================] - 1s 20us/step - loss: 1.8198 - mean_absolute_error: 0.1782 - val_loss: 1.7627 - val_mean_absolute_error: 0.1701\n",
      "Epoch 159/5000\n",
      "45507/45507 [==============================] - 1s 20us/step - loss: 1.8169 - mean_absolute_error: 0.1780 - val_loss: 1.7611 - val_mean_absolute_error: 0.1683\n",
      "Epoch 160/5000\n",
      "45507/45507 [==============================] - 1s 20us/step - loss: 1.8137 - mean_absolute_error: 0.1773 - val_loss: 1.7594 - val_mean_absolute_error: 0.1707\n",
      "Epoch 161/5000\n",
      "45507/45507 [==============================] - 1s 20us/step - loss: 1.8110 - mean_absolute_error: 0.1783 - val_loss: 1.7582 - val_mean_absolute_error: 0.1689\n",
      "Epoch 162/5000\n",
      "45507/45507 [==============================] - 1s 20us/step - loss: 1.8081 - mean_absolute_error: 0.1785 - val_loss: 1.7551 - val_mean_absolute_error: 0.1680\n",
      "Epoch 163/5000\n",
      "45507/45507 [==============================] - 1s 20us/step - loss: 1.8052 - mean_absolute_error: 0.1783 - val_loss: 1.7541 - val_mean_absolute_error: 0.1706\n",
      "Epoch 164/5000\n",
      "45507/45507 [==============================] - 1s 20us/step - loss: 1.8024 - mean_absolute_error: 0.1783 - val_loss: 1.7533 - val_mean_absolute_error: 0.1690\n",
      "Epoch 165/5000\n",
      "45507/45507 [==============================] - 1s 20us/step - loss: 1.7998 - mean_absolute_error: 0.1789 - val_loss: 1.7524 - val_mean_absolute_error: 0.1700\n",
      "Epoch 166/5000\n",
      "45507/45507 [==============================] - 1s 20us/step - loss: 1.7971 - mean_absolute_error: 0.1786 - val_loss: 1.7477 - val_mean_absolute_error: 0.1659\n",
      "Epoch 167/5000\n",
      "45507/45507 [==============================] - 1s 20us/step - loss: 1.7936 - mean_absolute_error: 0.1791 - val_loss: 1.7500 - val_mean_absolute_error: 0.1723\n",
      "Epoch 168/5000\n",
      "45507/45507 [==============================] - 1s 20us/step - loss: 1.7909 - mean_absolute_error: 0.1786 - val_loss: 1.7479 - val_mean_absolute_error: 0.1694\n",
      "Epoch 169/5000\n",
      "45507/45507 [==============================] - 1s 19us/step - loss: 1.7885 - mean_absolute_error: 0.1783 - val_loss: 1.7460 - val_mean_absolute_error: 0.1718\n",
      "Epoch 170/5000\n",
      "45507/45507 [==============================] - 1s 20us/step - loss: 1.7860 - mean_absolute_error: 0.1787 - val_loss: 1.7436 - val_mean_absolute_error: 0.1697\n",
      "Epoch 171/5000\n",
      "45507/45507 [==============================] - 1s 20us/step - loss: 1.7831 - mean_absolute_error: 0.1789 - val_loss: 1.7430 - val_mean_absolute_error: 0.1693\n",
      "Epoch 172/5000\n",
      "45507/45507 [==============================] - 1s 20us/step - loss: 1.7798 - mean_absolute_error: 0.1786 - val_loss: 1.7443 - val_mean_absolute_error: 0.1736\n",
      "Epoch 173/5000\n",
      "45507/45507 [==============================] - 1s 19us/step - loss: 1.7780 - mean_absolute_error: 0.1798 - val_loss: 1.7405 - val_mean_absolute_error: 0.1720\n",
      "Epoch 174/5000\n",
      "45507/45507 [==============================] - 1s 16us/step - loss: 1.7744 - mean_absolute_error: 0.1786 - val_loss: 1.7389 - val_mean_absolute_error: 0.1712\n",
      "Epoch 175/5000\n",
      "45507/45507 [==============================] - 1s 18us/step - loss: 1.7723 - mean_absolute_error: 0.1785 - val_loss: 1.7381 - val_mean_absolute_error: 0.1724\n",
      "Epoch 176/5000\n",
      "45507/45507 [==============================] - 1s 17us/step - loss: 1.7693 - mean_absolute_error: 0.1790 - val_loss: 1.7379 - val_mean_absolute_error: 0.1749\n",
      "Epoch 177/5000\n",
      "45507/45507 [==============================] - 1s 18us/step - loss: 1.7670 - mean_absolute_error: 0.1786 - val_loss: 1.7347 - val_mean_absolute_error: 0.1706\n",
      "Epoch 178/5000\n",
      "45507/45507 [==============================] - 1s 19us/step - loss: 1.7645 - mean_absolute_error: 0.1789 - val_loss: 1.7351 - val_mean_absolute_error: 0.1722\n",
      "Epoch 179/5000\n",
      "45507/45507 [==============================] - 1s 20us/step - loss: 1.7619 - mean_absolute_error: 0.1784 - val_loss: 1.7304 - val_mean_absolute_error: 0.1696\n",
      "Epoch 180/5000\n",
      "45507/45507 [==============================] - 1s 20us/step - loss: 1.7593 - mean_absolute_error: 0.1788 - val_loss: 1.7271 - val_mean_absolute_error: 0.1681\n",
      "Epoch 181/5000\n",
      "45507/45507 [==============================] - 1s 20us/step - loss: 1.7565 - mean_absolute_error: 0.1792 - val_loss: 1.7277 - val_mean_absolute_error: 0.1710\n",
      "Epoch 182/5000\n",
      "45507/45507 [==============================] - 1s 20us/step - loss: 1.7544 - mean_absolute_error: 0.1788 - val_loss: 1.7282 - val_mean_absolute_error: 0.1708\n",
      "Epoch 183/5000\n",
      "45507/45507 [==============================] - 1s 20us/step - loss: 1.7519 - mean_absolute_error: 0.1786 - val_loss: 1.7256 - val_mean_absolute_error: 0.1696\n",
      "Epoch 184/5000\n",
      "45507/45507 [==============================] - 1s 20us/step - loss: 1.7487 - mean_absolute_error: 0.1789 - val_loss: 1.7221 - val_mean_absolute_error: 0.1702\n",
      "Epoch 185/5000\n",
      "45507/45507 [==============================] - 1s 20us/step - loss: 1.7464 - mean_absolute_error: 0.1791 - val_loss: 1.7243 - val_mean_absolute_error: 0.1739\n",
      "Epoch 186/5000\n",
      "45507/45507 [==============================] - 1s 21us/step - loss: 1.7444 - mean_absolute_error: 0.1794 - val_loss: 1.7207 - val_mean_absolute_error: 0.1702\n",
      "Epoch 187/5000\n",
      "45507/45507 [==============================] - 1s 20us/step - loss: 1.7415 - mean_absolute_error: 0.1797 - val_loss: 1.7207 - val_mean_absolute_error: 0.1707\n",
      "Epoch 188/5000\n",
      "45507/45507 [==============================] - 1s 20us/step - loss: 1.7389 - mean_absolute_error: 0.1791 - val_loss: 1.7169 - val_mean_absolute_error: 0.1705\n",
      "Epoch 189/5000\n",
      "45507/45507 [==============================] - 1s 20us/step - loss: 1.7367 - mean_absolute_error: 0.1794 - val_loss: 1.7172 - val_mean_absolute_error: 0.1754\n",
      "Epoch 190/5000\n"
     ]
    },
    {
     "name": "stdout",
     "output_type": "stream",
     "text": [
      "45507/45507 [==============================] - 1s 20us/step - loss: 1.7344 - mean_absolute_error: 0.1799 - val_loss: 1.7171 - val_mean_absolute_error: 0.1713\n",
      "Epoch 191/5000\n",
      "45507/45507 [==============================] - 1s 21us/step - loss: 1.7316 - mean_absolute_error: 0.1793 - val_loss: 1.7160 - val_mean_absolute_error: 0.1752\n",
      "Epoch 192/5000\n",
      "45507/45507 [==============================] - 1s 20us/step - loss: 1.7291 - mean_absolute_error: 0.1797 - val_loss: 1.7114 - val_mean_absolute_error: 0.1672\n",
      "Epoch 193/5000\n",
      "45507/45507 [==============================] - 1s 20us/step - loss: 1.7269 - mean_absolute_error: 0.1789 - val_loss: 1.7160 - val_mean_absolute_error: 0.1733\n",
      "Epoch 194/5000\n",
      "45507/45507 [==============================] - 1s 20us/step - loss: 1.7248 - mean_absolute_error: 0.1800 - val_loss: 1.7129 - val_mean_absolute_error: 0.1725\n",
      "Epoch 195/5000\n",
      "45507/45507 [==============================] - 1s 20us/step - loss: 1.7221 - mean_absolute_error: 0.1799 - val_loss: 1.7104 - val_mean_absolute_error: 0.1706\n",
      "Epoch 196/5000\n",
      "45507/45507 [==============================] - 1s 18us/step - loss: 1.7195 - mean_absolute_error: 0.1801 - val_loss: 1.7094 - val_mean_absolute_error: 0.1714\n",
      "Epoch 197/5000\n",
      "45507/45507 [==============================] - 1s 20us/step - loss: 1.7181 - mean_absolute_error: 0.1786 - val_loss: 1.7070 - val_mean_absolute_error: 0.1706\n",
      "Epoch 198/5000\n",
      "45507/45507 [==============================] - 1s 20us/step - loss: 1.7148 - mean_absolute_error: 0.1799 - val_loss: 1.7072 - val_mean_absolute_error: 0.1725\n",
      "Epoch 199/5000\n",
      "45507/45507 [==============================] - 1s 20us/step - loss: 1.7131 - mean_absolute_error: 0.1792 - val_loss: 1.7051 - val_mean_absolute_error: 0.1702\n",
      "Epoch 200/5000\n",
      "45507/45507 [==============================] - 1s 20us/step - loss: 1.7101 - mean_absolute_error: 0.1793 - val_loss: 1.7031 - val_mean_absolute_error: 0.1730\n",
      "Epoch 201/5000\n",
      "45507/45507 [==============================] - 1s 20us/step - loss: 1.7086 - mean_absolute_error: 0.1792 - val_loss: 1.7015 - val_mean_absolute_error: 0.1704\n",
      "Epoch 202/5000\n",
      "45507/45507 [==============================] - 1s 20us/step - loss: 1.7058 - mean_absolute_error: 0.1797 - val_loss: 1.7013 - val_mean_absolute_error: 0.1730\n",
      "Epoch 203/5000\n",
      "45507/45507 [==============================] - 1s 20us/step - loss: 1.7036 - mean_absolute_error: 0.1800 - val_loss: 1.7009 - val_mean_absolute_error: 0.1697\n",
      "Epoch 204/5000\n",
      "45507/45507 [==============================] - 1s 20us/step - loss: 1.7013 - mean_absolute_error: 0.1795 - val_loss: 1.6984 - val_mean_absolute_error: 0.1698\n",
      "Epoch 205/5000\n",
      "45507/45507 [==============================] - 1s 20us/step - loss: 1.6987 - mean_absolute_error: 0.1800 - val_loss: 1.6983 - val_mean_absolute_error: 0.1734\n",
      "Epoch 206/5000\n",
      "45507/45507 [==============================] - 1s 20us/step - loss: 1.6967 - mean_absolute_error: 0.1803 - val_loss: 1.6950 - val_mean_absolute_error: 0.1686\n",
      "Epoch 207/5000\n",
      "45507/45507 [==============================] - 1s 20us/step - loss: 1.6944 - mean_absolute_error: 0.1799 - val_loss: 1.6972 - val_mean_absolute_error: 0.1741\n",
      "Epoch 208/5000\n",
      "45507/45507 [==============================] - 1s 20us/step - loss: 1.6922 - mean_absolute_error: 0.1800 - val_loss: 1.6936 - val_mean_absolute_error: 0.1712\n",
      "Epoch 209/5000\n",
      "45507/45507 [==============================] - 1s 20us/step - loss: 1.6901 - mean_absolute_error: 0.1801 - val_loss: 1.6905 - val_mean_absolute_error: 0.1682\n",
      "Epoch 210/5000\n",
      "45507/45507 [==============================] - 1s 20us/step - loss: 1.6876 - mean_absolute_error: 0.1796 - val_loss: 1.6903 - val_mean_absolute_error: 0.1723\n",
      "Epoch 211/5000\n",
      "45507/45507 [==============================] - 1s 20us/step - loss: 1.6860 - mean_absolute_error: 0.1799 - val_loss: 1.6867 - val_mean_absolute_error: 0.1696\n",
      "Epoch 212/5000\n",
      "45507/45507 [==============================] - 1s 20us/step - loss: 1.6832 - mean_absolute_error: 0.1804 - val_loss: 1.6885 - val_mean_absolute_error: 0.1699\n",
      "Epoch 213/5000\n",
      "45507/45507 [==============================] - 1s 20us/step - loss: 1.6809 - mean_absolute_error: 0.1804 - val_loss: 1.6881 - val_mean_absolute_error: 0.1730\n",
      "Epoch 214/5000\n",
      "45507/45507 [==============================] - 1s 20us/step - loss: 1.6785 - mean_absolute_error: 0.1796 - val_loss: 1.6880 - val_mean_absolute_error: 0.1733\n",
      "Epoch 215/5000\n",
      "45507/45507 [==============================] - 1s 20us/step - loss: 1.6770 - mean_absolute_error: 0.1797 - val_loss: 1.6876 - val_mean_absolute_error: 0.1751\n",
      "Epoch 216/5000\n",
      "45507/45507 [==============================] - 1s 20us/step - loss: 1.6750 - mean_absolute_error: 0.1794 - val_loss: 1.6867 - val_mean_absolute_error: 0.1707\n",
      "Epoch 217/5000\n",
      "45507/45507 [==============================] - 1s 20us/step - loss: 1.6720 - mean_absolute_error: 0.1794 - val_loss: 1.6869 - val_mean_absolute_error: 0.1715\n",
      "Epoch 218/5000\n",
      "45507/45507 [==============================] - 1s 20us/step - loss: 1.6704 - mean_absolute_error: 0.1798 - val_loss: 1.6852 - val_mean_absolute_error: 0.1733\n",
      "Epoch 219/5000\n",
      "45507/45507 [==============================] - 1s 20us/step - loss: 1.6682 - mean_absolute_error: 0.1805 - val_loss: 1.6840 - val_mean_absolute_error: 0.1726\n",
      "Epoch 220/5000\n",
      "45507/45507 [==============================] - 1s 20us/step - loss: 1.6656 - mean_absolute_error: 0.1801 - val_loss: 1.6827 - val_mean_absolute_error: 0.1745\n",
      "Epoch 221/5000\n",
      "45507/45507 [==============================] - 1s 20us/step - loss: 1.6642 - mean_absolute_error: 0.1802 - val_loss: 1.6802 - val_mean_absolute_error: 0.1742\n",
      "Epoch 222/5000\n",
      "45507/45507 [==============================] - 1s 21us/step - loss: 1.6613 - mean_absolute_error: 0.1801 - val_loss: 1.6828 - val_mean_absolute_error: 0.1741\n",
      "Epoch 223/5000\n",
      "45507/45507 [==============================] - 1s 20us/step - loss: 1.6603 - mean_absolute_error: 0.1802 - val_loss: 1.6791 - val_mean_absolute_error: 0.1714\n",
      "Epoch 224/5000\n",
      "45507/45507 [==============================] - 1s 20us/step - loss: 1.6577 - mean_absolute_error: 0.1804 - val_loss: 1.6790 - val_mean_absolute_error: 0.1775\n",
      "Epoch 225/5000\n",
      "45507/45507 [==============================] - 1s 20us/step - loss: 1.6552 - mean_absolute_error: 0.1807 - val_loss: 1.6763 - val_mean_absolute_error: 0.1755\n",
      "Epoch 226/5000\n",
      "45507/45507 [==============================] - 1s 20us/step - loss: 1.6542 - mean_absolute_error: 0.1807 - val_loss: 1.6724 - val_mean_absolute_error: 0.1721\n",
      "Epoch 227/5000\n",
      "45507/45507 [==============================] - 1s 20us/step - loss: 1.6513 - mean_absolute_error: 0.1803 - val_loss: 1.6754 - val_mean_absolute_error: 0.1741\n",
      "Epoch 228/5000\n",
      "45507/45507 [==============================] - 1s 20us/step - loss: 1.6496 - mean_absolute_error: 0.1805 - val_loss: 1.6727 - val_mean_absolute_error: 0.1715\n",
      "Epoch 229/5000\n",
      "45507/45507 [==============================] - 1s 19us/step - loss: 1.6476 - mean_absolute_error: 0.1807 - val_loss: 1.6692 - val_mean_absolute_error: 0.1727\n",
      "Epoch 230/5000\n",
      "45507/45507 [==============================] - 1s 20us/step - loss: 1.6457 - mean_absolute_error: 0.1797 - val_loss: 1.6712 - val_mean_absolute_error: 0.1747\n",
      "Epoch 231/5000\n",
      "45507/45507 [==============================] - 1s 20us/step - loss: 1.6436 - mean_absolute_error: 0.1810 - val_loss: 1.6688 - val_mean_absolute_error: 0.1742\n",
      "Epoch 232/5000\n",
      "45507/45507 [==============================] - 1s 20us/step - loss: 1.6415 - mean_absolute_error: 0.1807 - val_loss: 1.6676 - val_mean_absolute_error: 0.1760\n",
      "Epoch 233/5000\n",
      "45507/45507 [==============================] - 1s 20us/step - loss: 1.6391 - mean_absolute_error: 0.1803 - val_loss: 1.6665 - val_mean_absolute_error: 0.1735\n",
      "Epoch 234/5000\n",
      "45507/45507 [==============================] - 1s 20us/step - loss: 1.6374 - mean_absolute_error: 0.1810 - val_loss: 1.6637 - val_mean_absolute_error: 0.1734\n",
      "Epoch 235/5000\n",
      "45507/45507 [==============================] - 1s 19us/step - loss: 1.6355 - mean_absolute_error: 0.1804 - val_loss: 1.6662 - val_mean_absolute_error: 0.1742\n",
      "Epoch 236/5000\n",
      "45507/45507 [==============================] - 1s 20us/step - loss: 1.6338 - mean_absolute_error: 0.1806 - val_loss: 1.6662 - val_mean_absolute_error: 0.1781\n",
      "Epoch 237/5000\n"
     ]
    },
    {
     "name": "stdout",
     "output_type": "stream",
     "text": [
      "45507/45507 [==============================] - 1s 20us/step - loss: 1.6313 - mean_absolute_error: 0.1806 - val_loss: 1.6599 - val_mean_absolute_error: 0.1732\n",
      "Epoch 238/5000\n",
      "45507/45507 [==============================] - 1s 20us/step - loss: 1.6298 - mean_absolute_error: 0.1813 - val_loss: 1.6621 - val_mean_absolute_error: 0.1727\n",
      "Epoch 239/5000\n",
      "45507/45507 [==============================] - 1s 20us/step - loss: 1.6275 - mean_absolute_error: 0.1801 - val_loss: 1.6614 - val_mean_absolute_error: 0.1782\n",
      "Epoch 240/5000\n",
      "45507/45507 [==============================] - 1s 18us/step - loss: 1.6261 - mean_absolute_error: 0.1799 - val_loss: 1.6617 - val_mean_absolute_error: 0.1750\n",
      "Epoch 241/5000\n",
      "45507/45507 [==============================] - 1s 19us/step - loss: 1.6239 - mean_absolute_error: 0.1798 - val_loss: 1.6594 - val_mean_absolute_error: 0.1741\n",
      "Epoch 242/5000\n",
      "45507/45507 [==============================] - 1s 17us/step - loss: 1.6217 - mean_absolute_error: 0.1807 - val_loss: 1.6575 - val_mean_absolute_error: 0.1758\n",
      "Epoch 243/5000\n",
      "45507/45507 [==============================] - 1s 16us/step - loss: 1.6198 - mean_absolute_error: 0.1809 - val_loss: 1.6581 - val_mean_absolute_error: 0.1732\n",
      "Epoch 244/5000\n",
      "45507/45507 [==============================] - 1s 20us/step - loss: 1.6179 - mean_absolute_error: 0.1807 - val_loss: 1.6561 - val_mean_absolute_error: 0.1733\n",
      "Epoch 245/5000\n",
      "45507/45507 [==============================] - 1s 20us/step - loss: 1.6162 - mean_absolute_error: 0.1806 - val_loss: 1.6580 - val_mean_absolute_error: 0.1769\n",
      "Epoch 246/5000\n",
      "45507/45507 [==============================] - 1s 20us/step - loss: 1.6140 - mean_absolute_error: 0.1811 - val_loss: 1.6531 - val_mean_absolute_error: 0.1740\n",
      "Epoch 247/5000\n",
      "45507/45507 [==============================] - 1s 20us/step - loss: 1.6123 - mean_absolute_error: 0.1809 - val_loss: 1.6484 - val_mean_absolute_error: 0.1686\n",
      "Epoch 248/5000\n",
      "45507/45507 [==============================] - 1s 20us/step - loss: 1.6104 - mean_absolute_error: 0.1808 - val_loss: 1.6528 - val_mean_absolute_error: 0.1803\n",
      "Epoch 249/5000\n",
      "45507/45507 [==============================] - 1s 20us/step - loss: 1.6083 - mean_absolute_error: 0.1809 - val_loss: 1.6493 - val_mean_absolute_error: 0.1730\n",
      "Epoch 250/5000\n",
      "45507/45507 [==============================] - 1s 20us/step - loss: 1.6070 - mean_absolute_error: 0.1815 - val_loss: 1.6482 - val_mean_absolute_error: 0.1733\n",
      "Epoch 251/5000\n",
      "45507/45507 [==============================] - 1s 20us/step - loss: 1.6045 - mean_absolute_error: 0.1806 - val_loss: 1.6512 - val_mean_absolute_error: 0.1768\n",
      "Epoch 252/5000\n",
      "45507/45507 [==============================] - 1s 20us/step - loss: 1.6035 - mean_absolute_error: 0.1801 - val_loss: 1.6466 - val_mean_absolute_error: 0.1762\n",
      "Epoch 253/5000\n",
      "45507/45507 [==============================] - 1s 20us/step - loss: 1.6012 - mean_absolute_error: 0.1806 - val_loss: 1.6498 - val_mean_absolute_error: 0.1756\n",
      "Epoch 254/5000\n",
      "45507/45507 [==============================] - 1s 20us/step - loss: 1.5992 - mean_absolute_error: 0.1816 - val_loss: 1.6503 - val_mean_absolute_error: 0.1752\n",
      "Epoch 255/5000\n",
      "45507/45507 [==============================] - 1s 20us/step - loss: 1.5974 - mean_absolute_error: 0.1800 - val_loss: 1.6463 - val_mean_absolute_error: 0.1741\n",
      "Epoch 256/5000\n",
      "45507/45507 [==============================] - 1s 21us/step - loss: 1.5956 - mean_absolute_error: 0.1809 - val_loss: 1.6457 - val_mean_absolute_error: 0.1748\n",
      "Epoch 257/5000\n",
      "45507/45507 [==============================] - 1s 19us/step - loss: 1.5938 - mean_absolute_error: 0.1814 - val_loss: 1.6434 - val_mean_absolute_error: 0.1762\n",
      "Epoch 258/5000\n",
      "45507/45507 [==============================] - 1s 20us/step - loss: 1.5919 - mean_absolute_error: 0.1809 - val_loss: 1.6402 - val_mean_absolute_error: 0.1762\n",
      "Epoch 259/5000\n",
      "45507/45507 [==============================] - 1s 20us/step - loss: 1.5904 - mean_absolute_error: 0.1818 - val_loss: 1.6406 - val_mean_absolute_error: 0.1732\n",
      "Epoch 260/5000\n",
      "45507/45507 [==============================] - 1s 20us/step - loss: 1.5888 - mean_absolute_error: 0.1815 - val_loss: 1.6459 - val_mean_absolute_error: 0.1774\n",
      "Epoch 261/5000\n",
      "45507/45507 [==============================] - 1s 20us/step - loss: 1.5865 - mean_absolute_error: 0.1811 - val_loss: 1.6411 - val_mean_absolute_error: 0.1758\n",
      "Epoch 262/5000\n",
      "45507/45507 [==============================] - 1s 20us/step - loss: 1.5853 - mean_absolute_error: 0.1805 - val_loss: 1.6435 - val_mean_absolute_error: 0.1746\n",
      "Epoch 263/5000\n",
      "45507/45507 [==============================] - 1s 20us/step - loss: 1.5831 - mean_absolute_error: 0.1797 - val_loss: 1.6412 - val_mean_absolute_error: 0.1786\n",
      "Epoch 264/5000\n",
      "45507/45507 [==============================] - 1s 20us/step - loss: 1.5815 - mean_absolute_error: 0.1816 - val_loss: 1.6374 - val_mean_absolute_error: 0.1814\n",
      "Epoch 265/5000\n",
      "45507/45507 [==============================] - 1s 20us/step - loss: 1.5792 - mean_absolute_error: 0.1813 - val_loss: 1.6365 - val_mean_absolute_error: 0.1748\n",
      "Epoch 266/5000\n",
      "45507/45507 [==============================] - 1s 20us/step - loss: 1.5779 - mean_absolute_error: 0.1817 - val_loss: 1.6378 - val_mean_absolute_error: 0.1785\n",
      "Epoch 267/5000\n",
      "45507/45507 [==============================] - 1s 20us/step - loss: 1.5765 - mean_absolute_error: 0.1818 - val_loss: 1.6364 - val_mean_absolute_error: 0.1784\n",
      "Epoch 268/5000\n",
      "45507/45507 [==============================] - 1s 19us/step - loss: 1.5744 - mean_absolute_error: 0.1812 - val_loss: 1.6369 - val_mean_absolute_error: 0.1754\n",
      "Epoch 269/5000\n",
      "45507/45507 [==============================] - 1s 20us/step - loss: 1.5728 - mean_absolute_error: 0.1817 - val_loss: 1.6350 - val_mean_absolute_error: 0.1758\n",
      "Epoch 270/5000\n",
      "45507/45507 [==============================] - 1s 20us/step - loss: 1.5711 - mean_absolute_error: 0.1817 - val_loss: 1.6289 - val_mean_absolute_error: 0.1757\n",
      "Epoch 271/5000\n",
      "45507/45507 [==============================] - 1s 20us/step - loss: 1.5694 - mean_absolute_error: 0.1819 - val_loss: 1.6326 - val_mean_absolute_error: 0.1767\n",
      "Epoch 272/5000\n",
      "45507/45507 [==============================] - 1s 20us/step - loss: 1.5674 - mean_absolute_error: 0.1814 - val_loss: 1.6320 - val_mean_absolute_error: 0.1801\n",
      "Epoch 273/5000\n",
      "45507/45507 [==============================] - 1s 20us/step - loss: 1.5659 - mean_absolute_error: 0.1821 - val_loss: 1.6330 - val_mean_absolute_error: 0.1744\n",
      "Epoch 274/5000\n",
      "45507/45507 [==============================] - 1s 19us/step - loss: 1.5641 - mean_absolute_error: 0.1814 - val_loss: 1.6317 - val_mean_absolute_error: 0.1748\n",
      "Epoch 275/5000\n",
      "45507/45507 [==============================] - 1s 18us/step - loss: 1.5629 - mean_absolute_error: 0.1810 - val_loss: 1.6279 - val_mean_absolute_error: 0.1774\n",
      "Epoch 276/5000\n",
      "45507/45507 [==============================] - 1s 19us/step - loss: 1.5609 - mean_absolute_error: 0.1800 - val_loss: 1.6268 - val_mean_absolute_error: 0.1755\n",
      "Epoch 277/5000\n",
      "45507/45507 [==============================] - 1s 20us/step - loss: 1.5594 - mean_absolute_error: 0.1808 - val_loss: 1.6268 - val_mean_absolute_error: 0.1798\n",
      "Epoch 278/5000\n",
      "45507/45507 [==============================] - 1s 20us/step - loss: 1.5582 - mean_absolute_error: 0.1818 - val_loss: 1.6278 - val_mean_absolute_error: 0.1762\n",
      "Epoch 279/5000\n",
      "45507/45507 [==============================] - 1s 20us/step - loss: 1.5561 - mean_absolute_error: 0.1812 - val_loss: 1.6256 - val_mean_absolute_error: 0.1762\n",
      "Epoch 280/5000\n",
      "45507/45507 [==============================] - 1s 20us/step - loss: 1.5541 - mean_absolute_error: 0.1822 - val_loss: 1.6243 - val_mean_absolute_error: 0.1781\n",
      "Epoch 281/5000\n",
      "45507/45507 [==============================] - 1s 20us/step - loss: 1.5529 - mean_absolute_error: 0.1824 - val_loss: 1.6249 - val_mean_absolute_error: 0.1813\n",
      "Epoch 282/5000\n",
      "45507/45507 [==============================] - 1s 20us/step - loss: 1.5509 - mean_absolute_error: 0.1824 - val_loss: 1.6220 - val_mean_absolute_error: 0.1748\n",
      "Epoch 283/5000\n",
      "45507/45507 [==============================] - 1s 20us/step - loss: 1.5493 - mean_absolute_error: 0.1819 - val_loss: 1.6249 - val_mean_absolute_error: 0.1793\n",
      "Epoch 284/5000\n"
     ]
    },
    {
     "name": "stdout",
     "output_type": "stream",
     "text": [
      "45507/45507 [==============================] - 1s 20us/step - loss: 1.5480 - mean_absolute_error: 0.1818 - val_loss: 1.6188 - val_mean_absolute_error: 0.1722\n",
      "Epoch 285/5000\n",
      "45507/45507 [==============================] - 1s 19us/step - loss: 1.5465 - mean_absolute_error: 0.1823 - val_loss: 1.6195 - val_mean_absolute_error: 0.1731\n",
      "Epoch 286/5000\n",
      "45507/45507 [==============================] - 1s 20us/step - loss: 1.5444 - mean_absolute_error: 0.1817 - val_loss: 1.6191 - val_mean_absolute_error: 0.1796\n",
      "Epoch 287/5000\n",
      "45507/45507 [==============================] - 1s 20us/step - loss: 1.5428 - mean_absolute_error: 0.1823 - val_loss: 1.6158 - val_mean_absolute_error: 0.1765\n",
      "Epoch 288/5000\n",
      "45507/45507 [==============================] - 1s 20us/step - loss: 1.5412 - mean_absolute_error: 0.1811 - val_loss: 1.6180 - val_mean_absolute_error: 0.1818\n",
      "Epoch 289/5000\n",
      "45507/45507 [==============================] - 1s 20us/step - loss: 1.5405 - mean_absolute_error: 0.1802 - val_loss: 1.6218 - val_mean_absolute_error: 0.1785\n",
      "Epoch 290/5000\n",
      "45507/45507 [==============================] - 1s 20us/step - loss: 1.5387 - mean_absolute_error: 0.1802 - val_loss: 1.6212 - val_mean_absolute_error: 0.1770\n",
      "Epoch 291/5000\n",
      "45507/45507 [==============================] - 1s 20us/step - loss: 1.5362 - mean_absolute_error: 0.1825 - val_loss: 1.6168 - val_mean_absolute_error: 0.1777\n",
      "Epoch 292/5000\n",
      "45507/45507 [==============================] - 1s 20us/step - loss: 1.5355 - mean_absolute_error: 0.1822 - val_loss: 1.6174 - val_mean_absolute_error: 0.1793\n",
      "Epoch 293/5000\n",
      "45507/45507 [==============================] - 1s 20us/step - loss: 1.5333 - mean_absolute_error: 0.1829 - val_loss: 1.6176 - val_mean_absolute_error: 0.1822\n",
      "Epoch 294/5000\n",
      "45507/45507 [==============================] - 1s 20us/step - loss: 1.5327 - mean_absolute_error: 0.1823 - val_loss: 1.6179 - val_mean_absolute_error: 0.1789\n",
      "Epoch 295/5000\n",
      "45507/45507 [==============================] - 1s 20us/step - loss: 1.5307 - mean_absolute_error: 0.1802 - val_loss: 1.6141 - val_mean_absolute_error: 0.1744\n",
      "Epoch 296/5000\n",
      "45507/45507 [==============================] - 1s 20us/step - loss: 1.5289 - mean_absolute_error: 0.1807 - val_loss: 1.6136 - val_mean_absolute_error: 0.1784\n",
      "Epoch 297/5000\n",
      "45507/45507 [==============================] - 1s 20us/step - loss: 1.5272 - mean_absolute_error: 0.1832 - val_loss: 1.6124 - val_mean_absolute_error: 0.1804\n",
      "Epoch 298/5000\n",
      "45507/45507 [==============================] - 1s 20us/step - loss: 1.5258 - mean_absolute_error: 0.1820 - val_loss: 1.6111 - val_mean_absolute_error: 0.1813\n",
      "Epoch 299/5000\n",
      "45507/45507 [==============================] - 1s 20us/step - loss: 1.5248 - mean_absolute_error: 0.1826 - val_loss: 1.6129 - val_mean_absolute_error: 0.1823\n",
      "Epoch 300/5000\n",
      "45507/45507 [==============================] - 1s 20us/step - loss: 1.5225 - mean_absolute_error: 0.1835 - val_loss: 1.6084 - val_mean_absolute_error: 0.1774\n",
      "Epoch 301/5000\n",
      "45507/45507 [==============================] - 1s 19us/step - loss: 1.5216 - mean_absolute_error: 0.1819 - val_loss: 1.6119 - val_mean_absolute_error: 0.1805\n",
      "Epoch 302/5000\n",
      "45507/45507 [==============================] - 1s 19us/step - loss: 1.5197 - mean_absolute_error: 0.1826 - val_loss: 1.6079 - val_mean_absolute_error: 0.1786\n",
      "Epoch 303/5000\n",
      "45507/45507 [==============================] - 1s 20us/step - loss: 1.5183 - mean_absolute_error: 0.1824 - val_loss: 1.6083 - val_mean_absolute_error: 0.1797\n",
      "Epoch 304/5000\n",
      "45507/45507 [==============================] - 1s 20us/step - loss: 1.5166 - mean_absolute_error: 0.1834 - val_loss: 1.6099 - val_mean_absolute_error: 0.1743\n",
      "Epoch 305/5000\n",
      "45507/45507 [==============================] - 1s 20us/step - loss: 1.5150 - mean_absolute_error: 0.1828 - val_loss: 1.6074 - val_mean_absolute_error: 0.1822\n",
      "Epoch 306/5000\n",
      "45507/45507 [==============================] - 1s 20us/step - loss: 1.5140 - mean_absolute_error: 0.1830 - val_loss: 1.6071 - val_mean_absolute_error: 0.1775\n",
      "Epoch 307/5000\n",
      "45507/45507 [==============================] - 1s 19us/step - loss: 1.5116 - mean_absolute_error: 0.1825 - val_loss: 1.6063 - val_mean_absolute_error: 0.1803\n",
      "Epoch 308/5000\n",
      "45507/45507 [==============================] - 1s 17us/step - loss: 1.5114 - mean_absolute_error: 0.1832 - val_loss: 1.6075 - val_mean_absolute_error: 0.1820\n",
      "Epoch 309/5000\n",
      "45507/45507 [==============================] - 1s 19us/step - loss: 1.5089 - mean_absolute_error: 0.1835 - val_loss: 1.6039 - val_mean_absolute_error: 0.1827\n",
      "Epoch 310/5000\n",
      "45507/45507 [==============================] - 1s 20us/step - loss: 1.5081 - mean_absolute_error: 0.1828 - val_loss: 1.6057 - val_mean_absolute_error: 0.1761\n",
      "Epoch 311/5000\n",
      "45507/45507 [==============================] - 1s 20us/step - loss: 1.5064 - mean_absolute_error: 0.1837 - val_loss: 1.6034 - val_mean_absolute_error: 0.1787\n",
      "Epoch 312/5000\n",
      "45507/45507 [==============================] - 1s 20us/step - loss: 1.5050 - mean_absolute_error: 0.1823 - val_loss: 1.6040 - val_mean_absolute_error: 0.1771\n",
      "Epoch 313/5000\n",
      "45507/45507 [==============================] - 1s 20us/step - loss: 1.5036 - mean_absolute_error: 0.1816 - val_loss: 1.6070 - val_mean_absolute_error: 0.1835\n",
      "Epoch 314/5000\n",
      "45507/45507 [==============================] - 1s 20us/step - loss: 1.5019 - mean_absolute_error: 0.1836 - val_loss: 1.6002 - val_mean_absolute_error: 0.1806\n",
      "Epoch 315/5000\n",
      "45507/45507 [==============================] - 1s 20us/step - loss: 1.5010 - mean_absolute_error: 0.1832 - val_loss: 1.6002 - val_mean_absolute_error: 0.1800\n",
      "Epoch 316/5000\n",
      "45507/45507 [==============================] - 1s 20us/step - loss: 1.4990 - mean_absolute_error: 0.1824 - val_loss: 1.6052 - val_mean_absolute_error: 0.1878\n",
      "Epoch 317/5000\n",
      "45507/45507 [==============================] - 1s 20us/step - loss: 1.4979 - mean_absolute_error: 0.1828 - val_loss: 1.5976 - val_mean_absolute_error: 0.1804\n",
      "Epoch 318/5000\n",
      "45507/45507 [==============================] - 1s 20us/step - loss: 1.4961 - mean_absolute_error: 0.1828 - val_loss: 1.5987 - val_mean_absolute_error: 0.1806\n",
      "Epoch 319/5000\n",
      "45507/45507 [==============================] - 1s 20us/step - loss: 1.4953 - mean_absolute_error: 0.1830 - val_loss: 1.5987 - val_mean_absolute_error: 0.1780\n",
      "Epoch 320/5000\n",
      "45507/45507 [==============================] - 1s 20us/step - loss: 1.4935 - mean_absolute_error: 0.1830 - val_loss: 1.5973 - val_mean_absolute_error: 0.1795\n",
      "Epoch 321/5000\n",
      "45507/45507 [==============================] - 1s 20us/step - loss: 1.4919 - mean_absolute_error: 0.1834 - val_loss: 1.5971 - val_mean_absolute_error: 0.1814\n",
      "Epoch 322/5000\n",
      "45507/45507 [==============================] - 1s 20us/step - loss: 1.4916 - mean_absolute_error: 0.1830 - val_loss: 1.5962 - val_mean_absolute_error: 0.1820\n",
      "Epoch 323/5000\n",
      "45507/45507 [==============================] - 1s 20us/step - loss: 1.4893 - mean_absolute_error: 0.1835 - val_loss: 1.5982 - val_mean_absolute_error: 0.1831\n",
      "Epoch 324/5000\n",
      "45507/45507 [==============================] - 1s 20us/step - loss: 1.4884 - mean_absolute_error: 0.1812 - val_loss: 1.5932 - val_mean_absolute_error: 0.1785\n",
      "Epoch 325/5000\n",
      "45507/45507 [==============================] - 1s 20us/step - loss: 1.4867 - mean_absolute_error: 0.1826 - val_loss: 1.5965 - val_mean_absolute_error: 0.1846\n",
      "Epoch 326/5000\n",
      "45507/45507 [==============================] - 1s 20us/step - loss: 1.4855 - mean_absolute_error: 0.1839 - val_loss: 1.5953 - val_mean_absolute_error: 0.1837\n",
      "Epoch 327/5000\n",
      "45507/45507 [==============================] - 1s 19us/step - loss: 1.4836 - mean_absolute_error: 0.1840 - val_loss: 1.5935 - val_mean_absolute_error: 0.1795\n",
      "Epoch 328/5000\n",
      "45507/45507 [==============================] - 1s 19us/step - loss: 1.4825 - mean_absolute_error: 0.1832 - val_loss: 1.5898 - val_mean_absolute_error: 0.1827\n",
      "Epoch 329/5000\n",
      "45507/45507 [==============================] - 1s 20us/step - loss: 1.4804 - mean_absolute_error: 0.1830 - val_loss: 1.5922 - val_mean_absolute_error: 0.1808\n",
      "Epoch 330/5000\n",
      "45507/45507 [==============================] - 1s 20us/step - loss: 1.4798 - mean_absolute_error: 0.1836 - val_loss: 1.5938 - val_mean_absolute_error: 0.1848\n",
      "Epoch 331/5000\n"
     ]
    },
    {
     "name": "stdout",
     "output_type": "stream",
     "text": [
      "45507/45507 [==============================] - 1s 20us/step - loss: 1.4779 - mean_absolute_error: 0.1843 - val_loss: 1.5877 - val_mean_absolute_error: 0.1824\n",
      "Epoch 332/5000\n",
      "45507/45507 [==============================] - 1s 20us/step - loss: 1.4765 - mean_absolute_error: 0.1843 - val_loss: 1.5867 - val_mean_absolute_error: 0.1832\n",
      "Epoch 333/5000\n",
      "45507/45507 [==============================] - 1s 21us/step - loss: 1.4760 - mean_absolute_error: 0.1827 - val_loss: 1.5969 - val_mean_absolute_error: 0.1802\n",
      "Epoch 334/5000\n",
      "45507/45507 [==============================] - 1s 19us/step - loss: 1.4745 - mean_absolute_error: 0.1816 - val_loss: 1.5889 - val_mean_absolute_error: 0.1792\n",
      "Epoch 335/5000\n",
      "45507/45507 [==============================] - 1s 20us/step - loss: 1.4728 - mean_absolute_error: 0.1841 - val_loss: 1.5897 - val_mean_absolute_error: 0.1843\n",
      "Epoch 336/5000\n",
      "45507/45507 [==============================] - 1s 20us/step - loss: 1.4720 - mean_absolute_error: 0.1827 - val_loss: 1.5911 - val_mean_absolute_error: 0.1822\n",
      "Epoch 337/5000\n",
      "45507/45507 [==============================] - 1s 20us/step - loss: 1.4705 - mean_absolute_error: 0.1834 - val_loss: 1.5906 - val_mean_absolute_error: 0.1857\n",
      "Epoch 338/5000\n",
      "45507/45507 [==============================] - 1s 20us/step - loss: 1.4692 - mean_absolute_error: 0.1839 - val_loss: 1.5836 - val_mean_absolute_error: 0.1776\n",
      "Epoch 339/5000\n",
      "45507/45507 [==============================] - 1s 20us/step - loss: 1.4676 - mean_absolute_error: 0.1832 - val_loss: 1.5841 - val_mean_absolute_error: 0.1828\n",
      "Epoch 340/5000\n",
      "45507/45507 [==============================] - 1s 19us/step - loss: 1.4660 - mean_absolute_error: 0.1837 - val_loss: 1.5844 - val_mean_absolute_error: 0.1809\n",
      "Epoch 341/5000\n",
      "45507/45507 [==============================] - 1s 20us/step - loss: 1.4653 - mean_absolute_error: 0.1823 - val_loss: 1.5854 - val_mean_absolute_error: 0.1813\n",
      "Epoch 342/5000\n",
      "45507/45507 [==============================] - 1s 20us/step - loss: 1.4634 - mean_absolute_error: 0.1831 - val_loss: 1.5861 - val_mean_absolute_error: 0.1783\n",
      "Epoch 343/5000\n",
      "45507/45507 [==============================] - 1s 20us/step - loss: 1.4630 - mean_absolute_error: 0.1818 - val_loss: 1.5904 - val_mean_absolute_error: 0.1848\n",
      "Epoch 344/5000\n",
      "45507/45507 [==============================] - 1s 20us/step - loss: 1.4614 - mean_absolute_error: 0.1823 - val_loss: 1.5876 - val_mean_absolute_error: 0.1834\n",
      "Epoch 345/5000\n",
      "45507/45507 [==============================] - 1s 20us/step - loss: 1.4602 - mean_absolute_error: 0.1826 - val_loss: 1.5828 - val_mean_absolute_error: 0.1844\n",
      "Epoch 346/5000\n",
      "45507/45507 [==============================] - 1s 19us/step - loss: 1.4582 - mean_absolute_error: 0.1828 - val_loss: 1.5854 - val_mean_absolute_error: 0.1837\n",
      "Epoch 347/5000\n",
      "45507/45507 [==============================] - 1s 20us/step - loss: 1.4570 - mean_absolute_error: 0.1847 - val_loss: 1.5822 - val_mean_absolute_error: 0.1836\n",
      "Epoch 348/5000\n",
      "45507/45507 [==============================] - 1s 20us/step - loss: 1.4563 - mean_absolute_error: 0.1839 - val_loss: 1.5809 - val_mean_absolute_error: 0.1824\n",
      "Epoch 349/5000\n",
      "45507/45507 [==============================] - 1s 20us/step - loss: 1.4550 - mean_absolute_error: 0.1803 - val_loss: 1.5815 - val_mean_absolute_error: 0.1797\n",
      "Epoch 350/5000\n",
      "45507/45507 [==============================] - 1s 20us/step - loss: 1.4538 - mean_absolute_error: 0.1826 - val_loss: 1.5807 - val_mean_absolute_error: 0.1850\n",
      "Epoch 351/5000\n",
      "45507/45507 [==============================] - 1s 20us/step - loss: 1.4524 - mean_absolute_error: 0.1842 - val_loss: 1.5782 - val_mean_absolute_error: 0.1835\n",
      "Epoch 352/5000\n",
      "45507/45507 [==============================] - 1s 20us/step - loss: 1.4503 - mean_absolute_error: 0.1845 - val_loss: 1.5779 - val_mean_absolute_error: 0.1860\n",
      "Epoch 353/5000\n",
      "45507/45507 [==============================] - 1s 20us/step - loss: 1.4496 - mean_absolute_error: 0.1845 - val_loss: 1.5782 - val_mean_absolute_error: 0.1860\n",
      "Epoch 354/5000\n",
      "45507/45507 [==============================] - 1s 20us/step - loss: 1.4480 - mean_absolute_error: 0.1835 - val_loss: 1.5785 - val_mean_absolute_error: 0.1813\n",
      "Epoch 355/5000\n",
      "45507/45507 [==============================] - 1s 20us/step - loss: 1.4467 - mean_absolute_error: 0.1851 - val_loss: 1.5787 - val_mean_absolute_error: 0.1802\n",
      "Epoch 356/5000\n",
      "45507/45507 [==============================] - 1s 20us/step - loss: 1.4454 - mean_absolute_error: 0.1849 - val_loss: 1.5779 - val_mean_absolute_error: 0.1860\n",
      "Epoch 357/5000\n",
      "45507/45507 [==============================] - 1s 18us/step - loss: 1.4450 - mean_absolute_error: 0.1826 - val_loss: 1.5794 - val_mean_absolute_error: 0.1867\n",
      "Epoch 358/5000\n",
      "45507/45507 [==============================] - 1s 20us/step - loss: 1.4434 - mean_absolute_error: 0.1846 - val_loss: 1.5744 - val_mean_absolute_error: 0.1806\n",
      "Epoch 359/5000\n",
      "45507/45507 [==============================] - 1s 21us/step - loss: 1.4417 - mean_absolute_error: 0.1848 - val_loss: 1.5759 - val_mean_absolute_error: 0.1829\n",
      "Epoch 360/5000\n",
      "45507/45507 [==============================] - 1s 20us/step - loss: 1.4399 - mean_absolute_error: 0.1846 - val_loss: 1.5745 - val_mean_absolute_error: 0.1852\n",
      "Epoch 361/5000\n",
      "45507/45507 [==============================] - 1s 20us/step - loss: 1.4395 - mean_absolute_error: 0.1850 - val_loss: 1.5718 - val_mean_absolute_error: 0.1838\n",
      "Epoch 362/5000\n",
      "45507/45507 [==============================] - 1s 20us/step - loss: 1.4385 - mean_absolute_error: 0.1848 - val_loss: 1.5746 - val_mean_absolute_error: 0.1874\n",
      "Epoch 363/5000\n",
      "45507/45507 [==============================] - 1s 20us/step - loss: 1.4376 - mean_absolute_error: 0.1845 - val_loss: 1.5696 - val_mean_absolute_error: 0.1841\n",
      "Epoch 364/5000\n",
      "45507/45507 [==============================] - 1s 20us/step - loss: 1.4347 - mean_absolute_error: 0.1845 - val_loss: 1.5764 - val_mean_absolute_error: 0.1876\n",
      "Epoch 365/5000\n",
      "45507/45507 [==============================] - 1s 20us/step - loss: 1.4349 - mean_absolute_error: 0.1848 - val_loss: 1.5724 - val_mean_absolute_error: 0.1839\n",
      "Epoch 366/5000\n",
      "45507/45507 [==============================] - 1s 20us/step - loss: 1.4333 - mean_absolute_error: 0.1837 - val_loss: 1.5743 - val_mean_absolute_error: 0.1896\n",
      "Epoch 367/5000\n",
      "45507/45507 [==============================] - 1s 19us/step - loss: 1.4335 - mean_absolute_error: 0.1820 - val_loss: 1.5733 - val_mean_absolute_error: 0.1859\n",
      "Epoch 368/5000\n",
      "45507/45507 [==============================] - 1s 19us/step - loss: 1.4318 - mean_absolute_error: 0.1815 - val_loss: 1.5691 - val_mean_absolute_error: 0.1806\n",
      "Epoch 369/5000\n",
      "45507/45507 [==============================] - 1s 20us/step - loss: 1.4301 - mean_absolute_error: 0.1821 - val_loss: 1.5697 - val_mean_absolute_error: 0.1858\n",
      "Epoch 370/5000\n",
      "45507/45507 [==============================] - 1s 20us/step - loss: 1.4290 - mean_absolute_error: 0.1841 - val_loss: 1.5676 - val_mean_absolute_error: 0.1862\n",
      "Epoch 371/5000\n",
      "45507/45507 [==============================] - 1s 21us/step - loss: 1.4285 - mean_absolute_error: 0.1814 - val_loss: 1.5710 - val_mean_absolute_error: 0.1840\n",
      "Epoch 372/5000\n",
      "45507/45507 [==============================] - 1s 20us/step - loss: 1.4263 - mean_absolute_error: 0.1828 - val_loss: 1.5702 - val_mean_absolute_error: 0.1853\n",
      "Epoch 373/5000\n",
      "45507/45507 [==============================] - 1s 19us/step - loss: 1.4250 - mean_absolute_error: 0.1833 - val_loss: 1.5699 - val_mean_absolute_error: 0.1816\n",
      "Epoch 374/5000\n",
      "45507/45507 [==============================] - 1s 20us/step - loss: 1.4237 - mean_absolute_error: 0.1850 - val_loss: 1.5725 - val_mean_absolute_error: 0.1835\n",
      "Epoch 375/5000\n",
      "45507/45507 [==============================] - 1s 19us/step - loss: 1.4224 - mean_absolute_error: 0.1849 - val_loss: 1.5715 - val_mean_absolute_error: 0.1867\n",
      "Epoch 376/5000\n",
      "45507/45507 [==============================] - 1s 20us/step - loss: 1.4214 - mean_absolute_error: 0.1857 - val_loss: 1.5674 - val_mean_absolute_error: 0.1850\n",
      "Epoch 377/5000\n",
      "45507/45507 [==============================] - 1s 19us/step - loss: 1.4207 - mean_absolute_error: 0.1840 - val_loss: 1.5715 - val_mean_absolute_error: 0.1863\n",
      "Epoch 378/5000\n"
     ]
    },
    {
     "name": "stdout",
     "output_type": "stream",
     "text": [
      "45507/45507 [==============================] - 1s 21us/step - loss: 1.4192 - mean_absolute_error: 0.1859 - val_loss: 1.5687 - val_mean_absolute_error: 0.1850\n",
      "Epoch 379/5000\n",
      "45507/45507 [==============================] - 1s 20us/step - loss: 1.4183 - mean_absolute_error: 0.1846 - val_loss: 1.5653 - val_mean_absolute_error: 0.1847\n",
      "Epoch 380/5000\n",
      "45507/45507 [==============================] - 1s 21us/step - loss: 1.4174 - mean_absolute_error: 0.1845 - val_loss: 1.5671 - val_mean_absolute_error: 0.1867\n",
      "Epoch 381/5000\n",
      "45507/45507 [==============================] - 1s 20us/step - loss: 1.4154 - mean_absolute_error: 0.1846 - val_loss: 1.5689 - val_mean_absolute_error: 0.1833\n",
      "Epoch 382/5000\n",
      "45507/45507 [==============================] - 1s 20us/step - loss: 1.4144 - mean_absolute_error: 0.1849 - val_loss: 1.5607 - val_mean_absolute_error: 0.1857\n",
      "Epoch 383/5000\n",
      "45507/45507 [==============================] - 1s 20us/step - loss: 1.4139 - mean_absolute_error: 0.1856 - val_loss: 1.5628 - val_mean_absolute_error: 0.1848\n",
      "Epoch 384/5000\n",
      "45507/45507 [==============================] - 1s 20us/step - loss: 1.4126 - mean_absolute_error: 0.1851 - val_loss: 1.5590 - val_mean_absolute_error: 0.1869\n",
      "Epoch 385/5000\n",
      "45507/45507 [==============================] - 1s 20us/step - loss: 1.4114 - mean_absolute_error: 0.1844 - val_loss: 1.5682 - val_mean_absolute_error: 0.1857\n",
      "Epoch 386/5000\n",
      "45507/45507 [==============================] - 1s 20us/step - loss: 1.4096 - mean_absolute_error: 0.1846 - val_loss: 1.5641 - val_mean_absolute_error: 0.1890\n",
      "Epoch 387/5000\n",
      "45507/45507 [==============================] - 1s 21us/step - loss: 1.4087 - mean_absolute_error: 0.1850 - val_loss: 1.5630 - val_mean_absolute_error: 0.1840\n",
      "Epoch 388/5000\n",
      "45507/45507 [==============================] - 1s 20us/step - loss: 1.4082 - mean_absolute_error: 0.1847 - val_loss: 1.5646 - val_mean_absolute_error: 0.1900\n",
      "Epoch 389/5000\n",
      "45507/45507 [==============================] - 1s 20us/step - loss: 1.4065 - mean_absolute_error: 0.1853 - val_loss: 1.5625 - val_mean_absolute_error: 0.1849\n",
      "Epoch 390/5000\n",
      "45507/45507 [==============================] - 1s 20us/step - loss: 1.4057 - mean_absolute_error: 0.1848 - val_loss: 1.5653 - val_mean_absolute_error: 0.1894\n",
      "Epoch 391/5000\n",
      "45507/45507 [==============================] - 1s 21us/step - loss: 1.4046 - mean_absolute_error: 0.1853 - val_loss: 1.5607 - val_mean_absolute_error: 0.1894\n",
      "Epoch 392/5000\n",
      "45507/45507 [==============================] - 1s 21us/step - loss: 1.4038 - mean_absolute_error: 0.1846 - val_loss: 1.5627 - val_mean_absolute_error: 0.1863\n",
      "Epoch 393/5000\n",
      "45507/45507 [==============================] - 1s 20us/step - loss: 1.4022 - mean_absolute_error: 0.1846 - val_loss: 1.5608 - val_mean_absolute_error: 0.1866\n",
      "Epoch 394/5000\n",
      "45507/45507 [==============================] - 1s 20us/step - loss: 1.4012 - mean_absolute_error: 0.1851 - val_loss: 1.5618 - val_mean_absolute_error: 0.1883\n",
      "Epoch 00394: early stopping\n"
     ]
    },
    {
     "data": {
      "text/plain": [
       "<keras.callbacks.History at 0x7fbe998c5d30>"
      ]
     },
     "execution_count": 14,
     "metadata": {},
     "output_type": "execute_result"
    }
   ],
   "source": [
    "tensorboard=TensorBoard(log_dir=\"/home/rgadea3/EXPERIMENTOS/nuevas_investigaciones_2018/experimentos/logs/{}\".format(time()))\n",
    "#modelCheckpoint=ModelCheckpoint(\"/home/rgadea3/EXPERIMENTOS/nuevas_investigaciones_2018/experimentos/logs/\", monitor='val_loss', verbose=0, save_best_only=False, save_weights_only=False, mode='auto', period=1)\n",
    "early_stop=EarlyStopping(monitor='val_loss', min_delta=0, patience=10, verbose=2, mode='auto', baseline=None)\n",
    "autoencoder.fit(x_train, x_train,\n",
    "                epochs=5000,\n",
    "                batch_size=500,\n",
    "                shuffle=False,\n",
    "                callbacks=[tensorboard, early_stop],\n",
    "                validation_data=(x_test, x_test))\n",
    "\n"
   ]
  },
  {
   "cell_type": "code",
   "execution_count": 15,
   "metadata": {},
   "outputs": [
    {
     "name": "stdout",
     "output_type": "stream",
     "text": [
      "15170/15170 [==============================] - 1s 82us/step\n"
     ]
    }
   ],
   "source": [
    "autoencoder.evaluate(x=x_test,y=x_test)\n",
    "autoencoder.save_weights('../redes_compresoras/compresor_python_ver_rms_prop_ver1_k_0.001')"
   ]
  },
  {
   "cell_type": "code",
   "execution_count": 16,
   "metadata": {},
   "outputs": [
    {
     "data": {
      "text/plain": [
       "<matplotlib.axes._subplots.AxesSubplot at 0x7fbe6829a748>"
      ]
     },
     "execution_count": 16,
     "metadata": {},
     "output_type": "execute_result"
    },
    {
     "data": {
      "image/png": "[encoded data removed]",
      "text/plain": [
       "<Figure size 432x288 with 1 Axes>"
      ]
     },
     "metadata": {},
     "output_type": "display_data"
    }
   ],
   "source": [
    "standard_scores = encoder.predict(x_test).ravel()\n",
    "#regularized_scores = encoded_regularized.predict(x_test).ravel()\n",
    "sns.distplot(standard_scores, hist=False, label='standard model')\n",
    "#sns.distplot(regularized_scores, hist=False, label='regularized model')"
   ]
  },
  {
   "cell_type": "code",
   "execution_count": 17,
   "metadata": {},
   "outputs": [],
   "source": [
    "# encode and decode some images\n",
    "# note that we take them from the *test* set\n",
    "# encoded_imgs = encoder.predict(x_test_min_max)\n",
    "# decoded_imgs_scaled = decoder.predict(encoded_imgs)\n",
    "#decoded_imgs_scaled = autoencoder.predict(x_test_min_max)\n",
    "decoded_imgs = autoencoder.predict(x_test)\n"
   ]
  },
  {
   "cell_type": "code",
   "execution_count": 18,
   "metadata": {},
   "outputs": [
    {
     "data": {
      "image/png": "[encoded data removed]",
      "text/plain": [
       "<Figure size 1440x288 with 12 Axes>"
      ]
     },
     "metadata": {},
     "output_type": "display_data"
    },
    {
     "name": "stdout",
     "output_type": "stream",
     "text": [
      "7397\n"
     ]
    }
   ],
   "source": [
    "n = 6  # how many digits we will display\n",
    "plt.figure(figsize=(20, 4))\n",
    "for i in range(n):\n",
    "    # display original\n",
    "    idea=np.random.randint(1,x_test.shape[0])\n",
    "    ax = plt.subplot(2, n, i + 1)\n",
    "    plt.imshow(x_test[idea].reshape(40, 16).transpose(),vmin=0, vmax=30)\n",
    "    plt.viridis()\n",
    "    ax.get_xaxis().set_visible(False)\n",
    "    ax.get_yaxis().set_visible(False)\n",
    "\n",
    "    # display reconstruction\n",
    "    ax = plt.subplot(2, n, i + 1 + n)\n",
    "    plt.imshow(decoded_imgs[idea].reshape(40, 16).transpose(),vmin=0, vmax=30)\n",
    "    plt.viridis()\n",
    "    ax.get_xaxis().set_visible(False)\n",
    "    ax.get_yaxis().set_visible(False)\n",
    "plt.show()\n",
    "print(idea)\n",
    "\n"
   ]
  },
  {
   "cell_type": "code",
   "execution_count": 19,
   "metadata": {
    "scrolled": true
   },
   "outputs": [
    {
     "data": {
      "text/plain": [
       "(6296, 3840)"
      ]
     },
     "execution_count": 19,
     "metadata": {},
     "output_type": "execute_result"
    }
   ],
   "source": [
    "import pandas as pd\n",
    "filename = '../datos_octubre_2018/p_OF_5mm_161mm003.h5'\n",
    "conjunto_datos_test=pd.read_hdf(filename,'MC');\n",
    "conjunto_datos_test.shape"
   ]
  },
  {
   "cell_type": "code",
   "execution_count": 20,
   "metadata": {},
   "outputs": [
    {
     "name": "stdout",
     "output_type": "stream",
     "text": [
      "(6296, 3840)\n",
      "(6296, 3840)\n"
     ]
    }
   ],
   "source": [
    "L1A=6;\n",
    "# hay tres L1 con 640 sensores (40*16)\n",
    "L1B=0;\n",
    "# hay dos L1 con 640 sensores (40*16)\n",
    "X_trained=conjunto_datos_test.values;\n",
    "x_trained=X_trained;\n",
    "\n",
    "for i in range (X_trained.shape[0]):\n",
    "    idea1=X_trained[i,:].reshape(img_rows,(L1A*img_cols));\n",
    "    ideat=idea1.transpose();\n",
    "    idea2=ideat.reshape(1,(L1A*img_cols)*img_rows);\n",
    "    x_trained[i,:] =idea2;\n",
    "x_tested = x_trained;\n",
    "print(x_trained.shape)\n",
    "print(x_tested.shape)"
   ]
  },
  {
   "cell_type": "markdown",
   "metadata": {},
   "source": [
    "# Vamos a procesar y comprimir con la red"
   ]
  },
  {
   "cell_type": "markdown",
   "metadata": {},
   "source": [
    "Ahora los particionamos y pasamos por las redes de compresión. Hay una red la A que se utiliza 5 veces"
   ]
  },
  {
   "cell_type": "code",
   "execution_count": 21,
   "metadata": {},
   "outputs": [],
   "source": [
    "\n",
    "def sigmoid(x, derivative=False):\n",
    "  return x*(1-x) if derivative else 1/(1+np.exp(-x))\n",
    "ideaA=np.zeros((L1A,input_output_dim_A))\n",
    "\n",
    "cara_externa=x_tested[:,0: L1A*input_output_dim_A] \n",
    "cara_externa_reconstruida=np.zeros((x_tested.shape[0],L1A*input_output_dim_A))\n",
    "for i in range(x_tested.shape[0]):\n",
    "    for k in range(L1A):\n",
    "        ideaA[k,:]=x_tested[i,k*input_output_dim_A:k*input_output_dim_A+input_output_dim_A]\n",
    "    salida_reconstructed_1 = autoencoder.predict(ideaA)    \n",
    "    \n",
    "    #entrada_imgs_A=(ideaA-min_A.transpose())/(max_A.transpose()-min_A.transpose())\n",
    "    #entrada_imgs_A=(ideaA) #he quitado el escalado\n",
    "    #encoded_imgs_A = sigmoid(np.dot(entrada_imgs_A, Encoder_weights_A) + Encoder_biases_A)\n",
    "    #decoded_imgs_A= (np.dot(encoded_imgs_A, Decoder_weights_A) + Decoder_biases_A)\n",
    "    #print(decoded_imgs_A.shape)\n",
    "    #salida_reconstructed_1 = decoded_imgs_A*(max_A.transpose()-min_A.transpose())+min_A.transpose();\n",
    "    #salida_reconstructed_1 = decoded_imgs_A #quito el escalado inverso    \n",
    " \n",
    "    hola1=np.reshape(salida_reconstructed_1,(L1A*input_output_dim_A))\n",
    "\n",
    "    #print(hola.shape)\n",
    "    salida_total=hola1\n",
    "    #salida_total[salida_total<0]=0\n",
    "    #print(salida_total.shape)\n",
    "    cara_externa_reconstruida[i]=salida_total\n",
    "  "
   ]
  },
  {
   "cell_type": "markdown",
   "metadata": {},
   "source": [
    "## Visualizamos los resultados"
   ]
  },
  {
   "cell_type": "markdown",
   "metadata": {},
   "source": [
    "Visualizamos todos los sensores: "
   ]
  },
  {
   "cell_type": "code",
   "execution_count": 22,
   "metadata": {
    "scrolled": true
   },
   "outputs": [
    {
     "data": {
      "image/png": "[encoded data removed]",
      "text/plain": [
       "<Figure size 2880x720 with 2 Axes>"
      ]
     },
     "metadata": {},
     "output_type": "display_data"
    }
   ],
   "source": [
    "n = 1  # how many digits we will display\n",
    "plt.figure(figsize=(40, 10))\n",
    "for i in range(n):\n",
    "    # display original\n",
    "    idea=np.random.randint(1,x_tested.shape[0])\n",
    "    #idea=1890\n",
    "    ax = plt.subplot(2, n, i + 1)\n",
    "    plt.imshow(cara_externa[idea].reshape(L1A*img_cols, img_rows).transpose(), vmin=0, vmax=30)\n",
    "    plt.viridis()\n",
    "    ax.get_xaxis().set_visible(False)\n",
    "    ax.get_yaxis().set_visible(False)\n",
    "\n",
    "    # display reconstruction\n",
    "    ax = plt.subplot(2, n, i + 1 + n)\n",
    "    plt.imshow(cara_externa_reconstruida[idea].reshape(L1A*img_cols, img_rows).transpose(), vmin=0, vmax=30)\n",
    "    plt.viridis()\n",
    "    ax.get_xaxis().set_visible(False)\n",
    "    ax.get_yaxis().set_visible(False)\n",
    "plt.show()"
   ]
  },
  {
   "cell_type": "markdown",
   "metadata": {},
   "source": [
    "Visualizamos ahora L1 a L1, teniendo en cuenta que hay de dos tipos:\n",
    "L1A (con 36 columnas )"
   ]
  },
  {
   "cell_type": "code",
   "execution_count": 23,
   "metadata": {
    "scrolled": true
   },
   "outputs": [
    {
     "data": {
      "image/png": "[encoded data removed]",
      "text/plain": [
       "<Figure size 2880x720 with 12 Axes>"
      ]
     },
     "metadata": {},
     "output_type": "display_data"
    }
   ],
   "source": [
    "n = L1A  # how many digits we will display\n",
    "plt.figure(figsize=(40, 10))\n",
    "for i in range(n):\n",
    "    # display original\n",
    "    ax = plt.subplot(2, n, i + 1)\n",
    "    plt.imshow(cara_externa[idea].reshape(L1A*img_cols, img_rows).transpose()[:,i*img_cols:(i+1)*img_cols] ,vmin=0, vmax=30)\n",
    "    plt.viridis()\n",
    "    ax.get_xaxis().set_visible(False)\n",
    "    ax.get_yaxis().set_visible(False)\n",
    "    ax = plt.subplot(2, n, i + 1+n)\n",
    "    plt.imshow(cara_externa_reconstruida[idea].reshape(L1A*img_cols, img_rows).transpose()[:,i*img_cols:(i+1)*img_cols] ,vmin=0, vmax=30)\n",
    "    plt.viridis()\n",
    "    ax.get_xaxis().set_visible(False)\n",
    "    ax.get_yaxis().set_visible(False)\n",
    "plt.show()"
   ]
  },
  {
   "cell_type": "code",
   "execution_count": 27,
   "metadata": {},
   "outputs": [
    {
     "name": "stdout",
     "output_type": "stream",
     "text": [
      "[[  0   0   0   0   0   0   0   0   0   0   0   0   0   0   0   0]\n",
      " [  0   0   0   0   0   0   0   0   0   0   0   0   0   0   0   0]\n",
      " [  0   0   0   0   0   0   0   0   0   0   0   0   0   0   1   0]\n",
      " [  0   0   0   0   0   0   0   0   0   0   0   0   0   0   0   0]\n",
      " [  0   0   0   0   0   0   0   1   0   0   0   0   0   0   0   0]\n",
      " [  0   0   0   0   0   0   0   0   0   0   0   0   0   0   0   0]\n",
      " [  0   0   0   0   0   0   0   0   0   0   0   0   1   0   0   0]\n",
      " [  0   0   0   0   0   0   0   0   0   0   0   0   0   0   0   0]\n",
      " [  0   0   0   0   0   0   0   0   0   0   0   0   0   0   0   0]\n",
      " [  0   0   0   0   0   0   0   0   0   0   0   0   0   0   0   0]\n",
      " [  0   0   0   1   0   0   0   0   0   0   0   0   0   0   0   0]\n",
      " [  0   0   0   0   0   0   0   0   0   0   0   0   0   0   0   0]\n",
      " [  0   0   0   0   0   0   0   0   0   0   1   0   0   0   1   0]\n",
      " [  0   0   0   0   0   0   0   0   0   0   0   0   0   0   0   0]\n",
      " [  0   0   0   0   0   0   0   0   1   0   0   0   0   0   0   0]\n",
      " [  0   0   0   0   0   0   0   0   0   0   0   0   0   0   0   0]\n",
      " [  0   0   0   0   0   0   0   0   0   0   0   0   0   0   0   0]\n",
      " [  0   0   0   0   0   0   0   0   0   0   0   0   0   0   1   0]\n",
      " [  0   0   0   0   0   0   0   1   0   0   0   0   0   0   0   0]\n",
      " [  0   1   0   0   0   0   0   0   0   0   0   0   0   0   0   0]\n",
      " [  0   0   1   0   0   1   0   0   0   0   1   0   0   0   0   0]\n",
      " [  1   0   0   0   1   0   1   0   0   0   0   0   0   1   0   0]\n",
      " [  0   0   0   0   0   0   0   0   0   0   0   0   0   0   0   0]\n",
      " [  0   0   0   0   0   0   0   0   0   0   1   0   0   0   0   0]\n",
      " [  0   1   0   0   1   0   1   0   0   0   0   0   0   1   0   0]\n",
      " [  0   0   0   1   0   4   0   0   1   1   0   0   1   0   0   0]\n",
      " [  1   0   0   1   1   2   3   1   0   2   1   0   0   0   0   0]\n",
      " [  0   1   1   0   5  22  20   6   1   1   0   1   0   0   0   0]\n",
      " [  1   0   1   0  18  78 122  38   3   0   0   0   0   0   0   0]\n",
      " [  0   0   0   2  15  70 103  25   2   0   0   0   0   0   0   0]\n",
      " [  0   0   0   0   2  28  20   8   0   0   0   0   0   0   0   0]\n",
      " [  0   0   0   0   0   2   1   0   0   2   1   0   0   0   0   0]\n",
      " [  0   0   0   0   0   0   0   0   1   1   0   1   0   0   0   0]\n",
      " [  0   0   0   0   0   0   0   0   0   0   0   0   0   0   0   0]\n",
      " [  0   0   0   0   0   0   0   0   0   0   0   0   0   0   0   0]\n",
      " [  0   0   0   0   0   0   0   0   1   0   1   0   0   0   0   0]\n",
      " [  0   0   0   0   0   0   0   0   0   0   0   0   0   2   0   0]\n",
      " [  2   0   0   0   0   0   0   0   0   0   0   0   0   0   0   0]\n",
      " [  0   0   0   0   1   0   0   0   0   0   0   0   0   0   0   0]\n",
      " [  0   0   0   0   0   0   0   0   0   0   0   0   0   0   0   0]]\n",
      "652\n"
     ]
    }
   ],
   "source": [
    "i=1\n",
    "print(cara_externa[idea].reshape(L1A*img_cols,img_rows)[i*img_cols:(i+1)*img_cols,:])\n",
    "print(np.sum(cara_externa[idea].reshape(L1A*img_cols,img_rows)[i*img_cols:(i+1)*img_cols,:]))"
   ]
  },
  {
   "cell_type": "code",
   "execution_count": 28,
   "metadata": {
    "scrolled": true
   },
   "outputs": [
    {
     "name": "stdout",
     "output_type": "stream",
     "text": [
      "[[ 3 -1 -2  5  1  1  1  0  1  1  1  2 -3  0  0  2]\n",
      " [ 0 -3 -3  0  0  0  5  0  0  1  1 -2  0  0 -2  1]\n",
      " [ 0 -2  0  0  1  0  0 -2  0  0 -1  0  2  0 -1  1]\n",
      " [-1 -5 -1  1  0 -2 -3  0  0 -2 -1  0  2 -3 -1  0]\n",
      " [-1 -4  0  1  0 -1 -1  1  1  0  0  0  0  1  0  1]\n",
      " [-1 -1 -1  2  0  0  0 -2 -1  0  0  0  0  1  0  1]\n",
      " [-1 -1  0  0 -2  0  1  0 -1 -3  1  1  0  1  2  1]\n",
      " [ 0  0  1  1  0  1  0  0  0  0 -1  2  1  1  0  5]\n",
      " [ 0  1  3  1  0  0  1  1  0  1  1  1  0 -1 -1  0]\n",
      " [ 0 -1  0  2  1  2  1  0  0  0  3  1  1  0 -1  0]\n",
      " [ 1  0 -1  0  0 -1  0  0  0  0  0  0  1  0 -1  0]\n",
      " [ 3  1  3  0 -1 -1  0 -1  0  6  0  0  0 -1  0  1]\n",
      " [ 0  2 -1  2  5  0  0  1  0  2  0 -1 -2 -2 -2  0]\n",
      " [ 0  0  0  0  0  1  4 -1 -1  0  0  0 -1  0 -1  0]\n",
      " [ 4  0  0 -1  0  0  0  0 -2  0  2  1  1  0  0  1]\n",
      " [ 0  1  1  0  0 -1  0  0  0  0  0 -1  1  1  3  1]\n",
      " [-2 -2 -4  0  2  0 -1 -1  0  1  1  0  1  0  2  0]\n",
      " [ 0 -1  0  0  2  3  0 -1  0  1  0  1  0  0  0  0]\n",
      " [ 0  0  1  0  2  2  0  0  0  2 -2 -2  0 -1  0  0]\n",
      " [-1 -1  0 -1  1  0  0 -2 -1  0  0  0  0 -2  0  0]\n",
      " [ 0  2 -1  0 -3  0  0  0  0 -2  0 -2  1  0  1 -3]\n",
      " [ 0  0  0  0  0 -1  0  1  0  1  0  0  0  0  1  3]\n",
      " [ 0 -2  0  1  0  0  0  3  0  0  0  2  1  0 -1 -1]\n",
      " [ 0  0  0  0  1  0  0  0  0 -1 -2  2  0  0  1  0]\n",
      " [-1  0  0  1  1  2  1  2  3  0  0  0 -1  0  1  0]\n",
      " [ 2  0  0  0  4 12 -2 -4  0  0  0  0 -1  0  0  2]\n",
      " [ 2  2  2 -1  3  3  2 -1 -4 -1  0  0  0  2  0  0]\n",
      " [ 0  0  1  0  4 26 21 11 -1 -2  0  1  1  0  0  0]\n",
      " [-1  0  3  4 17 47 43 27  6 -5 -1 -1  2 -1  0  0]\n",
      " [ 0  0  0  1 13 62 41 23  8 -2  0  0  0  0  0  0]\n",
      " [ 0  0  0  0  3 24 22  8 -2  0  1 -1  0  0  0  0]\n",
      " [ 2  1  0  0  0  2  4  0  0  0  3  0  0  2  1  0]\n",
      " [ 0  0  0 -2  0 -2 -1 -3 -1  0  0  0  0  1  0  0]\n",
      " [ 0  0  0  1  0 -1 -2 -4 -2  0  0  0  0  1 -1 -3]\n",
      " [ 0  0  3  0  1  1  0 -3 -3  0  0  1 -1  0  0 -1]\n",
      " [-1  1  0  0  0  4  1  0 -1 -1  1  0  0  0  5  0]\n",
      " [-1  0  0 -1 -1  0  5  0  0  0  3  0  0  0  1  0]\n",
      " [ 0  0  0 -3 -4  0 -2 -1  0  0  0  0  0  0  1  0]\n",
      " [ 0  0  0 -1  0  0  0 -2 -1  0  4  0  0  0  0  0]\n",
      " [ 0  0  0  0  0  0  0  1  3  1  0  0  0 -1  0 -1]]\n",
      "498.99129707785323\n"
     ]
    }
   ],
   "source": [
    "print(cara_externa_reconstruida[idea].reshape(L1A*img_cols,img_rows)[i*img_cols:(i+1)*img_cols,:].astype(int))\n",
    "print(np.sum(cara_externa_reconstruida[idea].reshape(L1A*img_cols,img_rows)[i*img_cols:(i+1)*img_cols,:]))"
   ]
  },
  {
   "cell_type": "code",
   "execution_count": 26,
   "metadata": {},
   "outputs": [
    {
     "name": "stdout",
     "output_type": "stream",
     "text": [
      "5306\n"
     ]
    }
   ],
   "source": [
    "print(idea)"
   ]
  },
  {
   "cell_type": "code",
   "execution_count": null,
   "metadata": {},
   "outputs": [],
   "source": []
  }
 ],
 "metadata": {
  "anaconda-cloud": {},
  "kernelspec": {
   "display_name": "Python [conda env:tensorflow]",
   "language": "python",
   "name": "conda-env-tensorflow-py"
  },
  "language_info": {
   "codemirror_mode": {
    "name": "ipython",
    "version": 3
   },
   "file_extension": ".py",
   "mimetype": "text/x-python",
   "name": "python",
   "nbconvert_exporter": "python",
   "pygments_lexer": "ipython3",
   "version": "3.6.5"
  },
  "varInspector": {
   "cols": {
    "lenName": 16,
    "lenType": 16,
    "lenVar": 40
   },
   "kernels_config": {
    "python": {
     "delete_cmd_postfix": "",
     "delete_cmd_prefix": "del ",
     "library": "var_list.py",
     "varRefreshCmd": "print(var_dic_list())"
    },
    "r": {
     "delete_cmd_postfix": ") ",
     "delete_cmd_prefix": "rm(",
     "library": "var_list.r",
     "varRefreshCmd": "cat(var_dic_list()) "
    }
   },
   "position": {
    "height": "495px",
    "left": "1249px",
    "right": "57px",
    "top": "240px",
    "width": "390px"
   },
   "types_to_exclude": [
    "module",
    "function",
    "builtin_function_or_method",
    "instance",
    "_Feature"
   ],
   "window_display": false
  }
 },
 "nbformat": 4,
 "nbformat_minor": 1
}
