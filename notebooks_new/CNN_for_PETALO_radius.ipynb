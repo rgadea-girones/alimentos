{
 "cells": [
  {
   "cell_type": "markdown",
   "metadata": {},
   "source": [
    "# Simple CNN for PETALO\n",
    "\n",
    "Esta red la vamos a utilizar para obtener el radio "
   ]
  },
  {
   "cell_type": "code",
   "execution_count": 1,
   "metadata": {},
   "outputs": [
    {
     "name": "stdout",
     "output_type": "stream",
     "text": [
      "['', '/home/rgadea3/anaconda3/envs/tensorflow/lib/python36.zip', '/home/rgadea3/anaconda3/envs/tensorflow/lib/python3.6', '/home/rgadea3/anaconda3/envs/tensorflow/lib/python3.6/lib-dynload', '/home/rgadea3/anaconda3/envs/tensorflow/lib/python3.6/site-packages', '/home/rgadea3/anaconda3/envs/tensorflow/lib/python3.6/site-packages/IPython/extensions', '/home/rgadea3/.ipython']\n"
     ]
    },
    {
     "name": "stderr",
     "output_type": "stream",
     "text": [
      "Using TensorFlow backend.\n"
     ]
    }
   ],
   "source": [
    "import numpy as np\n",
    "np.random.seed(1337)  # for reproducibility\n",
    "import sys\n",
    "print(sys.path)\n",
    "sys.path.append(\"/home/rgadea/lmfit-py/\")\n",
    "from keras.datasets import mnist\n",
    "from keras.models import Sequential\n",
    "from keras.layers import Dense, Dropout, Activation, Flatten\n",
    "from keras.layers import Conv2D, MaxPooling2D,BatchNormalization\n",
    "from keras.utils import np_utils\n",
    "from math import floor\n",
    "from lmfit.models import  GaussianModel\n",
    "import matplotlib.pyplot as plt"
   ]
  },
  {
   "cell_type": "markdown",
   "metadata": {},
   "source": [
    "## Vamos introducir los datos de petalo preprocesados en matlab\n"
   ]
  },
  {
   "cell_type": "code",
   "execution_count": 2,
   "metadata": {},
   "outputs": [],
   "source": [
    "import scipy.io as sio\n",
    "datos_matlab = sio.loadmat('../datos_mayo_2018/conjunto_entrenamiento_mayo_2018_ring1y2_filtrado9_run200_pho_super+.mat')\n",
    "conjunto_datos=datos_matlab.get('photodefbox2_todo_fil2')"
   ]
  },
  {
   "cell_type": "markdown",
   "metadata": {},
   "source": [
    "## Network parameters:"
   ]
  },
  {
   "cell_type": "code",
   "execution_count": 3,
   "metadata": {},
   "outputs": [],
   "source": [
    "batch_size = 500\n",
    "nb_classes = 10\n",
    "nb_epoch = 150\n",
    "\n",
    "# input image dimensions\n",
    "img_rows, img_cols = 16, 30\n",
    "# number of convolutional filters to use\n",
    "nb_filters = 32\n",
    "# size of pooling area for max pooling\n",
    "pool_size = (2, 2)\n",
    "# convolution kernel size\n",
    "kernel_size = (4, 4)"
   ]
  },
  {
   "cell_type": "markdown",
   "metadata": {},
   "source": [
    "## Prepare data into training and test set."
   ]
  },
  {
   "cell_type": "code",
   "execution_count": 4,
   "metadata": {},
   "outputs": [
    {
     "name": "stdout",
     "output_type": "stream",
     "text": [
      "69146\n",
      "conjunto_datos shape: (69146, 898)\n",
      "41487\n",
      "13829\n",
      "13830\n",
      "(2966, 480)\n",
      "(3398, 480)\n",
      "(2933, 480)\n",
      "(2498, 480)\n",
      "(2035, 480)\n"
     ]
    }
   ],
   "source": [
    "# the data, shuffled and split between train and test sets\n",
    "# (X_train, y_train), (X_test, y_test) = mnist.load_data()\n",
    "numero_muestras=conjunto_datos.shape[0]\n",
    "print(numero_muestras)\n",
    "print('conjunto_datos shape:', conjunto_datos.shape)\n",
    "\n",
    "tr_size=60\n",
    "val_size=20\n",
    "test_size=100-val_size-tr_size\n",
    "\n",
    "tamanyo_tr=floor(tr_size*numero_muestras/100)\n",
    "tamanyo_val=floor(val_size*numero_muestras/100)\n",
    "tamanyo_test=numero_muestras-tamanyo_tr-tamanyo_val\n",
    "print(tamanyo_tr)\n",
    "print(tamanyo_val)\n",
    "print(tamanyo_test)\n",
    "XY_test=conjunto_datos[tamanyo_tr+tamanyo_val:numero_muestras,:]\n",
    "XY_test_bin0=XY_test[np.where((XY_test[:,1]>=99.3128) * (XY_test[:,1]<105.3128))]\n",
    "XY_test_bin1=XY_test[np.where((XY_test[:,1]>=105.3128) * (XY_test[:,1]<111.3128))]\n",
    "XY_test_bin2=XY_test[np.where((XY_test[:,1]>=111.3128) * (XY_test[:,1]<117.3128))]\n",
    "XY_test_bin3=XY_test[np.where((XY_test[:,1]>=117.3128) * (XY_test[:,1]<123.3128))]\n",
    "XY_test_bin4=XY_test[np.where((XY_test[:,1]>=123.3128))]\n",
    "\n",
    "X_train=conjunto_datos[:tamanyo_tr,3:483]\n",
    "X_val=conjunto_datos[tamanyo_tr:tamanyo_tr+tamanyo_val,3:483]\n",
    "X_test=conjunto_datos[tamanyo_tr+tamanyo_val:numero_muestras,3:483]\n",
    "\n",
    "X_test_bin0=XY_test_bin0[:,3:483]\n",
    "Y_test_bin0=XY_test_bin0[:,1]\n",
    "print(X_test_bin0.shape)\n",
    "X_test_bin1=XY_test_bin1[:,3:483]\n",
    "Y_test_bin1=XY_test_bin1[:,1]\n",
    "print(X_test_bin1.shape)\n",
    "X_test_bin2=XY_test_bin2[:,3:483]\n",
    "Y_test_bin2=XY_test_bin2[:,1]\n",
    "print(X_test_bin2.shape)\n",
    "X_test_bin3=XY_test_bin3[:,3:483]\n",
    "Y_test_bin3=XY_test_bin3[:,1]\n",
    "print(X_test_bin3.shape)\n",
    "X_test_bin4=XY_test_bin4[:,3:483]\n",
    "Y_test_bin4=XY_test_bin4[:,1]\n",
    "print(X_test_bin4.shape)\n",
    "\n",
    "\n",
    "\n",
    "Y_train=conjunto_datos[:tamanyo_tr,1] #elijo la coordenada radius\n",
    "Y_val=conjunto_datos[tamanyo_tr:tamanyo_tr+tamanyo_val,1] #elijo la corrdenada radius\n",
    "Y_test=conjunto_datos[tamanyo_tr+tamanyo_val:numero_muestras,1] #elijo la corrdenada radius"
   ]
  },
  {
   "cell_type": "code",
   "execution_count": 5,
   "metadata": {},
   "outputs": [],
   "source": [
    "X_train = X_train.reshape(X_train.shape[0], img_cols, img_rows,1)\n",
    "X_val = X_val.reshape(X_val.shape[0], img_cols, img_rows,1)\n",
    "X_test = X_test.reshape(X_test.shape[0], img_cols, img_rows,1)\n",
    "\n",
    "X_test_bin0 = X_test_bin0.reshape(X_test_bin0.shape[0], img_cols, img_rows,1)\n",
    "X_test_bin1 = X_test_bin1.reshape(X_test_bin1.shape[0], img_cols, img_rows,1)\n",
    "X_test_bin2 = X_test_bin2.reshape(X_test_bin2.shape[0], img_cols, img_rows,1)\n",
    "X_test_bin3 = X_test_bin3.reshape(X_test_bin3.shape[0], img_cols, img_rows,1)\n",
    "X_test_bin4 = X_test_bin4.reshape(X_test_bin4.shape[0], img_cols, img_rows,1)\n",
    "\n",
    "input_shape = (img_cols, img_rows,1)\n",
    "#input_shape=input_shape.astype('int32')"
   ]
  },
  {
   "cell_type": "code",
   "execution_count": 6,
   "metadata": {},
   "outputs": [
    {
     "name": "stdout",
     "output_type": "stream",
     "text": [
      "X_train shape: (41487, 30, 16, 1)\n",
      "41487 train samples\n",
      "13829 validation samples\n",
      "13830 test samples\n"
     ]
    }
   ],
   "source": [
    "X_train = X_train.astype('float32')\n",
    "X_val= X_val.astype('float32')\n",
    "X_test = X_test.astype('float32')\n",
    "\n",
    "print('X_train shape:', X_train.shape)\n",
    "print(X_train.shape[0], 'train samples')\n",
    "print(X_val.shape[0], 'validation samples')\n",
    "print(X_test.shape[0], 'test samples')"
   ]
  },
  {
   "cell_type": "markdown",
   "metadata": {},
   "source": [
    "Display 20 random training images using image"
   ]
  },
  {
   "cell_type": "code",
   "execution_count": 7,
   "metadata": {},
   "outputs": [
    {
     "data": {
      "image/png": "[encoded data removed]",
      "text/plain": [
       "<Figure size 432x288 with 1 Axes>"
      ]
     },
     "metadata": {},
     "output_type": "display_data"
    },
    {
     "data": {
      "image/png": "[encoded data removed]",
      "text/plain": [
       "<Figure size 432x288 with 1 Axes>"
      ]
     },
     "metadata": {},
     "output_type": "display_data"
    },
    {
     "data": {
      "image/png": "[encoded data removed]",
      "text/plain": [
       "<Figure size 432x288 with 1 Axes>"
      ]
     },
     "metadata": {},
     "output_type": "display_data"
    },
    {
     "data": {
      "image/png": "[encoded data removed]",
      "text/plain": [
       "<Figure size 432x288 with 1 Axes>"
      ]
     },
     "metadata": {},
     "output_type": "display_data"
    }
   ],
   "source": [
    "# convert class vectors to binary class matrices\n",
    "#Y_train = np_utils.to_categorical(y_train, nb_classes)\n",
    "#Y_test = np_utils.to_categorical(y_test, nb_classes)\n",
    "for i in range(1,5):\n",
    "    idea=np.random.randint(1,X_train.shape[0])\n",
    "    plt.imshow(np.reshape(X_train[idea].transpose(), [16, 30]), cmap='viridis')\n",
    "    plt.show()"
   ]
  },
  {
   "cell_type": "markdown",
   "metadata": {},
   "source": [
    "## Build the CNN. "
   ]
  },
  {
   "cell_type": "code",
   "execution_count": 8,
   "metadata": {},
   "outputs": [],
   "source": [
    "model = Sequential()\n",
    "\n",
    "model.add(Conv2D(8, kernel_size=kernel_size,\n",
    "                        padding='same',\n",
    "                        input_shape=(30,16,1)))\n",
    "model.add(BatchNormalization())\n",
    "model.add(Activation('relu'))\n",
    "model.add(MaxPooling2D(pool_size=pool_size))\n",
    "\n",
    "model.add(Conv2D(16, kernel_size, padding='same'))\n",
    "model.add(BatchNormalization())\n",
    "model.add(Activation('relu'))\n",
    "model.add(MaxPooling2D(pool_size=pool_size))\n",
    "\n",
    "model.add(Conv2D(32, kernel_size, padding='same'))\n",
    "model.add(BatchNormalization())\n",
    "model.add(Activation('relu'))\n",
    "\n",
    "model.add(Conv2D(64, kernel_size, padding='same'))\n",
    "model.add(BatchNormalization())\n",
    "model.add(Activation('relu'))\n",
    "\n",
    "model.add(Dropout(0.2))\n",
    "model.add(Flatten())\n",
    "model.add(Dense(1))\n",
    "\n",
    "\n",
    "model.compile(loss='mean_squared_error',\n",
    "              optimizer='rmsPROP',\n",
    "              metrics=['mae','acc'])\n"
   ]
  },
  {
   "cell_type": "markdown",
   "metadata": {},
   "source": [
    "Show a summary of the model parameters. "
   ]
  },
  {
   "cell_type": "code",
   "execution_count": 9,
   "metadata": {},
   "outputs": [
    {
     "name": "stdout",
     "output_type": "stream",
     "text": [
      "_________________________________________________________________\n",
      "Layer (type)                 Output Shape              Param #   \n",
      "=================================================================\n",
      "conv2d_1 (Conv2D)            (None, 30, 16, 8)         136       \n",
      "_________________________________________________________________\n",
      "batch_normalization_1 (Batch (None, 30, 16, 8)         32        \n",
      "_________________________________________________________________\n",
      "activation_1 (Activation)    (None, 30, 16, 8)         0         \n",
      "_________________________________________________________________\n",
      "max_pooling2d_1 (MaxPooling2 (None, 15, 8, 8)          0         \n",
      "_________________________________________________________________\n",
      "conv2d_2 (Conv2D)            (None, 15, 8, 16)         2064      \n",
      "_________________________________________________________________\n",
      "batch_normalization_2 (Batch (None, 15, 8, 16)         64        \n",
      "_________________________________________________________________\n",
      "activation_2 (Activation)    (None, 15, 8, 16)         0         \n",
      "_________________________________________________________________\n",
      "max_pooling2d_2 (MaxPooling2 (None, 7, 4, 16)          0         \n",
      "_________________________________________________________________\n",
      "conv2d_3 (Conv2D)            (None, 7, 4, 32)          8224      \n",
      "_________________________________________________________________\n",
      "batch_normalization_3 (Batch (None, 7, 4, 32)          128       \n",
      "_________________________________________________________________\n",
      "activation_3 (Activation)    (None, 7, 4, 32)          0         \n",
      "_________________________________________________________________\n",
      "conv2d_4 (Conv2D)            (None, 7, 4, 64)          32832     \n",
      "_________________________________________________________________\n",
      "batch_normalization_4 (Batch (None, 7, 4, 64)          256       \n",
      "_________________________________________________________________\n",
      "activation_4 (Activation)    (None, 7, 4, 64)          0         \n",
      "_________________________________________________________________\n",
      "dropout_1 (Dropout)          (None, 7, 4, 64)          0         \n",
      "_________________________________________________________________\n",
      "flatten_1 (Flatten)          (None, 1792)              0         \n",
      "_________________________________________________________________\n",
      "dense_1 (Dense)              (None, 1)                 1793      \n",
      "=================================================================\n",
      "Total params: 45,529\n",
      "Trainable params: 45,289\n",
      "Non-trainable params: 240\n",
      "_________________________________________________________________\n"
     ]
    }
   ],
   "source": [
    "model.summary()"
   ]
  },
  {
   "cell_type": "markdown",
   "metadata": {},
   "source": [
    "And now train the model and evaluate on the test set. "
   ]
  },
  {
   "cell_type": "code",
   "execution_count": 10,
   "metadata": {
    "scrolled": true
   },
   "outputs": [
    {
     "name": "stdout",
     "output_type": "stream",
     "text": [
      "Train on 41487 samples, validate on 13829 samples\n",
      "Epoch 1/150\n",
      "41487/41487 [==============================] - 6s 137us/step - loss: 2683.2367 - mean_absolute_error: 42.9387 - acc: 0.0000e+00 - val_loss: 259.0277 - val_mean_absolute_error: 15.8470 - val_acc: 0.0000e+00\n",
      "Epoch 2/150\n",
      "41487/41487 [==============================] - 2s 50us/step - loss: 12.5715 - mean_absolute_error: 2.7070 - acc: 0.0000e+00 - val_loss: 138.7864 - val_mean_absolute_error: 11.6197 - val_acc: 0.0000e+00\n",
      "Epoch 3/150\n",
      "41487/41487 [==============================] - 2s 51us/step - loss: 8.9775 - mean_absolute_error: 2.3550 - acc: 0.0000e+00 - val_loss: 3.5584 - val_mean_absolute_error: 1.4862 - val_acc: 0.0000e+00\n",
      "Epoch 4/150\n",
      "41487/41487 [==============================] - 2s 50us/step - loss: 8.1804 - mean_absolute_error: 2.2466 - acc: 0.0000e+00 - val_loss: 8.6809 - val_mean_absolute_error: 2.5878 - val_acc: 0.0000e+00\n",
      "Epoch 5/150\n",
      "41487/41487 [==============================] - 2s 51us/step - loss: 7.6575 - mean_absolute_error: 2.1781 - acc: 0.0000e+00 - val_loss: 37.3006 - val_mean_absolute_error: 6.0130 - val_acc: 0.0000e+00\n",
      "Epoch 6/150\n",
      "41487/41487 [==============================] - 2s 50us/step - loss: 7.3739 - mean_absolute_error: 2.1362 - acc: 0.0000e+00 - val_loss: 14.7929 - val_mean_absolute_error: 3.6771 - val_acc: 0.0000e+00 - loss: 7.3935 - mean_absolute_error: 2.1358 - acc:\n",
      "Epoch 7/150\n",
      "41487/41487 [==============================] - 2s 50us/step - loss: 7.3113 - mean_absolute_error: 2.1271 - acc: 0.0000e+00 - val_loss: 10.7582 - val_mean_absolute_error: 3.0582 - val_acc: 0.0000e+00\n",
      "Epoch 8/150\n",
      "41487/41487 [==============================] - 2s 50us/step - loss: 6.8880 - mean_absolute_error: 2.0659 - acc: 0.0000e+00 - val_loss: 20.8577 - val_mean_absolute_error: 4.4641 - val_acc: 0.0000e+00\n",
      "Epoch 9/150\n",
      "41487/41487 [==============================] - 2s 50us/step - loss: 6.7994 - mean_absolute_error: 2.0528 - acc: 0.0000e+00 - val_loss: 38.4052 - val_mean_absolute_error: 6.1057 - val_acc: 0.0000e+00\n",
      "Epoch 10/150\n",
      "41487/41487 [==============================] - 2s 51us/step - loss: 6.3725 - mean_absolute_error: 1.9799 - acc: 0.0000e+00 - val_loss: 1.6477 - val_mean_absolute_error: 0.9725 - val_acc: 0.0000e+00\n",
      "Epoch 11/150\n",
      "41487/41487 [==============================] - 2s 51us/step - loss: 6.4446 - mean_absolute_error: 1.9928 - acc: 0.0000e+00 - val_loss: 20.1261 - val_mean_absolute_error: 4.3877 - val_acc: 0.0000e+00\n",
      "Epoch 12/150\n",
      "41487/41487 [==============================] - 2s 51us/step - loss: 6.0892 - mean_absolute_error: 1.9438 - acc: 0.0000e+00 - val_loss: 3.1531 - val_mean_absolute_error: 1.4105 - val_acc: 0.0000e+00\n",
      "Epoch 13/150\n",
      "41487/41487 [==============================] - 2s 51us/step - loss: 6.2679 - mean_absolute_error: 1.9609 - acc: 0.0000e+00 - val_loss: 4.6868 - val_mean_absolute_error: 1.9471 - val_acc: 0.0000e+00\n",
      "Epoch 14/150\n",
      "41487/41487 [==============================] - 2s 51us/step - loss: 6.2075 - mean_absolute_error: 1.9584 - acc: 0.0000e+00 - val_loss: 1.3240 - val_mean_absolute_error: 0.8395 - val_acc: 0.0000e+00\n",
      "Epoch 15/150\n",
      "41487/41487 [==============================] - 2s 50us/step - loss: 6.0125 - mean_absolute_error: 1.9277 - acc: 0.0000e+00 - val_loss: 15.8551 - val_mean_absolute_error: 3.8365 - val_acc: 0.0000e+00\n",
      "Epoch 16/150\n",
      "41487/41487 [==============================] - 2s 50us/step - loss: 5.9180 - mean_absolute_error: 1.9132 - acc: 0.0000e+00 - val_loss: 6.5308 - val_mean_absolute_error: 2.4036 - val_acc: 0.0000e+00\n",
      "Epoch 17/150\n",
      "41487/41487 [==============================] - 2s 51us/step - loss: 5.7264 - mean_absolute_error: 1.8785 - acc: 0.0000e+00 - val_loss: 7.2911 - val_mean_absolute_error: 2.5689 - val_acc: 0.0000e+00\n",
      "Epoch 18/150\n",
      "41487/41487 [==============================] - 2s 50us/step - loss: 5.6416 - mean_absolute_error: 1.8597 - acc: 0.0000e+00 - val_loss: 10.6118 - val_mean_absolute_error: 3.1367 - val_acc: 0.0000e+00\n",
      "Epoch 19/150\n",
      "41487/41487 [==============================] - 2s 51us/step - loss: 5.6616 - mean_absolute_error: 1.8662 - acc: 0.0000e+00 - val_loss: 5.7470 - val_mean_absolute_error: 2.2223 - val_acc: 0.0000e+00\n",
      "Epoch 20/150\n",
      "41487/41487 [==============================] - 2s 50us/step - loss: 5.6774 - mean_absolute_error: 1.8674 - acc: 0.0000e+00 - val_loss: 1.6421 - val_mean_absolute_error: 1.0315 - val_acc: 0.0000e+00\n",
      "Epoch 21/150\n",
      "41487/41487 [==============================] - 2s 50us/step - loss: 5.6658 - mean_absolute_error: 1.8707 - acc: 0.0000e+00 - val_loss: 13.4416 - val_mean_absolute_error: 3.5693 - val_acc: 0.0000e+00\n",
      "Epoch 22/150\n",
      "41487/41487 [==============================] - 2s 51us/step - loss: 5.6722 - mean_absolute_error: 1.8695 - acc: 0.0000e+00 - val_loss: 7.5776 - val_mean_absolute_error: 2.5883 - val_acc: 0.0000e+00\n",
      "Epoch 23/150\n",
      "41487/41487 [==============================] - 2s 50us/step - loss: 5.4822 - mean_absolute_error: 1.8425 - acc: 0.0000e+00 - val_loss: 2.3463 - val_mean_absolute_error: 1.2902 - val_acc: 0.0000e+00\n",
      "Epoch 24/150\n",
      "41487/41487 [==============================] - 2s 51us/step - loss: 5.5272 - mean_absolute_error: 1.8487 - acc: 0.0000e+00 - val_loss: 1.9449 - val_mean_absolute_error: 1.1511 - val_acc: 0.0000e+00\n",
      "Epoch 25/150\n",
      "41487/41487 [==============================] - 2s 52us/step - loss: 5.4346 - mean_absolute_error: 1.8347 - acc: 0.0000e+00 - val_loss: 2.3921 - val_mean_absolute_error: 1.2832 - val_acc: 0.0000e+00\n",
      "Epoch 26/150\n",
      "41487/41487 [==============================] - 2s 49us/step - loss: 5.5765 - mean_absolute_error: 1.8558 - acc: 0.0000e+00 - val_loss: 6.1435 - val_mean_absolute_error: 2.3384 - val_acc: 0.0000e+00\n",
      "Epoch 27/150\n",
      "41487/41487 [==============================] - 2s 51us/step - loss: 5.4316 - mean_absolute_error: 1.8284 - acc: 0.0000e+00 - val_loss: 5.4972 - val_mean_absolute_error: 2.1907 - val_acc: 0.0000e+00\n",
      "Epoch 28/150\n",
      "41487/41487 [==============================] - 2s 51us/step - loss: 5.5584 - mean_absolute_error: 1.8562 - acc: 0.0000e+00 - val_loss: 7.8783 - val_mean_absolute_error: 2.6406 - val_acc: 0.0000e+00\n",
      "Epoch 29/150\n",
      "41487/41487 [==============================] - 2s 50us/step - loss: 5.2733 - mean_absolute_error: 1.8067 - acc: 0.0000e+00 - val_loss: 7.5682 - val_mean_absolute_error: 2.6218 - val_acc: 0.0000e+00\n",
      "Epoch 30/150\n",
      "41487/41487 [==============================] - 2s 51us/step - loss: 5.4193 - mean_absolute_error: 1.8255 - acc: 0.0000e+00 - val_loss: 4.9182 - val_mean_absolute_error: 2.0604 - val_acc: 0.0000e+00\n",
      "Epoch 31/150\n",
      "41487/41487 [==============================] - 2s 51us/step - loss: 5.3527 - mean_absolute_error: 1.8213 - acc: 0.0000e+00 - val_loss: 14.7659 - val_mean_absolute_error: 3.7491 - val_acc: 0.0000e+00\n",
      "Epoch 32/150\n",
      "41487/41487 [==============================] - 2s 51us/step - loss: 5.3381 - mean_absolute_error: 1.8173 - acc: 0.0000e+00 - val_loss: 0.8861 - val_mean_absolute_error: 0.6250 - val_acc: 0.0000e+00\n",
      "Epoch 33/150\n",
      "41487/41487 [==============================] - 2s 50us/step - loss: 5.2216 - mean_absolute_error: 1.7980 - acc: 0.0000e+00 - val_loss: 5.9089 - val_mean_absolute_error: 2.2603 - val_acc: 0.0000e+00\n",
      "Epoch 34/150\n",
      "41487/41487 [==============================] - 2s 51us/step - loss: 5.2036 - mean_absolute_error: 1.7873 - acc: 0.0000e+00 - val_loss: 3.5719 - val_mean_absolute_error: 1.6621 - val_acc: 0.0000e+00\n",
      "Epoch 35/150\n",
      "41487/41487 [==============================] - 2s 50us/step - loss: 5.2658 - mean_absolute_error: 1.8010 - acc: 0.0000e+00 - val_loss: 1.0151 - val_mean_absolute_error: 0.6843 - val_acc: 0.0000e+00\n",
      "Epoch 36/150\n",
      "41487/41487 [==============================] - 2s 51us/step - loss: 5.1039 - mean_absolute_error: 1.7758 - acc: 0.0000e+00 - val_loss: 2.5373 - val_mean_absolute_error: 1.3504 - val_acc: 0.0000e+00\n",
      "Epoch 37/150\n",
      "41487/41487 [==============================] - 2s 51us/step - loss: 5.2778 - mean_absolute_error: 1.8018 - acc: 0.0000e+00 - val_loss: 2.0879 - val_mean_absolute_error: 1.1841 - val_acc: 0.0000e+00\n",
      "Epoch 38/150\n",
      "41487/41487 [==============================] - 2s 50us/step - loss: 5.2150 - mean_absolute_error: 1.7907 - acc: 0.0000e+00 - val_loss: 0.9419 - val_mean_absolute_error: 0.6310 - val_acc: 0.0000e+00\n",
      "Epoch 39/150\n"
     ]
    },
    {
     "name": "stdout",
     "output_type": "stream",
     "text": [
      "41487/41487 [==============================] - 2s 50us/step - loss: 5.0282 - mean_absolute_error: 1.7630 - acc: 0.0000e+00 - val_loss: 0.7719 - val_mean_absolute_error: 0.5614 - val_acc: 0.0000e+00\n",
      "Epoch 40/150\n",
      "41487/41487 [==============================] - 2s 50us/step - loss: 5.1374 - mean_absolute_error: 1.7820 - acc: 0.0000e+00 - val_loss: 1.7203 - val_mean_absolute_error: 1.0435 - val_acc: 0.0000e+00\n",
      "Epoch 41/150\n",
      "41487/41487 [==============================] - 2s 50us/step - loss: 5.2826 - mean_absolute_error: 1.8064 - acc: 0.0000e+00 - val_loss: 0.9102 - val_mean_absolute_error: 0.6545 - val_acc: 0.0000e+00\n",
      "Epoch 42/150\n",
      "41487/41487 [==============================] - 2s 51us/step - loss: 5.1696 - mean_absolute_error: 1.7847 - acc: 0.0000e+00 - val_loss: 1.1770 - val_mean_absolute_error: 0.8020 - val_acc: 0.0000e+00\n",
      "Epoch 43/150\n",
      "41487/41487 [==============================] - 2s 50us/step - loss: 5.1756 - mean_absolute_error: 1.7906 - acc: 0.0000e+00 - val_loss: 4.3608 - val_mean_absolute_error: 1.9403 - val_acc: 0.0000e+00\n",
      "Epoch 44/150\n",
      "41487/41487 [==============================] - 2s 50us/step - loss: 5.1789 - mean_absolute_error: 1.7901 - acc: 0.0000e+00 - val_loss: 2.9155 - val_mean_absolute_error: 1.5243 - val_acc: 0.0000e+00\n",
      "Epoch 45/150\n",
      "41487/41487 [==============================] - 2s 50us/step - loss: 5.0458 - mean_absolute_error: 1.7661 - acc: 0.0000e+00 - val_loss: 1.6356 - val_mean_absolute_error: 1.0252 - val_acc: 0.0000e+00\n",
      "Epoch 46/150\n",
      "41487/41487 [==============================] - 2s 50us/step - loss: 5.0089 - mean_absolute_error: 1.7568 - acc: 0.0000e+00 - val_loss: 8.4214 - val_mean_absolute_error: 2.7482 - val_acc: 0.0000e+00\n",
      "Epoch 47/150\n",
      "41487/41487 [==============================] - 2s 50us/step - loss: 5.0852 - mean_absolute_error: 1.7739 - acc: 0.0000e+00 - val_loss: 0.7139 - val_mean_absolute_error: 0.5445 - val_acc: 0.0000e+00\n",
      "Epoch 48/150\n",
      "41487/41487 [==============================] - 2s 49us/step - loss: 5.1301 - mean_absolute_error: 1.7799 - acc: 0.0000e+00 - val_loss: 1.2955 - val_mean_absolute_error: 0.8759 - val_acc: 0.0000e+00\n",
      "Epoch 49/150\n",
      "41487/41487 [==============================] - 2s 50us/step - loss: 5.0031 - mean_absolute_error: 1.7579 - acc: 0.0000e+00 - val_loss: 0.7684 - val_mean_absolute_error: 0.5753 - val_acc: 0.0000e+00\n",
      "Epoch 50/150\n",
      "41487/41487 [==============================] - 2s 51us/step - loss: 4.9853 - mean_absolute_error: 1.7540 - acc: 0.0000e+00 - val_loss: 1.1638 - val_mean_absolute_error: 0.7837 - val_acc: 0.0000e+00\n",
      "Epoch 51/150\n",
      "41487/41487 [==============================] - 2s 50us/step - loss: 4.8823 - mean_absolute_error: 1.7332 - acc: 0.0000e+00 - val_loss: 1.7705 - val_mean_absolute_error: 1.1044 - val_acc: 0.0000e+00\n",
      "Epoch 52/150\n",
      "41487/41487 [==============================] - 2s 51us/step - loss: 4.9827 - mean_absolute_error: 1.7599 - acc: 0.0000e+00 - val_loss: 1.4376 - val_mean_absolute_error: 0.9395 - val_acc: 0.0000e+00\n",
      "Epoch 53/150\n",
      "41487/41487 [==============================] - 2s 51us/step - loss: 4.9083 - mean_absolute_error: 1.7372 - acc: 0.0000e+00 - val_loss: 2.6131 - val_mean_absolute_error: 1.4304 - val_acc: 0.0000e+00\n",
      "Epoch 54/150\n",
      "41487/41487 [==============================] - 2s 50us/step - loss: 4.9188 - mean_absolute_error: 1.7433 - acc: 0.0000e+00 - val_loss: 0.7605 - val_mean_absolute_error: 0.5418 - val_acc: 0.0000e+00\n",
      "Epoch 55/150\n",
      "41487/41487 [==============================] - 2s 50us/step - loss: 5.0631 - mean_absolute_error: 1.7661 - acc: 0.0000e+00 - val_loss: 2.0518 - val_mean_absolute_error: 1.2333 - val_acc: 0.0000e+00\n",
      "Epoch 56/150\n",
      "41487/41487 [==============================] - 2s 50us/step - loss: 4.8445 - mean_absolute_error: 1.7314 - acc: 0.0000e+00 - val_loss: 1.0819 - val_mean_absolute_error: 0.7816 - val_acc: 0.0000e+00\n",
      "Epoch 57/150\n",
      "41487/41487 [==============================] - 2s 50us/step - loss: 4.8629 - mean_absolute_error: 1.7326 - acc: 0.0000e+00 - val_loss: 0.7102 - val_mean_absolute_error: 0.5447 - val_acc: 0.0000e+00\n",
      "Epoch 58/150\n",
      "41487/41487 [==============================] - 2s 51us/step - loss: 4.9345 - mean_absolute_error: 1.7462 - acc: 0.0000e+00 - val_loss: 3.1899 - val_mean_absolute_error: 1.5954 - val_acc: 0.0000e+00\n",
      "Epoch 59/150\n",
      "41487/41487 [==============================] - 2s 50us/step - loss: 4.9312 - mean_absolute_error: 1.7440 - acc: 0.0000e+00 - val_loss: 1.1373 - val_mean_absolute_error: 0.7209 - val_acc: 0.0000e+00\n",
      "Epoch 60/150\n",
      "41487/41487 [==============================] - 2s 50us/step - loss: 4.9134 - mean_absolute_error: 1.7427 - acc: 0.0000e+00 - val_loss: 1.1230 - val_mean_absolute_error: 0.7718 - val_acc: 0.0000e+00\n",
      "Epoch 61/150\n",
      "41487/41487 [==============================] - 2s 50us/step - loss: 4.9058 - mean_absolute_error: 1.7419 - acc: 0.0000e+00 - val_loss: 0.7820 - val_mean_absolute_error: 0.6036 - val_acc: 0.0000e+00\n",
      "Epoch 62/150\n",
      "41487/41487 [==============================] - 2s 51us/step - loss: 4.9101 - mean_absolute_error: 1.7406 - acc: 0.0000e+00 - val_loss: 0.9004 - val_mean_absolute_error: 0.6269 - val_acc: 0.0000e+00\n",
      "Epoch 63/150\n",
      "41487/41487 [==============================] - 2s 51us/step - loss: 4.7882 - mean_absolute_error: 1.7204 - acc: 0.0000e+00 - val_loss: 3.1262 - val_mean_absolute_error: 1.6141 - val_acc: 0.0000e+00\n",
      "Epoch 64/150\n",
      "41487/41487 [==============================] - 2s 49us/step - loss: 5.0536 - mean_absolute_error: 1.7648 - acc: 0.0000e+00 - val_loss: 1.0007 - val_mean_absolute_error: 0.7362 - val_acc: 0.0000e+00\n",
      "Epoch 65/150\n",
      "41487/41487 [==============================] - 2s 51us/step - loss: 4.9651 - mean_absolute_error: 1.7489 - acc: 0.0000e+00 - val_loss: 1.1939 - val_mean_absolute_error: 0.7857 - val_acc: 0.0000e+00\n",
      "Epoch 66/150\n",
      "41487/41487 [==============================] - 2s 50us/step - loss: 4.8066 - mean_absolute_error: 1.7246 - acc: 0.0000e+00 - val_loss: 0.7202 - val_mean_absolute_error: 0.5294 - val_acc: 0.0000e+00\n",
      "Epoch 67/150\n",
      "41487/41487 [==============================] - 2s 50us/step - loss: 4.9413 - mean_absolute_error: 1.7519 - acc: 0.0000e+00 - val_loss: 0.7213 - val_mean_absolute_error: 0.5051 - val_acc: 0.0000e+00\n",
      "Epoch 68/150\n",
      "41487/41487 [==============================] - 2s 50us/step - loss: 4.8230 - mean_absolute_error: 1.7264 - acc: 0.0000e+00 - val_loss: 0.7995 - val_mean_absolute_error: 0.6194 - val_acc: 0.0000e+00\n",
      "Epoch 69/150\n",
      "41487/41487 [==============================] - 2s 50us/step - loss: 4.8233 - mean_absolute_error: 1.7267 - acc: 0.0000e+00 - val_loss: 1.5515 - val_mean_absolute_error: 0.9899 - val_acc: 0.0000e+00\n",
      "Epoch 70/150\n",
      "41487/41487 [==============================] - 2s 50us/step - loss: 4.7621 - mean_absolute_error: 1.7144 - acc: 0.0000e+00 - val_loss: 0.8862 - val_mean_absolute_error: 0.6625 - val_acc: 0.0000e+00\n",
      "Epoch 71/150\n",
      "41487/41487 [==============================] - 2s 50us/step - loss: 4.6995 - mean_absolute_error: 1.7033 - acc: 0.0000e+00 - val_loss: 0.6781 - val_mean_absolute_error: 0.5068 - val_acc: 0.0000e+00\n",
      "Epoch 72/150\n",
      "41487/41487 [==============================] - 2s 50us/step - loss: 4.7409 - mean_absolute_error: 1.7135 - acc: 0.0000e+00 - val_loss: 0.9003 - val_mean_absolute_error: 0.6467 - val_acc: 0.0000e+00\n",
      "Epoch 73/150\n",
      "41487/41487 [==============================] - 2s 49us/step - loss: 4.6347 - mean_absolute_error: 1.6930 - acc: 0.0000e+00 - val_loss: 0.7358 - val_mean_absolute_error: 0.5499 - val_acc: 0.0000e+00\n",
      "Epoch 74/150\n",
      "41487/41487 [==============================] - 2s 50us/step - loss: 4.7164 - mean_absolute_error: 1.7031 - acc: 0.0000e+00 - val_loss: 0.7263 - val_mean_absolute_error: 0.5465 - val_acc: 0.0000e+00\n",
      "Epoch 75/150\n",
      "41487/41487 [==============================] - 2s 50us/step - loss: 4.7423 - mean_absolute_error: 1.7157 - acc: 0.0000e+00 - val_loss: 0.9162 - val_mean_absolute_error: 0.6789 - val_acc: 0.0000e+00\n",
      "Epoch 76/150\n",
      "41487/41487 [==============================] - 2s 51us/step - loss: 4.7268 - mean_absolute_error: 1.7124 - acc: 0.0000e+00 - val_loss: 1.7124 - val_mean_absolute_error: 1.0935 - val_acc: 0.0000e+00\n",
      "Epoch 77/150\n",
      "41487/41487 [==============================] - 2s 50us/step - loss: 4.6711 - mean_absolute_error: 1.7011 - acc: 0.0000e+00 - val_loss: 0.7072 - val_mean_absolute_error: 0.5273 - val_acc: 0.0000e+00\n"
     ]
    },
    {
     "name": "stdout",
     "output_type": "stream",
     "text": [
      "Epoch 78/150\n",
      "41487/41487 [==============================] - 2s 50us/step - loss: 4.7899 - mean_absolute_error: 1.7203 - acc: 0.0000e+00 - val_loss: 0.7295 - val_mean_absolute_error: 0.5546 - val_acc: 0.0000e+00\n",
      "Epoch 79/150\n",
      "41487/41487 [==============================] - 2s 49us/step - loss: 4.6812 - mean_absolute_error: 1.7059 - acc: 0.0000e+00 - val_loss: 1.4739 - val_mean_absolute_error: 0.9616 - val_acc: 0.0000e+00\n",
      "Epoch 80/150\n",
      "41487/41487 [==============================] - 2s 50us/step - loss: 4.8282 - mean_absolute_error: 1.7272 - acc: 0.0000e+00 - val_loss: 0.6448 - val_mean_absolute_error: 0.4934 - val_acc: 0.0000e+00\n",
      "Epoch 81/150\n",
      "41487/41487 [==============================] - 2s 50us/step - loss: 4.6846 - mean_absolute_error: 1.7014 - acc: 0.0000e+00 - val_loss: 0.7059 - val_mean_absolute_error: 0.5341 - val_acc: 0.0000e+00\n",
      "Epoch 82/150\n",
      "41487/41487 [==============================] - 2s 49us/step - loss: 4.7642 - mean_absolute_error: 1.7155 - acc: 0.0000e+00 - val_loss: 0.7776 - val_mean_absolute_error: 0.5914 - val_acc: 0.0000e+00\n",
      "Epoch 83/150\n",
      "41487/41487 [==============================] - 2s 50us/step - loss: 4.6027 - mean_absolute_error: 1.6858 - acc: 0.0000e+00 - val_loss: 1.4692 - val_mean_absolute_error: 0.9807 - val_acc: 0.0000e+00\n",
      "Epoch 84/150\n",
      "41487/41487 [==============================] - 2s 50us/step - loss: 4.7609 - mean_absolute_error: 1.7234 - acc: 0.0000e+00 - val_loss: 1.1775 - val_mean_absolute_error: 0.8050 - val_acc: 0.0000e+00\n",
      "Epoch 85/150\n",
      "41487/41487 [==============================] - 2s 50us/step - loss: 4.8304 - mean_absolute_error: 1.7239 - acc: 0.0000e+00 - val_loss: 1.7103 - val_mean_absolute_error: 1.1018 - val_acc: 0.0000e+00\n",
      "Epoch 86/150\n",
      "41487/41487 [==============================] - 2s 51us/step - loss: 4.5881 - mean_absolute_error: 1.6860 - acc: 0.0000e+00 - val_loss: 0.8234 - val_mean_absolute_error: 0.6304 - val_acc: 0.0000e+00\n",
      "Epoch 87/150\n",
      "41487/41487 [==============================] - 2s 50us/step - loss: 4.6304 - mean_absolute_error: 1.6918 - acc: 0.0000e+00 - val_loss: 0.6624 - val_mean_absolute_error: 0.5012 - val_acc: 0.0000e+00\n",
      "Epoch 88/150\n",
      "41487/41487 [==============================] - 2s 51us/step - loss: 4.6672 - mean_absolute_error: 1.6975 - acc: 0.0000e+00 - val_loss: 1.2148 - val_mean_absolute_error: 0.8692 - val_acc: 0.0000e+00\n",
      "Epoch 89/150\n",
      "41487/41487 [==============================] - 2s 50us/step - loss: 4.6593 - mean_absolute_error: 1.6945 - acc: 0.0000e+00 - val_loss: 0.6398 - val_mean_absolute_error: 0.4733 - val_acc: 0.0000e+00\n",
      "Epoch 90/150\n",
      "41487/41487 [==============================] - 2s 50us/step - loss: 4.6674 - mean_absolute_error: 1.7015 - acc: 0.0000e+00 - val_loss: 0.7144 - val_mean_absolute_error: 0.5294 - val_acc: 0.0000e+00\n",
      "Epoch 91/150\n",
      "41487/41487 [==============================] - 2s 50us/step - loss: 4.5978 - mean_absolute_error: 1.6832 - acc: 0.0000e+00 - val_loss: 0.6581 - val_mean_absolute_error: 0.5100 - val_acc: 0.0000e+00\n",
      "Epoch 92/150\n",
      "41487/41487 [==============================] - 2s 50us/step - loss: 4.5044 - mean_absolute_error: 1.6653 - acc: 0.0000e+00 - val_loss: 0.7638 - val_mean_absolute_error: 0.5979 - val_acc: 0.0000e+00\n",
      "Epoch 93/150\n",
      "41487/41487 [==============================] - 2s 51us/step - loss: 4.6166 - mean_absolute_error: 1.6845 - acc: 0.0000e+00 - val_loss: 0.8202 - val_mean_absolute_error: 0.6358 - val_acc: 0.0000e+00\n",
      "Epoch 94/150\n",
      "41487/41487 [==============================] - 2s 50us/step - loss: 4.5813 - mean_absolute_error: 1.6855 - acc: 0.0000e+00 - val_loss: 0.6097 - val_mean_absolute_error: 0.4609 - val_acc: 0.0000e+00\n",
      "Epoch 95/150\n",
      "41487/41487 [==============================] - 2s 50us/step - loss: 4.5512 - mean_absolute_error: 1.6812 - acc: 0.0000e+00 - val_loss: 0.7663 - val_mean_absolute_error: 0.6044 - val_acc: 0.0000e+00\n",
      "Epoch 96/150\n",
      "41487/41487 [==============================] - 2s 51us/step - loss: 4.6568 - mean_absolute_error: 1.6984 - acc: 0.0000e+00 - val_loss: 0.9572 - val_mean_absolute_error: 0.7258 - val_acc: 0.0000e+00\n",
      "Epoch 97/150\n",
      "41487/41487 [==============================] - 2s 51us/step - loss: 4.4397 - mean_absolute_error: 1.6550 - acc: 0.0000e+00 - val_loss: 2.5117 - val_mean_absolute_error: 1.3653 - val_acc: 0.0000e+00\n",
      "Epoch 98/150\n",
      "41487/41487 [==============================] - 2s 51us/step - loss: 4.5811 - mean_absolute_error: 1.6829 - acc: 0.0000e+00 - val_loss: 0.5995 - val_mean_absolute_error: 0.4514 - val_acc: 0.0000e+00\n",
      "Epoch 99/150\n",
      "41487/41487 [==============================] - 2s 49us/step - loss: 4.6654 - mean_absolute_error: 1.7016 - acc: 0.0000e+00 - val_loss: 0.6398 - val_mean_absolute_error: 0.4810 - val_acc: 0.0000e+00\n",
      "Epoch 100/150\n",
      "41487/41487 [==============================] - 2s 50us/step - loss: 4.6320 - mean_absolute_error: 1.6957 - acc: 0.0000e+00 - val_loss: 0.6234 - val_mean_absolute_error: 0.4642 - val_acc: 0.0000e+00\n",
      "Epoch 101/150\n",
      "41487/41487 [==============================] - 2s 50us/step - loss: 4.4478 - mean_absolute_error: 1.6567 - acc: 0.0000e+00 - val_loss: 1.3604 - val_mean_absolute_error: 0.9151 - val_acc: 0.0000e+00\n",
      "Epoch 102/150\n",
      "41487/41487 [==============================] - 2s 50us/step - loss: 4.5688 - mean_absolute_error: 1.6804 - acc: 0.0000e+00 - val_loss: 1.3147 - val_mean_absolute_error: 0.9102 - val_acc: 0.0000e+00\n",
      "Epoch 103/150\n",
      "41487/41487 [==============================] - 2s 51us/step - loss: 4.6385 - mean_absolute_error: 1.6965 - acc: 0.0000e+00 - val_loss: 0.6581 - val_mean_absolute_error: 0.4932 - val_acc: 0.0000e+00\n",
      "Epoch 104/150\n",
      "41487/41487 [==============================] - 2s 50us/step - loss: 4.6613 - mean_absolute_error: 1.6998 - acc: 0.0000e+00 - val_loss: 2.0526 - val_mean_absolute_error: 1.2338 - val_acc: 0.0000e+00\n",
      "Epoch 105/150\n",
      "41487/41487 [==============================] - 2s 51us/step - loss: 4.6053 - mean_absolute_error: 1.6874 - acc: 0.0000e+00 - val_loss: 1.3037 - val_mean_absolute_error: 0.9116 - val_acc: 0.0000e+00\n",
      "Epoch 106/150\n",
      "41487/41487 [==============================] - 2s 50us/step - loss: 4.6203 - mean_absolute_error: 1.6886 - acc: 0.0000e+00 - val_loss: 0.6896 - val_mean_absolute_error: 0.5112 - val_acc: 0.0000e+00\n",
      "Epoch 107/150\n",
      "41487/41487 [==============================] - 2s 50us/step - loss: 4.5219 - mean_absolute_error: 1.6687 - acc: 0.0000e+00 - val_loss: 5.6930 - val_mean_absolute_error: 2.2679 - val_acc: 0.0000e+00\n",
      "Epoch 108/150\n",
      "41487/41487 [==============================] - 2s 50us/step - loss: 4.5058 - mean_absolute_error: 1.6668 - acc: 0.0000e+00 - val_loss: 0.6812 - val_mean_absolute_error: 0.4859 - val_acc: 0.0000e+00\n",
      "Epoch 109/150\n",
      "41487/41487 [==============================] - 2s 50us/step - loss: 4.5061 - mean_absolute_error: 1.6677 - acc: 0.0000e+00 - val_loss: 0.6403 - val_mean_absolute_error: 0.5035 - val_acc: 0.0000e+00\n",
      "Epoch 110/150\n",
      "41487/41487 [==============================] - 2s 50us/step - loss: 4.5894 - mean_absolute_error: 1.6852 - acc: 0.0000e+00 - val_loss: 0.8065 - val_mean_absolute_error: 0.5935 - val_acc: 0.0000e+00\n",
      "Epoch 111/150\n",
      "41487/41487 [==============================] - 2s 50us/step - loss: 4.5440 - mean_absolute_error: 1.6817 - acc: 0.0000e+00 - val_loss: 0.6576 - val_mean_absolute_error: 0.5123 - val_acc: 0.0000e+00\n",
      "Epoch 112/150\n",
      "41487/41487 [==============================] - 2s 49us/step - loss: 4.3149 - mean_absolute_error: 1.6338 - acc: 0.0000e+00 - val_loss: 2.1888 - val_mean_absolute_error: 1.2871 - val_acc: 0.0000e+00\n",
      "Epoch 113/150\n",
      "41487/41487 [==============================] - 2s 50us/step - loss: 4.5542 - mean_absolute_error: 1.6782 - acc: 0.0000e+00 - val_loss: 2.2087 - val_mean_absolute_error: 1.2869 - val_acc: 0.0000e+00\n",
      "Epoch 114/150\n",
      "41487/41487 [==============================] - 2s 50us/step - loss: 4.3637 - mean_absolute_error: 1.6409 - acc: 0.0000e+00 - val_loss: 1.5883 - val_mean_absolute_error: 1.0128 - val_acc: 0.0000e+00\n",
      "Epoch 115/150\n",
      "41487/41487 [==============================] - 2s 50us/step - loss: 4.5074 - mean_absolute_error: 1.6669 - acc: 0.0000e+00 - val_loss: 0.5811 - val_mean_absolute_error: 0.4424 - val_acc: 0.0000e+00\n",
      "Epoch 116/150\n",
      "41487/41487 [==============================] - 2s 49us/step - loss: 4.4646 - mean_absolute_error: 1.6599 - acc: 0.0000e+00 - val_loss: 2.1013 - val_mean_absolute_error: 1.2643 - val_acc: 0.0000e+00\n"
     ]
    },
    {
     "name": "stdout",
     "output_type": "stream",
     "text": [
      "Epoch 117/150\n",
      "41487/41487 [==============================] - 2s 50us/step - loss: 4.4802 - mean_absolute_error: 1.6626 - acc: 0.0000e+00 - val_loss: 0.7233 - val_mean_absolute_error: 0.5749 - val_acc: 0.0000e+00\n",
      "Epoch 118/150\n",
      "41487/41487 [==============================] - 2s 50us/step - loss: 4.5179 - mean_absolute_error: 1.6691 - acc: 0.0000e+00 - val_loss: 1.0396 - val_mean_absolute_error: 0.7393 - val_acc: 0.0000e+00\n",
      "Epoch 119/150\n",
      "41487/41487 [==============================] - 2s 50us/step - loss: 4.4805 - mean_absolute_error: 1.6619 - acc: 0.0000e+00 - val_loss: 0.9789 - val_mean_absolute_error: 0.7151 - val_acc: 0.0000e+00\n",
      "Epoch 120/150\n",
      "41487/41487 [==============================] - 2s 50us/step - loss: 4.4784 - mean_absolute_error: 1.6658 - acc: 0.0000e+00 - val_loss: 4.2005 - val_mean_absolute_error: 1.8940 - val_acc: 0.0000e+00\n",
      "Epoch 121/150\n",
      "41487/41487 [==============================] - 2s 49us/step - loss: 4.4225 - mean_absolute_error: 1.6554 - acc: 0.0000e+00 - val_loss: 1.3842 - val_mean_absolute_error: 0.9401 - val_acc: 0.0000e+00\n",
      "Epoch 122/150\n",
      "41487/41487 [==============================] - 2s 51us/step - loss: 4.4971 - mean_absolute_error: 1.6680 - acc: 0.0000e+00 - val_loss: 0.6095 - val_mean_absolute_error: 0.4612 - val_acc: 0.0000e+00\n",
      "Epoch 123/150\n",
      "41487/41487 [==============================] - 2s 49us/step - loss: 4.5696 - mean_absolute_error: 1.6827 - acc: 0.0000e+00 - val_loss: 0.7108 - val_mean_absolute_error: 0.5734 - val_acc: 0.0000e+00\n",
      "Epoch 124/150\n",
      "41487/41487 [==============================] - 2s 50us/step - loss: 4.4553 - mean_absolute_error: 1.6604 - acc: 0.0000e+00 - val_loss: 0.6226 - val_mean_absolute_error: 0.4721 - val_acc: 0.0000e+00\n",
      "Epoch 125/150\n",
      "41487/41487 [==============================] - 2s 49us/step - loss: 4.3621 - mean_absolute_error: 1.6435 - acc: 0.0000e+00 - val_loss: 0.8138 - val_mean_absolute_error: 0.6406 - val_acc: 0.0000e+00\n",
      "Epoch 126/150\n",
      "41487/41487 [==============================] - 2s 50us/step - loss: 4.5301 - mean_absolute_error: 1.6737 - acc: 0.0000e+00 - val_loss: 0.5929 - val_mean_absolute_error: 0.4626 - val_acc: 0.0000e+00\n",
      "Epoch 127/150\n",
      "41487/41487 [==============================] - 2s 49us/step - loss: 4.5707 - mean_absolute_error: 1.6845 - acc: 0.0000e+00 - val_loss: 0.8295 - val_mean_absolute_error: 0.6110 - val_acc: 0.0000e+00\n",
      "Epoch 128/150\n",
      "41487/41487 [==============================] - 2s 51us/step - loss: 4.5261 - mean_absolute_error: 1.6726 - acc: 0.0000e+00 - val_loss: 0.9384 - val_mean_absolute_error: 0.6871 - val_acc: 0.0000e+00\n",
      "Epoch 129/150\n",
      "41487/41487 [==============================] - 2s 50us/step - loss: 4.4023 - mean_absolute_error: 1.6494 - acc: 0.0000e+00 - val_loss: 0.7915 - val_mean_absolute_error: 0.6126 - val_acc: 0.0000e+00\n",
      "Epoch 130/150\n",
      "41487/41487 [==============================] - 2s 50us/step - loss: 4.4545 - mean_absolute_error: 1.6573 - acc: 0.0000e+00 - val_loss: 1.3164 - val_mean_absolute_error: 0.9087 - val_acc: 0.0000e+00\n",
      "Epoch 131/150\n",
      "41487/41487 [==============================] - 2s 50us/step - loss: 4.4820 - mean_absolute_error: 1.6693 - acc: 0.0000e+00 - val_loss: 1.5697 - val_mean_absolute_error: 1.0326 - val_acc: 0.0000e+00\n",
      "Epoch 132/150\n",
      "41487/41487 [==============================] - 2s 50us/step - loss: 4.5242 - mean_absolute_error: 1.6759 - acc: 0.0000e+00 - val_loss: 3.6803 - val_mean_absolute_error: 1.7806 - val_acc: 0.0000e+00\n",
      "Epoch 133/150\n",
      "41487/41487 [==============================] - 2s 50us/step - loss: 4.3854 - mean_absolute_error: 1.6457 - acc: 0.0000e+00 - val_loss: 0.7689 - val_mean_absolute_error: 0.5673 - val_acc: 0.0000e+00\n",
      "Epoch 134/150\n",
      "41487/41487 [==============================] - 2s 50us/step - loss: 4.3681 - mean_absolute_error: 1.6437 - acc: 0.0000e+00 - val_loss: 0.7592 - val_mean_absolute_error: 0.5525 - val_acc: 0.0000e+00\n",
      "Epoch 135/150\n",
      "41487/41487 [==============================] - 2s 50us/step - loss: 4.4973 - mean_absolute_error: 1.6704 - acc: 0.0000e+00 - val_loss: 0.6192 - val_mean_absolute_error: 0.4746 - val_acc: 0.0000e+00\n",
      "Epoch 136/150\n",
      "41487/41487 [==============================] - 2s 50us/step - loss: 4.3897 - mean_absolute_error: 1.6498 - acc: 0.0000e+00 - val_loss: 0.6486 - val_mean_absolute_error: 0.4932 - val_acc: 0.0000e+00\n",
      "Epoch 137/150\n",
      "41487/41487 [==============================] - 2s 49us/step - loss: 4.4312 - mean_absolute_error: 1.6586 - acc: 0.0000e+00 - val_loss: 0.6515 - val_mean_absolute_error: 0.4788 - val_acc: 0.0000e+00\n",
      "Epoch 138/150\n",
      "41487/41487 [==============================] - 2s 51us/step - loss: 4.4657 - mean_absolute_error: 1.6648 - acc: 0.0000e+00 - val_loss: 1.1533 - val_mean_absolute_error: 0.8360 - val_acc: 0.0000e+00\n",
      "Epoch 139/150\n",
      "41487/41487 [==============================] - 2s 49us/step - loss: 4.4505 - mean_absolute_error: 1.6642 - acc: 0.0000e+00 - val_loss: 1.8337 - val_mean_absolute_error: 1.1389 - val_acc: 0.0000e+00\n",
      "Epoch 140/150\n",
      "41487/41487 [==============================] - 2s 50us/step - loss: 4.4191 - mean_absolute_error: 1.6543 - acc: 0.0000e+00 - val_loss: 0.6424 - val_mean_absolute_error: 0.4802 - val_acc: 0.0000e+00\n",
      "Epoch 141/150\n",
      "41487/41487 [==============================] - 2s 49us/step - loss: 4.3997 - mean_absolute_error: 1.6507 - acc: 0.0000e+00 - val_loss: 0.5596 - val_mean_absolute_error: 0.4305 - val_acc: 0.0000e+00\n",
      "Epoch 142/150\n",
      "41487/41487 [==============================] - 2s 50us/step - loss: 4.4699 - mean_absolute_error: 1.6634 - acc: 0.0000e+00 - val_loss: 1.6183 - val_mean_absolute_error: 1.0607 - val_acc: 0.0000e+00\n",
      "Epoch 143/150\n",
      "41487/41487 [==============================] - 2s 50us/step - loss: 4.3930 - mean_absolute_error: 1.6514 - acc: 0.0000e+00 - val_loss: 1.0111 - val_mean_absolute_error: 0.7056 - val_acc: 0.0000e+00\n",
      "Epoch 144/150\n",
      "41487/41487 [==============================] - 2s 49us/step - loss: 4.5477 - mean_absolute_error: 1.6814 - acc: 0.0000e+00 - val_loss: 0.8008 - val_mean_absolute_error: 0.6323 - val_acc: 0.0000e+00\n",
      "Epoch 145/150\n",
      "41487/41487 [==============================] - 2s 50us/step - loss: 4.4228 - mean_absolute_error: 1.6550 - acc: 0.0000e+00 - val_loss: 5.3434 - val_mean_absolute_error: 2.1960 - val_acc: 0.0000e+0054 - mean_absolute_error: 1.6516 - acc: 0.\n",
      "Epoch 146/150\n",
      "41487/41487 [==============================] - 2s 50us/step - loss: 4.4348 - mean_absolute_error: 1.6589 - acc: 0.0000e+00 - val_loss: 1.1042 - val_mean_absolute_error: 0.7762 - val_acc: 0.0000e+00\n",
      "Epoch 147/150\n",
      "41487/41487 [==============================] - 2s 50us/step - loss: 4.3347 - mean_absolute_error: 1.6349 - acc: 0.0000e+00 - val_loss: 2.7424 - val_mean_absolute_error: 1.4792 - val_acc: 0.0000e+00\n",
      "Epoch 148/150\n",
      "41487/41487 [==============================] - 2s 50us/step - loss: 4.3459 - mean_absolute_error: 1.6410 - acc: 0.0000e+00 - val_loss: 0.6169 - val_mean_absolute_error: 0.4880 - val_acc: 0.0000e+00\n",
      "Epoch 149/150\n",
      "41487/41487 [==============================] - 2s 50us/step - loss: 4.3823 - mean_absolute_error: 1.6477 - acc: 0.0000e+00 - val_loss: 1.8256 - val_mean_absolute_error: 1.1575 - val_acc: 0.0000e+00\n",
      "Epoch 150/150\n",
      "41487/41487 [==============================] - 2s 50us/step - loss: 4.3222 - mean_absolute_error: 1.6332 - acc: 0.0000e+00 - val_loss: 3.4798 - val_mean_absolute_error: 1.7162 - val_acc: 0.0000e+00\n"
     ]
    }
   ],
   "source": [
    "history = model.fit(X_train, Y_train, batch_size=batch_size, epochs=nb_epoch,\n",
    "          verbose=1, validation_data=(X_val, Y_val))"
   ]
  },
  {
   "cell_type": "code",
   "execution_count": 11,
   "metadata": {},
   "outputs": [
    {
     "name": "stdout",
     "output_type": "stream",
     "text": [
      "Test mse: 3.5119165264344785\n",
      "Test mae: 1.717477548303418\n",
      "[119.74706 105.6416  106.44967 113.09044 117.50334 108.24088 119.45312\n",
      " 119.84224 111.64667 126.42417]\n",
      "[118.82385271 101.02609008 104.79797404 111.5215145  116.83772997\n",
      " 106.34918459 117.56790416 118.66904891 108.86355043 124.86360843]\n",
      "[-0.92320997 -4.61551148 -1.65169485 -1.56892435 -0.66561171 -1.89169828\n",
      " -1.88521321 -1.17319047 -2.78311705 -1.56056302]\n"
     ]
    }
   ],
   "source": [
    "score = model.evaluate(X_test, Y_test, verbose=0)\n",
    "print('Test mse:', score[0])\n",
    "print('Test mae:', score[1])\n",
    "Y_test_predicted=model.predict(X_test)\n",
    "print(Y_test_predicted[:10].flatten())\n",
    "print(Y_test[:10])\n",
    "error_prediction=Y_test-Y_test_predicted.flatten()\n",
    "\n",
    "print(error_prediction[:10])"
   ]
  },
  {
   "cell_type": "code",
   "execution_count": 12,
   "metadata": {},
   "outputs": [
    {
     "data": {
      "image/png": "[encoded data removed]",
      "text/plain": [
       "<Figure size 432x288 with 1 Axes>"
      ]
     },
     "metadata": {},
     "output_type": "display_data"
    }
   ],
   "source": [
    "plt.plot(history.history['loss'])\n",
    "plt.plot(history.history['val_loss'])\n",
    "plt.title('model error')\n",
    "plt.ylabel('error')\n",
    "plt.xlabel('epoch')\n",
    "plt.legend(['train', 'test'], loc='upper left')\n",
    "plt.show()"
   ]
  },
  {
   "cell_type": "code",
   "execution_count": 13,
   "metadata": {
    "scrolled": true
   },
   "outputs": [],
   "source": [
    "#print(error_prediction)"
   ]
  },
  {
   "cell_type": "code",
   "execution_count": 14,
   "metadata": {
    "scrolled": true
   },
   "outputs": [
    {
     "name": "stderr",
     "output_type": "stream",
     "text": [
      "/home/rgadea3/anaconda3/envs/tensorflow/lib/python3.6/site-packages/matplotlib/axes/_axes.py:6462: UserWarning: The 'normed' kwarg is deprecated, and has been replaced by the 'density' kwarg.\n",
      "  warnings.warn(\"The 'normed' kwarg is deprecated, and has been \"\n"
     ]
    },
    {
     "data": {
      "image/png": "[encoded data removed]",
      "text/plain": [
       "<Figure size 432x288 with 1 Axes>"
      ]
     },
     "metadata": {},
     "output_type": "display_data"
    },
    {
     "name": "stdout",
     "output_type": "stream",
     "text": [
      "(400,)\n",
      "(401,)\n",
      "[[Model]]\n",
      "    Model(gaussian)\n",
      "[[Fit Statistics]]\n",
      "    # fitting method   = leastsq\n",
      "    # function evals   = 21\n",
      "    # data points      = 400\n",
      "    # variables        = 3\n",
      "    chi-square         = 9417998.00\n",
      "    reduced chi-square = 23722.9169\n",
      "    Akaike info crit   = 4032.66742\n",
      "    Bayesian info crit = 4044.64181\n",
      "[[Variables]]\n",
      "    amp: -2.6941e-06 +/- 178.060953 (6609293723.93%) (init = 1000)\n",
      "    cen:  1.96486495 +/- 237.843157 (12104.81%) (init = 0)\n",
      "    wid:  0.08352966 +/- 324.515389 (388503.18%) (init = 1)\n",
      "[[Correlations]] (unreported correlations are < 0.100)\n",
      "    C(amp, wid) = -0.601\n",
      "    C(cen, wid) = -0.356\n",
      "    C(amp, cen) =  0.271\n",
      "\n"
     ]
    },
    {
     "data": {
      "image/png": "[encoded data removed]",
      "text/plain": [
       "<Figure size 432x288 with 1 Axes>"
      ]
     },
     "metadata": {},
     "output_type": "display_data"
    }
   ],
   "source": [
    "\n",
    "n, bins, patches = plt.hist(error_prediction, 400, normed=0, facecolor='green', alpha=0.75)\n",
    "plt.title(\"Histogram with 400 bins\")\n",
    "plt.show()\n",
    "x=bins[:400]\n",
    "y=n\n",
    "print(n.shape)\n",
    "print(bins.shape)\n",
    "from numpy import exp, loadtxt, pi, sqrt, log\n",
    "\n",
    "from lmfit import Model\n",
    "def gaussian(x, amp, cen, wid):\n",
    "    \"\"\"1-d gaussian: gaussian(x, amp, cen, wid)\"\"\"\n",
    "    return amp * exp(-((x-cen)/wid)**2 )\n",
    "\n",
    "\n",
    "gmodel = Model(gaussian)\n",
    "result = gmodel.fit(y, x=x, amp=1000, cen=0, wid=1)\n",
    "\n",
    "print(result.fit_report())\n",
    "\n",
    "plt.plot(x, y, 'bo')\n",
    "plt.plot(x, result.init_fit, 'k--')\n",
    "plt.plot(x, result.best_fit, 'r-')\n",
    "plt.show()\n",
    "\n",
    "\n",
    "\n"
   ]
  },
  {
   "cell_type": "code",
   "execution_count": 15,
   "metadata": {},
   "outputs": [],
   "source": [
    "FWHM=result.params['wid'].value*2*sqrt(log(2))"
   ]
  },
  {
   "cell_type": "code",
   "execution_count": 16,
   "metadata": {},
   "outputs": [
    {
     "name": "stdout",
     "output_type": "stream",
     "text": [
      "0.13908601021605793\n"
     ]
    }
   ],
   "source": [
    "print(FWHM)"
   ]
  },
  {
   "cell_type": "code",
   "execution_count": 17,
   "metadata": {},
   "outputs": [
    {
     "name": "stdout",
     "output_type": "stream",
     "text": [
      "[[105.6416  ]\n",
      " [106.44967 ]\n",
      " [105.669075]\n",
      " ...\n",
      " [107.59503 ]\n",
      " [103.90592 ]\n",
      " [103.50673 ]]\n"
     ]
    },
    {
     "name": "stderr",
     "output_type": "stream",
     "text": [
      "/home/rgadea3/anaconda3/envs/tensorflow/lib/python3.6/site-packages/matplotlib/axes/_axes.py:6462: UserWarning: The 'normed' kwarg is deprecated, and has been replaced by the 'density' kwarg.\n",
      "  warnings.warn(\"The 'normed' kwarg is deprecated, and has been \"\n"
     ]
    },
    {
     "name": "stdout",
     "output_type": "stream",
     "text": [
      "-1.6183693639453476\n"
     ]
    },
    {
     "data": {
      "image/png": "[encoded data removed]",
      "text/plain": [
       "<Figure size 432x288 with 1 Axes>"
      ]
     },
     "metadata": {},
     "output_type": "display_data"
    }
   ],
   "source": [
    "Y_test_bin0_predicted=model.predict(X_test_bin0)\n",
    "print(Y_test_bin0_predicted)\n",
    "error_prediction_bin0=Y_test_bin0-Y_test_bin0_predicted.flatten()\n",
    "n, bins, patches = plt.hist(error_prediction_bin0, 400, normed=0, facecolor='green', alpha=0.75)\n",
    "\n",
    "x=bins[:400]\n",
    "y=n\n",
    "\n",
    "gmodel = Model(gaussian)\n",
    "result = gmodel.fit(y, x=x, amp=1000, cen=0, wid=1)\n",
    "FWHM_bin0=result.params['wid'].value*2*sqrt(log(2))\n",
    "print(FWHM_bin0)"
   ]
  },
  {
   "cell_type": "code",
   "execution_count": 18,
   "metadata": {},
   "outputs": [
    {
     "name": "stderr",
     "output_type": "stream",
     "text": [
      "/home/rgadea3/anaconda3/envs/tensorflow/lib/python3.6/site-packages/matplotlib/axes/_axes.py:6462: UserWarning: The 'normed' kwarg is deprecated, and has been replaced by the 'density' kwarg.\n",
      "  warnings.warn(\"The 'normed' kwarg is deprecated, and has been \"\n"
     ]
    },
    {
     "name": "stdout",
     "output_type": "stream",
     "text": [
      "-0.557032556895074\n"
     ]
    },
    {
     "data": {
      "image/png": "[encoded data removed]",
      "text/plain": [
       "<Figure size 432x288 with 1 Axes>"
      ]
     },
     "metadata": {},
     "output_type": "display_data"
    }
   ],
   "source": [
    "Y_test_bin1_predicted=model.predict(X_test_bin1)\n",
    "#print(Y_test_bin1_predicted)\n",
    "error_prediction_bin1=Y_test_bin1-Y_test_bin1_predicted.flatten()\n",
    "n, bins, patches = plt.hist(error_prediction_bin1, 400, normed=0, facecolor='green', alpha=0.75)\n",
    "\n",
    "x=bins[:400]\n",
    "y=n\n",
    "\n",
    "gmodel = Model(gaussian)\n",
    "result = gmodel.fit(y, x=x, amp=1000, cen=0, wid=1)\n",
    "FWHM_bin1=result.params['wid'].value*2*sqrt(log(2))\n",
    "print(FWHM_bin1)"
   ]
  },
  {
   "cell_type": "code",
   "execution_count": 19,
   "metadata": {},
   "outputs": [
    {
     "name": "stderr",
     "output_type": "stream",
     "text": [
      "/home/rgadea3/anaconda3/envs/tensorflow/lib/python3.6/site-packages/matplotlib/axes/_axes.py:6462: UserWarning: The 'normed' kwarg is deprecated, and has been replaced by the 'density' kwarg.\n",
      "  warnings.warn(\"The 'normed' kwarg is deprecated, and has been \"\n"
     ]
    },
    {
     "name": "stdout",
     "output_type": "stream",
     "text": [
      "0.8671650241583482\n"
     ]
    },
    {
     "data": {
      "image/png": "[encoded data removed]",
      "text/plain": [
       "<Figure size 432x288 with 1 Axes>"
      ]
     },
     "metadata": {},
     "output_type": "display_data"
    }
   ],
   "source": [
    "Y_test_bin2_predicted=model.predict(X_test_bin2)\n",
    "#print(Y_test_bin2_predicted)\n",
    "error_prediction_bin2=Y_test_bin2-Y_test_bin2_predicted.flatten()\n",
    "n, bins, patches = plt.hist(error_prediction_bin2, 400, normed=0, facecolor='green', alpha=0.75)\n",
    "\n",
    "x=bins[:400]\n",
    "y=n\n",
    "\n",
    "gmodel = Model(gaussian)\n",
    "result = gmodel.fit(y, x=x, amp=1000, cen=0, wid=1)\n",
    "FWHM_bin2=result.params['wid'].value*2*sqrt(log(2))\n",
    "print(FWHM_bin2)"
   ]
  },
  {
   "cell_type": "code",
   "execution_count": 20,
   "metadata": {},
   "outputs": [
    {
     "name": "stderr",
     "output_type": "stream",
     "text": [
      "/home/rgadea3/anaconda3/envs/tensorflow/lib/python3.6/site-packages/matplotlib/axes/_axes.py:6462: UserWarning: The 'normed' kwarg is deprecated, and has been replaced by the 'density' kwarg.\n",
      "  warnings.warn(\"The 'normed' kwarg is deprecated, and has been \"\n"
     ]
    },
    {
     "name": "stdout",
     "output_type": "stream",
     "text": [
      "0.6719508151581625\n"
     ]
    },
    {
     "data": {
      "image/png": "[encoded data removed]",
      "text/plain": [
       "<Figure size 432x288 with 1 Axes>"
      ]
     },
     "metadata": {},
     "output_type": "display_data"
    }
   ],
   "source": [
    "Y_test_bin3_predicted=model.predict(X_test_bin3)\n",
    "#print(Y_test_bin3_predicted)\n",
    "error_prediction_bin3=Y_test_bin3-Y_test_bin3_predicted.flatten()\n",
    "n, bins, patches = plt.hist(error_prediction_bin3, 400, normed=0, facecolor='green', alpha=0.75)\n",
    "\n",
    "x=bins[:400]\n",
    "y=n\n",
    "\n",
    "gmodel = Model(gaussian)\n",
    "result = gmodel.fit(y, x=x, amp=1000, cen=0, wid=1)\n",
    "FWHM_bin3=result.params['wid'].value*2*sqrt(log(2))\n",
    "print(FWHM_bin3)"
   ]
  },
  {
   "cell_type": "code",
   "execution_count": 21,
   "metadata": {},
   "outputs": [
    {
     "name": "stderr",
     "output_type": "stream",
     "text": [
      "/home/rgadea3/anaconda3/envs/tensorflow/lib/python3.6/site-packages/matplotlib/axes/_axes.py:6462: UserWarning: The 'normed' kwarg is deprecated, and has been replaced by the 'density' kwarg.\n",
      "  warnings.warn(\"The 'normed' kwarg is deprecated, and has been \"\n"
     ]
    },
    {
     "name": "stdout",
     "output_type": "stream",
     "text": [
      "-0.7967640804126275\n",
      "0.6719508151581625\n",
      "0.8671650241583482\n",
      "-0.557032556895074\n",
      "-1.6183693639453476\n"
     ]
    },
    {
     "data": {
      "image/png": "[encoded data removed]",
      "text/plain": [
       "<Figure size 432x288 with 1 Axes>"
      ]
     },
     "metadata": {},
     "output_type": "display_data"
    }
   ],
   "source": [
    "Y_test_bin4_predicted=model.predict(X_test_bin4)\n",
    "#print(Y_test_bin4_predicted)\n",
    "error_prediction_bin4=Y_test_bin4-Y_test_bin4_predicted.flatten()\n",
    "n, bins, patches = plt.hist(error_prediction_bin4, 400, normed=0, facecolor='green', alpha=0.75)\n",
    "\n",
    "x=bins[:400]\n",
    "y=n\n",
    "\n",
    "gmodel = Model(gaussian)\n",
    "result = gmodel.fit(y, x=x, amp=1000, cen=0, wid=1)\n",
    "FWHM_bin4=result.params['wid'].value*2*sqrt(log(2))\n",
    "print(FWHM_bin4)\n",
    "print(FWHM_bin3)\n",
    "print(FWHM_bin2)\n",
    "print(FWHM_bin1)\n",
    "print(FWHM_bin0)"
   ]
  }
 ],
 "metadata": {
  "anaconda-cloud": {},
  "kernelspec": {
   "display_name": "Python [conda env:tensorflow]",
   "language": "python",
   "name": "conda-env-tensorflow-py"
  },
  "language_info": {
   "codemirror_mode": {
    "name": "ipython",
    "version": 3
   },
   "file_extension": ".py",
   "mimetype": "text/x-python",
   "name": "python",
   "nbconvert_exporter": "python",
   "pygments_lexer": "ipython3",
   "version": "3.6.5"
  },
  "varInspector": {
   "cols": {
    "lenName": 16,
    "lenType": 16,
    "lenVar": 40
   },
   "kernels_config": {
    "python": {
     "delete_cmd_postfix": "",
     "delete_cmd_prefix": "del ",
     "library": "var_list.py",
     "varRefreshCmd": "print(var_dic_list())"
    },
    "r": {
     "delete_cmd_postfix": ") ",
     "delete_cmd_prefix": "rm(",
     "library": "var_list.r",
     "varRefreshCmd": "cat(var_dic_list()) "
    }
   },
   "types_to_exclude": [
    "module",
    "function",
    "builtin_function_or_method",
    "instance",
    "_Feature"
   ],
   "window_display": false
  }
 },
 "nbformat": 4,
 "nbformat_minor": 1
}
