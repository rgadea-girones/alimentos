{
 "cells": [
  {
   "cell_type": "markdown",
   "metadata": {},
   "source": [
    "# Simple CNN for PETALO\n",
    "\n",
    "Esta red la vamos a utilizar para obtener el radio "
   ]
  },
  {
   "cell_type": "code",
   "execution_count": 1,
   "metadata": {},
   "outputs": [
    {
     "name": "stdout",
     "output_type": "stream",
     "text": [
      "['/home/rgadea/anaconda3/envs/tensorflow3/lib/python36.zip', '/home/rgadea/anaconda3/envs/tensorflow3/lib/python3.6', '/home/rgadea/anaconda3/envs/tensorflow3/lib/python3.6/lib-dynload', '', '/home/rgadea/anaconda3/envs/tensorflow3/lib/python3.6/site-packages', '/home/rgadea/anaconda3/envs/tensorflow3/lib/python3.6/site-packages/IPython/extensions', '/volumedisk0/home/rgadea/.ipython', '/home/rgadea/lmfit-py/', '/home/rgadea/experimentos/viherbos/']\n"
     ]
    },
    {
     "name": "stderr",
     "output_type": "stream",
     "text": [
      "Using TensorFlow backend.\n",
      "/home/rgadea/anaconda3/envs/tensorflow3/lib/python3.6/site-packages/tensorflow/python/framework/dtypes.py:526: FutureWarning: Passing (type, 1) or '1type' as a synonym of type is deprecated; in a future version of numpy, it will be understood as (type, (1,)) / '(1,)type'.\n",
      "  _np_qint8 = np.dtype([(\"qint8\", np.int8, 1)])\n",
      "/home/rgadea/anaconda3/envs/tensorflow3/lib/python3.6/site-packages/tensorflow/python/framework/dtypes.py:527: FutureWarning: Passing (type, 1) or '1type' as a synonym of type is deprecated; in a future version of numpy, it will be understood as (type, (1,)) / '(1,)type'.\n",
      "  _np_quint8 = np.dtype([(\"quint8\", np.uint8, 1)])\n",
      "/home/rgadea/anaconda3/envs/tensorflow3/lib/python3.6/site-packages/tensorflow/python/framework/dtypes.py:528: FutureWarning: Passing (type, 1) or '1type' as a synonym of type is deprecated; in a future version of numpy, it will be understood as (type, (1,)) / '(1,)type'.\n",
      "  _np_qint16 = np.dtype([(\"qint16\", np.int16, 1)])\n",
      "/home/rgadea/anaconda3/envs/tensorflow3/lib/python3.6/site-packages/tensorflow/python/framework/dtypes.py:529: FutureWarning: Passing (type, 1) or '1type' as a synonym of type is deprecated; in a future version of numpy, it will be understood as (type, (1,)) / '(1,)type'.\n",
      "  _np_quint16 = np.dtype([(\"quint16\", np.uint16, 1)])\n",
      "/home/rgadea/anaconda3/envs/tensorflow3/lib/python3.6/site-packages/tensorflow/python/framework/dtypes.py:530: FutureWarning: Passing (type, 1) or '1type' as a synonym of type is deprecated; in a future version of numpy, it will be understood as (type, (1,)) / '(1,)type'.\n",
      "  _np_qint32 = np.dtype([(\"qint32\", np.int32, 1)])\n",
      "/home/rgadea/anaconda3/envs/tensorflow3/lib/python3.6/site-packages/tensorflow/python/framework/dtypes.py:535: FutureWarning: Passing (type, 1) or '1type' as a synonym of type is deprecated; in a future version of numpy, it will be understood as (type, (1,)) / '(1,)type'.\n",
      "  np_resource = np.dtype([(\"resource\", np.ubyte, 1)])\n"
     ]
    }
   ],
   "source": [
    "import numpy as np\n",
    "#np.random.seed(1337)  # for reproducibility\n",
    "from time import time\n",
    "from datetime import datetime\n",
    "\n",
    "from scipy import signal as fp1\n",
    "# from sklearn import preprocessing\n",
    "import sys\n",
    "\n",
    "sys.path.append(\"/home/rgadea/lmfit-py/\")\n",
    "sys.path.append(\"/home/rgadea/experimentos/viherbos/\")\n",
    "\n",
    "print(sys.path)\n",
    "import json \n",
    "\n",
    "import os\n",
    "os.environ[\"CUDA_DEVICE_ORDER\"] = \"PCI_BUS_ID\"\n",
    "os.environ[\"CUDA_VISIBLE_DEVICES\"] = \"0\"\n",
    "\n",
    "# import seaborn as sns\n",
    "from keras.datasets import mnist\n",
    "from keras.models import Model, Sequential\n",
    "from keras.layers import Input, Dense, Dropout, Activation, Flatten\n",
    "from keras.layers import Conv2D, MaxPooling2D,BatchNormalization\n",
    "from keras.callbacks import TensorBoard, EarlyStopping, ModelCheckpoint\n",
    "from keras.utils import np_utils\n",
    "from keras import regularizers\n",
    "from math import floor\n",
    "from lmfit.models import  GaussianModel\n",
    "import matplotlib.pyplot as plt"
   ]
  },
  {
   "cell_type": "code",
   "execution_count": 2,
   "metadata": {},
   "outputs": [
    {
     "name": "stdout",
     "output_type": "stream",
     "text": [
      "1.13.1\n"
     ]
    }
   ],
   "source": [
    "from keras import backend as K\n",
    "K.tensorflow_backend._get_available_gpus()\n",
    "import tensorflow as tf\n",
    "print(tf.__version__)\n",
    "sess = tf.Session(config=tf.ConfigProto(log_device_placement=True))"
   ]
  },
  {
   "cell_type": "markdown",
   "metadata": {},
   "source": [
    "## Vamos introducir los datos de petalo preprocesados en pyhton\n"
   ]
  },
  {
   "cell_type": "code",
   "execution_count": 3,
   "metadata": {},
   "outputs": [],
   "source": [
    "npzfile = np.load('../conjuntos_datos_nuevos_2020/19_12_2019_sin_filtrar.npz')\n",
    "npzfile.files\n",
    "conjunto_datos_entradasA=npzfile['arr_0']\n",
    "conjunto_datos_entradasB=npzfile['arr_1']\n",
    "conjunto_datos_salidas=npzfile['arr_2']\n",
    "conjunto_datos_eventos=npzfile['arr_3']"
   ]
  },
  {
   "cell_type": "markdown",
   "metadata": {},
   "source": [
    "## Vamos a rotar todas las imagenes"
   ]
  },
  {
   "cell_type": "code",
   "execution_count": 4,
   "metadata": {},
   "outputs": [],
   "source": [
    "muestras=conjunto_datos_entradasB.shape[0]\n",
    "for j in range (1,muestras):\n",
    "    conjunto_datos_entradasB[j]=np.roll(conjunto_datos_entradasB[j], 45, axis=1)\n",
    "    conjunto_datos_entradasA[j]=np.roll(conjunto_datos_entradasA[j], 45, axis=1)\n",
    "    if conjunto_datos_salidas[j,1]<0:\n",
    "        conjunto_datos_salidas[j,1]=conjunto_datos_salidas[j,1]*180/np.pi+360\n",
    "    else:\n",
    "        conjunto_datos_salidas[j,1]=conjunto_datos_salidas[j,1]*180/np.pi"
   ]
  },
  {
   "cell_type": "code",
   "execution_count": 5,
   "metadata": {},
   "outputs": [
    {
     "name": "stdout",
     "output_type": "stream",
     "text": [
      "68002\n"
     ]
    }
   ],
   "source": [
    "\n",
    "print (muestras)"
   ]
  },
  {
   "cell_type": "code",
   "execution_count": 6,
   "metadata": {},
   "outputs": [
    {
     "data": {
      "image/png": "[encoded data removed]",
      "text/plain": [
       "<Figure size 432x288 with 1 Axes>"
      ]
     },
     "metadata": {
      "needs_background": "light"
     },
     "output_type": "display_data"
    },
    {
     "name": "stdout",
     "output_type": "stream",
     "text": [
      "[484749.] 194.0469860441459 18.177219146838418 25.96149444580078\n"
     ]
    },
    {
     "data": {
      "image/png": "[encoded data removed]",
      "text/plain": [
       "<Figure size 432x288 with 1 Axes>"
      ]
     },
     "metadata": {
      "needs_background": "light"
     },
     "output_type": "display_data"
    },
    {
     "name": "stdout",
     "output_type": "stream",
     "text": [
      "[382135.] 168.91656524845968 347.5838510149014 40.096553802490234\n"
     ]
    },
    {
     "data": {
      "image/png": "[encoded data removed]",
      "text/plain": [
       "<Figure size 432x288 with 1 Axes>"
      ]
     },
     "metadata": {
      "needs_background": "light"
     },
     "output_type": "display_data"
    },
    {
     "name": "stdout",
     "output_type": "stream",
     "text": [
      "[40642.] 188.06884156760583 66.82773404627174 3.9168307781219482\n"
     ]
    },
    {
     "data": {
      "image/png": "[encoded data removed]",
      "text/plain": [
       "<Figure size 432x288 with 1 Axes>"
      ]
     },
     "metadata": {
      "needs_background": "light"
     },
     "output_type": "display_data"
    },
    {
     "name": "stdout",
     "output_type": "stream",
     "text": [
      "[323278.] 186.5101972923453 314.3885094928187 9.859853744506836\n"
     ]
    },
    {
     "data": {
      "image/png": "[encoded data removed]",
      "text/plain": [
       "<Figure size 432x288 with 1 Axes>"
      ]
     },
     "metadata": {
      "needs_background": "light"
     },
     "output_type": "display_data"
    },
    {
     "name": "stdout",
     "output_type": "stream",
     "text": [
      "[484749.] 184.41360044489727 279.14918862984325 43.115333557128906\n"
     ]
    },
    {
     "data": {
      "image/png": "[encoded data removed]",
      "text/plain": [
       "<Figure size 432x288 with 1 Axes>"
      ]
     },
     "metadata": {
      "needs_background": "light"
     },
     "output_type": "display_data"
    },
    {
     "name": "stdout",
     "output_type": "stream",
     "text": [
      "[342632.] 172.25655897145828 313.90336843826884 33.7777099609375\n"
     ]
    },
    {
     "data": {
      "image/png": "[encoded data removed]",
      "text/plain": [
       "<Figure size 432x288 with 1 Axes>"
      ]
     },
     "metadata": {
      "needs_background": "light"
     },
     "output_type": "display_data"
    },
    {
     "name": "stdout",
     "output_type": "stream",
     "text": [
      "[484749.] 173.81661983912394 181.9618411808077 22.577245712280273\n"
     ]
    },
    {
     "data": {
      "image/png": "[encoded data removed]",
      "text/plain": [
       "<Figure size 432x288 with 1 Axes>"
      ]
     },
     "metadata": {
      "needs_background": "light"
     },
     "output_type": "display_data"
    },
    {
     "name": "stdout",
     "output_type": "stream",
     "text": [
      "[484749.] 177.0074353770739 200.0544586644474 25.17339515686035\n"
     ]
    },
    {
     "data": {
      "image/png": "[encoded data removed]",
      "text/plain": [
       "<Figure size 432x288 with 1 Axes>"
      ]
     },
     "metadata": {
      "needs_background": "light"
     },
     "output_type": "display_data"
    },
    {
     "name": "stdout",
     "output_type": "stream",
     "text": [
      "[323806.] 166.34259076783377 53.48559361742813 14.595929145812988\n"
     ]
    },
    {
     "data": {
      "image/png": "[encoded data removed]",
      "text/plain": [
       "<Figure size 432x288 with 1 Axes>"
      ]
     },
     "metadata": {
      "needs_background": "light"
     },
     "output_type": "display_data"
    },
    {
     "name": "stdout",
     "output_type": "stream",
     "text": [
      "[484749.] 166.7017500814107 126.34514638938134 -30.665485382080078\n"
     ]
    }
   ],
   "source": [
    "for i in range(1,11):\n",
    "    idea=np.random.randint(1,conjunto_datos_entradasB.shape[0])\n",
    "    plt.imshow(conjunto_datos_entradasB[idea], cmap='viridis')\n",
    "    plt.show()\n",
    "    print(conjunto_datos_eventos[idea], conjunto_datos_salidas[idea,0],conjunto_datos_salidas[idea,1],conjunto_datos_salidas[idea,2])"
   ]
  },
  {
   "cell_type": "markdown",
   "metadata": {},
   "source": [
    "## filtro cosas raras por phi"
   ]
  },
  {
   "cell_type": "code",
   "execution_count": 7,
   "metadata": {},
   "outputs": [
    {
     "name": "stdout",
     "output_type": "stream",
     "text": [
      "(68002, 1)\n",
      "13371\n",
      "54631\n"
     ]
    }
   ],
   "source": [
    "prueba=conjunto_datos_salidas[:,1].reshape(muestras,1)\n",
    "print(prueba.shape)\n",
    "veamos4=np.zeros([muestras,175])\n",
    "indice4=np.zeros([muestras,1])\n",
    "for i in range(1,muestras):\n",
    "    veamos4[i]=np.sum(conjunto_datos_entradasB[i], axis=0)\n",
    "    intermedio4=np.argmax(veamos4[i], axis=0)\n",
    "    indice4[i]=intermedio4*2.0571428571428\n",
    "\n",
    "\n",
    "\n",
    "veamos_bad2=np.where(np.logical_and(np.abs(prueba-indice4)>4,np.abs(prueba-indice4)<356 ).all(axis=1) ) \n",
    "conjunto_datos_entradasA_filt_bad2=conjunto_datos_entradasA[veamos_bad2]\n",
    "conjunto_datos_entradasB_filt_bad2=conjunto_datos_entradasB[veamos_bad2]\n",
    "conjunto_datos_salidas_filt_bad2=conjunto_datos_salidas[veamos_bad2]\n",
    "conjunto_datos_eventos_filt_bad2=conjunto_datos_eventos[veamos_bad2]\n",
    "print(conjunto_datos_entradasB_filt_bad2.shape[0])\n",
    "\n",
    "\n",
    "veamos_good=np.where(np.logical_not(np.logical_and(np.abs(prueba-indice4)>4,np.abs(prueba-indice4)<356 )).all(axis=1) ) \n",
    "conjunto_datos_entradasA_filt_good=conjunto_datos_entradasA[veamos_good]\n",
    "conjunto_datos_entradasB_filt_good=conjunto_datos_entradasB[veamos_good]\n",
    "conjunto_datos_salidas_filt_good=conjunto_datos_salidas[veamos_good]\n",
    "conjunto_datos_eventos_filt_good=conjunto_datos_eventos[veamos_good]\n",
    "print(conjunto_datos_entradasB_filt_good.shape[0])"
   ]
  },
  {
   "cell_type": "code",
   "execution_count": 8,
   "metadata": {},
   "outputs": [
    {
     "data": {
      "image/png": "[encoded data removed]",
      "text/plain": [
       "<Figure size 432x288 with 1 Axes>"
      ]
     },
     "metadata": {
      "needs_background": "light"
     },
     "output_type": "display_data"
    },
    {
     "name": "stdout",
     "output_type": "stream",
     "text": [
      "[461127.] 173.739002806414 310.7247668398947 65.5935287475586\n"
     ]
    },
    {
     "data": {
      "image/png": "[encoded data removed]",
      "text/plain": [
       "<Figure size 432x288 with 1 Axes>"
      ]
     },
     "metadata": {
      "needs_background": "light"
     },
     "output_type": "display_data"
    },
    {
     "name": "stdout",
     "output_type": "stream",
     "text": [
      "[160879.] 165.3782272245739 254.24675159654976 3.2672224044799805\n"
     ]
    },
    {
     "data": {
      "image/png": "[encoded data removed]",
      "text/plain": [
       "<Figure size 432x288 with 1 Axes>"
      ]
     },
     "metadata": {
      "needs_background": "light"
     },
     "output_type": "display_data"
    },
    {
     "name": "stdout",
     "output_type": "stream",
     "text": [
      "[284490.] 166.78570122010058 218.4664001308925 -56.243812561035156\n"
     ]
    },
    {
     "data": {
      "image/png": "[encoded data removed]",
      "text/plain": [
       "<Figure size 432x288 with 1 Axes>"
      ]
     },
     "metadata": {
      "needs_background": "light"
     },
     "output_type": "display_data"
    },
    {
     "name": "stdout",
     "output_type": "stream",
     "text": [
      "[321274.] 173.5983185801263 38.60489202346531 16.585472106933594\n"
     ]
    },
    {
     "data": {
      "image/png": "[encoded data removed]",
      "text/plain": [
       "<Figure size 432x288 with 1 Axes>"
      ]
     },
     "metadata": {
      "needs_background": "light"
     },
     "output_type": "display_data"
    },
    {
     "name": "stdout",
     "output_type": "stream",
     "text": [
      "[324073.] 169.56261881367664 332.1773787383508 -14.472124099731445\n"
     ]
    },
    {
     "data": {
      "image/png": "[encoded data removed]",
      "text/plain": [
       "<Figure size 432x288 with 1 Axes>"
      ]
     },
     "metadata": {
      "needs_background": "light"
     },
     "output_type": "display_data"
    },
    {
     "name": "stdout",
     "output_type": "stream",
     "text": [
      "[321616.] 169.54594960604933 281.110182555024 -54.24462127685547\n"
     ]
    },
    {
     "data": {
      "image/png": "[encoded data removed]",
      "text/plain": [
       "<Figure size 432x288 with 1 Axes>"
      ]
     },
     "metadata": {
      "needs_background": "light"
     },
     "output_type": "display_data"
    },
    {
     "name": "stdout",
     "output_type": "stream",
     "text": [
      "[123781.] 165.24532841268058 90.1227252403347 2.8916220664978027\n"
     ]
    },
    {
     "data": {
      "image/png": "[encoded data removed]",
      "text/plain": [
       "<Figure size 432x288 with 1 Axes>"
      ]
     },
     "metadata": {
      "needs_background": "light"
     },
     "output_type": "display_data"
    },
    {
     "name": "stdout",
     "output_type": "stream",
     "text": [
      "[484749.] 165.63934359602425 317.6662917373637 52.76579666137695\n"
     ]
    },
    {
     "data": {
      "image/png": "[encoded data removed]",
      "text/plain": [
       "<Figure size 432x288 with 1 Axes>"
      ]
     },
     "metadata": {
      "needs_background": "light"
     },
     "output_type": "display_data"
    },
    {
     "name": "stdout",
     "output_type": "stream",
     "text": [
      "[484749.] 182.67395359713143 204.018885890963 -36.177459716796875\n"
     ]
    },
    {
     "data": {
      "image/png": "[encoded data removed]",
      "text/plain": [
       "<Figure size 432x288 with 1 Axes>"
      ]
     },
     "metadata": {
      "needs_background": "light"
     },
     "output_type": "display_data"
    },
    {
     "name": "stdout",
     "output_type": "stream",
     "text": [
      "[484749.] 191.95544795588265 321.52635707080213 54.07437515258789\n"
     ]
    }
   ],
   "source": [
    "for i in range(1,11):\n",
    "    idea=np.random.randint(1,conjunto_datos_entradasB_filt_bad2.shape[0])\n",
    "    plt.imshow(conjunto_datos_entradasB_filt_bad2[idea], cmap='viridis')\n",
    "    plt.show()\n",
    "    print(conjunto_datos_eventos_filt_bad2[idea], conjunto_datos_salidas_filt_bad2[idea,0],conjunto_datos_salidas_filt_bad2[idea,1],conjunto_datos_salidas_filt_bad2[idea,2])"
   ]
  },
  {
   "cell_type": "code",
   "execution_count": 9,
   "metadata": {},
   "outputs": [],
   "source": [
    "np.savez('../conjuntos_datos_nuevos_2020/26_12_2019_filt1',conjunto_datos_entradasA_filt_good, conjunto_datos_entradasB_filt_good, conjunto_datos_salidas_filt_good, conjunto_datos_eventos_filt_good )"
   ]
  },
  {
   "cell_type": "markdown",
   "metadata": {},
   "source": [
    "## filtro comptom"
   ]
  },
  {
   "cell_type": "code",
   "execution_count": 10,
   "metadata": {},
   "outputs": [],
   "source": [
    "muestras=conjunto_datos_entradasB_filt_good.shape[0]\n",
    "conjunto_datos_entradasB_filt_good_rot=np.zeros([muestras,20,175])\n",
    "for j in range (1,muestras):\n",
    "    conjunto_datos_entradasB_filt_good_rot[j]=np.roll(conjunto_datos_entradasB_filt_good[j], 10, axis=1)\n",
    "\n",
    "veamos3_previo=np.zeros([20,175])\n",
    "veamos3=np.zeros([175])\n",
    "\n",
    "indices=np.zeros([muestras,1])\n",
    "for j in range (1,muestras):\n",
    "    veamos3=np.sum(conjunto_datos_entradasB_filt_good[j], axis=0)\n",
    "    veamos_peaks = fp1.find_peaks(veamos3, height=40, distance=5)[0]\n",
    "    indices[j]=veamos_peaks.shape[0]\n",
    "    veamos3=np.sum(conjunto_datos_entradasB_filt_good_rot[j], axis=0)\n",
    "    veamos_peaks = fp1.find_peaks(veamos3, height=40, distance=5)[0]\n",
    "    indices[j]=indices[j]+ veamos_peaks.shape[0]\n"
   ]
  },
  {
   "cell_type": "code",
   "execution_count": 11,
   "metadata": {},
   "outputs": [],
   "source": [
    "veamos=np.where((indices>3).all(axis=1) )  # & (energia2B_b<1500).all(axis=1))\n",
    "\n",
    "conjunto_datos_entradasA_filt_bad3=conjunto_datos_entradasA_filt_good[veamos]\n",
    "\n",
    "conjunto_datos_entradasB_filt_bad3=conjunto_datos_entradasB_filt_good[veamos]\n",
    "\n",
    "conjunto_datos_salidas_filt_bad3=conjunto_datos_salidas_filt_good[veamos]\n",
    "conjunto_datos_eventos_filt_bad3=conjunto_datos_eventos_filt_good[veamos]"
   ]
  },
  {
   "cell_type": "code",
   "execution_count": 12,
   "metadata": {},
   "outputs": [
    {
     "name": "stdout",
     "output_type": "stream",
     "text": [
      "2617\n"
     ]
    }
   ],
   "source": [
    "print(conjunto_datos_salidas_filt_bad3.shape[0])"
   ]
  },
  {
   "cell_type": "code",
   "execution_count": 13,
   "metadata": {},
   "outputs": [
    {
     "name": "stdout",
     "output_type": "stream",
     "text": [
      "52014\n"
     ]
    }
   ],
   "source": [
    "veamos=np.where(np.logical_not(indices>3).all(axis=1) )  # & (energia2B_b<1500).all(axis=1))\n",
    "\n",
    "conjunto_datos_entradasA_filt_good3=conjunto_datos_entradasA_filt_good[veamos]\n",
    "\n",
    "conjunto_datos_entradasB_filt_good3=conjunto_datos_entradasB_filt_good[veamos]\n",
    "\n",
    "conjunto_datos_salidas_filt_good3=conjunto_datos_salidas_filt_good[veamos]\n",
    "conjunto_datos_eventos_filt_good3=conjunto_datos_eventos_filt_good[veamos]\n",
    "print(conjunto_datos_salidas_filt_good3.shape[0])"
   ]
  },
  {
   "cell_type": "code",
   "execution_count": 14,
   "metadata": {},
   "outputs": [
    {
     "data": {
      "image/png": "[encoded data removed]",
      "text/plain": [
       "<Figure size 432x288 with 1 Axes>"
      ]
     },
     "metadata": {
      "needs_background": "light"
     },
     "output_type": "display_data"
    },
    {
     "name": "stdout",
     "output_type": "stream",
     "text": [
      "[2395.] 182.90503459563786 57.570945645147006 3.861359119415283\n"
     ]
    },
    {
     "data": {
      "image/png": "[encoded data removed]",
      "text/plain": [
       "<Figure size 432x288 with 1 Axes>"
      ]
     },
     "metadata": {
      "needs_background": "light"
     },
     "output_type": "display_data"
    },
    {
     "name": "stdout",
     "output_type": "stream",
     "text": [
      "[484749.] 165.09156995916175 147.4289471932096 -14.203923225402832\n"
     ]
    },
    {
     "data": {
      "image/png": "[encoded data removed]",
      "text/plain": [
       "<Figure size 432x288 with 1 Axes>"
      ]
     },
     "metadata": {
      "needs_background": "light"
     },
     "output_type": "display_data"
    },
    {
     "name": "stdout",
     "output_type": "stream",
     "text": [
      "[484749.] 173.00791978729595 55.792189386787065 -51.91888427734375\n"
     ]
    },
    {
     "data": {
      "image/png": "[encoded data removed]",
      "text/plain": [
       "<Figure size 432x288 with 1 Axes>"
      ]
     },
     "metadata": {
      "needs_background": "light"
     },
     "output_type": "display_data"
    },
    {
     "name": "stdout",
     "output_type": "stream",
     "text": [
      "[484749.] 166.45553280408802 247.51196313089395 43.14468765258789\n"
     ]
    },
    {
     "data": {
      "image/png": "[encoded data removed]",
      "text/plain": [
       "<Figure size 432x288 with 1 Axes>"
      ]
     },
     "metadata": {
      "needs_background": "light"
     },
     "output_type": "display_data"
    },
    {
     "name": "stdout",
     "output_type": "stream",
     "text": [
      "[120485.] 173.74316622342826 210.36205629500478 -1.2857294082641602\n"
     ]
    },
    {
     "data": {
      "image/png": "[encoded data removed]",
      "text/plain": [
       "<Figure size 432x288 with 1 Axes>"
      ]
     },
     "metadata": {
      "needs_background": "light"
     },
     "output_type": "display_data"
    },
    {
     "name": "stdout",
     "output_type": "stream",
     "text": [
      "[484749.] 166.11919713021905 23.6838409454307 -42.700809478759766\n"
     ]
    },
    {
     "data": {
      "image/png": "[encoded data removed]",
      "text/plain": [
       "<Figure size 432x288 with 1 Axes>"
      ]
     },
     "metadata": {
      "needs_background": "light"
     },
     "output_type": "display_data"
    },
    {
     "name": "stdout",
     "output_type": "stream",
     "text": [
      "[80851.] 169.41403629655275 191.50450129918164 41.964744567871094\n"
     ]
    },
    {
     "data": {
      "image/png": "[encoded data removed]",
      "text/plain": [
       "<Figure size 432x288 with 1 Axes>"
      ]
     },
     "metadata": {
      "needs_background": "light"
     },
     "output_type": "display_data"
    },
    {
     "name": "stdout",
     "output_type": "stream",
     "text": [
      "[481966.] 167.69934911423687 71.64783613443298 39.53090286254883\n"
     ]
    },
    {
     "data": {
      "image/png": "[encoded data removed]",
      "text/plain": [
       "<Figure size 432x288 with 1 Axes>"
      ]
     },
     "metadata": {
      "needs_background": "light"
     },
     "output_type": "display_data"
    },
    {
     "name": "stdout",
     "output_type": "stream",
     "text": [
      "[261339.] 173.18869288770748 46.418663241910735 -6.153883934020996\n"
     ]
    },
    {
     "data": {
      "image/png": "[encoded data removed]",
      "text/plain": [
       "<Figure size 432x288 with 1 Axes>"
      ]
     },
     "metadata": {
      "needs_background": "light"
     },
     "output_type": "display_data"
    },
    {
     "name": "stdout",
     "output_type": "stream",
     "text": [
      "[224366.] 180.31224448809928 40.54548366442834 -52.725502014160156\n"
     ]
    }
   ],
   "source": [
    "for i in range(1,11):\n",
    "    idea=np.random.randint(1,conjunto_datos_entradasB_filt_bad3.shape[0])\n",
    "    plt.imshow(conjunto_datos_entradasB_filt_bad3[idea], cmap='viridis')\n",
    "    plt.show()\n",
    "    print(conjunto_datos_eventos_filt_bad3[idea], conjunto_datos_salidas_filt_bad3[idea,0],conjunto_datos_salidas_filt_bad3[idea,1],conjunto_datos_salidas_filt_bad3[idea,2])"
   ]
  },
  {
   "cell_type": "code",
   "execution_count": 15,
   "metadata": {},
   "outputs": [
    {
     "data": {
      "image/png": "[encoded data removed]",
      "text/plain": [
       "<Figure size 432x288 with 1 Axes>"
      ]
     },
     "metadata": {
      "needs_background": "light"
     },
     "output_type": "display_data"
    },
    {
     "name": "stdout",
     "output_type": "stream",
     "text": [
      "[484749.] 166.68337281115421 176.85279018237307 -42.32467269897461\n"
     ]
    },
    {
     "data": {
      "image/png": "[encoded data removed]",
      "text/plain": [
       "<Figure size 432x288 with 1 Axes>"
      ]
     },
     "metadata": {
      "needs_background": "light"
     },
     "output_type": "display_data"
    },
    {
     "name": "stdout",
     "output_type": "stream",
     "text": [
      "[484749.] 191.29011325110218 325.2334977553374 -15.437204360961914\n"
     ]
    },
    {
     "data": {
      "image/png": "[encoded data removed]",
      "text/plain": [
       "<Figure size 432x288 with 1 Axes>"
      ]
     },
     "metadata": {
      "needs_background": "light"
     },
     "output_type": "display_data"
    },
    {
     "name": "stdout",
     "output_type": "stream",
     "text": [
      "[462934.] 167.35464742662992 94.4696190177229 31.29754066467285\n"
     ]
    },
    {
     "data": {
      "image/png": "[encoded data removed]",
      "text/plain": [
       "<Figure size 432x288 with 1 Axes>"
      ]
     },
     "metadata": {
      "needs_background": "light"
     },
     "output_type": "display_data"
    },
    {
     "name": "stdout",
     "output_type": "stream",
     "text": [
      "[484749.] 176.77466295027006 293.0958523331499 39.74525833129883\n"
     ]
    },
    {
     "data": {
      "image/png": "[encoded data removed]",
      "text/plain": [
       "<Figure size 432x288 with 1 Axes>"
      ]
     },
     "metadata": {
      "needs_background": "light"
     },
     "output_type": "display_data"
    },
    {
     "name": "stdout",
     "output_type": "stream",
     "text": [
      "[484749.] 165.71598541281256 229.74476613297568 47.269447326660156\n"
     ]
    },
    {
     "data": {
      "image/png": "[encoded data removed]",
      "text/plain": [
       "<Figure size 432x288 with 1 Axes>"
      ]
     },
     "metadata": {
      "needs_background": "light"
     },
     "output_type": "display_data"
    },
    {
     "name": "stdout",
     "output_type": "stream",
     "text": [
      "[484749.] 188.2304075861206 31.115523129074916 38.429012298583984\n"
     ]
    },
    {
     "data": {
      "image/png": "[encoded data removed]",
      "text/plain": [
       "<Figure size 432x288 with 1 Axes>"
      ]
     },
     "metadata": {
      "needs_background": "light"
     },
     "output_type": "display_data"
    },
    {
     "name": "stdout",
     "output_type": "stream",
     "text": [
      "[484749.] 177.02935260402518 186.4951398738008 -56.825904846191406\n"
     ]
    },
    {
     "data": {
      "image/png": "[encoded data removed]",
      "text/plain": [
       "<Figure size 432x288 with 1 Axes>"
      ]
     },
     "metadata": {
      "needs_background": "light"
     },
     "output_type": "display_data"
    },
    {
     "name": "stdout",
     "output_type": "stream",
     "text": [
      "[284220.] 165.26501436198478 339.04286014987724 49.45357131958008\n"
     ]
    },
    {
     "data": {
      "image/png": "[encoded data removed]",
      "text/plain": [
       "<Figure size 432x288 with 1 Axes>"
      ]
     },
     "metadata": {
      "needs_background": "light"
     },
     "output_type": "display_data"
    },
    {
     "name": "stdout",
     "output_type": "stream",
     "text": [
      "[484749.] 186.37623993713754 160.90632548773976 4.54880952835083\n"
     ]
    },
    {
     "data": {
      "image/png": "[encoded data removed]",
      "text/plain": [
       "<Figure size 432x288 with 1 Axes>"
      ]
     },
     "metadata": {
      "needs_background": "light"
     },
     "output_type": "display_data"
    },
    {
     "name": "stdout",
     "output_type": "stream",
     "text": [
      "[484749.] 190.35268575290982 209.715271877802 21.182941436767578\n"
     ]
    }
   ],
   "source": [
    "for i in range(1,11):\n",
    "    idea=np.random.randint(1,conjunto_datos_entradasB_filt_good3.shape[0])\n",
    "    plt.imshow(conjunto_datos_entradasB_filt_good3[idea], cmap='viridis')\n",
    "    plt.show()\n",
    "    print(conjunto_datos_eventos_filt_good3[idea], conjunto_datos_salidas_filt_good3[idea,0],conjunto_datos_salidas_filt_good3[idea,1],conjunto_datos_salidas_filt_good3[idea,2])"
   ]
  },
  {
   "cell_type": "code",
   "execution_count": 16,
   "metadata": {},
   "outputs": [],
   "source": [
    "    \n",
    "np.savez('../conjuntos_datos_nuevos_2020/26_12_2019_comptom_filt2',conjunto_datos_entradasA_filt_good3, conjunto_datos_entradasB_filt_good3, conjunto_datos_salidas_filt_good3, conjunto_datos_eventos_filt_good3)"
   ]
  },
  {
   "cell_type": "code",
   "execution_count": 17,
   "metadata": {},
   "outputs": [
    {
     "data": {
      "image/png": "[encoded data removed]",
      "text/plain": [
       "<Figure size 432x288 with 1 Axes>"
      ]
     },
     "metadata": {
      "needs_background": "light"
     },
     "output_type": "display_data"
    }
   ],
   "source": [
    "img_rows_t=20\n",
    "img_cols_t=175\n",
    "energia1B=conjunto_datos_entradasB_filt_good3.reshape(conjunto_datos_entradasB_filt_good3.shape[0], img_rows_t*img_cols_t)\n",
    "\n",
    "\n",
    "energia2B=np.sum(energia1B, axis=1)\n",
    "\n",
    "n1, bins1, patches1=plt.hist(energia2B,400, density=0, facecolor='blue', alpha=0.75)"
   ]
  },
  {
   "cell_type": "code",
   "execution_count": 18,
   "metadata": {},
   "outputs": [],
   "source": [
    "energia2B_b=energia2B.reshape(energia2B.shape[0],1)\n"
   ]
  },
  {
   "cell_type": "code",
   "execution_count": 19,
   "metadata": {},
   "outputs": [],
   "source": [
    "veamos=np.where(np.logical_not(energia2B_b>1250,energia2B_b<1750 ).all(axis=1) )  # & (energia2B_b<1500).all(axis=1))\n",
    "\n",
    "conjunto_datos_entradasA_filt_good4=conjunto_datos_entradasA_filt_good3[veamos]\n",
    "\n",
    "conjunto_datos_entradasB_filt_good4=conjunto_datos_entradasB_filt_good3[veamos]\n",
    "\n",
    "conjunto_datos_eventos_filt_good4=conjunto_datos_eventos_filt_good3[veamos]\n",
    "conjunto_datos_salidas_filt_good4=conjunto_datos_salidas_filt_good3[veamos]"
   ]
  },
  {
   "cell_type": "code",
   "execution_count": 20,
   "metadata": {},
   "outputs": [],
   "source": [
    "    \n",
    "np.savez('../conjuntos_datos_nuevos_2020/26_12_2019_comptom_filt3',conjunto_datos_entradasA_filt_good4, conjunto_datos_entradasB_filt_good4, conjunto_datos_salidas_filt_good4, conjunto_datos_eventos_filt_good4)"
   ]
  },
  {
   "cell_type": "code",
   "execution_count": null,
   "metadata": {},
   "outputs": [],
   "source": []
  },
  {
   "cell_type": "code",
   "execution_count": 22,
   "metadata": {},
   "outputs": [],
   "source": [
    "# # import scipy.io as sio\n",
    "# # import hdf5storage\n",
    "# # datos_matlab = hdf5storage.loadmat('../datos_junio_2019/conjunto_entrenamiento_junio_2019_pitch7mm_rad165mm_29_total.mat')\n",
    "# # conjunto_datos= datos_matlab.get('photodefbox2_todo')\n",
    "# # conjunto_datos.shape\n",
    "# npzfile = np.load('../conjuntos_datos_nuevos_2020/11_12_2019.npz')\n",
    "# npzfile.files\n",
    "\n",
    "# # conjunto_datos_entradasA=npzfile['arr_0']\n",
    "# # conjunto_datos_entradasB=npzfile['arr_1']\n",
    "# # conjunto_datos_salidas=npzfile['arr_2']\n",
    "# entradas_sensorsA1=npzfile['arr_0']\n",
    "# entradas_sensorsB1=npzfile['arr_1']\n",
    "# coordenadas1=npzfile['arr_2']\n",
    "# entradas_sensorsA2=npzfile['arr_3']\n",
    "# entradas_sensorsB2=npzfile['arr_4']\n",
    "# coordenadas2=npzfile['arr_5']\n",
    "\n",
    "# conjunto_datos_entradasA=np.concatenate((entradas_sensorsA1,entradas_sensorsA2),axis=0)\n",
    "# conjunto_datos_entradasB=np.concatenate((entradas_sensorsB1,entradas_sensorsB2),axis=0)\n",
    "# conjunto_datos_salidas=np.concatenate((coordenadas1,coordenadas2),axis=0)\n",
    "\n",
    "\n",
    "# print('conjunto_datos_entradas A shape:', conjunto_datos_entradasA.shape)\n",
    "# print('conjunto_datos_entradas B shape:', conjunto_datos_entradasB.shape)\n",
    "# print('conjunto_datos_salidas shape:', conjunto_datos_salidas.shape)\n",
    "\n",
    "conjunto_datos=conjunto_datos_entradasB_filt_good4.transpose((0,2,1)).reshape(conjunto_datos_entradasB_filt_good4.shape[0], conjunto_datos_entradasB_filt_good4.shape[1]*conjunto_datos_entradasB_filt_good4.shape[2])"
   ]
  },
  {
   "cell_type": "code",
   "execution_count": 23,
   "metadata": {},
   "outputs": [
    {
     "name": "stdout",
     "output_type": "stream",
     "text": [
      "39012\n",
      "conjunto_datos shape: (39012, 3500)\n",
      "3901\n",
      "31209\n",
      "3902\n",
      "(19505, 600)\n",
      "(19510, 600)\n",
      "(3901, 500)\n",
      "(3902, 500)\n"
     ]
    }
   ],
   "source": [
    "L1A=5;\n",
    "# hay tres L1 con 576 sensores (36*16)\n",
    "L1B=1;\n",
    "# hay dos L1 con 640 sensores (40*16)\n",
    "img_rows=20\n",
    "img_colsA=30\n",
    "img_colsB=25\n",
    "img_cols=30\n",
    "input_output_dim_A=img_rows*img_colsA\n",
    "input_output_dim_B=img_rows*img_colsB\n",
    "ideaA=np.zeros((L1A,input_output_dim_A))\n",
    "ideaB=np.zeros((L1B,input_output_dim_B)) \n",
    "numero_muestras=conjunto_datos.shape[0]\n",
    "print(numero_muestras)\n",
    "print('conjunto_datos shape:', conjunto_datos.shape)\n",
    "\n",
    "tr_size=10\n",
    "val_size=80\n",
    "test_size=100-val_size-tr_size\n",
    "\n",
    "tamanyo_tr=floor(tr_size*numero_muestras/100)\n",
    "tamanyo_val=floor(val_size*numero_muestras/100)\n",
    "tamanyo_test=numero_muestras-tamanyo_tr-tamanyo_val\n",
    "print(tamanyo_tr)\n",
    "print(tamanyo_val)\n",
    "print(tamanyo_test)\n",
    "\n",
    "\n",
    "X_train=conjunto_datos[:tamanyo_tr,:]\n",
    "X_val=conjunto_datos[tamanyo_tr:tamanyo_tr+tamanyo_val,:]\n",
    "X_test=conjunto_datos[tamanyo_tr+tamanyo_val:numero_muestras,:]\n",
    "\n",
    "\n",
    "x_train = X_train\n",
    "x_test = X_test\n",
    "\n",
    "datos_trA=np.zeros((X_train.shape[0]*L1A,input_output_dim_A))\n",
    "for i in range(x_train.shape[0]):\n",
    "    for k in range(L1A):\n",
    "        ideaA[k,:]=x_train[i,k*input_output_dim_A:k*input_output_dim_A+input_output_dim_A]\n",
    "    datos_trA[(i)*L1A :(i+1)*L1A,:] = ideaA  \n",
    " \n",
    "x_trainA = datos_trA;\n",
    "\n",
    "datos_testA=np.zeros((X_test.shape[0]*L1A,input_output_dim_A))\n",
    "for i in range(x_test.shape[0]):\n",
    "    for k in range(L1A):\n",
    "        ideaA[k,:]=x_test[i,6+k*input_output_dim_A:6+k*input_output_dim_A+input_output_dim_A]\n",
    "    datos_testA[(i)*L1A :(i+1)*L1A,:] = ideaA  \n",
    " \n",
    "x_testA = datos_testA;\n",
    "\n",
    "\n",
    "\n",
    "\n",
    "\n",
    "print(x_trainA.shape)\n",
    "print(x_testA.shape)\n",
    "\n",
    "\n",
    "datos_trB=np.zeros((X_train.shape[0]*L1B,input_output_dim_B))\n",
    "for i in range(x_train.shape[0]):\n",
    "    for k in range(L1B):\n",
    "        ideaB[k,:]=x_train[i,L1A*input_output_dim_A+k*input_output_dim_B:L1A*input_output_dim_A+(k+1)*input_output_dim_B]\n",
    "    datos_trB[(i)*L1B :(i+1)*L1B,:] = ideaB  \n",
    " \n",
    "x_trainB = datos_trB;\n",
    "\n",
    "datos_testB=np.zeros((X_test.shape[0]*L1B,input_output_dim_B))\n",
    "for i in range(x_test.shape[0]):\n",
    "    for k in range(L1B):\n",
    "        ideaB[k,:]=x_test[i,L1A*input_output_dim_A+k*input_output_dim_B:L1A*input_output_dim_A+(k+1)*input_output_dim_B]\n",
    "    datos_testB[(i)*L1B :(i+1)*L1B,:] = ideaB  \n",
    " \n",
    "x_testB = datos_testB;\n",
    "\n",
    "\n",
    "\n",
    "\n",
    "\n",
    "print(x_trainB.shape)\n",
    "print(x_testB.shape)\n"
   ]
  },
  {
   "cell_type": "markdown",
   "metadata": {},
   "source": [
    "## Network parameters:"
   ]
  },
  {
   "cell_type": "code",
   "execution_count": 24,
   "metadata": {},
   "outputs": [
    {
     "name": "stdout",
     "output_type": "stream",
     "text": [
      "WARNING:tensorflow:From /home/rgadea/anaconda3/envs/tensorflow3/lib/python3.6/site-packages/tensorflow/python/framework/op_def_library.py:263: colocate_with (from tensorflow.python.framework.ops) is deprecated and will be removed in a future version.\n",
      "Instructions for updating:\n",
      "Colocations handled automatically by placer.\n"
     ]
    }
   ],
   "source": [
    "use_regularizer = True\n",
    "my_regularizer = None\n",
    "my_epochs = 150\n",
    "hidden_size=320\n",
    "features_path = 'simple_autoe_features.pickle'\n",
    "labels_path = 'simple_autoe_labels.pickle'\n",
    "\n",
    "if use_regularizer:\n",
    "    # add a sparsity constraint on the encoded representations\n",
    "    # note use of 10e-5 leads to blurred results\n",
    "    my_regularizer = regularizers.l2(0.001)\n",
    "    # and a larger number of epochs as the added regularization the model\n",
    "    # is less likely to overfit and can be trained longer\n",
    "    my_epochs = 100\n",
    "    features_path = 'sparse_autoe_features.pickle'\n",
    "    labels_path = 'sparse_autoe_labels.pickle'\n",
    "\n",
    "   \n",
    "    \n",
    "encoding_dimA = hidden_size  # 32 floats -> compression of factor 24.5, assuming the input is 784 floats\n",
    "\n",
    "\n",
    "# this is our input placeholder\n",
    "\n",
    "input_imgA = Input(shape=(img_rows*img_colsA,))\n",
    "\n",
    "# \"encoded\" is the encoded representation of the input\n",
    "encodedA = Dense(encoding_dimA, activation='sigmoid', use_bias=False,bias_initializer='random_uniform')(input_imgA)\n",
    "# \"decoded\" is the lossy reconstruction of the input\n",
    "decodedA = Dense(img_colsA*img_rows, activation='linear',use_bias=True,bias_initializer='random_uniform')(encodedA)\n",
    "\n",
    "# this model maps an input to its reconstruction\n",
    "\n",
    "\n",
    "#autoencoder=Sequential([\n",
    "#    Dense(encoding_dim, kernel_regularizer=regularizers.l2(0.001), use_bias=True,bias_initializer='random_uniform',input_shape=(640,)),\n",
    "#    Activation('sigmoid'),\n",
    "#    Dense(img_cols*img_rows, use_bias=True,bias_initializer='random_uniform'),\n",
    "#    Activation('linear'),\n",
    "#])\n",
    "\n",
    "autoencoderA = Model(input_imgA, decodedA)\n",
    "\n",
    "encoding_dimB = hidden_size  # 32 floats -> compression of factor 24.5, assuming the input is 784 floats\n",
    "\n",
    "\n",
    "# this is our input placeholder\n",
    "\n",
    "input_imgB = Input(shape=(img_rows*img_colsB,))\n",
    "\n",
    "# \"encoded\" is the encoded representation of the input\n",
    "encodedB = Dense(encoding_dimB, activation='sigmoid', use_bias=False,bias_initializer='random_uniform')(input_imgB)\n",
    "# \"decoded\" is the lossy reconstruction of the input\n",
    "decodedB = Dense(img_colsB*img_rows, activation='linear',use_bias=True,bias_initializer='random_uniform')(encodedB)\n",
    "\n",
    "# this model maps an input to its reconstruction\n",
    "\n",
    "\n",
    "#autoencoder=Sequential([\n",
    "#    Dense(encoding_dim, kernel_regularizer=regularizers.l2(0.001), use_bias=True,bias_initializer='random_uniform',input_shape=(640,)),\n",
    "#    Activation('sigmoid'),\n",
    "#    Dense(img_cols*img_rows, use_bias=True,bias_initializer='random_uniform'),\n",
    "#    Activation('linear'),\n",
    "#])\n",
    "\n",
    "autoencoderB = Model(input_imgB, decodedB)"
   ]
  },
  {
   "cell_type": "markdown",
   "metadata": {},
   "source": [
    "## Prepare data into training and test set."
   ]
  },
  {
   "cell_type": "code",
   "execution_count": 25,
   "metadata": {},
   "outputs": [],
   "source": [
    "x_trainA = x_trainA.reshape(x_trainA.shape[0], img_colsA,img_rows,1)\n",
    "# X_val = X_val.reshape(X_val.shape[0],img_rows, img_colsA,1)\n",
    "x_testA = x_testA.reshape(x_testA.shape[0], img_colsA,img_rows,1)\n",
    "\n",
    "\n",
    "input_shapeA = (img_colsA,img_rows,1)\n",
    "#input_shape=input_shape.astype('int32')"
   ]
  },
  {
   "cell_type": "code",
   "execution_count": 26,
   "metadata": {},
   "outputs": [
    {
     "name": "stdout",
     "output_type": "stream",
     "text": [
      "X_train shape: (19505, 30, 20, 1)\n"
     ]
    }
   ],
   "source": [
    "x_trainA = x_trainA.astype('float32')\n",
    "# X_val= X_val.astype('float32')\n",
    "x_testA = x_testA.astype('float32')\n",
    "\n",
    "print('X_train shape:', x_trainA.shape)\n",
    "# print(X_train.shape[0], 'train samples')\n",
    "# print(X_val.shape[0], 'validation samples')\n",
    "\n",
    "X_train=x_trainA\n",
    "X_test=x_testA"
   ]
  },
  {
   "cell_type": "markdown",
   "metadata": {},
   "source": [
    "Display 20 random training images using image"
   ]
  },
  {
   "cell_type": "code",
   "execution_count": 27,
   "metadata": {},
   "outputs": [
    {
     "data": {
      "image/png": "[encoded data removed]",
      "text/plain": [
       "<Figure size 432x288 with 1 Axes>"
      ]
     },
     "metadata": {
      "needs_background": "light"
     },
     "output_type": "display_data"
    },
    {
     "name": "stdout",
     "output_type": "stream",
     "text": [
      "7327\n"
     ]
    },
    {
     "data": {
      "image/png": "[encoded data removed]",
      "text/plain": [
       "<Figure size 432x288 with 1 Axes>"
      ]
     },
     "metadata": {
      "needs_background": "light"
     },
     "output_type": "display_data"
    },
    {
     "name": "stdout",
     "output_type": "stream",
     "text": [
      "10130\n"
     ]
    },
    {
     "data": {
      "image/png": "[encoded data removed]",
      "text/plain": [
       "<Figure size 432x288 with 1 Axes>"
      ]
     },
     "metadata": {
      "needs_background": "light"
     },
     "output_type": "display_data"
    },
    {
     "name": "stdout",
     "output_type": "stream",
     "text": [
      "16068\n"
     ]
    },
    {
     "data": {
      "image/png": "[encoded data removed]",
      "text/plain": [
       "<Figure size 432x288 with 1 Axes>"
      ]
     },
     "metadata": {
      "needs_background": "light"
     },
     "output_type": "display_data"
    },
    {
     "name": "stdout",
     "output_type": "stream",
     "text": [
      "7680\n"
     ]
    }
   ],
   "source": [
    "# convert class vectors to binary class matrices\n",
    "#Y_train = np_utils.to_categorical(y_train, nb_classes)\n",
    "#Y_test = np_utils.to_categorical(y_test, nb_classes)\n",
    "for i in range(1,5):\n",
    "    idea=np.random.randint(1,X_train.shape[0])\n",
    "    plt.imshow(np.reshape(X_train[idea].transpose(), [img_rows, img_colsA]), vmin=0, vmax=30)\n",
    "    plt.viridis()\n",
    "    plt.show()\n",
    "    print(idea)"
   ]
  },
  {
   "cell_type": "markdown",
   "metadata": {},
   "source": [
    "Vamos a generar las matrices de datos para la red neuronal "
   ]
  },
  {
   "cell_type": "code",
   "execution_count": 28,
   "metadata": {},
   "outputs": [
    {
     "name": "stdout",
     "output_type": "stream",
     "text": [
      "(19505, 600)\n",
      "(19510, 600)\n"
     ]
    }
   ],
   "source": [
    "x_train = X_train.reshape((len(X_train), np.prod(X_train.shape[1:])))\n",
    "x_test = X_test.reshape((len(X_test), np.prod(X_test.shape[1:])))\n",
    "\n",
    "print(x_train.shape)\n",
    "print(x_test.shape)\n"
   ]
  },
  {
   "cell_type": "code",
   "execution_count": 29,
   "metadata": {},
   "outputs": [],
   "source": [
    "# min_max_scaler = preprocessing.QuantileTransformer().fit(x_train)\n",
    "# min_max_scaler = preprocessing.MaxAbsScaler().fit(x_train)\n",
    "# min_max_scaler = preprocessing.StandardScaler(with_mean=False).fit(x_train)\n",
    "# min_max_scaler = preprocessing.MinMaxScaler().fit(x_train)\n",
    "#min_max_scaler = preprocessing.RobustScaler().fit(x_train)\n",
    "supermax=1\n",
    "factor_aprendizaje=0.0001\n",
    "# print(min_max_scaler)\n",
    "#x_train_scaled = min_max_scaler.transform(x_train)\n",
    "#x_test_scaled = min_max_scaler.transform(x_test)\n",
    "x_train_scaled=(x_train/supermax)\n",
    "x_test_scaled=(x_test/supermax)\n",
    "#min_max_scaler.scale_\n",
    "# print(x_train[20413])\n",
    "# print(x_train_scaled[20413])\n",
    "# print(x_test[20413])\n",
    "# print(x_test_scaled[20413])"
   ]
  },
  {
   "cell_type": "markdown",
   "metadata": {},
   "source": [
    "## Build the autoencoder. "
   ]
  },
  {
   "cell_type": "markdown",
   "metadata": {},
   "source": [
    "Create our metrics, for example energy"
   ]
  },
  {
   "cell_type": "code",
   "execution_count": 30,
   "metadata": {},
   "outputs": [],
   "source": [
    "import keras.backend as KK\n",
    "import keras.callbacks as KKcall"
   ]
  },
  {
   "cell_type": "code",
   "execution_count": 31,
   "metadata": {},
   "outputs": [],
   "source": [
    "class Metrics(KKcall.Callback):\n",
    "    def on_train_begin(self, logs={}):\n",
    "        self._data = []\n",
    "\n",
    "    def on_epoch_end(self, batch, logs={}):\n",
    "        X_val, y_val = self.validation_data[0], self.validation_data[1]\n",
    "        y_predict = np.asarray(self.model.predict(X_val))\n",
    "\n",
    "        y_val = np.sum((y_val+1)*supermax/2, axis=1)\n",
    "        y_predict = np.sum((y_predict+1)*supermax/2, axis=1)\n",
    "\n",
    "        self._data.append({\n",
    "            'val_energy': np.mean(y_predict-y_val),\n",
    "        })\n",
    "        return\n",
    "\n",
    "    def get_data(self):\n",
    "        return self._data\n",
    "\n",
    "metrics = Metrics()\n",
    "\n",
    "def energy_error(y_true, y_pred):\n",
    "    veamos_energia=(KK.sum(y_pred, axis=1)-KK.sum(y_true,axis=1))\n",
    "    return KK.mean(veamos_energia,axis=-1)"
   ]
  },
  {
   "cell_type": "code",
   "execution_count": 32,
   "metadata": {},
   "outputs": [],
   "source": [
    "# this model maps an input to its encoded representation\n",
    "encoderA = Model(input_imgA, encodedA)\n",
    "\n",
    "# create a placeholder for an encoded (32-dimensional) input\n",
    "encoded_inputA = Input(shape=(encoding_dimA,))\n",
    "# retrieve the last layer of the autoencoder model\n",
    "decoder_layerA = autoencoderA.layers[-1]\n",
    "# create the decoder model\n",
    "decoderA = Model(encoded_inputA, decoder_layerA(encoded_inputA))\n",
    "\n",
    "autoencoderA.compile(optimizer='RMSprop', loss='mse', metrics=[energy_error])\n",
    "\n",
    "autoencoderA.optimizer.lr=(factor_aprendizaje)"
   ]
  },
  {
   "cell_type": "markdown",
   "metadata": {},
   "source": [
    "Show a summary of the model parameters. "
   ]
  },
  {
   "cell_type": "markdown",
   "metadata": {},
   "source": [
    "And now train the model and evaluate on the test set. "
   ]
  },
  {
   "cell_type": "code",
   "execution_count": 33,
   "metadata": {
    "scrolled": true
   },
   "outputs": [
    {
     "name": "stdout",
     "output_type": "stream",
     "text": [
      "WARNING:tensorflow:From /home/rgadea/anaconda3/envs/tensorflow3/lib/python3.6/site-packages/tensorflow/python/ops/math_ops.py:3066: to_int32 (from tensorflow.python.ops.math_ops) is deprecated and will be removed in a future version.\n",
      "Instructions for updating:\n",
      "Use tf.cast instead.\n",
      "Train on 19505 samples, validate on 19510 samples\n",
      "Epoch 1/200\n",
      "19505/19505 [==============================] - 1s 51us/step - loss: 9.3310 - energy_error: -37.2001 - val_loss: 9.7995 - val_energy_error: -25.6570\n",
      "Epoch 2/200\n",
      "19505/19505 [==============================] - 0s 25us/step - loss: 9.1684 - energy_error: -20.5059 - val_loss: 9.6730 - val_energy_error: -26.2560\n",
      "Epoch 3/200\n",
      "19505/19505 [==============================] - 0s 23us/step - loss: 9.0439 - energy_error: -21.9587 - val_loss: 9.5601 - val_energy_error: -28.5419\n",
      "Epoch 4/200\n",
      "19505/19505 [==============================] - 0s 23us/step - loss: 8.9345 - energy_error: -23.4748 - val_loss: 9.4614 - val_energy_error: -30.1771\n",
      "Epoch 5/200\n",
      "19505/19505 [==============================] - 0s 23us/step - loss: 8.8392 - energy_error: -23.9889 - val_loss: 9.3753 - val_energy_error: -31.1009\n",
      "Epoch 6/200\n",
      "19505/19505 [==============================] - 0s 24us/step - loss: 8.7557 - energy_error: -23.7815 - val_loss: 9.2996 - val_energy_error: -31.6652\n",
      "Epoch 7/200\n",
      "19505/19505 [==============================] - 0s 21us/step - loss: 8.6817 - energy_error: -23.2695 - val_loss: 9.2325 - val_energy_error: -32.0610\n",
      "Epoch 8/200\n",
      "19505/19505 [==============================] - 0s 18us/step - loss: 8.6153 - energy_error: -22.6779 - val_loss: 9.1724 - val_energy_error: -32.3266\n",
      "Epoch 9/200\n",
      "19505/19505 [==============================] - 0s 18us/step - loss: 8.5551 - energy_error: -22.0936 - val_loss: 9.1181 - val_energy_error: -32.4989\n",
      "Epoch 10/200\n",
      "19505/19505 [==============================] - 0s 18us/step - loss: 8.5001 - energy_error: -21.5436 - val_loss: 9.0688 - val_energy_error: -32.5918\n",
      "Epoch 11/200\n",
      "19505/19505 [==============================] - 0s 18us/step - loss: 8.4494 - energy_error: -21.0338 - val_loss: 9.0237 - val_energy_error: -32.6281\n",
      "Epoch 12/200\n",
      "19505/19505 [==============================] - 0s 20us/step - loss: 8.4023 - energy_error: -20.5643 - val_loss: 8.9821 - val_energy_error: -32.6172\n",
      "Epoch 13/200\n",
      "19505/19505 [==============================] - 0s 18us/step - loss: 8.3583 - energy_error: -20.1337 - val_loss: 8.9435 - val_energy_error: -32.5824\n",
      "Epoch 14/200\n",
      "19505/19505 [==============================] - 0s 18us/step - loss: 8.3170 - energy_error: -19.7399 - val_loss: 8.9075 - val_energy_error: -32.5382\n",
      "Epoch 15/200\n",
      "19505/19505 [==============================] - 0s 19us/step - loss: 8.2779 - energy_error: -19.3807 - val_loss: 8.8738 - val_energy_error: -32.4920\n",
      "Epoch 16/200\n",
      "19505/19505 [==============================] - 0s 19us/step - loss: 8.2409 - energy_error: -19.0527 - val_loss: 8.8420 - val_energy_error: -32.4402\n",
      "Epoch 17/200\n",
      "19505/19505 [==============================] - 0s 23us/step - loss: 8.2057 - energy_error: -18.7519 - val_loss: 8.8121 - val_energy_error: -32.3807\n",
      "Epoch 18/200\n",
      "19505/19505 [==============================] - 0s 21us/step - loss: 8.1721 - energy_error: -18.4742 - val_loss: 8.7838 - val_energy_error: -32.3225\n",
      "Epoch 19/200\n",
      "19505/19505 [==============================] - 0s 21us/step - loss: 8.1400 - energy_error: -18.2167 - val_loss: 8.7570 - val_energy_error: -32.2681\n",
      "Epoch 20/200\n",
      "19505/19505 [==============================] - 0s 23us/step - loss: 8.1091 - energy_error: -17.9761 - val_loss: 8.7314 - val_energy_error: -32.2166\n",
      "Epoch 21/200\n",
      "19505/19505 [==============================] - 0s 23us/step - loss: 8.0795 - energy_error: -17.7501 - val_loss: 8.7071 - val_energy_error: -32.1692\n",
      "Epoch 22/200\n",
      "19505/19505 [==============================] - 0s 25us/step - loss: 8.0510 - energy_error: -17.5378 - val_loss: 8.6837 - val_energy_error: -32.1262\n",
      "Epoch 23/200\n",
      "19505/19505 [==============================] - 0s 20us/step - loss: 8.0235 - energy_error: -17.3384 - val_loss: 8.6613 - val_energy_error: -32.0850\n",
      "Epoch 24/200\n",
      "19505/19505 [==============================] - 0s 23us/step - loss: 7.9970 - energy_error: -17.1503 - val_loss: 8.6398 - val_energy_error: -32.0433\n",
      "Epoch 25/200\n",
      "19505/19505 [==============================] - 0s 22us/step - loss: 7.9713 - energy_error: -16.9721 - val_loss: 8.6190 - val_energy_error: -31.9993\n",
      "Epoch 26/200\n",
      "19505/19505 [==============================] - 0s 23us/step - loss: 7.9464 - energy_error: -16.8022 - val_loss: 8.5989 - val_energy_error: -31.9547\n",
      "Epoch 27/200\n",
      "19505/19505 [==============================] - 0s 21us/step - loss: 7.9223 - energy_error: -16.6400 - val_loss: 8.5795 - val_energy_error: -31.9120\n",
      "Epoch 28/200\n",
      "19505/19505 [==============================] - 0s 23us/step - loss: 7.8989 - energy_error: -16.4852 - val_loss: 8.5607 - val_energy_error: -31.8740\n",
      "Epoch 29/200\n",
      "19505/19505 [==============================] - 0s 23us/step - loss: 7.8761 - energy_error: -16.3375 - val_loss: 8.5425 - val_energy_error: -31.8396\n",
      "Epoch 30/200\n",
      "19505/19505 [==============================] - 0s 23us/step - loss: 7.8540 - energy_error: -16.1964 - val_loss: 8.5248 - val_energy_error: -31.8092\n",
      "Epoch 31/200\n",
      "19505/19505 [==============================] - 0s 23us/step - loss: 7.8325 - energy_error: -16.0617 - val_loss: 8.5076 - val_energy_error: -31.7816\n",
      "Epoch 32/200\n",
      "19505/19505 [==============================] - 0s 22us/step - loss: 7.8114 - energy_error: -15.9333 - val_loss: 8.4910 - val_energy_error: -31.7570\n",
      "Epoch 33/200\n",
      "19505/19505 [==============================] - 0s 23us/step - loss: 7.7909 - energy_error: -15.8108 - val_loss: 8.4747 - val_energy_error: -31.7334\n",
      "Epoch 34/200\n",
      "19505/19505 [==============================] - 0s 24us/step - loss: 7.7709 - energy_error: -15.6937 - val_loss: 8.4589 - val_energy_error: -31.7086\n",
      "Epoch 35/200\n",
      "19505/19505 [==============================] - 0s 25us/step - loss: 7.7513 - energy_error: -15.5816 - val_loss: 8.4435 - val_energy_error: -31.6839\n",
      "Epoch 36/200\n",
      "19505/19505 [==============================] - 0s 21us/step - loss: 7.7322 - energy_error: -15.4740 - val_loss: 8.4284 - val_energy_error: -31.6591\n",
      "Epoch 37/200\n",
      "19505/19505 [==============================] - 0s 23us/step - loss: 7.7134 - energy_error: -15.3705 - val_loss: 8.4137 - val_energy_error: -31.6345\n",
      "Epoch 38/200\n",
      "19505/19505 [==============================] - 0s 19us/step - loss: 7.6951 - energy_error: -15.2710 - val_loss: 8.3992 - val_energy_error: -31.6115\n",
      "Epoch 39/200\n",
      "19505/19505 [==============================] - 0s 21us/step - loss: 7.6771 - energy_error: -15.1753 - val_loss: 8.3851 - val_energy_error: -31.5874\n",
      "Epoch 40/200\n",
      "19505/19505 [==============================] - 0s 20us/step - loss: 7.6595 - energy_error: -15.0830 - val_loss: 8.3713 - val_energy_error: -31.5620\n",
      "Epoch 41/200\n",
      "19505/19505 [==============================] - 0s 20us/step - loss: 7.6422 - energy_error: -14.9940 - val_loss: 8.3578 - val_energy_error: -31.5371\n",
      "Epoch 42/200\n",
      "19505/19505 [==============================] - 0s 20us/step - loss: 7.6252 - energy_error: -14.9077 - val_loss: 8.3445 - val_energy_error: -31.5143\n",
      "Epoch 43/200\n",
      "19505/19505 [==============================] - 0s 21us/step - loss: 7.6086 - energy_error: -14.8242 - val_loss: 8.3315 - val_energy_error: -31.4905\n",
      "Epoch 44/200\n",
      "19505/19505 [==============================] - 0s 24us/step - loss: 7.5922 - energy_error: -14.7434 - val_loss: 8.3188 - val_energy_error: -31.4613\n",
      "Epoch 45/200\n",
      "19505/19505 [==============================] - 0s 20us/step - loss: 7.5761 - energy_error: -14.6648 - val_loss: 8.3063 - val_energy_error: -31.4283\n",
      "Epoch 46/200\n",
      "19505/19505 [==============================] - 0s 19us/step - loss: 7.5603 - energy_error: -14.5883 - val_loss: 8.2941 - val_energy_error: -31.3935\n",
      "Epoch 47/200\n",
      "19505/19505 [==============================] - 0s 20us/step - loss: 7.5448 - energy_error: -14.5136 - val_loss: 8.2821 - val_energy_error: -31.3586\n",
      "Epoch 48/200\n",
      "19505/19505 [==============================] - 0s 21us/step - loss: 7.5295 - energy_error: -14.4408 - val_loss: 8.2703 - val_energy_error: -31.3250\n",
      "Epoch 49/200\n",
      "19505/19505 [==============================] - 0s 21us/step - loss: 7.5145 - energy_error: -14.3698 - val_loss: 8.2587 - val_energy_error: -31.2935\n",
      "Epoch 50/200\n",
      "19505/19505 [==============================] - 0s 23us/step - loss: 7.4996 - energy_error: -14.3007 - val_loss: 8.2473 - val_energy_error: -31.2632\n",
      "Epoch 51/200\n",
      "19505/19505 [==============================] - 0s 21us/step - loss: 7.4850 - energy_error: -14.2333 - val_loss: 8.2361 - val_energy_error: -31.2347\n",
      "Epoch 52/200\n",
      "19505/19505 [==============================] - 0s 19us/step - loss: 7.4707 - energy_error: -14.1677 - val_loss: 8.2251 - val_energy_error: -31.2095\n",
      "Epoch 53/200\n",
      "19505/19505 [==============================] - 0s 22us/step - loss: 7.4565 - energy_error: -14.1038 - val_loss: 8.2143 - val_energy_error: -31.1873\n",
      "Epoch 54/200\n",
      "19505/19505 [==============================] - 0s 19us/step - loss: 7.4425 - energy_error: -14.0415 - val_loss: 8.2037 - val_energy_error: -31.1681\n",
      "Epoch 55/200\n",
      "19505/19505 [==============================] - 0s 24us/step - loss: 7.4288 - energy_error: -13.9806 - val_loss: 8.1933 - val_energy_error: -31.1509\n",
      "Epoch 56/200\n",
      "19505/19505 [==============================] - 0s 23us/step - loss: 7.4152 - energy_error: -13.9211 - val_loss: 8.1830 - val_energy_error: -31.1359\n",
      "Epoch 57/200\n",
      "19505/19505 [==============================] - 0s 23us/step - loss: 7.4018 - energy_error: -13.8627 - val_loss: 8.1729 - val_energy_error: -31.1248\n",
      "Epoch 58/200\n",
      "19505/19505 [==============================] - 0s 19us/step - loss: 7.3886 - energy_error: -13.8055 - val_loss: 8.1629 - val_energy_error: -31.1117\n",
      "Epoch 59/200\n",
      "19505/19505 [==============================] - 0s 21us/step - loss: 7.3756 - energy_error: -13.7495 - val_loss: 8.1530 - val_energy_error: -31.0978\n",
      "Epoch 60/200\n",
      "19505/19505 [==============================] - 0s 19us/step - loss: 7.3628 - energy_error: -13.6946 - val_loss: 8.1433 - val_energy_error: -31.0820\n",
      "Epoch 61/200\n",
      "19505/19505 [==============================] - 0s 20us/step - loss: 7.3501 - energy_error: -13.6408 - val_loss: 8.1337 - val_energy_error: -31.0642\n",
      "Epoch 62/200\n",
      "19505/19505 [==============================] - 0s 23us/step - loss: 7.3375 - energy_error: -13.5881 - val_loss: 8.1242 - val_energy_error: -31.0438\n",
      "Epoch 63/200\n",
      "19505/19505 [==============================] - 0s 19us/step - loss: 7.3252 - energy_error: -13.5364 - val_loss: 8.1149 - val_energy_error: -31.0216\n",
      "Epoch 64/200\n",
      "19505/19505 [==============================] - 0s 23us/step - loss: 7.3129 - energy_error: -13.4857 - val_loss: 8.1057 - val_energy_error: -30.9979\n",
      "Epoch 65/200\n",
      "19505/19505 [==============================] - 0s 19us/step - loss: 7.3008 - energy_error: -13.4361 - val_loss: 8.0967 - val_energy_error: -30.9737\n",
      "Epoch 66/200\n",
      "19505/19505 [==============================] - 0s 23us/step - loss: 7.2889 - energy_error: -13.3877 - val_loss: 8.0877 - val_energy_error: -30.9485\n",
      "Epoch 67/200\n",
      "19505/19505 [==============================] - 0s 20us/step - loss: 7.2771 - energy_error: -13.3403 - val_loss: 8.0789 - val_energy_error: -30.9231\n",
      "Epoch 68/200\n",
      "19505/19505 [==============================] - 0s 22us/step - loss: 7.2654 - energy_error: -13.2940 - val_loss: 8.0702 - val_energy_error: -30.8974\n",
      "Epoch 69/200\n",
      "19505/19505 [==============================] - 0s 23us/step - loss: 7.2539 - energy_error: -13.2489 - val_loss: 8.0615 - val_energy_error: -30.8716\n",
      "Epoch 70/200\n",
      "19505/19505 [==============================] - 0s 23us/step - loss: 7.2425 - energy_error: -13.2048 - val_loss: 8.0530 - val_energy_error: -30.8453\n",
      "Epoch 71/200\n",
      "19505/19505 [==============================] - 0s 23us/step - loss: 7.2313 - energy_error: -13.1616 - val_loss: 8.0446 - val_energy_error: -30.8184\n",
      "Epoch 72/200\n",
      "19505/19505 [==============================] - 0s 20us/step - loss: 7.2201 - energy_error: -13.1195 - val_loss: 8.0362 - val_energy_error: -30.7899\n",
      "Epoch 73/200\n",
      "19505/19505 [==============================] - 0s 22us/step - loss: 7.2091 - energy_error: -13.0783 - val_loss: 8.0280 - val_energy_error: -30.7590\n",
      "Epoch 74/200\n",
      "19505/19505 [==============================] - 0s 25us/step - loss: 7.1982 - energy_error: -13.0380 - val_loss: 8.0199 - val_energy_error: -30.7239\n",
      "Epoch 75/200\n",
      "19505/19505 [==============================] - 0s 23us/step - loss: 7.1874 - energy_error: -12.9984 - val_loss: 8.0119 - val_energy_error: -30.6865\n",
      "Epoch 76/200\n",
      "19505/19505 [==============================] - 0s 21us/step - loss: 7.1767 - energy_error: -12.9595 - val_loss: 8.0040 - val_energy_error: -30.6480\n",
      "Epoch 77/200\n",
      "19505/19505 [==============================] - 0s 22us/step - loss: 7.1661 - energy_error: -12.9214 - val_loss: 7.9961 - val_energy_error: -30.6089\n",
      "Epoch 78/200\n",
      "19505/19505 [==============================] - 0s 23us/step - loss: 7.1556 - energy_error: -12.8837 - val_loss: 7.9884 - val_energy_error: -30.5702\n",
      "Epoch 79/200\n",
      "19505/19505 [==============================] - 0s 23us/step - loss: 7.1452 - energy_error: -12.8466 - val_loss: 7.9807 - val_energy_error: -30.5317\n",
      "Epoch 80/200\n",
      "19505/19505 [==============================] - 0s 20us/step - loss: 7.1349 - energy_error: -12.8100 - val_loss: 7.9731 - val_energy_error: -30.4940\n",
      "Epoch 81/200\n",
      "19505/19505 [==============================] - 0s 21us/step - loss: 7.1247 - energy_error: -12.7739 - val_loss: 7.9656 - val_energy_error: -30.4571\n",
      "Epoch 82/200\n",
      "19505/19505 [==============================] - 0s 19us/step - loss: 7.1147 - energy_error: -12.7384 - val_loss: 7.9582 - val_energy_error: -30.4210\n",
      "Epoch 83/200\n",
      "19505/19505 [==============================] - 0s 23us/step - loss: 7.1046 - energy_error: -12.7034 - val_loss: 7.9508 - val_energy_error: -30.3852\n",
      "Epoch 84/200\n",
      "19505/19505 [==============================] - 0s 22us/step - loss: 7.0947 - energy_error: -12.6689 - val_loss: 7.9436 - val_energy_error: -30.3497\n",
      "Epoch 85/200\n",
      "19505/19505 [==============================] - 0s 22us/step - loss: 7.0849 - energy_error: -12.6349 - val_loss: 7.9364 - val_energy_error: -30.3141\n",
      "Epoch 86/200\n",
      "19505/19505 [==============================] - 0s 22us/step - loss: 7.0752 - energy_error: -12.6013 - val_loss: 7.9293 - val_energy_error: -30.2790\n",
      "Epoch 87/200\n",
      "19505/19505 [==============================] - 0s 22us/step - loss: 7.0655 - energy_error: -12.5681 - val_loss: 7.9223 - val_energy_error: -30.2440\n",
      "Epoch 88/200\n",
      "19505/19505 [==============================] - 0s 21us/step - loss: 7.0559 - energy_error: -12.5353 - val_loss: 7.9153 - val_energy_error: -30.2092\n",
      "Epoch 89/200\n",
      "19505/19505 [==============================] - 0s 21us/step - loss: 7.0465 - energy_error: -12.5031 - val_loss: 7.9085 - val_energy_error: -30.1746\n",
      "Epoch 90/200\n",
      "19505/19505 [==============================] - 0s 21us/step - loss: 7.0371 - energy_error: -12.4712 - val_loss: 7.9017 - val_energy_error: -30.1407\n",
      "Epoch 91/200\n",
      "19505/19505 [==============================] - 0s 21us/step - loss: 7.0278 - energy_error: -12.4399 - val_loss: 7.8950 - val_energy_error: -30.1082\n",
      "Epoch 92/200\n",
      "19505/19505 [==============================] - 0s 23us/step - loss: 7.0186 - energy_error: -12.4089 - val_loss: 7.8883 - val_energy_error: -30.0776\n",
      "Epoch 93/200\n",
      "19505/19505 [==============================] - 0s 21us/step - loss: 7.0094 - energy_error: -12.3783 - val_loss: 7.8817 - val_energy_error: -30.0491\n",
      "Epoch 94/200\n",
      "19505/19505 [==============================] - 0s 20us/step - loss: 7.0003 - energy_error: -12.3482 - val_loss: 7.8752 - val_energy_error: -30.0230\n",
      "Epoch 95/200\n",
      "19505/19505 [==============================] - 0s 21us/step - loss: 6.9913 - energy_error: -12.3184 - val_loss: 7.8687 - val_energy_error: -29.9991\n",
      "Epoch 96/200\n",
      "19505/19505 [==============================] - 0s 21us/step - loss: 6.9824 - energy_error: -12.2891 - val_loss: 7.8623 - val_energy_error: -29.9774\n",
      "Epoch 97/200\n",
      "19505/19505 [==============================] - 0s 22us/step - loss: 6.9736 - energy_error: -12.2601 - val_loss: 7.8560 - val_energy_error: -29.9579\n",
      "Epoch 98/200\n",
      "19505/19505 [==============================] - 0s 21us/step - loss: 6.9648 - energy_error: -12.2316 - val_loss: 7.8497 - val_energy_error: -29.9404\n",
      "Epoch 99/200\n",
      "19505/19505 [==============================] - 0s 22us/step - loss: 6.9561 - energy_error: -12.2036 - val_loss: 7.8435 - val_energy_error: -29.9242\n",
      "Epoch 100/200\n",
      "19505/19505 [==============================] - 0s 24us/step - loss: 6.9474 - energy_error: -12.1760 - val_loss: 7.8374 - val_energy_error: -29.9085\n",
      "Epoch 101/200\n",
      "19505/19505 [==============================] - 0s 22us/step - loss: 6.9388 - energy_error: -12.1488 - val_loss: 7.8312 - val_energy_error: -29.8941\n",
      "Epoch 102/200\n",
      "19505/19505 [==============================] - 0s 20us/step - loss: 6.9303 - energy_error: -12.1220 - val_loss: 7.8252 - val_energy_error: -29.8811\n",
      "Epoch 103/200\n",
      "19505/19505 [==============================] - 0s 20us/step - loss: 6.9219 - energy_error: -12.0956 - val_loss: 7.8191 - val_energy_error: -29.8687\n",
      "Epoch 104/200\n",
      "19505/19505 [==============================] - 0s 22us/step - loss: 6.9135 - energy_error: -12.0694 - val_loss: 7.8132 - val_energy_error: -29.8577\n",
      "Epoch 105/200\n",
      "19505/19505 [==============================] - 0s 23us/step - loss: 6.9052 - energy_error: -12.0435 - val_loss: 7.8072 - val_energy_error: -29.8458\n",
      "Epoch 106/200\n",
      "19505/19505 [==============================] - 0s 23us/step - loss: 6.8969 - energy_error: -12.0178 - val_loss: 7.8014 - val_energy_error: -29.8334\n",
      "Epoch 107/200\n",
      "19505/19505 [==============================] - 0s 21us/step - loss: 6.8887 - energy_error: -11.9922 - val_loss: 7.7955 - val_energy_error: -29.8191\n",
      "Epoch 108/200\n",
      "19505/19505 [==============================] - 0s 23us/step - loss: 6.8805 - energy_error: -11.9668 - val_loss: 7.7897 - val_energy_error: -29.8050\n",
      "Epoch 109/200\n",
      "19505/19505 [==============================] - 0s 22us/step - loss: 6.8725 - energy_error: -11.9417 - val_loss: 7.7839 - val_energy_error: -29.7900\n",
      "Epoch 110/200\n",
      "19505/19505 [==============================] - 0s 21us/step - loss: 6.8644 - energy_error: -11.9167 - val_loss: 7.7782 - val_energy_error: -29.7755\n",
      "Epoch 111/200\n",
      "19505/19505 [==============================] - 0s 20us/step - loss: 6.8564 - energy_error: -11.8921 - val_loss: 7.7725 - val_energy_error: -29.7608\n",
      "Epoch 112/200\n",
      "19505/19505 [==============================] - 0s 18us/step - loss: 6.8485 - energy_error: -11.8676 - val_loss: 7.7669 - val_energy_error: -29.7470\n",
      "Epoch 113/200\n",
      "19505/19505 [==============================] - 0s 22us/step - loss: 6.8407 - energy_error: -11.8435 - val_loss: 7.7613 - val_energy_error: -29.7326\n",
      "Epoch 114/200\n",
      "19505/19505 [==============================] - 0s 19us/step - loss: 6.8329 - energy_error: -11.8197 - val_loss: 7.7557 - val_energy_error: -29.7191\n",
      "Epoch 115/200\n",
      "19505/19505 [==============================] - 0s 24us/step - loss: 6.8251 - energy_error: -11.7961 - val_loss: 7.7503 - val_energy_error: -29.7039\n",
      "Epoch 116/200\n",
      "19505/19505 [==============================] - 0s 22us/step - loss: 6.8174 - energy_error: -11.7729 - val_loss: 7.7448 - val_energy_error: -29.6877\n",
      "Epoch 117/200\n",
      "19505/19505 [==============================] - 0s 22us/step - loss: 6.8098 - energy_error: -11.7499 - val_loss: 7.7394 - val_energy_error: -29.6694\n",
      "Epoch 118/200\n",
      "19505/19505 [==============================] - 0s 23us/step - loss: 6.8022 - energy_error: -11.7270 - val_loss: 7.7341 - val_energy_error: -29.6503\n",
      "Epoch 119/200\n",
      "19505/19505 [==============================] - 0s 19us/step - loss: 6.7946 - energy_error: -11.7044 - val_loss: 7.7288 - val_energy_error: -29.6292\n",
      "Epoch 120/200\n",
      "19505/19505 [==============================] - 0s 19us/step - loss: 6.7871 - energy_error: -11.6820 - val_loss: 7.7235 - val_energy_error: -29.6071\n",
      "Epoch 121/200\n",
      "19505/19505 [==============================] - 0s 21us/step - loss: 6.7796 - energy_error: -11.6597 - val_loss: 7.7183 - val_energy_error: -29.5834\n",
      "Epoch 122/200\n",
      "19505/19505 [==============================] - 0s 22us/step - loss: 6.7722 - energy_error: -11.6376 - val_loss: 7.7131 - val_energy_error: -29.5596\n",
      "Epoch 123/200\n",
      "19505/19505 [==============================] - 0s 23us/step - loss: 6.7649 - energy_error: -11.6157 - val_loss: 7.7080 - val_energy_error: -29.5338\n",
      "Epoch 124/200\n",
      "19505/19505 [==============================] - 0s 23us/step - loss: 6.7576 - energy_error: -11.5940 - val_loss: 7.7029 - val_energy_error: -29.5084\n",
      "Epoch 125/200\n",
      "19505/19505 [==============================] - 0s 22us/step - loss: 6.7503 - energy_error: -11.5725 - val_loss: 7.6978 - val_energy_error: -29.4815\n",
      "Epoch 126/200\n",
      "19505/19505 [==============================] - 0s 22us/step - loss: 6.7431 - energy_error: -11.5512 - val_loss: 7.6928 - val_energy_error: -29.4553\n",
      "Epoch 127/200\n",
      "19505/19505 [==============================] - 0s 21us/step - loss: 6.7359 - energy_error: -11.5301 - val_loss: 7.6878 - val_energy_error: -29.4266\n",
      "Epoch 128/200\n",
      "19505/19505 [==============================] - 0s 22us/step - loss: 6.7288 - energy_error: -11.5091 - val_loss: 7.6829 - val_energy_error: -29.3978\n",
      "Epoch 129/200\n",
      "19505/19505 [==============================] - 0s 20us/step - loss: 6.7217 - energy_error: -11.4883 - val_loss: 7.6780 - val_energy_error: -29.3678\n",
      "Epoch 130/200\n",
      "19505/19505 [==============================] - 0s 17us/step - loss: 6.7147 - energy_error: -11.4676 - val_loss: 7.6731 - val_energy_error: -29.3370\n",
      "Epoch 131/200\n",
      "19505/19505 [==============================] - 0s 18us/step - loss: 6.7077 - energy_error: -11.4471 - val_loss: 7.6683 - val_energy_error: -29.3053\n",
      "Epoch 132/200\n",
      "19505/19505 [==============================] - 0s 18us/step - loss: 6.7008 - energy_error: -11.4268 - val_loss: 7.6635 - val_energy_error: -29.2721\n",
      "Epoch 133/200\n",
      "19505/19505 [==============================] - 0s 18us/step - loss: 6.6939 - energy_error: -11.4066 - val_loss: 7.6588 - val_energy_error: -29.2369\n",
      "Epoch 134/200\n",
      "19505/19505 [==============================] - 0s 18us/step - loss: 6.6870 - energy_error: -11.3866 - val_loss: 7.6541 - val_energy_error: -29.2006\n",
      "Epoch 135/200\n",
      "19505/19505 [==============================] - 0s 19us/step - loss: 6.6802 - energy_error: -11.3667 - val_loss: 7.6495 - val_energy_error: -29.1638\n",
      "Epoch 136/200\n",
      "19505/19505 [==============================] - 0s 18us/step - loss: 6.6734 - energy_error: -11.3470 - val_loss: 7.6449 - val_energy_error: -29.1259\n",
      "Epoch 137/200\n",
      "19505/19505 [==============================] - 0s 18us/step - loss: 6.6667 - energy_error: -11.3274 - val_loss: 7.6403 - val_energy_error: -29.0885\n",
      "Epoch 138/200\n",
      "19505/19505 [==============================] - 0s 18us/step - loss: 6.6600 - energy_error: -11.3079 - val_loss: 7.6357 - val_energy_error: -29.0503\n",
      "Epoch 139/200\n",
      "19505/19505 [==============================] - 0s 19us/step - loss: 6.6533 - energy_error: -11.2885 - val_loss: 7.6312 - val_energy_error: -29.0128\n",
      "Epoch 140/200\n",
      "19505/19505 [==============================] - 0s 22us/step - loss: 6.6467 - energy_error: -11.2694 - val_loss: 7.6267 - val_energy_error: -28.9747\n",
      "Epoch 141/200\n",
      "19505/19505 [==============================] - 0s 21us/step - loss: 6.6401 - energy_error: -11.2503 - val_loss: 7.6223 - val_energy_error: -28.9368\n",
      "Epoch 142/200\n",
      "19505/19505 [==============================] - 0s 22us/step - loss: 6.6335 - energy_error: -11.2316 - val_loss: 7.6179 - val_energy_error: -28.8983\n",
      "Epoch 143/200\n",
      "19505/19505 [==============================] - 0s 21us/step - loss: 6.6270 - energy_error: -11.2130 - val_loss: 7.6135 - val_energy_error: -28.8603\n",
      "Epoch 144/200\n",
      "19505/19505 [==============================] - 0s 22us/step - loss: 6.6206 - energy_error: -11.1945 - val_loss: 7.6091 - val_energy_error: -28.8226\n",
      "Epoch 145/200\n",
      "19505/19505 [==============================] - 0s 21us/step - loss: 6.6141 - energy_error: -11.1762 - val_loss: 7.6048 - val_energy_error: -28.7863\n",
      "Epoch 146/200\n",
      "19505/19505 [==============================] - 0s 19us/step - loss: 6.6077 - energy_error: -11.1581 - val_loss: 7.6005 - val_energy_error: -28.7514\n",
      "Epoch 147/200\n",
      "19505/19505 [==============================] - 0s 21us/step - loss: 6.6014 - energy_error: -11.1401 - val_loss: 7.5962 - val_energy_error: -28.7181\n",
      "Epoch 148/200\n",
      "19505/19505 [==============================] - 0s 23us/step - loss: 6.5951 - energy_error: -11.1223 - val_loss: 7.5920 - val_energy_error: -28.6863\n",
      "Epoch 149/200\n",
      "19505/19505 [==============================] - 0s 21us/step - loss: 6.5888 - energy_error: -11.1047 - val_loss: 7.5877 - val_energy_error: -28.6558\n",
      "Epoch 150/200\n",
      "19505/19505 [==============================] - 0s 23us/step - loss: 6.5825 - energy_error: -11.0873 - val_loss: 7.5835 - val_energy_error: -28.6261\n",
      "Epoch 151/200\n",
      "19505/19505 [==============================] - 0s 21us/step - loss: 6.5763 - energy_error: -11.0701 - val_loss: 7.5794 - val_energy_error: -28.5960\n",
      "Epoch 152/200\n",
      "19505/19505 [==============================] - 0s 21us/step - loss: 6.5701 - energy_error: -11.0529 - val_loss: 7.5752 - val_energy_error: -28.5668\n",
      "Epoch 153/200\n",
      "19505/19505 [==============================] - 0s 22us/step - loss: 6.5640 - energy_error: -11.0359 - val_loss: 7.5711 - val_energy_error: -28.5374\n",
      "Epoch 154/200\n",
      "19505/19505 [==============================] - 0s 21us/step - loss: 6.5578 - energy_error: -11.0190 - val_loss: 7.5670 - val_energy_error: -28.5091\n",
      "Epoch 155/200\n",
      "19505/19505 [==============================] - 0s 23us/step - loss: 6.5517 - energy_error: -11.0020 - val_loss: 7.5630 - val_energy_error: -28.4806\n",
      "Epoch 156/200\n",
      "19505/19505 [==============================] - 0s 22us/step - loss: 6.5457 - energy_error: -10.9851 - val_loss: 7.5590 - val_energy_error: -28.4536\n",
      "Epoch 157/200\n",
      "19505/19505 [==============================] - 0s 23us/step - loss: 6.5397 - energy_error: -10.9683 - val_loss: 7.5550 - val_energy_error: -28.4261\n",
      "Epoch 158/200\n",
      "19505/19505 [==============================] - 0s 22us/step - loss: 6.5337 - energy_error: -10.9515 - val_loss: 7.5510 - val_energy_error: -28.4010\n",
      "Epoch 159/200\n",
      "19505/19505 [==============================] - 0s 23us/step - loss: 6.5277 - energy_error: -10.9349 - val_loss: 7.5471 - val_energy_error: -28.3760\n",
      "Epoch 160/200\n",
      "19505/19505 [==============================] - 0s 24us/step - loss: 6.5218 - energy_error: -10.9184 - val_loss: 7.5432 - val_energy_error: -28.3526\n",
      "Epoch 161/200\n",
      "19505/19505 [==============================] - 0s 24us/step - loss: 6.5159 - energy_error: -10.9021 - val_loss: 7.5393 - val_energy_error: -28.3290\n",
      "Epoch 162/200\n",
      "19505/19505 [==============================] - 0s 24us/step - loss: 6.5100 - energy_error: -10.8856 - val_loss: 7.5355 - val_energy_error: -28.3068\n",
      "Epoch 163/200\n",
      "19505/19505 [==============================] - 0s 24us/step - loss: 6.5042 - energy_error: -10.8694 - val_loss: 7.5316 - val_energy_error: -28.2849\n",
      "Epoch 164/200\n",
      "19505/19505 [==============================] - 0s 23us/step - loss: 6.4983 - energy_error: -10.8532 - val_loss: 7.5278 - val_energy_error: -28.2641\n",
      "Epoch 165/200\n",
      "19505/19505 [==============================] - 0s 20us/step - loss: 6.4925 - energy_error: -10.8370 - val_loss: 7.5241 - val_energy_error: -28.2430\n",
      "Epoch 166/200\n",
      "19505/19505 [==============================] - 0s 20us/step - loss: 6.4868 - energy_error: -10.8210 - val_loss: 7.5203 - val_energy_error: -28.2218\n",
      "Epoch 167/200\n",
      "19505/19505 [==============================] - 0s 20us/step - loss: 6.4811 - energy_error: -10.8051 - val_loss: 7.5166 - val_energy_error: -28.1999\n",
      "Epoch 168/200\n",
      "19505/19505 [==============================] - 0s 23us/step - loss: 6.4754 - energy_error: -10.7893 - val_loss: 7.5128 - val_energy_error: -28.1776\n",
      "Epoch 169/200\n",
      "19505/19505 [==============================] - 0s 19us/step - loss: 6.4697 - energy_error: -10.7734 - val_loss: 7.5091 - val_energy_error: -28.1548\n",
      "Epoch 170/200\n",
      "19505/19505 [==============================] - 0s 20us/step - loss: 6.4641 - energy_error: -10.7577 - val_loss: 7.5055 - val_energy_error: -28.1322\n",
      "Epoch 171/200\n",
      "19505/19505 [==============================] - 0s 21us/step - loss: 6.4585 - energy_error: -10.7419 - val_loss: 7.5018 - val_energy_error: -28.1090\n",
      "Epoch 172/200\n",
      "19505/19505 [==============================] - 0s 24us/step - loss: 6.4529 - energy_error: -10.7263 - val_loss: 7.4982 - val_energy_error: -28.0846\n",
      "Epoch 173/200\n",
      "19505/19505 [==============================] - 0s 22us/step - loss: 6.4473 - energy_error: -10.7107 - val_loss: 7.4946 - val_energy_error: -28.0601\n",
      "Epoch 174/200\n",
      "19505/19505 [==============================] - 0s 24us/step - loss: 6.4418 - energy_error: -10.6952 - val_loss: 7.4911 - val_energy_error: -28.0363\n",
      "Epoch 175/200\n",
      "19505/19505 [==============================] - 0s 20us/step - loss: 6.4363 - energy_error: -10.6798 - val_loss: 7.4875 - val_energy_error: -28.0125\n",
      "Epoch 176/200\n",
      "19505/19505 [==============================] - 0s 24us/step - loss: 6.4308 - energy_error: -10.6646 - val_loss: 7.4840 - val_energy_error: -27.9897\n",
      "Epoch 177/200\n",
      "19505/19505 [==============================] - 0s 22us/step - loss: 6.4253 - energy_error: -10.6494 - val_loss: 7.4805 - val_energy_error: -27.9679\n",
      "Epoch 178/200\n",
      "19505/19505 [==============================] - 0s 22us/step - loss: 6.4199 - energy_error: -10.6344 - val_loss: 7.4770 - val_energy_error: -27.9466\n",
      "Epoch 179/200\n",
      "19505/19505 [==============================] - 0s 21us/step - loss: 6.4145 - energy_error: -10.6195 - val_loss: 7.4735 - val_energy_error: -27.9261\n",
      "Epoch 180/200\n",
      "19505/19505 [==============================] - 0s 18us/step - loss: 6.4092 - energy_error: -10.6048 - val_loss: 7.4701 - val_energy_error: -27.9064\n",
      "Epoch 181/200\n",
      "19505/19505 [==============================] - 0s 18us/step - loss: 6.4038 - energy_error: -10.5901 - val_loss: 7.4666 - val_energy_error: -27.8869\n",
      "Epoch 182/200\n",
      "19505/19505 [==============================] - 0s 23us/step - loss: 6.3985 - energy_error: -10.5755 - val_loss: 7.4632 - val_energy_error: -27.8682\n",
      "Epoch 183/200\n",
      "19505/19505 [==============================] - 0s 24us/step - loss: 6.3932 - energy_error: -10.5610 - val_loss: 7.4598 - val_energy_error: -27.8493\n",
      "Epoch 184/200\n",
      "19505/19505 [==============================] - 0s 23us/step - loss: 6.3880 - energy_error: -10.5466 - val_loss: 7.4565 - val_energy_error: -27.8303\n",
      "Epoch 185/200\n",
      "19505/19505 [==============================] - 0s 18us/step - loss: 6.3827 - energy_error: -10.5323 - val_loss: 7.4531 - val_energy_error: -27.8102\n",
      "Epoch 186/200\n",
      "19505/19505 [==============================] - 0s 18us/step - loss: 6.3775 - energy_error: -10.5181 - val_loss: 7.4498 - val_energy_error: -27.7888\n",
      "Epoch 187/200\n",
      "19505/19505 [==============================] - 0s 22us/step - loss: 6.3723 - energy_error: -10.5040 - val_loss: 7.4465 - val_energy_error: -27.7653\n",
      "Epoch 188/200\n",
      "19505/19505 [==============================] - 0s 20us/step - loss: 6.3671 - energy_error: -10.4899 - val_loss: 7.4432 - val_energy_error: -27.7405\n",
      "Epoch 189/200\n",
      "19505/19505 [==============================] - 0s 22us/step - loss: 6.3620 - energy_error: -10.4759 - val_loss: 7.4399 - val_energy_error: -27.7134\n",
      "Epoch 190/200\n",
      "19505/19505 [==============================] - 0s 21us/step - loss: 6.3569 - energy_error: -10.4619 - val_loss: 7.4366 - val_energy_error: -27.6846\n",
      "Epoch 191/200\n",
      "19505/19505 [==============================] - 0s 21us/step - loss: 6.3518 - energy_error: -10.4478 - val_loss: 7.4334 - val_energy_error: -27.6553\n",
      "Epoch 192/200\n",
      "19505/19505 [==============================] - 0s 23us/step - loss: 6.3467 - energy_error: -10.4339 - val_loss: 7.4302 - val_energy_error: -27.6256\n",
      "Epoch 193/200\n",
      "19505/19505 [==============================] - 0s 23us/step - loss: 6.3416 - energy_error: -10.4200 - val_loss: 7.4269 - val_energy_error: -27.5956\n",
      "Epoch 194/200\n",
      "19505/19505 [==============================] - 0s 21us/step - loss: 6.3366 - energy_error: -10.4061 - val_loss: 7.4237 - val_energy_error: -27.5648\n",
      "Epoch 195/200\n",
      "19505/19505 [==============================] - 0s 22us/step - loss: 6.3316 - energy_error: -10.3924 - val_loss: 7.4205 - val_energy_error: -27.5336\n",
      "Epoch 196/200\n",
      "19505/19505 [==============================] - 0s 24us/step - loss: 6.3266 - energy_error: -10.3787 - val_loss: 7.4173 - val_energy_error: -27.5019\n",
      "Epoch 197/200\n",
      "19505/19505 [==============================] - 0s 23us/step - loss: 6.3217 - energy_error: -10.3650 - val_loss: 7.4142 - val_energy_error: -27.4691\n",
      "Epoch 198/200\n",
      "19505/19505 [==============================] - 0s 23us/step - loss: 6.3167 - energy_error: -10.3515 - val_loss: 7.4110 - val_energy_error: -27.4362\n",
      "Epoch 199/200\n",
      "19505/19505 [==============================] - 0s 24us/step - loss: 6.3118 - energy_error: -10.3380 - val_loss: 7.4079 - val_energy_error: -27.4016\n",
      "Epoch 200/200\n",
      "19505/19505 [==============================] - 0s 25us/step - loss: 6.3069 - energy_error: -10.3245 - val_loss: 7.4047 - val_energy_error: -27.3675\n"
     ]
    }
   ],
   "source": [
    "algoritmo='RMSprop'\n",
    "experimento=\"scaledA_{}_encoder_without_bias_sig_sig_lr_{}\".format(supermax,factor_aprendizaje)\n",
    "tensorboard=TensorBoard(log_dir=\"../logs/defs/{}{}{}{}\".format(encoding_dimA,algoritmo,experimento,datetime.now()))\n",
    "#modelCheckpoint=ModelCheckpoint(\"/home/rgadea3/EXPERIMENTOS/nuevas_investigaciones_2018/experimentos/logs/\", monitor='val_loss', verbose=0, save_best_only=False, save_weights_only=False, mode='auto', period=1)\n",
    "early_stop=EarlyStopping(monitor='val_loss', min_delta=0, patience=500, verbose=2, mode='auto', baseline=None)\n",
    "results=autoencoderA.fit(x_train_scaled, x_train_scaled,\n",
    "                epochs=200,\n",
    "                batch_size=200,\n",
    "                shuffle=False,\n",
    "                callbacks=[tensorboard, early_stop, metrics],\n",
    "                validation_data=(x_test_scaled, x_test_scaled))\n",
    "\n"
   ]
  },
  {
   "cell_type": "code",
   "execution_count": 34,
   "metadata": {},
   "outputs": [
    {
     "data": {
      "image/png": "[encoded data removed]",
      "text/plain": [
       "<Figure size 432x288 with 1 Axes>"
      ]
     },
     "metadata": {
      "needs_background": "light"
     },
     "output_type": "display_data"
    },
    {
     "data": {
      "image/png": "[encoded data removed]",
      "text/plain": [
       "<Figure size 432x288 with 1 Axes>"
      ]
     },
     "metadata": {
      "needs_background": "light"
     },
     "output_type": "display_data"
    }
   ],
   "source": [
    "# summarize history for categorical accuracy\n",
    "plt.plot(results.history['energy_error'])\n",
    "plt.plot(results.history['val_energy_error'])\n",
    "plt.title('Energy error')\n",
    "plt.ylabel('accuracy')\n",
    "plt.xlabel('epoch')\n",
    "plt.legend(['train', 'test'], loc='upper left')\n",
    "plt.show()\n",
    "# summarize history for loss\n",
    "plt.plot(results.history['loss'])\n",
    "plt.plot(results.history['val_loss'])\n",
    "plt.title('model loss')\n",
    "plt.ylabel('loss')\n",
    "plt.xlabel('epoch')\n",
    "plt.legend(['train', 'test'], loc='upper left')\n",
    "plt.show()"
   ]
  },
  {
   "cell_type": "code",
   "execution_count": 35,
   "metadata": {},
   "outputs": [],
   "source": [
    "# import pandas as pd \n",
    "# autoencoder.evaluate(x=x_test_scaled,y=x_test_scaled)\n",
    "# D=metrics.get_data()\n",
    "\n",
    "\n",
    "# energies=pd.DataFrame(D).values.reshape(len(D))\n",
    "# valores=len(energies)\n",
    "# plt.plot(range(valores),energies) \n",
    "\n",
    "# plt.show()"
   ]
  },
  {
   "cell_type": "code",
   "execution_count": 36,
   "metadata": {},
   "outputs": [],
   "source": [
    "autoencoderA.save_weights('../redes_compresoras/defs/compresor_python_{}{}{}{}'.format(encoding_dimA,algoritmo,experimento,datetime.now()))\n",
    "#np.savez('../redes_compresoras/maxmin_python_ver_rms_prop_scaled_min_max_ver2', min_max_scaler.data_max_, min_max_scaler.data_min_)\n",
    "#autoencoder.load_weights('../redes_compresoras/defs/compresor_python_320RMSpropscaled_100_encoder_without_bias_sig_sig_lr_0.00012018-11-03 09:43:55.047213')"
   ]
  },
  {
   "cell_type": "code",
   "execution_count": null,
   "metadata": {},
   "outputs": [],
   "source": []
  },
  {
   "cell_type": "code",
   "execution_count": 37,
   "metadata": {},
   "outputs": [],
   "source": [
    "# standard_scores = encoder.predict(x_test_scaled).ravel()\n",
    "# #regularized_scores = encoded_regularized.predict(x_test).ravel()\n",
    "# sns.distplot(standard_scores, hist=True, label='standard model')\n",
    "# #sns.distplot(regularized_scores, hist=False, label='regularized model')"
   ]
  },
  {
   "cell_type": "code",
   "execution_count": 38,
   "metadata": {},
   "outputs": [],
   "source": [
    "# encode and decode some images\n",
    "# note that we take them from the *test* set\n",
    "# encoded_imgs = encoder.predict(x_test_min_max)\n",
    "# decoded_imgs_scaled = decoder.predict(encoded_imgs)\n",
    "#decoded_imgs_scaled = autoencoder.predict(x_test_min_max)\n",
    "decoded_imgs_scaled = autoencoderA.predict(x_test_scaled)\n",
    "decoded_imgs = supermax*(decoded_imgs_scaled)\n",
    "#decoded_imgs = min_max_scaler.inverse_transform(decoded_imgs_scaled)\n",
    "#decoded_imgs = autoencoder.predict(x_test)\n"
   ]
  },
  {
   "cell_type": "code",
   "execution_count": 39,
   "metadata": {},
   "outputs": [
    {
     "data": {
      "image/png": "[encoded data removed]",
      "text/plain": [
       "<Figure size 1440x288 with 10 Axes>"
      ]
     },
     "metadata": {
      "needs_background": "light"
     },
     "output_type": "display_data"
    },
    {
     "name": "stdout",
     "output_type": "stream",
     "text": [
      "12470\n"
     ]
    }
   ],
   "source": [
    "n = 5  # how many digits we will display\n",
    "plt.figure(figsize=(20, 4))\n",
    "for i in range(n):\n",
    "    # display original\n",
    "    idea=np.random.randint(1,x_test.shape[0])\n",
    "    ax = plt.subplot(2, n, i + 1)\n",
    "    plt.imshow(x_test[idea].reshape(img_colsA,img_rows ).transpose(),vmin=0, vmax=30)\n",
    "    plt.viridis()\n",
    "    ax.get_xaxis().set_visible(False)\n",
    "    ax.get_yaxis().set_visible(False)\n",
    "\n",
    "    # display reconstruction\n",
    "    ax = plt.subplot(2, n, i + 1 + n)\n",
    "    plt.imshow(decoded_imgs[idea].reshape(img_colsA, img_rows).transpose(),vmin=0, vmax=30)\n",
    "    plt.viridis()\n",
    "    ax.get_xaxis().set_visible(False)\n",
    "    ax.get_yaxis().set_visible(False)\n",
    "plt.show()\n",
    "print(idea)\n",
    "# print(x_test[idea])\n",
    "# print(decoded_imgs[idea])\n",
    "# print(decoded_imgs_scaled[idea])\n"
   ]
  },
  {
   "cell_type": "code",
   "execution_count": 40,
   "metadata": {},
   "outputs": [],
   "source": [
    "x_trainB = x_trainB.reshape(x_trainB.shape[0], img_colsB, img_rows,1)\n",
    "# X_val = X_val.reshape(X_val.shape[0], img_cols, img_rows,1)\n",
    "x_testB = x_testB.reshape(x_testB.shape[0], img_colsB, img_rows,1)\n",
    "\n",
    "\n",
    "input_shapeB = (img_colsB, img_rows,1)\n",
    "#input_shape=input_shape.astype('int32')"
   ]
  },
  {
   "cell_type": "code",
   "execution_count": 41,
   "metadata": {},
   "outputs": [
    {
     "name": "stdout",
     "output_type": "stream",
     "text": [
      "X_train shape: (3901, 25, 20, 1)\n"
     ]
    }
   ],
   "source": [
    "x_trainB = x_trainB.astype('float32')\n",
    "# X_val= X_val.astype('float32')\n",
    "x_testB = x_testB.astype('float32')\n",
    "\n",
    "print('X_train shape:', x_trainB.shape)\n",
    "# print(X_train.shape[0], 'train samples')\n",
    "# print(X_val.shape[0], 'validation samples')\n",
    "\n",
    "X_train=x_trainB\n",
    "X_test=x_testB"
   ]
  },
  {
   "cell_type": "markdown",
   "metadata": {},
   "source": [
    "Display 20 random training images using image"
   ]
  },
  {
   "cell_type": "code",
   "execution_count": 42,
   "metadata": {},
   "outputs": [
    {
     "data": {
      "image/png": "[encoded data removed]",
      "text/plain": [
       "<Figure size 432x288 with 1 Axes>"
      ]
     },
     "metadata": {
      "needs_background": "light"
     },
     "output_type": "display_data"
    },
    {
     "name": "stdout",
     "output_type": "stream",
     "text": [
      "1438\n"
     ]
    },
    {
     "data": {
      "image/png": "[encoded data removed]",
      "text/plain": [
       "<Figure size 432x288 with 1 Axes>"
      ]
     },
     "metadata": {
      "needs_background": "light"
     },
     "output_type": "display_data"
    },
    {
     "name": "stdout",
     "output_type": "stream",
     "text": [
      "3488\n"
     ]
    },
    {
     "data": {
      "image/png": "[encoded data removed]",
      "text/plain": [
       "<Figure size 432x288 with 1 Axes>"
      ]
     },
     "metadata": {
      "needs_background": "light"
     },
     "output_type": "display_data"
    },
    {
     "name": "stdout",
     "output_type": "stream",
     "text": [
      "2263\n"
     ]
    },
    {
     "data": {
      "image/png": "[encoded data removed]",
      "text/plain": [
       "<Figure size 432x288 with 1 Axes>"
      ]
     },
     "metadata": {
      "needs_background": "light"
     },
     "output_type": "display_data"
    },
    {
     "name": "stdout",
     "output_type": "stream",
     "text": [
      "462\n"
     ]
    }
   ],
   "source": [
    "# convert class vectors to binary class matrices\n",
    "#Y_train = np_utils.to_categorical(y_train, nb_classes)\n",
    "#Y_test = np_utils.to_categorical(y_test, nb_classes)\n",
    "for i in range(1,5):\n",
    "    idea=np.random.randint(1,X_train.shape[0])\n",
    "    plt.imshow(np.reshape(X_train[idea].transpose(), [img_rows, img_colsB]), vmin=0, vmax=30)\n",
    "    plt.viridis()\n",
    "    plt.show()\n",
    "    print(idea)"
   ]
  },
  {
   "cell_type": "markdown",
   "metadata": {},
   "source": [
    "Vamos a generar las matrices de datos para la red neuronal "
   ]
  },
  {
   "cell_type": "code",
   "execution_count": 43,
   "metadata": {},
   "outputs": [
    {
     "name": "stdout",
     "output_type": "stream",
     "text": [
      "(3901, 500)\n",
      "(3902, 500)\n"
     ]
    }
   ],
   "source": [
    "x_train = X_train.reshape((len(X_train), np.prod(X_train.shape[1:])))\n",
    "x_test = X_test.reshape((len(X_test), np.prod(X_test.shape[1:])))\n",
    "\n",
    "print(x_train.shape)\n",
    "print(x_test.shape)\n"
   ]
  },
  {
   "cell_type": "code",
   "execution_count": 44,
   "metadata": {},
   "outputs": [],
   "source": [
    "# min_max_scaler = preprocessing.QuantileTransformer().fit(x_train)\n",
    "# min_max_scaler = preprocessing.MaxAbsScaler().fit(x_train)\n",
    "# min_max_scaler = preprocessing.StandardScaler(with_mean=False).fit(x_train)\n",
    "# min_max_scaler = preprocessing.MinMaxScaler().fit(x_train)\n",
    "#min_max_scaler = preprocessing.RobustScaler().fit(x_train)\n",
    "supermax=1\n",
    "factor_aprendizaje=0.0001\n",
    "# print(min_max_scaler)\n",
    "# x_train_scaled = min_max_scaler.transform(x_train)\n",
    "# x_test_scaled = min_max_scaler.transform(x_test)\n",
    "x_train_scaled=(x_train/supermax)\n",
    "x_test_scaled=(x_test/supermax)\n",
    "#min_max_scaler.scale_\n",
    "# print(x_train[2413])\n",
    "# print(x_train_scaled[2413])\n",
    "# print(x_test[2413])\n",
    "# print(x_test_scaled[2413])"
   ]
  },
  {
   "cell_type": "markdown",
   "metadata": {},
   "source": [
    "## Build the autoencoder. "
   ]
  },
  {
   "cell_type": "markdown",
   "metadata": {},
   "source": [
    "Create our metrics, for example energy"
   ]
  },
  {
   "cell_type": "code",
   "execution_count": 45,
   "metadata": {},
   "outputs": [],
   "source": [
    "import keras.backend as KK\n",
    "import keras.callbacks as KKcall"
   ]
  },
  {
   "cell_type": "code",
   "execution_count": 46,
   "metadata": {},
   "outputs": [],
   "source": [
    "class Metrics(KKcall.Callback):\n",
    "    def on_train_begin(self, logs={}):\n",
    "        self._data = []\n",
    "\n",
    "    def on_epoch_end(self, batch, logs={}):\n",
    "        X_val, y_val = self.validation_data[0], self.validation_data[1]\n",
    "        y_predict = np.asarray(self.model.predict(X_val))\n",
    "\n",
    "        y_val = np.sum((y_val+1)*supermax/2, axis=1)\n",
    "        y_predict = np.sum((y_predict+1)*supermax/2, axis=1)\n",
    "\n",
    "        self._data.append({\n",
    "            'val_energy': np.mean(y_predict-y_val),\n",
    "        })\n",
    "        return\n",
    "\n",
    "    def get_data(self):\n",
    "        return self._data\n",
    "\n",
    "metrics = Metrics()\n",
    "\n",
    "def energy_error(y_true, y_pred):\n",
    "    veamos_energia=(KK.sum(y_pred, axis=1)-KK.sum(y_true,axis=1))\n",
    "    return KK.mean(veamos_energia,axis=-1)"
   ]
  },
  {
   "cell_type": "code",
   "execution_count": 47,
   "metadata": {},
   "outputs": [],
   "source": [
    "# this model maps an input to its encoded representation\n",
    "encoderB = Model(input_imgB, encodedB)\n",
    "\n",
    "# create a placeholder for an encoded (32-dimensional) input\n",
    "encoded_inputB = Input(shape=(encoding_dimB,))\n",
    "# retrieve the last layer of the autoencoder model\n",
    "decoder_layerB = autoencoderB.layers[-1]\n",
    "# create the decoder model\n",
    "decoder = Model(encoded_inputB, decoder_layerB(encoded_inputB))\n",
    "\n",
    "autoencoderB.compile(optimizer='RMSprop', loss='mse', metrics=[energy_error])\n",
    "\n",
    "autoencoderB.optimizer.lr=(factor_aprendizaje)"
   ]
  },
  {
   "cell_type": "markdown",
   "metadata": {},
   "source": [
    "Show a summary of the model parameters. "
   ]
  },
  {
   "cell_type": "markdown",
   "metadata": {},
   "source": [
    "And now train the model and evaluate on the test set. "
   ]
  },
  {
   "cell_type": "code",
   "execution_count": 48,
   "metadata": {
    "scrolled": true
   },
   "outputs": [
    {
     "name": "stdout",
     "output_type": "stream",
     "text": [
      "Train on 3901 samples, validate on 3902 samples\n",
      "Epoch 1/500\n",
      "3901/3901 [==============================] - 0s 54us/step - loss: 11.2460 - energy_error: -58.8431 - val_loss: 9.8613 - val_energy_error: -37.9494\n",
      "Epoch 2/500\n",
      "3901/3901 [==============================] - 0s 28us/step - loss: 11.1455 - energy_error: -35.7769 - val_loss: 9.8046 - val_energy_error: -24.0137\n",
      "Epoch 3/500\n",
      "3901/3901 [==============================] - 0s 29us/step - loss: 11.0951 - energy_error: -25.7261 - val_loss: 9.7665 - val_energy_error: -17.6818\n",
      "Epoch 4/500\n",
      "3901/3901 [==============================] - 0s 27us/step - loss: 11.0557 - energy_error: -21.4824 - val_loss: 9.7340 - val_energy_error: -15.4390\n",
      "Epoch 5/500\n",
      "3901/3901 [==============================] - 0s 25us/step - loss: 11.0196 - energy_error: -20.0212 - val_loss: 9.7031 - val_energy_error: -14.7037\n",
      "Epoch 6/500\n",
      "3901/3901 [==============================] - 0s 26us/step - loss: 10.9847 - energy_error: -19.4204 - val_loss: 9.6731 - val_energy_error: -14.3890\n",
      "Epoch 7/500\n",
      "3901/3901 [==============================] - 0s 23us/step - loss: 10.9506 - energy_error: -19.0819 - val_loss: 9.6438 - val_energy_error: -14.2713\n",
      "Epoch 8/500\n",
      "3901/3901 [==============================] - 0s 25us/step - loss: 10.9173 - energy_error: -18.9101 - val_loss: 9.6152 - val_energy_error: -14.3091\n",
      "Epoch 9/500\n",
      "3901/3901 [==============================] - 0s 22us/step - loss: 10.8849 - energy_error: -18.8740 - val_loss: 9.5872 - val_energy_error: -14.4725\n",
      "Epoch 10/500\n",
      "3901/3901 [==============================] - 0s 24us/step - loss: 10.8534 - energy_error: -18.9428 - val_loss: 9.5599 - val_energy_error: -14.7301\n",
      "Epoch 11/500\n",
      "3901/3901 [==============================] - 0s 24us/step - loss: 10.8226 - energy_error: -19.0861 - val_loss: 9.5333 - val_energy_error: -15.0521\n",
      "Epoch 12/500\n",
      "3901/3901 [==============================] - 0s 20us/step - loss: 10.7927 - energy_error: -19.2779 - val_loss: 9.5075 - val_energy_error: -15.4138\n",
      "Epoch 13/500\n",
      "3901/3901 [==============================] - 0s 19us/step - loss: 10.7636 - energy_error: -19.4972 - val_loss: 9.4825 - val_energy_error: -15.7956\n",
      "Epoch 14/500\n",
      "3901/3901 [==============================] - 0s 22us/step - loss: 10.7353 - energy_error: -19.7268 - val_loss: 9.4583 - val_energy_error: -16.1817\n",
      "Epoch 15/500\n",
      "3901/3901 [==============================] - 0s 25us/step - loss: 10.7077 - energy_error: -19.9534 - val_loss: 9.4349 - val_energy_error: -16.5607\n",
      "Epoch 16/500\n",
      "3901/3901 [==============================] - 0s 24us/step - loss: 10.6809 - energy_error: -20.1669 - val_loss: 9.4123 - val_energy_error: -16.9232\n",
      "Epoch 17/500\n",
      "3901/3901 [==============================] - 0s 25us/step - loss: 10.6548 - energy_error: -20.3596 - val_loss: 9.3905 - val_energy_error: -17.2629\n",
      "Epoch 18/500\n",
      "3901/3901 [==============================] - 0s 25us/step - loss: 10.6294 - energy_error: -20.5268 - val_loss: 9.3694 - val_energy_error: -17.5767\n",
      "Epoch 19/500\n",
      "3901/3901 [==============================] - 0s 24us/step - loss: 10.6046 - energy_error: -20.6663 - val_loss: 9.3490 - val_energy_error: -17.8632\n",
      "Epoch 20/500\n",
      "3901/3901 [==============================] - 0s 26us/step - loss: 10.5805 - energy_error: -20.7777 - val_loss: 9.3293 - val_energy_error: -18.1234\n",
      "Epoch 21/500\n",
      "3901/3901 [==============================] - 0s 27us/step - loss: 10.5569 - energy_error: -20.8623 - val_loss: 9.3103 - val_energy_error: -18.3592\n",
      "Epoch 22/500\n",
      "3901/3901 [==============================] - 0s 25us/step - loss: 10.5338 - energy_error: -20.9222 - val_loss: 9.2919 - val_energy_error: -18.5721\n",
      "Epoch 23/500\n",
      "3901/3901 [==============================] - 0s 22us/step - loss: 10.5114 - energy_error: -20.9603 - val_loss: 9.2740 - val_energy_error: -18.7641\n",
      "Epoch 24/500\n",
      "3901/3901 [==============================] - 0s 22us/step - loss: 10.4894 - energy_error: -20.9792 - val_loss: 9.2568 - val_energy_error: -18.9379\n",
      "Epoch 25/500\n",
      "3901/3901 [==============================] - 0s 19us/step - loss: 10.4679 - energy_error: -20.9817 - val_loss: 9.2400 - val_energy_error: -19.0972\n",
      "Epoch 26/500\n",
      "3901/3901 [==============================] - 0s 21us/step - loss: 10.4469 - energy_error: -20.9709 - val_loss: 9.2237 - val_energy_error: -19.2441\n",
      "Epoch 27/500\n",
      "3901/3901 [==============================] - 0s 25us/step - loss: 10.4263 - energy_error: -20.9488 - val_loss: 9.2079 - val_energy_error: -19.3811\n",
      "Epoch 28/500\n",
      "3901/3901 [==============================] - 0s 25us/step - loss: 10.4062 - energy_error: -20.9174 - val_loss: 9.1925 - val_energy_error: -19.5097\n",
      "Epoch 29/500\n",
      "3901/3901 [==============================] - 0s 27us/step - loss: 10.3865 - energy_error: -20.8784 - val_loss: 9.1775 - val_energy_error: -19.6303\n",
      "Epoch 30/500\n",
      "3901/3901 [==============================] - 0s 25us/step - loss: 10.3672 - energy_error: -20.8324 - val_loss: 9.1630 - val_energy_error: -19.7434\n",
      "Epoch 31/500\n",
      "3901/3901 [==============================] - 0s 26us/step - loss: 10.3483 - energy_error: -20.7802 - val_loss: 9.1488 - val_energy_error: -19.8495\n",
      "Epoch 32/500\n",
      "3901/3901 [==============================] - 0s 22us/step - loss: 10.3297 - energy_error: -20.7227 - val_loss: 9.1350 - val_energy_error: -19.9493\n",
      "Epoch 33/500\n",
      "3901/3901 [==============================] - 0s 22us/step - loss: 10.3115 - energy_error: -20.6611 - val_loss: 9.1216 - val_energy_error: -20.0436\n",
      "Epoch 34/500\n",
      "3901/3901 [==============================] - 0s 22us/step - loss: 10.2937 - energy_error: -20.5961 - val_loss: 9.1084 - val_energy_error: -20.1332\n",
      "Epoch 35/500\n",
      "3901/3901 [==============================] - 0s 20us/step - loss: 10.2761 - energy_error: -20.5287 - val_loss: 9.0956 - val_energy_error: -20.2186\n",
      "Epoch 36/500\n",
      "3901/3901 [==============================] - 0s 20us/step - loss: 10.2589 - energy_error: -20.4596 - val_loss: 9.0831 - val_energy_error: -20.2998\n",
      "Epoch 37/500\n",
      "3901/3901 [==============================] - 0s 23us/step - loss: 10.2420 - energy_error: -20.3894 - val_loss: 9.0708 - val_energy_error: -20.3770\n",
      "Epoch 38/500\n",
      "3901/3901 [==============================] - 0s 23us/step - loss: 10.2254 - energy_error: -20.3184 - val_loss: 9.0588 - val_energy_error: -20.4508\n",
      "Epoch 39/500\n",
      "3901/3901 [==============================] - 0s 23us/step - loss: 10.2090 - energy_error: -20.2468 - val_loss: 9.0471 - val_energy_error: -20.5220\n",
      "Epoch 40/500\n",
      "3901/3901 [==============================] - 0s 23us/step - loss: 10.1929 - energy_error: -20.1749 - val_loss: 9.0356 - val_energy_error: -20.5910\n",
      "Epoch 41/500\n",
      "3901/3901 [==============================] - 0s 25us/step - loss: 10.1771 - energy_error: -20.1030 - val_loss: 9.0244 - val_energy_error: -20.6577\n",
      "Epoch 42/500\n",
      "3901/3901 [==============================] - 0s 21us/step - loss: 10.1615 - energy_error: -20.0309 - val_loss: 9.0135 - val_energy_error: -20.7217\n",
      "Epoch 43/500\n",
      "3901/3901 [==============================] - 0s 19us/step - loss: 10.1461 - energy_error: -19.9586 - val_loss: 9.0027 - val_energy_error: -20.7832\n",
      "Epoch 44/500\n",
      "3901/3901 [==============================] - 0s 20us/step - loss: 10.1310 - energy_error: -19.8860 - val_loss: 8.9922 - val_energy_error: -20.8417\n",
      "Epoch 45/500\n",
      "3901/3901 [==============================] - 0s 26us/step - loss: 10.1161 - energy_error: -19.8132 - val_loss: 8.9820 - val_energy_error: -20.8970\n",
      "Epoch 46/500\n",
      "3901/3901 [==============================] - 0s 26us/step - loss: 10.1014 - energy_error: -19.7400 - val_loss: 8.9719 - val_energy_error: -20.9492\n",
      "Epoch 47/500\n",
      "3901/3901 [==============================] - 0s 24us/step - loss: 10.0870 - energy_error: -19.6666 - val_loss: 8.9621 - val_energy_error: -20.9990\n",
      "Epoch 48/500\n",
      "3901/3901 [==============================] - 0s 21us/step - loss: 10.0728 - energy_error: -19.5930 - val_loss: 8.9524 - val_energy_error: -21.0471\n",
      "Epoch 49/500\n",
      "3901/3901 [==============================] - 0s 21us/step - loss: 10.0587 - energy_error: -19.5193 - val_loss: 8.9429 - val_energy_error: -21.0942\n",
      "Epoch 50/500\n",
      "3901/3901 [==============================] - 0s 19us/step - loss: 10.0449 - energy_error: -19.4458 - val_loss: 8.9336 - val_energy_error: -21.1401\n",
      "Epoch 51/500\n",
      "3901/3901 [==============================] - 0s 20us/step - loss: 10.0312 - energy_error: -19.3726 - val_loss: 8.9245 - val_energy_error: -21.1850\n",
      "Epoch 52/500\n",
      "3901/3901 [==============================] - 0s 23us/step - loss: 10.0177 - energy_error: -19.2995 - val_loss: 8.9155 - val_energy_error: -21.2283\n",
      "Epoch 53/500\n",
      "3901/3901 [==============================] - 0s 21us/step - loss: 10.0044 - energy_error: -19.2268 - val_loss: 8.9067 - val_energy_error: -21.2698\n",
      "Epoch 54/500\n",
      "3901/3901 [==============================] - 0s 21us/step - loss: 9.9913 - energy_error: -19.1544 - val_loss: 8.8981 - val_energy_error: -21.3092\n",
      "Epoch 55/500\n",
      "3901/3901 [==============================] - 0s 21us/step - loss: 9.9783 - energy_error: -19.0824 - val_loss: 8.8896 - val_energy_error: -21.3462\n",
      "Epoch 56/500\n",
      "3901/3901 [==============================] - 0s 20us/step - loss: 9.9655 - energy_error: -19.0107 - val_loss: 8.8813 - val_energy_error: -21.3808\n",
      "Epoch 57/500\n",
      "3901/3901 [==============================] - 0s 23us/step - loss: 9.9528 - energy_error: -18.9395 - val_loss: 8.8731 - val_energy_error: -21.4124\n",
      "Epoch 58/500\n",
      "3901/3901 [==============================] - 0s 23us/step - loss: 9.9403 - energy_error: -18.8685 - val_loss: 8.8651 - val_energy_error: -21.4411\n",
      "Epoch 59/500\n",
      "3901/3901 [==============================] - 0s 21us/step - loss: 9.9280 - energy_error: -18.7978 - val_loss: 8.8572 - val_energy_error: -21.4669\n",
      "Epoch 60/500\n",
      "3901/3901 [==============================] - 0s 22us/step - loss: 9.9158 - energy_error: -18.7275 - val_loss: 8.8494 - val_energy_error: -21.4901\n",
      "Epoch 61/500\n",
      "3901/3901 [==============================] - 0s 22us/step - loss: 9.9037 - energy_error: -18.6578 - val_loss: 8.8417 - val_energy_error: -21.5103\n",
      "Epoch 62/500\n",
      "3901/3901 [==============================] - 0s 23us/step - loss: 9.8917 - energy_error: -18.5887 - val_loss: 8.8342 - val_energy_error: -21.5281\n",
      "Epoch 63/500\n",
      "3901/3901 [==============================] - 0s 23us/step - loss: 9.8799 - energy_error: -18.5202 - val_loss: 8.8267 - val_energy_error: -21.5440\n",
      "Epoch 64/500\n",
      "3901/3901 [==============================] - 0s 20us/step - loss: 9.8682 - energy_error: -18.4523 - val_loss: 8.8194 - val_energy_error: -21.5585\n",
      "Epoch 65/500\n",
      "3901/3901 [==============================] - 0s 24us/step - loss: 9.8567 - energy_error: -18.3850 - val_loss: 8.8122 - val_energy_error: -21.5717\n",
      "Epoch 66/500\n",
      "3901/3901 [==============================] - 0s 24us/step - loss: 9.8452 - energy_error: -18.3183 - val_loss: 8.8051 - val_energy_error: -21.5833\n",
      "Epoch 67/500\n",
      "3901/3901 [==============================] - 0s 22us/step - loss: 9.8339 - energy_error: -18.2523 - val_loss: 8.7981 - val_energy_error: -21.5931\n",
      "Epoch 68/500\n",
      "3901/3901 [==============================] - 0s 23us/step - loss: 9.8227 - energy_error: -18.1869 - val_loss: 8.7912 - val_energy_error: -21.6010\n",
      "Epoch 69/500\n",
      "3901/3901 [==============================] - 0s 22us/step - loss: 9.8116 - energy_error: -18.1219 - val_loss: 8.7844 - val_energy_error: -21.6075\n",
      "Epoch 70/500\n",
      "3901/3901 [==============================] - 0s 19us/step - loss: 9.8007 - energy_error: -18.0575 - val_loss: 8.7777 - val_energy_error: -21.6127\n",
      "Epoch 71/500\n",
      "3901/3901 [==============================] - 0s 20us/step - loss: 9.7898 - energy_error: -17.9937 - val_loss: 8.7711 - val_energy_error: -21.6169\n",
      "Epoch 72/500\n",
      "3901/3901 [==============================] - 0s 20us/step - loss: 9.7791 - energy_error: -17.9305 - val_loss: 8.7646 - val_energy_error: -21.6199\n",
      "Epoch 73/500\n",
      "3901/3901 [==============================] - 0s 21us/step - loss: 9.7684 - energy_error: -17.8679 - val_loss: 8.7582 - val_energy_error: -21.6219\n",
      "Epoch 74/500\n",
      "3901/3901 [==============================] - 0s 21us/step - loss: 9.7579 - energy_error: -17.8060 - val_loss: 8.7518 - val_energy_error: -21.6230\n",
      "Epoch 75/500\n",
      "3901/3901 [==============================] - 0s 22us/step - loss: 9.7475 - energy_error: -17.7448 - val_loss: 8.7456 - val_energy_error: -21.6235\n",
      "Epoch 76/500\n",
      "3901/3901 [==============================] - 0s 21us/step - loss: 9.7371 - energy_error: -17.6842 - val_loss: 8.7394 - val_energy_error: -21.6234\n",
      "Epoch 77/500\n",
      "3901/3901 [==============================] - 0s 23us/step - loss: 9.7269 - energy_error: -17.6244 - val_loss: 8.7334 - val_energy_error: -21.6226\n",
      "Epoch 78/500\n",
      "3901/3901 [==============================] - 0s 19us/step - loss: 9.7167 - energy_error: -17.5654 - val_loss: 8.7274 - val_energy_error: -21.6211\n",
      "Epoch 79/500\n",
      "3901/3901 [==============================] - 0s 22us/step - loss: 9.7067 - energy_error: -17.5070 - val_loss: 8.7215 - val_energy_error: -21.6186\n",
      "Epoch 80/500\n",
      "3901/3901 [==============================] - 0s 23us/step - loss: 9.6967 - energy_error: -17.4493 - val_loss: 8.7157 - val_energy_error: -21.6150\n",
      "Epoch 81/500\n",
      "3901/3901 [==============================] - 0s 22us/step - loss: 9.6868 - energy_error: -17.3923 - val_loss: 8.7099 - val_energy_error: -21.6101\n",
      "Epoch 82/500\n",
      "3901/3901 [==============================] - 0s 21us/step - loss: 9.6770 - energy_error: -17.3359 - val_loss: 8.7043 - val_energy_error: -21.6036\n",
      "Epoch 83/500\n",
      "3901/3901 [==============================] - 0s 20us/step - loss: 9.6672 - energy_error: -17.2801 - val_loss: 8.6987 - val_energy_error: -21.5961\n",
      "Epoch 84/500\n",
      "3901/3901 [==============================] - 0s 22us/step - loss: 9.6575 - energy_error: -17.2247 - val_loss: 8.6932 - val_energy_error: -21.5880\n",
      "Epoch 85/500\n",
      "3901/3901 [==============================] - 0s 23us/step - loss: 9.6480 - energy_error: -17.1699 - val_loss: 8.6877 - val_energy_error: -21.5796\n",
      "Epoch 86/500\n",
      "3901/3901 [==============================] - 0s 23us/step - loss: 9.6384 - energy_error: -17.1156 - val_loss: 8.6824 - val_energy_error: -21.5708\n",
      "Epoch 87/500\n",
      "3901/3901 [==============================] - 0s 23us/step - loss: 9.6290 - energy_error: -17.0620 - val_loss: 8.6771 - val_energy_error: -21.5614\n",
      "Epoch 88/500\n",
      "3901/3901 [==============================] - 0s 27us/step - loss: 9.6197 - energy_error: -17.0089 - val_loss: 8.6718 - val_energy_error: -21.5515\n",
      "Epoch 89/500\n",
      "3901/3901 [==============================] - 0s 26us/step - loss: 9.6104 - energy_error: -16.9564 - val_loss: 8.6667 - val_energy_error: -21.5409\n",
      "Epoch 90/500\n",
      "3901/3901 [==============================] - 0s 20us/step - loss: 9.6012 - energy_error: -16.9043 - val_loss: 8.6616 - val_energy_error: -21.5294\n",
      "Epoch 91/500\n",
      "3901/3901 [==============================] - 0s 20us/step - loss: 9.5920 - energy_error: -16.8528 - val_loss: 8.6565 - val_energy_error: -21.5170\n",
      "Epoch 92/500\n",
      "3901/3901 [==============================] - 0s 29us/step - loss: 9.5830 - energy_error: -16.8017 - val_loss: 8.6515 - val_energy_error: -21.5037\n",
      "Epoch 93/500\n",
      "3901/3901 [==============================] - 0s 19us/step - loss: 9.5740 - energy_error: -16.7512 - val_loss: 8.6465 - val_energy_error: -21.4895\n",
      "Epoch 94/500\n",
      "3901/3901 [==============================] - 0s 20us/step - loss: 9.5651 - energy_error: -16.7011 - val_loss: 8.6416 - val_energy_error: -21.4744\n",
      "Epoch 95/500\n",
      "3901/3901 [==============================] - 0s 23us/step - loss: 9.5563 - energy_error: -16.6514 - val_loss: 8.6368 - val_energy_error: -21.4583\n",
      "Epoch 96/500\n",
      "3901/3901 [==============================] - 0s 23us/step - loss: 9.5475 - energy_error: -16.6022 - val_loss: 8.6319 - val_energy_error: -21.4415\n",
      "Epoch 97/500\n",
      "3901/3901 [==============================] - 0s 22us/step - loss: 9.5388 - energy_error: -16.5533 - val_loss: 8.6272 - val_energy_error: -21.4239\n",
      "Epoch 98/500\n",
      "3901/3901 [==============================] - 0s 23us/step - loss: 9.5302 - energy_error: -16.5048 - val_loss: 8.6225 - val_energy_error: -21.4057\n",
      "Epoch 99/500\n",
      "3901/3901 [==============================] - 0s 19us/step - loss: 9.5216 - energy_error: -16.4567 - val_loss: 8.6178 - val_energy_error: -21.3869\n",
      "Epoch 100/500\n",
      "3901/3901 [==============================] - 0s 21us/step - loss: 9.5131 - energy_error: -16.4091 - val_loss: 8.6131 - val_energy_error: -21.3674\n",
      "Epoch 101/500\n",
      "3901/3901 [==============================] - 0s 21us/step - loss: 9.5046 - energy_error: -16.3619 - val_loss: 8.6085 - val_energy_error: -21.3472\n",
      "Epoch 102/500\n",
      "3901/3901 [==============================] - 0s 27us/step - loss: 9.4962 - energy_error: -16.3153 - val_loss: 8.6040 - val_energy_error: -21.3266\n",
      "Epoch 103/500\n",
      "3901/3901 [==============================] - 0s 23us/step - loss: 9.4879 - energy_error: -16.2691 - val_loss: 8.5995 - val_energy_error: -21.3060\n",
      "Epoch 104/500\n",
      "3901/3901 [==============================] - 0s 18us/step - loss: 9.4796 - energy_error: -16.2235 - val_loss: 8.5950 - val_energy_error: -21.2858\n",
      "Epoch 105/500\n",
      "3901/3901 [==============================] - 0s 19us/step - loss: 9.4713 - energy_error: -16.1785 - val_loss: 8.5906 - val_energy_error: -21.2662\n",
      "Epoch 106/500\n",
      "3901/3901 [==============================] - 0s 22us/step - loss: 9.4632 - energy_error: -16.1340 - val_loss: 8.5862 - val_energy_error: -21.2475\n",
      "Epoch 107/500\n",
      "3901/3901 [==============================] - 0s 21us/step - loss: 9.4550 - energy_error: -16.0902 - val_loss: 8.5819 - val_energy_error: -21.2298\n",
      "Epoch 108/500\n",
      "3901/3901 [==============================] - 0s 25us/step - loss: 9.4469 - energy_error: -16.0470 - val_loss: 8.5777 - val_energy_error: -21.2132\n",
      "Epoch 109/500\n",
      "3901/3901 [==============================] - 0s 26us/step - loss: 9.4389 - energy_error: -16.0044 - val_loss: 8.5734 - val_energy_error: -21.1974\n",
      "Epoch 110/500\n",
      "3901/3901 [==============================] - 0s 25us/step - loss: 9.4309 - energy_error: -15.9624 - val_loss: 8.5692 - val_energy_error: -21.1821\n",
      "Epoch 111/500\n",
      "3901/3901 [==============================] - 0s 21us/step - loss: 9.4229 - energy_error: -15.9210 - val_loss: 8.5651 - val_energy_error: -21.1667\n",
      "Epoch 112/500\n",
      "3901/3901 [==============================] - 0s 21us/step - loss: 9.4150 - energy_error: -15.8801 - val_loss: 8.5610 - val_energy_error: -21.1510\n",
      "Epoch 113/500\n",
      "3901/3901 [==============================] - 0s 20us/step - loss: 9.4072 - energy_error: -15.8397 - val_loss: 8.5569 - val_energy_error: -21.1344\n",
      "Epoch 114/500\n",
      "3901/3901 [==============================] - 0s 21us/step - loss: 9.3994 - energy_error: -15.7998 - val_loss: 8.5529 - val_energy_error: -21.1170\n",
      "Epoch 115/500\n",
      "3901/3901 [==============================] - 0s 21us/step - loss: 9.3916 - energy_error: -15.7604 - val_loss: 8.5489 - val_energy_error: -21.0985\n",
      "Epoch 116/500\n",
      "3901/3901 [==============================] - 0s 20us/step - loss: 9.3839 - energy_error: -15.7214 - val_loss: 8.5450 - val_energy_error: -21.0791\n",
      "Epoch 117/500\n",
      "3901/3901 [==============================] - 0s 20us/step - loss: 9.3762 - energy_error: -15.6829 - val_loss: 8.5411 - val_energy_error: -21.0590\n",
      "Epoch 118/500\n",
      "3901/3901 [==============================] - 0s 20us/step - loss: 9.3686 - energy_error: -15.6447 - val_loss: 8.5373 - val_energy_error: -21.0384\n",
      "Epoch 119/500\n",
      "3901/3901 [==============================] - 0s 21us/step - loss: 9.3610 - energy_error: -15.6069 - val_loss: 8.5335 - val_energy_error: -21.0172\n",
      "Epoch 120/500\n",
      "3901/3901 [==============================] - 0s 20us/step - loss: 9.3535 - energy_error: -15.5694 - val_loss: 8.5297 - val_energy_error: -20.9960\n",
      "Epoch 121/500\n",
      "3901/3901 [==============================] - 0s 17us/step - loss: 9.3460 - energy_error: -15.5322 - val_loss: 8.5259 - val_energy_error: -20.9751\n",
      "Epoch 122/500\n",
      "3901/3901 [==============================] - 0s 17us/step - loss: 9.3386 - energy_error: -15.4954 - val_loss: 8.5222 - val_energy_error: -20.9549\n",
      "Epoch 123/500\n",
      "3901/3901 [==============================] - 0s 18us/step - loss: 9.3312 - energy_error: -15.4589 - val_loss: 8.5185 - val_energy_error: -20.9355\n",
      "Epoch 124/500\n",
      "3901/3901 [==============================] - 0s 19us/step - loss: 9.3239 - energy_error: -15.4229 - val_loss: 8.5149 - val_energy_error: -20.9171\n",
      "Epoch 125/500\n",
      "3901/3901 [==============================] - 0s 18us/step - loss: 9.3166 - energy_error: -15.3872 - val_loss: 8.5112 - val_energy_error: -20.9000\n",
      "Epoch 126/500\n",
      "3901/3901 [==============================] - 0s 18us/step - loss: 9.3093 - energy_error: -15.3519 - val_loss: 8.5076 - val_energy_error: -20.8839\n",
      "Epoch 127/500\n",
      "3901/3901 [==============================] - 0s 17us/step - loss: 9.3021 - energy_error: -15.3170 - val_loss: 8.5040 - val_energy_error: -20.8687\n",
      "Epoch 128/500\n",
      "3901/3901 [==============================] - 0s 19us/step - loss: 9.2949 - energy_error: -15.2825 - val_loss: 8.5004 - val_energy_error: -20.8543\n",
      "Epoch 129/500\n",
      "3901/3901 [==============================] - 0s 18us/step - loss: 9.2877 - energy_error: -15.2483 - val_loss: 8.4968 - val_energy_error: -20.8407\n",
      "Epoch 130/500\n",
      "3901/3901 [==============================] - 0s 18us/step - loss: 9.2806 - energy_error: -15.2145 - val_loss: 8.4932 - val_energy_error: -20.8277\n",
      "Epoch 131/500\n",
      "3901/3901 [==============================] - 0s 18us/step - loss: 9.2735 - energy_error: -15.1809 - val_loss: 8.4897 - val_energy_error: -20.8152\n",
      "Epoch 132/500\n",
      "3901/3901 [==============================] - 0s 18us/step - loss: 9.2665 - energy_error: -15.1476 - val_loss: 8.4862 - val_energy_error: -20.8030\n",
      "Epoch 133/500\n",
      "3901/3901 [==============================] - 0s 18us/step - loss: 9.2595 - energy_error: -15.1145 - val_loss: 8.4827 - val_energy_error: -20.7912\n",
      "Epoch 134/500\n",
      "3901/3901 [==============================] - 0s 19us/step - loss: 9.2525 - energy_error: -15.0816 - val_loss: 8.4793 - val_energy_error: -20.7796\n",
      "Epoch 135/500\n",
      "3901/3901 [==============================] - 0s 18us/step - loss: 9.2455 - energy_error: -15.0491 - val_loss: 8.4758 - val_energy_error: -20.7683\n",
      "Epoch 136/500\n",
      "3901/3901 [==============================] - 0s 21us/step - loss: 9.2386 - energy_error: -15.0168 - val_loss: 8.4725 - val_energy_error: -20.7571\n",
      "Epoch 137/500\n",
      "3901/3901 [==============================] - 0s 20us/step - loss: 9.2317 - energy_error: -14.9849 - val_loss: 8.4691 - val_energy_error: -20.7459\n",
      "Epoch 138/500\n",
      "3901/3901 [==============================] - 0s 26us/step - loss: 9.2249 - energy_error: -14.9533 - val_loss: 8.4658 - val_energy_error: -20.7350\n",
      "Epoch 139/500\n",
      "3901/3901 [==============================] - 0s 20us/step - loss: 9.2181 - energy_error: -14.9219 - val_loss: 8.4624 - val_energy_error: -20.7241\n",
      "Epoch 140/500\n",
      "3901/3901 [==============================] - 0s 19us/step - loss: 9.2113 - energy_error: -14.8908 - val_loss: 8.4591 - val_energy_error: -20.7137\n",
      "Epoch 141/500\n",
      "3901/3901 [==============================] - 0s 25us/step - loss: 9.2045 - energy_error: -14.8599 - val_loss: 8.4558 - val_energy_error: -20.7041\n",
      "Epoch 142/500\n",
      "3901/3901 [==============================] - 0s 22us/step - loss: 9.1978 - energy_error: -14.8293 - val_loss: 8.4525 - val_energy_error: -20.6952\n",
      "Epoch 143/500\n",
      "3901/3901 [==============================] - 0s 21us/step - loss: 9.1911 - energy_error: -14.7993 - val_loss: 8.4492 - val_energy_error: -20.6861\n",
      "Epoch 144/500\n",
      "3901/3901 [==============================] - 0s 20us/step - loss: 9.1844 - energy_error: -14.7697 - val_loss: 8.4460 - val_energy_error: -20.6771\n",
      "Epoch 145/500\n",
      "3901/3901 [==============================] - 0s 20us/step - loss: 9.1778 - energy_error: -14.7403 - val_loss: 8.4427 - val_energy_error: -20.6683\n",
      "Epoch 146/500\n",
      "3901/3901 [==============================] - 0s 21us/step - loss: 9.1712 - energy_error: -14.7113 - val_loss: 8.4395 - val_energy_error: -20.6598\n",
      "Epoch 147/500\n",
      "3901/3901 [==============================] - 0s 19us/step - loss: 9.1646 - energy_error: -14.6826 - val_loss: 8.4363 - val_energy_error: -20.6516\n",
      "Epoch 148/500\n",
      "3901/3901 [==============================] - 0s 20us/step - loss: 9.1580 - energy_error: -14.6542 - val_loss: 8.4331 - val_energy_error: -20.6440\n",
      "Epoch 149/500\n",
      "3901/3901 [==============================] - 0s 21us/step - loss: 9.1515 - energy_error: -14.6262 - val_loss: 8.4299 - val_energy_error: -20.6371\n",
      "Epoch 150/500\n",
      "3901/3901 [==============================] - 0s 23us/step - loss: 9.1450 - energy_error: -14.5985 - val_loss: 8.4267 - val_energy_error: -20.6310\n",
      "Epoch 151/500\n",
      "3901/3901 [==============================] - 0s 21us/step - loss: 9.1385 - energy_error: -14.5712 - val_loss: 8.4236 - val_energy_error: -20.6258\n",
      "Epoch 152/500\n",
      "3901/3901 [==============================] - 0s 19us/step - loss: 9.1321 - energy_error: -14.5441 - val_loss: 8.4205 - val_energy_error: -20.6215\n",
      "Epoch 153/500\n",
      "3901/3901 [==============================] - 0s 17us/step - loss: 9.1256 - energy_error: -14.5174 - val_loss: 8.4174 - val_energy_error: -20.6180\n",
      "Epoch 154/500\n",
      "3901/3901 [==============================] - 0s 22us/step - loss: 9.1192 - energy_error: -14.4910 - val_loss: 8.4143 - val_energy_error: -20.6151\n",
      "Epoch 155/500\n",
      "3901/3901 [==============================] - 0s 22us/step - loss: 9.1128 - energy_error: -14.4650 - val_loss: 8.4112 - val_energy_error: -20.6127\n",
      "Epoch 156/500\n",
      "3901/3901 [==============================] - 0s 24us/step - loss: 9.1065 - energy_error: -14.4394 - val_loss: 8.4082 - val_energy_error: -20.6103\n",
      "Epoch 157/500\n",
      "3901/3901 [==============================] - 0s 25us/step - loss: 9.1001 - energy_error: -14.4140 - val_loss: 8.4052 - val_energy_error: -20.6079\n",
      "Epoch 158/500\n",
      "3901/3901 [==============================] - 0s 25us/step - loss: 9.0938 - energy_error: -14.3890 - val_loss: 8.4022 - val_energy_error: -20.6054\n",
      "Epoch 159/500\n",
      "3901/3901 [==============================] - 0s 22us/step - loss: 9.0875 - energy_error: -14.3642 - val_loss: 8.3992 - val_energy_error: -20.6026\n",
      "Epoch 160/500\n",
      "3901/3901 [==============================] - 0s 24us/step - loss: 9.0813 - energy_error: -14.3396 - val_loss: 8.3963 - val_energy_error: -20.5996\n",
      "Epoch 161/500\n",
      "3901/3901 [==============================] - 0s 23us/step - loss: 9.0750 - energy_error: -14.3151 - val_loss: 8.3933 - val_energy_error: -20.5965\n",
      "Epoch 162/500\n",
      "3901/3901 [==============================] - 0s 25us/step - loss: 9.0688 - energy_error: -14.2908 - val_loss: 8.3904 - val_energy_error: -20.5930\n",
      "Epoch 163/500\n",
      "3901/3901 [==============================] - 0s 24us/step - loss: 9.0626 - energy_error: -14.2666 - val_loss: 8.3875 - val_energy_error: -20.5893\n",
      "Epoch 164/500\n",
      "3901/3901 [==============================] - 0s 23us/step - loss: 9.0565 - energy_error: -14.2424 - val_loss: 8.3846 - val_energy_error: -20.5854\n",
      "Epoch 165/500\n",
      "3901/3901 [==============================] - 0s 22us/step - loss: 9.0503 - energy_error: -14.2183 - val_loss: 8.3817 - val_energy_error: -20.5815\n",
      "Epoch 166/500\n",
      "3901/3901 [==============================] - 0s 22us/step - loss: 9.0442 - energy_error: -14.1944 - val_loss: 8.3789 - val_energy_error: -20.5776\n",
      "Epoch 167/500\n",
      "3901/3901 [==============================] - 0s 20us/step - loss: 9.0381 - energy_error: -14.1705 - val_loss: 8.3760 - val_energy_error: -20.5737\n",
      "Epoch 168/500\n",
      "3901/3901 [==============================] - 0s 22us/step - loss: 9.0320 - energy_error: -14.1467 - val_loss: 8.3732 - val_energy_error: -20.5700\n",
      "Epoch 169/500\n",
      "3901/3901 [==============================] - 0s 18us/step - loss: 9.0260 - energy_error: -14.1231 - val_loss: 8.3704 - val_energy_error: -20.5666\n",
      "Epoch 170/500\n",
      "3901/3901 [==============================] - 0s 22us/step - loss: 9.0199 - energy_error: -14.0997 - val_loss: 8.3676 - val_energy_error: -20.5634\n",
      "Epoch 171/500\n",
      "3901/3901 [==============================] - 0s 26us/step - loss: 9.0139 - energy_error: -14.0765 - val_loss: 8.3648 - val_energy_error: -20.5606\n",
      "Epoch 172/500\n",
      "3901/3901 [==============================] - 0s 24us/step - loss: 9.0079 - energy_error: -14.0534 - val_loss: 8.3621 - val_energy_error: -20.5580\n",
      "Epoch 173/500\n",
      "3901/3901 [==============================] - 0s 24us/step - loss: 9.0020 - energy_error: -14.0307 - val_loss: 8.3593 - val_energy_error: -20.5557\n",
      "Epoch 174/500\n",
      "3901/3901 [==============================] - 0s 22us/step - loss: 8.9960 - energy_error: -14.0081 - val_loss: 8.3566 - val_energy_error: -20.5535\n",
      "Epoch 175/500\n",
      "3901/3901 [==============================] - 0s 22us/step - loss: 8.9901 - energy_error: -13.9858 - val_loss: 8.3538 - val_energy_error: -20.5514\n",
      "Epoch 176/500\n",
      "3901/3901 [==============================] - 0s 25us/step - loss: 8.9842 - energy_error: -13.9637 - val_loss: 8.3511 - val_energy_error: -20.5492\n",
      "Epoch 177/500\n",
      "3901/3901 [==============================] - 0s 24us/step - loss: 8.9783 - energy_error: -13.9417 - val_loss: 8.3484 - val_energy_error: -20.5470\n",
      "Epoch 178/500\n",
      "3901/3901 [==============================] - 0s 24us/step - loss: 8.9724 - energy_error: -13.9199 - val_loss: 8.3457 - val_energy_error: -20.5446\n",
      "Epoch 179/500\n",
      "3901/3901 [==============================] - 0s 23us/step - loss: 8.9666 - energy_error: -13.8982 - val_loss: 8.3430 - val_energy_error: -20.5421\n",
      "Epoch 180/500\n",
      "3901/3901 [==============================] - 0s 24us/step - loss: 8.9608 - energy_error: -13.8765 - val_loss: 8.3403 - val_energy_error: -20.5393\n",
      "Epoch 181/500\n",
      "3901/3901 [==============================] - 0s 23us/step - loss: 8.9550 - energy_error: -13.8550 - val_loss: 8.3376 - val_energy_error: -20.5361\n",
      "Epoch 182/500\n",
      "3901/3901 [==============================] - 0s 22us/step - loss: 8.9492 - energy_error: -13.8335 - val_loss: 8.3350 - val_energy_error: -20.5325\n",
      "Epoch 183/500\n",
      "3901/3901 [==============================] - 0s 22us/step - loss: 8.9435 - energy_error: -13.8120 - val_loss: 8.3323 - val_energy_error: -20.5285\n",
      "Epoch 184/500\n",
      "3901/3901 [==============================] - 0s 20us/step - loss: 8.9377 - energy_error: -13.7905 - val_loss: 8.3297 - val_energy_error: -20.5244\n",
      "Epoch 185/500\n",
      "3901/3901 [==============================] - 0s 22us/step - loss: 8.9320 - energy_error: -13.7690 - val_loss: 8.3270 - val_energy_error: -20.5200\n",
      "Epoch 186/500\n",
      "3901/3901 [==============================] - 0s 20us/step - loss: 8.9264 - energy_error: -13.7476 - val_loss: 8.3244 - val_energy_error: -20.5154\n",
      "Epoch 187/500\n",
      "3901/3901 [==============================] - 0s 23us/step - loss: 8.9207 - energy_error: -13.7262 - val_loss: 8.3218 - val_energy_error: -20.5108\n",
      "Epoch 188/500\n",
      "3901/3901 [==============================] - 0s 22us/step - loss: 8.9151 - energy_error: -13.7050 - val_loss: 8.3192 - val_energy_error: -20.5061\n",
      "Epoch 189/500\n",
      "3901/3901 [==============================] - 0s 29us/step - loss: 8.9094 - energy_error: -13.6838 - val_loss: 8.3166 - val_energy_error: -20.5012\n",
      "Epoch 190/500\n",
      "3901/3901 [==============================] - 0s 25us/step - loss: 8.9038 - energy_error: -13.6627 - val_loss: 8.3140 - val_energy_error: -20.4964\n",
      "Epoch 191/500\n",
      "3901/3901 [==============================] - 0s 24us/step - loss: 8.8983 - energy_error: -13.6416 - val_loss: 8.3114 - val_energy_error: -20.4917\n",
      "Epoch 192/500\n",
      "3901/3901 [==============================] - 0s 24us/step - loss: 8.8927 - energy_error: -13.6206 - val_loss: 8.3089 - val_energy_error: -20.4872\n",
      "Epoch 193/500\n",
      "3901/3901 [==============================] - 0s 20us/step - loss: 8.8872 - energy_error: -13.5997 - val_loss: 8.3063 - val_energy_error: -20.4831\n",
      "Epoch 194/500\n",
      "3901/3901 [==============================] - 0s 22us/step - loss: 8.8816 - energy_error: -13.5789 - val_loss: 8.3038 - val_energy_error: -20.4794\n",
      "Epoch 195/500\n",
      "3901/3901 [==============================] - 0s 21us/step - loss: 8.8761 - energy_error: -13.5582 - val_loss: 8.3013 - val_energy_error: -20.4762\n",
      "Epoch 196/500\n",
      "3901/3901 [==============================] - 0s 21us/step - loss: 8.8706 - energy_error: -13.5375 - val_loss: 8.2988 - val_energy_error: -20.4734\n",
      "Epoch 197/500\n",
      "3901/3901 [==============================] - 0s 24us/step - loss: 8.8652 - energy_error: -13.5170 - val_loss: 8.2963 - val_energy_error: -20.4710\n",
      "Epoch 198/500\n",
      "3901/3901 [==============================] - 0s 20us/step - loss: 8.8597 - energy_error: -13.4966 - val_loss: 8.2938 - val_energy_error: -20.4688\n",
      "Epoch 199/500\n",
      "3901/3901 [==============================] - 0s 21us/step - loss: 8.8543 - energy_error: -13.4764 - val_loss: 8.2914 - val_energy_error: -20.4668\n",
      "Epoch 200/500\n",
      "3901/3901 [==============================] - 0s 22us/step - loss: 8.8489 - energy_error: -13.4563 - val_loss: 8.2889 - val_energy_error: -20.4647\n",
      "Epoch 201/500\n",
      "3901/3901 [==============================] - 0s 21us/step - loss: 8.8435 - energy_error: -13.4364 - val_loss: 8.2865 - val_energy_error: -20.4625\n",
      "Epoch 202/500\n",
      "3901/3901 [==============================] - 0s 24us/step - loss: 8.8381 - energy_error: -13.4165 - val_loss: 8.2841 - val_energy_error: -20.4601\n",
      "Epoch 203/500\n",
      "3901/3901 [==============================] - 0s 25us/step - loss: 8.8327 - energy_error: -13.3968 - val_loss: 8.2817 - val_energy_error: -20.4577\n",
      "Epoch 204/500\n",
      "3901/3901 [==============================] - 0s 20us/step - loss: 8.8274 - energy_error: -13.3772 - val_loss: 8.2793 - val_energy_error: -20.4551\n",
      "Epoch 205/500\n",
      "3901/3901 [==============================] - 0s 22us/step - loss: 8.8221 - energy_error: -13.3577 - val_loss: 8.2769 - val_energy_error: -20.4524\n",
      "Epoch 206/500\n",
      "3901/3901 [==============================] - 0s 21us/step - loss: 8.8168 - energy_error: -13.3384 - val_loss: 8.2745 - val_energy_error: -20.4497\n",
      "Epoch 207/500\n",
      "3901/3901 [==============================] - 0s 20us/step - loss: 8.8115 - energy_error: -13.3191 - val_loss: 8.2722 - val_energy_error: -20.4472\n",
      "Epoch 208/500\n",
      "3901/3901 [==============================] - 0s 19us/step - loss: 8.8062 - energy_error: -13.3001 - val_loss: 8.2698 - val_energy_error: -20.4449\n",
      "Epoch 209/500\n",
      "3901/3901 [==============================] - 0s 20us/step - loss: 8.8009 - energy_error: -13.2811 - val_loss: 8.2675 - val_energy_error: -20.4429\n",
      "Epoch 210/500\n",
      "3901/3901 [==============================] - 0s 21us/step - loss: 8.7956 - energy_error: -13.2621 - val_loss: 8.2651 - val_energy_error: -20.4411\n",
      "Epoch 211/500\n",
      "3901/3901 [==============================] - 0s 19us/step - loss: 8.7904 - energy_error: -13.2432 - val_loss: 8.2628 - val_energy_error: -20.4396\n",
      "Epoch 212/500\n",
      "3901/3901 [==============================] - 0s 21us/step - loss: 8.7852 - energy_error: -13.2246 - val_loss: 8.2605 - val_energy_error: -20.4378\n",
      "Epoch 213/500\n",
      "3901/3901 [==============================] - 0s 20us/step - loss: 8.7799 - energy_error: -13.2059 - val_loss: 8.2582 - val_energy_error: -20.4361\n",
      "Epoch 214/500\n",
      "3901/3901 [==============================] - 0s 18us/step - loss: 8.7747 - energy_error: -13.1875 - val_loss: 8.2559 - val_energy_error: -20.4341\n",
      "Epoch 215/500\n",
      "3901/3901 [==============================] - 0s 18us/step - loss: 8.7695 - energy_error: -13.1690 - val_loss: 8.2536 - val_energy_error: -20.4319\n",
      "Epoch 216/500\n",
      "3901/3901 [==============================] - 0s 16us/step - loss: 8.7644 - energy_error: -13.1507 - val_loss: 8.2513 - val_energy_error: -20.4295\n",
      "Epoch 217/500\n",
      "3901/3901 [==============================] - 0s 21us/step - loss: 8.7592 - energy_error: -13.1323 - val_loss: 8.2491 - val_energy_error: -20.4268\n",
      "Epoch 218/500\n",
      "3901/3901 [==============================] - 0s 24us/step - loss: 8.7540 - energy_error: -13.1142 - val_loss: 8.2468 - val_energy_error: -20.4238\n",
      "Epoch 219/500\n",
      "3901/3901 [==============================] - 0s 23us/step - loss: 8.7489 - energy_error: -13.0960 - val_loss: 8.2446 - val_energy_error: -20.4208\n",
      "Epoch 220/500\n",
      "3901/3901 [==============================] - 0s 20us/step - loss: 8.7438 - energy_error: -13.0780 - val_loss: 8.2424 - val_energy_error: -20.4176\n",
      "Epoch 221/500\n",
      "3901/3901 [==============================] - 0s 21us/step - loss: 8.7387 - energy_error: -13.0599 - val_loss: 8.2402 - val_energy_error: -20.4145\n",
      "Epoch 222/500\n",
      "3901/3901 [==============================] - 0s 21us/step - loss: 8.7336 - energy_error: -13.0420 - val_loss: 8.2380 - val_energy_error: -20.4114\n",
      "Epoch 223/500\n",
      "3901/3901 [==============================] - 0s 21us/step - loss: 8.7285 - energy_error: -13.0242 - val_loss: 8.2358 - val_energy_error: -20.4083\n",
      "Epoch 224/500\n",
      "3901/3901 [==============================] - 0s 24us/step - loss: 8.7234 - energy_error: -13.0064 - val_loss: 8.2336 - val_energy_error: -20.4052\n",
      "Epoch 225/500\n",
      "3901/3901 [==============================] - 0s 19us/step - loss: 8.7184 - energy_error: -12.9887 - val_loss: 8.2315 - val_energy_error: -20.4023\n",
      "Epoch 226/500\n",
      "3901/3901 [==============================] - 0s 23us/step - loss: 8.7134 - energy_error: -12.9714 - val_loss: 8.2293 - val_energy_error: -20.3982\n",
      "Epoch 227/500\n",
      "3901/3901 [==============================] - 0s 23us/step - loss: 8.7083 - energy_error: -12.9535 - val_loss: 8.2272 - val_energy_error: -20.3954\n",
      "Epoch 228/500\n",
      "3901/3901 [==============================] - 0s 21us/step - loss: 8.7033 - energy_error: -12.9363 - val_loss: 8.2250 - val_energy_error: -20.3914\n",
      "Epoch 229/500\n",
      "3901/3901 [==============================] - 0s 24us/step - loss: 8.6983 - energy_error: -12.9187 - val_loss: 8.2229 - val_energy_error: -20.3884\n",
      "Epoch 230/500\n",
      "3901/3901 [==============================] - 0s 21us/step - loss: 8.6933 - energy_error: -12.9015 - val_loss: 8.2208 - val_energy_error: -20.3848\n",
      "Epoch 231/500\n",
      "3901/3901 [==============================] - 0s 19us/step - loss: 8.6884 - energy_error: -12.8840 - val_loss: 8.2187 - val_energy_error: -20.3827\n",
      "Epoch 232/500\n",
      "3901/3901 [==============================] - 0s 18us/step - loss: 8.6834 - energy_error: -12.8673 - val_loss: 8.2166 - val_energy_error: -20.3793\n",
      "Epoch 233/500\n",
      "3901/3901 [==============================] - 0s 19us/step - loss: 8.6785 - energy_error: -12.8503 - val_loss: 8.2145 - val_energy_error: -20.3766\n",
      "Epoch 234/500\n",
      "3901/3901 [==============================] - 0s 18us/step - loss: 8.6735 - energy_error: -12.8335 - val_loss: 8.2124 - val_energy_error: -20.3740\n",
      "Epoch 235/500\n",
      "3901/3901 [==============================] - 0s 18us/step - loss: 8.6686 - energy_error: -12.8168 - val_loss: 8.2103 - val_energy_error: -20.3717\n",
      "Epoch 236/500\n",
      "3901/3901 [==============================] - 0s 19us/step - loss: 8.6637 - energy_error: -12.8003 - val_loss: 8.2082 - val_energy_error: -20.3691\n",
      "Epoch 237/500\n",
      "3901/3901 [==============================] - 0s 20us/step - loss: 8.6588 - energy_error: -12.7837 - val_loss: 8.2061 - val_energy_error: -20.3675\n",
      "Epoch 238/500\n",
      "3901/3901 [==============================] - 0s 19us/step - loss: 8.6539 - energy_error: -12.7677 - val_loss: 8.2040 - val_energy_error: -20.3646\n",
      "Epoch 239/500\n",
      "3901/3901 [==============================] - 0s 23us/step - loss: 8.6490 - energy_error: -12.7513 - val_loss: 8.2019 - val_energy_error: -20.3621\n",
      "Epoch 240/500\n",
      "3901/3901 [==============================] - 0s 17us/step - loss: 8.6442 - energy_error: -12.7353 - val_loss: 8.1998 - val_energy_error: -20.3591\n",
      "Epoch 241/500\n",
      "3901/3901 [==============================] - 0s 22us/step - loss: 8.6393 - energy_error: -12.7192 - val_loss: 8.1977 - val_energy_error: -20.3564\n",
      "Epoch 242/500\n",
      "3901/3901 [==============================] - 0s 24us/step - loss: 8.6345 - energy_error: -12.7034 - val_loss: 8.1956 - val_energy_error: -20.3533\n",
      "Epoch 243/500\n",
      "3901/3901 [==============================] - 0s 23us/step - loss: 8.6297 - energy_error: -12.6874 - val_loss: 8.1935 - val_energy_error: -20.3508\n",
      "Epoch 244/500\n",
      "3901/3901 [==============================] - 0s 21us/step - loss: 8.6248 - energy_error: -12.6718 - val_loss: 8.1914 - val_energy_error: -20.3479\n",
      "Epoch 245/500\n",
      "3901/3901 [==============================] - 0s 25us/step - loss: 8.6200 - energy_error: -12.6559 - val_loss: 8.1893 - val_energy_error: -20.3457\n",
      "Epoch 246/500\n",
      "3901/3901 [==============================] - 0s 23us/step - loss: 8.6152 - energy_error: -12.6404 - val_loss: 8.1872 - val_energy_error: -20.3433\n",
      "Epoch 247/500\n",
      "3901/3901 [==============================] - 0s 23us/step - loss: 8.6105 - energy_error: -12.6248 - val_loss: 8.1851 - val_energy_error: -20.3416\n",
      "Epoch 248/500\n",
      "3901/3901 [==============================] - 0s 23us/step - loss: 8.6057 - energy_error: -12.6093 - val_loss: 8.1830 - val_energy_error: -20.3401\n",
      "Epoch 249/500\n",
      "3901/3901 [==============================] - 0s 23us/step - loss: 8.6009 - energy_error: -12.5939 - val_loss: 8.1810 - val_energy_error: -20.3390\n",
      "Epoch 250/500\n",
      "3901/3901 [==============================] - 0s 23us/step - loss: 8.5962 - energy_error: -12.5786 - val_loss: 8.1790 - val_energy_error: -20.3382\n",
      "Epoch 251/500\n",
      "3901/3901 [==============================] - 0s 23us/step - loss: 8.5914 - energy_error: -12.5634 - val_loss: 8.1769 - val_energy_error: -20.3375\n",
      "Epoch 252/500\n",
      "3901/3901 [==============================] - 0s 22us/step - loss: 8.5867 - energy_error: -12.5481 - val_loss: 8.1749 - val_energy_error: -20.3370\n",
      "Epoch 253/500\n",
      "3901/3901 [==============================] - 0s 21us/step - loss: 8.5820 - energy_error: -12.5331 - val_loss: 8.1729 - val_energy_error: -20.3363\n",
      "Epoch 254/500\n",
      "3901/3901 [==============================] - 0s 23us/step - loss: 8.5773 - energy_error: -12.5180 - val_loss: 8.1709 - val_energy_error: -20.3354\n",
      "Epoch 255/500\n",
      "3901/3901 [==============================] - 0s 24us/step - loss: 8.5726 - energy_error: -12.5029 - val_loss: 8.1689 - val_energy_error: -20.3343\n",
      "Epoch 256/500\n",
      "3901/3901 [==============================] - 0s 25us/step - loss: 8.5679 - energy_error: -12.4877 - val_loss: 8.1670 - val_energy_error: -20.3331\n",
      "Epoch 257/500\n",
      "3901/3901 [==============================] - 0s 23us/step - loss: 8.5632 - energy_error: -12.4727 - val_loss: 8.1650 - val_energy_error: -20.3315\n",
      "Epoch 258/500\n",
      "3901/3901 [==============================] - 0s 20us/step - loss: 8.5586 - energy_error: -12.4575 - val_loss: 8.1630 - val_energy_error: -20.3297\n",
      "Epoch 259/500\n",
      "3901/3901 [==============================] - 0s 24us/step - loss: 8.5539 - energy_error: -12.4425 - val_loss: 8.1611 - val_energy_error: -20.3276\n",
      "Epoch 260/500\n",
      "3901/3901 [==============================] - 0s 21us/step - loss: 8.5493 - energy_error: -12.4275 - val_loss: 8.1591 - val_energy_error: -20.3254\n",
      "Epoch 261/500\n",
      "3901/3901 [==============================] - 0s 19us/step - loss: 8.5447 - energy_error: -12.4127 - val_loss: 8.1572 - val_energy_error: -20.3229\n",
      "Epoch 262/500\n",
      "3901/3901 [==============================] - 0s 23us/step - loss: 8.5401 - energy_error: -12.3977 - val_loss: 8.1553 - val_energy_error: -20.3203\n",
      "Epoch 263/500\n",
      "3901/3901 [==============================] - 0s 22us/step - loss: 8.5355 - energy_error: -12.3829 - val_loss: 8.1533 - val_energy_error: -20.3176\n",
      "Epoch 264/500\n",
      "3901/3901 [==============================] - 0s 21us/step - loss: 8.5309 - energy_error: -12.3680 - val_loss: 8.1514 - val_energy_error: -20.3150\n",
      "Epoch 265/500\n",
      "3901/3901 [==============================] - 0s 21us/step - loss: 8.5263 - energy_error: -12.3533 - val_loss: 8.1495 - val_energy_error: -20.3123\n",
      "Epoch 266/500\n",
      "3901/3901 [==============================] - 0s 18us/step - loss: 8.5217 - energy_error: -12.3386 - val_loss: 8.1476 - val_energy_error: -20.3095\n",
      "Epoch 267/500\n",
      "3901/3901 [==============================] - 0s 22us/step - loss: 8.5172 - energy_error: -12.3239 - val_loss: 8.1457 - val_energy_error: -20.3065\n",
      "Epoch 268/500\n",
      "3901/3901 [==============================] - 0s 24us/step - loss: 8.5126 - energy_error: -12.3092 - val_loss: 8.1438 - val_energy_error: -20.3034\n",
      "Epoch 269/500\n",
      "3901/3901 [==============================] - 0s 21us/step - loss: 8.5081 - energy_error: -12.2947 - val_loss: 8.1419 - val_energy_error: -20.3001\n",
      "Epoch 270/500\n",
      "3901/3901 [==============================] - 0s 23us/step - loss: 8.5036 - energy_error: -12.2801 - val_loss: 8.1400 - val_energy_error: -20.2968\n",
      "Epoch 271/500\n",
      "3901/3901 [==============================] - 0s 24us/step - loss: 8.4991 - energy_error: -12.2657 - val_loss: 8.1382 - val_energy_error: -20.2932\n",
      "Epoch 272/500\n",
      "3901/3901 [==============================] - 0s 24us/step - loss: 8.4946 - energy_error: -12.2511 - val_loss: 8.1363 - val_energy_error: -20.2899\n",
      "Epoch 273/500\n",
      "3901/3901 [==============================] - 0s 26us/step - loss: 8.4901 - energy_error: -12.2367 - val_loss: 8.1345 - val_energy_error: -20.2864\n",
      "Epoch 274/500\n",
      "3901/3901 [==============================] - 0s 23us/step - loss: 8.4856 - energy_error: -12.2224 - val_loss: 8.1326 - val_energy_error: -20.2831\n",
      "Epoch 275/500\n",
      "3901/3901 [==============================] - 0s 25us/step - loss: 8.4811 - energy_error: -12.2081 - val_loss: 8.1308 - val_energy_error: -20.2797\n",
      "Epoch 276/500\n",
      "3901/3901 [==============================] - 0s 22us/step - loss: 8.4766 - energy_error: -12.1939 - val_loss: 8.1289 - val_energy_error: -20.2766\n",
      "Epoch 277/500\n",
      "3901/3901 [==============================] - 0s 21us/step - loss: 8.4722 - energy_error: -12.1798 - val_loss: 8.1271 - val_energy_error: -20.2734\n",
      "Epoch 278/500\n",
      "3901/3901 [==============================] - 0s 23us/step - loss: 8.4677 - energy_error: -12.1658 - val_loss: 8.1252 - val_energy_error: -20.2703\n",
      "Epoch 279/500\n",
      "3901/3901 [==============================] - 0s 21us/step - loss: 8.4633 - energy_error: -12.1518 - val_loss: 8.1234 - val_energy_error: -20.2670\n",
      "Epoch 280/500\n",
      "3901/3901 [==============================] - 0s 24us/step - loss: 8.4588 - energy_error: -12.1378 - val_loss: 8.1216 - val_energy_error: -20.2641\n",
      "Epoch 281/500\n",
      "3901/3901 [==============================] - 0s 23us/step - loss: 8.4544 - energy_error: -12.1239 - val_loss: 8.1198 - val_energy_error: -20.2610\n",
      "Epoch 282/500\n",
      "3901/3901 [==============================] - 0s 22us/step - loss: 8.4500 - energy_error: -12.1100 - val_loss: 8.1179 - val_energy_error: -20.2581\n",
      "Epoch 283/500\n",
      "3901/3901 [==============================] - 0s 26us/step - loss: 8.4456 - energy_error: -12.0962 - val_loss: 8.1161 - val_energy_error: -20.2553\n",
      "Epoch 284/500\n",
      "3901/3901 [==============================] - 0s 24us/step - loss: 8.4412 - energy_error: -12.0823 - val_loss: 8.1143 - val_energy_error: -20.2529\n",
      "Epoch 285/500\n",
      "3901/3901 [==============================] - 0s 24us/step - loss: 8.4368 - energy_error: -12.0685 - val_loss: 8.1125 - val_energy_error: -20.2505\n",
      "Epoch 286/500\n",
      "3901/3901 [==============================] - 0s 24us/step - loss: 8.4324 - energy_error: -12.0548 - val_loss: 8.1108 - val_energy_error: -20.2487\n",
      "Epoch 287/500\n",
      "3901/3901 [==============================] - 0s 24us/step - loss: 8.4281 - energy_error: -12.0411 - val_loss: 8.1090 - val_energy_error: -20.2471\n",
      "Epoch 288/500\n",
      "3901/3901 [==============================] - 0s 25us/step - loss: 8.4237 - energy_error: -12.0275 - val_loss: 8.1072 - val_energy_error: -20.2461\n",
      "Epoch 289/500\n",
      "3901/3901 [==============================] - 0s 21us/step - loss: 8.4193 - energy_error: -12.0139 - val_loss: 8.1054 - val_energy_error: -20.2454\n",
      "Epoch 290/500\n",
      "3901/3901 [==============================] - 0s 20us/step - loss: 8.4150 - energy_error: -12.0004 - val_loss: 8.1037 - val_energy_error: -20.2451\n",
      "Epoch 291/500\n",
      "3901/3901 [==============================] - 0s 23us/step - loss: 8.4107 - energy_error: -11.9869 - val_loss: 8.1019 - val_energy_error: -20.2452\n",
      "Epoch 292/500\n",
      "3901/3901 [==============================] - 0s 24us/step - loss: 8.4064 - energy_error: -11.9736 - val_loss: 8.1002 - val_energy_error: -20.2458\n",
      "Epoch 293/500\n",
      "3901/3901 [==============================] - 0s 19us/step - loss: 8.4020 - energy_error: -11.9602 - val_loss: 8.0984 - val_energy_error: -20.2465\n",
      "Epoch 294/500\n",
      "3901/3901 [==============================] - 0s 17us/step - loss: 8.3977 - energy_error: -11.9470 - val_loss: 8.0967 - val_energy_error: -20.2476\n",
      "Epoch 295/500\n",
      "3901/3901 [==============================] - 0s 19us/step - loss: 8.3934 - energy_error: -11.9338 - val_loss: 8.0950 - val_energy_error: -20.2487\n",
      "Epoch 296/500\n",
      "3901/3901 [==============================] - 0s 20us/step - loss: 8.3892 - energy_error: -11.9207 - val_loss: 8.0932 - val_energy_error: -20.2501\n",
      "Epoch 297/500\n",
      "3901/3901 [==============================] - 0s 20us/step - loss: 8.3849 - energy_error: -11.9076 - val_loss: 8.0915 - val_energy_error: -20.2516\n",
      "Epoch 298/500\n",
      "3901/3901 [==============================] - 0s 24us/step - loss: 8.3806 - energy_error: -11.8947 - val_loss: 8.0898 - val_energy_error: -20.2535\n",
      "Epoch 299/500\n",
      "3901/3901 [==============================] - 0s 23us/step - loss: 8.3763 - energy_error: -11.8817 - val_loss: 8.0881 - val_energy_error: -20.2555\n",
      "Epoch 300/500\n",
      "3901/3901 [==============================] - 0s 23us/step - loss: 8.3721 - energy_error: -11.8689 - val_loss: 8.0864 - val_energy_error: -20.2577\n",
      "Epoch 301/500\n",
      "3901/3901 [==============================] - 0s 19us/step - loss: 8.3678 - energy_error: -11.8561 - val_loss: 8.0847 - val_energy_error: -20.2598\n",
      "Epoch 302/500\n",
      "3901/3901 [==============================] - 0s 23us/step - loss: 8.3636 - energy_error: -11.8435 - val_loss: 8.0830 - val_energy_error: -20.2619\n",
      "Epoch 303/500\n",
      "3901/3901 [==============================] - 0s 26us/step - loss: 8.3594 - energy_error: -11.8307 - val_loss: 8.0813 - val_energy_error: -20.2641\n",
      "Epoch 304/500\n",
      "3901/3901 [==============================] - 0s 25us/step - loss: 8.3551 - energy_error: -11.8182 - val_loss: 8.0796 - val_energy_error: -20.2662\n",
      "Epoch 305/500\n",
      "3901/3901 [==============================] - 0s 24us/step - loss: 8.3509 - energy_error: -11.8055 - val_loss: 8.0779 - val_energy_error: -20.2688\n",
      "Epoch 306/500\n",
      "3901/3901 [==============================] - 0s 24us/step - loss: 8.3467 - energy_error: -11.7932 - val_loss: 8.0762 - val_energy_error: -20.2711\n",
      "Epoch 307/500\n",
      "3901/3901 [==============================] - 0s 22us/step - loss: 8.3425 - energy_error: -11.7806 - val_loss: 8.0745 - val_energy_error: -20.2742\n",
      "Epoch 308/500\n",
      "3901/3901 [==============================] - 0s 21us/step - loss: 8.3383 - energy_error: -11.7685 - val_loss: 8.0728 - val_energy_error: -20.2771\n",
      "Epoch 309/500\n",
      "3901/3901 [==============================] - 0s 20us/step - loss: 8.3341 - energy_error: -11.7561 - val_loss: 8.0711 - val_energy_error: -20.2805\n",
      "Epoch 310/500\n",
      "3901/3901 [==============================] - 0s 25us/step - loss: 8.3300 - energy_error: -11.7441 - val_loss: 8.0694 - val_energy_error: -20.2839\n",
      "Epoch 311/500\n",
      "3901/3901 [==============================] - 0s 20us/step - loss: 8.3258 - energy_error: -11.7319 - val_loss: 8.0678 - val_energy_error: -20.2877\n",
      "Epoch 312/500\n",
      "3901/3901 [==============================] - 0s 24us/step - loss: 8.3216 - energy_error: -11.7199 - val_loss: 8.0661 - val_energy_error: -20.2916\n",
      "Epoch 313/500\n",
      "3901/3901 [==============================] - 0s 21us/step - loss: 8.3175 - energy_error: -11.7079 - val_loss: 8.0644 - val_energy_error: -20.2957\n",
      "Epoch 314/500\n",
      "3901/3901 [==============================] - 0s 23us/step - loss: 8.3134 - energy_error: -11.6960 - val_loss: 8.0628 - val_energy_error: -20.2998\n",
      "Epoch 315/500\n",
      "3901/3901 [==============================] - 0s 25us/step - loss: 8.3092 - energy_error: -11.6840 - val_loss: 8.0611 - val_energy_error: -20.3042\n",
      "Epoch 316/500\n",
      "3901/3901 [==============================] - 0s 24us/step - loss: 8.3051 - energy_error: -11.6723 - val_loss: 8.0595 - val_energy_error: -20.3085\n",
      "Epoch 317/500\n",
      "3901/3901 [==============================] - 0s 19us/step - loss: 8.3010 - energy_error: -11.6604 - val_loss: 8.0578 - val_energy_error: -20.3132\n",
      "Epoch 318/500\n",
      "3901/3901 [==============================] - 0s 25us/step - loss: 8.2969 - energy_error: -11.6487 - val_loss: 8.0562 - val_energy_error: -20.3175\n",
      "Epoch 319/500\n",
      "3901/3901 [==============================] - 0s 23us/step - loss: 8.2928 - energy_error: -11.6369 - val_loss: 8.0545 - val_energy_error: -20.3222\n",
      "Epoch 320/500\n",
      "3901/3901 [==============================] - 0s 22us/step - loss: 8.2887 - energy_error: -11.6253 - val_loss: 8.0529 - val_energy_error: -20.3265\n",
      "Epoch 321/500\n",
      "3901/3901 [==============================] - 0s 23us/step - loss: 8.2846 - energy_error: -11.6137 - val_loss: 8.0513 - val_energy_error: -20.3313\n",
      "Epoch 322/500\n",
      "3901/3901 [==============================] - 0s 21us/step - loss: 8.2805 - energy_error: -11.6022 - val_loss: 8.0497 - val_energy_error: -20.3355\n",
      "Epoch 323/500\n",
      "3901/3901 [==============================] - 0s 23us/step - loss: 8.2765 - energy_error: -11.5906 - val_loss: 8.0481 - val_energy_error: -20.3401\n",
      "Epoch 324/500\n",
      "3901/3901 [==============================] - 0s 20us/step - loss: 8.2724 - energy_error: -11.5792 - val_loss: 8.0465 - val_energy_error: -20.3442\n",
      "Epoch 325/500\n",
      "3901/3901 [==============================] - 0s 21us/step - loss: 8.2683 - energy_error: -11.5676 - val_loss: 8.0449 - val_energy_error: -20.3489\n",
      "Epoch 326/500\n",
      "3901/3901 [==============================] - 0s 23us/step - loss: 8.2643 - energy_error: -11.5562 - val_loss: 8.0433 - val_energy_error: -20.3533\n",
      "Epoch 327/500\n",
      "3901/3901 [==============================] - 0s 20us/step - loss: 8.2602 - energy_error: -11.5448 - val_loss: 8.0417 - val_energy_error: -20.3583\n",
      "Epoch 328/500\n",
      "3901/3901 [==============================] - 0s 19us/step - loss: 8.2562 - energy_error: -11.5334 - val_loss: 8.0401 - val_energy_error: -20.3630\n",
      "Epoch 329/500\n",
      "3901/3901 [==============================] - 0s 20us/step - loss: 8.2522 - energy_error: -11.5220 - val_loss: 8.0385 - val_energy_error: -20.3680\n",
      "Epoch 330/500\n",
      "3901/3901 [==============================] - 0s 19us/step - loss: 8.2481 - energy_error: -11.5107 - val_loss: 8.0369 - val_energy_error: -20.3725\n",
      "Epoch 331/500\n",
      "3901/3901 [==============================] - 0s 25us/step - loss: 8.2441 - energy_error: -11.4994 - val_loss: 8.0354 - val_energy_error: -20.3774\n",
      "Epoch 332/500\n",
      "3901/3901 [==============================] - 0s 22us/step - loss: 8.2401 - energy_error: -11.4882 - val_loss: 8.0338 - val_energy_error: -20.3818\n",
      "Epoch 333/500\n",
      "3901/3901 [==============================] - 0s 22us/step - loss: 8.2361 - energy_error: -11.4769 - val_loss: 8.0323 - val_energy_error: -20.3864\n",
      "Epoch 334/500\n",
      "3901/3901 [==============================] - 0s 19us/step - loss: 8.2321 - energy_error: -11.4658 - val_loss: 8.0307 - val_energy_error: -20.3905\n",
      "Epoch 335/500\n",
      "3901/3901 [==============================] - 0s 21us/step - loss: 8.2281 - energy_error: -11.4544 - val_loss: 8.0292 - val_energy_error: -20.3949\n",
      "Epoch 336/500\n",
      "3901/3901 [==============================] - 0s 23us/step - loss: 8.2242 - energy_error: -11.4435 - val_loss: 8.0276 - val_energy_error: -20.3984\n",
      "Epoch 337/500\n",
      "3901/3901 [==============================] - 0s 21us/step - loss: 8.2202 - energy_error: -11.4321 - val_loss: 8.0261 - val_energy_error: -20.4025\n",
      "Epoch 338/500\n",
      "3901/3901 [==============================] - 0s 22us/step - loss: 8.2162 - energy_error: -11.4212 - val_loss: 8.0245 - val_energy_error: -20.4058\n",
      "Epoch 339/500\n",
      "3901/3901 [==============================] - 0s 20us/step - loss: 8.2123 - energy_error: -11.4099 - val_loss: 8.0230 - val_energy_error: -20.4095\n",
      "Epoch 340/500\n",
      "3901/3901 [==============================] - 0s 22us/step - loss: 8.2083 - energy_error: -11.3992 - val_loss: 8.0215 - val_energy_error: -20.4124\n",
      "Epoch 341/500\n",
      "3901/3901 [==============================] - 0s 23us/step - loss: 8.2044 - energy_error: -11.3878 - val_loss: 8.0200 - val_energy_error: -20.4161\n",
      "Epoch 342/500\n",
      "3901/3901 [==============================] - 0s 20us/step - loss: 8.2004 - energy_error: -11.3771 - val_loss: 8.0185 - val_energy_error: -20.4192\n",
      "Epoch 343/500\n",
      "3901/3901 [==============================] - 0s 23us/step - loss: 8.1965 - energy_error: -11.3659 - val_loss: 8.0170 - val_energy_error: -20.4230\n",
      "Epoch 344/500\n",
      "3901/3901 [==============================] - 0s 23us/step - loss: 8.1926 - energy_error: -11.3552 - val_loss: 8.0155 - val_energy_error: -20.4262\n",
      "Epoch 345/500\n",
      "3901/3901 [==============================] - 0s 19us/step - loss: 8.1887 - energy_error: -11.3441 - val_loss: 8.0140 - val_energy_error: -20.4302\n",
      "Epoch 346/500\n",
      "3901/3901 [==============================] - 0s 20us/step - loss: 8.1847 - energy_error: -11.3335 - val_loss: 8.0126 - val_energy_error: -20.4334\n",
      "Epoch 347/500\n",
      "3901/3901 [==============================] - 0s 19us/step - loss: 8.1808 - energy_error: -11.3224 - val_loss: 8.0111 - val_energy_error: -20.4375\n",
      "Epoch 348/500\n",
      "3901/3901 [==============================] - 0s 24us/step - loss: 8.1769 - energy_error: -11.3119 - val_loss: 8.0097 - val_energy_error: -20.4408\n",
      "Epoch 349/500\n",
      "3901/3901 [==============================] - 0s 19us/step - loss: 8.1730 - energy_error: -11.3009 - val_loss: 8.0082 - val_energy_error: -20.4449\n",
      "Epoch 350/500\n",
      "3901/3901 [==============================] - 0s 22us/step - loss: 8.1692 - energy_error: -11.2905 - val_loss: 8.0068 - val_energy_error: -20.4482\n",
      "Epoch 351/500\n",
      "3901/3901 [==============================] - 0s 22us/step - loss: 8.1653 - energy_error: -11.2795 - val_loss: 8.0054 - val_energy_error: -20.4523\n",
      "Epoch 352/500\n",
      "3901/3901 [==============================] - 0s 20us/step - loss: 8.1614 - energy_error: -11.2690 - val_loss: 8.0040 - val_energy_error: -20.4558\n",
      "Epoch 353/500\n",
      "3901/3901 [==============================] - 0s 23us/step - loss: 8.1576 - energy_error: -11.2582 - val_loss: 8.0026 - val_energy_error: -20.4600\n",
      "Epoch 354/500\n",
      "3901/3901 [==============================] - 0s 21us/step - loss: 8.1537 - energy_error: -11.2478 - val_loss: 8.0012 - val_energy_error: -20.4635\n",
      "Epoch 355/500\n",
      "3901/3901 [==============================] - 0s 23us/step - loss: 8.1498 - energy_error: -11.2370 - val_loss: 7.9998 - val_energy_error: -20.4677\n",
      "Epoch 356/500\n",
      "3901/3901 [==============================] - 0s 21us/step - loss: 8.1460 - energy_error: -11.2265 - val_loss: 7.9984 - val_energy_error: -20.4714\n",
      "Epoch 357/500\n",
      "3901/3901 [==============================] - 0s 23us/step - loss: 8.1422 - energy_error: -11.2159 - val_loss: 7.9970 - val_energy_error: -20.4757\n",
      "Epoch 358/500\n",
      "3901/3901 [==============================] - 0s 19us/step - loss: 8.1383 - energy_error: -11.2055 - val_loss: 7.9956 - val_energy_error: -20.4795\n",
      "Epoch 359/500\n",
      "3901/3901 [==============================] - 0s 22us/step - loss: 8.1345 - energy_error: -11.1949 - val_loss: 7.9942 - val_energy_error: -20.4838\n",
      "Epoch 360/500\n",
      "3901/3901 [==============================] - 0s 18us/step - loss: 8.1307 - energy_error: -11.1845 - val_loss: 7.9929 - val_energy_error: -20.4878\n",
      "Epoch 361/500\n",
      "3901/3901 [==============================] - 0s 17us/step - loss: 8.1269 - energy_error: -11.1740 - val_loss: 7.9915 - val_energy_error: -20.4922\n",
      "Epoch 362/500\n",
      "3901/3901 [==============================] - 0s 20us/step - loss: 8.1230 - energy_error: -11.1637 - val_loss: 7.9901 - val_energy_error: -20.4963\n",
      "Epoch 363/500\n",
      "3901/3901 [==============================] - 0s 23us/step - loss: 8.1192 - energy_error: -11.1533 - val_loss: 7.9888 - val_energy_error: -20.5007\n",
      "Epoch 364/500\n",
      "3901/3901 [==============================] - 0s 24us/step - loss: 8.1155 - energy_error: -11.1430 - val_loss: 7.9874 - val_energy_error: -20.5049\n",
      "Epoch 365/500\n",
      "3901/3901 [==============================] - 0s 23us/step - loss: 8.1117 - energy_error: -11.1327 - val_loss: 7.9861 - val_energy_error: -20.5092\n",
      "Epoch 366/500\n",
      "3901/3901 [==============================] - 0s 24us/step - loss: 8.1079 - energy_error: -11.1224 - val_loss: 7.9847 - val_energy_error: -20.5135\n",
      "Epoch 367/500\n",
      "3901/3901 [==============================] - 0s 27us/step - loss: 8.1041 - energy_error: -11.1122 - val_loss: 7.9834 - val_energy_error: -20.5176\n",
      "Epoch 368/500\n",
      "3901/3901 [==============================] - 0s 25us/step - loss: 8.1003 - energy_error: -11.1018 - val_loss: 7.9820 - val_energy_error: -20.5219\n",
      "Epoch 369/500\n",
      "3901/3901 [==============================] - 0s 24us/step - loss: 8.0966 - energy_error: -11.0917 - val_loss: 7.9807 - val_energy_error: -20.5259\n",
      "Epoch 370/500\n",
      "3901/3901 [==============================] - 0s 26us/step - loss: 8.0928 - energy_error: -11.0814 - val_loss: 7.9793 - val_energy_error: -20.5301\n",
      "Epoch 371/500\n",
      "3901/3901 [==============================] - 0s 26us/step - loss: 8.0891 - energy_error: -11.0712 - val_loss: 7.9780 - val_energy_error: -20.5341\n",
      "Epoch 372/500\n",
      "3901/3901 [==============================] - 0s 21us/step - loss: 8.0854 - energy_error: -11.0609 - val_loss: 7.9766 - val_energy_error: -20.5383\n",
      "Epoch 373/500\n",
      "3901/3901 [==============================] - 0s 25us/step - loss: 8.0816 - energy_error: -11.0507 - val_loss: 7.9752 - val_energy_error: -20.5424\n",
      "Epoch 374/500\n",
      "3901/3901 [==============================] - 0s 23us/step - loss: 8.0779 - energy_error: -11.0404 - val_loss: 7.9739 - val_energy_error: -20.5470\n",
      "Epoch 375/500\n",
      "3901/3901 [==============================] - 0s 20us/step - loss: 8.0742 - energy_error: -11.0302 - val_loss: 7.9725 - val_energy_error: -20.5516\n",
      "Epoch 376/500\n",
      "3901/3901 [==============================] - 0s 24us/step - loss: 8.0704 - energy_error: -11.0201 - val_loss: 7.9712 - val_energy_error: -20.5565\n",
      "Epoch 377/500\n",
      "3901/3901 [==============================] - 0s 20us/step - loss: 8.0667 - energy_error: -11.0099 - val_loss: 7.9698 - val_energy_error: -20.5617\n",
      "Epoch 378/500\n",
      "3901/3901 [==============================] - 0s 22us/step - loss: 8.0630 - energy_error: -11.0001 - val_loss: 7.9685 - val_energy_error: -20.5669\n",
      "Epoch 379/500\n",
      "3901/3901 [==============================] - 0s 21us/step - loss: 8.0593 - energy_error: -10.9902 - val_loss: 7.9671 - val_energy_error: -20.5721\n",
      "Epoch 380/500\n",
      "3901/3901 [==============================] - 0s 23us/step - loss: 8.0556 - energy_error: -10.9802 - val_loss: 7.9658 - val_energy_error: -20.5776\n",
      "Epoch 381/500\n",
      "3901/3901 [==============================] - 0s 24us/step - loss: 8.0519 - energy_error: -10.9706 - val_loss: 7.9644 - val_energy_error: -20.5828\n",
      "Epoch 382/500\n",
      "3901/3901 [==============================] - 0s 25us/step - loss: 8.0482 - energy_error: -10.9606 - val_loss: 7.9631 - val_energy_error: -20.5884\n",
      "Epoch 383/500\n",
      "3901/3901 [==============================] - 0s 23us/step - loss: 8.0445 - energy_error: -10.9514 - val_loss: 7.9617 - val_energy_error: -20.5932\n",
      "Epoch 384/500\n",
      "3901/3901 [==============================] - 0s 25us/step - loss: 8.0409 - energy_error: -10.9417 - val_loss: 7.9604 - val_energy_error: -20.5979\n",
      "Epoch 385/500\n",
      "3901/3901 [==============================] - 0s 21us/step - loss: 8.0372 - energy_error: -10.9323 - val_loss: 7.9591 - val_energy_error: -20.6022\n",
      "Epoch 386/500\n",
      "3901/3901 [==============================] - 0s 24us/step - loss: 8.0335 - energy_error: -10.9226 - val_loss: 7.9577 - val_energy_error: -20.6066\n",
      "Epoch 387/500\n",
      "3901/3901 [==============================] - 0s 22us/step - loss: 8.0298 - energy_error: -10.9134 - val_loss: 7.9564 - val_energy_error: -20.6101\n",
      "Epoch 388/500\n",
      "3901/3901 [==============================] - 0s 22us/step - loss: 8.0262 - energy_error: -10.9039 - val_loss: 7.9551 - val_energy_error: -20.6136\n",
      "Epoch 389/500\n",
      "3901/3901 [==============================] - 0s 22us/step - loss: 8.0225 - energy_error: -10.8946 - val_loss: 7.9538 - val_energy_error: -20.6168\n",
      "Epoch 390/500\n",
      "3901/3901 [==============================] - 0s 23us/step - loss: 8.0189 - energy_error: -10.8850 - val_loss: 7.9525 - val_energy_error: -20.6200\n",
      "Epoch 391/500\n",
      "3901/3901 [==============================] - 0s 24us/step - loss: 8.0152 - energy_error: -10.8758 - val_loss: 7.9512 - val_energy_error: -20.6229\n",
      "Epoch 392/500\n",
      "3901/3901 [==============================] - 0s 25us/step - loss: 8.0116 - energy_error: -10.8664 - val_loss: 7.9499 - val_energy_error: -20.6257\n",
      "Epoch 393/500\n",
      "3901/3901 [==============================] - 0s 25us/step - loss: 8.0080 - energy_error: -10.8570 - val_loss: 7.9486 - val_energy_error: -20.6287\n",
      "Epoch 394/500\n",
      "3901/3901 [==============================] - 0s 21us/step - loss: 8.0043 - energy_error: -10.8476 - val_loss: 7.9473 - val_energy_error: -20.6319\n",
      "Epoch 395/500\n",
      "3901/3901 [==============================] - 0s 25us/step - loss: 8.0007 - energy_error: -10.8384 - val_loss: 7.9461 - val_energy_error: -20.6351\n",
      "Epoch 396/500\n",
      "3901/3901 [==============================] - 0s 25us/step - loss: 7.9971 - energy_error: -10.8291 - val_loss: 7.9448 - val_energy_error: -20.6383\n",
      "Epoch 397/500\n",
      "3901/3901 [==============================] - 0s 26us/step - loss: 7.9935 - energy_error: -10.8198 - val_loss: 7.9436 - val_energy_error: -20.6420\n",
      "Epoch 398/500\n",
      "3901/3901 [==============================] - 0s 26us/step - loss: 7.9899 - energy_error: -10.8105 - val_loss: 7.9423 - val_energy_error: -20.6456\n",
      "Epoch 399/500\n",
      "3901/3901 [==============================] - 0s 25us/step - loss: 7.9863 - energy_error: -10.8015 - val_loss: 7.9411 - val_energy_error: -20.6492\n",
      "Epoch 400/500\n",
      "3901/3901 [==============================] - 0s 24us/step - loss: 7.9827 - energy_error: -10.7924 - val_loss: 7.9399 - val_energy_error: -20.6521\n",
      "Epoch 401/500\n",
      "3901/3901 [==============================] - 0s 25us/step - loss: 7.9791 - energy_error: -10.7831 - val_loss: 7.9386 - val_energy_error: -20.6557\n",
      "Epoch 402/500\n",
      "3901/3901 [==============================] - 0s 24us/step - loss: 7.9755 - energy_error: -10.7741 - val_loss: 7.9374 - val_energy_error: -20.6586\n",
      "Epoch 403/500\n",
      "3901/3901 [==============================] - 0s 26us/step - loss: 7.9719 - energy_error: -10.7651 - val_loss: 7.9362 - val_energy_error: -20.6615\n",
      "Epoch 404/500\n",
      "3901/3901 [==============================] - 0s 23us/step - loss: 7.9683 - energy_error: -10.7561 - val_loss: 7.9350 - val_energy_error: -20.6640\n",
      "Epoch 405/500\n",
      "3901/3901 [==============================] - 0s 25us/step - loss: 7.9648 - energy_error: -10.7470 - val_loss: 7.9338 - val_energy_error: -20.6669\n",
      "Epoch 406/500\n",
      "3901/3901 [==============================] - 0s 25us/step - loss: 7.9612 - energy_error: -10.7382 - val_loss: 7.9326 - val_energy_error: -20.6688\n",
      "Epoch 407/500\n",
      "3901/3901 [==============================] - 0s 25us/step - loss: 7.9577 - energy_error: -10.7290 - val_loss: 7.9313 - val_energy_error: -20.6716\n",
      "Epoch 408/500\n",
      "3901/3901 [==============================] - 0s 19us/step - loss: 7.9541 - energy_error: -10.7203 - val_loss: 7.9301 - val_energy_error: -20.6734\n",
      "Epoch 409/500\n",
      "3901/3901 [==============================] - 0s 20us/step - loss: 7.9506 - energy_error: -10.7114 - val_loss: 7.9289 - val_energy_error: -20.6750\n",
      "Epoch 410/500\n",
      "3901/3901 [==============================] - 0s 21us/step - loss: 7.9470 - energy_error: -10.7025 - val_loss: 7.9277 - val_energy_error: -20.6763\n",
      "Epoch 411/500\n",
      "3901/3901 [==============================] - 0s 20us/step - loss: 7.9435 - energy_error: -10.6936 - val_loss: 7.9265 - val_energy_error: -20.6777\n",
      "Epoch 412/500\n",
      "3901/3901 [==============================] - 0s 23us/step - loss: 7.9400 - energy_error: -10.6849 - val_loss: 7.9253 - val_energy_error: -20.6781\n",
      "Epoch 413/500\n",
      "3901/3901 [==============================] - 0s 22us/step - loss: 7.9365 - energy_error: -10.6759 - val_loss: 7.9242 - val_energy_error: -20.6796\n",
      "Epoch 414/500\n",
      "3901/3901 [==============================] - 0s 21us/step - loss: 7.9329 - energy_error: -10.6674 - val_loss: 7.9230 - val_energy_error: -20.6802\n",
      "Epoch 415/500\n",
      "3901/3901 [==============================] - 0s 23us/step - loss: 7.9294 - energy_error: -10.6586 - val_loss: 7.9218 - val_energy_error: -20.6806\n",
      "Epoch 416/500\n",
      "3901/3901 [==============================] - 0s 22us/step - loss: 7.9259 - energy_error: -10.6500 - val_loss: 7.9206 - val_energy_error: -20.6811\n",
      "Epoch 417/500\n",
      "3901/3901 [==============================] - 0s 22us/step - loss: 7.9224 - energy_error: -10.6413 - val_loss: 7.9194 - val_energy_error: -20.6810\n",
      "Epoch 418/500\n",
      "3901/3901 [==============================] - 0s 20us/step - loss: 7.9189 - energy_error: -10.6326 - val_loss: 7.9182 - val_energy_error: -20.6819\n",
      "Epoch 419/500\n",
      "3901/3901 [==============================] - 0s 22us/step - loss: 7.9154 - energy_error: -10.6241 - val_loss: 7.9171 - val_energy_error: -20.6820\n",
      "Epoch 420/500\n",
      "3901/3901 [==============================] - 0s 21us/step - loss: 7.9119 - energy_error: -10.6155 - val_loss: 7.9159 - val_energy_error: -20.6820\n",
      "Epoch 421/500\n",
      "3901/3901 [==============================] - 0s 21us/step - loss: 7.9084 - energy_error: -10.6068 - val_loss: 7.9147 - val_energy_error: -20.6823\n",
      "Epoch 422/500\n",
      "3901/3901 [==============================] - 0s 24us/step - loss: 7.9050 - energy_error: -10.5983 - val_loss: 7.9136 - val_energy_error: -20.6823\n",
      "Epoch 423/500\n",
      "3901/3901 [==============================] - 0s 24us/step - loss: 7.9015 - energy_error: -10.5896 - val_loss: 7.9124 - val_energy_error: -20.6825\n",
      "Epoch 424/500\n",
      "3901/3901 [==============================] - 0s 23us/step - loss: 7.8980 - energy_error: -10.5812 - val_loss: 7.9113 - val_energy_error: -20.6825\n",
      "Epoch 425/500\n",
      "3901/3901 [==============================] - 0s 23us/step - loss: 7.8946 - energy_error: -10.5724 - val_loss: 7.9101 - val_energy_error: -20.6828\n",
      "Epoch 426/500\n",
      "3901/3901 [==============================] - 0s 20us/step - loss: 7.8911 - energy_error: -10.5642 - val_loss: 7.9090 - val_energy_error: -20.6831\n",
      "Epoch 427/500\n",
      "3901/3901 [==============================] - 0s 24us/step - loss: 7.8877 - energy_error: -10.5555 - val_loss: 7.9078 - val_energy_error: -20.6826\n",
      "Epoch 428/500\n",
      "3901/3901 [==============================] - 0s 24us/step - loss: 7.8842 - energy_error: -10.5472 - val_loss: 7.9067 - val_energy_error: -20.6827\n",
      "Epoch 429/500\n",
      "3901/3901 [==============================] - 0s 24us/step - loss: 7.8808 - energy_error: -10.5385 - val_loss: 7.9056 - val_energy_error: -20.6824\n",
      "Epoch 430/500\n",
      "3901/3901 [==============================] - 0s 24us/step - loss: 7.8774 - energy_error: -10.5303 - val_loss: 7.9044 - val_energy_error: -20.6823\n",
      "Epoch 431/500\n",
      "3901/3901 [==============================] - 0s 24us/step - loss: 7.8739 - energy_error: -10.5217 - val_loss: 7.9033 - val_energy_error: -20.6814\n",
      "Epoch 432/500\n",
      "3901/3901 [==============================] - 0s 20us/step - loss: 7.8705 - energy_error: -10.5134 - val_loss: 7.9021 - val_energy_error: -20.6808\n",
      "Epoch 433/500\n",
      "3901/3901 [==============================] - 0s 22us/step - loss: 7.8671 - energy_error: -10.5048 - val_loss: 7.9010 - val_energy_error: -20.6798\n",
      "Epoch 434/500\n",
      "3901/3901 [==============================] - 0s 20us/step - loss: 7.8637 - energy_error: -10.4966 - val_loss: 7.8999 - val_energy_error: -20.6790\n",
      "Epoch 435/500\n",
      "3901/3901 [==============================] - 0s 20us/step - loss: 7.8603 - energy_error: -10.4880 - val_loss: 7.8987 - val_energy_error: -20.6777\n",
      "Epoch 436/500\n",
      "3901/3901 [==============================] - 0s 18us/step - loss: 7.8569 - energy_error: -10.4797 - val_loss: 7.8976 - val_energy_error: -20.6770\n",
      "Epoch 437/500\n",
      "3901/3901 [==============================] - 0s 21us/step - loss: 7.8535 - energy_error: -10.4712 - val_loss: 7.8965 - val_energy_error: -20.6760\n",
      "Epoch 438/500\n",
      "3901/3901 [==============================] - 0s 22us/step - loss: 7.8501 - energy_error: -10.4628 - val_loss: 7.8954 - val_energy_error: -20.6755\n",
      "Epoch 439/500\n",
      "3901/3901 [==============================] - 0s 22us/step - loss: 7.8467 - energy_error: -10.4545 - val_loss: 7.8942 - val_energy_error: -20.6751\n",
      "Epoch 440/500\n",
      "3901/3901 [==============================] - 0s 23us/step - loss: 7.8433 - energy_error: -10.4464 - val_loss: 7.8931 - val_energy_error: -20.6740\n",
      "Epoch 441/500\n",
      "3901/3901 [==============================] - 0s 23us/step - loss: 7.8399 - energy_error: -10.4379 - val_loss: 7.8920 - val_energy_error: -20.6741\n",
      "Epoch 442/500\n",
      "3901/3901 [==============================] - 0s 23us/step - loss: 7.8366 - energy_error: -10.4297 - val_loss: 7.8909 - val_energy_error: -20.6731\n",
      "Epoch 443/500\n",
      "3901/3901 [==============================] - 0s 22us/step - loss: 7.8332 - energy_error: -10.4213 - val_loss: 7.8898 - val_energy_error: -20.6742\n",
      "Epoch 444/500\n",
      "3901/3901 [==============================] - 0s 23us/step - loss: 7.8298 - energy_error: -10.4133 - val_loss: 7.8887 - val_energy_error: -20.6736\n",
      "Epoch 445/500\n",
      "3901/3901 [==============================] - 0s 21us/step - loss: 7.8265 - energy_error: -10.4048 - val_loss: 7.8876 - val_energy_error: -20.6752\n",
      "Epoch 446/500\n",
      "3901/3901 [==============================] - 0s 23us/step - loss: 7.8231 - energy_error: -10.3968 - val_loss: 7.8864 - val_energy_error: -20.6753\n",
      "Epoch 447/500\n",
      "3901/3901 [==============================] - 0s 19us/step - loss: 7.8198 - energy_error: -10.3884 - val_loss: 7.8853 - val_energy_error: -20.6774\n",
      "Epoch 448/500\n",
      "3901/3901 [==============================] - 0s 19us/step - loss: 7.8164 - energy_error: -10.3807 - val_loss: 7.8842 - val_energy_error: -20.6776\n",
      "Epoch 449/500\n",
      "3901/3901 [==============================] - 0s 20us/step - loss: 7.8131 - energy_error: -10.3722 - val_loss: 7.8831 - val_energy_error: -20.6801\n",
      "Epoch 450/500\n",
      "3901/3901 [==============================] - 0s 19us/step - loss: 7.8097 - energy_error: -10.3645 - val_loss: 7.8821 - val_energy_error: -20.6808\n",
      "Epoch 451/500\n",
      "3901/3901 [==============================] - 0s 18us/step - loss: 7.8064 - energy_error: -10.3562 - val_loss: 7.8810 - val_energy_error: -20.6836\n",
      "Epoch 452/500\n",
      "3901/3901 [==============================] - 0s 22us/step - loss: 7.8030 - energy_error: -10.3486 - val_loss: 7.8799 - val_energy_error: -20.6849\n",
      "Epoch 453/500\n",
      "3901/3901 [==============================] - 0s 20us/step - loss: 7.7997 - energy_error: -10.3403 - val_loss: 7.8788 - val_energy_error: -20.6882\n",
      "Epoch 454/500\n",
      "3901/3901 [==============================] - 0s 20us/step - loss: 7.7963 - energy_error: -10.3328 - val_loss: 7.8778 - val_energy_error: -20.6897\n",
      "Epoch 455/500\n",
      "3901/3901 [==============================] - 0s 21us/step - loss: 7.7930 - energy_error: -10.3244 - val_loss: 7.8767 - val_energy_error: -20.6935\n",
      "Epoch 456/500\n",
      "3901/3901 [==============================] - 0s 20us/step - loss: 7.7897 - energy_error: -10.3171 - val_loss: 7.8757 - val_energy_error: -20.6953\n",
      "Epoch 457/500\n",
      "3901/3901 [==============================] - 0s 21us/step - loss: 7.7864 - energy_error: -10.3087 - val_loss: 7.8746 - val_energy_error: -20.6994\n",
      "Epoch 458/500\n",
      "3901/3901 [==============================] - 0s 24us/step - loss: 7.7830 - energy_error: -10.3015 - val_loss: 7.8736 - val_energy_error: -20.7015\n",
      "Epoch 459/500\n",
      "3901/3901 [==============================] - 0s 22us/step - loss: 7.7797 - energy_error: -10.2931 - val_loss: 7.8725 - val_energy_error: -20.7059\n",
      "Epoch 460/500\n",
      "3901/3901 [==============================] - 0s 22us/step - loss: 7.7764 - energy_error: -10.2859 - val_loss: 7.8715 - val_energy_error: -20.7083\n",
      "Epoch 461/500\n",
      "3901/3901 [==============================] - 0s 21us/step - loss: 7.7731 - energy_error: -10.2776 - val_loss: 7.8705 - val_energy_error: -20.7125\n",
      "Epoch 462/500\n",
      "3901/3901 [==============================] - 0s 25us/step - loss: 7.7697 - energy_error: -10.2705 - val_loss: 7.8695 - val_energy_error: -20.7152\n",
      "Epoch 463/500\n",
      "3901/3901 [==============================] - 0s 21us/step - loss: 7.7664 - energy_error: -10.2623 - val_loss: 7.8685 - val_energy_error: -20.7192\n",
      "Epoch 464/500\n",
      "3901/3901 [==============================] - 0s 20us/step - loss: 7.7631 - energy_error: -10.2552 - val_loss: 7.8674 - val_energy_error: -20.7219\n",
      "Epoch 465/500\n",
      "3901/3901 [==============================] - 0s 24us/step - loss: 7.7598 - energy_error: -10.2471 - val_loss: 7.8664 - val_energy_error: -20.7254\n",
      "Epoch 466/500\n",
      "3901/3901 [==============================] - 0s 21us/step - loss: 7.7565 - energy_error: -10.2400 - val_loss: 7.8654 - val_energy_error: -20.7279\n",
      "Epoch 467/500\n",
      "3901/3901 [==============================] - 0s 22us/step - loss: 7.7532 - energy_error: -10.2320 - val_loss: 7.8644 - val_energy_error: -20.7306\n",
      "Epoch 468/500\n",
      "3901/3901 [==============================] - 0s 25us/step - loss: 7.7499 - energy_error: -10.2250 - val_loss: 7.8633 - val_energy_error: -20.7330\n",
      "Epoch 469/500\n",
      "3901/3901 [==============================] - 0s 22us/step - loss: 7.7466 - energy_error: -10.2170 - val_loss: 7.8623 - val_energy_error: -20.7348\n",
      "Epoch 470/500\n",
      "3901/3901 [==============================] - 0s 19us/step - loss: 7.7433 - energy_error: -10.2099 - val_loss: 7.8613 - val_energy_error: -20.7366\n",
      "Epoch 471/500\n",
      "3901/3901 [==============================] - 0s 23us/step - loss: 7.7401 - energy_error: -10.2020 - val_loss: 7.8603 - val_energy_error: -20.7374\n",
      "Epoch 472/500\n",
      "3901/3901 [==============================] - 0s 24us/step - loss: 7.7368 - energy_error: -10.1948 - val_loss: 7.8592 - val_energy_error: -20.7386\n",
      "Epoch 473/500\n",
      "3901/3901 [==============================] - 0s 24us/step - loss: 7.7335 - energy_error: -10.1868 - val_loss: 7.8582 - val_energy_error: -20.7384\n",
      "Epoch 474/500\n",
      "3901/3901 [==============================] - 0s 26us/step - loss: 7.7303 - energy_error: -10.1795 - val_loss: 7.8572 - val_energy_error: -20.7395\n",
      "Epoch 475/500\n",
      "3901/3901 [==============================] - 0s 24us/step - loss: 7.7270 - energy_error: -10.1716 - val_loss: 7.8562 - val_energy_error: -20.7386\n",
      "Epoch 476/500\n",
      "3901/3901 [==============================] - 0s 21us/step - loss: 7.7238 - energy_error: -10.1643 - val_loss: 7.8552 - val_energy_error: -20.7398\n",
      "Epoch 477/500\n",
      "3901/3901 [==============================] - 0s 24us/step - loss: 7.7205 - energy_error: -10.1563 - val_loss: 7.8541 - val_energy_error: -20.7389\n",
      "Epoch 478/500\n",
      "3901/3901 [==============================] - 0s 22us/step - loss: 7.7173 - energy_error: -10.1489 - val_loss: 7.8531 - val_energy_error: -20.7406\n",
      "Epoch 479/500\n",
      "3901/3901 [==============================] - 0s 20us/step - loss: 7.7141 - energy_error: -10.1411 - val_loss: 7.8521 - val_energy_error: -20.7397\n",
      "Epoch 480/500\n",
      "3901/3901 [==============================] - 0s 20us/step - loss: 7.7109 - energy_error: -10.1336 - val_loss: 7.8511 - val_energy_error: -20.7419\n",
      "Epoch 481/500\n",
      "3901/3901 [==============================] - 0s 23us/step - loss: 7.7076 - energy_error: -10.1258 - val_loss: 7.8501 - val_energy_error: -20.7415\n",
      "Epoch 482/500\n",
      "3901/3901 [==============================] - 0s 20us/step - loss: 7.7044 - energy_error: -10.1184 - val_loss: 7.8491 - val_energy_error: -20.7441\n",
      "Epoch 483/500\n",
      "3901/3901 [==============================] - 0s 23us/step - loss: 7.7012 - energy_error: -10.1108 - val_loss: 7.8481 - val_energy_error: -20.7440\n",
      "Epoch 484/500\n",
      "3901/3901 [==============================] - 0s 20us/step - loss: 7.6980 - energy_error: -10.1034 - val_loss: 7.8471 - val_energy_error: -20.7470\n",
      "Epoch 485/500\n",
      "3901/3901 [==============================] - 0s 19us/step - loss: 7.6948 - energy_error: -10.0958 - val_loss: 7.8461 - val_energy_error: -20.7471\n",
      "Epoch 486/500\n",
      "3901/3901 [==============================] - 0s 22us/step - loss: 7.6916 - energy_error: -10.0884 - val_loss: 7.8451 - val_energy_error: -20.7502\n",
      "Epoch 487/500\n",
      "3901/3901 [==============================] - 0s 24us/step - loss: 7.6884 - energy_error: -10.0810 - val_loss: 7.8441 - val_energy_error: -20.7500\n",
      "Epoch 488/500\n",
      "3901/3901 [==============================] - 0s 24us/step - loss: 7.6852 - energy_error: -10.0736 - val_loss: 7.8432 - val_energy_error: -20.7526\n",
      "Epoch 489/500\n",
      "3901/3901 [==============================] - 0s 20us/step - loss: 7.6820 - energy_error: -10.0662 - val_loss: 7.8422 - val_energy_error: -20.7522\n",
      "Epoch 490/500\n",
      "3901/3901 [==============================] - 0s 23us/step - loss: 7.6788 - energy_error: -10.0589 - val_loss: 7.8412 - val_energy_error: -20.7542\n",
      "Epoch 491/500\n",
      "3901/3901 [==============================] - 0s 26us/step - loss: 7.6756 - energy_error: -10.0516 - val_loss: 7.8402 - val_energy_error: -20.7532\n",
      "Epoch 492/500\n",
      "3901/3901 [==============================] - 0s 25us/step - loss: 7.6724 - energy_error: -10.0442 - val_loss: 7.8392 - val_energy_error: -20.7545\n",
      "Epoch 493/500\n",
      "3901/3901 [==============================] - 0s 24us/step - loss: 7.6693 - energy_error: -10.0369 - val_loss: 7.8383 - val_energy_error: -20.7533\n",
      "Epoch 494/500\n",
      "3901/3901 [==============================] - 0s 24us/step - loss: 7.6661 - energy_error: -10.0297 - val_loss: 7.8373 - val_energy_error: -20.7544\n",
      "Epoch 495/500\n",
      "3901/3901 [==============================] - 0s 26us/step - loss: 7.6629 - energy_error: -10.0225 - val_loss: 7.8363 - val_energy_error: -20.7532\n",
      "Epoch 496/500\n",
      "3901/3901 [==============================] - 0s 22us/step - loss: 7.6598 - energy_error: -10.0153 - val_loss: 7.8353 - val_energy_error: -20.7542\n",
      "Epoch 497/500\n",
      "3901/3901 [==============================] - 0s 19us/step - loss: 7.6566 - energy_error: -10.0081 - val_loss: 7.8344 - val_energy_error: -20.7530\n",
      "Epoch 498/500\n",
      "3901/3901 [==============================] - 0s 23us/step - loss: 7.6534 - energy_error: -10.0010 - val_loss: 7.8334 - val_energy_error: -20.7539\n",
      "Epoch 499/500\n",
      "3901/3901 [==============================] - 0s 25us/step - loss: 7.6503 - energy_error: -9.9940 - val_loss: 7.8324 - val_energy_error: -20.7525\n",
      "Epoch 500/500\n",
      "3901/3901 [==============================] - 0s 22us/step - loss: 7.6471 - energy_error: -9.9870 - val_loss: 7.8314 - val_energy_error: -20.7531\n"
     ]
    }
   ],
   "source": [
    "algoritmo='RMSprop'\n",
    "experimento=\"scaledB_{}_encoder_without_bias_sig_sig_lr_{}\".format(supermax,factor_aprendizaje)\n",
    "tensorboard=TensorBoard(log_dir=\"../logs/defs/{}{}{}{}\".format(encoding_dimB,algoritmo,experimento,datetime.now()))\n",
    "#modelCheckpoint=ModelCheckpoint(\"/home/rgadea3/EXPERIMENTOS/nuevas_investigaciones_2018/experimentos/logs/\", monitor='val_loss', verbose=0, save_best_only=False, save_weights_only=False, mode='auto', period=1)\n",
    "early_stop=EarlyStopping(monitor='val_loss', min_delta=0, patience=500, verbose=2, mode='auto', baseline=None)\n",
    "results=autoencoderB.fit(x_train_scaled, x_train_scaled,\n",
    "                epochs=500,\n",
    "                batch_size=200,\n",
    "                shuffle=False,\n",
    "                callbacks=[tensorboard, early_stop, metrics],\n",
    "                validation_data=(x_test_scaled, x_test_scaled))\n",
    "\n"
   ]
  },
  {
   "cell_type": "code",
   "execution_count": 49,
   "metadata": {},
   "outputs": [
    {
     "data": {
      "image/png": "[encoded data removed]",
      "text/plain": [
       "<Figure size 432x288 with 1 Axes>"
      ]
     },
     "metadata": {
      "needs_background": "light"
     },
     "output_type": "display_data"
    },
    {
     "data": {
      "image/png": "[encoded data removed]",
      "text/plain": [
       "<Figure size 432x288 with 1 Axes>"
      ]
     },
     "metadata": {
      "needs_background": "light"
     },
     "output_type": "display_data"
    }
   ],
   "source": [
    "# summarize history for categorical accuracy\n",
    "plt.plot(results.history['energy_error'])\n",
    "plt.plot(results.history['val_energy_error'])\n",
    "plt.title('Energy error')\n",
    "plt.ylabel('accuracy')\n",
    "plt.xlabel('epoch')\n",
    "plt.legend(['train', 'test'], loc='upper left')\n",
    "plt.show()\n",
    "# summarize history for loss\n",
    "plt.plot(results.history['loss'])\n",
    "plt.plot(results.history['val_loss'])\n",
    "plt.title('model loss')\n",
    "plt.ylabel('loss')\n",
    "plt.xlabel('epoch')\n",
    "plt.legend(['train', 'test'], loc='upper left')\n",
    "plt.show()"
   ]
  },
  {
   "cell_type": "code",
   "execution_count": 50,
   "metadata": {},
   "outputs": [],
   "source": [
    "# import pandas as pd \n",
    "# autoencoderB.evaluate(x=x_test_scaled,y=x_test_scaled)\n",
    "# D=metrics.get_data()\n",
    "\n",
    "\n",
    "# energies=pd.DataFrame(D).values.reshape(len(D))\n",
    "# valores=len(energies)\n",
    "# plt.plot(range(valores),energies) \n",
    "\n",
    "# plt.show()"
   ]
  },
  {
   "cell_type": "code",
   "execution_count": 51,
   "metadata": {},
   "outputs": [],
   "source": [
    "autoencoderB.save_weights('../redes_compresoras/defs/compresor_python_{}{}{}{}'.format(encoding_dimB,algoritmo,experimento,datetime.now()))\n",
    "#np.savez('../redes_compresoras/maxmin_python_ver_rms_prop_scaled_min_max_ver2', min_max_scaler.data_max_, min_max_scaler.data_min_)\n",
    "#autoencoder.load_weights('../redes_compresoras/defs/compresor_python_320RMSpropscaled_100_encoder_without_bias_sig_sig_lr_0.00012018-11-03 09:43:55.047213')"
   ]
  },
  {
   "cell_type": "code",
   "execution_count": 52,
   "metadata": {},
   "outputs": [],
   "source": [
    "# standard_scores = encoder.predict(x_test_scaled).ravel()\n",
    "# #regularized_scores = encoded_regularized.predict(x_test).ravel()\n",
    "# sns.distplot(standard_scores, hist=True, label='standard model')\n",
    "# #sns.distplot(regularized_scores, hist=False, label='regularized model')"
   ]
  },
  {
   "cell_type": "code",
   "execution_count": 53,
   "metadata": {},
   "outputs": [],
   "source": [
    "# encode and decode some images\n",
    "# note that we take them from the *test* set\n",
    "# encoded_imgs = encoder.predict(x_test_min_max)\n",
    "# decoded_imgs_scaled = decoder.predict(encoded_imgs)\n",
    "# decoded_imgs_scaled = autoencoderB.predict(x_test_min_max)\n",
    "decoded_imgs_scaledB = autoencoderB.predict(x_test_scaled)\n",
    "decoded_imgs = supermax*(decoded_imgs_scaledB)\n",
    "# decoded_imgs = min_max_scaler.inverse_transform(decoded_imgs_scaled)\n",
    "#decoded_imgs = autoencoder.predict(x_test)\n"
   ]
  },
  {
   "cell_type": "code",
   "execution_count": null,
   "metadata": {},
   "outputs": [],
   "source": []
  },
  {
   "cell_type": "code",
   "execution_count": 54,
   "metadata": {},
   "outputs": [
    {
     "data": {
      "image/png": "[encoded data removed]",
      "text/plain": [
       "<Figure size 1440x288 with 2 Axes>"
      ]
     },
     "metadata": {
      "needs_background": "light"
     },
     "output_type": "display_data"
    }
   ],
   "source": [
    "n = 1  # how many digits we will display\n",
    "plt.figure(figsize=(20, 4))\n",
    "for i in range(n):\n",
    "    # display original\n",
    "    idea=np.random.randint(1,x_test.shape[0])\n",
    "    ax = plt.subplot(2, n, i + 1)\n",
    "    plt.imshow(x_test[idea].reshape(img_colsB,img_rows ).transpose(),vmin=0, vmax=30)\n",
    "    plt.viridis()\n",
    "    ax.get_xaxis().set_visible(False)\n",
    "    ax.get_yaxis().set_visible(False)\n",
    "\n",
    "    # display reconstruction\n",
    "    ax = plt.subplot(2, n, i + 1 + n)\n",
    "    plt.imshow(decoded_imgs[idea].reshape(img_colsB, img_rows).transpose(),vmin=0, vmax=30)\n",
    "    plt.viridis()\n",
    "    ax.get_xaxis().set_visible(False)\n",
    "    ax.get_yaxis().set_visible(False)\n",
    "plt.show()\n",
    "# print(idea)\n",
    "# print(x_test[idea])\n",
    "# print(decoded_imgs[idea])\n",
    "# print(decoded_imgs_scaled[idea])\n"
   ]
  },
  {
   "cell_type": "markdown",
   "metadata": {},
   "source": [
    "# Vamos a procesar y comprimir con la red"
   ]
  },
  {
   "cell_type": "markdown",
   "metadata": {},
   "source": [
    "Ahora los particionamos y pasamos por las redes de compresión. Hay una red la A que se utiliza 5 veces"
   ]
  },
  {
   "cell_type": "code",
   "execution_count": 55,
   "metadata": {},
   "outputs": [],
   "source": [
    "x_total=conjunto_datos[0:numero_muestras,:]\n",
    "L1A=5;\n",
    "# hay tres L1 con 576 sensores (36*16)\n",
    "L1B=1;\n",
    "img_rows=20\n",
    "img_colsA=30\n",
    "img_colsB=25\n",
    "img_cols=30\n",
    "input_output_dim_A=img_rows*img_colsA\n",
    "input_output_dim_B=img_rows*img_colsB\n",
    "def sigmoid(x, derivative=False):\n",
    "  return x*(1-x) if derivative else 1/(1+np.exp(-x))\n",
    "ideaA=np.zeros((L1A,input_output_dim_A))\n",
    "ideaB=np.zeros((L1B,input_output_dim_B)) \n",
    "cara_externa=x_total[:,0: L1A*input_output_dim_A+L1B*input_output_dim_B] \n",
    "cara_externa_reconstruida=np.zeros((x_total.shape[0],L1A*input_output_dim_A+L1B*input_output_dim_B))\n",
    "for i in range(x_total.shape[0]):\n",
    "    for k in range(L1A):\n",
    "        ideaA[k,:]=x_total[i,k*input_output_dim_A:k*input_output_dim_A+input_output_dim_A]\n",
    "    #entrada_imgs_A=(ideaA-min_A.transpose())/(max_A.transpose()-min_A.transpose())\n",
    "#     entrada_imgs_A=(ideaA) #he quitado el escalado\n",
    "#     encoded_imgs_A = sigmoid(np.dot(entrada_imgs_A, Encoder_weights_A) + Encoder_biases_A)\n",
    "#     decoded_imgs_A= (np.dot(encoded_imgs_A, Decoder_weights_A) + Decoder_biases_A)\n",
    "#     #print(decoded_imgs_A.shape)\n",
    "#     #salida_reconstructed_1 = decoded_imgs_A*(max_A.transpose()-min_A.transpose())+min_A.transpose();\n",
    "#     salida_reconstructed_1 = decoded_imgs_A #quito el escalado inverso    \n",
    "\n",
    "\n",
    "    ideaA_scaled=(ideaA/(supermax))\n",
    "    salida_reconstructed_1_scaled = autoencoderA.predict(ideaA_scaled)    \n",
    "    salida_reconstructed_1 = supermax*(salida_reconstructed_1_scaled)\n",
    "    for k in range(L1B):\n",
    "        ideaB[k,:input_output_dim_B]=x_total[i,L1A*input_output_dim_A+k*input_output_dim_B:L1A*input_output_dim_A+k*input_output_dim_B+input_output_dim_B]\n",
    "    #entrada_imgs_B=(ideaB-min_B.transpose())/(max_B.transpose()-min_B.transpose())\n",
    "#     entrada_imgs_B=(ideaB)  #quito el escalado\n",
    "#     encoded_imgs_B = sigmoid(np.dot(entrada_imgs_B, Encoder_weights_B) + Encoder_biases_B)\n",
    "#     decoded_imgs_B= (np.dot(encoded_imgs_B, Decoder_weights_B) + Decoder_biases_B)\n",
    "#     salida_reconstructed_2 = decoded_imgs_B #quito el escalado inverso  \n",
    "    ideaB_scaled=(ideaB/(supermax))\n",
    "    salida_reconstructed_2_scaled = autoencoderB.predict(ideaB_scaled)    \n",
    "    salida_reconstructed_2 = supermax*(salida_reconstructed_2_scaled)\n",
    "    #salida_reconstructed_2 = decoded_imgs_B*(max_B.transpose()-min_B.transpose())+min_B.transpose()\n",
    "  \n",
    "    hola1=np.reshape(salida_reconstructed_1,(L1A*input_output_dim_A))\n",
    "    hola2=np.reshape(salida_reconstructed_2,(L1B*input_output_dim_B))\n",
    "    #print(hola.shape)\n",
    "    salida_total=np.concatenate((hola1,hola2))\n",
    "    salida_total[salida_total<0]=0\n",
    "    #print(salida_total.shape)\n",
    "    cara_externa_reconstruida[i]=salida_total\n",
    "    "
   ]
  },
  {
   "cell_type": "code",
   "execution_count": 56,
   "metadata": {},
   "outputs": [],
   "source": [
    "mse = (np.square(cara_externa - cara_externa_reconstruida)).mean(axis=1)\n",
    "mse_idea=np.reshape(mse,(mse.shape[0],1))"
   ]
  },
  {
   "cell_type": "code",
   "execution_count": 57,
   "metadata": {},
   "outputs": [],
   "source": [
    "veamos=np.where((mse_idea<3).all(axis=1) )  # & (energia2B_b<1500).all(axis=1))\n",
    "\n",
    "conjunto_datos_entradasA_filt_good5=conjunto_datos_entradasA_filt_good4[veamos]\n",
    "\n",
    "conjunto_datos_entradasB_filt_good5=conjunto_datos_entradasB_filt_good4[veamos]\n",
    "\n",
    "conjunto_datos_salidas_filt_good5=conjunto_datos_salidas_filt_good4[veamos]\n",
    "\n",
    "conjunto_datos_eventos_filt_good5=conjunto_datos_eventos_filt_good4[veamos]"
   ]
  },
  {
   "cell_type": "markdown",
   "metadata": {},
   "source": [
    "Salvamos los reusltados"
   ]
  },
  {
   "cell_type": "code",
   "execution_count": 66,
   "metadata": {},
   "outputs": [
    {
     "name": "stdout",
     "output_type": "stream",
     "text": [
      "(68002, 20, 175)\n",
      "(54631, 20, 175)\n",
      "(52014, 20, 175)\n",
      "(39012, 20, 175)\n",
      "(29714, 20, 175)\n",
      "(29714, 20, 175)\n",
      "(29714, 1)\n",
      "(29714, 3)\n"
     ]
    }
   ],
   "source": [
    "print(conjunto_datos_entradasA.shape)\n",
    "print(conjunto_datos_entradasA_filt_good.shape)\n",
    "print(conjunto_datos_entradasA_filt_good3.shape)\n",
    "print(conjunto_datos_entradasA_filt_good4.shape)   \n",
    "print(conjunto_datos_entradasA_filt_good5.shape)    \n",
    "print(conjunto_datos_entradasB_filt_good5.shape)    \n",
    "print(conjunto_datos_eventos_filt_good5.shape)   \n",
    "print(conjunto_datos_salidas_filt_good5.shape)   "
   ]
  },
  {
   "cell_type": "code",
   "execution_count": 60,
   "metadata": {},
   "outputs": [],
   "source": [
    "np.savez('../conjuntos_datos_nuevos_2020/26_12_2019_filt4',conjunto_datos_entradasA_filt_good5, conjunto_datos_entradasB_filt_good5, conjunto_datos_salidas_filt_good5, conjunto_datos_eventos_filt_good5 )"
   ]
  },
  {
   "cell_type": "markdown",
   "metadata": {},
   "source": [
    "## Visualizamos los resultados"
   ]
  },
  {
   "cell_type": "markdown",
   "metadata": {},
   "source": [
    "Visualizamos todos los sensores: "
   ]
  },
  {
   "cell_type": "code",
   "execution_count": 64,
   "metadata": {
    "scrolled": true
   },
   "outputs": [
    {
     "data": {
      "image/png": "[encoded data removed]",
      "text/plain": [
       "<Figure size 2880x720 with 2 Axes>"
      ]
     },
     "metadata": {
      "needs_background": "light"
     },
     "output_type": "display_data"
    }
   ],
   "source": [
    "n = 1  # how many digits we will display\n",
    "plt.figure(figsize=(40, 10))\n",
    "for i in range(n):\n",
    "    # display original\n",
    "    idea=np.random.randint(1,cara_externa.shape[0])\n",
    "    ax = plt.subplot(2, n, i + 1)\n",
    "    plt.imshow(cara_externa[idea].reshape(L1A*img_colsA+L1B*img_colsB, img_rows).transpose(),vmin=0, vmax=30)\n",
    "    plt.viridis()\n",
    "    ax.get_xaxis().set_visible(False)\n",
    "    ax.get_yaxis().set_visible(False)\n",
    "\n",
    "    # display reconstruction\n",
    "    ax = plt.subplot(2, n, i + 1 + n)\n",
    "    plt.imshow(cara_externa_reconstruida[idea].reshape(L1A*img_colsA+L1B*img_colsB, img_rows).transpose(), vmin=0, vmax=30)\n",
    "    plt.viridis()\n",
    "    ax.get_xaxis().set_visible(False)\n",
    "    ax.get_yaxis().set_visible(False)\n",
    "plt.show()"
   ]
  },
  {
   "cell_type": "code",
   "execution_count": null,
   "metadata": {},
   "outputs": [],
   "source": []
  },
  {
   "cell_type": "code",
   "execution_count": null,
   "metadata": {},
   "outputs": [],
   "source": []
  }
 ],
 "metadata": {
  "kernelspec": {
   "display_name": "Python [conda env:tensorflow3] *",
   "language": "python",
   "name": "conda-env-tensorflow3-py"
  },
  "language_info": {
   "codemirror_mode": {
    "name": "ipython",
    "version": 3
   },
   "file_extension": ".py",
   "mimetype": "text/x-python",
   "name": "python",
   "nbconvert_exporter": "python",
   "pygments_lexer": "ipython3",
   "version": "3.6.9"
  }
 },
 "nbformat": 4,
 "nbformat_minor": 4
}
