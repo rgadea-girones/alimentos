{
 "cells": [
  {
   "cell_type": "markdown",
   "metadata": {},
   "source": [
    "# Simple CNN for PETALO\n",
    "\n",
    "Esta red la vamos a utilizar para obtener el radio "
   ]
  },
  {
   "cell_type": "code",
   "execution_count": 34,
   "metadata": {},
   "outputs": [
    {
     "name": "stdout",
     "output_type": "stream",
     "text": [
      "['/home/rgadea/anaconda3/envs/tensorflow3/lib/python36.zip', '/home/rgadea/anaconda3/envs/tensorflow3/lib/python3.6', '/home/rgadea/anaconda3/envs/tensorflow3/lib/python3.6/lib-dynload', '', '/home/rgadea/anaconda3/envs/tensorflow3/lib/python3.6/site-packages', '/home/rgadea/anaconda3/envs/tensorflow3/lib/python3.6/site-packages/IPython/extensions', '/volumedisk0/home/rgadea/.ipython', '/home/rgadea/lmfit-py/', '/home/rgadea/experimentos/viherbos/', '/home/rgadea/lmfit-py/', '/home/rgadea/experimentos/viherbos/', '/home/rgadea/lmfit-py/', '/home/rgadea/experimentos/viherbos/']\n"
     ]
    }
   ],
   "source": [
    "import numpy as np\n",
    "#np.random.seed(1337)  # for reproducibility\n",
    "from time import time\n",
    "from datetime import datetime\n",
    "# from sklearn import preprocessing\n",
    "import sys\n",
    "\n",
    "sys.path.append(\"/home/rgadea/lmfit-py/\")\n",
    "sys.path.append(\"/home/rgadea/experimentos/viherbos/\")\n",
    "\n",
    "print(sys.path)\n",
    "import json \n",
    "\n",
    "import os\n",
    "os.environ[\"CUDA_DEVICE_ORDER\"] = \"PCI_BUS_ID\"\n",
    "os.environ[\"CUDA_VISIBLE_DEVICES\"] = \"0\"\n",
    "\n",
    "# import seaborn as sns\n",
    "from keras.datasets import mnist\n",
    "from keras.models import Model, Sequential\n",
    "from keras.layers import Input, Dense, Dropout, Activation, Flatten\n",
    "from keras.layers import Conv2D, MaxPooling2D,BatchNormalization\n",
    "from keras.callbacks import TensorBoard, EarlyStopping, ModelCheckpoint\n",
    "from keras.utils import np_utils\n",
    "from keras import regularizers\n",
    "from keras.optimizers import Adam, Nadam, RMSprop, SGD\n",
    "from math import floor\n",
    "from lmfit.models import  GaussianModel\n",
    "import matplotlib.pyplot as plt"
   ]
  },
  {
   "cell_type": "code",
   "execution_count": 2,
   "metadata": {},
   "outputs": [
    {
     "name": "stdout",
     "output_type": "stream",
     "text": [
      "1.13.1\n"
     ]
    }
   ],
   "source": [
    "from keras import backend as K\n",
    "K.tensorflow_backend._get_available_gpus()\n",
    "import tensorflow as tf\n",
    "print(tf.__version__)\n",
    "sess = tf.Session(config=tf.ConfigProto(log_device_placement=True))"
   ]
  },
  {
   "cell_type": "markdown",
   "metadata": {},
   "source": [
    "## Vamos introducir los datos de petalo preprocesados en pyhton\n"
   ]
  },
  {
   "cell_type": "markdown",
   "metadata": {},
   "source": [
    "## Network parameters:"
   ]
  },
  {
   "cell_type": "code",
   "execution_count": 3,
   "metadata": {},
   "outputs": [
    {
     "name": "stdout",
     "output_type": "stream",
     "text": [
      "conjunto_datos_entradas A shape: (68002, 20, 175)\n",
      "conjunto_datos_entradas B shape: (68002, 20, 175)\n",
      "conjunto_datos_salidas shape: (68002, 3)\n"
     ]
    }
   ],
   "source": [
    "npzfile = np.load('../conjuntos_datos_nuevos_2020/11_12_2019.npz')\n",
    "npzfile.files\n",
    "\n",
    "# conjunto_datos_entradasA=npzfile['arr_0']\n",
    "# conjunto_datos_entradasB=npzfile['arr_1']\n",
    "# conjunto_datos_salidas=npzfile['arr_2']\n",
    "entradas_sensorsA1=npzfile['arr_0']\n",
    "entradas_sensorsB1=npzfile['arr_1']\n",
    "coordenadas1=npzfile['arr_2']\n",
    "entradas_sensorsA2=npzfile['arr_3']\n",
    "entradas_sensorsB2=npzfile['arr_4']\n",
    "coordenadas2=npzfile['arr_5']\n",
    "\n",
    "conjunto_datos_entradasA=np.concatenate((entradas_sensorsA1,entradas_sensorsA2),axis=0)\n",
    "conjunto_datos_entradasB=np.concatenate((entradas_sensorsB1,entradas_sensorsB2),axis=0)\n",
    "conjunto_datos_salidas=np.concatenate((coordenadas1,coordenadas2),axis=0)\n",
    "\n",
    "\n",
    "print('conjunto_datos_entradas A shape:', conjunto_datos_entradasA.shape)\n",
    "print('conjunto_datos_entradas B shape:', conjunto_datos_entradasB.shape)\n",
    "print('conjunto_datos_salidas shape:', conjunto_datos_salidas.shape)"
   ]
  },
  {
   "cell_type": "code",
   "execution_count": 4,
   "metadata": {},
   "outputs": [
    {
     "data": {
      "image/png": "[encoded data removed]",
      "text/plain": [
       "<Figure size 432x288 with 1 Axes>"
      ]
     },
     "metadata": {
      "needs_background": "light"
     },
     "output_type": "display_data"
    }
   ],
   "source": [
    "n, bins, patches = plt.hist(conjunto_datos_salidas[:,0], 400, density=0, facecolor='green', alpha=0.75)"
   ]
  },
  {
   "cell_type": "code",
   "execution_count": 5,
   "metadata": {},
   "outputs": [
    {
     "data": {
      "image/png": "[encoded data removed]",
      "text/plain": [
       "<Figure size 432x288 with 1 Axes>"
      ]
     },
     "metadata": {
      "needs_background": "light"
     },
     "output_type": "display_data"
    }
   ],
   "source": [
    "n, bins, patches = plt.hist(conjunto_datos_salidas[:,1], 400, density=0, facecolor='green', alpha=0.75)"
   ]
  },
  {
   "cell_type": "code",
   "execution_count": 6,
   "metadata": {},
   "outputs": [
    {
     "data": {
      "image/png": "[encoded data removed]",
      "text/plain": [
       "<Figure size 432x288 with 1 Axes>"
      ]
     },
     "metadata": {
      "needs_background": "light"
     },
     "output_type": "display_data"
    }
   ],
   "source": [
    "n, bins, patches = plt.hist(conjunto_datos_salidas[:,2], 400, density=0, facecolor='green', alpha=0.75)"
   ]
  },
  {
   "cell_type": "code",
   "execution_count": 7,
   "metadata": {},
   "outputs": [],
   "source": [
    "batch_size = 250\n",
    "nb_classes = 10\n",
    "nb_epoch = 2000\n",
    "\n",
    "# input image dimensions\n",
    "img_rows, img_cols = 20, 41\n",
    "# number of convolutional filters to use\n",
    "nb_filters = 32\n",
    "# size of pooling area for max pooling\n",
    "pool_size = (2, 2)\n",
    "# convolution kernel size\n",
    "kernel_size = (4, 4)"
   ]
  },
  {
   "cell_type": "markdown",
   "metadata": {},
   "source": [
    "## Prepare data into training and test set."
   ]
  },
  {
   "cell_type": "code",
   "execution_count": 8,
   "metadata": {},
   "outputs": [
    {
     "name": "stdout",
     "output_type": "stream",
     "text": [
      "sector A shape: (68002, 20, 41)\n",
      "conjunto_datos_nuevo A: (68002, 820)\n",
      "sector B shape: (68002, 20, 41)\n",
      "conjunto_datos_nuevo B: (68002, 820)\n"
     ]
    }
   ],
   "source": [
    "muestras=conjunto_datos_entradasA.shape[0]\n",
    "# veamos=idea.reshape(idea.shape[0],175, 20)\n",
    "\n",
    "\n",
    "veamos2=np.zeros([muestras,20,175])\n",
    "veamos2_3=np.zeros([muestras,20,525])\n",
    "sector2A=np.zeros([muestras,20,img_cols])\n",
    "sector2B=np.zeros([muestras,20,img_cols])\n",
    "veamos3=np.zeros([muestras,175])\n",
    "# for i in range(idea.shape[0]):\n",
    "for i in range(muestras):\n",
    "    veamos2[i]=conjunto_datos_entradasA[i]\n",
    "    veamos3[i]=np.sum(veamos2[i], axis=0)\n",
    "    indice=np.argmax(veamos3[i], axis=0)\n",
    "    veamos2_3[i]=np.concatenate((veamos2[i],veamos2[i],veamos2[i]),axis=1) \n",
    "    indice_inferior=int(indice-((img_cols-1)/2)+175)\n",
    "    indice_superior=int(indice+((img_cols+1)/2)+175)\n",
    "    sector2A[i]=veamos2_3[i,:,indice_inferior:indice_superior]\n",
    "for i in range(muestras):\n",
    "    veamos2[i]=conjunto_datos_entradasB[i]\n",
    "    veamos3[i]=np.sum(veamos2[i], axis=0)\n",
    "    indice=np.argmax(veamos3[i], axis=0)\n",
    "    veamos2_3[i]=np.concatenate((veamos2[i],veamos2[i],veamos2[i]),axis=1) \n",
    "    indice_inferior=int(indice-((img_cols-1)/2)+175)\n",
    "    indice_superior=int(indice+((img_cols+1)/2)+175)\n",
    "    sector2B[i]=veamos2_3[i,:,indice_inferior:indice_superior]    \n",
    "\n",
    "print('sector A shape:', sector2A.shape)\n",
    "conjunto_datos_nuevoA=sector2A.reshape(sector2A.shape[0], img_rows*img_cols)\n",
    "print('conjunto_datos_nuevo A:', conjunto_datos_nuevoA.shape)\n",
    "\n",
    "print('sector B shape:', sector2B.shape)\n",
    "conjunto_datos_nuevoB=sector2B.reshape(sector2B.shape[0], img_rows*img_cols)\n",
    "print('conjunto_datos_nuevo B:', conjunto_datos_nuevoB.shape)"
   ]
  },
  {
   "cell_type": "code",
   "execution_count": 9,
   "metadata": {},
   "outputs": [
    {
     "data": {
      "image/png": "[encoded data removed]",
      "text/plain": [
       "<Figure size 432x288 with 1 Axes>"
      ]
     },
     "metadata": {
      "needs_background": "light"
     },
     "output_type": "display_data"
    },
    {
     "name": "stdout",
     "output_type": "stream",
     "text": [
      "-134.958529690526\n"
     ]
    },
    {
     "data": {
      "image/png": "[encoded data removed]",
      "text/plain": [
       "<Figure size 432x288 with 1 Axes>"
      ]
     },
     "metadata": {
      "needs_background": "light"
     },
     "output_type": "display_data"
    },
    {
     "name": "stdout",
     "output_type": "stream",
     "text": [
      "29.844130523415945\n"
     ]
    },
    {
     "data": {
      "image/png": "[encoded data removed]",
      "text/plain": [
       "<Figure size 432x288 with 1 Axes>"
      ]
     },
     "metadata": {
      "needs_background": "light"
     },
     "output_type": "display_data"
    },
    {
     "name": "stdout",
     "output_type": "stream",
     "text": [
      "-19.395014937798578\n"
     ]
    },
    {
     "data": {
      "image/png": "[encoded data removed]",
      "text/plain": [
       "<Figure size 432x288 with 1 Axes>"
      ]
     },
     "metadata": {
      "needs_background": "light"
     },
     "output_type": "display_data"
    },
    {
     "name": "stdout",
     "output_type": "stream",
     "text": [
      "130.2927668024486\n"
     ]
    },
    {
     "data": {
      "image/png": "[encoded data removed]",
      "text/plain": [
       "<Figure size 432x288 with 1 Axes>"
      ]
     },
     "metadata": {
      "needs_background": "light"
     },
     "output_type": "display_data"
    },
    {
     "name": "stdout",
     "output_type": "stream",
     "text": [
      "155.39107416232588\n"
     ]
    },
    {
     "data": {
      "image/png": "[encoded data removed]",
      "text/plain": [
       "<Figure size 432x288 with 1 Axes>"
      ]
     },
     "metadata": {
      "needs_background": "light"
     },
     "output_type": "display_data"
    },
    {
     "name": "stdout",
     "output_type": "stream",
     "text": [
      "-38.300799840078724\n"
     ]
    },
    {
     "data": {
      "image/png": "[encoded data removed]",
      "text/plain": [
       "<Figure size 432x288 with 1 Axes>"
      ]
     },
     "metadata": {
      "needs_background": "light"
     },
     "output_type": "display_data"
    },
    {
     "name": "stdout",
     "output_type": "stream",
     "text": [
      "-177.7960323322737\n"
     ]
    },
    {
     "data": {
      "image/png": "[encoded data removed]",
      "text/plain": [
       "<Figure size 432x288 with 1 Axes>"
      ]
     },
     "metadata": {
      "needs_background": "light"
     },
     "output_type": "display_data"
    },
    {
     "name": "stdout",
     "output_type": "stream",
     "text": [
      "-177.71822122120116\n"
     ]
    },
    {
     "data": {
      "image/png": "[encoded data removed]",
      "text/plain": [
       "<Figure size 432x288 with 1 Axes>"
      ]
     },
     "metadata": {
      "needs_background": "light"
     },
     "output_type": "display_data"
    },
    {
     "name": "stdout",
     "output_type": "stream",
     "text": [
      "-1.4759675249715638\n"
     ]
    },
    {
     "data": {
      "image/png": "[encoded data removed]",
      "text/plain": [
       "<Figure size 432x288 with 1 Axes>"
      ]
     },
     "metadata": {
      "needs_background": "light"
     },
     "output_type": "display_data"
    },
    {
     "name": "stdout",
     "output_type": "stream",
     "text": [
      "93.22332370133361\n"
     ]
    }
   ],
   "source": [
    "for i in range(1,11):\n",
    "    idea=np.random.randint(1,conjunto_datos_entradasB.shape[0])\n",
    "    plt.imshow(conjunto_datos_entradasB[idea], cmap='viridis')\n",
    "    plt.show()\n",
    "    print(conjunto_datos_salidas[idea,1]*180/np.pi)"
   ]
  },
  {
   "cell_type": "code",
   "execution_count": 10,
   "metadata": {},
   "outputs": [
    {
     "data": {
      "image/png": "[encoded data removed]",
      "text/plain": [
       "<Figure size 576x1440 with 10 Axes>"
      ]
     },
     "metadata": {
      "needs_background": "light"
     },
     "output_type": "display_data"
    }
   ],
   "source": [
    "n = 5  # how many digits we will display\n",
    "\n",
    "fig = plt.figure(figsize=(8,20))\n",
    "\n",
    "for i in range(n):\n",
    "    # display original\n",
    "    ideas=np.random.randint(1,muestras)\n",
    "    ax = fig.add_subplot(n, 2, (i)*2+1)\n",
    "    plt.imshow(sector2A[ideas], cmap='viridis')\n",
    "    plt.viridis()\n",
    "\n",
    "    # display reconstruction\n",
    "    ax = fig.add_subplot(n, 2, (i)*2+2)\n",
    "    plt.imshow(sector2B[ideas], cmap='viridis')\n",
    "    plt.viridis()\n",
    "\n",
    "plt.show()\n",
    "\n",
    "# print(x_test[idea])\n",
    "# print(decoded_imgs[idea])\n",
    "# print(decoded_imgs_scaled[idea])\n"
   ]
  },
  {
   "cell_type": "code",
   "execution_count": 11,
   "metadata": {},
   "outputs": [
    {
     "name": "stdout",
     "output_type": "stream",
     "text": [
      "(68002, 823)\n",
      "40801\n",
      "13600\n",
      "13601\n",
      "(5161, 820)\n",
      "(2890, 820)\n",
      "(2197, 820)\n",
      "(1718, 820)\n",
      "(1635, 820)\n"
     ]
    }
   ],
   "source": [
    "numero_muestras=muestras\n",
    "tr_size=60\n",
    "val_size=20\n",
    "test_size=100-val_size-tr_size\n",
    "conjunto_datos_nuevo2=np.concatenate((conjunto_datos_salidas,conjunto_datos_nuevoB), axis=1)\n",
    "print (conjunto_datos_nuevo2.shape)\n",
    "tamanyo_tr=floor(tr_size*numero_muestras/100)\n",
    "tamanyo_val=floor(val_size*numero_muestras/100)\n",
    "tamanyo_test=numero_muestras-tamanyo_tr-tamanyo_val\n",
    "print(tamanyo_tr)\n",
    "print(tamanyo_val)\n",
    "print(tamanyo_test)\n",
    "\n",
    "\n",
    "XY_test=conjunto_datos_nuevo2[tamanyo_tr+tamanyo_val:numero_muestras,:]\n",
    "\n",
    "\n",
    "XY_test_bin0=XY_test[np.where((XY_test[:,0]>=164.9999) * (XY_test[:,0]<171.000))]\n",
    "XY_test_bin1=XY_test[np.where((XY_test[:,0]>=171.000) * (XY_test[:,0]<177.000))]\n",
    "XY_test_bin2=XY_test[np.where((XY_test[:,0]>=177.000) * (XY_test[:,0]<183.0000))]\n",
    "XY_test_bin3=XY_test[np.where((XY_test[:,0]>=183.000) * (XY_test[:,0]<189.0000))]\n",
    "XY_test_bin4=XY_test[np.where((XY_test[:,0]>=189.0000))]\n",
    "\n",
    "X_train=conjunto_datos_nuevo2[:tamanyo_tr,3:]\n",
    "X_val=conjunto_datos_nuevo2[tamanyo_tr:tamanyo_tr+tamanyo_val,3:]\n",
    "X_test=conjunto_datos_nuevo2[tamanyo_tr+tamanyo_val:numero_muestras,3:]\n",
    "\n",
    "X_test_bin0=XY_test_bin0[:,3:]\n",
    "Y_test_bin0=XY_test_bin0[:,0]\n",
    "print(X_test_bin0.shape)\n",
    "X_test_bin1=XY_test_bin1[:,3:]\n",
    "Y_test_bin1=XY_test_bin1[:,0]\n",
    "print(X_test_bin1.shape)\n",
    "X_test_bin2=XY_test_bin2[:,3:]\n",
    "Y_test_bin2=XY_test_bin2[:,0]\n",
    "print(X_test_bin2.shape)\n",
    "X_test_bin3=XY_test_bin3[:,3:]\n",
    "Y_test_bin3=XY_test_bin3[:,0]\n",
    "print(X_test_bin3.shape)\n",
    "X_test_bin4=XY_test_bin4[:,3:]\n",
    "Y_test_bin4=XY_test_bin4[:,0]\n",
    "print(X_test_bin4.shape)\n",
    "\n",
    "\n",
    "\n",
    "Y_train=conjunto_datos_nuevo2[:tamanyo_tr,0] #elijo la coordenada radius\n",
    "Y_val=conjunto_datos_nuevo2[tamanyo_tr:tamanyo_tr+tamanyo_val,0] #elijo la corrdenada radius\n",
    "Y_test=conjunto_datos_nuevo2[tamanyo_tr+tamanyo_val:numero_muestras,0] #elijo la corrdenada radius"
   ]
  },
  {
   "cell_type": "code",
   "execution_count": 12,
   "metadata": {},
   "outputs": [],
   "source": [
    "\n",
    "\n",
    "X_train = X_train.reshape(X_train.shape[0], img_rows, img_cols,1)\n",
    "X_val = X_val.reshape(X_val.shape[0], img_rows, img_cols,1)\n",
    "X_test = X_test.reshape(X_test.shape[0], img_rows, img_cols,1)\n",
    "\n",
    "X_test_bin0 = X_test_bin0.reshape(X_test_bin0.shape[0], img_rows, img_cols,1)\n",
    "X_test_bin1 = X_test_bin1.reshape(X_test_bin1.shape[0], img_rows, img_cols,1)\n",
    "X_test_bin2 = X_test_bin2.reshape(X_test_bin2.shape[0], img_rows, img_cols,1)\n",
    "X_test_bin3 = X_test_bin3.reshape(X_test_bin3.shape[0], img_rows, img_cols,1)\n",
    "X_test_bin4 = X_test_bin4.reshape(X_test_bin4.shape[0], img_rows, img_cols,1)\n",
    "\n",
    "input_shape = (img_rows, img_cols,1)\n",
    "#input_shape=input_shape.astype('int32')"
   ]
  },
  {
   "cell_type": "code",
   "execution_count": 13,
   "metadata": {},
   "outputs": [
    {
     "name": "stdout",
     "output_type": "stream",
     "text": [
      "X_train shape: (40801, 20, 41, 1)\n",
      "40801 train samples\n",
      "13600 validation samples\n",
      "13601 test samples\n"
     ]
    }
   ],
   "source": [
    "X_train = X_train.astype('float32')\n",
    "X_val= X_val.astype('float32')\n",
    "X_test = X_test.astype('float32')\n",
    "\n",
    "print('X_train shape:', X_train.shape)\n",
    "print(X_train.shape[0], 'train samples')\n",
    "print(X_val.shape[0], 'validation samples')\n",
    "print(X_test.shape[0], 'test samples')"
   ]
  },
  {
   "cell_type": "markdown",
   "metadata": {},
   "source": [
    "Display 20 random training images using image"
   ]
  },
  {
   "cell_type": "code",
   "execution_count": 14,
   "metadata": {},
   "outputs": [
    {
     "data": {
      "image/png": "[encoded data removed]",
      "text/plain": [
       "<Figure size 432x288 with 1 Axes>"
      ]
     },
     "metadata": {
      "needs_background": "light"
     },
     "output_type": "display_data"
    },
    {
     "data": {
      "image/png": "[encoded data removed]",
      "text/plain": [
       "<Figure size 432x288 with 1 Axes>"
      ]
     },
     "metadata": {
      "needs_background": "light"
     },
     "output_type": "display_data"
    },
    {
     "data": {
      "image/png": "[encoded data removed]",
      "text/plain": [
       "<Figure size 432x288 with 1 Axes>"
      ]
     },
     "metadata": {
      "needs_background": "light"
     },
     "output_type": "display_data"
    },
    {
     "data": {
      "image/png": "[encoded data removed]",
      "text/plain": [
       "<Figure size 432x288 with 1 Axes>"
      ]
     },
     "metadata": {
      "needs_background": "light"
     },
     "output_type": "display_data"
    }
   ],
   "source": [
    "# convert class vectors to binary class matrices\n",
    "#Y_train = np_utils.to_categorical(y_train, nb_classes)\n",
    "#Y_test = np_utils.to_categorical(y_test, nb_classes)\n",
    "for i in range(1,5):\n",
    "    idea=np.random.randint(1,X_train.shape[0])\n",
    "    plt.imshow(np.reshape(X_train[idea], [img_rows, img_cols]), cmap='viridis')\n",
    "    plt.show()"
   ]
  },
  {
   "cell_type": "markdown",
   "metadata": {},
   "source": [
    "## Build the CNN. "
   ]
  },
  {
   "cell_type": "code",
   "execution_count": 42,
   "metadata": {},
   "outputs": [],
   "source": [
    "model = Sequential()\n",
    "\n",
    "model.add(Conv2D(8, kernel_size=kernel_size,\n",
    "                        padding='same',\n",
    "                        input_shape=(img_rows,img_cols,1)))\n",
    "model.add(BatchNormalization())\n",
    "model.add(Activation('relu'))\n",
    "model.add(MaxPooling2D(pool_size=pool_size))\n",
    "\n",
    "model.add(Conv2D(16, kernel_size, padding='same'))\n",
    "model.add(BatchNormalization())\n",
    "model.add(Activation('relu'))\n",
    "model.add(MaxPooling2D(pool_size=pool_size))\n",
    "\n",
    "model.add(Conv2D(32, kernel_size, padding='same'))\n",
    "model.add(BatchNormalization())\n",
    "model.add(Activation('relu'))\n",
    "\n",
    "model.add(Conv2D(64, kernel_size, padding='same'))\n",
    "#model.add(BatchNormalization())\n",
    "model.add(Activation('relu'))\n",
    "\n",
    "model.add(Conv2D(128, kernel_size, padding='same'))\n",
    "model.add(BatchNormalization())\n",
    "model.add(Activation('relu'))\n",
    "\n",
    "model.add(Dropout(0.2))\n",
    "model.add(Flatten())\n",
    "model.add(Dense(1))\n",
    "\n",
    "dt = datetime.now().replace(second=0, microsecond=0)\n",
    "experimento=\"CNN_kernel_{}x{}_con_batchnormalization_sector_{}x{}x{}\".format(kernel_size[0],kernel_size[1],img_rows,img_cols,1)\n",
    "algoritmo='Nadam'\n",
    "optimizador=Nadam(beta_1=0.9, beta_2=0.999)\n",
    "\n",
    "tensorboard=TensorBoard(log_dir=\"../logs/defs/{}{}{}\".format(experimento,algoritmo,dt))\n",
    "model_check=ModelCheckpoint('../redes_CNN_R/models_best/CNN_regression_R_{}_{}_{}_{}_{}.h5'.format(nb_epoch,batch_size,experimento,algoritmo,dt), monitor='val_loss', verbose=1, save_best_only=True, save_weights_only=False, mode='min', period=1)\n",
    "early_stop=EarlyStopping(monitor='val_loss', min_delta=0, patience=500, verbose=2, mode='auto', baseline=None)\n",
    "model.compile(loss='mean_squared_error',\n",
    "              optimizer=optimizador)\n",
    "\n"
   ]
  },
  {
   "cell_type": "markdown",
   "metadata": {},
   "source": [
    "Show a summary of the model parameters. "
   ]
  },
  {
   "cell_type": "code",
   "execution_count": 38,
   "metadata": {
    "scrolled": true
   },
   "outputs": [
    {
     "name": "stdout",
     "output_type": "stream",
     "text": [
      "_________________________________________________________________\n",
      "Layer (type)                 Output Shape              Param #   \n",
      "=================================================================\n",
      "conv2d_31 (Conv2D)           (None, 20, 41, 8)         136       \n",
      "_________________________________________________________________\n",
      "batch_normalization_25 (Batc (None, 20, 41, 8)         32        \n",
      "_________________________________________________________________\n",
      "activation_31 (Activation)   (None, 20, 41, 8)         0         \n",
      "_________________________________________________________________\n",
      "max_pooling2d_13 (MaxPooling (None, 10, 20, 8)         0         \n",
      "_________________________________________________________________\n",
      "conv2d_32 (Conv2D)           (None, 10, 20, 16)        2064      \n",
      "_________________________________________________________________\n",
      "batch_normalization_26 (Batc (None, 10, 20, 16)        64        \n",
      "_________________________________________________________________\n",
      "activation_32 (Activation)   (None, 10, 20, 16)        0         \n",
      "_________________________________________________________________\n",
      "max_pooling2d_14 (MaxPooling (None, 5, 10, 16)         0         \n",
      "_________________________________________________________________\n",
      "conv2d_33 (Conv2D)           (None, 5, 10, 32)         8224      \n",
      "_________________________________________________________________\n",
      "batch_normalization_27 (Batc (None, 5, 10, 32)         128       \n",
      "_________________________________________________________________\n",
      "activation_33 (Activation)   (None, 5, 10, 32)         0         \n",
      "_________________________________________________________________\n",
      "conv2d_34 (Conv2D)           (None, 5, 10, 64)         32832     \n",
      "_________________________________________________________________\n",
      "activation_34 (Activation)   (None, 5, 10, 64)         0         \n",
      "_________________________________________________________________\n",
      "conv2d_35 (Conv2D)           (None, 5, 10, 128)        131200    \n",
      "_________________________________________________________________\n",
      "batch_normalization_28 (Batc (None, 5, 10, 128)        512       \n",
      "_________________________________________________________________\n",
      "activation_35 (Activation)   (None, 5, 10, 128)        0         \n",
      "_________________________________________________________________\n",
      "dropout_7 (Dropout)          (None, 5, 10, 128)        0         \n",
      "_________________________________________________________________\n",
      "flatten_7 (Flatten)          (None, 6400)              0         \n",
      "_________________________________________________________________\n",
      "dense_7 (Dense)              (None, 1)                 6401      \n",
      "=================================================================\n",
      "Total params: 181,593\n",
      "Trainable params: 181,225\n",
      "Non-trainable params: 368\n",
      "_________________________________________________________________\n"
     ]
    }
   ],
   "source": [
    "model.summary()"
   ]
  },
  {
   "cell_type": "markdown",
   "metadata": {},
   "source": [
    "And now train the model and evaluate on the test set. "
   ]
  },
  {
   "cell_type": "code",
   "execution_count": null,
   "metadata": {},
   "outputs": [
    {
     "name": "stdout",
     "output_type": "stream",
     "text": [
      "Train on 40801 samples, validate on 13600 samples\n",
      "Epoch 1/2000\n",
      "40801/40801 [==============================] - 4s 87us/step - loss: 1489.0768 - val_loss: 237.4563\n",
      "\n",
      "Epoch 00001: val_loss improved from inf to 237.45630, saving model to ../redes_CNN_R/models_best/CNN_regression_R_2000_250_CNN_kernel_4x4_con_batchnormalization_sector_20x41x1_Nadam_2019-12-16 09:31:00.h5\n",
      "Epoch 2/2000\n",
      "40801/40801 [==============================] - 2s 59us/step - loss: 25.4743 - val_loss: 48.2116\n",
      "\n",
      "Epoch 00002: val_loss improved from 237.45630 to 48.21165, saving model to ../redes_CNN_R/models_best/CNN_regression_R_2000_250_CNN_kernel_4x4_con_batchnormalization_sector_20x41x1_Nadam_2019-12-16 09:31:00.h5\n",
      "Epoch 3/2000\n",
      "40801/40801 [==============================] - 2s 59us/step - loss: 22.7655 - val_loss: 94.5402\n",
      "\n",
      "Epoch 00003: val_loss did not improve from 48.21165\n",
      "Epoch 4/2000\n",
      "40801/40801 [==============================] - 2s 59us/step - loss: 21.7138 - val_loss: 67.5281\n",
      "\n",
      "Epoch 00004: val_loss did not improve from 48.21165\n",
      "Epoch 5/2000\n",
      "40801/40801 [==============================] - 2s 57us/step - loss: 20.6565 - val_loss: 57.0726\n",
      "\n",
      "Epoch 00005: val_loss did not improve from 48.21165\n",
      "Epoch 6/2000\n",
      "40801/40801 [==============================] - 2s 56us/step - loss: 20.0848 - val_loss: 82.5594\n",
      "\n",
      "Epoch 00006: val_loss did not improve from 48.21165\n",
      "Epoch 7/2000\n",
      "40801/40801 [==============================] - 2s 59us/step - loss: 19.0541 - val_loss: 51.6885\n",
      "\n",
      "Epoch 00007: val_loss did not improve from 48.21165\n",
      "Epoch 8/2000\n",
      "40801/40801 [==============================] - 2s 58us/step - loss: 18.8091 - val_loss: 24.0213\n",
      "\n",
      "Epoch 00008: val_loss improved from 48.21165 to 24.02129, saving model to ../redes_CNN_R/models_best/CNN_regression_R_2000_250_CNN_kernel_4x4_con_batchnormalization_sector_20x41x1_Nadam_2019-12-16 09:31:00.h5\n",
      "Epoch 9/2000\n",
      "40801/40801 [==============================] - 2s 56us/step - loss: 18.5806 - val_loss: 32.5210\n",
      "\n",
      "Epoch 00009: val_loss did not improve from 24.02129\n",
      "Epoch 10/2000\n",
      "40801/40801 [==============================] - 2s 58us/step - loss: 18.2337 - val_loss: 31.9422\n",
      "\n",
      "Epoch 00010: val_loss did not improve from 24.02129\n",
      "Epoch 11/2000\n",
      "40801/40801 [==============================] - 2s 57us/step - loss: 17.7064 - val_loss: 62.2459\n",
      "\n",
      "Epoch 00011: val_loss did not improve from 24.02129\n",
      "Epoch 12/2000\n",
      "40801/40801 [==============================] - 2s 57us/step - loss: 21.0080 - val_loss: 25.9652\n",
      "\n",
      "Epoch 00012: val_loss did not improve from 24.02129\n",
      "Epoch 13/2000\n",
      "40801/40801 [==============================] - 2s 57us/step - loss: 17.1432 - val_loss: 20.7808\n",
      "\n",
      "Epoch 00013: val_loss improved from 24.02129 to 20.78085, saving model to ../redes_CNN_R/models_best/CNN_regression_R_2000_250_CNN_kernel_4x4_con_batchnormalization_sector_20x41x1_Nadam_2019-12-16 09:31:00.h5\n",
      "Epoch 14/2000\n",
      "40801/40801 [==============================] - 2s 58us/step - loss: 17.3024 - val_loss: 16.1189\n",
      "\n",
      "Epoch 00014: val_loss improved from 20.78085 to 16.11887, saving model to ../redes_CNN_R/models_best/CNN_regression_R_2000_250_CNN_kernel_4x4_con_batchnormalization_sector_20x41x1_Nadam_2019-12-16 09:31:00.h5\n",
      "Epoch 15/2000\n",
      "40801/40801 [==============================] - 2s 57us/step - loss: 16.9330 - val_loss: 17.1801\n",
      "\n",
      "Epoch 00015: val_loss did not improve from 16.11887\n",
      "Epoch 16/2000\n",
      "40801/40801 [==============================] - 2s 57us/step - loss: 17.3204 - val_loss: 20.9589\n",
      "\n",
      "Epoch 00016: val_loss did not improve from 16.11887\n",
      "Epoch 17/2000\n",
      "40801/40801 [==============================] - 2s 56us/step - loss: 16.7641 - val_loss: 59.3048\n",
      "\n",
      "Epoch 00017: val_loss did not improve from 16.11887\n",
      "Epoch 18/2000\n",
      "40801/40801 [==============================] - 2s 54us/step - loss: 16.7885 - val_loss: 19.7818\n",
      "\n",
      "Epoch 00018: val_loss did not improve from 16.11887\n",
      "Epoch 19/2000\n",
      "40801/40801 [==============================] - 2s 58us/step - loss: 16.4960 - val_loss: 72.9458\n",
      "\n",
      "Epoch 00019: val_loss did not improve from 16.11887\n",
      "Epoch 20/2000\n",
      "40801/40801 [==============================] - 2s 56us/step - loss: 16.4455 - val_loss: 25.6430\n",
      "\n",
      "Epoch 00020: val_loss did not improve from 16.11887\n",
      "Epoch 21/2000\n",
      "40801/40801 [==============================] - 2s 59us/step - loss: 16.3675 - val_loss: 21.5251\n",
      "\n",
      "Epoch 00021: val_loss did not improve from 16.11887\n",
      "Epoch 22/2000\n",
      "40801/40801 [==============================] - 2s 58us/step - loss: 16.4462 - val_loss: 57.3105\n",
      "\n",
      "Epoch 00022: val_loss did not improve from 16.11887\n",
      "Epoch 23/2000\n",
      "40801/40801 [==============================] - 2s 57us/step - loss: 16.1776 - val_loss: 47.3151\n",
      "\n",
      "Epoch 00023: val_loss did not improve from 16.11887\n",
      "Epoch 24/2000\n",
      "40801/40801 [==============================] - 2s 58us/step - loss: 16.0166 - val_loss: 16.2227\n",
      "\n",
      "Epoch 00024: val_loss did not improve from 16.11887\n",
      "Epoch 25/2000\n",
      "40801/40801 [==============================] - 2s 56us/step - loss: 15.6232 - val_loss: 15.0920\n",
      "\n",
      "Epoch 00025: val_loss improved from 16.11887 to 15.09200, saving model to ../redes_CNN_R/models_best/CNN_regression_R_2000_250_CNN_kernel_4x4_con_batchnormalization_sector_20x41x1_Nadam_2019-12-16 09:31:00.h5\n",
      "Epoch 26/2000\n",
      "40801/40801 [==============================] - 2s 57us/step - loss: 16.3523 - val_loss: 47.7632\n",
      "\n",
      "Epoch 00026: val_loss did not improve from 15.09200\n",
      "Epoch 27/2000\n",
      "40801/40801 [==============================] - 2s 56us/step - loss: 15.8703 - val_loss: 16.5226\n",
      "\n",
      "Epoch 00027: val_loss did not improve from 15.09200\n",
      "Epoch 28/2000\n",
      "40801/40801 [==============================] - 2s 58us/step - loss: 15.6462 - val_loss: 14.9439\n",
      "\n",
      "Epoch 00028: val_loss improved from 15.09200 to 14.94394, saving model to ../redes_CNN_R/models_best/CNN_regression_R_2000_250_CNN_kernel_4x4_con_batchnormalization_sector_20x41x1_Nadam_2019-12-16 09:31:00.h5\n",
      "Epoch 29/2000\n",
      "40801/40801 [==============================] - 2s 59us/step - loss: 15.5639 - val_loss: 57.1315\n",
      "\n",
      "Epoch 00029: val_loss did not improve from 14.94394\n",
      "Epoch 30/2000\n",
      "40801/40801 [==============================] - 2s 57us/step - loss: 15.5587 - val_loss: 37.0129\n",
      "\n",
      "Epoch 00030: val_loss did not improve from 14.94394\n",
      "Epoch 31/2000\n",
      "40801/40801 [==============================] - 2s 56us/step - loss: 15.5737 - val_loss: 12.1663\n",
      "\n",
      "Epoch 00031: val_loss improved from 14.94394 to 12.16628, saving model to ../redes_CNN_R/models_best/CNN_regression_R_2000_250_CNN_kernel_4x4_con_batchnormalization_sector_20x41x1_Nadam_2019-12-16 09:31:00.h5\n",
      "Epoch 32/2000\n",
      "40801/40801 [==============================] - 2s 56us/step - loss: 15.1636 - val_loss: 12.3873\n",
      "\n",
      "Epoch 00032: val_loss did not improve from 12.16628\n",
      "Epoch 33/2000\n",
      "40801/40801 [==============================] - 2s 57us/step - loss: 15.6619 - val_loss: 48.5157\n",
      "\n",
      "Epoch 00033: val_loss did not improve from 12.16628\n",
      "Epoch 34/2000\n",
      "40801/40801 [==============================] - 3s 63us/step - loss: 14.8616 - val_loss: 13.3488\n",
      "\n",
      "Epoch 00034: val_loss did not improve from 12.16628\n",
      "Epoch 35/2000\n",
      "40801/40801 [==============================] - 3s 62us/step - loss: 15.3193 - val_loss: 31.7354\n",
      "\n",
      "Epoch 00035: val_loss did not improve from 12.16628\n",
      "Epoch 36/2000\n",
      "40801/40801 [==============================] - 2s 59us/step - loss: 14.6113 - val_loss: 14.1680\n",
      "\n",
      "Epoch 00036: val_loss did not improve from 12.16628\n",
      "Epoch 37/2000\n",
      "40801/40801 [==============================] - 2s 58us/step - loss: 14.2806 - val_loss: 13.4483\n",
      "\n",
      "Epoch 00037: val_loss did not improve from 12.16628\n",
      "Epoch 38/2000\n",
      "40801/40801 [==============================] - 2s 59us/step - loss: 14.3808 - val_loss: 13.1214\n",
      "\n",
      "Epoch 00038: val_loss did not improve from 12.16628\n",
      "Epoch 39/2000\n",
      "40801/40801 [==============================] - 2s 58us/step - loss: 14.5396 - val_loss: 17.6295\n",
      "\n",
      "Epoch 00039: val_loss did not improve from 12.16628\n",
      "Epoch 40/2000\n",
      "40801/40801 [==============================] - 2s 59us/step - loss: 13.8838 - val_loss: 27.2939\n",
      "\n",
      "Epoch 00040: val_loss did not improve from 12.16628\n",
      "Epoch 41/2000\n",
      "40801/40801 [==============================] - 2s 56us/step - loss: 14.0419 - val_loss: 22.2903\n",
      "\n",
      "Epoch 00041: val_loss did not improve from 12.16628\n",
      "Epoch 42/2000\n",
      "40801/40801 [==============================] - 2s 56us/step - loss: 14.0072 - val_loss: 12.5474\n",
      "\n",
      "Epoch 00042: val_loss did not improve from 12.16628\n",
      "Epoch 43/2000\n",
      "40801/40801 [==============================] - 2s 58us/step - loss: 13.8052 - val_loss: 18.3365\n",
      "\n",
      "Epoch 00043: val_loss did not improve from 12.16628\n",
      "Epoch 44/2000\n",
      "40801/40801 [==============================] - 2s 60us/step - loss: 13.7534 - val_loss: 18.7618\n",
      "\n",
      "Epoch 00044: val_loss did not improve from 12.16628\n",
      "Epoch 45/2000\n",
      "40801/40801 [==============================] - 2s 56us/step - loss: 13.5873 - val_loss: 20.5825\n",
      "\n",
      "Epoch 00045: val_loss did not improve from 12.16628\n",
      "Epoch 46/2000\n",
      "40801/40801 [==============================] - 2s 57us/step - loss: 13.4833 - val_loss: 13.0184\n",
      "\n",
      "Epoch 00046: val_loss did not improve from 12.16628\n",
      "Epoch 47/2000\n",
      "40801/40801 [==============================] - 3s 62us/step - loss: 13.4513 - val_loss: 13.9264\n",
      "\n",
      "Epoch 00047: val_loss did not improve from 12.16628\n",
      "Epoch 48/2000\n",
      "40801/40801 [==============================] - 2s 57us/step - loss: 13.3541 - val_loss: 14.8306\n",
      "\n",
      "Epoch 00048: val_loss did not improve from 12.16628\n",
      "Epoch 49/2000\n",
      "40801/40801 [==============================] - 2s 58us/step - loss: 13.6658 - val_loss: 20.6641\n",
      "\n",
      "Epoch 00049: val_loss did not improve from 12.16628\n",
      "Epoch 50/2000\n",
      "40801/40801 [==============================] - 2s 58us/step - loss: 13.1604 - val_loss: 11.8071\n",
      "\n",
      "Epoch 00050: val_loss improved from 12.16628 to 11.80710, saving model to ../redes_CNN_R/models_best/CNN_regression_R_2000_250_CNN_kernel_4x4_con_batchnormalization_sector_20x41x1_Nadam_2019-12-16 09:31:00.h5\n",
      "Epoch 51/2000\n",
      "40801/40801 [==============================] - 2s 56us/step - loss: 12.9249 - val_loss: 30.7072\n",
      "\n",
      "Epoch 00051: val_loss did not improve from 11.80710\n",
      "Epoch 52/2000\n",
      "40801/40801 [==============================] - 2s 59us/step - loss: 13.1072 - val_loss: 14.4281\n",
      "\n",
      "Epoch 00052: val_loss did not improve from 11.80710\n",
      "Epoch 53/2000\n",
      "40801/40801 [==============================] - 2s 54us/step - loss: 12.4920 - val_loss: 10.9482\n",
      "\n",
      "Epoch 00053: val_loss improved from 11.80710 to 10.94822, saving model to ../redes_CNN_R/models_best/CNN_regression_R_2000_250_CNN_kernel_4x4_con_batchnormalization_sector_20x41x1_Nadam_2019-12-16 09:31:00.h5\n",
      "Epoch 54/2000\n",
      "40801/40801 [==============================] - 2s 57us/step - loss: 12.5465 - val_loss: 18.3046\n",
      "\n",
      "Epoch 00054: val_loss did not improve from 10.94822\n",
      "Epoch 55/2000\n",
      "40801/40801 [==============================] - 2s 56us/step - loss: 12.9244 - val_loss: 44.1247\n",
      "\n",
      "Epoch 00055: val_loss did not improve from 10.94822\n",
      "Epoch 56/2000\n",
      "40801/40801 [==============================] - 2s 59us/step - loss: 12.6998 - val_loss: 16.7922\n",
      "\n",
      "Epoch 00056: val_loss did not improve from 10.94822\n",
      "Epoch 57/2000\n",
      "40801/40801 [==============================] - 2s 58us/step - loss: 12.3131 - val_loss: 15.2850\n",
      "\n",
      "Epoch 00057: val_loss did not improve from 10.94822\n",
      "Epoch 58/2000\n",
      "40801/40801 [==============================] - 2s 56us/step - loss: 12.1282 - val_loss: 29.7861\n",
      "\n",
      "Epoch 00058: val_loss did not improve from 10.94822\n",
      "Epoch 59/2000\n",
      "40801/40801 [==============================] - 2s 58us/step - loss: 12.4867 - val_loss: 17.6955\n",
      "\n",
      "Epoch 00059: val_loss did not improve from 10.94822\n",
      "Epoch 60/2000\n",
      "40801/40801 [==============================] - 2s 55us/step - loss: 11.8566 - val_loss: 53.1198\n",
      "\n",
      "Epoch 00060: val_loss did not improve from 10.94822\n",
      "Epoch 61/2000\n",
      "40801/40801 [==============================] - 2s 57us/step - loss: 12.0513 - val_loss: 14.4021\n",
      "\n",
      "Epoch 00061: val_loss did not improve from 10.94822\n",
      "Epoch 62/2000\n",
      "40801/40801 [==============================] - 2s 58us/step - loss: 11.9003 - val_loss: 19.4609\n",
      "\n",
      "Epoch 00062: val_loss did not improve from 10.94822\n",
      "Epoch 63/2000\n",
      "40801/40801 [==============================] - 2s 55us/step - loss: 12.3006 - val_loss: 74.5212\n",
      "\n",
      "Epoch 00063: val_loss did not improve from 10.94822\n",
      "Epoch 64/2000\n",
      "40801/40801 [==============================] - 2s 56us/step - loss: 11.8830 - val_loss: 25.1304\n",
      "\n",
      "Epoch 00064: val_loss did not improve from 10.94822\n",
      "Epoch 65/2000\n",
      "40801/40801 [==============================] - 2s 59us/step - loss: 11.4941 - val_loss: 15.4239\n",
      "\n",
      "Epoch 00065: val_loss did not improve from 10.94822\n",
      "Epoch 66/2000\n",
      "40801/40801 [==============================] - 2s 58us/step - loss: 11.4462 - val_loss: 13.1763\n",
      "\n",
      "Epoch 00066: val_loss did not improve from 10.94822\n",
      "Epoch 67/2000\n",
      "40801/40801 [==============================] - 2s 59us/step - loss: 11.6606 - val_loss: 18.9980\n",
      "\n",
      "Epoch 00067: val_loss did not improve from 10.94822\n",
      "Epoch 68/2000\n",
      "40801/40801 [==============================] - 2s 61us/step - loss: 11.5286 - val_loss: 19.9121\n",
      "\n",
      "Epoch 00068: val_loss did not improve from 10.94822\n",
      "Epoch 69/2000\n",
      "40801/40801 [==============================] - 2s 59us/step - loss: 11.4420 - val_loss: 15.9502\n",
      "\n",
      "Epoch 00069: val_loss did not improve from 10.94822\n",
      "Epoch 70/2000\n",
      "40801/40801 [==============================] - 2s 56us/step - loss: 11.7176 - val_loss: 15.3722\n",
      "\n",
      "Epoch 00070: val_loss did not improve from 10.94822\n",
      "Epoch 71/2000\n",
      "40801/40801 [==============================] - 2s 57us/step - loss: 11.2918 - val_loss: 11.8644\n",
      "\n",
      "Epoch 00071: val_loss did not improve from 10.94822\n",
      "Epoch 72/2000\n",
      "40801/40801 [==============================] - 2s 60us/step - loss: 10.9279 - val_loss: 26.0322\n",
      "\n",
      "Epoch 00072: val_loss did not improve from 10.94822\n",
      "Epoch 73/2000\n",
      "40801/40801 [==============================] - 2s 58us/step - loss: 10.7373 - val_loss: 18.2704\n",
      "\n",
      "Epoch 00073: val_loss did not improve from 10.94822\n",
      "Epoch 74/2000\n",
      "40801/40801 [==============================] - 2s 57us/step - loss: 10.8163 - val_loss: 12.8816\n",
      "\n",
      "Epoch 00074: val_loss did not improve from 10.94822\n",
      "Epoch 75/2000\n",
      "40801/40801 [==============================] - 2s 57us/step - loss: 10.8199 - val_loss: 14.2794\n",
      "\n",
      "Epoch 00075: val_loss did not improve from 10.94822\n",
      "Epoch 76/2000\n",
      "40801/40801 [==============================] - 2s 59us/step - loss: 10.8864 - val_loss: 20.7729\n",
      "\n",
      "Epoch 00076: val_loss did not improve from 10.94822\n",
      "Epoch 77/2000\n",
      "40801/40801 [==============================] - 2s 56us/step - loss: 10.3797 - val_loss: 11.1769\n",
      "\n",
      "Epoch 00077: val_loss did not improve from 10.94822\n",
      "Epoch 78/2000\n",
      "40801/40801 [==============================] - 2s 58us/step - loss: 10.9868 - val_loss: 26.6525\n",
      "\n",
      "Epoch 00078: val_loss did not improve from 10.94822\n",
      "Epoch 79/2000\n",
      "40801/40801 [==============================] - 2s 58us/step - loss: 10.2396 - val_loss: 12.1340\n",
      "\n",
      "Epoch 00079: val_loss did not improve from 10.94822\n",
      "Epoch 80/2000\n",
      "40801/40801 [==============================] - 2s 60us/step - loss: 10.1976 - val_loss: 39.3139\n",
      "\n",
      "Epoch 00080: val_loss did not improve from 10.94822\n",
      "Epoch 81/2000\n",
      "40801/40801 [==============================] - 2s 57us/step - loss: 10.3308 - val_loss: 16.5338\n",
      "\n",
      "Epoch 00081: val_loss did not improve from 10.94822\n",
      "Epoch 82/2000\n",
      "40801/40801 [==============================] - 2s 58us/step - loss: 10.1577 - val_loss: 75.5130\n",
      "\n",
      "Epoch 00082: val_loss did not improve from 10.94822\n",
      "Epoch 83/2000\n",
      "40801/40801 [==============================] - 2s 57us/step - loss: 10.0503 - val_loss: 21.7635\n",
      "\n",
      "Epoch 00083: val_loss did not improve from 10.94822\n",
      "Epoch 84/2000\n",
      "40801/40801 [==============================] - 2s 56us/step - loss: 10.0998 - val_loss: 29.0498\n",
      "\n",
      "Epoch 00084: val_loss did not improve from 10.94822\n",
      "Epoch 85/2000\n",
      "40801/40801 [==============================] - 2s 58us/step - loss: 10.0370 - val_loss: 12.6384\n",
      "\n",
      "Epoch 00085: val_loss did not improve from 10.94822\n",
      "Epoch 86/2000\n",
      "40801/40801 [==============================] - 2s 57us/step - loss: 9.6890 - val_loss: 26.0057\n",
      "\n",
      "Epoch 00086: val_loss did not improve from 10.94822\n",
      "Epoch 87/2000\n",
      "40801/40801 [==============================] - 2s 60us/step - loss: 9.5180 - val_loss: 14.4034\n",
      "\n",
      "Epoch 00087: val_loss did not improve from 10.94822\n",
      "Epoch 88/2000\n",
      "40801/40801 [==============================] - 2s 58us/step - loss: 9.6776 - val_loss: 23.5049\n",
      "\n",
      "Epoch 00088: val_loss did not improve from 10.94822\n",
      "Epoch 89/2000\n",
      "40801/40801 [==============================] - 2s 59us/step - loss: 9.7775 - val_loss: 12.0554\n",
      "\n",
      "Epoch 00089: val_loss did not improve from 10.94822\n",
      "Epoch 90/2000\n",
      "40801/40801 [==============================] - 2s 56us/step - loss: 9.4947 - val_loss: 15.6943\n",
      "\n",
      "Epoch 00090: val_loss did not improve from 10.94822\n",
      "Epoch 91/2000\n",
      "40801/40801 [==============================] - 2s 58us/step - loss: 9.1752 - val_loss: 12.6973\n",
      "\n",
      "Epoch 00091: val_loss did not improve from 10.94822\n",
      "Epoch 92/2000\n",
      "40801/40801 [==============================] - 2s 61us/step - loss: 9.3014 - val_loss: 14.8872\n",
      "\n",
      "Epoch 00092: val_loss did not improve from 10.94822\n",
      "Epoch 93/2000\n",
      "40801/40801 [==============================] - 2s 58us/step - loss: 9.2874 - val_loss: 27.9109\n",
      "\n",
      "Epoch 00093: val_loss did not improve from 10.94822\n",
      "Epoch 94/2000\n",
      "40801/40801 [==============================] - 2s 59us/step - loss: 9.3242 - val_loss: 24.2778\n",
      "\n",
      "Epoch 00094: val_loss did not improve from 10.94822\n",
      "Epoch 95/2000\n",
      "40801/40801 [==============================] - 2s 59us/step - loss: 8.9973 - val_loss: 12.8383\n",
      "\n",
      "Epoch 00095: val_loss did not improve from 10.94822\n",
      "Epoch 96/2000\n",
      "40801/40801 [==============================] - 2s 57us/step - loss: 8.8837 - val_loss: 12.3850\n",
      "\n",
      "Epoch 00096: val_loss did not improve from 10.94822\n",
      "Epoch 97/2000\n",
      "40801/40801 [==============================] - 2s 58us/step - loss: 8.7504 - val_loss: 14.1119\n",
      "\n",
      "Epoch 00097: val_loss did not improve from 10.94822\n",
      "Epoch 98/2000\n",
      "40801/40801 [==============================] - 2s 59us/step - loss: 8.7520 - val_loss: 16.9530\n",
      "\n",
      "Epoch 00098: val_loss did not improve from 10.94822\n",
      "Epoch 99/2000\n",
      "40801/40801 [==============================] - 2s 60us/step - loss: 8.7731 - val_loss: 13.2395\n",
      "\n",
      "Epoch 00099: val_loss did not improve from 10.94822\n",
      "Epoch 100/2000\n",
      "40801/40801 [==============================] - 2s 57us/step - loss: 8.9629 - val_loss: 17.0645\n",
      "\n",
      "Epoch 00100: val_loss did not improve from 10.94822\n",
      "Epoch 101/2000\n",
      "40801/40801 [==============================] - 2s 58us/step - loss: 8.4628 - val_loss: 15.0717\n",
      "\n",
      "Epoch 00101: val_loss did not improve from 10.94822\n",
      "Epoch 102/2000\n",
      "40801/40801 [==============================] - 2s 57us/step - loss: 8.4839 - val_loss: 13.1712\n",
      "\n",
      "Epoch 00102: val_loss did not improve from 10.94822\n",
      "Epoch 103/2000\n",
      "40801/40801 [==============================] - 2s 59us/step - loss: 8.5924 - val_loss: 14.7262\n",
      "\n",
      "Epoch 00103: val_loss did not improve from 10.94822\n",
      "Epoch 104/2000\n",
      "40801/40801 [==============================] - 2s 56us/step - loss: 8.2512 - val_loss: 13.1973\n",
      "\n",
      "Epoch 00104: val_loss did not improve from 10.94822\n",
      "Epoch 105/2000\n",
      "40801/40801 [==============================] - 2s 58us/step - loss: 8.4506 - val_loss: 19.9451\n",
      "\n",
      "Epoch 00105: val_loss did not improve from 10.94822\n",
      "Epoch 106/2000\n",
      "40801/40801 [==============================] - 2s 59us/step - loss: 8.4137 - val_loss: 16.8903\n",
      "\n",
      "Epoch 00106: val_loss did not improve from 10.94822\n",
      "Epoch 107/2000\n",
      "40801/40801 [==============================] - 2s 56us/step - loss: 8.1909 - val_loss: 13.2328\n",
      "\n",
      "Epoch 00107: val_loss did not improve from 10.94822\n",
      "Epoch 108/2000\n",
      "40801/40801 [==============================] - 2s 57us/step - loss: 8.1277 - val_loss: 14.0219\n",
      "\n",
      "Epoch 00108: val_loss did not improve from 10.94822\n",
      "Epoch 109/2000\n",
      "40801/40801 [==============================] - 2s 57us/step - loss: 7.9816 - val_loss: 18.2602\n",
      "\n",
      "Epoch 00109: val_loss did not improve from 10.94822\n",
      "Epoch 110/2000\n",
      "40801/40801 [==============================] - 2s 59us/step - loss: 8.1077 - val_loss: 51.5070\n",
      "\n",
      "Epoch 00110: val_loss did not improve from 10.94822\n",
      "Epoch 111/2000\n",
      "40801/40801 [==============================] - 2s 60us/step - loss: 7.8070 - val_loss: 17.4456\n",
      "\n",
      "Epoch 00111: val_loss did not improve from 10.94822\n",
      "Epoch 112/2000\n",
      "40801/40801 [==============================] - 2s 58us/step - loss: 7.8704 - val_loss: 16.2521\n",
      "\n",
      "Epoch 00112: val_loss did not improve from 10.94822\n",
      "Epoch 113/2000\n",
      "40801/40801 [==============================] - 2s 59us/step - loss: 7.9454 - val_loss: 15.5684\n",
      "\n",
      "Epoch 00113: val_loss did not improve from 10.94822\n",
      "Epoch 114/2000\n",
      "40801/40801 [==============================] - 2s 56us/step - loss: 7.6301 - val_loss: 14.1179\n",
      "\n",
      "Epoch 00114: val_loss did not improve from 10.94822\n",
      "Epoch 115/2000\n",
      "40801/40801 [==============================] - 2s 58us/step - loss: 7.6928 - val_loss: 35.7918\n",
      "\n",
      "Epoch 00115: val_loss did not improve from 10.94822\n",
      "Epoch 116/2000\n",
      "40801/40801 [==============================] - 2s 56us/step - loss: 7.6363 - val_loss: 12.8122\n",
      "\n",
      "Epoch 00116: val_loss did not improve from 10.94822\n",
      "Epoch 117/2000\n",
      "40801/40801 [==============================] - 2s 57us/step - loss: 7.6749 - val_loss: 12.8340\n",
      "\n",
      "Epoch 00117: val_loss did not improve from 10.94822\n",
      "Epoch 118/2000\n",
      "40801/40801 [==============================] - 2s 60us/step - loss: 7.3979 - val_loss: 17.2317\n",
      "\n",
      "Epoch 00118: val_loss did not improve from 10.94822\n",
      "Epoch 119/2000\n",
      "40801/40801 [==============================] - 2s 59us/step - loss: 7.5266 - val_loss: 17.4755\n",
      "\n",
      "Epoch 00119: val_loss did not improve from 10.94822\n",
      "Epoch 120/2000\n",
      "40801/40801 [==============================] - 2s 57us/step - loss: 7.4384 - val_loss: 13.4586\n",
      "\n",
      "Epoch 00120: val_loss did not improve from 10.94822\n",
      "Epoch 121/2000\n",
      "40801/40801 [==============================] - 2s 56us/step - loss: 7.4440 - val_loss: 15.4465\n",
      "\n",
      "Epoch 00121: val_loss did not improve from 10.94822\n",
      "Epoch 122/2000\n",
      "40801/40801 [==============================] - 2s 55us/step - loss: 7.3544 - val_loss: 20.5155\n",
      "\n",
      "Epoch 00122: val_loss did not improve from 10.94822\n",
      "Epoch 123/2000\n",
      "40801/40801 [==============================] - 2s 58us/step - loss: 7.3310 - val_loss: 16.0323\n",
      "\n",
      "Epoch 00123: val_loss did not improve from 10.94822\n",
      "Epoch 124/2000\n",
      "40801/40801 [==============================] - 2s 57us/step - loss: 7.1909 - val_loss: 15.3840\n",
      "\n",
      "Epoch 00124: val_loss did not improve from 10.94822\n",
      "Epoch 125/2000\n",
      "40801/40801 [==============================] - 2s 59us/step - loss: 7.1538 - val_loss: 19.9046\n",
      "\n",
      "Epoch 00125: val_loss did not improve from 10.94822\n",
      "Epoch 126/2000\n",
      "40801/40801 [==============================] - 2s 55us/step - loss: 7.0488 - val_loss: 24.3543\n",
      "\n",
      "Epoch 00126: val_loss did not improve from 10.94822\n",
      "Epoch 127/2000\n",
      "40801/40801 [==============================] - 2s 58us/step - loss: 7.1875 - val_loss: 18.3170\n",
      "\n",
      "Epoch 00127: val_loss did not improve from 10.94822\n",
      "Epoch 128/2000\n",
      "40801/40801 [==============================] - 2s 57us/step - loss: 7.1816 - val_loss: 14.2804\n",
      "\n",
      "Epoch 00128: val_loss did not improve from 10.94822\n",
      "Epoch 129/2000\n",
      "40801/40801 [==============================] - 2s 58us/step - loss: 6.9137 - val_loss: 22.2225\n",
      "\n",
      "Epoch 00129: val_loss did not improve from 10.94822\n",
      "Epoch 130/2000\n",
      "40801/40801 [==============================] - 2s 59us/step - loss: 6.9849 - val_loss: 19.1070\n",
      "\n",
      "Epoch 00130: val_loss did not improve from 10.94822\n",
      "Epoch 131/2000\n",
      "40801/40801 [==============================] - 2s 57us/step - loss: 7.0843 - val_loss: 35.8108\n",
      "\n",
      "Epoch 00131: val_loss did not improve from 10.94822\n",
      "Epoch 132/2000\n",
      "40801/40801 [==============================] - 2s 57us/step - loss: 6.8872 - val_loss: 18.7379\n",
      "\n",
      "Epoch 00132: val_loss did not improve from 10.94822\n",
      "Epoch 133/2000\n",
      "40801/40801 [==============================] - 2s 58us/step - loss: 6.7881 - val_loss: 16.6605\n",
      "\n",
      "Epoch 00133: val_loss did not improve from 10.94822\n",
      "Epoch 134/2000\n",
      "40801/40801 [==============================] - 2s 57us/step - loss: 6.6913 - val_loss: 14.7779\n",
      "\n",
      "Epoch 00134: val_loss did not improve from 10.94822\n",
      "Epoch 135/2000\n",
      "40801/40801 [==============================] - 2s 58us/step - loss: 6.6247 - val_loss: 14.6263\n",
      "\n",
      "Epoch 00135: val_loss did not improve from 10.94822\n",
      "Epoch 136/2000\n",
      "40801/40801 [==============================] - 2s 59us/step - loss: 6.8243 - val_loss: 69.0451\n",
      "\n",
      "Epoch 00136: val_loss did not improve from 10.94822\n",
      "Epoch 137/2000\n",
      "40801/40801 [==============================] - 2s 60us/step - loss: 6.7121 - val_loss: 14.4328\n",
      "\n",
      "Epoch 00137: val_loss did not improve from 10.94822\n",
      "Epoch 138/2000\n",
      "40801/40801 [==============================] - 2s 57us/step - loss: 6.7353 - val_loss: 24.3672\n",
      "\n",
      "Epoch 00138: val_loss did not improve from 10.94822\n",
      "Epoch 139/2000\n",
      "40801/40801 [==============================] - 2s 59us/step - loss: 6.7055 - val_loss: 22.1667\n",
      "\n",
      "Epoch 00139: val_loss did not improve from 10.94822\n",
      "Epoch 140/2000\n",
      "40801/40801 [==============================] - 2s 56us/step - loss: 6.4684 - val_loss: 18.9594\n",
      "\n",
      "Epoch 00140: val_loss did not improve from 10.94822\n",
      "Epoch 141/2000\n",
      "40801/40801 [==============================] - 2s 60us/step - loss: 6.5514 - val_loss: 28.3341\n",
      "\n",
      "Epoch 00141: val_loss did not improve from 10.94822\n",
      "Epoch 142/2000\n",
      "40801/40801 [==============================] - 2s 56us/step - loss: 6.5467 - val_loss: 18.5913\n",
      "\n",
      "Epoch 00142: val_loss did not improve from 10.94822\n",
      "Epoch 143/2000\n",
      "40801/40801 [==============================] - 2s 54us/step - loss: 6.5068 - val_loss: 15.6906\n",
      "\n",
      "Epoch 00143: val_loss did not improve from 10.94822\n",
      "Epoch 144/2000\n",
      "40801/40801 [==============================] - 2s 58us/step - loss: 6.4137 - val_loss: 12.7908\n",
      "\n",
      "Epoch 00144: val_loss did not improve from 10.94822\n",
      "Epoch 145/2000\n",
      "40801/40801 [==============================] - 2s 57us/step - loss: 6.5023 - val_loss: 24.4610\n",
      "\n",
      "Epoch 00145: val_loss did not improve from 10.94822\n",
      "Epoch 146/2000\n",
      "40801/40801 [==============================] - 2s 57us/step - loss: 6.4382 - val_loss: 14.3579\n",
      "\n",
      "Epoch 00146: val_loss did not improve from 10.94822\n",
      "Epoch 147/2000\n",
      "40801/40801 [==============================] - 2s 58us/step - loss: 6.4533 - val_loss: 55.6806\n",
      "\n",
      "Epoch 00147: val_loss did not improve from 10.94822\n",
      "Epoch 148/2000\n",
      "40801/40801 [==============================] - 2s 59us/step - loss: 6.4365 - val_loss: 19.1169\n",
      "\n",
      "Epoch 00148: val_loss did not improve from 10.94822\n",
      "Epoch 149/2000\n",
      "40801/40801 [==============================] - 2s 55us/step - loss: 6.2282 - val_loss: 48.1953\n",
      "\n",
      "Epoch 00149: val_loss did not improve from 10.94822\n",
      "Epoch 150/2000\n",
      "40801/40801 [==============================] - 2s 59us/step - loss: 6.4595 - val_loss: 16.6001\n",
      "\n",
      "Epoch 00150: val_loss did not improve from 10.94822\n",
      "Epoch 151/2000\n",
      "40801/40801 [==============================] - 2s 58us/step - loss: 6.0108 - val_loss: 26.0069\n",
      "\n",
      "Epoch 00151: val_loss did not improve from 10.94822\n",
      "Epoch 152/2000\n",
      "40801/40801 [==============================] - 2s 57us/step - loss: 6.2228 - val_loss: 14.6823\n",
      "\n",
      "Epoch 00152: val_loss did not improve from 10.94822\n",
      "Epoch 153/2000\n",
      "40801/40801 [==============================] - 2s 56us/step - loss: 6.1569 - val_loss: 16.5732\n",
      "\n",
      "Epoch 00153: val_loss did not improve from 10.94822\n",
      "Epoch 154/2000\n",
      "40801/40801 [==============================] - 2s 57us/step - loss: 6.1234 - val_loss: 13.5967\n",
      "\n",
      "Epoch 00154: val_loss did not improve from 10.94822\n",
      "Epoch 155/2000\n",
      "40801/40801 [==============================] - 2s 58us/step - loss: 6.0697 - val_loss: 15.4927\n",
      "\n",
      "Epoch 00155: val_loss did not improve from 10.94822\n",
      "Epoch 156/2000\n",
      "40801/40801 [==============================] - 2s 58us/step - loss: 6.1723 - val_loss: 25.3895\n",
      "\n",
      "Epoch 00156: val_loss did not improve from 10.94822\n",
      "Epoch 157/2000\n",
      "40801/40801 [==============================] - 2s 59us/step - loss: 5.9930 - val_loss: 16.8600\n",
      "\n",
      "Epoch 00157: val_loss did not improve from 10.94822\n",
      "Epoch 158/2000\n",
      "40801/40801 [==============================] - 2s 58us/step - loss: 6.1234 - val_loss: 17.1086\n",
      "\n",
      "Epoch 00158: val_loss did not improve from 10.94822\n",
      "Epoch 159/2000\n",
      "40801/40801 [==============================] - 2s 56us/step - loss: 6.0016 - val_loss: 16.6500\n",
      "\n",
      "Epoch 00159: val_loss did not improve from 10.94822\n",
      "Epoch 160/2000\n",
      "40801/40801 [==============================] - 2s 57us/step - loss: 6.0319 - val_loss: 16.2918\n",
      "\n",
      "Epoch 00160: val_loss did not improve from 10.94822\n",
      "Epoch 161/2000\n",
      "40801/40801 [==============================] - 2s 56us/step - loss: 5.9376 - val_loss: 15.1867\n",
      "\n",
      "Epoch 00161: val_loss did not improve from 10.94822\n",
      "Epoch 162/2000\n",
      "18750/40801 [============>.................] - ETA: 1s - loss: 5.9810"
     ]
    }
   ],
   "source": [
    "history = model.fit(X_train, Y_train, batch_size=batch_size, epochs=nb_epoch,\n",
    "          verbose=1, validation_data=(X_val, Y_val),\n",
    "                    callbacks=[tensorboard,model_check,early_stop])"
   ]
  },
  {
   "cell_type": "code",
   "execution_count": 19,
   "metadata": {},
   "outputs": [],
   "source": [
    "\n",
    "model.save_weights('../redes_CNN_R/defs/CNN_regression_R_{}_{}_{}_{}_{}'.format(nb_epoch,batch_size,experimento,algoritmo,dt))"
   ]
  },
  {
   "cell_type": "code",
   "execution_count": 20,
   "metadata": {},
   "outputs": [
    {
     "name": "stdout",
     "output_type": "stream",
     "text": [
      "Test mse: 15.918245779276859\n",
      "[186.45956 176.32977 176.39369 191.24484 171.26149 192.67462 175.01814\n",
      " 180.12044 178.62326 185.7092 ]\n",
      "[186.49503655 173.92123133 178.72558252 192.94521119 171.90670897\n",
      " 189.65895825 165.62569864 181.49123072 175.97967042 167.91610503]\n",
      "[  0.03547234  -2.40854162   2.33189051   1.70036866   0.6452191\n",
      "  -3.01566333  -9.39244406   1.3707931   -2.64359007 -17.79309296]\n"
     ]
    }
   ],
   "source": [
    "score = model.evaluate(X_test, Y_test, verbose=0)\n",
    "print('Test mse:', score)\n",
    "# print('Test mae:', score[1])\n",
    "Y_test_predicted=model.predict(X_test)\n",
    "print(Y_test_predicted[:10].flatten())\n",
    "print(Y_test[:10])\n",
    "error_prediction=Y_test-Y_test_predicted.flatten()\n",
    "\n",
    "print(error_prediction[:10])"
   ]
  },
  {
   "cell_type": "code",
   "execution_count": 21,
   "metadata": {},
   "outputs": [
    {
     "data": {
      "image/png": "[encoded data removed]",
      "text/plain": [
       "<Figure size 432x288 with 1 Axes>"
      ]
     },
     "metadata": {
      "needs_background": "light"
     },
     "output_type": "display_data"
    }
   ],
   "source": [
    "plt.plot(history.history['loss'])\n",
    "plt.plot(history.history['val_loss'])\n",
    "plt.title('model error')\n",
    "plt.ylabel('error')\n",
    "plt.xlabel('epoch')\n",
    "plt.legend(['train', 'test'], loc='upper left')\n",
    "plt.show()"
   ]
  },
  {
   "cell_type": "code",
   "execution_count": 22,
   "metadata": {
    "scrolled": true
   },
   "outputs": [],
   "source": [
    "#print(error_prediction)"
   ]
  },
  {
   "cell_type": "code",
   "execution_count": 23,
   "metadata": {
    "scrolled": true
   },
   "outputs": [
    {
     "name": "stderr",
     "output_type": "stream",
     "text": [
      "/home/rgadea/anaconda3/envs/tensorflow3/lib/python3.6/site-packages/ipykernel_launcher.py:1: MatplotlibDeprecationWarning: \n",
      "The 'normed' kwarg was deprecated in Matplotlib 2.1 and will be removed in 3.1. Use 'density' instead.\n",
      "  \"\"\"Entry point for launching an IPython kernel.\n"
     ]
    },
    {
     "data": {
      "image/png": "[encoded data removed]",
      "text/plain": [
       "<Figure size 432x288 with 1 Axes>"
      ]
     },
     "metadata": {
      "needs_background": "light"
     },
     "output_type": "display_data"
    },
    {
     "name": "stdout",
     "output_type": "stream",
     "text": [
      "(400,)\n",
      "(401,)\n",
      "[[Model]]\n",
      "    Model(gaussian)\n",
      "[[Fit Statistics]]\n",
      "    # fitting method   = leastsq\n",
      "    # function evals   = 37\n",
      "    # data points      = 400\n",
      "    # variables        = 3\n",
      "    chi-square         = 70443.7451\n",
      "    reduced chi-square = 177.440164\n",
      "    Akaike info crit   = 2074.44207\n",
      "    Bayesian info crit = 2086.41647\n",
      "[[Variables]]\n",
      "    amp:  392.073810 +/- 3.59507615 (0.92%) (init = 1000)\n",
      "    cen: -0.99081194 +/- 0.01677098 (1.69%) (init = 0)\n",
      "    wid:  2.23998034 +/- 0.02371775 (1.06%) (init = 1)\n",
      "[[Correlations]] (unreported correlations are < 0.100)\n",
      "    C(amp, wid) = -0.577\n",
      "\n"
     ]
    },
    {
     "data": {
      "image/png": "[encoded data removed]",
      "text/plain": [
       "<Figure size 432x288 with 1 Axes>"
      ]
     },
     "metadata": {
      "needs_background": "light"
     },
     "output_type": "display_data"
    }
   ],
   "source": [
    "\n",
    "n, bins, patches = plt.hist(error_prediction, 400, normed=0, facecolor='green', alpha=0.75)\n",
    "plt.title(\"Histogram with 400 bins\")\n",
    "plt.show()\n",
    "x=bins[:400]\n",
    "y=n\n",
    "print(n.shape)\n",
    "print(bins.shape)\n",
    "from numpy import exp, loadtxt, pi, sqrt, log\n",
    "\n",
    "from lmfit import Model\n",
    "def gaussian(x, amp, cen, wid):\n",
    "    \"\"\"1-d gaussian: gaussian(x, amp, cen, wid)\"\"\"\n",
    "    return amp * exp(-((x-cen)/wid)**2 )\n",
    "\n",
    "\n",
    "gmodel = Model(gaussian)\n",
    "result = gmodel.fit(y, x=x, amp=1000, cen=0, wid=1)\n",
    "\n",
    "print(result.fit_report())\n",
    "\n",
    "plt.plot(x, y, 'bo')\n",
    "plt.plot(x, result.init_fit, 'k--')\n",
    "plt.plot(x, result.best_fit, 'r-')\n",
    "plt.show()\n",
    "\n",
    "\n",
    "\n"
   ]
  },
  {
   "cell_type": "code",
   "execution_count": 24,
   "metadata": {},
   "outputs": [],
   "source": [
    "FWHM=result.params['wid'].value*2*sqrt(log(2))"
   ]
  },
  {
   "cell_type": "code",
   "execution_count": 25,
   "metadata": {},
   "outputs": [
    {
     "name": "stdout",
     "output_type": "stream",
     "text": [
      "3.7298119276446493\n"
     ]
    }
   ],
   "source": [
    "print(FWHM)"
   ]
  },
  {
   "cell_type": "code",
   "execution_count": 26,
   "metadata": {},
   "outputs": [
    {
     "name": "stderr",
     "output_type": "stream",
     "text": [
      "/home/rgadea/anaconda3/envs/tensorflow3/lib/python3.6/site-packages/ipykernel_launcher.py:4: MatplotlibDeprecationWarning: \n",
      "The 'normed' kwarg was deprecated in Matplotlib 2.1 and will be removed in 3.1. Use 'density' instead.\n",
      "  after removing the cwd from sys.path.\n"
     ]
    },
    {
     "name": "stdout",
     "output_type": "stream",
     "text": [
      "2.8883380455354346\n"
     ]
    },
    {
     "data": {
      "image/png": "[encoded data removed]",
      "text/plain": [
       "<Figure size 432x288 with 1 Axes>"
      ]
     },
     "metadata": {
      "needs_background": "light"
     },
     "output_type": "display_data"
    }
   ],
   "source": [
    "Y_test_bin0_predicted=model.predict(X_test_bin0)\n",
    "# print(Y_test_bin0_predicted)\n",
    "error_prediction_bin0=Y_test_bin0-Y_test_bin0_predicted.flatten()\n",
    "n, bins, patches = plt.hist(error_prediction_bin0, 400, normed=0, facecolor='green', alpha=0.75)\n",
    "\n",
    "x=bins[:400]\n",
    "y=n\n",
    "\n",
    "gmodel = Model(gaussian)\n",
    "result = gmodel.fit(y, x=x, amp=1000, cen=0, wid=1)\n",
    "FWHM_bin0=result.params['wid'].value*2*sqrt(log(2))\n",
    "print(FWHM_bin0)"
   ]
  },
  {
   "cell_type": "code",
   "execution_count": 27,
   "metadata": {},
   "outputs": [
    {
     "name": "stderr",
     "output_type": "stream",
     "text": [
      "/home/rgadea/anaconda3/envs/tensorflow3/lib/python3.6/site-packages/ipykernel_launcher.py:4: MatplotlibDeprecationWarning: \n",
      "The 'normed' kwarg was deprecated in Matplotlib 2.1 and will be removed in 3.1. Use 'density' instead.\n",
      "  after removing the cwd from sys.path.\n"
     ]
    },
    {
     "name": "stdout",
     "output_type": "stream",
     "text": [
      "4.628224684876187\n"
     ]
    },
    {
     "data": {
      "image/png": "[encoded data removed]",
      "text/plain": [
       "<Figure size 432x288 with 1 Axes>"
      ]
     },
     "metadata": {
      "needs_background": "light"
     },
     "output_type": "display_data"
    }
   ],
   "source": [
    "Y_test_bin1_predicted=model.predict(X_test_bin1)\n",
    "#print(Y_test_bin1_predicted)\n",
    "error_prediction_bin1=Y_test_bin1-Y_test_bin1_predicted.flatten()\n",
    "n, bins, patches = plt.hist(error_prediction_bin1, 400, normed=0, facecolor='green', alpha=0.75)\n",
    "\n",
    "x=bins[:400]\n",
    "y=n\n",
    "\n",
    "gmodel = Model(gaussian)\n",
    "result = gmodel.fit(y, x=x, amp=1000, cen=0, wid=1)\n",
    "FWHM_bin1=result.params['wid'].value*2*sqrt(log(2))\n",
    "print(FWHM_bin1)"
   ]
  },
  {
   "cell_type": "code",
   "execution_count": 28,
   "metadata": {
    "scrolled": true
   },
   "outputs": [
    {
     "name": "stderr",
     "output_type": "stream",
     "text": [
      "/home/rgadea/anaconda3/envs/tensorflow3/lib/python3.6/site-packages/ipykernel_launcher.py:4: MatplotlibDeprecationWarning: \n",
      "The 'normed' kwarg was deprecated in Matplotlib 2.1 and will be removed in 3.1. Use 'density' instead.\n",
      "  after removing the cwd from sys.path.\n"
     ]
    },
    {
     "name": "stdout",
     "output_type": "stream",
     "text": [
      "4.838211404450795\n"
     ]
    },
    {
     "data": {
      "image/png": "[encoded data removed]",
      "text/plain": [
       "<Figure size 432x288 with 1 Axes>"
      ]
     },
     "metadata": {
      "needs_background": "light"
     },
     "output_type": "display_data"
    }
   ],
   "source": [
    "Y_test_bin2_predicted=model.predict(X_test_bin2)\n",
    "#print(Y_test_bin2_predicted)\n",
    "error_prediction_bin2=Y_test_bin2-Y_test_bin2_predicted.flatten()\n",
    "n, bins, patches = plt.hist(error_prediction_bin2, 400, normed=0, facecolor='green', alpha=0.75)\n",
    "\n",
    "x=bins[:400]\n",
    "y=n\n",
    "\n",
    "gmodel = Model(gaussian)\n",
    "result = gmodel.fit(y, x=x, amp=1000, cen=0, wid=1)\n",
    "FWHM_bin2=result.params['wid'].value*2*sqrt(log(2))\n",
    "print(FWHM_bin2)"
   ]
  },
  {
   "cell_type": "code",
   "execution_count": 29,
   "metadata": {
    "scrolled": true
   },
   "outputs": [
    {
     "name": "stderr",
     "output_type": "stream",
     "text": [
      "/home/rgadea/anaconda3/envs/tensorflow3/lib/python3.6/site-packages/ipykernel_launcher.py:4: MatplotlibDeprecationWarning: \n",
      "The 'normed' kwarg was deprecated in Matplotlib 2.1 and will be removed in 3.1. Use 'density' instead.\n",
      "  after removing the cwd from sys.path.\n"
     ]
    },
    {
     "name": "stdout",
     "output_type": "stream",
     "text": [
      "3.8730173957611442\n"
     ]
    },
    {
     "data": {
      "image/png": "[encoded data removed]",
      "text/plain": [
       "<Figure size 432x288 with 1 Axes>"
      ]
     },
     "metadata": {
      "needs_background": "light"
     },
     "output_type": "display_data"
    }
   ],
   "source": [
    "Y_test_bin3_predicted=model.predict(X_test_bin3)\n",
    "#print(Y_test_bin3_predicted)\n",
    "error_prediction_bin3=Y_test_bin3-Y_test_bin3_predicted.flatten()\n",
    "n, bins, patches = plt.hist(error_prediction_bin3, 400, normed=0, facecolor='green', alpha=0.75)\n",
    "\n",
    "x=bins[:400]\n",
    "y=n\n",
    "\n",
    "gmodel = Model(gaussian)\n",
    "result = gmodel.fit(y, x=x, amp=1000, cen=0, wid=1)\n",
    "FWHM_bin3=result.params['wid'].value*2*sqrt(log(2))\n",
    "print(FWHM_bin3)"
   ]
  },
  {
   "cell_type": "code",
   "execution_count": 30,
   "metadata": {
    "scrolled": true
   },
   "outputs": [
    {
     "name": "stderr",
     "output_type": "stream",
     "text": [
      "/home/rgadea/anaconda3/envs/tensorflow3/lib/python3.6/site-packages/ipykernel_launcher.py:4: MatplotlibDeprecationWarning: \n",
      "The 'normed' kwarg was deprecated in Matplotlib 2.1 and will be removed in 3.1. Use 'density' instead.\n",
      "  after removing the cwd from sys.path.\n"
     ]
    },
    {
     "name": "stdout",
     "output_type": "stream",
     "text": [
      "3.7724403875926953\n",
      "3.8730173957611442\n",
      "4.838211404450795\n",
      "4.628224684876187\n",
      "2.8883380455354346\n"
     ]
    },
    {
     "data": {
      "image/png": "[encoded data removed]",
      "text/plain": [
       "<Figure size 432x288 with 1 Axes>"
      ]
     },
     "metadata": {
      "needs_background": "light"
     },
     "output_type": "display_data"
    }
   ],
   "source": [
    "Y_test_bin4_predicted=model.predict(X_test_bin4)\n",
    "#print(Y_test_bin4_predicted)\n",
    "error_prediction_bin4=Y_test_bin4-Y_test_bin4_predicted.flatten()\n",
    "n, bins, patches = plt.hist(error_prediction_bin4, 400, normed=0, facecolor='green', alpha=0.75)\n",
    "\n",
    "x=bins[:400]\n",
    "y=n\n",
    "\n",
    "gmodel = Model(gaussian)\n",
    "result = gmodel.fit(y, x=x, amp=1000, cen=0, wid=1)\n",
    "FWHM_bin4=result.params['wid'].value*2*sqrt(log(2))\n",
    "print(FWHM_bin4)\n",
    "print(FWHM_bin3)\n",
    "print(FWHM_bin2)\n",
    "print(FWHM_bin1)\n",
    "print(FWHM_bin0)"
   ]
  },
  {
   "cell_type": "markdown",
   "metadata": {},
   "source": [
    "Veamos ahora los histogramnas 2d que nos interesan"
   ]
  },
  {
   "cell_type": "code",
   "execution_count": null,
   "metadata": {},
   "outputs": [],
   "source": []
  }
 ],
 "metadata": {
  "anaconda-cloud": {},
  "kernelspec": {
   "display_name": "Python [conda env:tensorflow3] *",
   "language": "python",
   "name": "conda-env-tensorflow3-py"
  },
  "language_info": {
   "codemirror_mode": {
    "name": "ipython",
    "version": 3
   },
   "file_extension": ".py",
   "mimetype": "text/x-python",
   "name": "python",
   "nbconvert_exporter": "python",
   "pygments_lexer": "ipython3",
   "version": "3.6.9"
  },
  "varInspector": {
   "cols": {
    "lenName": 16,
    "lenType": 16,
    "lenVar": 40
   },
   "kernels_config": {
    "python": {
     "delete_cmd_postfix": "",
     "delete_cmd_prefix": "del ",
     "library": "var_list.py",
     "varRefreshCmd": "print(var_dic_list())"
    },
    "r": {
     "delete_cmd_postfix": ") ",
     "delete_cmd_prefix": "rm(",
     "library": "var_list.r",
     "varRefreshCmd": "cat(var_dic_list()) "
    }
   },
   "position": {
    "height": "495px",
    "left": "909px",
    "right": "57px",
    "top": "246px",
    "width": "800px"
   },
   "types_to_exclude": [
    "module",
    "function",
    "builtin_function_or_method",
    "instance",
    "_Feature"
   ],
   "window_display": false
  }
 },
 "nbformat": 4,
 "nbformat_minor": 4
}
